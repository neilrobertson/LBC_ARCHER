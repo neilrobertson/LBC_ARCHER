{
 "cells": [
  {
   "cell_type": "code",
   "execution_count": 7,
   "metadata": {
    "scrolled": true
   },
   "outputs": [],
   "source": [
    "import os\n",
    "import pandas as pd\n",
    "import numpy as np\n",
    "from lifelines import CoxPHFitter\n",
    "import plotly.graph_objects as go\n",
    "from sklearn.preprocessing import StandardScaler\n",
    "\n",
    "from plotly.subplots import make_subplots"
   ]
  },
  {
   "cell_type": "markdown",
   "metadata": {},
   "source": [
    "# Set export path"
   ]
  },
  {
   "cell_type": "code",
   "execution_count": 10,
   "metadata": {},
   "outputs": [],
   "source": [
    "# Create path for exporting\n",
    "path = '../Results/Survival analysis/'\n",
    "if not os.path.exists(path):\n",
    "    os.makedirs(path)"
   ]
  },
  {
   "cell_type": "markdown",
   "metadata": {},
   "source": [
    "# Load the survival dataset"
   ]
  },
  {
   "cell_type": "code",
   "execution_count": 11,
   "metadata": {},
   "outputs": [
    {
     "data": {
      "text/html": [
       "<div>\n",
       "<style scoped>\n",
       "    .dataframe tbody tr th:only-of-type {\n",
       "        vertical-align: middle;\n",
       "    }\n",
       "\n",
       "    .dataframe tbody tr th {\n",
       "        vertical-align: top;\n",
       "    }\n",
       "\n",
       "    .dataframe thead th {\n",
       "        text-align: right;\n",
       "    }\n",
       "</style>\n",
       "<table border=\"1\" class=\"dataframe\">\n",
       "  <thead>\n",
       "    <tr style=\"text-align: right;\">\n",
       "      <th></th>\n",
       "      <th>part_id</th>\n",
       "      <th>cohort</th>\n",
       "      <th>dead</th>\n",
       "      <th>age_days</th>\n",
       "      <th>Fitness</th>\n",
       "      <th>Gradient</th>\n",
       "      <th>norm_gradient</th>\n",
       "      <th>Max initial vaf</th>\n",
       "      <th>Max last vaf</th>\n",
       "      <th>days_from_wave1</th>\n",
       "      <th>sex</th>\n",
       "    </tr>\n",
       "  </thead>\n",
       "  <tbody>\n",
       "    <tr>\n",
       "      <th>0</th>\n",
       "      <td>LBC0001A</td>\n",
       "      <td>21.0</td>\n",
       "      <td>1.0</td>\n",
       "      <td>33807.0</td>\n",
       "      <td>0.186712</td>\n",
       "      <td>0.034300</td>\n",
       "      <td>0.005009</td>\n",
       "      <td>0.0130</td>\n",
       "      <td>0.2135</td>\n",
       "      <td>13.557837</td>\n",
       "      <td>0</td>\n",
       "    </tr>\n",
       "    <tr>\n",
       "      <th>1</th>\n",
       "      <td>LBC0031R</td>\n",
       "      <td>21.0</td>\n",
       "      <td>1.0</td>\n",
       "      <td>33778.0</td>\n",
       "      <td>0.196813</td>\n",
       "      <td>0.003919</td>\n",
       "      <td>0.000022</td>\n",
       "      <td>0.0364</td>\n",
       "      <td>0.0168</td>\n",
       "      <td>13.478439</td>\n",
       "      <td>1</td>\n",
       "    </tr>\n",
       "    <tr>\n",
       "      <th>2</th>\n",
       "      <td>LBC0040V</td>\n",
       "      <td>21.0</td>\n",
       "      <td>1.0</td>\n",
       "      <td>32474.0</td>\n",
       "      <td>NaN</td>\n",
       "      <td>0.329211</td>\n",
       "      <td>0.006518</td>\n",
       "      <td>0.0774</td>\n",
       "      <td>0.8262</td>\n",
       "      <td>9.908282</td>\n",
       "      <td>0</td>\n",
       "    </tr>\n",
       "    <tr>\n",
       "      <th>3</th>\n",
       "      <td>LBC0046H</td>\n",
       "      <td>21.0</td>\n",
       "      <td>0.0</td>\n",
       "      <td>36526.0</td>\n",
       "      <td>0.244285</td>\n",
       "      <td>0.003593</td>\n",
       "      <td>0.000027</td>\n",
       "      <td>0.0465</td>\n",
       "      <td>0.0196</td>\n",
       "      <td>21.002053</td>\n",
       "      <td>0</td>\n",
       "    </tr>\n",
       "    <tr>\n",
       "      <th>4</th>\n",
       "      <td>LBC0047K</td>\n",
       "      <td>21.0</td>\n",
       "      <td>1.0</td>\n",
       "      <td>31552.0</td>\n",
       "      <td>NaN</td>\n",
       "      <td>0.033925</td>\n",
       "      <td>0.012244</td>\n",
       "      <td>0.3609</td>\n",
       "      <td>0.4440</td>\n",
       "      <td>7.383984</td>\n",
       "      <td>1</td>\n",
       "    </tr>\n",
       "    <tr>\n",
       "      <th>...</th>\n",
       "      <td>...</td>\n",
       "      <td>...</td>\n",
       "      <td>...</td>\n",
       "      <td>...</td>\n",
       "      <td>...</td>\n",
       "      <td>...</td>\n",
       "      <td>...</td>\n",
       "      <td>...</td>\n",
       "      <td>...</td>\n",
       "      <td>...</td>\n",
       "      <td>...</td>\n",
       "    </tr>\n",
       "    <tr>\n",
       "      <th>84</th>\n",
       "      <td>LBC361133</td>\n",
       "      <td>36.0</td>\n",
       "      <td>0.0</td>\n",
       "      <td>30940.0</td>\n",
       "      <td>NaN</td>\n",
       "      <td>0.004215</td>\n",
       "      <td>0.000043</td>\n",
       "      <td>0.0136</td>\n",
       "      <td>0.0174</td>\n",
       "      <td>14.707734</td>\n",
       "      <td>1</td>\n",
       "    </tr>\n",
       "    <tr>\n",
       "      <th>85</th>\n",
       "      <td>LBC361172</td>\n",
       "      <td>36.0</td>\n",
       "      <td>0.0</td>\n",
       "      <td>30977.0</td>\n",
       "      <td>0.056521</td>\n",
       "      <td>0.005348</td>\n",
       "      <td>0.000153</td>\n",
       "      <td>0.0287</td>\n",
       "      <td>0.0418</td>\n",
       "      <td>14.809035</td>\n",
       "      <td>0</td>\n",
       "    </tr>\n",
       "    <tr>\n",
       "      <th>86</th>\n",
       "      <td>LBC361214</td>\n",
       "      <td>36.0</td>\n",
       "      <td>0.0</td>\n",
       "      <td>30773.0</td>\n",
       "      <td>0.321540</td>\n",
       "      <td>0.007467</td>\n",
       "      <td>0.000470</td>\n",
       "      <td>0.0629</td>\n",
       "      <td>0.0853</td>\n",
       "      <td>14.250513</td>\n",
       "      <td>1</td>\n",
       "    </tr>\n",
       "    <tr>\n",
       "      <th>87</th>\n",
       "      <td>LBC361225</td>\n",
       "      <td>36.0</td>\n",
       "      <td>0.0</td>\n",
       "      <td>30890.0</td>\n",
       "      <td>0.113655</td>\n",
       "      <td>0.025767</td>\n",
       "      <td>0.006140</td>\n",
       "      <td>0.2383</td>\n",
       "      <td>0.3156</td>\n",
       "      <td>14.570842</td>\n",
       "      <td>1</td>\n",
       "    </tr>\n",
       "    <tr>\n",
       "      <th>88</th>\n",
       "      <td>LBC361286</td>\n",
       "      <td>36.0</td>\n",
       "      <td>0.0</td>\n",
       "      <td>30927.0</td>\n",
       "      <td>NaN</td>\n",
       "      <td>0.009526</td>\n",
       "      <td>0.000244</td>\n",
       "      <td>0.0852</td>\n",
       "      <td>0.0421</td>\n",
       "      <td>14.672142</td>\n",
       "      <td>1</td>\n",
       "    </tr>\n",
       "  </tbody>\n",
       "</table>\n",
       "<p>89 rows × 11 columns</p>\n",
       "</div>"
      ],
      "text/plain": [
       "      part_id  cohort  dead  age_days   Fitness  Gradient  norm_gradient  \\\n",
       "0    LBC0001A    21.0   1.0   33807.0  0.186712  0.034300       0.005009   \n",
       "1    LBC0031R    21.0   1.0   33778.0  0.196813  0.003919       0.000022   \n",
       "2    LBC0040V    21.0   1.0   32474.0       NaN  0.329211       0.006518   \n",
       "3    LBC0046H    21.0   0.0   36526.0  0.244285  0.003593       0.000027   \n",
       "4    LBC0047K    21.0   1.0   31552.0       NaN  0.033925       0.012244   \n",
       "..        ...     ...   ...       ...       ...       ...            ...   \n",
       "84  LBC361133    36.0   0.0   30940.0       NaN  0.004215       0.000043   \n",
       "85  LBC361172    36.0   0.0   30977.0  0.056521  0.005348       0.000153   \n",
       "86  LBC361214    36.0   0.0   30773.0  0.321540  0.007467       0.000470   \n",
       "87  LBC361225    36.0   0.0   30890.0  0.113655  0.025767       0.006140   \n",
       "88  LBC361286    36.0   0.0   30927.0       NaN  0.009526       0.000244   \n",
       "\n",
       "    Max initial vaf  Max last vaf  days_from_wave1  sex  \n",
       "0            0.0130        0.2135        13.557837    0  \n",
       "1            0.0364        0.0168        13.478439    1  \n",
       "2            0.0774        0.8262         9.908282    0  \n",
       "3            0.0465        0.0196        21.002053    0  \n",
       "4            0.3609        0.4440         7.383984    1  \n",
       "..              ...           ...              ...  ...  \n",
       "84           0.0136        0.0174        14.707734    1  \n",
       "85           0.0287        0.0418        14.809035    0  \n",
       "86           0.0629        0.0853        14.250513    1  \n",
       "87           0.2383        0.3156        14.570842    1  \n",
       "88           0.0852        0.0421        14.672142    1  \n",
       "\n",
       "[89 rows x 11 columns]"
      ]
     },
     "execution_count": 11,
     "metadata": {},
     "output_type": "execute_result"
    }
   ],
   "source": [
    "survival_data = pd.read_csv('../Datasets/survival_data.csv')\n",
    "survival_data"
   ]
  },
  {
   "cell_type": "markdown",
   "metadata": {},
   "source": [
    "# Cox hazard analysis using Max initial VAF\n",
    "### LBC21"
   ]
  },
  {
   "cell_type": "code",
   "execution_count": 12,
   "metadata": {},
   "outputs": [],
   "source": [
    "def survival_analysis(keep_columns, cohort):\n",
    "    # Select cohort and columns\n",
    "    cox_data = survival_data[survival_data.cohort.isin(cohort)][keep_columns + ['days_from_wave1', 'dead']]\n",
    "    # Exclude columns not used as covariates and filter for nan values\n",
    "    cox_data = cox_data.dropna()\n",
    "\n",
    "    # normalise columns used for regression\n",
    "    for column in keep_columns:\n",
    "        data = cox_data[column] - np.mean(cox_data[column])\n",
    "        data = data/np.std(data)\n",
    "        cox_data[column] = data\n",
    "\n",
    "    # Train Cox proportional hazard model\n",
    "    cph = CoxPHFitter()\n",
    "    cph.fit(cox_data, duration_col='days_from_wave1', event_col='dead')\n",
    "\n",
    "    # access the individual results using cph.summary\n",
    "    cph.print_summary()  \n",
    "    \n",
    "\n",
    "    return cph"
   ]
  },
  {
   "cell_type": "code",
   "execution_count": 13,
   "metadata": {},
   "outputs": [],
   "source": [
    "def plot_hr_analysis(model, covariate):\n",
    "    fig = make_subplots(rows=1, cols=2, column_widths=[0.3, 0.7],\n",
    "                        subplot_titles=(f'Estimated hazard ratio', f'Survival stratification'))\n",
    "\n",
    "    fig.add_trace(\n",
    "        go.Scatter(\n",
    "            y=[model.hazard_ratios_[0]],\n",
    "            x=[covariate],\n",
    "            marker_symbol='diamond',\n",
    "            marker_size=15,\n",
    "            showlegend=False,\n",
    "            error_y=dict(\n",
    "                type='data',\n",
    "                symmetric=False,\n",
    "                array=np.exp(np.array(model.confidence_intervals_)[:,1])-model.hazard_ratios_[0],\n",
    "                arrayminus=model.hazard_ratios_[0]-np.exp(np.array(model.confidence_intervals_)[:,0]))\n",
    "            ), row=1, col=1)\n",
    "\n",
    "    # Plot covariate effect\n",
    "    for covariate in model.params_.index:\n",
    "        values =[-2, 0 , 2]\n",
    "        partial_ax = model.plot_partial_effects_on_outcome(covariates=covariate, values=values, cmap='coolwarm')\n",
    "        partial_ax.get_figure()\n",
    "\n",
    "        #add traces to figure\n",
    "        fig.add_trace(\n",
    "            go.Scatter(x=partial_ax.lines[1].get_xdata(),\n",
    "                       y=partial_ax.lines[1].get_ydata(),\n",
    "                       mode='lines', line=dict(dash='dash', shape='hv'),\n",
    "                       name='Mean'), row=1, col=2)\n",
    "        fig.add_trace(\n",
    "            go.Scatter(x=partial_ax.lines[0].get_xdata(),\n",
    "                       y=partial_ax.lines[0].get_ydata(),\n",
    "                       mode='lines', line=dict(shape='hv'),\n",
    "                       name='-2 SD'), row=1, col=2)\n",
    "        fig.add_trace(\n",
    "            go.Scatter(x=partial_ax.lines[2].get_xdata(),\n",
    "                       y=partial_ax.lines[2].get_ydata(),\n",
    "                       mode='lines', line=dict(shape='hv'),\n",
    "                       name='2 SD'), row=1, col=2)\n",
    "\n",
    "    fig.update_layout(template='simple_white',\n",
    "                      title=f'Effect of {covariate} on survival',\n",
    "                      legend_title_text=f'{covariate}')\n",
    "\n",
    "    y_range_hazards = [np.floor(np.exp(np.array(model.confidence_intervals_)))[0,0], np.ceil(np.exp(np.array(model.confidence_intervals_)))[0,1]] \n",
    "    fig.update_yaxes(title_text=\"Hazard Ratio (95% CI)\", range=y_range_hazards, row=1, col=1, dtick=1) \n",
    "    fig.update_yaxes(title_text=\"Survivors (proportion)\", row=1, col=2, dtick=0.2) \n",
    "    fig.update_xaxes(title_text=covariate, showticklabels=False,tickvals=[0], row=1, col=1)\n",
    "    fig.update_xaxes(title_text=\"Years\", row=1, col=2)\n",
    "    return fig"
   ]
  },
  {
   "cell_type": "markdown",
   "metadata": {},
   "source": [
    "# Max initial VAF\n",
    "## LBC21"
   ]
  },
  {
   "cell_type": "code",
   "execution_count": 14,
   "metadata": {},
   "outputs": [
    {
     "data": {
      "text/html": [
       "<div>\n",
       "<style scoped>\n",
       "    .dataframe tbody tr th:only-of-type {\n",
       "        vertical-align: middle;\n",
       "    }\n",
       "\n",
       "    .dataframe tbody tr th {\n",
       "        vertical-align: top;\n",
       "    }\n",
       "\n",
       "    .dataframe thead th {\n",
       "        text-align: right;\n",
       "    }\n",
       "</style>\n",
       "<table border=\"1\" class=\"dataframe\">\n",
       "  <tbody>\n",
       "    <tr>\n",
       "      <th>model</th>\n",
       "      <td>lifelines.CoxPHFitter</td>\n",
       "    </tr>\n",
       "    <tr>\n",
       "      <th>duration col</th>\n",
       "      <td>'days_from_wave1'</td>\n",
       "    </tr>\n",
       "    <tr>\n",
       "      <th>event col</th>\n",
       "      <td>'dead'</td>\n",
       "    </tr>\n",
       "    <tr>\n",
       "      <th>baseline estimation</th>\n",
       "      <td>breslow</td>\n",
       "    </tr>\n",
       "    <tr>\n",
       "      <th>number of observations</th>\n",
       "      <td>46</td>\n",
       "    </tr>\n",
       "    <tr>\n",
       "      <th>number of events observed</th>\n",
       "      <td>39</td>\n",
       "    </tr>\n",
       "    <tr>\n",
       "      <th>partial log-likelihood</th>\n",
       "      <td>-120.87</td>\n",
       "    </tr>\n",
       "    <tr>\n",
       "      <th>time fit was run</th>\n",
       "      <td>2021-09-03 11:42:49 UTC</td>\n",
       "    </tr>\n",
       "  </tbody>\n",
       "</table>\n",
       "</div><table border=\"1\" class=\"dataframe\">\n",
       "  <thead>\n",
       "    <tr style=\"text-align: right;\">\n",
       "      <th style=\"min-width: 12px;\"></th>\n",
       "      <th style=\"min-width: 12px;\">coef</th>\n",
       "      <th style=\"min-width: 12px;\">exp(coef)</th>\n",
       "      <th style=\"min-width: 12px;\">se(coef)</th>\n",
       "      <th style=\"min-width: 12px;\">coef lower 95%</th>\n",
       "      <th style=\"min-width: 12px;\">coef upper 95%</th>\n",
       "      <th style=\"min-width: 12px;\">exp(coef) lower 95%</th>\n",
       "      <th style=\"min-width: 12px;\">exp(coef) upper 95%</th>\n",
       "      <th style=\"min-width: 12px;\">z</th>\n",
       "      <th style=\"min-width: 12px;\">p</th>\n",
       "      <th style=\"min-width: 12px;\">-log2(p)</th>\n",
       "    </tr>\n",
       "  </thead>\n",
       "  <tbody>\n",
       "    <tr>\n",
       "      <th>Max initial vaf</th>\n",
       "      <td>0.65</td>\n",
       "      <td>1.92</td>\n",
       "      <td>0.21</td>\n",
       "      <td>0.24</td>\n",
       "      <td>1.07</td>\n",
       "      <td>1.27</td>\n",
       "      <td>2.91</td>\n",
       "      <td>3.07</td>\n",
       "      <td>&lt;0.005</td>\n",
       "      <td>8.86</td>\n",
       "    </tr>\n",
       "  </tbody>\n",
       "</table><br><div>\n",
       "<style scoped>\n",
       "    .dataframe tbody tr th:only-of-type {\n",
       "        vertical-align: middle;\n",
       "    }\n",
       "\n",
       "    .dataframe tbody tr th {\n",
       "        vertical-align: top;\n",
       "    }\n",
       "\n",
       "    .dataframe thead th {\n",
       "        text-align: right;\n",
       "    }\n",
       "</style>\n",
       "<table border=\"1\" class=\"dataframe\">\n",
       "  <tbody>\n",
       "    <tr>\n",
       "      <th>Concordance</th>\n",
       "      <td>0.49</td>\n",
       "    </tr>\n",
       "    <tr>\n",
       "      <th>Partial AIC</th>\n",
       "      <td>243.74</td>\n",
       "    </tr>\n",
       "    <tr>\n",
       "      <th>log-likelihood ratio test</th>\n",
       "      <td>7.12 on 1 df</td>\n",
       "    </tr>\n",
       "    <tr>\n",
       "      <th>-log2(p) of ll-ratio test</th>\n",
       "      <td>7.03</td>\n",
       "    </tr>\n",
       "  </tbody>\n",
       "</table>\n",
       "</div>"
      ],
      "text/latex": [
       "\\begin{tabular}{lrrrrrrrrrr}\n",
       "\\toprule\n",
       "{} &  coef &  exp(coef) &  se(coef) &  coef lower 95\\% &  coef upper 95\\% &  exp(coef) lower 95\\% &  exp(coef) upper 95\\% &    z &    p &  -log2(p) \\\\\n",
       "covariate       &       &            &           &                 &                 &                      &                      &      &      &           \\\\\n",
       "\\midrule\n",
       "Max initial vaf &  0.65 &       1.92 &      0.21 &            0.24 &            1.07 &                 1.27 &                 2.91 & 3.07 & 0.00 &      8.86 \\\\\n",
       "\\bottomrule\n",
       "\\end{tabular}\n"
      ],
      "text/plain": [
       "<lifelines.CoxPHFitter: fitted with 46 total observations, 7 right-censored observations>\n",
       "             duration col = 'days_from_wave1'\n",
       "                event col = 'dead'\n",
       "      baseline estimation = breslow\n",
       "   number of observations = 46\n",
       "number of events observed = 39\n",
       "   partial log-likelihood = -120.87\n",
       "         time fit was run = 2021-09-03 11:42:49 UTC\n",
       "\n",
       "---\n",
       "                  coef  exp(coef)   se(coef)   coef lower 95%   coef upper 95%  exp(coef) lower 95%  exp(coef) upper 95%\n",
       "covariate                                                                                                               \n",
       "Max initial vaf   0.65       1.92       0.21             0.24             1.07                 1.27                 2.91\n",
       "\n",
       "                   z      p   -log2(p)\n",
       "covariate                             \n",
       "Max initial vaf 3.07 <0.005       8.86\n",
       "---\n",
       "Concordance = 0.49\n",
       "Partial AIC = 243.74\n",
       "log-likelihood ratio test = 7.12 on 1 df\n",
       "-log2(p) of ll-ratio test = 7.03"
      ]
     },
     "metadata": {},
     "output_type": "display_data"
    },
    {
     "data": {
      "application/vnd.plotly.v1+json": {
       "config": {
        "plotlyServerURL": "https://plot.ly"
       },
       "data": [
        {
         "error_y": {
          "array": [
           0.9912321835482092
          ],
          "arrayminus": [
           0.6536422945246525
          ],
          "symmetric": false,
          "type": "data"
         },
         "marker": {
          "size": 15,
          "symbol": "diamond"
         },
         "showlegend": false,
         "type": "scatter",
         "x": [
          "Max initial vaf"
         ],
         "xaxis": "x",
         "y": [
          1.919225960040297
         ],
         "yaxis": "y"
        },
        {
         "line": {
          "dash": "dash",
          "shape": "hv"
         },
         "mode": "lines",
         "name": "Mean",
         "type": "scatter",
         "x": [
          1.4072553045859,
          1.94113620807666,
          5.697467488021903,
          7.383983572895278,
          7.477070499657769,
          8.720054757015742,
          9.45927446954141,
          9.908281998631075,
          10.13826146475017,
          11.638603696098563,
          11.739904175222453,
          12.328542094455852,
          13.478439425051334,
          13.505817932922657,
          13.557837097878163,
          13.765913757700206,
          14.277891854893909,
          14.379192334017796,
          14.41204654346338,
          14.704996577686517,
          14.76249144421629,
          15.033538672142368,
          15.107460643394935,
          15.200547570157427,
          15.208761122518824,
          15.214236824093089,
          15.364818617385351,
          15.88227241615332,
          16.449007529089666,
          16.824093086926762,
          17.295003422313485,
          17.541409993155373,
          17.675564681724847,
          17.697467488021903,
          18.023271731690624,
          18.2943189596167,
          18.78986995208761,
          18.833675564681723,
          18.86652977412731,
          20.459958932238195,
          20.52840520191649,
          20.594113620807665,
          20.933607118412045,
          21.00205338809035,
          21.062286105407257,
          21.111567419575632
         ],
         "xaxis": "x2",
         "y": [
          0.9858041316362095,
          0.9688114524153535,
          0.9519147088836818,
          0.9351224111375964,
          0.9121957157963232,
          0.8885774836100702,
          0.8642866465063888,
          0.8402110779722644,
          0.8160062261242799,
          0.7920346446976438,
          0.7683074075483062,
          0.744790872560304,
          0.7203603934717997,
          0.6960821572413403,
          0.6720279484110196,
          0.6482647043515453,
          0.624796777337917,
          0.601508645704497,
          0.5784967194294797,
          0.5556983869179221,
          0.5331765184483495,
          0.510973246430188,
          0.48906690062161934,
          0.46729451151415646,
          0.44563323925044035,
          0.4232845518187687,
          0.40120153907455647,
          0.37875831416577155,
          0.3559367598997074,
          0.33341541303425926,
          0.31115660899236147,
          0.28878514058785854,
          0.26626692169120236,
          0.24430383978903755,
          0.22258186461719967,
          0.19997650851325027,
          0.17723442017067323,
          0.15542803711854877,
          0.134035312436525,
          0.134035312436525,
          0.134035312436525,
          0.134035312436525,
          0.134035312436525,
          0.134035312436525,
          0.134035312436525,
          0.134035312436525
         ],
         "yaxis": "y2"
        },
        {
         "line": {
          "shape": "hv"
         },
         "mode": "lines",
         "name": "-2 SD",
         "type": "scatter",
         "x": [
          1.4072553045859,
          1.94113620807666,
          5.697467488021903,
          7.383983572895278,
          7.477070499657769,
          8.720054757015742,
          9.45927446954141,
          9.908281998631075,
          10.13826146475017,
          11.638603696098563,
          11.739904175222453,
          12.328542094455852,
          13.478439425051334,
          13.505817932922657,
          13.557837097878163,
          13.765913757700206,
          14.277891854893909,
          14.379192334017796,
          14.41204654346338,
          14.704996577686517,
          14.76249144421629,
          15.033538672142368,
          15.107460643394935,
          15.200547570157427,
          15.208761122518824,
          15.214236824093089,
          15.364818617385351,
          15.88227241615332,
          16.449007529089666,
          16.824093086926762,
          17.295003422313485,
          17.541409993155373,
          17.675564681724847,
          17.697467488021903,
          18.023271731690624,
          18.2943189596167,
          18.78986995208761,
          18.833675564681723,
          18.86652977412731,
          20.459958932238195,
          20.52840520191649,
          20.594113620807665,
          20.933607118412045,
          21.00205338809035,
          21.062286105407257,
          21.111567419575632
         ],
         "xaxis": "x2",
         "y": [
          0.9961259241216827,
          0.9914347795204107,
          0.9867103012081097,
          0.9819541048901417,
          0.9753588970547122,
          0.9684372422857904,
          0.961177214104618,
          0.9538333297094658,
          0.9462938010852434,
          0.9386646018374771,
          0.9309456694851691,
          0.9231219738953123,
          0.9148012339419812,
          0.906326117634016,
          0.8977140887495274,
          0.8889828144318973,
          0.8801281160471587,
          0.8710983921890633,
          0.8619220108144418,
          0.8525646924339585,
          0.8430420664581677,
          0.8333628204059258,
          0.8235078967172641,
          0.8133892431312061,
          0.8029754201331116,
          0.791837105467627,
          0.7804020675389911,
          0.7683005483529068,
          0.755446844609032,
          0.7421593891821733,
          0.7283678977902416,
          0.7137621372619454,
          0.6982027372239819,
          0.6820740275435784,
          0.665047200629678,
          0.6459894571467739,
          0.6251599678308373,
          0.6032694979771696,
          0.5794981493108279,
          0.5794981493108279,
          0.5794981493108279,
          0.5794981493108279,
          0.5794981493108279,
          0.5794981493108279,
          0.5794981493108279,
          0.5794981493108279
         ],
         "yaxis": "y2"
        },
        {
         "line": {
          "shape": "hv"
         },
         "mode": "lines",
         "name": "2 SD",
         "type": "scatter",
         "x": [
          1.4072553045859,
          1.94113620807666,
          5.697467488021903,
          7.383983572895278,
          7.477070499657769,
          8.720054757015742,
          9.45927446954141,
          9.908281998631075,
          10.13826146475017,
          11.638603696098563,
          11.739904175222453,
          12.328542094455852,
          13.478439425051334,
          13.505817932922657,
          13.557837097878163,
          13.765913757700206,
          14.277891854893909,
          14.379192334017796,
          14.41204654346338,
          14.704996577686517,
          14.76249144421629,
          15.033538672142368,
          15.107460643394935,
          15.200547570157427,
          15.208761122518824,
          15.214236824093089,
          15.364818617385351,
          15.88227241615332,
          16.449007529089666,
          16.824093086926762,
          17.295003422313485,
          17.541409993155373,
          17.675564681724847,
          17.697467488021903,
          18.023271731690624,
          18.2943189596167,
          18.78986995208761,
          18.833675564681723,
          18.86652977412731,
          20.459958932238195,
          20.52840520191649,
          20.594113620807665,
          20.933607118412045,
          21.00205338809035,
          21.062286105407257,
          21.111567419575632
         ],
         "xaxis": "x2",
         "y": [
          0.9486985693743468,
          0.8898428512647663,
          0.8340026030096996,
          0.7810810142353649,
          0.7128318795746416,
          0.6471766385389622,
          0.584364143922383,
          0.5266112176200881,
          0.47285636413296983,
          0.42367363952325326,
          0.3787707696790073,
          0.33779070071698036,
          0.2987411180852221,
          0.26330023156976734,
          0.23130958373643037,
          0.20258317756947997,
          0.17685544997588898,
          0.15376350652453255,
          0.13318411013264703,
          0.11485059687978183,
          0.09861636014780145,
          0.08431513533242317,
          0.07174808340015909,
          0.06066817983530543,
          0.05093708382696009,
          0.042143178760411265,
          0.034595096488816895,
          0.027985128703523675,
          0.022259430003855343,
          0.01749653029329741,
          0.013565150522851033,
          0.010305430014468247,
          0.007641826678812324,
          0.005565255765480015,
          0.003949347832532542,
          0.0026619887047289368,
          0.0017063994451304877,
          0.0010520984608940272,
          0.0006097820392371022,
          0.0006097820392371022,
          0.0006097820392371022,
          0.0006097820392371022,
          0.0006097820392371022,
          0.0006097820392371022,
          0.0006097820392371022,
          0.0006097820392371022
         ],
         "yaxis": "y2"
        }
       ],
       "layout": {
        "annotations": [
         {
          "font": {
           "size": 16
          },
          "showarrow": false,
          "text": "Estimated hazard ratio",
          "x": 0.135,
          "xanchor": "center",
          "xref": "paper",
          "y": 1,
          "yanchor": "bottom",
          "yref": "paper"
         },
         {
          "font": {
           "size": 16
          },
          "showarrow": false,
          "text": "Survival stratification",
          "x": 0.685,
          "xanchor": "center",
          "xref": "paper",
          "y": 1,
          "yanchor": "bottom",
          "yref": "paper"
         }
        ],
        "legend": {
         "title": {
          "text": "Max initial vaf"
         }
        },
        "template": {
         "data": {
          "bar": [
           {
            "error_x": {
             "color": "rgb(36,36,36)"
            },
            "error_y": {
             "color": "rgb(36,36,36)"
            },
            "marker": {
             "line": {
              "color": "white",
              "width": 0.5
             },
             "pattern": {
              "fillmode": "overlay",
              "size": 10,
              "solidity": 0.2
             }
            },
            "type": "bar"
           }
          ],
          "barpolar": [
           {
            "marker": {
             "line": {
              "color": "white",
              "width": 0.5
             },
             "pattern": {
              "fillmode": "overlay",
              "size": 10,
              "solidity": 0.2
             }
            },
            "type": "barpolar"
           }
          ],
          "carpet": [
           {
            "aaxis": {
             "endlinecolor": "rgb(36,36,36)",
             "gridcolor": "white",
             "linecolor": "white",
             "minorgridcolor": "white",
             "startlinecolor": "rgb(36,36,36)"
            },
            "baxis": {
             "endlinecolor": "rgb(36,36,36)",
             "gridcolor": "white",
             "linecolor": "white",
             "minorgridcolor": "white",
             "startlinecolor": "rgb(36,36,36)"
            },
            "type": "carpet"
           }
          ],
          "choropleth": [
           {
            "colorbar": {
             "outlinewidth": 1,
             "tickcolor": "rgb(36,36,36)",
             "ticks": "outside"
            },
            "type": "choropleth"
           }
          ],
          "contour": [
           {
            "colorbar": {
             "outlinewidth": 1,
             "tickcolor": "rgb(36,36,36)",
             "ticks": "outside"
            },
            "colorscale": [
             [
              0,
              "#440154"
             ],
             [
              0.1111111111111111,
              "#482878"
             ],
             [
              0.2222222222222222,
              "#3e4989"
             ],
             [
              0.3333333333333333,
              "#31688e"
             ],
             [
              0.4444444444444444,
              "#26828e"
             ],
             [
              0.5555555555555556,
              "#1f9e89"
             ],
             [
              0.6666666666666666,
              "#35b779"
             ],
             [
              0.7777777777777778,
              "#6ece58"
             ],
             [
              0.8888888888888888,
              "#b5de2b"
             ],
             [
              1,
              "#fde725"
             ]
            ],
            "type": "contour"
           }
          ],
          "contourcarpet": [
           {
            "colorbar": {
             "outlinewidth": 1,
             "tickcolor": "rgb(36,36,36)",
             "ticks": "outside"
            },
            "type": "contourcarpet"
           }
          ],
          "heatmap": [
           {
            "colorbar": {
             "outlinewidth": 1,
             "tickcolor": "rgb(36,36,36)",
             "ticks": "outside"
            },
            "colorscale": [
             [
              0,
              "#440154"
             ],
             [
              0.1111111111111111,
              "#482878"
             ],
             [
              0.2222222222222222,
              "#3e4989"
             ],
             [
              0.3333333333333333,
              "#31688e"
             ],
             [
              0.4444444444444444,
              "#26828e"
             ],
             [
              0.5555555555555556,
              "#1f9e89"
             ],
             [
              0.6666666666666666,
              "#35b779"
             ],
             [
              0.7777777777777778,
              "#6ece58"
             ],
             [
              0.8888888888888888,
              "#b5de2b"
             ],
             [
              1,
              "#fde725"
             ]
            ],
            "type": "heatmap"
           }
          ],
          "heatmapgl": [
           {
            "colorbar": {
             "outlinewidth": 1,
             "tickcolor": "rgb(36,36,36)",
             "ticks": "outside"
            },
            "colorscale": [
             [
              0,
              "#440154"
             ],
             [
              0.1111111111111111,
              "#482878"
             ],
             [
              0.2222222222222222,
              "#3e4989"
             ],
             [
              0.3333333333333333,
              "#31688e"
             ],
             [
              0.4444444444444444,
              "#26828e"
             ],
             [
              0.5555555555555556,
              "#1f9e89"
             ],
             [
              0.6666666666666666,
              "#35b779"
             ],
             [
              0.7777777777777778,
              "#6ece58"
             ],
             [
              0.8888888888888888,
              "#b5de2b"
             ],
             [
              1,
              "#fde725"
             ]
            ],
            "type": "heatmapgl"
           }
          ],
          "histogram": [
           {
            "marker": {
             "line": {
              "color": "white",
              "width": 0.6
             }
            },
            "type": "histogram"
           }
          ],
          "histogram2d": [
           {
            "colorbar": {
             "outlinewidth": 1,
             "tickcolor": "rgb(36,36,36)",
             "ticks": "outside"
            },
            "colorscale": [
             [
              0,
              "#440154"
             ],
             [
              0.1111111111111111,
              "#482878"
             ],
             [
              0.2222222222222222,
              "#3e4989"
             ],
             [
              0.3333333333333333,
              "#31688e"
             ],
             [
              0.4444444444444444,
              "#26828e"
             ],
             [
              0.5555555555555556,
              "#1f9e89"
             ],
             [
              0.6666666666666666,
              "#35b779"
             ],
             [
              0.7777777777777778,
              "#6ece58"
             ],
             [
              0.8888888888888888,
              "#b5de2b"
             ],
             [
              1,
              "#fde725"
             ]
            ],
            "type": "histogram2d"
           }
          ],
          "histogram2dcontour": [
           {
            "colorbar": {
             "outlinewidth": 1,
             "tickcolor": "rgb(36,36,36)",
             "ticks": "outside"
            },
            "colorscale": [
             [
              0,
              "#440154"
             ],
             [
              0.1111111111111111,
              "#482878"
             ],
             [
              0.2222222222222222,
              "#3e4989"
             ],
             [
              0.3333333333333333,
              "#31688e"
             ],
             [
              0.4444444444444444,
              "#26828e"
             ],
             [
              0.5555555555555556,
              "#1f9e89"
             ],
             [
              0.6666666666666666,
              "#35b779"
             ],
             [
              0.7777777777777778,
              "#6ece58"
             ],
             [
              0.8888888888888888,
              "#b5de2b"
             ],
             [
              1,
              "#fde725"
             ]
            ],
            "type": "histogram2dcontour"
           }
          ],
          "mesh3d": [
           {
            "colorbar": {
             "outlinewidth": 1,
             "tickcolor": "rgb(36,36,36)",
             "ticks": "outside"
            },
            "type": "mesh3d"
           }
          ],
          "parcoords": [
           {
            "line": {
             "colorbar": {
              "outlinewidth": 1,
              "tickcolor": "rgb(36,36,36)",
              "ticks": "outside"
             }
            },
            "type": "parcoords"
           }
          ],
          "pie": [
           {
            "automargin": true,
            "type": "pie"
           }
          ],
          "scatter": [
           {
            "marker": {
             "colorbar": {
              "outlinewidth": 1,
              "tickcolor": "rgb(36,36,36)",
              "ticks": "outside"
             }
            },
            "type": "scatter"
           }
          ],
          "scatter3d": [
           {
            "line": {
             "colorbar": {
              "outlinewidth": 1,
              "tickcolor": "rgb(36,36,36)",
              "ticks": "outside"
             }
            },
            "marker": {
             "colorbar": {
              "outlinewidth": 1,
              "tickcolor": "rgb(36,36,36)",
              "ticks": "outside"
             }
            },
            "type": "scatter3d"
           }
          ],
          "scattercarpet": [
           {
            "marker": {
             "colorbar": {
              "outlinewidth": 1,
              "tickcolor": "rgb(36,36,36)",
              "ticks": "outside"
             }
            },
            "type": "scattercarpet"
           }
          ],
          "scattergeo": [
           {
            "marker": {
             "colorbar": {
              "outlinewidth": 1,
              "tickcolor": "rgb(36,36,36)",
              "ticks": "outside"
             }
            },
            "type": "scattergeo"
           }
          ],
          "scattergl": [
           {
            "marker": {
             "colorbar": {
              "outlinewidth": 1,
              "tickcolor": "rgb(36,36,36)",
              "ticks": "outside"
             }
            },
            "type": "scattergl"
           }
          ],
          "scattermapbox": [
           {
            "marker": {
             "colorbar": {
              "outlinewidth": 1,
              "tickcolor": "rgb(36,36,36)",
              "ticks": "outside"
             }
            },
            "type": "scattermapbox"
           }
          ],
          "scatterpolar": [
           {
            "marker": {
             "colorbar": {
              "outlinewidth": 1,
              "tickcolor": "rgb(36,36,36)",
              "ticks": "outside"
             }
            },
            "type": "scatterpolar"
           }
          ],
          "scatterpolargl": [
           {
            "marker": {
             "colorbar": {
              "outlinewidth": 1,
              "tickcolor": "rgb(36,36,36)",
              "ticks": "outside"
             }
            },
            "type": "scatterpolargl"
           }
          ],
          "scatterternary": [
           {
            "marker": {
             "colorbar": {
              "outlinewidth": 1,
              "tickcolor": "rgb(36,36,36)",
              "ticks": "outside"
             }
            },
            "type": "scatterternary"
           }
          ],
          "surface": [
           {
            "colorbar": {
             "outlinewidth": 1,
             "tickcolor": "rgb(36,36,36)",
             "ticks": "outside"
            },
            "colorscale": [
             [
              0,
              "#440154"
             ],
             [
              0.1111111111111111,
              "#482878"
             ],
             [
              0.2222222222222222,
              "#3e4989"
             ],
             [
              0.3333333333333333,
              "#31688e"
             ],
             [
              0.4444444444444444,
              "#26828e"
             ],
             [
              0.5555555555555556,
              "#1f9e89"
             ],
             [
              0.6666666666666666,
              "#35b779"
             ],
             [
              0.7777777777777778,
              "#6ece58"
             ],
             [
              0.8888888888888888,
              "#b5de2b"
             ],
             [
              1,
              "#fde725"
             ]
            ],
            "type": "surface"
           }
          ],
          "table": [
           {
            "cells": {
             "fill": {
              "color": "rgb(237,237,237)"
             },
             "line": {
              "color": "white"
             }
            },
            "header": {
             "fill": {
              "color": "rgb(217,217,217)"
             },
             "line": {
              "color": "white"
             }
            },
            "type": "table"
           }
          ]
         },
         "layout": {
          "annotationdefaults": {
           "arrowhead": 0,
           "arrowwidth": 1
          },
          "autotypenumbers": "strict",
          "coloraxis": {
           "colorbar": {
            "outlinewidth": 1,
            "tickcolor": "rgb(36,36,36)",
            "ticks": "outside"
           }
          },
          "colorscale": {
           "diverging": [
            [
             0,
             "rgb(103,0,31)"
            ],
            [
             0.1,
             "rgb(178,24,43)"
            ],
            [
             0.2,
             "rgb(214,96,77)"
            ],
            [
             0.3,
             "rgb(244,165,130)"
            ],
            [
             0.4,
             "rgb(253,219,199)"
            ],
            [
             0.5,
             "rgb(247,247,247)"
            ],
            [
             0.6,
             "rgb(209,229,240)"
            ],
            [
             0.7,
             "rgb(146,197,222)"
            ],
            [
             0.8,
             "rgb(67,147,195)"
            ],
            [
             0.9,
             "rgb(33,102,172)"
            ],
            [
             1,
             "rgb(5,48,97)"
            ]
           ],
           "sequential": [
            [
             0,
             "#440154"
            ],
            [
             0.1111111111111111,
             "#482878"
            ],
            [
             0.2222222222222222,
             "#3e4989"
            ],
            [
             0.3333333333333333,
             "#31688e"
            ],
            [
             0.4444444444444444,
             "#26828e"
            ],
            [
             0.5555555555555556,
             "#1f9e89"
            ],
            [
             0.6666666666666666,
             "#35b779"
            ],
            [
             0.7777777777777778,
             "#6ece58"
            ],
            [
             0.8888888888888888,
             "#b5de2b"
            ],
            [
             1,
             "#fde725"
            ]
           ],
           "sequentialminus": [
            [
             0,
             "#440154"
            ],
            [
             0.1111111111111111,
             "#482878"
            ],
            [
             0.2222222222222222,
             "#3e4989"
            ],
            [
             0.3333333333333333,
             "#31688e"
            ],
            [
             0.4444444444444444,
             "#26828e"
            ],
            [
             0.5555555555555556,
             "#1f9e89"
            ],
            [
             0.6666666666666666,
             "#35b779"
            ],
            [
             0.7777777777777778,
             "#6ece58"
            ],
            [
             0.8888888888888888,
             "#b5de2b"
            ],
            [
             1,
             "#fde725"
            ]
           ]
          },
          "colorway": [
           "#1F77B4",
           "#FF7F0E",
           "#2CA02C",
           "#D62728",
           "#9467BD",
           "#8C564B",
           "#E377C2",
           "#7F7F7F",
           "#BCBD22",
           "#17BECF"
          ],
          "font": {
           "color": "rgb(36,36,36)"
          },
          "geo": {
           "bgcolor": "white",
           "lakecolor": "white",
           "landcolor": "white",
           "showlakes": true,
           "showland": true,
           "subunitcolor": "white"
          },
          "hoverlabel": {
           "align": "left"
          },
          "hovermode": "closest",
          "mapbox": {
           "style": "light"
          },
          "paper_bgcolor": "white",
          "plot_bgcolor": "white",
          "polar": {
           "angularaxis": {
            "gridcolor": "rgb(232,232,232)",
            "linecolor": "rgb(36,36,36)",
            "showgrid": false,
            "showline": true,
            "ticks": "outside"
           },
           "bgcolor": "white",
           "radialaxis": {
            "gridcolor": "rgb(232,232,232)",
            "linecolor": "rgb(36,36,36)",
            "showgrid": false,
            "showline": true,
            "ticks": "outside"
           }
          },
          "scene": {
           "xaxis": {
            "backgroundcolor": "white",
            "gridcolor": "rgb(232,232,232)",
            "gridwidth": 2,
            "linecolor": "rgb(36,36,36)",
            "showbackground": true,
            "showgrid": false,
            "showline": true,
            "ticks": "outside",
            "zeroline": false,
            "zerolinecolor": "rgb(36,36,36)"
           },
           "yaxis": {
            "backgroundcolor": "white",
            "gridcolor": "rgb(232,232,232)",
            "gridwidth": 2,
            "linecolor": "rgb(36,36,36)",
            "showbackground": true,
            "showgrid": false,
            "showline": true,
            "ticks": "outside",
            "zeroline": false,
            "zerolinecolor": "rgb(36,36,36)"
           },
           "zaxis": {
            "backgroundcolor": "white",
            "gridcolor": "rgb(232,232,232)",
            "gridwidth": 2,
            "linecolor": "rgb(36,36,36)",
            "showbackground": true,
            "showgrid": false,
            "showline": true,
            "ticks": "outside",
            "zeroline": false,
            "zerolinecolor": "rgb(36,36,36)"
           }
          },
          "shapedefaults": {
           "fillcolor": "black",
           "line": {
            "width": 0
           },
           "opacity": 0.3
          },
          "ternary": {
           "aaxis": {
            "gridcolor": "rgb(232,232,232)",
            "linecolor": "rgb(36,36,36)",
            "showgrid": false,
            "showline": true,
            "ticks": "outside"
           },
           "baxis": {
            "gridcolor": "rgb(232,232,232)",
            "linecolor": "rgb(36,36,36)",
            "showgrid": false,
            "showline": true,
            "ticks": "outside"
           },
           "bgcolor": "white",
           "caxis": {
            "gridcolor": "rgb(232,232,232)",
            "linecolor": "rgb(36,36,36)",
            "showgrid": false,
            "showline": true,
            "ticks": "outside"
           }
          },
          "title": {
           "x": 0.05
          },
          "xaxis": {
           "automargin": true,
           "gridcolor": "rgb(232,232,232)",
           "linecolor": "rgb(36,36,36)",
           "showgrid": false,
           "showline": true,
           "ticks": "outside",
           "title": {
            "standoff": 15
           },
           "zeroline": false,
           "zerolinecolor": "rgb(36,36,36)"
          },
          "yaxis": {
           "automargin": true,
           "gridcolor": "rgb(232,232,232)",
           "linecolor": "rgb(36,36,36)",
           "showgrid": false,
           "showline": true,
           "ticks": "outside",
           "title": {
            "standoff": 15
           },
           "zeroline": false,
           "zerolinecolor": "rgb(36,36,36)"
          }
         }
        },
        "title": {
         "text": "Effect of Max initial vaf on survival"
        },
        "xaxis": {
         "anchor": "y",
         "domain": [
          0,
          0.27
         ],
         "showticklabels": false,
         "tickvals": [
          0
         ],
         "title": {
          "text": "Max initial vaf"
         }
        },
        "xaxis2": {
         "anchor": "y2",
         "domain": [
          0.37,
          1
         ],
         "title": {
          "text": "Years"
         }
        },
        "yaxis": {
         "anchor": "x",
         "domain": [
          0,
          1
         ],
         "dtick": 1,
         "range": [
          1,
          3
         ],
         "title": {
          "text": "Hazard Ratio (95% CI)"
         }
        },
        "yaxis2": {
         "anchor": "x2",
         "domain": [
          0,
          1
         ],
         "dtick": 0.2,
         "title": {
          "text": "Survivors (proportion)"
         }
        }
       }
      },
      "text/html": [
       "<div>                            <div id=\"d91b637d-4bba-49e6-9e3d-6bc4b3c2ee91\" class=\"plotly-graph-div\" style=\"height:525px; width:100%;\"></div>            <script type=\"text/javascript\">                require([\"plotly\"], function(Plotly) {                    window.PLOTLYENV=window.PLOTLYENV || {};                                    if (document.getElementById(\"d91b637d-4bba-49e6-9e3d-6bc4b3c2ee91\")) {                    Plotly.newPlot(                        \"d91b637d-4bba-49e6-9e3d-6bc4b3c2ee91\",                        [{\"error_y\":{\"array\":[0.9912321835482092],\"arrayminus\":[0.6536422945246525],\"symmetric\":false,\"type\":\"data\"},\"marker\":{\"size\":15,\"symbol\":\"diamond\"},\"showlegend\":false,\"type\":\"scatter\",\"x\":[\"Max initial vaf\"],\"xaxis\":\"x\",\"y\":[1.919225960040297],\"yaxis\":\"y\"},{\"line\":{\"dash\":\"dash\",\"shape\":\"hv\"},\"mode\":\"lines\",\"name\":\"Mean\",\"type\":\"scatter\",\"x\":[1.4072553045859,1.94113620807666,5.697467488021903,7.383983572895278,7.477070499657769,8.720054757015742,9.45927446954141,9.908281998631075,10.13826146475017,11.638603696098563,11.739904175222453,12.328542094455852,13.478439425051334,13.505817932922657,13.557837097878163,13.765913757700206,14.277891854893909,14.379192334017796,14.41204654346338,14.704996577686517,14.76249144421629,15.033538672142368,15.107460643394935,15.200547570157427,15.208761122518824,15.214236824093089,15.364818617385351,15.88227241615332,16.449007529089666,16.824093086926762,17.295003422313485,17.541409993155373,17.675564681724847,17.697467488021903,18.023271731690624,18.2943189596167,18.78986995208761,18.833675564681723,18.86652977412731,20.459958932238195,20.52840520191649,20.594113620807665,20.933607118412045,21.00205338809035,21.062286105407257,21.111567419575632],\"xaxis\":\"x2\",\"y\":[0.9858041316362095,0.9688114524153535,0.9519147088836818,0.9351224111375964,0.9121957157963232,0.8885774836100702,0.8642866465063888,0.8402110779722644,0.8160062261242799,0.7920346446976438,0.7683074075483062,0.744790872560304,0.7203603934717997,0.6960821572413403,0.6720279484110196,0.6482647043515453,0.624796777337917,0.601508645704497,0.5784967194294797,0.5556983869179221,0.5331765184483495,0.510973246430188,0.48906690062161934,0.46729451151415646,0.44563323925044035,0.4232845518187687,0.40120153907455647,0.37875831416577155,0.3559367598997074,0.33341541303425926,0.31115660899236147,0.28878514058785854,0.26626692169120236,0.24430383978903755,0.22258186461719967,0.19997650851325027,0.17723442017067323,0.15542803711854877,0.134035312436525,0.134035312436525,0.134035312436525,0.134035312436525,0.134035312436525,0.134035312436525,0.134035312436525,0.134035312436525],\"yaxis\":\"y2\"},{\"line\":{\"shape\":\"hv\"},\"mode\":\"lines\",\"name\":\"-2 SD\",\"type\":\"scatter\",\"x\":[1.4072553045859,1.94113620807666,5.697467488021903,7.383983572895278,7.477070499657769,8.720054757015742,9.45927446954141,9.908281998631075,10.13826146475017,11.638603696098563,11.739904175222453,12.328542094455852,13.478439425051334,13.505817932922657,13.557837097878163,13.765913757700206,14.277891854893909,14.379192334017796,14.41204654346338,14.704996577686517,14.76249144421629,15.033538672142368,15.107460643394935,15.200547570157427,15.208761122518824,15.214236824093089,15.364818617385351,15.88227241615332,16.449007529089666,16.824093086926762,17.295003422313485,17.541409993155373,17.675564681724847,17.697467488021903,18.023271731690624,18.2943189596167,18.78986995208761,18.833675564681723,18.86652977412731,20.459958932238195,20.52840520191649,20.594113620807665,20.933607118412045,21.00205338809035,21.062286105407257,21.111567419575632],\"xaxis\":\"x2\",\"y\":[0.9961259241216827,0.9914347795204107,0.9867103012081097,0.9819541048901417,0.9753588970547122,0.9684372422857904,0.961177214104618,0.9538333297094658,0.9462938010852434,0.9386646018374771,0.9309456694851691,0.9231219738953123,0.9148012339419812,0.906326117634016,0.8977140887495274,0.8889828144318973,0.8801281160471587,0.8710983921890633,0.8619220108144418,0.8525646924339585,0.8430420664581677,0.8333628204059258,0.8235078967172641,0.8133892431312061,0.8029754201331116,0.791837105467627,0.7804020675389911,0.7683005483529068,0.755446844609032,0.7421593891821733,0.7283678977902416,0.7137621372619454,0.6982027372239819,0.6820740275435784,0.665047200629678,0.6459894571467739,0.6251599678308373,0.6032694979771696,0.5794981493108279,0.5794981493108279,0.5794981493108279,0.5794981493108279,0.5794981493108279,0.5794981493108279,0.5794981493108279,0.5794981493108279],\"yaxis\":\"y2\"},{\"line\":{\"shape\":\"hv\"},\"mode\":\"lines\",\"name\":\"2 SD\",\"type\":\"scatter\",\"x\":[1.4072553045859,1.94113620807666,5.697467488021903,7.383983572895278,7.477070499657769,8.720054757015742,9.45927446954141,9.908281998631075,10.13826146475017,11.638603696098563,11.739904175222453,12.328542094455852,13.478439425051334,13.505817932922657,13.557837097878163,13.765913757700206,14.277891854893909,14.379192334017796,14.41204654346338,14.704996577686517,14.76249144421629,15.033538672142368,15.107460643394935,15.200547570157427,15.208761122518824,15.214236824093089,15.364818617385351,15.88227241615332,16.449007529089666,16.824093086926762,17.295003422313485,17.541409993155373,17.675564681724847,17.697467488021903,18.023271731690624,18.2943189596167,18.78986995208761,18.833675564681723,18.86652977412731,20.459958932238195,20.52840520191649,20.594113620807665,20.933607118412045,21.00205338809035,21.062286105407257,21.111567419575632],\"xaxis\":\"x2\",\"y\":[0.9486985693743468,0.8898428512647663,0.8340026030096996,0.7810810142353649,0.7128318795746416,0.6471766385389622,0.584364143922383,0.5266112176200881,0.47285636413296983,0.42367363952325326,0.3787707696790073,0.33779070071698036,0.2987411180852221,0.26330023156976734,0.23130958373643037,0.20258317756947997,0.17685544997588898,0.15376350652453255,0.13318411013264703,0.11485059687978183,0.09861636014780145,0.08431513533242317,0.07174808340015909,0.06066817983530543,0.05093708382696009,0.042143178760411265,0.034595096488816895,0.027985128703523675,0.022259430003855343,0.01749653029329741,0.013565150522851033,0.010305430014468247,0.007641826678812324,0.005565255765480015,0.003949347832532542,0.0026619887047289368,0.0017063994451304877,0.0010520984608940272,0.0006097820392371022,0.0006097820392371022,0.0006097820392371022,0.0006097820392371022,0.0006097820392371022,0.0006097820392371022,0.0006097820392371022,0.0006097820392371022],\"yaxis\":\"y2\"}],                        {\"annotations\":[{\"font\":{\"size\":16},\"showarrow\":false,\"text\":\"Estimated hazard ratio\",\"x\":0.135,\"xanchor\":\"center\",\"xref\":\"paper\",\"y\":1.0,\"yanchor\":\"bottom\",\"yref\":\"paper\"},{\"font\":{\"size\":16},\"showarrow\":false,\"text\":\"Survival stratification\",\"x\":0.685,\"xanchor\":\"center\",\"xref\":\"paper\",\"y\":1.0,\"yanchor\":\"bottom\",\"yref\":\"paper\"}],\"legend\":{\"title\":{\"text\":\"Max initial vaf\"}},\"template\":{\"data\":{\"bar\":[{\"error_x\":{\"color\":\"rgb(36,36,36)\"},\"error_y\":{\"color\":\"rgb(36,36,36)\"},\"marker\":{\"line\":{\"color\":\"white\",\"width\":0.5},\"pattern\":{\"fillmode\":\"overlay\",\"size\":10,\"solidity\":0.2}},\"type\":\"bar\"}],\"barpolar\":[{\"marker\":{\"line\":{\"color\":\"white\",\"width\":0.5},\"pattern\":{\"fillmode\":\"overlay\",\"size\":10,\"solidity\":0.2}},\"type\":\"barpolar\"}],\"carpet\":[{\"aaxis\":{\"endlinecolor\":\"rgb(36,36,36)\",\"gridcolor\":\"white\",\"linecolor\":\"white\",\"minorgridcolor\":\"white\",\"startlinecolor\":\"rgb(36,36,36)\"},\"baxis\":{\"endlinecolor\":\"rgb(36,36,36)\",\"gridcolor\":\"white\",\"linecolor\":\"white\",\"minorgridcolor\":\"white\",\"startlinecolor\":\"rgb(36,36,36)\"},\"type\":\"carpet\"}],\"choropleth\":[{\"colorbar\":{\"outlinewidth\":1,\"tickcolor\":\"rgb(36,36,36)\",\"ticks\":\"outside\"},\"type\":\"choropleth\"}],\"contour\":[{\"colorbar\":{\"outlinewidth\":1,\"tickcolor\":\"rgb(36,36,36)\",\"ticks\":\"outside\"},\"colorscale\":[[0.0,\"#440154\"],[0.1111111111111111,\"#482878\"],[0.2222222222222222,\"#3e4989\"],[0.3333333333333333,\"#31688e\"],[0.4444444444444444,\"#26828e\"],[0.5555555555555556,\"#1f9e89\"],[0.6666666666666666,\"#35b779\"],[0.7777777777777778,\"#6ece58\"],[0.8888888888888888,\"#b5de2b\"],[1.0,\"#fde725\"]],\"type\":\"contour\"}],\"contourcarpet\":[{\"colorbar\":{\"outlinewidth\":1,\"tickcolor\":\"rgb(36,36,36)\",\"ticks\":\"outside\"},\"type\":\"contourcarpet\"}],\"heatmap\":[{\"colorbar\":{\"outlinewidth\":1,\"tickcolor\":\"rgb(36,36,36)\",\"ticks\":\"outside\"},\"colorscale\":[[0.0,\"#440154\"],[0.1111111111111111,\"#482878\"],[0.2222222222222222,\"#3e4989\"],[0.3333333333333333,\"#31688e\"],[0.4444444444444444,\"#26828e\"],[0.5555555555555556,\"#1f9e89\"],[0.6666666666666666,\"#35b779\"],[0.7777777777777778,\"#6ece58\"],[0.8888888888888888,\"#b5de2b\"],[1.0,\"#fde725\"]],\"type\":\"heatmap\"}],\"heatmapgl\":[{\"colorbar\":{\"outlinewidth\":1,\"tickcolor\":\"rgb(36,36,36)\",\"ticks\":\"outside\"},\"colorscale\":[[0.0,\"#440154\"],[0.1111111111111111,\"#482878\"],[0.2222222222222222,\"#3e4989\"],[0.3333333333333333,\"#31688e\"],[0.4444444444444444,\"#26828e\"],[0.5555555555555556,\"#1f9e89\"],[0.6666666666666666,\"#35b779\"],[0.7777777777777778,\"#6ece58\"],[0.8888888888888888,\"#b5de2b\"],[1.0,\"#fde725\"]],\"type\":\"heatmapgl\"}],\"histogram\":[{\"marker\":{\"line\":{\"color\":\"white\",\"width\":0.6}},\"type\":\"histogram\"}],\"histogram2d\":[{\"colorbar\":{\"outlinewidth\":1,\"tickcolor\":\"rgb(36,36,36)\",\"ticks\":\"outside\"},\"colorscale\":[[0.0,\"#440154\"],[0.1111111111111111,\"#482878\"],[0.2222222222222222,\"#3e4989\"],[0.3333333333333333,\"#31688e\"],[0.4444444444444444,\"#26828e\"],[0.5555555555555556,\"#1f9e89\"],[0.6666666666666666,\"#35b779\"],[0.7777777777777778,\"#6ece58\"],[0.8888888888888888,\"#b5de2b\"],[1.0,\"#fde725\"]],\"type\":\"histogram2d\"}],\"histogram2dcontour\":[{\"colorbar\":{\"outlinewidth\":1,\"tickcolor\":\"rgb(36,36,36)\",\"ticks\":\"outside\"},\"colorscale\":[[0.0,\"#440154\"],[0.1111111111111111,\"#482878\"],[0.2222222222222222,\"#3e4989\"],[0.3333333333333333,\"#31688e\"],[0.4444444444444444,\"#26828e\"],[0.5555555555555556,\"#1f9e89\"],[0.6666666666666666,\"#35b779\"],[0.7777777777777778,\"#6ece58\"],[0.8888888888888888,\"#b5de2b\"],[1.0,\"#fde725\"]],\"type\":\"histogram2dcontour\"}],\"mesh3d\":[{\"colorbar\":{\"outlinewidth\":1,\"tickcolor\":\"rgb(36,36,36)\",\"ticks\":\"outside\"},\"type\":\"mesh3d\"}],\"parcoords\":[{\"line\":{\"colorbar\":{\"outlinewidth\":1,\"tickcolor\":\"rgb(36,36,36)\",\"ticks\":\"outside\"}},\"type\":\"parcoords\"}],\"pie\":[{\"automargin\":true,\"type\":\"pie\"}],\"scatter\":[{\"marker\":{\"colorbar\":{\"outlinewidth\":1,\"tickcolor\":\"rgb(36,36,36)\",\"ticks\":\"outside\"}},\"type\":\"scatter\"}],\"scatter3d\":[{\"line\":{\"colorbar\":{\"outlinewidth\":1,\"tickcolor\":\"rgb(36,36,36)\",\"ticks\":\"outside\"}},\"marker\":{\"colorbar\":{\"outlinewidth\":1,\"tickcolor\":\"rgb(36,36,36)\",\"ticks\":\"outside\"}},\"type\":\"scatter3d\"}],\"scattercarpet\":[{\"marker\":{\"colorbar\":{\"outlinewidth\":1,\"tickcolor\":\"rgb(36,36,36)\",\"ticks\":\"outside\"}},\"type\":\"scattercarpet\"}],\"scattergeo\":[{\"marker\":{\"colorbar\":{\"outlinewidth\":1,\"tickcolor\":\"rgb(36,36,36)\",\"ticks\":\"outside\"}},\"type\":\"scattergeo\"}],\"scattergl\":[{\"marker\":{\"colorbar\":{\"outlinewidth\":1,\"tickcolor\":\"rgb(36,36,36)\",\"ticks\":\"outside\"}},\"type\":\"scattergl\"}],\"scattermapbox\":[{\"marker\":{\"colorbar\":{\"outlinewidth\":1,\"tickcolor\":\"rgb(36,36,36)\",\"ticks\":\"outside\"}},\"type\":\"scattermapbox\"}],\"scatterpolar\":[{\"marker\":{\"colorbar\":{\"outlinewidth\":1,\"tickcolor\":\"rgb(36,36,36)\",\"ticks\":\"outside\"}},\"type\":\"scatterpolar\"}],\"scatterpolargl\":[{\"marker\":{\"colorbar\":{\"outlinewidth\":1,\"tickcolor\":\"rgb(36,36,36)\",\"ticks\":\"outside\"}},\"type\":\"scatterpolargl\"}],\"scatterternary\":[{\"marker\":{\"colorbar\":{\"outlinewidth\":1,\"tickcolor\":\"rgb(36,36,36)\",\"ticks\":\"outside\"}},\"type\":\"scatterternary\"}],\"surface\":[{\"colorbar\":{\"outlinewidth\":1,\"tickcolor\":\"rgb(36,36,36)\",\"ticks\":\"outside\"},\"colorscale\":[[0.0,\"#440154\"],[0.1111111111111111,\"#482878\"],[0.2222222222222222,\"#3e4989\"],[0.3333333333333333,\"#31688e\"],[0.4444444444444444,\"#26828e\"],[0.5555555555555556,\"#1f9e89\"],[0.6666666666666666,\"#35b779\"],[0.7777777777777778,\"#6ece58\"],[0.8888888888888888,\"#b5de2b\"],[1.0,\"#fde725\"]],\"type\":\"surface\"}],\"table\":[{\"cells\":{\"fill\":{\"color\":\"rgb(237,237,237)\"},\"line\":{\"color\":\"white\"}},\"header\":{\"fill\":{\"color\":\"rgb(217,217,217)\"},\"line\":{\"color\":\"white\"}},\"type\":\"table\"}]},\"layout\":{\"annotationdefaults\":{\"arrowhead\":0,\"arrowwidth\":1},\"autotypenumbers\":\"strict\",\"coloraxis\":{\"colorbar\":{\"outlinewidth\":1,\"tickcolor\":\"rgb(36,36,36)\",\"ticks\":\"outside\"}},\"colorscale\":{\"diverging\":[[0.0,\"rgb(103,0,31)\"],[0.1,\"rgb(178,24,43)\"],[0.2,\"rgb(214,96,77)\"],[0.3,\"rgb(244,165,130)\"],[0.4,\"rgb(253,219,199)\"],[0.5,\"rgb(247,247,247)\"],[0.6,\"rgb(209,229,240)\"],[0.7,\"rgb(146,197,222)\"],[0.8,\"rgb(67,147,195)\"],[0.9,\"rgb(33,102,172)\"],[1.0,\"rgb(5,48,97)\"]],\"sequential\":[[0.0,\"#440154\"],[0.1111111111111111,\"#482878\"],[0.2222222222222222,\"#3e4989\"],[0.3333333333333333,\"#31688e\"],[0.4444444444444444,\"#26828e\"],[0.5555555555555556,\"#1f9e89\"],[0.6666666666666666,\"#35b779\"],[0.7777777777777778,\"#6ece58\"],[0.8888888888888888,\"#b5de2b\"],[1.0,\"#fde725\"]],\"sequentialminus\":[[0.0,\"#440154\"],[0.1111111111111111,\"#482878\"],[0.2222222222222222,\"#3e4989\"],[0.3333333333333333,\"#31688e\"],[0.4444444444444444,\"#26828e\"],[0.5555555555555556,\"#1f9e89\"],[0.6666666666666666,\"#35b779\"],[0.7777777777777778,\"#6ece58\"],[0.8888888888888888,\"#b5de2b\"],[1.0,\"#fde725\"]]},\"colorway\":[\"#1F77B4\",\"#FF7F0E\",\"#2CA02C\",\"#D62728\",\"#9467BD\",\"#8C564B\",\"#E377C2\",\"#7F7F7F\",\"#BCBD22\",\"#17BECF\"],\"font\":{\"color\":\"rgb(36,36,36)\"},\"geo\":{\"bgcolor\":\"white\",\"lakecolor\":\"white\",\"landcolor\":\"white\",\"showlakes\":true,\"showland\":true,\"subunitcolor\":\"white\"},\"hoverlabel\":{\"align\":\"left\"},\"hovermode\":\"closest\",\"mapbox\":{\"style\":\"light\"},\"paper_bgcolor\":\"white\",\"plot_bgcolor\":\"white\",\"polar\":{\"angularaxis\":{\"gridcolor\":\"rgb(232,232,232)\",\"linecolor\":\"rgb(36,36,36)\",\"showgrid\":false,\"showline\":true,\"ticks\":\"outside\"},\"bgcolor\":\"white\",\"radialaxis\":{\"gridcolor\":\"rgb(232,232,232)\",\"linecolor\":\"rgb(36,36,36)\",\"showgrid\":false,\"showline\":true,\"ticks\":\"outside\"}},\"scene\":{\"xaxis\":{\"backgroundcolor\":\"white\",\"gridcolor\":\"rgb(232,232,232)\",\"gridwidth\":2,\"linecolor\":\"rgb(36,36,36)\",\"showbackground\":true,\"showgrid\":false,\"showline\":true,\"ticks\":\"outside\",\"zeroline\":false,\"zerolinecolor\":\"rgb(36,36,36)\"},\"yaxis\":{\"backgroundcolor\":\"white\",\"gridcolor\":\"rgb(232,232,232)\",\"gridwidth\":2,\"linecolor\":\"rgb(36,36,36)\",\"showbackground\":true,\"showgrid\":false,\"showline\":true,\"ticks\":\"outside\",\"zeroline\":false,\"zerolinecolor\":\"rgb(36,36,36)\"},\"zaxis\":{\"backgroundcolor\":\"white\",\"gridcolor\":\"rgb(232,232,232)\",\"gridwidth\":2,\"linecolor\":\"rgb(36,36,36)\",\"showbackground\":true,\"showgrid\":false,\"showline\":true,\"ticks\":\"outside\",\"zeroline\":false,\"zerolinecolor\":\"rgb(36,36,36)\"}},\"shapedefaults\":{\"fillcolor\":\"black\",\"line\":{\"width\":0},\"opacity\":0.3},\"ternary\":{\"aaxis\":{\"gridcolor\":\"rgb(232,232,232)\",\"linecolor\":\"rgb(36,36,36)\",\"showgrid\":false,\"showline\":true,\"ticks\":\"outside\"},\"baxis\":{\"gridcolor\":\"rgb(232,232,232)\",\"linecolor\":\"rgb(36,36,36)\",\"showgrid\":false,\"showline\":true,\"ticks\":\"outside\"},\"bgcolor\":\"white\",\"caxis\":{\"gridcolor\":\"rgb(232,232,232)\",\"linecolor\":\"rgb(36,36,36)\",\"showgrid\":false,\"showline\":true,\"ticks\":\"outside\"}},\"title\":{\"x\":0.05},\"xaxis\":{\"automargin\":true,\"gridcolor\":\"rgb(232,232,232)\",\"linecolor\":\"rgb(36,36,36)\",\"showgrid\":false,\"showline\":true,\"ticks\":\"outside\",\"title\":{\"standoff\":15},\"zeroline\":false,\"zerolinecolor\":\"rgb(36,36,36)\"},\"yaxis\":{\"automargin\":true,\"gridcolor\":\"rgb(232,232,232)\",\"linecolor\":\"rgb(36,36,36)\",\"showgrid\":false,\"showline\":true,\"ticks\":\"outside\",\"title\":{\"standoff\":15},\"zeroline\":false,\"zerolinecolor\":\"rgb(36,36,36)\"}}},\"title\":{\"text\":\"Effect of Max initial vaf on survival\"},\"xaxis\":{\"anchor\":\"y\",\"domain\":[0.0,0.27],\"showticklabels\":false,\"tickvals\":[0],\"title\":{\"text\":\"Max initial vaf\"}},\"xaxis2\":{\"anchor\":\"y2\",\"domain\":[0.37,1.0],\"title\":{\"text\":\"Years\"}},\"yaxis\":{\"anchor\":\"x\",\"domain\":[0.0,1.0],\"dtick\":1,\"range\":[1.0,3.0],\"title\":{\"text\":\"Hazard Ratio (95% CI)\"}},\"yaxis2\":{\"anchor\":\"x2\",\"domain\":[0.0,1.0],\"dtick\":0.2,\"title\":{\"text\":\"Survivors (proportion)\"}}},                        {\"responsive\": true}                    ).then(function(){\n",
       "                            \n",
       "var gd = document.getElementById('d91b637d-4bba-49e6-9e3d-6bc4b3c2ee91');\n",
       "var x = new MutationObserver(function (mutations, observer) {{\n",
       "        var display = window.getComputedStyle(gd).display;\n",
       "        if (!display || display === 'none') {{\n",
       "            console.log([gd, 'removed!']);\n",
       "            Plotly.purge(gd);\n",
       "            observer.disconnect();\n",
       "        }}\n",
       "}});\n",
       "\n",
       "// Listen for the removal of the full notebook cells\n",
       "var notebookContainer = gd.closest('#notebook-container');\n",
       "if (notebookContainer) {{\n",
       "    x.observe(notebookContainer, {childList: true});\n",
       "}}\n",
       "\n",
       "// Listen for the clearing of the current output cell\n",
       "var outputEl = gd.closest('.output');\n",
       "if (outputEl) {{\n",
       "    x.observe(outputEl, {childList: true});\n",
       "}}\n",
       "\n",
       "                        })                };                });            </script>        </div>"
      ]
     },
     "metadata": {},
     "output_type": "display_data"
    }
   ],
   "source": [
    "cohort = [21]\n",
    "survival_columns = ['Max initial vaf']\n",
    "\n",
    "cph = survival_analysis(survival_columns, cohort)\n",
    "fig = plot_hr_analysis(cph, covariate=survival_columns[0])\n",
    "fig.show()\n",
    "fig.write_image(path + 'LBC21_init_vaf.svg',width=1000)"
   ]
  },
  {
   "cell_type": "markdown",
   "metadata": {},
   "source": [
    "## LBC36"
   ]
  },
  {
   "cell_type": "code",
   "execution_count": 15,
   "metadata": {
    "scrolled": true
   },
   "outputs": [
    {
     "data": {
      "text/html": [
       "<div>\n",
       "<style scoped>\n",
       "    .dataframe tbody tr th:only-of-type {\n",
       "        vertical-align: middle;\n",
       "    }\n",
       "\n",
       "    .dataframe tbody tr th {\n",
       "        vertical-align: top;\n",
       "    }\n",
       "\n",
       "    .dataframe thead th {\n",
       "        text-align: right;\n",
       "    }\n",
       "</style>\n",
       "<table border=\"1\" class=\"dataframe\">\n",
       "  <tbody>\n",
       "    <tr>\n",
       "      <th>model</th>\n",
       "      <td>lifelines.CoxPHFitter</td>\n",
       "    </tr>\n",
       "    <tr>\n",
       "      <th>duration col</th>\n",
       "      <td>'days_from_wave1'</td>\n",
       "    </tr>\n",
       "    <tr>\n",
       "      <th>event col</th>\n",
       "      <td>'dead'</td>\n",
       "    </tr>\n",
       "    <tr>\n",
       "      <th>baseline estimation</th>\n",
       "      <td>breslow</td>\n",
       "    </tr>\n",
       "    <tr>\n",
       "      <th>number of observations</th>\n",
       "      <td>43</td>\n",
       "    </tr>\n",
       "    <tr>\n",
       "      <th>number of events observed</th>\n",
       "      <td>10</td>\n",
       "    </tr>\n",
       "    <tr>\n",
       "      <th>partial log-likelihood</th>\n",
       "      <td>-36.11</td>\n",
       "    </tr>\n",
       "    <tr>\n",
       "      <th>time fit was run</th>\n",
       "      <td>2021-09-03 11:42:55 UTC</td>\n",
       "    </tr>\n",
       "  </tbody>\n",
       "</table>\n",
       "</div><table border=\"1\" class=\"dataframe\">\n",
       "  <thead>\n",
       "    <tr style=\"text-align: right;\">\n",
       "      <th style=\"min-width: 12px;\"></th>\n",
       "      <th style=\"min-width: 12px;\">coef</th>\n",
       "      <th style=\"min-width: 12px;\">exp(coef)</th>\n",
       "      <th style=\"min-width: 12px;\">se(coef)</th>\n",
       "      <th style=\"min-width: 12px;\">coef lower 95%</th>\n",
       "      <th style=\"min-width: 12px;\">coef upper 95%</th>\n",
       "      <th style=\"min-width: 12px;\">exp(coef) lower 95%</th>\n",
       "      <th style=\"min-width: 12px;\">exp(coef) upper 95%</th>\n",
       "      <th style=\"min-width: 12px;\">z</th>\n",
       "      <th style=\"min-width: 12px;\">p</th>\n",
       "      <th style=\"min-width: 12px;\">-log2(p)</th>\n",
       "    </tr>\n",
       "  </thead>\n",
       "  <tbody>\n",
       "    <tr>\n",
       "      <th>Max initial vaf</th>\n",
       "      <td>-0.29</td>\n",
       "      <td>0.75</td>\n",
       "      <td>0.36</td>\n",
       "      <td>-1.00</td>\n",
       "      <td>0.42</td>\n",
       "      <td>0.37</td>\n",
       "      <td>1.52</td>\n",
       "      <td>-0.81</td>\n",
       "      <td>0.42</td>\n",
       "      <td>1.25</td>\n",
       "    </tr>\n",
       "  </tbody>\n",
       "</table><br><div>\n",
       "<style scoped>\n",
       "    .dataframe tbody tr th:only-of-type {\n",
       "        vertical-align: middle;\n",
       "    }\n",
       "\n",
       "    .dataframe tbody tr th {\n",
       "        vertical-align: top;\n",
       "    }\n",
       "\n",
       "    .dataframe thead th {\n",
       "        text-align: right;\n",
       "    }\n",
       "</style>\n",
       "<table border=\"1\" class=\"dataframe\">\n",
       "  <tbody>\n",
       "    <tr>\n",
       "      <th>Concordance</th>\n",
       "      <td>0.57</td>\n",
       "    </tr>\n",
       "    <tr>\n",
       "      <th>Partial AIC</th>\n",
       "      <td>74.23</td>\n",
       "    </tr>\n",
       "    <tr>\n",
       "      <th>log-likelihood ratio test</th>\n",
       "      <td>0.73 on 1 df</td>\n",
       "    </tr>\n",
       "    <tr>\n",
       "      <th>-log2(p) of ll-ratio test</th>\n",
       "      <td>1.35</td>\n",
       "    </tr>\n",
       "  </tbody>\n",
       "</table>\n",
       "</div>"
      ],
      "text/latex": [
       "\\begin{tabular}{lrrrrrrrrrr}\n",
       "\\toprule\n",
       "{} &  coef &  exp(coef) &  se(coef) &  coef lower 95\\% &  coef upper 95\\% &  exp(coef) lower 95\\% &  exp(coef) upper 95\\% &     z &    p &  -log2(p) \\\\\n",
       "covariate       &       &            &           &                 &                 &                      &                      &       &      &           \\\\\n",
       "\\midrule\n",
       "Max initial vaf & -0.29 &       0.75 &      0.36 &           -1.00 &            0.42 &                 0.37 &                 1.52 & -0.81 & 0.42 &      1.25 \\\\\n",
       "\\bottomrule\n",
       "\\end{tabular}\n"
      ],
      "text/plain": [
       "<lifelines.CoxPHFitter: fitted with 43 total observations, 33 right-censored observations>\n",
       "             duration col = 'days_from_wave1'\n",
       "                event col = 'dead'\n",
       "      baseline estimation = breslow\n",
       "   number of observations = 43\n",
       "number of events observed = 10\n",
       "   partial log-likelihood = -36.11\n",
       "         time fit was run = 2021-09-03 11:42:55 UTC\n",
       "\n",
       "---\n",
       "                  coef  exp(coef)   se(coef)   coef lower 95%   coef upper 95%  exp(coef) lower 95%  exp(coef) upper 95%\n",
       "covariate                                                                                                               \n",
       "Max initial vaf  -0.29       0.75       0.36            -1.00             0.42                 0.37                 1.52\n",
       "\n",
       "                    z    p   -log2(p)\n",
       "covariate                            \n",
       "Max initial vaf -0.81 0.42       1.25\n",
       "---\n",
       "Concordance = 0.57\n",
       "Partial AIC = 74.23\n",
       "log-likelihood ratio test = 0.73 on 1 df\n",
       "-log2(p) of ll-ratio test = 1.35"
      ]
     },
     "metadata": {},
     "output_type": "display_data"
    },
    {
     "data": {
      "application/vnd.plotly.v1+json": {
       "config": {
        "plotlyServerURL": "https://plot.ly"
       },
       "data": [
        {
         "error_y": {
          "array": [
           0.7677101467560351
          ],
          "arrayminus": [
           0.37880691142300843
          ],
          "symmetric": false,
          "type": "data"
         },
         "marker": {
          "size": 15,
          "symbol": "diamond"
         },
         "showlegend": false,
         "type": "scatter",
         "x": [
          "Max initial vaf"
         ],
         "xaxis": "x",
         "y": [
          0.7477796097832089
         ],
         "yaxis": "y"
        },
        {
         "line": {
          "dash": "dash",
          "shape": "hv"
         },
         "mode": "lines",
         "name": "Mean",
         "type": "scatter",
         "x": [
          2.537987679671458,
          6.828199863107461,
          7.488021902806297,
          7.6358658453114305,
          9.95482546201232,
          9.979466119096507,
          11.077344284736482,
          11.630390143737166,
          12.78302532511978,
          13.598904859685147,
          14.250513347022586,
          14.25325119780972,
          14.255989048596852,
          14.28062970568104,
          14.318959616700887,
          14.373716632443532,
          14.4476386036961,
          14.485968514715948,
          14.510609171800136,
          14.521560574948666,
          14.548939082819986,
          14.570841889117045,
          14.581793292265573,
          14.60643394934976,
          14.67214236824093,
          14.699520876112253,
          14.707734428473648,
          14.743326488706366,
          14.757015742642023,
          14.806297056810404,
          14.809034907597535,
          14.85284052019165,
          14.874743326488709,
          14.8911704312115,
          14.921286789869953,
          14.93223819301848,
          14.978781656399724,
          15.017111567419576,
          15.019849418206707,
          15.047227926078028,
          15.099247091033538
         ],
         "xaxis": "x2",
         "y": [
          0.9778630611818169,
          0.955629556785709,
          0.9332233191493652,
          0.9108405448193936,
          0.8882701956746354,
          0.8657126873910691,
          0.8430941514952933,
          0.8204625339565135,
          0.7980493308043335,
          0.7754241473488053,
          0.7754241473488053,
          0.7754241473488053,
          0.7754241473488053,
          0.7754241473488053,
          0.7754241473488053,
          0.7754241473488053,
          0.7754241473488053,
          0.7754241473488053,
          0.7754241473488053,
          0.7754241473488053,
          0.7754241473488053,
          0.7754241473488053,
          0.7754241473488053,
          0.7754241473488053,
          0.7754241473488053,
          0.7754241473488053,
          0.7754241473488053,
          0.7754241473488053,
          0.7754241473488053,
          0.7754241473488053,
          0.7754241473488053,
          0.7754241473488053,
          0.7754241473488053,
          0.7754241473488053,
          0.7754241473488053,
          0.7754241473488053,
          0.7754241473488053,
          0.7754241473488053,
          0.7754241473488053,
          0.7754241473488053,
          0.7754241473488053
         ],
         "yaxis": "y2"
        },
        {
         "line": {
          "shape": "hv"
         },
         "mode": "lines",
         "name": "-2 SD",
         "type": "scatter",
         "x": [
          2.537987679671458,
          6.828199863107461,
          7.488021902806297,
          7.6358658453114305,
          9.95482546201232,
          9.979466119096507,
          11.077344284736482,
          11.630390143737166,
          12.78302532511978,
          13.598904859685147,
          14.250513347022586,
          14.25325119780972,
          14.255989048596852,
          14.28062970568104,
          14.318959616700887,
          14.373716632443532,
          14.4476386036961,
          14.485968514715948,
          14.510609171800136,
          14.521560574948666,
          14.548939082819986,
          14.570841889117045,
          14.581793292265573,
          14.60643394934976,
          14.67214236824093,
          14.699520876112253,
          14.707734428473648,
          14.743326488706366,
          14.757015742642023,
          14.806297056810404,
          14.809034907597535,
          14.85284052019165,
          14.874743326488709,
          14.8911704312115,
          14.921286789869953,
          14.93223819301848,
          14.978781656399724,
          15.017111567419576,
          15.019849418206707,
          15.047227926078028,
          15.099247091033538
         ],
         "xaxis": "x2",
         "y": [
          0.9607573703221551,
          0.9220422869754129,
          0.8837383180986879,
          0.8461915687984053,
          0.8090596845206751,
          0.772684749895715,
          0.7369540456660546,
          0.7019511446257252,
          0.6680281803854778,
          0.6345378522740791,
          0.6345378522740791,
          0.6345378522740791,
          0.6345378522740791,
          0.6345378522740791,
          0.6345378522740791,
          0.6345378522740791,
          0.6345378522740791,
          0.6345378522740791,
          0.6345378522740791,
          0.6345378522740791,
          0.6345378522740791,
          0.6345378522740791,
          0.6345378522740791,
          0.6345378522740791,
          0.6345378522740791,
          0.6345378522740791,
          0.6345378522740791,
          0.6345378522740791,
          0.6345378522740791,
          0.6345378522740791,
          0.6345378522740791,
          0.6345378522740791,
          0.6345378522740791,
          0.6345378522740791,
          0.6345378522740791,
          0.6345378522740791,
          0.6345378522740791,
          0.6345378522740791,
          0.6345378522740791,
          0.6345378522740791,
          0.6345378522740791
         ],
         "yaxis": "y2"
        },
        {
         "line": {
          "shape": "hv"
         },
         "mode": "lines",
         "name": "2 SD",
         "type": "scatter",
         "x": [
          2.537987679671458,
          6.828199863107461,
          7.488021902806297,
          7.6358658453114305,
          9.95482546201232,
          9.979466119096507,
          11.077344284736482,
          11.630390143737166,
          12.78302532511978,
          13.598904859685147,
          14.250513347022586,
          14.25325119780972,
          14.255989048596852,
          14.28062970568104,
          14.318959616700887,
          14.373716632443532,
          14.4476386036961,
          14.485968514715948,
          14.510609171800136,
          14.521560574948666,
          14.548939082819986,
          14.570841889117045,
          14.581793292265573,
          14.60643394934976,
          14.67214236824093,
          14.699520876112253,
          14.707734428473648,
          14.743326488706366,
          14.757015742642023,
          14.806297056810404,
          14.809034907597535,
          14.85284052019165,
          14.874743326488709,
          14.8911704312115,
          14.921286789869953,
          14.93223819301848,
          14.978781656399724,
          15.017111567419576,
          15.019849418206707,
          15.047227926078028,
          15.099247091033538
         ],
         "xaxis": "x2",
         "y": [
          0.9875605432583471,
          0.9749412261305143,
          0.9620922309117376,
          0.9491201750113804,
          0.9358963092584982,
          0.9225311210932586,
          0.9089747173430844,
          0.8952490319379344,
          0.8814903104641255,
          0.8674275715977764,
          0.8674275715977764,
          0.8674275715977764,
          0.8674275715977764,
          0.8674275715977764,
          0.8674275715977764,
          0.8674275715977764,
          0.8674275715977764,
          0.8674275715977764,
          0.8674275715977764,
          0.8674275715977764,
          0.8674275715977764,
          0.8674275715977764,
          0.8674275715977764,
          0.8674275715977764,
          0.8674275715977764,
          0.8674275715977764,
          0.8674275715977764,
          0.8674275715977764,
          0.8674275715977764,
          0.8674275715977764,
          0.8674275715977764,
          0.8674275715977764,
          0.8674275715977764,
          0.8674275715977764,
          0.8674275715977764,
          0.8674275715977764,
          0.8674275715977764,
          0.8674275715977764,
          0.8674275715977764,
          0.8674275715977764,
          0.8674275715977764
         ],
         "yaxis": "y2"
        }
       ],
       "layout": {
        "annotations": [
         {
          "font": {
           "size": 16
          },
          "showarrow": false,
          "text": "Estimated hazard ratio",
          "x": 0.135,
          "xanchor": "center",
          "xref": "paper",
          "y": 1,
          "yanchor": "bottom",
          "yref": "paper"
         },
         {
          "font": {
           "size": 16
          },
          "showarrow": false,
          "text": "Survival stratification",
          "x": 0.685,
          "xanchor": "center",
          "xref": "paper",
          "y": 1,
          "yanchor": "bottom",
          "yref": "paper"
         }
        ],
        "legend": {
         "title": {
          "text": "Max initial vaf"
         }
        },
        "template": {
         "data": {
          "bar": [
           {
            "error_x": {
             "color": "rgb(36,36,36)"
            },
            "error_y": {
             "color": "rgb(36,36,36)"
            },
            "marker": {
             "line": {
              "color": "white",
              "width": 0.5
             },
             "pattern": {
              "fillmode": "overlay",
              "size": 10,
              "solidity": 0.2
             }
            },
            "type": "bar"
           }
          ],
          "barpolar": [
           {
            "marker": {
             "line": {
              "color": "white",
              "width": 0.5
             },
             "pattern": {
              "fillmode": "overlay",
              "size": 10,
              "solidity": 0.2
             }
            },
            "type": "barpolar"
           }
          ],
          "carpet": [
           {
            "aaxis": {
             "endlinecolor": "rgb(36,36,36)",
             "gridcolor": "white",
             "linecolor": "white",
             "minorgridcolor": "white",
             "startlinecolor": "rgb(36,36,36)"
            },
            "baxis": {
             "endlinecolor": "rgb(36,36,36)",
             "gridcolor": "white",
             "linecolor": "white",
             "minorgridcolor": "white",
             "startlinecolor": "rgb(36,36,36)"
            },
            "type": "carpet"
           }
          ],
          "choropleth": [
           {
            "colorbar": {
             "outlinewidth": 1,
             "tickcolor": "rgb(36,36,36)",
             "ticks": "outside"
            },
            "type": "choropleth"
           }
          ],
          "contour": [
           {
            "colorbar": {
             "outlinewidth": 1,
             "tickcolor": "rgb(36,36,36)",
             "ticks": "outside"
            },
            "colorscale": [
             [
              0,
              "#440154"
             ],
             [
              0.1111111111111111,
              "#482878"
             ],
             [
              0.2222222222222222,
              "#3e4989"
             ],
             [
              0.3333333333333333,
              "#31688e"
             ],
             [
              0.4444444444444444,
              "#26828e"
             ],
             [
              0.5555555555555556,
              "#1f9e89"
             ],
             [
              0.6666666666666666,
              "#35b779"
             ],
             [
              0.7777777777777778,
              "#6ece58"
             ],
             [
              0.8888888888888888,
              "#b5de2b"
             ],
             [
              1,
              "#fde725"
             ]
            ],
            "type": "contour"
           }
          ],
          "contourcarpet": [
           {
            "colorbar": {
             "outlinewidth": 1,
             "tickcolor": "rgb(36,36,36)",
             "ticks": "outside"
            },
            "type": "contourcarpet"
           }
          ],
          "heatmap": [
           {
            "colorbar": {
             "outlinewidth": 1,
             "tickcolor": "rgb(36,36,36)",
             "ticks": "outside"
            },
            "colorscale": [
             [
              0,
              "#440154"
             ],
             [
              0.1111111111111111,
              "#482878"
             ],
             [
              0.2222222222222222,
              "#3e4989"
             ],
             [
              0.3333333333333333,
              "#31688e"
             ],
             [
              0.4444444444444444,
              "#26828e"
             ],
             [
              0.5555555555555556,
              "#1f9e89"
             ],
             [
              0.6666666666666666,
              "#35b779"
             ],
             [
              0.7777777777777778,
              "#6ece58"
             ],
             [
              0.8888888888888888,
              "#b5de2b"
             ],
             [
              1,
              "#fde725"
             ]
            ],
            "type": "heatmap"
           }
          ],
          "heatmapgl": [
           {
            "colorbar": {
             "outlinewidth": 1,
             "tickcolor": "rgb(36,36,36)",
             "ticks": "outside"
            },
            "colorscale": [
             [
              0,
              "#440154"
             ],
             [
              0.1111111111111111,
              "#482878"
             ],
             [
              0.2222222222222222,
              "#3e4989"
             ],
             [
              0.3333333333333333,
              "#31688e"
             ],
             [
              0.4444444444444444,
              "#26828e"
             ],
             [
              0.5555555555555556,
              "#1f9e89"
             ],
             [
              0.6666666666666666,
              "#35b779"
             ],
             [
              0.7777777777777778,
              "#6ece58"
             ],
             [
              0.8888888888888888,
              "#b5de2b"
             ],
             [
              1,
              "#fde725"
             ]
            ],
            "type": "heatmapgl"
           }
          ],
          "histogram": [
           {
            "marker": {
             "line": {
              "color": "white",
              "width": 0.6
             }
            },
            "type": "histogram"
           }
          ],
          "histogram2d": [
           {
            "colorbar": {
             "outlinewidth": 1,
             "tickcolor": "rgb(36,36,36)",
             "ticks": "outside"
            },
            "colorscale": [
             [
              0,
              "#440154"
             ],
             [
              0.1111111111111111,
              "#482878"
             ],
             [
              0.2222222222222222,
              "#3e4989"
             ],
             [
              0.3333333333333333,
              "#31688e"
             ],
             [
              0.4444444444444444,
              "#26828e"
             ],
             [
              0.5555555555555556,
              "#1f9e89"
             ],
             [
              0.6666666666666666,
              "#35b779"
             ],
             [
              0.7777777777777778,
              "#6ece58"
             ],
             [
              0.8888888888888888,
              "#b5de2b"
             ],
             [
              1,
              "#fde725"
             ]
            ],
            "type": "histogram2d"
           }
          ],
          "histogram2dcontour": [
           {
            "colorbar": {
             "outlinewidth": 1,
             "tickcolor": "rgb(36,36,36)",
             "ticks": "outside"
            },
            "colorscale": [
             [
              0,
              "#440154"
             ],
             [
              0.1111111111111111,
              "#482878"
             ],
             [
              0.2222222222222222,
              "#3e4989"
             ],
             [
              0.3333333333333333,
              "#31688e"
             ],
             [
              0.4444444444444444,
              "#26828e"
             ],
             [
              0.5555555555555556,
              "#1f9e89"
             ],
             [
              0.6666666666666666,
              "#35b779"
             ],
             [
              0.7777777777777778,
              "#6ece58"
             ],
             [
              0.8888888888888888,
              "#b5de2b"
             ],
             [
              1,
              "#fde725"
             ]
            ],
            "type": "histogram2dcontour"
           }
          ],
          "mesh3d": [
           {
            "colorbar": {
             "outlinewidth": 1,
             "tickcolor": "rgb(36,36,36)",
             "ticks": "outside"
            },
            "type": "mesh3d"
           }
          ],
          "parcoords": [
           {
            "line": {
             "colorbar": {
              "outlinewidth": 1,
              "tickcolor": "rgb(36,36,36)",
              "ticks": "outside"
             }
            },
            "type": "parcoords"
           }
          ],
          "pie": [
           {
            "automargin": true,
            "type": "pie"
           }
          ],
          "scatter": [
           {
            "marker": {
             "colorbar": {
              "outlinewidth": 1,
              "tickcolor": "rgb(36,36,36)",
              "ticks": "outside"
             }
            },
            "type": "scatter"
           }
          ],
          "scatter3d": [
           {
            "line": {
             "colorbar": {
              "outlinewidth": 1,
              "tickcolor": "rgb(36,36,36)",
              "ticks": "outside"
             }
            },
            "marker": {
             "colorbar": {
              "outlinewidth": 1,
              "tickcolor": "rgb(36,36,36)",
              "ticks": "outside"
             }
            },
            "type": "scatter3d"
           }
          ],
          "scattercarpet": [
           {
            "marker": {
             "colorbar": {
              "outlinewidth": 1,
              "tickcolor": "rgb(36,36,36)",
              "ticks": "outside"
             }
            },
            "type": "scattercarpet"
           }
          ],
          "scattergeo": [
           {
            "marker": {
             "colorbar": {
              "outlinewidth": 1,
              "tickcolor": "rgb(36,36,36)",
              "ticks": "outside"
             }
            },
            "type": "scattergeo"
           }
          ],
          "scattergl": [
           {
            "marker": {
             "colorbar": {
              "outlinewidth": 1,
              "tickcolor": "rgb(36,36,36)",
              "ticks": "outside"
             }
            },
            "type": "scattergl"
           }
          ],
          "scattermapbox": [
           {
            "marker": {
             "colorbar": {
              "outlinewidth": 1,
              "tickcolor": "rgb(36,36,36)",
              "ticks": "outside"
             }
            },
            "type": "scattermapbox"
           }
          ],
          "scatterpolar": [
           {
            "marker": {
             "colorbar": {
              "outlinewidth": 1,
              "tickcolor": "rgb(36,36,36)",
              "ticks": "outside"
             }
            },
            "type": "scatterpolar"
           }
          ],
          "scatterpolargl": [
           {
            "marker": {
             "colorbar": {
              "outlinewidth": 1,
              "tickcolor": "rgb(36,36,36)",
              "ticks": "outside"
             }
            },
            "type": "scatterpolargl"
           }
          ],
          "scatterternary": [
           {
            "marker": {
             "colorbar": {
              "outlinewidth": 1,
              "tickcolor": "rgb(36,36,36)",
              "ticks": "outside"
             }
            },
            "type": "scatterternary"
           }
          ],
          "surface": [
           {
            "colorbar": {
             "outlinewidth": 1,
             "tickcolor": "rgb(36,36,36)",
             "ticks": "outside"
            },
            "colorscale": [
             [
              0,
              "#440154"
             ],
             [
              0.1111111111111111,
              "#482878"
             ],
             [
              0.2222222222222222,
              "#3e4989"
             ],
             [
              0.3333333333333333,
              "#31688e"
             ],
             [
              0.4444444444444444,
              "#26828e"
             ],
             [
              0.5555555555555556,
              "#1f9e89"
             ],
             [
              0.6666666666666666,
              "#35b779"
             ],
             [
              0.7777777777777778,
              "#6ece58"
             ],
             [
              0.8888888888888888,
              "#b5de2b"
             ],
             [
              1,
              "#fde725"
             ]
            ],
            "type": "surface"
           }
          ],
          "table": [
           {
            "cells": {
             "fill": {
              "color": "rgb(237,237,237)"
             },
             "line": {
              "color": "white"
             }
            },
            "header": {
             "fill": {
              "color": "rgb(217,217,217)"
             },
             "line": {
              "color": "white"
             }
            },
            "type": "table"
           }
          ]
         },
         "layout": {
          "annotationdefaults": {
           "arrowhead": 0,
           "arrowwidth": 1
          },
          "autotypenumbers": "strict",
          "coloraxis": {
           "colorbar": {
            "outlinewidth": 1,
            "tickcolor": "rgb(36,36,36)",
            "ticks": "outside"
           }
          },
          "colorscale": {
           "diverging": [
            [
             0,
             "rgb(103,0,31)"
            ],
            [
             0.1,
             "rgb(178,24,43)"
            ],
            [
             0.2,
             "rgb(214,96,77)"
            ],
            [
             0.3,
             "rgb(244,165,130)"
            ],
            [
             0.4,
             "rgb(253,219,199)"
            ],
            [
             0.5,
             "rgb(247,247,247)"
            ],
            [
             0.6,
             "rgb(209,229,240)"
            ],
            [
             0.7,
             "rgb(146,197,222)"
            ],
            [
             0.8,
             "rgb(67,147,195)"
            ],
            [
             0.9,
             "rgb(33,102,172)"
            ],
            [
             1,
             "rgb(5,48,97)"
            ]
           ],
           "sequential": [
            [
             0,
             "#440154"
            ],
            [
             0.1111111111111111,
             "#482878"
            ],
            [
             0.2222222222222222,
             "#3e4989"
            ],
            [
             0.3333333333333333,
             "#31688e"
            ],
            [
             0.4444444444444444,
             "#26828e"
            ],
            [
             0.5555555555555556,
             "#1f9e89"
            ],
            [
             0.6666666666666666,
             "#35b779"
            ],
            [
             0.7777777777777778,
             "#6ece58"
            ],
            [
             0.8888888888888888,
             "#b5de2b"
            ],
            [
             1,
             "#fde725"
            ]
           ],
           "sequentialminus": [
            [
             0,
             "#440154"
            ],
            [
             0.1111111111111111,
             "#482878"
            ],
            [
             0.2222222222222222,
             "#3e4989"
            ],
            [
             0.3333333333333333,
             "#31688e"
            ],
            [
             0.4444444444444444,
             "#26828e"
            ],
            [
             0.5555555555555556,
             "#1f9e89"
            ],
            [
             0.6666666666666666,
             "#35b779"
            ],
            [
             0.7777777777777778,
             "#6ece58"
            ],
            [
             0.8888888888888888,
             "#b5de2b"
            ],
            [
             1,
             "#fde725"
            ]
           ]
          },
          "colorway": [
           "#1F77B4",
           "#FF7F0E",
           "#2CA02C",
           "#D62728",
           "#9467BD",
           "#8C564B",
           "#E377C2",
           "#7F7F7F",
           "#BCBD22",
           "#17BECF"
          ],
          "font": {
           "color": "rgb(36,36,36)"
          },
          "geo": {
           "bgcolor": "white",
           "lakecolor": "white",
           "landcolor": "white",
           "showlakes": true,
           "showland": true,
           "subunitcolor": "white"
          },
          "hoverlabel": {
           "align": "left"
          },
          "hovermode": "closest",
          "mapbox": {
           "style": "light"
          },
          "paper_bgcolor": "white",
          "plot_bgcolor": "white",
          "polar": {
           "angularaxis": {
            "gridcolor": "rgb(232,232,232)",
            "linecolor": "rgb(36,36,36)",
            "showgrid": false,
            "showline": true,
            "ticks": "outside"
           },
           "bgcolor": "white",
           "radialaxis": {
            "gridcolor": "rgb(232,232,232)",
            "linecolor": "rgb(36,36,36)",
            "showgrid": false,
            "showline": true,
            "ticks": "outside"
           }
          },
          "scene": {
           "xaxis": {
            "backgroundcolor": "white",
            "gridcolor": "rgb(232,232,232)",
            "gridwidth": 2,
            "linecolor": "rgb(36,36,36)",
            "showbackground": true,
            "showgrid": false,
            "showline": true,
            "ticks": "outside",
            "zeroline": false,
            "zerolinecolor": "rgb(36,36,36)"
           },
           "yaxis": {
            "backgroundcolor": "white",
            "gridcolor": "rgb(232,232,232)",
            "gridwidth": 2,
            "linecolor": "rgb(36,36,36)",
            "showbackground": true,
            "showgrid": false,
            "showline": true,
            "ticks": "outside",
            "zeroline": false,
            "zerolinecolor": "rgb(36,36,36)"
           },
           "zaxis": {
            "backgroundcolor": "white",
            "gridcolor": "rgb(232,232,232)",
            "gridwidth": 2,
            "linecolor": "rgb(36,36,36)",
            "showbackground": true,
            "showgrid": false,
            "showline": true,
            "ticks": "outside",
            "zeroline": false,
            "zerolinecolor": "rgb(36,36,36)"
           }
          },
          "shapedefaults": {
           "fillcolor": "black",
           "line": {
            "width": 0
           },
           "opacity": 0.3
          },
          "ternary": {
           "aaxis": {
            "gridcolor": "rgb(232,232,232)",
            "linecolor": "rgb(36,36,36)",
            "showgrid": false,
            "showline": true,
            "ticks": "outside"
           },
           "baxis": {
            "gridcolor": "rgb(232,232,232)",
            "linecolor": "rgb(36,36,36)",
            "showgrid": false,
            "showline": true,
            "ticks": "outside"
           },
           "bgcolor": "white",
           "caxis": {
            "gridcolor": "rgb(232,232,232)",
            "linecolor": "rgb(36,36,36)",
            "showgrid": false,
            "showline": true,
            "ticks": "outside"
           }
          },
          "title": {
           "x": 0.05
          },
          "xaxis": {
           "automargin": true,
           "gridcolor": "rgb(232,232,232)",
           "linecolor": "rgb(36,36,36)",
           "showgrid": false,
           "showline": true,
           "ticks": "outside",
           "title": {
            "standoff": 15
           },
           "zeroline": false,
           "zerolinecolor": "rgb(36,36,36)"
          },
          "yaxis": {
           "automargin": true,
           "gridcolor": "rgb(232,232,232)",
           "linecolor": "rgb(36,36,36)",
           "showgrid": false,
           "showline": true,
           "ticks": "outside",
           "title": {
            "standoff": 15
           },
           "zeroline": false,
           "zerolinecolor": "rgb(36,36,36)"
          }
         }
        },
        "title": {
         "text": "Effect of Max initial vaf on survival"
        },
        "xaxis": {
         "anchor": "y",
         "domain": [
          0,
          0.27
         ],
         "showticklabels": false,
         "tickvals": [
          0
         ],
         "title": {
          "text": "Max initial vaf"
         }
        },
        "xaxis2": {
         "anchor": "y2",
         "domain": [
          0.37,
          1
         ],
         "title": {
          "text": "Years"
         }
        },
        "yaxis": {
         "anchor": "x",
         "domain": [
          0,
          1
         ],
         "dtick": 1,
         "range": [
          0,
          2
         ],
         "title": {
          "text": "Hazard Ratio (95% CI)"
         }
        },
        "yaxis2": {
         "anchor": "x2",
         "domain": [
          0,
          1
         ],
         "dtick": 0.2,
         "title": {
          "text": "Survivors (proportion)"
         }
        }
       }
      },
      "text/html": [
       "<div>                            <div id=\"7f5ef12b-1bae-439f-a465-b1b88d408dc6\" class=\"plotly-graph-div\" style=\"height:525px; width:100%;\"></div>            <script type=\"text/javascript\">                require([\"plotly\"], function(Plotly) {                    window.PLOTLYENV=window.PLOTLYENV || {};                                    if (document.getElementById(\"7f5ef12b-1bae-439f-a465-b1b88d408dc6\")) {                    Plotly.newPlot(                        \"7f5ef12b-1bae-439f-a465-b1b88d408dc6\",                        [{\"error_y\":{\"array\":[0.7677101467560351],\"arrayminus\":[0.37880691142300843],\"symmetric\":false,\"type\":\"data\"},\"marker\":{\"size\":15,\"symbol\":\"diamond\"},\"showlegend\":false,\"type\":\"scatter\",\"x\":[\"Max initial vaf\"],\"xaxis\":\"x\",\"y\":[0.7477796097832089],\"yaxis\":\"y\"},{\"line\":{\"dash\":\"dash\",\"shape\":\"hv\"},\"mode\":\"lines\",\"name\":\"Mean\",\"type\":\"scatter\",\"x\":[2.537987679671458,6.828199863107461,7.488021902806297,7.6358658453114305,9.95482546201232,9.979466119096507,11.077344284736482,11.630390143737166,12.78302532511978,13.598904859685147,14.250513347022586,14.25325119780972,14.255989048596852,14.28062970568104,14.318959616700887,14.373716632443532,14.4476386036961,14.485968514715948,14.510609171800136,14.521560574948666,14.548939082819986,14.570841889117045,14.581793292265573,14.60643394934976,14.67214236824093,14.699520876112253,14.707734428473648,14.743326488706366,14.757015742642023,14.806297056810404,14.809034907597535,14.85284052019165,14.874743326488709,14.8911704312115,14.921286789869953,14.93223819301848,14.978781656399724,15.017111567419576,15.019849418206707,15.047227926078028,15.099247091033538],\"xaxis\":\"x2\",\"y\":[0.9778630611818169,0.955629556785709,0.9332233191493652,0.9108405448193936,0.8882701956746354,0.8657126873910691,0.8430941514952933,0.8204625339565135,0.7980493308043335,0.7754241473488053,0.7754241473488053,0.7754241473488053,0.7754241473488053,0.7754241473488053,0.7754241473488053,0.7754241473488053,0.7754241473488053,0.7754241473488053,0.7754241473488053,0.7754241473488053,0.7754241473488053,0.7754241473488053,0.7754241473488053,0.7754241473488053,0.7754241473488053,0.7754241473488053,0.7754241473488053,0.7754241473488053,0.7754241473488053,0.7754241473488053,0.7754241473488053,0.7754241473488053,0.7754241473488053,0.7754241473488053,0.7754241473488053,0.7754241473488053,0.7754241473488053,0.7754241473488053,0.7754241473488053,0.7754241473488053,0.7754241473488053],\"yaxis\":\"y2\"},{\"line\":{\"shape\":\"hv\"},\"mode\":\"lines\",\"name\":\"-2 SD\",\"type\":\"scatter\",\"x\":[2.537987679671458,6.828199863107461,7.488021902806297,7.6358658453114305,9.95482546201232,9.979466119096507,11.077344284736482,11.630390143737166,12.78302532511978,13.598904859685147,14.250513347022586,14.25325119780972,14.255989048596852,14.28062970568104,14.318959616700887,14.373716632443532,14.4476386036961,14.485968514715948,14.510609171800136,14.521560574948666,14.548939082819986,14.570841889117045,14.581793292265573,14.60643394934976,14.67214236824093,14.699520876112253,14.707734428473648,14.743326488706366,14.757015742642023,14.806297056810404,14.809034907597535,14.85284052019165,14.874743326488709,14.8911704312115,14.921286789869953,14.93223819301848,14.978781656399724,15.017111567419576,15.019849418206707,15.047227926078028,15.099247091033538],\"xaxis\":\"x2\",\"y\":[0.9607573703221551,0.9220422869754129,0.8837383180986879,0.8461915687984053,0.8090596845206751,0.772684749895715,0.7369540456660546,0.7019511446257252,0.6680281803854778,0.6345378522740791,0.6345378522740791,0.6345378522740791,0.6345378522740791,0.6345378522740791,0.6345378522740791,0.6345378522740791,0.6345378522740791,0.6345378522740791,0.6345378522740791,0.6345378522740791,0.6345378522740791,0.6345378522740791,0.6345378522740791,0.6345378522740791,0.6345378522740791,0.6345378522740791,0.6345378522740791,0.6345378522740791,0.6345378522740791,0.6345378522740791,0.6345378522740791,0.6345378522740791,0.6345378522740791,0.6345378522740791,0.6345378522740791,0.6345378522740791,0.6345378522740791,0.6345378522740791,0.6345378522740791,0.6345378522740791,0.6345378522740791],\"yaxis\":\"y2\"},{\"line\":{\"shape\":\"hv\"},\"mode\":\"lines\",\"name\":\"2 SD\",\"type\":\"scatter\",\"x\":[2.537987679671458,6.828199863107461,7.488021902806297,7.6358658453114305,9.95482546201232,9.979466119096507,11.077344284736482,11.630390143737166,12.78302532511978,13.598904859685147,14.250513347022586,14.25325119780972,14.255989048596852,14.28062970568104,14.318959616700887,14.373716632443532,14.4476386036961,14.485968514715948,14.510609171800136,14.521560574948666,14.548939082819986,14.570841889117045,14.581793292265573,14.60643394934976,14.67214236824093,14.699520876112253,14.707734428473648,14.743326488706366,14.757015742642023,14.806297056810404,14.809034907597535,14.85284052019165,14.874743326488709,14.8911704312115,14.921286789869953,14.93223819301848,14.978781656399724,15.017111567419576,15.019849418206707,15.047227926078028,15.099247091033538],\"xaxis\":\"x2\",\"y\":[0.9875605432583471,0.9749412261305143,0.9620922309117376,0.9491201750113804,0.9358963092584982,0.9225311210932586,0.9089747173430844,0.8952490319379344,0.8814903104641255,0.8674275715977764,0.8674275715977764,0.8674275715977764,0.8674275715977764,0.8674275715977764,0.8674275715977764,0.8674275715977764,0.8674275715977764,0.8674275715977764,0.8674275715977764,0.8674275715977764,0.8674275715977764,0.8674275715977764,0.8674275715977764,0.8674275715977764,0.8674275715977764,0.8674275715977764,0.8674275715977764,0.8674275715977764,0.8674275715977764,0.8674275715977764,0.8674275715977764,0.8674275715977764,0.8674275715977764,0.8674275715977764,0.8674275715977764,0.8674275715977764,0.8674275715977764,0.8674275715977764,0.8674275715977764,0.8674275715977764,0.8674275715977764],\"yaxis\":\"y2\"}],                        {\"annotations\":[{\"font\":{\"size\":16},\"showarrow\":false,\"text\":\"Estimated hazard ratio\",\"x\":0.135,\"xanchor\":\"center\",\"xref\":\"paper\",\"y\":1.0,\"yanchor\":\"bottom\",\"yref\":\"paper\"},{\"font\":{\"size\":16},\"showarrow\":false,\"text\":\"Survival stratification\",\"x\":0.685,\"xanchor\":\"center\",\"xref\":\"paper\",\"y\":1.0,\"yanchor\":\"bottom\",\"yref\":\"paper\"}],\"legend\":{\"title\":{\"text\":\"Max initial vaf\"}},\"template\":{\"data\":{\"bar\":[{\"error_x\":{\"color\":\"rgb(36,36,36)\"},\"error_y\":{\"color\":\"rgb(36,36,36)\"},\"marker\":{\"line\":{\"color\":\"white\",\"width\":0.5},\"pattern\":{\"fillmode\":\"overlay\",\"size\":10,\"solidity\":0.2}},\"type\":\"bar\"}],\"barpolar\":[{\"marker\":{\"line\":{\"color\":\"white\",\"width\":0.5},\"pattern\":{\"fillmode\":\"overlay\",\"size\":10,\"solidity\":0.2}},\"type\":\"barpolar\"}],\"carpet\":[{\"aaxis\":{\"endlinecolor\":\"rgb(36,36,36)\",\"gridcolor\":\"white\",\"linecolor\":\"white\",\"minorgridcolor\":\"white\",\"startlinecolor\":\"rgb(36,36,36)\"},\"baxis\":{\"endlinecolor\":\"rgb(36,36,36)\",\"gridcolor\":\"white\",\"linecolor\":\"white\",\"minorgridcolor\":\"white\",\"startlinecolor\":\"rgb(36,36,36)\"},\"type\":\"carpet\"}],\"choropleth\":[{\"colorbar\":{\"outlinewidth\":1,\"tickcolor\":\"rgb(36,36,36)\",\"ticks\":\"outside\"},\"type\":\"choropleth\"}],\"contour\":[{\"colorbar\":{\"outlinewidth\":1,\"tickcolor\":\"rgb(36,36,36)\",\"ticks\":\"outside\"},\"colorscale\":[[0.0,\"#440154\"],[0.1111111111111111,\"#482878\"],[0.2222222222222222,\"#3e4989\"],[0.3333333333333333,\"#31688e\"],[0.4444444444444444,\"#26828e\"],[0.5555555555555556,\"#1f9e89\"],[0.6666666666666666,\"#35b779\"],[0.7777777777777778,\"#6ece58\"],[0.8888888888888888,\"#b5de2b\"],[1.0,\"#fde725\"]],\"type\":\"contour\"}],\"contourcarpet\":[{\"colorbar\":{\"outlinewidth\":1,\"tickcolor\":\"rgb(36,36,36)\",\"ticks\":\"outside\"},\"type\":\"contourcarpet\"}],\"heatmap\":[{\"colorbar\":{\"outlinewidth\":1,\"tickcolor\":\"rgb(36,36,36)\",\"ticks\":\"outside\"},\"colorscale\":[[0.0,\"#440154\"],[0.1111111111111111,\"#482878\"],[0.2222222222222222,\"#3e4989\"],[0.3333333333333333,\"#31688e\"],[0.4444444444444444,\"#26828e\"],[0.5555555555555556,\"#1f9e89\"],[0.6666666666666666,\"#35b779\"],[0.7777777777777778,\"#6ece58\"],[0.8888888888888888,\"#b5de2b\"],[1.0,\"#fde725\"]],\"type\":\"heatmap\"}],\"heatmapgl\":[{\"colorbar\":{\"outlinewidth\":1,\"tickcolor\":\"rgb(36,36,36)\",\"ticks\":\"outside\"},\"colorscale\":[[0.0,\"#440154\"],[0.1111111111111111,\"#482878\"],[0.2222222222222222,\"#3e4989\"],[0.3333333333333333,\"#31688e\"],[0.4444444444444444,\"#26828e\"],[0.5555555555555556,\"#1f9e89\"],[0.6666666666666666,\"#35b779\"],[0.7777777777777778,\"#6ece58\"],[0.8888888888888888,\"#b5de2b\"],[1.0,\"#fde725\"]],\"type\":\"heatmapgl\"}],\"histogram\":[{\"marker\":{\"line\":{\"color\":\"white\",\"width\":0.6}},\"type\":\"histogram\"}],\"histogram2d\":[{\"colorbar\":{\"outlinewidth\":1,\"tickcolor\":\"rgb(36,36,36)\",\"ticks\":\"outside\"},\"colorscale\":[[0.0,\"#440154\"],[0.1111111111111111,\"#482878\"],[0.2222222222222222,\"#3e4989\"],[0.3333333333333333,\"#31688e\"],[0.4444444444444444,\"#26828e\"],[0.5555555555555556,\"#1f9e89\"],[0.6666666666666666,\"#35b779\"],[0.7777777777777778,\"#6ece58\"],[0.8888888888888888,\"#b5de2b\"],[1.0,\"#fde725\"]],\"type\":\"histogram2d\"}],\"histogram2dcontour\":[{\"colorbar\":{\"outlinewidth\":1,\"tickcolor\":\"rgb(36,36,36)\",\"ticks\":\"outside\"},\"colorscale\":[[0.0,\"#440154\"],[0.1111111111111111,\"#482878\"],[0.2222222222222222,\"#3e4989\"],[0.3333333333333333,\"#31688e\"],[0.4444444444444444,\"#26828e\"],[0.5555555555555556,\"#1f9e89\"],[0.6666666666666666,\"#35b779\"],[0.7777777777777778,\"#6ece58\"],[0.8888888888888888,\"#b5de2b\"],[1.0,\"#fde725\"]],\"type\":\"histogram2dcontour\"}],\"mesh3d\":[{\"colorbar\":{\"outlinewidth\":1,\"tickcolor\":\"rgb(36,36,36)\",\"ticks\":\"outside\"},\"type\":\"mesh3d\"}],\"parcoords\":[{\"line\":{\"colorbar\":{\"outlinewidth\":1,\"tickcolor\":\"rgb(36,36,36)\",\"ticks\":\"outside\"}},\"type\":\"parcoords\"}],\"pie\":[{\"automargin\":true,\"type\":\"pie\"}],\"scatter\":[{\"marker\":{\"colorbar\":{\"outlinewidth\":1,\"tickcolor\":\"rgb(36,36,36)\",\"ticks\":\"outside\"}},\"type\":\"scatter\"}],\"scatter3d\":[{\"line\":{\"colorbar\":{\"outlinewidth\":1,\"tickcolor\":\"rgb(36,36,36)\",\"ticks\":\"outside\"}},\"marker\":{\"colorbar\":{\"outlinewidth\":1,\"tickcolor\":\"rgb(36,36,36)\",\"ticks\":\"outside\"}},\"type\":\"scatter3d\"}],\"scattercarpet\":[{\"marker\":{\"colorbar\":{\"outlinewidth\":1,\"tickcolor\":\"rgb(36,36,36)\",\"ticks\":\"outside\"}},\"type\":\"scattercarpet\"}],\"scattergeo\":[{\"marker\":{\"colorbar\":{\"outlinewidth\":1,\"tickcolor\":\"rgb(36,36,36)\",\"ticks\":\"outside\"}},\"type\":\"scattergeo\"}],\"scattergl\":[{\"marker\":{\"colorbar\":{\"outlinewidth\":1,\"tickcolor\":\"rgb(36,36,36)\",\"ticks\":\"outside\"}},\"type\":\"scattergl\"}],\"scattermapbox\":[{\"marker\":{\"colorbar\":{\"outlinewidth\":1,\"tickcolor\":\"rgb(36,36,36)\",\"ticks\":\"outside\"}},\"type\":\"scattermapbox\"}],\"scatterpolar\":[{\"marker\":{\"colorbar\":{\"outlinewidth\":1,\"tickcolor\":\"rgb(36,36,36)\",\"ticks\":\"outside\"}},\"type\":\"scatterpolar\"}],\"scatterpolargl\":[{\"marker\":{\"colorbar\":{\"outlinewidth\":1,\"tickcolor\":\"rgb(36,36,36)\",\"ticks\":\"outside\"}},\"type\":\"scatterpolargl\"}],\"scatterternary\":[{\"marker\":{\"colorbar\":{\"outlinewidth\":1,\"tickcolor\":\"rgb(36,36,36)\",\"ticks\":\"outside\"}},\"type\":\"scatterternary\"}],\"surface\":[{\"colorbar\":{\"outlinewidth\":1,\"tickcolor\":\"rgb(36,36,36)\",\"ticks\":\"outside\"},\"colorscale\":[[0.0,\"#440154\"],[0.1111111111111111,\"#482878\"],[0.2222222222222222,\"#3e4989\"],[0.3333333333333333,\"#31688e\"],[0.4444444444444444,\"#26828e\"],[0.5555555555555556,\"#1f9e89\"],[0.6666666666666666,\"#35b779\"],[0.7777777777777778,\"#6ece58\"],[0.8888888888888888,\"#b5de2b\"],[1.0,\"#fde725\"]],\"type\":\"surface\"}],\"table\":[{\"cells\":{\"fill\":{\"color\":\"rgb(237,237,237)\"},\"line\":{\"color\":\"white\"}},\"header\":{\"fill\":{\"color\":\"rgb(217,217,217)\"},\"line\":{\"color\":\"white\"}},\"type\":\"table\"}]},\"layout\":{\"annotationdefaults\":{\"arrowhead\":0,\"arrowwidth\":1},\"autotypenumbers\":\"strict\",\"coloraxis\":{\"colorbar\":{\"outlinewidth\":1,\"tickcolor\":\"rgb(36,36,36)\",\"ticks\":\"outside\"}},\"colorscale\":{\"diverging\":[[0.0,\"rgb(103,0,31)\"],[0.1,\"rgb(178,24,43)\"],[0.2,\"rgb(214,96,77)\"],[0.3,\"rgb(244,165,130)\"],[0.4,\"rgb(253,219,199)\"],[0.5,\"rgb(247,247,247)\"],[0.6,\"rgb(209,229,240)\"],[0.7,\"rgb(146,197,222)\"],[0.8,\"rgb(67,147,195)\"],[0.9,\"rgb(33,102,172)\"],[1.0,\"rgb(5,48,97)\"]],\"sequential\":[[0.0,\"#440154\"],[0.1111111111111111,\"#482878\"],[0.2222222222222222,\"#3e4989\"],[0.3333333333333333,\"#31688e\"],[0.4444444444444444,\"#26828e\"],[0.5555555555555556,\"#1f9e89\"],[0.6666666666666666,\"#35b779\"],[0.7777777777777778,\"#6ece58\"],[0.8888888888888888,\"#b5de2b\"],[1.0,\"#fde725\"]],\"sequentialminus\":[[0.0,\"#440154\"],[0.1111111111111111,\"#482878\"],[0.2222222222222222,\"#3e4989\"],[0.3333333333333333,\"#31688e\"],[0.4444444444444444,\"#26828e\"],[0.5555555555555556,\"#1f9e89\"],[0.6666666666666666,\"#35b779\"],[0.7777777777777778,\"#6ece58\"],[0.8888888888888888,\"#b5de2b\"],[1.0,\"#fde725\"]]},\"colorway\":[\"#1F77B4\",\"#FF7F0E\",\"#2CA02C\",\"#D62728\",\"#9467BD\",\"#8C564B\",\"#E377C2\",\"#7F7F7F\",\"#BCBD22\",\"#17BECF\"],\"font\":{\"color\":\"rgb(36,36,36)\"},\"geo\":{\"bgcolor\":\"white\",\"lakecolor\":\"white\",\"landcolor\":\"white\",\"showlakes\":true,\"showland\":true,\"subunitcolor\":\"white\"},\"hoverlabel\":{\"align\":\"left\"},\"hovermode\":\"closest\",\"mapbox\":{\"style\":\"light\"},\"paper_bgcolor\":\"white\",\"plot_bgcolor\":\"white\",\"polar\":{\"angularaxis\":{\"gridcolor\":\"rgb(232,232,232)\",\"linecolor\":\"rgb(36,36,36)\",\"showgrid\":false,\"showline\":true,\"ticks\":\"outside\"},\"bgcolor\":\"white\",\"radialaxis\":{\"gridcolor\":\"rgb(232,232,232)\",\"linecolor\":\"rgb(36,36,36)\",\"showgrid\":false,\"showline\":true,\"ticks\":\"outside\"}},\"scene\":{\"xaxis\":{\"backgroundcolor\":\"white\",\"gridcolor\":\"rgb(232,232,232)\",\"gridwidth\":2,\"linecolor\":\"rgb(36,36,36)\",\"showbackground\":true,\"showgrid\":false,\"showline\":true,\"ticks\":\"outside\",\"zeroline\":false,\"zerolinecolor\":\"rgb(36,36,36)\"},\"yaxis\":{\"backgroundcolor\":\"white\",\"gridcolor\":\"rgb(232,232,232)\",\"gridwidth\":2,\"linecolor\":\"rgb(36,36,36)\",\"showbackground\":true,\"showgrid\":false,\"showline\":true,\"ticks\":\"outside\",\"zeroline\":false,\"zerolinecolor\":\"rgb(36,36,36)\"},\"zaxis\":{\"backgroundcolor\":\"white\",\"gridcolor\":\"rgb(232,232,232)\",\"gridwidth\":2,\"linecolor\":\"rgb(36,36,36)\",\"showbackground\":true,\"showgrid\":false,\"showline\":true,\"ticks\":\"outside\",\"zeroline\":false,\"zerolinecolor\":\"rgb(36,36,36)\"}},\"shapedefaults\":{\"fillcolor\":\"black\",\"line\":{\"width\":0},\"opacity\":0.3},\"ternary\":{\"aaxis\":{\"gridcolor\":\"rgb(232,232,232)\",\"linecolor\":\"rgb(36,36,36)\",\"showgrid\":false,\"showline\":true,\"ticks\":\"outside\"},\"baxis\":{\"gridcolor\":\"rgb(232,232,232)\",\"linecolor\":\"rgb(36,36,36)\",\"showgrid\":false,\"showline\":true,\"ticks\":\"outside\"},\"bgcolor\":\"white\",\"caxis\":{\"gridcolor\":\"rgb(232,232,232)\",\"linecolor\":\"rgb(36,36,36)\",\"showgrid\":false,\"showline\":true,\"ticks\":\"outside\"}},\"title\":{\"x\":0.05},\"xaxis\":{\"automargin\":true,\"gridcolor\":\"rgb(232,232,232)\",\"linecolor\":\"rgb(36,36,36)\",\"showgrid\":false,\"showline\":true,\"ticks\":\"outside\",\"title\":{\"standoff\":15},\"zeroline\":false,\"zerolinecolor\":\"rgb(36,36,36)\"},\"yaxis\":{\"automargin\":true,\"gridcolor\":\"rgb(232,232,232)\",\"linecolor\":\"rgb(36,36,36)\",\"showgrid\":false,\"showline\":true,\"ticks\":\"outside\",\"title\":{\"standoff\":15},\"zeroline\":false,\"zerolinecolor\":\"rgb(36,36,36)\"}}},\"title\":{\"text\":\"Effect of Max initial vaf on survival\"},\"xaxis\":{\"anchor\":\"y\",\"domain\":[0.0,0.27],\"showticklabels\":false,\"tickvals\":[0],\"title\":{\"text\":\"Max initial vaf\"}},\"xaxis2\":{\"anchor\":\"y2\",\"domain\":[0.37,1.0],\"title\":{\"text\":\"Years\"}},\"yaxis\":{\"anchor\":\"x\",\"domain\":[0.0,1.0],\"dtick\":1,\"range\":[0.0,2.0],\"title\":{\"text\":\"Hazard Ratio (95% CI)\"}},\"yaxis2\":{\"anchor\":\"x2\",\"domain\":[0.0,1.0],\"dtick\":0.2,\"title\":{\"text\":\"Survivors (proportion)\"}}},                        {\"responsive\": true}                    ).then(function(){\n",
       "                            \n",
       "var gd = document.getElementById('7f5ef12b-1bae-439f-a465-b1b88d408dc6');\n",
       "var x = new MutationObserver(function (mutations, observer) {{\n",
       "        var display = window.getComputedStyle(gd).display;\n",
       "        if (!display || display === 'none') {{\n",
       "            console.log([gd, 'removed!']);\n",
       "            Plotly.purge(gd);\n",
       "            observer.disconnect();\n",
       "        }}\n",
       "}});\n",
       "\n",
       "// Listen for the removal of the full notebook cells\n",
       "var notebookContainer = gd.closest('#notebook-container');\n",
       "if (notebookContainer) {{\n",
       "    x.observe(notebookContainer, {childList: true});\n",
       "}}\n",
       "\n",
       "// Listen for the clearing of the current output cell\n",
       "var outputEl = gd.closest('.output');\n",
       "if (outputEl) {{\n",
       "    x.observe(outputEl, {childList: true});\n",
       "}}\n",
       "\n",
       "                        })                };                });            </script>        </div>"
      ]
     },
     "metadata": {},
     "output_type": "display_data"
    }
   ],
   "source": [
    "cohort = [36]\n",
    "survival_columns = ['Max initial vaf']\n",
    "\n",
    "cph = survival_analysis(survival_columns, cohort)\n",
    "fig = plot_hr_analysis(cph, covariate=survival_columns[0])\n",
    "fig.show()"
   ]
  },
  {
   "cell_type": "markdown",
   "metadata": {},
   "source": [
    "# Max gradient\n",
    "## LBC21"
   ]
  },
  {
   "cell_type": "code",
   "execution_count": 16,
   "metadata": {},
   "outputs": [
    {
     "data": {
      "text/html": [
       "<div>\n",
       "<style scoped>\n",
       "    .dataframe tbody tr th:only-of-type {\n",
       "        vertical-align: middle;\n",
       "    }\n",
       "\n",
       "    .dataframe tbody tr th {\n",
       "        vertical-align: top;\n",
       "    }\n",
       "\n",
       "    .dataframe thead th {\n",
       "        text-align: right;\n",
       "    }\n",
       "</style>\n",
       "<table border=\"1\" class=\"dataframe\">\n",
       "  <tbody>\n",
       "    <tr>\n",
       "      <th>model</th>\n",
       "      <td>lifelines.CoxPHFitter</td>\n",
       "    </tr>\n",
       "    <tr>\n",
       "      <th>duration col</th>\n",
       "      <td>'days_from_wave1'</td>\n",
       "    </tr>\n",
       "    <tr>\n",
       "      <th>event col</th>\n",
       "      <td>'dead'</td>\n",
       "    </tr>\n",
       "    <tr>\n",
       "      <th>baseline estimation</th>\n",
       "      <td>breslow</td>\n",
       "    </tr>\n",
       "    <tr>\n",
       "      <th>number of observations</th>\n",
       "      <td>42</td>\n",
       "    </tr>\n",
       "    <tr>\n",
       "      <th>number of events observed</th>\n",
       "      <td>35</td>\n",
       "    </tr>\n",
       "    <tr>\n",
       "      <th>partial log-likelihood</th>\n",
       "      <td>-107.87</td>\n",
       "    </tr>\n",
       "    <tr>\n",
       "      <th>time fit was run</th>\n",
       "      <td>2021-09-03 11:42:57 UTC</td>\n",
       "    </tr>\n",
       "  </tbody>\n",
       "</table>\n",
       "</div><table border=\"1\" class=\"dataframe\">\n",
       "  <thead>\n",
       "    <tr style=\"text-align: right;\">\n",
       "      <th style=\"min-width: 12px;\"></th>\n",
       "      <th style=\"min-width: 12px;\">coef</th>\n",
       "      <th style=\"min-width: 12px;\">exp(coef)</th>\n",
       "      <th style=\"min-width: 12px;\">se(coef)</th>\n",
       "      <th style=\"min-width: 12px;\">coef lower 95%</th>\n",
       "      <th style=\"min-width: 12px;\">coef upper 95%</th>\n",
       "      <th style=\"min-width: 12px;\">exp(coef) lower 95%</th>\n",
       "      <th style=\"min-width: 12px;\">exp(coef) upper 95%</th>\n",
       "      <th style=\"min-width: 12px;\">z</th>\n",
       "      <th style=\"min-width: 12px;\">p</th>\n",
       "      <th style=\"min-width: 12px;\">-log2(p)</th>\n",
       "    </tr>\n",
       "  </thead>\n",
       "  <tbody>\n",
       "    <tr>\n",
       "      <th>Gradient</th>\n",
       "      <td>0.36</td>\n",
       "      <td>1.43</td>\n",
       "      <td>0.17</td>\n",
       "      <td>0.02</td>\n",
       "      <td>0.69</td>\n",
       "      <td>1.02</td>\n",
       "      <td>1.99</td>\n",
       "      <td>2.08</td>\n",
       "      <td>0.04</td>\n",
       "      <td>4.74</td>\n",
       "    </tr>\n",
       "  </tbody>\n",
       "</table><br><div>\n",
       "<style scoped>\n",
       "    .dataframe tbody tr th:only-of-type {\n",
       "        vertical-align: middle;\n",
       "    }\n",
       "\n",
       "    .dataframe tbody tr th {\n",
       "        vertical-align: top;\n",
       "    }\n",
       "\n",
       "    .dataframe thead th {\n",
       "        text-align: right;\n",
       "    }\n",
       "</style>\n",
       "<table border=\"1\" class=\"dataframe\">\n",
       "  <tbody>\n",
       "    <tr>\n",
       "      <th>Concordance</th>\n",
       "      <td>0.51</td>\n",
       "    </tr>\n",
       "    <tr>\n",
       "      <th>Partial AIC</th>\n",
       "      <td>217.73</td>\n",
       "    </tr>\n",
       "    <tr>\n",
       "      <th>log-likelihood ratio test</th>\n",
       "      <td>2.76 on 1 df</td>\n",
       "    </tr>\n",
       "    <tr>\n",
       "      <th>-log2(p) of ll-ratio test</th>\n",
       "      <td>3.37</td>\n",
       "    </tr>\n",
       "  </tbody>\n",
       "</table>\n",
       "</div>"
      ],
      "text/latex": [
       "\\begin{tabular}{lrrrrrrrrrr}\n",
       "\\toprule\n",
       "{} &  coef &  exp(coef) &  se(coef) &  coef lower 95\\% &  coef upper 95\\% &  exp(coef) lower 95\\% &  exp(coef) upper 95\\% &    z &    p &  -log2(p) \\\\\n",
       "covariate &       &            &           &                 &                 &                      &                      &      &      &           \\\\\n",
       "\\midrule\n",
       "Gradient  &  0.36 &       1.43 &      0.17 &            0.02 &            0.69 &                 1.02 &                 1.99 & 2.08 & 0.04 &      4.74 \\\\\n",
       "\\bottomrule\n",
       "\\end{tabular}\n"
      ],
      "text/plain": [
       "<lifelines.CoxPHFitter: fitted with 42 total observations, 7 right-censored observations>\n",
       "             duration col = 'days_from_wave1'\n",
       "                event col = 'dead'\n",
       "      baseline estimation = breslow\n",
       "   number of observations = 42\n",
       "number of events observed = 35\n",
       "   partial log-likelihood = -107.87\n",
       "         time fit was run = 2021-09-03 11:42:57 UTC\n",
       "\n",
       "---\n",
       "            coef  exp(coef)   se(coef)   coef lower 95%   coef upper 95%  exp(coef) lower 95%  exp(coef) upper 95%\n",
       "covariate                                                                                                         \n",
       "Gradient    0.36       1.43       0.17             0.02             0.69                 1.02                 1.99\n",
       "\n",
       "             z    p   -log2(p)\n",
       "covariate                     \n",
       "Gradient  2.08 0.04       4.74\n",
       "---\n",
       "Concordance = 0.51\n",
       "Partial AIC = 217.73\n",
       "log-likelihood ratio test = 2.76 on 1 df\n",
       "-log2(p) of ll-ratio test = 3.37"
      ]
     },
     "metadata": {},
     "output_type": "display_data"
    },
    {
     "data": {
      "application/vnd.plotly.v1+json": {
       "config": {
        "plotlyServerURL": "https://plot.ly"
       },
       "data": [
        {
         "error_y": {
          "array": [
           0.5668076457589646
          ],
          "arrayminus": [
           0.4056509664624848
          ],
          "symmetric": false,
          "type": "data"
         },
         "marker": {
          "size": 15,
          "symbol": "diamond"
         },
         "showlegend": false,
         "type": "scatter",
         "x": [
          "Gradient"
         ],
         "xaxis": "x",
         "y": [
          1.4267237963960226
         ],
         "yaxis": "y"
        },
        {
         "line": {
          "dash": "dash",
          "shape": "hv"
         },
         "mode": "lines",
         "name": "Mean",
         "type": "scatter",
         "x": [
          7.383983572895278,
          7.477070499657769,
          8.720054757015742,
          9.45927446954141,
          9.908281998631075,
          10.13826146475017,
          11.638603696098563,
          11.739904175222453,
          12.328542094455852,
          13.478439425051334,
          13.505817932922657,
          13.557837097878163,
          13.765913757700206,
          14.277891854893909,
          14.379192334017796,
          14.41204654346338,
          14.704996577686517,
          14.76249144421629,
          15.033538672142368,
          15.107460643394935,
          15.200547570157427,
          15.214236824093089,
          15.364818617385351,
          15.88227241615332,
          16.449007529089666,
          16.824093086926762,
          17.295003422313485,
          17.541409993155373,
          17.675564681724847,
          17.697467488021903,
          18.023271731690624,
          18.2943189596167,
          18.78986995208761,
          18.833675564681723,
          18.86652977412731,
          20.459958932238195,
          20.52840520191649,
          20.594113620807665,
          20.933607118412045,
          21.00205338809035,
          21.062286105407257,
          21.111567419575632
         ],
         "xaxis": "x2",
         "y": [
          0.9794591741408942,
          0.9588656229752505,
          0.9382651151952517,
          0.9176463789291398,
          0.8970758682845412,
          0.8717280010617822,
          0.8464531829183557,
          0.8212636866240371,
          0.7961371235459347,
          0.7708429731364094,
          0.7456267280916482,
          0.7204764439939194,
          0.6952159258636328,
          0.6700459658178897,
          0.6449608338375746,
          0.6199690216062047,
          0.5950687135835314,
          0.570247421099532,
          0.545524954819846,
          0.5209063168682102,
          0.4963993678444962,
          0.47189579650760777,
          0.4475105968154824,
          0.42326075195331275,
          0.3990277278561355,
          0.37492124952595524,
          0.35096068359032473,
          0.3271511033194089,
          0.3032993276736225,
          0.2796283020794746,
          0.25615259692063197,
          0.23270458652457623,
          0.20946366557828094,
          0.18635424801952247,
          0.1634865923713651,
          0.1634865923713651,
          0.1634865923713651,
          0.1634865923713651,
          0.1634865923713651,
          0.1634865923713651,
          0.1634865923713651,
          0.1634865923713651
         ],
         "yaxis": "y2"
        },
        {
         "line": {
          "shape": "hv"
         },
         "mode": "lines",
         "name": "-2 SD",
         "type": "scatter",
         "x": [
          7.383983572895278,
          7.477070499657769,
          8.720054757015742,
          9.45927446954141,
          9.908281998631075,
          10.13826146475017,
          11.638603696098563,
          11.739904175222453,
          12.328542094455852,
          13.478439425051334,
          13.505817932922657,
          13.557837097878163,
          13.765913757700206,
          14.277891854893909,
          14.379192334017796,
          14.41204654346338,
          14.704996577686517,
          14.76249144421629,
          15.033538672142368,
          15.107460643394935,
          15.200547570157427,
          15.214236824093089,
          15.364818617385351,
          15.88227241615332,
          16.449007529089666,
          16.824093086926762,
          17.295003422313485,
          17.541409993155373,
          17.675564681724847,
          17.697467488021903,
          18.023271731690624,
          18.2943189596167,
          18.78986995208761,
          18.833675564681723,
          18.86652977412731,
          20.459958932238195,
          20.52840520191649,
          20.594113620807665,
          20.933607118412045,
          21.00205338809035,
          21.062286105407257,
          21.111567419575632
         ],
         "xaxis": "x2",
         "y": [
          0.9898556333493638,
          0.9795759867263292,
          0.9691798678168325,
          0.9586576097925386,
          0.9480394098342234,
          0.9347833659444303,
          0.9213688003084085,
          0.9077952000687752,
          0.8940428196814554,
          0.8799738233604335,
          0.8657123820556417,
          0.8512416816912804,
          0.8364464854696524,
          0.8214297274737237,
          0.8061752421281363,
          0.7906742901928785,
          0.774910599777171,
          0.7588592757393942,
          0.7425144937953126,
          0.7258594207714592,
          0.7088772225351296,
          0.6914653113889725,
          0.6736745953343489,
          0.655486474236511,
          0.6367732414842303,
          0.6175747869884338,
          0.597859528166045,
          0.5775777716913717,
          0.5564921183423056,
          0.5347144782037713,
          0.5121689235070097,
          0.48857394527704245,
          0.4639606115914425,
          0.4380660846422255,
          0.4107782305870308,
          0.4107782305870308,
          0.4107782305870308,
          0.4107782305870308,
          0.4107782305870308,
          0.4107782305870308,
          0.4107782305870308,
          0.4107782305870308
         ],
         "yaxis": "y2"
        },
        {
         "line": {
          "shape": "hv"
         },
         "mode": "lines",
         "name": "2 SD",
         "type": "scatter",
         "x": [
          7.383983572895278,
          7.477070499657769,
          8.720054757015742,
          9.45927446954141,
          9.908281998631075,
          10.13826146475017,
          11.638603696098563,
          11.739904175222453,
          12.328542094455852,
          13.478439425051334,
          13.505817932922657,
          13.557837097878163,
          13.765913757700206,
          14.277891854893909,
          14.379192334017796,
          14.41204654346338,
          14.704996577686517,
          14.76249144421629,
          15.033538672142368,
          15.107460643394935,
          15.200547570157427,
          15.214236824093089,
          15.364818617385351,
          15.88227241615332,
          16.449007529089666,
          16.824093086926762,
          17.295003422313485,
          17.541409993155373,
          17.675564681724847,
          17.697467488021903,
          18.023271731690624,
          18.2943189596167,
          18.78986995208761,
          18.833675564681723,
          18.86652977412731,
          20.459958932238195,
          20.52840520191649,
          20.594113620807665,
          20.933607118412045,
          21.00205338809035,
          21.062286105407257,
          21.111567419575632
         ],
         "xaxis": "x2",
         "y": [
          0.9586328876809217,
          0.9180517299670866,
          0.8783499236027494,
          0.8395066931552445,
          0.8016445784875993,
          0.7562111666035675,
          0.712250620244568,
          0.6697702996416353,
          0.6287192844324291,
          0.5887277607179723,
          0.5501894357551864,
          0.5130731250570655,
          0.4771206728471469,
          0.44261773688758216,
          0.40954096460495953,
          0.37788586208352815,
          0.3476339408179909,
          0.31875496452680746,
          0.2912563666150586,
          0.26512620840253814,
          0.24035437982732158,
          0.21682055425616004,
          0.19462378802432556,
          0.173758216885577,
          0.154108106388321,
          0.13574930162615437,
          0.11867385787756145,
          0.10286095506191809,
          0.08817149336412802,
          0.07472971166964028,
          0.06251368562913857,
          0.05141686971163611,
          0.041503914976189306,
          0.03271492097338365,
          0.025061716705083916,
          0.025061716705083916,
          0.025061716705083916,
          0.025061716705083916,
          0.025061716705083916,
          0.025061716705083916,
          0.025061716705083916,
          0.025061716705083916
         ],
         "yaxis": "y2"
        }
       ],
       "layout": {
        "annotations": [
         {
          "font": {
           "size": 16
          },
          "showarrow": false,
          "text": "Estimated hazard ratio",
          "x": 0.135,
          "xanchor": "center",
          "xref": "paper",
          "y": 1,
          "yanchor": "bottom",
          "yref": "paper"
         },
         {
          "font": {
           "size": 16
          },
          "showarrow": false,
          "text": "Survival stratification",
          "x": 0.685,
          "xanchor": "center",
          "xref": "paper",
          "y": 1,
          "yanchor": "bottom",
          "yref": "paper"
         }
        ],
        "legend": {
         "title": {
          "text": "Gradient"
         }
        },
        "template": {
         "data": {
          "bar": [
           {
            "error_x": {
             "color": "rgb(36,36,36)"
            },
            "error_y": {
             "color": "rgb(36,36,36)"
            },
            "marker": {
             "line": {
              "color": "white",
              "width": 0.5
             },
             "pattern": {
              "fillmode": "overlay",
              "size": 10,
              "solidity": 0.2
             }
            },
            "type": "bar"
           }
          ],
          "barpolar": [
           {
            "marker": {
             "line": {
              "color": "white",
              "width": 0.5
             },
             "pattern": {
              "fillmode": "overlay",
              "size": 10,
              "solidity": 0.2
             }
            },
            "type": "barpolar"
           }
          ],
          "carpet": [
           {
            "aaxis": {
             "endlinecolor": "rgb(36,36,36)",
             "gridcolor": "white",
             "linecolor": "white",
             "minorgridcolor": "white",
             "startlinecolor": "rgb(36,36,36)"
            },
            "baxis": {
             "endlinecolor": "rgb(36,36,36)",
             "gridcolor": "white",
             "linecolor": "white",
             "minorgridcolor": "white",
             "startlinecolor": "rgb(36,36,36)"
            },
            "type": "carpet"
           }
          ],
          "choropleth": [
           {
            "colorbar": {
             "outlinewidth": 1,
             "tickcolor": "rgb(36,36,36)",
             "ticks": "outside"
            },
            "type": "choropleth"
           }
          ],
          "contour": [
           {
            "colorbar": {
             "outlinewidth": 1,
             "tickcolor": "rgb(36,36,36)",
             "ticks": "outside"
            },
            "colorscale": [
             [
              0,
              "#440154"
             ],
             [
              0.1111111111111111,
              "#482878"
             ],
             [
              0.2222222222222222,
              "#3e4989"
             ],
             [
              0.3333333333333333,
              "#31688e"
             ],
             [
              0.4444444444444444,
              "#26828e"
             ],
             [
              0.5555555555555556,
              "#1f9e89"
             ],
             [
              0.6666666666666666,
              "#35b779"
             ],
             [
              0.7777777777777778,
              "#6ece58"
             ],
             [
              0.8888888888888888,
              "#b5de2b"
             ],
             [
              1,
              "#fde725"
             ]
            ],
            "type": "contour"
           }
          ],
          "contourcarpet": [
           {
            "colorbar": {
             "outlinewidth": 1,
             "tickcolor": "rgb(36,36,36)",
             "ticks": "outside"
            },
            "type": "contourcarpet"
           }
          ],
          "heatmap": [
           {
            "colorbar": {
             "outlinewidth": 1,
             "tickcolor": "rgb(36,36,36)",
             "ticks": "outside"
            },
            "colorscale": [
             [
              0,
              "#440154"
             ],
             [
              0.1111111111111111,
              "#482878"
             ],
             [
              0.2222222222222222,
              "#3e4989"
             ],
             [
              0.3333333333333333,
              "#31688e"
             ],
             [
              0.4444444444444444,
              "#26828e"
             ],
             [
              0.5555555555555556,
              "#1f9e89"
             ],
             [
              0.6666666666666666,
              "#35b779"
             ],
             [
              0.7777777777777778,
              "#6ece58"
             ],
             [
              0.8888888888888888,
              "#b5de2b"
             ],
             [
              1,
              "#fde725"
             ]
            ],
            "type": "heatmap"
           }
          ],
          "heatmapgl": [
           {
            "colorbar": {
             "outlinewidth": 1,
             "tickcolor": "rgb(36,36,36)",
             "ticks": "outside"
            },
            "colorscale": [
             [
              0,
              "#440154"
             ],
             [
              0.1111111111111111,
              "#482878"
             ],
             [
              0.2222222222222222,
              "#3e4989"
             ],
             [
              0.3333333333333333,
              "#31688e"
             ],
             [
              0.4444444444444444,
              "#26828e"
             ],
             [
              0.5555555555555556,
              "#1f9e89"
             ],
             [
              0.6666666666666666,
              "#35b779"
             ],
             [
              0.7777777777777778,
              "#6ece58"
             ],
             [
              0.8888888888888888,
              "#b5de2b"
             ],
             [
              1,
              "#fde725"
             ]
            ],
            "type": "heatmapgl"
           }
          ],
          "histogram": [
           {
            "marker": {
             "line": {
              "color": "white",
              "width": 0.6
             }
            },
            "type": "histogram"
           }
          ],
          "histogram2d": [
           {
            "colorbar": {
             "outlinewidth": 1,
             "tickcolor": "rgb(36,36,36)",
             "ticks": "outside"
            },
            "colorscale": [
             [
              0,
              "#440154"
             ],
             [
              0.1111111111111111,
              "#482878"
             ],
             [
              0.2222222222222222,
              "#3e4989"
             ],
             [
              0.3333333333333333,
              "#31688e"
             ],
             [
              0.4444444444444444,
              "#26828e"
             ],
             [
              0.5555555555555556,
              "#1f9e89"
             ],
             [
              0.6666666666666666,
              "#35b779"
             ],
             [
              0.7777777777777778,
              "#6ece58"
             ],
             [
              0.8888888888888888,
              "#b5de2b"
             ],
             [
              1,
              "#fde725"
             ]
            ],
            "type": "histogram2d"
           }
          ],
          "histogram2dcontour": [
           {
            "colorbar": {
             "outlinewidth": 1,
             "tickcolor": "rgb(36,36,36)",
             "ticks": "outside"
            },
            "colorscale": [
             [
              0,
              "#440154"
             ],
             [
              0.1111111111111111,
              "#482878"
             ],
             [
              0.2222222222222222,
              "#3e4989"
             ],
             [
              0.3333333333333333,
              "#31688e"
             ],
             [
              0.4444444444444444,
              "#26828e"
             ],
             [
              0.5555555555555556,
              "#1f9e89"
             ],
             [
              0.6666666666666666,
              "#35b779"
             ],
             [
              0.7777777777777778,
              "#6ece58"
             ],
             [
              0.8888888888888888,
              "#b5de2b"
             ],
             [
              1,
              "#fde725"
             ]
            ],
            "type": "histogram2dcontour"
           }
          ],
          "mesh3d": [
           {
            "colorbar": {
             "outlinewidth": 1,
             "tickcolor": "rgb(36,36,36)",
             "ticks": "outside"
            },
            "type": "mesh3d"
           }
          ],
          "parcoords": [
           {
            "line": {
             "colorbar": {
              "outlinewidth": 1,
              "tickcolor": "rgb(36,36,36)",
              "ticks": "outside"
             }
            },
            "type": "parcoords"
           }
          ],
          "pie": [
           {
            "automargin": true,
            "type": "pie"
           }
          ],
          "scatter": [
           {
            "marker": {
             "colorbar": {
              "outlinewidth": 1,
              "tickcolor": "rgb(36,36,36)",
              "ticks": "outside"
             }
            },
            "type": "scatter"
           }
          ],
          "scatter3d": [
           {
            "line": {
             "colorbar": {
              "outlinewidth": 1,
              "tickcolor": "rgb(36,36,36)",
              "ticks": "outside"
             }
            },
            "marker": {
             "colorbar": {
              "outlinewidth": 1,
              "tickcolor": "rgb(36,36,36)",
              "ticks": "outside"
             }
            },
            "type": "scatter3d"
           }
          ],
          "scattercarpet": [
           {
            "marker": {
             "colorbar": {
              "outlinewidth": 1,
              "tickcolor": "rgb(36,36,36)",
              "ticks": "outside"
             }
            },
            "type": "scattercarpet"
           }
          ],
          "scattergeo": [
           {
            "marker": {
             "colorbar": {
              "outlinewidth": 1,
              "tickcolor": "rgb(36,36,36)",
              "ticks": "outside"
             }
            },
            "type": "scattergeo"
           }
          ],
          "scattergl": [
           {
            "marker": {
             "colorbar": {
              "outlinewidth": 1,
              "tickcolor": "rgb(36,36,36)",
              "ticks": "outside"
             }
            },
            "type": "scattergl"
           }
          ],
          "scattermapbox": [
           {
            "marker": {
             "colorbar": {
              "outlinewidth": 1,
              "tickcolor": "rgb(36,36,36)",
              "ticks": "outside"
             }
            },
            "type": "scattermapbox"
           }
          ],
          "scatterpolar": [
           {
            "marker": {
             "colorbar": {
              "outlinewidth": 1,
              "tickcolor": "rgb(36,36,36)",
              "ticks": "outside"
             }
            },
            "type": "scatterpolar"
           }
          ],
          "scatterpolargl": [
           {
            "marker": {
             "colorbar": {
              "outlinewidth": 1,
              "tickcolor": "rgb(36,36,36)",
              "ticks": "outside"
             }
            },
            "type": "scatterpolargl"
           }
          ],
          "scatterternary": [
           {
            "marker": {
             "colorbar": {
              "outlinewidth": 1,
              "tickcolor": "rgb(36,36,36)",
              "ticks": "outside"
             }
            },
            "type": "scatterternary"
           }
          ],
          "surface": [
           {
            "colorbar": {
             "outlinewidth": 1,
             "tickcolor": "rgb(36,36,36)",
             "ticks": "outside"
            },
            "colorscale": [
             [
              0,
              "#440154"
             ],
             [
              0.1111111111111111,
              "#482878"
             ],
             [
              0.2222222222222222,
              "#3e4989"
             ],
             [
              0.3333333333333333,
              "#31688e"
             ],
             [
              0.4444444444444444,
              "#26828e"
             ],
             [
              0.5555555555555556,
              "#1f9e89"
             ],
             [
              0.6666666666666666,
              "#35b779"
             ],
             [
              0.7777777777777778,
              "#6ece58"
             ],
             [
              0.8888888888888888,
              "#b5de2b"
             ],
             [
              1,
              "#fde725"
             ]
            ],
            "type": "surface"
           }
          ],
          "table": [
           {
            "cells": {
             "fill": {
              "color": "rgb(237,237,237)"
             },
             "line": {
              "color": "white"
             }
            },
            "header": {
             "fill": {
              "color": "rgb(217,217,217)"
             },
             "line": {
              "color": "white"
             }
            },
            "type": "table"
           }
          ]
         },
         "layout": {
          "annotationdefaults": {
           "arrowhead": 0,
           "arrowwidth": 1
          },
          "autotypenumbers": "strict",
          "coloraxis": {
           "colorbar": {
            "outlinewidth": 1,
            "tickcolor": "rgb(36,36,36)",
            "ticks": "outside"
           }
          },
          "colorscale": {
           "diverging": [
            [
             0,
             "rgb(103,0,31)"
            ],
            [
             0.1,
             "rgb(178,24,43)"
            ],
            [
             0.2,
             "rgb(214,96,77)"
            ],
            [
             0.3,
             "rgb(244,165,130)"
            ],
            [
             0.4,
             "rgb(253,219,199)"
            ],
            [
             0.5,
             "rgb(247,247,247)"
            ],
            [
             0.6,
             "rgb(209,229,240)"
            ],
            [
             0.7,
             "rgb(146,197,222)"
            ],
            [
             0.8,
             "rgb(67,147,195)"
            ],
            [
             0.9,
             "rgb(33,102,172)"
            ],
            [
             1,
             "rgb(5,48,97)"
            ]
           ],
           "sequential": [
            [
             0,
             "#440154"
            ],
            [
             0.1111111111111111,
             "#482878"
            ],
            [
             0.2222222222222222,
             "#3e4989"
            ],
            [
             0.3333333333333333,
             "#31688e"
            ],
            [
             0.4444444444444444,
             "#26828e"
            ],
            [
             0.5555555555555556,
             "#1f9e89"
            ],
            [
             0.6666666666666666,
             "#35b779"
            ],
            [
             0.7777777777777778,
             "#6ece58"
            ],
            [
             0.8888888888888888,
             "#b5de2b"
            ],
            [
             1,
             "#fde725"
            ]
           ],
           "sequentialminus": [
            [
             0,
             "#440154"
            ],
            [
             0.1111111111111111,
             "#482878"
            ],
            [
             0.2222222222222222,
             "#3e4989"
            ],
            [
             0.3333333333333333,
             "#31688e"
            ],
            [
             0.4444444444444444,
             "#26828e"
            ],
            [
             0.5555555555555556,
             "#1f9e89"
            ],
            [
             0.6666666666666666,
             "#35b779"
            ],
            [
             0.7777777777777778,
             "#6ece58"
            ],
            [
             0.8888888888888888,
             "#b5de2b"
            ],
            [
             1,
             "#fde725"
            ]
           ]
          },
          "colorway": [
           "#1F77B4",
           "#FF7F0E",
           "#2CA02C",
           "#D62728",
           "#9467BD",
           "#8C564B",
           "#E377C2",
           "#7F7F7F",
           "#BCBD22",
           "#17BECF"
          ],
          "font": {
           "color": "rgb(36,36,36)"
          },
          "geo": {
           "bgcolor": "white",
           "lakecolor": "white",
           "landcolor": "white",
           "showlakes": true,
           "showland": true,
           "subunitcolor": "white"
          },
          "hoverlabel": {
           "align": "left"
          },
          "hovermode": "closest",
          "mapbox": {
           "style": "light"
          },
          "paper_bgcolor": "white",
          "plot_bgcolor": "white",
          "polar": {
           "angularaxis": {
            "gridcolor": "rgb(232,232,232)",
            "linecolor": "rgb(36,36,36)",
            "showgrid": false,
            "showline": true,
            "ticks": "outside"
           },
           "bgcolor": "white",
           "radialaxis": {
            "gridcolor": "rgb(232,232,232)",
            "linecolor": "rgb(36,36,36)",
            "showgrid": false,
            "showline": true,
            "ticks": "outside"
           }
          },
          "scene": {
           "xaxis": {
            "backgroundcolor": "white",
            "gridcolor": "rgb(232,232,232)",
            "gridwidth": 2,
            "linecolor": "rgb(36,36,36)",
            "showbackground": true,
            "showgrid": false,
            "showline": true,
            "ticks": "outside",
            "zeroline": false,
            "zerolinecolor": "rgb(36,36,36)"
           },
           "yaxis": {
            "backgroundcolor": "white",
            "gridcolor": "rgb(232,232,232)",
            "gridwidth": 2,
            "linecolor": "rgb(36,36,36)",
            "showbackground": true,
            "showgrid": false,
            "showline": true,
            "ticks": "outside",
            "zeroline": false,
            "zerolinecolor": "rgb(36,36,36)"
           },
           "zaxis": {
            "backgroundcolor": "white",
            "gridcolor": "rgb(232,232,232)",
            "gridwidth": 2,
            "linecolor": "rgb(36,36,36)",
            "showbackground": true,
            "showgrid": false,
            "showline": true,
            "ticks": "outside",
            "zeroline": false,
            "zerolinecolor": "rgb(36,36,36)"
           }
          },
          "shapedefaults": {
           "fillcolor": "black",
           "line": {
            "width": 0
           },
           "opacity": 0.3
          },
          "ternary": {
           "aaxis": {
            "gridcolor": "rgb(232,232,232)",
            "linecolor": "rgb(36,36,36)",
            "showgrid": false,
            "showline": true,
            "ticks": "outside"
           },
           "baxis": {
            "gridcolor": "rgb(232,232,232)",
            "linecolor": "rgb(36,36,36)",
            "showgrid": false,
            "showline": true,
            "ticks": "outside"
           },
           "bgcolor": "white",
           "caxis": {
            "gridcolor": "rgb(232,232,232)",
            "linecolor": "rgb(36,36,36)",
            "showgrid": false,
            "showline": true,
            "ticks": "outside"
           }
          },
          "title": {
           "x": 0.05
          },
          "xaxis": {
           "automargin": true,
           "gridcolor": "rgb(232,232,232)",
           "linecolor": "rgb(36,36,36)",
           "showgrid": false,
           "showline": true,
           "ticks": "outside",
           "title": {
            "standoff": 15
           },
           "zeroline": false,
           "zerolinecolor": "rgb(36,36,36)"
          },
          "yaxis": {
           "automargin": true,
           "gridcolor": "rgb(232,232,232)",
           "linecolor": "rgb(36,36,36)",
           "showgrid": false,
           "showline": true,
           "ticks": "outside",
           "title": {
            "standoff": 15
           },
           "zeroline": false,
           "zerolinecolor": "rgb(36,36,36)"
          }
         }
        },
        "title": {
         "text": "Effect of Gradient on survival"
        },
        "xaxis": {
         "anchor": "y",
         "domain": [
          0,
          0.27
         ],
         "showticklabels": false,
         "tickvals": [
          0
         ],
         "title": {
          "text": "Gradient"
         }
        },
        "xaxis2": {
         "anchor": "y2",
         "domain": [
          0.37,
          1
         ],
         "title": {
          "text": "Years"
         }
        },
        "yaxis": {
         "anchor": "x",
         "domain": [
          0,
          1
         ],
         "dtick": 1,
         "range": [
          1,
          2
         ],
         "title": {
          "text": "Hazard Ratio (95% CI)"
         }
        },
        "yaxis2": {
         "anchor": "x2",
         "domain": [
          0,
          1
         ],
         "dtick": 0.2,
         "title": {
          "text": "Survivors (proportion)"
         }
        }
       }
      },
      "text/html": [
       "<div>                            <div id=\"291ab7a8-f286-48c6-9cc5-1072a5548ead\" class=\"plotly-graph-div\" style=\"height:525px; width:100%;\"></div>            <script type=\"text/javascript\">                require([\"plotly\"], function(Plotly) {                    window.PLOTLYENV=window.PLOTLYENV || {};                                    if (document.getElementById(\"291ab7a8-f286-48c6-9cc5-1072a5548ead\")) {                    Plotly.newPlot(                        \"291ab7a8-f286-48c6-9cc5-1072a5548ead\",                        [{\"error_y\":{\"array\":[0.5668076457589646],\"arrayminus\":[0.4056509664624848],\"symmetric\":false,\"type\":\"data\"},\"marker\":{\"size\":15,\"symbol\":\"diamond\"},\"showlegend\":false,\"type\":\"scatter\",\"x\":[\"Gradient\"],\"xaxis\":\"x\",\"y\":[1.4267237963960226],\"yaxis\":\"y\"},{\"line\":{\"dash\":\"dash\",\"shape\":\"hv\"},\"mode\":\"lines\",\"name\":\"Mean\",\"type\":\"scatter\",\"x\":[7.383983572895278,7.477070499657769,8.720054757015742,9.45927446954141,9.908281998631075,10.13826146475017,11.638603696098563,11.739904175222453,12.328542094455852,13.478439425051334,13.505817932922657,13.557837097878163,13.765913757700206,14.277891854893909,14.379192334017796,14.41204654346338,14.704996577686517,14.76249144421629,15.033538672142368,15.107460643394935,15.200547570157427,15.214236824093089,15.364818617385351,15.88227241615332,16.449007529089666,16.824093086926762,17.295003422313485,17.541409993155373,17.675564681724847,17.697467488021903,18.023271731690624,18.2943189596167,18.78986995208761,18.833675564681723,18.86652977412731,20.459958932238195,20.52840520191649,20.594113620807665,20.933607118412045,21.00205338809035,21.062286105407257,21.111567419575632],\"xaxis\":\"x2\",\"y\":[0.9794591741408942,0.9588656229752505,0.9382651151952517,0.9176463789291398,0.8970758682845412,0.8717280010617822,0.8464531829183557,0.8212636866240371,0.7961371235459347,0.7708429731364094,0.7456267280916482,0.7204764439939194,0.6952159258636328,0.6700459658178897,0.6449608338375746,0.6199690216062047,0.5950687135835314,0.570247421099532,0.545524954819846,0.5209063168682102,0.4963993678444962,0.47189579650760777,0.4475105968154824,0.42326075195331275,0.3990277278561355,0.37492124952595524,0.35096068359032473,0.3271511033194089,0.3032993276736225,0.2796283020794746,0.25615259692063197,0.23270458652457623,0.20946366557828094,0.18635424801952247,0.1634865923713651,0.1634865923713651,0.1634865923713651,0.1634865923713651,0.1634865923713651,0.1634865923713651,0.1634865923713651,0.1634865923713651],\"yaxis\":\"y2\"},{\"line\":{\"shape\":\"hv\"},\"mode\":\"lines\",\"name\":\"-2 SD\",\"type\":\"scatter\",\"x\":[7.383983572895278,7.477070499657769,8.720054757015742,9.45927446954141,9.908281998631075,10.13826146475017,11.638603696098563,11.739904175222453,12.328542094455852,13.478439425051334,13.505817932922657,13.557837097878163,13.765913757700206,14.277891854893909,14.379192334017796,14.41204654346338,14.704996577686517,14.76249144421629,15.033538672142368,15.107460643394935,15.200547570157427,15.214236824093089,15.364818617385351,15.88227241615332,16.449007529089666,16.824093086926762,17.295003422313485,17.541409993155373,17.675564681724847,17.697467488021903,18.023271731690624,18.2943189596167,18.78986995208761,18.833675564681723,18.86652977412731,20.459958932238195,20.52840520191649,20.594113620807665,20.933607118412045,21.00205338809035,21.062286105407257,21.111567419575632],\"xaxis\":\"x2\",\"y\":[0.9898556333493638,0.9795759867263292,0.9691798678168325,0.9586576097925386,0.9480394098342234,0.9347833659444303,0.9213688003084085,0.9077952000687752,0.8940428196814554,0.8799738233604335,0.8657123820556417,0.8512416816912804,0.8364464854696524,0.8214297274737237,0.8061752421281363,0.7906742901928785,0.774910599777171,0.7588592757393942,0.7425144937953126,0.7258594207714592,0.7088772225351296,0.6914653113889725,0.6736745953343489,0.655486474236511,0.6367732414842303,0.6175747869884338,0.597859528166045,0.5775777716913717,0.5564921183423056,0.5347144782037713,0.5121689235070097,0.48857394527704245,0.4639606115914425,0.4380660846422255,0.4107782305870308,0.4107782305870308,0.4107782305870308,0.4107782305870308,0.4107782305870308,0.4107782305870308,0.4107782305870308,0.4107782305870308],\"yaxis\":\"y2\"},{\"line\":{\"shape\":\"hv\"},\"mode\":\"lines\",\"name\":\"2 SD\",\"type\":\"scatter\",\"x\":[7.383983572895278,7.477070499657769,8.720054757015742,9.45927446954141,9.908281998631075,10.13826146475017,11.638603696098563,11.739904175222453,12.328542094455852,13.478439425051334,13.505817932922657,13.557837097878163,13.765913757700206,14.277891854893909,14.379192334017796,14.41204654346338,14.704996577686517,14.76249144421629,15.033538672142368,15.107460643394935,15.200547570157427,15.214236824093089,15.364818617385351,15.88227241615332,16.449007529089666,16.824093086926762,17.295003422313485,17.541409993155373,17.675564681724847,17.697467488021903,18.023271731690624,18.2943189596167,18.78986995208761,18.833675564681723,18.86652977412731,20.459958932238195,20.52840520191649,20.594113620807665,20.933607118412045,21.00205338809035,21.062286105407257,21.111567419575632],\"xaxis\":\"x2\",\"y\":[0.9586328876809217,0.9180517299670866,0.8783499236027494,0.8395066931552445,0.8016445784875993,0.7562111666035675,0.712250620244568,0.6697702996416353,0.6287192844324291,0.5887277607179723,0.5501894357551864,0.5130731250570655,0.4771206728471469,0.44261773688758216,0.40954096460495953,0.37788586208352815,0.3476339408179909,0.31875496452680746,0.2912563666150586,0.26512620840253814,0.24035437982732158,0.21682055425616004,0.19462378802432556,0.173758216885577,0.154108106388321,0.13574930162615437,0.11867385787756145,0.10286095506191809,0.08817149336412802,0.07472971166964028,0.06251368562913857,0.05141686971163611,0.041503914976189306,0.03271492097338365,0.025061716705083916,0.025061716705083916,0.025061716705083916,0.025061716705083916,0.025061716705083916,0.025061716705083916,0.025061716705083916,0.025061716705083916],\"yaxis\":\"y2\"}],                        {\"annotations\":[{\"font\":{\"size\":16},\"showarrow\":false,\"text\":\"Estimated hazard ratio\",\"x\":0.135,\"xanchor\":\"center\",\"xref\":\"paper\",\"y\":1.0,\"yanchor\":\"bottom\",\"yref\":\"paper\"},{\"font\":{\"size\":16},\"showarrow\":false,\"text\":\"Survival stratification\",\"x\":0.685,\"xanchor\":\"center\",\"xref\":\"paper\",\"y\":1.0,\"yanchor\":\"bottom\",\"yref\":\"paper\"}],\"legend\":{\"title\":{\"text\":\"Gradient\"}},\"template\":{\"data\":{\"bar\":[{\"error_x\":{\"color\":\"rgb(36,36,36)\"},\"error_y\":{\"color\":\"rgb(36,36,36)\"},\"marker\":{\"line\":{\"color\":\"white\",\"width\":0.5},\"pattern\":{\"fillmode\":\"overlay\",\"size\":10,\"solidity\":0.2}},\"type\":\"bar\"}],\"barpolar\":[{\"marker\":{\"line\":{\"color\":\"white\",\"width\":0.5},\"pattern\":{\"fillmode\":\"overlay\",\"size\":10,\"solidity\":0.2}},\"type\":\"barpolar\"}],\"carpet\":[{\"aaxis\":{\"endlinecolor\":\"rgb(36,36,36)\",\"gridcolor\":\"white\",\"linecolor\":\"white\",\"minorgridcolor\":\"white\",\"startlinecolor\":\"rgb(36,36,36)\"},\"baxis\":{\"endlinecolor\":\"rgb(36,36,36)\",\"gridcolor\":\"white\",\"linecolor\":\"white\",\"minorgridcolor\":\"white\",\"startlinecolor\":\"rgb(36,36,36)\"},\"type\":\"carpet\"}],\"choropleth\":[{\"colorbar\":{\"outlinewidth\":1,\"tickcolor\":\"rgb(36,36,36)\",\"ticks\":\"outside\"},\"type\":\"choropleth\"}],\"contour\":[{\"colorbar\":{\"outlinewidth\":1,\"tickcolor\":\"rgb(36,36,36)\",\"ticks\":\"outside\"},\"colorscale\":[[0.0,\"#440154\"],[0.1111111111111111,\"#482878\"],[0.2222222222222222,\"#3e4989\"],[0.3333333333333333,\"#31688e\"],[0.4444444444444444,\"#26828e\"],[0.5555555555555556,\"#1f9e89\"],[0.6666666666666666,\"#35b779\"],[0.7777777777777778,\"#6ece58\"],[0.8888888888888888,\"#b5de2b\"],[1.0,\"#fde725\"]],\"type\":\"contour\"}],\"contourcarpet\":[{\"colorbar\":{\"outlinewidth\":1,\"tickcolor\":\"rgb(36,36,36)\",\"ticks\":\"outside\"},\"type\":\"contourcarpet\"}],\"heatmap\":[{\"colorbar\":{\"outlinewidth\":1,\"tickcolor\":\"rgb(36,36,36)\",\"ticks\":\"outside\"},\"colorscale\":[[0.0,\"#440154\"],[0.1111111111111111,\"#482878\"],[0.2222222222222222,\"#3e4989\"],[0.3333333333333333,\"#31688e\"],[0.4444444444444444,\"#26828e\"],[0.5555555555555556,\"#1f9e89\"],[0.6666666666666666,\"#35b779\"],[0.7777777777777778,\"#6ece58\"],[0.8888888888888888,\"#b5de2b\"],[1.0,\"#fde725\"]],\"type\":\"heatmap\"}],\"heatmapgl\":[{\"colorbar\":{\"outlinewidth\":1,\"tickcolor\":\"rgb(36,36,36)\",\"ticks\":\"outside\"},\"colorscale\":[[0.0,\"#440154\"],[0.1111111111111111,\"#482878\"],[0.2222222222222222,\"#3e4989\"],[0.3333333333333333,\"#31688e\"],[0.4444444444444444,\"#26828e\"],[0.5555555555555556,\"#1f9e89\"],[0.6666666666666666,\"#35b779\"],[0.7777777777777778,\"#6ece58\"],[0.8888888888888888,\"#b5de2b\"],[1.0,\"#fde725\"]],\"type\":\"heatmapgl\"}],\"histogram\":[{\"marker\":{\"line\":{\"color\":\"white\",\"width\":0.6}},\"type\":\"histogram\"}],\"histogram2d\":[{\"colorbar\":{\"outlinewidth\":1,\"tickcolor\":\"rgb(36,36,36)\",\"ticks\":\"outside\"},\"colorscale\":[[0.0,\"#440154\"],[0.1111111111111111,\"#482878\"],[0.2222222222222222,\"#3e4989\"],[0.3333333333333333,\"#31688e\"],[0.4444444444444444,\"#26828e\"],[0.5555555555555556,\"#1f9e89\"],[0.6666666666666666,\"#35b779\"],[0.7777777777777778,\"#6ece58\"],[0.8888888888888888,\"#b5de2b\"],[1.0,\"#fde725\"]],\"type\":\"histogram2d\"}],\"histogram2dcontour\":[{\"colorbar\":{\"outlinewidth\":1,\"tickcolor\":\"rgb(36,36,36)\",\"ticks\":\"outside\"},\"colorscale\":[[0.0,\"#440154\"],[0.1111111111111111,\"#482878\"],[0.2222222222222222,\"#3e4989\"],[0.3333333333333333,\"#31688e\"],[0.4444444444444444,\"#26828e\"],[0.5555555555555556,\"#1f9e89\"],[0.6666666666666666,\"#35b779\"],[0.7777777777777778,\"#6ece58\"],[0.8888888888888888,\"#b5de2b\"],[1.0,\"#fde725\"]],\"type\":\"histogram2dcontour\"}],\"mesh3d\":[{\"colorbar\":{\"outlinewidth\":1,\"tickcolor\":\"rgb(36,36,36)\",\"ticks\":\"outside\"},\"type\":\"mesh3d\"}],\"parcoords\":[{\"line\":{\"colorbar\":{\"outlinewidth\":1,\"tickcolor\":\"rgb(36,36,36)\",\"ticks\":\"outside\"}},\"type\":\"parcoords\"}],\"pie\":[{\"automargin\":true,\"type\":\"pie\"}],\"scatter\":[{\"marker\":{\"colorbar\":{\"outlinewidth\":1,\"tickcolor\":\"rgb(36,36,36)\",\"ticks\":\"outside\"}},\"type\":\"scatter\"}],\"scatter3d\":[{\"line\":{\"colorbar\":{\"outlinewidth\":1,\"tickcolor\":\"rgb(36,36,36)\",\"ticks\":\"outside\"}},\"marker\":{\"colorbar\":{\"outlinewidth\":1,\"tickcolor\":\"rgb(36,36,36)\",\"ticks\":\"outside\"}},\"type\":\"scatter3d\"}],\"scattercarpet\":[{\"marker\":{\"colorbar\":{\"outlinewidth\":1,\"tickcolor\":\"rgb(36,36,36)\",\"ticks\":\"outside\"}},\"type\":\"scattercarpet\"}],\"scattergeo\":[{\"marker\":{\"colorbar\":{\"outlinewidth\":1,\"tickcolor\":\"rgb(36,36,36)\",\"ticks\":\"outside\"}},\"type\":\"scattergeo\"}],\"scattergl\":[{\"marker\":{\"colorbar\":{\"outlinewidth\":1,\"tickcolor\":\"rgb(36,36,36)\",\"ticks\":\"outside\"}},\"type\":\"scattergl\"}],\"scattermapbox\":[{\"marker\":{\"colorbar\":{\"outlinewidth\":1,\"tickcolor\":\"rgb(36,36,36)\",\"ticks\":\"outside\"}},\"type\":\"scattermapbox\"}],\"scatterpolar\":[{\"marker\":{\"colorbar\":{\"outlinewidth\":1,\"tickcolor\":\"rgb(36,36,36)\",\"ticks\":\"outside\"}},\"type\":\"scatterpolar\"}],\"scatterpolargl\":[{\"marker\":{\"colorbar\":{\"outlinewidth\":1,\"tickcolor\":\"rgb(36,36,36)\",\"ticks\":\"outside\"}},\"type\":\"scatterpolargl\"}],\"scatterternary\":[{\"marker\":{\"colorbar\":{\"outlinewidth\":1,\"tickcolor\":\"rgb(36,36,36)\",\"ticks\":\"outside\"}},\"type\":\"scatterternary\"}],\"surface\":[{\"colorbar\":{\"outlinewidth\":1,\"tickcolor\":\"rgb(36,36,36)\",\"ticks\":\"outside\"},\"colorscale\":[[0.0,\"#440154\"],[0.1111111111111111,\"#482878\"],[0.2222222222222222,\"#3e4989\"],[0.3333333333333333,\"#31688e\"],[0.4444444444444444,\"#26828e\"],[0.5555555555555556,\"#1f9e89\"],[0.6666666666666666,\"#35b779\"],[0.7777777777777778,\"#6ece58\"],[0.8888888888888888,\"#b5de2b\"],[1.0,\"#fde725\"]],\"type\":\"surface\"}],\"table\":[{\"cells\":{\"fill\":{\"color\":\"rgb(237,237,237)\"},\"line\":{\"color\":\"white\"}},\"header\":{\"fill\":{\"color\":\"rgb(217,217,217)\"},\"line\":{\"color\":\"white\"}},\"type\":\"table\"}]},\"layout\":{\"annotationdefaults\":{\"arrowhead\":0,\"arrowwidth\":1},\"autotypenumbers\":\"strict\",\"coloraxis\":{\"colorbar\":{\"outlinewidth\":1,\"tickcolor\":\"rgb(36,36,36)\",\"ticks\":\"outside\"}},\"colorscale\":{\"diverging\":[[0.0,\"rgb(103,0,31)\"],[0.1,\"rgb(178,24,43)\"],[0.2,\"rgb(214,96,77)\"],[0.3,\"rgb(244,165,130)\"],[0.4,\"rgb(253,219,199)\"],[0.5,\"rgb(247,247,247)\"],[0.6,\"rgb(209,229,240)\"],[0.7,\"rgb(146,197,222)\"],[0.8,\"rgb(67,147,195)\"],[0.9,\"rgb(33,102,172)\"],[1.0,\"rgb(5,48,97)\"]],\"sequential\":[[0.0,\"#440154\"],[0.1111111111111111,\"#482878\"],[0.2222222222222222,\"#3e4989\"],[0.3333333333333333,\"#31688e\"],[0.4444444444444444,\"#26828e\"],[0.5555555555555556,\"#1f9e89\"],[0.6666666666666666,\"#35b779\"],[0.7777777777777778,\"#6ece58\"],[0.8888888888888888,\"#b5de2b\"],[1.0,\"#fde725\"]],\"sequentialminus\":[[0.0,\"#440154\"],[0.1111111111111111,\"#482878\"],[0.2222222222222222,\"#3e4989\"],[0.3333333333333333,\"#31688e\"],[0.4444444444444444,\"#26828e\"],[0.5555555555555556,\"#1f9e89\"],[0.6666666666666666,\"#35b779\"],[0.7777777777777778,\"#6ece58\"],[0.8888888888888888,\"#b5de2b\"],[1.0,\"#fde725\"]]},\"colorway\":[\"#1F77B4\",\"#FF7F0E\",\"#2CA02C\",\"#D62728\",\"#9467BD\",\"#8C564B\",\"#E377C2\",\"#7F7F7F\",\"#BCBD22\",\"#17BECF\"],\"font\":{\"color\":\"rgb(36,36,36)\"},\"geo\":{\"bgcolor\":\"white\",\"lakecolor\":\"white\",\"landcolor\":\"white\",\"showlakes\":true,\"showland\":true,\"subunitcolor\":\"white\"},\"hoverlabel\":{\"align\":\"left\"},\"hovermode\":\"closest\",\"mapbox\":{\"style\":\"light\"},\"paper_bgcolor\":\"white\",\"plot_bgcolor\":\"white\",\"polar\":{\"angularaxis\":{\"gridcolor\":\"rgb(232,232,232)\",\"linecolor\":\"rgb(36,36,36)\",\"showgrid\":false,\"showline\":true,\"ticks\":\"outside\"},\"bgcolor\":\"white\",\"radialaxis\":{\"gridcolor\":\"rgb(232,232,232)\",\"linecolor\":\"rgb(36,36,36)\",\"showgrid\":false,\"showline\":true,\"ticks\":\"outside\"}},\"scene\":{\"xaxis\":{\"backgroundcolor\":\"white\",\"gridcolor\":\"rgb(232,232,232)\",\"gridwidth\":2,\"linecolor\":\"rgb(36,36,36)\",\"showbackground\":true,\"showgrid\":false,\"showline\":true,\"ticks\":\"outside\",\"zeroline\":false,\"zerolinecolor\":\"rgb(36,36,36)\"},\"yaxis\":{\"backgroundcolor\":\"white\",\"gridcolor\":\"rgb(232,232,232)\",\"gridwidth\":2,\"linecolor\":\"rgb(36,36,36)\",\"showbackground\":true,\"showgrid\":false,\"showline\":true,\"ticks\":\"outside\",\"zeroline\":false,\"zerolinecolor\":\"rgb(36,36,36)\"},\"zaxis\":{\"backgroundcolor\":\"white\",\"gridcolor\":\"rgb(232,232,232)\",\"gridwidth\":2,\"linecolor\":\"rgb(36,36,36)\",\"showbackground\":true,\"showgrid\":false,\"showline\":true,\"ticks\":\"outside\",\"zeroline\":false,\"zerolinecolor\":\"rgb(36,36,36)\"}},\"shapedefaults\":{\"fillcolor\":\"black\",\"line\":{\"width\":0},\"opacity\":0.3},\"ternary\":{\"aaxis\":{\"gridcolor\":\"rgb(232,232,232)\",\"linecolor\":\"rgb(36,36,36)\",\"showgrid\":false,\"showline\":true,\"ticks\":\"outside\"},\"baxis\":{\"gridcolor\":\"rgb(232,232,232)\",\"linecolor\":\"rgb(36,36,36)\",\"showgrid\":false,\"showline\":true,\"ticks\":\"outside\"},\"bgcolor\":\"white\",\"caxis\":{\"gridcolor\":\"rgb(232,232,232)\",\"linecolor\":\"rgb(36,36,36)\",\"showgrid\":false,\"showline\":true,\"ticks\":\"outside\"}},\"title\":{\"x\":0.05},\"xaxis\":{\"automargin\":true,\"gridcolor\":\"rgb(232,232,232)\",\"linecolor\":\"rgb(36,36,36)\",\"showgrid\":false,\"showline\":true,\"ticks\":\"outside\",\"title\":{\"standoff\":15},\"zeroline\":false,\"zerolinecolor\":\"rgb(36,36,36)\"},\"yaxis\":{\"automargin\":true,\"gridcolor\":\"rgb(232,232,232)\",\"linecolor\":\"rgb(36,36,36)\",\"showgrid\":false,\"showline\":true,\"ticks\":\"outside\",\"title\":{\"standoff\":15},\"zeroline\":false,\"zerolinecolor\":\"rgb(36,36,36)\"}}},\"title\":{\"text\":\"Effect of Gradient on survival\"},\"xaxis\":{\"anchor\":\"y\",\"domain\":[0.0,0.27],\"showticklabels\":false,\"tickvals\":[0],\"title\":{\"text\":\"Gradient\"}},\"xaxis2\":{\"anchor\":\"y2\",\"domain\":[0.37,1.0],\"title\":{\"text\":\"Years\"}},\"yaxis\":{\"anchor\":\"x\",\"domain\":[0.0,1.0],\"dtick\":1,\"range\":[1.0,2.0],\"title\":{\"text\":\"Hazard Ratio (95% CI)\"}},\"yaxis2\":{\"anchor\":\"x2\",\"domain\":[0.0,1.0],\"dtick\":0.2,\"title\":{\"text\":\"Survivors (proportion)\"}}},                        {\"responsive\": true}                    ).then(function(){\n",
       "                            \n",
       "var gd = document.getElementById('291ab7a8-f286-48c6-9cc5-1072a5548ead');\n",
       "var x = new MutationObserver(function (mutations, observer) {{\n",
       "        var display = window.getComputedStyle(gd).display;\n",
       "        if (!display || display === 'none') {{\n",
       "            console.log([gd, 'removed!']);\n",
       "            Plotly.purge(gd);\n",
       "            observer.disconnect();\n",
       "        }}\n",
       "}});\n",
       "\n",
       "// Listen for the removal of the full notebook cells\n",
       "var notebookContainer = gd.closest('#notebook-container');\n",
       "if (notebookContainer) {{\n",
       "    x.observe(notebookContainer, {childList: true});\n",
       "}}\n",
       "\n",
       "// Listen for the clearing of the current output cell\n",
       "var outputEl = gd.closest('.output');\n",
       "if (outputEl) {{\n",
       "    x.observe(outputEl, {childList: true});\n",
       "}}\n",
       "\n",
       "                        })                };                });            </script>        </div>"
      ]
     },
     "metadata": {},
     "output_type": "display_data"
    }
   ],
   "source": [
    "cohort = [21]\n",
    "survival_columns = ['Gradient']\n",
    "cph = survival_analysis(survival_columns, cohort)\n",
    "fig = plot_hr_analysis(cph, covariate=survival_columns[0])\n",
    "fig.show()"
   ]
  },
  {
   "cell_type": "markdown",
   "metadata": {},
   "source": [
    "## LBC36"
   ]
  },
  {
   "cell_type": "code",
   "execution_count": 17,
   "metadata": {},
   "outputs": [
    {
     "data": {
      "text/html": [
       "<div>\n",
       "<style scoped>\n",
       "    .dataframe tbody tr th:only-of-type {\n",
       "        vertical-align: middle;\n",
       "    }\n",
       "\n",
       "    .dataframe tbody tr th {\n",
       "        vertical-align: top;\n",
       "    }\n",
       "\n",
       "    .dataframe thead th {\n",
       "        text-align: right;\n",
       "    }\n",
       "</style>\n",
       "<table border=\"1\" class=\"dataframe\">\n",
       "  <tbody>\n",
       "    <tr>\n",
       "      <th>model</th>\n",
       "      <td>lifelines.CoxPHFitter</td>\n",
       "    </tr>\n",
       "    <tr>\n",
       "      <th>duration col</th>\n",
       "      <td>'days_from_wave1'</td>\n",
       "    </tr>\n",
       "    <tr>\n",
       "      <th>event col</th>\n",
       "      <td>'dead'</td>\n",
       "    </tr>\n",
       "    <tr>\n",
       "      <th>baseline estimation</th>\n",
       "      <td>breslow</td>\n",
       "    </tr>\n",
       "    <tr>\n",
       "      <th>number of observations</th>\n",
       "      <td>41</td>\n",
       "    </tr>\n",
       "    <tr>\n",
       "      <th>number of events observed</th>\n",
       "      <td>10</td>\n",
       "    </tr>\n",
       "    <tr>\n",
       "      <th>partial log-likelihood</th>\n",
       "      <td>-35.56</td>\n",
       "    </tr>\n",
       "    <tr>\n",
       "      <th>time fit was run</th>\n",
       "      <td>2021-09-03 11:42:59 UTC</td>\n",
       "    </tr>\n",
       "  </tbody>\n",
       "</table>\n",
       "</div><table border=\"1\" class=\"dataframe\">\n",
       "  <thead>\n",
       "    <tr style=\"text-align: right;\">\n",
       "      <th style=\"min-width: 12px;\"></th>\n",
       "      <th style=\"min-width: 12px;\">coef</th>\n",
       "      <th style=\"min-width: 12px;\">exp(coef)</th>\n",
       "      <th style=\"min-width: 12px;\">se(coef)</th>\n",
       "      <th style=\"min-width: 12px;\">coef lower 95%</th>\n",
       "      <th style=\"min-width: 12px;\">coef upper 95%</th>\n",
       "      <th style=\"min-width: 12px;\">exp(coef) lower 95%</th>\n",
       "      <th style=\"min-width: 12px;\">exp(coef) upper 95%</th>\n",
       "      <th style=\"min-width: 12px;\">z</th>\n",
       "      <th style=\"min-width: 12px;\">p</th>\n",
       "      <th style=\"min-width: 12px;\">-log2(p)</th>\n",
       "    </tr>\n",
       "  </thead>\n",
       "  <tbody>\n",
       "    <tr>\n",
       "      <th>Gradient</th>\n",
       "      <td>0.26</td>\n",
       "      <td>1.29</td>\n",
       "      <td>0.28</td>\n",
       "      <td>-0.29</td>\n",
       "      <td>0.81</td>\n",
       "      <td>0.75</td>\n",
       "      <td>2.24</td>\n",
       "      <td>0.92</td>\n",
       "      <td>0.36</td>\n",
       "      <td>1.48</td>\n",
       "    </tr>\n",
       "  </tbody>\n",
       "</table><br><div>\n",
       "<style scoped>\n",
       "    .dataframe tbody tr th:only-of-type {\n",
       "        vertical-align: middle;\n",
       "    }\n",
       "\n",
       "    .dataframe tbody tr th {\n",
       "        vertical-align: top;\n",
       "    }\n",
       "\n",
       "    .dataframe thead th {\n",
       "        text-align: right;\n",
       "    }\n",
       "</style>\n",
       "<table border=\"1\" class=\"dataframe\">\n",
       "  <tbody>\n",
       "    <tr>\n",
       "      <th>Concordance</th>\n",
       "      <td>0.50</td>\n",
       "    </tr>\n",
       "    <tr>\n",
       "      <th>Partial AIC</th>\n",
       "      <td>73.11</td>\n",
       "    </tr>\n",
       "    <tr>\n",
       "      <th>log-likelihood ratio test</th>\n",
       "      <td>0.77 on 1 df</td>\n",
       "    </tr>\n",
       "    <tr>\n",
       "      <th>-log2(p) of ll-ratio test</th>\n",
       "      <td>1.40</td>\n",
       "    </tr>\n",
       "  </tbody>\n",
       "</table>\n",
       "</div>"
      ],
      "text/latex": [
       "\\begin{tabular}{lrrrrrrrrrr}\n",
       "\\toprule\n",
       "{} &  coef &  exp(coef) &  se(coef) &  coef lower 95\\% &  coef upper 95\\% &  exp(coef) lower 95\\% &  exp(coef) upper 95\\% &    z &    p &  -log2(p) \\\\\n",
       "covariate &       &            &           &                 &                 &                      &                      &      &      &           \\\\\n",
       "\\midrule\n",
       "Gradient  &  0.26 &       1.29 &      0.28 &           -0.29 &            0.81 &                 0.75 &                 2.24 & 0.92 & 0.36 &      1.48 \\\\\n",
       "\\bottomrule\n",
       "\\end{tabular}\n"
      ],
      "text/plain": [
       "<lifelines.CoxPHFitter: fitted with 41 total observations, 31 right-censored observations>\n",
       "             duration col = 'days_from_wave1'\n",
       "                event col = 'dead'\n",
       "      baseline estimation = breslow\n",
       "   number of observations = 41\n",
       "number of events observed = 10\n",
       "   partial log-likelihood = -35.56\n",
       "         time fit was run = 2021-09-03 11:42:59 UTC\n",
       "\n",
       "---\n",
       "            coef  exp(coef)   se(coef)   coef lower 95%   coef upper 95%  exp(coef) lower 95%  exp(coef) upper 95%\n",
       "covariate                                                                                                         \n",
       "Gradient    0.26       1.29       0.28            -0.29             0.81                 0.75                 2.24\n",
       "\n",
       "             z    p   -log2(p)\n",
       "covariate                     \n",
       "Gradient  0.92 0.36       1.48\n",
       "---\n",
       "Concordance = 0.50\n",
       "Partial AIC = 73.11\n",
       "log-likelihood ratio test = 0.77 on 1 df\n",
       "-log2(p) of ll-ratio test = 1.40"
      ]
     },
     "metadata": {},
     "output_type": "display_data"
    },
    {
     "data": {
      "application/vnd.plotly.v1+json": {
       "config": {
        "plotlyServerURL": "https://plot.ly"
       },
       "data": [
        {
         "error_y": {
          "array": [
           0.9461047992313225
          ],
          "arrayminus": [
           0.5463401418202206
          ],
          "symmetric": false,
          "type": "data"
         },
         "marker": {
          "size": 15,
          "symbol": "diamond"
         },
         "showlegend": false,
         "type": "scatter",
         "x": [
          "Gradient"
         ],
         "xaxis": "x",
         "y": [
          1.2929983194019026
         ],
         "yaxis": "y"
        },
        {
         "line": {
          "dash": "dash",
          "shape": "hv"
         },
         "mode": "lines",
         "name": "Mean",
         "type": "scatter",
         "x": [
          2.537987679671458,
          6.828199863107461,
          7.488021902806297,
          7.6358658453114305,
          9.95482546201232,
          9.979466119096507,
          11.077344284736482,
          11.630390143737166,
          12.78302532511978,
          13.598904859685147,
          14.250513347022586,
          14.25325119780972,
          14.255989048596852,
          14.28062970568104,
          14.318959616700887,
          14.373716632443532,
          14.4476386036961,
          14.485968514715948,
          14.510609171800136,
          14.521560574948666,
          14.548939082819986,
          14.570841889117045,
          14.581793292265573,
          14.60643394934976,
          14.67214236824093,
          14.699520876112253,
          14.707734428473648,
          14.743326488706366,
          14.757015742642023,
          14.806297056810404,
          14.809034907597535,
          14.874743326488709,
          14.8911704312115,
          14.921286789869953,
          14.93223819301848,
          14.978781656399724,
          15.017111567419576,
          15.019849418206707,
          15.047227926078028,
          15.099247091033538
         ],
         "xaxis": "x2",
         "y": [
          0.9767594612627788,
          0.9535968836402587,
          0.9305337541999337,
          0.9071922885448485,
          0.8839648467326875,
          0.8602333705821211,
          0.8365046153903974,
          0.8129038549118589,
          0.7891965934524781,
          0.7656190962667841,
          0.7656190962667841,
          0.7656190962667841,
          0.7656190962667841,
          0.7656190962667841,
          0.7656190962667841,
          0.7656190962667841,
          0.7656190962667841,
          0.7656190962667841,
          0.7656190962667841,
          0.7656190962667841,
          0.7656190962667841,
          0.7656190962667841,
          0.7656190962667841,
          0.7656190962667841,
          0.7656190962667841,
          0.7656190962667841,
          0.7656190962667841,
          0.7656190962667841,
          0.7656190962667841,
          0.7656190962667841,
          0.7656190962667841,
          0.7656190962667841,
          0.7656190962667841,
          0.7656190962667841,
          0.7656190962667841,
          0.7656190962667841,
          0.7656190962667841,
          0.7656190962667841,
          0.7656190962667841,
          0.7656190962667841
         ],
         "yaxis": "y2"
        },
        {
         "line": {
          "shape": "hv"
         },
         "mode": "lines",
         "name": "-2 SD",
         "type": "scatter",
         "x": [
          2.537987679671458,
          6.828199863107461,
          7.488021902806297,
          7.6358658453114305,
          9.95482546201232,
          9.979466119096507,
          11.077344284736482,
          11.630390143737166,
          12.78302532511978,
          13.598904859685147,
          14.250513347022586,
          14.25325119780972,
          14.255989048596852,
          14.28062970568104,
          14.318959616700887,
          14.373716632443532,
          14.4476386036961,
          14.485968514715948,
          14.510609171800136,
          14.521560574948666,
          14.548939082819986,
          14.570841889117045,
          14.581793292265573,
          14.60643394934976,
          14.67214236824093,
          14.699520876112253,
          14.707734428473648,
          14.743326488706366,
          14.757015742642023,
          14.806297056810404,
          14.809034907597535,
          14.874743326488709,
          14.8911704312115,
          14.921286789869953,
          14.93223819301848,
          14.978781656399724,
          15.017111567419576,
          15.019849418206707,
          15.047227926078028,
          15.099247091033538
         ],
         "xaxis": "x2",
         "y": [
          0.9860332355809464,
          0.971979802000821,
          0.9578497361878122,
          0.943405094874672,
          0.9288819775212448,
          0.9138844215625289,
          0.8987213981090623,
          0.8834677164392347,
          0.8679649384059781,
          0.8523602608859955,
          0.8523602608859955,
          0.8523602608859955,
          0.8523602608859955,
          0.8523602608859955,
          0.8523602608859955,
          0.8523602608859955,
          0.8523602608859955,
          0.8523602608859955,
          0.8523602608859955,
          0.8523602608859955,
          0.8523602608859955,
          0.8523602608859955,
          0.8523602608859955,
          0.8523602608859955,
          0.8523602608859955,
          0.8523602608859955,
          0.8523602608859955,
          0.8523602608859955,
          0.8523602608859955,
          0.8523602608859955,
          0.8523602608859955,
          0.8523602608859955,
          0.8523602608859955,
          0.8523602608859955,
          0.8523602608859955,
          0.8523602608859955,
          0.8523602608859955,
          0.8523602608859955,
          0.8523602608859955,
          0.8523602608859955
         ],
         "yaxis": "y2"
        },
        {
         "line": {
          "shape": "hv"
         },
         "mode": "lines",
         "name": "2 SD",
         "type": "scatter",
         "x": [
          2.537987679671458,
          6.828199863107461,
          7.488021902806297,
          7.6358658453114305,
          9.95482546201232,
          9.979466119096507,
          11.077344284736482,
          11.630390143737166,
          12.78302532511978,
          13.598904859685147,
          14.250513347022586,
          14.25325119780972,
          14.255989048596852,
          14.28062970568104,
          14.318959616700887,
          14.373716632443532,
          14.4476386036961,
          14.485968514715948,
          14.510609171800136,
          14.521560574948666,
          14.548939082819986,
          14.570841889117045,
          14.581793292265573,
          14.60643394934976,
          14.67214236824093,
          14.699520876112253,
          14.707734428473648,
          14.743326488706366,
          14.757015742642023,
          14.806297056810404,
          14.809034907597535,
          14.874743326488709,
          14.8911704312115,
          14.921286789869953,
          14.93223819301848,
          14.978781656399724,
          15.017111567419576,
          15.019849418206707,
          15.047227926078028,
          15.099247091033538
         ],
         "xaxis": "x2",
         "y": [
          0.9614495449570774,
          0.9236367189370777,
          0.8865943941527895,
          0.8497279120410709,
          0.8136687409394199,
          0.7774788562991932,
          0.7419576401500952,
          0.70729321036804,
          0.6731465581483932,
          0.639863516118293,
          0.639863516118293,
          0.639863516118293,
          0.639863516118293,
          0.639863516118293,
          0.639863516118293,
          0.639863516118293,
          0.639863516118293,
          0.639863516118293,
          0.639863516118293,
          0.639863516118293,
          0.639863516118293,
          0.639863516118293,
          0.639863516118293,
          0.639863516118293,
          0.639863516118293,
          0.639863516118293,
          0.639863516118293,
          0.639863516118293,
          0.639863516118293,
          0.639863516118293,
          0.639863516118293,
          0.639863516118293,
          0.639863516118293,
          0.639863516118293,
          0.639863516118293,
          0.639863516118293,
          0.639863516118293,
          0.639863516118293,
          0.639863516118293,
          0.639863516118293
         ],
         "yaxis": "y2"
        }
       ],
       "layout": {
        "annotations": [
         {
          "font": {
           "size": 16
          },
          "showarrow": false,
          "text": "Estimated hazard ratio",
          "x": 0.135,
          "xanchor": "center",
          "xref": "paper",
          "y": 1,
          "yanchor": "bottom",
          "yref": "paper"
         },
         {
          "font": {
           "size": 16
          },
          "showarrow": false,
          "text": "Survival stratification",
          "x": 0.685,
          "xanchor": "center",
          "xref": "paper",
          "y": 1,
          "yanchor": "bottom",
          "yref": "paper"
         }
        ],
        "legend": {
         "title": {
          "text": "Gradient"
         }
        },
        "template": {
         "data": {
          "bar": [
           {
            "error_x": {
             "color": "rgb(36,36,36)"
            },
            "error_y": {
             "color": "rgb(36,36,36)"
            },
            "marker": {
             "line": {
              "color": "white",
              "width": 0.5
             },
             "pattern": {
              "fillmode": "overlay",
              "size": 10,
              "solidity": 0.2
             }
            },
            "type": "bar"
           }
          ],
          "barpolar": [
           {
            "marker": {
             "line": {
              "color": "white",
              "width": 0.5
             },
             "pattern": {
              "fillmode": "overlay",
              "size": 10,
              "solidity": 0.2
             }
            },
            "type": "barpolar"
           }
          ],
          "carpet": [
           {
            "aaxis": {
             "endlinecolor": "rgb(36,36,36)",
             "gridcolor": "white",
             "linecolor": "white",
             "minorgridcolor": "white",
             "startlinecolor": "rgb(36,36,36)"
            },
            "baxis": {
             "endlinecolor": "rgb(36,36,36)",
             "gridcolor": "white",
             "linecolor": "white",
             "minorgridcolor": "white",
             "startlinecolor": "rgb(36,36,36)"
            },
            "type": "carpet"
           }
          ],
          "choropleth": [
           {
            "colorbar": {
             "outlinewidth": 1,
             "tickcolor": "rgb(36,36,36)",
             "ticks": "outside"
            },
            "type": "choropleth"
           }
          ],
          "contour": [
           {
            "colorbar": {
             "outlinewidth": 1,
             "tickcolor": "rgb(36,36,36)",
             "ticks": "outside"
            },
            "colorscale": [
             [
              0,
              "#440154"
             ],
             [
              0.1111111111111111,
              "#482878"
             ],
             [
              0.2222222222222222,
              "#3e4989"
             ],
             [
              0.3333333333333333,
              "#31688e"
             ],
             [
              0.4444444444444444,
              "#26828e"
             ],
             [
              0.5555555555555556,
              "#1f9e89"
             ],
             [
              0.6666666666666666,
              "#35b779"
             ],
             [
              0.7777777777777778,
              "#6ece58"
             ],
             [
              0.8888888888888888,
              "#b5de2b"
             ],
             [
              1,
              "#fde725"
             ]
            ],
            "type": "contour"
           }
          ],
          "contourcarpet": [
           {
            "colorbar": {
             "outlinewidth": 1,
             "tickcolor": "rgb(36,36,36)",
             "ticks": "outside"
            },
            "type": "contourcarpet"
           }
          ],
          "heatmap": [
           {
            "colorbar": {
             "outlinewidth": 1,
             "tickcolor": "rgb(36,36,36)",
             "ticks": "outside"
            },
            "colorscale": [
             [
              0,
              "#440154"
             ],
             [
              0.1111111111111111,
              "#482878"
             ],
             [
              0.2222222222222222,
              "#3e4989"
             ],
             [
              0.3333333333333333,
              "#31688e"
             ],
             [
              0.4444444444444444,
              "#26828e"
             ],
             [
              0.5555555555555556,
              "#1f9e89"
             ],
             [
              0.6666666666666666,
              "#35b779"
             ],
             [
              0.7777777777777778,
              "#6ece58"
             ],
             [
              0.8888888888888888,
              "#b5de2b"
             ],
             [
              1,
              "#fde725"
             ]
            ],
            "type": "heatmap"
           }
          ],
          "heatmapgl": [
           {
            "colorbar": {
             "outlinewidth": 1,
             "tickcolor": "rgb(36,36,36)",
             "ticks": "outside"
            },
            "colorscale": [
             [
              0,
              "#440154"
             ],
             [
              0.1111111111111111,
              "#482878"
             ],
             [
              0.2222222222222222,
              "#3e4989"
             ],
             [
              0.3333333333333333,
              "#31688e"
             ],
             [
              0.4444444444444444,
              "#26828e"
             ],
             [
              0.5555555555555556,
              "#1f9e89"
             ],
             [
              0.6666666666666666,
              "#35b779"
             ],
             [
              0.7777777777777778,
              "#6ece58"
             ],
             [
              0.8888888888888888,
              "#b5de2b"
             ],
             [
              1,
              "#fde725"
             ]
            ],
            "type": "heatmapgl"
           }
          ],
          "histogram": [
           {
            "marker": {
             "line": {
              "color": "white",
              "width": 0.6
             }
            },
            "type": "histogram"
           }
          ],
          "histogram2d": [
           {
            "colorbar": {
             "outlinewidth": 1,
             "tickcolor": "rgb(36,36,36)",
             "ticks": "outside"
            },
            "colorscale": [
             [
              0,
              "#440154"
             ],
             [
              0.1111111111111111,
              "#482878"
             ],
             [
              0.2222222222222222,
              "#3e4989"
             ],
             [
              0.3333333333333333,
              "#31688e"
             ],
             [
              0.4444444444444444,
              "#26828e"
             ],
             [
              0.5555555555555556,
              "#1f9e89"
             ],
             [
              0.6666666666666666,
              "#35b779"
             ],
             [
              0.7777777777777778,
              "#6ece58"
             ],
             [
              0.8888888888888888,
              "#b5de2b"
             ],
             [
              1,
              "#fde725"
             ]
            ],
            "type": "histogram2d"
           }
          ],
          "histogram2dcontour": [
           {
            "colorbar": {
             "outlinewidth": 1,
             "tickcolor": "rgb(36,36,36)",
             "ticks": "outside"
            },
            "colorscale": [
             [
              0,
              "#440154"
             ],
             [
              0.1111111111111111,
              "#482878"
             ],
             [
              0.2222222222222222,
              "#3e4989"
             ],
             [
              0.3333333333333333,
              "#31688e"
             ],
             [
              0.4444444444444444,
              "#26828e"
             ],
             [
              0.5555555555555556,
              "#1f9e89"
             ],
             [
              0.6666666666666666,
              "#35b779"
             ],
             [
              0.7777777777777778,
              "#6ece58"
             ],
             [
              0.8888888888888888,
              "#b5de2b"
             ],
             [
              1,
              "#fde725"
             ]
            ],
            "type": "histogram2dcontour"
           }
          ],
          "mesh3d": [
           {
            "colorbar": {
             "outlinewidth": 1,
             "tickcolor": "rgb(36,36,36)",
             "ticks": "outside"
            },
            "type": "mesh3d"
           }
          ],
          "parcoords": [
           {
            "line": {
             "colorbar": {
              "outlinewidth": 1,
              "tickcolor": "rgb(36,36,36)",
              "ticks": "outside"
             }
            },
            "type": "parcoords"
           }
          ],
          "pie": [
           {
            "automargin": true,
            "type": "pie"
           }
          ],
          "scatter": [
           {
            "marker": {
             "colorbar": {
              "outlinewidth": 1,
              "tickcolor": "rgb(36,36,36)",
              "ticks": "outside"
             }
            },
            "type": "scatter"
           }
          ],
          "scatter3d": [
           {
            "line": {
             "colorbar": {
              "outlinewidth": 1,
              "tickcolor": "rgb(36,36,36)",
              "ticks": "outside"
             }
            },
            "marker": {
             "colorbar": {
              "outlinewidth": 1,
              "tickcolor": "rgb(36,36,36)",
              "ticks": "outside"
             }
            },
            "type": "scatter3d"
           }
          ],
          "scattercarpet": [
           {
            "marker": {
             "colorbar": {
              "outlinewidth": 1,
              "tickcolor": "rgb(36,36,36)",
              "ticks": "outside"
             }
            },
            "type": "scattercarpet"
           }
          ],
          "scattergeo": [
           {
            "marker": {
             "colorbar": {
              "outlinewidth": 1,
              "tickcolor": "rgb(36,36,36)",
              "ticks": "outside"
             }
            },
            "type": "scattergeo"
           }
          ],
          "scattergl": [
           {
            "marker": {
             "colorbar": {
              "outlinewidth": 1,
              "tickcolor": "rgb(36,36,36)",
              "ticks": "outside"
             }
            },
            "type": "scattergl"
           }
          ],
          "scattermapbox": [
           {
            "marker": {
             "colorbar": {
              "outlinewidth": 1,
              "tickcolor": "rgb(36,36,36)",
              "ticks": "outside"
             }
            },
            "type": "scattermapbox"
           }
          ],
          "scatterpolar": [
           {
            "marker": {
             "colorbar": {
              "outlinewidth": 1,
              "tickcolor": "rgb(36,36,36)",
              "ticks": "outside"
             }
            },
            "type": "scatterpolar"
           }
          ],
          "scatterpolargl": [
           {
            "marker": {
             "colorbar": {
              "outlinewidth": 1,
              "tickcolor": "rgb(36,36,36)",
              "ticks": "outside"
             }
            },
            "type": "scatterpolargl"
           }
          ],
          "scatterternary": [
           {
            "marker": {
             "colorbar": {
              "outlinewidth": 1,
              "tickcolor": "rgb(36,36,36)",
              "ticks": "outside"
             }
            },
            "type": "scatterternary"
           }
          ],
          "surface": [
           {
            "colorbar": {
             "outlinewidth": 1,
             "tickcolor": "rgb(36,36,36)",
             "ticks": "outside"
            },
            "colorscale": [
             [
              0,
              "#440154"
             ],
             [
              0.1111111111111111,
              "#482878"
             ],
             [
              0.2222222222222222,
              "#3e4989"
             ],
             [
              0.3333333333333333,
              "#31688e"
             ],
             [
              0.4444444444444444,
              "#26828e"
             ],
             [
              0.5555555555555556,
              "#1f9e89"
             ],
             [
              0.6666666666666666,
              "#35b779"
             ],
             [
              0.7777777777777778,
              "#6ece58"
             ],
             [
              0.8888888888888888,
              "#b5de2b"
             ],
             [
              1,
              "#fde725"
             ]
            ],
            "type": "surface"
           }
          ],
          "table": [
           {
            "cells": {
             "fill": {
              "color": "rgb(237,237,237)"
             },
             "line": {
              "color": "white"
             }
            },
            "header": {
             "fill": {
              "color": "rgb(217,217,217)"
             },
             "line": {
              "color": "white"
             }
            },
            "type": "table"
           }
          ]
         },
         "layout": {
          "annotationdefaults": {
           "arrowhead": 0,
           "arrowwidth": 1
          },
          "autotypenumbers": "strict",
          "coloraxis": {
           "colorbar": {
            "outlinewidth": 1,
            "tickcolor": "rgb(36,36,36)",
            "ticks": "outside"
           }
          },
          "colorscale": {
           "diverging": [
            [
             0,
             "rgb(103,0,31)"
            ],
            [
             0.1,
             "rgb(178,24,43)"
            ],
            [
             0.2,
             "rgb(214,96,77)"
            ],
            [
             0.3,
             "rgb(244,165,130)"
            ],
            [
             0.4,
             "rgb(253,219,199)"
            ],
            [
             0.5,
             "rgb(247,247,247)"
            ],
            [
             0.6,
             "rgb(209,229,240)"
            ],
            [
             0.7,
             "rgb(146,197,222)"
            ],
            [
             0.8,
             "rgb(67,147,195)"
            ],
            [
             0.9,
             "rgb(33,102,172)"
            ],
            [
             1,
             "rgb(5,48,97)"
            ]
           ],
           "sequential": [
            [
             0,
             "#440154"
            ],
            [
             0.1111111111111111,
             "#482878"
            ],
            [
             0.2222222222222222,
             "#3e4989"
            ],
            [
             0.3333333333333333,
             "#31688e"
            ],
            [
             0.4444444444444444,
             "#26828e"
            ],
            [
             0.5555555555555556,
             "#1f9e89"
            ],
            [
             0.6666666666666666,
             "#35b779"
            ],
            [
             0.7777777777777778,
             "#6ece58"
            ],
            [
             0.8888888888888888,
             "#b5de2b"
            ],
            [
             1,
             "#fde725"
            ]
           ],
           "sequentialminus": [
            [
             0,
             "#440154"
            ],
            [
             0.1111111111111111,
             "#482878"
            ],
            [
             0.2222222222222222,
             "#3e4989"
            ],
            [
             0.3333333333333333,
             "#31688e"
            ],
            [
             0.4444444444444444,
             "#26828e"
            ],
            [
             0.5555555555555556,
             "#1f9e89"
            ],
            [
             0.6666666666666666,
             "#35b779"
            ],
            [
             0.7777777777777778,
             "#6ece58"
            ],
            [
             0.8888888888888888,
             "#b5de2b"
            ],
            [
             1,
             "#fde725"
            ]
           ]
          },
          "colorway": [
           "#1F77B4",
           "#FF7F0E",
           "#2CA02C",
           "#D62728",
           "#9467BD",
           "#8C564B",
           "#E377C2",
           "#7F7F7F",
           "#BCBD22",
           "#17BECF"
          ],
          "font": {
           "color": "rgb(36,36,36)"
          },
          "geo": {
           "bgcolor": "white",
           "lakecolor": "white",
           "landcolor": "white",
           "showlakes": true,
           "showland": true,
           "subunitcolor": "white"
          },
          "hoverlabel": {
           "align": "left"
          },
          "hovermode": "closest",
          "mapbox": {
           "style": "light"
          },
          "paper_bgcolor": "white",
          "plot_bgcolor": "white",
          "polar": {
           "angularaxis": {
            "gridcolor": "rgb(232,232,232)",
            "linecolor": "rgb(36,36,36)",
            "showgrid": false,
            "showline": true,
            "ticks": "outside"
           },
           "bgcolor": "white",
           "radialaxis": {
            "gridcolor": "rgb(232,232,232)",
            "linecolor": "rgb(36,36,36)",
            "showgrid": false,
            "showline": true,
            "ticks": "outside"
           }
          },
          "scene": {
           "xaxis": {
            "backgroundcolor": "white",
            "gridcolor": "rgb(232,232,232)",
            "gridwidth": 2,
            "linecolor": "rgb(36,36,36)",
            "showbackground": true,
            "showgrid": false,
            "showline": true,
            "ticks": "outside",
            "zeroline": false,
            "zerolinecolor": "rgb(36,36,36)"
           },
           "yaxis": {
            "backgroundcolor": "white",
            "gridcolor": "rgb(232,232,232)",
            "gridwidth": 2,
            "linecolor": "rgb(36,36,36)",
            "showbackground": true,
            "showgrid": false,
            "showline": true,
            "ticks": "outside",
            "zeroline": false,
            "zerolinecolor": "rgb(36,36,36)"
           },
           "zaxis": {
            "backgroundcolor": "white",
            "gridcolor": "rgb(232,232,232)",
            "gridwidth": 2,
            "linecolor": "rgb(36,36,36)",
            "showbackground": true,
            "showgrid": false,
            "showline": true,
            "ticks": "outside",
            "zeroline": false,
            "zerolinecolor": "rgb(36,36,36)"
           }
          },
          "shapedefaults": {
           "fillcolor": "black",
           "line": {
            "width": 0
           },
           "opacity": 0.3
          },
          "ternary": {
           "aaxis": {
            "gridcolor": "rgb(232,232,232)",
            "linecolor": "rgb(36,36,36)",
            "showgrid": false,
            "showline": true,
            "ticks": "outside"
           },
           "baxis": {
            "gridcolor": "rgb(232,232,232)",
            "linecolor": "rgb(36,36,36)",
            "showgrid": false,
            "showline": true,
            "ticks": "outside"
           },
           "bgcolor": "white",
           "caxis": {
            "gridcolor": "rgb(232,232,232)",
            "linecolor": "rgb(36,36,36)",
            "showgrid": false,
            "showline": true,
            "ticks": "outside"
           }
          },
          "title": {
           "x": 0.05
          },
          "xaxis": {
           "automargin": true,
           "gridcolor": "rgb(232,232,232)",
           "linecolor": "rgb(36,36,36)",
           "showgrid": false,
           "showline": true,
           "ticks": "outside",
           "title": {
            "standoff": 15
           },
           "zeroline": false,
           "zerolinecolor": "rgb(36,36,36)"
          },
          "yaxis": {
           "automargin": true,
           "gridcolor": "rgb(232,232,232)",
           "linecolor": "rgb(36,36,36)",
           "showgrid": false,
           "showline": true,
           "ticks": "outside",
           "title": {
            "standoff": 15
           },
           "zeroline": false,
           "zerolinecolor": "rgb(36,36,36)"
          }
         }
        },
        "title": {
         "text": "Effect of Gradient on survival"
        },
        "xaxis": {
         "anchor": "y",
         "domain": [
          0,
          0.27
         ],
         "showticklabels": false,
         "tickvals": [
          0
         ],
         "title": {
          "text": "Gradient"
         }
        },
        "xaxis2": {
         "anchor": "y2",
         "domain": [
          0.37,
          1
         ],
         "title": {
          "text": "Years"
         }
        },
        "yaxis": {
         "anchor": "x",
         "domain": [
          0,
          1
         ],
         "dtick": 1,
         "range": [
          0,
          3
         ],
         "title": {
          "text": "Hazard Ratio (95% CI)"
         }
        },
        "yaxis2": {
         "anchor": "x2",
         "domain": [
          0,
          1
         ],
         "dtick": 0.2,
         "title": {
          "text": "Survivors (proportion)"
         }
        }
       }
      },
      "text/html": [
       "<div>                            <div id=\"53dbc13f-6010-41b0-a636-c5310f010cfd\" class=\"plotly-graph-div\" style=\"height:525px; width:100%;\"></div>            <script type=\"text/javascript\">                require([\"plotly\"], function(Plotly) {                    window.PLOTLYENV=window.PLOTLYENV || {};                                    if (document.getElementById(\"53dbc13f-6010-41b0-a636-c5310f010cfd\")) {                    Plotly.newPlot(                        \"53dbc13f-6010-41b0-a636-c5310f010cfd\",                        [{\"error_y\":{\"array\":[0.9461047992313225],\"arrayminus\":[0.5463401418202206],\"symmetric\":false,\"type\":\"data\"},\"marker\":{\"size\":15,\"symbol\":\"diamond\"},\"showlegend\":false,\"type\":\"scatter\",\"x\":[\"Gradient\"],\"xaxis\":\"x\",\"y\":[1.2929983194019026],\"yaxis\":\"y\"},{\"line\":{\"dash\":\"dash\",\"shape\":\"hv\"},\"mode\":\"lines\",\"name\":\"Mean\",\"type\":\"scatter\",\"x\":[2.537987679671458,6.828199863107461,7.488021902806297,7.6358658453114305,9.95482546201232,9.979466119096507,11.077344284736482,11.630390143737166,12.78302532511978,13.598904859685147,14.250513347022586,14.25325119780972,14.255989048596852,14.28062970568104,14.318959616700887,14.373716632443532,14.4476386036961,14.485968514715948,14.510609171800136,14.521560574948666,14.548939082819986,14.570841889117045,14.581793292265573,14.60643394934976,14.67214236824093,14.699520876112253,14.707734428473648,14.743326488706366,14.757015742642023,14.806297056810404,14.809034907597535,14.874743326488709,14.8911704312115,14.921286789869953,14.93223819301848,14.978781656399724,15.017111567419576,15.019849418206707,15.047227926078028,15.099247091033538],\"xaxis\":\"x2\",\"y\":[0.9767594612627788,0.9535968836402587,0.9305337541999337,0.9071922885448485,0.8839648467326875,0.8602333705821211,0.8365046153903974,0.8129038549118589,0.7891965934524781,0.7656190962667841,0.7656190962667841,0.7656190962667841,0.7656190962667841,0.7656190962667841,0.7656190962667841,0.7656190962667841,0.7656190962667841,0.7656190962667841,0.7656190962667841,0.7656190962667841,0.7656190962667841,0.7656190962667841,0.7656190962667841,0.7656190962667841,0.7656190962667841,0.7656190962667841,0.7656190962667841,0.7656190962667841,0.7656190962667841,0.7656190962667841,0.7656190962667841,0.7656190962667841,0.7656190962667841,0.7656190962667841,0.7656190962667841,0.7656190962667841,0.7656190962667841,0.7656190962667841,0.7656190962667841,0.7656190962667841],\"yaxis\":\"y2\"},{\"line\":{\"shape\":\"hv\"},\"mode\":\"lines\",\"name\":\"-2 SD\",\"type\":\"scatter\",\"x\":[2.537987679671458,6.828199863107461,7.488021902806297,7.6358658453114305,9.95482546201232,9.979466119096507,11.077344284736482,11.630390143737166,12.78302532511978,13.598904859685147,14.250513347022586,14.25325119780972,14.255989048596852,14.28062970568104,14.318959616700887,14.373716632443532,14.4476386036961,14.485968514715948,14.510609171800136,14.521560574948666,14.548939082819986,14.570841889117045,14.581793292265573,14.60643394934976,14.67214236824093,14.699520876112253,14.707734428473648,14.743326488706366,14.757015742642023,14.806297056810404,14.809034907597535,14.874743326488709,14.8911704312115,14.921286789869953,14.93223819301848,14.978781656399724,15.017111567419576,15.019849418206707,15.047227926078028,15.099247091033538],\"xaxis\":\"x2\",\"y\":[0.9860332355809464,0.971979802000821,0.9578497361878122,0.943405094874672,0.9288819775212448,0.9138844215625289,0.8987213981090623,0.8834677164392347,0.8679649384059781,0.8523602608859955,0.8523602608859955,0.8523602608859955,0.8523602608859955,0.8523602608859955,0.8523602608859955,0.8523602608859955,0.8523602608859955,0.8523602608859955,0.8523602608859955,0.8523602608859955,0.8523602608859955,0.8523602608859955,0.8523602608859955,0.8523602608859955,0.8523602608859955,0.8523602608859955,0.8523602608859955,0.8523602608859955,0.8523602608859955,0.8523602608859955,0.8523602608859955,0.8523602608859955,0.8523602608859955,0.8523602608859955,0.8523602608859955,0.8523602608859955,0.8523602608859955,0.8523602608859955,0.8523602608859955,0.8523602608859955],\"yaxis\":\"y2\"},{\"line\":{\"shape\":\"hv\"},\"mode\":\"lines\",\"name\":\"2 SD\",\"type\":\"scatter\",\"x\":[2.537987679671458,6.828199863107461,7.488021902806297,7.6358658453114305,9.95482546201232,9.979466119096507,11.077344284736482,11.630390143737166,12.78302532511978,13.598904859685147,14.250513347022586,14.25325119780972,14.255989048596852,14.28062970568104,14.318959616700887,14.373716632443532,14.4476386036961,14.485968514715948,14.510609171800136,14.521560574948666,14.548939082819986,14.570841889117045,14.581793292265573,14.60643394934976,14.67214236824093,14.699520876112253,14.707734428473648,14.743326488706366,14.757015742642023,14.806297056810404,14.809034907597535,14.874743326488709,14.8911704312115,14.921286789869953,14.93223819301848,14.978781656399724,15.017111567419576,15.019849418206707,15.047227926078028,15.099247091033538],\"xaxis\":\"x2\",\"y\":[0.9614495449570774,0.9236367189370777,0.8865943941527895,0.8497279120410709,0.8136687409394199,0.7774788562991932,0.7419576401500952,0.70729321036804,0.6731465581483932,0.639863516118293,0.639863516118293,0.639863516118293,0.639863516118293,0.639863516118293,0.639863516118293,0.639863516118293,0.639863516118293,0.639863516118293,0.639863516118293,0.639863516118293,0.639863516118293,0.639863516118293,0.639863516118293,0.639863516118293,0.639863516118293,0.639863516118293,0.639863516118293,0.639863516118293,0.639863516118293,0.639863516118293,0.639863516118293,0.639863516118293,0.639863516118293,0.639863516118293,0.639863516118293,0.639863516118293,0.639863516118293,0.639863516118293,0.639863516118293,0.639863516118293],\"yaxis\":\"y2\"}],                        {\"annotations\":[{\"font\":{\"size\":16},\"showarrow\":false,\"text\":\"Estimated hazard ratio\",\"x\":0.135,\"xanchor\":\"center\",\"xref\":\"paper\",\"y\":1.0,\"yanchor\":\"bottom\",\"yref\":\"paper\"},{\"font\":{\"size\":16},\"showarrow\":false,\"text\":\"Survival stratification\",\"x\":0.685,\"xanchor\":\"center\",\"xref\":\"paper\",\"y\":1.0,\"yanchor\":\"bottom\",\"yref\":\"paper\"}],\"legend\":{\"title\":{\"text\":\"Gradient\"}},\"template\":{\"data\":{\"bar\":[{\"error_x\":{\"color\":\"rgb(36,36,36)\"},\"error_y\":{\"color\":\"rgb(36,36,36)\"},\"marker\":{\"line\":{\"color\":\"white\",\"width\":0.5},\"pattern\":{\"fillmode\":\"overlay\",\"size\":10,\"solidity\":0.2}},\"type\":\"bar\"}],\"barpolar\":[{\"marker\":{\"line\":{\"color\":\"white\",\"width\":0.5},\"pattern\":{\"fillmode\":\"overlay\",\"size\":10,\"solidity\":0.2}},\"type\":\"barpolar\"}],\"carpet\":[{\"aaxis\":{\"endlinecolor\":\"rgb(36,36,36)\",\"gridcolor\":\"white\",\"linecolor\":\"white\",\"minorgridcolor\":\"white\",\"startlinecolor\":\"rgb(36,36,36)\"},\"baxis\":{\"endlinecolor\":\"rgb(36,36,36)\",\"gridcolor\":\"white\",\"linecolor\":\"white\",\"minorgridcolor\":\"white\",\"startlinecolor\":\"rgb(36,36,36)\"},\"type\":\"carpet\"}],\"choropleth\":[{\"colorbar\":{\"outlinewidth\":1,\"tickcolor\":\"rgb(36,36,36)\",\"ticks\":\"outside\"},\"type\":\"choropleth\"}],\"contour\":[{\"colorbar\":{\"outlinewidth\":1,\"tickcolor\":\"rgb(36,36,36)\",\"ticks\":\"outside\"},\"colorscale\":[[0.0,\"#440154\"],[0.1111111111111111,\"#482878\"],[0.2222222222222222,\"#3e4989\"],[0.3333333333333333,\"#31688e\"],[0.4444444444444444,\"#26828e\"],[0.5555555555555556,\"#1f9e89\"],[0.6666666666666666,\"#35b779\"],[0.7777777777777778,\"#6ece58\"],[0.8888888888888888,\"#b5de2b\"],[1.0,\"#fde725\"]],\"type\":\"contour\"}],\"contourcarpet\":[{\"colorbar\":{\"outlinewidth\":1,\"tickcolor\":\"rgb(36,36,36)\",\"ticks\":\"outside\"},\"type\":\"contourcarpet\"}],\"heatmap\":[{\"colorbar\":{\"outlinewidth\":1,\"tickcolor\":\"rgb(36,36,36)\",\"ticks\":\"outside\"},\"colorscale\":[[0.0,\"#440154\"],[0.1111111111111111,\"#482878\"],[0.2222222222222222,\"#3e4989\"],[0.3333333333333333,\"#31688e\"],[0.4444444444444444,\"#26828e\"],[0.5555555555555556,\"#1f9e89\"],[0.6666666666666666,\"#35b779\"],[0.7777777777777778,\"#6ece58\"],[0.8888888888888888,\"#b5de2b\"],[1.0,\"#fde725\"]],\"type\":\"heatmap\"}],\"heatmapgl\":[{\"colorbar\":{\"outlinewidth\":1,\"tickcolor\":\"rgb(36,36,36)\",\"ticks\":\"outside\"},\"colorscale\":[[0.0,\"#440154\"],[0.1111111111111111,\"#482878\"],[0.2222222222222222,\"#3e4989\"],[0.3333333333333333,\"#31688e\"],[0.4444444444444444,\"#26828e\"],[0.5555555555555556,\"#1f9e89\"],[0.6666666666666666,\"#35b779\"],[0.7777777777777778,\"#6ece58\"],[0.8888888888888888,\"#b5de2b\"],[1.0,\"#fde725\"]],\"type\":\"heatmapgl\"}],\"histogram\":[{\"marker\":{\"line\":{\"color\":\"white\",\"width\":0.6}},\"type\":\"histogram\"}],\"histogram2d\":[{\"colorbar\":{\"outlinewidth\":1,\"tickcolor\":\"rgb(36,36,36)\",\"ticks\":\"outside\"},\"colorscale\":[[0.0,\"#440154\"],[0.1111111111111111,\"#482878\"],[0.2222222222222222,\"#3e4989\"],[0.3333333333333333,\"#31688e\"],[0.4444444444444444,\"#26828e\"],[0.5555555555555556,\"#1f9e89\"],[0.6666666666666666,\"#35b779\"],[0.7777777777777778,\"#6ece58\"],[0.8888888888888888,\"#b5de2b\"],[1.0,\"#fde725\"]],\"type\":\"histogram2d\"}],\"histogram2dcontour\":[{\"colorbar\":{\"outlinewidth\":1,\"tickcolor\":\"rgb(36,36,36)\",\"ticks\":\"outside\"},\"colorscale\":[[0.0,\"#440154\"],[0.1111111111111111,\"#482878\"],[0.2222222222222222,\"#3e4989\"],[0.3333333333333333,\"#31688e\"],[0.4444444444444444,\"#26828e\"],[0.5555555555555556,\"#1f9e89\"],[0.6666666666666666,\"#35b779\"],[0.7777777777777778,\"#6ece58\"],[0.8888888888888888,\"#b5de2b\"],[1.0,\"#fde725\"]],\"type\":\"histogram2dcontour\"}],\"mesh3d\":[{\"colorbar\":{\"outlinewidth\":1,\"tickcolor\":\"rgb(36,36,36)\",\"ticks\":\"outside\"},\"type\":\"mesh3d\"}],\"parcoords\":[{\"line\":{\"colorbar\":{\"outlinewidth\":1,\"tickcolor\":\"rgb(36,36,36)\",\"ticks\":\"outside\"}},\"type\":\"parcoords\"}],\"pie\":[{\"automargin\":true,\"type\":\"pie\"}],\"scatter\":[{\"marker\":{\"colorbar\":{\"outlinewidth\":1,\"tickcolor\":\"rgb(36,36,36)\",\"ticks\":\"outside\"}},\"type\":\"scatter\"}],\"scatter3d\":[{\"line\":{\"colorbar\":{\"outlinewidth\":1,\"tickcolor\":\"rgb(36,36,36)\",\"ticks\":\"outside\"}},\"marker\":{\"colorbar\":{\"outlinewidth\":1,\"tickcolor\":\"rgb(36,36,36)\",\"ticks\":\"outside\"}},\"type\":\"scatter3d\"}],\"scattercarpet\":[{\"marker\":{\"colorbar\":{\"outlinewidth\":1,\"tickcolor\":\"rgb(36,36,36)\",\"ticks\":\"outside\"}},\"type\":\"scattercarpet\"}],\"scattergeo\":[{\"marker\":{\"colorbar\":{\"outlinewidth\":1,\"tickcolor\":\"rgb(36,36,36)\",\"ticks\":\"outside\"}},\"type\":\"scattergeo\"}],\"scattergl\":[{\"marker\":{\"colorbar\":{\"outlinewidth\":1,\"tickcolor\":\"rgb(36,36,36)\",\"ticks\":\"outside\"}},\"type\":\"scattergl\"}],\"scattermapbox\":[{\"marker\":{\"colorbar\":{\"outlinewidth\":1,\"tickcolor\":\"rgb(36,36,36)\",\"ticks\":\"outside\"}},\"type\":\"scattermapbox\"}],\"scatterpolar\":[{\"marker\":{\"colorbar\":{\"outlinewidth\":1,\"tickcolor\":\"rgb(36,36,36)\",\"ticks\":\"outside\"}},\"type\":\"scatterpolar\"}],\"scatterpolargl\":[{\"marker\":{\"colorbar\":{\"outlinewidth\":1,\"tickcolor\":\"rgb(36,36,36)\",\"ticks\":\"outside\"}},\"type\":\"scatterpolargl\"}],\"scatterternary\":[{\"marker\":{\"colorbar\":{\"outlinewidth\":1,\"tickcolor\":\"rgb(36,36,36)\",\"ticks\":\"outside\"}},\"type\":\"scatterternary\"}],\"surface\":[{\"colorbar\":{\"outlinewidth\":1,\"tickcolor\":\"rgb(36,36,36)\",\"ticks\":\"outside\"},\"colorscale\":[[0.0,\"#440154\"],[0.1111111111111111,\"#482878\"],[0.2222222222222222,\"#3e4989\"],[0.3333333333333333,\"#31688e\"],[0.4444444444444444,\"#26828e\"],[0.5555555555555556,\"#1f9e89\"],[0.6666666666666666,\"#35b779\"],[0.7777777777777778,\"#6ece58\"],[0.8888888888888888,\"#b5de2b\"],[1.0,\"#fde725\"]],\"type\":\"surface\"}],\"table\":[{\"cells\":{\"fill\":{\"color\":\"rgb(237,237,237)\"},\"line\":{\"color\":\"white\"}},\"header\":{\"fill\":{\"color\":\"rgb(217,217,217)\"},\"line\":{\"color\":\"white\"}},\"type\":\"table\"}]},\"layout\":{\"annotationdefaults\":{\"arrowhead\":0,\"arrowwidth\":1},\"autotypenumbers\":\"strict\",\"coloraxis\":{\"colorbar\":{\"outlinewidth\":1,\"tickcolor\":\"rgb(36,36,36)\",\"ticks\":\"outside\"}},\"colorscale\":{\"diverging\":[[0.0,\"rgb(103,0,31)\"],[0.1,\"rgb(178,24,43)\"],[0.2,\"rgb(214,96,77)\"],[0.3,\"rgb(244,165,130)\"],[0.4,\"rgb(253,219,199)\"],[0.5,\"rgb(247,247,247)\"],[0.6,\"rgb(209,229,240)\"],[0.7,\"rgb(146,197,222)\"],[0.8,\"rgb(67,147,195)\"],[0.9,\"rgb(33,102,172)\"],[1.0,\"rgb(5,48,97)\"]],\"sequential\":[[0.0,\"#440154\"],[0.1111111111111111,\"#482878\"],[0.2222222222222222,\"#3e4989\"],[0.3333333333333333,\"#31688e\"],[0.4444444444444444,\"#26828e\"],[0.5555555555555556,\"#1f9e89\"],[0.6666666666666666,\"#35b779\"],[0.7777777777777778,\"#6ece58\"],[0.8888888888888888,\"#b5de2b\"],[1.0,\"#fde725\"]],\"sequentialminus\":[[0.0,\"#440154\"],[0.1111111111111111,\"#482878\"],[0.2222222222222222,\"#3e4989\"],[0.3333333333333333,\"#31688e\"],[0.4444444444444444,\"#26828e\"],[0.5555555555555556,\"#1f9e89\"],[0.6666666666666666,\"#35b779\"],[0.7777777777777778,\"#6ece58\"],[0.8888888888888888,\"#b5de2b\"],[1.0,\"#fde725\"]]},\"colorway\":[\"#1F77B4\",\"#FF7F0E\",\"#2CA02C\",\"#D62728\",\"#9467BD\",\"#8C564B\",\"#E377C2\",\"#7F7F7F\",\"#BCBD22\",\"#17BECF\"],\"font\":{\"color\":\"rgb(36,36,36)\"},\"geo\":{\"bgcolor\":\"white\",\"lakecolor\":\"white\",\"landcolor\":\"white\",\"showlakes\":true,\"showland\":true,\"subunitcolor\":\"white\"},\"hoverlabel\":{\"align\":\"left\"},\"hovermode\":\"closest\",\"mapbox\":{\"style\":\"light\"},\"paper_bgcolor\":\"white\",\"plot_bgcolor\":\"white\",\"polar\":{\"angularaxis\":{\"gridcolor\":\"rgb(232,232,232)\",\"linecolor\":\"rgb(36,36,36)\",\"showgrid\":false,\"showline\":true,\"ticks\":\"outside\"},\"bgcolor\":\"white\",\"radialaxis\":{\"gridcolor\":\"rgb(232,232,232)\",\"linecolor\":\"rgb(36,36,36)\",\"showgrid\":false,\"showline\":true,\"ticks\":\"outside\"}},\"scene\":{\"xaxis\":{\"backgroundcolor\":\"white\",\"gridcolor\":\"rgb(232,232,232)\",\"gridwidth\":2,\"linecolor\":\"rgb(36,36,36)\",\"showbackground\":true,\"showgrid\":false,\"showline\":true,\"ticks\":\"outside\",\"zeroline\":false,\"zerolinecolor\":\"rgb(36,36,36)\"},\"yaxis\":{\"backgroundcolor\":\"white\",\"gridcolor\":\"rgb(232,232,232)\",\"gridwidth\":2,\"linecolor\":\"rgb(36,36,36)\",\"showbackground\":true,\"showgrid\":false,\"showline\":true,\"ticks\":\"outside\",\"zeroline\":false,\"zerolinecolor\":\"rgb(36,36,36)\"},\"zaxis\":{\"backgroundcolor\":\"white\",\"gridcolor\":\"rgb(232,232,232)\",\"gridwidth\":2,\"linecolor\":\"rgb(36,36,36)\",\"showbackground\":true,\"showgrid\":false,\"showline\":true,\"ticks\":\"outside\",\"zeroline\":false,\"zerolinecolor\":\"rgb(36,36,36)\"}},\"shapedefaults\":{\"fillcolor\":\"black\",\"line\":{\"width\":0},\"opacity\":0.3},\"ternary\":{\"aaxis\":{\"gridcolor\":\"rgb(232,232,232)\",\"linecolor\":\"rgb(36,36,36)\",\"showgrid\":false,\"showline\":true,\"ticks\":\"outside\"},\"baxis\":{\"gridcolor\":\"rgb(232,232,232)\",\"linecolor\":\"rgb(36,36,36)\",\"showgrid\":false,\"showline\":true,\"ticks\":\"outside\"},\"bgcolor\":\"white\",\"caxis\":{\"gridcolor\":\"rgb(232,232,232)\",\"linecolor\":\"rgb(36,36,36)\",\"showgrid\":false,\"showline\":true,\"ticks\":\"outside\"}},\"title\":{\"x\":0.05},\"xaxis\":{\"automargin\":true,\"gridcolor\":\"rgb(232,232,232)\",\"linecolor\":\"rgb(36,36,36)\",\"showgrid\":false,\"showline\":true,\"ticks\":\"outside\",\"title\":{\"standoff\":15},\"zeroline\":false,\"zerolinecolor\":\"rgb(36,36,36)\"},\"yaxis\":{\"automargin\":true,\"gridcolor\":\"rgb(232,232,232)\",\"linecolor\":\"rgb(36,36,36)\",\"showgrid\":false,\"showline\":true,\"ticks\":\"outside\",\"title\":{\"standoff\":15},\"zeroline\":false,\"zerolinecolor\":\"rgb(36,36,36)\"}}},\"title\":{\"text\":\"Effect of Gradient on survival\"},\"xaxis\":{\"anchor\":\"y\",\"domain\":[0.0,0.27],\"showticklabels\":false,\"tickvals\":[0],\"title\":{\"text\":\"Gradient\"}},\"xaxis2\":{\"anchor\":\"y2\",\"domain\":[0.37,1.0],\"title\":{\"text\":\"Years\"}},\"yaxis\":{\"anchor\":\"x\",\"domain\":[0.0,1.0],\"dtick\":1,\"range\":[0.0,3.0],\"title\":{\"text\":\"Hazard Ratio (95% CI)\"}},\"yaxis2\":{\"anchor\":\"x2\",\"domain\":[0.0,1.0],\"dtick\":0.2,\"title\":{\"text\":\"Survivors (proportion)\"}}},                        {\"responsive\": true}                    ).then(function(){\n",
       "                            \n",
       "var gd = document.getElementById('53dbc13f-6010-41b0-a636-c5310f010cfd');\n",
       "var x = new MutationObserver(function (mutations, observer) {{\n",
       "        var display = window.getComputedStyle(gd).display;\n",
       "        if (!display || display === 'none') {{\n",
       "            console.log([gd, 'removed!']);\n",
       "            Plotly.purge(gd);\n",
       "            observer.disconnect();\n",
       "        }}\n",
       "}});\n",
       "\n",
       "// Listen for the removal of the full notebook cells\n",
       "var notebookContainer = gd.closest('#notebook-container');\n",
       "if (notebookContainer) {{\n",
       "    x.observe(notebookContainer, {childList: true});\n",
       "}}\n",
       "\n",
       "// Listen for the clearing of the current output cell\n",
       "var outputEl = gd.closest('.output');\n",
       "if (outputEl) {{\n",
       "    x.observe(outputEl, {childList: true});\n",
       "}}\n",
       "\n",
       "                        })                };                });            </script>        </div>"
      ]
     },
     "metadata": {},
     "output_type": "display_data"
    }
   ],
   "source": [
    "cohort = [36]\n",
    "survival_columns = ['Gradient']\n",
    "cph = survival_analysis(survival_columns, cohort)\n",
    "fig = plot_hr_analysis(cph, covariate=survival_columns[0])\n",
    "fig.show()"
   ]
  },
  {
   "cell_type": "markdown",
   "metadata": {},
   "source": [
    "## Combined cohorts"
   ]
  },
  {
   "cell_type": "code",
   "execution_count": 18,
   "metadata": {},
   "outputs": [
    {
     "data": {
      "text/html": [
       "<div>\n",
       "<style scoped>\n",
       "    .dataframe tbody tr th:only-of-type {\n",
       "        vertical-align: middle;\n",
       "    }\n",
       "\n",
       "    .dataframe tbody tr th {\n",
       "        vertical-align: top;\n",
       "    }\n",
       "\n",
       "    .dataframe thead th {\n",
       "        text-align: right;\n",
       "    }\n",
       "</style>\n",
       "<table border=\"1\" class=\"dataframe\">\n",
       "  <tbody>\n",
       "    <tr>\n",
       "      <th>model</th>\n",
       "      <td>lifelines.CoxPHFitter</td>\n",
       "    </tr>\n",
       "    <tr>\n",
       "      <th>duration col</th>\n",
       "      <td>'days_from_wave1'</td>\n",
       "    </tr>\n",
       "    <tr>\n",
       "      <th>event col</th>\n",
       "      <td>'dead'</td>\n",
       "    </tr>\n",
       "    <tr>\n",
       "      <th>baseline estimation</th>\n",
       "      <td>breslow</td>\n",
       "    </tr>\n",
       "    <tr>\n",
       "      <th>number of observations</th>\n",
       "      <td>83</td>\n",
       "    </tr>\n",
       "    <tr>\n",
       "      <th>number of events observed</th>\n",
       "      <td>45</td>\n",
       "    </tr>\n",
       "    <tr>\n",
       "      <th>partial log-likelihood</th>\n",
       "      <td>-162.37</td>\n",
       "    </tr>\n",
       "    <tr>\n",
       "      <th>time fit was run</th>\n",
       "      <td>2021-09-03 11:43:08 UTC</td>\n",
       "    </tr>\n",
       "  </tbody>\n",
       "</table>\n",
       "</div><table border=\"1\" class=\"dataframe\">\n",
       "  <thead>\n",
       "    <tr style=\"text-align: right;\">\n",
       "      <th style=\"min-width: 12px;\"></th>\n",
       "      <th style=\"min-width: 12px;\">coef</th>\n",
       "      <th style=\"min-width: 12px;\">exp(coef)</th>\n",
       "      <th style=\"min-width: 12px;\">se(coef)</th>\n",
       "      <th style=\"min-width: 12px;\">coef lower 95%</th>\n",
       "      <th style=\"min-width: 12px;\">coef upper 95%</th>\n",
       "      <th style=\"min-width: 12px;\">exp(coef) lower 95%</th>\n",
       "      <th style=\"min-width: 12px;\">exp(coef) upper 95%</th>\n",
       "      <th style=\"min-width: 12px;\">z</th>\n",
       "      <th style=\"min-width: 12px;\">p</th>\n",
       "      <th style=\"min-width: 12px;\">-log2(p)</th>\n",
       "    </tr>\n",
       "  </thead>\n",
       "  <tbody>\n",
       "    <tr>\n",
       "      <th>Gradient</th>\n",
       "      <td>0.28</td>\n",
       "      <td>1.32</td>\n",
       "      <td>0.13</td>\n",
       "      <td>0.03</td>\n",
       "      <td>0.52</td>\n",
       "      <td>1.03</td>\n",
       "      <td>1.69</td>\n",
       "      <td>2.20</td>\n",
       "      <td>0.03</td>\n",
       "      <td>5.18</td>\n",
       "    </tr>\n",
       "  </tbody>\n",
       "</table><br><div>\n",
       "<style scoped>\n",
       "    .dataframe tbody tr th:only-of-type {\n",
       "        vertical-align: middle;\n",
       "    }\n",
       "\n",
       "    .dataframe tbody tr th {\n",
       "        vertical-align: top;\n",
       "    }\n",
       "\n",
       "    .dataframe thead th {\n",
       "        text-align: right;\n",
       "    }\n",
       "</style>\n",
       "<table border=\"1\" class=\"dataframe\">\n",
       "  <tbody>\n",
       "    <tr>\n",
       "      <th>Concordance</th>\n",
       "      <td>0.50</td>\n",
       "    </tr>\n",
       "    <tr>\n",
       "      <th>Partial AIC</th>\n",
       "      <td>326.74</td>\n",
       "    </tr>\n",
       "    <tr>\n",
       "      <th>log-likelihood ratio test</th>\n",
       "      <td>3.05 on 1 df</td>\n",
       "    </tr>\n",
       "    <tr>\n",
       "      <th>-log2(p) of ll-ratio test</th>\n",
       "      <td>3.63</td>\n",
       "    </tr>\n",
       "  </tbody>\n",
       "</table>\n",
       "</div>"
      ],
      "text/latex": [
       "\\begin{tabular}{lrrrrrrrrrr}\n",
       "\\toprule\n",
       "{} &  coef &  exp(coef) &  se(coef) &  coef lower 95\\% &  coef upper 95\\% &  exp(coef) lower 95\\% &  exp(coef) upper 95\\% &    z &    p &  -log2(p) \\\\\n",
       "covariate &       &            &           &                 &                 &                      &                      &      &      &           \\\\\n",
       "\\midrule\n",
       "Gradient  &  0.28 &       1.32 &      0.13 &            0.03 &            0.52 &                 1.03 &                 1.69 & 2.20 & 0.03 &      5.18 \\\\\n",
       "\\bottomrule\n",
       "\\end{tabular}\n"
      ],
      "text/plain": [
       "<lifelines.CoxPHFitter: fitted with 83 total observations, 38 right-censored observations>\n",
       "             duration col = 'days_from_wave1'\n",
       "                event col = 'dead'\n",
       "      baseline estimation = breslow\n",
       "   number of observations = 83\n",
       "number of events observed = 45\n",
       "   partial log-likelihood = -162.37\n",
       "         time fit was run = 2021-09-03 11:43:08 UTC\n",
       "\n",
       "---\n",
       "            coef  exp(coef)   se(coef)   coef lower 95%   coef upper 95%  exp(coef) lower 95%  exp(coef) upper 95%\n",
       "covariate                                                                                                         \n",
       "Gradient    0.28       1.32       0.13             0.03             0.52                 1.03                 1.69\n",
       "\n",
       "             z    p   -log2(p)\n",
       "covariate                     \n",
       "Gradient  2.20 0.03       5.18\n",
       "---\n",
       "Concordance = 0.50\n",
       "Partial AIC = 326.74\n",
       "log-likelihood ratio test = 3.05 on 1 df\n",
       "-log2(p) of ll-ratio test = 3.63"
      ]
     },
     "metadata": {},
     "output_type": "display_data"
    },
    {
     "data": {
      "application/vnd.plotly.v1+json": {
       "config": {
        "plotlyServerURL": "https://plot.ly"
       },
       "data": [
        {
         "error_y": {
          "array": [
           0.3672277002512221
          ],
          "arrayminus": [
           0.2872058670992408
          ],
          "symmetric": false,
          "type": "data"
         },
         "marker": {
          "size": 15,
          "symbol": "diamond"
         },
         "showlegend": false,
         "type": "scatter",
         "x": [
          "Gradient"
         ],
         "xaxis": "x",
         "y": [
          1.3180146707361546
         ],
         "yaxis": "y"
        },
        {
         "line": {
          "dash": "dash",
          "shape": "hv"
         },
         "mode": "lines",
         "name": "Mean",
         "type": "scatter",
         "x": [
          2.537987679671458,
          6.828199863107461,
          7.383983572895278,
          7.477070499657769,
          7.488021902806297,
          7.6358658453114305,
          8.720054757015742,
          9.45927446954141,
          9.908281998631075,
          9.95482546201232,
          9.979466119096507,
          10.13826146475017,
          11.077344284736482,
          11.630390143737166,
          11.638603696098563,
          11.739904175222453,
          12.328542094455852,
          12.78302532511978,
          13.478439425051334,
          13.505817932922657,
          13.557837097878163,
          13.598904859685147,
          13.765913757700206,
          14.250513347022586,
          14.25325119780972,
          14.255989048596852,
          14.277891854893909,
          14.28062970568104,
          14.318959616700887,
          14.373716632443532,
          14.379192334017796,
          14.41204654346338,
          14.4476386036961,
          14.485968514715948,
          14.510609171800136,
          14.521560574948666,
          14.548939082819986,
          14.570841889117045,
          14.581793292265573,
          14.60643394934976,
          14.67214236824093,
          14.699520876112253,
          14.704996577686517,
          14.707734428473648,
          14.743326488706366,
          14.757015742642023,
          14.76249144421629,
          14.806297056810404,
          14.809034907597535,
          14.874743326488709,
          14.8911704312115,
          14.921286789869953,
          14.93223819301848,
          14.978781656399724,
          15.017111567419576,
          15.019849418206707,
          15.033538672142368,
          15.047227926078028,
          15.099247091033538,
          15.107460643394935,
          15.200547570157427,
          15.214236824093089,
          15.364818617385351,
          15.88227241615332,
          16.449007529089666,
          16.824093086926762,
          17.295003422313485,
          17.541409993155373,
          17.675564681724847,
          17.697467488021903,
          18.023271731690624,
          18.2943189596167,
          18.78986995208761,
          18.833675564681723,
          18.86652977412731,
          20.459958932238195,
          20.52840520191649,
          20.594113620807665,
          20.933607118412045,
          21.00205338809035,
          21.062286105407257,
          21.111567419575632
         ],
         "xaxis": "x2",
         "y": [
          0.9889127883236444,
          0.9778359076752893,
          0.9667724411569215,
          0.9556944355308058,
          0.9446152695270729,
          0.9334994016745417,
          0.9223988547077246,
          0.9112938420191053,
          0.9002037257579792,
          0.8878746159221835,
          0.8754682210894164,
          0.8630610759332925,
          0.8506726829665474,
          0.8383052131041641,
          0.8259194984808277,
          0.8135558922120469,
          0.801208736589489,
          0.788823026140305,
          0.7764588314280859,
          0.7641143082631259,
          0.7517864301681372,
          0.7394347217661273,
          0.7269961056469421,
          0.7269961056469421,
          0.7269961056469421,
          0.7269961056469421,
          0.7137581544564513,
          0.7137581544564513,
          0.7137581544564513,
          0.7137581544564513,
          0.6997965636427759,
          0.685863296680369,
          0.685863296680369,
          0.685863296680369,
          0.685863296680369,
          0.685863296680369,
          0.685863296680369,
          0.685863296680369,
          0.685863296680369,
          0.685863296680369,
          0.685863296680369,
          0.685863296680369,
          0.6684864865375968,
          0.6684864865375968,
          0.6684864865375968,
          0.6684864865375968,
          0.6498327611954682,
          0.6498327611954682,
          0.6498327611954682,
          0.6498327611954682,
          0.6498327611954682,
          0.6498327611954682,
          0.6498327611954682,
          0.6498327611954682,
          0.6498327611954682,
          0.6498327611954682,
          0.623867294345439,
          0.623867294345439,
          0.623867294345439,
          0.595530280447296,
          0.5673306683631553,
          0.5391442071512639,
          0.5111035700536208,
          0.4832286523674634,
          0.45538368841897,
          0.427695289849462,
          0.40018621613439687,
          0.37286286122106876,
          0.3455043643383637,
          0.31836733974609754,
          0.29146932749511156,
          0.26461943738078153,
          0.23802444925555835,
          0.21159943033252473,
          0.1854723421527343,
          0.1854723421527343,
          0.1854723421527343,
          0.1854723421527343,
          0.1854723421527343,
          0.1854723421527343,
          0.1854723421527343,
          0.1854723421527343
         ],
         "yaxis": "y2"
        },
        {
         "line": {
          "shape": "hv"
         },
         "mode": "lines",
         "name": "-2 SD",
         "type": "scatter",
         "x": [
          2.537987679671458,
          6.828199863107461,
          7.383983572895278,
          7.477070499657769,
          7.488021902806297,
          7.6358658453114305,
          8.720054757015742,
          9.45927446954141,
          9.908281998631075,
          9.95482546201232,
          9.979466119096507,
          10.13826146475017,
          11.077344284736482,
          11.630390143737166,
          11.638603696098563,
          11.739904175222453,
          12.328542094455852,
          12.78302532511978,
          13.478439425051334,
          13.505817932922657,
          13.557837097878163,
          13.598904859685147,
          13.765913757700206,
          14.250513347022586,
          14.25325119780972,
          14.255989048596852,
          14.277891854893909,
          14.28062970568104,
          14.318959616700887,
          14.373716632443532,
          14.379192334017796,
          14.41204654346338,
          14.4476386036961,
          14.485968514715948,
          14.510609171800136,
          14.521560574948666,
          14.548939082819986,
          14.570841889117045,
          14.581793292265573,
          14.60643394934976,
          14.67214236824093,
          14.699520876112253,
          14.704996577686517,
          14.707734428473648,
          14.743326488706366,
          14.757015742642023,
          14.76249144421629,
          14.806297056810404,
          14.809034907597535,
          14.874743326488709,
          14.8911704312115,
          14.921286789869953,
          14.93223819301848,
          14.978781656399724,
          15.017111567419576,
          15.019849418206707,
          15.033538672142368,
          15.047227926078028,
          15.099247091033538,
          15.107460643394935,
          15.200547570157427,
          15.214236824093089,
          15.364818617385351,
          15.88227241615332,
          16.449007529089666,
          16.824093086926762,
          17.295003422313485,
          17.541409993155373,
          17.675564681724847,
          17.697467488021903,
          18.023271731690624,
          18.2943189596167,
          18.78986995208761,
          18.833675564681723,
          18.86652977412731,
          20.459958932238195,
          20.52840520191649,
          20.594113620807665,
          20.933607118412045,
          21.00205338809035,
          21.062286105407257,
          21.111567419575632
         ],
         "xaxis": "x2",
         "y": [
          0.9936025382788856,
          0.9871805706678243,
          0.9807354909338019,
          0.9742505042080303,
          0.967732854901554,
          0.961160931605044,
          0.9545648422357595,
          0.9479323067879271,
          0.9412743503380592,
          0.9338315717859532,
          0.92629773377249,
          0.9187179928247969,
          0.9111034313265886,
          0.9034546460539221,
          0.8957464335597629,
          0.8880029014395665,
          0.8802196726708226,
          0.8723608320014486,
          0.8644632405287302,
          0.8565247930786549,
          0.8485425487731839,
          0.8404889705491513,
          0.8323208239972183,
          0.8323208239972183,
          0.8323208239972183,
          0.8323208239972183,
          0.8235623541254021,
          0.8235623541254021,
          0.8235623541254021,
          0.8235623541254021,
          0.8142500875205336,
          0.8048777748995893,
          0.8048777748995893,
          0.8048777748995893,
          0.8048777748995893,
          0.8048777748995893,
          0.8048777748995893,
          0.8048777748995893,
          0.8048777748995893,
          0.8048777748995893,
          0.8048777748995893,
          0.8048777748995893,
          0.7930751490371655,
          0.7930751490371655,
          0.7930751490371655,
          0.7930751490371655,
          0.7802593718414839,
          0.7802593718414839,
          0.7802593718414839,
          0.7802593718414839,
          0.7802593718414839,
          0.7802593718414839,
          0.7802593718414839,
          0.7802593718414839,
          0.7802593718414839,
          0.7802593718414839,
          0.7621572119465178,
          0.7621572119465178,
          0.7621572119465178,
          0.7420327976833184,
          0.7215983253144029,
          0.7007378788251466,
          0.6795208226383732,
          0.6579336047598914,
          0.6358351562290694,
          0.6132846095859672,
          0.5902577043088044,
          0.5667110571652234,
          0.5423881165885427,
          0.5174401636738063,
          0.49180412605208823,
          0.46519114431435893,
          0.43767463481409,
          0.40900773618176023,
          0.3791263102897461,
          0.3791263102897461,
          0.3791263102897461,
          0.3791263102897461,
          0.3791263102897461,
          0.3791263102897461,
          0.3791263102897461,
          0.3791263102897461
         ],
         "yaxis": "y2"
        },
        {
         "line": {
          "shape": "hv"
         },
         "mode": "lines",
         "name": "2 SD",
         "type": "scatter",
         "x": [
          2.537987679671458,
          6.828199863107461,
          7.383983572895278,
          7.477070499657769,
          7.488021902806297,
          7.6358658453114305,
          8.720054757015742,
          9.45927446954141,
          9.908281998631075,
          9.95482546201232,
          9.979466119096507,
          10.13826146475017,
          11.077344284736482,
          11.630390143737166,
          11.638603696098563,
          11.739904175222453,
          12.328542094455852,
          12.78302532511978,
          13.478439425051334,
          13.505817932922657,
          13.557837097878163,
          13.598904859685147,
          13.765913757700206,
          14.250513347022586,
          14.25325119780972,
          14.255989048596852,
          14.277891854893909,
          14.28062970568104,
          14.318959616700887,
          14.373716632443532,
          14.379192334017796,
          14.41204654346338,
          14.4476386036961,
          14.485968514715948,
          14.510609171800136,
          14.521560574948666,
          14.548939082819986,
          14.570841889117045,
          14.581793292265573,
          14.60643394934976,
          14.67214236824093,
          14.699520876112253,
          14.704996577686517,
          14.707734428473648,
          14.743326488706366,
          14.757015742642023,
          14.76249144421629,
          14.806297056810404,
          14.809034907597535,
          14.874743326488709,
          14.8911704312115,
          14.921286789869953,
          14.93223819301848,
          14.978781656399724,
          15.017111567419576,
          15.019849418206707,
          15.033538672142368,
          15.047227926078028,
          15.099247091033538,
          15.107460643394935,
          15.200547570157427,
          15.214236824093089,
          15.364818617385351,
          15.88227241615332,
          16.449007529089666,
          16.824093086926762,
          17.295003422313485,
          17.541409993155373,
          17.675564681724847,
          17.697467488021903,
          18.023271731690624,
          18.2943189596167,
          18.78986995208761,
          18.833675564681723,
          18.86652977412731,
          20.459958932238195,
          20.52840520191649,
          20.594113620807665,
          20.933607118412045,
          21.00205338809035,
          21.062286105407257,
          21.111567419575632
         ],
         "xaxis": "x2",
         "y": [
          0.9808184943932869,
          0.9618125196935465,
          0.942987325659039,
          0.9242958457395423,
          0.9057614711798607,
          0.8873260520735358,
          0.8690768283790258,
          0.8509815418360601,
          0.8330720283917366,
          0.8133517334596897,
          0.7937105532773272,
          0.7742723205843384,
          0.7550679110227486,
          0.7361004844060476,
          0.7173106951315499,
          0.6987604684666836,
          0.6804411687045464,
          0.6622725746114543,
          0.6443440835609141,
          0.6266528452411773,
          0.6091944806039132,
          0.5919127509867101,
          0.5747231696035376,
          0.5747231696035376,
          0.5747231696035376,
          0.5747231696035376,
          0.5566656303403952,
          0.5566656303403952,
          0.5566656303403952,
          0.5566656303403952,
          0.5378867019394863,
          0.5194192091655324,
          0.5194192091655324,
          0.5194192091655324,
          0.5194192091655324,
          0.5194192091655324,
          0.5194192091655324,
          0.5194192091655324,
          0.5194192091655324,
          0.5194192091655324,
          0.5194192091655324,
          0.5194192091655324,
          0.4967723895959009,
          0.4967723895959009,
          0.4967723895959009,
          0.4967723895959009,
          0.4729398741196333,
          0.4729398741196333,
          0.4729398741196333,
          0.4729398741196333,
          0.4729398741196333,
          0.4729398741196333,
          0.4729398741196333,
          0.4729398741196333,
          0.4729398741196333,
          0.4729398741196333,
          0.44059731999011964,
          0.44059731999011964,
          0.44059731999011964,
          0.4064165343179253,
          0.37357133234082235,
          0.3419226276188453,
          0.3116251976627607,
          0.2826974042615505,
          0.25500347195563705,
          0.22867598886132567,
          0.20373451591519948,
          0.18018188997890813,
          0.15784059671883133,
          0.1369323178586504,
          0.1174655996475319,
          0.09931161443507254,
          0.08262096418608333,
          0.06734555809182716,
          0.05356509306272549,
          0.05356509306272549,
          0.05356509306272549,
          0.05356509306272549,
          0.05356509306272549,
          0.05356509306272549,
          0.05356509306272549,
          0.05356509306272549
         ],
         "yaxis": "y2"
        }
       ],
       "layout": {
        "annotations": [
         {
          "font": {
           "size": 16
          },
          "showarrow": false,
          "text": "Estimated hazard ratio",
          "x": 0.135,
          "xanchor": "center",
          "xref": "paper",
          "y": 1,
          "yanchor": "bottom",
          "yref": "paper"
         },
         {
          "font": {
           "size": 16
          },
          "showarrow": false,
          "text": "Survival stratification",
          "x": 0.685,
          "xanchor": "center",
          "xref": "paper",
          "y": 1,
          "yanchor": "bottom",
          "yref": "paper"
         }
        ],
        "legend": {
         "title": {
          "text": "Gradient"
         }
        },
        "template": {
         "data": {
          "bar": [
           {
            "error_x": {
             "color": "rgb(36,36,36)"
            },
            "error_y": {
             "color": "rgb(36,36,36)"
            },
            "marker": {
             "line": {
              "color": "white",
              "width": 0.5
             },
             "pattern": {
              "fillmode": "overlay",
              "size": 10,
              "solidity": 0.2
             }
            },
            "type": "bar"
           }
          ],
          "barpolar": [
           {
            "marker": {
             "line": {
              "color": "white",
              "width": 0.5
             },
             "pattern": {
              "fillmode": "overlay",
              "size": 10,
              "solidity": 0.2
             }
            },
            "type": "barpolar"
           }
          ],
          "carpet": [
           {
            "aaxis": {
             "endlinecolor": "rgb(36,36,36)",
             "gridcolor": "white",
             "linecolor": "white",
             "minorgridcolor": "white",
             "startlinecolor": "rgb(36,36,36)"
            },
            "baxis": {
             "endlinecolor": "rgb(36,36,36)",
             "gridcolor": "white",
             "linecolor": "white",
             "minorgridcolor": "white",
             "startlinecolor": "rgb(36,36,36)"
            },
            "type": "carpet"
           }
          ],
          "choropleth": [
           {
            "colorbar": {
             "outlinewidth": 1,
             "tickcolor": "rgb(36,36,36)",
             "ticks": "outside"
            },
            "type": "choropleth"
           }
          ],
          "contour": [
           {
            "colorbar": {
             "outlinewidth": 1,
             "tickcolor": "rgb(36,36,36)",
             "ticks": "outside"
            },
            "colorscale": [
             [
              0,
              "#440154"
             ],
             [
              0.1111111111111111,
              "#482878"
             ],
             [
              0.2222222222222222,
              "#3e4989"
             ],
             [
              0.3333333333333333,
              "#31688e"
             ],
             [
              0.4444444444444444,
              "#26828e"
             ],
             [
              0.5555555555555556,
              "#1f9e89"
             ],
             [
              0.6666666666666666,
              "#35b779"
             ],
             [
              0.7777777777777778,
              "#6ece58"
             ],
             [
              0.8888888888888888,
              "#b5de2b"
             ],
             [
              1,
              "#fde725"
             ]
            ],
            "type": "contour"
           }
          ],
          "contourcarpet": [
           {
            "colorbar": {
             "outlinewidth": 1,
             "tickcolor": "rgb(36,36,36)",
             "ticks": "outside"
            },
            "type": "contourcarpet"
           }
          ],
          "heatmap": [
           {
            "colorbar": {
             "outlinewidth": 1,
             "tickcolor": "rgb(36,36,36)",
             "ticks": "outside"
            },
            "colorscale": [
             [
              0,
              "#440154"
             ],
             [
              0.1111111111111111,
              "#482878"
             ],
             [
              0.2222222222222222,
              "#3e4989"
             ],
             [
              0.3333333333333333,
              "#31688e"
             ],
             [
              0.4444444444444444,
              "#26828e"
             ],
             [
              0.5555555555555556,
              "#1f9e89"
             ],
             [
              0.6666666666666666,
              "#35b779"
             ],
             [
              0.7777777777777778,
              "#6ece58"
             ],
             [
              0.8888888888888888,
              "#b5de2b"
             ],
             [
              1,
              "#fde725"
             ]
            ],
            "type": "heatmap"
           }
          ],
          "heatmapgl": [
           {
            "colorbar": {
             "outlinewidth": 1,
             "tickcolor": "rgb(36,36,36)",
             "ticks": "outside"
            },
            "colorscale": [
             [
              0,
              "#440154"
             ],
             [
              0.1111111111111111,
              "#482878"
             ],
             [
              0.2222222222222222,
              "#3e4989"
             ],
             [
              0.3333333333333333,
              "#31688e"
             ],
             [
              0.4444444444444444,
              "#26828e"
             ],
             [
              0.5555555555555556,
              "#1f9e89"
             ],
             [
              0.6666666666666666,
              "#35b779"
             ],
             [
              0.7777777777777778,
              "#6ece58"
             ],
             [
              0.8888888888888888,
              "#b5de2b"
             ],
             [
              1,
              "#fde725"
             ]
            ],
            "type": "heatmapgl"
           }
          ],
          "histogram": [
           {
            "marker": {
             "line": {
              "color": "white",
              "width": 0.6
             }
            },
            "type": "histogram"
           }
          ],
          "histogram2d": [
           {
            "colorbar": {
             "outlinewidth": 1,
             "tickcolor": "rgb(36,36,36)",
             "ticks": "outside"
            },
            "colorscale": [
             [
              0,
              "#440154"
             ],
             [
              0.1111111111111111,
              "#482878"
             ],
             [
              0.2222222222222222,
              "#3e4989"
             ],
             [
              0.3333333333333333,
              "#31688e"
             ],
             [
              0.4444444444444444,
              "#26828e"
             ],
             [
              0.5555555555555556,
              "#1f9e89"
             ],
             [
              0.6666666666666666,
              "#35b779"
             ],
             [
              0.7777777777777778,
              "#6ece58"
             ],
             [
              0.8888888888888888,
              "#b5de2b"
             ],
             [
              1,
              "#fde725"
             ]
            ],
            "type": "histogram2d"
           }
          ],
          "histogram2dcontour": [
           {
            "colorbar": {
             "outlinewidth": 1,
             "tickcolor": "rgb(36,36,36)",
             "ticks": "outside"
            },
            "colorscale": [
             [
              0,
              "#440154"
             ],
             [
              0.1111111111111111,
              "#482878"
             ],
             [
              0.2222222222222222,
              "#3e4989"
             ],
             [
              0.3333333333333333,
              "#31688e"
             ],
             [
              0.4444444444444444,
              "#26828e"
             ],
             [
              0.5555555555555556,
              "#1f9e89"
             ],
             [
              0.6666666666666666,
              "#35b779"
             ],
             [
              0.7777777777777778,
              "#6ece58"
             ],
             [
              0.8888888888888888,
              "#b5de2b"
             ],
             [
              1,
              "#fde725"
             ]
            ],
            "type": "histogram2dcontour"
           }
          ],
          "mesh3d": [
           {
            "colorbar": {
             "outlinewidth": 1,
             "tickcolor": "rgb(36,36,36)",
             "ticks": "outside"
            },
            "type": "mesh3d"
           }
          ],
          "parcoords": [
           {
            "line": {
             "colorbar": {
              "outlinewidth": 1,
              "tickcolor": "rgb(36,36,36)",
              "ticks": "outside"
             }
            },
            "type": "parcoords"
           }
          ],
          "pie": [
           {
            "automargin": true,
            "type": "pie"
           }
          ],
          "scatter": [
           {
            "marker": {
             "colorbar": {
              "outlinewidth": 1,
              "tickcolor": "rgb(36,36,36)",
              "ticks": "outside"
             }
            },
            "type": "scatter"
           }
          ],
          "scatter3d": [
           {
            "line": {
             "colorbar": {
              "outlinewidth": 1,
              "tickcolor": "rgb(36,36,36)",
              "ticks": "outside"
             }
            },
            "marker": {
             "colorbar": {
              "outlinewidth": 1,
              "tickcolor": "rgb(36,36,36)",
              "ticks": "outside"
             }
            },
            "type": "scatter3d"
           }
          ],
          "scattercarpet": [
           {
            "marker": {
             "colorbar": {
              "outlinewidth": 1,
              "tickcolor": "rgb(36,36,36)",
              "ticks": "outside"
             }
            },
            "type": "scattercarpet"
           }
          ],
          "scattergeo": [
           {
            "marker": {
             "colorbar": {
              "outlinewidth": 1,
              "tickcolor": "rgb(36,36,36)",
              "ticks": "outside"
             }
            },
            "type": "scattergeo"
           }
          ],
          "scattergl": [
           {
            "marker": {
             "colorbar": {
              "outlinewidth": 1,
              "tickcolor": "rgb(36,36,36)",
              "ticks": "outside"
             }
            },
            "type": "scattergl"
           }
          ],
          "scattermapbox": [
           {
            "marker": {
             "colorbar": {
              "outlinewidth": 1,
              "tickcolor": "rgb(36,36,36)",
              "ticks": "outside"
             }
            },
            "type": "scattermapbox"
           }
          ],
          "scatterpolar": [
           {
            "marker": {
             "colorbar": {
              "outlinewidth": 1,
              "tickcolor": "rgb(36,36,36)",
              "ticks": "outside"
             }
            },
            "type": "scatterpolar"
           }
          ],
          "scatterpolargl": [
           {
            "marker": {
             "colorbar": {
              "outlinewidth": 1,
              "tickcolor": "rgb(36,36,36)",
              "ticks": "outside"
             }
            },
            "type": "scatterpolargl"
           }
          ],
          "scatterternary": [
           {
            "marker": {
             "colorbar": {
              "outlinewidth": 1,
              "tickcolor": "rgb(36,36,36)",
              "ticks": "outside"
             }
            },
            "type": "scatterternary"
           }
          ],
          "surface": [
           {
            "colorbar": {
             "outlinewidth": 1,
             "tickcolor": "rgb(36,36,36)",
             "ticks": "outside"
            },
            "colorscale": [
             [
              0,
              "#440154"
             ],
             [
              0.1111111111111111,
              "#482878"
             ],
             [
              0.2222222222222222,
              "#3e4989"
             ],
             [
              0.3333333333333333,
              "#31688e"
             ],
             [
              0.4444444444444444,
              "#26828e"
             ],
             [
              0.5555555555555556,
              "#1f9e89"
             ],
             [
              0.6666666666666666,
              "#35b779"
             ],
             [
              0.7777777777777778,
              "#6ece58"
             ],
             [
              0.8888888888888888,
              "#b5de2b"
             ],
             [
              1,
              "#fde725"
             ]
            ],
            "type": "surface"
           }
          ],
          "table": [
           {
            "cells": {
             "fill": {
              "color": "rgb(237,237,237)"
             },
             "line": {
              "color": "white"
             }
            },
            "header": {
             "fill": {
              "color": "rgb(217,217,217)"
             },
             "line": {
              "color": "white"
             }
            },
            "type": "table"
           }
          ]
         },
         "layout": {
          "annotationdefaults": {
           "arrowhead": 0,
           "arrowwidth": 1
          },
          "autotypenumbers": "strict",
          "coloraxis": {
           "colorbar": {
            "outlinewidth": 1,
            "tickcolor": "rgb(36,36,36)",
            "ticks": "outside"
           }
          },
          "colorscale": {
           "diverging": [
            [
             0,
             "rgb(103,0,31)"
            ],
            [
             0.1,
             "rgb(178,24,43)"
            ],
            [
             0.2,
             "rgb(214,96,77)"
            ],
            [
             0.3,
             "rgb(244,165,130)"
            ],
            [
             0.4,
             "rgb(253,219,199)"
            ],
            [
             0.5,
             "rgb(247,247,247)"
            ],
            [
             0.6,
             "rgb(209,229,240)"
            ],
            [
             0.7,
             "rgb(146,197,222)"
            ],
            [
             0.8,
             "rgb(67,147,195)"
            ],
            [
             0.9,
             "rgb(33,102,172)"
            ],
            [
             1,
             "rgb(5,48,97)"
            ]
           ],
           "sequential": [
            [
             0,
             "#440154"
            ],
            [
             0.1111111111111111,
             "#482878"
            ],
            [
             0.2222222222222222,
             "#3e4989"
            ],
            [
             0.3333333333333333,
             "#31688e"
            ],
            [
             0.4444444444444444,
             "#26828e"
            ],
            [
             0.5555555555555556,
             "#1f9e89"
            ],
            [
             0.6666666666666666,
             "#35b779"
            ],
            [
             0.7777777777777778,
             "#6ece58"
            ],
            [
             0.8888888888888888,
             "#b5de2b"
            ],
            [
             1,
             "#fde725"
            ]
           ],
           "sequentialminus": [
            [
             0,
             "#440154"
            ],
            [
             0.1111111111111111,
             "#482878"
            ],
            [
             0.2222222222222222,
             "#3e4989"
            ],
            [
             0.3333333333333333,
             "#31688e"
            ],
            [
             0.4444444444444444,
             "#26828e"
            ],
            [
             0.5555555555555556,
             "#1f9e89"
            ],
            [
             0.6666666666666666,
             "#35b779"
            ],
            [
             0.7777777777777778,
             "#6ece58"
            ],
            [
             0.8888888888888888,
             "#b5de2b"
            ],
            [
             1,
             "#fde725"
            ]
           ]
          },
          "colorway": [
           "#1F77B4",
           "#FF7F0E",
           "#2CA02C",
           "#D62728",
           "#9467BD",
           "#8C564B",
           "#E377C2",
           "#7F7F7F",
           "#BCBD22",
           "#17BECF"
          ],
          "font": {
           "color": "rgb(36,36,36)"
          },
          "geo": {
           "bgcolor": "white",
           "lakecolor": "white",
           "landcolor": "white",
           "showlakes": true,
           "showland": true,
           "subunitcolor": "white"
          },
          "hoverlabel": {
           "align": "left"
          },
          "hovermode": "closest",
          "mapbox": {
           "style": "light"
          },
          "paper_bgcolor": "white",
          "plot_bgcolor": "white",
          "polar": {
           "angularaxis": {
            "gridcolor": "rgb(232,232,232)",
            "linecolor": "rgb(36,36,36)",
            "showgrid": false,
            "showline": true,
            "ticks": "outside"
           },
           "bgcolor": "white",
           "radialaxis": {
            "gridcolor": "rgb(232,232,232)",
            "linecolor": "rgb(36,36,36)",
            "showgrid": false,
            "showline": true,
            "ticks": "outside"
           }
          },
          "scene": {
           "xaxis": {
            "backgroundcolor": "white",
            "gridcolor": "rgb(232,232,232)",
            "gridwidth": 2,
            "linecolor": "rgb(36,36,36)",
            "showbackground": true,
            "showgrid": false,
            "showline": true,
            "ticks": "outside",
            "zeroline": false,
            "zerolinecolor": "rgb(36,36,36)"
           },
           "yaxis": {
            "backgroundcolor": "white",
            "gridcolor": "rgb(232,232,232)",
            "gridwidth": 2,
            "linecolor": "rgb(36,36,36)",
            "showbackground": true,
            "showgrid": false,
            "showline": true,
            "ticks": "outside",
            "zeroline": false,
            "zerolinecolor": "rgb(36,36,36)"
           },
           "zaxis": {
            "backgroundcolor": "white",
            "gridcolor": "rgb(232,232,232)",
            "gridwidth": 2,
            "linecolor": "rgb(36,36,36)",
            "showbackground": true,
            "showgrid": false,
            "showline": true,
            "ticks": "outside",
            "zeroline": false,
            "zerolinecolor": "rgb(36,36,36)"
           }
          },
          "shapedefaults": {
           "fillcolor": "black",
           "line": {
            "width": 0
           },
           "opacity": 0.3
          },
          "ternary": {
           "aaxis": {
            "gridcolor": "rgb(232,232,232)",
            "linecolor": "rgb(36,36,36)",
            "showgrid": false,
            "showline": true,
            "ticks": "outside"
           },
           "baxis": {
            "gridcolor": "rgb(232,232,232)",
            "linecolor": "rgb(36,36,36)",
            "showgrid": false,
            "showline": true,
            "ticks": "outside"
           },
           "bgcolor": "white",
           "caxis": {
            "gridcolor": "rgb(232,232,232)",
            "linecolor": "rgb(36,36,36)",
            "showgrid": false,
            "showline": true,
            "ticks": "outside"
           }
          },
          "title": {
           "x": 0.05
          },
          "xaxis": {
           "automargin": true,
           "gridcolor": "rgb(232,232,232)",
           "linecolor": "rgb(36,36,36)",
           "showgrid": false,
           "showline": true,
           "ticks": "outside",
           "title": {
            "standoff": 15
           },
           "zeroline": false,
           "zerolinecolor": "rgb(36,36,36)"
          },
          "yaxis": {
           "automargin": true,
           "gridcolor": "rgb(232,232,232)",
           "linecolor": "rgb(36,36,36)",
           "showgrid": false,
           "showline": true,
           "ticks": "outside",
           "title": {
            "standoff": 15
           },
           "zeroline": false,
           "zerolinecolor": "rgb(36,36,36)"
          }
         }
        },
        "title": {
         "text": "Effect of Gradient on survival"
        },
        "xaxis": {
         "anchor": "y",
         "domain": [
          0,
          0.27
         ],
         "showticklabels": false,
         "tickvals": [
          0
         ],
         "title": {
          "text": "Gradient"
         }
        },
        "xaxis2": {
         "anchor": "y2",
         "domain": [
          0.37,
          1
         ],
         "title": {
          "text": "Years"
         }
        },
        "yaxis": {
         "anchor": "x",
         "domain": [
          0,
          1
         ],
         "dtick": 1,
         "range": [
          1,
          2
         ],
         "title": {
          "text": "Hazard Ratio (95% CI)"
         }
        },
        "yaxis2": {
         "anchor": "x2",
         "domain": [
          0,
          1
         ],
         "dtick": 0.2,
         "title": {
          "text": "Survivors (proportion)"
         }
        }
       }
      },
      "text/html": [
       "<div>                            <div id=\"f12438ad-254a-4258-9d52-53e1f9ae4cdd\" class=\"plotly-graph-div\" style=\"height:525px; width:100%;\"></div>            <script type=\"text/javascript\">                require([\"plotly\"], function(Plotly) {                    window.PLOTLYENV=window.PLOTLYENV || {};                                    if (document.getElementById(\"f12438ad-254a-4258-9d52-53e1f9ae4cdd\")) {                    Plotly.newPlot(                        \"f12438ad-254a-4258-9d52-53e1f9ae4cdd\",                        [{\"error_y\":{\"array\":[0.3672277002512221],\"arrayminus\":[0.2872058670992408],\"symmetric\":false,\"type\":\"data\"},\"marker\":{\"size\":15,\"symbol\":\"diamond\"},\"showlegend\":false,\"type\":\"scatter\",\"x\":[\"Gradient\"],\"xaxis\":\"x\",\"y\":[1.3180146707361546],\"yaxis\":\"y\"},{\"line\":{\"dash\":\"dash\",\"shape\":\"hv\"},\"mode\":\"lines\",\"name\":\"Mean\",\"type\":\"scatter\",\"x\":[2.537987679671458,6.828199863107461,7.383983572895278,7.477070499657769,7.488021902806297,7.6358658453114305,8.720054757015742,9.45927446954141,9.908281998631075,9.95482546201232,9.979466119096507,10.13826146475017,11.077344284736482,11.630390143737166,11.638603696098563,11.739904175222453,12.328542094455852,12.78302532511978,13.478439425051334,13.505817932922657,13.557837097878163,13.598904859685147,13.765913757700206,14.250513347022586,14.25325119780972,14.255989048596852,14.277891854893909,14.28062970568104,14.318959616700887,14.373716632443532,14.379192334017796,14.41204654346338,14.4476386036961,14.485968514715948,14.510609171800136,14.521560574948666,14.548939082819986,14.570841889117045,14.581793292265573,14.60643394934976,14.67214236824093,14.699520876112253,14.704996577686517,14.707734428473648,14.743326488706366,14.757015742642023,14.76249144421629,14.806297056810404,14.809034907597535,14.874743326488709,14.8911704312115,14.921286789869953,14.93223819301848,14.978781656399724,15.017111567419576,15.019849418206707,15.033538672142368,15.047227926078028,15.099247091033538,15.107460643394935,15.200547570157427,15.214236824093089,15.364818617385351,15.88227241615332,16.449007529089666,16.824093086926762,17.295003422313485,17.541409993155373,17.675564681724847,17.697467488021903,18.023271731690624,18.2943189596167,18.78986995208761,18.833675564681723,18.86652977412731,20.459958932238195,20.52840520191649,20.594113620807665,20.933607118412045,21.00205338809035,21.062286105407257,21.111567419575632],\"xaxis\":\"x2\",\"y\":[0.9889127883236444,0.9778359076752893,0.9667724411569215,0.9556944355308058,0.9446152695270729,0.9334994016745417,0.9223988547077246,0.9112938420191053,0.9002037257579792,0.8878746159221835,0.8754682210894164,0.8630610759332925,0.8506726829665474,0.8383052131041641,0.8259194984808277,0.8135558922120469,0.801208736589489,0.788823026140305,0.7764588314280859,0.7641143082631259,0.7517864301681372,0.7394347217661273,0.7269961056469421,0.7269961056469421,0.7269961056469421,0.7269961056469421,0.7137581544564513,0.7137581544564513,0.7137581544564513,0.7137581544564513,0.6997965636427759,0.685863296680369,0.685863296680369,0.685863296680369,0.685863296680369,0.685863296680369,0.685863296680369,0.685863296680369,0.685863296680369,0.685863296680369,0.685863296680369,0.685863296680369,0.6684864865375968,0.6684864865375968,0.6684864865375968,0.6684864865375968,0.6498327611954682,0.6498327611954682,0.6498327611954682,0.6498327611954682,0.6498327611954682,0.6498327611954682,0.6498327611954682,0.6498327611954682,0.6498327611954682,0.6498327611954682,0.623867294345439,0.623867294345439,0.623867294345439,0.595530280447296,0.5673306683631553,0.5391442071512639,0.5111035700536208,0.4832286523674634,0.45538368841897,0.427695289849462,0.40018621613439687,0.37286286122106876,0.3455043643383637,0.31836733974609754,0.29146932749511156,0.26461943738078153,0.23802444925555835,0.21159943033252473,0.1854723421527343,0.1854723421527343,0.1854723421527343,0.1854723421527343,0.1854723421527343,0.1854723421527343,0.1854723421527343,0.1854723421527343],\"yaxis\":\"y2\"},{\"line\":{\"shape\":\"hv\"},\"mode\":\"lines\",\"name\":\"-2 SD\",\"type\":\"scatter\",\"x\":[2.537987679671458,6.828199863107461,7.383983572895278,7.477070499657769,7.488021902806297,7.6358658453114305,8.720054757015742,9.45927446954141,9.908281998631075,9.95482546201232,9.979466119096507,10.13826146475017,11.077344284736482,11.630390143737166,11.638603696098563,11.739904175222453,12.328542094455852,12.78302532511978,13.478439425051334,13.505817932922657,13.557837097878163,13.598904859685147,13.765913757700206,14.250513347022586,14.25325119780972,14.255989048596852,14.277891854893909,14.28062970568104,14.318959616700887,14.373716632443532,14.379192334017796,14.41204654346338,14.4476386036961,14.485968514715948,14.510609171800136,14.521560574948666,14.548939082819986,14.570841889117045,14.581793292265573,14.60643394934976,14.67214236824093,14.699520876112253,14.704996577686517,14.707734428473648,14.743326488706366,14.757015742642023,14.76249144421629,14.806297056810404,14.809034907597535,14.874743326488709,14.8911704312115,14.921286789869953,14.93223819301848,14.978781656399724,15.017111567419576,15.019849418206707,15.033538672142368,15.047227926078028,15.099247091033538,15.107460643394935,15.200547570157427,15.214236824093089,15.364818617385351,15.88227241615332,16.449007529089666,16.824093086926762,17.295003422313485,17.541409993155373,17.675564681724847,17.697467488021903,18.023271731690624,18.2943189596167,18.78986995208761,18.833675564681723,18.86652977412731,20.459958932238195,20.52840520191649,20.594113620807665,20.933607118412045,21.00205338809035,21.062286105407257,21.111567419575632],\"xaxis\":\"x2\",\"y\":[0.9936025382788856,0.9871805706678243,0.9807354909338019,0.9742505042080303,0.967732854901554,0.961160931605044,0.9545648422357595,0.9479323067879271,0.9412743503380592,0.9338315717859532,0.92629773377249,0.9187179928247969,0.9111034313265886,0.9034546460539221,0.8957464335597629,0.8880029014395665,0.8802196726708226,0.8723608320014486,0.8644632405287302,0.8565247930786549,0.8485425487731839,0.8404889705491513,0.8323208239972183,0.8323208239972183,0.8323208239972183,0.8323208239972183,0.8235623541254021,0.8235623541254021,0.8235623541254021,0.8235623541254021,0.8142500875205336,0.8048777748995893,0.8048777748995893,0.8048777748995893,0.8048777748995893,0.8048777748995893,0.8048777748995893,0.8048777748995893,0.8048777748995893,0.8048777748995893,0.8048777748995893,0.8048777748995893,0.7930751490371655,0.7930751490371655,0.7930751490371655,0.7930751490371655,0.7802593718414839,0.7802593718414839,0.7802593718414839,0.7802593718414839,0.7802593718414839,0.7802593718414839,0.7802593718414839,0.7802593718414839,0.7802593718414839,0.7802593718414839,0.7621572119465178,0.7621572119465178,0.7621572119465178,0.7420327976833184,0.7215983253144029,0.7007378788251466,0.6795208226383732,0.6579336047598914,0.6358351562290694,0.6132846095859672,0.5902577043088044,0.5667110571652234,0.5423881165885427,0.5174401636738063,0.49180412605208823,0.46519114431435893,0.43767463481409,0.40900773618176023,0.3791263102897461,0.3791263102897461,0.3791263102897461,0.3791263102897461,0.3791263102897461,0.3791263102897461,0.3791263102897461,0.3791263102897461],\"yaxis\":\"y2\"},{\"line\":{\"shape\":\"hv\"},\"mode\":\"lines\",\"name\":\"2 SD\",\"type\":\"scatter\",\"x\":[2.537987679671458,6.828199863107461,7.383983572895278,7.477070499657769,7.488021902806297,7.6358658453114305,8.720054757015742,9.45927446954141,9.908281998631075,9.95482546201232,9.979466119096507,10.13826146475017,11.077344284736482,11.630390143737166,11.638603696098563,11.739904175222453,12.328542094455852,12.78302532511978,13.478439425051334,13.505817932922657,13.557837097878163,13.598904859685147,13.765913757700206,14.250513347022586,14.25325119780972,14.255989048596852,14.277891854893909,14.28062970568104,14.318959616700887,14.373716632443532,14.379192334017796,14.41204654346338,14.4476386036961,14.485968514715948,14.510609171800136,14.521560574948666,14.548939082819986,14.570841889117045,14.581793292265573,14.60643394934976,14.67214236824093,14.699520876112253,14.704996577686517,14.707734428473648,14.743326488706366,14.757015742642023,14.76249144421629,14.806297056810404,14.809034907597535,14.874743326488709,14.8911704312115,14.921286789869953,14.93223819301848,14.978781656399724,15.017111567419576,15.019849418206707,15.033538672142368,15.047227926078028,15.099247091033538,15.107460643394935,15.200547570157427,15.214236824093089,15.364818617385351,15.88227241615332,16.449007529089666,16.824093086926762,17.295003422313485,17.541409993155373,17.675564681724847,17.697467488021903,18.023271731690624,18.2943189596167,18.78986995208761,18.833675564681723,18.86652977412731,20.459958932238195,20.52840520191649,20.594113620807665,20.933607118412045,21.00205338809035,21.062286105407257,21.111567419575632],\"xaxis\":\"x2\",\"y\":[0.9808184943932869,0.9618125196935465,0.942987325659039,0.9242958457395423,0.9057614711798607,0.8873260520735358,0.8690768283790258,0.8509815418360601,0.8330720283917366,0.8133517334596897,0.7937105532773272,0.7742723205843384,0.7550679110227486,0.7361004844060476,0.7173106951315499,0.6987604684666836,0.6804411687045464,0.6622725746114543,0.6443440835609141,0.6266528452411773,0.6091944806039132,0.5919127509867101,0.5747231696035376,0.5747231696035376,0.5747231696035376,0.5747231696035376,0.5566656303403952,0.5566656303403952,0.5566656303403952,0.5566656303403952,0.5378867019394863,0.5194192091655324,0.5194192091655324,0.5194192091655324,0.5194192091655324,0.5194192091655324,0.5194192091655324,0.5194192091655324,0.5194192091655324,0.5194192091655324,0.5194192091655324,0.5194192091655324,0.4967723895959009,0.4967723895959009,0.4967723895959009,0.4967723895959009,0.4729398741196333,0.4729398741196333,0.4729398741196333,0.4729398741196333,0.4729398741196333,0.4729398741196333,0.4729398741196333,0.4729398741196333,0.4729398741196333,0.4729398741196333,0.44059731999011964,0.44059731999011964,0.44059731999011964,0.4064165343179253,0.37357133234082235,0.3419226276188453,0.3116251976627607,0.2826974042615505,0.25500347195563705,0.22867598886132567,0.20373451591519948,0.18018188997890813,0.15784059671883133,0.1369323178586504,0.1174655996475319,0.09931161443507254,0.08262096418608333,0.06734555809182716,0.05356509306272549,0.05356509306272549,0.05356509306272549,0.05356509306272549,0.05356509306272549,0.05356509306272549,0.05356509306272549,0.05356509306272549],\"yaxis\":\"y2\"}],                        {\"annotations\":[{\"font\":{\"size\":16},\"showarrow\":false,\"text\":\"Estimated hazard ratio\",\"x\":0.135,\"xanchor\":\"center\",\"xref\":\"paper\",\"y\":1.0,\"yanchor\":\"bottom\",\"yref\":\"paper\"},{\"font\":{\"size\":16},\"showarrow\":false,\"text\":\"Survival stratification\",\"x\":0.685,\"xanchor\":\"center\",\"xref\":\"paper\",\"y\":1.0,\"yanchor\":\"bottom\",\"yref\":\"paper\"}],\"legend\":{\"title\":{\"text\":\"Gradient\"}},\"template\":{\"data\":{\"bar\":[{\"error_x\":{\"color\":\"rgb(36,36,36)\"},\"error_y\":{\"color\":\"rgb(36,36,36)\"},\"marker\":{\"line\":{\"color\":\"white\",\"width\":0.5},\"pattern\":{\"fillmode\":\"overlay\",\"size\":10,\"solidity\":0.2}},\"type\":\"bar\"}],\"barpolar\":[{\"marker\":{\"line\":{\"color\":\"white\",\"width\":0.5},\"pattern\":{\"fillmode\":\"overlay\",\"size\":10,\"solidity\":0.2}},\"type\":\"barpolar\"}],\"carpet\":[{\"aaxis\":{\"endlinecolor\":\"rgb(36,36,36)\",\"gridcolor\":\"white\",\"linecolor\":\"white\",\"minorgridcolor\":\"white\",\"startlinecolor\":\"rgb(36,36,36)\"},\"baxis\":{\"endlinecolor\":\"rgb(36,36,36)\",\"gridcolor\":\"white\",\"linecolor\":\"white\",\"minorgridcolor\":\"white\",\"startlinecolor\":\"rgb(36,36,36)\"},\"type\":\"carpet\"}],\"choropleth\":[{\"colorbar\":{\"outlinewidth\":1,\"tickcolor\":\"rgb(36,36,36)\",\"ticks\":\"outside\"},\"type\":\"choropleth\"}],\"contour\":[{\"colorbar\":{\"outlinewidth\":1,\"tickcolor\":\"rgb(36,36,36)\",\"ticks\":\"outside\"},\"colorscale\":[[0.0,\"#440154\"],[0.1111111111111111,\"#482878\"],[0.2222222222222222,\"#3e4989\"],[0.3333333333333333,\"#31688e\"],[0.4444444444444444,\"#26828e\"],[0.5555555555555556,\"#1f9e89\"],[0.6666666666666666,\"#35b779\"],[0.7777777777777778,\"#6ece58\"],[0.8888888888888888,\"#b5de2b\"],[1.0,\"#fde725\"]],\"type\":\"contour\"}],\"contourcarpet\":[{\"colorbar\":{\"outlinewidth\":1,\"tickcolor\":\"rgb(36,36,36)\",\"ticks\":\"outside\"},\"type\":\"contourcarpet\"}],\"heatmap\":[{\"colorbar\":{\"outlinewidth\":1,\"tickcolor\":\"rgb(36,36,36)\",\"ticks\":\"outside\"},\"colorscale\":[[0.0,\"#440154\"],[0.1111111111111111,\"#482878\"],[0.2222222222222222,\"#3e4989\"],[0.3333333333333333,\"#31688e\"],[0.4444444444444444,\"#26828e\"],[0.5555555555555556,\"#1f9e89\"],[0.6666666666666666,\"#35b779\"],[0.7777777777777778,\"#6ece58\"],[0.8888888888888888,\"#b5de2b\"],[1.0,\"#fde725\"]],\"type\":\"heatmap\"}],\"heatmapgl\":[{\"colorbar\":{\"outlinewidth\":1,\"tickcolor\":\"rgb(36,36,36)\",\"ticks\":\"outside\"},\"colorscale\":[[0.0,\"#440154\"],[0.1111111111111111,\"#482878\"],[0.2222222222222222,\"#3e4989\"],[0.3333333333333333,\"#31688e\"],[0.4444444444444444,\"#26828e\"],[0.5555555555555556,\"#1f9e89\"],[0.6666666666666666,\"#35b779\"],[0.7777777777777778,\"#6ece58\"],[0.8888888888888888,\"#b5de2b\"],[1.0,\"#fde725\"]],\"type\":\"heatmapgl\"}],\"histogram\":[{\"marker\":{\"line\":{\"color\":\"white\",\"width\":0.6}},\"type\":\"histogram\"}],\"histogram2d\":[{\"colorbar\":{\"outlinewidth\":1,\"tickcolor\":\"rgb(36,36,36)\",\"ticks\":\"outside\"},\"colorscale\":[[0.0,\"#440154\"],[0.1111111111111111,\"#482878\"],[0.2222222222222222,\"#3e4989\"],[0.3333333333333333,\"#31688e\"],[0.4444444444444444,\"#26828e\"],[0.5555555555555556,\"#1f9e89\"],[0.6666666666666666,\"#35b779\"],[0.7777777777777778,\"#6ece58\"],[0.8888888888888888,\"#b5de2b\"],[1.0,\"#fde725\"]],\"type\":\"histogram2d\"}],\"histogram2dcontour\":[{\"colorbar\":{\"outlinewidth\":1,\"tickcolor\":\"rgb(36,36,36)\",\"ticks\":\"outside\"},\"colorscale\":[[0.0,\"#440154\"],[0.1111111111111111,\"#482878\"],[0.2222222222222222,\"#3e4989\"],[0.3333333333333333,\"#31688e\"],[0.4444444444444444,\"#26828e\"],[0.5555555555555556,\"#1f9e89\"],[0.6666666666666666,\"#35b779\"],[0.7777777777777778,\"#6ece58\"],[0.8888888888888888,\"#b5de2b\"],[1.0,\"#fde725\"]],\"type\":\"histogram2dcontour\"}],\"mesh3d\":[{\"colorbar\":{\"outlinewidth\":1,\"tickcolor\":\"rgb(36,36,36)\",\"ticks\":\"outside\"},\"type\":\"mesh3d\"}],\"parcoords\":[{\"line\":{\"colorbar\":{\"outlinewidth\":1,\"tickcolor\":\"rgb(36,36,36)\",\"ticks\":\"outside\"}},\"type\":\"parcoords\"}],\"pie\":[{\"automargin\":true,\"type\":\"pie\"}],\"scatter\":[{\"marker\":{\"colorbar\":{\"outlinewidth\":1,\"tickcolor\":\"rgb(36,36,36)\",\"ticks\":\"outside\"}},\"type\":\"scatter\"}],\"scatter3d\":[{\"line\":{\"colorbar\":{\"outlinewidth\":1,\"tickcolor\":\"rgb(36,36,36)\",\"ticks\":\"outside\"}},\"marker\":{\"colorbar\":{\"outlinewidth\":1,\"tickcolor\":\"rgb(36,36,36)\",\"ticks\":\"outside\"}},\"type\":\"scatter3d\"}],\"scattercarpet\":[{\"marker\":{\"colorbar\":{\"outlinewidth\":1,\"tickcolor\":\"rgb(36,36,36)\",\"ticks\":\"outside\"}},\"type\":\"scattercarpet\"}],\"scattergeo\":[{\"marker\":{\"colorbar\":{\"outlinewidth\":1,\"tickcolor\":\"rgb(36,36,36)\",\"ticks\":\"outside\"}},\"type\":\"scattergeo\"}],\"scattergl\":[{\"marker\":{\"colorbar\":{\"outlinewidth\":1,\"tickcolor\":\"rgb(36,36,36)\",\"ticks\":\"outside\"}},\"type\":\"scattergl\"}],\"scattermapbox\":[{\"marker\":{\"colorbar\":{\"outlinewidth\":1,\"tickcolor\":\"rgb(36,36,36)\",\"ticks\":\"outside\"}},\"type\":\"scattermapbox\"}],\"scatterpolar\":[{\"marker\":{\"colorbar\":{\"outlinewidth\":1,\"tickcolor\":\"rgb(36,36,36)\",\"ticks\":\"outside\"}},\"type\":\"scatterpolar\"}],\"scatterpolargl\":[{\"marker\":{\"colorbar\":{\"outlinewidth\":1,\"tickcolor\":\"rgb(36,36,36)\",\"ticks\":\"outside\"}},\"type\":\"scatterpolargl\"}],\"scatterternary\":[{\"marker\":{\"colorbar\":{\"outlinewidth\":1,\"tickcolor\":\"rgb(36,36,36)\",\"ticks\":\"outside\"}},\"type\":\"scatterternary\"}],\"surface\":[{\"colorbar\":{\"outlinewidth\":1,\"tickcolor\":\"rgb(36,36,36)\",\"ticks\":\"outside\"},\"colorscale\":[[0.0,\"#440154\"],[0.1111111111111111,\"#482878\"],[0.2222222222222222,\"#3e4989\"],[0.3333333333333333,\"#31688e\"],[0.4444444444444444,\"#26828e\"],[0.5555555555555556,\"#1f9e89\"],[0.6666666666666666,\"#35b779\"],[0.7777777777777778,\"#6ece58\"],[0.8888888888888888,\"#b5de2b\"],[1.0,\"#fde725\"]],\"type\":\"surface\"}],\"table\":[{\"cells\":{\"fill\":{\"color\":\"rgb(237,237,237)\"},\"line\":{\"color\":\"white\"}},\"header\":{\"fill\":{\"color\":\"rgb(217,217,217)\"},\"line\":{\"color\":\"white\"}},\"type\":\"table\"}]},\"layout\":{\"annotationdefaults\":{\"arrowhead\":0,\"arrowwidth\":1},\"autotypenumbers\":\"strict\",\"coloraxis\":{\"colorbar\":{\"outlinewidth\":1,\"tickcolor\":\"rgb(36,36,36)\",\"ticks\":\"outside\"}},\"colorscale\":{\"diverging\":[[0.0,\"rgb(103,0,31)\"],[0.1,\"rgb(178,24,43)\"],[0.2,\"rgb(214,96,77)\"],[0.3,\"rgb(244,165,130)\"],[0.4,\"rgb(253,219,199)\"],[0.5,\"rgb(247,247,247)\"],[0.6,\"rgb(209,229,240)\"],[0.7,\"rgb(146,197,222)\"],[0.8,\"rgb(67,147,195)\"],[0.9,\"rgb(33,102,172)\"],[1.0,\"rgb(5,48,97)\"]],\"sequential\":[[0.0,\"#440154\"],[0.1111111111111111,\"#482878\"],[0.2222222222222222,\"#3e4989\"],[0.3333333333333333,\"#31688e\"],[0.4444444444444444,\"#26828e\"],[0.5555555555555556,\"#1f9e89\"],[0.6666666666666666,\"#35b779\"],[0.7777777777777778,\"#6ece58\"],[0.8888888888888888,\"#b5de2b\"],[1.0,\"#fde725\"]],\"sequentialminus\":[[0.0,\"#440154\"],[0.1111111111111111,\"#482878\"],[0.2222222222222222,\"#3e4989\"],[0.3333333333333333,\"#31688e\"],[0.4444444444444444,\"#26828e\"],[0.5555555555555556,\"#1f9e89\"],[0.6666666666666666,\"#35b779\"],[0.7777777777777778,\"#6ece58\"],[0.8888888888888888,\"#b5de2b\"],[1.0,\"#fde725\"]]},\"colorway\":[\"#1F77B4\",\"#FF7F0E\",\"#2CA02C\",\"#D62728\",\"#9467BD\",\"#8C564B\",\"#E377C2\",\"#7F7F7F\",\"#BCBD22\",\"#17BECF\"],\"font\":{\"color\":\"rgb(36,36,36)\"},\"geo\":{\"bgcolor\":\"white\",\"lakecolor\":\"white\",\"landcolor\":\"white\",\"showlakes\":true,\"showland\":true,\"subunitcolor\":\"white\"},\"hoverlabel\":{\"align\":\"left\"},\"hovermode\":\"closest\",\"mapbox\":{\"style\":\"light\"},\"paper_bgcolor\":\"white\",\"plot_bgcolor\":\"white\",\"polar\":{\"angularaxis\":{\"gridcolor\":\"rgb(232,232,232)\",\"linecolor\":\"rgb(36,36,36)\",\"showgrid\":false,\"showline\":true,\"ticks\":\"outside\"},\"bgcolor\":\"white\",\"radialaxis\":{\"gridcolor\":\"rgb(232,232,232)\",\"linecolor\":\"rgb(36,36,36)\",\"showgrid\":false,\"showline\":true,\"ticks\":\"outside\"}},\"scene\":{\"xaxis\":{\"backgroundcolor\":\"white\",\"gridcolor\":\"rgb(232,232,232)\",\"gridwidth\":2,\"linecolor\":\"rgb(36,36,36)\",\"showbackground\":true,\"showgrid\":false,\"showline\":true,\"ticks\":\"outside\",\"zeroline\":false,\"zerolinecolor\":\"rgb(36,36,36)\"},\"yaxis\":{\"backgroundcolor\":\"white\",\"gridcolor\":\"rgb(232,232,232)\",\"gridwidth\":2,\"linecolor\":\"rgb(36,36,36)\",\"showbackground\":true,\"showgrid\":false,\"showline\":true,\"ticks\":\"outside\",\"zeroline\":false,\"zerolinecolor\":\"rgb(36,36,36)\"},\"zaxis\":{\"backgroundcolor\":\"white\",\"gridcolor\":\"rgb(232,232,232)\",\"gridwidth\":2,\"linecolor\":\"rgb(36,36,36)\",\"showbackground\":true,\"showgrid\":false,\"showline\":true,\"ticks\":\"outside\",\"zeroline\":false,\"zerolinecolor\":\"rgb(36,36,36)\"}},\"shapedefaults\":{\"fillcolor\":\"black\",\"line\":{\"width\":0},\"opacity\":0.3},\"ternary\":{\"aaxis\":{\"gridcolor\":\"rgb(232,232,232)\",\"linecolor\":\"rgb(36,36,36)\",\"showgrid\":false,\"showline\":true,\"ticks\":\"outside\"},\"baxis\":{\"gridcolor\":\"rgb(232,232,232)\",\"linecolor\":\"rgb(36,36,36)\",\"showgrid\":false,\"showline\":true,\"ticks\":\"outside\"},\"bgcolor\":\"white\",\"caxis\":{\"gridcolor\":\"rgb(232,232,232)\",\"linecolor\":\"rgb(36,36,36)\",\"showgrid\":false,\"showline\":true,\"ticks\":\"outside\"}},\"title\":{\"x\":0.05},\"xaxis\":{\"automargin\":true,\"gridcolor\":\"rgb(232,232,232)\",\"linecolor\":\"rgb(36,36,36)\",\"showgrid\":false,\"showline\":true,\"ticks\":\"outside\",\"title\":{\"standoff\":15},\"zeroline\":false,\"zerolinecolor\":\"rgb(36,36,36)\"},\"yaxis\":{\"automargin\":true,\"gridcolor\":\"rgb(232,232,232)\",\"linecolor\":\"rgb(36,36,36)\",\"showgrid\":false,\"showline\":true,\"ticks\":\"outside\",\"title\":{\"standoff\":15},\"zeroline\":false,\"zerolinecolor\":\"rgb(36,36,36)\"}}},\"title\":{\"text\":\"Effect of Gradient on survival\"},\"xaxis\":{\"anchor\":\"y\",\"domain\":[0.0,0.27],\"showticklabels\":false,\"tickvals\":[0],\"title\":{\"text\":\"Gradient\"}},\"xaxis2\":{\"anchor\":\"y2\",\"domain\":[0.37,1.0],\"title\":{\"text\":\"Years\"}},\"yaxis\":{\"anchor\":\"x\",\"domain\":[0.0,1.0],\"dtick\":1,\"range\":[1.0,2.0],\"title\":{\"text\":\"Hazard Ratio (95% CI)\"}},\"yaxis2\":{\"anchor\":\"x2\",\"domain\":[0.0,1.0],\"dtick\":0.2,\"title\":{\"text\":\"Survivors (proportion)\"}}},                        {\"responsive\": true}                    ).then(function(){\n",
       "                            \n",
       "var gd = document.getElementById('f12438ad-254a-4258-9d52-53e1f9ae4cdd');\n",
       "var x = new MutationObserver(function (mutations, observer) {{\n",
       "        var display = window.getComputedStyle(gd).display;\n",
       "        if (!display || display === 'none') {{\n",
       "            console.log([gd, 'removed!']);\n",
       "            Plotly.purge(gd);\n",
       "            observer.disconnect();\n",
       "        }}\n",
       "}});\n",
       "\n",
       "// Listen for the removal of the full notebook cells\n",
       "var notebookContainer = gd.closest('#notebook-container');\n",
       "if (notebookContainer) {{\n",
       "    x.observe(notebookContainer, {childList: true});\n",
       "}}\n",
       "\n",
       "// Listen for the clearing of the current output cell\n",
       "var outputEl = gd.closest('.output');\n",
       "if (outputEl) {{\n",
       "    x.observe(outputEl, {childList: true});\n",
       "}}\n",
       "\n",
       "                        })                };                });            </script>        </div>"
      ]
     },
     "metadata": {},
     "output_type": "display_data"
    }
   ],
   "source": [
    "cohort = [21, 36]\n",
    "survival_columns = ['Gradient']\n",
    "cph = survival_analysis(survival_columns, cohort)\n",
    "fig = plot_hr_analysis(cph, covariate=survival_columns[0])\n",
    "fig.show()\n",
    "fig.write_image(path + 'LBC_gradient.svg', width=1000)"
   ]
  }
 ],
 "metadata": {
  "kernelspec": {
   "display_name": "ARCH",
   "language": "python",
   "name": "arch"
  },
  "language_info": {
   "codemirror_mode": {
    "name": "ipython",
    "version": 3
   },
   "file_extension": ".py",
   "mimetype": "text/x-python",
   "name": "python",
   "nbconvert_exporter": "python",
   "pygments_lexer": "ipython3",
   "version": "3.7.4"
  }
 },
 "nbformat": 4,
 "nbformat_minor": 4
}
