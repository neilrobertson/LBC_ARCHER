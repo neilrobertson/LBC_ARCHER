{
 "cells": [
  {
   "cell_type": "code",
   "execution_count": 57,
   "metadata": {},
   "outputs": [],
   "source": [
    "import sys\n",
    "sys.path.append(\"../ARCH_package\")\n",
    "\n",
    "import damage, plot\n",
    "\n",
    "import dill\n",
    "import pandas as pd\n",
    "import os"
   ]
  },
  {
   "cell_type": "code",
   "execution_count": 58,
   "metadata": {},
   "outputs": [],
   "source": [
    "# Create path for exporting\n",
    "path = '../Results/Summary tables/'\n",
    "if not os.path.exists(path):\n",
    "    os.makedirs(path)"
   ]
  },
  {
   "cell_type": "code",
   "execution_count": 59,
   "metadata": {},
   "outputs": [],
   "source": [
    "with open('../Exports/lbc_model_comparison.dill', 'rb') as infile:\n",
    "    lbc_list = dill.load(infile)\n",
    "\n",
    "\n",
    "# Update trajectory type in lbc cohort\n",
    "fit_mutation_ids = [mutation.id for mutation in lbc_list\n",
    "                    if mutation.optimal_model =='fit mutation']"
   ]
  },
  {
   "cell_type": "markdown",
   "metadata": {},
   "source": [
    "# LiFT summary"
   ]
  },
  {
   "cell_type": "code",
   "execution_count": 60,
   "metadata": {},
   "outputs": [],
   "source": [
    "# Import non-synonymous mutations as exported in LiFT.py\n",
    "with open('../Exports/LBC_non-synonymous_LiFT_fitted.dill', 'rb') as infile:\n",
    "    lbd_LiFT = dill.load(infile)\n"
   ]
  },
  {
   "cell_type": "code",
   "execution_count": 61,
   "metadata": {},
   "outputs": [],
   "source": [
    "# Import non-synonymous mutations as exported in LiFT.py\n",
    "with open('../Exports/LBC_non-synonymous_LiFT_fitted.dill', 'rb') as infile:\n",
    "    lbc_LiFT = dill.load(infile)\n",
    "\n",
    "\n",
    "# Outlier p_value concordance\n",
    "fig, outlier_pvalue_mutation_list = (\n",
    "    plot.outlier_pvalue_comparison(lbc_LiFT, fit_mutation_ids))\n",
    "\n",
    "for part in lbc_LiFT:\n",
    "    for traj in part.trajectories:\n",
    "        traj.outlier_pvalue = None\n",
    "        if traj.mutation in [mutation.id for mutation in outlier_pvalue_mutation_list]:\n",
    "            pvalue = [mutation.outlier_pvalue for mutation in outlier_pvalue_mutation_list if mutation.id == traj.mutation][0]\n",
    "            traj.outlier_pvalue = pvalue\n",
    "\n",
    "damage_df = damage.damage\n",
    "\n",
    "# Update damage class attribute for each trajectory in the cohort\n",
    "for part in lbc_LiFT:\n",
    "    for traj in part.trajectories:\n",
    "        traj.damage = None\n",
    "        if traj.p_key in list(damage_df.p_key):\n",
    "            traj.damage = damage_df[damage_df.p_key == traj.p_key]['mean'].values[0]\n",
    "\n",
    "        elif ('fs' in str(traj.p_key)) or ('*' in str(traj.p_key)):\n",
    "            traj.damage = 1\n",
    "\n",
    "LiFT_df = pd.DataFrame()\n",
    "for part in lbc_LiFT:\n",
    "    for traj in part.trajectories:\n",
    "        co_ocurring = [traj_2.mutation for traj_2 in part.trajectories if traj_2.mutation != traj.mutation]\n",
    "\n",
    "        above_2 = False\n",
    "        if traj.data.AF.max()>0.02:\n",
    "            above_2 = True\n",
    "            \n",
    "        LiFT_df = LiFT_df.append({'participant_id': part.id,\n",
    "                                  'mutation_id': traj.mutation,\n",
    "                                  'protein_id': traj.p_key,\n",
    "                                  '>2%': str(above_2),\n",
    "                                  'fitness':traj.fitness,\n",
    "                                  'fitness_confidence_interval': traj.fitness_quantiles,\n",
    "                                  'co-ocurring mutations': ', '.join(co_ocurring),\n",
    "                                  'damage': traj.damage,\n",
    "                                  'outlier_pvalue': traj.outlier_pvalue\n",
    "                                 }, ignore_index=True)"
   ]
  },
  {
   "cell_type": "code",
   "execution_count": null,
   "metadata": {},
   "outputs": [],
   "source": [
    "LiFT_df.to_csv(path +'LiFT_summary.csv', index=False)"
   ]
  },
  {
   "cell_type": "markdown",
   "metadata": {},
   "source": [
    "# Threshold summary"
   ]
  },
  {
   "cell_type": "code",
   "execution_count": 6,
   "metadata": {},
   "outputs": [],
   "source": [
    "\n",
    "# Import non-synonymous mutations as exported in LiFT.py\n",
    "with open('../Exports/LBC_non-synonymous_threshold_fitted.dill', 'rb') as infile:\n",
    "    lbc_threshold = dill.load(infile)\n",
    "\n",
    "for part in lbc_threshold:\n",
    "    for traj in part.trajectories:\n",
    "        traj.outlier_pvalue = None\n",
    "        if traj.mutation in [mutation.id for mutation in outlier_pvalue_mutation_list]:\n",
    "            pvalue = [mutation.outlier_pvalue for mutation in outlier_pvalue_mutation_list if mutation.id == traj.mutation][0]\n",
    "            traj.outlier_pvalue = pvalue\n",
    "\n",
    "damage_df = damage.damage\n",
    "\n",
    "# Update damage class attribute for each trajectory in the cohort\n",
    "for part in lbc_threshold:\n",
    "    for traj in part.trajectories:\n",
    "        traj.damage = None\n",
    "        if traj.p_key in list(damage_df.p_key):\n",
    "            traj.damage = damage_df[damage_df.p_key == traj.p_key]['mean'].values[0]\n",
    "\n",
    "        elif ('fs' in str(traj.p_key)) or ('*' in str(traj.p_key)):\n",
    "            traj.damage = 1\n",
    "\n",
    "threshold_df = pd.DataFrame()\n",
    "for part in lbc_threshold:\n",
    "    for traj in part.trajectories:\n",
    "        co_ocurring = [traj_2.mutation for traj_2 in part.trajectories if traj_2.mutation != traj.mutation]\n",
    "\n",
    "        above_2 = False\n",
    "        if traj.data.AF.max()>0.02:\n",
    "            above_2 = True\n",
    "            \n",
    "        threshold_df = threshold_df.append({'participant_id': part.id,\n",
    "                                  'mutation_id': traj.mutation,\n",
    "                                  'protein_id': traj.p_key,\n",
    "                                  '>2%': str(above_2),\n",
    "                                  'fitness':traj.fitness,\n",
    "                                  'fitness_confidence_interval': traj.fitness_quantiles,\n",
    "                                  'co-ocurring mutations': ', '.join(co_ocurring),\n",
    "                                  'damage': traj.damage}, ignore_index=True)"
   ]
  },
  {
   "cell_type": "code",
   "execution_count": 11,
   "metadata": {},
   "outputs": [],
   "source": [
    "threshold_df.to_csv(path +'Threshold_summary.csv', index=False)"
   ]
  }
 ],
 "metadata": {
  "interpreter": {
   "hash": "34eddb96924c032d2a2c11a740883f1ea2ea34737a605887ca1bc2ba187da418"
  },
  "kernelspec": {
   "display_name": "Python 3.7.12 ('ARCH')",
   "language": "python",
   "name": "python3"
  },
  "language_info": {
   "codemirror_mode": {
    "name": "ipython",
    "version": 3
   },
   "file_extension": ".py",
   "mimetype": "text/x-python",
   "name": "python",
   "nbconvert_exporter": "python",
   "pygments_lexer": "ipython3",
   "version": "3.7.12"
  },
  "orig_nbformat": 4
 },
 "nbformat": 4,
 "nbformat_minor": 2
}
