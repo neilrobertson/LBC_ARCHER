{
 "cells": [
  {
   "cell_type": "markdown",
   "metadata": {
    "nteract": {
     "transient": {
      "deleting": false
     }
    }
   },
   "source": [
    "\n",
    "# Preprocessing the LBC for longitunidal analysis\n",
    "\n",
    "This document contains a brief introduction on how to load load a cohort dataset and store it into a comprehensive list of *participants* and *trajectories* using **basic.py** module. Further we review some pre-made plotting functions included in **plot.py** module.\n",
    "\n",
    "## Loading ARCH python package\n",
    "First we need to load the module as well as pandas package.\n"
   ]
  },
  {
   "cell_type": "code",
   "execution_count": 3,
   "metadata": {},
   "outputs": [],
   "source": [
    "# Append root directory to system's path\n",
    "\n",
    "import sys\n",
    "sys.path.append('../ARCH_package')\n",
    "\n",
    "import pandas as pd\n",
    "import basic, plot"
   ]
  },
  {
   "cell_type": "markdown",
   "metadata": {},
   "source": [
    "## Loading and preprocessing the cohort"
   ]
  },
  {
   "cell_type": "markdown",
   "metadata": {
    "nteract": {
     "transient": {
      "deleting": false
     }
    }
   },
   "source": [
    "\n",
    "Use pandas to import your dataset into a DataFrame, then use load function in\n",
    "basic model to produce a list of participant class objects with trajectories\n",
    "class objects.\n"
   ]
  },
  {
   "cell_type": "code",
   "execution_count": 4,
   "metadata": {
    "jupyter": {
     "outputs_hidden": false,
     "source_hidden": false
    },
    "nteract": {
     "transient": {
      "deleting": false
     }
    }
   },
   "outputs": [
    {
     "name": "stderr",
     "output_type": "stream",
     "text": [
      "100%|██████████| 82/82 [00:06<00:00, 13.53it/s]\n"
     ]
    }
   ],
   "source": [
    "# Load non-synonymous dataset\n",
    "df = pd.read_csv(r'../Datasets/LBC_ARCHER.1PCT_VAF.13Jan22.non-synonymous.IncludesZeros.tsv', sep='\\t')\n",
    "lbc = basic.load(df, export_name='LBC_non-synonymous', create_dict=True)"
   ]
  },
  {
   "cell_type": "markdown",
   "metadata": {},
   "source": [
    "In the last section we provide a quicker way of loading a dataset using multiprocessing."
   ]
  },
  {
   "cell_type": "markdown",
   "metadata": {
    "nteract": {
     "transient": {
      "deleting": false
     }
    }
   },
   "source": [
    "## Participant class\n",
    "\n",
    "Each participant of the cohort has been stored in a\n",
    "participant class object with attributes:\n",
    "* **id**: a string with the participant's id\n",
    "* **mutation_list**: a list of strings of all mutations detected at any wave\n",
    "* **trajectories**: a list of trajectory class objects corresponding to each trajectory present in a participant.\n",
    "* **data**: pandas dataframe slice of the full dataset containing information about this participant."
   ]
  },
  {
   "cell_type": "code",
   "execution_count": 5,
   "metadata": {
    "jupyter": {
     "outputs_hidden": false,
     "source_hidden": false
    },
    "nteract": {
     "transient": {
      "deleting": false
     }
    }
   },
   "outputs": [
    {
     "name": "stdout",
     "output_type": "stream",
     "text": [
      "This participant's id is LBC0001A\n",
      "The first mutations present are:  ['ATRX c.2454C>G', 'DDX41 c.1213A>C']\n",
      "This is a sample of its slice of dataset\n"
     ]
    },
    {
     "data": {
      "text/html": [
       "<div>\n",
       "<style scoped>\n",
       "    .dataframe tbody tr th:only-of-type {\n",
       "        vertical-align: middle;\n",
       "    }\n",
       "\n",
       "    .dataframe tbody tr th {\n",
       "        vertical-align: top;\n",
       "    }\n",
       "\n",
       "    .dataframe thead th {\n",
       "        text-align: right;\n",
       "    }\n",
       "</style>\n",
       "<table border=\"1\" class=\"dataframe\">\n",
       "  <thead>\n",
       "    <tr style=\"text-align: right;\">\n",
       "      <th></th>\n",
       "      <th>PreferredSymbol</th>\n",
       "      <th>type</th>\n",
       "      <th>HGVSp</th>\n",
       "      <th>protein_substitution</th>\n",
       "      <th>HGVSc</th>\n",
       "      <th>base_substitution</th>\n",
       "      <th>DP</th>\n",
       "      <th>AO</th>\n",
       "      <th>UAO</th>\n",
       "      <th>AF</th>\n",
       "      <th>...</th>\n",
       "      <th>95MDAF</th>\n",
       "      <th>key</th>\n",
       "      <th>p_key</th>\n",
       "      <th>event_key</th>\n",
       "      <th>Variant_Classification</th>\n",
       "      <th>TYPE</th>\n",
       "      <th>delta_t</th>\n",
       "      <th>cohort</th>\n",
       "      <th>p_key_1</th>\n",
       "      <th>age</th>\n",
       "    </tr>\n",
       "  </thead>\n",
       "  <tbody>\n",
       "    <tr>\n",
       "      <th>0</th>\n",
       "      <td>ATRX</td>\n",
       "      <td>snp</td>\n",
       "      <td>NP_000480.2:p.Asp818Glu</td>\n",
       "      <td>p.Asp818Glu</td>\n",
       "      <td>NM_000489.3:c.2454C&gt;G</td>\n",
       "      <td>c.2454C&gt;G</td>\n",
       "      <td>1997</td>\n",
       "      <td>21</td>\n",
       "      <td>5</td>\n",
       "      <td>0.0105</td>\n",
       "      <td>...</td>\n",
       "      <td>0.010516</td>\n",
       "      <td>ATRX c.2454C&gt;G</td>\n",
       "      <td>ATRX p.Asp818Glu</td>\n",
       "      <td>ATRX_c.2454C&gt;G_LBC0001A</td>\n",
       "      <td>Missense_Mutation</td>\n",
       "      <td>SNP</td>\n",
       "      <td>0</td>\n",
       "      <td>LBC21</td>\n",
       "      <td>ATRX p.D818E</td>\n",
       "      <td>85</td>\n",
       "    </tr>\n",
       "    <tr>\n",
       "      <th>1</th>\n",
       "      <td>ATRX</td>\n",
       "      <td>snp</td>\n",
       "      <td>NP_000480.2:p.Asp818Glu</td>\n",
       "      <td>p.Asp818Glu</td>\n",
       "      <td>NM_000489.3:c.2454C&gt;G</td>\n",
       "      <td>c.2454C&gt;G</td>\n",
       "      <td>1724</td>\n",
       "      <td>12</td>\n",
       "      <td>1</td>\n",
       "      <td>0.0070</td>\n",
       "      <td>...</td>\n",
       "      <td>0.011601</td>\n",
       "      <td>ATRX c.2454C&gt;G</td>\n",
       "      <td>ATRX p.Asp818Glu</td>\n",
       "      <td>ATRX_c.2454C&gt;G_LBC0001A</td>\n",
       "      <td>Missense_Mutation</td>\n",
       "      <td>SNP</td>\n",
       "      <td>0</td>\n",
       "      <td>LBC21</td>\n",
       "      <td>ATRX p.D818E</td>\n",
       "      <td>88</td>\n",
       "    </tr>\n",
       "    <tr>\n",
       "      <th>2</th>\n",
       "      <td>DDX41</td>\n",
       "      <td>snp</td>\n",
       "      <td>NP_057306.2:p.Ser405Arg</td>\n",
       "      <td>p.Ser405Arg</td>\n",
       "      <td>NM_016222.2:c.1213A&gt;C</td>\n",
       "      <td>c.1213A&gt;C</td>\n",
       "      <td>876</td>\n",
       "      <td>4</td>\n",
       "      <td>4</td>\n",
       "      <td>0.0046</td>\n",
       "      <td>...</td>\n",
       "      <td>0.021689</td>\n",
       "      <td>DDX41 c.1213A&gt;C</td>\n",
       "      <td>DDX41 p.Ser405Arg</td>\n",
       "      <td>DDX41_c.1213A&gt;C_LBC0001A</td>\n",
       "      <td>Missense_Mutation</td>\n",
       "      <td>SNP</td>\n",
       "      <td>0</td>\n",
       "      <td>LBC21</td>\n",
       "      <td>DDX41 p.S405R</td>\n",
       "      <td>85</td>\n",
       "    </tr>\n",
       "    <tr>\n",
       "      <th>3</th>\n",
       "      <td>DDX41</td>\n",
       "      <td>snp</td>\n",
       "      <td>NP_057306.2:p.Ser405Arg</td>\n",
       "      <td>p.Ser405Arg</td>\n",
       "      <td>NM_016222.2:c.1213A&gt;C</td>\n",
       "      <td>c.1213A&gt;C</td>\n",
       "      <td>880</td>\n",
       "      <td>11</td>\n",
       "      <td>4</td>\n",
       "      <td>0.0125</td>\n",
       "      <td>...</td>\n",
       "      <td>0.021591</td>\n",
       "      <td>DDX41 c.1213A&gt;C</td>\n",
       "      <td>DDX41 p.Ser405Arg</td>\n",
       "      <td>DDX41_c.1213A&gt;C_LBC0001A</td>\n",
       "      <td>Missense_Mutation</td>\n",
       "      <td>SNP</td>\n",
       "      <td>0</td>\n",
       "      <td>LBC21</td>\n",
       "      <td>DDX41 p.S405R</td>\n",
       "      <td>88</td>\n",
       "    </tr>\n",
       "    <tr>\n",
       "      <th>4</th>\n",
       "      <td>KMT2A</td>\n",
       "      <td>snp</td>\n",
       "      <td>NP_005924.2:p.Val46Ile</td>\n",
       "      <td>p.Val46Ile</td>\n",
       "      <td>NM_005933.3:c.136G&gt;A</td>\n",
       "      <td>c.136G&gt;A</td>\n",
       "      <td>629</td>\n",
       "      <td>4</td>\n",
       "      <td>2</td>\n",
       "      <td>0.0064</td>\n",
       "      <td>...</td>\n",
       "      <td>0.022258</td>\n",
       "      <td>KMT2A c.136G&gt;A</td>\n",
       "      <td>KMT2A p.Val46Ile</td>\n",
       "      <td>KMT2A_c.136G&gt;A_LBC0001A</td>\n",
       "      <td>Missense_Mutation</td>\n",
       "      <td>SNP</td>\n",
       "      <td>0</td>\n",
       "      <td>LBC21</td>\n",
       "      <td>KMT2A p.V46I</td>\n",
       "      <td>85</td>\n",
       "    </tr>\n",
       "  </tbody>\n",
       "</table>\n",
       "<p>5 rows × 53 columns</p>\n",
       "</div>"
      ],
      "text/plain": [
       "  PreferredSymbol type                    HGVSp protein_substitution  \\\n",
       "0            ATRX  snp  NP_000480.2:p.Asp818Glu          p.Asp818Glu   \n",
       "1            ATRX  snp  NP_000480.2:p.Asp818Glu          p.Asp818Glu   \n",
       "2           DDX41  snp  NP_057306.2:p.Ser405Arg          p.Ser405Arg   \n",
       "3           DDX41  snp  NP_057306.2:p.Ser405Arg          p.Ser405Arg   \n",
       "4           KMT2A  snp   NP_005924.2:p.Val46Ile           p.Val46Ile   \n",
       "\n",
       "                   HGVSc base_substitution    DP  AO  UAO      AF  ...  \\\n",
       "0  NM_000489.3:c.2454C>G         c.2454C>G  1997  21    5  0.0105  ...   \n",
       "1  NM_000489.3:c.2454C>G         c.2454C>G  1724  12    1  0.0070  ...   \n",
       "2  NM_016222.2:c.1213A>C         c.1213A>C   876   4    4  0.0046  ...   \n",
       "3  NM_016222.2:c.1213A>C         c.1213A>C   880  11    4  0.0125  ...   \n",
       "4   NM_005933.3:c.136G>A          c.136G>A   629   4    2  0.0064  ...   \n",
       "\n",
       "     95MDAF              key              p_key                 event_key  \\\n",
       "0  0.010516   ATRX c.2454C>G   ATRX p.Asp818Glu   ATRX_c.2454C>G_LBC0001A   \n",
       "1  0.011601   ATRX c.2454C>G   ATRX p.Asp818Glu   ATRX_c.2454C>G_LBC0001A   \n",
       "2  0.021689  DDX41 c.1213A>C  DDX41 p.Ser405Arg  DDX41_c.1213A>C_LBC0001A   \n",
       "3  0.021591  DDX41 c.1213A>C  DDX41 p.Ser405Arg  DDX41_c.1213A>C_LBC0001A   \n",
       "4  0.022258   KMT2A c.136G>A   KMT2A p.Val46Ile   KMT2A_c.136G>A_LBC0001A   \n",
       "\n",
       "  Variant_Classification TYPE  delta_t cohort        p_key_1 age  \n",
       "0      Missense_Mutation  SNP        0  LBC21   ATRX p.D818E  85  \n",
       "1      Missense_Mutation  SNP        0  LBC21   ATRX p.D818E  88  \n",
       "2      Missense_Mutation  SNP        0  LBC21  DDX41 p.S405R  85  \n",
       "3      Missense_Mutation  SNP        0  LBC21  DDX41 p.S405R  88  \n",
       "4      Missense_Mutation  SNP        0  LBC21   KMT2A p.V46I  85  \n",
       "\n",
       "[5 rows x 53 columns]"
      ]
     },
     "execution_count": 5,
     "metadata": {},
     "output_type": "execute_result"
    }
   ],
   "source": [
    "# Exploring the attributes\n",
    "print('This participant\\'s id is', lbc[0].id)\n",
    "print('The first mutations present are: ', lbc[0].mutation_list[0:2])\n",
    "print('This is a sample of its slice of dataset')\n",
    "lbc[0].data.head()"
   ]
  },
  {
   "cell_type": "markdown",
   "metadata": {
    "nteract": {
     "transient": {
      "deleting": false
     }
    }
   },
   "source": [
    "\n",
    "## Trajectories class\n",
    "All mutations present in a participant are stored in a list of class\n",
    "trajectory objects.\n"
   ]
  },
  {
   "cell_type": "code",
   "execution_count": 6,
   "metadata": {
    "jupyter": {
     "outputs_hidden": false,
     "source_hidden": false
    },
    "nteract": {
     "transient": {
      "deleting": false
     }
    }
   },
   "outputs": [
    {
     "name": "stdout",
     "output_type": "stream",
     "text": [
      "First 2 trajectories of this participant:\n",
      "[<basic.trajectory object at 0x7f269eccf8d0>, <basic.trajectory object at 0x7f269eccfe50>]\n"
     ]
    }
   ],
   "source": [
    "n_sample = 2\n",
    "print(f'First {n_sample} trajectories of this participant:')\n",
    "print(lbc[0].trajectories[0: n_sample])\n",
    "\n",
    "# For future examples we will explore the first stored trajectory \n",
    "traj = lbc[0].trajectories[0]"
   ]
  },
  {
   "cell_type": "markdown",
   "metadata": {
    "nteract": {
     "transient": {
      "deleting": false
     }
    }
   },
   "source": [
    "Each trajectory class object has the following attributes:\n",
    "* **mutation**: string with the name of the mutation this trajectory follows\n",
    "* **germline**: boolean with the germline status of the mutation\n",
    "* **data**: pandas dataframe with the trajectory data\n",
    "* **gradient**: gradient between the first and the last point of the trajectory\n"
   ]
  },
  {
   "cell_type": "code",
   "execution_count": 7,
   "metadata": {},
   "outputs": [
    {
     "name": "stdout",
     "output_type": "stream",
     "text": [
      "This trajectory follows mutation  ATRX c.2454C>G .\n",
      "The mutated gene is ATRX .\n",
      "The germline status of this trajectory is  False .\n",
      "The gradient from frist time point to the last is -0.0020207259421636905 .\n"
     ]
    }
   ],
   "source": [
    "# Exploring trajectory attributes\n",
    "print(\"This trajectory follows mutation \", traj.mutation, \".\")\n",
    "print('The mutated gene is', traj.mutation.split()[0], '.') \n",
    "print('The germline status of this trajectory is ', traj.germline, '.')  \n",
    "print('The gradient from frist time point to the last is', traj.gradient, '.')"
   ]
  },
  {
   "cell_type": "code",
   "execution_count": 8,
   "metadata": {},
   "outputs": [
    {
     "data": {
      "text/html": [
       "<div>\n",
       "<style scoped>\n",
       "    .dataframe tbody tr th:only-of-type {\n",
       "        vertical-align: middle;\n",
       "    }\n",
       "\n",
       "    .dataframe tbody tr th {\n",
       "        vertical-align: top;\n",
       "    }\n",
       "\n",
       "    .dataframe thead th {\n",
       "        text-align: right;\n",
       "    }\n",
       "</style>\n",
       "<table border=\"1\" class=\"dataframe\">\n",
       "  <thead>\n",
       "    <tr style=\"text-align: right;\">\n",
       "      <th></th>\n",
       "      <th>AF</th>\n",
       "      <th>age</th>\n",
       "      <th>DP</th>\n",
       "      <th>AO</th>\n",
       "      <th>delta_t</th>\n",
       "    </tr>\n",
       "  </thead>\n",
       "  <tbody>\n",
       "    <tr>\n",
       "      <th>0</th>\n",
       "      <td>0.0105</td>\n",
       "      <td>85</td>\n",
       "      <td>1997</td>\n",
       "      <td>21</td>\n",
       "      <td>3</td>\n",
       "    </tr>\n",
       "    <tr>\n",
       "      <th>1</th>\n",
       "      <td>0.0070</td>\n",
       "      <td>88</td>\n",
       "      <td>1724</td>\n",
       "      <td>12</td>\n",
       "      <td>0</td>\n",
       "    </tr>\n",
       "  </tbody>\n",
       "</table>\n",
       "</div>"
      ],
      "text/plain": [
       "       AF  age    DP  AO  delta_t\n",
       "0  0.0105   85  1997  21        3\n",
       "1  0.0070   88  1724  12        0"
      ]
     },
     "execution_count": 8,
     "metadata": {},
     "output_type": "execute_result"
    }
   ],
   "source": [
    "# data stores relevant information of a trajectory\n",
    "traj.data"
   ]
  },
  {
   "cell_type": "markdown",
   "metadata": {
    "nteract": {
     "transient": {
      "deleting": false
     }
    }
   },
   "source": [
    "# Plotting data\n",
    "\n",
    "We have created several plot functions to explore the data in the cohort.\n",
    "\n",
    "## Longitudinal trajectories\n",
    "\n",
    "### Profile of participants\n",
    "\n",
    "The participant class comes with a **profile** method to plot its genetic longitudinal profile."
   ]
  },
  {
   "cell_type": "code",
   "execution_count": 9,
   "metadata": {
    "jupyter": {
     "outputs_hidden": false,
     "source_hidden": false
    },
    "nteract": {
     "transient": {
      "deleting": false
     }
    }
   },
   "outputs": [
    {
     "data": {
      "application/vnd.plotly.v1+json": {
       "config": {
        "plotlyServerURL": "https://plot.ly"
       },
       "data": [
        {
         "mode": "lines+markers",
         "name": "SRSF2 c.325A>T",
         "type": "scatter",
         "x": [
          70,
          73,
          76,
          79
         ],
         "y": [
          0.0032,
          0,
          0.0113,
          0.0066
         ]
        },
        {
         "mode": "lines+markers",
         "name": "KDM6A c.-149T>C",
         "type": "scatter",
         "x": [
          70,
          73,
          76,
          79
         ],
         "y": [
          0.0039,
          0.01,
          0,
          0
         ]
        },
        {
         "mode": "lines+markers",
         "name": "TP53 c.278T>G",
         "type": "scatter",
         "x": [
          70,
          73,
          76,
          79
         ],
         "y": [
          0.0102,
          0.0074,
          0.0019,
          0.002
         ]
        },
        {
         "mode": "lines+markers",
         "name": "NOTCH1 c.6844A>C",
         "type": "scatter",
         "x": [
          70,
          73,
          76,
          79
         ],
         "y": [
          0.0023,
          0.0013,
          0.0013,
          0.0109
         ]
        },
        {
         "mode": "lines+markers",
         "name": "BCORL1 c.3461A>C",
         "type": "scatter",
         "x": [
          70,
          73,
          76,
          79
         ],
         "y": [
          0.0088,
          0.0041,
          0.003,
          0.0108
         ]
        },
        {
         "mode": "lines+markers",
         "name": "STAG2 c.1018-1_1018delinsAA",
         "type": "scatter",
         "x": [
          70,
          73,
          76,
          79
         ],
         "y": [
          0.01,
          0.0052,
          0.0087,
          0.006
         ]
        },
        {
         "mode": "lines+markers",
         "name": "GATA1 c.38A>C",
         "type": "scatter",
         "x": [
          70,
          73,
          76,
          79
         ],
         "y": [
          0.0038,
          0.0104,
          0.0051,
          0.0041
         ]
        },
        {
         "mode": "lines+markers",
         "name": "KDM6A c.112T>G",
         "type": "scatter",
         "x": [
          70,
          73,
          76,
          79
         ],
         "y": [
          0.0087,
          0.0044,
          0.0055,
          0.014
         ]
        },
        {
         "mode": "lines+markers",
         "name": "CDKN2A c.245T>G",
         "type": "scatter",
         "x": [
          70,
          73,
          76,
          79
         ],
         "y": [
          0.0058,
          0.0061,
          0.0109,
          0.0032
         ]
        },
        {
         "mode": "lines+markers",
         "name": "DDX41 c.1132A>C",
         "type": "scatter",
         "x": [
          70,
          73,
          76,
          79
         ],
         "y": [
          0.0105,
          0,
          0.0019,
          0.0056
         ]
        },
        {
         "mode": "lines+markers",
         "name": "NF1 c.29T>G",
         "type": "scatter",
         "x": [
          70,
          73,
          76,
          79
         ],
         "y": [
          0.0071,
          0.0034,
          0.0035,
          0.012
         ]
        },
        {
         "mode": "lines+markers",
         "name": "NF1 c.32A>C",
         "type": "scatter",
         "x": [
          70,
          73,
          76,
          79
         ],
         "y": [
          0.0075,
          0.0046,
          0.0115,
          0.0074
         ]
        },
        {
         "mode": "lines+markers",
         "name": "NF1 c.730+2T>G",
         "type": "scatter",
         "x": [
          70,
          73,
          76,
          79
         ],
         "y": [
          0.0065,
          0.0051,
          0.0035,
          0.011
         ]
        },
        {
         "mode": "lines+markers",
         "name": "TET2 c.1201_1203del",
         "type": "scatter",
         "x": [
          70,
          73,
          76,
          79
         ],
         "y": [
          0.01,
          0.0086,
          0.0098,
          0.0078
         ]
        },
        {
         "mode": "lines+markers",
         "name": "LUC7L2 c.-9G>C",
         "type": "scatter",
         "x": [
          70,
          73,
          76,
          79
         ],
         "y": [
          0.0096,
          0.003,
          0.0153,
          0
         ]
        },
        {
         "mode": "lines+markers",
         "name": "RUNX1 c.1264G>C",
         "type": "scatter",
         "x": [
          70,
          73,
          76,
          79
         ],
         "y": [
          0.0087,
          0.0059,
          0.0113,
          0.0126
         ]
        },
        {
         "mode": "lines+markers",
         "name": "NF1 c.2033del",
         "type": "scatter",
         "x": [
          70,
          73,
          76,
          79
         ],
         "y": [
          0.003,
          0.0031,
          0.0066,
          0.0121
         ]
        },
        {
         "mode": "lines+markers",
         "name": "DNMT3A c.34A>C",
         "type": "scatter",
         "x": [
          70,
          73,
          76,
          79
         ],
         "y": [
          0.003,
          0.0058,
          0.0053,
          0.0191
         ]
        },
        {
         "mode": "lines+markers",
         "name": "SH2B3 c.671T>G",
         "type": "scatter",
         "x": [
          70,
          73,
          76,
          79
         ],
         "y": [
          0.0093,
          0.0072,
          0.0112,
          0.0077
         ]
        },
        {
         "mode": "lines+markers",
         "name": "PTPN11 c.1292A>C",
         "type": "scatter",
         "x": [
          70,
          73,
          76,
          79
         ],
         "y": [
          0.0101,
          0.0062,
          0.0062,
          0.0117
         ]
        },
        {
         "mode": "lines+markers",
         "name": "SH2B3 c.1283A>C",
         "type": "scatter",
         "x": [
          70,
          73,
          76,
          79
         ],
         "y": [
          0.0098,
          0.0096,
          0.0047,
          0.0147
         ]
        },
        {
         "mode": "lines+markers",
         "name": "BCORL1 c.707T>C",
         "type": "scatter",
         "x": [
          70,
          73,
          76,
          79
         ],
         "y": [
          0.0102,
          0.0022,
          0.001,
          0.007
         ]
        },
        {
         "mode": "lines+markers",
         "name": "TP53 c.818G>A",
         "type": "scatter",
         "x": [
          70,
          73,
          76,
          79
         ],
         "y": [
          0.0006,
          0.0024,
          0.0112,
          0.0199
         ]
        },
        {
         "mode": "lines+markers",
         "name": "DNMT3A c.2206C>T",
         "type": "scatter",
         "x": [
          70,
          73,
          76,
          79
         ],
         "y": [
          0.0637,
          0.0762,
          0.0936,
          0.0935
         ]
        },
        {
         "mode": "lines+markers",
         "name": "LUC7L2 c.62-4623del",
         "type": "scatter",
         "x": [
          70,
          73,
          76,
          79
         ],
         "y": [
          0.0082,
          0.0065,
          0.01,
          0.0113
         ]
        },
        {
         "mode": "lines+markers",
         "name": "BCORL1 c.4846T>C",
         "type": "scatter",
         "x": [
          70,
          73,
          76,
          79
         ],
         "y": [
          0.0038,
          0.0048,
          0.0113,
          0.0037
         ]
        },
        {
         "mode": "lines+markers",
         "name": "SH2B3 c.76T>G",
         "type": "scatter",
         "x": [
          70,
          73,
          76,
          79
         ],
         "y": [
          0.0059,
          0.0076,
          0.0058,
          0.0103
         ]
        },
        {
         "mode": "lines+markers",
         "name": "FBXW7 c.1784T>G",
         "type": "scatter",
         "x": [
          70,
          73,
          76,
          79
         ],
         "y": [
          0.0067,
          0.0066,
          0.0054,
          0.0103
         ]
        },
        {
         "mode": "lines+markers",
         "name": "WT1 c.271_273del",
         "type": "scatter",
         "x": [
          70,
          73,
          76,
          79
         ],
         "y": [
          0.0094,
          0.0056,
          0.0161,
          0.0044
         ]
        },
        {
         "mode": "lines+markers",
         "name": "CEBPA c.545A>C",
         "type": "scatter",
         "x": [
          70,
          73,
          76,
          79
         ],
         "y": [
          0.0127,
          0.0004,
          0.0064,
          0.0088
         ]
        }
       ],
       "layout": {
        "template": {
         "data": {
          "bar": [
           {
            "error_x": {
             "color": "rgb(36,36,36)"
            },
            "error_y": {
             "color": "rgb(36,36,36)"
            },
            "marker": {
             "line": {
              "color": "white",
              "width": 0.5
             },
             "pattern": {
              "fillmode": "overlay",
              "size": 10,
              "solidity": 0.2
             }
            },
            "type": "bar"
           }
          ],
          "barpolar": [
           {
            "marker": {
             "line": {
              "color": "white",
              "width": 0.5
             },
             "pattern": {
              "fillmode": "overlay",
              "size": 10,
              "solidity": 0.2
             }
            },
            "type": "barpolar"
           }
          ],
          "carpet": [
           {
            "aaxis": {
             "endlinecolor": "rgb(36,36,36)",
             "gridcolor": "white",
             "linecolor": "white",
             "minorgridcolor": "white",
             "startlinecolor": "rgb(36,36,36)"
            },
            "baxis": {
             "endlinecolor": "rgb(36,36,36)",
             "gridcolor": "white",
             "linecolor": "white",
             "minorgridcolor": "white",
             "startlinecolor": "rgb(36,36,36)"
            },
            "type": "carpet"
           }
          ],
          "choropleth": [
           {
            "colorbar": {
             "outlinewidth": 1,
             "tickcolor": "rgb(36,36,36)",
             "ticks": "outside"
            },
            "type": "choropleth"
           }
          ],
          "contour": [
           {
            "colorbar": {
             "outlinewidth": 1,
             "tickcolor": "rgb(36,36,36)",
             "ticks": "outside"
            },
            "colorscale": [
             [
              0,
              "#440154"
             ],
             [
              0.1111111111111111,
              "#482878"
             ],
             [
              0.2222222222222222,
              "#3e4989"
             ],
             [
              0.3333333333333333,
              "#31688e"
             ],
             [
              0.4444444444444444,
              "#26828e"
             ],
             [
              0.5555555555555556,
              "#1f9e89"
             ],
             [
              0.6666666666666666,
              "#35b779"
             ],
             [
              0.7777777777777778,
              "#6ece58"
             ],
             [
              0.8888888888888888,
              "#b5de2b"
             ],
             [
              1,
              "#fde725"
             ]
            ],
            "type": "contour"
           }
          ],
          "contourcarpet": [
           {
            "colorbar": {
             "outlinewidth": 1,
             "tickcolor": "rgb(36,36,36)",
             "ticks": "outside"
            },
            "type": "contourcarpet"
           }
          ],
          "heatmap": [
           {
            "colorbar": {
             "outlinewidth": 1,
             "tickcolor": "rgb(36,36,36)",
             "ticks": "outside"
            },
            "colorscale": [
             [
              0,
              "#440154"
             ],
             [
              0.1111111111111111,
              "#482878"
             ],
             [
              0.2222222222222222,
              "#3e4989"
             ],
             [
              0.3333333333333333,
              "#31688e"
             ],
             [
              0.4444444444444444,
              "#26828e"
             ],
             [
              0.5555555555555556,
              "#1f9e89"
             ],
             [
              0.6666666666666666,
              "#35b779"
             ],
             [
              0.7777777777777778,
              "#6ece58"
             ],
             [
              0.8888888888888888,
              "#b5de2b"
             ],
             [
              1,
              "#fde725"
             ]
            ],
            "type": "heatmap"
           }
          ],
          "heatmapgl": [
           {
            "colorbar": {
             "outlinewidth": 1,
             "tickcolor": "rgb(36,36,36)",
             "ticks": "outside"
            },
            "colorscale": [
             [
              0,
              "#440154"
             ],
             [
              0.1111111111111111,
              "#482878"
             ],
             [
              0.2222222222222222,
              "#3e4989"
             ],
             [
              0.3333333333333333,
              "#31688e"
             ],
             [
              0.4444444444444444,
              "#26828e"
             ],
             [
              0.5555555555555556,
              "#1f9e89"
             ],
             [
              0.6666666666666666,
              "#35b779"
             ],
             [
              0.7777777777777778,
              "#6ece58"
             ],
             [
              0.8888888888888888,
              "#b5de2b"
             ],
             [
              1,
              "#fde725"
             ]
            ],
            "type": "heatmapgl"
           }
          ],
          "histogram": [
           {
            "marker": {
             "line": {
              "color": "white",
              "width": 0.6
             }
            },
            "type": "histogram"
           }
          ],
          "histogram2d": [
           {
            "colorbar": {
             "outlinewidth": 1,
             "tickcolor": "rgb(36,36,36)",
             "ticks": "outside"
            },
            "colorscale": [
             [
              0,
              "#440154"
             ],
             [
              0.1111111111111111,
              "#482878"
             ],
             [
              0.2222222222222222,
              "#3e4989"
             ],
             [
              0.3333333333333333,
              "#31688e"
             ],
             [
              0.4444444444444444,
              "#26828e"
             ],
             [
              0.5555555555555556,
              "#1f9e89"
             ],
             [
              0.6666666666666666,
              "#35b779"
             ],
             [
              0.7777777777777778,
              "#6ece58"
             ],
             [
              0.8888888888888888,
              "#b5de2b"
             ],
             [
              1,
              "#fde725"
             ]
            ],
            "type": "histogram2d"
           }
          ],
          "histogram2dcontour": [
           {
            "colorbar": {
             "outlinewidth": 1,
             "tickcolor": "rgb(36,36,36)",
             "ticks": "outside"
            },
            "colorscale": [
             [
              0,
              "#440154"
             ],
             [
              0.1111111111111111,
              "#482878"
             ],
             [
              0.2222222222222222,
              "#3e4989"
             ],
             [
              0.3333333333333333,
              "#31688e"
             ],
             [
              0.4444444444444444,
              "#26828e"
             ],
             [
              0.5555555555555556,
              "#1f9e89"
             ],
             [
              0.6666666666666666,
              "#35b779"
             ],
             [
              0.7777777777777778,
              "#6ece58"
             ],
             [
              0.8888888888888888,
              "#b5de2b"
             ],
             [
              1,
              "#fde725"
             ]
            ],
            "type": "histogram2dcontour"
           }
          ],
          "mesh3d": [
           {
            "colorbar": {
             "outlinewidth": 1,
             "tickcolor": "rgb(36,36,36)",
             "ticks": "outside"
            },
            "type": "mesh3d"
           }
          ],
          "parcoords": [
           {
            "line": {
             "colorbar": {
              "outlinewidth": 1,
              "tickcolor": "rgb(36,36,36)",
              "ticks": "outside"
             }
            },
            "type": "parcoords"
           }
          ],
          "pie": [
           {
            "automargin": true,
            "type": "pie"
           }
          ],
          "scatter": [
           {
            "marker": {
             "colorbar": {
              "outlinewidth": 1,
              "tickcolor": "rgb(36,36,36)",
              "ticks": "outside"
             }
            },
            "type": "scatter"
           }
          ],
          "scatter3d": [
           {
            "line": {
             "colorbar": {
              "outlinewidth": 1,
              "tickcolor": "rgb(36,36,36)",
              "ticks": "outside"
             }
            },
            "marker": {
             "colorbar": {
              "outlinewidth": 1,
              "tickcolor": "rgb(36,36,36)",
              "ticks": "outside"
             }
            },
            "type": "scatter3d"
           }
          ],
          "scattercarpet": [
           {
            "marker": {
             "colorbar": {
              "outlinewidth": 1,
              "tickcolor": "rgb(36,36,36)",
              "ticks": "outside"
             }
            },
            "type": "scattercarpet"
           }
          ],
          "scattergeo": [
           {
            "marker": {
             "colorbar": {
              "outlinewidth": 1,
              "tickcolor": "rgb(36,36,36)",
              "ticks": "outside"
             }
            },
            "type": "scattergeo"
           }
          ],
          "scattergl": [
           {
            "marker": {
             "colorbar": {
              "outlinewidth": 1,
              "tickcolor": "rgb(36,36,36)",
              "ticks": "outside"
             }
            },
            "type": "scattergl"
           }
          ],
          "scattermapbox": [
           {
            "marker": {
             "colorbar": {
              "outlinewidth": 1,
              "tickcolor": "rgb(36,36,36)",
              "ticks": "outside"
             }
            },
            "type": "scattermapbox"
           }
          ],
          "scatterpolar": [
           {
            "marker": {
             "colorbar": {
              "outlinewidth": 1,
              "tickcolor": "rgb(36,36,36)",
              "ticks": "outside"
             }
            },
            "type": "scatterpolar"
           }
          ],
          "scatterpolargl": [
           {
            "marker": {
             "colorbar": {
              "outlinewidth": 1,
              "tickcolor": "rgb(36,36,36)",
              "ticks": "outside"
             }
            },
            "type": "scatterpolargl"
           }
          ],
          "scatterternary": [
           {
            "marker": {
             "colorbar": {
              "outlinewidth": 1,
              "tickcolor": "rgb(36,36,36)",
              "ticks": "outside"
             }
            },
            "type": "scatterternary"
           }
          ],
          "surface": [
           {
            "colorbar": {
             "outlinewidth": 1,
             "tickcolor": "rgb(36,36,36)",
             "ticks": "outside"
            },
            "colorscale": [
             [
              0,
              "#440154"
             ],
             [
              0.1111111111111111,
              "#482878"
             ],
             [
              0.2222222222222222,
              "#3e4989"
             ],
             [
              0.3333333333333333,
              "#31688e"
             ],
             [
              0.4444444444444444,
              "#26828e"
             ],
             [
              0.5555555555555556,
              "#1f9e89"
             ],
             [
              0.6666666666666666,
              "#35b779"
             ],
             [
              0.7777777777777778,
              "#6ece58"
             ],
             [
              0.8888888888888888,
              "#b5de2b"
             ],
             [
              1,
              "#fde725"
             ]
            ],
            "type": "surface"
           }
          ],
          "table": [
           {
            "cells": {
             "fill": {
              "color": "rgb(237,237,237)"
             },
             "line": {
              "color": "white"
             }
            },
            "header": {
             "fill": {
              "color": "rgb(217,217,217)"
             },
             "line": {
              "color": "white"
             }
            },
            "type": "table"
           }
          ]
         },
         "layout": {
          "annotationdefaults": {
           "arrowhead": 0,
           "arrowwidth": 1
          },
          "autotypenumbers": "strict",
          "coloraxis": {
           "colorbar": {
            "outlinewidth": 1,
            "tickcolor": "rgb(36,36,36)",
            "ticks": "outside"
           }
          },
          "colorscale": {
           "diverging": [
            [
             0,
             "rgb(103,0,31)"
            ],
            [
             0.1,
             "rgb(178,24,43)"
            ],
            [
             0.2,
             "rgb(214,96,77)"
            ],
            [
             0.3,
             "rgb(244,165,130)"
            ],
            [
             0.4,
             "rgb(253,219,199)"
            ],
            [
             0.5,
             "rgb(247,247,247)"
            ],
            [
             0.6,
             "rgb(209,229,240)"
            ],
            [
             0.7,
             "rgb(146,197,222)"
            ],
            [
             0.8,
             "rgb(67,147,195)"
            ],
            [
             0.9,
             "rgb(33,102,172)"
            ],
            [
             1,
             "rgb(5,48,97)"
            ]
           ],
           "sequential": [
            [
             0,
             "#440154"
            ],
            [
             0.1111111111111111,
             "#482878"
            ],
            [
             0.2222222222222222,
             "#3e4989"
            ],
            [
             0.3333333333333333,
             "#31688e"
            ],
            [
             0.4444444444444444,
             "#26828e"
            ],
            [
             0.5555555555555556,
             "#1f9e89"
            ],
            [
             0.6666666666666666,
             "#35b779"
            ],
            [
             0.7777777777777778,
             "#6ece58"
            ],
            [
             0.8888888888888888,
             "#b5de2b"
            ],
            [
             1,
             "#fde725"
            ]
           ],
           "sequentialminus": [
            [
             0,
             "#440154"
            ],
            [
             0.1111111111111111,
             "#482878"
            ],
            [
             0.2222222222222222,
             "#3e4989"
            ],
            [
             0.3333333333333333,
             "#31688e"
            ],
            [
             0.4444444444444444,
             "#26828e"
            ],
            [
             0.5555555555555556,
             "#1f9e89"
            ],
            [
             0.6666666666666666,
             "#35b779"
            ],
            [
             0.7777777777777778,
             "#6ece58"
            ],
            [
             0.8888888888888888,
             "#b5de2b"
            ],
            [
             1,
             "#fde725"
            ]
           ]
          },
          "colorway": [
           "#1F77B4",
           "#FF7F0E",
           "#2CA02C",
           "#D62728",
           "#9467BD",
           "#8C564B",
           "#E377C2",
           "#7F7F7F",
           "#BCBD22",
           "#17BECF"
          ],
          "font": {
           "color": "rgb(36,36,36)"
          },
          "geo": {
           "bgcolor": "white",
           "lakecolor": "white",
           "landcolor": "white",
           "showlakes": true,
           "showland": true,
           "subunitcolor": "white"
          },
          "hoverlabel": {
           "align": "left"
          },
          "hovermode": "closest",
          "mapbox": {
           "style": "light"
          },
          "paper_bgcolor": "white",
          "plot_bgcolor": "white",
          "polar": {
           "angularaxis": {
            "gridcolor": "rgb(232,232,232)",
            "linecolor": "rgb(36,36,36)",
            "showgrid": false,
            "showline": true,
            "ticks": "outside"
           },
           "bgcolor": "white",
           "radialaxis": {
            "gridcolor": "rgb(232,232,232)",
            "linecolor": "rgb(36,36,36)",
            "showgrid": false,
            "showline": true,
            "ticks": "outside"
           }
          },
          "scene": {
           "xaxis": {
            "backgroundcolor": "white",
            "gridcolor": "rgb(232,232,232)",
            "gridwidth": 2,
            "linecolor": "rgb(36,36,36)",
            "showbackground": true,
            "showgrid": false,
            "showline": true,
            "ticks": "outside",
            "zeroline": false,
            "zerolinecolor": "rgb(36,36,36)"
           },
           "yaxis": {
            "backgroundcolor": "white",
            "gridcolor": "rgb(232,232,232)",
            "gridwidth": 2,
            "linecolor": "rgb(36,36,36)",
            "showbackground": true,
            "showgrid": false,
            "showline": true,
            "ticks": "outside",
            "zeroline": false,
            "zerolinecolor": "rgb(36,36,36)"
           },
           "zaxis": {
            "backgroundcolor": "white",
            "gridcolor": "rgb(232,232,232)",
            "gridwidth": 2,
            "linecolor": "rgb(36,36,36)",
            "showbackground": true,
            "showgrid": false,
            "showline": true,
            "ticks": "outside",
            "zeroline": false,
            "zerolinecolor": "rgb(36,36,36)"
           }
          },
          "shapedefaults": {
           "fillcolor": "black",
           "line": {
            "width": 0
           },
           "opacity": 0.3
          },
          "ternary": {
           "aaxis": {
            "gridcolor": "rgb(232,232,232)",
            "linecolor": "rgb(36,36,36)",
            "showgrid": false,
            "showline": true,
            "ticks": "outside"
           },
           "baxis": {
            "gridcolor": "rgb(232,232,232)",
            "linecolor": "rgb(36,36,36)",
            "showgrid": false,
            "showline": true,
            "ticks": "outside"
           },
           "bgcolor": "white",
           "caxis": {
            "gridcolor": "rgb(232,232,232)",
            "linecolor": "rgb(36,36,36)",
            "showgrid": false,
            "showline": true,
            "ticks": "outside"
           }
          },
          "title": {
           "x": 0.05
          },
          "xaxis": {
           "automargin": true,
           "gridcolor": "rgb(232,232,232)",
           "linecolor": "rgb(36,36,36)",
           "showgrid": false,
           "showline": true,
           "ticks": "outside",
           "title": {
            "standoff": 15
           },
           "zeroline": false,
           "zerolinecolor": "rgb(36,36,36)"
          },
          "yaxis": {
           "automargin": true,
           "gridcolor": "rgb(232,232,232)",
           "linecolor": "rgb(36,36,36)",
           "showgrid": false,
           "showline": true,
           "ticks": "outside",
           "title": {
            "standoff": 15
           },
           "zeroline": false,
           "zerolinecolor": "rgb(36,36,36)"
          }
         }
        },
        "title": {
         "text": "Trajectories of participant LBC361214"
        },
        "xaxis": {
         "title": {
          "text": "Age (in years)"
         }
        },
        "yaxis": {
         "title": {
          "text": "VAF"
         }
        }
       }
      }
     },
     "metadata": {},
     "output_type": "display_data"
    }
   ],
   "source": [
    "lbc[-3].profile(germline=False)   # germline filters trajectories with germline status = True"
   ]
  },
  {
   "cell_type": "markdown",
   "metadata": {},
   "source": [
    "We can also plot a participant profile using it's participant id with **plot.plot_id**."
   ]
  },
  {
   "cell_type": "code",
   "execution_count": 10,
   "metadata": {
    "scrolled": false
   },
   "outputs": [
    {
     "data": {
      "application/vnd.plotly.v1+json": {
       "config": {
        "plotlyServerURL": "https://plot.ly"
       },
       "data": [
        {
         "mode": "lines+markers",
         "name": "SRSF2 c.325A>T",
         "type": "scatter",
         "x": [
          70,
          73,
          76,
          79
         ],
         "y": [
          0.0032,
          0,
          0.0113,
          0.0066
         ]
        },
        {
         "mode": "lines+markers",
         "name": "KDM6A c.-149T>C",
         "type": "scatter",
         "x": [
          70,
          73,
          76,
          79
         ],
         "y": [
          0.0039,
          0.01,
          0,
          0
         ]
        },
        {
         "mode": "lines+markers",
         "name": "TP53 c.278T>G",
         "type": "scatter",
         "x": [
          70,
          73,
          76,
          79
         ],
         "y": [
          0.0102,
          0.0074,
          0.0019,
          0.002
         ]
        },
        {
         "mode": "lines+markers",
         "name": "NOTCH1 c.6844A>C",
         "type": "scatter",
         "x": [
          70,
          73,
          76,
          79
         ],
         "y": [
          0.0023,
          0.0013,
          0.0013,
          0.0109
         ]
        },
        {
         "mode": "lines+markers",
         "name": "BCORL1 c.3461A>C",
         "type": "scatter",
         "x": [
          70,
          73,
          76,
          79
         ],
         "y": [
          0.0088,
          0.0041,
          0.003,
          0.0108
         ]
        },
        {
         "mode": "lines+markers",
         "name": "STAG2 c.1018-1_1018delinsAA",
         "type": "scatter",
         "x": [
          70,
          73,
          76,
          79
         ],
         "y": [
          0.01,
          0.0052,
          0.0087,
          0.006
         ]
        },
        {
         "mode": "lines+markers",
         "name": "GATA1 c.38A>C",
         "type": "scatter",
         "x": [
          70,
          73,
          76,
          79
         ],
         "y": [
          0.0038,
          0.0104,
          0.0051,
          0.0041
         ]
        },
        {
         "mode": "lines+markers",
         "name": "KDM6A c.112T>G",
         "type": "scatter",
         "x": [
          70,
          73,
          76,
          79
         ],
         "y": [
          0.0087,
          0.0044,
          0.0055,
          0.014
         ]
        },
        {
         "mode": "lines+markers",
         "name": "CDKN2A c.245T>G",
         "type": "scatter",
         "x": [
          70,
          73,
          76,
          79
         ],
         "y": [
          0.0058,
          0.0061,
          0.0109,
          0.0032
         ]
        },
        {
         "mode": "lines+markers",
         "name": "DDX41 c.1132A>C",
         "type": "scatter",
         "x": [
          70,
          73,
          76,
          79
         ],
         "y": [
          0.0105,
          0,
          0.0019,
          0.0056
         ]
        },
        {
         "mode": "lines+markers",
         "name": "NF1 c.29T>G",
         "type": "scatter",
         "x": [
          70,
          73,
          76,
          79
         ],
         "y": [
          0.0071,
          0.0034,
          0.0035,
          0.012
         ]
        },
        {
         "mode": "lines+markers",
         "name": "NF1 c.32A>C",
         "type": "scatter",
         "x": [
          70,
          73,
          76,
          79
         ],
         "y": [
          0.0075,
          0.0046,
          0.0115,
          0.0074
         ]
        },
        {
         "mode": "lines+markers",
         "name": "NF1 c.730+2T>G",
         "type": "scatter",
         "x": [
          70,
          73,
          76,
          79
         ],
         "y": [
          0.0065,
          0.0051,
          0.0035,
          0.011
         ]
        },
        {
         "mode": "lines+markers",
         "name": "TET2 c.1201_1203del",
         "type": "scatter",
         "x": [
          70,
          73,
          76,
          79
         ],
         "y": [
          0.01,
          0.0086,
          0.0098,
          0.0078
         ]
        },
        {
         "mode": "lines+markers",
         "name": "LUC7L2 c.-9G>C",
         "type": "scatter",
         "x": [
          70,
          73,
          76,
          79
         ],
         "y": [
          0.0096,
          0.003,
          0.0153,
          0
         ]
        },
        {
         "mode": "lines+markers",
         "name": "RUNX1 c.1264G>C",
         "type": "scatter",
         "x": [
          70,
          73,
          76,
          79
         ],
         "y": [
          0.0087,
          0.0059,
          0.0113,
          0.0126
         ]
        },
        {
         "mode": "lines+markers",
         "name": "NF1 c.2033del",
         "type": "scatter",
         "x": [
          70,
          73,
          76,
          79
         ],
         "y": [
          0.003,
          0.0031,
          0.0066,
          0.0121
         ]
        },
        {
         "mode": "lines+markers",
         "name": "DNMT3A c.34A>C",
         "type": "scatter",
         "x": [
          70,
          73,
          76,
          79
         ],
         "y": [
          0.003,
          0.0058,
          0.0053,
          0.0191
         ]
        },
        {
         "mode": "lines+markers",
         "name": "SH2B3 c.671T>G",
         "type": "scatter",
         "x": [
          70,
          73,
          76,
          79
         ],
         "y": [
          0.0093,
          0.0072,
          0.0112,
          0.0077
         ]
        },
        {
         "mode": "lines+markers",
         "name": "PTPN11 c.1292A>C",
         "type": "scatter",
         "x": [
          70,
          73,
          76,
          79
         ],
         "y": [
          0.0101,
          0.0062,
          0.0062,
          0.0117
         ]
        },
        {
         "mode": "lines+markers",
         "name": "SH2B3 c.1283A>C",
         "type": "scatter",
         "x": [
          70,
          73,
          76,
          79
         ],
         "y": [
          0.0098,
          0.0096,
          0.0047,
          0.0147
         ]
        },
        {
         "mode": "lines+markers",
         "name": "BCORL1 c.707T>C",
         "type": "scatter",
         "x": [
          70,
          73,
          76,
          79
         ],
         "y": [
          0.0102,
          0.0022,
          0.001,
          0.007
         ]
        },
        {
         "mode": "lines+markers",
         "name": "TP53 c.818G>A",
         "type": "scatter",
         "x": [
          70,
          73,
          76,
          79
         ],
         "y": [
          0.0006,
          0.0024,
          0.0112,
          0.0199
         ]
        },
        {
         "mode": "lines+markers",
         "name": "DNMT3A c.2206C>T",
         "type": "scatter",
         "x": [
          70,
          73,
          76,
          79
         ],
         "y": [
          0.0637,
          0.0762,
          0.0936,
          0.0935
         ]
        },
        {
         "mode": "lines+markers",
         "name": "LUC7L2 c.62-4623del",
         "type": "scatter",
         "x": [
          70,
          73,
          76,
          79
         ],
         "y": [
          0.0082,
          0.0065,
          0.01,
          0.0113
         ]
        },
        {
         "mode": "lines+markers",
         "name": "BCORL1 c.4846T>C",
         "type": "scatter",
         "x": [
          70,
          73,
          76,
          79
         ],
         "y": [
          0.0038,
          0.0048,
          0.0113,
          0.0037
         ]
        },
        {
         "mode": "lines+markers",
         "name": "SH2B3 c.76T>G",
         "type": "scatter",
         "x": [
          70,
          73,
          76,
          79
         ],
         "y": [
          0.0059,
          0.0076,
          0.0058,
          0.0103
         ]
        },
        {
         "mode": "lines+markers",
         "name": "FBXW7 c.1784T>G",
         "type": "scatter",
         "x": [
          70,
          73,
          76,
          79
         ],
         "y": [
          0.0067,
          0.0066,
          0.0054,
          0.0103
         ]
        },
        {
         "mode": "lines+markers",
         "name": "WT1 c.271_273del",
         "type": "scatter",
         "x": [
          70,
          73,
          76,
          79
         ],
         "y": [
          0.0094,
          0.0056,
          0.0161,
          0.0044
         ]
        },
        {
         "mode": "lines+markers",
         "name": "CEBPA c.545A>C",
         "type": "scatter",
         "x": [
          70,
          73,
          76,
          79
         ],
         "y": [
          0.0127,
          0.0004,
          0.0064,
          0.0088
         ]
        }
       ],
       "layout": {
        "template": {
         "data": {
          "bar": [
           {
            "error_x": {
             "color": "rgb(36,36,36)"
            },
            "error_y": {
             "color": "rgb(36,36,36)"
            },
            "marker": {
             "line": {
              "color": "white",
              "width": 0.5
             },
             "pattern": {
              "fillmode": "overlay",
              "size": 10,
              "solidity": 0.2
             }
            },
            "type": "bar"
           }
          ],
          "barpolar": [
           {
            "marker": {
             "line": {
              "color": "white",
              "width": 0.5
             },
             "pattern": {
              "fillmode": "overlay",
              "size": 10,
              "solidity": 0.2
             }
            },
            "type": "barpolar"
           }
          ],
          "carpet": [
           {
            "aaxis": {
             "endlinecolor": "rgb(36,36,36)",
             "gridcolor": "white",
             "linecolor": "white",
             "minorgridcolor": "white",
             "startlinecolor": "rgb(36,36,36)"
            },
            "baxis": {
             "endlinecolor": "rgb(36,36,36)",
             "gridcolor": "white",
             "linecolor": "white",
             "minorgridcolor": "white",
             "startlinecolor": "rgb(36,36,36)"
            },
            "type": "carpet"
           }
          ],
          "choropleth": [
           {
            "colorbar": {
             "outlinewidth": 1,
             "tickcolor": "rgb(36,36,36)",
             "ticks": "outside"
            },
            "type": "choropleth"
           }
          ],
          "contour": [
           {
            "colorbar": {
             "outlinewidth": 1,
             "tickcolor": "rgb(36,36,36)",
             "ticks": "outside"
            },
            "colorscale": [
             [
              0,
              "#440154"
             ],
             [
              0.1111111111111111,
              "#482878"
             ],
             [
              0.2222222222222222,
              "#3e4989"
             ],
             [
              0.3333333333333333,
              "#31688e"
             ],
             [
              0.4444444444444444,
              "#26828e"
             ],
             [
              0.5555555555555556,
              "#1f9e89"
             ],
             [
              0.6666666666666666,
              "#35b779"
             ],
             [
              0.7777777777777778,
              "#6ece58"
             ],
             [
              0.8888888888888888,
              "#b5de2b"
             ],
             [
              1,
              "#fde725"
             ]
            ],
            "type": "contour"
           }
          ],
          "contourcarpet": [
           {
            "colorbar": {
             "outlinewidth": 1,
             "tickcolor": "rgb(36,36,36)",
             "ticks": "outside"
            },
            "type": "contourcarpet"
           }
          ],
          "heatmap": [
           {
            "colorbar": {
             "outlinewidth": 1,
             "tickcolor": "rgb(36,36,36)",
             "ticks": "outside"
            },
            "colorscale": [
             [
              0,
              "#440154"
             ],
             [
              0.1111111111111111,
              "#482878"
             ],
             [
              0.2222222222222222,
              "#3e4989"
             ],
             [
              0.3333333333333333,
              "#31688e"
             ],
             [
              0.4444444444444444,
              "#26828e"
             ],
             [
              0.5555555555555556,
              "#1f9e89"
             ],
             [
              0.6666666666666666,
              "#35b779"
             ],
             [
              0.7777777777777778,
              "#6ece58"
             ],
             [
              0.8888888888888888,
              "#b5de2b"
             ],
             [
              1,
              "#fde725"
             ]
            ],
            "type": "heatmap"
           }
          ],
          "heatmapgl": [
           {
            "colorbar": {
             "outlinewidth": 1,
             "tickcolor": "rgb(36,36,36)",
             "ticks": "outside"
            },
            "colorscale": [
             [
              0,
              "#440154"
             ],
             [
              0.1111111111111111,
              "#482878"
             ],
             [
              0.2222222222222222,
              "#3e4989"
             ],
             [
              0.3333333333333333,
              "#31688e"
             ],
             [
              0.4444444444444444,
              "#26828e"
             ],
             [
              0.5555555555555556,
              "#1f9e89"
             ],
             [
              0.6666666666666666,
              "#35b779"
             ],
             [
              0.7777777777777778,
              "#6ece58"
             ],
             [
              0.8888888888888888,
              "#b5de2b"
             ],
             [
              1,
              "#fde725"
             ]
            ],
            "type": "heatmapgl"
           }
          ],
          "histogram": [
           {
            "marker": {
             "line": {
              "color": "white",
              "width": 0.6
             }
            },
            "type": "histogram"
           }
          ],
          "histogram2d": [
           {
            "colorbar": {
             "outlinewidth": 1,
             "tickcolor": "rgb(36,36,36)",
             "ticks": "outside"
            },
            "colorscale": [
             [
              0,
              "#440154"
             ],
             [
              0.1111111111111111,
              "#482878"
             ],
             [
              0.2222222222222222,
              "#3e4989"
             ],
             [
              0.3333333333333333,
              "#31688e"
             ],
             [
              0.4444444444444444,
              "#26828e"
             ],
             [
              0.5555555555555556,
              "#1f9e89"
             ],
             [
              0.6666666666666666,
              "#35b779"
             ],
             [
              0.7777777777777778,
              "#6ece58"
             ],
             [
              0.8888888888888888,
              "#b5de2b"
             ],
             [
              1,
              "#fde725"
             ]
            ],
            "type": "histogram2d"
           }
          ],
          "histogram2dcontour": [
           {
            "colorbar": {
             "outlinewidth": 1,
             "tickcolor": "rgb(36,36,36)",
             "ticks": "outside"
            },
            "colorscale": [
             [
              0,
              "#440154"
             ],
             [
              0.1111111111111111,
              "#482878"
             ],
             [
              0.2222222222222222,
              "#3e4989"
             ],
             [
              0.3333333333333333,
              "#31688e"
             ],
             [
              0.4444444444444444,
              "#26828e"
             ],
             [
              0.5555555555555556,
              "#1f9e89"
             ],
             [
              0.6666666666666666,
              "#35b779"
             ],
             [
              0.7777777777777778,
              "#6ece58"
             ],
             [
              0.8888888888888888,
              "#b5de2b"
             ],
             [
              1,
              "#fde725"
             ]
            ],
            "type": "histogram2dcontour"
           }
          ],
          "mesh3d": [
           {
            "colorbar": {
             "outlinewidth": 1,
             "tickcolor": "rgb(36,36,36)",
             "ticks": "outside"
            },
            "type": "mesh3d"
           }
          ],
          "parcoords": [
           {
            "line": {
             "colorbar": {
              "outlinewidth": 1,
              "tickcolor": "rgb(36,36,36)",
              "ticks": "outside"
             }
            },
            "type": "parcoords"
           }
          ],
          "pie": [
           {
            "automargin": true,
            "type": "pie"
           }
          ],
          "scatter": [
           {
            "marker": {
             "colorbar": {
              "outlinewidth": 1,
              "tickcolor": "rgb(36,36,36)",
              "ticks": "outside"
             }
            },
            "type": "scatter"
           }
          ],
          "scatter3d": [
           {
            "line": {
             "colorbar": {
              "outlinewidth": 1,
              "tickcolor": "rgb(36,36,36)",
              "ticks": "outside"
             }
            },
            "marker": {
             "colorbar": {
              "outlinewidth": 1,
              "tickcolor": "rgb(36,36,36)",
              "ticks": "outside"
             }
            },
            "type": "scatter3d"
           }
          ],
          "scattercarpet": [
           {
            "marker": {
             "colorbar": {
              "outlinewidth": 1,
              "tickcolor": "rgb(36,36,36)",
              "ticks": "outside"
             }
            },
            "type": "scattercarpet"
           }
          ],
          "scattergeo": [
           {
            "marker": {
             "colorbar": {
              "outlinewidth": 1,
              "tickcolor": "rgb(36,36,36)",
              "ticks": "outside"
             }
            },
            "type": "scattergeo"
           }
          ],
          "scattergl": [
           {
            "marker": {
             "colorbar": {
              "outlinewidth": 1,
              "tickcolor": "rgb(36,36,36)",
              "ticks": "outside"
             }
            },
            "type": "scattergl"
           }
          ],
          "scattermapbox": [
           {
            "marker": {
             "colorbar": {
              "outlinewidth": 1,
              "tickcolor": "rgb(36,36,36)",
              "ticks": "outside"
             }
            },
            "type": "scattermapbox"
           }
          ],
          "scatterpolar": [
           {
            "marker": {
             "colorbar": {
              "outlinewidth": 1,
              "tickcolor": "rgb(36,36,36)",
              "ticks": "outside"
             }
            },
            "type": "scatterpolar"
           }
          ],
          "scatterpolargl": [
           {
            "marker": {
             "colorbar": {
              "outlinewidth": 1,
              "tickcolor": "rgb(36,36,36)",
              "ticks": "outside"
             }
            },
            "type": "scatterpolargl"
           }
          ],
          "scatterternary": [
           {
            "marker": {
             "colorbar": {
              "outlinewidth": 1,
              "tickcolor": "rgb(36,36,36)",
              "ticks": "outside"
             }
            },
            "type": "scatterternary"
           }
          ],
          "surface": [
           {
            "colorbar": {
             "outlinewidth": 1,
             "tickcolor": "rgb(36,36,36)",
             "ticks": "outside"
            },
            "colorscale": [
             [
              0,
              "#440154"
             ],
             [
              0.1111111111111111,
              "#482878"
             ],
             [
              0.2222222222222222,
              "#3e4989"
             ],
             [
              0.3333333333333333,
              "#31688e"
             ],
             [
              0.4444444444444444,
              "#26828e"
             ],
             [
              0.5555555555555556,
              "#1f9e89"
             ],
             [
              0.6666666666666666,
              "#35b779"
             ],
             [
              0.7777777777777778,
              "#6ece58"
             ],
             [
              0.8888888888888888,
              "#b5de2b"
             ],
             [
              1,
              "#fde725"
             ]
            ],
            "type": "surface"
           }
          ],
          "table": [
           {
            "cells": {
             "fill": {
              "color": "rgb(237,237,237)"
             },
             "line": {
              "color": "white"
             }
            },
            "header": {
             "fill": {
              "color": "rgb(217,217,217)"
             },
             "line": {
              "color": "white"
             }
            },
            "type": "table"
           }
          ]
         },
         "layout": {
          "annotationdefaults": {
           "arrowhead": 0,
           "arrowwidth": 1
          },
          "autotypenumbers": "strict",
          "coloraxis": {
           "colorbar": {
            "outlinewidth": 1,
            "tickcolor": "rgb(36,36,36)",
            "ticks": "outside"
           }
          },
          "colorscale": {
           "diverging": [
            [
             0,
             "rgb(103,0,31)"
            ],
            [
             0.1,
             "rgb(178,24,43)"
            ],
            [
             0.2,
             "rgb(214,96,77)"
            ],
            [
             0.3,
             "rgb(244,165,130)"
            ],
            [
             0.4,
             "rgb(253,219,199)"
            ],
            [
             0.5,
             "rgb(247,247,247)"
            ],
            [
             0.6,
             "rgb(209,229,240)"
            ],
            [
             0.7,
             "rgb(146,197,222)"
            ],
            [
             0.8,
             "rgb(67,147,195)"
            ],
            [
             0.9,
             "rgb(33,102,172)"
            ],
            [
             1,
             "rgb(5,48,97)"
            ]
           ],
           "sequential": [
            [
             0,
             "#440154"
            ],
            [
             0.1111111111111111,
             "#482878"
            ],
            [
             0.2222222222222222,
             "#3e4989"
            ],
            [
             0.3333333333333333,
             "#31688e"
            ],
            [
             0.4444444444444444,
             "#26828e"
            ],
            [
             0.5555555555555556,
             "#1f9e89"
            ],
            [
             0.6666666666666666,
             "#35b779"
            ],
            [
             0.7777777777777778,
             "#6ece58"
            ],
            [
             0.8888888888888888,
             "#b5de2b"
            ],
            [
             1,
             "#fde725"
            ]
           ],
           "sequentialminus": [
            [
             0,
             "#440154"
            ],
            [
             0.1111111111111111,
             "#482878"
            ],
            [
             0.2222222222222222,
             "#3e4989"
            ],
            [
             0.3333333333333333,
             "#31688e"
            ],
            [
             0.4444444444444444,
             "#26828e"
            ],
            [
             0.5555555555555556,
             "#1f9e89"
            ],
            [
             0.6666666666666666,
             "#35b779"
            ],
            [
             0.7777777777777778,
             "#6ece58"
            ],
            [
             0.8888888888888888,
             "#b5de2b"
            ],
            [
             1,
             "#fde725"
            ]
           ]
          },
          "colorway": [
           "#1F77B4",
           "#FF7F0E",
           "#2CA02C",
           "#D62728",
           "#9467BD",
           "#8C564B",
           "#E377C2",
           "#7F7F7F",
           "#BCBD22",
           "#17BECF"
          ],
          "font": {
           "color": "rgb(36,36,36)"
          },
          "geo": {
           "bgcolor": "white",
           "lakecolor": "white",
           "landcolor": "white",
           "showlakes": true,
           "showland": true,
           "subunitcolor": "white"
          },
          "hoverlabel": {
           "align": "left"
          },
          "hovermode": "closest",
          "mapbox": {
           "style": "light"
          },
          "paper_bgcolor": "white",
          "plot_bgcolor": "white",
          "polar": {
           "angularaxis": {
            "gridcolor": "rgb(232,232,232)",
            "linecolor": "rgb(36,36,36)",
            "showgrid": false,
            "showline": true,
            "ticks": "outside"
           },
           "bgcolor": "white",
           "radialaxis": {
            "gridcolor": "rgb(232,232,232)",
            "linecolor": "rgb(36,36,36)",
            "showgrid": false,
            "showline": true,
            "ticks": "outside"
           }
          },
          "scene": {
           "xaxis": {
            "backgroundcolor": "white",
            "gridcolor": "rgb(232,232,232)",
            "gridwidth": 2,
            "linecolor": "rgb(36,36,36)",
            "showbackground": true,
            "showgrid": false,
            "showline": true,
            "ticks": "outside",
            "zeroline": false,
            "zerolinecolor": "rgb(36,36,36)"
           },
           "yaxis": {
            "backgroundcolor": "white",
            "gridcolor": "rgb(232,232,232)",
            "gridwidth": 2,
            "linecolor": "rgb(36,36,36)",
            "showbackground": true,
            "showgrid": false,
            "showline": true,
            "ticks": "outside",
            "zeroline": false,
            "zerolinecolor": "rgb(36,36,36)"
           },
           "zaxis": {
            "backgroundcolor": "white",
            "gridcolor": "rgb(232,232,232)",
            "gridwidth": 2,
            "linecolor": "rgb(36,36,36)",
            "showbackground": true,
            "showgrid": false,
            "showline": true,
            "ticks": "outside",
            "zeroline": false,
            "zerolinecolor": "rgb(36,36,36)"
           }
          },
          "shapedefaults": {
           "fillcolor": "black",
           "line": {
            "width": 0
           },
           "opacity": 0.3
          },
          "ternary": {
           "aaxis": {
            "gridcolor": "rgb(232,232,232)",
            "linecolor": "rgb(36,36,36)",
            "showgrid": false,
            "showline": true,
            "ticks": "outside"
           },
           "baxis": {
            "gridcolor": "rgb(232,232,232)",
            "linecolor": "rgb(36,36,36)",
            "showgrid": false,
            "showline": true,
            "ticks": "outside"
           },
           "bgcolor": "white",
           "caxis": {
            "gridcolor": "rgb(232,232,232)",
            "linecolor": "rgb(36,36,36)",
            "showgrid": false,
            "showline": true,
            "ticks": "outside"
           }
          },
          "title": {
           "x": 0.05
          },
          "xaxis": {
           "automargin": true,
           "gridcolor": "rgb(232,232,232)",
           "linecolor": "rgb(36,36,36)",
           "showgrid": false,
           "showline": true,
           "ticks": "outside",
           "title": {
            "standoff": 15
           },
           "zeroline": false,
           "zerolinecolor": "rgb(36,36,36)"
          },
          "yaxis": {
           "automargin": true,
           "gridcolor": "rgb(232,232,232)",
           "linecolor": "rgb(36,36,36)",
           "showgrid": false,
           "showline": true,
           "ticks": "outside",
           "title": {
            "standoff": 15
           },
           "zeroline": false,
           "zerolinecolor": "rgb(36,36,36)"
          }
         }
        },
        "title": {
         "text": "Trajectories of participant LBC361214"
        },
        "xaxis": {
         "title": {
          "text": "Age (in years)"
         }
        },
        "yaxis": {
         "title": {
          "text": "VAF"
         }
        }
       }
      }
     },
     "metadata": {},
     "output_type": "display_data"
    }
   ],
   "source": [
    "plot.plot_id(lbc,'LBC361214', germline=False)"
   ]
  },
  {
   "cell_type": "markdown",
   "metadata": {},
   "source": [
    "### Most prevalent mutations in the cohort"
   ]
  },
  {
   "cell_type": "code",
   "execution_count": 13,
   "metadata": {
    "scrolled": false
   },
   "outputs": [
    {
     "data": {
      "application/vnd.plotly.v1+json": {
       "config": {
        "plotlyServerURL": "https://plot.ly"
       },
       "data": [
        {
         "type": "bar",
         "x": [
          "BCORL1",
          "NF1",
          "KMT2A",
          "DNMT3A",
          "KDM6A",
          "NOTCH1",
          "BCOR",
          "RAD21",
          "SH2B3",
          "TP53",
          "STAG2",
          "LUC7L2",
          "TET2",
          "WT1",
          "U2AF2",
          "SRSF2",
          "FBXW7",
          "DDX41",
          "ZRSR2",
          "CSF3R"
         ],
         "y": [
          247,
          221,
          205,
          162,
          142,
          133,
          108,
          97,
          94,
          78,
          71,
          66,
          66,
          64,
          63,
          60,
          54,
          51,
          46,
          44
         ]
        }
       ],
       "layout": {
        "template": {
         "data": {
          "bar": [
           {
            "error_x": {
             "color": "rgb(36,36,36)"
            },
            "error_y": {
             "color": "rgb(36,36,36)"
            },
            "marker": {
             "line": {
              "color": "white",
              "width": 0.5
             },
             "pattern": {
              "fillmode": "overlay",
              "size": 10,
              "solidity": 0.2
             }
            },
            "type": "bar"
           }
          ],
          "barpolar": [
           {
            "marker": {
             "line": {
              "color": "white",
              "width": 0.5
             },
             "pattern": {
              "fillmode": "overlay",
              "size": 10,
              "solidity": 0.2
             }
            },
            "type": "barpolar"
           }
          ],
          "carpet": [
           {
            "aaxis": {
             "endlinecolor": "rgb(36,36,36)",
             "gridcolor": "white",
             "linecolor": "white",
             "minorgridcolor": "white",
             "startlinecolor": "rgb(36,36,36)"
            },
            "baxis": {
             "endlinecolor": "rgb(36,36,36)",
             "gridcolor": "white",
             "linecolor": "white",
             "minorgridcolor": "white",
             "startlinecolor": "rgb(36,36,36)"
            },
            "type": "carpet"
           }
          ],
          "choropleth": [
           {
            "colorbar": {
             "outlinewidth": 1,
             "tickcolor": "rgb(36,36,36)",
             "ticks": "outside"
            },
            "type": "choropleth"
           }
          ],
          "contour": [
           {
            "colorbar": {
             "outlinewidth": 1,
             "tickcolor": "rgb(36,36,36)",
             "ticks": "outside"
            },
            "colorscale": [
             [
              0,
              "#440154"
             ],
             [
              0.1111111111111111,
              "#482878"
             ],
             [
              0.2222222222222222,
              "#3e4989"
             ],
             [
              0.3333333333333333,
              "#31688e"
             ],
             [
              0.4444444444444444,
              "#26828e"
             ],
             [
              0.5555555555555556,
              "#1f9e89"
             ],
             [
              0.6666666666666666,
              "#35b779"
             ],
             [
              0.7777777777777778,
              "#6ece58"
             ],
             [
              0.8888888888888888,
              "#b5de2b"
             ],
             [
              1,
              "#fde725"
             ]
            ],
            "type": "contour"
           }
          ],
          "contourcarpet": [
           {
            "colorbar": {
             "outlinewidth": 1,
             "tickcolor": "rgb(36,36,36)",
             "ticks": "outside"
            },
            "type": "contourcarpet"
           }
          ],
          "heatmap": [
           {
            "colorbar": {
             "outlinewidth": 1,
             "tickcolor": "rgb(36,36,36)",
             "ticks": "outside"
            },
            "colorscale": [
             [
              0,
              "#440154"
             ],
             [
              0.1111111111111111,
              "#482878"
             ],
             [
              0.2222222222222222,
              "#3e4989"
             ],
             [
              0.3333333333333333,
              "#31688e"
             ],
             [
              0.4444444444444444,
              "#26828e"
             ],
             [
              0.5555555555555556,
              "#1f9e89"
             ],
             [
              0.6666666666666666,
              "#35b779"
             ],
             [
              0.7777777777777778,
              "#6ece58"
             ],
             [
              0.8888888888888888,
              "#b5de2b"
             ],
             [
              1,
              "#fde725"
             ]
            ],
            "type": "heatmap"
           }
          ],
          "heatmapgl": [
           {
            "colorbar": {
             "outlinewidth": 1,
             "tickcolor": "rgb(36,36,36)",
             "ticks": "outside"
            },
            "colorscale": [
             [
              0,
              "#440154"
             ],
             [
              0.1111111111111111,
              "#482878"
             ],
             [
              0.2222222222222222,
              "#3e4989"
             ],
             [
              0.3333333333333333,
              "#31688e"
             ],
             [
              0.4444444444444444,
              "#26828e"
             ],
             [
              0.5555555555555556,
              "#1f9e89"
             ],
             [
              0.6666666666666666,
              "#35b779"
             ],
             [
              0.7777777777777778,
              "#6ece58"
             ],
             [
              0.8888888888888888,
              "#b5de2b"
             ],
             [
              1,
              "#fde725"
             ]
            ],
            "type": "heatmapgl"
           }
          ],
          "histogram": [
           {
            "marker": {
             "line": {
              "color": "white",
              "width": 0.6
             }
            },
            "type": "histogram"
           }
          ],
          "histogram2d": [
           {
            "colorbar": {
             "outlinewidth": 1,
             "tickcolor": "rgb(36,36,36)",
             "ticks": "outside"
            },
            "colorscale": [
             [
              0,
              "#440154"
             ],
             [
              0.1111111111111111,
              "#482878"
             ],
             [
              0.2222222222222222,
              "#3e4989"
             ],
             [
              0.3333333333333333,
              "#31688e"
             ],
             [
              0.4444444444444444,
              "#26828e"
             ],
             [
              0.5555555555555556,
              "#1f9e89"
             ],
             [
              0.6666666666666666,
              "#35b779"
             ],
             [
              0.7777777777777778,
              "#6ece58"
             ],
             [
              0.8888888888888888,
              "#b5de2b"
             ],
             [
              1,
              "#fde725"
             ]
            ],
            "type": "histogram2d"
           }
          ],
          "histogram2dcontour": [
           {
            "colorbar": {
             "outlinewidth": 1,
             "tickcolor": "rgb(36,36,36)",
             "ticks": "outside"
            },
            "colorscale": [
             [
              0,
              "#440154"
             ],
             [
              0.1111111111111111,
              "#482878"
             ],
             [
              0.2222222222222222,
              "#3e4989"
             ],
             [
              0.3333333333333333,
              "#31688e"
             ],
             [
              0.4444444444444444,
              "#26828e"
             ],
             [
              0.5555555555555556,
              "#1f9e89"
             ],
             [
              0.6666666666666666,
              "#35b779"
             ],
             [
              0.7777777777777778,
              "#6ece58"
             ],
             [
              0.8888888888888888,
              "#b5de2b"
             ],
             [
              1,
              "#fde725"
             ]
            ],
            "type": "histogram2dcontour"
           }
          ],
          "mesh3d": [
           {
            "colorbar": {
             "outlinewidth": 1,
             "tickcolor": "rgb(36,36,36)",
             "ticks": "outside"
            },
            "type": "mesh3d"
           }
          ],
          "parcoords": [
           {
            "line": {
             "colorbar": {
              "outlinewidth": 1,
              "tickcolor": "rgb(36,36,36)",
              "ticks": "outside"
             }
            },
            "type": "parcoords"
           }
          ],
          "pie": [
           {
            "automargin": true,
            "type": "pie"
           }
          ],
          "scatter": [
           {
            "marker": {
             "colorbar": {
              "outlinewidth": 1,
              "tickcolor": "rgb(36,36,36)",
              "ticks": "outside"
             }
            },
            "type": "scatter"
           }
          ],
          "scatter3d": [
           {
            "line": {
             "colorbar": {
              "outlinewidth": 1,
              "tickcolor": "rgb(36,36,36)",
              "ticks": "outside"
             }
            },
            "marker": {
             "colorbar": {
              "outlinewidth": 1,
              "tickcolor": "rgb(36,36,36)",
              "ticks": "outside"
             }
            },
            "type": "scatter3d"
           }
          ],
          "scattercarpet": [
           {
            "marker": {
             "colorbar": {
              "outlinewidth": 1,
              "tickcolor": "rgb(36,36,36)",
              "ticks": "outside"
             }
            },
            "type": "scattercarpet"
           }
          ],
          "scattergeo": [
           {
            "marker": {
             "colorbar": {
              "outlinewidth": 1,
              "tickcolor": "rgb(36,36,36)",
              "ticks": "outside"
             }
            },
            "type": "scattergeo"
           }
          ],
          "scattergl": [
           {
            "marker": {
             "colorbar": {
              "outlinewidth": 1,
              "tickcolor": "rgb(36,36,36)",
              "ticks": "outside"
             }
            },
            "type": "scattergl"
           }
          ],
          "scattermapbox": [
           {
            "marker": {
             "colorbar": {
              "outlinewidth": 1,
              "tickcolor": "rgb(36,36,36)",
              "ticks": "outside"
             }
            },
            "type": "scattermapbox"
           }
          ],
          "scatterpolar": [
           {
            "marker": {
             "colorbar": {
              "outlinewidth": 1,
              "tickcolor": "rgb(36,36,36)",
              "ticks": "outside"
             }
            },
            "type": "scatterpolar"
           }
          ],
          "scatterpolargl": [
           {
            "marker": {
             "colorbar": {
              "outlinewidth": 1,
              "tickcolor": "rgb(36,36,36)",
              "ticks": "outside"
             }
            },
            "type": "scatterpolargl"
           }
          ],
          "scatterternary": [
           {
            "marker": {
             "colorbar": {
              "outlinewidth": 1,
              "tickcolor": "rgb(36,36,36)",
              "ticks": "outside"
             }
            },
            "type": "scatterternary"
           }
          ],
          "surface": [
           {
            "colorbar": {
             "outlinewidth": 1,
             "tickcolor": "rgb(36,36,36)",
             "ticks": "outside"
            },
            "colorscale": [
             [
              0,
              "#440154"
             ],
             [
              0.1111111111111111,
              "#482878"
             ],
             [
              0.2222222222222222,
              "#3e4989"
             ],
             [
              0.3333333333333333,
              "#31688e"
             ],
             [
              0.4444444444444444,
              "#26828e"
             ],
             [
              0.5555555555555556,
              "#1f9e89"
             ],
             [
              0.6666666666666666,
              "#35b779"
             ],
             [
              0.7777777777777778,
              "#6ece58"
             ],
             [
              0.8888888888888888,
              "#b5de2b"
             ],
             [
              1,
              "#fde725"
             ]
            ],
            "type": "surface"
           }
          ],
          "table": [
           {
            "cells": {
             "fill": {
              "color": "rgb(237,237,237)"
             },
             "line": {
              "color": "white"
             }
            },
            "header": {
             "fill": {
              "color": "rgb(217,217,217)"
             },
             "line": {
              "color": "white"
             }
            },
            "type": "table"
           }
          ]
         },
         "layout": {
          "annotationdefaults": {
           "arrowhead": 0,
           "arrowwidth": 1
          },
          "autotypenumbers": "strict",
          "coloraxis": {
           "colorbar": {
            "outlinewidth": 1,
            "tickcolor": "rgb(36,36,36)",
            "ticks": "outside"
           }
          },
          "colorscale": {
           "diverging": [
            [
             0,
             "rgb(103,0,31)"
            ],
            [
             0.1,
             "rgb(178,24,43)"
            ],
            [
             0.2,
             "rgb(214,96,77)"
            ],
            [
             0.3,
             "rgb(244,165,130)"
            ],
            [
             0.4,
             "rgb(253,219,199)"
            ],
            [
             0.5,
             "rgb(247,247,247)"
            ],
            [
             0.6,
             "rgb(209,229,240)"
            ],
            [
             0.7,
             "rgb(146,197,222)"
            ],
            [
             0.8,
             "rgb(67,147,195)"
            ],
            [
             0.9,
             "rgb(33,102,172)"
            ],
            [
             1,
             "rgb(5,48,97)"
            ]
           ],
           "sequential": [
            [
             0,
             "#440154"
            ],
            [
             0.1111111111111111,
             "#482878"
            ],
            [
             0.2222222222222222,
             "#3e4989"
            ],
            [
             0.3333333333333333,
             "#31688e"
            ],
            [
             0.4444444444444444,
             "#26828e"
            ],
            [
             0.5555555555555556,
             "#1f9e89"
            ],
            [
             0.6666666666666666,
             "#35b779"
            ],
            [
             0.7777777777777778,
             "#6ece58"
            ],
            [
             0.8888888888888888,
             "#b5de2b"
            ],
            [
             1,
             "#fde725"
            ]
           ],
           "sequentialminus": [
            [
             0,
             "#440154"
            ],
            [
             0.1111111111111111,
             "#482878"
            ],
            [
             0.2222222222222222,
             "#3e4989"
            ],
            [
             0.3333333333333333,
             "#31688e"
            ],
            [
             0.4444444444444444,
             "#26828e"
            ],
            [
             0.5555555555555556,
             "#1f9e89"
            ],
            [
             0.6666666666666666,
             "#35b779"
            ],
            [
             0.7777777777777778,
             "#6ece58"
            ],
            [
             0.8888888888888888,
             "#b5de2b"
            ],
            [
             1,
             "#fde725"
            ]
           ]
          },
          "colorway": [
           "#1F77B4",
           "#FF7F0E",
           "#2CA02C",
           "#D62728",
           "#9467BD",
           "#8C564B",
           "#E377C2",
           "#7F7F7F",
           "#BCBD22",
           "#17BECF"
          ],
          "font": {
           "color": "rgb(36,36,36)"
          },
          "geo": {
           "bgcolor": "white",
           "lakecolor": "white",
           "landcolor": "white",
           "showlakes": true,
           "showland": true,
           "subunitcolor": "white"
          },
          "hoverlabel": {
           "align": "left"
          },
          "hovermode": "closest",
          "mapbox": {
           "style": "light"
          },
          "paper_bgcolor": "white",
          "plot_bgcolor": "white",
          "polar": {
           "angularaxis": {
            "gridcolor": "rgb(232,232,232)",
            "linecolor": "rgb(36,36,36)",
            "showgrid": false,
            "showline": true,
            "ticks": "outside"
           },
           "bgcolor": "white",
           "radialaxis": {
            "gridcolor": "rgb(232,232,232)",
            "linecolor": "rgb(36,36,36)",
            "showgrid": false,
            "showline": true,
            "ticks": "outside"
           }
          },
          "scene": {
           "xaxis": {
            "backgroundcolor": "white",
            "gridcolor": "rgb(232,232,232)",
            "gridwidth": 2,
            "linecolor": "rgb(36,36,36)",
            "showbackground": true,
            "showgrid": false,
            "showline": true,
            "ticks": "outside",
            "zeroline": false,
            "zerolinecolor": "rgb(36,36,36)"
           },
           "yaxis": {
            "backgroundcolor": "white",
            "gridcolor": "rgb(232,232,232)",
            "gridwidth": 2,
            "linecolor": "rgb(36,36,36)",
            "showbackground": true,
            "showgrid": false,
            "showline": true,
            "ticks": "outside",
            "zeroline": false,
            "zerolinecolor": "rgb(36,36,36)"
           },
           "zaxis": {
            "backgroundcolor": "white",
            "gridcolor": "rgb(232,232,232)",
            "gridwidth": 2,
            "linecolor": "rgb(36,36,36)",
            "showbackground": true,
            "showgrid": false,
            "showline": true,
            "ticks": "outside",
            "zeroline": false,
            "zerolinecolor": "rgb(36,36,36)"
           }
          },
          "shapedefaults": {
           "fillcolor": "black",
           "line": {
            "width": 0
           },
           "opacity": 0.3
          },
          "ternary": {
           "aaxis": {
            "gridcolor": "rgb(232,232,232)",
            "linecolor": "rgb(36,36,36)",
            "showgrid": false,
            "showline": true,
            "ticks": "outside"
           },
           "baxis": {
            "gridcolor": "rgb(232,232,232)",
            "linecolor": "rgb(36,36,36)",
            "showgrid": false,
            "showline": true,
            "ticks": "outside"
           },
           "bgcolor": "white",
           "caxis": {
            "gridcolor": "rgb(232,232,232)",
            "linecolor": "rgb(36,36,36)",
            "showgrid": false,
            "showline": true,
            "ticks": "outside"
           }
          },
          "title": {
           "x": 0.05
          },
          "xaxis": {
           "automargin": true,
           "gridcolor": "rgb(232,232,232)",
           "linecolor": "rgb(36,36,36)",
           "showgrid": false,
           "showline": true,
           "ticks": "outside",
           "title": {
            "standoff": 15
           },
           "zeroline": false,
           "zerolinecolor": "rgb(36,36,36)"
          },
          "yaxis": {
           "automargin": true,
           "gridcolor": "rgb(232,232,232)",
           "linecolor": "rgb(36,36,36)",
           "showgrid": false,
           "showline": true,
           "ticks": "outside",
           "title": {
            "standoff": 15
           },
           "zeroline": false,
           "zerolinecolor": "rgb(36,36,36)"
          }
         }
        }
       }
      }
     },
     "metadata": {},
     "output_type": "display_data"
    }
   ],
   "source": [
    "# Bar plot of trajectory counts by genes.\n",
    "# Parameter n_genes determines the amount of genes to be shown.\n",
    "plot.top_bar(lbc, n_genes=20)"
   ]
  },
  {
   "cell_type": "markdown",
   "metadata": {},
   "source": [
    "Alternatively, we can plot counts for all genes in the cohort"
   ]
  },
  {
   "cell_type": "code",
   "execution_count": 14,
   "metadata": {},
   "outputs": [
    {
     "data": {
      "application/vnd.plotly.v1+json": {
       "config": {
        "plotlyServerURL": "https://plot.ly"
       },
       "data": [
        {
         "type": "bar",
         "x": [
          "BCORL1",
          "NF1",
          "KMT2A",
          "DNMT3A",
          "KDM6A",
          "NOTCH1",
          "BCOR",
          "RAD21",
          "SH2B3",
          "TP53",
          "STAG2",
          "LUC7L2",
          "TET2",
          "WT1",
          "U2AF2",
          "SRSF2",
          "FBXW7",
          "DDX41",
          "ZRSR2",
          "CSF3R",
          "CDKN2A",
          "CUX1",
          "SMC1A",
          "GATA1",
          "ASXL1",
          "CEBPA",
          "RUNX1",
          "CBL",
          "SF3B1",
          "ATRX",
          "GATA2",
          "JAK3",
          "MYC",
          "MAP2K1",
          "EZH2",
          "ABL1",
          "CBLC",
          "ETV6",
          "MYD88",
          "PTPN11",
          "CXCR4",
          "NPM1",
          "IKZF1",
          "GNAS",
          "IDH1",
          "PPM1D",
          "BRAF",
          "JAK2",
          "U2AF1",
          "IDH2",
          "KRAS",
          "STAT3",
          "NRAS",
          "BTK",
          "PHF6",
          "SLC29A1",
          "MPL",
          "CALR",
          "CBLB",
          "PDGFRA",
          "PTEN"
         ],
         "y": [
          247,
          221,
          205,
          162,
          142,
          133,
          108,
          97,
          94,
          78,
          71,
          66,
          66,
          64,
          63,
          60,
          54,
          51,
          46,
          44,
          43,
          42,
          41,
          37,
          36,
          34,
          33,
          33,
          28,
          25,
          23,
          19,
          18,
          17,
          16,
          16,
          16,
          15,
          13,
          13,
          13,
          12,
          11,
          8,
          5,
          5,
          5,
          5,
          3,
          2,
          1,
          1,
          1,
          1,
          1,
          1,
          1,
          1,
          1,
          1,
          1
         ]
        }
       ],
       "layout": {
        "template": {
         "data": {
          "bar": [
           {
            "error_x": {
             "color": "rgb(36,36,36)"
            },
            "error_y": {
             "color": "rgb(36,36,36)"
            },
            "marker": {
             "line": {
              "color": "white",
              "width": 0.5
             },
             "pattern": {
              "fillmode": "overlay",
              "size": 10,
              "solidity": 0.2
             }
            },
            "type": "bar"
           }
          ],
          "barpolar": [
           {
            "marker": {
             "line": {
              "color": "white",
              "width": 0.5
             },
             "pattern": {
              "fillmode": "overlay",
              "size": 10,
              "solidity": 0.2
             }
            },
            "type": "barpolar"
           }
          ],
          "carpet": [
           {
            "aaxis": {
             "endlinecolor": "rgb(36,36,36)",
             "gridcolor": "white",
             "linecolor": "white",
             "minorgridcolor": "white",
             "startlinecolor": "rgb(36,36,36)"
            },
            "baxis": {
             "endlinecolor": "rgb(36,36,36)",
             "gridcolor": "white",
             "linecolor": "white",
             "minorgridcolor": "white",
             "startlinecolor": "rgb(36,36,36)"
            },
            "type": "carpet"
           }
          ],
          "choropleth": [
           {
            "colorbar": {
             "outlinewidth": 1,
             "tickcolor": "rgb(36,36,36)",
             "ticks": "outside"
            },
            "type": "choropleth"
           }
          ],
          "contour": [
           {
            "colorbar": {
             "outlinewidth": 1,
             "tickcolor": "rgb(36,36,36)",
             "ticks": "outside"
            },
            "colorscale": [
             [
              0,
              "#440154"
             ],
             [
              0.1111111111111111,
              "#482878"
             ],
             [
              0.2222222222222222,
              "#3e4989"
             ],
             [
              0.3333333333333333,
              "#31688e"
             ],
             [
              0.4444444444444444,
              "#26828e"
             ],
             [
              0.5555555555555556,
              "#1f9e89"
             ],
             [
              0.6666666666666666,
              "#35b779"
             ],
             [
              0.7777777777777778,
              "#6ece58"
             ],
             [
              0.8888888888888888,
              "#b5de2b"
             ],
             [
              1,
              "#fde725"
             ]
            ],
            "type": "contour"
           }
          ],
          "contourcarpet": [
           {
            "colorbar": {
             "outlinewidth": 1,
             "tickcolor": "rgb(36,36,36)",
             "ticks": "outside"
            },
            "type": "contourcarpet"
           }
          ],
          "heatmap": [
           {
            "colorbar": {
             "outlinewidth": 1,
             "tickcolor": "rgb(36,36,36)",
             "ticks": "outside"
            },
            "colorscale": [
             [
              0,
              "#440154"
             ],
             [
              0.1111111111111111,
              "#482878"
             ],
             [
              0.2222222222222222,
              "#3e4989"
             ],
             [
              0.3333333333333333,
              "#31688e"
             ],
             [
              0.4444444444444444,
              "#26828e"
             ],
             [
              0.5555555555555556,
              "#1f9e89"
             ],
             [
              0.6666666666666666,
              "#35b779"
             ],
             [
              0.7777777777777778,
              "#6ece58"
             ],
             [
              0.8888888888888888,
              "#b5de2b"
             ],
             [
              1,
              "#fde725"
             ]
            ],
            "type": "heatmap"
           }
          ],
          "heatmapgl": [
           {
            "colorbar": {
             "outlinewidth": 1,
             "tickcolor": "rgb(36,36,36)",
             "ticks": "outside"
            },
            "colorscale": [
             [
              0,
              "#440154"
             ],
             [
              0.1111111111111111,
              "#482878"
             ],
             [
              0.2222222222222222,
              "#3e4989"
             ],
             [
              0.3333333333333333,
              "#31688e"
             ],
             [
              0.4444444444444444,
              "#26828e"
             ],
             [
              0.5555555555555556,
              "#1f9e89"
             ],
             [
              0.6666666666666666,
              "#35b779"
             ],
             [
              0.7777777777777778,
              "#6ece58"
             ],
             [
              0.8888888888888888,
              "#b5de2b"
             ],
             [
              1,
              "#fde725"
             ]
            ],
            "type": "heatmapgl"
           }
          ],
          "histogram": [
           {
            "marker": {
             "line": {
              "color": "white",
              "width": 0.6
             }
            },
            "type": "histogram"
           }
          ],
          "histogram2d": [
           {
            "colorbar": {
             "outlinewidth": 1,
             "tickcolor": "rgb(36,36,36)",
             "ticks": "outside"
            },
            "colorscale": [
             [
              0,
              "#440154"
             ],
             [
              0.1111111111111111,
              "#482878"
             ],
             [
              0.2222222222222222,
              "#3e4989"
             ],
             [
              0.3333333333333333,
              "#31688e"
             ],
             [
              0.4444444444444444,
              "#26828e"
             ],
             [
              0.5555555555555556,
              "#1f9e89"
             ],
             [
              0.6666666666666666,
              "#35b779"
             ],
             [
              0.7777777777777778,
              "#6ece58"
             ],
             [
              0.8888888888888888,
              "#b5de2b"
             ],
             [
              1,
              "#fde725"
             ]
            ],
            "type": "histogram2d"
           }
          ],
          "histogram2dcontour": [
           {
            "colorbar": {
             "outlinewidth": 1,
             "tickcolor": "rgb(36,36,36)",
             "ticks": "outside"
            },
            "colorscale": [
             [
              0,
              "#440154"
             ],
             [
              0.1111111111111111,
              "#482878"
             ],
             [
              0.2222222222222222,
              "#3e4989"
             ],
             [
              0.3333333333333333,
              "#31688e"
             ],
             [
              0.4444444444444444,
              "#26828e"
             ],
             [
              0.5555555555555556,
              "#1f9e89"
             ],
             [
              0.6666666666666666,
              "#35b779"
             ],
             [
              0.7777777777777778,
              "#6ece58"
             ],
             [
              0.8888888888888888,
              "#b5de2b"
             ],
             [
              1,
              "#fde725"
             ]
            ],
            "type": "histogram2dcontour"
           }
          ],
          "mesh3d": [
           {
            "colorbar": {
             "outlinewidth": 1,
             "tickcolor": "rgb(36,36,36)",
             "ticks": "outside"
            },
            "type": "mesh3d"
           }
          ],
          "parcoords": [
           {
            "line": {
             "colorbar": {
              "outlinewidth": 1,
              "tickcolor": "rgb(36,36,36)",
              "ticks": "outside"
             }
            },
            "type": "parcoords"
           }
          ],
          "pie": [
           {
            "automargin": true,
            "type": "pie"
           }
          ],
          "scatter": [
           {
            "marker": {
             "colorbar": {
              "outlinewidth": 1,
              "tickcolor": "rgb(36,36,36)",
              "ticks": "outside"
             }
            },
            "type": "scatter"
           }
          ],
          "scatter3d": [
           {
            "line": {
             "colorbar": {
              "outlinewidth": 1,
              "tickcolor": "rgb(36,36,36)",
              "ticks": "outside"
             }
            },
            "marker": {
             "colorbar": {
              "outlinewidth": 1,
              "tickcolor": "rgb(36,36,36)",
              "ticks": "outside"
             }
            },
            "type": "scatter3d"
           }
          ],
          "scattercarpet": [
           {
            "marker": {
             "colorbar": {
              "outlinewidth": 1,
              "tickcolor": "rgb(36,36,36)",
              "ticks": "outside"
             }
            },
            "type": "scattercarpet"
           }
          ],
          "scattergeo": [
           {
            "marker": {
             "colorbar": {
              "outlinewidth": 1,
              "tickcolor": "rgb(36,36,36)",
              "ticks": "outside"
             }
            },
            "type": "scattergeo"
           }
          ],
          "scattergl": [
           {
            "marker": {
             "colorbar": {
              "outlinewidth": 1,
              "tickcolor": "rgb(36,36,36)",
              "ticks": "outside"
             }
            },
            "type": "scattergl"
           }
          ],
          "scattermapbox": [
           {
            "marker": {
             "colorbar": {
              "outlinewidth": 1,
              "tickcolor": "rgb(36,36,36)",
              "ticks": "outside"
             }
            },
            "type": "scattermapbox"
           }
          ],
          "scatterpolar": [
           {
            "marker": {
             "colorbar": {
              "outlinewidth": 1,
              "tickcolor": "rgb(36,36,36)",
              "ticks": "outside"
             }
            },
            "type": "scatterpolar"
           }
          ],
          "scatterpolargl": [
           {
            "marker": {
             "colorbar": {
              "outlinewidth": 1,
              "tickcolor": "rgb(36,36,36)",
              "ticks": "outside"
             }
            },
            "type": "scatterpolargl"
           }
          ],
          "scatterternary": [
           {
            "marker": {
             "colorbar": {
              "outlinewidth": 1,
              "tickcolor": "rgb(36,36,36)",
              "ticks": "outside"
             }
            },
            "type": "scatterternary"
           }
          ],
          "surface": [
           {
            "colorbar": {
             "outlinewidth": 1,
             "tickcolor": "rgb(36,36,36)",
             "ticks": "outside"
            },
            "colorscale": [
             [
              0,
              "#440154"
             ],
             [
              0.1111111111111111,
              "#482878"
             ],
             [
              0.2222222222222222,
              "#3e4989"
             ],
             [
              0.3333333333333333,
              "#31688e"
             ],
             [
              0.4444444444444444,
              "#26828e"
             ],
             [
              0.5555555555555556,
              "#1f9e89"
             ],
             [
              0.6666666666666666,
              "#35b779"
             ],
             [
              0.7777777777777778,
              "#6ece58"
             ],
             [
              0.8888888888888888,
              "#b5de2b"
             ],
             [
              1,
              "#fde725"
             ]
            ],
            "type": "surface"
           }
          ],
          "table": [
           {
            "cells": {
             "fill": {
              "color": "rgb(237,237,237)"
             },
             "line": {
              "color": "white"
             }
            },
            "header": {
             "fill": {
              "color": "rgb(217,217,217)"
             },
             "line": {
              "color": "white"
             }
            },
            "type": "table"
           }
          ]
         },
         "layout": {
          "annotationdefaults": {
           "arrowhead": 0,
           "arrowwidth": 1
          },
          "autotypenumbers": "strict",
          "coloraxis": {
           "colorbar": {
            "outlinewidth": 1,
            "tickcolor": "rgb(36,36,36)",
            "ticks": "outside"
           }
          },
          "colorscale": {
           "diverging": [
            [
             0,
             "rgb(103,0,31)"
            ],
            [
             0.1,
             "rgb(178,24,43)"
            ],
            [
             0.2,
             "rgb(214,96,77)"
            ],
            [
             0.3,
             "rgb(244,165,130)"
            ],
            [
             0.4,
             "rgb(253,219,199)"
            ],
            [
             0.5,
             "rgb(247,247,247)"
            ],
            [
             0.6,
             "rgb(209,229,240)"
            ],
            [
             0.7,
             "rgb(146,197,222)"
            ],
            [
             0.8,
             "rgb(67,147,195)"
            ],
            [
             0.9,
             "rgb(33,102,172)"
            ],
            [
             1,
             "rgb(5,48,97)"
            ]
           ],
           "sequential": [
            [
             0,
             "#440154"
            ],
            [
             0.1111111111111111,
             "#482878"
            ],
            [
             0.2222222222222222,
             "#3e4989"
            ],
            [
             0.3333333333333333,
             "#31688e"
            ],
            [
             0.4444444444444444,
             "#26828e"
            ],
            [
             0.5555555555555556,
             "#1f9e89"
            ],
            [
             0.6666666666666666,
             "#35b779"
            ],
            [
             0.7777777777777778,
             "#6ece58"
            ],
            [
             0.8888888888888888,
             "#b5de2b"
            ],
            [
             1,
             "#fde725"
            ]
           ],
           "sequentialminus": [
            [
             0,
             "#440154"
            ],
            [
             0.1111111111111111,
             "#482878"
            ],
            [
             0.2222222222222222,
             "#3e4989"
            ],
            [
             0.3333333333333333,
             "#31688e"
            ],
            [
             0.4444444444444444,
             "#26828e"
            ],
            [
             0.5555555555555556,
             "#1f9e89"
            ],
            [
             0.6666666666666666,
             "#35b779"
            ],
            [
             0.7777777777777778,
             "#6ece58"
            ],
            [
             0.8888888888888888,
             "#b5de2b"
            ],
            [
             1,
             "#fde725"
            ]
           ]
          },
          "colorway": [
           "#1F77B4",
           "#FF7F0E",
           "#2CA02C",
           "#D62728",
           "#9467BD",
           "#8C564B",
           "#E377C2",
           "#7F7F7F",
           "#BCBD22",
           "#17BECF"
          ],
          "font": {
           "color": "rgb(36,36,36)"
          },
          "geo": {
           "bgcolor": "white",
           "lakecolor": "white",
           "landcolor": "white",
           "showlakes": true,
           "showland": true,
           "subunitcolor": "white"
          },
          "hoverlabel": {
           "align": "left"
          },
          "hovermode": "closest",
          "mapbox": {
           "style": "light"
          },
          "paper_bgcolor": "white",
          "plot_bgcolor": "white",
          "polar": {
           "angularaxis": {
            "gridcolor": "rgb(232,232,232)",
            "linecolor": "rgb(36,36,36)",
            "showgrid": false,
            "showline": true,
            "ticks": "outside"
           },
           "bgcolor": "white",
           "radialaxis": {
            "gridcolor": "rgb(232,232,232)",
            "linecolor": "rgb(36,36,36)",
            "showgrid": false,
            "showline": true,
            "ticks": "outside"
           }
          },
          "scene": {
           "xaxis": {
            "backgroundcolor": "white",
            "gridcolor": "rgb(232,232,232)",
            "gridwidth": 2,
            "linecolor": "rgb(36,36,36)",
            "showbackground": true,
            "showgrid": false,
            "showline": true,
            "ticks": "outside",
            "zeroline": false,
            "zerolinecolor": "rgb(36,36,36)"
           },
           "yaxis": {
            "backgroundcolor": "white",
            "gridcolor": "rgb(232,232,232)",
            "gridwidth": 2,
            "linecolor": "rgb(36,36,36)",
            "showbackground": true,
            "showgrid": false,
            "showline": true,
            "ticks": "outside",
            "zeroline": false,
            "zerolinecolor": "rgb(36,36,36)"
           },
           "zaxis": {
            "backgroundcolor": "white",
            "gridcolor": "rgb(232,232,232)",
            "gridwidth": 2,
            "linecolor": "rgb(36,36,36)",
            "showbackground": true,
            "showgrid": false,
            "showline": true,
            "ticks": "outside",
            "zeroline": false,
            "zerolinecolor": "rgb(36,36,36)"
           }
          },
          "shapedefaults": {
           "fillcolor": "black",
           "line": {
            "width": 0
           },
           "opacity": 0.3
          },
          "ternary": {
           "aaxis": {
            "gridcolor": "rgb(232,232,232)",
            "linecolor": "rgb(36,36,36)",
            "showgrid": false,
            "showline": true,
            "ticks": "outside"
           },
           "baxis": {
            "gridcolor": "rgb(232,232,232)",
            "linecolor": "rgb(36,36,36)",
            "showgrid": false,
            "showline": true,
            "ticks": "outside"
           },
           "bgcolor": "white",
           "caxis": {
            "gridcolor": "rgb(232,232,232)",
            "linecolor": "rgb(36,36,36)",
            "showgrid": false,
            "showline": true,
            "ticks": "outside"
           }
          },
          "title": {
           "x": 0.05
          },
          "xaxis": {
           "automargin": true,
           "gridcolor": "rgb(232,232,232)",
           "linecolor": "rgb(36,36,36)",
           "showgrid": false,
           "showline": true,
           "ticks": "outside",
           "title": {
            "standoff": 15
           },
           "zeroline": false,
           "zerolinecolor": "rgb(36,36,36)"
          },
          "yaxis": {
           "automargin": true,
           "gridcolor": "rgb(232,232,232)",
           "linecolor": "rgb(36,36,36)",
           "showgrid": false,
           "showline": true,
           "ticks": "outside",
           "title": {
            "standoff": 15
           },
           "zeroline": false,
           "zerolinecolor": "rgb(36,36,36)"
          }
         }
        }
       }
      }
     },
     "metadata": {},
     "output_type": "display_data"
    }
   ],
   "source": [
    "plot.top_bar(lbc, all=True)"
   ]
  },
  {
   "cell_type": "markdown",
   "metadata": {
    "nteract": {
     "transient": {
      "deleting": false
     }
    }
   },
   "source": [
    "## Gradient statistics\n"
   ]
  },
  {
   "cell_type": "markdown",
   "metadata": {
    "nteract": {
     "transient": {
      "deleting": false
     }
    }
   },
   "source": [
    "Function *gradients* allows us to crate violin plots of the overall gradient of all trajectories containing a mutation in a list of genes."
   ]
  },
  {
   "cell_type": "code",
   "execution_count": 15,
   "metadata": {
    "jupyter": {
     "outputs_hidden": false,
     "source_hidden": false
    },
    "nteract": {
     "transient": {
      "deleting": false
     }
    }
   },
   "outputs": [
    {
     "data": {
      "application/vnd.plotly.v1+json": {
       "config": {
        "plotlyServerURL": "https://plot.ly"
       },
       "data": [
        {
         "alignmentgroup": "True",
         "boxpoints": "all",
         "hovertemplate": "<b>%{hovertext}</b><br><br>mutation=%{x}<br>gradient=%{y}<extra></extra>",
         "hovertext": [
          "LBC0001A",
          "LBC0001A",
          "LBC0046H",
          "LBC0046H",
          "LBC0065A",
          "LBC0102H",
          "LBC0111B",
          "LBC0118V",
          "LBC0118V",
          "LBC0118V",
          "LBC0144B",
          "LBC0144B",
          "LBC0220K",
          "LBC0220K",
          "LBC0251K",
          "LBC0251K",
          "LBC0263L",
          "LBC0263L",
          "LBC0284K",
          "LBC0284K",
          "LBC0293E",
          "LBC0377A",
          "LBC0392K",
          "LBC0392K",
          "LBC0405M",
          "LBC0429V",
          "LBC0429V",
          "LBC0439R",
          "LBC0446H",
          "LBC0516R",
          "LBC0517V",
          "LBC0588E",
          "LBC0591L",
          "LBC0591L",
          "LBC0591L",
          "LBC360008",
          "LBC360072",
          "LBC360072",
          "LBC360104",
          "LBC360181",
          "LBC360181",
          "LBC360213",
          "LBC360231",
          "LBC360283",
          "LBC360414",
          "LBC360453",
          "LBC360453",
          "LBC360508",
          "LBC360508",
          "LBC360636",
          "LBC360666",
          "LBC360666",
          "LBC360694",
          "LBC360843",
          "LBC360898",
          "LBC360908",
          "LBC360908",
          "LBC360908",
          "LBC360919",
          "LBC361006",
          "LBC361122",
          "LBC361172",
          "LBC361214",
          "LBC361225",
          "LBC361286",
          "LBC361286"
         ],
         "legendgroup": "TET2",
         "marker": {
          "color": "#1F77B4"
         },
         "name": "TET2",
         "notched": false,
         "offsetgroup": "TET2",
         "orientation": "v",
         "showlegend": true,
         "type": "box",
         "x": [
          "TET2",
          "TET2",
          "TET2",
          "TET2",
          "TET2",
          "TET2",
          "TET2",
          "TET2",
          "TET2",
          "TET2",
          "TET2",
          "TET2",
          "TET2",
          "TET2",
          "TET2",
          "TET2",
          "TET2",
          "TET2",
          "TET2",
          "TET2",
          "TET2",
          "TET2",
          "TET2",
          "TET2",
          "TET2",
          "TET2",
          "TET2",
          "TET2",
          "TET2",
          "TET2",
          "TET2",
          "TET2",
          "TET2",
          "TET2",
          "TET2",
          "TET2",
          "TET2",
          "TET2",
          "TET2",
          "TET2",
          "TET2",
          "TET2",
          "TET2",
          "TET2",
          "TET2",
          "TET2",
          "TET2",
          "TET2",
          "TET2",
          "TET2",
          "TET2",
          "TET2",
          "TET2",
          "TET2",
          "TET2",
          "TET2",
          "TET2",
          "TET2",
          "TET2",
          "TET2",
          "TET2",
          "TET2",
          "TET2",
          "TET2",
          "TET2",
          "TET2"
         ],
         "x0": " ",
         "xaxis": "x",
         "y": [
          -0.0016743157806499147,
          0.03094597442856395,
          0.0024903145718295646,
          -0.0007756717518813401,
          0.002000416623272929,
          -0.00440908153700972,
          0.0010969655114602885,
          0,
          -0.0013880441875771348,
          0.00016329931618554565,
          -0.0004082482904638634,
          -0.000938971068066885,
          -0.0009797958971132711,
          0.0006123724356957948,
          0.0033486315612998294,
          0.04214656965084268,
          0.0004082482904638627,
          0.004286607049870562,
          -0.002041241452319315,
          0.000938971068066885,
          0.011951150572225252,
          0.000734846922834954,
          0.0006531972647421812,
          -0.00016329931618554565,
          0.0012655697004379752,
          0.0001224744871391589,
          0.00375588427226754,
          0.0002857738033247045,
          0.0011430952132988168,
          -0.002816913204200655,
          0.008001666493091716,
          0.00187794213613377,
          -0.005253887449625597,
          -0.0017320508075688778,
          0.02101554979850238,
          0.0002666666666666668,
          0.002433333333333334,
          0.04853333333333334,
          -0.001266666666666667,
          -0.00006666666666666685,
          0.06696666666666666,
          0.0004333333333333333,
          -0.0009797958971132711,
          0.002694438717061496,
          0.0008082903768654762,
          -0.0219,
          0.0015666666666666665,
          -0.005933333333333333,
          0.0038666666666666676,
          -0.0053072277760302196,
          0.0017999999999999997,
          0.01756666666666666,
          -0.0019052558883257652,
          -0.0021333333333333334,
          -0.0009333333333333334,
          0.0004666666666666667,
          0.004933333333333334,
          0.003433333333333332,
          0.0011000000000000003,
          0.0008333333333333335,
          -0.0006666666666666666,
          0.0012655697004379754,
          -0.0007333333333333336,
          0.0012666666666666666,
          -0.04693857688511657,
          -0.0011547005383792516
         ],
         "y0": " ",
         "yaxis": "y"
        },
        {
         "alignmentgroup": "True",
         "boxpoints": "all",
         "hovertemplate": "<b>%{hovertext}</b><br><br>mutation=%{x}<br>gradient=%{y}<extra></extra>",
         "hovertext": [
          "LBC0031R",
          "LBC0046H",
          "LBC0065A",
          "LBC0065A",
          "LBC0065A",
          "LBC0102H",
          "LBC0118V",
          "LBC0118V",
          "LBC0152W",
          "LBC0165A",
          "LBC0176A",
          "LBC0220K",
          "LBC0220K",
          "LBC0220K",
          "LBC0220K",
          "LBC0220K",
          "LBC0242M",
          "LBC0263L",
          "LBC0263L",
          "LBC0284K",
          "LBC0377A",
          "LBC0377A",
          "LBC0392K",
          "LBC0392K",
          "LBC0392K",
          "LBC0405M",
          "LBC0446H",
          "LBC0446H",
          "LBC0446H",
          "LBC0461R",
          "LBC360104",
          "LBC360212",
          "LBC360790",
          "LBC360790",
          "LBC360898",
          "LBC361133"
         ],
         "legendgroup": "ASXL1",
         "marker": {
          "color": "#FF7F0E"
         },
         "name": "ASXL1",
         "notched": false,
         "offsetgroup": "ASXL1",
         "orientation": "v",
         "showlegend": true,
         "type": "box",
         "x": [
          "ASXL1",
          "ASXL1",
          "ASXL1",
          "ASXL1",
          "ASXL1",
          "ASXL1",
          "ASXL1",
          "ASXL1",
          "ASXL1",
          "ASXL1",
          "ASXL1",
          "ASXL1",
          "ASXL1",
          "ASXL1",
          "ASXL1",
          "ASXL1",
          "ASXL1",
          "ASXL1",
          "ASXL1",
          "ASXL1",
          "ASXL1",
          "ASXL1",
          "ASXL1",
          "ASXL1",
          "ASXL1",
          "ASXL1",
          "ASXL1",
          "ASXL1",
          "ASXL1",
          "ASXL1",
          "ASXL1",
          "ASXL1",
          "ASXL1",
          "ASXL1",
          "ASXL1",
          "ASXL1"
         ],
         "x0": " ",
         "xaxis": "x",
         "y": [
          0.0013472193585307483,
          -0.000571547606649408,
          -0.0001632993161855453,
          0.00008164965809277247,
          0.0007348469228349532,
          -0.00187794213613377,
          -0.0004082482904638631,
          0.006899396108839285,
          0.001673817990901839,
          -0.0041569219381653085,
          0.013431368756261094,
          -0.00032659863237109043,
          -0.0016329931618554523,
          -0.0012655697004379757,
          0.0008573214099741124,
          0.0017554676489946112,
          0.0015513435037626797,
          -0.0011022703842524303,
          -0.0010206207261596572,
          0.0008164965809277262,
          0.000938971068066885,
          0.0011839200423452028,
          -0.0015105186747162934,
          0.003715059443221154,
          -0.0014288690166235208,
          0.0011022703842524303,
          0.0006531972647421809,
          0.0001632993161855453,
          -0.00004082482904638641,
          0.003592584956081994,
          0.0026,
          -0.0002666666666666668,
          0.0026000000000000003,
          0.002166666666666667,
          0.0003666666666666668,
          0.002245365597551247
         ],
         "y0": " ",
         "yaxis": "y"
        },
        {
         "alignmentgroup": "True",
         "boxpoints": "all",
         "hovertemplate": "<b>%{hovertext}</b><br><br>mutation=%{x}<br>gradient=%{y}<extra></extra>",
         "hovertext": [
          "LBC0031R",
          "LBC0031R",
          "LBC0046H",
          "LBC0046H",
          "LBC0065A",
          "LBC0065A",
          "LBC0065A",
          "LBC0065A",
          "LBC0065A",
          "LBC0065A",
          "LBC0065A",
          "LBC0065A",
          "LBC0065A",
          "LBC0065A",
          "LBC0065A",
          "LBC0065A",
          "LBC0102H",
          "LBC0102H",
          "LBC0118V",
          "LBC0118V",
          "LBC0118V",
          "LBC0118V",
          "LBC0118V",
          "LBC0144B",
          "LBC0144B",
          "LBC0152W",
          "LBC0152W",
          "LBC0152W",
          "LBC0152W",
          "LBC0152W",
          "LBC0165A",
          "LBC0176A",
          "LBC0176A",
          "LBC0176A",
          "LBC0176A",
          "LBC0220K",
          "LBC0220K",
          "LBC0220K",
          "LBC0220K",
          "LBC0220K",
          "LBC0220K",
          "LBC0220K",
          "LBC0220K",
          "LBC0242M",
          "LBC0242M",
          "LBC0263L",
          "LBC0263L",
          "LBC0263L",
          "LBC0263L",
          "LBC0284K",
          "LBC0284K",
          "LBC0284K",
          "LBC0284K",
          "LBC0284K",
          "LBC0293E",
          "LBC0293E",
          "LBC0377A",
          "LBC0392K",
          "LBC0392K",
          "LBC0392K",
          "LBC0392K",
          "LBC0392K",
          "LBC0405M",
          "LBC0405M",
          "LBC0405M",
          "LBC0405M",
          "LBC0429V",
          "LBC0439R",
          "LBC0439R",
          "LBC0439R",
          "LBC0439R",
          "LBC0446H",
          "LBC0446H",
          "LBC0446H",
          "LBC0446H",
          "LBC0446H",
          "LBC0446H",
          "LBC0446H",
          "LBC0461R",
          "LBC0461R",
          "LBC0461R",
          "LBC0461R",
          "LBC0461R",
          "LBC0464X",
          "LBC0516R",
          "LBC0520A",
          "LBC0520A",
          "LBC0520A",
          "LBC0591L",
          "LBC360008",
          "LBC360104",
          "LBC360212",
          "LBC360213",
          "LBC360231",
          "LBC360283",
          "LBC360291",
          "LBC360356",
          "LBC360380",
          "LBC360380",
          "LBC360414",
          "LBC360453",
          "LBC360458",
          "LBC360458",
          "LBC360508",
          "LBC360549",
          "LBC360549",
          "LBC360636",
          "LBC360636",
          "LBC360658",
          "LBC360666",
          "LBC360666",
          "LBC360702",
          "LBC360754",
          "LBC360754",
          "LBC360782",
          "LBC360790",
          "LBC360790",
          "LBC360790",
          "LBC360790",
          "LBC360790",
          "LBC360790",
          "LBC360843",
          "LBC360843",
          "LBC360898",
          "LBC360898",
          "LBC360898",
          "LBC360898",
          "LBC360898",
          "LBC360908",
          "LBC360908",
          "LBC360914",
          "LBC360914",
          "LBC360914",
          "LBC360914",
          "LBC360914",
          "LBC360919",
          "LBC360919",
          "LBC360919",
          "LBC360919",
          "LBC361006",
          "LBC361006",
          "LBC361006",
          "LBC361006",
          "LBC361122",
          "LBC361133",
          "LBC361172",
          "LBC361172",
          "LBC361172",
          "LBC361214",
          "LBC361214",
          "LBC361225",
          "LBC361286",
          "LBC361286",
          "LBC361286",
          "LBC361286",
          "LBC361286",
          "LBC361286",
          "LBC361286",
          "LBC361286",
          "LBC361286",
          "LBC361286",
          "LBC361286"
         ],
         "legendgroup": "DNMT3A",
         "marker": {
          "color": "#2CA02C"
         },
         "name": "DNMT3A",
         "notched": false,
         "offsetgroup": "DNMT3A",
         "orientation": "v",
         "showlegend": true,
         "type": "box",
         "x": [
          "DNMT3A",
          "DNMT3A",
          "DNMT3A",
          "DNMT3A",
          "DNMT3A",
          "DNMT3A",
          "DNMT3A",
          "DNMT3A",
          "DNMT3A",
          "DNMT3A",
          "DNMT3A",
          "DNMT3A",
          "DNMT3A",
          "DNMT3A",
          "DNMT3A",
          "DNMT3A",
          "DNMT3A",
          "DNMT3A",
          "DNMT3A",
          "DNMT3A",
          "DNMT3A",
          "DNMT3A",
          "DNMT3A",
          "DNMT3A",
          "DNMT3A",
          "DNMT3A",
          "DNMT3A",
          "DNMT3A",
          "DNMT3A",
          "DNMT3A",
          "DNMT3A",
          "DNMT3A",
          "DNMT3A",
          "DNMT3A",
          "DNMT3A",
          "DNMT3A",
          "DNMT3A",
          "DNMT3A",
          "DNMT3A",
          "DNMT3A",
          "DNMT3A",
          "DNMT3A",
          "DNMT3A",
          "DNMT3A",
          "DNMT3A",
          "DNMT3A",
          "DNMT3A",
          "DNMT3A",
          "DNMT3A",
          "DNMT3A",
          "DNMT3A",
          "DNMT3A",
          "DNMT3A",
          "DNMT3A",
          "DNMT3A",
          "DNMT3A",
          "DNMT3A",
          "DNMT3A",
          "DNMT3A",
          "DNMT3A",
          "DNMT3A",
          "DNMT3A",
          "DNMT3A",
          "DNMT3A",
          "DNMT3A",
          "DNMT3A",
          "DNMT3A",
          "DNMT3A",
          "DNMT3A",
          "DNMT3A",
          "DNMT3A",
          "DNMT3A",
          "DNMT3A",
          "DNMT3A",
          "DNMT3A",
          "DNMT3A",
          "DNMT3A",
          "DNMT3A",
          "DNMT3A",
          "DNMT3A",
          "DNMT3A",
          "DNMT3A",
          "DNMT3A",
          "DNMT3A",
          "DNMT3A",
          "DNMT3A",
          "DNMT3A",
          "DNMT3A",
          "DNMT3A",
          "DNMT3A",
          "DNMT3A",
          "DNMT3A",
          "DNMT3A",
          "DNMT3A",
          "DNMT3A",
          "DNMT3A",
          "DNMT3A",
          "DNMT3A",
          "DNMT3A",
          "DNMT3A",
          "DNMT3A",
          "DNMT3A",
          "DNMT3A",
          "DNMT3A",
          "DNMT3A",
          "DNMT3A",
          "DNMT3A",
          "DNMT3A",
          "DNMT3A",
          "DNMT3A",
          "DNMT3A",
          "DNMT3A",
          "DNMT3A",
          "DNMT3A",
          "DNMT3A",
          "DNMT3A",
          "DNMT3A",
          "DNMT3A",
          "DNMT3A",
          "DNMT3A",
          "DNMT3A",
          "DNMT3A",
          "DNMT3A",
          "DNMT3A",
          "DNMT3A",
          "DNMT3A",
          "DNMT3A",
          "DNMT3A",
          "DNMT3A",
          "DNMT3A",
          "DNMT3A",
          "DNMT3A",
          "DNMT3A",
          "DNMT3A",
          "DNMT3A",
          "DNMT3A",
          "DNMT3A",
          "DNMT3A",
          "DNMT3A",
          "DNMT3A",
          "DNMT3A",
          "DNMT3A",
          "DNMT3A",
          "DNMT3A",
          "DNMT3A",
          "DNMT3A",
          "DNMT3A",
          "DNMT3A",
          "DNMT3A",
          "DNMT3A",
          "DNMT3A",
          "DNMT3A",
          "DNMT3A",
          "DNMT3A",
          "DNMT3A",
          "DNMT3A",
          "DNMT3A",
          "DNMT3A",
          "DNMT3A",
          "DNMT3A",
          "DNMT3A",
          "DNMT3A"
         ],
         "x0": " ",
         "xaxis": "x",
         "y": [
          0.001061445555206044,
          -0.0010206207261596572,
          -0.0023270152556440194,
          -0.001673817990901839,
          -0.0002449489742783178,
          0.0018371173070873836,
          0.0019187669651801569,
          0.0008573214099741121,
          -0.0022861904265976335,
          0.0002449489742783178,
          0.0010206207261596577,
          -0.0006531972647421809,
          -0.0016738179909018386,
          0.0001224744871391589,
          0.0012655697004379754,
          -0.0008981462390204985,
          -0.0008164965809277262,
          0.0023678400846904057,
          -0.0022045407685048605,
          0.0002857738033247038,
          0.000898146239020499,
          0.0004898979485566356,
          -0.0006940220937885673,
          -0.0030618621784789728,
          0.0005307227776030219,
          0.00004082482904638606,
          -0.0002857738033247045,
          0.0012655697004379757,
          0.0006940220937885668,
          0.0017554676489946112,
          0.006812733176437583,
          0.001224744871391589,
          -0.0001224744871391589,
          0.0006940220937885673,
          0.0008164965809277262,
          -0.0017146428199482247,
          -0.0010614455552060435,
          0.00008164965809277283,
          0.000938971068066885,
          -0.004082482904638631,
          -0.0023678400846904057,
          0.0010206207261596579,
          -0.001224744871391589,
          -0.0029393876913398143,
          0.003796709101313926,
          0.000040824829046386765,
          -0.002531139400875951,
          0.0006123724356957946,
          0.0002449489742783178,
          -0.0035109352979892225,
          0.0014288690166235206,
          0.0008981462390204988,
          0.0024494897427831783,
          0.001837117307087384,
          -0.004272391992003233,
          0.01356773132595621,
          -0.0003265986323710906,
          -0.0008981462390204985,
          0.0024494897427831783,
          0.002531139400875951,
          0.002531139400875951,
          0.003470110468942836,
          0.0026536138880151098,
          -0.005143928459844674,
          0.0005715476066494084,
          0.0014288690166235206,
          -0.003837533930360313,
          0.0024086649137367916,
          0.003102687007525359,
          0.0006123724356957946,
          0.0005715476066494084,
          0.003021037349432587,
          0.0003265986323710906,
          0.009226411364483303,
          0.0025719642299223376,
          -0.00036742346141747673,
          0.0002041241452319317,
          0.0014288690166235206,
          0.0028577380332470417,
          0.0028577380332470413,
          -0.001347219358530748,
          0.0002857738033247038,
          -0.001224744871391589,
          0.0020820662813657016,
          0.0011839200423452028,
          -0.0003265986323710906,
          0.0008981462390204982,
          0.0031435118365717458,
          -0.0026558112382722788,
          0.0026666666666666666,
          0.0037333333333333333,
          0.008733333333333334,
          -0.0030666666666666668,
          0.0031843366656181212,
          -0.014370339824327984,
          0.0360891488770055,
          0.005600000000000003,
          -0.0009237604307034017,
          -0.012124355652982144,
          0.0004618802153517019,
          0.019099999999999995,
          0.0003999999999999999,
          -0.003600000000000001,
          0.055366666666666654,
          0.029333333333333322,
          0.022699999999999998,
          0.05348052605076607,
          0.005715476066494083,
          -0.0029802125203861993,
          0.0038666666666666663,
          0.005299999999999999,
          -0.0014,
          -0.004939804314612743,
          0.023106853240254664,
          -0.0029333333333333334,
          0.0008333333333333334,
          0.002466666666666667,
          0.0021666666666666666,
          0.004066666666666666,
          0.021399999999999992,
          0.0030666666666666668,
          0.0026999999999999993,
          -0.000833333333333333,
          -0.0007666666666666667,
          0.0011,
          -0.0005666666666666667,
          0.003133333333333333,
          0.0012333333333333335,
          0.0024333333333333334,
          -0.002033333333333333,
          -0.0009666666666666666,
          -0.00016666666666666623,
          0.0002999999999999999,
          0.030366666666666667,
          0.0014333333333333331,
          0.00043333333333333337,
          0.00019999999999999996,
          0.021333333333333333,
          0.0007999999999999998,
          -0.02633333333333333,
          -0.0004999999999999982,
          -0.0002999999999999999,
          -0.0017666666666666666,
          0.0002333333333333331,
          -0.0015105186747162937,
          0.0008164965809277262,
          -0.002694438717061496,
          0.006368673331236265,
          0.005366666666666666,
          0.00993333333333333,
          0.030633333333333335,
          0.0038105117766515303,
          0.007274613391789285,
          -0.0038105117766515303,
          -0.04861289266576649,
          -0.004272391992003231,
          -0.003925981830489456,
          -0.0031754264805429417,
          -0.0061199128534100335,
          0.009988159656980527,
          0.00467653718043597,
          0.0034641016151377548
         ],
         "y0": " ",
         "yaxis": "y"
        },
        {
         "alignmentgroup": "True",
         "boxpoints": "all",
         "hovertemplate": "<b>%{hovertext}</b><br><br>mutation=%{x}<br>gradient=%{y}<extra></extra>",
         "hovertext": [
          "LBC0111B",
          "LBC360109",
          "LBC360291",
          "LBC360636",
          "LBC360702"
         ],
         "legendgroup": "JAK2",
         "marker": {
          "color": "#D62728"
         },
         "name": "JAK2",
         "notched": false,
         "offsetgroup": "JAK2",
         "orientation": "v",
         "showlegend": true,
         "type": "box",
         "x": [
          "JAK2",
          "JAK2",
          "JAK2",
          "JAK2",
          "JAK2"
         ],
         "x0": " ",
         "xaxis": "x",
         "y": [
          0.003925981830489472,
          0.03926666666666667,
          0.0011430952132988168,
          0.0040824829046386315,
          0.047366666666666675
         ],
         "y0": " ",
         "yaxis": "y"
        }
       ],
       "layout": {
        "boxmode": "overlay",
        "legend": {
         "title": {
          "text": "mutation"
         },
         "tracegroupgap": 0
        },
        "margin": {
         "t": 60
        },
        "template": {
         "data": {
          "bar": [
           {
            "error_x": {
             "color": "rgb(36,36,36)"
            },
            "error_y": {
             "color": "rgb(36,36,36)"
            },
            "marker": {
             "line": {
              "color": "white",
              "width": 0.5
             },
             "pattern": {
              "fillmode": "overlay",
              "size": 10,
              "solidity": 0.2
             }
            },
            "type": "bar"
           }
          ],
          "barpolar": [
           {
            "marker": {
             "line": {
              "color": "white",
              "width": 0.5
             },
             "pattern": {
              "fillmode": "overlay",
              "size": 10,
              "solidity": 0.2
             }
            },
            "type": "barpolar"
           }
          ],
          "carpet": [
           {
            "aaxis": {
             "endlinecolor": "rgb(36,36,36)",
             "gridcolor": "white",
             "linecolor": "white",
             "minorgridcolor": "white",
             "startlinecolor": "rgb(36,36,36)"
            },
            "baxis": {
             "endlinecolor": "rgb(36,36,36)",
             "gridcolor": "white",
             "linecolor": "white",
             "minorgridcolor": "white",
             "startlinecolor": "rgb(36,36,36)"
            },
            "type": "carpet"
           }
          ],
          "choropleth": [
           {
            "colorbar": {
             "outlinewidth": 1,
             "tickcolor": "rgb(36,36,36)",
             "ticks": "outside"
            },
            "type": "choropleth"
           }
          ],
          "contour": [
           {
            "colorbar": {
             "outlinewidth": 1,
             "tickcolor": "rgb(36,36,36)",
             "ticks": "outside"
            },
            "colorscale": [
             [
              0,
              "#440154"
             ],
             [
              0.1111111111111111,
              "#482878"
             ],
             [
              0.2222222222222222,
              "#3e4989"
             ],
             [
              0.3333333333333333,
              "#31688e"
             ],
             [
              0.4444444444444444,
              "#26828e"
             ],
             [
              0.5555555555555556,
              "#1f9e89"
             ],
             [
              0.6666666666666666,
              "#35b779"
             ],
             [
              0.7777777777777778,
              "#6ece58"
             ],
             [
              0.8888888888888888,
              "#b5de2b"
             ],
             [
              1,
              "#fde725"
             ]
            ],
            "type": "contour"
           }
          ],
          "contourcarpet": [
           {
            "colorbar": {
             "outlinewidth": 1,
             "tickcolor": "rgb(36,36,36)",
             "ticks": "outside"
            },
            "type": "contourcarpet"
           }
          ],
          "heatmap": [
           {
            "colorbar": {
             "outlinewidth": 1,
             "tickcolor": "rgb(36,36,36)",
             "ticks": "outside"
            },
            "colorscale": [
             [
              0,
              "#440154"
             ],
             [
              0.1111111111111111,
              "#482878"
             ],
             [
              0.2222222222222222,
              "#3e4989"
             ],
             [
              0.3333333333333333,
              "#31688e"
             ],
             [
              0.4444444444444444,
              "#26828e"
             ],
             [
              0.5555555555555556,
              "#1f9e89"
             ],
             [
              0.6666666666666666,
              "#35b779"
             ],
             [
              0.7777777777777778,
              "#6ece58"
             ],
             [
              0.8888888888888888,
              "#b5de2b"
             ],
             [
              1,
              "#fde725"
             ]
            ],
            "type": "heatmap"
           }
          ],
          "heatmapgl": [
           {
            "colorbar": {
             "outlinewidth": 1,
             "tickcolor": "rgb(36,36,36)",
             "ticks": "outside"
            },
            "colorscale": [
             [
              0,
              "#440154"
             ],
             [
              0.1111111111111111,
              "#482878"
             ],
             [
              0.2222222222222222,
              "#3e4989"
             ],
             [
              0.3333333333333333,
              "#31688e"
             ],
             [
              0.4444444444444444,
              "#26828e"
             ],
             [
              0.5555555555555556,
              "#1f9e89"
             ],
             [
              0.6666666666666666,
              "#35b779"
             ],
             [
              0.7777777777777778,
              "#6ece58"
             ],
             [
              0.8888888888888888,
              "#b5de2b"
             ],
             [
              1,
              "#fde725"
             ]
            ],
            "type": "heatmapgl"
           }
          ],
          "histogram": [
           {
            "marker": {
             "line": {
              "color": "white",
              "width": 0.6
             }
            },
            "type": "histogram"
           }
          ],
          "histogram2d": [
           {
            "colorbar": {
             "outlinewidth": 1,
             "tickcolor": "rgb(36,36,36)",
             "ticks": "outside"
            },
            "colorscale": [
             [
              0,
              "#440154"
             ],
             [
              0.1111111111111111,
              "#482878"
             ],
             [
              0.2222222222222222,
              "#3e4989"
             ],
             [
              0.3333333333333333,
              "#31688e"
             ],
             [
              0.4444444444444444,
              "#26828e"
             ],
             [
              0.5555555555555556,
              "#1f9e89"
             ],
             [
              0.6666666666666666,
              "#35b779"
             ],
             [
              0.7777777777777778,
              "#6ece58"
             ],
             [
              0.8888888888888888,
              "#b5de2b"
             ],
             [
              1,
              "#fde725"
             ]
            ],
            "type": "histogram2d"
           }
          ],
          "histogram2dcontour": [
           {
            "colorbar": {
             "outlinewidth": 1,
             "tickcolor": "rgb(36,36,36)",
             "ticks": "outside"
            },
            "colorscale": [
             [
              0,
              "#440154"
             ],
             [
              0.1111111111111111,
              "#482878"
             ],
             [
              0.2222222222222222,
              "#3e4989"
             ],
             [
              0.3333333333333333,
              "#31688e"
             ],
             [
              0.4444444444444444,
              "#26828e"
             ],
             [
              0.5555555555555556,
              "#1f9e89"
             ],
             [
              0.6666666666666666,
              "#35b779"
             ],
             [
              0.7777777777777778,
              "#6ece58"
             ],
             [
              0.8888888888888888,
              "#b5de2b"
             ],
             [
              1,
              "#fde725"
             ]
            ],
            "type": "histogram2dcontour"
           }
          ],
          "mesh3d": [
           {
            "colorbar": {
             "outlinewidth": 1,
             "tickcolor": "rgb(36,36,36)",
             "ticks": "outside"
            },
            "type": "mesh3d"
           }
          ],
          "parcoords": [
           {
            "line": {
             "colorbar": {
              "outlinewidth": 1,
              "tickcolor": "rgb(36,36,36)",
              "ticks": "outside"
             }
            },
            "type": "parcoords"
           }
          ],
          "pie": [
           {
            "automargin": true,
            "type": "pie"
           }
          ],
          "scatter": [
           {
            "marker": {
             "colorbar": {
              "outlinewidth": 1,
              "tickcolor": "rgb(36,36,36)",
              "ticks": "outside"
             }
            },
            "type": "scatter"
           }
          ],
          "scatter3d": [
           {
            "line": {
             "colorbar": {
              "outlinewidth": 1,
              "tickcolor": "rgb(36,36,36)",
              "ticks": "outside"
             }
            },
            "marker": {
             "colorbar": {
              "outlinewidth": 1,
              "tickcolor": "rgb(36,36,36)",
              "ticks": "outside"
             }
            },
            "type": "scatter3d"
           }
          ],
          "scattercarpet": [
           {
            "marker": {
             "colorbar": {
              "outlinewidth": 1,
              "tickcolor": "rgb(36,36,36)",
              "ticks": "outside"
             }
            },
            "type": "scattercarpet"
           }
          ],
          "scattergeo": [
           {
            "marker": {
             "colorbar": {
              "outlinewidth": 1,
              "tickcolor": "rgb(36,36,36)",
              "ticks": "outside"
             }
            },
            "type": "scattergeo"
           }
          ],
          "scattergl": [
           {
            "marker": {
             "colorbar": {
              "outlinewidth": 1,
              "tickcolor": "rgb(36,36,36)",
              "ticks": "outside"
             }
            },
            "type": "scattergl"
           }
          ],
          "scattermapbox": [
           {
            "marker": {
             "colorbar": {
              "outlinewidth": 1,
              "tickcolor": "rgb(36,36,36)",
              "ticks": "outside"
             }
            },
            "type": "scattermapbox"
           }
          ],
          "scatterpolar": [
           {
            "marker": {
             "colorbar": {
              "outlinewidth": 1,
              "tickcolor": "rgb(36,36,36)",
              "ticks": "outside"
             }
            },
            "type": "scatterpolar"
           }
          ],
          "scatterpolargl": [
           {
            "marker": {
             "colorbar": {
              "outlinewidth": 1,
              "tickcolor": "rgb(36,36,36)",
              "ticks": "outside"
             }
            },
            "type": "scatterpolargl"
           }
          ],
          "scatterternary": [
           {
            "marker": {
             "colorbar": {
              "outlinewidth": 1,
              "tickcolor": "rgb(36,36,36)",
              "ticks": "outside"
             }
            },
            "type": "scatterternary"
           }
          ],
          "surface": [
           {
            "colorbar": {
             "outlinewidth": 1,
             "tickcolor": "rgb(36,36,36)",
             "ticks": "outside"
            },
            "colorscale": [
             [
              0,
              "#440154"
             ],
             [
              0.1111111111111111,
              "#482878"
             ],
             [
              0.2222222222222222,
              "#3e4989"
             ],
             [
              0.3333333333333333,
              "#31688e"
             ],
             [
              0.4444444444444444,
              "#26828e"
             ],
             [
              0.5555555555555556,
              "#1f9e89"
             ],
             [
              0.6666666666666666,
              "#35b779"
             ],
             [
              0.7777777777777778,
              "#6ece58"
             ],
             [
              0.8888888888888888,
              "#b5de2b"
             ],
             [
              1,
              "#fde725"
             ]
            ],
            "type": "surface"
           }
          ],
          "table": [
           {
            "cells": {
             "fill": {
              "color": "rgb(237,237,237)"
             },
             "line": {
              "color": "white"
             }
            },
            "header": {
             "fill": {
              "color": "rgb(217,217,217)"
             },
             "line": {
              "color": "white"
             }
            },
            "type": "table"
           }
          ]
         },
         "layout": {
          "annotationdefaults": {
           "arrowhead": 0,
           "arrowwidth": 1
          },
          "autotypenumbers": "strict",
          "coloraxis": {
           "colorbar": {
            "outlinewidth": 1,
            "tickcolor": "rgb(36,36,36)",
            "ticks": "outside"
           }
          },
          "colorscale": {
           "diverging": [
            [
             0,
             "rgb(103,0,31)"
            ],
            [
             0.1,
             "rgb(178,24,43)"
            ],
            [
             0.2,
             "rgb(214,96,77)"
            ],
            [
             0.3,
             "rgb(244,165,130)"
            ],
            [
             0.4,
             "rgb(253,219,199)"
            ],
            [
             0.5,
             "rgb(247,247,247)"
            ],
            [
             0.6,
             "rgb(209,229,240)"
            ],
            [
             0.7,
             "rgb(146,197,222)"
            ],
            [
             0.8,
             "rgb(67,147,195)"
            ],
            [
             0.9,
             "rgb(33,102,172)"
            ],
            [
             1,
             "rgb(5,48,97)"
            ]
           ],
           "sequential": [
            [
             0,
             "#440154"
            ],
            [
             0.1111111111111111,
             "#482878"
            ],
            [
             0.2222222222222222,
             "#3e4989"
            ],
            [
             0.3333333333333333,
             "#31688e"
            ],
            [
             0.4444444444444444,
             "#26828e"
            ],
            [
             0.5555555555555556,
             "#1f9e89"
            ],
            [
             0.6666666666666666,
             "#35b779"
            ],
            [
             0.7777777777777778,
             "#6ece58"
            ],
            [
             0.8888888888888888,
             "#b5de2b"
            ],
            [
             1,
             "#fde725"
            ]
           ],
           "sequentialminus": [
            [
             0,
             "#440154"
            ],
            [
             0.1111111111111111,
             "#482878"
            ],
            [
             0.2222222222222222,
             "#3e4989"
            ],
            [
             0.3333333333333333,
             "#31688e"
            ],
            [
             0.4444444444444444,
             "#26828e"
            ],
            [
             0.5555555555555556,
             "#1f9e89"
            ],
            [
             0.6666666666666666,
             "#35b779"
            ],
            [
             0.7777777777777778,
             "#6ece58"
            ],
            [
             0.8888888888888888,
             "#b5de2b"
            ],
            [
             1,
             "#fde725"
            ]
           ]
          },
          "colorway": [
           "#1F77B4",
           "#FF7F0E",
           "#2CA02C",
           "#D62728",
           "#9467BD",
           "#8C564B",
           "#E377C2",
           "#7F7F7F",
           "#BCBD22",
           "#17BECF"
          ],
          "font": {
           "color": "rgb(36,36,36)"
          },
          "geo": {
           "bgcolor": "white",
           "lakecolor": "white",
           "landcolor": "white",
           "showlakes": true,
           "showland": true,
           "subunitcolor": "white"
          },
          "hoverlabel": {
           "align": "left"
          },
          "hovermode": "closest",
          "mapbox": {
           "style": "light"
          },
          "paper_bgcolor": "white",
          "plot_bgcolor": "white",
          "polar": {
           "angularaxis": {
            "gridcolor": "rgb(232,232,232)",
            "linecolor": "rgb(36,36,36)",
            "showgrid": false,
            "showline": true,
            "ticks": "outside"
           },
           "bgcolor": "white",
           "radialaxis": {
            "gridcolor": "rgb(232,232,232)",
            "linecolor": "rgb(36,36,36)",
            "showgrid": false,
            "showline": true,
            "ticks": "outside"
           }
          },
          "scene": {
           "xaxis": {
            "backgroundcolor": "white",
            "gridcolor": "rgb(232,232,232)",
            "gridwidth": 2,
            "linecolor": "rgb(36,36,36)",
            "showbackground": true,
            "showgrid": false,
            "showline": true,
            "ticks": "outside",
            "zeroline": false,
            "zerolinecolor": "rgb(36,36,36)"
           },
           "yaxis": {
            "backgroundcolor": "white",
            "gridcolor": "rgb(232,232,232)",
            "gridwidth": 2,
            "linecolor": "rgb(36,36,36)",
            "showbackground": true,
            "showgrid": false,
            "showline": true,
            "ticks": "outside",
            "zeroline": false,
            "zerolinecolor": "rgb(36,36,36)"
           },
           "zaxis": {
            "backgroundcolor": "white",
            "gridcolor": "rgb(232,232,232)",
            "gridwidth": 2,
            "linecolor": "rgb(36,36,36)",
            "showbackground": true,
            "showgrid": false,
            "showline": true,
            "ticks": "outside",
            "zeroline": false,
            "zerolinecolor": "rgb(36,36,36)"
           }
          },
          "shapedefaults": {
           "fillcolor": "black",
           "line": {
            "width": 0
           },
           "opacity": 0.3
          },
          "ternary": {
           "aaxis": {
            "gridcolor": "rgb(232,232,232)",
            "linecolor": "rgb(36,36,36)",
            "showgrid": false,
            "showline": true,
            "ticks": "outside"
           },
           "baxis": {
            "gridcolor": "rgb(232,232,232)",
            "linecolor": "rgb(36,36,36)",
            "showgrid": false,
            "showline": true,
            "ticks": "outside"
           },
           "bgcolor": "white",
           "caxis": {
            "gridcolor": "rgb(232,232,232)",
            "linecolor": "rgb(36,36,36)",
            "showgrid": false,
            "showline": true,
            "ticks": "outside"
           }
          },
          "title": {
           "x": 0.05
          },
          "xaxis": {
           "automargin": true,
           "gridcolor": "rgb(232,232,232)",
           "linecolor": "rgb(36,36,36)",
           "showgrid": false,
           "showline": true,
           "ticks": "outside",
           "title": {
            "standoff": 15
           },
           "zeroline": false,
           "zerolinecolor": "rgb(36,36,36)"
          },
          "yaxis": {
           "automargin": true,
           "gridcolor": "rgb(232,232,232)",
           "linecolor": "rgb(36,36,36)",
           "showgrid": false,
           "showline": true,
           "ticks": "outside",
           "title": {
            "standoff": 15
           },
           "zeroline": false,
           "zerolinecolor": "rgb(36,36,36)"
          }
         }
        },
        "title": {
         "text": "Trajectory gradients by mutation"
        },
        "xaxis": {
         "anchor": "y",
         "categoryarray": [
          "TET2",
          "ASXL1",
          "DNMT3A",
          "JAK2"
         ],
         "categoryorder": "array",
         "domain": [
          0,
          1
         ],
         "title": {
          "text": "mutation"
         }
        },
        "yaxis": {
         "anchor": "x",
         "domain": [
          0,
          1
         ],
         "title": {
          "text": "gradient"
         }
        }
       }
      }
     },
     "metadata": {},
     "output_type": "display_data"
    }
   ],
   "source": [
    "plot.gradients(lbc, ['DNMT3A','JAK2','TET2','ASXL1'])"
   ]
  },
  {
   "cell_type": "markdown",
   "metadata": {},
   "source": [
    "# Load and export 2% and synonymous data"
   ]
  },
  {
   "cell_type": "code",
   "execution_count": 16,
   "metadata": {},
   "outputs": [
    {
     "name": "stderr",
     "output_type": "stream",
     "text": [
      "100%|██████████| 81/81 [00:02<00:00, 36.70it/s]\n"
     ]
    }
   ],
   "source": [
    "df = pd.read_csv(r'../Datasets/LBC_ARCHER.1PCT_VAF.13Jan22.synonymous.IncludesZeros.tsv', sep='\\t')\n",
    "syn = basic.load(df, export_name='LBC_synonymous', create_dict=False)"
   ]
  },
  {
   "cell_type": "code",
   "execution_count": 17,
   "metadata": {},
   "outputs": [
    {
     "name": "stderr",
     "output_type": "stream",
     "text": [
      "100%|██████████| 57/57 [00:00<00:00, 214.36it/s]\n"
     ]
    }
   ],
   "source": [
    "df = pd.read_csv(r'../Datasets/LBC_ARCHER.2PCT_VAF.13Jan22.non-synonymous.IncludesZeros.tsv', sep='\\t')\n",
    "lbc = basic.load(df, export_name='LBC_non-synonymous_2', create_dict=False)"
   ]
  },
  {
   "cell_type": "code",
   "execution_count": 18,
   "metadata": {},
   "outputs": [
    {
     "name": "stderr",
     "output_type": "stream",
     "text": [
      "100%|██████████| 7/7 [00:00<00:00, 259.08it/s]\n"
     ]
    }
   ],
   "source": [
    "df = pd.read_csv(r'../Datasets/LBC_ARCHER.2PCT_VAF.13Jan22.synonymous.IncludesZeros.tsv', sep='\\t')\n",
    "syn = basic.load(df, export_name='LBC_synonymous_2', create_dict=False)"
   ]
  }
 ],
 "metadata": {
  "interpreter": {
   "hash": "34eddb96924c032d2a2c11a740883f1ea2ea34737a605887ca1bc2ba187da418"
  },
  "kernelspec": {
   "display_name": "ARCH",
   "language": "python",
   "name": "python3"
  },
  "language_info": {
   "codemirror_mode": {
    "name": "ipython",
    "version": 3
   },
   "file_extension": ".py",
   "mimetype": "text/x-python",
   "name": "python",
   "nbconvert_exporter": "python",
   "pygments_lexer": "ipython3",
   "version": "3.7.12"
  }
 },
 "nbformat": 4,
 "nbformat_minor": 1
}
