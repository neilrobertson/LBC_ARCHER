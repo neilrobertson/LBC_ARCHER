{
 "cells": [
  {
   "cell_type": "code",
   "execution_count": 6,
   "id": "dad60914",
   "metadata": {},
   "outputs": [],
   "source": [
    "# Append root directory to system's path\n",
    "\n",
    "import sys\n",
    "sys.path.append('../ARCH_package')\n",
    "\n",
    "import pandas as pd\n",
    "import basic, plot\n",
    "import plotly.express as px"
   ]
  },
  {
   "cell_type": "code",
   "execution_count": 3,
   "id": "12d75e40",
   "metadata": {},
   "outputs": [
    {
     "name": "stderr",
     "output_type": "stream",
     "text": [
      "../ARCH_package/basic.py:175: RuntimeWarning: Mean of empty slice\n",
      "  outlier = np.nanmean(key_data.AF_Outlier_Pvalue)\n"
     ]
    }
   ],
   "source": [
    "# Load non-synonymous dataset\n",
    "df = pd.read_csv(r'../Datasets/LBC_ARCHER.1PCT_VAF.Mar21.non-synonymous.tsv', sep='\\t')\n",
    "lbc = basic.load(df, export_name='LBC_non-synonymous', create_dict=True)"
   ]
  },
  {
   "cell_type": "code",
   "execution_count": 10,
   "id": "4bef103a",
   "metadata": {},
   "outputs": [
    {
     "data": {
      "application/vnd.plotly.v1+json": {
       "config": {
        "plotlyServerURL": "https://plot.ly"
       },
       "data": [
        {
         "alignmentgroup": "True",
         "bingroup": "x",
         "histfunc": "sum",
         "hovertemplate": "x=%{x}<br>sum of y=%{y}<extra></extra>",
         "legendgroup": "",
         "marker": {
          "color": "#1F77B4",
          "pattern": {
           "shape": ""
          }
         },
         "name": "",
         "offsetgroup": "",
         "orientation": "v",
         "showlegend": false,
         "type": "histogram",
         "x": [
          "NPM1 c.847-4C>T",
          "NF1 c.1527+14del",
          "LUC7L2 c.62-4623del",
          "NF1 c.2053A>C",
          "TET2 c.1201_1203del",
          "KMT2A c.2318del",
          "NF1 c.3197+9del",
          "NPM1 c.853C>A",
          "FBXW7 c.622-6dup",
          "JAK3 c.2443A>C",
          "SRSF2 c.348A>C",
          "BCORL1 c.3585A>C",
          "CDKN2A c.92T>G",
          "KMT2A c.1699A>C",
          "WT1 c.1078A>C",
          "BCORL1 c.1493A>C",
          "GATA1 c.79A>C",
          "RAD21 c.1164C>A",
          "FBXW7 c.1808T>G",
          "KDM6A c.887G>T",
          "KDM6A c.2703-3C>A",
          "KDM6A c.-149T>G",
          "NF1 c.2033del",
          "TP53 c.-104T>G",
          "STAG2 c.1022G>T",
          "U2AF2 c.1010T>G",
          "BCORL1 c.3461A>C",
          "STAG2 c.1018-1G>A",
          "WT1 c.314T>G",
          "BCOR c.3455T>G",
          "CDKN2A c.95T>G",
          "NF1 c.233dup",
          "NF1 c.569T>A",
          "TP53 c.278T>G",
          "SF3B1 c.2359dup",
          "NOTCH1 c.6718A>G",
          "NOTCH1 c.7144A>C",
          "KDM6A c.112T>G",
          "KMT2A c.889dup",
          "RAD21 c.823C>G",
          "U2AF2 c.370A>C",
          "STAG2 c.1024G>T",
          "SH2B3 c.1283A>C",
          "KDM6A c.2703-5T>C",
          "DNMT3A c.794T>G",
          "U2AF2 c.383A>C",
          "U2AF1 c.279T>G",
          "NOTCH1 c.4965_4966delinsGA",
          "BCOR c.4562A>C",
          "CDKN2A c.251A>C"
         ],
         "xaxis": "x",
         "y": [
          82,
          34,
          34,
          30,
          26,
          25,
          25,
          25,
          24,
          24,
          24,
          24,
          23,
          22,
          22,
          22,
          22,
          22,
          22,
          22,
          20,
          20,
          20,
          19,
          19,
          18,
          18,
          18,
          17,
          17,
          16,
          16,
          16,
          16,
          15,
          15,
          14,
          14,
          13,
          13,
          13,
          13,
          13,
          13,
          12,
          12,
          12,
          12,
          12,
          11
         ],
         "yaxis": "y"
        }
       ],
       "layout": {
        "barmode": "relative",
        "legend": {
         "tracegroupgap": 0
        },
        "margin": {
         "t": 60
        },
        "template": {
         "data": {
          "bar": [
           {
            "error_x": {
             "color": "rgb(36,36,36)"
            },
            "error_y": {
             "color": "rgb(36,36,36)"
            },
            "marker": {
             "line": {
              "color": "white",
              "width": 0.5
             },
             "pattern": {
              "fillmode": "overlay",
              "size": 10,
              "solidity": 0.2
             }
            },
            "type": "bar"
           }
          ],
          "barpolar": [
           {
            "marker": {
             "line": {
              "color": "white",
              "width": 0.5
             },
             "pattern": {
              "fillmode": "overlay",
              "size": 10,
              "solidity": 0.2
             }
            },
            "type": "barpolar"
           }
          ],
          "carpet": [
           {
            "aaxis": {
             "endlinecolor": "rgb(36,36,36)",
             "gridcolor": "white",
             "linecolor": "white",
             "minorgridcolor": "white",
             "startlinecolor": "rgb(36,36,36)"
            },
            "baxis": {
             "endlinecolor": "rgb(36,36,36)",
             "gridcolor": "white",
             "linecolor": "white",
             "minorgridcolor": "white",
             "startlinecolor": "rgb(36,36,36)"
            },
            "type": "carpet"
           }
          ],
          "choropleth": [
           {
            "colorbar": {
             "outlinewidth": 1,
             "tickcolor": "rgb(36,36,36)",
             "ticks": "outside"
            },
            "type": "choropleth"
           }
          ],
          "contour": [
           {
            "colorbar": {
             "outlinewidth": 1,
             "tickcolor": "rgb(36,36,36)",
             "ticks": "outside"
            },
            "colorscale": [
             [
              0,
              "#440154"
             ],
             [
              0.1111111111111111,
              "#482878"
             ],
             [
              0.2222222222222222,
              "#3e4989"
             ],
             [
              0.3333333333333333,
              "#31688e"
             ],
             [
              0.4444444444444444,
              "#26828e"
             ],
             [
              0.5555555555555556,
              "#1f9e89"
             ],
             [
              0.6666666666666666,
              "#35b779"
             ],
             [
              0.7777777777777778,
              "#6ece58"
             ],
             [
              0.8888888888888888,
              "#b5de2b"
             ],
             [
              1,
              "#fde725"
             ]
            ],
            "type": "contour"
           }
          ],
          "contourcarpet": [
           {
            "colorbar": {
             "outlinewidth": 1,
             "tickcolor": "rgb(36,36,36)",
             "ticks": "outside"
            },
            "type": "contourcarpet"
           }
          ],
          "heatmap": [
           {
            "colorbar": {
             "outlinewidth": 1,
             "tickcolor": "rgb(36,36,36)",
             "ticks": "outside"
            },
            "colorscale": [
             [
              0,
              "#440154"
             ],
             [
              0.1111111111111111,
              "#482878"
             ],
             [
              0.2222222222222222,
              "#3e4989"
             ],
             [
              0.3333333333333333,
              "#31688e"
             ],
             [
              0.4444444444444444,
              "#26828e"
             ],
             [
              0.5555555555555556,
              "#1f9e89"
             ],
             [
              0.6666666666666666,
              "#35b779"
             ],
             [
              0.7777777777777778,
              "#6ece58"
             ],
             [
              0.8888888888888888,
              "#b5de2b"
             ],
             [
              1,
              "#fde725"
             ]
            ],
            "type": "heatmap"
           }
          ],
          "heatmapgl": [
           {
            "colorbar": {
             "outlinewidth": 1,
             "tickcolor": "rgb(36,36,36)",
             "ticks": "outside"
            },
            "colorscale": [
             [
              0,
              "#440154"
             ],
             [
              0.1111111111111111,
              "#482878"
             ],
             [
              0.2222222222222222,
              "#3e4989"
             ],
             [
              0.3333333333333333,
              "#31688e"
             ],
             [
              0.4444444444444444,
              "#26828e"
             ],
             [
              0.5555555555555556,
              "#1f9e89"
             ],
             [
              0.6666666666666666,
              "#35b779"
             ],
             [
              0.7777777777777778,
              "#6ece58"
             ],
             [
              0.8888888888888888,
              "#b5de2b"
             ],
             [
              1,
              "#fde725"
             ]
            ],
            "type": "heatmapgl"
           }
          ],
          "histogram": [
           {
            "marker": {
             "line": {
              "color": "white",
              "width": 0.6
             }
            },
            "type": "histogram"
           }
          ],
          "histogram2d": [
           {
            "colorbar": {
             "outlinewidth": 1,
             "tickcolor": "rgb(36,36,36)",
             "ticks": "outside"
            },
            "colorscale": [
             [
              0,
              "#440154"
             ],
             [
              0.1111111111111111,
              "#482878"
             ],
             [
              0.2222222222222222,
              "#3e4989"
             ],
             [
              0.3333333333333333,
              "#31688e"
             ],
             [
              0.4444444444444444,
              "#26828e"
             ],
             [
              0.5555555555555556,
              "#1f9e89"
             ],
             [
              0.6666666666666666,
              "#35b779"
             ],
             [
              0.7777777777777778,
              "#6ece58"
             ],
             [
              0.8888888888888888,
              "#b5de2b"
             ],
             [
              1,
              "#fde725"
             ]
            ],
            "type": "histogram2d"
           }
          ],
          "histogram2dcontour": [
           {
            "colorbar": {
             "outlinewidth": 1,
             "tickcolor": "rgb(36,36,36)",
             "ticks": "outside"
            },
            "colorscale": [
             [
              0,
              "#440154"
             ],
             [
              0.1111111111111111,
              "#482878"
             ],
             [
              0.2222222222222222,
              "#3e4989"
             ],
             [
              0.3333333333333333,
              "#31688e"
             ],
             [
              0.4444444444444444,
              "#26828e"
             ],
             [
              0.5555555555555556,
              "#1f9e89"
             ],
             [
              0.6666666666666666,
              "#35b779"
             ],
             [
              0.7777777777777778,
              "#6ece58"
             ],
             [
              0.8888888888888888,
              "#b5de2b"
             ],
             [
              1,
              "#fde725"
             ]
            ],
            "type": "histogram2dcontour"
           }
          ],
          "mesh3d": [
           {
            "colorbar": {
             "outlinewidth": 1,
             "tickcolor": "rgb(36,36,36)",
             "ticks": "outside"
            },
            "type": "mesh3d"
           }
          ],
          "parcoords": [
           {
            "line": {
             "colorbar": {
              "outlinewidth": 1,
              "tickcolor": "rgb(36,36,36)",
              "ticks": "outside"
             }
            },
            "type": "parcoords"
           }
          ],
          "pie": [
           {
            "automargin": true,
            "type": "pie"
           }
          ],
          "scatter": [
           {
            "marker": {
             "colorbar": {
              "outlinewidth": 1,
              "tickcolor": "rgb(36,36,36)",
              "ticks": "outside"
             }
            },
            "type": "scatter"
           }
          ],
          "scatter3d": [
           {
            "line": {
             "colorbar": {
              "outlinewidth": 1,
              "tickcolor": "rgb(36,36,36)",
              "ticks": "outside"
             }
            },
            "marker": {
             "colorbar": {
              "outlinewidth": 1,
              "tickcolor": "rgb(36,36,36)",
              "ticks": "outside"
             }
            },
            "type": "scatter3d"
           }
          ],
          "scattercarpet": [
           {
            "marker": {
             "colorbar": {
              "outlinewidth": 1,
              "tickcolor": "rgb(36,36,36)",
              "ticks": "outside"
             }
            },
            "type": "scattercarpet"
           }
          ],
          "scattergeo": [
           {
            "marker": {
             "colorbar": {
              "outlinewidth": 1,
              "tickcolor": "rgb(36,36,36)",
              "ticks": "outside"
             }
            },
            "type": "scattergeo"
           }
          ],
          "scattergl": [
           {
            "marker": {
             "colorbar": {
              "outlinewidth": 1,
              "tickcolor": "rgb(36,36,36)",
              "ticks": "outside"
             }
            },
            "type": "scattergl"
           }
          ],
          "scattermapbox": [
           {
            "marker": {
             "colorbar": {
              "outlinewidth": 1,
              "tickcolor": "rgb(36,36,36)",
              "ticks": "outside"
             }
            },
            "type": "scattermapbox"
           }
          ],
          "scatterpolar": [
           {
            "marker": {
             "colorbar": {
              "outlinewidth": 1,
              "tickcolor": "rgb(36,36,36)",
              "ticks": "outside"
             }
            },
            "type": "scatterpolar"
           }
          ],
          "scatterpolargl": [
           {
            "marker": {
             "colorbar": {
              "outlinewidth": 1,
              "tickcolor": "rgb(36,36,36)",
              "ticks": "outside"
             }
            },
            "type": "scatterpolargl"
           }
          ],
          "scatterternary": [
           {
            "marker": {
             "colorbar": {
              "outlinewidth": 1,
              "tickcolor": "rgb(36,36,36)",
              "ticks": "outside"
             }
            },
            "type": "scatterternary"
           }
          ],
          "surface": [
           {
            "colorbar": {
             "outlinewidth": 1,
             "tickcolor": "rgb(36,36,36)",
             "ticks": "outside"
            },
            "colorscale": [
             [
              0,
              "#440154"
             ],
             [
              0.1111111111111111,
              "#482878"
             ],
             [
              0.2222222222222222,
              "#3e4989"
             ],
             [
              0.3333333333333333,
              "#31688e"
             ],
             [
              0.4444444444444444,
              "#26828e"
             ],
             [
              0.5555555555555556,
              "#1f9e89"
             ],
             [
              0.6666666666666666,
              "#35b779"
             ],
             [
              0.7777777777777778,
              "#6ece58"
             ],
             [
              0.8888888888888888,
              "#b5de2b"
             ],
             [
              1,
              "#fde725"
             ]
            ],
            "type": "surface"
           }
          ],
          "table": [
           {
            "cells": {
             "fill": {
              "color": "rgb(237,237,237)"
             },
             "line": {
              "color": "white"
             }
            },
            "header": {
             "fill": {
              "color": "rgb(217,217,217)"
             },
             "line": {
              "color": "white"
             }
            },
            "type": "table"
           }
          ]
         },
         "layout": {
          "annotationdefaults": {
           "arrowhead": 0,
           "arrowwidth": 1
          },
          "autotypenumbers": "strict",
          "coloraxis": {
           "colorbar": {
            "outlinewidth": 1,
            "tickcolor": "rgb(36,36,36)",
            "ticks": "outside"
           }
          },
          "colorscale": {
           "diverging": [
            [
             0,
             "rgb(103,0,31)"
            ],
            [
             0.1,
             "rgb(178,24,43)"
            ],
            [
             0.2,
             "rgb(214,96,77)"
            ],
            [
             0.3,
             "rgb(244,165,130)"
            ],
            [
             0.4,
             "rgb(253,219,199)"
            ],
            [
             0.5,
             "rgb(247,247,247)"
            ],
            [
             0.6,
             "rgb(209,229,240)"
            ],
            [
             0.7,
             "rgb(146,197,222)"
            ],
            [
             0.8,
             "rgb(67,147,195)"
            ],
            [
             0.9,
             "rgb(33,102,172)"
            ],
            [
             1,
             "rgb(5,48,97)"
            ]
           ],
           "sequential": [
            [
             0,
             "#440154"
            ],
            [
             0.1111111111111111,
             "#482878"
            ],
            [
             0.2222222222222222,
             "#3e4989"
            ],
            [
             0.3333333333333333,
             "#31688e"
            ],
            [
             0.4444444444444444,
             "#26828e"
            ],
            [
             0.5555555555555556,
             "#1f9e89"
            ],
            [
             0.6666666666666666,
             "#35b779"
            ],
            [
             0.7777777777777778,
             "#6ece58"
            ],
            [
             0.8888888888888888,
             "#b5de2b"
            ],
            [
             1,
             "#fde725"
            ]
           ],
           "sequentialminus": [
            [
             0,
             "#440154"
            ],
            [
             0.1111111111111111,
             "#482878"
            ],
            [
             0.2222222222222222,
             "#3e4989"
            ],
            [
             0.3333333333333333,
             "#31688e"
            ],
            [
             0.4444444444444444,
             "#26828e"
            ],
            [
             0.5555555555555556,
             "#1f9e89"
            ],
            [
             0.6666666666666666,
             "#35b779"
            ],
            [
             0.7777777777777778,
             "#6ece58"
            ],
            [
             0.8888888888888888,
             "#b5de2b"
            ],
            [
             1,
             "#fde725"
            ]
           ]
          },
          "colorway": [
           "#1F77B4",
           "#FF7F0E",
           "#2CA02C",
           "#D62728",
           "#9467BD",
           "#8C564B",
           "#E377C2",
           "#7F7F7F",
           "#BCBD22",
           "#17BECF"
          ],
          "font": {
           "color": "rgb(36,36,36)"
          },
          "geo": {
           "bgcolor": "white",
           "lakecolor": "white",
           "landcolor": "white",
           "showlakes": true,
           "showland": true,
           "subunitcolor": "white"
          },
          "hoverlabel": {
           "align": "left"
          },
          "hovermode": "closest",
          "mapbox": {
           "style": "light"
          },
          "paper_bgcolor": "white",
          "plot_bgcolor": "white",
          "polar": {
           "angularaxis": {
            "gridcolor": "rgb(232,232,232)",
            "linecolor": "rgb(36,36,36)",
            "showgrid": false,
            "showline": true,
            "ticks": "outside"
           },
           "bgcolor": "white",
           "radialaxis": {
            "gridcolor": "rgb(232,232,232)",
            "linecolor": "rgb(36,36,36)",
            "showgrid": false,
            "showline": true,
            "ticks": "outside"
           }
          },
          "scene": {
           "xaxis": {
            "backgroundcolor": "white",
            "gridcolor": "rgb(232,232,232)",
            "gridwidth": 2,
            "linecolor": "rgb(36,36,36)",
            "showbackground": true,
            "showgrid": false,
            "showline": true,
            "ticks": "outside",
            "zeroline": false,
            "zerolinecolor": "rgb(36,36,36)"
           },
           "yaxis": {
            "backgroundcolor": "white",
            "gridcolor": "rgb(232,232,232)",
            "gridwidth": 2,
            "linecolor": "rgb(36,36,36)",
            "showbackground": true,
            "showgrid": false,
            "showline": true,
            "ticks": "outside",
            "zeroline": false,
            "zerolinecolor": "rgb(36,36,36)"
           },
           "zaxis": {
            "backgroundcolor": "white",
            "gridcolor": "rgb(232,232,232)",
            "gridwidth": 2,
            "linecolor": "rgb(36,36,36)",
            "showbackground": true,
            "showgrid": false,
            "showline": true,
            "ticks": "outside",
            "zeroline": false,
            "zerolinecolor": "rgb(36,36,36)"
           }
          },
          "shapedefaults": {
           "fillcolor": "black",
           "line": {
            "width": 0
           },
           "opacity": 0.3
          },
          "ternary": {
           "aaxis": {
            "gridcolor": "rgb(232,232,232)",
            "linecolor": "rgb(36,36,36)",
            "showgrid": false,
            "showline": true,
            "ticks": "outside"
           },
           "baxis": {
            "gridcolor": "rgb(232,232,232)",
            "linecolor": "rgb(36,36,36)",
            "showgrid": false,
            "showline": true,
            "ticks": "outside"
           },
           "bgcolor": "white",
           "caxis": {
            "gridcolor": "rgb(232,232,232)",
            "linecolor": "rgb(36,36,36)",
            "showgrid": false,
            "showline": true,
            "ticks": "outside"
           }
          },
          "title": {
           "x": 0.05
          },
          "xaxis": {
           "automargin": true,
           "gridcolor": "rgb(232,232,232)",
           "linecolor": "rgb(36,36,36)",
           "showgrid": false,
           "showline": true,
           "ticks": "outside",
           "title": {
            "standoff": 15
           },
           "zeroline": false,
           "zerolinecolor": "rgb(36,36,36)"
          },
          "yaxis": {
           "automargin": true,
           "gridcolor": "rgb(232,232,232)",
           "linecolor": "rgb(36,36,36)",
           "showgrid": false,
           "showline": true,
           "ticks": "outside",
           "title": {
            "standoff": 15
           },
           "zeroline": false,
           "zerolinecolor": "rgb(36,36,36)"
          }
         }
        },
        "xaxis": {
         "anchor": "y",
         "domain": [
          0,
          1
         ],
         "title": {
          "text": "x"
         }
        },
        "yaxis": {
         "anchor": "x",
         "domain": [
          0,
          1
         ],
         "title": {
          "text": "sum of y"
         }
        }
       }
      },
      "text/html": [
       "<div>                            <div id=\"6c678c8d-1a2b-4291-b5e5-d1708a9614fc\" class=\"plotly-graph-div\" style=\"height:525px; width:100%;\"></div>            <script type=\"text/javascript\">                require([\"plotly\"], function(Plotly) {                    window.PLOTLYENV=window.PLOTLYENV || {};                                    if (document.getElementById(\"6c678c8d-1a2b-4291-b5e5-d1708a9614fc\")) {                    Plotly.newPlot(                        \"6c678c8d-1a2b-4291-b5e5-d1708a9614fc\",                        [{\"alignmentgroup\":\"True\",\"bingroup\":\"x\",\"histfunc\":\"sum\",\"hovertemplate\":\"x=%{x}<br>sum of y=%{y}<extra></extra>\",\"legendgroup\":\"\",\"marker\":{\"color\":\"#1F77B4\",\"pattern\":{\"shape\":\"\"}},\"name\":\"\",\"offsetgroup\":\"\",\"orientation\":\"v\",\"showlegend\":false,\"type\":\"histogram\",\"x\":[\"NPM1 c.847-4C>T\",\"NF1 c.1527+14del\",\"LUC7L2 c.62-4623del\",\"NF1 c.2053A>C\",\"TET2 c.1201_1203del\",\"KMT2A c.2318del\",\"NF1 c.3197+9del\",\"NPM1 c.853C>A\",\"FBXW7 c.622-6dup\",\"JAK3 c.2443A>C\",\"SRSF2 c.348A>C\",\"BCORL1 c.3585A>C\",\"CDKN2A c.92T>G\",\"KMT2A c.1699A>C\",\"WT1 c.1078A>C\",\"BCORL1 c.1493A>C\",\"GATA1 c.79A>C\",\"RAD21 c.1164C>A\",\"FBXW7 c.1808T>G\",\"KDM6A c.887G>T\",\"KDM6A c.2703-3C>A\",\"KDM6A c.-149T>G\",\"NF1 c.2033del\",\"TP53 c.-104T>G\",\"STAG2 c.1022G>T\",\"U2AF2 c.1010T>G\",\"BCORL1 c.3461A>C\",\"STAG2 c.1018-1G>A\",\"WT1 c.314T>G\",\"BCOR c.3455T>G\",\"CDKN2A c.95T>G\",\"NF1 c.233dup\",\"NF1 c.569T>A\",\"TP53 c.278T>G\",\"SF3B1 c.2359dup\",\"NOTCH1 c.6718A>G\",\"NOTCH1 c.7144A>C\",\"KDM6A c.112T>G\",\"KMT2A c.889dup\",\"RAD21 c.823C>G\",\"U2AF2 c.370A>C\",\"STAG2 c.1024G>T\",\"SH2B3 c.1283A>C\",\"KDM6A c.2703-5T>C\",\"DNMT3A c.794T>G\",\"U2AF2 c.383A>C\",\"U2AF1 c.279T>G\",\"NOTCH1 c.4965_4966delinsGA\",\"BCOR c.4562A>C\",\"CDKN2A c.251A>C\"],\"xaxis\":\"x\",\"y\":[82,34,34,30,26,25,25,25,24,24,24,24,23,22,22,22,22,22,22,22,20,20,20,19,19,18,18,18,17,17,16,16,16,16,15,15,14,14,13,13,13,13,13,13,12,12,12,12,12,11],\"yaxis\":\"y\"}],                        {\"barmode\":\"relative\",\"legend\":{\"tracegroupgap\":0},\"margin\":{\"t\":60},\"template\":{\"data\":{\"bar\":[{\"error_x\":{\"color\":\"rgb(36,36,36)\"},\"error_y\":{\"color\":\"rgb(36,36,36)\"},\"marker\":{\"line\":{\"color\":\"white\",\"width\":0.5},\"pattern\":{\"fillmode\":\"overlay\",\"size\":10,\"solidity\":0.2}},\"type\":\"bar\"}],\"barpolar\":[{\"marker\":{\"line\":{\"color\":\"white\",\"width\":0.5},\"pattern\":{\"fillmode\":\"overlay\",\"size\":10,\"solidity\":0.2}},\"type\":\"barpolar\"}],\"carpet\":[{\"aaxis\":{\"endlinecolor\":\"rgb(36,36,36)\",\"gridcolor\":\"white\",\"linecolor\":\"white\",\"minorgridcolor\":\"white\",\"startlinecolor\":\"rgb(36,36,36)\"},\"baxis\":{\"endlinecolor\":\"rgb(36,36,36)\",\"gridcolor\":\"white\",\"linecolor\":\"white\",\"minorgridcolor\":\"white\",\"startlinecolor\":\"rgb(36,36,36)\"},\"type\":\"carpet\"}],\"choropleth\":[{\"colorbar\":{\"outlinewidth\":1,\"tickcolor\":\"rgb(36,36,36)\",\"ticks\":\"outside\"},\"type\":\"choropleth\"}],\"contour\":[{\"colorbar\":{\"outlinewidth\":1,\"tickcolor\":\"rgb(36,36,36)\",\"ticks\":\"outside\"},\"colorscale\":[[0.0,\"#440154\"],[0.1111111111111111,\"#482878\"],[0.2222222222222222,\"#3e4989\"],[0.3333333333333333,\"#31688e\"],[0.4444444444444444,\"#26828e\"],[0.5555555555555556,\"#1f9e89\"],[0.6666666666666666,\"#35b779\"],[0.7777777777777778,\"#6ece58\"],[0.8888888888888888,\"#b5de2b\"],[1.0,\"#fde725\"]],\"type\":\"contour\"}],\"contourcarpet\":[{\"colorbar\":{\"outlinewidth\":1,\"tickcolor\":\"rgb(36,36,36)\",\"ticks\":\"outside\"},\"type\":\"contourcarpet\"}],\"heatmap\":[{\"colorbar\":{\"outlinewidth\":1,\"tickcolor\":\"rgb(36,36,36)\",\"ticks\":\"outside\"},\"colorscale\":[[0.0,\"#440154\"],[0.1111111111111111,\"#482878\"],[0.2222222222222222,\"#3e4989\"],[0.3333333333333333,\"#31688e\"],[0.4444444444444444,\"#26828e\"],[0.5555555555555556,\"#1f9e89\"],[0.6666666666666666,\"#35b779\"],[0.7777777777777778,\"#6ece58\"],[0.8888888888888888,\"#b5de2b\"],[1.0,\"#fde725\"]],\"type\":\"heatmap\"}],\"heatmapgl\":[{\"colorbar\":{\"outlinewidth\":1,\"tickcolor\":\"rgb(36,36,36)\",\"ticks\":\"outside\"},\"colorscale\":[[0.0,\"#440154\"],[0.1111111111111111,\"#482878\"],[0.2222222222222222,\"#3e4989\"],[0.3333333333333333,\"#31688e\"],[0.4444444444444444,\"#26828e\"],[0.5555555555555556,\"#1f9e89\"],[0.6666666666666666,\"#35b779\"],[0.7777777777777778,\"#6ece58\"],[0.8888888888888888,\"#b5de2b\"],[1.0,\"#fde725\"]],\"type\":\"heatmapgl\"}],\"histogram\":[{\"marker\":{\"line\":{\"color\":\"white\",\"width\":0.6}},\"type\":\"histogram\"}],\"histogram2d\":[{\"colorbar\":{\"outlinewidth\":1,\"tickcolor\":\"rgb(36,36,36)\",\"ticks\":\"outside\"},\"colorscale\":[[0.0,\"#440154\"],[0.1111111111111111,\"#482878\"],[0.2222222222222222,\"#3e4989\"],[0.3333333333333333,\"#31688e\"],[0.4444444444444444,\"#26828e\"],[0.5555555555555556,\"#1f9e89\"],[0.6666666666666666,\"#35b779\"],[0.7777777777777778,\"#6ece58\"],[0.8888888888888888,\"#b5de2b\"],[1.0,\"#fde725\"]],\"type\":\"histogram2d\"}],\"histogram2dcontour\":[{\"colorbar\":{\"outlinewidth\":1,\"tickcolor\":\"rgb(36,36,36)\",\"ticks\":\"outside\"},\"colorscale\":[[0.0,\"#440154\"],[0.1111111111111111,\"#482878\"],[0.2222222222222222,\"#3e4989\"],[0.3333333333333333,\"#31688e\"],[0.4444444444444444,\"#26828e\"],[0.5555555555555556,\"#1f9e89\"],[0.6666666666666666,\"#35b779\"],[0.7777777777777778,\"#6ece58\"],[0.8888888888888888,\"#b5de2b\"],[1.0,\"#fde725\"]],\"type\":\"histogram2dcontour\"}],\"mesh3d\":[{\"colorbar\":{\"outlinewidth\":1,\"tickcolor\":\"rgb(36,36,36)\",\"ticks\":\"outside\"},\"type\":\"mesh3d\"}],\"parcoords\":[{\"line\":{\"colorbar\":{\"outlinewidth\":1,\"tickcolor\":\"rgb(36,36,36)\",\"ticks\":\"outside\"}},\"type\":\"parcoords\"}],\"pie\":[{\"automargin\":true,\"type\":\"pie\"}],\"scatter\":[{\"marker\":{\"colorbar\":{\"outlinewidth\":1,\"tickcolor\":\"rgb(36,36,36)\",\"ticks\":\"outside\"}},\"type\":\"scatter\"}],\"scatter3d\":[{\"line\":{\"colorbar\":{\"outlinewidth\":1,\"tickcolor\":\"rgb(36,36,36)\",\"ticks\":\"outside\"}},\"marker\":{\"colorbar\":{\"outlinewidth\":1,\"tickcolor\":\"rgb(36,36,36)\",\"ticks\":\"outside\"}},\"type\":\"scatter3d\"}],\"scattercarpet\":[{\"marker\":{\"colorbar\":{\"outlinewidth\":1,\"tickcolor\":\"rgb(36,36,36)\",\"ticks\":\"outside\"}},\"type\":\"scattercarpet\"}],\"scattergeo\":[{\"marker\":{\"colorbar\":{\"outlinewidth\":1,\"tickcolor\":\"rgb(36,36,36)\",\"ticks\":\"outside\"}},\"type\":\"scattergeo\"}],\"scattergl\":[{\"marker\":{\"colorbar\":{\"outlinewidth\":1,\"tickcolor\":\"rgb(36,36,36)\",\"ticks\":\"outside\"}},\"type\":\"scattergl\"}],\"scattermapbox\":[{\"marker\":{\"colorbar\":{\"outlinewidth\":1,\"tickcolor\":\"rgb(36,36,36)\",\"ticks\":\"outside\"}},\"type\":\"scattermapbox\"}],\"scatterpolar\":[{\"marker\":{\"colorbar\":{\"outlinewidth\":1,\"tickcolor\":\"rgb(36,36,36)\",\"ticks\":\"outside\"}},\"type\":\"scatterpolar\"}],\"scatterpolargl\":[{\"marker\":{\"colorbar\":{\"outlinewidth\":1,\"tickcolor\":\"rgb(36,36,36)\",\"ticks\":\"outside\"}},\"type\":\"scatterpolargl\"}],\"scatterternary\":[{\"marker\":{\"colorbar\":{\"outlinewidth\":1,\"tickcolor\":\"rgb(36,36,36)\",\"ticks\":\"outside\"}},\"type\":\"scatterternary\"}],\"surface\":[{\"colorbar\":{\"outlinewidth\":1,\"tickcolor\":\"rgb(36,36,36)\",\"ticks\":\"outside\"},\"colorscale\":[[0.0,\"#440154\"],[0.1111111111111111,\"#482878\"],[0.2222222222222222,\"#3e4989\"],[0.3333333333333333,\"#31688e\"],[0.4444444444444444,\"#26828e\"],[0.5555555555555556,\"#1f9e89\"],[0.6666666666666666,\"#35b779\"],[0.7777777777777778,\"#6ece58\"],[0.8888888888888888,\"#b5de2b\"],[1.0,\"#fde725\"]],\"type\":\"surface\"}],\"table\":[{\"cells\":{\"fill\":{\"color\":\"rgb(237,237,237)\"},\"line\":{\"color\":\"white\"}},\"header\":{\"fill\":{\"color\":\"rgb(217,217,217)\"},\"line\":{\"color\":\"white\"}},\"type\":\"table\"}]},\"layout\":{\"annotationdefaults\":{\"arrowhead\":0,\"arrowwidth\":1},\"autotypenumbers\":\"strict\",\"coloraxis\":{\"colorbar\":{\"outlinewidth\":1,\"tickcolor\":\"rgb(36,36,36)\",\"ticks\":\"outside\"}},\"colorscale\":{\"diverging\":[[0.0,\"rgb(103,0,31)\"],[0.1,\"rgb(178,24,43)\"],[0.2,\"rgb(214,96,77)\"],[0.3,\"rgb(244,165,130)\"],[0.4,\"rgb(253,219,199)\"],[0.5,\"rgb(247,247,247)\"],[0.6,\"rgb(209,229,240)\"],[0.7,\"rgb(146,197,222)\"],[0.8,\"rgb(67,147,195)\"],[0.9,\"rgb(33,102,172)\"],[1.0,\"rgb(5,48,97)\"]],\"sequential\":[[0.0,\"#440154\"],[0.1111111111111111,\"#482878\"],[0.2222222222222222,\"#3e4989\"],[0.3333333333333333,\"#31688e\"],[0.4444444444444444,\"#26828e\"],[0.5555555555555556,\"#1f9e89\"],[0.6666666666666666,\"#35b779\"],[0.7777777777777778,\"#6ece58\"],[0.8888888888888888,\"#b5de2b\"],[1.0,\"#fde725\"]],\"sequentialminus\":[[0.0,\"#440154\"],[0.1111111111111111,\"#482878\"],[0.2222222222222222,\"#3e4989\"],[0.3333333333333333,\"#31688e\"],[0.4444444444444444,\"#26828e\"],[0.5555555555555556,\"#1f9e89\"],[0.6666666666666666,\"#35b779\"],[0.7777777777777778,\"#6ece58\"],[0.8888888888888888,\"#b5de2b\"],[1.0,\"#fde725\"]]},\"colorway\":[\"#1F77B4\",\"#FF7F0E\",\"#2CA02C\",\"#D62728\",\"#9467BD\",\"#8C564B\",\"#E377C2\",\"#7F7F7F\",\"#BCBD22\",\"#17BECF\"],\"font\":{\"color\":\"rgb(36,36,36)\"},\"geo\":{\"bgcolor\":\"white\",\"lakecolor\":\"white\",\"landcolor\":\"white\",\"showlakes\":true,\"showland\":true,\"subunitcolor\":\"white\"},\"hoverlabel\":{\"align\":\"left\"},\"hovermode\":\"closest\",\"mapbox\":{\"style\":\"light\"},\"paper_bgcolor\":\"white\",\"plot_bgcolor\":\"white\",\"polar\":{\"angularaxis\":{\"gridcolor\":\"rgb(232,232,232)\",\"linecolor\":\"rgb(36,36,36)\",\"showgrid\":false,\"showline\":true,\"ticks\":\"outside\"},\"bgcolor\":\"white\",\"radialaxis\":{\"gridcolor\":\"rgb(232,232,232)\",\"linecolor\":\"rgb(36,36,36)\",\"showgrid\":false,\"showline\":true,\"ticks\":\"outside\"}},\"scene\":{\"xaxis\":{\"backgroundcolor\":\"white\",\"gridcolor\":\"rgb(232,232,232)\",\"gridwidth\":2,\"linecolor\":\"rgb(36,36,36)\",\"showbackground\":true,\"showgrid\":false,\"showline\":true,\"ticks\":\"outside\",\"zeroline\":false,\"zerolinecolor\":\"rgb(36,36,36)\"},\"yaxis\":{\"backgroundcolor\":\"white\",\"gridcolor\":\"rgb(232,232,232)\",\"gridwidth\":2,\"linecolor\":\"rgb(36,36,36)\",\"showbackground\":true,\"showgrid\":false,\"showline\":true,\"ticks\":\"outside\",\"zeroline\":false,\"zerolinecolor\":\"rgb(36,36,36)\"},\"zaxis\":{\"backgroundcolor\":\"white\",\"gridcolor\":\"rgb(232,232,232)\",\"gridwidth\":2,\"linecolor\":\"rgb(36,36,36)\",\"showbackground\":true,\"showgrid\":false,\"showline\":true,\"ticks\":\"outside\",\"zeroline\":false,\"zerolinecolor\":\"rgb(36,36,36)\"}},\"shapedefaults\":{\"fillcolor\":\"black\",\"line\":{\"width\":0},\"opacity\":0.3},\"ternary\":{\"aaxis\":{\"gridcolor\":\"rgb(232,232,232)\",\"linecolor\":\"rgb(36,36,36)\",\"showgrid\":false,\"showline\":true,\"ticks\":\"outside\"},\"baxis\":{\"gridcolor\":\"rgb(232,232,232)\",\"linecolor\":\"rgb(36,36,36)\",\"showgrid\":false,\"showline\":true,\"ticks\":\"outside\"},\"bgcolor\":\"white\",\"caxis\":{\"gridcolor\":\"rgb(232,232,232)\",\"linecolor\":\"rgb(36,36,36)\",\"showgrid\":false,\"showline\":true,\"ticks\":\"outside\"}},\"title\":{\"x\":0.05},\"xaxis\":{\"automargin\":true,\"gridcolor\":\"rgb(232,232,232)\",\"linecolor\":\"rgb(36,36,36)\",\"showgrid\":false,\"showline\":true,\"ticks\":\"outside\",\"title\":{\"standoff\":15},\"zeroline\":false,\"zerolinecolor\":\"rgb(36,36,36)\"},\"yaxis\":{\"automargin\":true,\"gridcolor\":\"rgb(232,232,232)\",\"linecolor\":\"rgb(36,36,36)\",\"showgrid\":false,\"showline\":true,\"ticks\":\"outside\",\"title\":{\"standoff\":15},\"zeroline\":false,\"zerolinecolor\":\"rgb(36,36,36)\"}}},\"xaxis\":{\"anchor\":\"y\",\"domain\":[0.0,1.0],\"title\":{\"text\":\"x\"}},\"yaxis\":{\"anchor\":\"x\",\"domain\":[0.0,1.0],\"title\":{\"text\":\"sum of y\"}}},                        {\"responsive\": true}                    ).then(function(){\n",
       "                            \n",
       "var gd = document.getElementById('6c678c8d-1a2b-4291-b5e5-d1708a9614fc');\n",
       "var x = new MutationObserver(function (mutations, observer) {{\n",
       "        var display = window.getComputedStyle(gd).display;\n",
       "        if (!display || display === 'none') {{\n",
       "            console.log([gd, 'removed!']);\n",
       "            Plotly.purge(gd);\n",
       "            observer.disconnect();\n",
       "        }}\n",
       "}});\n",
       "\n",
       "// Listen for the removal of the full notebook cells\n",
       "var notebookContainer = gd.closest('#notebook-container');\n",
       "if (notebookContainer) {{\n",
       "    x.observe(notebookContainer, {childList: true});\n",
       "}}\n",
       "\n",
       "// Listen for the clearing of the current output cell\n",
       "var outputEl = gd.closest('.output');\n",
       "if (outputEl) {{\n",
       "    x.observe(outputEl, {childList: true});\n",
       "}}\n",
       "\n",
       "                        })                };                });            </script>        </div>"
      ]
     },
     "metadata": {},
     "output_type": "display_data"
    }
   ],
   "source": [
    "mutations = []\n",
    "for part in lbc:\n",
    "    for traj in part.trajectories:\n",
    "        mutations.append(traj.mutation)\n",
    "\n",
    "# Create dictionary of mutation counts \n",
    "mutation_counter = {i:mutations.count(i) for i in mutations}\n",
    "# Sort dictionary by decreasing order of counts\n",
    "mutation_counter = dict(sorted(mutation_counter.items() , reverse=True, key=lambda x: x[1]))\n",
    "\n",
    "#plot histogram\n",
    "fig = px.histogram(x=list(mutation_counter.keys())[:50], y=list(mutation_counter.values())[:50])\n",
    "fig.show()\n",
    "fig.write_image('Over_represenation.png', width=1000, scale=5)"
   ]
  },
  {
   "cell_type": "code",
   "execution_count": 11,
   "id": "efad6896",
   "metadata": {},
   "outputs": [
    {
     "data": {
      "text/plain": [
       "{'NPM1 c.847-4C>T': 82,\n",
       " 'NF1 c.1527+14del': 34,\n",
       " 'LUC7L2 c.62-4623del': 34,\n",
       " 'NF1 c.2053A>C': 30,\n",
       " 'TET2 c.1201_1203del': 26,\n",
       " 'KMT2A c.2318del': 25,\n",
       " 'NF1 c.3197+9del': 25,\n",
       " 'NPM1 c.853C>A': 25,\n",
       " 'FBXW7 c.622-6dup': 24,\n",
       " 'JAK3 c.2443A>C': 24,\n",
       " 'SRSF2 c.348A>C': 24,\n",
       " 'BCORL1 c.3585A>C': 24,\n",
       " 'CDKN2A c.92T>G': 23,\n",
       " 'KMT2A c.1699A>C': 22,\n",
       " 'WT1 c.1078A>C': 22,\n",
       " 'BCORL1 c.1493A>C': 22,\n",
       " 'GATA1 c.79A>C': 22,\n",
       " 'RAD21 c.1164C>A': 22,\n",
       " 'FBXW7 c.1808T>G': 22,\n",
       " 'KDM6A c.887G>T': 22,\n",
       " 'KDM6A c.2703-3C>A': 20,\n",
       " 'KDM6A c.-149T>G': 20,\n",
       " 'NF1 c.2033del': 20,\n",
       " 'TP53 c.-104T>G': 19,\n",
       " 'STAG2 c.1022G>T': 19,\n",
       " 'U2AF2 c.1010T>G': 18,\n",
       " 'BCORL1 c.3461A>C': 18,\n",
       " 'STAG2 c.1018-1G>A': 18,\n",
       " 'WT1 c.314T>G': 17,\n",
       " 'BCOR c.3455T>G': 17,\n",
       " 'CDKN2A c.95T>G': 16,\n",
       " 'NF1 c.233dup': 16,\n",
       " 'NF1 c.569T>A': 16,\n",
       " 'TP53 c.278T>G': 16,\n",
       " 'SF3B1 c.2359dup': 15,\n",
       " 'NOTCH1 c.6718A>G': 15,\n",
       " 'NOTCH1 c.7144A>C': 14,\n",
       " 'KDM6A c.112T>G': 14,\n",
       " 'KMT2A c.889dup': 13,\n",
       " 'RAD21 c.823C>G': 13,\n",
       " 'U2AF2 c.370A>C': 13,\n",
       " 'STAG2 c.1024G>T': 13,\n",
       " 'SH2B3 c.1283A>C': 13,\n",
       " 'KDM6A c.2703-5T>C': 13,\n",
       " 'DNMT3A c.794T>G': 12,\n",
       " 'U2AF2 c.383A>C': 12,\n",
       " 'U2AF1 c.279T>G': 12,\n",
       " 'NOTCH1 c.4965_4966delinsGA': 12,\n",
       " 'BCOR c.4562A>C': 12,\n",
       " 'CDKN2A c.251A>C': 11,\n",
       " 'KMT2A c.385T>G': 11,\n",
       " 'CSF3R c.1724-2A>C': 11,\n",
       " 'SH2B3 c.448T>G': 11,\n",
       " 'DNMT3A c.326_327inv': 10,\n",
       " 'CBL c.608A>G': 10,\n",
       " 'NOTCH1 c.4958_4959delinsCA': 10,\n",
       " 'MAP2K1 c.290A>G': 10,\n",
       " 'KMT2A c.10240A>C': 10,\n",
       " 'KDM6A c.-258T>G': 10,\n",
       " 'WT1 c.439G>A': 10,\n",
       " 'JAK3 c.244T>G': 10,\n",
       " 'JAK3 c.2351-7A>C': 10,\n",
       " 'KDM6A c.876-5C>A': 10,\n",
       " 'SRSF2 c.56A>C': 10,\n",
       " 'DNMT3A c.1784T>G': 10,\n",
       " 'SRSF2 c.239T>A': 9,\n",
       " 'NF1 c.5447A>C': 9,\n",
       " 'U2AF2 c.107A>C': 9,\n",
       " 'CUX1 c.266T>C': 9,\n",
       " 'KMT2A c.7139A>C': 9,\n",
       " 'KMT2A c.374A>C': 9,\n",
       " 'FBXW7 c.1784T>G': 9,\n",
       " 'IDH1 c.13del': 9,\n",
       " 'KMT2A c.65G>C': 8,\n",
       " 'ASXL1 c.3215T>G': 8,\n",
       " 'BCOR c.906C>G': 8,\n",
       " 'TP53 c.532dup': 8,\n",
       " 'LUC7L2 c.62-4623dup': 8,\n",
       " 'JAK2 c.1849G>T': 8,\n",
       " 'ZRSR2 c.1157A>C': 8,\n",
       " 'CUX1 c.1300A>C': 8,\n",
       " 'BCOR c.2143A>C': 8,\n",
       " 'ZRSR2 c.1076_1080inv': 8,\n",
       " 'NF1 c.74C>A': 8,\n",
       " 'NOTCH1 c.4625A>C': 8,\n",
       " 'SRSF2 c.248G>C': 7,\n",
       " 'CUX1 c.1256-24509A>C': 7,\n",
       " 'BCOR c.893_897inv': 7,\n",
       " 'CUX1 c.1256-24736T>G': 7,\n",
       " 'TET2 c.685dup': 7,\n",
       " 'MAP2K1 c.278T>A': 7,\n",
       " 'BCORL1 c.914T>G': 7,\n",
       " 'JAK3 c.2021T>G': 7,\n",
       " 'U2AF2 c.376A>C': 7,\n",
       " 'CDKN2A c.235A>C': 7,\n",
       " 'WT1 c.271_273del': 7,\n",
       " 'SMC1A c.913A>C': 7,\n",
       " 'NF1 c.29T>G': 7,\n",
       " 'TP53 c.463A>C': 7,\n",
       " 'RUNX1 c.1264G>A': 7,\n",
       " 'BCOR c.2812A>C': 7,\n",
       " 'CUX1 c.1764+8A>C': 7,\n",
       " 'NF1 c.32A>C': 7,\n",
       " 'ABL1 c.767T>G': 7,\n",
       " 'KMT2A c.7106A>C': 7,\n",
       " 'KMT2A c.9196A>C': 7,\n",
       " 'SF3B1 c.2445del': 7,\n",
       " 'DNMT3A c.1835A>C': 7,\n",
       " 'DNMT3A c.37A>C': 7,\n",
       " 'CEBPA c.676A>C': 7,\n",
       " 'CUX1 c.1483G>C': 7,\n",
       " 'LUC7L2 c.32T>C': 7,\n",
       " 'RAD21 c.56T>C': 6,\n",
       " 'ATRX c.3630T>A': 6,\n",
       " 'SRSF2 c.241G>C': 6,\n",
       " 'CUX1 c.1255+6054A>C': 6,\n",
       " 'CBLC c.*7+2T>G': 6,\n",
       " 'U2AF2 c.1400A>C': 6,\n",
       " 'BCORL1 c.2005A>C': 6,\n",
       " 'TET2 c.2901A>C': 6,\n",
       " 'CUX1 c.1756A>C': 6,\n",
       " 'CUX1 c.1255+6483T>C': 6,\n",
       " 'RAD21 c.815-3_815-2delinsAT': 6,\n",
       " 'GATA1 c.38A>C': 6,\n",
       " 'MYC c.724A>C': 6,\n",
       " 'RUNX1 c.1264_1265inv': 6,\n",
       " 'BCORL1 c.1978A>C': 6,\n",
       " 'BCOR c.3793A>C': 6,\n",
       " 'KDM6A c.3725G>T': 6,\n",
       " 'ZRSR2 c.1079A>C': 6,\n",
       " 'CEBPA c.688A>C': 6,\n",
       " 'NF1 c.1448A>C': 6,\n",
       " 'CDKN2A c.245T>G': 6,\n",
       " 'SH2B3 c.1568A>C': 6,\n",
       " 'CUX1 c.1255+6456A>C': 6,\n",
       " 'LUC7L2 c.-3G>C': 6,\n",
       " 'NOTCH1 c.6729_6730inv': 5,\n",
       " 'JAK3 c.2490+7T>G': 5,\n",
       " 'DDX41 c.1213_1214delinsCA': 5,\n",
       " 'DNMT3A c.291T>G': 5,\n",
       " 'CUX1 c.1255+6078A>C': 5,\n",
       " 'RUNX1 c.1241A>C': 5,\n",
       " 'CUX1 c.1256-24628T>C': 5,\n",
       " 'DNMT3A c.2674T>G': 5,\n",
       " 'DNMT3A c.356A>C': 5,\n",
       " 'MYC c.12dup': 5,\n",
       " 'PTEN c.968dup': 5,\n",
       " 'SH2B3 c.380C>G': 5,\n",
       " 'CBLC c.1406A>C': 5,\n",
       " 'CXCR4 c.467T>G': 5,\n",
       " 'GATA2 c.1369A>C': 5,\n",
       " 'DNMT3A c.1973A>C': 5,\n",
       " 'CUX1 c.1603A>G': 5,\n",
       " 'GATA2 c.185A>C': 5,\n",
       " 'KMT2A c.9199A>C': 5,\n",
       " 'SMC1A c.3304A>C': 5,\n",
       " 'BCORL1 c.3176T>G': 5,\n",
       " 'KDM6A c.2939A>C': 5,\n",
       " 'STAG2 c.1021G>T': 5,\n",
       " 'JAK3 c.2480A>C': 5,\n",
       " 'ZRSR2 c.1077G>T': 5,\n",
       " 'ABL1 c.803T>G': 5,\n",
       " 'KMT2A c.8674G>T': 5,\n",
       " 'EZH2 c.364-8del': 5,\n",
       " 'CUX1 c.1583A>T': 5,\n",
       " 'TP53 c.228A>C': 5,\n",
       " 'BCORL1 c.1957A>C': 5,\n",
       " 'CUX1 c.1256-24623A>C': 5,\n",
       " 'DNMT3A c.40A>C': 5,\n",
       " 'BCORL1 c.314T>G': 5,\n",
       " 'IKZF1 c.814A>C': 5,\n",
       " 'BCORL1 c.1087T>A': 5,\n",
       " 'DNMT3A c.299A>C': 5,\n",
       " 'TP53 c.74+57T>C': 5,\n",
       " 'CUX1 c.1255+6492A>G': 4,\n",
       " 'DNMT3A c.1781T>G': 4,\n",
       " 'CBLC c.1362+2T>G': 4,\n",
       " 'KDM6A c.-272T>G': 4,\n",
       " 'BCORL1 c.5042del': 4,\n",
       " 'SMC1A c.1562A>C': 4,\n",
       " 'BCOR c.2806A>C': 4,\n",
       " 'RAD21 c.556A>C': 4,\n",
       " 'CUX1 c.1255+38469A>C': 4,\n",
       " 'BCOR c.2164T>G': 4,\n",
       " 'SH2B3 c.374C>G': 4,\n",
       " 'SH2B3 c.371T>A': 4,\n",
       " 'BCORL1 c.4510A>C': 4,\n",
       " 'CBL c.733A>C': 4,\n",
       " 'BCORL1 c.3419T>G': 4,\n",
       " 'BCORL1 c.1970T>G': 4,\n",
       " 'CSF3R c.2416A>C': 4,\n",
       " 'ZRSR2 c.1115A>C': 4,\n",
       " 'BCOR c.575T>G': 4,\n",
       " 'SH2B3 c.76T>G': 4,\n",
       " 'STAG2 c.2366C>A': 4,\n",
       " 'BCORL1 c.4541A>C': 4,\n",
       " 'STAG2 c.2364C>A': 4,\n",
       " 'U2AF2 c.995T>G': 4,\n",
       " 'WT1 c.797dup': 4,\n",
       " 'CSF3R c.1958+6T>G': 4,\n",
       " 'CUX1 c.1255+1330dup': 4,\n",
       " 'KDM6A c.-209T>G': 4,\n",
       " 'LUC7L2 c.35A>C': 4,\n",
       " 'CEBPA c.61A>G': 4,\n",
       " 'ETV6 c.607T>G': 4,\n",
       " 'SH2B3 c.302A>C': 4,\n",
       " 'KMT2A c.8672T>C': 4,\n",
       " 'CEBPA c.737T>G': 4,\n",
       " 'CUX1 c.1255+6485A>G': 4,\n",
       " 'CUX1 c.1255+6051A>C': 4,\n",
       " 'CDKN2A c.100T>G': 4,\n",
       " 'SRSF2 c.362+5A>G': 4,\n",
       " 'NOTCH1 c.4934T>G': 4,\n",
       " 'STAG2 c.1018-2_1018-1delinsTT': 4,\n",
       " 'KMT2A c.149G>C': 3,\n",
       " 'KMT2A c.140G>C': 3,\n",
       " 'SMC1A c.620A>C': 3,\n",
       " 'TP53 c.1146del': 3,\n",
       " 'KDM6A c.-148T>G': 3,\n",
       " 'FBXW7 c.1810T>G': 3,\n",
       " 'CBLC c.1362+6T>G': 3,\n",
       " 'SH2B3 c.1238A>C': 3,\n",
       " 'SRSF2 c.239T>G': 3,\n",
       " 'BCOR c.4772A>C': 3,\n",
       " 'BCORL1 c.1451A>G': 3,\n",
       " 'U2AF2 c.149A>C': 3,\n",
       " 'DNMT3A c.43T>G': 3,\n",
       " 'BCORL1 c.1930A>C': 3,\n",
       " 'CUX1 c.1255+38522A>C': 3,\n",
       " 'STAG2 c.2365A>C': 3,\n",
       " 'WT1 c.722A>C': 3,\n",
       " 'CEBPA c.49A>G': 3,\n",
       " 'LUC7L2 c.40T>G': 3,\n",
       " 'KDM6A c.-93T>G': 3,\n",
       " 'BCORL1 c.4840T>G': 3,\n",
       " 'CSF3R c.1128A>C': 3,\n",
       " 'U2AF1 c.302T>G': 3,\n",
       " 'SLC29A1 c.1166T>G': 3,\n",
       " 'DNMT3A c.370A>C': 3,\n",
       " 'BCORL1 c.1091C>A': 3,\n",
       " 'BCORL1 c.1942A>G': 3,\n",
       " 'FBXW7 c.188dup': 3,\n",
       " 'KMT2A c.83_84insCCC': 3,\n",
       " 'KMT2A c.77G>C': 3,\n",
       " 'KMT2A c.75_77del': 3,\n",
       " 'DNMT3A c.992T>G': 3,\n",
       " 'DNMT3A c.1741T>G': 3,\n",
       " 'DNMT3A c.1265T>G': 3,\n",
       " 'NPM1 c.847-3C>A': 3,\n",
       " 'BCOR c.2362A>C': 3,\n",
       " 'RAD21 c.49A>T': 3,\n",
       " 'SMC1A c.3507+2T>G': 3,\n",
       " 'NOTCH1 c.6868A>C': 3,\n",
       " 'CUX1 c.1255+8854A>C': 3,\n",
       " 'WT1 c.763T>G': 3,\n",
       " 'BCORL1 c.2009A>C': 3,\n",
       " 'KMT2A c.8671A>C': 3,\n",
       " 'PDGFRA c.2002+7T>C': 3,\n",
       " 'SMC1A c.2563-4C>A': 3,\n",
       " 'DNMT3A c.553A>C': 3,\n",
       " 'SF3B1 c.2445dup': 3,\n",
       " 'WT1 c.274T>G': 3,\n",
       " 'SF3B1 c.1896T>A': 3,\n",
       " 'BCORL1 c.1321A>G': 3,\n",
       " 'CBLC c.1286T>G': 3,\n",
       " 'CBLC c.1285-2A>C': 3,\n",
       " 'RUNX1 c.1390A>C': 3,\n",
       " 'SF3B1 c.1889G>A': 3,\n",
       " 'PTPN11 c.1292A>C': 3,\n",
       " 'KMT2A c.11212A>C': 3,\n",
       " 'SF3B1 c.1894T>C': 3,\n",
       " 'SH2B3 c.389C>G': 3,\n",
       " 'SH2B3 c.394C>G': 3,\n",
       " 'CUX1 c.1256-33944A>C': 3,\n",
       " 'SH2B3 c.397T>A': 3,\n",
       " 'ASXL1 c.3377A>C': 3,\n",
       " 'CSF3R c.1729A>C': 3,\n",
       " 'CEBPA c.473T>G': 3,\n",
       " 'FLT3 c.2038dup': 3,\n",
       " 'CUX1 c.1255+6495A>G': 3,\n",
       " 'DNMT3A c.2120dup': 3,\n",
       " 'CUX1 c.1256-24602A>C': 3,\n",
       " 'RUNX1 c.1262_1264dup': 3,\n",
       " 'U2AF2 c.946-2A>C': 3,\n",
       " 'CUX1 c.1256-33938A>C': 3,\n",
       " 'SH2B3 c.671T>G': 3,\n",
       " 'CUX1 c.1256-24764T>G': 3,\n",
       " 'CUX1 c.1255+6470T>G': 3,\n",
       " 'EZH2 c.1209_1211del': 3,\n",
       " 'NF1 c.85A>C': 3,\n",
       " 'NOTCH1 c.7513C>G': 3,\n",
       " 'KDM6A c.2703-4C>A': 3,\n",
       " 'BCORL1 c.1093G>C': 3,\n",
       " 'CEBPA c.545A>C': 3,\n",
       " 'TET2 c.2290dup': 2,\n",
       " 'DNMT3A c.329A>C': 2,\n",
       " 'KMT2A c.157G>C': 2,\n",
       " 'CSF3R c.2435T>G': 2,\n",
       " 'EZH2 c.364-8dup': 2,\n",
       " 'NF1 c.367A>G': 2,\n",
       " 'TET2 c.1664dup': 2,\n",
       " 'CUX1 c.1255+38484A>C': 2,\n",
       " 'SMC3 c.2029G>T': 2,\n",
       " 'CSF3R c.2312A>C': 2,\n",
       " 'BCORL1 c.4570A>C': 2,\n",
       " 'CXCR4 c.479T>G': 2,\n",
       " 'GATA2 c.907A>C': 2,\n",
       " 'DNMT3A c.2645G>A': 2,\n",
       " 'BCORL1 c.2987T>G': 2,\n",
       " 'BCOR c.1043A>C': 2,\n",
       " 'CBLC c.*7+6T>G': 2,\n",
       " 'CDKN2A c.83T>G': 2,\n",
       " 'CALR c.997A>G': 2,\n",
       " 'KDM6A c.334+11dup': 2,\n",
       " 'LUC7L2 c.242dup': 2,\n",
       " 'SRSF2 c.299A>C': 2,\n",
       " 'ASXL1 c.1798A>C': 2,\n",
       " 'RUNX1 c.1443A>C': 2,\n",
       " 'BCORL1 c.1491del': 2,\n",
       " 'IDH1 c.25T>G': 2,\n",
       " 'CUX1 c.1255+32046T>G': 2,\n",
       " 'NF1 c.-5A>G': 2,\n",
       " 'JAK3 c.251del': 2,\n",
       " 'GATA2 c.712A>C': 2,\n",
       " 'GATA2 c.926A>C': 2,\n",
       " 'KMT2A c.9988T>G': 2,\n",
       " 'DNMT3A c.59A>G': 2,\n",
       " 'JAK3 c.1784A>G': 2,\n",
       " 'U2AF2 c.946-4A>C': 2,\n",
       " 'U2AF2 c.127A>C': 2,\n",
       " 'GATA2 c.349A>C': 2,\n",
       " 'BCORL1 c.1957A>G': 2,\n",
       " 'KMT2A c.130C>G': 2,\n",
       " 'SRSF2 c.527T>G': 2,\n",
       " 'CUX1 c.1256-24944T>G': 2,\n",
       " 'RAD21 c.815-6_815-5inv': 2,\n",
       " 'BCORL1 c.4853+6T>G': 2,\n",
       " 'BCORL1 c.4999A>C': 2,\n",
       " 'TP53 c.902dup': 2,\n",
       " 'KMT2A c.9304dup': 2,\n",
       " 'NOTCH1 c.7561T>G': 2,\n",
       " 'U2AF2 c.88A>C': 2,\n",
       " 'SRSF2 c.523T>G': 2,\n",
       " 'BCORL1 c.2597T>C': 2,\n",
       " 'BCORL1 c.2711A>G': 2,\n",
       " 'BCORL1 c.5030A>C': 2,\n",
       " 'SLC29A1 c.95dup': 2,\n",
       " 'CEBPA c.155T>G': 2,\n",
       " 'SMC1A c.910A>C': 2,\n",
       " 'KMT2A c.7293dup': 2,\n",
       " 'CUX1 c.1255+6522T>G': 2,\n",
       " 'CUX1 c.1736T>G': 2,\n",
       " 'MAP2K1 c.280_281delinsCA': 2,\n",
       " 'NF1 c.5546+11dup': 2,\n",
       " 'GATA2 c.77A>C': 2,\n",
       " 'TET2 c.1226dup': 2,\n",
       " 'CUX1 c.652dup': 2,\n",
       " 'DNMT3A c.2714T>C': 2,\n",
       " 'U2AF2 c.1045A>C': 2,\n",
       " 'ABL1 c.779T>G': 2,\n",
       " 'BCORL1 c.1069A>C': 2,\n",
       " 'KMT2A c.2320T>G': 2,\n",
       " 'JAK3 c.244T>C': 2,\n",
       " 'CUX1 c.1764+2T>G': 2,\n",
       " 'CBLC c.1285-7del': 2,\n",
       " 'BCORL1 c.1117A>C': 2,\n",
       " 'BCOR c.1862A>C': 2,\n",
       " 'CEBPA c.563_564insCTC': 2,\n",
       " 'RAD21 c.815-4_815-3delinsTT': 2,\n",
       " 'CUX1 c.1256-24577A>C': 2,\n",
       " 'CUX1 c.250G>A': 2,\n",
       " 'CUX1 c.1600C>G': 2,\n",
       " 'ATRX c.2458G>T': 2,\n",
       " 'CUX1 c.1976A>C': 2,\n",
       " 'BCORL1 c.2027T>C': 2,\n",
       " 'CUX1 c.1760A>G': 2,\n",
       " 'DNMT3A c.337G>T': 2,\n",
       " 'ABL1 c.580A>C': 2,\n",
       " 'DDX41 c.138+2T>G': 2,\n",
       " 'KMT2A c.6368A>C': 2,\n",
       " 'KMT2A c.2311A>C': 2,\n",
       " 'BCOR c.1039A>C': 2,\n",
       " 'DNMT3A c.1238del': 2,\n",
       " 'BCORL1 c.1714A>C': 2,\n",
       " 'CUX1 c.1255+38520A>C': 2,\n",
       " 'BCOR c.3503-51A>C': 2,\n",
       " 'BCORL1 c.302A>C': 2,\n",
       " 'NF1 c.1A>C': 2,\n",
       " 'SRSF2 c.296A>C': 2,\n",
       " 'DNMT3A c.2312G>A': 2,\n",
       " 'CUX1 c.1256-24442A>C': 2,\n",
       " 'DNMT3A c.34A>C': 2,\n",
       " 'RUNX1 c.1252A>G': 2,\n",
       " 'MYD88 c.608A>G': 2,\n",
       " 'WT1 c.40T>G': 2,\n",
       " 'CSF3R c.1217T>G': 2,\n",
       " 'DDX41 c.1132A>C': 2,\n",
       " 'SMC1A c.776T>G': 2,\n",
       " 'U2AF2 c.946-6A>C': 2,\n",
       " 'SH2B3 c.649T>G': 2,\n",
       " 'CUX1 c.1255+6495A>C': 2,\n",
       " 'KDM6A c.2706T>A': 2,\n",
       " 'NOTCH1 c.7186A>C': 2,\n",
       " 'CEBPA c.91T>C': 2,\n",
       " 'CEBPA c.43A>C': 2,\n",
       " 'RUNX1 c.1267C>T': 2,\n",
       " 'MPL c.1537_1539del': 2,\n",
       " 'KMT2A c.10528A>C': 2,\n",
       " 'BCOR c.3519del': 2,\n",
       " 'KDM6A c.-245A>C': 2,\n",
       " 'SH2B3 c.1237-2A>C': 2,\n",
       " 'BCOR c.1304A>C': 2,\n",
       " 'CUX1 c.1255+6T>G': 2,\n",
       " 'RUNX1 c.1252A>T': 2,\n",
       " 'RUNX1 c.1252_1253delinsTG': 2,\n",
       " 'BCORL1 c.1997A>C': 2,\n",
       " 'DNMT3A c.184A>G': 2,\n",
       " 'CEBPA c.53A>G': 2,\n",
       " 'U2AF2 c.1060A>C': 2,\n",
       " 'CSF3R c.2341A>C': 2,\n",
       " 'SMC1A c.157dup': 2,\n",
       " 'BCOR c.983A>C': 2,\n",
       " 'RUNX1 c.1268G>A': 2,\n",
       " 'TP53 c.672+2T>G': 2,\n",
       " 'TP53 c.653T>C': 2,\n",
       " 'BCORL1 c.3466dup': 2,\n",
       " 'CUX1 c.1257A>G': 2,\n",
       " 'ETV6 c.91A>C': 2,\n",
       " 'BCOR c.2137T>G': 2,\n",
       " 'RUNX1 c.351+5T>G': 2,\n",
       " 'CEBPA c.476T>G': 2,\n",
       " 'CUX1 c.1256-24593C>T': 2,\n",
       " 'KDM6A c.876-3C>A': 2,\n",
       " 'RUNX1 c.1228T>G': 2,\n",
       " 'BCORL1 c.220del': 2,\n",
       " 'BCORL1 c.4846T>G': 2,\n",
       " 'CUX1 c.1679G>A': 2,\n",
       " 'NF1 c.568T>A': 2,\n",
       " 'NOTCH1 c.7502A>T': 2,\n",
       " 'BCOR c.3746-2A>T': 2,\n",
       " 'STAG2 c.1018-1_1018delinsAA': 2,\n",
       " 'NOTCH1 c.7508A>T': 2,\n",
       " 'KMT2A c.179T>G': 2,\n",
       " 'CUX1 c.1256-24628T>G': 2,\n",
       " 'CEBPA c.541T>C': 2,\n",
       " 'LUC7L2 c.49A>G': 2,\n",
       " 'LUC7L2 c.35A>G': 2,\n",
       " 'RUNX1 c.1264G>C': 2,\n",
       " 'NOTCH1 c.7570T>G': 2,\n",
       " 'ATRX c.2454C>G': 1,\n",
       " 'TET2 c.*3944dup': 1,\n",
       " 'TET2 c.705del': 1,\n",
       " 'SRSF2 c.237G>C': 1,\n",
       " 'CBL c.1258C>T': 1,\n",
       " 'CUX1 c.258A>T': 1,\n",
       " 'CUX1 c.1383+2T>G': 1,\n",
       " 'BCORL1 c.707T>G': 1,\n",
       " 'DNMT3A c.2306T>G': 1,\n",
       " 'RAD21 c.824C>G': 1,\n",
       " 'BCOR c.2939T>G': 1,\n",
       " 'NF1 c.6522_6523del': 1,\n",
       " 'CUX1 c.1255+1066A>G': 1,\n",
       " 'CUX1 c.1255+6516A>G': 1,\n",
       " 'KMT2A c.370A>C': 1,\n",
       " 'NF1 c.6715T>C': 1,\n",
       " 'ASXL1 c.1854A>C': 1,\n",
       " 'STAG2 c.1020A>G': 1,\n",
       " 'DNMT3A c.1903C>T': 1,\n",
       " 'DNMT3A c.1668-3C>G': 1,\n",
       " 'NOTCH1 c.6586A>G': 1,\n",
       " 'GATA2 c.143T>C': 1,\n",
       " 'BCORL1 c.1086_1087delinsCA': 1,\n",
       " 'CUX1 c.1255+1118A>G': 1,\n",
       " 'CUX1 c.1358A>G': 1,\n",
       " 'BCORL1 c.697del': 1,\n",
       " 'ATRX c.5545T>C': 1,\n",
       " 'CUX1 c.1765-5T>C': 1,\n",
       " 'BCORL1 c.2615T>C': 1,\n",
       " 'DDX41 c.98A>G': 1,\n",
       " 'STAG2 c.101dup': 1,\n",
       " 'KDM6A c.52T>C': 1,\n",
       " 'DNMT3A c.2120del': 1,\n",
       " 'DNMT3A c.2517del': 1,\n",
       " 'PPM1D c.1711C>T': 1,\n",
       " 'IDH2 c.435del': 1,\n",
       " 'BCORL1 c.2216A>C': 1,\n",
       " 'SF3B1 c.1996A>C': 1,\n",
       " 'GATA2 c.340A>G': 1,\n",
       " 'DNMT3A c.448+2T>G': 1,\n",
       " 'CUX1 c.1943A>C': 1,\n",
       " 'KMT2A c.2565dup': 1,\n",
       " 'ABL1 c.1265T>G': 1,\n",
       " 'TET2 c.2243del': 1,\n",
       " 'DNMT3A c.639+2T>G': 1,\n",
       " 'CUX1 c.1255+8939A>G': 1,\n",
       " 'DNMT3A c.283A>C': 1,\n",
       " 'DNMT3A c.2003A>C': 1,\n",
       " 'CUX1 c.1255+6317T>G': 1,\n",
       " 'ZRSR2 c.1112A>C': 1,\n",
       " 'DNMT3A c.572A>C': 1,\n",
       " 'IKZF1 c.844dup': 1,\n",
       " 'KMT2A c.9209A>C': 1,\n",
       " 'CUX1 c.1158+8T>C': 1,\n",
       " 'U2AF2 c.143A>C': 1,\n",
       " 'MYD88 c.735A>G': 1,\n",
       " 'WT1 c.803A>G': 1,\n",
       " 'DDX41 c.572-8T>C': 1,\n",
       " 'BCOR c.896T>A': 1,\n",
       " 'RUNX1 c.1211A>C': 1,\n",
       " 'CUX1 c.1902+8T>C': 1,\n",
       " 'DNMT3A c.1801T>C': 1,\n",
       " 'DNMT3A c.1A>C': 1,\n",
       " 'JAK3 c.1769T>G': 1,\n",
       " 'DNMT3A c.2390A>G': 1,\n",
       " 'DNMT3A c.2243_2259del': 1,\n",
       " 'GNAS c.602G>A': 1,\n",
       " 'TET2 c.2141C>G': 1,\n",
       " 'TET2 c.1043_1047dup': 1,\n",
       " 'NOTCH1 c.7517A>C': 1,\n",
       " 'ASXL1 c.1777A>G': 1,\n",
       " 'KDM6A c.-85T>C': 1,\n",
       " 'JAK3 c.2666T>G': 1,\n",
       " 'DNMT3A c.2093G>A': 1,\n",
       " 'JAK3 c.2653A>G': 1,\n",
       " 'SMC1A c.2973+2T>G': 1,\n",
       " 'CUX1 c.1744T>C': 1,\n",
       " 'DNMT3A c.422A>C': 1,\n",
       " 'NOTCH1 c.4637A>C': 1,\n",
       " 'PPM1D c.1654C>T': 1,\n",
       " 'BCOR c.292T>G': 1,\n",
       " 'MPL c.1813T>G': 1,\n",
       " 'TET2 c.2967_2973del': 1,\n",
       " 'CDKN2A c.347A>C': 1,\n",
       " 'DNMT3A c.1258A>T': 1,\n",
       " 'RAD21 c.829A>T': 1,\n",
       " 'SH2B3 c.1547C>T': 1,\n",
       " 'BCOR c.3359T>G': 1,\n",
       " 'CXCR4 c.424A>C': 1,\n",
       " 'PTEN c.834C>G': 1,\n",
       " 'BCORL1 c.338T>G': 1,\n",
       " 'ABL1 c.1580A>C': 1,\n",
       " 'BCORL1 c.4546A>C': 1,\n",
       " 'CUX1 c.1255+5769A>C': 1,\n",
       " 'KMT2A c.4633T>G': 1,\n",
       " 'KMT2A c.10618A>G': 1,\n",
       " 'ABL1 c.1174A>C': 1,\n",
       " 'SMC1A c.298+6T>G': 1,\n",
       " 'CUX1 c.957A>C': 1,\n",
       " 'ASXL1 c.2773C>T': 1,\n",
       " 'CUX1 c.1255+1154A>G': 1,\n",
       " 'JAK3 c.2476T>C': 1,\n",
       " 'GATA2 c.238A>C': 1,\n",
       " 'DNMT3A c.1208A>G': 1,\n",
       " 'DNMT3A c.946A>C': 1,\n",
       " 'DDX41 c.1369dup': 1,\n",
       " 'RAD21 c.59C>A': 1,\n",
       " 'DNMT3A c.1522dup': 1,\n",
       " 'DCK c.338A>G': 1,\n",
       " 'BCOR c.3341A>C': 1,\n",
       " 'U2AF2 c.1043dup': 1,\n",
       " 'CUX1 c.1255+6419A>G': 1,\n",
       " 'PPM1D c.1536T>A': 1,\n",
       " 'TET2 c.3496dup': 1,\n",
       " 'RUNX1 c.1076C>T': 1,\n",
       " 'U2AF2 c.1045-2A>G': 1,\n",
       " 'FLT3 c.1036+6G>A': 1,\n",
       " 'SH2B3 c.1516T>C': 1,\n",
       " 'U2AF2 c.945+6T>G': 1,\n",
       " 'CDKN2A c.150+175dup': 1,\n",
       " 'ABL1 c.1588A>C': 1,\n",
       " 'KMT2A c.271T>C': 1,\n",
       " 'NOTCH1 c.6865A>C': 1,\n",
       " 'NF1 c.8074C>T': 1,\n",
       " 'KMT2A c.11332T>C': 1,\n",
       " 'NOTCH1 c.6232A>G': 1,\n",
       " 'JAK3 c.269T>G': 1,\n",
       " 'ASXL1 c.905G>A': 1,\n",
       " 'PHF6 c.662A>G': 1,\n",
       " 'U2AF2 c.962A>G': 1,\n",
       " 'TP53 c.267dup': 1,\n",
       " 'DNMT3A c.682G>A': 1,\n",
       " 'DNMT3A c.762del': 1,\n",
       " 'BCORL1 c.2987T>C': 1,\n",
       " 'CUX1 c.1418A>C': 1,\n",
       " 'DNMT3A c.616T>G': 1,\n",
       " 'CEBPA c.23A>C': 1,\n",
       " 'SH2B3 c.1580A>C': 1,\n",
       " 'STAG2 c.2359-4A>T': 1,\n",
       " 'DDX41 c.110T>G': 1,\n",
       " 'IKZF1 c.691-8T>C': 1,\n",
       " 'U2AF2 c.818A>C': 1,\n",
       " 'IKZF1 c.155T>G': 1,\n",
       " 'DNMT3A c.1429+1G>A': 1,\n",
       " 'CUX1 c.1255+6338T>G': 1,\n",
       " 'MYD88 c.680A>G': 1,\n",
       " 'BCORL1 c.2881A>G': 1,\n",
       " 'WT1 c.1351A>G': 1,\n",
       " 'CUX1 c.1256-24544A>C': 1,\n",
       " 'CUX1 c.1256-24646_1256-24642del': 1,\n",
       " 'DNMT3A c.1969G>A': 1,\n",
       " 'ASXL1 c.2419G>A': 1,\n",
       " 'CDKN2A c.128T>G': 1,\n",
       " 'SMC1A c.2532dup': 1,\n",
       " 'CEBPA c.152C>T': 1,\n",
       " 'DNMT3A c.1553A>G': 1,\n",
       " 'SH2B3 c.728C>T': 1,\n",
       " 'WT1 c.302A>C': 1,\n",
       " 'KMT2A c.2914dup': 1,\n",
       " 'SH2B3 c.1566del': 1,\n",
       " 'ASXL1 c.1900_1922del': 1,\n",
       " 'U2AF2 c.992T>G': 1,\n",
       " 'KMT2A c.1961dup': 1,\n",
       " 'GATA2 c.1343A>C': 1,\n",
       " 'KDM6A c.2703-6T>C': 1,\n",
       " 'KMT2A c.5746G>A': 1,\n",
       " 'BCORL1 c.2552A>G': 1,\n",
       " 'U2AF2 c.1027A>G': 1,\n",
       " 'BCOR c.1367A>C': 1,\n",
       " 'CUX1 c.1505T>C': 1,\n",
       " 'ATRX c.2287A>G': 1,\n",
       " 'GNAS c.586-6T>C': 1,\n",
       " 'NF1 c.3589G>T': 1,\n",
       " 'ASXL1 c.3820T>C': 1,\n",
       " 'ASXL1 c.659A>C': 1,\n",
       " 'SH2B3 c.581A>C': 1,\n",
       " 'SMC1A c.2945A>C': 1,\n",
       " 'CUX1 c.1256-33926A>G': 1,\n",
       " 'JAK3 c.272A>G': 1,\n",
       " 'CUX1 c.1256-33929T>C': 1,\n",
       " 'NF1 c.2527T>C': 1,\n",
       " 'SH2B3 c.358A>C': 1,\n",
       " 'SMC1A c.2467T>C': 1,\n",
       " 'BCORL1 c.2936A>C': 1,\n",
       " 'KMT2A c.8671_8674inv': 1,\n",
       " 'DDX41 c.1325A>G': 1,\n",
       " 'MAP2K1 c.275_276delinsAT': 1,\n",
       " 'SRSF2 c.227A>C': 1,\n",
       " 'SH2B3 c.1213T>C': 1,\n",
       " 'CUX1 c.1607A>T': 1,\n",
       " 'ASXL1 c.3493A>G': 1,\n",
       " 'CSF3R c.2041-42T>C': 1,\n",
       " 'U2AF1 c.259A>G': 1,\n",
       " 'NF1 c.4013A>C': 1,\n",
       " 'BCOR c.3503-18T>G': 1,\n",
       " 'ASXL1 c.2914G>T': 1,\n",
       " 'NOTCH1 c.6406T>G': 1,\n",
       " 'TP53 c.450A>C': 1,\n",
       " 'KDM6A c.3727C>G': 1,\n",
       " 'RUNX1 c.121A>G': 1,\n",
       " 'DDX41 c.526A>C': 1,\n",
       " 'CBL c.656T>G': 1,\n",
       " 'BCOR c.893C>A': 1,\n",
       " 'BCORL1 c.2995A>G': 1,\n",
       " 'CUX1 c.1256-24808A>C': 1,\n",
       " 'PDGFRA c.2087A>C': 1,\n",
       " 'MYC c.43A>C': 1,\n",
       " 'CUX1 c.1595C>G': 1,\n",
       " 'DNMT3A c.2141C>T': 1,\n",
       " 'ATRX c.3473C>A': 1,\n",
       " 'KMT2A c.2787dup': 1,\n",
       " 'U2AF2 c.186-3C>T': 1,\n",
       " 'DNMT3A c.1694T>C': 1,\n",
       " 'KMT2A c.1660del': 1,\n",
       " 'BCORL1 c.4619-5A>G': 1,\n",
       " 'KDM6A c.-111A>C': 1,\n",
       " 'BCORL1 c.998T>G': 1,\n",
       " 'CUX1 c.1256-33780A>G': 1,\n",
       " 'ETV6 c.584A>C': 1,\n",
       " 'TP53 c.231A>C': 1,\n",
       " 'KDM6A c.-329T>G': 1,\n",
       " 'DNMT3A c.1211A>C': 1,\n",
       " 'IDH2 c.400A>G': 1,\n",
       " 'SRSF2 c.541T>G': 1,\n",
       " 'GATA2 c.983A>G': 1,\n",
       " 'RAD21 c.419_421dup': 1,\n",
       " 'U2AF2 c.86A>C': 1,\n",
       " 'KMT2A c.11512A>C': 1,\n",
       " 'BCOR c.2363A>G': 1,\n",
       " 'CDKN2A c.89T>G': 1,\n",
       " 'CUX1 c.1255+32027A>C': 1,\n",
       " 'SH2B3 c.1675T>C': 1,\n",
       " 'SLC29A1 c.73A>G': 1,\n",
       " 'NF1 c.422T>G': 1,\n",
       " 'TET2 c.936dup': 1,\n",
       " 'U2AF1 c.470A>G': 1,\n",
       " 'NOTCH1 c.6844A>C': 1,\n",
       " 'PPM1D c.1602del': 1,\n",
       " 'KDM6A c.3704A>C': 1,\n",
       " 'SMC1A c.1930A>G': 1,\n",
       " 'TP53 c.234A>C': 1,\n",
       " 'SMC1A c.1220T>G': 1,\n",
       " 'NOTCH1 c.6257A>G': 1,\n",
       " 'CUX1 c.1256-24461A>G': 1,\n",
       " 'NF1 c.2096A>C': 1,\n",
       " 'GATA2 c.977A>G': 1,\n",
       " 'BCOR c.1438A>G': 1,\n",
       " 'KDM6A c.-234T>G': 1,\n",
       " 'CEBPA c.751A>G': 1,\n",
       " 'CEBPA c.331G>C': 1,\n",
       " 'BCORL1 c.3800A>G': 1,\n",
       " 'U2AF2 c.968T>C': 1,\n",
       " 'TET2 c.1990A>T': 1,\n",
       " 'CUX1 c.2033A>G': 1,\n",
       " 'CUX1 c.1255+6248A>G': 1,\n",
       " 'BCORL1 c.2204A>C': 1,\n",
       " 'CUX1 c.1255+4479A>C': 1,\n",
       " 'BCORL1 c.1987T>G': 1,\n",
       " 'BCORL1 c.1963A>G': 1,\n",
       " 'DDX41 c.1448A>G': 1,\n",
       " 'NOTCH1 c.7127A>C': 1,\n",
       " 'KMT2A c.432+4A>C': 1,\n",
       " 'KMT2A c.11474del': 1,\n",
       " 'TP53 c.650T>G': 1,\n",
       " 'BCOR c.3748T>G': 1,\n",
       " 'BCORL1 c.1264T>C': 1,\n",
       " 'SH2B3 c.620A>C': 1,\n",
       " 'DNMT3A c.1510dup': 1,\n",
       " 'TET2 c.1648C>T': 1,\n",
       " 'DNMT3A c.2230A>T': 1,\n",
       " 'SRSF2 c.325A>T': 1,\n",
       " 'CUX1 c.1255+6032A>C': 1,\n",
       " 'BCORL1 c.2246A>C': 1,\n",
       " 'SMC1A c.1699C>T': 1,\n",
       " 'BCORL1 c.3077T>C': 1,\n",
       " 'CEBPA c.646A>C': 1,\n",
       " 'BCORL1 c.287A>C': 1,\n",
       " 'BCORL1 c.3008T>C': 1,\n",
       " 'CBLC c.1332del': 1,\n",
       " 'BCORL1 c.2473A>C': 1,\n",
       " 'BCORL1 c.3985A>G': 1,\n",
       " 'BCORL1 c.3993A>C': 1,\n",
       " 'CUX1 c.1753T>C': 1,\n",
       " 'BCORL1 c.2068T>C': 1,\n",
       " 'CBL c.591-2A>G': 1,\n",
       " 'DNMT3A c.2705del': 1,\n",
       " 'STAG2 c.2359-2A>T': 1,\n",
       " 'BCOR c.4754A>C': 1,\n",
       " 'DNMT3A c.339_340inv': 1,\n",
       " 'ASXL1 c.587A>C': 1,\n",
       " 'CUX1 c.1493T>G': 1,\n",
       " 'IKZF1 c.115A>C': 1,\n",
       " 'TET2 c.2339_2340del': 1,\n",
       " 'CUX1 c.1822-2A>C': 1,\n",
       " 'DNMT3A c.32A>C': 1,\n",
       " 'DNMT3A c.2108T>C': 1,\n",
       " 'SH2B3 c.1301T>G': 1,\n",
       " 'BCOR c.5006C>T': 1,\n",
       " 'CUX1 c.1255+6407A>C': 1,\n",
       " 'CDKN2A c.-20A>G': 1,\n",
       " 'CUX1 c.1756A>G': 1,\n",
       " 'KMT2A c.7340dup': 1,\n",
       " 'DNMT3A c.331_335inv': 1,\n",
       " 'BCOR c.2252A>G': 1,\n",
       " 'WT1 c.323T>C': 1,\n",
       " 'BCORL1 c.3176T>C': 1,\n",
       " 'STAG2 c.2725C>T': 1,\n",
       " 'NF1 c.7456A>C': 1,\n",
       " 'RUNX1 c.1427T>G': 1,\n",
       " 'LUC7L2 c.726A>C': 1,\n",
       " 'BCOR c.1532T>G': 1,\n",
       " 'CSF3R c.2317A>C': 1,\n",
       " 'CDKN2A c.110T>G': 1,\n",
       " 'BRAF c.414dup': 1,\n",
       " 'WT1 c.820A>C': 1,\n",
       " 'KDM6A c.-117A>C': 1,\n",
       " 'CEBPA c.356T>G': 1,\n",
       " 'CEBPA c.359T>G': 1,\n",
       " 'RUNX1 c.1266G>C': 1,\n",
       " 'MYC c.685A>C': 1,\n",
       " 'EZH2 c.1757A>C': 1,\n",
       " 'NF1 c.53A>C': 1,\n",
       " 'KMT2A c.1718A>C': 1,\n",
       " 'BCORL1 c.4427T>G': 1,\n",
       " 'ASXL1 c.3113A>G': 1,\n",
       " 'DNMT3A c.1387G>T': 1,\n",
       " 'GATA1 c.95T>G': 1,\n",
       " 'KMT2A c.373A>C': 1,\n",
       " 'MYC c.740A>C': 1,\n",
       " 'LUC7L2 c.635dup': 1,\n",
       " 'CUX1 c.1255+31778A>C': 1,\n",
       " 'U2AF2 c.152A>C': 1,\n",
       " 'SRSF2 c.359G>A': 1,\n",
       " 'IKZF1 c.118A>C': 1,\n",
       " 'ASXL1 c.1995T>G': 1,\n",
       " 'DNMT3A c.934T>G': 1,\n",
       " 'U2AF2 c.1309A>G': 1,\n",
       " 'U2AF1 c.374A>G': 1,\n",
       " 'WT1 c.814A>C': 1,\n",
       " 'DNMT3A c.1807T>C': 1,\n",
       " 'DNMT3A c.991T>C': 1,\n",
       " 'SRSF2 c.457A>C': 1,\n",
       " 'CBLC c.1365A>C': 1,\n",
       " 'BRAF c.1405G>A': 1,\n",
       " 'WT1 c.824A>C': 1,\n",
       " 'DNMT3A c.640-3936T>C': 1,\n",
       " 'BCORL1 c.1973T>G': 1,\n",
       " 'DNMT3A c.308A>C': 1,\n",
       " 'CUX1 c.1256-24826A>C': 1,\n",
       " 'SRSF2 c.179T>C': 1,\n",
       " 'CUX1 c.1255+5978A>C': 1,\n",
       " 'CEBPA c.138T>C': 1,\n",
       " 'ASXL1 c.3937A>C': 1,\n",
       " 'SH2B3 c.1178A>G': 1,\n",
       " 'BCORL1 c.1433T>C': 1,\n",
       " 'NOTCH1 c.4733T>G': 1,\n",
       " 'MPL c.1654-2A>C': 1,\n",
       " 'TET2 c.-10A>G': 1,\n",
       " 'DNMT3A c.605A>G': 1,\n",
       " 'U2AF2 c.1034T>G': 1,\n",
       " 'ETV6 c.486dup': 1,\n",
       " 'SRSF2 c.362+19A>C': 1,\n",
       " 'MYD88 c.742T>C': 1,\n",
       " 'DDX41 c.466T>C': 1,\n",
       " 'BCORL1 c.53A>C': 1,\n",
       " 'BCOR c.1868A>C': 1,\n",
       " 'CUX1 c.1255+32013A>C': 1,\n",
       " 'RAD21 c.815-3_815-2delinsAG': 1,\n",
       " 'KDM6A c.67A>G': 1,\n",
       " 'RUNX1 c.351+3A>C': 1,\n",
       " 'IDH2 c.514A>G': 1,\n",
       " 'IKZF1 c.709A>C': 1,\n",
       " 'WT1 c.211T>C': 1,\n",
       " 'KDM6A c.73A>G': 1,\n",
       " 'CUX1 c.1255+6230A>G': 1,\n",
       " 'SRSF2 c.301A>G': 1,\n",
       " 'CUX1 c.1256-24661A>C': 1,\n",
       " 'ASXL1 c.581A>G': 1,\n",
       " 'KMT2A c.-2A>G': 1,\n",
       " 'GATA2 c.751T>G': 1,\n",
       " 'DNMT3A c.293A>C': 1,\n",
       " 'PPM1D c.1316T>G': 1,\n",
       " 'GNAS c.587A>C': 1,\n",
       " 'GATA2 c.1417T>G': 1,\n",
       " 'GATA2 c.442A>G': 1,\n",
       " 'DNMT3A c.299A>G': 1,\n",
       " 'DNMT3A c.40A>G': 1,\n",
       " 'RAD21 c.815-7_815-6inv': 1,\n",
       " 'CUX1 c.1255+6426T>G': 1,\n",
       " 'GATA2 c.338A>C': 1,\n",
       " 'CUX1 c.1255+38540T>G': 1,\n",
       " 'DNMT3A c.2060T>A': 1,\n",
       " 'KMT2A c.404A>C': 1,\n",
       " 'BCORL1 c.1081A>C': 1,\n",
       " 'EZH2 c.1763A>C': 1,\n",
       " 'BCOR c.218A>C': 1,\n",
       " 'ABL1 c.1331A>C': 1,\n",
       " 'BCORL1 c.3165T>G': 1,\n",
       " 'BCOR c.3503-33T>C': 1,\n",
       " 'CUX1 c.1764+2T>C': 1,\n",
       " 'CBL c.610A>G': 1,\n",
       " 'GATA2 c.158A>C': 1,\n",
       " 'NF1 c.80A>C': 1,\n",
       " 'IKZF1 c.161-8322dup': 1,\n",
       " 'DNMT3A c.599A>C': 1,\n",
       " 'KDM6A c.-23A>G': 1,\n",
       " 'RUNX1 c.142A>C': 1,\n",
       " 'CUX1 c.1255+38586G>A': 1,\n",
       " 'SRSF2 c.318A>C': 1,\n",
       " 'CEBPA c.535T>C': 1,\n",
       " 'NOTCH1 c.5019-2A>C': 1,\n",
       " 'U2AF2 c.53G>T': 1,\n",
       " 'TET2 c.2344G>A': 1,\n",
       " 'CUX1 c.1255+1117A>C': 1,\n",
       " 'CDKN2A c.91A>C': 1,\n",
       " 'DDX41 c.1732+6T>C': 1,\n",
       " 'CXCR4 c.158T>C': 1,\n",
       " 'PPM1D c.1535dup': 1,\n",
       " 'CEBPA c.1069T>G': 1,\n",
       " 'DDX41 c.833A>G': 1,\n",
       " 'CUX1 c.1322T>C': 1,\n",
       " 'U2AF2 c.186-7C>T': 1,\n",
       " 'DDX41 c.1028T>G': 1,\n",
       " 'SMC1A c.1576A>C': 1,\n",
       " 'DNMT3A c.2173+1G>A': 1,\n",
       " 'KMT2A c.10627T>C': 1,\n",
       " 'BCOR c.2514del': 1,\n",
       " 'STAG2 c.463-1G>A': 1,\n",
       " 'KDM6A c.3160dup': 1,\n",
       " 'BCOR c.1175A>G': 1,\n",
       " 'CDKN2A c.92C>G': 1,\n",
       " 'SMC1A c.1819A>G': 1,\n",
       " 'KMT2A c.4696+12dup': 1,\n",
       " 'U2AF1 c.299A>G': 1,\n",
       " 'MYD88 c.666T>C': 1,\n",
       " 'U2AF1 c.275A>G': 1,\n",
       " 'DNMT3A c.2444T>C': 1,\n",
       " 'U2AF2 c.295T>C': 1,\n",
       " 'WT1 c.253T>A': 1,\n",
       " 'SH2B3 c.403T>C': 1,\n",
       " 'PTEN c.40A>G': 1,\n",
       " 'GATA2 c.673A>G': 1,\n",
       " 'KDM6A c.-264T>C': 1,\n",
       " 'CEBPA c.41del': 1,\n",
       " 'CBL c.1139T>C': 1,\n",
       " 'BCORL1 c.2032T>G': 1,\n",
       " 'DNMT3A c.1727T>C': 1,\n",
       " 'TET2 c.3496del': 1,\n",
       " 'MPL c.1549T>C': 1,\n",
       " 'BCORL1 c.2024A>T': 1,\n",
       " 'CUX1 c.1255+5950del': 1,\n",
       " 'DNMT3A c.10A>G': 1,\n",
       " 'CUX1 c.1255+1442T>G': 1,\n",
       " 'CUX1 c.283A>G': 1,\n",
       " 'WT1 c.352T>G': 1,\n",
       " 'CUX1 c.1256-33786T>C': 1,\n",
       " 'FBXW7 c.622-6del': 1,\n",
       " 'KDM6A c.2711G>T': 1,\n",
       " 'NOTCH1 c.4616A>C': 1,\n",
       " 'TET2 c.1742G>A': 1,\n",
       " 'PTPN11 c.797A>G': 1,\n",
       " 'CUX1 c.1256-24581_1256-24580delinsCC': 1,\n",
       " 'DNMT3A c.620T>C': 1,\n",
       " 'RUNX1 c.626A>G': 1,\n",
       " 'CUX1 c.1256-24448T>C': 1,\n",
       " 'KMT2A c.6331C>T': 1,\n",
       " 'KDM6A c.-47T>G': 1,\n",
       " 'DNMT3A c.1592_1594del': 1,\n",
       " 'NF1 c.5749+2T>C': 1,\n",
       " 'RAD21 c.860T>C': 1,\n",
       " 'CUX1 c.1255+31873dup': 1,\n",
       " 'KDM6A c.126A>G': 1,\n",
       " 'DCK c.172T>G': 1,\n",
       " 'NOTCH1 c.6844A>G': 1,\n",
       " 'LUC7L2 c.601G>T': 1,\n",
       " 'BCORL1 c.2642T>C': 1,\n",
       " 'DNMT3A c.1945G>A': 1,\n",
       " 'DNMT3A c.2108T>A': 1,\n",
       " 'TP53 c.268T>C': 1,\n",
       " 'BCOR c.2189T>C': 1,\n",
       " 'GATA1 c.34T>C': 1,\n",
       " 'TET2 c.2746C>T': 1,\n",
       " 'GATA1 c.26_27inv': 1,\n",
       " 'DNMT3A c.1442_1448del': 1,\n",
       " 'TET2 c.2552del': 1,\n",
       " 'RUNX1 c.743A>C': 1,\n",
       " 'TP53 c.74+45A>C': 1,\n",
       " 'ZRSR2 c.994T>C': 1,\n",
       " 'WT1 c.15T>C': 1,\n",
       " 'LUC7L2 c.43A>G': 1,\n",
       " 'KMT2A c.11498T>C': 1,\n",
       " 'BCORL1 c.1088C>A': 1,\n",
       " 'FLT3 c.2041T>G': 1,\n",
       " 'NOTCH1 c.4601A>C': 1,\n",
       " 'TP53 c.772G>A': 1,\n",
       " 'PPM1D c.1636del': 1,\n",
       " 'SF3B1 c.2225G>A': 1,\n",
       " 'KMT2A c.133C>G': 1,\n",
       " 'BCORL1 c.1168T>C': 1,\n",
       " 'MYD88 c.863A>C': 1,\n",
       " 'SF3B1 c.2098A>G': 1,\n",
       " 'BCORL1 c.178-2A>G': 1,\n",
       " 'TET2 c.1505C>T': 1,\n",
       " 'TET2 c.1505del': 1,\n",
       " 'CBL c.1259G>A': 1,\n",
       " 'DNMT3A c.1156del': 1,\n",
       " 'ASXL1 c.2329G>T': 1,\n",
       " 'STAG2 c.1018C>T': 1,\n",
       " 'TET2 c.1102del': 1,\n",
       " 'DNMT3A c.1639C>T': 1,\n",
       " 'DNMT3A c.1852-1G>A': 1,\n",
       " 'DNMT3A c.1878_1884del': 1,\n",
       " 'PTPN11 c.782T>C': 1,\n",
       " 'DNMT3A c.1601del': 1,\n",
       " 'DNMT3A c.1220T>A': 1,\n",
       " 'DNMT3A c.1031T>A': 1,\n",
       " 'DNMT3A c.770del': 1,\n",
       " 'DNMT3A c.2174del': 1,\n",
       " 'ZRSR2 c.524A>G': 1,\n",
       " 'U2AF2 c.487-2A>G': 1,\n",
       " 'FBXW7 c.345-4del': 1,\n",
       " 'DNMT3A c.2322+1G>A': 1,\n",
       " 'NOTCH1 c.4613A>C': 1,\n",
       " 'DNMT3A c.2556G>T': 1,\n",
       " 'WT1 c.-7C>G': 1,\n",
       " 'KDM6A c.901C>A': 1,\n",
       " 'DNMT3A c.1554+1G>A': 1,\n",
       " 'NOTCH1 c.7493C>T': 1,\n",
       " 'DNMT3A c.1605del': 1,\n",
       " 'TET2 c.457dup': 1,\n",
       " 'LUC7L2 c.279del': 1,\n",
       " 'ZRSR2 c.294dup': 1,\n",
       " 'BCORL1 c.1952A>G': 1,\n",
       " 'GATA2 c.1186C>T': 1,\n",
       " 'KDM6A c.-63T>G': 1,\n",
       " 'KMT2A c.292T>C': 1,\n",
       " 'BCORL1 c.-12T>G': 1,\n",
       " 'CUX1 c.1256-24581G>C': 1,\n",
       " 'BCORL1 c.643C>T': 1,\n",
       " 'DNMT3A c.1677C>A': 1,\n",
       " 'CUX1 c.1255+6450T>C': 1,\n",
       " 'DNMT3A c.976C>G': 1,\n",
       " 'DNMT3A c.2204A>G': 1,\n",
       " 'DNMT3A c.1429+1G>C': 1,\n",
       " 'CEBPA c.345C>G': 1,\n",
       " 'KRAS c.436G>C': 1,\n",
       " 'STAG2 c.1020A>T': 1,\n",
       " 'TP53 c.711G>A': 1,\n",
       " 'BCORL1 c.199A>G': 1,\n",
       " 'CUX1 c.1256-24590G>C': 1,\n",
       " 'DNMT3A c.2330C>G': 1,\n",
       " ...}"
      ]
     },
     "execution_count": 11,
     "metadata": {},
     "output_type": "execute_result"
    }
   ],
   "source": [
    "mutation_counter"
   ]
  }
 ],
 "metadata": {
  "kernelspec": {
   "display_name": "ARCH",
   "language": "python",
   "name": "arch"
  },
  "language_info": {
   "codemirror_mode": {
    "name": "ipython",
    "version": 3
   },
   "file_extension": ".py",
   "mimetype": "text/x-python",
   "name": "python",
   "nbconvert_exporter": "python",
   "pygments_lexer": "ipython3",
   "version": "3.7.12"
  }
 },
 "nbformat": 4,
 "nbformat_minor": 5
}
