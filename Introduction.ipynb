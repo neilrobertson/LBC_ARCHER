{
 "cells": [
  {
   "cell_type": "markdown",
   "metadata": {
    "nteract": {
     "transient": {
      "deleting": false
     }
    }
   },
   "source": [
    "\n",
    "# Introduction to loading and plotting a load_cohort\n",
    "This document conatins a brief introduction on how to load load a cohort dataset and store it into a comprehensive list of *participants* and *trajectories* using **basic.py** module. Further we review some pre-made plotting functions included in **plot.py** module.\n",
    "\n",
    "## Loading the module\n",
    "First we need to load the module as well as pandas package.\n"
   ]
  },
  {
   "cell_type": "code",
   "execution_count": 1,
   "metadata": {
    "jupyter": {
     "outputs_hidden": false,
     "source_hidden": false
    },
    "nteract": {
     "transient": {
      "deleting": false
     }
    }
   },
   "outputs": [],
   "source": [
    "from ARCH import basic, plot\n",
    "\n",
    "import pandas as pd\n",
    "import numpy as np\n",
    "import plotly.express as px\n",
    "import plotly.io as pio\n",
    "pio.templates.default = \"plotly_white\"\n",
    "\n",
    "\n",
    "pd.set_option('display.max_rows', 500)\n",
    "pd.set_option('display.max_columns', 500)\n",
    "pd.set_option('display.width', 1000)"
   ]
  },
  {
   "cell_type": "markdown",
   "metadata": {
    "nteract": {
     "transient": {
      "deleting": false
     }
    }
   },
   "source": [
    "\n",
    "Use pandas to import your dataset into a DataFrame, then use load function in\n",
    "basic model to produce a list of participant class objects with trajectories\n",
    "class objects.\n"
   ]
  },
  {
   "cell_type": "code",
   "execution_count": 2,
   "metadata": {
    "jupyter": {
     "outputs_hidden": false,
     "source_hidden": false
    },
    "nteract": {
     "transient": {
      "deleting": false
     }
    }
   },
   "outputs": [],
   "source": [
    "df = pd.read_csv(r'Datasets/LBC_ARCHER.1PCT_VAF.Mar21.non-synonymous.tsv', sep='\\t')\n",
    "lbc = basic.load(df)"
   ]
  },
  {
   "cell_type": "markdown",
   "metadata": {},
   "source": [
    "In the last section we provide a quicker way of loading a dataset using multiprocessing."
   ]
  },
  {
   "cell_type": "markdown",
   "metadata": {
    "nteract": {
     "transient": {
      "deleting": false
     }
    }
   },
   "source": [
    "## Participant class\n",
    "\n",
    "Each participant of the cohort has been stored in a\n",
    "participant class object with attributes:\n",
    "* **id**: a string with the participant's id\n",
    "* **mutation_list**: a list of strings of all mutations detected at any wave\n",
    "* **trajectories**: a list of trajectory class objects corresponding to each trajectory present in a participant.\n",
    "* **data**: pandas dataframe slice of the full dataset containing information about this participant."
   ]
  },
  {
   "cell_type": "code",
   "execution_count": 3,
   "metadata": {
    "jupyter": {
     "outputs_hidden": false,
     "source_hidden": false
    },
    "nteract": {
     "transient": {
      "deleting": false
     }
    }
   },
   "outputs": [
    {
     "name": "stdout",
     "output_type": "stream",
     "text": [
      "This participant's id is LBC0001A\n",
      "The first mutations present are:  ['CUX1 c.1255+6492A>G', 'ATRX c.2454C>G', 'TET2 c.2290dup']\n",
      "This is a sample of its slice of dataset\n"
     ]
    },
    {
     "data": {
      "text/html": [
       "<div>\n",
       "<style scoped>\n",
       "    .dataframe tbody tr th:only-of-type {\n",
       "        vertical-align: middle;\n",
       "    }\n",
       "\n",
       "    .dataframe tbody tr th {\n",
       "        vertical-align: top;\n",
       "    }\n",
       "\n",
       "    .dataframe thead th {\n",
       "        text-align: right;\n",
       "    }\n",
       "</style>\n",
       "<table border=\"1\" class=\"dataframe\">\n",
       "  <thead>\n",
       "    <tr style=\"text-align: right;\">\n",
       "      <th></th>\n",
       "      <th>PreferredSymbol</th>\n",
       "      <th>type</th>\n",
       "      <th>HGVSp</th>\n",
       "      <th>protein_substitution</th>\n",
       "      <th>HGVSc</th>\n",
       "      <th>base_substitution</th>\n",
       "      <th>DP</th>\n",
       "      <th>AO</th>\n",
       "      <th>UAO</th>\n",
       "      <th>AF</th>\n",
       "      <th>participant_id</th>\n",
       "      <th>wave</th>\n",
       "      <th>chromosome</th>\n",
       "      <th>position</th>\n",
       "      <th>reference</th>\n",
       "      <th>mutation</th>\n",
       "      <th>gnomAD_AF</th>\n",
       "      <th>consequence</th>\n",
       "      <th>annotation</th>\n",
       "      <th>transcript_id</th>\n",
       "      <th>quality</th>\n",
       "      <th>FunctionalStatus</th>\n",
       "      <th>COSMICID</th>\n",
       "      <th>SIFT</th>\n",
       "      <th>PolyPhen</th>\n",
       "      <th>HasSeqDirBias</th>\n",
       "      <th>PosPrimerRefCount</th>\n",
       "      <th>NegPrimerRefCount</th>\n",
       "      <th>PosPrimerAltCount</th>\n",
       "      <th>NegPrimerAltCount</th>\n",
       "      <th>UDP</th>\n",
       "      <th>DAO</th>\n",
       "      <th>AUAO</th>\n",
       "      <th>UAO.1</th>\n",
       "      <th>SampleStrandBiasRatio</th>\n",
       "      <th>SampleStrandBiasProb</th>\n",
       "      <th>Min_Outlier_PValue</th>\n",
       "      <th>AF_Outlier_Pvalue</th>\n",
       "      <th>95MDAF</th>\n",
       "      <th>key</th>\n",
       "      <th>p_key</th>\n",
       "      <th>event_key</th>\n",
       "      <th>Variant_Classification</th>\n",
       "      <th>TYPE</th>\n",
       "      <th>p_key_1</th>\n",
       "      <th>age</th>\n",
       "    </tr>\n",
       "  </thead>\n",
       "  <tbody>\n",
       "    <tr>\n",
       "      <th>0</th>\n",
       "      <td>CUX1</td>\n",
       "      <td>snp</td>\n",
       "      <td>NP_853530.2:p.Glu933Gly</td>\n",
       "      <td>p.Glu933Gly</td>\n",
       "      <td>NM_001913.3:c.1255+6492A&gt;G</td>\n",
       "      <td>c.1255+6492A&gt;G</td>\n",
       "      <td>943</td>\n",
       "      <td>6</td>\n",
       "      <td>6</td>\n",
       "      <td>0.0064</td>\n",
       "      <td>LBC0001A</td>\n",
       "      <td>1</td>\n",
       "      <td>chr7</td>\n",
       "      <td>101845375</td>\n",
       "      <td>A</td>\n",
       "      <td>G</td>\n",
       "      <td>NaN</td>\n",
       "      <td>missense_variant</td>\n",
       "      <td>NaN</td>\n",
       "      <td>NM_001913.3</td>\n",
       "      <td>204.817</td>\n",
       "      <td>Unknown</td>\n",
       "      <td>NaN</td>\n",
       "      <td>deleterious(0.02)</td>\n",
       "      <td>probably_damaging(0.997)</td>\n",
       "      <td>No</td>\n",
       "      <td>419</td>\n",
       "      <td>508</td>\n",
       "      <td>2</td>\n",
       "      <td>4</td>\n",
       "      <td>207</td>\n",
       "      <td>0</td>\n",
       "      <td>192</td>\n",
       "      <td>6</td>\n",
       "      <td>1.650</td>\n",
       "      <td>0.695</td>\n",
       "      <td>NaN</td>\n",
       "      <td>NaN</td>\n",
       "      <td>NaN</td>\n",
       "      <td>CUX1 c.1255+6492A&gt;G</td>\n",
       "      <td>CUX1 p.Glu933Gly</td>\n",
       "      <td>CUX1_c.1255+6492A&gt;G_LBC0001A</td>\n",
       "      <td>Missense_Mutation</td>\n",
       "      <td>SNP</td>\n",
       "      <td>CUX1 p.E933G</td>\n",
       "      <td>0</td>\n",
       "    </tr>\n",
       "    <tr>\n",
       "      <th>1</th>\n",
       "      <td>CUX1</td>\n",
       "      <td>snp</td>\n",
       "      <td>NP_853530.2:p.Glu933Gly</td>\n",
       "      <td>p.Glu933Gly</td>\n",
       "      <td>NM_001913.3:c.1255+6492A&gt;G</td>\n",
       "      <td>c.1255+6492A&gt;G</td>\n",
       "      <td>734</td>\n",
       "      <td>8</td>\n",
       "      <td>8</td>\n",
       "      <td>0.0109</td>\n",
       "      <td>LBC0001A</td>\n",
       "      <td>4</td>\n",
       "      <td>chr7</td>\n",
       "      <td>101845375</td>\n",
       "      <td>A</td>\n",
       "      <td>G</td>\n",
       "      <td>NaN</td>\n",
       "      <td>missense_variant</td>\n",
       "      <td>NaN</td>\n",
       "      <td>NM_001913.3</td>\n",
       "      <td>284.000</td>\n",
       "      <td>Unknown</td>\n",
       "      <td>NaN</td>\n",
       "      <td>deleterious(0.02)</td>\n",
       "      <td>probably_damaging(0.997)</td>\n",
       "      <td>No</td>\n",
       "      <td>328</td>\n",
       "      <td>393</td>\n",
       "      <td>1</td>\n",
       "      <td>7</td>\n",
       "      <td>206</td>\n",
       "      <td>0</td>\n",
       "      <td>194</td>\n",
       "      <td>8</td>\n",
       "      <td>5.842</td>\n",
       "      <td>0.079</td>\n",
       "      <td>NaN</td>\n",
       "      <td>NaN</td>\n",
       "      <td>NaN</td>\n",
       "      <td>CUX1 c.1255+6492A&gt;G</td>\n",
       "      <td>CUX1 p.Glu933Gly</td>\n",
       "      <td>CUX1_c.1255+6492A&gt;G_LBC0001A</td>\n",
       "      <td>Missense_Mutation</td>\n",
       "      <td>SNP</td>\n",
       "      <td>CUX1 p.E933G</td>\n",
       "      <td>9</td>\n",
       "    </tr>\n",
       "    <tr>\n",
       "      <th>2</th>\n",
       "      <td>ATRX</td>\n",
       "      <td>snp</td>\n",
       "      <td>NP_000480.2:p.Asp818Glu</td>\n",
       "      <td>p.Asp818Glu</td>\n",
       "      <td>NM_000489.3:c.2454C&gt;G</td>\n",
       "      <td>c.2454C&gt;G</td>\n",
       "      <td>2345</td>\n",
       "      <td>8</td>\n",
       "      <td>2</td>\n",
       "      <td>0.0034</td>\n",
       "      <td>LBC0001A</td>\n",
       "      <td>1</td>\n",
       "      <td>chrX</td>\n",
       "      <td>76938294</td>\n",
       "      <td>G</td>\n",
       "      <td>C</td>\n",
       "      <td>NaN</td>\n",
       "      <td>missense_variant</td>\n",
       "      <td>NaN</td>\n",
       "      <td>NM_000489.3</td>\n",
       "      <td>301.000</td>\n",
       "      <td>Unknown</td>\n",
       "      <td>NaN</td>\n",
       "      <td>NaN</td>\n",
       "      <td>probably_damaging(0.978)</td>\n",
       "      <td>No</td>\n",
       "      <td>747</td>\n",
       "      <td>1588</td>\n",
       "      <td>2</td>\n",
       "      <td>6</td>\n",
       "      <td>258</td>\n",
       "      <td>0</td>\n",
       "      <td>254</td>\n",
       "      <td>2</td>\n",
       "      <td>1.411</td>\n",
       "      <td>1.000</td>\n",
       "      <td>NaN</td>\n",
       "      <td>NaN</td>\n",
       "      <td>NaN</td>\n",
       "      <td>ATRX c.2454C&gt;G</td>\n",
       "      <td>ATRX p.Asp818Glu</td>\n",
       "      <td>ATRX_c.2454C&gt;G_LBC0001A</td>\n",
       "      <td>Missense_Mutation</td>\n",
       "      <td>SNP</td>\n",
       "      <td>ATRX p.D818E</td>\n",
       "      <td>0</td>\n",
       "    </tr>\n",
       "    <tr>\n",
       "      <th>3</th>\n",
       "      <td>ATRX</td>\n",
       "      <td>snp</td>\n",
       "      <td>NP_000480.2:p.Asp818Glu</td>\n",
       "      <td>p.Asp818Glu</td>\n",
       "      <td>NM_000489.3:c.2454C&gt;G</td>\n",
       "      <td>c.2454C&gt;G</td>\n",
       "      <td>2103</td>\n",
       "      <td>21</td>\n",
       "      <td>5</td>\n",
       "      <td>0.0100</td>\n",
       "      <td>LBC0001A</td>\n",
       "      <td>3</td>\n",
       "      <td>chrX</td>\n",
       "      <td>76938294</td>\n",
       "      <td>G</td>\n",
       "      <td>C</td>\n",
       "      <td>NaN</td>\n",
       "      <td>missense_variant</td>\n",
       "      <td>NaN</td>\n",
       "      <td>NM_000489.3</td>\n",
       "      <td>794.000</td>\n",
       "      <td>Unknown</td>\n",
       "      <td>NaN</td>\n",
       "      <td>NaN</td>\n",
       "      <td>probably_damaging(0.978)</td>\n",
       "      <td>No</td>\n",
       "      <td>664</td>\n",
       "      <td>1414</td>\n",
       "      <td>6</td>\n",
       "      <td>15</td>\n",
       "      <td>258</td>\n",
       "      <td>0</td>\n",
       "      <td>249</td>\n",
       "      <td>5</td>\n",
       "      <td>1.174</td>\n",
       "      <td>0.819</td>\n",
       "      <td>NaN</td>\n",
       "      <td>NaN</td>\n",
       "      <td>NaN</td>\n",
       "      <td>ATRX c.2454C&gt;G</td>\n",
       "      <td>ATRX p.Asp818Glu</td>\n",
       "      <td>ATRX_c.2454C&gt;G_LBC0001A</td>\n",
       "      <td>Missense_Mutation</td>\n",
       "      <td>SNP</td>\n",
       "      <td>ATRX p.D818E</td>\n",
       "      <td>6</td>\n",
       "    </tr>\n",
       "    <tr>\n",
       "      <th>4</th>\n",
       "      <td>ATRX</td>\n",
       "      <td>snp</td>\n",
       "      <td>NP_000480.2:p.Asp818Glu</td>\n",
       "      <td>p.Asp818Glu</td>\n",
       "      <td>NM_000489.3:c.2454C&gt;G</td>\n",
       "      <td>c.2454C&gt;G</td>\n",
       "      <td>1801</td>\n",
       "      <td>11</td>\n",
       "      <td>1</td>\n",
       "      <td>0.0061</td>\n",
       "      <td>LBC0001A</td>\n",
       "      <td>4</td>\n",
       "      <td>chrX</td>\n",
       "      <td>76938294</td>\n",
       "      <td>G</td>\n",
       "      <td>C</td>\n",
       "      <td>NaN</td>\n",
       "      <td>missense_variant</td>\n",
       "      <td>NaN</td>\n",
       "      <td>NM_000489.3</td>\n",
       "      <td>400.000</td>\n",
       "      <td>Unknown</td>\n",
       "      <td>NaN</td>\n",
       "      <td>NaN</td>\n",
       "      <td>probably_damaging(0.978)</td>\n",
       "      <td>No</td>\n",
       "      <td>603</td>\n",
       "      <td>1184</td>\n",
       "      <td>0</td>\n",
       "      <td>11</td>\n",
       "      <td>252</td>\n",
       "      <td>0</td>\n",
       "      <td>248</td>\n",
       "      <td>1</td>\n",
       "      <td>inf</td>\n",
       "      <td>0.020</td>\n",
       "      <td>NaN</td>\n",
       "      <td>NaN</td>\n",
       "      <td>NaN</td>\n",
       "      <td>ATRX c.2454C&gt;G</td>\n",
       "      <td>ATRX p.Asp818Glu</td>\n",
       "      <td>ATRX_c.2454C&gt;G_LBC0001A</td>\n",
       "      <td>Missense_Mutation</td>\n",
       "      <td>SNP</td>\n",
       "      <td>ATRX p.D818E</td>\n",
       "      <td>9</td>\n",
       "    </tr>\n",
       "  </tbody>\n",
       "</table>\n",
       "</div>"
      ],
      "text/plain": [
       "  PreferredSymbol type                    HGVSp protein_substitution                       HGVSc base_substitution    DP  AO  UAO      AF participant_id  wave chromosome   position reference mutation  gnomAD_AF       consequence annotation transcript_id  quality FunctionalStatus COSMICID               SIFT                  PolyPhen HasSeqDirBias  PosPrimerRefCount  NegPrimerRefCount  PosPrimerAltCount  NegPrimerAltCount  UDP  DAO  AUAO  UAO.1 SampleStrandBiasRatio SampleStrandBiasProb  Min_Outlier_PValue  AF_Outlier_Pvalue  95MDAF                  key             p_key                     event_key Variant_Classification TYPE       p_key_1  age\n",
       "0            CUX1  snp  NP_853530.2:p.Glu933Gly          p.Glu933Gly  NM_001913.3:c.1255+6492A>G    c.1255+6492A>G   943   6    6  0.0064       LBC0001A     1       chr7  101845375         A        G        NaN  missense_variant        NaN   NM_001913.3  204.817          Unknown      NaN  deleterious(0.02)  probably_damaging(0.997)            No                419                508                  2                  4  207    0   192      6                 1.650                0.695                 NaN                NaN     NaN  CUX1 c.1255+6492A>G  CUX1 p.Glu933Gly  CUX1_c.1255+6492A>G_LBC0001A      Missense_Mutation  SNP  CUX1 p.E933G    0\n",
       "1            CUX1  snp  NP_853530.2:p.Glu933Gly          p.Glu933Gly  NM_001913.3:c.1255+6492A>G    c.1255+6492A>G   734   8    8  0.0109       LBC0001A     4       chr7  101845375         A        G        NaN  missense_variant        NaN   NM_001913.3  284.000          Unknown      NaN  deleterious(0.02)  probably_damaging(0.997)            No                328                393                  1                  7  206    0   194      8                 5.842                0.079                 NaN                NaN     NaN  CUX1 c.1255+6492A>G  CUX1 p.Glu933Gly  CUX1_c.1255+6492A>G_LBC0001A      Missense_Mutation  SNP  CUX1 p.E933G    9\n",
       "2            ATRX  snp  NP_000480.2:p.Asp818Glu          p.Asp818Glu       NM_000489.3:c.2454C>G         c.2454C>G  2345   8    2  0.0034       LBC0001A     1       chrX   76938294         G        C        NaN  missense_variant        NaN   NM_000489.3  301.000          Unknown      NaN                NaN  probably_damaging(0.978)            No                747               1588                  2                  6  258    0   254      2                 1.411                1.000                 NaN                NaN     NaN       ATRX c.2454C>G  ATRX p.Asp818Glu       ATRX_c.2454C>G_LBC0001A      Missense_Mutation  SNP  ATRX p.D818E    0\n",
       "3            ATRX  snp  NP_000480.2:p.Asp818Glu          p.Asp818Glu       NM_000489.3:c.2454C>G         c.2454C>G  2103  21    5  0.0100       LBC0001A     3       chrX   76938294         G        C        NaN  missense_variant        NaN   NM_000489.3  794.000          Unknown      NaN                NaN  probably_damaging(0.978)            No                664               1414                  6                 15  258    0   249      5                 1.174                0.819                 NaN                NaN     NaN       ATRX c.2454C>G  ATRX p.Asp818Glu       ATRX_c.2454C>G_LBC0001A      Missense_Mutation  SNP  ATRX p.D818E    6\n",
       "4            ATRX  snp  NP_000480.2:p.Asp818Glu          p.Asp818Glu       NM_000489.3:c.2454C>G         c.2454C>G  1801  11    1  0.0061       LBC0001A     4       chrX   76938294         G        C        NaN  missense_variant        NaN   NM_000489.3  400.000          Unknown      NaN                NaN  probably_damaging(0.978)            No                603               1184                  0                 11  252    0   248      1                   inf                0.020                 NaN                NaN     NaN       ATRX c.2454C>G  ATRX p.Asp818Glu       ATRX_c.2454C>G_LBC0001A      Missense_Mutation  SNP  ATRX p.D818E    9"
      ]
     },
     "execution_count": 3,
     "metadata": {},
     "output_type": "execute_result"
    }
   ],
   "source": [
    "# Exploring the attributes\n",
    "print('This participant\\'s id is', lbc[0].id)\n",
    "print('The first mutations present are: ', lbc[0].mutation_list[0:3])\n",
    "print('This is a sample of its slice of dataset')\n",
    "lbc[0].data.head()"
   ]
  },
  {
   "cell_type": "markdown",
   "metadata": {
    "nteract": {
     "transient": {
      "deleting": false
     }
    }
   },
   "source": [
    "\n",
    "## Trajectories class\n",
    "All mutations present in a participant is stored in a list of mutation\n",
    "trajectories.\n"
   ]
  },
  {
   "cell_type": "code",
   "execution_count": 4,
   "metadata": {
    "jupyter": {
     "outputs_hidden": false,
     "source_hidden": false
    },
    "nteract": {
     "transient": {
      "deleting": false
     }
    }
   },
   "outputs": [
    {
     "name": "stdout",
     "output_type": "stream",
     "text": [
      "These are the first trajectories of this participant:\n",
      "[<ARCH.basic.trajectory object at 0x7f8fd5fd11d0>, <ARCH.basic.trajectory object at 0x7f8fd5fd1110>]\n"
     ]
    }
   ],
   "source": [
    "print('These are the first trajectories of this participant:')\n",
    "print(lbc[0].trajectories[0:2])\n",
    "\n",
    "# For future examples we will explore the first stored trajectory \n",
    "traj = lbc[0].trajectories[0]"
   ]
  },
  {
   "cell_type": "markdown",
   "metadata": {
    "nteract": {
     "transient": {
      "deleting": false
     }
    }
   },
   "source": [
    "Each trajectory class object has the following attributes:\n",
    "* **mutation**: string with the name of the mutation this trajectory follows\n",
    "* **germline**: boolean with the germline status of the mutation\n",
    "* **data**: pandas dataframe with the trajectory data\n",
    "* **gradient**: gradient between the first and the last point of the trajectory\n"
   ]
  },
  {
   "cell_type": "code",
   "execution_count": 5,
   "metadata": {},
   "outputs": [
    {
     "name": "stdout",
     "output_type": "stream",
     "text": [
      "This trajectory follows mutation  STAG2 c.1018C>A .\n",
      "The mutated gene is STAG2 .\n",
      "The germline status of this trajectory is  False .\n",
      "The gradient from frist time point to the last is -0.0037999999999999996 .\n"
     ]
    }
   ],
   "source": [
    "# Exploring trajectory attributes\n",
    "print(\"This trajectory follows mutation \", traj.mutation, \".\")\n",
    "print('The mutated gene is', traj.mutation.split()[0], '.') \n",
    "print('The germline status of this trajectory is ', traj.germline, '.')  \n",
    "print('The gradient from frist time point to the last is', traj.gradient, '.')"
   ]
  },
  {
   "cell_type": "code",
   "execution_count": 6,
   "metadata": {},
   "outputs": [
    {
     "data": {
      "text/html": [
       "<div>\n",
       "<style scoped>\n",
       "    .dataframe tbody tr th:only-of-type {\n",
       "        vertical-align: middle;\n",
       "    }\n",
       "\n",
       "    .dataframe tbody tr th {\n",
       "        vertical-align: top;\n",
       "    }\n",
       "\n",
       "    .dataframe thead th {\n",
       "        text-align: right;\n",
       "    }\n",
       "</style>\n",
       "<table border=\"1\" class=\"dataframe\">\n",
       "  <thead>\n",
       "    <tr style=\"text-align: right;\">\n",
       "      <th></th>\n",
       "      <th>AF</th>\n",
       "      <th>age</th>\n",
       "      <th>regularized_gradient</th>\n",
       "    </tr>\n",
       "  </thead>\n",
       "  <tbody>\n",
       "    <tr>\n",
       "      <th>0</th>\n",
       "      <td>0.0231</td>\n",
       "      <td>79</td>\n",
       "      <td>-0.001960</td>\n",
       "    </tr>\n",
       "    <tr>\n",
       "      <th>1</th>\n",
       "      <td>0.0183</td>\n",
       "      <td>85</td>\n",
       "      <td>-0.003811</td>\n",
       "    </tr>\n",
       "    <tr>\n",
       "      <th>2</th>\n",
       "      <td>0.0117</td>\n",
       "      <td>88</td>\n",
       "      <td>NaN</td>\n",
       "    </tr>\n",
       "  </tbody>\n",
       "</table>\n",
       "</div>"
      ],
      "text/plain": [
       "       AF  age  regularized_gradient\n",
       "0  0.0231   79             -0.001960\n",
       "1  0.0183   85             -0.003811\n",
       "2  0.0117   88                   NaN"
      ]
     },
     "execution_count": 6,
     "metadata": {},
     "output_type": "execute_result"
    }
   ],
   "source": [
    "# data stores relevant information of a trajectory\n",
    "traj.data"
   ]
  },
  {
   "cell_type": "markdown",
   "metadata": {
    "nteract": {
     "transient": {
      "deleting": false
     }
    }
   },
   "source": [
    "# Plotting data\n",
    "\n",
    "We have created several plot functions to explore the data in the cohort.\n",
    "\n",
    "## Longitudinal trajectories\n",
    "\n",
    "### Profile of participants\n",
    "\n",
    "The participant class comes with a **profile** method to plot its genetic longitudinal profile."
   ]
  },
  {
   "cell_type": "code",
   "execution_count": 8,
   "metadata": {
    "jupyter": {
     "outputs_hidden": false,
     "source_hidden": false
    },
    "nteract": {
     "transient": {
      "deleting": false
     }
    }
   },
   "outputs": [],
   "source": [
    "lbc[9].profile(germline=False)   # germline filters trajectories with germline status = True"
   ]
  },
  {
   "cell_type": "markdown",
   "metadata": {},
   "source": [
    "We can also plot a participant profile using it's participant id with **plot.plot_id**."
   ]
  },
  {
   "cell_type": "code",
   "execution_count": 8,
   "metadata": {
    "scrolled": false
   },
   "outputs": [
    {
     "data": {
      "application/vnd.plotly.v1+json": {
       "config": {
        "plotlyServerURL": "https://plot.ly"
       },
       "data": [
        {
         "mode": "lines+markers",
         "name": "FLT3 c.2041T>G",
         "type": "scatter",
         "x": [
          70,
          73,
          76,
          79
         ],
         "y": [
          0.0109,
          0.0075,
          0.0054,
          0.0056
         ]
        },
        {
         "mode": "lines+markers",
         "name": "NOTCH1 c.7502A>T",
         "type": "scatter",
         "x": [
          73,
          76
         ],
         "y": [
          0.0036,
          0.0146
         ]
        },
        {
         "mode": "lines+markers",
         "name": "KMT2A c.83_84insCCC",
         "type": "scatter",
         "x": [
          70,
          73,
          76,
          79
         ],
         "y": [
          0.01,
          0.0102,
          0.0056,
          0.0102
         ]
        },
        {
         "mode": "lines+markers",
         "name": "SH2B3 c.374C>G",
         "type": "scatter",
         "x": [
          70,
          73,
          76,
          79
         ],
         "y": [
          0.0069,
          0.0113,
          0.0082,
          0.0082
         ]
        },
        {
         "mode": "lines+markers",
         "name": "NOTCH1 c.4601A>C",
         "type": "scatter",
         "x": [
          70,
          73,
          76,
          79
         ],
         "y": [
          0.0103,
          0.0068,
          0.0078,
          0.0078
         ]
        },
        {
         "mode": "lines+markers",
         "name": "KMT2A c.77G>C",
         "type": "scatter",
         "x": [
          70,
          73,
          76,
          79
         ],
         "y": [
          0.0109,
          0.0099,
          0.0075,
          0.0123
         ]
        },
        {
         "mode": "lines+markers",
         "name": "NOTCH1 c.6729_6730inv",
         "type": "scatter",
         "x": [
          70,
          73,
          76
         ],
         "y": [
          0.0048,
          0.0101,
          0.0057
         ]
        },
        {
         "mode": "lines+markers",
         "name": "KMT2A c.130C>G",
         "type": "scatter",
         "x": [
          70,
          73,
          76,
          79
         ],
         "y": [
          0.0053,
          0.0153,
          0.0072,
          0.0053
         ]
        },
        {
         "mode": "lines+markers",
         "name": "KMT2A c.75_77del",
         "type": "scatter",
         "x": [
          70,
          73,
          76,
          79
         ],
         "y": [
          0.011000000000000001,
          0.01,
          0.0076,
          0.0124
         ]
        },
        {
         "mode": "lines+markers",
         "name": "NF1 c.1527+14del",
         "type": "scatter",
         "x": [
          70,
          73,
          76,
          79
         ],
         "y": [
          0.0105,
          0.0054,
          0.0081,
          0.0076
         ]
        },
        {
         "mode": "lines+markers",
         "name": "NOTCH1 c.7513C>G",
         "type": "scatter",
         "x": [
          73,
          76
         ],
         "y": [
          0.0032,
          0.0127
         ]
        },
        {
         "mode": "lines+markers",
         "name": "TP53 c.772G>A",
         "type": "scatter",
         "x": [
          70,
          73,
          76,
          79
         ],
         "y": [
          0.0006,
          0.0006,
          0.0011,
          0.0217
         ]
        },
        {
         "mode": "lines+markers",
         "name": "PPM1D c.1636del",
         "type": "scatter",
         "x": [
          73,
          76
         ],
         "y": [
          0.0115,
          0.0022
         ]
        },
        {
         "mode": "lines+markers",
         "name": "SH2B3 c.397T>A",
         "type": "scatter",
         "x": [
          70,
          73,
          76,
          79
         ],
         "y": [
          0.0049,
          0.0112,
          0.0067,
          0.0073
         ]
        },
        {
         "mode": "lines+markers",
         "name": "SH2B3 c.371T>A",
         "type": "scatter",
         "x": [
          70,
          73,
          76,
          79
         ],
         "y": [
          0.0071,
          0.0111,
          0.0086,
          0.0077
         ]
        },
        {
         "mode": "lines+markers",
         "name": "SF3B1 c.2225G>A",
         "type": "scatter",
         "x": [
          70,
          73,
          76,
          79
         ],
         "y": [
          0.0007,
          0.0005,
          0.0005,
          0.0816
         ]
        },
        {
         "mode": "lines+markers",
         "name": "JAK3 c.2490+7T>G",
         "type": "scatter",
         "x": [
          70,
          73,
          76,
          79
         ],
         "y": [
          0.0113,
          0.0052,
          0.0049,
          0.0068
         ]
        },
        {
         "mode": "lines+markers",
         "name": "KMT2A c.133C>G",
         "type": "scatter",
         "x": [
          70,
          73,
          76,
          79
         ],
         "y": [
          0.0053,
          0.013000000000000001,
          0.0085,
          0.0039
         ]
        },
        {
         "mode": "lines+markers",
         "name": "JAK2 c.1849G>T",
         "type": "scatter",
         "x": [
          70,
          73,
          76,
          79
         ],
         "y": [
          0.14,
          0.3118,
          0.4996,
          0.35200000000000004
         ]
        },
        {
         "mode": "lines+markers",
         "name": "SRSF2 c.239T>A",
         "type": "scatter",
         "x": [
          70,
          73,
          76,
          79
         ],
         "y": [
          0.0075,
          0.018000000000000002,
          0.0082,
          0.0081
         ]
        },
        {
         "mode": "lines+markers",
         "name": "BCORL1 c.1168T>C",
         "type": "scatter",
         "x": [
          76,
          79
         ],
         "y": [
          0.0059,
          0.0115
         ]
        },
        {
         "mode": "lines+markers",
         "name": "SH2B3 c.389C>G",
         "type": "scatter",
         "x": [
          70,
          73,
          76,
          79
         ],
         "y": [
          0.0045,
          0.0101,
          0.0069,
          0.0072
         ]
        },
        {
         "mode": "lines+markers",
         "name": "NPM1 c.847-4C>T",
         "type": "scatter",
         "x": [
          70,
          73,
          76,
          79
         ],
         "y": [
          0.0191,
          0.013000000000000001,
          0.0137,
          0.0103
         ]
        },
        {
         "mode": "lines+markers",
         "name": "SH2B3 c.380C>G",
         "type": "scatter",
         "x": [
          70,
          73,
          76,
          79
         ],
         "y": [
          0.0069,
          0.012,
          0.0078,
          0.0077
         ]
        },
        {
         "mode": "lines+markers",
         "name": "SH2B3 c.394C>G",
         "type": "scatter",
         "x": [
          70,
          73,
          76,
          79
         ],
         "y": [
          0.0045,
          0.0106,
          0.0074,
          0.0065
         ]
        },
        {
         "mode": "lines+markers",
         "name": "NOTCH1 c.6718A>G",
         "type": "scatter",
         "x": [
          70,
          73,
          79
         ],
         "y": [
          0.0082,
          0.0148,
          0.0046
         ]
        },
        {
         "mode": "lines+markers",
         "name": "SRSF2 c.248G>C",
         "type": "scatter",
         "x": [
          70,
          73,
          76,
          79
         ],
         "y": [
          0.0087,
          0.0149,
          0.0079,
          0.0079
         ]
        },
        {
         "mode": "lines+markers",
         "name": "NF1 c.3197+9del",
         "type": "scatter",
         "x": [
          70,
          73,
          76,
          79
         ],
         "y": [
          0.0083,
          0.0084,
          0.0101,
          0.0078
         ]
        },
        {
         "mode": "lines+markers",
         "name": "KMT2A c.140G>C",
         "type": "scatter",
         "x": [
          70,
          73,
          76,
          79
         ],
         "y": [
          0.0088,
          0.0169,
          0.0082,
          0.006
         ]
        },
        {
         "mode": "lines+markers",
         "name": "SRSF2 c.241G>C",
         "type": "scatter",
         "x": [
          70,
          73,
          76,
          79
         ],
         "y": [
          0.0071,
          0.0168,
          0.0095,
          0.0078
         ]
        },
        {
         "mode": "lines+markers",
         "name": "KMT2A c.65G>C",
         "type": "scatter",
         "x": [
          70,
          73,
          76,
          79
         ],
         "y": [
          0.0106,
          0.0095,
          0.0063,
          0.0119
         ]
        },
        {
         "mode": "lines+markers",
         "name": "MYD88 c.863A>C",
         "type": "scatter",
         "x": [
          70,
          73,
          76,
          79
         ],
         "y": [
          0.0146,
          0.0066,
          0.0089,
          0.0163
         ]
        },
        {
         "mode": "lines+markers",
         "name": "NOTCH1 c.4958_4959delinsCA",
         "type": "scatter",
         "x": [
          70,
          73,
          76,
          79
         ],
         "y": [
          0.0072,
          0.0195,
          0.0109,
          0.0064
         ]
        },
        {
         "mode": "lines+markers",
         "name": "NOTCH1 c.4965_4966delinsGA",
         "type": "scatter",
         "x": [
          70,
          73,
          76,
          79
         ],
         "y": [
          0.0071,
          0.0193,
          0.0108,
          0.0057
         ]
        }
       ],
       "layout": {
        "template": {
         "data": {
          "bar": [
           {
            "error_x": {
             "color": "#2a3f5f"
            },
            "error_y": {
             "color": "#2a3f5f"
            },
            "marker": {
             "line": {
              "color": "white",
              "width": 0.5
             }
            },
            "type": "bar"
           }
          ],
          "barpolar": [
           {
            "marker": {
             "line": {
              "color": "white",
              "width": 0.5
             }
            },
            "type": "barpolar"
           }
          ],
          "carpet": [
           {
            "aaxis": {
             "endlinecolor": "#2a3f5f",
             "gridcolor": "#C8D4E3",
             "linecolor": "#C8D4E3",
             "minorgridcolor": "#C8D4E3",
             "startlinecolor": "#2a3f5f"
            },
            "baxis": {
             "endlinecolor": "#2a3f5f",
             "gridcolor": "#C8D4E3",
             "linecolor": "#C8D4E3",
             "minorgridcolor": "#C8D4E3",
             "startlinecolor": "#2a3f5f"
            },
            "type": "carpet"
           }
          ],
          "choropleth": [
           {
            "colorbar": {
             "outlinewidth": 0,
             "ticks": ""
            },
            "type": "choropleth"
           }
          ],
          "contour": [
           {
            "colorbar": {
             "outlinewidth": 0,
             "ticks": ""
            },
            "colorscale": [
             [
              0,
              "#0d0887"
             ],
             [
              0.1111111111111111,
              "#46039f"
             ],
             [
              0.2222222222222222,
              "#7201a8"
             ],
             [
              0.3333333333333333,
              "#9c179e"
             ],
             [
              0.4444444444444444,
              "#bd3786"
             ],
             [
              0.5555555555555556,
              "#d8576b"
             ],
             [
              0.6666666666666666,
              "#ed7953"
             ],
             [
              0.7777777777777778,
              "#fb9f3a"
             ],
             [
              0.8888888888888888,
              "#fdca26"
             ],
             [
              1,
              "#f0f921"
             ]
            ],
            "type": "contour"
           }
          ],
          "contourcarpet": [
           {
            "colorbar": {
             "outlinewidth": 0,
             "ticks": ""
            },
            "type": "contourcarpet"
           }
          ],
          "heatmap": [
           {
            "colorbar": {
             "outlinewidth": 0,
             "ticks": ""
            },
            "colorscale": [
             [
              0,
              "#0d0887"
             ],
             [
              0.1111111111111111,
              "#46039f"
             ],
             [
              0.2222222222222222,
              "#7201a8"
             ],
             [
              0.3333333333333333,
              "#9c179e"
             ],
             [
              0.4444444444444444,
              "#bd3786"
             ],
             [
              0.5555555555555556,
              "#d8576b"
             ],
             [
              0.6666666666666666,
              "#ed7953"
             ],
             [
              0.7777777777777778,
              "#fb9f3a"
             ],
             [
              0.8888888888888888,
              "#fdca26"
             ],
             [
              1,
              "#f0f921"
             ]
            ],
            "type": "heatmap"
           }
          ],
          "heatmapgl": [
           {
            "colorbar": {
             "outlinewidth": 0,
             "ticks": ""
            },
            "colorscale": [
             [
              0,
              "#0d0887"
             ],
             [
              0.1111111111111111,
              "#46039f"
             ],
             [
              0.2222222222222222,
              "#7201a8"
             ],
             [
              0.3333333333333333,
              "#9c179e"
             ],
             [
              0.4444444444444444,
              "#bd3786"
             ],
             [
              0.5555555555555556,
              "#d8576b"
             ],
             [
              0.6666666666666666,
              "#ed7953"
             ],
             [
              0.7777777777777778,
              "#fb9f3a"
             ],
             [
              0.8888888888888888,
              "#fdca26"
             ],
             [
              1,
              "#f0f921"
             ]
            ],
            "type": "heatmapgl"
           }
          ],
          "histogram": [
           {
            "marker": {
             "colorbar": {
              "outlinewidth": 0,
              "ticks": ""
             }
            },
            "type": "histogram"
           }
          ],
          "histogram2d": [
           {
            "colorbar": {
             "outlinewidth": 0,
             "ticks": ""
            },
            "colorscale": [
             [
              0,
              "#0d0887"
             ],
             [
              0.1111111111111111,
              "#46039f"
             ],
             [
              0.2222222222222222,
              "#7201a8"
             ],
             [
              0.3333333333333333,
              "#9c179e"
             ],
             [
              0.4444444444444444,
              "#bd3786"
             ],
             [
              0.5555555555555556,
              "#d8576b"
             ],
             [
              0.6666666666666666,
              "#ed7953"
             ],
             [
              0.7777777777777778,
              "#fb9f3a"
             ],
             [
              0.8888888888888888,
              "#fdca26"
             ],
             [
              1,
              "#f0f921"
             ]
            ],
            "type": "histogram2d"
           }
          ],
          "histogram2dcontour": [
           {
            "colorbar": {
             "outlinewidth": 0,
             "ticks": ""
            },
            "colorscale": [
             [
              0,
              "#0d0887"
             ],
             [
              0.1111111111111111,
              "#46039f"
             ],
             [
              0.2222222222222222,
              "#7201a8"
             ],
             [
              0.3333333333333333,
              "#9c179e"
             ],
             [
              0.4444444444444444,
              "#bd3786"
             ],
             [
              0.5555555555555556,
              "#d8576b"
             ],
             [
              0.6666666666666666,
              "#ed7953"
             ],
             [
              0.7777777777777778,
              "#fb9f3a"
             ],
             [
              0.8888888888888888,
              "#fdca26"
             ],
             [
              1,
              "#f0f921"
             ]
            ],
            "type": "histogram2dcontour"
           }
          ],
          "mesh3d": [
           {
            "colorbar": {
             "outlinewidth": 0,
             "ticks": ""
            },
            "type": "mesh3d"
           }
          ],
          "parcoords": [
           {
            "line": {
             "colorbar": {
              "outlinewidth": 0,
              "ticks": ""
             }
            },
            "type": "parcoords"
           }
          ],
          "pie": [
           {
            "automargin": true,
            "type": "pie"
           }
          ],
          "scatter": [
           {
            "marker": {
             "colorbar": {
              "outlinewidth": 0,
              "ticks": ""
             }
            },
            "type": "scatter"
           }
          ],
          "scatter3d": [
           {
            "line": {
             "colorbar": {
              "outlinewidth": 0,
              "ticks": ""
             }
            },
            "marker": {
             "colorbar": {
              "outlinewidth": 0,
              "ticks": ""
             }
            },
            "type": "scatter3d"
           }
          ],
          "scattercarpet": [
           {
            "marker": {
             "colorbar": {
              "outlinewidth": 0,
              "ticks": ""
             }
            },
            "type": "scattercarpet"
           }
          ],
          "scattergeo": [
           {
            "marker": {
             "colorbar": {
              "outlinewidth": 0,
              "ticks": ""
             }
            },
            "type": "scattergeo"
           }
          ],
          "scattergl": [
           {
            "marker": {
             "colorbar": {
              "outlinewidth": 0,
              "ticks": ""
             }
            },
            "type": "scattergl"
           }
          ],
          "scattermapbox": [
           {
            "marker": {
             "colorbar": {
              "outlinewidth": 0,
              "ticks": ""
             }
            },
            "type": "scattermapbox"
           }
          ],
          "scatterpolar": [
           {
            "marker": {
             "colorbar": {
              "outlinewidth": 0,
              "ticks": ""
             }
            },
            "type": "scatterpolar"
           }
          ],
          "scatterpolargl": [
           {
            "marker": {
             "colorbar": {
              "outlinewidth": 0,
              "ticks": ""
             }
            },
            "type": "scatterpolargl"
           }
          ],
          "scatterternary": [
           {
            "marker": {
             "colorbar": {
              "outlinewidth": 0,
              "ticks": ""
             }
            },
            "type": "scatterternary"
           }
          ],
          "surface": [
           {
            "colorbar": {
             "outlinewidth": 0,
             "ticks": ""
            },
            "colorscale": [
             [
              0,
              "#0d0887"
             ],
             [
              0.1111111111111111,
              "#46039f"
             ],
             [
              0.2222222222222222,
              "#7201a8"
             ],
             [
              0.3333333333333333,
              "#9c179e"
             ],
             [
              0.4444444444444444,
              "#bd3786"
             ],
             [
              0.5555555555555556,
              "#d8576b"
             ],
             [
              0.6666666666666666,
              "#ed7953"
             ],
             [
              0.7777777777777778,
              "#fb9f3a"
             ],
             [
              0.8888888888888888,
              "#fdca26"
             ],
             [
              1,
              "#f0f921"
             ]
            ],
            "type": "surface"
           }
          ],
          "table": [
           {
            "cells": {
             "fill": {
              "color": "#EBF0F8"
             },
             "line": {
              "color": "white"
             }
            },
            "header": {
             "fill": {
              "color": "#C8D4E3"
             },
             "line": {
              "color": "white"
             }
            },
            "type": "table"
           }
          ]
         },
         "layout": {
          "annotationdefaults": {
           "arrowcolor": "#2a3f5f",
           "arrowhead": 0,
           "arrowwidth": 1
          },
          "coloraxis": {
           "colorbar": {
            "outlinewidth": 0,
            "ticks": ""
           }
          },
          "colorscale": {
           "diverging": [
            [
             0,
             "#8e0152"
            ],
            [
             0.1,
             "#c51b7d"
            ],
            [
             0.2,
             "#de77ae"
            ],
            [
             0.3,
             "#f1b6da"
            ],
            [
             0.4,
             "#fde0ef"
            ],
            [
             0.5,
             "#f7f7f7"
            ],
            [
             0.6,
             "#e6f5d0"
            ],
            [
             0.7,
             "#b8e186"
            ],
            [
             0.8,
             "#7fbc41"
            ],
            [
             0.9,
             "#4d9221"
            ],
            [
             1,
             "#276419"
            ]
           ],
           "sequential": [
            [
             0,
             "#0d0887"
            ],
            [
             0.1111111111111111,
             "#46039f"
            ],
            [
             0.2222222222222222,
             "#7201a8"
            ],
            [
             0.3333333333333333,
             "#9c179e"
            ],
            [
             0.4444444444444444,
             "#bd3786"
            ],
            [
             0.5555555555555556,
             "#d8576b"
            ],
            [
             0.6666666666666666,
             "#ed7953"
            ],
            [
             0.7777777777777778,
             "#fb9f3a"
            ],
            [
             0.8888888888888888,
             "#fdca26"
            ],
            [
             1,
             "#f0f921"
            ]
           ],
           "sequentialminus": [
            [
             0,
             "#0d0887"
            ],
            [
             0.1111111111111111,
             "#46039f"
            ],
            [
             0.2222222222222222,
             "#7201a8"
            ],
            [
             0.3333333333333333,
             "#9c179e"
            ],
            [
             0.4444444444444444,
             "#bd3786"
            ],
            [
             0.5555555555555556,
             "#d8576b"
            ],
            [
             0.6666666666666666,
             "#ed7953"
            ],
            [
             0.7777777777777778,
             "#fb9f3a"
            ],
            [
             0.8888888888888888,
             "#fdca26"
            ],
            [
             1,
             "#f0f921"
            ]
           ]
          },
          "colorway": [
           "#636efa",
           "#EF553B",
           "#00cc96",
           "#ab63fa",
           "#FFA15A",
           "#19d3f3",
           "#FF6692",
           "#B6E880",
           "#FF97FF",
           "#FECB52"
          ],
          "font": {
           "color": "#2a3f5f"
          },
          "geo": {
           "bgcolor": "white",
           "lakecolor": "white",
           "landcolor": "white",
           "showlakes": true,
           "showland": true,
           "subunitcolor": "#C8D4E3"
          },
          "hoverlabel": {
           "align": "left"
          },
          "hovermode": "closest",
          "mapbox": {
           "style": "light"
          },
          "paper_bgcolor": "white",
          "plot_bgcolor": "white",
          "polar": {
           "angularaxis": {
            "gridcolor": "#EBF0F8",
            "linecolor": "#EBF0F8",
            "ticks": ""
           },
           "bgcolor": "white",
           "radialaxis": {
            "gridcolor": "#EBF0F8",
            "linecolor": "#EBF0F8",
            "ticks": ""
           }
          },
          "scene": {
           "xaxis": {
            "backgroundcolor": "white",
            "gridcolor": "#DFE8F3",
            "gridwidth": 2,
            "linecolor": "#EBF0F8",
            "showbackground": true,
            "ticks": "",
            "zerolinecolor": "#EBF0F8"
           },
           "yaxis": {
            "backgroundcolor": "white",
            "gridcolor": "#DFE8F3",
            "gridwidth": 2,
            "linecolor": "#EBF0F8",
            "showbackground": true,
            "ticks": "",
            "zerolinecolor": "#EBF0F8"
           },
           "zaxis": {
            "backgroundcolor": "white",
            "gridcolor": "#DFE8F3",
            "gridwidth": 2,
            "linecolor": "#EBF0F8",
            "showbackground": true,
            "ticks": "",
            "zerolinecolor": "#EBF0F8"
           }
          },
          "shapedefaults": {
           "line": {
            "color": "#2a3f5f"
           }
          },
          "ternary": {
           "aaxis": {
            "gridcolor": "#DFE8F3",
            "linecolor": "#A2B1C6",
            "ticks": ""
           },
           "baxis": {
            "gridcolor": "#DFE8F3",
            "linecolor": "#A2B1C6",
            "ticks": ""
           },
           "bgcolor": "white",
           "caxis": {
            "gridcolor": "#DFE8F3",
            "linecolor": "#A2B1C6",
            "ticks": ""
           }
          },
          "title": {
           "x": 0.05
          },
          "xaxis": {
           "automargin": true,
           "gridcolor": "#EBF0F8",
           "linecolor": "#EBF0F8",
           "ticks": "",
           "title": {
            "standoff": 15
           },
           "zerolinecolor": "#EBF0F8",
           "zerolinewidth": 2
          },
          "yaxis": {
           "automargin": true,
           "gridcolor": "#EBF0F8",
           "linecolor": "#EBF0F8",
           "ticks": "",
           "title": {
            "standoff": 15
           },
           "zerolinecolor": "#EBF0F8",
           "zerolinewidth": 2
          }
         }
        },
        "title": {
         "text": "Trajectories of participant LBC360021"
        },
        "xaxis": {
         "title": {
          "text": "Age (in years)"
         }
        },
        "yaxis": {
         "title": {
          "text": "VAF"
         }
        }
       }
      },
      "text/html": [
       "<div>\n",
       "        \n",
       "        \n",
       "            <div id=\"b6fec2be-ecc8-48d9-83e0-19af7d7fde78\" class=\"plotly-graph-div\" style=\"height:525px; width:100%;\"></div>\n",
       "            <script type=\"text/javascript\">\n",
       "                require([\"plotly\"], function(Plotly) {\n",
       "                    window.PLOTLYENV=window.PLOTLYENV || {};\n",
       "                    \n",
       "                if (document.getElementById(\"b6fec2be-ecc8-48d9-83e0-19af7d7fde78\")) {\n",
       "                    Plotly.newPlot(\n",
       "                        'b6fec2be-ecc8-48d9-83e0-19af7d7fde78',\n",
       "                        [{\"mode\": \"lines+markers\", \"name\": \"FLT3 c.2041T>G\", \"type\": \"scatter\", \"x\": [70, 73, 76, 79], \"y\": [0.0109, 0.0075, 0.0054, 0.0056]}, {\"mode\": \"lines+markers\", \"name\": \"NOTCH1 c.7502A>T\", \"type\": \"scatter\", \"x\": [73, 76], \"y\": [0.0036, 0.0146]}, {\"mode\": \"lines+markers\", \"name\": \"KMT2A c.83_84insCCC\", \"type\": \"scatter\", \"x\": [70, 73, 76, 79], \"y\": [0.01, 0.0102, 0.0056, 0.0102]}, {\"mode\": \"lines+markers\", \"name\": \"SH2B3 c.374C>G\", \"type\": \"scatter\", \"x\": [70, 73, 76, 79], \"y\": [0.0069, 0.0113, 0.0082, 0.0082]}, {\"mode\": \"lines+markers\", \"name\": \"NOTCH1 c.4601A>C\", \"type\": \"scatter\", \"x\": [70, 73, 76, 79], \"y\": [0.0103, 0.0068, 0.0078, 0.0078]}, {\"mode\": \"lines+markers\", \"name\": \"KMT2A c.77G>C\", \"type\": \"scatter\", \"x\": [70, 73, 76, 79], \"y\": [0.0109, 0.0099, 0.0075, 0.0123]}, {\"mode\": \"lines+markers\", \"name\": \"NOTCH1 c.6729_6730inv\", \"type\": \"scatter\", \"x\": [70, 73, 76], \"y\": [0.0048, 0.0101, 0.0057]}, {\"mode\": \"lines+markers\", \"name\": \"KMT2A c.130C>G\", \"type\": \"scatter\", \"x\": [70, 73, 76, 79], \"y\": [0.0053, 0.0153, 0.0072, 0.0053]}, {\"mode\": \"lines+markers\", \"name\": \"KMT2A c.75_77del\", \"type\": \"scatter\", \"x\": [70, 73, 76, 79], \"y\": [0.011000000000000001, 0.01, 0.0076, 0.0124]}, {\"mode\": \"lines+markers\", \"name\": \"NF1 c.1527+14del\", \"type\": \"scatter\", \"x\": [70, 73, 76, 79], \"y\": [0.0105, 0.0054, 0.0081, 0.0076]}, {\"mode\": \"lines+markers\", \"name\": \"NOTCH1 c.7513C>G\", \"type\": \"scatter\", \"x\": [73, 76], \"y\": [0.0032, 0.0127]}, {\"mode\": \"lines+markers\", \"name\": \"TP53 c.772G>A\", \"type\": \"scatter\", \"x\": [70, 73, 76, 79], \"y\": [0.0006, 0.0006, 0.0011, 0.0217]}, {\"mode\": \"lines+markers\", \"name\": \"PPM1D c.1636del\", \"type\": \"scatter\", \"x\": [73, 76], \"y\": [0.0115, 0.0022]}, {\"mode\": \"lines+markers\", \"name\": \"SH2B3 c.397T>A\", \"type\": \"scatter\", \"x\": [70, 73, 76, 79], \"y\": [0.0049, 0.0112, 0.0067, 0.0073]}, {\"mode\": \"lines+markers\", \"name\": \"SH2B3 c.371T>A\", \"type\": \"scatter\", \"x\": [70, 73, 76, 79], \"y\": [0.0071, 0.0111, 0.0086, 0.0077]}, {\"mode\": \"lines+markers\", \"name\": \"SF3B1 c.2225G>A\", \"type\": \"scatter\", \"x\": [70, 73, 76, 79], \"y\": [0.0007, 0.0005, 0.0005, 0.0816]}, {\"mode\": \"lines+markers\", \"name\": \"JAK3 c.2490+7T>G\", \"type\": \"scatter\", \"x\": [70, 73, 76, 79], \"y\": [0.0113, 0.0052, 0.0049, 0.0068]}, {\"mode\": \"lines+markers\", \"name\": \"KMT2A c.133C>G\", \"type\": \"scatter\", \"x\": [70, 73, 76, 79], \"y\": [0.0053, 0.013000000000000001, 0.0085, 0.0039]}, {\"mode\": \"lines+markers\", \"name\": \"JAK2 c.1849G>T\", \"type\": \"scatter\", \"x\": [70, 73, 76, 79], \"y\": [0.14, 0.3118, 0.4996, 0.35200000000000004]}, {\"mode\": \"lines+markers\", \"name\": \"SRSF2 c.239T>A\", \"type\": \"scatter\", \"x\": [70, 73, 76, 79], \"y\": [0.0075, 0.018000000000000002, 0.0082, 0.0081]}, {\"mode\": \"lines+markers\", \"name\": \"BCORL1 c.1168T>C\", \"type\": \"scatter\", \"x\": [76, 79], \"y\": [0.0059, 0.0115]}, {\"mode\": \"lines+markers\", \"name\": \"SH2B3 c.389C>G\", \"type\": \"scatter\", \"x\": [70, 73, 76, 79], \"y\": [0.0045, 0.0101, 0.0069, 0.0072]}, {\"mode\": \"lines+markers\", \"name\": \"NPM1 c.847-4C>T\", \"type\": \"scatter\", \"x\": [70, 73, 76, 79], \"y\": [0.0191, 0.013000000000000001, 0.0137, 0.0103]}, {\"mode\": \"lines+markers\", \"name\": \"SH2B3 c.380C>G\", \"type\": \"scatter\", \"x\": [70, 73, 76, 79], \"y\": [0.0069, 0.012, 0.0078, 0.0077]}, {\"mode\": \"lines+markers\", \"name\": \"SH2B3 c.394C>G\", \"type\": \"scatter\", \"x\": [70, 73, 76, 79], \"y\": [0.0045, 0.0106, 0.0074, 0.0065]}, {\"mode\": \"lines+markers\", \"name\": \"NOTCH1 c.6718A>G\", \"type\": \"scatter\", \"x\": [70, 73, 79], \"y\": [0.0082, 0.0148, 0.0046]}, {\"mode\": \"lines+markers\", \"name\": \"SRSF2 c.248G>C\", \"type\": \"scatter\", \"x\": [70, 73, 76, 79], \"y\": [0.0087, 0.0149, 0.0079, 0.0079]}, {\"mode\": \"lines+markers\", \"name\": \"NF1 c.3197+9del\", \"type\": \"scatter\", \"x\": [70, 73, 76, 79], \"y\": [0.0083, 0.0084, 0.0101, 0.0078]}, {\"mode\": \"lines+markers\", \"name\": \"KMT2A c.140G>C\", \"type\": \"scatter\", \"x\": [70, 73, 76, 79], \"y\": [0.0088, 0.0169, 0.0082, 0.006]}, {\"mode\": \"lines+markers\", \"name\": \"SRSF2 c.241G>C\", \"type\": \"scatter\", \"x\": [70, 73, 76, 79], \"y\": [0.0071, 0.0168, 0.0095, 0.0078]}, {\"mode\": \"lines+markers\", \"name\": \"KMT2A c.65G>C\", \"type\": \"scatter\", \"x\": [70, 73, 76, 79], \"y\": [0.0106, 0.0095, 0.0063, 0.0119]}, {\"mode\": \"lines+markers\", \"name\": \"MYD88 c.863A>C\", \"type\": \"scatter\", \"x\": [70, 73, 76, 79], \"y\": [0.0146, 0.0066, 0.0089, 0.0163]}, {\"mode\": \"lines+markers\", \"name\": \"NOTCH1 c.4958_4959delinsCA\", \"type\": \"scatter\", \"x\": [70, 73, 76, 79], \"y\": [0.0072, 0.0195, 0.0109, 0.0064]}, {\"mode\": \"lines+markers\", \"name\": \"NOTCH1 c.4965_4966delinsGA\", \"type\": \"scatter\", \"x\": [70, 73, 76, 79], \"y\": [0.0071, 0.0193, 0.0108, 0.0057]}],\n",
       "                        {\"template\": {\"data\": {\"bar\": [{\"error_x\": {\"color\": \"#2a3f5f\"}, \"error_y\": {\"color\": \"#2a3f5f\"}, \"marker\": {\"line\": {\"color\": \"white\", \"width\": 0.5}}, \"type\": \"bar\"}], \"barpolar\": [{\"marker\": {\"line\": {\"color\": \"white\", \"width\": 0.5}}, \"type\": \"barpolar\"}], \"carpet\": [{\"aaxis\": {\"endlinecolor\": \"#2a3f5f\", \"gridcolor\": \"#C8D4E3\", \"linecolor\": \"#C8D4E3\", \"minorgridcolor\": \"#C8D4E3\", \"startlinecolor\": \"#2a3f5f\"}, \"baxis\": {\"endlinecolor\": \"#2a3f5f\", \"gridcolor\": \"#C8D4E3\", \"linecolor\": \"#C8D4E3\", \"minorgridcolor\": \"#C8D4E3\", \"startlinecolor\": \"#2a3f5f\"}, \"type\": \"carpet\"}], \"choropleth\": [{\"colorbar\": {\"outlinewidth\": 0, \"ticks\": \"\"}, \"type\": \"choropleth\"}], \"contour\": [{\"colorbar\": {\"outlinewidth\": 0, \"ticks\": \"\"}, \"colorscale\": [[0.0, \"#0d0887\"], [0.1111111111111111, \"#46039f\"], [0.2222222222222222, \"#7201a8\"], [0.3333333333333333, \"#9c179e\"], [0.4444444444444444, \"#bd3786\"], [0.5555555555555556, \"#d8576b\"], [0.6666666666666666, \"#ed7953\"], [0.7777777777777778, \"#fb9f3a\"], [0.8888888888888888, \"#fdca26\"], [1.0, \"#f0f921\"]], \"type\": \"contour\"}], \"contourcarpet\": [{\"colorbar\": {\"outlinewidth\": 0, \"ticks\": \"\"}, \"type\": \"contourcarpet\"}], \"heatmap\": [{\"colorbar\": {\"outlinewidth\": 0, \"ticks\": \"\"}, \"colorscale\": [[0.0, \"#0d0887\"], [0.1111111111111111, \"#46039f\"], [0.2222222222222222, \"#7201a8\"], [0.3333333333333333, \"#9c179e\"], [0.4444444444444444, \"#bd3786\"], [0.5555555555555556, \"#d8576b\"], [0.6666666666666666, \"#ed7953\"], [0.7777777777777778, \"#fb9f3a\"], [0.8888888888888888, \"#fdca26\"], [1.0, \"#f0f921\"]], \"type\": \"heatmap\"}], \"heatmapgl\": [{\"colorbar\": {\"outlinewidth\": 0, \"ticks\": \"\"}, \"colorscale\": [[0.0, \"#0d0887\"], [0.1111111111111111, \"#46039f\"], [0.2222222222222222, \"#7201a8\"], [0.3333333333333333, \"#9c179e\"], [0.4444444444444444, \"#bd3786\"], [0.5555555555555556, \"#d8576b\"], [0.6666666666666666, \"#ed7953\"], [0.7777777777777778, \"#fb9f3a\"], [0.8888888888888888, \"#fdca26\"], [1.0, \"#f0f921\"]], \"type\": \"heatmapgl\"}], \"histogram\": [{\"marker\": {\"colorbar\": {\"outlinewidth\": 0, \"ticks\": \"\"}}, \"type\": \"histogram\"}], \"histogram2d\": [{\"colorbar\": {\"outlinewidth\": 0, \"ticks\": \"\"}, \"colorscale\": [[0.0, \"#0d0887\"], [0.1111111111111111, \"#46039f\"], [0.2222222222222222, \"#7201a8\"], [0.3333333333333333, \"#9c179e\"], [0.4444444444444444, \"#bd3786\"], [0.5555555555555556, \"#d8576b\"], [0.6666666666666666, \"#ed7953\"], [0.7777777777777778, \"#fb9f3a\"], [0.8888888888888888, \"#fdca26\"], [1.0, \"#f0f921\"]], \"type\": \"histogram2d\"}], \"histogram2dcontour\": [{\"colorbar\": {\"outlinewidth\": 0, \"ticks\": \"\"}, \"colorscale\": [[0.0, \"#0d0887\"], [0.1111111111111111, \"#46039f\"], [0.2222222222222222, \"#7201a8\"], [0.3333333333333333, \"#9c179e\"], [0.4444444444444444, \"#bd3786\"], [0.5555555555555556, \"#d8576b\"], [0.6666666666666666, \"#ed7953\"], [0.7777777777777778, \"#fb9f3a\"], [0.8888888888888888, \"#fdca26\"], [1.0, \"#f0f921\"]], \"type\": \"histogram2dcontour\"}], \"mesh3d\": [{\"colorbar\": {\"outlinewidth\": 0, \"ticks\": \"\"}, \"type\": \"mesh3d\"}], \"parcoords\": [{\"line\": {\"colorbar\": {\"outlinewidth\": 0, \"ticks\": \"\"}}, \"type\": \"parcoords\"}], \"pie\": [{\"automargin\": true, \"type\": \"pie\"}], \"scatter\": [{\"marker\": {\"colorbar\": {\"outlinewidth\": 0, \"ticks\": \"\"}}, \"type\": \"scatter\"}], \"scatter3d\": [{\"line\": {\"colorbar\": {\"outlinewidth\": 0, \"ticks\": \"\"}}, \"marker\": {\"colorbar\": {\"outlinewidth\": 0, \"ticks\": \"\"}}, \"type\": \"scatter3d\"}], \"scattercarpet\": [{\"marker\": {\"colorbar\": {\"outlinewidth\": 0, \"ticks\": \"\"}}, \"type\": \"scattercarpet\"}], \"scattergeo\": [{\"marker\": {\"colorbar\": {\"outlinewidth\": 0, \"ticks\": \"\"}}, \"type\": \"scattergeo\"}], \"scattergl\": [{\"marker\": {\"colorbar\": {\"outlinewidth\": 0, \"ticks\": \"\"}}, \"type\": \"scattergl\"}], \"scattermapbox\": [{\"marker\": {\"colorbar\": {\"outlinewidth\": 0, \"ticks\": \"\"}}, \"type\": \"scattermapbox\"}], \"scatterpolar\": [{\"marker\": {\"colorbar\": {\"outlinewidth\": 0, \"ticks\": \"\"}}, \"type\": \"scatterpolar\"}], \"scatterpolargl\": [{\"marker\": {\"colorbar\": {\"outlinewidth\": 0, \"ticks\": \"\"}}, \"type\": \"scatterpolargl\"}], \"scatterternary\": [{\"marker\": {\"colorbar\": {\"outlinewidth\": 0, \"ticks\": \"\"}}, \"type\": \"scatterternary\"}], \"surface\": [{\"colorbar\": {\"outlinewidth\": 0, \"ticks\": \"\"}, \"colorscale\": [[0.0, \"#0d0887\"], [0.1111111111111111, \"#46039f\"], [0.2222222222222222, \"#7201a8\"], [0.3333333333333333, \"#9c179e\"], [0.4444444444444444, \"#bd3786\"], [0.5555555555555556, \"#d8576b\"], [0.6666666666666666, \"#ed7953\"], [0.7777777777777778, \"#fb9f3a\"], [0.8888888888888888, \"#fdca26\"], [1.0, \"#f0f921\"]], \"type\": \"surface\"}], \"table\": [{\"cells\": {\"fill\": {\"color\": \"#EBF0F8\"}, \"line\": {\"color\": \"white\"}}, \"header\": {\"fill\": {\"color\": \"#C8D4E3\"}, \"line\": {\"color\": \"white\"}}, \"type\": \"table\"}]}, \"layout\": {\"annotationdefaults\": {\"arrowcolor\": \"#2a3f5f\", \"arrowhead\": 0, \"arrowwidth\": 1}, \"coloraxis\": {\"colorbar\": {\"outlinewidth\": 0, \"ticks\": \"\"}}, \"colorscale\": {\"diverging\": [[0, \"#8e0152\"], [0.1, \"#c51b7d\"], [0.2, \"#de77ae\"], [0.3, \"#f1b6da\"], [0.4, \"#fde0ef\"], [0.5, \"#f7f7f7\"], [0.6, \"#e6f5d0\"], [0.7, \"#b8e186\"], [0.8, \"#7fbc41\"], [0.9, \"#4d9221\"], [1, \"#276419\"]], \"sequential\": [[0.0, \"#0d0887\"], [0.1111111111111111, \"#46039f\"], [0.2222222222222222, \"#7201a8\"], [0.3333333333333333, \"#9c179e\"], [0.4444444444444444, \"#bd3786\"], [0.5555555555555556, \"#d8576b\"], [0.6666666666666666, \"#ed7953\"], [0.7777777777777778, \"#fb9f3a\"], [0.8888888888888888, \"#fdca26\"], [1.0, \"#f0f921\"]], \"sequentialminus\": [[0.0, \"#0d0887\"], [0.1111111111111111, \"#46039f\"], [0.2222222222222222, \"#7201a8\"], [0.3333333333333333, \"#9c179e\"], [0.4444444444444444, \"#bd3786\"], [0.5555555555555556, \"#d8576b\"], [0.6666666666666666, \"#ed7953\"], [0.7777777777777778, \"#fb9f3a\"], [0.8888888888888888, \"#fdca26\"], [1.0, \"#f0f921\"]]}, \"colorway\": [\"#636efa\", \"#EF553B\", \"#00cc96\", \"#ab63fa\", \"#FFA15A\", \"#19d3f3\", \"#FF6692\", \"#B6E880\", \"#FF97FF\", \"#FECB52\"], \"font\": {\"color\": \"#2a3f5f\"}, \"geo\": {\"bgcolor\": \"white\", \"lakecolor\": \"white\", \"landcolor\": \"white\", \"showlakes\": true, \"showland\": true, \"subunitcolor\": \"#C8D4E3\"}, \"hoverlabel\": {\"align\": \"left\"}, \"hovermode\": \"closest\", \"mapbox\": {\"style\": \"light\"}, \"paper_bgcolor\": \"white\", \"plot_bgcolor\": \"white\", \"polar\": {\"angularaxis\": {\"gridcolor\": \"#EBF0F8\", \"linecolor\": \"#EBF0F8\", \"ticks\": \"\"}, \"bgcolor\": \"white\", \"radialaxis\": {\"gridcolor\": \"#EBF0F8\", \"linecolor\": \"#EBF0F8\", \"ticks\": \"\"}}, \"scene\": {\"xaxis\": {\"backgroundcolor\": \"white\", \"gridcolor\": \"#DFE8F3\", \"gridwidth\": 2, \"linecolor\": \"#EBF0F8\", \"showbackground\": true, \"ticks\": \"\", \"zerolinecolor\": \"#EBF0F8\"}, \"yaxis\": {\"backgroundcolor\": \"white\", \"gridcolor\": \"#DFE8F3\", \"gridwidth\": 2, \"linecolor\": \"#EBF0F8\", \"showbackground\": true, \"ticks\": \"\", \"zerolinecolor\": \"#EBF0F8\"}, \"zaxis\": {\"backgroundcolor\": \"white\", \"gridcolor\": \"#DFE8F3\", \"gridwidth\": 2, \"linecolor\": \"#EBF0F8\", \"showbackground\": true, \"ticks\": \"\", \"zerolinecolor\": \"#EBF0F8\"}}, \"shapedefaults\": {\"line\": {\"color\": \"#2a3f5f\"}}, \"ternary\": {\"aaxis\": {\"gridcolor\": \"#DFE8F3\", \"linecolor\": \"#A2B1C6\", \"ticks\": \"\"}, \"baxis\": {\"gridcolor\": \"#DFE8F3\", \"linecolor\": \"#A2B1C6\", \"ticks\": \"\"}, \"bgcolor\": \"white\", \"caxis\": {\"gridcolor\": \"#DFE8F3\", \"linecolor\": \"#A2B1C6\", \"ticks\": \"\"}}, \"title\": {\"x\": 0.05}, \"xaxis\": {\"automargin\": true, \"gridcolor\": \"#EBF0F8\", \"linecolor\": \"#EBF0F8\", \"ticks\": \"\", \"title\": {\"standoff\": 15}, \"zerolinecolor\": \"#EBF0F8\", \"zerolinewidth\": 2}, \"yaxis\": {\"automargin\": true, \"gridcolor\": \"#EBF0F8\", \"linecolor\": \"#EBF0F8\", \"ticks\": \"\", \"title\": {\"standoff\": 15}, \"zerolinecolor\": \"#EBF0F8\", \"zerolinewidth\": 2}}}, \"title\": {\"text\": \"Trajectories of participant LBC360021\"}, \"xaxis\": {\"title\": {\"text\": \"Age (in years)\"}}, \"yaxis\": {\"title\": {\"text\": \"VAF\"}}},\n",
       "                        {\"responsive\": true}\n",
       "                    ).then(function(){\n",
       "                            \n",
       "var gd = document.getElementById('b6fec2be-ecc8-48d9-83e0-19af7d7fde78');\n",
       "var x = new MutationObserver(function (mutations, observer) {{\n",
       "        var display = window.getComputedStyle(gd).display;\n",
       "        if (!display || display === 'none') {{\n",
       "            console.log([gd, 'removed!']);\n",
       "            Plotly.purge(gd);\n",
       "            observer.disconnect();\n",
       "        }}\n",
       "}});\n",
       "\n",
       "// Listen for the removal of the full notebook cells\n",
       "var notebookContainer = gd.closest('#notebook-container');\n",
       "if (notebookContainer) {{\n",
       "    x.observe(notebookContainer, {childList: true});\n",
       "}}\n",
       "\n",
       "// Listen for the clearing of the current output cell\n",
       "var outputEl = gd.closest('.output');\n",
       "if (outputEl) {{\n",
       "    x.observe(outputEl, {childList: true});\n",
       "}}\n",
       "\n",
       "                        })\n",
       "                };\n",
       "                });\n",
       "            </script>\n",
       "        </div>"
      ]
     },
     "metadata": {},
     "output_type": "display_data"
    }
   ],
   "source": [
    "plot.plot_id(lbc,'LBC360021', germline=False)"
   ]
  },
  {
   "cell_type": "markdown",
   "metadata": {},
   "source": [
    "We can also visualize longitudinal trajectories as a stack plot using **plot.stack_plot**."
   ]
  },
  {
   "cell_type": "code",
   "execution_count": 9,
   "metadata": {},
   "outputs": [
    {
     "data": {
      "application/vnd.plotly.v1+json": {
       "config": {
        "plotlyServerURL": "https://plot.ly"
       },
       "data": [
        {
         "hovertemplate": "VAF: %{y}",
         "mode": "lines",
         "name": "STAG2 c.1018C>A",
         "stackgroup": "one",
         "type": "scatter",
         "x": [
          79,
          85,
          88
         ],
         "y": [
          0.0231,
          0.0183,
          0.0117
         ]
        },
        {
         "hovertemplate": "VAF: %{y}",
         "mode": "lines",
         "name": "NOTCH1 c.6717_6718inv",
         "stackgroup": "one",
         "type": "scatter",
         "x": [
          79,
          85,
          88
         ],
         "y": [
          0.0095,
          0.0106,
          0.0064
         ]
        },
        {
         "hovertemplate": "VAF: %{y}",
         "mode": "lines",
         "name": "ATRX c.2454C>G",
         "stackgroup": "one",
         "type": "scatter",
         "x": [
          79,
          85,
          88
         ],
         "y": [
          0.0034,
          0.01,
          0.0061
         ]
        },
        {
         "hovertemplate": "VAF: %{y}",
         "mode": "lines",
         "name": "RAD21 c.56T>C",
         "stackgroup": "one",
         "type": "scatter",
         "x": [
          79,
          85,
          88
         ],
         "y": [
          0.0073,
          0.0102,
          0.0061
         ]
        },
        {
         "hovertemplate": "VAF: %{y}",
         "mode": "lines",
         "name": "NOTCH1 c.4732_4734del",
         "stackgroup": "one",
         "type": "scatter",
         "x": [
          79,
          85,
          88
         ],
         "y": [
          0.005,
          0.0109,
          0.0033
         ]
        },
        {
         "hovertemplate": "VAF: %{y}",
         "mode": "lines",
         "name": "SRSF2 c.239T>A",
         "stackgroup": "one",
         "type": "scatter",
         "x": [
          79,
          85,
          88
         ],
         "y": [
          0.0091,
          0.0136,
          0.0142
         ]
        },
        {
         "hovertemplate": "VAF: %{y}",
         "mode": "lines",
         "name": "SRSF2 c.248G>C",
         "stackgroup": "one",
         "type": "scatter",
         "x": [
          79,
          85,
          88
         ],
         "y": [
          0.0088,
          0.0137,
          0.0139
         ]
        },
        {
         "hovertemplate": "VAF: %{y}",
         "mode": "lines",
         "name": "TET2 c.*3944dup",
         "stackgroup": "one",
         "type": "scatter",
         "x": [
          85,
          88
         ],
         "y": [
          0.0115,
          0.0074
         ]
        },
        {
         "hovertemplate": "VAF: %{y}",
         "mode": "lines",
         "name": "NOTCH1 c.6723_6724inv",
         "stackgroup": "one",
         "type": "scatter",
         "x": [
          79,
          85,
          88
         ],
         "y": [
          0.0095,
          0.0105,
          0.0063
         ]
        },
        {
         "hovertemplate": "VAF: %{y}",
         "mode": "lines",
         "name": "KMT2A c.157G>C",
         "stackgroup": "one",
         "type": "scatter",
         "x": [
          79,
          85,
          88
         ],
         "y": [
          0.0109,
          0.0045,
          0.0092
         ]
        },
        {
         "hovertemplate": "VAF: %{y}",
         "mode": "lines",
         "name": "CUX1 c.1255+6492A>G",
         "stackgroup": "one",
         "type": "scatter",
         "x": [
          79,
          88
         ],
         "y": [
          0.0064,
          0.0109
         ]
        },
        {
         "hovertemplate": "VAF: %{y}",
         "mode": "lines",
         "name": "TET2 c.705del",
         "stackgroup": "one",
         "type": "scatter",
         "x": [
          85,
          88
         ],
         "y": [
          0.1589,
          0.2135
         ]
        },
        {
         "hovertemplate": "VAF: %{y}",
         "mode": "lines",
         "name": "DNMT3A c.326_327inv",
         "stackgroup": "one",
         "type": "scatter",
         "x": [
          79,
          88
         ],
         "y": [
          0.0064,
          0.0108
         ]
        },
        {
         "hovertemplate": "VAF: %{y}",
         "mode": "lines",
         "name": "JAK3 c.2490+7T>G",
         "stackgroup": "one",
         "type": "scatter",
         "x": [
          79,
          85,
          88
         ],
         "y": [
          0.0101,
          0.0066,
          0.0044
         ]
        },
        {
         "hovertemplate": "VAF: %{y}",
         "mode": "lines",
         "name": "SRSF2 c.241G>C",
         "stackgroup": "one",
         "type": "scatter",
         "x": [
          79,
          85,
          88
         ],
         "y": [
          0.0081,
          0.0142,
          0.0144
         ]
        },
        {
         "hovertemplate": "VAF: %{y}",
         "mode": "lines",
         "name": "DNMT3A c.329A>C",
         "stackgroup": "one",
         "type": "scatter",
         "x": [
          79,
          85,
          88
         ],
         "y": [
          0.0057,
          0.0026,
          0.0108
         ]
        },
        {
         "hovertemplate": "VAF: %{y}",
         "mode": "lines",
         "name": "KMT2A c.149G>C",
         "stackgroup": "one",
         "type": "scatter",
         "x": [
          79,
          85,
          88
         ],
         "y": [
          0.0112,
          0.0044,
          0.0076
         ]
        },
        {
         "hovertemplate": "VAF: %{y}",
         "mode": "lines",
         "name": "NOTCH1 c.6729_6730inv",
         "stackgroup": "one",
         "type": "scatter",
         "x": [
          79,
          85,
          88
         ],
         "y": [
          0.0094,
          0.0105,
          0.0063
         ]
        },
        {
         "hovertemplate": "VAF: %{y}",
         "mode": "lines",
         "name": "NPM1 c.847-4C>T",
         "stackgroup": "one",
         "type": "scatter",
         "x": [
          79,
          85,
          88
         ],
         "y": [
          0.0102,
          0.0178,
          0.0157
         ]
        },
        {
         "hovertemplate": "VAF: %{y}",
         "mode": "lines",
         "name": "DDX41 c.1214G>A",
         "stackgroup": "one",
         "type": "scatter",
         "x": [
          79,
          85
         ],
         "y": [
          0.0155,
          0.0094
         ]
        },
        {
         "hovertemplate": "VAF: %{y}",
         "mode": "lines",
         "name": "DDX41 c.1213_1214delinsCA",
         "stackgroup": "one",
         "type": "scatter",
         "x": [
          79,
          88
         ],
         "y": [
          0.013,
          0.0108
         ]
        },
        {
         "hovertemplate": "VAF: %{y}",
         "mode": "lines",
         "name": "KMT2A c.140G>C",
         "stackgroup": "one",
         "type": "scatter",
         "x": [
          79,
          85,
          88
         ],
         "y": [
          0.0039,
          0.0091,
          0.0111
         ]
        },
        {
         "hovertemplate": "VAF: %{y}",
         "mode": "lines",
         "name": "TET2 c.2290dup",
         "stackgroup": "one",
         "type": "scatter",
         "x": [
          79,
          85,
          88
         ],
         "y": [
          0.0041,
          0.1061,
          0.107
         ]
        },
        {
         "hovertemplate": "VAF: %{y}",
         "mode": "lines",
         "name": "SRSF2 c.237G>C",
         "stackgroup": "one",
         "type": "scatter",
         "x": [
          79,
          85,
          88
         ],
         "y": [
          0.0062,
          0.0103,
          0.0109
         ]
        },
        {
         "hovertemplate": "VAF: %{y}",
         "mode": "lines",
         "name": "NF1 c.1527+14del",
         "stackgroup": "one",
         "type": "scatter",
         "x": [
          79,
          85,
          88
         ],
         "y": [
          0.0076,
          0.0104,
          0.0116
         ]
        }
       ],
       "layout": {
        "template": {
         "data": {
          "bar": [
           {
            "error_x": {
             "color": "#2a3f5f"
            },
            "error_y": {
             "color": "#2a3f5f"
            },
            "marker": {
             "line": {
              "color": "#E5ECF6",
              "width": 0.5
             }
            },
            "type": "bar"
           }
          ],
          "barpolar": [
           {
            "marker": {
             "line": {
              "color": "#E5ECF6",
              "width": 0.5
             }
            },
            "type": "barpolar"
           }
          ],
          "carpet": [
           {
            "aaxis": {
             "endlinecolor": "#2a3f5f",
             "gridcolor": "white",
             "linecolor": "white",
             "minorgridcolor": "white",
             "startlinecolor": "#2a3f5f"
            },
            "baxis": {
             "endlinecolor": "#2a3f5f",
             "gridcolor": "white",
             "linecolor": "white",
             "minorgridcolor": "white",
             "startlinecolor": "#2a3f5f"
            },
            "type": "carpet"
           }
          ],
          "choropleth": [
           {
            "colorbar": {
             "outlinewidth": 0,
             "ticks": ""
            },
            "type": "choropleth"
           }
          ],
          "contour": [
           {
            "colorbar": {
             "outlinewidth": 0,
             "ticks": ""
            },
            "colorscale": [
             [
              0,
              "#0d0887"
             ],
             [
              0.1111111111111111,
              "#46039f"
             ],
             [
              0.2222222222222222,
              "#7201a8"
             ],
             [
              0.3333333333333333,
              "#9c179e"
             ],
             [
              0.4444444444444444,
              "#bd3786"
             ],
             [
              0.5555555555555556,
              "#d8576b"
             ],
             [
              0.6666666666666666,
              "#ed7953"
             ],
             [
              0.7777777777777778,
              "#fb9f3a"
             ],
             [
              0.8888888888888888,
              "#fdca26"
             ],
             [
              1,
              "#f0f921"
             ]
            ],
            "type": "contour"
           }
          ],
          "contourcarpet": [
           {
            "colorbar": {
             "outlinewidth": 0,
             "ticks": ""
            },
            "type": "contourcarpet"
           }
          ],
          "heatmap": [
           {
            "colorbar": {
             "outlinewidth": 0,
             "ticks": ""
            },
            "colorscale": [
             [
              0,
              "#0d0887"
             ],
             [
              0.1111111111111111,
              "#46039f"
             ],
             [
              0.2222222222222222,
              "#7201a8"
             ],
             [
              0.3333333333333333,
              "#9c179e"
             ],
             [
              0.4444444444444444,
              "#bd3786"
             ],
             [
              0.5555555555555556,
              "#d8576b"
             ],
             [
              0.6666666666666666,
              "#ed7953"
             ],
             [
              0.7777777777777778,
              "#fb9f3a"
             ],
             [
              0.8888888888888888,
              "#fdca26"
             ],
             [
              1,
              "#f0f921"
             ]
            ],
            "type": "heatmap"
           }
          ],
          "heatmapgl": [
           {
            "colorbar": {
             "outlinewidth": 0,
             "ticks": ""
            },
            "colorscale": [
             [
              0,
              "#0d0887"
             ],
             [
              0.1111111111111111,
              "#46039f"
             ],
             [
              0.2222222222222222,
              "#7201a8"
             ],
             [
              0.3333333333333333,
              "#9c179e"
             ],
             [
              0.4444444444444444,
              "#bd3786"
             ],
             [
              0.5555555555555556,
              "#d8576b"
             ],
             [
              0.6666666666666666,
              "#ed7953"
             ],
             [
              0.7777777777777778,
              "#fb9f3a"
             ],
             [
              0.8888888888888888,
              "#fdca26"
             ],
             [
              1,
              "#f0f921"
             ]
            ],
            "type": "heatmapgl"
           }
          ],
          "histogram": [
           {
            "marker": {
             "colorbar": {
              "outlinewidth": 0,
              "ticks": ""
             }
            },
            "type": "histogram"
           }
          ],
          "histogram2d": [
           {
            "colorbar": {
             "outlinewidth": 0,
             "ticks": ""
            },
            "colorscale": [
             [
              0,
              "#0d0887"
             ],
             [
              0.1111111111111111,
              "#46039f"
             ],
             [
              0.2222222222222222,
              "#7201a8"
             ],
             [
              0.3333333333333333,
              "#9c179e"
             ],
             [
              0.4444444444444444,
              "#bd3786"
             ],
             [
              0.5555555555555556,
              "#d8576b"
             ],
             [
              0.6666666666666666,
              "#ed7953"
             ],
             [
              0.7777777777777778,
              "#fb9f3a"
             ],
             [
              0.8888888888888888,
              "#fdca26"
             ],
             [
              1,
              "#f0f921"
             ]
            ],
            "type": "histogram2d"
           }
          ],
          "histogram2dcontour": [
           {
            "colorbar": {
             "outlinewidth": 0,
             "ticks": ""
            },
            "colorscale": [
             [
              0,
              "#0d0887"
             ],
             [
              0.1111111111111111,
              "#46039f"
             ],
             [
              0.2222222222222222,
              "#7201a8"
             ],
             [
              0.3333333333333333,
              "#9c179e"
             ],
             [
              0.4444444444444444,
              "#bd3786"
             ],
             [
              0.5555555555555556,
              "#d8576b"
             ],
             [
              0.6666666666666666,
              "#ed7953"
             ],
             [
              0.7777777777777778,
              "#fb9f3a"
             ],
             [
              0.8888888888888888,
              "#fdca26"
             ],
             [
              1,
              "#f0f921"
             ]
            ],
            "type": "histogram2dcontour"
           }
          ],
          "mesh3d": [
           {
            "colorbar": {
             "outlinewidth": 0,
             "ticks": ""
            },
            "type": "mesh3d"
           }
          ],
          "parcoords": [
           {
            "line": {
             "colorbar": {
              "outlinewidth": 0,
              "ticks": ""
             }
            },
            "type": "parcoords"
           }
          ],
          "pie": [
           {
            "automargin": true,
            "type": "pie"
           }
          ],
          "scatter": [
           {
            "marker": {
             "colorbar": {
              "outlinewidth": 0,
              "ticks": ""
             }
            },
            "type": "scatter"
           }
          ],
          "scatter3d": [
           {
            "line": {
             "colorbar": {
              "outlinewidth": 0,
              "ticks": ""
             }
            },
            "marker": {
             "colorbar": {
              "outlinewidth": 0,
              "ticks": ""
             }
            },
            "type": "scatter3d"
           }
          ],
          "scattercarpet": [
           {
            "marker": {
             "colorbar": {
              "outlinewidth": 0,
              "ticks": ""
             }
            },
            "type": "scattercarpet"
           }
          ],
          "scattergeo": [
           {
            "marker": {
             "colorbar": {
              "outlinewidth": 0,
              "ticks": ""
             }
            },
            "type": "scattergeo"
           }
          ],
          "scattergl": [
           {
            "marker": {
             "colorbar": {
              "outlinewidth": 0,
              "ticks": ""
             }
            },
            "type": "scattergl"
           }
          ],
          "scattermapbox": [
           {
            "marker": {
             "colorbar": {
              "outlinewidth": 0,
              "ticks": ""
             }
            },
            "type": "scattermapbox"
           }
          ],
          "scatterpolar": [
           {
            "marker": {
             "colorbar": {
              "outlinewidth": 0,
              "ticks": ""
             }
            },
            "type": "scatterpolar"
           }
          ],
          "scatterpolargl": [
           {
            "marker": {
             "colorbar": {
              "outlinewidth": 0,
              "ticks": ""
             }
            },
            "type": "scatterpolargl"
           }
          ],
          "scatterternary": [
           {
            "marker": {
             "colorbar": {
              "outlinewidth": 0,
              "ticks": ""
             }
            },
            "type": "scatterternary"
           }
          ],
          "surface": [
           {
            "colorbar": {
             "outlinewidth": 0,
             "ticks": ""
            },
            "colorscale": [
             [
              0,
              "#0d0887"
             ],
             [
              0.1111111111111111,
              "#46039f"
             ],
             [
              0.2222222222222222,
              "#7201a8"
             ],
             [
              0.3333333333333333,
              "#9c179e"
             ],
             [
              0.4444444444444444,
              "#bd3786"
             ],
             [
              0.5555555555555556,
              "#d8576b"
             ],
             [
              0.6666666666666666,
              "#ed7953"
             ],
             [
              0.7777777777777778,
              "#fb9f3a"
             ],
             [
              0.8888888888888888,
              "#fdca26"
             ],
             [
              1,
              "#f0f921"
             ]
            ],
            "type": "surface"
           }
          ],
          "table": [
           {
            "cells": {
             "fill": {
              "color": "#EBF0F8"
             },
             "line": {
              "color": "white"
             }
            },
            "header": {
             "fill": {
              "color": "#C8D4E3"
             },
             "line": {
              "color": "white"
             }
            },
            "type": "table"
           }
          ]
         },
         "layout": {
          "annotationdefaults": {
           "arrowcolor": "#2a3f5f",
           "arrowhead": 0,
           "arrowwidth": 1
          },
          "coloraxis": {
           "colorbar": {
            "outlinewidth": 0,
            "ticks": ""
           }
          },
          "colorscale": {
           "diverging": [
            [
             0,
             "#8e0152"
            ],
            [
             0.1,
             "#c51b7d"
            ],
            [
             0.2,
             "#de77ae"
            ],
            [
             0.3,
             "#f1b6da"
            ],
            [
             0.4,
             "#fde0ef"
            ],
            [
             0.5,
             "#f7f7f7"
            ],
            [
             0.6,
             "#e6f5d0"
            ],
            [
             0.7,
             "#b8e186"
            ],
            [
             0.8,
             "#7fbc41"
            ],
            [
             0.9,
             "#4d9221"
            ],
            [
             1,
             "#276419"
            ]
           ],
           "sequential": [
            [
             0,
             "#0d0887"
            ],
            [
             0.1111111111111111,
             "#46039f"
            ],
            [
             0.2222222222222222,
             "#7201a8"
            ],
            [
             0.3333333333333333,
             "#9c179e"
            ],
            [
             0.4444444444444444,
             "#bd3786"
            ],
            [
             0.5555555555555556,
             "#d8576b"
            ],
            [
             0.6666666666666666,
             "#ed7953"
            ],
            [
             0.7777777777777778,
             "#fb9f3a"
            ],
            [
             0.8888888888888888,
             "#fdca26"
            ],
            [
             1,
             "#f0f921"
            ]
           ],
           "sequentialminus": [
            [
             0,
             "#0d0887"
            ],
            [
             0.1111111111111111,
             "#46039f"
            ],
            [
             0.2222222222222222,
             "#7201a8"
            ],
            [
             0.3333333333333333,
             "#9c179e"
            ],
            [
             0.4444444444444444,
             "#bd3786"
            ],
            [
             0.5555555555555556,
             "#d8576b"
            ],
            [
             0.6666666666666666,
             "#ed7953"
            ],
            [
             0.7777777777777778,
             "#fb9f3a"
            ],
            [
             0.8888888888888888,
             "#fdca26"
            ],
            [
             1,
             "#f0f921"
            ]
           ]
          },
          "colorway": [
           "#636efa",
           "#EF553B",
           "#00cc96",
           "#ab63fa",
           "#FFA15A",
           "#19d3f3",
           "#FF6692",
           "#B6E880",
           "#FF97FF",
           "#FECB52"
          ],
          "font": {
           "color": "#2a3f5f"
          },
          "geo": {
           "bgcolor": "white",
           "lakecolor": "white",
           "landcolor": "#E5ECF6",
           "showlakes": true,
           "showland": true,
           "subunitcolor": "white"
          },
          "hoverlabel": {
           "align": "left"
          },
          "hovermode": "closest",
          "mapbox": {
           "style": "light"
          },
          "paper_bgcolor": "white",
          "plot_bgcolor": "#E5ECF6",
          "polar": {
           "angularaxis": {
            "gridcolor": "white",
            "linecolor": "white",
            "ticks": ""
           },
           "bgcolor": "#E5ECF6",
           "radialaxis": {
            "gridcolor": "white",
            "linecolor": "white",
            "ticks": ""
           }
          },
          "scene": {
           "xaxis": {
            "backgroundcolor": "#E5ECF6",
            "gridcolor": "white",
            "gridwidth": 2,
            "linecolor": "white",
            "showbackground": true,
            "ticks": "",
            "zerolinecolor": "white"
           },
           "yaxis": {
            "backgroundcolor": "#E5ECF6",
            "gridcolor": "white",
            "gridwidth": 2,
            "linecolor": "white",
            "showbackground": true,
            "ticks": "",
            "zerolinecolor": "white"
           },
           "zaxis": {
            "backgroundcolor": "#E5ECF6",
            "gridcolor": "white",
            "gridwidth": 2,
            "linecolor": "white",
            "showbackground": true,
            "ticks": "",
            "zerolinecolor": "white"
           }
          },
          "shapedefaults": {
           "line": {
            "color": "#2a3f5f"
           }
          },
          "ternary": {
           "aaxis": {
            "gridcolor": "white",
            "linecolor": "white",
            "ticks": ""
           },
           "baxis": {
            "gridcolor": "white",
            "linecolor": "white",
            "ticks": ""
           },
           "bgcolor": "#E5ECF6",
           "caxis": {
            "gridcolor": "white",
            "linecolor": "white",
            "ticks": ""
           }
          },
          "title": {
           "x": 0.05
          },
          "xaxis": {
           "automargin": true,
           "gridcolor": "white",
           "linecolor": "white",
           "ticks": "",
           "title": {
            "standoff": 15
           },
           "zerolinecolor": "white",
           "zerolinewidth": 2
          },
          "yaxis": {
           "automargin": true,
           "gridcolor": "white",
           "linecolor": "white",
           "ticks": "",
           "title": {
            "standoff": 15
           },
           "zerolinecolor": "white",
           "zerolinewidth": 2
          }
         }
        }
       }
      },
      "text/html": [
       "<div>\n",
       "        \n",
       "        \n",
       "            <div id=\"bedf461a-760b-4593-aa6b-b5dee36313e0\" class=\"plotly-graph-div\" style=\"height:525px; width:100%;\"></div>\n",
       "            <script type=\"text/javascript\">\n",
       "                require([\"plotly\"], function(Plotly) {\n",
       "                    window.PLOTLYENV=window.PLOTLYENV || {};\n",
       "                    \n",
       "                if (document.getElementById(\"bedf461a-760b-4593-aa6b-b5dee36313e0\")) {\n",
       "                    Plotly.newPlot(\n",
       "                        'bedf461a-760b-4593-aa6b-b5dee36313e0',\n",
       "                        [{\"hovertemplate\": \"VAF: %{y}\", \"mode\": \"lines\", \"name\": \"STAG2 c.1018C>A\", \"stackgroup\": \"one\", \"type\": \"scatter\", \"x\": [79, 85, 88], \"y\": [0.0231, 0.0183, 0.0117]}, {\"hovertemplate\": \"VAF: %{y}\", \"mode\": \"lines\", \"name\": \"NOTCH1 c.6717_6718inv\", \"stackgroup\": \"one\", \"type\": \"scatter\", \"x\": [79, 85, 88], \"y\": [0.0095, 0.0106, 0.0064]}, {\"hovertemplate\": \"VAF: %{y}\", \"mode\": \"lines\", \"name\": \"ATRX c.2454C>G\", \"stackgroup\": \"one\", \"type\": \"scatter\", \"x\": [79, 85, 88], \"y\": [0.0034, 0.01, 0.0061]}, {\"hovertemplate\": \"VAF: %{y}\", \"mode\": \"lines\", \"name\": \"RAD21 c.56T>C\", \"stackgroup\": \"one\", \"type\": \"scatter\", \"x\": [79, 85, 88], \"y\": [0.0073, 0.0102, 0.0061]}, {\"hovertemplate\": \"VAF: %{y}\", \"mode\": \"lines\", \"name\": \"NOTCH1 c.4732_4734del\", \"stackgroup\": \"one\", \"type\": \"scatter\", \"x\": [79, 85, 88], \"y\": [0.005, 0.0109, 0.0033]}, {\"hovertemplate\": \"VAF: %{y}\", \"mode\": \"lines\", \"name\": \"SRSF2 c.239T>A\", \"stackgroup\": \"one\", \"type\": \"scatter\", \"x\": [79, 85, 88], \"y\": [0.0091, 0.0136, 0.0142]}, {\"hovertemplate\": \"VAF: %{y}\", \"mode\": \"lines\", \"name\": \"SRSF2 c.248G>C\", \"stackgroup\": \"one\", \"type\": \"scatter\", \"x\": [79, 85, 88], \"y\": [0.0088, 0.0137, 0.0139]}, {\"hovertemplate\": \"VAF: %{y}\", \"mode\": \"lines\", \"name\": \"TET2 c.*3944dup\", \"stackgroup\": \"one\", \"type\": \"scatter\", \"x\": [85, 88], \"y\": [0.0115, 0.0074]}, {\"hovertemplate\": \"VAF: %{y}\", \"mode\": \"lines\", \"name\": \"NOTCH1 c.6723_6724inv\", \"stackgroup\": \"one\", \"type\": \"scatter\", \"x\": [79, 85, 88], \"y\": [0.0095, 0.0105, 0.0063]}, {\"hovertemplate\": \"VAF: %{y}\", \"mode\": \"lines\", \"name\": \"KMT2A c.157G>C\", \"stackgroup\": \"one\", \"type\": \"scatter\", \"x\": [79, 85, 88], \"y\": [0.0109, 0.0045, 0.0092]}, {\"hovertemplate\": \"VAF: %{y}\", \"mode\": \"lines\", \"name\": \"CUX1 c.1255+6492A>G\", \"stackgroup\": \"one\", \"type\": \"scatter\", \"x\": [79, 88], \"y\": [0.0064, 0.0109]}, {\"hovertemplate\": \"VAF: %{y}\", \"mode\": \"lines\", \"name\": \"TET2 c.705del\", \"stackgroup\": \"one\", \"type\": \"scatter\", \"x\": [85, 88], \"y\": [0.1589, 0.2135]}, {\"hovertemplate\": \"VAF: %{y}\", \"mode\": \"lines\", \"name\": \"DNMT3A c.326_327inv\", \"stackgroup\": \"one\", \"type\": \"scatter\", \"x\": [79, 88], \"y\": [0.0064, 0.0108]}, {\"hovertemplate\": \"VAF: %{y}\", \"mode\": \"lines\", \"name\": \"JAK3 c.2490+7T>G\", \"stackgroup\": \"one\", \"type\": \"scatter\", \"x\": [79, 85, 88], \"y\": [0.0101, 0.0066, 0.0044]}, {\"hovertemplate\": \"VAF: %{y}\", \"mode\": \"lines\", \"name\": \"SRSF2 c.241G>C\", \"stackgroup\": \"one\", \"type\": \"scatter\", \"x\": [79, 85, 88], \"y\": [0.0081, 0.0142, 0.0144]}, {\"hovertemplate\": \"VAF: %{y}\", \"mode\": \"lines\", \"name\": \"DNMT3A c.329A>C\", \"stackgroup\": \"one\", \"type\": \"scatter\", \"x\": [79, 85, 88], \"y\": [0.0057, 0.0026, 0.0108]}, {\"hovertemplate\": \"VAF: %{y}\", \"mode\": \"lines\", \"name\": \"KMT2A c.149G>C\", \"stackgroup\": \"one\", \"type\": \"scatter\", \"x\": [79, 85, 88], \"y\": [0.0112, 0.0044, 0.0076]}, {\"hovertemplate\": \"VAF: %{y}\", \"mode\": \"lines\", \"name\": \"NOTCH1 c.6729_6730inv\", \"stackgroup\": \"one\", \"type\": \"scatter\", \"x\": [79, 85, 88], \"y\": [0.0094, 0.0105, 0.0063]}, {\"hovertemplate\": \"VAF: %{y}\", \"mode\": \"lines\", \"name\": \"NPM1 c.847-4C>T\", \"stackgroup\": \"one\", \"type\": \"scatter\", \"x\": [79, 85, 88], \"y\": [0.0102, 0.0178, 0.0157]}, {\"hovertemplate\": \"VAF: %{y}\", \"mode\": \"lines\", \"name\": \"DDX41 c.1214G>A\", \"stackgroup\": \"one\", \"type\": \"scatter\", \"x\": [79, 85], \"y\": [0.0155, 0.0094]}, {\"hovertemplate\": \"VAF: %{y}\", \"mode\": \"lines\", \"name\": \"DDX41 c.1213_1214delinsCA\", \"stackgroup\": \"one\", \"type\": \"scatter\", \"x\": [79, 88], \"y\": [0.013, 0.0108]}, {\"hovertemplate\": \"VAF: %{y}\", \"mode\": \"lines\", \"name\": \"KMT2A c.140G>C\", \"stackgroup\": \"one\", \"type\": \"scatter\", \"x\": [79, 85, 88], \"y\": [0.0039, 0.0091, 0.0111]}, {\"hovertemplate\": \"VAF: %{y}\", \"mode\": \"lines\", \"name\": \"TET2 c.2290dup\", \"stackgroup\": \"one\", \"type\": \"scatter\", \"x\": [79, 85, 88], \"y\": [0.0041, 0.1061, 0.107]}, {\"hovertemplate\": \"VAF: %{y}\", \"mode\": \"lines\", \"name\": \"SRSF2 c.237G>C\", \"stackgroup\": \"one\", \"type\": \"scatter\", \"x\": [79, 85, 88], \"y\": [0.0062, 0.0103, 0.0109]}, {\"hovertemplate\": \"VAF: %{y}\", \"mode\": \"lines\", \"name\": \"NF1 c.1527+14del\", \"stackgroup\": \"one\", \"type\": \"scatter\", \"x\": [79, 85, 88], \"y\": [0.0076, 0.0104, 0.0116]}],\n",
       "                        {\"template\": {\"data\": {\"bar\": [{\"error_x\": {\"color\": \"#2a3f5f\"}, \"error_y\": {\"color\": \"#2a3f5f\"}, \"marker\": {\"line\": {\"color\": \"#E5ECF6\", \"width\": 0.5}}, \"type\": \"bar\"}], \"barpolar\": [{\"marker\": {\"line\": {\"color\": \"#E5ECF6\", \"width\": 0.5}}, \"type\": \"barpolar\"}], \"carpet\": [{\"aaxis\": {\"endlinecolor\": \"#2a3f5f\", \"gridcolor\": \"white\", \"linecolor\": \"white\", \"minorgridcolor\": \"white\", \"startlinecolor\": \"#2a3f5f\"}, \"baxis\": {\"endlinecolor\": \"#2a3f5f\", \"gridcolor\": \"white\", \"linecolor\": \"white\", \"minorgridcolor\": \"white\", \"startlinecolor\": \"#2a3f5f\"}, \"type\": \"carpet\"}], \"choropleth\": [{\"colorbar\": {\"outlinewidth\": 0, \"ticks\": \"\"}, \"type\": \"choropleth\"}], \"contour\": [{\"colorbar\": {\"outlinewidth\": 0, \"ticks\": \"\"}, \"colorscale\": [[0.0, \"#0d0887\"], [0.1111111111111111, \"#46039f\"], [0.2222222222222222, \"#7201a8\"], [0.3333333333333333, \"#9c179e\"], [0.4444444444444444, \"#bd3786\"], [0.5555555555555556, \"#d8576b\"], [0.6666666666666666, \"#ed7953\"], [0.7777777777777778, \"#fb9f3a\"], [0.8888888888888888, \"#fdca26\"], [1.0, \"#f0f921\"]], \"type\": \"contour\"}], \"contourcarpet\": [{\"colorbar\": {\"outlinewidth\": 0, \"ticks\": \"\"}, \"type\": \"contourcarpet\"}], \"heatmap\": [{\"colorbar\": {\"outlinewidth\": 0, \"ticks\": \"\"}, \"colorscale\": [[0.0, \"#0d0887\"], [0.1111111111111111, \"#46039f\"], [0.2222222222222222, \"#7201a8\"], [0.3333333333333333, \"#9c179e\"], [0.4444444444444444, \"#bd3786\"], [0.5555555555555556, \"#d8576b\"], [0.6666666666666666, \"#ed7953\"], [0.7777777777777778, \"#fb9f3a\"], [0.8888888888888888, \"#fdca26\"], [1.0, \"#f0f921\"]], \"type\": \"heatmap\"}], \"heatmapgl\": [{\"colorbar\": {\"outlinewidth\": 0, \"ticks\": \"\"}, \"colorscale\": [[0.0, \"#0d0887\"], [0.1111111111111111, \"#46039f\"], [0.2222222222222222, \"#7201a8\"], [0.3333333333333333, \"#9c179e\"], [0.4444444444444444, \"#bd3786\"], [0.5555555555555556, \"#d8576b\"], [0.6666666666666666, \"#ed7953\"], [0.7777777777777778, \"#fb9f3a\"], [0.8888888888888888, \"#fdca26\"], [1.0, \"#f0f921\"]], \"type\": \"heatmapgl\"}], \"histogram\": [{\"marker\": {\"colorbar\": {\"outlinewidth\": 0, \"ticks\": \"\"}}, \"type\": \"histogram\"}], \"histogram2d\": [{\"colorbar\": {\"outlinewidth\": 0, \"ticks\": \"\"}, \"colorscale\": [[0.0, \"#0d0887\"], [0.1111111111111111, \"#46039f\"], [0.2222222222222222, \"#7201a8\"], [0.3333333333333333, \"#9c179e\"], [0.4444444444444444, \"#bd3786\"], [0.5555555555555556, \"#d8576b\"], [0.6666666666666666, \"#ed7953\"], [0.7777777777777778, \"#fb9f3a\"], [0.8888888888888888, \"#fdca26\"], [1.0, \"#f0f921\"]], \"type\": \"histogram2d\"}], \"histogram2dcontour\": [{\"colorbar\": {\"outlinewidth\": 0, \"ticks\": \"\"}, \"colorscale\": [[0.0, \"#0d0887\"], [0.1111111111111111, \"#46039f\"], [0.2222222222222222, \"#7201a8\"], [0.3333333333333333, \"#9c179e\"], [0.4444444444444444, \"#bd3786\"], [0.5555555555555556, \"#d8576b\"], [0.6666666666666666, \"#ed7953\"], [0.7777777777777778, \"#fb9f3a\"], [0.8888888888888888, \"#fdca26\"], [1.0, \"#f0f921\"]], \"type\": \"histogram2dcontour\"}], \"mesh3d\": [{\"colorbar\": {\"outlinewidth\": 0, \"ticks\": \"\"}, \"type\": \"mesh3d\"}], \"parcoords\": [{\"line\": {\"colorbar\": {\"outlinewidth\": 0, \"ticks\": \"\"}}, \"type\": \"parcoords\"}], \"pie\": [{\"automargin\": true, \"type\": \"pie\"}], \"scatter\": [{\"marker\": {\"colorbar\": {\"outlinewidth\": 0, \"ticks\": \"\"}}, \"type\": \"scatter\"}], \"scatter3d\": [{\"line\": {\"colorbar\": {\"outlinewidth\": 0, \"ticks\": \"\"}}, \"marker\": {\"colorbar\": {\"outlinewidth\": 0, \"ticks\": \"\"}}, \"type\": \"scatter3d\"}], \"scattercarpet\": [{\"marker\": {\"colorbar\": {\"outlinewidth\": 0, \"ticks\": \"\"}}, \"type\": \"scattercarpet\"}], \"scattergeo\": [{\"marker\": {\"colorbar\": {\"outlinewidth\": 0, \"ticks\": \"\"}}, \"type\": \"scattergeo\"}], \"scattergl\": [{\"marker\": {\"colorbar\": {\"outlinewidth\": 0, \"ticks\": \"\"}}, \"type\": \"scattergl\"}], \"scattermapbox\": [{\"marker\": {\"colorbar\": {\"outlinewidth\": 0, \"ticks\": \"\"}}, \"type\": \"scattermapbox\"}], \"scatterpolar\": [{\"marker\": {\"colorbar\": {\"outlinewidth\": 0, \"ticks\": \"\"}}, \"type\": \"scatterpolar\"}], \"scatterpolargl\": [{\"marker\": {\"colorbar\": {\"outlinewidth\": 0, \"ticks\": \"\"}}, \"type\": \"scatterpolargl\"}], \"scatterternary\": [{\"marker\": {\"colorbar\": {\"outlinewidth\": 0, \"ticks\": \"\"}}, \"type\": \"scatterternary\"}], \"surface\": [{\"colorbar\": {\"outlinewidth\": 0, \"ticks\": \"\"}, \"colorscale\": [[0.0, \"#0d0887\"], [0.1111111111111111, \"#46039f\"], [0.2222222222222222, \"#7201a8\"], [0.3333333333333333, \"#9c179e\"], [0.4444444444444444, \"#bd3786\"], [0.5555555555555556, \"#d8576b\"], [0.6666666666666666, \"#ed7953\"], [0.7777777777777778, \"#fb9f3a\"], [0.8888888888888888, \"#fdca26\"], [1.0, \"#f0f921\"]], \"type\": \"surface\"}], \"table\": [{\"cells\": {\"fill\": {\"color\": \"#EBF0F8\"}, \"line\": {\"color\": \"white\"}}, \"header\": {\"fill\": {\"color\": \"#C8D4E3\"}, \"line\": {\"color\": \"white\"}}, \"type\": \"table\"}]}, \"layout\": {\"annotationdefaults\": {\"arrowcolor\": \"#2a3f5f\", \"arrowhead\": 0, \"arrowwidth\": 1}, \"coloraxis\": {\"colorbar\": {\"outlinewidth\": 0, \"ticks\": \"\"}}, \"colorscale\": {\"diverging\": [[0, \"#8e0152\"], [0.1, \"#c51b7d\"], [0.2, \"#de77ae\"], [0.3, \"#f1b6da\"], [0.4, \"#fde0ef\"], [0.5, \"#f7f7f7\"], [0.6, \"#e6f5d0\"], [0.7, \"#b8e186\"], [0.8, \"#7fbc41\"], [0.9, \"#4d9221\"], [1, \"#276419\"]], \"sequential\": [[0.0, \"#0d0887\"], [0.1111111111111111, \"#46039f\"], [0.2222222222222222, \"#7201a8\"], [0.3333333333333333, \"#9c179e\"], [0.4444444444444444, \"#bd3786\"], [0.5555555555555556, \"#d8576b\"], [0.6666666666666666, \"#ed7953\"], [0.7777777777777778, \"#fb9f3a\"], [0.8888888888888888, \"#fdca26\"], [1.0, \"#f0f921\"]], \"sequentialminus\": [[0.0, \"#0d0887\"], [0.1111111111111111, \"#46039f\"], [0.2222222222222222, \"#7201a8\"], [0.3333333333333333, \"#9c179e\"], [0.4444444444444444, \"#bd3786\"], [0.5555555555555556, \"#d8576b\"], [0.6666666666666666, \"#ed7953\"], [0.7777777777777778, \"#fb9f3a\"], [0.8888888888888888, \"#fdca26\"], [1.0, \"#f0f921\"]]}, \"colorway\": [\"#636efa\", \"#EF553B\", \"#00cc96\", \"#ab63fa\", \"#FFA15A\", \"#19d3f3\", \"#FF6692\", \"#B6E880\", \"#FF97FF\", \"#FECB52\"], \"font\": {\"color\": \"#2a3f5f\"}, \"geo\": {\"bgcolor\": \"white\", \"lakecolor\": \"white\", \"landcolor\": \"#E5ECF6\", \"showlakes\": true, \"showland\": true, \"subunitcolor\": \"white\"}, \"hoverlabel\": {\"align\": \"left\"}, \"hovermode\": \"closest\", \"mapbox\": {\"style\": \"light\"}, \"paper_bgcolor\": \"white\", \"plot_bgcolor\": \"#E5ECF6\", \"polar\": {\"angularaxis\": {\"gridcolor\": \"white\", \"linecolor\": \"white\", \"ticks\": \"\"}, \"bgcolor\": \"#E5ECF6\", \"radialaxis\": {\"gridcolor\": \"white\", \"linecolor\": \"white\", \"ticks\": \"\"}}, \"scene\": {\"xaxis\": {\"backgroundcolor\": \"#E5ECF6\", \"gridcolor\": \"white\", \"gridwidth\": 2, \"linecolor\": \"white\", \"showbackground\": true, \"ticks\": \"\", \"zerolinecolor\": \"white\"}, \"yaxis\": {\"backgroundcolor\": \"#E5ECF6\", \"gridcolor\": \"white\", \"gridwidth\": 2, \"linecolor\": \"white\", \"showbackground\": true, \"ticks\": \"\", \"zerolinecolor\": \"white\"}, \"zaxis\": {\"backgroundcolor\": \"#E5ECF6\", \"gridcolor\": \"white\", \"gridwidth\": 2, \"linecolor\": \"white\", \"showbackground\": true, \"ticks\": \"\", \"zerolinecolor\": \"white\"}}, \"shapedefaults\": {\"line\": {\"color\": \"#2a3f5f\"}}, \"ternary\": {\"aaxis\": {\"gridcolor\": \"white\", \"linecolor\": \"white\", \"ticks\": \"\"}, \"baxis\": {\"gridcolor\": \"white\", \"linecolor\": \"white\", \"ticks\": \"\"}, \"bgcolor\": \"#E5ECF6\", \"caxis\": {\"gridcolor\": \"white\", \"linecolor\": \"white\", \"ticks\": \"\"}}, \"title\": {\"x\": 0.05}, \"xaxis\": {\"automargin\": true, \"gridcolor\": \"white\", \"linecolor\": \"white\", \"ticks\": \"\", \"title\": {\"standoff\": 15}, \"zerolinecolor\": \"white\", \"zerolinewidth\": 2}, \"yaxis\": {\"automargin\": true, \"gridcolor\": \"white\", \"linecolor\": \"white\", \"ticks\": \"\", \"title\": {\"standoff\": 15}, \"zerolinecolor\": \"white\", \"zerolinewidth\": 2}}}},\n",
       "                        {\"responsive\": true}\n",
       "                    ).then(function(){\n",
       "                            \n",
       "var gd = document.getElementById('bedf461a-760b-4593-aa6b-b5dee36313e0');\n",
       "var x = new MutationObserver(function (mutations, observer) {{\n",
       "        var display = window.getComputedStyle(gd).display;\n",
       "        if (!display || display === 'none') {{\n",
       "            console.log([gd, 'removed!']);\n",
       "            Plotly.purge(gd);\n",
       "            observer.disconnect();\n",
       "        }}\n",
       "}});\n",
       "\n",
       "// Listen for the removal of the full notebook cells\n",
       "var notebookContainer = gd.closest('#notebook-container');\n",
       "if (notebookContainer) {{\n",
       "    x.observe(notebookContainer, {childList: true});\n",
       "}}\n",
       "\n",
       "// Listen for the clearing of the current output cell\n",
       "var outputEl = gd.closest('.output');\n",
       "if (outputEl) {{\n",
       "    x.observe(outputEl, {childList: true});\n",
       "}}\n",
       "\n",
       "                        })\n",
       "                };\n",
       "                });\n",
       "            </script>\n",
       "        </div>"
      ]
     },
     "metadata": {},
     "output_type": "display_data"
    }
   ],
   "source": [
    "plot.stack_plot(lbc[0], norm=False) # norm = True uses the % of the total contribution rather than VAF"
   ]
  },
  {
   "cell_type": "markdown",
   "metadata": {},
   "source": [
    "### Mutation trajectories\n",
    "\n",
    "We can plot all trajectories present in the cohort containing a mutation in a gene using **plot.mutation**."
   ]
  },
  {
   "cell_type": "code",
   "execution_count": 10,
   "metadata": {},
   "outputs": [
    {
     "data": {
      "application/vnd.plotly.v1+json": {
       "config": {
        "plotlyServerURL": "https://plot.ly"
       },
       "data": [
        {
         "hovertemplate": "LBC0001A",
         "mode": "lines+markers",
         "name": "DNMT3A c.326_327inv",
         "type": "scatter",
         "x": [
          79,
          88
         ],
         "y": [
          0.0064,
          0.0108
         ]
        },
        {
         "hovertemplate": "LBC0001A",
         "mode": "lines+markers",
         "name": "DNMT3A c.329A>C",
         "type": "scatter",
         "x": [
          79,
          85,
          88
         ],
         "y": [
          0.0057,
          0.0026,
          0.0108
         ]
        },
        {
         "hovertemplate": "LBC0031R",
         "mode": "lines+markers",
         "name": "DNMT3A c.2306T>G",
         "type": "scatter",
         "x": [
          79,
          85,
          88,
          91
         ],
         "y": [
          0.0279,
          0.015,
          0.0257,
          0.0168
         ]
        },
        {
         "hovertemplate": "LBC0031R",
         "mode": "lines+markers",
         "name": "DNMT3A c.19A>C",
         "type": "scatter",
         "x": [
          79,
          85,
          88,
          91
         ],
         "y": [
          0.017,
          0.0067,
          0.0053,
          0.0038
         ]
        },
        {
         "hovertemplate": "LBC0031R",
         "mode": "lines+markers",
         "name": "DNMT3A c.1736A>C",
         "type": "scatter",
         "x": [
          85,
          88,
          91
         ],
         "y": [
          0.0077,
          0.0127,
          0.0073
         ]
        },
        {
         "hovertemplate": "LBC0040V",
         "mode": "lines+markers",
         "name": "DNMT3A c.1903C>T",
         "type": "scatter",
         "x": [
          79,
          85
         ],
         "y": [
          0.0132,
          0.0082
         ]
        },
        {
         "hovertemplate": "LBC0040V",
         "mode": "lines+markers",
         "name": "DNMT3A c.1668-3C>G",
         "type": "scatter",
         "x": [
          79,
          85
         ],
         "y": [
          0.024,
          0.4328
         ]
        },
        {
         "hovertemplate": "LBC0046H",
         "mode": "lines+markers",
         "name": "DNMT3A c.2120del",
         "type": "scatter",
         "x": [
          79,
          91
         ],
         "y": [
          0.0107,
          0.0025
         ]
        },
        {
         "hovertemplate": "LBC0046H",
         "mode": "lines+markers",
         "name": "DNMT3A c.356A>C",
         "type": "scatter",
         "x": [
          85,
          88,
          91
         ],
         "y": [
          0.012,
          0.0116,
          0.0102
         ]
        },
        {
         "hovertemplate": "LBC0046H",
         "mode": "lines+markers",
         "name": "DNMT3A c.331A>C",
         "type": "scatter",
         "x": [
          85,
          88,
          91
         ],
         "y": [
          0.012,
          0.0086,
          0.0103
         ]
        },
        {
         "hovertemplate": "LBC0047K",
         "mode": "lines+markers",
         "name": "DNMT3A c.2517del",
         "type": "scatter",
         "x": [
          79,
          85
         ],
         "y": [
          0.3609,
          0.444
         ]
        },
        {
         "hovertemplate": "LBC0065A",
         "mode": "lines+markers",
         "name": "DNMT3A c.639+2T>G",
         "type": "scatter",
         "x": [
          85,
          88
         ],
         "y": [
          0.0044,
          0.0105
         ]
        },
        {
         "hovertemplate": "LBC0065A",
         "mode": "lines+markers",
         "name": "DNMT3A c.19A>C",
         "type": "scatter",
         "x": [
          79,
          85,
          88,
          91
         ],
         "y": [
          0.0119,
          0.0033,
          0.0092,
          0.003
         ]
        },
        {
         "hovertemplate": "LBC0065A",
         "mode": "lines+markers",
         "name": "DNMT3A c.43T>G",
         "type": "scatter",
         "x": [
          88,
          91
         ],
         "y": [
          0.0102,
          0.0029
         ]
        },
        {
         "hovertemplate": "LBC0065A",
         "mode": "lines+markers",
         "name": "DNMT3A c.1973A>C",
         "type": "scatter",
         "x": [
          79,
          85,
          88,
          91
         ],
         "y": [
          0.0122,
          0.0029,
          0.0076,
          0.004
         ]
        },
        {
         "hovertemplate": "LBC0065A",
         "mode": "lines+markers",
         "name": "DNMT3A c.794T>G",
         "type": "scatter",
         "x": [
          79,
          85,
          88,
          91
         ],
         "y": [
          0.0108,
          0.0042,
          0.0108,
          0.0051
         ]
        },
        {
         "hovertemplate": "LBC0065A",
         "mode": "lines+markers",
         "name": "DNMT3A c.59A>G",
         "type": "scatter",
         "x": [
          79,
          85
         ],
         "y": [
          0.011,
          0.0028
         ]
        },
        {
         "hovertemplate": "LBC0065A",
         "mode": "lines+markers",
         "name": "DNMT3A c.1A>C",
         "type": "scatter",
         "x": [
          88,
          91
         ],
         "y": [
          0.0101,
          0.0026
         ]
        },
        {
         "hovertemplate": "LBC0065A",
         "mode": "lines+markers",
         "name": "DNMT3A c.2003A>C",
         "type": "scatter",
         "x": [
          79,
          85,
          88,
          91
         ],
         "y": [
          0.011,
          0.0044,
          0.0072,
          0.0036
         ]
        },
        {
         "hovertemplate": "LBC0065A",
         "mode": "lines+markers",
         "name": "DNMT3A c.356A>C",
         "type": "scatter",
         "x": [
          85,
          88,
          91
         ],
         "y": [
          0.0087,
          0.0105,
          0.0073
         ]
        },
        {
         "hovertemplate": "LBC0065A",
         "mode": "lines+markers",
         "name": "DNMT3A c.2674T>G",
         "type": "scatter",
         "x": [
          79,
          85,
          88
         ],
         "y": [
          0.01,
          0.0023,
          0.0048
         ]
        },
        {
         "hovertemplate": "LBC0065A",
         "mode": "lines+markers",
         "name": "DNMT3A c.331A>C",
         "type": "scatter",
         "x": [
          85,
          88,
          91
         ],
         "y": [
          0.0097,
          0.0105,
          0.0045
         ]
        },
        {
         "hovertemplate": "LBC0068H",
         "mode": "lines+markers",
         "name": "DNMT3A c.2390A>G",
         "type": "scatter",
         "x": [
          79,
          85
         ],
         "y": [
          0.1367,
          0.1412
         ]
        },
        {
         "hovertemplate": "LBC0068H",
         "mode": "lines+markers",
         "name": "DNMT3A c.2243_2259del",
         "type": "scatter",
         "x": [
          79,
          85
         ],
         "y": [
          0.0353,
          0.0924
         ]
        },
        {
         "hovertemplate": "LBC0102H",
         "mode": "lines+markers",
         "name": "DNMT3A c.1973A>C",
         "type": "scatter",
         "x": [
          79,
          85,
          88,
          91
         ],
         "y": [
          0.0102,
          0.0059,
          0.0051,
          0.0061
         ]
        },
        {
         "hovertemplate": "LBC0102H",
         "mode": "lines+markers",
         "name": "DNMT3A c.422A>C",
         "type": "scatter",
         "x": [
          79,
          85,
          91
         ],
         "y": [
          0.0197,
          0.0038,
          0.0019
         ]
        },
        {
         "hovertemplate": "LBC0102H",
         "mode": "lines+markers",
         "name": "DNMT3A c.2093G>A",
         "type": "scatter",
         "x": [
          79,
          85,
          88,
          91
         ],
         "y": [
          0.0122,
          0.0061,
          0.0052,
          0.0057
         ]
        },
        {
         "hovertemplate": "LBC0111B",
         "mode": "lines+markers",
         "name": "DNMT3A c.1258A>T",
         "type": "scatter",
         "x": [
          79,
          85,
          88
         ],
         "y": [
          0.0115,
          0.0082,
          0.0035
         ]
        },
        {
         "hovertemplate": "LBC0118V",
         "mode": "lines+markers",
         "name": "DNMT3A c.19A>C",
         "type": "scatter",
         "x": [
          79,
          85,
          88,
          91
         ],
         "y": [
          0.0081,
          0.0034,
          0.0133,
          0.0027
         ]
        },
        {
         "hovertemplate": "LBC0118V",
         "mode": "lines+markers",
         "name": "DNMT3A c.1973A>C",
         "type": "scatter",
         "x": [
          79,
          85,
          88,
          91
         ],
         "y": [
          0.0108,
          0.0038,
          0.0107,
          0.0024
         ]
        },
        {
         "hovertemplate": "LBC0118V",
         "mode": "lines+markers",
         "name": "DNMT3A c.992T>G",
         "type": "scatter",
         "x": [
          85,
          88
         ],
         "y": [
          0.0035,
          0.0112
         ]
        },
        {
         "hovertemplate": "LBC0118V",
         "mode": "lines+markers",
         "name": "DNMT3A c.370A>C",
         "type": "scatter",
         "x": [
          85,
          91
         ],
         "y": [
          0.0108,
          0.0077
         ]
        },
        {
         "hovertemplate": "LBC0118V",
         "mode": "lines+markers",
         "name": "DNMT3A c.794T>G",
         "type": "scatter",
         "x": [
          85,
          88,
          91
         ],
         "y": [
          0.0044,
          0.0111,
          0.0042
         ]
        },
        {
         "hovertemplate": "LBC0118V",
         "mode": "lines+markers",
         "name": "DNMT3A c.331A>C",
         "type": "scatter",
         "x": [
          85,
          88,
          91
         ],
         "y": [
          0.0108,
          0.0093,
          0.0088
         ]
        },
        {
         "hovertemplate": "LBC0118V",
         "mode": "lines+markers",
         "name": "DNMT3A c.356A>C",
         "type": "scatter",
         "x": [
          79,
          85,
          88
         ],
         "y": [
          0.0318,
          0.0032,
          0.0088
         ]
        },
        {
         "hovertemplate": "LBC0144B",
         "mode": "lines+markers",
         "name": "DNMT3A c.332A>C",
         "type": "scatter",
         "x": [
          85,
          88,
          91
         ],
         "y": [
          0.0063,
          0.0118,
          0.0044
         ]
        },
        {
         "hovertemplate": "LBC0144B",
         "mode": "lines+markers",
         "name": "DNMT3A c.682G>A",
         "type": "scatter",
         "x": [
          79,
          91
         ],
         "y": [
          0.0114,
          0.0014
         ]
        },
        {
         "hovertemplate": "LBC0144B",
         "mode": "lines+markers",
         "name": "DNMT3A c.1522dup",
         "type": "scatter",
         "x": [
          79,
          85
         ],
         "y": [
          0.0201,
          0.0014
         ]
        },
        {
         "hovertemplate": "LBC0144B",
         "mode": "lines+markers",
         "name": "DNMT3A c.331A>C",
         "type": "scatter",
         "x": [
          85,
          88,
          91
         ],
         "y": [
          0.0084,
          0.0114,
          0.0048
         ]
        },
        {
         "hovertemplate": "LBC0148L",
         "mode": "lines+markers",
         "name": "DNMT3A c.762del",
         "type": "scatter",
         "x": [
          79,
          85
         ],
         "y": [
          0.0213,
          0.0356
         ]
        },
        {
         "hovertemplate": "LBC0152W",
         "mode": "lines+markers",
         "name": "DNMT3A c.2674T>G",
         "type": "scatter",
         "x": [
          79,
          85,
          88,
          91
         ],
         "y": [
          0.0112,
          0.0056,
          0.008,
          0.0085
         ]
        },
        {
         "hovertemplate": "LBC0152W",
         "mode": "lines+markers",
         "name": "DNMT3A c.2714T>C",
         "type": "scatter",
         "x": [
          79,
          85,
          88,
          91
         ],
         "y": [
          0.005,
          0.0071,
          0.0184,
          0.0106
         ]
        },
        {
         "hovertemplate": "LBC0152W",
         "mode": "lines+markers",
         "name": "DNMT3A c.1429+1G>A",
         "type": "scatter",
         "x": [
          79,
          85,
          88,
          91
         ],
         "y": [
          0.0154,
          0.0054,
          0.0076,
          0.0105
         ]
        },
        {
         "hovertemplate": "LBC0152W",
         "mode": "lines+markers",
         "name": "DNMT3A c.794T>G",
         "type": "scatter",
         "x": [
          79,
          85,
          88,
          91
         ],
         "y": [
          0.016,
          0.0061,
          0.0101,
          0.0047
         ]
        },
        {
         "hovertemplate": "LBC0152W",
         "mode": "lines+markers",
         "name": "DNMT3A c.331A>C",
         "type": "scatter",
         "x": [
          85,
          88,
          91
         ],
         "y": [
          0.0055,
          0.0118,
          0.0087
         ]
        },
        {
         "hovertemplate": "LBC0165A",
         "mode": "lines+markers",
         "name": "DNMT3A c.1969G>A",
         "type": "scatter",
         "x": [
          79,
          85,
          88
         ],
         "y": [
          0.0254,
          0.0421,
          0.0497
         ]
        },
        {
         "hovertemplate": "LBC0176A",
         "mode": "lines+markers",
         "name": "DNMT3A c.553A>C",
         "type": "scatter",
         "x": [
          88,
          91
         ],
         "y": [
          0.0106,
          0.0047
         ]
        },
        {
         "hovertemplate": "LBC0176A",
         "mode": "lines+markers",
         "name": "DNMT3A c.794T>G",
         "type": "scatter",
         "x": [
          79,
          85,
          88,
          91
         ],
         "y": [
          0.0119,
          0.0053,
          0.0045,
          0.0044
         ]
        },
        {
         "hovertemplate": "LBC0176A",
         "mode": "lines+markers",
         "name": "DNMT3A c.1553A>G",
         "type": "scatter",
         "x": [
          79,
          85
         ],
         "y": [
          0.0125,
          0.0044
         ]
        },
        {
         "hovertemplate": "LBC0176A",
         "mode": "lines+markers",
         "name": "DNMT3A c.332A>C",
         "type": "scatter",
         "x": [
          79,
          85,
          88,
          91
         ],
         "y": [
          0.0183,
          0.014,
          0.0051,
          0.0068
         ]
        },
        {
         "hovertemplate": "LBC0176A",
         "mode": "lines+markers",
         "name": "DNMT3A c.1736A>C",
         "type": "scatter",
         "x": [
          85,
          88,
          91
         ],
         "y": [
          0.0114,
          0.0085,
          0.0097
         ]
        },
        {
         "hovertemplate": "LBC0176A",
         "mode": "lines+markers",
         "name": "DNMT3A c.331A>C",
         "type": "scatter",
         "x": [
          85,
          88,
          91
         ],
         "y": [
          0.014,
          0.0062,
          0.0054
         ]
        },
        {
         "hovertemplate": "LBC0220K",
         "mode": "lines+markers",
         "name": "DNMT3A c.1781T>G",
         "type": "scatter",
         "x": [
          79,
          85,
          91
         ],
         "y": [
          0.0159,
          0.0105,
          0.0044
         ]
        },
        {
         "hovertemplate": "LBC0220K",
         "mode": "lines+markers",
         "name": "DNMT3A c.1736A>C",
         "type": "scatter",
         "x": [
          79,
          85,
          88,
          91
         ],
         "y": [
          0.0144,
          0.0106,
          0.0119,
          0.0114
         ]
        },
        {
         "hovertemplate": "LBC0220K",
         "mode": "lines+markers",
         "name": "DNMT3A c.356A>C",
         "type": "scatter",
         "x": [
          85,
          88,
          91
         ],
         "y": [
          0.0195,
          0.0134,
          0.0091
         ]
        },
        {
         "hovertemplate": "LBC0220K",
         "mode": "lines+markers",
         "name": "DNMT3A c.2141C>T",
         "type": "scatter",
         "x": [
          79,
          85,
          88,
          91
         ],
         "y": [
          0.0092,
          0.008,
          0.0112,
          0.0103
         ]
        },
        {
         "hovertemplate": "LBC0220K",
         "mode": "lines+markers",
         "name": "DNMT3A c.1718A>C",
         "type": "scatter",
         "x": [
          79,
          85,
          88,
          91
         ],
         "y": [
          0.0155,
          0.0131,
          0.0178,
          0.0116
         ]
        },
        {
         "hovertemplate": "LBC0220K",
         "mode": "lines+markers",
         "name": "DNMT3A c.331A>C",
         "type": "scatter",
         "x": [
          85,
          88,
          91
         ],
         "y": [
          0.005,
          0.0119,
          0.0035
         ]
        },
        {
         "hovertemplate": "LBC0220K",
         "mode": "lines+markers",
         "name": "DNMT3A c.992T>G",
         "type": "scatter",
         "x": [
          88,
          91
         ],
         "y": [
          0.0121,
          0.0031
         ]
        },
        {
         "hovertemplate": "LBC0242M",
         "mode": "lines+markers",
         "name": "DNMT3A c.337G>T",
         "type": "scatter",
         "x": [
          79,
          85,
          88
         ],
         "y": [
          0.0427,
          0.0034,
          0.0046
         ]
        },
        {
         "hovertemplate": "LBC0242M",
         "mode": "lines+markers",
         "name": "DNMT3A c.370A>C",
         "type": "scatter",
         "x": [
          85,
          88,
          91
         ],
         "y": [
          0.0139,
          0.005,
          0.0053
         ]
        },
        {
         "hovertemplate": "LBC0263L",
         "mode": "lines+markers",
         "name": "DNMT3A c.19A>C",
         "type": "scatter",
         "x": [
          79,
          85,
          88,
          91
         ],
         "y": [
          0.0059,
          0.0087,
          0.0104,
          0.01
         ]
        },
        {
         "hovertemplate": "LBC0263L",
         "mode": "lines+markers",
         "name": "DNMT3A c.1736A>C",
         "type": "scatter",
         "x": [
          79,
          85,
          88,
          91
         ],
         "y": [
          0.0077,
          0.011,
          0.0091,
          0.0105
         ]
        },
        {
         "hovertemplate": "LBC0263L",
         "mode": "lines+markers",
         "name": "DNMT3A c.1238del",
         "type": "scatter",
         "x": [
          85,
          88
         ],
         "y": [
          0.0104,
          0.0048
         ]
        },
        {
         "hovertemplate": "LBC0284K",
         "mode": "lines+markers",
         "name": "DNMT3A c.2120dup",
         "type": "scatter",
         "x": [
          79,
          85
         ],
         "y": [
          0.0118,
          0.0013
         ]
        },
        {
         "hovertemplate": "LBC0284K",
         "mode": "lines+markers",
         "name": "DNMT3A c.19A>C",
         "type": "scatter",
         "x": [
          79,
          85,
          88,
          91
         ],
         "y": [
          0.0186,
          0.0055,
          0.0163,
          0.0055
         ]
        },
        {
         "hovertemplate": "LBC0284K",
         "mode": "lines+markers",
         "name": "DNMT3A c.34A>C",
         "type": "scatter",
         "x": [
          79,
          85,
          88,
          91
         ],
         "y": [
          0.011,
          0.0066,
          0.0116,
          0.0053
         ]
        },
        {
         "hovertemplate": "LBC0284K",
         "mode": "lines+markers",
         "name": "DNMT3A c.2312G>A",
         "type": "scatter",
         "x": [
          79,
          85,
          88,
          91
         ],
         "y": [
          0.0157,
          0.0024,
          0.0024,
          0.0022
         ]
        },
        {
         "hovertemplate": "LBC0293E",
         "mode": "lines+markers",
         "name": "DNMT3A c.1510dup",
         "type": "scatter",
         "x": [
          79,
          85,
          88
         ],
         "y": [
          0.0857,
          0.1126,
          0.108
         ]
        },
        {
         "hovertemplate": "LBC0293E",
         "mode": "lines+markers",
         "name": "DNMT3A c.2230A>T",
         "type": "scatter",
         "x": [
          79,
          85,
          88
         ],
         "y": [
          0.0646,
          0.0862,
          0.1097
         ]
        },
        {
         "hovertemplate": "LBC0377A",
         "mode": "lines+markers",
         "name": "DNMT3A c.1973A>C",
         "type": "scatter",
         "x": [
          79,
          85,
          88
         ],
         "y": [
          0.0121,
          0.0058,
          0.0039
         ]
        },
        {
         "hovertemplate": "LBC0377A",
         "mode": "lines+markers",
         "name": "DNMT3A c.794T>G",
         "type": "scatter",
         "x": [
          79,
          85,
          88,
          91
         ],
         "y": [
          0.0113,
          0.0073,
          0.0082,
          0.006999999999999999
         ]
        },
        {
         "hovertemplate": "LBC0392K",
         "mode": "lines+markers",
         "name": "DNMT3A c.326_327inv",
         "type": "scatter",
         "x": [
          88,
          91
         ],
         "y": [
          0.0095,
          0.0128
         ]
        },
        {
         "hovertemplate": "LBC0392K",
         "mode": "lines+markers",
         "name": "DNMT3A c.331_335inv",
         "type": "scatter",
         "x": [
          88,
          91
         ],
         "y": [
          0.0058,
          0.0111
         ]
        },
        {
         "hovertemplate": "LBC0392K",
         "mode": "lines+markers",
         "name": "DNMT3A c.291T>G",
         "type": "scatter",
         "x": [
          85,
          88,
          91
         ],
         "y": [
          0.0066,
          0.0063,
          0.0139
         ]
        },
        {
         "hovertemplate": "LBC0392K",
         "mode": "lines+markers",
         "name": "DNMT3A c.337G>T",
         "type": "scatter",
         "x": [
          79,
          88,
          91
         ],
         "y": [
          0.0143,
          0.0071,
          0.0104
         ]
        },
        {
         "hovertemplate": "LBC0392K",
         "mode": "lines+markers",
         "name": "DNMT3A c.32A>C",
         "type": "scatter",
         "x": [
          79,
          85,
          88,
          91
         ],
         "y": [
          0.0112,
          0.0101,
          0.006,
          0.0072
         ]
        },
        {
         "hovertemplate": "LBC0392K",
         "mode": "lines+markers",
         "name": "DNMT3A c.339_340inv",
         "type": "scatter",
         "x": [
          88,
          91
         ],
         "y": [
          0.0056,
          0.0106
         ]
        },
        {
         "hovertemplate": "LBC0392K",
         "mode": "lines+markers",
         "name": "DNMT3A c.299A>C",
         "type": "scatter",
         "x": [
          85,
          91
         ],
         "y": [
          0.0058,
          0.0138
         ]
        },
        {
         "hovertemplate": "LBC0392K",
         "mode": "lines+markers",
         "name": "DNMT3A c.332A>C",
         "type": "scatter",
         "x": [
          79,
          85,
          88,
          91
         ],
         "y": [
          0.0426,
          0.0047,
          0.0114,
          0.0199
         ]
        },
        {
         "hovertemplate": "LBC0392K",
         "mode": "lines+markers",
         "name": "DNMT3A c.2705del",
         "type": "scatter",
         "x": [
          79,
          85,
          91
         ],
         "y": [
          0.01,
          0.0021,
          0.0032
         ]
        },
        {
         "hovertemplate": "LBC0392K",
         "mode": "lines+markers",
         "name": "DNMT3A c.553A>C",
         "type": "scatter",
         "x": [
          79,
          91
         ],
         "y": [
          0.0155,
          0.0111
         ]
        },
        {
         "hovertemplate": "LBC0392K",
         "mode": "lines+markers",
         "name": "DNMT3A c.329A>C",
         "type": "scatter",
         "x": [
          79,
          88,
          91
         ],
         "y": [
          0.0206,
          0.0101,
          0.0139
         ]
        },
        {
         "hovertemplate": "LBC0392K",
         "mode": "lines+markers",
         "name": "DNMT3A c.331A>C",
         "type": "scatter",
         "x": [
          79,
          88,
          91
         ],
         "y": [
          0.028,
          0.0117,
          0.0173
         ]
        },
        {
         "hovertemplate": "LBC0392K",
         "mode": "lines+markers",
         "name": "DNMT3A c.43T>G",
         "type": "scatter",
         "x": [
          79,
          88
         ],
         "y": [
          0.0192,
          0.0069
         ]
        },
        {
         "hovertemplate": "LBC0405M",
         "mode": "lines+markers",
         "name": "DNMT3A c.299A>C",
         "type": "scatter",
         "x": [
          85,
          88,
          91
         ],
         "y": [
          0.0083,
          0.0128,
          0.0038
         ]
        },
        {
         "hovertemplate": "LBC0405M",
         "mode": "lines+markers",
         "name": "DNMT3A c.19A>C",
         "type": "scatter",
         "x": [
          79,
          85,
          88,
          91
         ],
         "y": [
          0.027000000000000003,
          0.0083,
          0.0044,
          0.0101
         ]
        },
        {
         "hovertemplate": "LBC0405M",
         "mode": "lines+markers",
         "name": "DNMT3A c.34A>C",
         "type": "scatter",
         "x": [
          79,
          85,
          88,
          91
         ],
         "y": [
          0.012,
          0.0121,
          0.0088,
          0.0099
         ]
        },
        {
         "hovertemplate": "LBC0405M",
         "mode": "lines+markers",
         "name": "DNMT3A c.40A>C",
         "type": "scatter",
         "x": [
          79,
          85,
          88,
          91
         ],
         "y": [
          0.011,
          0.0057,
          0.0053,
          0.0107
         ]
        },
        {
         "hovertemplate": "LBC0405M",
         "mode": "lines+markers",
         "name": "DNMT3A c.37A>C",
         "type": "scatter",
         "x": [
          79,
          85,
          88,
          91
         ],
         "y": [
          0.0149,
          0.0084,
          0.0095,
          0.0112
         ]
        },
        {
         "hovertemplate": "LBC0405M",
         "mode": "lines+markers",
         "name": "DNMT3A c.794T>G",
         "type": "scatter",
         "x": [
          79,
          85,
          88,
          91
         ],
         "y": [
          0.0175,
          0.0047,
          0.0083,
          0.0088
         ]
        },
        {
         "hovertemplate": "LBC0405M",
         "mode": "lines+markers",
         "name": "DNMT3A c.1387G>T",
         "type": "scatter",
         "x": [
          79,
          85,
          88,
          91
         ],
         "y": [
          0.0037,
          0.0059,
          0.009000000000000001,
          0.0113
         ]
        },
        {
         "hovertemplate": "LBC0405M",
         "mode": "lines+markers",
         "name": "DNMT3A c.331A>C",
         "type": "scatter",
         "x": [
          85,
          88,
          91
         ],
         "y": [
          0.0136,
          0.0055,
          0.0086
         ]
        },
        {
         "hovertemplate": "LBC0405M",
         "mode": "lines+markers",
         "name": "DNMT3A c.43T>G",
         "type": "scatter",
         "x": [
          79,
          85,
          88,
          91
         ],
         "y": [
          0.0135,
          0.0031,
          0.0035,
          0.0073
         ]
        },
        {
         "hovertemplate": "LBC0429V",
         "mode": "lines+markers",
         "name": "DNMT3A c.992T>G",
         "type": "scatter",
         "x": [
          85,
          88,
          91
         ],
         "y": [
          0.0035,
          0.0103,
          0.0043
         ]
        },
        {
         "hovertemplate": "LBC0429V",
         "mode": "lines+markers",
         "name": "DNMT3A c.794T>G",
         "type": "scatter",
         "x": [
          85,
          88,
          91
         ],
         "y": [
          0.0057,
          0.0101,
          0.0079
         ]
        },
        {
         "hovertemplate": "LBC0439R",
         "mode": "lines+markers",
         "name": "DNMT3A c.299A>C",
         "type": "scatter",
         "x": [
          88,
          91
         ],
         "y": [
          0.0201,
          0.0088
         ]
        },
        {
         "hovertemplate": "LBC0439R",
         "mode": "lines+markers",
         "name": "DNMT3A c.19A>C",
         "type": "scatter",
         "x": [
          79,
          85,
          88,
          91
         ],
         "y": [
          0.0212,
          0.0079,
          0.0069,
          0.0089
         ]
        },
        {
         "hovertemplate": "LBC0439R",
         "mode": "lines+markers",
         "name": "DNMT3A c.37A>C",
         "type": "scatter",
         "x": [
          79,
          85,
          88,
          91
         ],
         "y": [
          0.0084,
          0.0056,
          0.0063,
          0.0126
         ]
        },
        {
         "hovertemplate": "LBC0439R",
         "mode": "lines+markers",
         "name": "DNMT3A c.356A>C",
         "type": "scatter",
         "x": [
          85,
          88,
          91
         ],
         "y": [
          0.0089,
          0.0107,
          0.0051
         ]
        },
        {
         "hovertemplate": "LBC0439R",
         "mode": "lines+markers",
         "name": "DNMT3A c.1784T>G",
         "type": "scatter",
         "x": [
          85,
          88,
          91
         ],
         "y": [
          0.003,
          0.0122,
          0.009000000000000001
         ]
        },
        {
         "hovertemplate": "LBC0446H",
         "mode": "lines+markers",
         "name": "DNMT3A c.326_327inv",
         "type": "scatter",
         "x": [
          85,
          88,
          91
         ],
         "y": [
          0.0063,
          0.0113,
          0.0058
         ]
        },
        {
         "hovertemplate": "LBC0446H",
         "mode": "lines+markers",
         "name": "DNMT3A c.2674T>G",
         "type": "scatter",
         "x": [
          79,
          85,
          88,
          91
         ],
         "y": [
          0.0072,
          0.0047,
          0.0122,
          0.0068
         ]
        },
        {
         "hovertemplate": "LBC0446H",
         "mode": "lines+markers",
         "name": "DNMT3A c.2060T>A",
         "type": "scatter",
         "x": [
          79,
          85,
          88,
          91
         ],
         "y": [
          0.0662,
          0.0648,
          0.0618,
          0.0711
         ]
        },
        {
         "hovertemplate": "LBC0446H",
         "mode": "lines+markers",
         "name": "DNMT3A c.40A>G",
         "type": "scatter",
         "x": [
          79,
          85,
          88,
          91
         ],
         "y": [
          0.0105,
          0.0038,
          0.0048,
          0.003
         ]
        },
        {
         "hovertemplate": "LBC0446H",
         "mode": "lines+markers",
         "name": "DNMT3A c.293A>C",
         "type": "scatter",
         "x": [
          88,
          91
         ],
         "y": [
          0.0096,
          0.0106
         ]
        },
        {
         "hovertemplate": "LBC0446H",
         "mode": "lines+markers",
         "name": "DNMT3A c.37A>C",
         "type": "scatter",
         "x": [
          79,
          85,
          88,
          91
         ],
         "y": [
          0.0114,
          0.0053,
          0.0143,
          0.0079
         ]
        },
        {
         "hovertemplate": "LBC0446H",
         "mode": "lines+markers",
         "name": "DNMT3A c.19A>C",
         "type": "scatter",
         "x": [
          79,
          85,
          88,
          91
         ],
         "y": [
          0.012,
          0.0077,
          0.0132,
          0.0079
         ]
        },
        {
         "hovertemplate": "LBC0461R",
         "mode": "lines+markers",
         "name": "DNMT3A c.1718A>C",
         "type": "scatter",
         "x": [
          79,
          85,
          88,
          91
         ],
         "y": [
          0.0293,
          0.0142,
          0.0161,
          0.0118
         ]
        },
        {
         "hovertemplate": "LBC0461R",
         "mode": "lines+markers",
         "name": "DNMT3A c.299A>C",
         "type": "scatter",
         "x": [
          85,
          88,
          91
         ],
         "y": [
          0.0085,
          0.0056,
          0.0107
         ]
        },
        {
         "hovertemplate": "LBC0461R",
         "mode": "lines+markers",
         "name": "DNMT3A c.19A>C",
         "type": "scatter",
         "x": [
          85,
          88,
          91
         ],
         "y": [
          0.0124,
          0.0071,
          0.0129
         ]
        },
        {
         "hovertemplate": "LBC0461R",
         "mode": "lines+markers",
         "name": "DNMT3A c.37A>C",
         "type": "scatter",
         "x": [
          79,
          85,
          88,
          91
         ],
         "y": [
          0.0093,
          0.0078,
          0.0074,
          0.0162
         ]
        },
        {
         "hovertemplate": "LBC0461R",
         "mode": "lines+markers",
         "name": "DNMT3A c.553A>C",
         "type": "scatter",
         "x": [
          88,
          91
         ],
         "y": [
          0.0048,
          0.0104
         ]
        },
        {
         "hovertemplate": "LBC0461R",
         "mode": "lines+markers",
         "name": "DNMT3A c.40A>C",
         "type": "scatter",
         "x": [
          79,
          85,
          88,
          91
         ],
         "y": [
          0.0137,
          0.0057,
          0.0028,
          0.0054
         ]
        },
        {
         "hovertemplate": "LBC0461R",
         "mode": "lines+markers",
         "name": "DNMT3A c.794T>G",
         "type": "scatter",
         "x": [
          79,
          85,
          88,
          91
         ],
         "y": [
          0.0092,
          0.0065,
          0.0095,
          0.0105
         ]
        },
        {
         "hovertemplate": "LBC0461R",
         "mode": "lines+markers",
         "name": "DNMT3A c.2120dup",
         "type": "scatter",
         "x": [
          79,
          91
         ],
         "y": [
          0.0114,
          0.0012
         ]
        },
        {
         "hovertemplate": "LBC0461R",
         "mode": "lines+markers",
         "name": "DNMT3A c.2674T>G",
         "type": "scatter",
         "x": [
          79,
          85,
          88,
          91
         ],
         "y": [
          0.0164,
          0.004,
          0.0041,
          0.0049
         ]
        },
        {
         "hovertemplate": "LBC0464X",
         "mode": "lines+markers",
         "name": "DNMT3A c.794T>G",
         "type": "scatter",
         "x": [
          79,
          85,
          88,
          91
         ],
         "y": [
          0.0142,
          0.004,
          0.0065,
          0.0081
         ]
        },
        {
         "hovertemplate": "LBC0464X",
         "mode": "lines+markers",
         "name": "DNMT3A c.331A>C",
         "type": "scatter",
         "x": [
          85,
          88,
          91
         ],
         "y": [
          0.011,
          0.0065,
          0.0065
         ]
        },
        {
         "hovertemplate": "LBC0464X",
         "mode": "lines+markers",
         "name": "DNMT3A c.2173+1G>A",
         "type": "scatter",
         "x": [
          79,
          85,
          88,
          91
         ],
         "y": [
          0.017,
          0.0362,
          0.0439,
          0.0449
         ]
        },
        {
         "hovertemplate": "LBC0471M",
         "mode": "lines+markers",
         "name": "DNMT3A c.1736A>C",
         "type": "scatter",
         "x": [
          79,
          85,
          88,
          91
         ],
         "y": [
          0.0146,
          0.0038,
          0.0104,
          0.0047
         ]
        },
        {
         "hovertemplate": "LBC0484V",
         "mode": "lines+markers",
         "name": "DNMT3A c.1736A>C",
         "type": "scatter",
         "x": [
          79,
          85,
          88
         ],
         "y": [
          0.0058,
          0.0106,
          0.0068
         ]
        },
        {
         "hovertemplate": "LBC0484V",
         "mode": "lines+markers",
         "name": "DNMT3A c.331A>C",
         "type": "scatter",
         "x": [
          79,
          85,
          88
         ],
         "y": [
          0.0031,
          0.0087,
          0.0101
         ]
        },
        {
         "hovertemplate": "LBC0516R",
         "mode": "lines+markers",
         "name": "DNMT3A c.10A>G",
         "type": "scatter",
         "x": [
          79,
          85
         ],
         "y": [
          0.0106,
          0.0021
         ]
        },
        {
         "hovertemplate": "LBC0517V",
         "mode": "lines+markers",
         "name": "DNMT3A c.2120dup",
         "type": "scatter",
         "x": [
          79,
          91
         ],
         "y": [
          0.0232,
          0.0012
         ]
        },
        {
         "hovertemplate": "LBC0517V",
         "mode": "lines+markers",
         "name": "DNMT3A c.2644C>T",
         "type": "scatter",
         "x": [
          79,
          85,
          88,
          91
         ],
         "y": [
          0.0345,
          0.0244,
          0.0204,
          0.0184
         ]
        },
        {
         "hovertemplate": "LBC0520A",
         "mode": "lines+markers",
         "name": "DNMT3A c.2714T>C",
         "type": "scatter",
         "x": [
          79,
          85,
          88,
          91
         ],
         "y": [
          0.0092,
          0.011,
          0.0098,
          0.0097
         ]
        },
        {
         "hovertemplate": "LBC0520A",
         "mode": "lines+markers",
         "name": "DNMT3A c.19A>C",
         "type": "scatter",
         "x": [
          85,
          88,
          91
         ],
         "y": [
          0.0044,
          0.0109,
          0.005
         ]
        },
        {
         "hovertemplate": "LBC0520A",
         "mode": "lines+markers",
         "name": "DNMT3A c.1718A>C",
         "type": "scatter",
         "x": [
          85,
          88,
          91
         ],
         "y": [
          0.0159,
          0.0174,
          0.0132
         ]
        },
        {
         "hovertemplate": "LBC0588E",
         "mode": "lines+markers",
         "name": "DNMT3A c.2108T>A",
         "type": "scatter",
         "x": [
          79,
          85,
          88,
          91
         ],
         "y": [
          0.0126,
          0.0073,
          0.0053,
          0.0031
         ]
        },
        {
         "hovertemplate": "LBC0588E",
         "mode": "lines+markers",
         "name": "DNMT3A c.1945G>A",
         "type": "scatter",
         "x": [
          79,
          85,
          88
         ],
         "y": [
          0.0123,
          0.0086,
          0.0033
         ]
        },
        {
         "hovertemplate": "LBC0588E",
         "mode": "lines+markers",
         "name": "DNMT3A c.59A>G",
         "type": "scatter",
         "x": [
          79,
          85,
          91
         ],
         "y": [
          0.0109,
          0.0042,
          0.0036
         ]
        },
        {
         "hovertemplate": "LBC0591L",
         "mode": "lines+markers",
         "name": "DNMT3A c.331A>C",
         "type": "scatter",
         "x": [
          85,
          88
         ],
         "y": [
          0.0061,
          0.01
         ]
        },
        {
         "hovertemplate": "LBC0591L",
         "mode": "lines+markers",
         "name": "DNMT3A c.1442_1448del",
         "type": "scatter",
         "x": [
          79,
          85,
          88
         ],
         "y": [
          0.0096,
          0.0124,
          0.0107
         ]
        },
        {
         "hovertemplate": "LBC360008",
         "mode": "lines+markers",
         "name": "DNMT3A c.1238del",
         "type": "scatter",
         "x": [
          70,
          73,
          79,
          82
         ],
         "y": [
          0.0123,
          0.0022,
          0.0037,
          0.0033
         ]
        },
        {
         "hovertemplate": "LBC360008",
         "mode": "lines+markers",
         "name": "DNMT3A c.326_327inv",
         "type": "scatter",
         "x": [
          70,
          73,
          76,
          82
         ],
         "y": [
          0.0113,
          0.0102,
          0.0052,
          0.0052
         ]
        },
        {
         "hovertemplate": "LBC360008",
         "mode": "lines+markers",
         "name": "DNMT3A c.2644C>T",
         "type": "scatter",
         "x": [
          70,
          73,
          76,
          79,
          82
         ],
         "y": [
          0.0279,
          0.0488,
          0.0936,
          0.1085,
          0.1308
         ]
        },
        {
         "hovertemplate": "LBC360104",
         "mode": "lines+markers",
         "name": "DNMT3A c.1156del",
         "type": "scatter",
         "x": [
          70,
          73,
          76,
          79
         ],
         "y": [
          0.0085,
          0.0093,
          0.0108,
          0.0198
         ]
        },
        {
         "hovertemplate": "LBC360104",
         "mode": "lines+markers",
         "name": "DNMT3A c.326_327inv",
         "type": "scatter",
         "x": [
          73,
          76,
          79
         ],
         "y": [
          0.0084,
          0.0116,
          0.0074
         ]
        },
        {
         "hovertemplate": "LBC360104",
         "mode": "lines+markers",
         "name": "DNMT3A c.331A>C",
         "type": "scatter",
         "x": [
          70,
          73,
          76,
          79
         ],
         "y": [
          0.0061,
          0.0093,
          0.0117,
          0.0075
         ]
        },
        {
         "hovertemplate": "LBC360231",
         "mode": "lines+markers",
         "name": "DNMT3A c.326_327inv",
         "type": "scatter",
         "x": [
          70,
          73,
          76
         ],
         "y": [
          0.0057,
          0.0102,
          0.0054
         ]
        },
        {
         "hovertemplate": "LBC360231",
         "mode": "lines+markers",
         "name": "DNMT3A c.331A>C",
         "type": "scatter",
         "x": [
          70,
          73
         ],
         "y": [
          0.0057,
          0.0104
         ]
        },
        {
         "hovertemplate": "LBC360231",
         "mode": "lines+markers",
         "name": "DNMT3A c.1852-1G>A",
         "type": "scatter",
         "x": [
          70,
          73,
          76
         ],
         "y": [
          0.2749,
          0.2833,
          0.2957
         ]
        },
        {
         "hovertemplate": "LBC360283",
         "mode": "lines+markers",
         "name": "DNMT3A c.1878_1884del",
         "type": "scatter",
         "x": [
          70,
          73,
          76
         ],
         "y": [
          0.122,
          0.1069,
          0.0894
         ]
        },
        {
         "hovertemplate": "LBC360356",
         "mode": "lines+markers",
         "name": "DNMT3A c.1601del",
         "type": "scatter",
         "x": [
          70,
          73,
          76,
          79
         ],
         "y": [
          0.1109,
          0.1084,
          0.107,
          0.1258
         ]
        },
        {
         "hovertemplate": "LBC360380",
         "mode": "lines+markers",
         "name": "DNMT3A c.1220T>A",
         "type": "scatter",
         "x": [
          70,
          73
         ],
         "y": [
          0.011,
          0.0091
         ]
        },
        {
         "hovertemplate": "LBC360380",
         "mode": "lines+markers",
         "name": "DNMT3A c.770del",
         "type": "scatter",
         "x": [
          70,
          73
         ],
         "y": [
          0.0979,
          0.0835
         ]
        },
        {
         "hovertemplate": "LBC360380",
         "mode": "lines+markers",
         "name": "DNMT3A c.1031T>A",
         "type": "scatter",
         "x": [
          70,
          73
         ],
         "y": [
          0.0238,
          0.0203
         ]
        },
        {
         "hovertemplate": "LBC360414",
         "mode": "lines+markers",
         "name": "DNMT3A c.2174del",
         "type": "scatter",
         "x": [
          70,
          73
         ],
         "y": [
          0.0589,
          0.0609
         ]
        },
        {
         "hovertemplate": "LBC360453",
         "mode": "lines+markers",
         "name": "DNMT3A c.2322+1G>A",
         "type": "scatter",
         "x": [
          70,
          73,
          76,
          79
         ],
         "y": [
          0.1015,
          0.134,
          0.14300000000000002,
          0.1588
         ]
        },
        {
         "hovertemplate": "LBC360458",
         "mode": "lines+markers",
         "name": "DNMT3A c.332A>C",
         "type": "scatter",
         "x": [
          70,
          73,
          76,
          79
         ],
         "y": [
          0.0108,
          0.0084,
          0.0106,
          0.0087
         ]
        },
        {
         "hovertemplate": "LBC360458",
         "mode": "lines+markers",
         "name": "DNMT3A c.1554+1G>A",
         "type": "scatter",
         "x": [
          70,
          73,
          76,
          79
         ],
         "y": [
          0.0932,
          0.0938,
          0.0832,
          0.0824
         ]
        },
        {
         "hovertemplate": "LBC360458",
         "mode": "lines+markers",
         "name": "DNMT3A c.331A>C",
         "type": "scatter",
         "x": [
          70,
          73,
          76,
          79
         ],
         "y": [
          0.0082,
          0.0119,
          0.0111,
          0.0113
         ]
        },
        {
         "hovertemplate": "LBC360458",
         "mode": "lines+markers",
         "name": "DNMT3A c.2556G>T",
         "type": "scatter",
         "x": [
          70,
          73,
          76,
          79
         ],
         "y": [
          0.0088,
          0.0058,
          0.0092,
          0.01
         ]
        },
        {
         "hovertemplate": "LBC360508",
         "mode": "lines+markers",
         "name": "DNMT3A c.326_327inv",
         "type": "scatter",
         "x": [
          70,
          73,
          76,
          79
         ],
         "y": [
          0.0143,
          0.0074,
          0.0087,
          0.0098
         ]
        },
        {
         "hovertemplate": "LBC360508",
         "mode": "lines+markers",
         "name": "DNMT3A c.1605del",
         "type": "scatter",
         "x": [
          70,
          73,
          76,
          79
         ],
         "y": [
          0.091,
          0.15,
          0.1888,
          0.2581
         ]
        },
        {
         "hovertemplate": "LBC360508",
         "mode": "lines+markers",
         "name": "DNMT3A c.331A>C",
         "type": "scatter",
         "x": [
          70,
          73,
          76,
          79
         ],
         "y": [
          0.0143,
          0.0094,
          0.0095,
          0.0115
         ]
        },
        {
         "hovertemplate": "LBC360549",
         "mode": "lines+markers",
         "name": "DNMT3A c.1677C>A",
         "type": "scatter",
         "x": [
          70,
          73,
          76,
          79
         ],
         "y": [
          0.2957,
          0.2741,
          0.3467,
          0.3837
         ]
        },
        {
         "hovertemplate": "LBC360549",
         "mode": "lines+markers",
         "name": "DNMT3A c.2312G>A",
         "type": "scatter",
         "x": [
          70,
          73,
          76,
          79
         ],
         "y": [
          0.3146,
          0.3119,
          0.3205,
          0.3827
         ]
        },
        {
         "hovertemplate": "LBC360636",
         "mode": "lines+markers",
         "name": "DNMT3A c.2204A>G",
         "type": "scatter",
         "x": [
          70,
          73,
          76
         ],
         "y": [
          0.0036,
          0.0076,
          0.0176
         ]
        },
        {
         "hovertemplate": "LBC360636",
         "mode": "lines+markers",
         "name": "DNMT3A c.1718A>C",
         "type": "scatter",
         "x": [
          70,
          73,
          76
         ],
         "y": [
          0.01,
          0.0108,
          0.0114
         ]
        },
        {
         "hovertemplate": "LBC360636",
         "mode": "lines+markers",
         "name": "DNMT3A c.976C>G",
         "type": "scatter",
         "x": [
          70,
          73,
          76
         ],
         "y": [
          0.149,
          0.2133,
          0.28
         ]
        },
        {
         "hovertemplate": "LBC360658",
         "mode": "lines+markers",
         "name": "DNMT3A c.1429+1G>C",
         "type": "scatter",
         "x": [
          70,
          73,
          76
         ],
         "y": [
          0.0295,
          0.0239,
          0.031
         ]
        },
        {
         "hovertemplate": "LBC360666",
         "mode": "lines+markers",
         "name": "DNMT3A c.1648G>A",
         "type": "scatter",
         "x": [
          70,
          76,
          79
         ],
         "y": [
          0.009000000000000001,
          0.0163,
          0.0237
         ]
        },
        {
         "hovertemplate": "LBC360702",
         "mode": "lines+markers",
         "name": "DNMT3A c.332A>G",
         "type": "scatter",
         "x": [
          70,
          73
         ],
         "y": [
          0.0047,
          0.01
         ]
        },
        {
         "hovertemplate": "LBC360725",
         "mode": "lines+markers",
         "name": "DNMT3A c.326_327inv",
         "type": "scatter",
         "x": [
          70,
          76,
          79
         ],
         "y": [
          0.0175,
          0.0064,
          0.0063
         ]
        },
        {
         "hovertemplate": "LBC360754",
         "mode": "lines+markers",
         "name": "DNMT3A c.1579C>T",
         "type": "scatter",
         "x": [
          70,
          73,
          76
         ],
         "y": [
          0.0125,
          0.0134,
          0.0064
         ]
        },
        {
         "hovertemplate": "LBC360754",
         "mode": "lines+markers",
         "name": "DNMT3A c.2478+1G>T",
         "type": "scatter",
         "x": [
          70,
          73,
          76
         ],
         "y": [
          0.3091,
          0.3435,
          0.3876
         ]
        },
        {
         "hovertemplate": "LBC360782",
         "mode": "lines+markers",
         "name": "DNMT3A c.2387G>C",
         "type": "scatter",
         "x": [
          70,
          73,
          76,
          79
         ],
         "y": [
          0.0128,
          0.0079,
          0.0074,
          0.0045
         ]
        },
        {
         "hovertemplate": "LBC360790",
         "mode": "lines+markers",
         "name": "DNMT3A c.2256_2257del",
         "type": "scatter",
         "x": [
          70,
          76,
          79
         ],
         "y": [
          0.2541,
          0.2718,
          0.3103
         ]
        },
        {
         "hovertemplate": "LBC360790",
         "mode": "lines+markers",
         "name": "DNMT3A c.794T>G",
         "type": "scatter",
         "x": [
          70,
          76,
          79
         ],
         "y": [
          0.0064,
          0.0074,
          0.011
         ]
        },
        {
         "hovertemplate": "LBC360790",
         "mode": "lines+markers",
         "name": "DNMT3A c.1736A>C",
         "type": "scatter",
         "x": [
          70,
          79
         ],
         "y": [
          0.0046,
          0.0182
         ]
        },
        {
         "hovertemplate": "LBC360843",
         "mode": "lines+markers",
         "name": "DNMT3A c.929T>C",
         "type": "scatter",
         "x": [
          70,
          73,
          79,
          82
         ],
         "y": [
          0.0087,
          0.0071,
          0.0133,
          0.0171
         ]
        },
        {
         "hovertemplate": "LBC360898",
         "mode": "lines+markers",
         "name": "DNMT3A c.19A>C",
         "type": "scatter",
         "x": [
          70,
          73,
          76,
          79
         ],
         "y": [
          0.0048,
          0.002,
          0.0031,
          0.0107
         ]
        },
        {
         "hovertemplate": "LBC360898",
         "mode": "lines+markers",
         "name": "DNMT3A c.1835A>C",
         "type": "scatter",
         "x": [
          70,
          73,
          76,
          79
         ],
         "y": [
          0.0049,
          0.0034,
          0.0065,
          0.0114
         ]
        },
        {
         "hovertemplate": "LBC360898",
         "mode": "lines+markers",
         "name": "DNMT3A c.1784T>G",
         "type": "scatter",
         "x": [
          70,
          73,
          76,
          79
         ],
         "y": [
          0.0049,
          0.0089,
          0.0085,
          0.0109
         ]
        },
        {
         "hovertemplate": "LBC360908",
         "mode": "lines+markers",
         "name": "DNMT3A c.1784T>G",
         "type": "scatter",
         "x": [
          70,
          73,
          76,
          79
         ],
         "y": [
          0.0096,
          0.0109,
          0.0068,
          0.0039
         ]
        },
        {
         "hovertemplate": "LBC360914",
         "mode": "lines+markers",
         "name": "DNMT3A c.1810del",
         "type": "scatter",
         "x": [
          70,
          73,
          76,
          79
         ],
         "y": [
          0.0093,
          0.0074,
          0.012,
          0.0067
         ]
        },
        {
         "hovertemplate": "LBC360914",
         "mode": "lines+markers",
         "name": "DNMT3A c.1736A>C",
         "type": "scatter",
         "x": [
          70,
          73,
          76,
          79
         ],
         "y": [
          0.0084,
          0.01,
          0.0071,
          0.016
         ]
        },
        {
         "hovertemplate": "LBC360914",
         "mode": "lines+markers",
         "name": "DNMT3A c.1784T>G",
         "type": "scatter",
         "x": [
          70,
          73,
          76,
          79
         ],
         "y": [
          0.0052,
          0.0051,
          0.008,
          0.0103
         ]
        },
        {
         "hovertemplate": "LBC360914",
         "mode": "lines+markers",
         "name": "DNMT3A c.2203T>A",
         "type": "scatter",
         "x": [
          70,
          73,
          76,
          79
         ],
         "y": [
          0.1032,
          0.1262,
          0.1743,
          0.1945
         ]
        },
        {
         "hovertemplate": "LBC360919",
         "mode": "lines+markers",
         "name": "DNMT3A c.924_925dup",
         "type": "scatter",
         "x": [
          70,
          73,
          76,
          79
         ],
         "y": [
          0.3411,
          0.3469,
          0.3874,
          0.3911
         ]
        },
        {
         "hovertemplate": "LBC360919",
         "mode": "lines+markers",
         "name": "DNMT3A c.1736A>C",
         "type": "scatter",
         "x": [
          70,
          73,
          76,
          79
         ],
         "y": [
          0.0118,
          0.0116,
          0.0118,
          0.0146
         ]
        },
        {
         "hovertemplate": "LBC360919",
         "mode": "lines+markers",
         "name": "DNMT3A c.1784T>G",
         "type": "scatter",
         "x": [
          70,
          73,
          76,
          79
         ],
         "y": [
          0.011,
          0.0046,
          0.0076,
          0.0119
         ]
        },
        {
         "hovertemplate": "LBC361006",
         "mode": "lines+markers",
         "name": "DNMT3A c.2045dup",
         "type": "scatter",
         "x": [
          70,
          73,
          76,
          79
         ],
         "y": [
          0.0395,
          0.0467,
          0.0388,
          0.0327
         ]
        },
        {
         "hovertemplate": "LBC361006",
         "mode": "lines+markers",
         "name": "DNMT3A c.2016_2029del",
         "type": "scatter",
         "x": [
          70,
          73,
          76,
          79
         ],
         "y": [
          0.2228,
          0.2179,
          0.2077,
          0.1528
         ]
        },
        {
         "hovertemplate": "LBC361006",
         "mode": "lines+markers",
         "name": "DNMT3A c.1736A>C",
         "type": "scatter",
         "x": [
          70,
          73,
          76,
          79
         ],
         "y": [
          0.0076,
          0.0055,
          0.0122,
          0.0056
         ]
        },
        {
         "hovertemplate": "LBC361006",
         "mode": "lines+markers",
         "name": "DNMT3A c.1784T>G",
         "type": "scatter",
         "x": [
          70,
          73,
          76,
          79
         ],
         "y": [
          0.01,
          0.0072,
          0.0083,
          0.006999999999999999
         ]
        },
        {
         "hovertemplate": "LBC361096",
         "mode": "lines+markers",
         "name": "DNMT3A c.1936+6G>A",
         "type": "scatter",
         "x": [
          70,
          73
         ],
         "y": [
          0.0012,
          0.0128
         ]
        },
        {
         "hovertemplate": "LBC361096",
         "mode": "lines+markers",
         "name": "DNMT3A c.1835A>C",
         "type": "scatter",
         "x": [
          70,
          73,
          76,
          79
         ],
         "y": [
          0.0106,
          0.0037,
          0.0082,
          0.0048
         ]
        },
        {
         "hovertemplate": "LBC361096",
         "mode": "lines+markers",
         "name": "DNMT3A c.892G>A",
         "type": "scatter",
         "x": [
          70,
          73
         ],
         "y": [
          0.0036,
          0.0131
         ]
        },
        {
         "hovertemplate": "LBC361122",
         "mode": "lines+markers",
         "name": "DNMT3A c.331A>C",
         "type": "scatter",
         "x": [
          70,
          73,
          76,
          79
         ],
         "y": [
          0.0109,
          0.011,
          0.0105,
          0.012
         ]
        },
        {
         "hovertemplate": "LBC361122",
         "mode": "lines+markers",
         "name": "DNMT3A c.2459A>G",
         "type": "scatter",
         "x": [
          73,
          76
         ],
         "y": [
          0.0103,
          0.0042
         ]
        },
        {
         "hovertemplate": "LBC361172",
         "mode": "lines+markers",
         "name": "DNMT3A c.2579G>A",
         "type": "scatter",
         "x": [
          70,
          73,
          76
         ],
         "y": [
          0.0154,
          0.0067,
          0.006999999999999999
         ]
        },
        {
         "hovertemplate": "LBC361172",
         "mode": "lines+markers",
         "name": "DNMT3A c.2083-2A>G",
         "type": "scatter",
         "x": [
          70,
          73,
          76
         ],
         "y": [
          0.0287,
          0.0456,
          0.0418
         ]
        },
        {
         "hovertemplate": "LBC361214",
         "mode": "lines+markers",
         "name": "DNMT3A c.2206C>T",
         "type": "scatter",
         "x": [
          70,
          73,
          76,
          79
         ],
         "y": [
          0.0629,
          0.0753,
          0.0959,
          0.0853
         ]
        },
        {
         "hovertemplate": "LBC361214",
         "mode": "lines+markers",
         "name": "DNMT3A c.1741T>G",
         "type": "scatter",
         "x": [
          70,
          73,
          76,
          79
         ],
         "y": [
          0.0018,
          0.001,
          0.002,
          0.0113
         ]
        },
        {
         "hovertemplate": "LBC361225",
         "mode": "lines+markers",
         "name": "DNMT3A c.1056_1057del",
         "type": "scatter",
         "x": [
          70,
          73,
          76,
          79
         ],
         "y": [
          0.2383,
          0.2526,
          0.2758,
          0.3156
         ]
        },
        {
         "hovertemplate": "LBC361286",
         "mode": "lines+markers",
         "name": "DNMT3A c.2727T>A",
         "type": "scatter",
         "x": [
          70,
          73
         ],
         "y": [
          0.0086,
          0.0121
         ]
        },
        {
         "hovertemplate": "LBC361286",
         "mode": "lines+markers",
         "name": "DNMT3A c.1410del",
         "type": "scatter",
         "x": [
          70,
          73
         ],
         "y": [
          0.0046,
          0.0118
         ]
        },
        {
         "hovertemplate": "LBC361286",
         "mode": "lines+markers",
         "name": "DNMT3A c.2578T>C",
         "type": "scatter",
         "x": [
          70,
          73
         ],
         "y": [
          0.0256,
          0.0421
         ]
        },
        {
         "hovertemplate": "LBC361286",
         "mode": "lines+markers",
         "name": "DNMT3A c.2179dup",
         "type": "scatter",
         "x": [
          70,
          73
         ],
         "y": [
          0.0038,
          0.011
         ]
        },
        {
         "hovertemplate": "LBC361286",
         "mode": "lines+markers",
         "name": "DNMT3A c.2228C>T",
         "type": "scatter",
         "x": [
          70,
          73
         ],
         "y": [
          0.01,
          0.0142
         ]
        },
        {
         "hovertemplate": "LBC361286",
         "mode": "lines+markers",
         "name": "DNMT3A c.1122+1G>A",
         "type": "scatter",
         "x": [
          70,
          73
         ],
         "y": [
          0.0041,
          0.0136
         ]
        }
       ],
       "layout": {
        "template": {
         "data": {
          "bar": [
           {
            "error_x": {
             "color": "#2a3f5f"
            },
            "error_y": {
             "color": "#2a3f5f"
            },
            "marker": {
             "line": {
              "color": "#E5ECF6",
              "width": 0.5
             }
            },
            "type": "bar"
           }
          ],
          "barpolar": [
           {
            "marker": {
             "line": {
              "color": "#E5ECF6",
              "width": 0.5
             }
            },
            "type": "barpolar"
           }
          ],
          "carpet": [
           {
            "aaxis": {
             "endlinecolor": "#2a3f5f",
             "gridcolor": "white",
             "linecolor": "white",
             "minorgridcolor": "white",
             "startlinecolor": "#2a3f5f"
            },
            "baxis": {
             "endlinecolor": "#2a3f5f",
             "gridcolor": "white",
             "linecolor": "white",
             "minorgridcolor": "white",
             "startlinecolor": "#2a3f5f"
            },
            "type": "carpet"
           }
          ],
          "choropleth": [
           {
            "colorbar": {
             "outlinewidth": 0,
             "ticks": ""
            },
            "type": "choropleth"
           }
          ],
          "contour": [
           {
            "colorbar": {
             "outlinewidth": 0,
             "ticks": ""
            },
            "colorscale": [
             [
              0,
              "#0d0887"
             ],
             [
              0.1111111111111111,
              "#46039f"
             ],
             [
              0.2222222222222222,
              "#7201a8"
             ],
             [
              0.3333333333333333,
              "#9c179e"
             ],
             [
              0.4444444444444444,
              "#bd3786"
             ],
             [
              0.5555555555555556,
              "#d8576b"
             ],
             [
              0.6666666666666666,
              "#ed7953"
             ],
             [
              0.7777777777777778,
              "#fb9f3a"
             ],
             [
              0.8888888888888888,
              "#fdca26"
             ],
             [
              1,
              "#f0f921"
             ]
            ],
            "type": "contour"
           }
          ],
          "contourcarpet": [
           {
            "colorbar": {
             "outlinewidth": 0,
             "ticks": ""
            },
            "type": "contourcarpet"
           }
          ],
          "heatmap": [
           {
            "colorbar": {
             "outlinewidth": 0,
             "ticks": ""
            },
            "colorscale": [
             [
              0,
              "#0d0887"
             ],
             [
              0.1111111111111111,
              "#46039f"
             ],
             [
              0.2222222222222222,
              "#7201a8"
             ],
             [
              0.3333333333333333,
              "#9c179e"
             ],
             [
              0.4444444444444444,
              "#bd3786"
             ],
             [
              0.5555555555555556,
              "#d8576b"
             ],
             [
              0.6666666666666666,
              "#ed7953"
             ],
             [
              0.7777777777777778,
              "#fb9f3a"
             ],
             [
              0.8888888888888888,
              "#fdca26"
             ],
             [
              1,
              "#f0f921"
             ]
            ],
            "type": "heatmap"
           }
          ],
          "heatmapgl": [
           {
            "colorbar": {
             "outlinewidth": 0,
             "ticks": ""
            },
            "colorscale": [
             [
              0,
              "#0d0887"
             ],
             [
              0.1111111111111111,
              "#46039f"
             ],
             [
              0.2222222222222222,
              "#7201a8"
             ],
             [
              0.3333333333333333,
              "#9c179e"
             ],
             [
              0.4444444444444444,
              "#bd3786"
             ],
             [
              0.5555555555555556,
              "#d8576b"
             ],
             [
              0.6666666666666666,
              "#ed7953"
             ],
             [
              0.7777777777777778,
              "#fb9f3a"
             ],
             [
              0.8888888888888888,
              "#fdca26"
             ],
             [
              1,
              "#f0f921"
             ]
            ],
            "type": "heatmapgl"
           }
          ],
          "histogram": [
           {
            "marker": {
             "colorbar": {
              "outlinewidth": 0,
              "ticks": ""
             }
            },
            "type": "histogram"
           }
          ],
          "histogram2d": [
           {
            "colorbar": {
             "outlinewidth": 0,
             "ticks": ""
            },
            "colorscale": [
             [
              0,
              "#0d0887"
             ],
             [
              0.1111111111111111,
              "#46039f"
             ],
             [
              0.2222222222222222,
              "#7201a8"
             ],
             [
              0.3333333333333333,
              "#9c179e"
             ],
             [
              0.4444444444444444,
              "#bd3786"
             ],
             [
              0.5555555555555556,
              "#d8576b"
             ],
             [
              0.6666666666666666,
              "#ed7953"
             ],
             [
              0.7777777777777778,
              "#fb9f3a"
             ],
             [
              0.8888888888888888,
              "#fdca26"
             ],
             [
              1,
              "#f0f921"
             ]
            ],
            "type": "histogram2d"
           }
          ],
          "histogram2dcontour": [
           {
            "colorbar": {
             "outlinewidth": 0,
             "ticks": ""
            },
            "colorscale": [
             [
              0,
              "#0d0887"
             ],
             [
              0.1111111111111111,
              "#46039f"
             ],
             [
              0.2222222222222222,
              "#7201a8"
             ],
             [
              0.3333333333333333,
              "#9c179e"
             ],
             [
              0.4444444444444444,
              "#bd3786"
             ],
             [
              0.5555555555555556,
              "#d8576b"
             ],
             [
              0.6666666666666666,
              "#ed7953"
             ],
             [
              0.7777777777777778,
              "#fb9f3a"
             ],
             [
              0.8888888888888888,
              "#fdca26"
             ],
             [
              1,
              "#f0f921"
             ]
            ],
            "type": "histogram2dcontour"
           }
          ],
          "mesh3d": [
           {
            "colorbar": {
             "outlinewidth": 0,
             "ticks": ""
            },
            "type": "mesh3d"
           }
          ],
          "parcoords": [
           {
            "line": {
             "colorbar": {
              "outlinewidth": 0,
              "ticks": ""
             }
            },
            "type": "parcoords"
           }
          ],
          "pie": [
           {
            "automargin": true,
            "type": "pie"
           }
          ],
          "scatter": [
           {
            "marker": {
             "colorbar": {
              "outlinewidth": 0,
              "ticks": ""
             }
            },
            "type": "scatter"
           }
          ],
          "scatter3d": [
           {
            "line": {
             "colorbar": {
              "outlinewidth": 0,
              "ticks": ""
             }
            },
            "marker": {
             "colorbar": {
              "outlinewidth": 0,
              "ticks": ""
             }
            },
            "type": "scatter3d"
           }
          ],
          "scattercarpet": [
           {
            "marker": {
             "colorbar": {
              "outlinewidth": 0,
              "ticks": ""
             }
            },
            "type": "scattercarpet"
           }
          ],
          "scattergeo": [
           {
            "marker": {
             "colorbar": {
              "outlinewidth": 0,
              "ticks": ""
             }
            },
            "type": "scattergeo"
           }
          ],
          "scattergl": [
           {
            "marker": {
             "colorbar": {
              "outlinewidth": 0,
              "ticks": ""
             }
            },
            "type": "scattergl"
           }
          ],
          "scattermapbox": [
           {
            "marker": {
             "colorbar": {
              "outlinewidth": 0,
              "ticks": ""
             }
            },
            "type": "scattermapbox"
           }
          ],
          "scatterpolar": [
           {
            "marker": {
             "colorbar": {
              "outlinewidth": 0,
              "ticks": ""
             }
            },
            "type": "scatterpolar"
           }
          ],
          "scatterpolargl": [
           {
            "marker": {
             "colorbar": {
              "outlinewidth": 0,
              "ticks": ""
             }
            },
            "type": "scatterpolargl"
           }
          ],
          "scatterternary": [
           {
            "marker": {
             "colorbar": {
              "outlinewidth": 0,
              "ticks": ""
             }
            },
            "type": "scatterternary"
           }
          ],
          "surface": [
           {
            "colorbar": {
             "outlinewidth": 0,
             "ticks": ""
            },
            "colorscale": [
             [
              0,
              "#0d0887"
             ],
             [
              0.1111111111111111,
              "#46039f"
             ],
             [
              0.2222222222222222,
              "#7201a8"
             ],
             [
              0.3333333333333333,
              "#9c179e"
             ],
             [
              0.4444444444444444,
              "#bd3786"
             ],
             [
              0.5555555555555556,
              "#d8576b"
             ],
             [
              0.6666666666666666,
              "#ed7953"
             ],
             [
              0.7777777777777778,
              "#fb9f3a"
             ],
             [
              0.8888888888888888,
              "#fdca26"
             ],
             [
              1,
              "#f0f921"
             ]
            ],
            "type": "surface"
           }
          ],
          "table": [
           {
            "cells": {
             "fill": {
              "color": "#EBF0F8"
             },
             "line": {
              "color": "white"
             }
            },
            "header": {
             "fill": {
              "color": "#C8D4E3"
             },
             "line": {
              "color": "white"
             }
            },
            "type": "table"
           }
          ]
         },
         "layout": {
          "annotationdefaults": {
           "arrowcolor": "#2a3f5f",
           "arrowhead": 0,
           "arrowwidth": 1
          },
          "coloraxis": {
           "colorbar": {
            "outlinewidth": 0,
            "ticks": ""
           }
          },
          "colorscale": {
           "diverging": [
            [
             0,
             "#8e0152"
            ],
            [
             0.1,
             "#c51b7d"
            ],
            [
             0.2,
             "#de77ae"
            ],
            [
             0.3,
             "#f1b6da"
            ],
            [
             0.4,
             "#fde0ef"
            ],
            [
             0.5,
             "#f7f7f7"
            ],
            [
             0.6,
             "#e6f5d0"
            ],
            [
             0.7,
             "#b8e186"
            ],
            [
             0.8,
             "#7fbc41"
            ],
            [
             0.9,
             "#4d9221"
            ],
            [
             1,
             "#276419"
            ]
           ],
           "sequential": [
            [
             0,
             "#0d0887"
            ],
            [
             0.1111111111111111,
             "#46039f"
            ],
            [
             0.2222222222222222,
             "#7201a8"
            ],
            [
             0.3333333333333333,
             "#9c179e"
            ],
            [
             0.4444444444444444,
             "#bd3786"
            ],
            [
             0.5555555555555556,
             "#d8576b"
            ],
            [
             0.6666666666666666,
             "#ed7953"
            ],
            [
             0.7777777777777778,
             "#fb9f3a"
            ],
            [
             0.8888888888888888,
             "#fdca26"
            ],
            [
             1,
             "#f0f921"
            ]
           ],
           "sequentialminus": [
            [
             0,
             "#0d0887"
            ],
            [
             0.1111111111111111,
             "#46039f"
            ],
            [
             0.2222222222222222,
             "#7201a8"
            ],
            [
             0.3333333333333333,
             "#9c179e"
            ],
            [
             0.4444444444444444,
             "#bd3786"
            ],
            [
             0.5555555555555556,
             "#d8576b"
            ],
            [
             0.6666666666666666,
             "#ed7953"
            ],
            [
             0.7777777777777778,
             "#fb9f3a"
            ],
            [
             0.8888888888888888,
             "#fdca26"
            ],
            [
             1,
             "#f0f921"
            ]
           ]
          },
          "colorway": [
           "#636efa",
           "#EF553B",
           "#00cc96",
           "#ab63fa",
           "#FFA15A",
           "#19d3f3",
           "#FF6692",
           "#B6E880",
           "#FF97FF",
           "#FECB52"
          ],
          "font": {
           "color": "#2a3f5f"
          },
          "geo": {
           "bgcolor": "white",
           "lakecolor": "white",
           "landcolor": "#E5ECF6",
           "showlakes": true,
           "showland": true,
           "subunitcolor": "white"
          },
          "hoverlabel": {
           "align": "left"
          },
          "hovermode": "closest",
          "mapbox": {
           "style": "light"
          },
          "paper_bgcolor": "white",
          "plot_bgcolor": "#E5ECF6",
          "polar": {
           "angularaxis": {
            "gridcolor": "white",
            "linecolor": "white",
            "ticks": ""
           },
           "bgcolor": "#E5ECF6",
           "radialaxis": {
            "gridcolor": "white",
            "linecolor": "white",
            "ticks": ""
           }
          },
          "scene": {
           "xaxis": {
            "backgroundcolor": "#E5ECF6",
            "gridcolor": "white",
            "gridwidth": 2,
            "linecolor": "white",
            "showbackground": true,
            "ticks": "",
            "zerolinecolor": "white"
           },
           "yaxis": {
            "backgroundcolor": "#E5ECF6",
            "gridcolor": "white",
            "gridwidth": 2,
            "linecolor": "white",
            "showbackground": true,
            "ticks": "",
            "zerolinecolor": "white"
           },
           "zaxis": {
            "backgroundcolor": "#E5ECF6",
            "gridcolor": "white",
            "gridwidth": 2,
            "linecolor": "white",
            "showbackground": true,
            "ticks": "",
            "zerolinecolor": "white"
           }
          },
          "shapedefaults": {
           "line": {
            "color": "#2a3f5f"
           }
          },
          "ternary": {
           "aaxis": {
            "gridcolor": "white",
            "linecolor": "white",
            "ticks": ""
           },
           "baxis": {
            "gridcolor": "white",
            "linecolor": "white",
            "ticks": ""
           },
           "bgcolor": "#E5ECF6",
           "caxis": {
            "gridcolor": "white",
            "linecolor": "white",
            "ticks": ""
           }
          },
          "title": {
           "x": 0.05
          },
          "xaxis": {
           "automargin": true,
           "gridcolor": "white",
           "linecolor": "white",
           "ticks": "",
           "title": {
            "standoff": 15
           },
           "zerolinecolor": "white",
           "zerolinewidth": 2
          },
          "yaxis": {
           "automargin": true,
           "gridcolor": "white",
           "linecolor": "white",
           "ticks": "",
           "title": {
            "standoff": 15
           },
           "zerolinecolor": "white",
           "zerolinewidth": 2
          }
         }
        },
        "title": {
         "text": "Trajectories containing mutation DNMT3A"
        },
        "xaxis": {
         "title": {
          "text": "Time (years since first age)"
         }
        },
        "yaxis": {
         "title": {
          "text": "VAF"
         }
        }
       }
      },
      "text/html": [
       "<div>\n",
       "        \n",
       "        \n",
       "            <div id=\"8f8c3ebe-7b1a-4a56-95c9-149db01e4363\" class=\"plotly-graph-div\" style=\"height:525px; width:100%;\"></div>\n",
       "            <script type=\"text/javascript\">\n",
       "                require([\"plotly\"], function(Plotly) {\n",
       "                    window.PLOTLYENV=window.PLOTLYENV || {};\n",
       "                    \n",
       "                if (document.getElementById(\"8f8c3ebe-7b1a-4a56-95c9-149db01e4363\")) {\n",
       "                    Plotly.newPlot(\n",
       "                        '8f8c3ebe-7b1a-4a56-95c9-149db01e4363',\n",
       "                        [{\"hovertemplate\": \"LBC0001A\", \"mode\": \"lines+markers\", \"name\": \"DNMT3A c.326_327inv\", \"type\": \"scatter\", \"x\": [79, 88], \"y\": [0.0064, 0.0108]}, {\"hovertemplate\": \"LBC0001A\", \"mode\": \"lines+markers\", \"name\": \"DNMT3A c.329A>C\", \"type\": \"scatter\", \"x\": [79, 85, 88], \"y\": [0.0057, 0.0026, 0.0108]}, {\"hovertemplate\": \"LBC0031R\", \"mode\": \"lines+markers\", \"name\": \"DNMT3A c.2306T>G\", \"type\": \"scatter\", \"x\": [79, 85, 88, 91], \"y\": [0.0279, 0.015, 0.0257, 0.0168]}, {\"hovertemplate\": \"LBC0031R\", \"mode\": \"lines+markers\", \"name\": \"DNMT3A c.19A>C\", \"type\": \"scatter\", \"x\": [79, 85, 88, 91], \"y\": [0.017, 0.0067, 0.0053, 0.0038]}, {\"hovertemplate\": \"LBC0031R\", \"mode\": \"lines+markers\", \"name\": \"DNMT3A c.1736A>C\", \"type\": \"scatter\", \"x\": [85, 88, 91], \"y\": [0.0077, 0.0127, 0.0073]}, {\"hovertemplate\": \"LBC0040V\", \"mode\": \"lines+markers\", \"name\": \"DNMT3A c.1903C>T\", \"type\": \"scatter\", \"x\": [79, 85], \"y\": [0.0132, 0.0082]}, {\"hovertemplate\": \"LBC0040V\", \"mode\": \"lines+markers\", \"name\": \"DNMT3A c.1668-3C>G\", \"type\": \"scatter\", \"x\": [79, 85], \"y\": [0.024, 0.4328]}, {\"hovertemplate\": \"LBC0046H\", \"mode\": \"lines+markers\", \"name\": \"DNMT3A c.2120del\", \"type\": \"scatter\", \"x\": [79, 91], \"y\": [0.0107, 0.0025]}, {\"hovertemplate\": \"LBC0046H\", \"mode\": \"lines+markers\", \"name\": \"DNMT3A c.356A>C\", \"type\": \"scatter\", \"x\": [85, 88, 91], \"y\": [0.012, 0.0116, 0.0102]}, {\"hovertemplate\": \"LBC0046H\", \"mode\": \"lines+markers\", \"name\": \"DNMT3A c.331A>C\", \"type\": \"scatter\", \"x\": [85, 88, 91], \"y\": [0.012, 0.0086, 0.0103]}, {\"hovertemplate\": \"LBC0047K\", \"mode\": \"lines+markers\", \"name\": \"DNMT3A c.2517del\", \"type\": \"scatter\", \"x\": [79, 85], \"y\": [0.3609, 0.444]}, {\"hovertemplate\": \"LBC0065A\", \"mode\": \"lines+markers\", \"name\": \"DNMT3A c.639+2T>G\", \"type\": \"scatter\", \"x\": [85, 88], \"y\": [0.0044, 0.0105]}, {\"hovertemplate\": \"LBC0065A\", \"mode\": \"lines+markers\", \"name\": \"DNMT3A c.19A>C\", \"type\": \"scatter\", \"x\": [79, 85, 88, 91], \"y\": [0.0119, 0.0033, 0.0092, 0.003]}, {\"hovertemplate\": \"LBC0065A\", \"mode\": \"lines+markers\", \"name\": \"DNMT3A c.43T>G\", \"type\": \"scatter\", \"x\": [88, 91], \"y\": [0.0102, 0.0029]}, {\"hovertemplate\": \"LBC0065A\", \"mode\": \"lines+markers\", \"name\": \"DNMT3A c.1973A>C\", \"type\": \"scatter\", \"x\": [79, 85, 88, 91], \"y\": [0.0122, 0.0029, 0.0076, 0.004]}, {\"hovertemplate\": \"LBC0065A\", \"mode\": \"lines+markers\", \"name\": \"DNMT3A c.794T>G\", \"type\": \"scatter\", \"x\": [79, 85, 88, 91], \"y\": [0.0108, 0.0042, 0.0108, 0.0051]}, {\"hovertemplate\": \"LBC0065A\", \"mode\": \"lines+markers\", \"name\": \"DNMT3A c.59A>G\", \"type\": \"scatter\", \"x\": [79, 85], \"y\": [0.011, 0.0028]}, {\"hovertemplate\": \"LBC0065A\", \"mode\": \"lines+markers\", \"name\": \"DNMT3A c.1A>C\", \"type\": \"scatter\", \"x\": [88, 91], \"y\": [0.0101, 0.0026]}, {\"hovertemplate\": \"LBC0065A\", \"mode\": \"lines+markers\", \"name\": \"DNMT3A c.2003A>C\", \"type\": \"scatter\", \"x\": [79, 85, 88, 91], \"y\": [0.011, 0.0044, 0.0072, 0.0036]}, {\"hovertemplate\": \"LBC0065A\", \"mode\": \"lines+markers\", \"name\": \"DNMT3A c.356A>C\", \"type\": \"scatter\", \"x\": [85, 88, 91], \"y\": [0.0087, 0.0105, 0.0073]}, {\"hovertemplate\": \"LBC0065A\", \"mode\": \"lines+markers\", \"name\": \"DNMT3A c.2674T>G\", \"type\": \"scatter\", \"x\": [79, 85, 88], \"y\": [0.01, 0.0023, 0.0048]}, {\"hovertemplate\": \"LBC0065A\", \"mode\": \"lines+markers\", \"name\": \"DNMT3A c.331A>C\", \"type\": \"scatter\", \"x\": [85, 88, 91], \"y\": [0.0097, 0.0105, 0.0045]}, {\"hovertemplate\": \"LBC0068H\", \"mode\": \"lines+markers\", \"name\": \"DNMT3A c.2390A>G\", \"type\": \"scatter\", \"x\": [79, 85], \"y\": [0.1367, 0.1412]}, {\"hovertemplate\": \"LBC0068H\", \"mode\": \"lines+markers\", \"name\": \"DNMT3A c.2243_2259del\", \"type\": \"scatter\", \"x\": [79, 85], \"y\": [0.0353, 0.0924]}, {\"hovertemplate\": \"LBC0102H\", \"mode\": \"lines+markers\", \"name\": \"DNMT3A c.1973A>C\", \"type\": \"scatter\", \"x\": [79, 85, 88, 91], \"y\": [0.0102, 0.0059, 0.0051, 0.0061]}, {\"hovertemplate\": \"LBC0102H\", \"mode\": \"lines+markers\", \"name\": \"DNMT3A c.422A>C\", \"type\": \"scatter\", \"x\": [79, 85, 91], \"y\": [0.0197, 0.0038, 0.0019]}, {\"hovertemplate\": \"LBC0102H\", \"mode\": \"lines+markers\", \"name\": \"DNMT3A c.2093G>A\", \"type\": \"scatter\", \"x\": [79, 85, 88, 91], \"y\": [0.0122, 0.0061, 0.0052, 0.0057]}, {\"hovertemplate\": \"LBC0111B\", \"mode\": \"lines+markers\", \"name\": \"DNMT3A c.1258A>T\", \"type\": \"scatter\", \"x\": [79, 85, 88], \"y\": [0.0115, 0.0082, 0.0035]}, {\"hovertemplate\": \"LBC0118V\", \"mode\": \"lines+markers\", \"name\": \"DNMT3A c.19A>C\", \"type\": \"scatter\", \"x\": [79, 85, 88, 91], \"y\": [0.0081, 0.0034, 0.0133, 0.0027]}, {\"hovertemplate\": \"LBC0118V\", \"mode\": \"lines+markers\", \"name\": \"DNMT3A c.1973A>C\", \"type\": \"scatter\", \"x\": [79, 85, 88, 91], \"y\": [0.0108, 0.0038, 0.0107, 0.0024]}, {\"hovertemplate\": \"LBC0118V\", \"mode\": \"lines+markers\", \"name\": \"DNMT3A c.992T>G\", \"type\": \"scatter\", \"x\": [85, 88], \"y\": [0.0035, 0.0112]}, {\"hovertemplate\": \"LBC0118V\", \"mode\": \"lines+markers\", \"name\": \"DNMT3A c.370A>C\", \"type\": \"scatter\", \"x\": [85, 91], \"y\": [0.0108, 0.0077]}, {\"hovertemplate\": \"LBC0118V\", \"mode\": \"lines+markers\", \"name\": \"DNMT3A c.794T>G\", \"type\": \"scatter\", \"x\": [85, 88, 91], \"y\": [0.0044, 0.0111, 0.0042]}, {\"hovertemplate\": \"LBC0118V\", \"mode\": \"lines+markers\", \"name\": \"DNMT3A c.331A>C\", \"type\": \"scatter\", \"x\": [85, 88, 91], \"y\": [0.0108, 0.0093, 0.0088]}, {\"hovertemplate\": \"LBC0118V\", \"mode\": \"lines+markers\", \"name\": \"DNMT3A c.356A>C\", \"type\": \"scatter\", \"x\": [79, 85, 88], \"y\": [0.0318, 0.0032, 0.0088]}, {\"hovertemplate\": \"LBC0144B\", \"mode\": \"lines+markers\", \"name\": \"DNMT3A c.332A>C\", \"type\": \"scatter\", \"x\": [85, 88, 91], \"y\": [0.0063, 0.0118, 0.0044]}, {\"hovertemplate\": \"LBC0144B\", \"mode\": \"lines+markers\", \"name\": \"DNMT3A c.682G>A\", \"type\": \"scatter\", \"x\": [79, 91], \"y\": [0.0114, 0.0014]}, {\"hovertemplate\": \"LBC0144B\", \"mode\": \"lines+markers\", \"name\": \"DNMT3A c.1522dup\", \"type\": \"scatter\", \"x\": [79, 85], \"y\": [0.0201, 0.0014]}, {\"hovertemplate\": \"LBC0144B\", \"mode\": \"lines+markers\", \"name\": \"DNMT3A c.331A>C\", \"type\": \"scatter\", \"x\": [85, 88, 91], \"y\": [0.0084, 0.0114, 0.0048]}, {\"hovertemplate\": \"LBC0148L\", \"mode\": \"lines+markers\", \"name\": \"DNMT3A c.762del\", \"type\": \"scatter\", \"x\": [79, 85], \"y\": [0.0213, 0.0356]}, {\"hovertemplate\": \"LBC0152W\", \"mode\": \"lines+markers\", \"name\": \"DNMT3A c.2674T>G\", \"type\": \"scatter\", \"x\": [79, 85, 88, 91], \"y\": [0.0112, 0.0056, 0.008, 0.0085]}, {\"hovertemplate\": \"LBC0152W\", \"mode\": \"lines+markers\", \"name\": \"DNMT3A c.2714T>C\", \"type\": \"scatter\", \"x\": [79, 85, 88, 91], \"y\": [0.005, 0.0071, 0.0184, 0.0106]}, {\"hovertemplate\": \"LBC0152W\", \"mode\": \"lines+markers\", \"name\": \"DNMT3A c.1429+1G>A\", \"type\": \"scatter\", \"x\": [79, 85, 88, 91], \"y\": [0.0154, 0.0054, 0.0076, 0.0105]}, {\"hovertemplate\": \"LBC0152W\", \"mode\": \"lines+markers\", \"name\": \"DNMT3A c.794T>G\", \"type\": \"scatter\", \"x\": [79, 85, 88, 91], \"y\": [0.016, 0.0061, 0.0101, 0.0047]}, {\"hovertemplate\": \"LBC0152W\", \"mode\": \"lines+markers\", \"name\": \"DNMT3A c.331A>C\", \"type\": \"scatter\", \"x\": [85, 88, 91], \"y\": [0.0055, 0.0118, 0.0087]}, {\"hovertemplate\": \"LBC0165A\", \"mode\": \"lines+markers\", \"name\": \"DNMT3A c.1969G>A\", \"type\": \"scatter\", \"x\": [79, 85, 88], \"y\": [0.0254, 0.0421, 0.0497]}, {\"hovertemplate\": \"LBC0176A\", \"mode\": \"lines+markers\", \"name\": \"DNMT3A c.553A>C\", \"type\": \"scatter\", \"x\": [88, 91], \"y\": [0.0106, 0.0047]}, {\"hovertemplate\": \"LBC0176A\", \"mode\": \"lines+markers\", \"name\": \"DNMT3A c.794T>G\", \"type\": \"scatter\", \"x\": [79, 85, 88, 91], \"y\": [0.0119, 0.0053, 0.0045, 0.0044]}, {\"hovertemplate\": \"LBC0176A\", \"mode\": \"lines+markers\", \"name\": \"DNMT3A c.1553A>G\", \"type\": \"scatter\", \"x\": [79, 85], \"y\": [0.0125, 0.0044]}, {\"hovertemplate\": \"LBC0176A\", \"mode\": \"lines+markers\", \"name\": \"DNMT3A c.332A>C\", \"type\": \"scatter\", \"x\": [79, 85, 88, 91], \"y\": [0.0183, 0.014, 0.0051, 0.0068]}, {\"hovertemplate\": \"LBC0176A\", \"mode\": \"lines+markers\", \"name\": \"DNMT3A c.1736A>C\", \"type\": \"scatter\", \"x\": [85, 88, 91], \"y\": [0.0114, 0.0085, 0.0097]}, {\"hovertemplate\": \"LBC0176A\", \"mode\": \"lines+markers\", \"name\": \"DNMT3A c.331A>C\", \"type\": \"scatter\", \"x\": [85, 88, 91], \"y\": [0.014, 0.0062, 0.0054]}, {\"hovertemplate\": \"LBC0220K\", \"mode\": \"lines+markers\", \"name\": \"DNMT3A c.1781T>G\", \"type\": \"scatter\", \"x\": [79, 85, 91], \"y\": [0.0159, 0.0105, 0.0044]}, {\"hovertemplate\": \"LBC0220K\", \"mode\": \"lines+markers\", \"name\": \"DNMT3A c.1736A>C\", \"type\": \"scatter\", \"x\": [79, 85, 88, 91], \"y\": [0.0144, 0.0106, 0.0119, 0.0114]}, {\"hovertemplate\": \"LBC0220K\", \"mode\": \"lines+markers\", \"name\": \"DNMT3A c.356A>C\", \"type\": \"scatter\", \"x\": [85, 88, 91], \"y\": [0.0195, 0.0134, 0.0091]}, {\"hovertemplate\": \"LBC0220K\", \"mode\": \"lines+markers\", \"name\": \"DNMT3A c.2141C>T\", \"type\": \"scatter\", \"x\": [79, 85, 88, 91], \"y\": [0.0092, 0.008, 0.0112, 0.0103]}, {\"hovertemplate\": \"LBC0220K\", \"mode\": \"lines+markers\", \"name\": \"DNMT3A c.1718A>C\", \"type\": \"scatter\", \"x\": [79, 85, 88, 91], \"y\": [0.0155, 0.0131, 0.0178, 0.0116]}, {\"hovertemplate\": \"LBC0220K\", \"mode\": \"lines+markers\", \"name\": \"DNMT3A c.331A>C\", \"type\": \"scatter\", \"x\": [85, 88, 91], \"y\": [0.005, 0.0119, 0.0035]}, {\"hovertemplate\": \"LBC0220K\", \"mode\": \"lines+markers\", \"name\": \"DNMT3A c.992T>G\", \"type\": \"scatter\", \"x\": [88, 91], \"y\": [0.0121, 0.0031]}, {\"hovertemplate\": \"LBC0242M\", \"mode\": \"lines+markers\", \"name\": \"DNMT3A c.337G>T\", \"type\": \"scatter\", \"x\": [79, 85, 88], \"y\": [0.0427, 0.0034, 0.0046]}, {\"hovertemplate\": \"LBC0242M\", \"mode\": \"lines+markers\", \"name\": \"DNMT3A c.370A>C\", \"type\": \"scatter\", \"x\": [85, 88, 91], \"y\": [0.0139, 0.005, 0.0053]}, {\"hovertemplate\": \"LBC0263L\", \"mode\": \"lines+markers\", \"name\": \"DNMT3A c.19A>C\", \"type\": \"scatter\", \"x\": [79, 85, 88, 91], \"y\": [0.0059, 0.0087, 0.0104, 0.01]}, {\"hovertemplate\": \"LBC0263L\", \"mode\": \"lines+markers\", \"name\": \"DNMT3A c.1736A>C\", \"type\": \"scatter\", \"x\": [79, 85, 88, 91], \"y\": [0.0077, 0.011, 0.0091, 0.0105]}, {\"hovertemplate\": \"LBC0263L\", \"mode\": \"lines+markers\", \"name\": \"DNMT3A c.1238del\", \"type\": \"scatter\", \"x\": [85, 88], \"y\": [0.0104, 0.0048]}, {\"hovertemplate\": \"LBC0284K\", \"mode\": \"lines+markers\", \"name\": \"DNMT3A c.2120dup\", \"type\": \"scatter\", \"x\": [79, 85], \"y\": [0.0118, 0.0013]}, {\"hovertemplate\": \"LBC0284K\", \"mode\": \"lines+markers\", \"name\": \"DNMT3A c.19A>C\", \"type\": \"scatter\", \"x\": [79, 85, 88, 91], \"y\": [0.0186, 0.0055, 0.0163, 0.0055]}, {\"hovertemplate\": \"LBC0284K\", \"mode\": \"lines+markers\", \"name\": \"DNMT3A c.34A>C\", \"type\": \"scatter\", \"x\": [79, 85, 88, 91], \"y\": [0.011, 0.0066, 0.0116, 0.0053]}, {\"hovertemplate\": \"LBC0284K\", \"mode\": \"lines+markers\", \"name\": \"DNMT3A c.2312G>A\", \"type\": \"scatter\", \"x\": [79, 85, 88, 91], \"y\": [0.0157, 0.0024, 0.0024, 0.0022]}, {\"hovertemplate\": \"LBC0293E\", \"mode\": \"lines+markers\", \"name\": \"DNMT3A c.1510dup\", \"type\": \"scatter\", \"x\": [79, 85, 88], \"y\": [0.0857, 0.1126, 0.108]}, {\"hovertemplate\": \"LBC0293E\", \"mode\": \"lines+markers\", \"name\": \"DNMT3A c.2230A>T\", \"type\": \"scatter\", \"x\": [79, 85, 88], \"y\": [0.0646, 0.0862, 0.1097]}, {\"hovertemplate\": \"LBC0377A\", \"mode\": \"lines+markers\", \"name\": \"DNMT3A c.1973A>C\", \"type\": \"scatter\", \"x\": [79, 85, 88], \"y\": [0.0121, 0.0058, 0.0039]}, {\"hovertemplate\": \"LBC0377A\", \"mode\": \"lines+markers\", \"name\": \"DNMT3A c.794T>G\", \"type\": \"scatter\", \"x\": [79, 85, 88, 91], \"y\": [0.0113, 0.0073, 0.0082, 0.006999999999999999]}, {\"hovertemplate\": \"LBC0392K\", \"mode\": \"lines+markers\", \"name\": \"DNMT3A c.326_327inv\", \"type\": \"scatter\", \"x\": [88, 91], \"y\": [0.0095, 0.0128]}, {\"hovertemplate\": \"LBC0392K\", \"mode\": \"lines+markers\", \"name\": \"DNMT3A c.331_335inv\", \"type\": \"scatter\", \"x\": [88, 91], \"y\": [0.0058, 0.0111]}, {\"hovertemplate\": \"LBC0392K\", \"mode\": \"lines+markers\", \"name\": \"DNMT3A c.291T>G\", \"type\": \"scatter\", \"x\": [85, 88, 91], \"y\": [0.0066, 0.0063, 0.0139]}, {\"hovertemplate\": \"LBC0392K\", \"mode\": \"lines+markers\", \"name\": \"DNMT3A c.337G>T\", \"type\": \"scatter\", \"x\": [79, 88, 91], \"y\": [0.0143, 0.0071, 0.0104]}, {\"hovertemplate\": \"LBC0392K\", \"mode\": \"lines+markers\", \"name\": \"DNMT3A c.32A>C\", \"type\": \"scatter\", \"x\": [79, 85, 88, 91], \"y\": [0.0112, 0.0101, 0.006, 0.0072]}, {\"hovertemplate\": \"LBC0392K\", \"mode\": \"lines+markers\", \"name\": \"DNMT3A c.339_340inv\", \"type\": \"scatter\", \"x\": [88, 91], \"y\": [0.0056, 0.0106]}, {\"hovertemplate\": \"LBC0392K\", \"mode\": \"lines+markers\", \"name\": \"DNMT3A c.299A>C\", \"type\": \"scatter\", \"x\": [85, 91], \"y\": [0.0058, 0.0138]}, {\"hovertemplate\": \"LBC0392K\", \"mode\": \"lines+markers\", \"name\": \"DNMT3A c.332A>C\", \"type\": \"scatter\", \"x\": [79, 85, 88, 91], \"y\": [0.0426, 0.0047, 0.0114, 0.0199]}, {\"hovertemplate\": \"LBC0392K\", \"mode\": \"lines+markers\", \"name\": \"DNMT3A c.2705del\", \"type\": \"scatter\", \"x\": [79, 85, 91], \"y\": [0.01, 0.0021, 0.0032]}, {\"hovertemplate\": \"LBC0392K\", \"mode\": \"lines+markers\", \"name\": \"DNMT3A c.553A>C\", \"type\": \"scatter\", \"x\": [79, 91], \"y\": [0.0155, 0.0111]}, {\"hovertemplate\": \"LBC0392K\", \"mode\": \"lines+markers\", \"name\": \"DNMT3A c.329A>C\", \"type\": \"scatter\", \"x\": [79, 88, 91], \"y\": [0.0206, 0.0101, 0.0139]}, {\"hovertemplate\": \"LBC0392K\", \"mode\": \"lines+markers\", \"name\": \"DNMT3A c.331A>C\", \"type\": \"scatter\", \"x\": [79, 88, 91], \"y\": [0.028, 0.0117, 0.0173]}, {\"hovertemplate\": \"LBC0392K\", \"mode\": \"lines+markers\", \"name\": \"DNMT3A c.43T>G\", \"type\": \"scatter\", \"x\": [79, 88], \"y\": [0.0192, 0.0069]}, {\"hovertemplate\": \"LBC0405M\", \"mode\": \"lines+markers\", \"name\": \"DNMT3A c.299A>C\", \"type\": \"scatter\", \"x\": [85, 88, 91], \"y\": [0.0083, 0.0128, 0.0038]}, {\"hovertemplate\": \"LBC0405M\", \"mode\": \"lines+markers\", \"name\": \"DNMT3A c.19A>C\", \"type\": \"scatter\", \"x\": [79, 85, 88, 91], \"y\": [0.027000000000000003, 0.0083, 0.0044, 0.0101]}, {\"hovertemplate\": \"LBC0405M\", \"mode\": \"lines+markers\", \"name\": \"DNMT3A c.34A>C\", \"type\": \"scatter\", \"x\": [79, 85, 88, 91], \"y\": [0.012, 0.0121, 0.0088, 0.0099]}, {\"hovertemplate\": \"LBC0405M\", \"mode\": \"lines+markers\", \"name\": \"DNMT3A c.40A>C\", \"type\": \"scatter\", \"x\": [79, 85, 88, 91], \"y\": [0.011, 0.0057, 0.0053, 0.0107]}, {\"hovertemplate\": \"LBC0405M\", \"mode\": \"lines+markers\", \"name\": \"DNMT3A c.37A>C\", \"type\": \"scatter\", \"x\": [79, 85, 88, 91], \"y\": [0.0149, 0.0084, 0.0095, 0.0112]}, {\"hovertemplate\": \"LBC0405M\", \"mode\": \"lines+markers\", \"name\": \"DNMT3A c.794T>G\", \"type\": \"scatter\", \"x\": [79, 85, 88, 91], \"y\": [0.0175, 0.0047, 0.0083, 0.0088]}, {\"hovertemplate\": \"LBC0405M\", \"mode\": \"lines+markers\", \"name\": \"DNMT3A c.1387G>T\", \"type\": \"scatter\", \"x\": [79, 85, 88, 91], \"y\": [0.0037, 0.0059, 0.009000000000000001, 0.0113]}, {\"hovertemplate\": \"LBC0405M\", \"mode\": \"lines+markers\", \"name\": \"DNMT3A c.331A>C\", \"type\": \"scatter\", \"x\": [85, 88, 91], \"y\": [0.0136, 0.0055, 0.0086]}, {\"hovertemplate\": \"LBC0405M\", \"mode\": \"lines+markers\", \"name\": \"DNMT3A c.43T>G\", \"type\": \"scatter\", \"x\": [79, 85, 88, 91], \"y\": [0.0135, 0.0031, 0.0035, 0.0073]}, {\"hovertemplate\": \"LBC0429V\", \"mode\": \"lines+markers\", \"name\": \"DNMT3A c.992T>G\", \"type\": \"scatter\", \"x\": [85, 88, 91], \"y\": [0.0035, 0.0103, 0.0043]}, {\"hovertemplate\": \"LBC0429V\", \"mode\": \"lines+markers\", \"name\": \"DNMT3A c.794T>G\", \"type\": \"scatter\", \"x\": [85, 88, 91], \"y\": [0.0057, 0.0101, 0.0079]}, {\"hovertemplate\": \"LBC0439R\", \"mode\": \"lines+markers\", \"name\": \"DNMT3A c.299A>C\", \"type\": \"scatter\", \"x\": [88, 91], \"y\": [0.0201, 0.0088]}, {\"hovertemplate\": \"LBC0439R\", \"mode\": \"lines+markers\", \"name\": \"DNMT3A c.19A>C\", \"type\": \"scatter\", \"x\": [79, 85, 88, 91], \"y\": [0.0212, 0.0079, 0.0069, 0.0089]}, {\"hovertemplate\": \"LBC0439R\", \"mode\": \"lines+markers\", \"name\": \"DNMT3A c.37A>C\", \"type\": \"scatter\", \"x\": [79, 85, 88, 91], \"y\": [0.0084, 0.0056, 0.0063, 0.0126]}, {\"hovertemplate\": \"LBC0439R\", \"mode\": \"lines+markers\", \"name\": \"DNMT3A c.356A>C\", \"type\": \"scatter\", \"x\": [85, 88, 91], \"y\": [0.0089, 0.0107, 0.0051]}, {\"hovertemplate\": \"LBC0439R\", \"mode\": \"lines+markers\", \"name\": \"DNMT3A c.1784T>G\", \"type\": \"scatter\", \"x\": [85, 88, 91], \"y\": [0.003, 0.0122, 0.009000000000000001]}, {\"hovertemplate\": \"LBC0446H\", \"mode\": \"lines+markers\", \"name\": \"DNMT3A c.326_327inv\", \"type\": \"scatter\", \"x\": [85, 88, 91], \"y\": [0.0063, 0.0113, 0.0058]}, {\"hovertemplate\": \"LBC0446H\", \"mode\": \"lines+markers\", \"name\": \"DNMT3A c.2674T>G\", \"type\": \"scatter\", \"x\": [79, 85, 88, 91], \"y\": [0.0072, 0.0047, 0.0122, 0.0068]}, {\"hovertemplate\": \"LBC0446H\", \"mode\": \"lines+markers\", \"name\": \"DNMT3A c.2060T>A\", \"type\": \"scatter\", \"x\": [79, 85, 88, 91], \"y\": [0.0662, 0.0648, 0.0618, 0.0711]}, {\"hovertemplate\": \"LBC0446H\", \"mode\": \"lines+markers\", \"name\": \"DNMT3A c.40A>G\", \"type\": \"scatter\", \"x\": [79, 85, 88, 91], \"y\": [0.0105, 0.0038, 0.0048, 0.003]}, {\"hovertemplate\": \"LBC0446H\", \"mode\": \"lines+markers\", \"name\": \"DNMT3A c.293A>C\", \"type\": \"scatter\", \"x\": [88, 91], \"y\": [0.0096, 0.0106]}, {\"hovertemplate\": \"LBC0446H\", \"mode\": \"lines+markers\", \"name\": \"DNMT3A c.37A>C\", \"type\": \"scatter\", \"x\": [79, 85, 88, 91], \"y\": [0.0114, 0.0053, 0.0143, 0.0079]}, {\"hovertemplate\": \"LBC0446H\", \"mode\": \"lines+markers\", \"name\": \"DNMT3A c.19A>C\", \"type\": \"scatter\", \"x\": [79, 85, 88, 91], \"y\": [0.012, 0.0077, 0.0132, 0.0079]}, {\"hovertemplate\": \"LBC0461R\", \"mode\": \"lines+markers\", \"name\": \"DNMT3A c.1718A>C\", \"type\": \"scatter\", \"x\": [79, 85, 88, 91], \"y\": [0.0293, 0.0142, 0.0161, 0.0118]}, {\"hovertemplate\": \"LBC0461R\", \"mode\": \"lines+markers\", \"name\": \"DNMT3A c.299A>C\", \"type\": \"scatter\", \"x\": [85, 88, 91], \"y\": [0.0085, 0.0056, 0.0107]}, {\"hovertemplate\": \"LBC0461R\", \"mode\": \"lines+markers\", \"name\": \"DNMT3A c.19A>C\", \"type\": \"scatter\", \"x\": [85, 88, 91], \"y\": [0.0124, 0.0071, 0.0129]}, {\"hovertemplate\": \"LBC0461R\", \"mode\": \"lines+markers\", \"name\": \"DNMT3A c.37A>C\", \"type\": \"scatter\", \"x\": [79, 85, 88, 91], \"y\": [0.0093, 0.0078, 0.0074, 0.0162]}, {\"hovertemplate\": \"LBC0461R\", \"mode\": \"lines+markers\", \"name\": \"DNMT3A c.553A>C\", \"type\": \"scatter\", \"x\": [88, 91], \"y\": [0.0048, 0.0104]}, {\"hovertemplate\": \"LBC0461R\", \"mode\": \"lines+markers\", \"name\": \"DNMT3A c.40A>C\", \"type\": \"scatter\", \"x\": [79, 85, 88, 91], \"y\": [0.0137, 0.0057, 0.0028, 0.0054]}, {\"hovertemplate\": \"LBC0461R\", \"mode\": \"lines+markers\", \"name\": \"DNMT3A c.794T>G\", \"type\": \"scatter\", \"x\": [79, 85, 88, 91], \"y\": [0.0092, 0.0065, 0.0095, 0.0105]}, {\"hovertemplate\": \"LBC0461R\", \"mode\": \"lines+markers\", \"name\": \"DNMT3A c.2120dup\", \"type\": \"scatter\", \"x\": [79, 91], \"y\": [0.0114, 0.0012]}, {\"hovertemplate\": \"LBC0461R\", \"mode\": \"lines+markers\", \"name\": \"DNMT3A c.2674T>G\", \"type\": \"scatter\", \"x\": [79, 85, 88, 91], \"y\": [0.0164, 0.004, 0.0041, 0.0049]}, {\"hovertemplate\": \"LBC0464X\", \"mode\": \"lines+markers\", \"name\": \"DNMT3A c.794T>G\", \"type\": \"scatter\", \"x\": [79, 85, 88, 91], \"y\": [0.0142, 0.004, 0.0065, 0.0081]}, {\"hovertemplate\": \"LBC0464X\", \"mode\": \"lines+markers\", \"name\": \"DNMT3A c.331A>C\", \"type\": \"scatter\", \"x\": [85, 88, 91], \"y\": [0.011, 0.0065, 0.0065]}, {\"hovertemplate\": \"LBC0464X\", \"mode\": \"lines+markers\", \"name\": \"DNMT3A c.2173+1G>A\", \"type\": \"scatter\", \"x\": [79, 85, 88, 91], \"y\": [0.017, 0.0362, 0.0439, 0.0449]}, {\"hovertemplate\": \"LBC0471M\", \"mode\": \"lines+markers\", \"name\": \"DNMT3A c.1736A>C\", \"type\": \"scatter\", \"x\": [79, 85, 88, 91], \"y\": [0.0146, 0.0038, 0.0104, 0.0047]}, {\"hovertemplate\": \"LBC0484V\", \"mode\": \"lines+markers\", \"name\": \"DNMT3A c.1736A>C\", \"type\": \"scatter\", \"x\": [79, 85, 88], \"y\": [0.0058, 0.0106, 0.0068]}, {\"hovertemplate\": \"LBC0484V\", \"mode\": \"lines+markers\", \"name\": \"DNMT3A c.331A>C\", \"type\": \"scatter\", \"x\": [79, 85, 88], \"y\": [0.0031, 0.0087, 0.0101]}, {\"hovertemplate\": \"LBC0516R\", \"mode\": \"lines+markers\", \"name\": \"DNMT3A c.10A>G\", \"type\": \"scatter\", \"x\": [79, 85], \"y\": [0.0106, 0.0021]}, {\"hovertemplate\": \"LBC0517V\", \"mode\": \"lines+markers\", \"name\": \"DNMT3A c.2120dup\", \"type\": \"scatter\", \"x\": [79, 91], \"y\": [0.0232, 0.0012]}, {\"hovertemplate\": \"LBC0517V\", \"mode\": \"lines+markers\", \"name\": \"DNMT3A c.2644C>T\", \"type\": \"scatter\", \"x\": [79, 85, 88, 91], \"y\": [0.0345, 0.0244, 0.0204, 0.0184]}, {\"hovertemplate\": \"LBC0520A\", \"mode\": \"lines+markers\", \"name\": \"DNMT3A c.2714T>C\", \"type\": \"scatter\", \"x\": [79, 85, 88, 91], \"y\": [0.0092, 0.011, 0.0098, 0.0097]}, {\"hovertemplate\": \"LBC0520A\", \"mode\": \"lines+markers\", \"name\": \"DNMT3A c.19A>C\", \"type\": \"scatter\", \"x\": [85, 88, 91], \"y\": [0.0044, 0.0109, 0.005]}, {\"hovertemplate\": \"LBC0520A\", \"mode\": \"lines+markers\", \"name\": \"DNMT3A c.1718A>C\", \"type\": \"scatter\", \"x\": [85, 88, 91], \"y\": [0.0159, 0.0174, 0.0132]}, {\"hovertemplate\": \"LBC0588E\", \"mode\": \"lines+markers\", \"name\": \"DNMT3A c.2108T>A\", \"type\": \"scatter\", \"x\": [79, 85, 88, 91], \"y\": [0.0126, 0.0073, 0.0053, 0.0031]}, {\"hovertemplate\": \"LBC0588E\", \"mode\": \"lines+markers\", \"name\": \"DNMT3A c.1945G>A\", \"type\": \"scatter\", \"x\": [79, 85, 88], \"y\": [0.0123, 0.0086, 0.0033]}, {\"hovertemplate\": \"LBC0588E\", \"mode\": \"lines+markers\", \"name\": \"DNMT3A c.59A>G\", \"type\": \"scatter\", \"x\": [79, 85, 91], \"y\": [0.0109, 0.0042, 0.0036]}, {\"hovertemplate\": \"LBC0591L\", \"mode\": \"lines+markers\", \"name\": \"DNMT3A c.331A>C\", \"type\": \"scatter\", \"x\": [85, 88], \"y\": [0.0061, 0.01]}, {\"hovertemplate\": \"LBC0591L\", \"mode\": \"lines+markers\", \"name\": \"DNMT3A c.1442_1448del\", \"type\": \"scatter\", \"x\": [79, 85, 88], \"y\": [0.0096, 0.0124, 0.0107]}, {\"hovertemplate\": \"LBC360008\", \"mode\": \"lines+markers\", \"name\": \"DNMT3A c.1238del\", \"type\": \"scatter\", \"x\": [70, 73, 79, 82], \"y\": [0.0123, 0.0022, 0.0037, 0.0033]}, {\"hovertemplate\": \"LBC360008\", \"mode\": \"lines+markers\", \"name\": \"DNMT3A c.326_327inv\", \"type\": \"scatter\", \"x\": [70, 73, 76, 82], \"y\": [0.0113, 0.0102, 0.0052, 0.0052]}, {\"hovertemplate\": \"LBC360008\", \"mode\": \"lines+markers\", \"name\": \"DNMT3A c.2644C>T\", \"type\": \"scatter\", \"x\": [70, 73, 76, 79, 82], \"y\": [0.0279, 0.0488, 0.0936, 0.1085, 0.1308]}, {\"hovertemplate\": \"LBC360104\", \"mode\": \"lines+markers\", \"name\": \"DNMT3A c.1156del\", \"type\": \"scatter\", \"x\": [70, 73, 76, 79], \"y\": [0.0085, 0.0093, 0.0108, 0.0198]}, {\"hovertemplate\": \"LBC360104\", \"mode\": \"lines+markers\", \"name\": \"DNMT3A c.326_327inv\", \"type\": \"scatter\", \"x\": [73, 76, 79], \"y\": [0.0084, 0.0116, 0.0074]}, {\"hovertemplate\": \"LBC360104\", \"mode\": \"lines+markers\", \"name\": \"DNMT3A c.331A>C\", \"type\": \"scatter\", \"x\": [70, 73, 76, 79], \"y\": [0.0061, 0.0093, 0.0117, 0.0075]}, {\"hovertemplate\": \"LBC360231\", \"mode\": \"lines+markers\", \"name\": \"DNMT3A c.326_327inv\", \"type\": \"scatter\", \"x\": [70, 73, 76], \"y\": [0.0057, 0.0102, 0.0054]}, {\"hovertemplate\": \"LBC360231\", \"mode\": \"lines+markers\", \"name\": \"DNMT3A c.331A>C\", \"type\": \"scatter\", \"x\": [70, 73], \"y\": [0.0057, 0.0104]}, {\"hovertemplate\": \"LBC360231\", \"mode\": \"lines+markers\", \"name\": \"DNMT3A c.1852-1G>A\", \"type\": \"scatter\", \"x\": [70, 73, 76], \"y\": [0.2749, 0.2833, 0.2957]}, {\"hovertemplate\": \"LBC360283\", \"mode\": \"lines+markers\", \"name\": \"DNMT3A c.1878_1884del\", \"type\": \"scatter\", \"x\": [70, 73, 76], \"y\": [0.122, 0.1069, 0.0894]}, {\"hovertemplate\": \"LBC360356\", \"mode\": \"lines+markers\", \"name\": \"DNMT3A c.1601del\", \"type\": \"scatter\", \"x\": [70, 73, 76, 79], \"y\": [0.1109, 0.1084, 0.107, 0.1258]}, {\"hovertemplate\": \"LBC360380\", \"mode\": \"lines+markers\", \"name\": \"DNMT3A c.1220T>A\", \"type\": \"scatter\", \"x\": [70, 73], \"y\": [0.011, 0.0091]}, {\"hovertemplate\": \"LBC360380\", \"mode\": \"lines+markers\", \"name\": \"DNMT3A c.770del\", \"type\": \"scatter\", \"x\": [70, 73], \"y\": [0.0979, 0.0835]}, {\"hovertemplate\": \"LBC360380\", \"mode\": \"lines+markers\", \"name\": \"DNMT3A c.1031T>A\", \"type\": \"scatter\", \"x\": [70, 73], \"y\": [0.0238, 0.0203]}, {\"hovertemplate\": \"LBC360414\", \"mode\": \"lines+markers\", \"name\": \"DNMT3A c.2174del\", \"type\": \"scatter\", \"x\": [70, 73], \"y\": [0.0589, 0.0609]}, {\"hovertemplate\": \"LBC360453\", \"mode\": \"lines+markers\", \"name\": \"DNMT3A c.2322+1G>A\", \"type\": \"scatter\", \"x\": [70, 73, 76, 79], \"y\": [0.1015, 0.134, 0.14300000000000002, 0.1588]}, {\"hovertemplate\": \"LBC360458\", \"mode\": \"lines+markers\", \"name\": \"DNMT3A c.332A>C\", \"type\": \"scatter\", \"x\": [70, 73, 76, 79], \"y\": [0.0108, 0.0084, 0.0106, 0.0087]}, {\"hovertemplate\": \"LBC360458\", \"mode\": \"lines+markers\", \"name\": \"DNMT3A c.1554+1G>A\", \"type\": \"scatter\", \"x\": [70, 73, 76, 79], \"y\": [0.0932, 0.0938, 0.0832, 0.0824]}, {\"hovertemplate\": \"LBC360458\", \"mode\": \"lines+markers\", \"name\": \"DNMT3A c.331A>C\", \"type\": \"scatter\", \"x\": [70, 73, 76, 79], \"y\": [0.0082, 0.0119, 0.0111, 0.0113]}, {\"hovertemplate\": \"LBC360458\", \"mode\": \"lines+markers\", \"name\": \"DNMT3A c.2556G>T\", \"type\": \"scatter\", \"x\": [70, 73, 76, 79], \"y\": [0.0088, 0.0058, 0.0092, 0.01]}, {\"hovertemplate\": \"LBC360508\", \"mode\": \"lines+markers\", \"name\": \"DNMT3A c.326_327inv\", \"type\": \"scatter\", \"x\": [70, 73, 76, 79], \"y\": [0.0143, 0.0074, 0.0087, 0.0098]}, {\"hovertemplate\": \"LBC360508\", \"mode\": \"lines+markers\", \"name\": \"DNMT3A c.1605del\", \"type\": \"scatter\", \"x\": [70, 73, 76, 79], \"y\": [0.091, 0.15, 0.1888, 0.2581]}, {\"hovertemplate\": \"LBC360508\", \"mode\": \"lines+markers\", \"name\": \"DNMT3A c.331A>C\", \"type\": \"scatter\", \"x\": [70, 73, 76, 79], \"y\": [0.0143, 0.0094, 0.0095, 0.0115]}, {\"hovertemplate\": \"LBC360549\", \"mode\": \"lines+markers\", \"name\": \"DNMT3A c.1677C>A\", \"type\": \"scatter\", \"x\": [70, 73, 76, 79], \"y\": [0.2957, 0.2741, 0.3467, 0.3837]}, {\"hovertemplate\": \"LBC360549\", \"mode\": \"lines+markers\", \"name\": \"DNMT3A c.2312G>A\", \"type\": \"scatter\", \"x\": [70, 73, 76, 79], \"y\": [0.3146, 0.3119, 0.3205, 0.3827]}, {\"hovertemplate\": \"LBC360636\", \"mode\": \"lines+markers\", \"name\": \"DNMT3A c.2204A>G\", \"type\": \"scatter\", \"x\": [70, 73, 76], \"y\": [0.0036, 0.0076, 0.0176]}, {\"hovertemplate\": \"LBC360636\", \"mode\": \"lines+markers\", \"name\": \"DNMT3A c.1718A>C\", \"type\": \"scatter\", \"x\": [70, 73, 76], \"y\": [0.01, 0.0108, 0.0114]}, {\"hovertemplate\": \"LBC360636\", \"mode\": \"lines+markers\", \"name\": \"DNMT3A c.976C>G\", \"type\": \"scatter\", \"x\": [70, 73, 76], \"y\": [0.149, 0.2133, 0.28]}, {\"hovertemplate\": \"LBC360658\", \"mode\": \"lines+markers\", \"name\": \"DNMT3A c.1429+1G>C\", \"type\": \"scatter\", \"x\": [70, 73, 76], \"y\": [0.0295, 0.0239, 0.031]}, {\"hovertemplate\": \"LBC360666\", \"mode\": \"lines+markers\", \"name\": \"DNMT3A c.1648G>A\", \"type\": \"scatter\", \"x\": [70, 76, 79], \"y\": [0.009000000000000001, 0.0163, 0.0237]}, {\"hovertemplate\": \"LBC360702\", \"mode\": \"lines+markers\", \"name\": \"DNMT3A c.332A>G\", \"type\": \"scatter\", \"x\": [70, 73], \"y\": [0.0047, 0.01]}, {\"hovertemplate\": \"LBC360725\", \"mode\": \"lines+markers\", \"name\": \"DNMT3A c.326_327inv\", \"type\": \"scatter\", \"x\": [70, 76, 79], \"y\": [0.0175, 0.0064, 0.0063]}, {\"hovertemplate\": \"LBC360754\", \"mode\": \"lines+markers\", \"name\": \"DNMT3A c.1579C>T\", \"type\": \"scatter\", \"x\": [70, 73, 76], \"y\": [0.0125, 0.0134, 0.0064]}, {\"hovertemplate\": \"LBC360754\", \"mode\": \"lines+markers\", \"name\": \"DNMT3A c.2478+1G>T\", \"type\": \"scatter\", \"x\": [70, 73, 76], \"y\": [0.3091, 0.3435, 0.3876]}, {\"hovertemplate\": \"LBC360782\", \"mode\": \"lines+markers\", \"name\": \"DNMT3A c.2387G>C\", \"type\": \"scatter\", \"x\": [70, 73, 76, 79], \"y\": [0.0128, 0.0079, 0.0074, 0.0045]}, {\"hovertemplate\": \"LBC360790\", \"mode\": \"lines+markers\", \"name\": \"DNMT3A c.2256_2257del\", \"type\": \"scatter\", \"x\": [70, 76, 79], \"y\": [0.2541, 0.2718, 0.3103]}, {\"hovertemplate\": \"LBC360790\", \"mode\": \"lines+markers\", \"name\": \"DNMT3A c.794T>G\", \"type\": \"scatter\", \"x\": [70, 76, 79], \"y\": [0.0064, 0.0074, 0.011]}, {\"hovertemplate\": \"LBC360790\", \"mode\": \"lines+markers\", \"name\": \"DNMT3A c.1736A>C\", \"type\": \"scatter\", \"x\": [70, 79], \"y\": [0.0046, 0.0182]}, {\"hovertemplate\": \"LBC360843\", \"mode\": \"lines+markers\", \"name\": \"DNMT3A c.929T>C\", \"type\": \"scatter\", \"x\": [70, 73, 79, 82], \"y\": [0.0087, 0.0071, 0.0133, 0.0171]}, {\"hovertemplate\": \"LBC360898\", \"mode\": \"lines+markers\", \"name\": \"DNMT3A c.19A>C\", \"type\": \"scatter\", \"x\": [70, 73, 76, 79], \"y\": [0.0048, 0.002, 0.0031, 0.0107]}, {\"hovertemplate\": \"LBC360898\", \"mode\": \"lines+markers\", \"name\": \"DNMT3A c.1835A>C\", \"type\": \"scatter\", \"x\": [70, 73, 76, 79], \"y\": [0.0049, 0.0034, 0.0065, 0.0114]}, {\"hovertemplate\": \"LBC360898\", \"mode\": \"lines+markers\", \"name\": \"DNMT3A c.1784T>G\", \"type\": \"scatter\", \"x\": [70, 73, 76, 79], \"y\": [0.0049, 0.0089, 0.0085, 0.0109]}, {\"hovertemplate\": \"LBC360908\", \"mode\": \"lines+markers\", \"name\": \"DNMT3A c.1784T>G\", \"type\": \"scatter\", \"x\": [70, 73, 76, 79], \"y\": [0.0096, 0.0109, 0.0068, 0.0039]}, {\"hovertemplate\": \"LBC360914\", \"mode\": \"lines+markers\", \"name\": \"DNMT3A c.1810del\", \"type\": \"scatter\", \"x\": [70, 73, 76, 79], \"y\": [0.0093, 0.0074, 0.012, 0.0067]}, {\"hovertemplate\": \"LBC360914\", \"mode\": \"lines+markers\", \"name\": \"DNMT3A c.1736A>C\", \"type\": \"scatter\", \"x\": [70, 73, 76, 79], \"y\": [0.0084, 0.01, 0.0071, 0.016]}, {\"hovertemplate\": \"LBC360914\", \"mode\": \"lines+markers\", \"name\": \"DNMT3A c.1784T>G\", \"type\": \"scatter\", \"x\": [70, 73, 76, 79], \"y\": [0.0052, 0.0051, 0.008, 0.0103]}, {\"hovertemplate\": \"LBC360914\", \"mode\": \"lines+markers\", \"name\": \"DNMT3A c.2203T>A\", \"type\": \"scatter\", \"x\": [70, 73, 76, 79], \"y\": [0.1032, 0.1262, 0.1743, 0.1945]}, {\"hovertemplate\": \"LBC360919\", \"mode\": \"lines+markers\", \"name\": \"DNMT3A c.924_925dup\", \"type\": \"scatter\", \"x\": [70, 73, 76, 79], \"y\": [0.3411, 0.3469, 0.3874, 0.3911]}, {\"hovertemplate\": \"LBC360919\", \"mode\": \"lines+markers\", \"name\": \"DNMT3A c.1736A>C\", \"type\": \"scatter\", \"x\": [70, 73, 76, 79], \"y\": [0.0118, 0.0116, 0.0118, 0.0146]}, {\"hovertemplate\": \"LBC360919\", \"mode\": \"lines+markers\", \"name\": \"DNMT3A c.1784T>G\", \"type\": \"scatter\", \"x\": [70, 73, 76, 79], \"y\": [0.011, 0.0046, 0.0076, 0.0119]}, {\"hovertemplate\": \"LBC361006\", \"mode\": \"lines+markers\", \"name\": \"DNMT3A c.2045dup\", \"type\": \"scatter\", \"x\": [70, 73, 76, 79], \"y\": [0.0395, 0.0467, 0.0388, 0.0327]}, {\"hovertemplate\": \"LBC361006\", \"mode\": \"lines+markers\", \"name\": \"DNMT3A c.2016_2029del\", \"type\": \"scatter\", \"x\": [70, 73, 76, 79], \"y\": [0.2228, 0.2179, 0.2077, 0.1528]}, {\"hovertemplate\": \"LBC361006\", \"mode\": \"lines+markers\", \"name\": \"DNMT3A c.1736A>C\", \"type\": \"scatter\", \"x\": [70, 73, 76, 79], \"y\": [0.0076, 0.0055, 0.0122, 0.0056]}, {\"hovertemplate\": \"LBC361006\", \"mode\": \"lines+markers\", \"name\": \"DNMT3A c.1784T>G\", \"type\": \"scatter\", \"x\": [70, 73, 76, 79], \"y\": [0.01, 0.0072, 0.0083, 0.006999999999999999]}, {\"hovertemplate\": \"LBC361096\", \"mode\": \"lines+markers\", \"name\": \"DNMT3A c.1936+6G>A\", \"type\": \"scatter\", \"x\": [70, 73], \"y\": [0.0012, 0.0128]}, {\"hovertemplate\": \"LBC361096\", \"mode\": \"lines+markers\", \"name\": \"DNMT3A c.1835A>C\", \"type\": \"scatter\", \"x\": [70, 73, 76, 79], \"y\": [0.0106, 0.0037, 0.0082, 0.0048]}, {\"hovertemplate\": \"LBC361096\", \"mode\": \"lines+markers\", \"name\": \"DNMT3A c.892G>A\", \"type\": \"scatter\", \"x\": [70, 73], \"y\": [0.0036, 0.0131]}, {\"hovertemplate\": \"LBC361122\", \"mode\": \"lines+markers\", \"name\": \"DNMT3A c.331A>C\", \"type\": \"scatter\", \"x\": [70, 73, 76, 79], \"y\": [0.0109, 0.011, 0.0105, 0.012]}, {\"hovertemplate\": \"LBC361122\", \"mode\": \"lines+markers\", \"name\": \"DNMT3A c.2459A>G\", \"type\": \"scatter\", \"x\": [73, 76], \"y\": [0.0103, 0.0042]}, {\"hovertemplate\": \"LBC361172\", \"mode\": \"lines+markers\", \"name\": \"DNMT3A c.2579G>A\", \"type\": \"scatter\", \"x\": [70, 73, 76], \"y\": [0.0154, 0.0067, 0.006999999999999999]}, {\"hovertemplate\": \"LBC361172\", \"mode\": \"lines+markers\", \"name\": \"DNMT3A c.2083-2A>G\", \"type\": \"scatter\", \"x\": [70, 73, 76], \"y\": [0.0287, 0.0456, 0.0418]}, {\"hovertemplate\": \"LBC361214\", \"mode\": \"lines+markers\", \"name\": \"DNMT3A c.2206C>T\", \"type\": \"scatter\", \"x\": [70, 73, 76, 79], \"y\": [0.0629, 0.0753, 0.0959, 0.0853]}, {\"hovertemplate\": \"LBC361214\", \"mode\": \"lines+markers\", \"name\": \"DNMT3A c.1741T>G\", \"type\": \"scatter\", \"x\": [70, 73, 76, 79], \"y\": [0.0018, 0.001, 0.002, 0.0113]}, {\"hovertemplate\": \"LBC361225\", \"mode\": \"lines+markers\", \"name\": \"DNMT3A c.1056_1057del\", \"type\": \"scatter\", \"x\": [70, 73, 76, 79], \"y\": [0.2383, 0.2526, 0.2758, 0.3156]}, {\"hovertemplate\": \"LBC361286\", \"mode\": \"lines+markers\", \"name\": \"DNMT3A c.2727T>A\", \"type\": \"scatter\", \"x\": [70, 73], \"y\": [0.0086, 0.0121]}, {\"hovertemplate\": \"LBC361286\", \"mode\": \"lines+markers\", \"name\": \"DNMT3A c.1410del\", \"type\": \"scatter\", \"x\": [70, 73], \"y\": [0.0046, 0.0118]}, {\"hovertemplate\": \"LBC361286\", \"mode\": \"lines+markers\", \"name\": \"DNMT3A c.2578T>C\", \"type\": \"scatter\", \"x\": [70, 73], \"y\": [0.0256, 0.0421]}, {\"hovertemplate\": \"LBC361286\", \"mode\": \"lines+markers\", \"name\": \"DNMT3A c.2179dup\", \"type\": \"scatter\", \"x\": [70, 73], \"y\": [0.0038, 0.011]}, {\"hovertemplate\": \"LBC361286\", \"mode\": \"lines+markers\", \"name\": \"DNMT3A c.2228C>T\", \"type\": \"scatter\", \"x\": [70, 73], \"y\": [0.01, 0.0142]}, {\"hovertemplate\": \"LBC361286\", \"mode\": \"lines+markers\", \"name\": \"DNMT3A c.1122+1G>A\", \"type\": \"scatter\", \"x\": [70, 73], \"y\": [0.0041, 0.0136]}],\n",
       "                        {\"template\": {\"data\": {\"bar\": [{\"error_x\": {\"color\": \"#2a3f5f\"}, \"error_y\": {\"color\": \"#2a3f5f\"}, \"marker\": {\"line\": {\"color\": \"#E5ECF6\", \"width\": 0.5}}, \"type\": \"bar\"}], \"barpolar\": [{\"marker\": {\"line\": {\"color\": \"#E5ECF6\", \"width\": 0.5}}, \"type\": \"barpolar\"}], \"carpet\": [{\"aaxis\": {\"endlinecolor\": \"#2a3f5f\", \"gridcolor\": \"white\", \"linecolor\": \"white\", \"minorgridcolor\": \"white\", \"startlinecolor\": \"#2a3f5f\"}, \"baxis\": {\"endlinecolor\": \"#2a3f5f\", \"gridcolor\": \"white\", \"linecolor\": \"white\", \"minorgridcolor\": \"white\", \"startlinecolor\": \"#2a3f5f\"}, \"type\": \"carpet\"}], \"choropleth\": [{\"colorbar\": {\"outlinewidth\": 0, \"ticks\": \"\"}, \"type\": \"choropleth\"}], \"contour\": [{\"colorbar\": {\"outlinewidth\": 0, \"ticks\": \"\"}, \"colorscale\": [[0.0, \"#0d0887\"], [0.1111111111111111, \"#46039f\"], [0.2222222222222222, \"#7201a8\"], [0.3333333333333333, \"#9c179e\"], [0.4444444444444444, \"#bd3786\"], [0.5555555555555556, \"#d8576b\"], [0.6666666666666666, \"#ed7953\"], [0.7777777777777778, \"#fb9f3a\"], [0.8888888888888888, \"#fdca26\"], [1.0, \"#f0f921\"]], \"type\": \"contour\"}], \"contourcarpet\": [{\"colorbar\": {\"outlinewidth\": 0, \"ticks\": \"\"}, \"type\": \"contourcarpet\"}], \"heatmap\": [{\"colorbar\": {\"outlinewidth\": 0, \"ticks\": \"\"}, \"colorscale\": [[0.0, \"#0d0887\"], [0.1111111111111111, \"#46039f\"], [0.2222222222222222, \"#7201a8\"], [0.3333333333333333, \"#9c179e\"], [0.4444444444444444, \"#bd3786\"], [0.5555555555555556, \"#d8576b\"], [0.6666666666666666, \"#ed7953\"], [0.7777777777777778, \"#fb9f3a\"], [0.8888888888888888, \"#fdca26\"], [1.0, \"#f0f921\"]], \"type\": \"heatmap\"}], \"heatmapgl\": [{\"colorbar\": {\"outlinewidth\": 0, \"ticks\": \"\"}, \"colorscale\": [[0.0, \"#0d0887\"], [0.1111111111111111, \"#46039f\"], [0.2222222222222222, \"#7201a8\"], [0.3333333333333333, \"#9c179e\"], [0.4444444444444444, \"#bd3786\"], [0.5555555555555556, \"#d8576b\"], [0.6666666666666666, \"#ed7953\"], [0.7777777777777778, \"#fb9f3a\"], [0.8888888888888888, \"#fdca26\"], [1.0, \"#f0f921\"]], \"type\": \"heatmapgl\"}], \"histogram\": [{\"marker\": {\"colorbar\": {\"outlinewidth\": 0, \"ticks\": \"\"}}, \"type\": \"histogram\"}], \"histogram2d\": [{\"colorbar\": {\"outlinewidth\": 0, \"ticks\": \"\"}, \"colorscale\": [[0.0, \"#0d0887\"], [0.1111111111111111, \"#46039f\"], [0.2222222222222222, \"#7201a8\"], [0.3333333333333333, \"#9c179e\"], [0.4444444444444444, \"#bd3786\"], [0.5555555555555556, \"#d8576b\"], [0.6666666666666666, \"#ed7953\"], [0.7777777777777778, \"#fb9f3a\"], [0.8888888888888888, \"#fdca26\"], [1.0, \"#f0f921\"]], \"type\": \"histogram2d\"}], \"histogram2dcontour\": [{\"colorbar\": {\"outlinewidth\": 0, \"ticks\": \"\"}, \"colorscale\": [[0.0, \"#0d0887\"], [0.1111111111111111, \"#46039f\"], [0.2222222222222222, \"#7201a8\"], [0.3333333333333333, \"#9c179e\"], [0.4444444444444444, \"#bd3786\"], [0.5555555555555556, \"#d8576b\"], [0.6666666666666666, \"#ed7953\"], [0.7777777777777778, \"#fb9f3a\"], [0.8888888888888888, \"#fdca26\"], [1.0, \"#f0f921\"]], \"type\": \"histogram2dcontour\"}], \"mesh3d\": [{\"colorbar\": {\"outlinewidth\": 0, \"ticks\": \"\"}, \"type\": \"mesh3d\"}], \"parcoords\": [{\"line\": {\"colorbar\": {\"outlinewidth\": 0, \"ticks\": \"\"}}, \"type\": \"parcoords\"}], \"pie\": [{\"automargin\": true, \"type\": \"pie\"}], \"scatter\": [{\"marker\": {\"colorbar\": {\"outlinewidth\": 0, \"ticks\": \"\"}}, \"type\": \"scatter\"}], \"scatter3d\": [{\"line\": {\"colorbar\": {\"outlinewidth\": 0, \"ticks\": \"\"}}, \"marker\": {\"colorbar\": {\"outlinewidth\": 0, \"ticks\": \"\"}}, \"type\": \"scatter3d\"}], \"scattercarpet\": [{\"marker\": {\"colorbar\": {\"outlinewidth\": 0, \"ticks\": \"\"}}, \"type\": \"scattercarpet\"}], \"scattergeo\": [{\"marker\": {\"colorbar\": {\"outlinewidth\": 0, \"ticks\": \"\"}}, \"type\": \"scattergeo\"}], \"scattergl\": [{\"marker\": {\"colorbar\": {\"outlinewidth\": 0, \"ticks\": \"\"}}, \"type\": \"scattergl\"}], \"scattermapbox\": [{\"marker\": {\"colorbar\": {\"outlinewidth\": 0, \"ticks\": \"\"}}, \"type\": \"scattermapbox\"}], \"scatterpolar\": [{\"marker\": {\"colorbar\": {\"outlinewidth\": 0, \"ticks\": \"\"}}, \"type\": \"scatterpolar\"}], \"scatterpolargl\": [{\"marker\": {\"colorbar\": {\"outlinewidth\": 0, \"ticks\": \"\"}}, \"type\": \"scatterpolargl\"}], \"scatterternary\": [{\"marker\": {\"colorbar\": {\"outlinewidth\": 0, \"ticks\": \"\"}}, \"type\": \"scatterternary\"}], \"surface\": [{\"colorbar\": {\"outlinewidth\": 0, \"ticks\": \"\"}, \"colorscale\": [[0.0, \"#0d0887\"], [0.1111111111111111, \"#46039f\"], [0.2222222222222222, \"#7201a8\"], [0.3333333333333333, \"#9c179e\"], [0.4444444444444444, \"#bd3786\"], [0.5555555555555556, \"#d8576b\"], [0.6666666666666666, \"#ed7953\"], [0.7777777777777778, \"#fb9f3a\"], [0.8888888888888888, \"#fdca26\"], [1.0, \"#f0f921\"]], \"type\": \"surface\"}], \"table\": [{\"cells\": {\"fill\": {\"color\": \"#EBF0F8\"}, \"line\": {\"color\": \"white\"}}, \"header\": {\"fill\": {\"color\": \"#C8D4E3\"}, \"line\": {\"color\": \"white\"}}, \"type\": \"table\"}]}, \"layout\": {\"annotationdefaults\": {\"arrowcolor\": \"#2a3f5f\", \"arrowhead\": 0, \"arrowwidth\": 1}, \"coloraxis\": {\"colorbar\": {\"outlinewidth\": 0, \"ticks\": \"\"}}, \"colorscale\": {\"diverging\": [[0, \"#8e0152\"], [0.1, \"#c51b7d\"], [0.2, \"#de77ae\"], [0.3, \"#f1b6da\"], [0.4, \"#fde0ef\"], [0.5, \"#f7f7f7\"], [0.6, \"#e6f5d0\"], [0.7, \"#b8e186\"], [0.8, \"#7fbc41\"], [0.9, \"#4d9221\"], [1, \"#276419\"]], \"sequential\": [[0.0, \"#0d0887\"], [0.1111111111111111, \"#46039f\"], [0.2222222222222222, \"#7201a8\"], [0.3333333333333333, \"#9c179e\"], [0.4444444444444444, \"#bd3786\"], [0.5555555555555556, \"#d8576b\"], [0.6666666666666666, \"#ed7953\"], [0.7777777777777778, \"#fb9f3a\"], [0.8888888888888888, \"#fdca26\"], [1.0, \"#f0f921\"]], \"sequentialminus\": [[0.0, \"#0d0887\"], [0.1111111111111111, \"#46039f\"], [0.2222222222222222, \"#7201a8\"], [0.3333333333333333, \"#9c179e\"], [0.4444444444444444, \"#bd3786\"], [0.5555555555555556, \"#d8576b\"], [0.6666666666666666, \"#ed7953\"], [0.7777777777777778, \"#fb9f3a\"], [0.8888888888888888, \"#fdca26\"], [1.0, \"#f0f921\"]]}, \"colorway\": [\"#636efa\", \"#EF553B\", \"#00cc96\", \"#ab63fa\", \"#FFA15A\", \"#19d3f3\", \"#FF6692\", \"#B6E880\", \"#FF97FF\", \"#FECB52\"], \"font\": {\"color\": \"#2a3f5f\"}, \"geo\": {\"bgcolor\": \"white\", \"lakecolor\": \"white\", \"landcolor\": \"#E5ECF6\", \"showlakes\": true, \"showland\": true, \"subunitcolor\": \"white\"}, \"hoverlabel\": {\"align\": \"left\"}, \"hovermode\": \"closest\", \"mapbox\": {\"style\": \"light\"}, \"paper_bgcolor\": \"white\", \"plot_bgcolor\": \"#E5ECF6\", \"polar\": {\"angularaxis\": {\"gridcolor\": \"white\", \"linecolor\": \"white\", \"ticks\": \"\"}, \"bgcolor\": \"#E5ECF6\", \"radialaxis\": {\"gridcolor\": \"white\", \"linecolor\": \"white\", \"ticks\": \"\"}}, \"scene\": {\"xaxis\": {\"backgroundcolor\": \"#E5ECF6\", \"gridcolor\": \"white\", \"gridwidth\": 2, \"linecolor\": \"white\", \"showbackground\": true, \"ticks\": \"\", \"zerolinecolor\": \"white\"}, \"yaxis\": {\"backgroundcolor\": \"#E5ECF6\", \"gridcolor\": \"white\", \"gridwidth\": 2, \"linecolor\": \"white\", \"showbackground\": true, \"ticks\": \"\", \"zerolinecolor\": \"white\"}, \"zaxis\": {\"backgroundcolor\": \"#E5ECF6\", \"gridcolor\": \"white\", \"gridwidth\": 2, \"linecolor\": \"white\", \"showbackground\": true, \"ticks\": \"\", \"zerolinecolor\": \"white\"}}, \"shapedefaults\": {\"line\": {\"color\": \"#2a3f5f\"}}, \"ternary\": {\"aaxis\": {\"gridcolor\": \"white\", \"linecolor\": \"white\", \"ticks\": \"\"}, \"baxis\": {\"gridcolor\": \"white\", \"linecolor\": \"white\", \"ticks\": \"\"}, \"bgcolor\": \"#E5ECF6\", \"caxis\": {\"gridcolor\": \"white\", \"linecolor\": \"white\", \"ticks\": \"\"}}, \"title\": {\"x\": 0.05}, \"xaxis\": {\"automargin\": true, \"gridcolor\": \"white\", \"linecolor\": \"white\", \"ticks\": \"\", \"title\": {\"standoff\": 15}, \"zerolinecolor\": \"white\", \"zerolinewidth\": 2}, \"yaxis\": {\"automargin\": true, \"gridcolor\": \"white\", \"linecolor\": \"white\", \"ticks\": \"\", \"title\": {\"standoff\": 15}, \"zerolinecolor\": \"white\", \"zerolinewidth\": 2}}}, \"title\": {\"text\": \"Trajectories containing mutation DNMT3A\"}, \"xaxis\": {\"title\": {\"text\": \"Time (years since first age)\"}}, \"yaxis\": {\"title\": {\"text\": \"VAF\"}}},\n",
       "                        {\"responsive\": true}\n",
       "                    ).then(function(){\n",
       "                            \n",
       "var gd = document.getElementById('8f8c3ebe-7b1a-4a56-95c9-149db01e4363');\n",
       "var x = new MutationObserver(function (mutations, observer) {{\n",
       "        var display = window.getComputedStyle(gd).display;\n",
       "        if (!display || display === 'none') {{\n",
       "            console.log([gd, 'removed!']);\n",
       "            Plotly.purge(gd);\n",
       "            observer.disconnect();\n",
       "        }}\n",
       "}});\n",
       "\n",
       "// Listen for the removal of the full notebook cells\n",
       "var notebookContainer = gd.closest('#notebook-container');\n",
       "if (notebookContainer) {{\n",
       "    x.observe(notebookContainer, {childList: true});\n",
       "}}\n",
       "\n",
       "// Listen for the clearing of the current output cell\n",
       "var outputEl = gd.closest('.output');\n",
       "if (outputEl) {{\n",
       "    x.observe(outputEl, {childList: true});\n",
       "}}\n",
       "\n",
       "                        })\n",
       "                };\n",
       "                });\n",
       "            </script>\n",
       "        </div>"
      ]
     },
     "metadata": {},
     "output_type": "display_data"
    }
   ],
   "source": [
    "plot.mutation(lbc,'DNMT3A')"
   ]
  },
  {
   "cell_type": "markdown",
   "metadata": {},
   "source": [
    "## Most prevalent mutations"
   ]
  },
  {
   "cell_type": "code",
   "execution_count": 11,
   "metadata": {},
   "outputs": [
    {
     "data": {
      "application/vnd.plotly.v1+json": {
       "config": {
        "plotlyServerURL": "https://plot.ly"
       },
       "data": [
        {
         "type": "bar",
         "x": [
          "NOTCH1",
          "NF1",
          "DNMT3A",
          "CUX1",
          "BCORL1",
          "U2AF2",
          "KMT2A",
          "ATRX",
          "BCOR",
          "ASXL1"
         ],
         "y": [
          216,
          210,
          204,
          187,
          183,
          172,
          166,
          160,
          152,
          101
         ]
        }
       ],
       "layout": {
        "template": {
         "data": {
          "bar": [
           {
            "error_x": {
             "color": "#2a3f5f"
            },
            "error_y": {
             "color": "#2a3f5f"
            },
            "marker": {
             "line": {
              "color": "#E5ECF6",
              "width": 0.5
             }
            },
            "type": "bar"
           }
          ],
          "barpolar": [
           {
            "marker": {
             "line": {
              "color": "#E5ECF6",
              "width": 0.5
             }
            },
            "type": "barpolar"
           }
          ],
          "carpet": [
           {
            "aaxis": {
             "endlinecolor": "#2a3f5f",
             "gridcolor": "white",
             "linecolor": "white",
             "minorgridcolor": "white",
             "startlinecolor": "#2a3f5f"
            },
            "baxis": {
             "endlinecolor": "#2a3f5f",
             "gridcolor": "white",
             "linecolor": "white",
             "minorgridcolor": "white",
             "startlinecolor": "#2a3f5f"
            },
            "type": "carpet"
           }
          ],
          "choropleth": [
           {
            "colorbar": {
             "outlinewidth": 0,
             "ticks": ""
            },
            "type": "choropleth"
           }
          ],
          "contour": [
           {
            "colorbar": {
             "outlinewidth": 0,
             "ticks": ""
            },
            "colorscale": [
             [
              0,
              "#0d0887"
             ],
             [
              0.1111111111111111,
              "#46039f"
             ],
             [
              0.2222222222222222,
              "#7201a8"
             ],
             [
              0.3333333333333333,
              "#9c179e"
             ],
             [
              0.4444444444444444,
              "#bd3786"
             ],
             [
              0.5555555555555556,
              "#d8576b"
             ],
             [
              0.6666666666666666,
              "#ed7953"
             ],
             [
              0.7777777777777778,
              "#fb9f3a"
             ],
             [
              0.8888888888888888,
              "#fdca26"
             ],
             [
              1,
              "#f0f921"
             ]
            ],
            "type": "contour"
           }
          ],
          "contourcarpet": [
           {
            "colorbar": {
             "outlinewidth": 0,
             "ticks": ""
            },
            "type": "contourcarpet"
           }
          ],
          "heatmap": [
           {
            "colorbar": {
             "outlinewidth": 0,
             "ticks": ""
            },
            "colorscale": [
             [
              0,
              "#0d0887"
             ],
             [
              0.1111111111111111,
              "#46039f"
             ],
             [
              0.2222222222222222,
              "#7201a8"
             ],
             [
              0.3333333333333333,
              "#9c179e"
             ],
             [
              0.4444444444444444,
              "#bd3786"
             ],
             [
              0.5555555555555556,
              "#d8576b"
             ],
             [
              0.6666666666666666,
              "#ed7953"
             ],
             [
              0.7777777777777778,
              "#fb9f3a"
             ],
             [
              0.8888888888888888,
              "#fdca26"
             ],
             [
              1,
              "#f0f921"
             ]
            ],
            "type": "heatmap"
           }
          ],
          "heatmapgl": [
           {
            "colorbar": {
             "outlinewidth": 0,
             "ticks": ""
            },
            "colorscale": [
             [
              0,
              "#0d0887"
             ],
             [
              0.1111111111111111,
              "#46039f"
             ],
             [
              0.2222222222222222,
              "#7201a8"
             ],
             [
              0.3333333333333333,
              "#9c179e"
             ],
             [
              0.4444444444444444,
              "#bd3786"
             ],
             [
              0.5555555555555556,
              "#d8576b"
             ],
             [
              0.6666666666666666,
              "#ed7953"
             ],
             [
              0.7777777777777778,
              "#fb9f3a"
             ],
             [
              0.8888888888888888,
              "#fdca26"
             ],
             [
              1,
              "#f0f921"
             ]
            ],
            "type": "heatmapgl"
           }
          ],
          "histogram": [
           {
            "marker": {
             "colorbar": {
              "outlinewidth": 0,
              "ticks": ""
             }
            },
            "type": "histogram"
           }
          ],
          "histogram2d": [
           {
            "colorbar": {
             "outlinewidth": 0,
             "ticks": ""
            },
            "colorscale": [
             [
              0,
              "#0d0887"
             ],
             [
              0.1111111111111111,
              "#46039f"
             ],
             [
              0.2222222222222222,
              "#7201a8"
             ],
             [
              0.3333333333333333,
              "#9c179e"
             ],
             [
              0.4444444444444444,
              "#bd3786"
             ],
             [
              0.5555555555555556,
              "#d8576b"
             ],
             [
              0.6666666666666666,
              "#ed7953"
             ],
             [
              0.7777777777777778,
              "#fb9f3a"
             ],
             [
              0.8888888888888888,
              "#fdca26"
             ],
             [
              1,
              "#f0f921"
             ]
            ],
            "type": "histogram2d"
           }
          ],
          "histogram2dcontour": [
           {
            "colorbar": {
             "outlinewidth": 0,
             "ticks": ""
            },
            "colorscale": [
             [
              0,
              "#0d0887"
             ],
             [
              0.1111111111111111,
              "#46039f"
             ],
             [
              0.2222222222222222,
              "#7201a8"
             ],
             [
              0.3333333333333333,
              "#9c179e"
             ],
             [
              0.4444444444444444,
              "#bd3786"
             ],
             [
              0.5555555555555556,
              "#d8576b"
             ],
             [
              0.6666666666666666,
              "#ed7953"
             ],
             [
              0.7777777777777778,
              "#fb9f3a"
             ],
             [
              0.8888888888888888,
              "#fdca26"
             ],
             [
              1,
              "#f0f921"
             ]
            ],
            "type": "histogram2dcontour"
           }
          ],
          "mesh3d": [
           {
            "colorbar": {
             "outlinewidth": 0,
             "ticks": ""
            },
            "type": "mesh3d"
           }
          ],
          "parcoords": [
           {
            "line": {
             "colorbar": {
              "outlinewidth": 0,
              "ticks": ""
             }
            },
            "type": "parcoords"
           }
          ],
          "pie": [
           {
            "automargin": true,
            "type": "pie"
           }
          ],
          "scatter": [
           {
            "marker": {
             "colorbar": {
              "outlinewidth": 0,
              "ticks": ""
             }
            },
            "type": "scatter"
           }
          ],
          "scatter3d": [
           {
            "line": {
             "colorbar": {
              "outlinewidth": 0,
              "ticks": ""
             }
            },
            "marker": {
             "colorbar": {
              "outlinewidth": 0,
              "ticks": ""
             }
            },
            "type": "scatter3d"
           }
          ],
          "scattercarpet": [
           {
            "marker": {
             "colorbar": {
              "outlinewidth": 0,
              "ticks": ""
             }
            },
            "type": "scattercarpet"
           }
          ],
          "scattergeo": [
           {
            "marker": {
             "colorbar": {
              "outlinewidth": 0,
              "ticks": ""
             }
            },
            "type": "scattergeo"
           }
          ],
          "scattergl": [
           {
            "marker": {
             "colorbar": {
              "outlinewidth": 0,
              "ticks": ""
             }
            },
            "type": "scattergl"
           }
          ],
          "scattermapbox": [
           {
            "marker": {
             "colorbar": {
              "outlinewidth": 0,
              "ticks": ""
             }
            },
            "type": "scattermapbox"
           }
          ],
          "scatterpolar": [
           {
            "marker": {
             "colorbar": {
              "outlinewidth": 0,
              "ticks": ""
             }
            },
            "type": "scatterpolar"
           }
          ],
          "scatterpolargl": [
           {
            "marker": {
             "colorbar": {
              "outlinewidth": 0,
              "ticks": ""
             }
            },
            "type": "scatterpolargl"
           }
          ],
          "scatterternary": [
           {
            "marker": {
             "colorbar": {
              "outlinewidth": 0,
              "ticks": ""
             }
            },
            "type": "scatterternary"
           }
          ],
          "surface": [
           {
            "colorbar": {
             "outlinewidth": 0,
             "ticks": ""
            },
            "colorscale": [
             [
              0,
              "#0d0887"
             ],
             [
              0.1111111111111111,
              "#46039f"
             ],
             [
              0.2222222222222222,
              "#7201a8"
             ],
             [
              0.3333333333333333,
              "#9c179e"
             ],
             [
              0.4444444444444444,
              "#bd3786"
             ],
             [
              0.5555555555555556,
              "#d8576b"
             ],
             [
              0.6666666666666666,
              "#ed7953"
             ],
             [
              0.7777777777777778,
              "#fb9f3a"
             ],
             [
              0.8888888888888888,
              "#fdca26"
             ],
             [
              1,
              "#f0f921"
             ]
            ],
            "type": "surface"
           }
          ],
          "table": [
           {
            "cells": {
             "fill": {
              "color": "#EBF0F8"
             },
             "line": {
              "color": "white"
             }
            },
            "header": {
             "fill": {
              "color": "#C8D4E3"
             },
             "line": {
              "color": "white"
             }
            },
            "type": "table"
           }
          ]
         },
         "layout": {
          "annotationdefaults": {
           "arrowcolor": "#2a3f5f",
           "arrowhead": 0,
           "arrowwidth": 1
          },
          "coloraxis": {
           "colorbar": {
            "outlinewidth": 0,
            "ticks": ""
           }
          },
          "colorscale": {
           "diverging": [
            [
             0,
             "#8e0152"
            ],
            [
             0.1,
             "#c51b7d"
            ],
            [
             0.2,
             "#de77ae"
            ],
            [
             0.3,
             "#f1b6da"
            ],
            [
             0.4,
             "#fde0ef"
            ],
            [
             0.5,
             "#f7f7f7"
            ],
            [
             0.6,
             "#e6f5d0"
            ],
            [
             0.7,
             "#b8e186"
            ],
            [
             0.8,
             "#7fbc41"
            ],
            [
             0.9,
             "#4d9221"
            ],
            [
             1,
             "#276419"
            ]
           ],
           "sequential": [
            [
             0,
             "#0d0887"
            ],
            [
             0.1111111111111111,
             "#46039f"
            ],
            [
             0.2222222222222222,
             "#7201a8"
            ],
            [
             0.3333333333333333,
             "#9c179e"
            ],
            [
             0.4444444444444444,
             "#bd3786"
            ],
            [
             0.5555555555555556,
             "#d8576b"
            ],
            [
             0.6666666666666666,
             "#ed7953"
            ],
            [
             0.7777777777777778,
             "#fb9f3a"
            ],
            [
             0.8888888888888888,
             "#fdca26"
            ],
            [
             1,
             "#f0f921"
            ]
           ],
           "sequentialminus": [
            [
             0,
             "#0d0887"
            ],
            [
             0.1111111111111111,
             "#46039f"
            ],
            [
             0.2222222222222222,
             "#7201a8"
            ],
            [
             0.3333333333333333,
             "#9c179e"
            ],
            [
             0.4444444444444444,
             "#bd3786"
            ],
            [
             0.5555555555555556,
             "#d8576b"
            ],
            [
             0.6666666666666666,
             "#ed7953"
            ],
            [
             0.7777777777777778,
             "#fb9f3a"
            ],
            [
             0.8888888888888888,
             "#fdca26"
            ],
            [
             1,
             "#f0f921"
            ]
           ]
          },
          "colorway": [
           "#636efa",
           "#EF553B",
           "#00cc96",
           "#ab63fa",
           "#FFA15A",
           "#19d3f3",
           "#FF6692",
           "#B6E880",
           "#FF97FF",
           "#FECB52"
          ],
          "font": {
           "color": "#2a3f5f"
          },
          "geo": {
           "bgcolor": "white",
           "lakecolor": "white",
           "landcolor": "#E5ECF6",
           "showlakes": true,
           "showland": true,
           "subunitcolor": "white"
          },
          "hoverlabel": {
           "align": "left"
          },
          "hovermode": "closest",
          "mapbox": {
           "style": "light"
          },
          "paper_bgcolor": "white",
          "plot_bgcolor": "#E5ECF6",
          "polar": {
           "angularaxis": {
            "gridcolor": "white",
            "linecolor": "white",
            "ticks": ""
           },
           "bgcolor": "#E5ECF6",
           "radialaxis": {
            "gridcolor": "white",
            "linecolor": "white",
            "ticks": ""
           }
          },
          "scene": {
           "xaxis": {
            "backgroundcolor": "#E5ECF6",
            "gridcolor": "white",
            "gridwidth": 2,
            "linecolor": "white",
            "showbackground": true,
            "ticks": "",
            "zerolinecolor": "white"
           },
           "yaxis": {
            "backgroundcolor": "#E5ECF6",
            "gridcolor": "white",
            "gridwidth": 2,
            "linecolor": "white",
            "showbackground": true,
            "ticks": "",
            "zerolinecolor": "white"
           },
           "zaxis": {
            "backgroundcolor": "#E5ECF6",
            "gridcolor": "white",
            "gridwidth": 2,
            "linecolor": "white",
            "showbackground": true,
            "ticks": "",
            "zerolinecolor": "white"
           }
          },
          "shapedefaults": {
           "line": {
            "color": "#2a3f5f"
           }
          },
          "ternary": {
           "aaxis": {
            "gridcolor": "white",
            "linecolor": "white",
            "ticks": ""
           },
           "baxis": {
            "gridcolor": "white",
            "linecolor": "white",
            "ticks": ""
           },
           "bgcolor": "#E5ECF6",
           "caxis": {
            "gridcolor": "white",
            "linecolor": "white",
            "ticks": ""
           }
          },
          "title": {
           "x": 0.05
          },
          "xaxis": {
           "automargin": true,
           "gridcolor": "white",
           "linecolor": "white",
           "ticks": "",
           "title": {
            "standoff": 15
           },
           "zerolinecolor": "white",
           "zerolinewidth": 2
          },
          "yaxis": {
           "automargin": true,
           "gridcolor": "white",
           "linecolor": "white",
           "ticks": "",
           "title": {
            "standoff": 15
           },
           "zerolinecolor": "white",
           "zerolinewidth": 2
          }
         }
        }
       }
      },
      "text/html": [
       "<div>\n",
       "        \n",
       "        \n",
       "            <div id=\"eb7cb007-27c3-498d-82c3-786135dc28e9\" class=\"plotly-graph-div\" style=\"height:525px; width:100%;\"></div>\n",
       "            <script type=\"text/javascript\">\n",
       "                require([\"plotly\"], function(Plotly) {\n",
       "                    window.PLOTLYENV=window.PLOTLYENV || {};\n",
       "                    \n",
       "                if (document.getElementById(\"eb7cb007-27c3-498d-82c3-786135dc28e9\")) {\n",
       "                    Plotly.newPlot(\n",
       "                        'eb7cb007-27c3-498d-82c3-786135dc28e9',\n",
       "                        [{\"type\": \"bar\", \"x\": [\"NOTCH1\", \"NF1\", \"DNMT3A\", \"CUX1\", \"BCORL1\", \"U2AF2\", \"KMT2A\", \"ATRX\", \"BCOR\", \"ASXL1\"], \"y\": [216, 210, 204, 187, 183, 172, 166, 160, 152, 101]}],\n",
       "                        {\"template\": {\"data\": {\"bar\": [{\"error_x\": {\"color\": \"#2a3f5f\"}, \"error_y\": {\"color\": \"#2a3f5f\"}, \"marker\": {\"line\": {\"color\": \"#E5ECF6\", \"width\": 0.5}}, \"type\": \"bar\"}], \"barpolar\": [{\"marker\": {\"line\": {\"color\": \"#E5ECF6\", \"width\": 0.5}}, \"type\": \"barpolar\"}], \"carpet\": [{\"aaxis\": {\"endlinecolor\": \"#2a3f5f\", \"gridcolor\": \"white\", \"linecolor\": \"white\", \"minorgridcolor\": \"white\", \"startlinecolor\": \"#2a3f5f\"}, \"baxis\": {\"endlinecolor\": \"#2a3f5f\", \"gridcolor\": \"white\", \"linecolor\": \"white\", \"minorgridcolor\": \"white\", \"startlinecolor\": \"#2a3f5f\"}, \"type\": \"carpet\"}], \"choropleth\": [{\"colorbar\": {\"outlinewidth\": 0, \"ticks\": \"\"}, \"type\": \"choropleth\"}], \"contour\": [{\"colorbar\": {\"outlinewidth\": 0, \"ticks\": \"\"}, \"colorscale\": [[0.0, \"#0d0887\"], [0.1111111111111111, \"#46039f\"], [0.2222222222222222, \"#7201a8\"], [0.3333333333333333, \"#9c179e\"], [0.4444444444444444, \"#bd3786\"], [0.5555555555555556, \"#d8576b\"], [0.6666666666666666, \"#ed7953\"], [0.7777777777777778, \"#fb9f3a\"], [0.8888888888888888, \"#fdca26\"], [1.0, \"#f0f921\"]], \"type\": \"contour\"}], \"contourcarpet\": [{\"colorbar\": {\"outlinewidth\": 0, \"ticks\": \"\"}, \"type\": \"contourcarpet\"}], \"heatmap\": [{\"colorbar\": {\"outlinewidth\": 0, \"ticks\": \"\"}, \"colorscale\": [[0.0, \"#0d0887\"], [0.1111111111111111, \"#46039f\"], [0.2222222222222222, \"#7201a8\"], [0.3333333333333333, \"#9c179e\"], [0.4444444444444444, \"#bd3786\"], [0.5555555555555556, \"#d8576b\"], [0.6666666666666666, \"#ed7953\"], [0.7777777777777778, \"#fb9f3a\"], [0.8888888888888888, \"#fdca26\"], [1.0, \"#f0f921\"]], \"type\": \"heatmap\"}], \"heatmapgl\": [{\"colorbar\": {\"outlinewidth\": 0, \"ticks\": \"\"}, \"colorscale\": [[0.0, \"#0d0887\"], [0.1111111111111111, \"#46039f\"], [0.2222222222222222, \"#7201a8\"], [0.3333333333333333, \"#9c179e\"], [0.4444444444444444, \"#bd3786\"], [0.5555555555555556, \"#d8576b\"], [0.6666666666666666, \"#ed7953\"], [0.7777777777777778, \"#fb9f3a\"], [0.8888888888888888, \"#fdca26\"], [1.0, \"#f0f921\"]], \"type\": \"heatmapgl\"}], \"histogram\": [{\"marker\": {\"colorbar\": {\"outlinewidth\": 0, \"ticks\": \"\"}}, \"type\": \"histogram\"}], \"histogram2d\": [{\"colorbar\": {\"outlinewidth\": 0, \"ticks\": \"\"}, \"colorscale\": [[0.0, \"#0d0887\"], [0.1111111111111111, \"#46039f\"], [0.2222222222222222, \"#7201a8\"], [0.3333333333333333, \"#9c179e\"], [0.4444444444444444, \"#bd3786\"], [0.5555555555555556, \"#d8576b\"], [0.6666666666666666, \"#ed7953\"], [0.7777777777777778, \"#fb9f3a\"], [0.8888888888888888, \"#fdca26\"], [1.0, \"#f0f921\"]], \"type\": \"histogram2d\"}], \"histogram2dcontour\": [{\"colorbar\": {\"outlinewidth\": 0, \"ticks\": \"\"}, \"colorscale\": [[0.0, \"#0d0887\"], [0.1111111111111111, \"#46039f\"], [0.2222222222222222, \"#7201a8\"], [0.3333333333333333, \"#9c179e\"], [0.4444444444444444, \"#bd3786\"], [0.5555555555555556, \"#d8576b\"], [0.6666666666666666, \"#ed7953\"], [0.7777777777777778, \"#fb9f3a\"], [0.8888888888888888, \"#fdca26\"], [1.0, \"#f0f921\"]], \"type\": \"histogram2dcontour\"}], \"mesh3d\": [{\"colorbar\": {\"outlinewidth\": 0, \"ticks\": \"\"}, \"type\": \"mesh3d\"}], \"parcoords\": [{\"line\": {\"colorbar\": {\"outlinewidth\": 0, \"ticks\": \"\"}}, \"type\": \"parcoords\"}], \"pie\": [{\"automargin\": true, \"type\": \"pie\"}], \"scatter\": [{\"marker\": {\"colorbar\": {\"outlinewidth\": 0, \"ticks\": \"\"}}, \"type\": \"scatter\"}], \"scatter3d\": [{\"line\": {\"colorbar\": {\"outlinewidth\": 0, \"ticks\": \"\"}}, \"marker\": {\"colorbar\": {\"outlinewidth\": 0, \"ticks\": \"\"}}, \"type\": \"scatter3d\"}], \"scattercarpet\": [{\"marker\": {\"colorbar\": {\"outlinewidth\": 0, \"ticks\": \"\"}}, \"type\": \"scattercarpet\"}], \"scattergeo\": [{\"marker\": {\"colorbar\": {\"outlinewidth\": 0, \"ticks\": \"\"}}, \"type\": \"scattergeo\"}], \"scattergl\": [{\"marker\": {\"colorbar\": {\"outlinewidth\": 0, \"ticks\": \"\"}}, \"type\": \"scattergl\"}], \"scattermapbox\": [{\"marker\": {\"colorbar\": {\"outlinewidth\": 0, \"ticks\": \"\"}}, \"type\": \"scattermapbox\"}], \"scatterpolar\": [{\"marker\": {\"colorbar\": {\"outlinewidth\": 0, \"ticks\": \"\"}}, \"type\": \"scatterpolar\"}], \"scatterpolargl\": [{\"marker\": {\"colorbar\": {\"outlinewidth\": 0, \"ticks\": \"\"}}, \"type\": \"scatterpolargl\"}], \"scatterternary\": [{\"marker\": {\"colorbar\": {\"outlinewidth\": 0, \"ticks\": \"\"}}, \"type\": \"scatterternary\"}], \"surface\": [{\"colorbar\": {\"outlinewidth\": 0, \"ticks\": \"\"}, \"colorscale\": [[0.0, \"#0d0887\"], [0.1111111111111111, \"#46039f\"], [0.2222222222222222, \"#7201a8\"], [0.3333333333333333, \"#9c179e\"], [0.4444444444444444, \"#bd3786\"], [0.5555555555555556, \"#d8576b\"], [0.6666666666666666, \"#ed7953\"], [0.7777777777777778, \"#fb9f3a\"], [0.8888888888888888, \"#fdca26\"], [1.0, \"#f0f921\"]], \"type\": \"surface\"}], \"table\": [{\"cells\": {\"fill\": {\"color\": \"#EBF0F8\"}, \"line\": {\"color\": \"white\"}}, \"header\": {\"fill\": {\"color\": \"#C8D4E3\"}, \"line\": {\"color\": \"white\"}}, \"type\": \"table\"}]}, \"layout\": {\"annotationdefaults\": {\"arrowcolor\": \"#2a3f5f\", \"arrowhead\": 0, \"arrowwidth\": 1}, \"coloraxis\": {\"colorbar\": {\"outlinewidth\": 0, \"ticks\": \"\"}}, \"colorscale\": {\"diverging\": [[0, \"#8e0152\"], [0.1, \"#c51b7d\"], [0.2, \"#de77ae\"], [0.3, \"#f1b6da\"], [0.4, \"#fde0ef\"], [0.5, \"#f7f7f7\"], [0.6, \"#e6f5d0\"], [0.7, \"#b8e186\"], [0.8, \"#7fbc41\"], [0.9, \"#4d9221\"], [1, \"#276419\"]], \"sequential\": [[0.0, \"#0d0887\"], [0.1111111111111111, \"#46039f\"], [0.2222222222222222, \"#7201a8\"], [0.3333333333333333, \"#9c179e\"], [0.4444444444444444, \"#bd3786\"], [0.5555555555555556, \"#d8576b\"], [0.6666666666666666, \"#ed7953\"], [0.7777777777777778, \"#fb9f3a\"], [0.8888888888888888, \"#fdca26\"], [1.0, \"#f0f921\"]], \"sequentialminus\": [[0.0, \"#0d0887\"], [0.1111111111111111, \"#46039f\"], [0.2222222222222222, \"#7201a8\"], [0.3333333333333333, \"#9c179e\"], [0.4444444444444444, \"#bd3786\"], [0.5555555555555556, \"#d8576b\"], [0.6666666666666666, \"#ed7953\"], [0.7777777777777778, \"#fb9f3a\"], [0.8888888888888888, \"#fdca26\"], [1.0, \"#f0f921\"]]}, \"colorway\": [\"#636efa\", \"#EF553B\", \"#00cc96\", \"#ab63fa\", \"#FFA15A\", \"#19d3f3\", \"#FF6692\", \"#B6E880\", \"#FF97FF\", \"#FECB52\"], \"font\": {\"color\": \"#2a3f5f\"}, \"geo\": {\"bgcolor\": \"white\", \"lakecolor\": \"white\", \"landcolor\": \"#E5ECF6\", \"showlakes\": true, \"showland\": true, \"subunitcolor\": \"white\"}, \"hoverlabel\": {\"align\": \"left\"}, \"hovermode\": \"closest\", \"mapbox\": {\"style\": \"light\"}, \"paper_bgcolor\": \"white\", \"plot_bgcolor\": \"#E5ECF6\", \"polar\": {\"angularaxis\": {\"gridcolor\": \"white\", \"linecolor\": \"white\", \"ticks\": \"\"}, \"bgcolor\": \"#E5ECF6\", \"radialaxis\": {\"gridcolor\": \"white\", \"linecolor\": \"white\", \"ticks\": \"\"}}, \"scene\": {\"xaxis\": {\"backgroundcolor\": \"#E5ECF6\", \"gridcolor\": \"white\", \"gridwidth\": 2, \"linecolor\": \"white\", \"showbackground\": true, \"ticks\": \"\", \"zerolinecolor\": \"white\"}, \"yaxis\": {\"backgroundcolor\": \"#E5ECF6\", \"gridcolor\": \"white\", \"gridwidth\": 2, \"linecolor\": \"white\", \"showbackground\": true, \"ticks\": \"\", \"zerolinecolor\": \"white\"}, \"zaxis\": {\"backgroundcolor\": \"#E5ECF6\", \"gridcolor\": \"white\", \"gridwidth\": 2, \"linecolor\": \"white\", \"showbackground\": true, \"ticks\": \"\", \"zerolinecolor\": \"white\"}}, \"shapedefaults\": {\"line\": {\"color\": \"#2a3f5f\"}}, \"ternary\": {\"aaxis\": {\"gridcolor\": \"white\", \"linecolor\": \"white\", \"ticks\": \"\"}, \"baxis\": {\"gridcolor\": \"white\", \"linecolor\": \"white\", \"ticks\": \"\"}, \"bgcolor\": \"#E5ECF6\", \"caxis\": {\"gridcolor\": \"white\", \"linecolor\": \"white\", \"ticks\": \"\"}}, \"title\": {\"x\": 0.05}, \"xaxis\": {\"automargin\": true, \"gridcolor\": \"white\", \"linecolor\": \"white\", \"ticks\": \"\", \"title\": {\"standoff\": 15}, \"zerolinecolor\": \"white\", \"zerolinewidth\": 2}, \"yaxis\": {\"automargin\": true, \"gridcolor\": \"white\", \"linecolor\": \"white\", \"ticks\": \"\", \"title\": {\"standoff\": 15}, \"zerolinecolor\": \"white\", \"zerolinewidth\": 2}}}},\n",
       "                        {\"responsive\": true}\n",
       "                    ).then(function(){\n",
       "                            \n",
       "var gd = document.getElementById('eb7cb007-27c3-498d-82c3-786135dc28e9');\n",
       "var x = new MutationObserver(function (mutations, observer) {{\n",
       "        var display = window.getComputedStyle(gd).display;\n",
       "        if (!display || display === 'none') {{\n",
       "            console.log([gd, 'removed!']);\n",
       "            Plotly.purge(gd);\n",
       "            observer.disconnect();\n",
       "        }}\n",
       "}});\n",
       "\n",
       "// Listen for the removal of the full notebook cells\n",
       "var notebookContainer = gd.closest('#notebook-container');\n",
       "if (notebookContainer) {{\n",
       "    x.observe(notebookContainer, {childList: true});\n",
       "}}\n",
       "\n",
       "// Listen for the clearing of the current output cell\n",
       "var outputEl = gd.closest('.output');\n",
       "if (outputEl) {{\n",
       "    x.observe(outputEl, {childList: true});\n",
       "}}\n",
       "\n",
       "                        })\n",
       "                };\n",
       "                });\n",
       "            </script>\n",
       "        </div>"
      ]
     },
     "metadata": {},
     "output_type": "display_data"
    }
   ],
   "source": [
    "plot.top_bar(lbc, n_genes=10)"
   ]
  },
  {
   "cell_type": "markdown",
   "metadata": {},
   "source": [
    "Alternatively, we can plot counts for all genes in the cohort"
   ]
  },
  {
   "cell_type": "code",
   "execution_count": 12,
   "metadata": {},
   "outputs": [
    {
     "data": {
      "application/vnd.plotly.v1+json": {
       "config": {
        "plotlyServerURL": "https://plot.ly"
       },
       "data": [
        {
         "type": "bar",
         "x": [
          "NOTCH1",
          "NF1",
          "DNMT3A",
          "CUX1",
          "BCORL1",
          "U2AF2",
          "KMT2A",
          "ATRX",
          "BCOR",
          "ASXL1",
          "CEBPA",
          "NPM1",
          "KDM6A",
          "GATA2",
          "SRSF2",
          "STAG2",
          "SH2B3",
          "LUC7L2",
          "WT1",
          "TP53",
          "TET2",
          "CDKN2A",
          "FBXW7",
          "DDX41",
          "CSF3R",
          "JAK3",
          "RAD21",
          "SMC1A",
          "RUNX1",
          "SF3B1",
          "ZRSR2",
          "CBLC",
          "MAP2K1",
          "ABL1",
          "GATA1",
          "CBL",
          "MYC",
          "EZH2",
          "U2AF1",
          "IDH1",
          "JAK2",
          "IKZF1",
          "PPM1D",
          "ETV6",
          "PDGFRA",
          "SLC29A1",
          "CXCR4",
          "PTPN11",
          "MPL",
          "GNAS",
          "FLT3",
          "HRAS",
          "BRAF",
          "IDH2",
          "PTEN",
          "NRAS",
          "PHF6",
          "DCK",
          "BTK",
          "SETBP1",
          "XPO1",
          "MYD88"
         ],
         "y": [
          216,
          210,
          204,
          187,
          183,
          172,
          166,
          160,
          152,
          101,
          99,
          99,
          97,
          93,
          90,
          83,
          78,
          75,
          75,
          72,
          66,
          60,
          55,
          54,
          51,
          48,
          40,
          39,
          39,
          36,
          29,
          22,
          20,
          19,
          18,
          18,
          16,
          14,
          12,
          11,
          10,
          9,
          8,
          7,
          6,
          6,
          5,
          5,
          4,
          4,
          4,
          3,
          3,
          3,
          2,
          2,
          2,
          2,
          1,
          1,
          1,
          1
         ]
        }
       ],
       "layout": {
        "template": {
         "data": {
          "bar": [
           {
            "error_x": {
             "color": "#2a3f5f"
            },
            "error_y": {
             "color": "#2a3f5f"
            },
            "marker": {
             "line": {
              "color": "#E5ECF6",
              "width": 0.5
             }
            },
            "type": "bar"
           }
          ],
          "barpolar": [
           {
            "marker": {
             "line": {
              "color": "#E5ECF6",
              "width": 0.5
             }
            },
            "type": "barpolar"
           }
          ],
          "carpet": [
           {
            "aaxis": {
             "endlinecolor": "#2a3f5f",
             "gridcolor": "white",
             "linecolor": "white",
             "minorgridcolor": "white",
             "startlinecolor": "#2a3f5f"
            },
            "baxis": {
             "endlinecolor": "#2a3f5f",
             "gridcolor": "white",
             "linecolor": "white",
             "minorgridcolor": "white",
             "startlinecolor": "#2a3f5f"
            },
            "type": "carpet"
           }
          ],
          "choropleth": [
           {
            "colorbar": {
             "outlinewidth": 0,
             "ticks": ""
            },
            "type": "choropleth"
           }
          ],
          "contour": [
           {
            "colorbar": {
             "outlinewidth": 0,
             "ticks": ""
            },
            "colorscale": [
             [
              0,
              "#0d0887"
             ],
             [
              0.1111111111111111,
              "#46039f"
             ],
             [
              0.2222222222222222,
              "#7201a8"
             ],
             [
              0.3333333333333333,
              "#9c179e"
             ],
             [
              0.4444444444444444,
              "#bd3786"
             ],
             [
              0.5555555555555556,
              "#d8576b"
             ],
             [
              0.6666666666666666,
              "#ed7953"
             ],
             [
              0.7777777777777778,
              "#fb9f3a"
             ],
             [
              0.8888888888888888,
              "#fdca26"
             ],
             [
              1,
              "#f0f921"
             ]
            ],
            "type": "contour"
           }
          ],
          "contourcarpet": [
           {
            "colorbar": {
             "outlinewidth": 0,
             "ticks": ""
            },
            "type": "contourcarpet"
           }
          ],
          "heatmap": [
           {
            "colorbar": {
             "outlinewidth": 0,
             "ticks": ""
            },
            "colorscale": [
             [
              0,
              "#0d0887"
             ],
             [
              0.1111111111111111,
              "#46039f"
             ],
             [
              0.2222222222222222,
              "#7201a8"
             ],
             [
              0.3333333333333333,
              "#9c179e"
             ],
             [
              0.4444444444444444,
              "#bd3786"
             ],
             [
              0.5555555555555556,
              "#d8576b"
             ],
             [
              0.6666666666666666,
              "#ed7953"
             ],
             [
              0.7777777777777778,
              "#fb9f3a"
             ],
             [
              0.8888888888888888,
              "#fdca26"
             ],
             [
              1,
              "#f0f921"
             ]
            ],
            "type": "heatmap"
           }
          ],
          "heatmapgl": [
           {
            "colorbar": {
             "outlinewidth": 0,
             "ticks": ""
            },
            "colorscale": [
             [
              0,
              "#0d0887"
             ],
             [
              0.1111111111111111,
              "#46039f"
             ],
             [
              0.2222222222222222,
              "#7201a8"
             ],
             [
              0.3333333333333333,
              "#9c179e"
             ],
             [
              0.4444444444444444,
              "#bd3786"
             ],
             [
              0.5555555555555556,
              "#d8576b"
             ],
             [
              0.6666666666666666,
              "#ed7953"
             ],
             [
              0.7777777777777778,
              "#fb9f3a"
             ],
             [
              0.8888888888888888,
              "#fdca26"
             ],
             [
              1,
              "#f0f921"
             ]
            ],
            "type": "heatmapgl"
           }
          ],
          "histogram": [
           {
            "marker": {
             "colorbar": {
              "outlinewidth": 0,
              "ticks": ""
             }
            },
            "type": "histogram"
           }
          ],
          "histogram2d": [
           {
            "colorbar": {
             "outlinewidth": 0,
             "ticks": ""
            },
            "colorscale": [
             [
              0,
              "#0d0887"
             ],
             [
              0.1111111111111111,
              "#46039f"
             ],
             [
              0.2222222222222222,
              "#7201a8"
             ],
             [
              0.3333333333333333,
              "#9c179e"
             ],
             [
              0.4444444444444444,
              "#bd3786"
             ],
             [
              0.5555555555555556,
              "#d8576b"
             ],
             [
              0.6666666666666666,
              "#ed7953"
             ],
             [
              0.7777777777777778,
              "#fb9f3a"
             ],
             [
              0.8888888888888888,
              "#fdca26"
             ],
             [
              1,
              "#f0f921"
             ]
            ],
            "type": "histogram2d"
           }
          ],
          "histogram2dcontour": [
           {
            "colorbar": {
             "outlinewidth": 0,
             "ticks": ""
            },
            "colorscale": [
             [
              0,
              "#0d0887"
             ],
             [
              0.1111111111111111,
              "#46039f"
             ],
             [
              0.2222222222222222,
              "#7201a8"
             ],
             [
              0.3333333333333333,
              "#9c179e"
             ],
             [
              0.4444444444444444,
              "#bd3786"
             ],
             [
              0.5555555555555556,
              "#d8576b"
             ],
             [
              0.6666666666666666,
              "#ed7953"
             ],
             [
              0.7777777777777778,
              "#fb9f3a"
             ],
             [
              0.8888888888888888,
              "#fdca26"
             ],
             [
              1,
              "#f0f921"
             ]
            ],
            "type": "histogram2dcontour"
           }
          ],
          "mesh3d": [
           {
            "colorbar": {
             "outlinewidth": 0,
             "ticks": ""
            },
            "type": "mesh3d"
           }
          ],
          "parcoords": [
           {
            "line": {
             "colorbar": {
              "outlinewidth": 0,
              "ticks": ""
             }
            },
            "type": "parcoords"
           }
          ],
          "pie": [
           {
            "automargin": true,
            "type": "pie"
           }
          ],
          "scatter": [
           {
            "marker": {
             "colorbar": {
              "outlinewidth": 0,
              "ticks": ""
             }
            },
            "type": "scatter"
           }
          ],
          "scatter3d": [
           {
            "line": {
             "colorbar": {
              "outlinewidth": 0,
              "ticks": ""
             }
            },
            "marker": {
             "colorbar": {
              "outlinewidth": 0,
              "ticks": ""
             }
            },
            "type": "scatter3d"
           }
          ],
          "scattercarpet": [
           {
            "marker": {
             "colorbar": {
              "outlinewidth": 0,
              "ticks": ""
             }
            },
            "type": "scattercarpet"
           }
          ],
          "scattergeo": [
           {
            "marker": {
             "colorbar": {
              "outlinewidth": 0,
              "ticks": ""
             }
            },
            "type": "scattergeo"
           }
          ],
          "scattergl": [
           {
            "marker": {
             "colorbar": {
              "outlinewidth": 0,
              "ticks": ""
             }
            },
            "type": "scattergl"
           }
          ],
          "scattermapbox": [
           {
            "marker": {
             "colorbar": {
              "outlinewidth": 0,
              "ticks": ""
             }
            },
            "type": "scattermapbox"
           }
          ],
          "scatterpolar": [
           {
            "marker": {
             "colorbar": {
              "outlinewidth": 0,
              "ticks": ""
             }
            },
            "type": "scatterpolar"
           }
          ],
          "scatterpolargl": [
           {
            "marker": {
             "colorbar": {
              "outlinewidth": 0,
              "ticks": ""
             }
            },
            "type": "scatterpolargl"
           }
          ],
          "scatterternary": [
           {
            "marker": {
             "colorbar": {
              "outlinewidth": 0,
              "ticks": ""
             }
            },
            "type": "scatterternary"
           }
          ],
          "surface": [
           {
            "colorbar": {
             "outlinewidth": 0,
             "ticks": ""
            },
            "colorscale": [
             [
              0,
              "#0d0887"
             ],
             [
              0.1111111111111111,
              "#46039f"
             ],
             [
              0.2222222222222222,
              "#7201a8"
             ],
             [
              0.3333333333333333,
              "#9c179e"
             ],
             [
              0.4444444444444444,
              "#bd3786"
             ],
             [
              0.5555555555555556,
              "#d8576b"
             ],
             [
              0.6666666666666666,
              "#ed7953"
             ],
             [
              0.7777777777777778,
              "#fb9f3a"
             ],
             [
              0.8888888888888888,
              "#fdca26"
             ],
             [
              1,
              "#f0f921"
             ]
            ],
            "type": "surface"
           }
          ],
          "table": [
           {
            "cells": {
             "fill": {
              "color": "#EBF0F8"
             },
             "line": {
              "color": "white"
             }
            },
            "header": {
             "fill": {
              "color": "#C8D4E3"
             },
             "line": {
              "color": "white"
             }
            },
            "type": "table"
           }
          ]
         },
         "layout": {
          "annotationdefaults": {
           "arrowcolor": "#2a3f5f",
           "arrowhead": 0,
           "arrowwidth": 1
          },
          "coloraxis": {
           "colorbar": {
            "outlinewidth": 0,
            "ticks": ""
           }
          },
          "colorscale": {
           "diverging": [
            [
             0,
             "#8e0152"
            ],
            [
             0.1,
             "#c51b7d"
            ],
            [
             0.2,
             "#de77ae"
            ],
            [
             0.3,
             "#f1b6da"
            ],
            [
             0.4,
             "#fde0ef"
            ],
            [
             0.5,
             "#f7f7f7"
            ],
            [
             0.6,
             "#e6f5d0"
            ],
            [
             0.7,
             "#b8e186"
            ],
            [
             0.8,
             "#7fbc41"
            ],
            [
             0.9,
             "#4d9221"
            ],
            [
             1,
             "#276419"
            ]
           ],
           "sequential": [
            [
             0,
             "#0d0887"
            ],
            [
             0.1111111111111111,
             "#46039f"
            ],
            [
             0.2222222222222222,
             "#7201a8"
            ],
            [
             0.3333333333333333,
             "#9c179e"
            ],
            [
             0.4444444444444444,
             "#bd3786"
            ],
            [
             0.5555555555555556,
             "#d8576b"
            ],
            [
             0.6666666666666666,
             "#ed7953"
            ],
            [
             0.7777777777777778,
             "#fb9f3a"
            ],
            [
             0.8888888888888888,
             "#fdca26"
            ],
            [
             1,
             "#f0f921"
            ]
           ],
           "sequentialminus": [
            [
             0,
             "#0d0887"
            ],
            [
             0.1111111111111111,
             "#46039f"
            ],
            [
             0.2222222222222222,
             "#7201a8"
            ],
            [
             0.3333333333333333,
             "#9c179e"
            ],
            [
             0.4444444444444444,
             "#bd3786"
            ],
            [
             0.5555555555555556,
             "#d8576b"
            ],
            [
             0.6666666666666666,
             "#ed7953"
            ],
            [
             0.7777777777777778,
             "#fb9f3a"
            ],
            [
             0.8888888888888888,
             "#fdca26"
            ],
            [
             1,
             "#f0f921"
            ]
           ]
          },
          "colorway": [
           "#636efa",
           "#EF553B",
           "#00cc96",
           "#ab63fa",
           "#FFA15A",
           "#19d3f3",
           "#FF6692",
           "#B6E880",
           "#FF97FF",
           "#FECB52"
          ],
          "font": {
           "color": "#2a3f5f"
          },
          "geo": {
           "bgcolor": "white",
           "lakecolor": "white",
           "landcolor": "#E5ECF6",
           "showlakes": true,
           "showland": true,
           "subunitcolor": "white"
          },
          "hoverlabel": {
           "align": "left"
          },
          "hovermode": "closest",
          "mapbox": {
           "style": "light"
          },
          "paper_bgcolor": "white",
          "plot_bgcolor": "#E5ECF6",
          "polar": {
           "angularaxis": {
            "gridcolor": "white",
            "linecolor": "white",
            "ticks": ""
           },
           "bgcolor": "#E5ECF6",
           "radialaxis": {
            "gridcolor": "white",
            "linecolor": "white",
            "ticks": ""
           }
          },
          "scene": {
           "xaxis": {
            "backgroundcolor": "#E5ECF6",
            "gridcolor": "white",
            "gridwidth": 2,
            "linecolor": "white",
            "showbackground": true,
            "ticks": "",
            "zerolinecolor": "white"
           },
           "yaxis": {
            "backgroundcolor": "#E5ECF6",
            "gridcolor": "white",
            "gridwidth": 2,
            "linecolor": "white",
            "showbackground": true,
            "ticks": "",
            "zerolinecolor": "white"
           },
           "zaxis": {
            "backgroundcolor": "#E5ECF6",
            "gridcolor": "white",
            "gridwidth": 2,
            "linecolor": "white",
            "showbackground": true,
            "ticks": "",
            "zerolinecolor": "white"
           }
          },
          "shapedefaults": {
           "line": {
            "color": "#2a3f5f"
           }
          },
          "ternary": {
           "aaxis": {
            "gridcolor": "white",
            "linecolor": "white",
            "ticks": ""
           },
           "baxis": {
            "gridcolor": "white",
            "linecolor": "white",
            "ticks": ""
           },
           "bgcolor": "#E5ECF6",
           "caxis": {
            "gridcolor": "white",
            "linecolor": "white",
            "ticks": ""
           }
          },
          "title": {
           "x": 0.05
          },
          "xaxis": {
           "automargin": true,
           "gridcolor": "white",
           "linecolor": "white",
           "ticks": "",
           "title": {
            "standoff": 15
           },
           "zerolinecolor": "white",
           "zerolinewidth": 2
          },
          "yaxis": {
           "automargin": true,
           "gridcolor": "white",
           "linecolor": "white",
           "ticks": "",
           "title": {
            "standoff": 15
           },
           "zerolinecolor": "white",
           "zerolinewidth": 2
          }
         }
        }
       }
      },
      "text/html": [
       "<div>\n",
       "        \n",
       "        \n",
       "            <div id=\"567f706d-7a7d-44dc-b23d-a6968542d034\" class=\"plotly-graph-div\" style=\"height:525px; width:100%;\"></div>\n",
       "            <script type=\"text/javascript\">\n",
       "                require([\"plotly\"], function(Plotly) {\n",
       "                    window.PLOTLYENV=window.PLOTLYENV || {};\n",
       "                    \n",
       "                if (document.getElementById(\"567f706d-7a7d-44dc-b23d-a6968542d034\")) {\n",
       "                    Plotly.newPlot(\n",
       "                        '567f706d-7a7d-44dc-b23d-a6968542d034',\n",
       "                        [{\"type\": \"bar\", \"x\": [\"NOTCH1\", \"NF1\", \"DNMT3A\", \"CUX1\", \"BCORL1\", \"U2AF2\", \"KMT2A\", \"ATRX\", \"BCOR\", \"ASXL1\", \"CEBPA\", \"NPM1\", \"KDM6A\", \"GATA2\", \"SRSF2\", \"STAG2\", \"SH2B3\", \"LUC7L2\", \"WT1\", \"TP53\", \"TET2\", \"CDKN2A\", \"FBXW7\", \"DDX41\", \"CSF3R\", \"JAK3\", \"RAD21\", \"SMC1A\", \"RUNX1\", \"SF3B1\", \"ZRSR2\", \"CBLC\", \"MAP2K1\", \"ABL1\", \"GATA1\", \"CBL\", \"MYC\", \"EZH2\", \"U2AF1\", \"IDH1\", \"JAK2\", \"IKZF1\", \"PPM1D\", \"ETV6\", \"PDGFRA\", \"SLC29A1\", \"CXCR4\", \"PTPN11\", \"MPL\", \"GNAS\", \"FLT3\", \"HRAS\", \"BRAF\", \"IDH2\", \"PTEN\", \"NRAS\", \"PHF6\", \"DCK\", \"BTK\", \"SETBP1\", \"XPO1\", \"MYD88\"], \"y\": [216, 210, 204, 187, 183, 172, 166, 160, 152, 101, 99, 99, 97, 93, 90, 83, 78, 75, 75, 72, 66, 60, 55, 54, 51, 48, 40, 39, 39, 36, 29, 22, 20, 19, 18, 18, 16, 14, 12, 11, 10, 9, 8, 7, 6, 6, 5, 5, 4, 4, 4, 3, 3, 3, 2, 2, 2, 2, 1, 1, 1, 1]}],\n",
       "                        {\"template\": {\"data\": {\"bar\": [{\"error_x\": {\"color\": \"#2a3f5f\"}, \"error_y\": {\"color\": \"#2a3f5f\"}, \"marker\": {\"line\": {\"color\": \"#E5ECF6\", \"width\": 0.5}}, \"type\": \"bar\"}], \"barpolar\": [{\"marker\": {\"line\": {\"color\": \"#E5ECF6\", \"width\": 0.5}}, \"type\": \"barpolar\"}], \"carpet\": [{\"aaxis\": {\"endlinecolor\": \"#2a3f5f\", \"gridcolor\": \"white\", \"linecolor\": \"white\", \"minorgridcolor\": \"white\", \"startlinecolor\": \"#2a3f5f\"}, \"baxis\": {\"endlinecolor\": \"#2a3f5f\", \"gridcolor\": \"white\", \"linecolor\": \"white\", \"minorgridcolor\": \"white\", \"startlinecolor\": \"#2a3f5f\"}, \"type\": \"carpet\"}], \"choropleth\": [{\"colorbar\": {\"outlinewidth\": 0, \"ticks\": \"\"}, \"type\": \"choropleth\"}], \"contour\": [{\"colorbar\": {\"outlinewidth\": 0, \"ticks\": \"\"}, \"colorscale\": [[0.0, \"#0d0887\"], [0.1111111111111111, \"#46039f\"], [0.2222222222222222, \"#7201a8\"], [0.3333333333333333, \"#9c179e\"], [0.4444444444444444, \"#bd3786\"], [0.5555555555555556, \"#d8576b\"], [0.6666666666666666, \"#ed7953\"], [0.7777777777777778, \"#fb9f3a\"], [0.8888888888888888, \"#fdca26\"], [1.0, \"#f0f921\"]], \"type\": \"contour\"}], \"contourcarpet\": [{\"colorbar\": {\"outlinewidth\": 0, \"ticks\": \"\"}, \"type\": \"contourcarpet\"}], \"heatmap\": [{\"colorbar\": {\"outlinewidth\": 0, \"ticks\": \"\"}, \"colorscale\": [[0.0, \"#0d0887\"], [0.1111111111111111, \"#46039f\"], [0.2222222222222222, \"#7201a8\"], [0.3333333333333333, \"#9c179e\"], [0.4444444444444444, \"#bd3786\"], [0.5555555555555556, \"#d8576b\"], [0.6666666666666666, \"#ed7953\"], [0.7777777777777778, \"#fb9f3a\"], [0.8888888888888888, \"#fdca26\"], [1.0, \"#f0f921\"]], \"type\": \"heatmap\"}], \"heatmapgl\": [{\"colorbar\": {\"outlinewidth\": 0, \"ticks\": \"\"}, \"colorscale\": [[0.0, \"#0d0887\"], [0.1111111111111111, \"#46039f\"], [0.2222222222222222, \"#7201a8\"], [0.3333333333333333, \"#9c179e\"], [0.4444444444444444, \"#bd3786\"], [0.5555555555555556, \"#d8576b\"], [0.6666666666666666, \"#ed7953\"], [0.7777777777777778, \"#fb9f3a\"], [0.8888888888888888, \"#fdca26\"], [1.0, \"#f0f921\"]], \"type\": \"heatmapgl\"}], \"histogram\": [{\"marker\": {\"colorbar\": {\"outlinewidth\": 0, \"ticks\": \"\"}}, \"type\": \"histogram\"}], \"histogram2d\": [{\"colorbar\": {\"outlinewidth\": 0, \"ticks\": \"\"}, \"colorscale\": [[0.0, \"#0d0887\"], [0.1111111111111111, \"#46039f\"], [0.2222222222222222, \"#7201a8\"], [0.3333333333333333, \"#9c179e\"], [0.4444444444444444, \"#bd3786\"], [0.5555555555555556, \"#d8576b\"], [0.6666666666666666, \"#ed7953\"], [0.7777777777777778, \"#fb9f3a\"], [0.8888888888888888, \"#fdca26\"], [1.0, \"#f0f921\"]], \"type\": \"histogram2d\"}], \"histogram2dcontour\": [{\"colorbar\": {\"outlinewidth\": 0, \"ticks\": \"\"}, \"colorscale\": [[0.0, \"#0d0887\"], [0.1111111111111111, \"#46039f\"], [0.2222222222222222, \"#7201a8\"], [0.3333333333333333, \"#9c179e\"], [0.4444444444444444, \"#bd3786\"], [0.5555555555555556, \"#d8576b\"], [0.6666666666666666, \"#ed7953\"], [0.7777777777777778, \"#fb9f3a\"], [0.8888888888888888, \"#fdca26\"], [1.0, \"#f0f921\"]], \"type\": \"histogram2dcontour\"}], \"mesh3d\": [{\"colorbar\": {\"outlinewidth\": 0, \"ticks\": \"\"}, \"type\": \"mesh3d\"}], \"parcoords\": [{\"line\": {\"colorbar\": {\"outlinewidth\": 0, \"ticks\": \"\"}}, \"type\": \"parcoords\"}], \"pie\": [{\"automargin\": true, \"type\": \"pie\"}], \"scatter\": [{\"marker\": {\"colorbar\": {\"outlinewidth\": 0, \"ticks\": \"\"}}, \"type\": \"scatter\"}], \"scatter3d\": [{\"line\": {\"colorbar\": {\"outlinewidth\": 0, \"ticks\": \"\"}}, \"marker\": {\"colorbar\": {\"outlinewidth\": 0, \"ticks\": \"\"}}, \"type\": \"scatter3d\"}], \"scattercarpet\": [{\"marker\": {\"colorbar\": {\"outlinewidth\": 0, \"ticks\": \"\"}}, \"type\": \"scattercarpet\"}], \"scattergeo\": [{\"marker\": {\"colorbar\": {\"outlinewidth\": 0, \"ticks\": \"\"}}, \"type\": \"scattergeo\"}], \"scattergl\": [{\"marker\": {\"colorbar\": {\"outlinewidth\": 0, \"ticks\": \"\"}}, \"type\": \"scattergl\"}], \"scattermapbox\": [{\"marker\": {\"colorbar\": {\"outlinewidth\": 0, \"ticks\": \"\"}}, \"type\": \"scattermapbox\"}], \"scatterpolar\": [{\"marker\": {\"colorbar\": {\"outlinewidth\": 0, \"ticks\": \"\"}}, \"type\": \"scatterpolar\"}], \"scatterpolargl\": [{\"marker\": {\"colorbar\": {\"outlinewidth\": 0, \"ticks\": \"\"}}, \"type\": \"scatterpolargl\"}], \"scatterternary\": [{\"marker\": {\"colorbar\": {\"outlinewidth\": 0, \"ticks\": \"\"}}, \"type\": \"scatterternary\"}], \"surface\": [{\"colorbar\": {\"outlinewidth\": 0, \"ticks\": \"\"}, \"colorscale\": [[0.0, \"#0d0887\"], [0.1111111111111111, \"#46039f\"], [0.2222222222222222, \"#7201a8\"], [0.3333333333333333, \"#9c179e\"], [0.4444444444444444, \"#bd3786\"], [0.5555555555555556, \"#d8576b\"], [0.6666666666666666, \"#ed7953\"], [0.7777777777777778, \"#fb9f3a\"], [0.8888888888888888, \"#fdca26\"], [1.0, \"#f0f921\"]], \"type\": \"surface\"}], \"table\": [{\"cells\": {\"fill\": {\"color\": \"#EBF0F8\"}, \"line\": {\"color\": \"white\"}}, \"header\": {\"fill\": {\"color\": \"#C8D4E3\"}, \"line\": {\"color\": \"white\"}}, \"type\": \"table\"}]}, \"layout\": {\"annotationdefaults\": {\"arrowcolor\": \"#2a3f5f\", \"arrowhead\": 0, \"arrowwidth\": 1}, \"coloraxis\": {\"colorbar\": {\"outlinewidth\": 0, \"ticks\": \"\"}}, \"colorscale\": {\"diverging\": [[0, \"#8e0152\"], [0.1, \"#c51b7d\"], [0.2, \"#de77ae\"], [0.3, \"#f1b6da\"], [0.4, \"#fde0ef\"], [0.5, \"#f7f7f7\"], [0.6, \"#e6f5d0\"], [0.7, \"#b8e186\"], [0.8, \"#7fbc41\"], [0.9, \"#4d9221\"], [1, \"#276419\"]], \"sequential\": [[0.0, \"#0d0887\"], [0.1111111111111111, \"#46039f\"], [0.2222222222222222, \"#7201a8\"], [0.3333333333333333, \"#9c179e\"], [0.4444444444444444, \"#bd3786\"], [0.5555555555555556, \"#d8576b\"], [0.6666666666666666, \"#ed7953\"], [0.7777777777777778, \"#fb9f3a\"], [0.8888888888888888, \"#fdca26\"], [1.0, \"#f0f921\"]], \"sequentialminus\": [[0.0, \"#0d0887\"], [0.1111111111111111, \"#46039f\"], [0.2222222222222222, \"#7201a8\"], [0.3333333333333333, \"#9c179e\"], [0.4444444444444444, \"#bd3786\"], [0.5555555555555556, \"#d8576b\"], [0.6666666666666666, \"#ed7953\"], [0.7777777777777778, \"#fb9f3a\"], [0.8888888888888888, \"#fdca26\"], [1.0, \"#f0f921\"]]}, \"colorway\": [\"#636efa\", \"#EF553B\", \"#00cc96\", \"#ab63fa\", \"#FFA15A\", \"#19d3f3\", \"#FF6692\", \"#B6E880\", \"#FF97FF\", \"#FECB52\"], \"font\": {\"color\": \"#2a3f5f\"}, \"geo\": {\"bgcolor\": \"white\", \"lakecolor\": \"white\", \"landcolor\": \"#E5ECF6\", \"showlakes\": true, \"showland\": true, \"subunitcolor\": \"white\"}, \"hoverlabel\": {\"align\": \"left\"}, \"hovermode\": \"closest\", \"mapbox\": {\"style\": \"light\"}, \"paper_bgcolor\": \"white\", \"plot_bgcolor\": \"#E5ECF6\", \"polar\": {\"angularaxis\": {\"gridcolor\": \"white\", \"linecolor\": \"white\", \"ticks\": \"\"}, \"bgcolor\": \"#E5ECF6\", \"radialaxis\": {\"gridcolor\": \"white\", \"linecolor\": \"white\", \"ticks\": \"\"}}, \"scene\": {\"xaxis\": {\"backgroundcolor\": \"#E5ECF6\", \"gridcolor\": \"white\", \"gridwidth\": 2, \"linecolor\": \"white\", \"showbackground\": true, \"ticks\": \"\", \"zerolinecolor\": \"white\"}, \"yaxis\": {\"backgroundcolor\": \"#E5ECF6\", \"gridcolor\": \"white\", \"gridwidth\": 2, \"linecolor\": \"white\", \"showbackground\": true, \"ticks\": \"\", \"zerolinecolor\": \"white\"}, \"zaxis\": {\"backgroundcolor\": \"#E5ECF6\", \"gridcolor\": \"white\", \"gridwidth\": 2, \"linecolor\": \"white\", \"showbackground\": true, \"ticks\": \"\", \"zerolinecolor\": \"white\"}}, \"shapedefaults\": {\"line\": {\"color\": \"#2a3f5f\"}}, \"ternary\": {\"aaxis\": {\"gridcolor\": \"white\", \"linecolor\": \"white\", \"ticks\": \"\"}, \"baxis\": {\"gridcolor\": \"white\", \"linecolor\": \"white\", \"ticks\": \"\"}, \"bgcolor\": \"#E5ECF6\", \"caxis\": {\"gridcolor\": \"white\", \"linecolor\": \"white\", \"ticks\": \"\"}}, \"title\": {\"x\": 0.05}, \"xaxis\": {\"automargin\": true, \"gridcolor\": \"white\", \"linecolor\": \"white\", \"ticks\": \"\", \"title\": {\"standoff\": 15}, \"zerolinecolor\": \"white\", \"zerolinewidth\": 2}, \"yaxis\": {\"automargin\": true, \"gridcolor\": \"white\", \"linecolor\": \"white\", \"ticks\": \"\", \"title\": {\"standoff\": 15}, \"zerolinecolor\": \"white\", \"zerolinewidth\": 2}}}},\n",
       "                        {\"responsive\": true}\n",
       "                    ).then(function(){\n",
       "                            \n",
       "var gd = document.getElementById('567f706d-7a7d-44dc-b23d-a6968542d034');\n",
       "var x = new MutationObserver(function (mutations, observer) {{\n",
       "        var display = window.getComputedStyle(gd).display;\n",
       "        if (!display || display === 'none') {{\n",
       "            console.log([gd, 'removed!']);\n",
       "            Plotly.purge(gd);\n",
       "            observer.disconnect();\n",
       "        }}\n",
       "}});\n",
       "\n",
       "// Listen for the removal of the full notebook cells\n",
       "var notebookContainer = gd.closest('#notebook-container');\n",
       "if (notebookContainer) {{\n",
       "    x.observe(notebookContainer, {childList: true});\n",
       "}}\n",
       "\n",
       "// Listen for the clearing of the current output cell\n",
       "var outputEl = gd.closest('.output');\n",
       "if (outputEl) {{\n",
       "    x.observe(outputEl, {childList: true});\n",
       "}}\n",
       "\n",
       "                        })\n",
       "                };\n",
       "                });\n",
       "            </script>\n",
       "        </div>"
      ]
     },
     "metadata": {},
     "output_type": "display_data"
    }
   ],
   "source": [
    "plot.top_bar(lbc, all=True)"
   ]
  },
  {
   "cell_type": "markdown",
   "metadata": {
    "nteract": {
     "transient": {
      "deleting": false
     }
    }
   },
   "source": [
    "## Gradient statistics\n"
   ]
  },
  {
   "cell_type": "markdown",
   "metadata": {
    "nteract": {
     "transient": {
      "deleting": false
     }
    }
   },
   "source": [
    "Function *gradients* allows us to crate violin plots of the overall gradient of all trajectories containing a mutation in a list of genes."
   ]
  },
  {
   "cell_type": "code",
   "execution_count": 13,
   "metadata": {
    "jupyter": {
     "outputs_hidden": false,
     "source_hidden": false
    },
    "nteract": {
     "transient": {
      "deleting": false
     }
    }
   },
   "outputs": [
    {
     "data": {
      "application/vnd.plotly.v1+json": {
       "config": {
        "plotlyServerURL": "https://plot.ly"
       },
       "data": [
        {
         "alignmentgroup": "True",
         "boxpoints": "all",
         "customdata": [
          [
           "TET2"
          ],
          [
           "TET2"
          ],
          [
           "TET2"
          ],
          [
           "TET2"
          ],
          [
           "TET2"
          ],
          [
           "TET2"
          ],
          [
           "TET2"
          ],
          [
           "TET2"
          ],
          [
           "TET2"
          ],
          [
           "TET2"
          ],
          [
           "TET2"
          ],
          [
           "TET2"
          ],
          [
           "TET2"
          ],
          [
           "TET2"
          ],
          [
           "TET2"
          ],
          [
           "TET2"
          ],
          [
           "TET2"
          ],
          [
           "TET2"
          ],
          [
           "TET2"
          ],
          [
           "TET2"
          ],
          [
           "TET2"
          ],
          [
           "TET2"
          ],
          [
           "TET2"
          ],
          [
           "TET2"
          ],
          [
           "TET2"
          ],
          [
           "TET2"
          ],
          [
           "TET2"
          ],
          [
           "TET2"
          ],
          [
           "TET2"
          ],
          [
           "TET2"
          ],
          [
           "TET2"
          ],
          [
           "TET2"
          ],
          [
           "TET2"
          ],
          [
           "TET2"
          ],
          [
           "TET2"
          ],
          [
           "TET2"
          ],
          [
           "TET2"
          ],
          [
           "TET2"
          ],
          [
           "TET2"
          ],
          [
           "TET2"
          ],
          [
           "TET2"
          ],
          [
           "TET2"
          ],
          [
           "TET2"
          ],
          [
           "TET2"
          ],
          [
           "TET2"
          ],
          [
           "TET2"
          ],
          [
           "TET2"
          ],
          [
           "TET2"
          ],
          [
           "TET2"
          ],
          [
           "TET2"
          ],
          [
           "TET2"
          ],
          [
           "TET2"
          ],
          [
           "TET2"
          ],
          [
           "TET2"
          ],
          [
           "TET2"
          ],
          [
           "TET2"
          ],
          [
           "TET2"
          ],
          [
           "TET2"
          ],
          [
           "TET2"
          ],
          [
           "TET2"
          ],
          [
           "TET2"
          ],
          [
           "TET2"
          ],
          [
           "TET2"
          ],
          [
           "TET2"
          ],
          [
           "TET2"
          ],
          [
           "TET2"
          ]
         ],
         "hoverlabel": {
          "namelength": 0
         },
         "hovertemplate": "<b>%{hovertext}</b><br><br>mutation=%{customdata[0]}<br>gradient=%{y}",
         "hovertext": [
          "LBC0001A",
          "LBC0001A",
          "LBC0001A",
          "LBC0031R",
          "LBC0031R",
          "LBC0046H",
          "LBC0065A",
          "LBC0065A",
          "LBC0081L",
          "LBC0081L",
          "LBC0102H",
          "LBC0102H",
          "LBC0111B",
          "LBC0144B",
          "LBC0144B",
          "LBC0144B",
          "LBC0176A",
          "LBC0220K",
          "LBC0220K",
          "LBC0242M",
          "LBC0251K",
          "LBC0251K",
          "LBC0256W",
          "LBC0263L",
          "LBC0284K",
          "LBC0293E",
          "LBC0377A",
          "LBC0392K",
          "LBC0392K",
          "LBC0405M",
          "LBC0415L",
          "LBC0429V",
          "LBC0429V",
          "LBC0439R",
          "LBC0461R",
          "LBC0461R",
          "LBC0461R",
          "LBC0461R",
          "LBC0464X",
          "LBC0516R",
          "LBC0516R",
          "LBC0516R",
          "LBC0517V",
          "LBC0591L",
          "LBC0591L",
          "LBC360008",
          "LBC360072",
          "LBC360072",
          "LBC360104",
          "LBC360181",
          "LBC360231",
          "LBC360283",
          "LBC360453",
          "LBC360508",
          "LBC360666",
          "LBC360666",
          "LBC360694",
          "LBC360702",
          "LBC360725",
          "LBC360754",
          "LBC360898",
          "LBC360908",
          "LBC360908",
          "LBC360919",
          "LBC361096",
          "LBC361096"
         ],
         "legendgroup": "TET2",
         "marker": {
          "color": "#636efa"
         },
         "name": "TET2",
         "notched": false,
         "offsetgroup": "TET2",
         "orientation": "v",
         "showlegend": true,
         "type": "box",
         "x": [
          "TET2",
          "TET2",
          "TET2",
          "TET2",
          "TET2",
          "TET2",
          "TET2",
          "TET2",
          "TET2",
          "TET2",
          "TET2",
          "TET2",
          "TET2",
          "TET2",
          "TET2",
          "TET2",
          "TET2",
          "TET2",
          "TET2",
          "TET2",
          "TET2",
          "TET2",
          "TET2",
          "TET2",
          "TET2",
          "TET2",
          "TET2",
          "TET2",
          "TET2",
          "TET2",
          "TET2",
          "TET2",
          "TET2",
          "TET2",
          "TET2",
          "TET2",
          "TET2",
          "TET2",
          "TET2",
          "TET2",
          "TET2",
          "TET2",
          "TET2",
          "TET2",
          "TET2",
          "TET2",
          "TET2",
          "TET2",
          "TET2",
          "TET2",
          "TET2",
          "TET2",
          "TET2",
          "TET2",
          "TET2",
          "TET2",
          "TET2",
          "TET2",
          "TET2",
          "TET2",
          "TET2",
          "TET2",
          "TET2",
          "TET2",
          "TET2",
          "TET2"
         ],
         "x0": " ",
         "xaxis": "x",
         "y": [
          -0.0023671361036774656,
          0.031523324697753555,
          0.0343,
          -0.004266666666666666,
          -0.00291561885940761,
          0.0010680979980008077,
          0.002482606157515391,
          -0.004368256707963336,
          0.010532805893967667,
          0.00996125828731826,
          0.0010680979980008077,
          -0.000317542648054294,
          0.0015333333333333334,
          -0.0046132056822416525,
          -0.00020207259421636906,
          -0.002771281292110204,
          5.7735026918962483e-05,
          -0.0012701705922171765,
          -0.003839379290111012,
          -5.773502691896223e-05,
          0.04239999999999999,
          0.0027333333333333337,
          0.019963341403682902,
          0.0004907477288111822,
          0.0023960036171369473,
          0.0161,
          0.0016454482671904335,
          0.003031088913245536,
          -0.003175426480542942,
          0.001270170592217177,
          0.001469693845669907,
          0.002776088375154269,
          0.0011258330249197706,
          -0.002367136103677466,
          -0.002771281292110204,
          -0.0029999999999999996,
          0.0011835680518387328,
          -0.00640949816028265,
          -0.004416729559300637,
          -0.001183568051838733,
          -0.0029333333333333334,
          -0.0012413030787576955,
          0.008371578903249573,
          0.002166666666666666,
          0.021200000000000007,
          0.0008082903768654762,
          0.04906666666666667,
          0.0022333333333333333,
          -0.0010000000000000002,
          0.06770000000000001,
          -0.0023270152556440194,
          0.001061445555206044,
          0.0019,
          0.004033333333333333,
          0.019299999999999998,
          0.0011,
          -0.0026558112382722788,
          -0.0006666666666666666,
          0.0010333333333333332,
          -8.164965809277283e-05,
          -0.00033333333333333305,
          0.004233333333333333,
          0.004899999999999999,
          0.001233333333333333,
          0.0004666666666666667,
          -0.005062278801751902
         ],
         "y0": " ",
         "yaxis": "y"
        },
        {
         "alignmentgroup": "True",
         "boxpoints": "all",
         "customdata": [
          [
           "DNMT3A"
          ],
          [
           "DNMT3A"
          ],
          [
           "DNMT3A"
          ],
          [
           "DNMT3A"
          ],
          [
           "DNMT3A"
          ],
          [
           "DNMT3A"
          ],
          [
           "DNMT3A"
          ],
          [
           "DNMT3A"
          ],
          [
           "DNMT3A"
          ],
          [
           "DNMT3A"
          ],
          [
           "DNMT3A"
          ],
          [
           "DNMT3A"
          ],
          [
           "DNMT3A"
          ],
          [
           "DNMT3A"
          ],
          [
           "DNMT3A"
          ],
          [
           "DNMT3A"
          ],
          [
           "DNMT3A"
          ],
          [
           "DNMT3A"
          ],
          [
           "DNMT3A"
          ],
          [
           "DNMT3A"
          ],
          [
           "DNMT3A"
          ],
          [
           "DNMT3A"
          ],
          [
           "DNMT3A"
          ],
          [
           "DNMT3A"
          ],
          [
           "DNMT3A"
          ],
          [
           "DNMT3A"
          ],
          [
           "DNMT3A"
          ],
          [
           "DNMT3A"
          ],
          [
           "DNMT3A"
          ],
          [
           "DNMT3A"
          ],
          [
           "DNMT3A"
          ],
          [
           "DNMT3A"
          ],
          [
           "DNMT3A"
          ],
          [
           "DNMT3A"
          ],
          [
           "DNMT3A"
          ],
          [
           "DNMT3A"
          ],
          [
           "DNMT3A"
          ],
          [
           "DNMT3A"
          ],
          [
           "DNMT3A"
          ],
          [
           "DNMT3A"
          ],
          [
           "DNMT3A"
          ],
          [
           "DNMT3A"
          ],
          [
           "DNMT3A"
          ],
          [
           "DNMT3A"
          ],
          [
           "DNMT3A"
          ],
          [
           "DNMT3A"
          ],
          [
           "DNMT3A"
          ],
          [
           "DNMT3A"
          ],
          [
           "DNMT3A"
          ],
          [
           "DNMT3A"
          ],
          [
           "DNMT3A"
          ],
          [
           "DNMT3A"
          ],
          [
           "DNMT3A"
          ],
          [
           "DNMT3A"
          ],
          [
           "DNMT3A"
          ],
          [
           "DNMT3A"
          ],
          [
           "DNMT3A"
          ],
          [
           "DNMT3A"
          ],
          [
           "DNMT3A"
          ],
          [
           "DNMT3A"
          ],
          [
           "DNMT3A"
          ],
          [
           "DNMT3A"
          ],
          [
           "DNMT3A"
          ],
          [
           "DNMT3A"
          ],
          [
           "DNMT3A"
          ],
          [
           "DNMT3A"
          ],
          [
           "DNMT3A"
          ],
          [
           "DNMT3A"
          ],
          [
           "DNMT3A"
          ],
          [
           "DNMT3A"
          ],
          [
           "DNMT3A"
          ],
          [
           "DNMT3A"
          ],
          [
           "DNMT3A"
          ],
          [
           "DNMT3A"
          ],
          [
           "DNMT3A"
          ],
          [
           "DNMT3A"
          ],
          [
           "DNMT3A"
          ],
          [
           "DNMT3A"
          ],
          [
           "DNMT3A"
          ],
          [
           "DNMT3A"
          ],
          [
           "DNMT3A"
          ],
          [
           "DNMT3A"
          ],
          [
           "DNMT3A"
          ],
          [
           "DNMT3A"
          ],
          [
           "DNMT3A"
          ],
          [
           "DNMT3A"
          ],
          [
           "DNMT3A"
          ],
          [
           "DNMT3A"
          ],
          [
           "DNMT3A"
          ],
          [
           "DNMT3A"
          ],
          [
           "DNMT3A"
          ],
          [
           "DNMT3A"
          ],
          [
           "DNMT3A"
          ],
          [
           "DNMT3A"
          ],
          [
           "DNMT3A"
          ],
          [
           "DNMT3A"
          ],
          [
           "DNMT3A"
          ],
          [
           "DNMT3A"
          ],
          [
           "DNMT3A"
          ],
          [
           "DNMT3A"
          ],
          [
           "DNMT3A"
          ],
          [
           "DNMT3A"
          ],
          [
           "DNMT3A"
          ],
          [
           "DNMT3A"
          ],
          [
           "DNMT3A"
          ],
          [
           "DNMT3A"
          ],
          [
           "DNMT3A"
          ],
          [
           "DNMT3A"
          ],
          [
           "DNMT3A"
          ],
          [
           "DNMT3A"
          ],
          [
           "DNMT3A"
          ],
          [
           "DNMT3A"
          ],
          [
           "DNMT3A"
          ],
          [
           "DNMT3A"
          ],
          [
           "DNMT3A"
          ],
          [
           "DNMT3A"
          ],
          [
           "DNMT3A"
          ],
          [
           "DNMT3A"
          ],
          [
           "DNMT3A"
          ],
          [
           "DNMT3A"
          ],
          [
           "DNMT3A"
          ],
          [
           "DNMT3A"
          ],
          [
           "DNMT3A"
          ],
          [
           "DNMT3A"
          ],
          [
           "DNMT3A"
          ],
          [
           "DNMT3A"
          ],
          [
           "DNMT3A"
          ],
          [
           "DNMT3A"
          ],
          [
           "DNMT3A"
          ],
          [
           "DNMT3A"
          ],
          [
           "DNMT3A"
          ],
          [
           "DNMT3A"
          ],
          [
           "DNMT3A"
          ],
          [
           "DNMT3A"
          ],
          [
           "DNMT3A"
          ],
          [
           "DNMT3A"
          ],
          [
           "DNMT3A"
          ],
          [
           "DNMT3A"
          ],
          [
           "DNMT3A"
          ],
          [
           "DNMT3A"
          ],
          [
           "DNMT3A"
          ],
          [
           "DNMT3A"
          ],
          [
           "DNMT3A"
          ],
          [
           "DNMT3A"
          ],
          [
           "DNMT3A"
          ],
          [
           "DNMT3A"
          ],
          [
           "DNMT3A"
          ],
          [
           "DNMT3A"
          ],
          [
           "DNMT3A"
          ],
          [
           "DNMT3A"
          ],
          [
           "DNMT3A"
          ],
          [
           "DNMT3A"
          ],
          [
           "DNMT3A"
          ],
          [
           "DNMT3A"
          ],
          [
           "DNMT3A"
          ],
          [
           "DNMT3A"
          ],
          [
           "DNMT3A"
          ],
          [
           "DNMT3A"
          ],
          [
           "DNMT3A"
          ],
          [
           "DNMT3A"
          ],
          [
           "DNMT3A"
          ],
          [
           "DNMT3A"
          ],
          [
           "DNMT3A"
          ],
          [
           "DNMT3A"
          ],
          [
           "DNMT3A"
          ],
          [
           "DNMT3A"
          ],
          [
           "DNMT3A"
          ],
          [
           "DNMT3A"
          ],
          [
           "DNMT3A"
          ],
          [
           "DNMT3A"
          ],
          [
           "DNMT3A"
          ],
          [
           "DNMT3A"
          ],
          [
           "DNMT3A"
          ],
          [
           "DNMT3A"
          ],
          [
           "DNMT3A"
          ],
          [
           "DNMT3A"
          ],
          [
           "DNMT3A"
          ],
          [
           "DNMT3A"
          ],
          [
           "DNMT3A"
          ],
          [
           "DNMT3A"
          ],
          [
           "DNMT3A"
          ],
          [
           "DNMT3A"
          ],
          [
           "DNMT3A"
          ],
          [
           "DNMT3A"
          ],
          [
           "DNMT3A"
          ],
          [
           "DNMT3A"
          ],
          [
           "DNMT3A"
          ],
          [
           "DNMT3A"
          ],
          [
           "DNMT3A"
          ],
          [
           "DNMT3A"
          ],
          [
           "DNMT3A"
          ],
          [
           "DNMT3A"
          ],
          [
           "DNMT3A"
          ],
          [
           "DNMT3A"
          ],
          [
           "DNMT3A"
          ],
          [
           "DNMT3A"
          ],
          [
           "DNMT3A"
          ],
          [
           "DNMT3A"
          ],
          [
           "DNMT3A"
          ],
          [
           "DNMT3A"
          ],
          [
           "DNMT3A"
          ],
          [
           "DNMT3A"
          ],
          [
           "DNMT3A"
          ],
          [
           "DNMT3A"
          ]
         ],
         "hoverlabel": {
          "namelength": 0
         },
         "hovertemplate": "<b>%{hovertext}</b><br><br>mutation=%{customdata[0]}<br>gradient=%{y}",
         "hovertext": [
          "LBC0001A",
          "LBC0001A",
          "LBC0031R",
          "LBC0031R",
          "LBC0031R",
          "LBC0040V",
          "LBC0040V",
          "LBC0046H",
          "LBC0046H",
          "LBC0046H",
          "LBC0047K",
          "LBC0065A",
          "LBC0065A",
          "LBC0065A",
          "LBC0065A",
          "LBC0065A",
          "LBC0065A",
          "LBC0065A",
          "LBC0065A",
          "LBC0065A",
          "LBC0065A",
          "LBC0065A",
          "LBC0068H",
          "LBC0068H",
          "LBC0102H",
          "LBC0102H",
          "LBC0102H",
          "LBC0111B",
          "LBC0118V",
          "LBC0118V",
          "LBC0118V",
          "LBC0118V",
          "LBC0118V",
          "LBC0118V",
          "LBC0118V",
          "LBC0144B",
          "LBC0144B",
          "LBC0144B",
          "LBC0144B",
          "LBC0148L",
          "LBC0152W",
          "LBC0152W",
          "LBC0152W",
          "LBC0152W",
          "LBC0152W",
          "LBC0165A",
          "LBC0176A",
          "LBC0176A",
          "LBC0176A",
          "LBC0176A",
          "LBC0176A",
          "LBC0176A",
          "LBC0220K",
          "LBC0220K",
          "LBC0220K",
          "LBC0220K",
          "LBC0220K",
          "LBC0220K",
          "LBC0220K",
          "LBC0242M",
          "LBC0242M",
          "LBC0263L",
          "LBC0263L",
          "LBC0263L",
          "LBC0284K",
          "LBC0284K",
          "LBC0284K",
          "LBC0284K",
          "LBC0293E",
          "LBC0293E",
          "LBC0377A",
          "LBC0377A",
          "LBC0392K",
          "LBC0392K",
          "LBC0392K",
          "LBC0392K",
          "LBC0392K",
          "LBC0392K",
          "LBC0392K",
          "LBC0392K",
          "LBC0392K",
          "LBC0392K",
          "LBC0392K",
          "LBC0392K",
          "LBC0392K",
          "LBC0405M",
          "LBC0405M",
          "LBC0405M",
          "LBC0405M",
          "LBC0405M",
          "LBC0405M",
          "LBC0405M",
          "LBC0405M",
          "LBC0405M",
          "LBC0429V",
          "LBC0429V",
          "LBC0439R",
          "LBC0439R",
          "LBC0439R",
          "LBC0439R",
          "LBC0439R",
          "LBC0446H",
          "LBC0446H",
          "LBC0446H",
          "LBC0446H",
          "LBC0446H",
          "LBC0446H",
          "LBC0446H",
          "LBC0461R",
          "LBC0461R",
          "LBC0461R",
          "LBC0461R",
          "LBC0461R",
          "LBC0461R",
          "LBC0461R",
          "LBC0461R",
          "LBC0461R",
          "LBC0464X",
          "LBC0464X",
          "LBC0464X",
          "LBC0471M",
          "LBC0484V",
          "LBC0484V",
          "LBC0516R",
          "LBC0517V",
          "LBC0517V",
          "LBC0520A",
          "LBC0520A",
          "LBC0520A",
          "LBC0588E",
          "LBC0588E",
          "LBC0588E",
          "LBC0591L",
          "LBC0591L",
          "LBC360008",
          "LBC360008",
          "LBC360008",
          "LBC360104",
          "LBC360104",
          "LBC360104",
          "LBC360231",
          "LBC360231",
          "LBC360231",
          "LBC360283",
          "LBC360356",
          "LBC360380",
          "LBC360380",
          "LBC360380",
          "LBC360414",
          "LBC360453",
          "LBC360458",
          "LBC360458",
          "LBC360458",
          "LBC360458",
          "LBC360508",
          "LBC360508",
          "LBC360508",
          "LBC360549",
          "LBC360549",
          "LBC360636",
          "LBC360636",
          "LBC360636",
          "LBC360658",
          "LBC360666",
          "LBC360702",
          "LBC360725",
          "LBC360754",
          "LBC360754",
          "LBC360782",
          "LBC360790",
          "LBC360790",
          "LBC360790",
          "LBC360843",
          "LBC360898",
          "LBC360898",
          "LBC360898",
          "LBC360908",
          "LBC360914",
          "LBC360914",
          "LBC360914",
          "LBC360914",
          "LBC360919",
          "LBC360919",
          "LBC360919",
          "LBC361006",
          "LBC361006",
          "LBC361006",
          "LBC361006",
          "LBC361096",
          "LBC361096",
          "LBC361096",
          "LBC361122",
          "LBC361122",
          "LBC361172",
          "LBC361172",
          "LBC361214",
          "LBC361214",
          "LBC361225",
          "LBC361286",
          "LBC361286",
          "LBC361286",
          "LBC361286",
          "LBC361286",
          "LBC361286"
         ],
         "legendgroup": "DNMT3A",
         "marker": {
          "color": "#EF553B"
         },
         "name": "DNMT3A",
         "notched": false,
         "offsetgroup": "DNMT3A",
         "orientation": "v",
         "showlegend": true,
         "type": "box",
         "x": [
          "DNMT3A",
          "DNMT3A",
          "DNMT3A",
          "DNMT3A",
          "DNMT3A",
          "DNMT3A",
          "DNMT3A",
          "DNMT3A",
          "DNMT3A",
          "DNMT3A",
          "DNMT3A",
          "DNMT3A",
          "DNMT3A",
          "DNMT3A",
          "DNMT3A",
          "DNMT3A",
          "DNMT3A",
          "DNMT3A",
          "DNMT3A",
          "DNMT3A",
          "DNMT3A",
          "DNMT3A",
          "DNMT3A",
          "DNMT3A",
          "DNMT3A",
          "DNMT3A",
          "DNMT3A",
          "DNMT3A",
          "DNMT3A",
          "DNMT3A",
          "DNMT3A",
          "DNMT3A",
          "DNMT3A",
          "DNMT3A",
          "DNMT3A",
          "DNMT3A",
          "DNMT3A",
          "DNMT3A",
          "DNMT3A",
          "DNMT3A",
          "DNMT3A",
          "DNMT3A",
          "DNMT3A",
          "DNMT3A",
          "DNMT3A",
          "DNMT3A",
          "DNMT3A",
          "DNMT3A",
          "DNMT3A",
          "DNMT3A",
          "DNMT3A",
          "DNMT3A",
          "DNMT3A",
          "DNMT3A",
          "DNMT3A",
          "DNMT3A",
          "DNMT3A",
          "DNMT3A",
          "DNMT3A",
          "DNMT3A",
          "DNMT3A",
          "DNMT3A",
          "DNMT3A",
          "DNMT3A",
          "DNMT3A",
          "DNMT3A",
          "DNMT3A",
          "DNMT3A",
          "DNMT3A",
          "DNMT3A",
          "DNMT3A",
          "DNMT3A",
          "DNMT3A",
          "DNMT3A",
          "DNMT3A",
          "DNMT3A",
          "DNMT3A",
          "DNMT3A",
          "DNMT3A",
          "DNMT3A",
          "DNMT3A",
          "DNMT3A",
          "DNMT3A",
          "DNMT3A",
          "DNMT3A",
          "DNMT3A",
          "DNMT3A",
          "DNMT3A",
          "DNMT3A",
          "DNMT3A",
          "DNMT3A",
          "DNMT3A",
          "DNMT3A",
          "DNMT3A",
          "DNMT3A",
          "DNMT3A",
          "DNMT3A",
          "DNMT3A",
          "DNMT3A",
          "DNMT3A",
          "DNMT3A",
          "DNMT3A",
          "DNMT3A",
          "DNMT3A",
          "DNMT3A",
          "DNMT3A",
          "DNMT3A",
          "DNMT3A",
          "DNMT3A",
          "DNMT3A",
          "DNMT3A",
          "DNMT3A",
          "DNMT3A",
          "DNMT3A",
          "DNMT3A",
          "DNMT3A",
          "DNMT3A",
          "DNMT3A",
          "DNMT3A",
          "DNMT3A",
          "DNMT3A",
          "DNMT3A",
          "DNMT3A",
          "DNMT3A",
          "DNMT3A",
          "DNMT3A",
          "DNMT3A",
          "DNMT3A",
          "DNMT3A",
          "DNMT3A",
          "DNMT3A",
          "DNMT3A",
          "DNMT3A",
          "DNMT3A",
          "DNMT3A",
          "DNMT3A",
          "DNMT3A",
          "DNMT3A",
          "DNMT3A",
          "DNMT3A",
          "DNMT3A",
          "DNMT3A",
          "DNMT3A",
          "DNMT3A",
          "DNMT3A",
          "DNMT3A",
          "DNMT3A",
          "DNMT3A",
          "DNMT3A",
          "DNMT3A",
          "DNMT3A",
          "DNMT3A",
          "DNMT3A",
          "DNMT3A",
          "DNMT3A",
          "DNMT3A",
          "DNMT3A",
          "DNMT3A",
          "DNMT3A",
          "DNMT3A",
          "DNMT3A",
          "DNMT3A",
          "DNMT3A",
          "DNMT3A",
          "DNMT3A",
          "DNMT3A",
          "DNMT3A",
          "DNMT3A",
          "DNMT3A",
          "DNMT3A",
          "DNMT3A",
          "DNMT3A",
          "DNMT3A",
          "DNMT3A",
          "DNMT3A",
          "DNMT3A",
          "DNMT3A",
          "DNMT3A",
          "DNMT3A",
          "DNMT3A",
          "DNMT3A",
          "DNMT3A",
          "DNMT3A",
          "DNMT3A",
          "DNMT3A",
          "DNMT3A",
          "DNMT3A",
          "DNMT3A",
          "DNMT3A",
          "DNMT3A",
          "DNMT3A",
          "DNMT3A",
          "DNMT3A",
          "DNMT3A",
          "DNMT3A",
          "DNMT3A",
          "DNMT3A",
          "DNMT3A",
          "DNMT3A",
          "DNMT3A",
          "DNMT3A",
          "DNMT3A",
          "DNMT3A",
          "DNMT3A"
         ],
         "x0": " ",
         "xaxis": "x",
         "y": [
          0.0014666666666666667,
          0.0017000000000000001,
          -0.0032042939940024238,
          -0.0038105117766515308,
          -0.0001632993161855453,
          -0.002041241452319315,
          0.16689190114162722,
          -0.0023671361036774656,
          -0.0007348469228349532,
          -0.0006940220937885673,
          0.033925432937547025,
          0.0035218366420567177,
          -0.002569208697893835,
          -0.004214656965084269,
          -0.002367136103677466,
          -0.0016454482671904335,
          -0.0033476359818036764,
          -0.004330127018922193,
          -0.0021361959960016154,
          -0.000571547606649408,
          -0.0017333333333333335,
          -0.0021228911104120883,
          0.0018371173070873853,
          0.02331097738548658,
          -0.001183568051838733,
          -0.005138417395787669,
          -0.001876388374866284,
          -0.0026666666666666666,
          -0.0015588457268119894,
          -0.0024248711305964285,
          0.004445597072760119,
          -0.0012655697004379757,
          -8.164965809277283e-05,
          -0.0008164965809277262,
          -0.007666666666666666,
          -0.0007756717518813398,
          -0.002886751345948129,
          -0.007634243031674239,
          -0.001469693845669907,
          0.005837950553633241,
          -0.0007794228634059946,
          0.0016165807537309523,
          -0.0014145081595145833,
          -0.003262029020921386,
          0.0013063945294843617,
          0.008100000000000001,
          -0.0034063665882187923,
          -0.002165063509461097,
          -0.0033068111527572905,
          -0.0033197640478403482,
          -0.0006940220937885673,
          -0.0035109352979892225,
          -0.0033197640478403482,
          -0.0008660254037844385,
          -0.004245782220824176,
          0.0003175426480542943,
          -0.0011258330249197706,
          -0.0006123724356957946,
          -0.005196152422706632,
          -0.012700000000000001,
          -0.0035109352979892225,
          0.001183568051838733,
          0.0008082903768654762,
          -0.0032331615074619045,
          -0.004286607049870561,
          -0.0037816442631920487,
          -0.0016454482671904333,
          -0.0038971143170299736,
          0.0074333333333333335,
          0.015033333333333334,
          -0.002733333333333333,
          -0.0012413030787576955,
          0.0019052558883257656,
          0.003059956426705017,
          0.0029802125203862,
          -0.0011258330249197706,
          -0.0011547005383792516,
          0.002886751345948129,
          0.0032659863237109047,
          -0.006552925555302252,
          -0.001962990915244728,
          -0.0012701705922171765,
          -0.0019341234017852468,
          -0.0030888239401644984,
          -0.0040999999999999995,
          -0.001837117307087384,
          -0.00487860977465234,
          -0.0006062177826491069,
          -8.660254037844385e-05,
          -0.0010680979980008077,
          -0.0025114736709748726,
          0.002193931022920578,
          -0.002041241452319315,
          -0.0017897858344878398,
          0.00032659863237109043,
          0.000898146239020499,
          -0.006524058041842771,
          -0.003550704155516199,
          0.0012124355652982143,
          -0.0015513435037626795,
          0.0024494897427831787,
          -0.0002041241452319317,
          -0.00011547005383792521,
          0.0014145081595145837,
          -0.002165063509461097,
          0.0005773502691896263,
          -0.001010362971081845,
          -0.0011835680518387328,
          -0.005051814855409226,
          0.0008981462390204982,
          0.0002041241452319317,
          0.001991858428704209,
          0.0032331615074619045,
          -0.0023960036171369473,
          0.000375277674973257,
          -0.002944486372867092,
          -0.0033197640478403487,
          -0.001760918321028359,
          -0.0018371173070873836,
          0.00805403625519528,
          -0.0028578838324886473,
          0.0003333333333333333,
          0.002333333333333333,
          -0.003470110468942836,
          -0.006350852961085883,
          -0.004647669666976489,
          0.00014433756729740658,
          0.0002449489742783178,
          -0.0011022703842524307,
          -0.0027424137786507224,
          -0.0030000000000000005,
          -0.002107328482542134,
          0.0022516660498395403,
          0.0003666666666666668,
          -0.0025980762113533163,
          -0.0017609183210283586,
          0.029704671349806245,
          0.003766666666666667,
          -0.0004082482904638627,
          0.00046666666666666645,
          -0.0001224744871391589,
          0.0027135462651912408,
          0.008491564441648367,
          -0.013308894269121936,
          0.004966666666666665,
          -0.0010969655114602885,
          -0.00831384387633061,
          -0.0020207259421636922,
          0.0011547005383792527,
          0.019099999999999995,
          -0.0007000000000000004,
          -0.003600000000000001,
          0.001033333333333333,
          0.0003999999999999999,
          -0.0015000000000000002,
          0.0557,
          -0.0009333333333333334,
          0.029333333333333322,
          0.022699999999999998,
          0.005715476066494083,
          0.0005715476066494084,
          0.05348052605076607,
          0.0006123724356957951,
          0.004899999999999999,
          0.0030599564267050168,
          -0.0037333333333333337,
          -0.0024903145718295646,
          0.03204749080141325,
          -0.0027666666666666673,
          0.01873333333333334,
          0.001533333333333333,
          0.004533333333333334,
          0.0024248711305964285,
          0.0019666666666666665,
          0.002166666666666667,
          0.002,
          -0.0018999999999999998,
          -0.0008666666666666663,
          0.0025333333333333336,
          0.0017000000000000001,
          0.030433333333333337,
          0.016666666666666663,
          0.0009333333333333334,
          0.0003000000000000005,
          -0.002266666666666667,
          -0.023333333333333334,
          -0.0006666666666666666,
          -0.0010000000000000002,
          0.00669726312259966,
          -0.0019333333333333336,
          0.005484827557301446,
          0.0003666666666666668,
          -0.0035218366420567177,
          -0.0034292856398964503,
          0.005348052605076605,
          0.0074666666666666675,
          0.0031666666666666666,
          0.02576666666666666,
          0.00202072594216369,
          0.004156921938165306,
          0.009526279441628824,
          0.004156921938165306,
          0.0024248711305964285,
          0.005484827557301444
         ],
         "y0": " ",
         "yaxis": "y"
        },
        {
         "alignmentgroup": "True",
         "boxpoints": "all",
         "customdata": [
          [
           "ASXL1"
          ],
          [
           "ASXL1"
          ],
          [
           "ASXL1"
          ],
          [
           "ASXL1"
          ],
          [
           "ASXL1"
          ],
          [
           "ASXL1"
          ],
          [
           "ASXL1"
          ],
          [
           "ASXL1"
          ],
          [
           "ASXL1"
          ],
          [
           "ASXL1"
          ],
          [
           "ASXL1"
          ],
          [
           "ASXL1"
          ],
          [
           "ASXL1"
          ],
          [
           "ASXL1"
          ],
          [
           "ASXL1"
          ],
          [
           "ASXL1"
          ],
          [
           "ASXL1"
          ],
          [
           "ASXL1"
          ],
          [
           "ASXL1"
          ],
          [
           "ASXL1"
          ],
          [
           "ASXL1"
          ],
          [
           "ASXL1"
          ],
          [
           "ASXL1"
          ],
          [
           "ASXL1"
          ],
          [
           "ASXL1"
          ],
          [
           "ASXL1"
          ],
          [
           "ASXL1"
          ],
          [
           "ASXL1"
          ],
          [
           "ASXL1"
          ],
          [
           "ASXL1"
          ],
          [
           "ASXL1"
          ],
          [
           "ASXL1"
          ],
          [
           "ASXL1"
          ],
          [
           "ASXL1"
          ],
          [
           "ASXL1"
          ],
          [
           "ASXL1"
          ],
          [
           "ASXL1"
          ],
          [
           "ASXL1"
          ],
          [
           "ASXL1"
          ],
          [
           "ASXL1"
          ],
          [
           "ASXL1"
          ],
          [
           "ASXL1"
          ],
          [
           "ASXL1"
          ],
          [
           "ASXL1"
          ],
          [
           "ASXL1"
          ],
          [
           "ASXL1"
          ],
          [
           "ASXL1"
          ],
          [
           "ASXL1"
          ],
          [
           "ASXL1"
          ],
          [
           "ASXL1"
          ],
          [
           "ASXL1"
          ],
          [
           "ASXL1"
          ],
          [
           "ASXL1"
          ],
          [
           "ASXL1"
          ],
          [
           "ASXL1"
          ],
          [
           "ASXL1"
          ],
          [
           "ASXL1"
          ],
          [
           "ASXL1"
          ],
          [
           "ASXL1"
          ],
          [
           "ASXL1"
          ],
          [
           "ASXL1"
          ],
          [
           "ASXL1"
          ],
          [
           "ASXL1"
          ],
          [
           "ASXL1"
          ],
          [
           "ASXL1"
          ],
          [
           "ASXL1"
          ],
          [
           "ASXL1"
          ],
          [
           "ASXL1"
          ],
          [
           "ASXL1"
          ],
          [
           "ASXL1"
          ],
          [
           "ASXL1"
          ],
          [
           "ASXL1"
          ],
          [
           "ASXL1"
          ],
          [
           "ASXL1"
          ],
          [
           "ASXL1"
          ],
          [
           "ASXL1"
          ],
          [
           "ASXL1"
          ],
          [
           "ASXL1"
          ],
          [
           "ASXL1"
          ],
          [
           "ASXL1"
          ],
          [
           "ASXL1"
          ],
          [
           "ASXL1"
          ],
          [
           "ASXL1"
          ],
          [
           "ASXL1"
          ],
          [
           "ASXL1"
          ],
          [
           "ASXL1"
          ],
          [
           "ASXL1"
          ],
          [
           "ASXL1"
          ],
          [
           "ASXL1"
          ],
          [
           "ASXL1"
          ],
          [
           "ASXL1"
          ],
          [
           "ASXL1"
          ],
          [
           "ASXL1"
          ],
          [
           "ASXL1"
          ],
          [
           "ASXL1"
          ],
          [
           "ASXL1"
          ],
          [
           "ASXL1"
          ],
          [
           "ASXL1"
          ],
          [
           "ASXL1"
          ],
          [
           "ASXL1"
          ],
          [
           "ASXL1"
          ]
         ],
         "hoverlabel": {
          "namelength": 0
         },
         "hovertemplate": "<b>%{hovertext}</b><br><br>mutation=%{customdata[0]}<br>gradient=%{y}",
         "hovertext": [
          "LBC0031R",
          "LBC0031R",
          "LBC0031R",
          "LBC0031R",
          "LBC0031R",
          "LBC0031R",
          "LBC0046H",
          "LBC0046H",
          "LBC0065A",
          "LBC0065A",
          "LBC0065A",
          "LBC0102H",
          "LBC0102H",
          "LBC0118V",
          "LBC0118V",
          "LBC0118V",
          "LBC0144B",
          "LBC0144B",
          "LBC0152W",
          "LBC0165A",
          "LBC0176A",
          "LBC0176A",
          "LBC0220K",
          "LBC0220K",
          "LBC0220K",
          "LBC0220K",
          "LBC0220K",
          "LBC0220K",
          "LBC0220K",
          "LBC0242M",
          "LBC0242M",
          "LBC0242M",
          "LBC0263L",
          "LBC0284K",
          "LBC0284K",
          "LBC0373R",
          "LBC0392K",
          "LBC0392K",
          "LBC0405M",
          "LBC0405M",
          "LBC0405M",
          "LBC0405M",
          "LBC0429V",
          "LBC0429V",
          "LBC0429V",
          "LBC0439R",
          "LBC0439R",
          "LBC0461R",
          "LBC0461R",
          "LBC0461R",
          "LBC0464X",
          "LBC0464X",
          "LBC0471M",
          "LBC0471M",
          "LBC0517V",
          "LBC0520A",
          "LBC0520A",
          "LBC0520A",
          "LBC0520A",
          "LBC0520A",
          "LBC0588E",
          "LBC0588E",
          "LBC360008",
          "LBC360008",
          "LBC360008",
          "LBC360009",
          "LBC360009",
          "LBC360009",
          "LBC360104",
          "LBC360104",
          "LBC360790",
          "LBC360790",
          "LBC360843",
          "LBC360843",
          "LBC360843",
          "LBC360898",
          "LBC360898",
          "LBC360908",
          "LBC360908",
          "LBC360914",
          "LBC360914",
          "LBC360914",
          "LBC360919",
          "LBC360919",
          "LBC360919",
          "LBC361006",
          "LBC361006",
          "LBC361096",
          "LBC361096",
          "LBC361096",
          "LBC361096",
          "LBC361122",
          "LBC361122",
          "LBC361133",
          "LBC361133",
          "LBC361133",
          "LBC361172",
          "LBC361172",
          "LBC361214",
          "LBC361225",
          "LBC361225"
         ],
         "legendgroup": "ASXL1",
         "marker": {
          "color": "#00cc96"
         },
         "name": "ASXL1",
         "notched": false,
         "offsetgroup": "ASXL1",
         "orientation": "v",
         "showlegend": true,
         "type": "box",
         "x": [
          "ASXL1",
          "ASXL1",
          "ASXL1",
          "ASXL1",
          "ASXL1",
          "ASXL1",
          "ASXL1",
          "ASXL1",
          "ASXL1",
          "ASXL1",
          "ASXL1",
          "ASXL1",
          "ASXL1",
          "ASXL1",
          "ASXL1",
          "ASXL1",
          "ASXL1",
          "ASXL1",
          "ASXL1",
          "ASXL1",
          "ASXL1",
          "ASXL1",
          "ASXL1",
          "ASXL1",
          "ASXL1",
          "ASXL1",
          "ASXL1",
          "ASXL1",
          "ASXL1",
          "ASXL1",
          "ASXL1",
          "ASXL1",
          "ASXL1",
          "ASXL1",
          "ASXL1",
          "ASXL1",
          "ASXL1",
          "ASXL1",
          "ASXL1",
          "ASXL1",
          "ASXL1",
          "ASXL1",
          "ASXL1",
          "ASXL1",
          "ASXL1",
          "ASXL1",
          "ASXL1",
          "ASXL1",
          "ASXL1",
          "ASXL1",
          "ASXL1",
          "ASXL1",
          "ASXL1",
          "ASXL1",
          "ASXL1",
          "ASXL1",
          "ASXL1",
          "ASXL1",
          "ASXL1",
          "ASXL1",
          "ASXL1",
          "ASXL1",
          "ASXL1",
          "ASXL1",
          "ASXL1",
          "ASXL1",
          "ASXL1",
          "ASXL1",
          "ASXL1",
          "ASXL1",
          "ASXL1",
          "ASXL1",
          "ASXL1",
          "ASXL1",
          "ASXL1",
          "ASXL1",
          "ASXL1",
          "ASXL1",
          "ASXL1",
          "ASXL1",
          "ASXL1",
          "ASXL1",
          "ASXL1",
          "ASXL1",
          "ASXL1",
          "ASXL1",
          "ASXL1",
          "ASXL1",
          "ASXL1",
          "ASXL1",
          "ASXL1",
          "ASXL1",
          "ASXL1",
          "ASXL1",
          "ASXL1",
          "ASXL1",
          "ASXL1",
          "ASXL1",
          "ASXL1",
          "ASXL1",
          "ASXL1"
         ],
         "x0": " ",
         "xaxis": "x",
         "y": [
          -0.0022516660498395407,
          -0.0042049573917777895,
          -0.0028867513459481286,
          0.0023671361036774656,
          -0.002166666666666667,
          -0.002193931022920578,
          0.0008082903768654762,
          -0.0006123724356957945,
          -0.0016165807537309523,
          -0.001385640646055102,
          -0.0017609183210283588,
          -0.007361215932167728,
          0.0011835680518387328,
          -0.0013567731325956206,
          -0.001385640646055102,
          0.007756717518813397,
          -0.009930424630061564,
          -0.0014433756729740645,
          -0.0017333333333333333,
          -0.005466666666666666,
          -0.002944486372867092,
          0.016050337483471597,
          0.0038105117766515303,
          -0.00375588427226754,
          0.0007505553499465136,
          -0.0019341234017852464,
          -0.002222798536380059,
          0.004445597072760118,
          -0.0035218366420567177,
          -0.001501110699893027,
          0.0017146428199482251,
          -0.00011547005383792521,
          -5.7735026918962734e-05,
          -0.0015299782133525082,
          -0.0008082903768654762,
          0.002531139400875951,
          0.002424871130596428,
          0.0005773502691896258,
          -0.00202072594216369,
          -0.0033476359818036764,
          -0.002309401076758503,
          -0.0011835680518387328,
          -0.002280533563299022,
          -0.0012701705922171771,
          -0.0017609183210283588,
          -0.0021,
          -0.0011547005383792516,
          0.0011839200423452028,
          0.0017897858344878398,
          0.00014433756729740634,
          0.0003175426480542943,
          -0.0006350852961085886,
          -0.0006639528095680697,
          0.0010680979980008073,
          -0.0008371578903249574,
          0.0009526279441628823,
          0.0005773502691896258,
          -0.0014666666666666667,
          -0.002193931022920578,
          0.0005196152422706633,
          0.0031176914536239797,
          0.000490747728811182,
          -0.0015299782133525082,
          0.0006062177826491071,
          0.0007216878364870324,
          0.0015588457268119892,
          -0.00011547005383792521,
          -0.0003752776749732565,
          0.012633333333333335,
          0.0026,
          0.0003666666666666668,
          -0.0011000000000000003,
          -0.0021650635094610966,
          0.002309401076758503,
          0.0017031832941093964,
          -0.0029999999999999996,
          -0.00043333333333333304,
          0.002166666666666666,
          0.001766666666666667,
          0.0007333333333333336,
          -6.666666666666685e-05,
          0.0006333333333333335,
          -0.0012333333333333335,
          0.0001333333333333337,
          -0.0009666666666666666,
          -0.0028666666666666667,
          -3.333333333333313e-05,
          -0.005022947341949744,
          -0.005593001579354924,
          0.0002333333333333331,
          -0.0009333333333333334,
          0.0012333333333333337,
          -0.0005333333333333336,
          -4.0824829046386237e-05,
          0.0005715476066494076,
          -0.0032251614946645184,
          0.0005307227776030223,
          0.000734846922834954,
          0.002,
          -0.0009333333333333329,
          0.0027000000000000006
         ],
         "y0": " ",
         "yaxis": "y"
        },
        {
         "alignmentgroup": "True",
         "boxpoints": "all",
         "customdata": [
          [
           "JAK2"
          ],
          [
           "JAK2"
          ],
          [
           "JAK2"
          ],
          [
           "JAK2"
          ],
          [
           "JAK2"
          ],
          [
           "JAK2"
          ],
          [
           "JAK2"
          ],
          [
           "JAK2"
          ],
          [
           "JAK2"
          ],
          [
           "JAK2"
          ]
         ],
         "hoverlabel": {
          "namelength": 0
         },
         "hovertemplate": "<b>%{hovertext}</b><br><br>mutation=%{customdata[0]}<br>gradient=%{y}",
         "hovertext": [
          "LBC0040V",
          "LBC0111B",
          "LBC360021",
          "LBC360109",
          "LBC360291",
          "LBC360636",
          "LBC360702",
          "LBC360725",
          "LBC361096",
          "LBC361096"
         ],
         "legendgroup": "JAK2",
         "marker": {
          "color": "#ab63fa"
         },
         "name": "JAK2",
         "notched": false,
         "offsetgroup": "JAK2",
         "orientation": "v",
         "showlegend": true,
         "type": "box",
         "x": [
          "JAK2",
          "JAK2",
          "JAK2",
          "JAK2",
          "JAK2",
          "JAK2",
          "JAK2",
          "JAK2",
          "JAK2",
          "JAK2"
         ],
         "x0": " ",
         "xaxis": "x",
         "y": [
          0.32921142143005916,
          0.044500000000000005,
          0.07066666666666667,
          0.03926666666666667,
          0.0011430952132988168,
          0.0040824829046386315,
          0.052366666666666666,
          0.08043333333333332,
          0.00583123771881522,
          -0.00560029761113937
         ],
         "y0": " ",
         "yaxis": "y"
        }
       ],
       "layout": {
        "boxmode": "group",
        "legend": {
         "title": {
          "text": "mutation"
         },
         "tracegroupgap": 0
        },
        "margin": {
         "t": 60
        },
        "template": {
         "data": {
          "bar": [
           {
            "error_x": {
             "color": "#2a3f5f"
            },
            "error_y": {
             "color": "#2a3f5f"
            },
            "marker": {
             "line": {
              "color": "#E5ECF6",
              "width": 0.5
             }
            },
            "type": "bar"
           }
          ],
          "barpolar": [
           {
            "marker": {
             "line": {
              "color": "#E5ECF6",
              "width": 0.5
             }
            },
            "type": "barpolar"
           }
          ],
          "carpet": [
           {
            "aaxis": {
             "endlinecolor": "#2a3f5f",
             "gridcolor": "white",
             "linecolor": "white",
             "minorgridcolor": "white",
             "startlinecolor": "#2a3f5f"
            },
            "baxis": {
             "endlinecolor": "#2a3f5f",
             "gridcolor": "white",
             "linecolor": "white",
             "minorgridcolor": "white",
             "startlinecolor": "#2a3f5f"
            },
            "type": "carpet"
           }
          ],
          "choropleth": [
           {
            "colorbar": {
             "outlinewidth": 0,
             "ticks": ""
            },
            "type": "choropleth"
           }
          ],
          "contour": [
           {
            "colorbar": {
             "outlinewidth": 0,
             "ticks": ""
            },
            "colorscale": [
             [
              0,
              "#0d0887"
             ],
             [
              0.1111111111111111,
              "#46039f"
             ],
             [
              0.2222222222222222,
              "#7201a8"
             ],
             [
              0.3333333333333333,
              "#9c179e"
             ],
             [
              0.4444444444444444,
              "#bd3786"
             ],
             [
              0.5555555555555556,
              "#d8576b"
             ],
             [
              0.6666666666666666,
              "#ed7953"
             ],
             [
              0.7777777777777778,
              "#fb9f3a"
             ],
             [
              0.8888888888888888,
              "#fdca26"
             ],
             [
              1,
              "#f0f921"
             ]
            ],
            "type": "contour"
           }
          ],
          "contourcarpet": [
           {
            "colorbar": {
             "outlinewidth": 0,
             "ticks": ""
            },
            "type": "contourcarpet"
           }
          ],
          "heatmap": [
           {
            "colorbar": {
             "outlinewidth": 0,
             "ticks": ""
            },
            "colorscale": [
             [
              0,
              "#0d0887"
             ],
             [
              0.1111111111111111,
              "#46039f"
             ],
             [
              0.2222222222222222,
              "#7201a8"
             ],
             [
              0.3333333333333333,
              "#9c179e"
             ],
             [
              0.4444444444444444,
              "#bd3786"
             ],
             [
              0.5555555555555556,
              "#d8576b"
             ],
             [
              0.6666666666666666,
              "#ed7953"
             ],
             [
              0.7777777777777778,
              "#fb9f3a"
             ],
             [
              0.8888888888888888,
              "#fdca26"
             ],
             [
              1,
              "#f0f921"
             ]
            ],
            "type": "heatmap"
           }
          ],
          "heatmapgl": [
           {
            "colorbar": {
             "outlinewidth": 0,
             "ticks": ""
            },
            "colorscale": [
             [
              0,
              "#0d0887"
             ],
             [
              0.1111111111111111,
              "#46039f"
             ],
             [
              0.2222222222222222,
              "#7201a8"
             ],
             [
              0.3333333333333333,
              "#9c179e"
             ],
             [
              0.4444444444444444,
              "#bd3786"
             ],
             [
              0.5555555555555556,
              "#d8576b"
             ],
             [
              0.6666666666666666,
              "#ed7953"
             ],
             [
              0.7777777777777778,
              "#fb9f3a"
             ],
             [
              0.8888888888888888,
              "#fdca26"
             ],
             [
              1,
              "#f0f921"
             ]
            ],
            "type": "heatmapgl"
           }
          ],
          "histogram": [
           {
            "marker": {
             "colorbar": {
              "outlinewidth": 0,
              "ticks": ""
             }
            },
            "type": "histogram"
           }
          ],
          "histogram2d": [
           {
            "colorbar": {
             "outlinewidth": 0,
             "ticks": ""
            },
            "colorscale": [
             [
              0,
              "#0d0887"
             ],
             [
              0.1111111111111111,
              "#46039f"
             ],
             [
              0.2222222222222222,
              "#7201a8"
             ],
             [
              0.3333333333333333,
              "#9c179e"
             ],
             [
              0.4444444444444444,
              "#bd3786"
             ],
             [
              0.5555555555555556,
              "#d8576b"
             ],
             [
              0.6666666666666666,
              "#ed7953"
             ],
             [
              0.7777777777777778,
              "#fb9f3a"
             ],
             [
              0.8888888888888888,
              "#fdca26"
             ],
             [
              1,
              "#f0f921"
             ]
            ],
            "type": "histogram2d"
           }
          ],
          "histogram2dcontour": [
           {
            "colorbar": {
             "outlinewidth": 0,
             "ticks": ""
            },
            "colorscale": [
             [
              0,
              "#0d0887"
             ],
             [
              0.1111111111111111,
              "#46039f"
             ],
             [
              0.2222222222222222,
              "#7201a8"
             ],
             [
              0.3333333333333333,
              "#9c179e"
             ],
             [
              0.4444444444444444,
              "#bd3786"
             ],
             [
              0.5555555555555556,
              "#d8576b"
             ],
             [
              0.6666666666666666,
              "#ed7953"
             ],
             [
              0.7777777777777778,
              "#fb9f3a"
             ],
             [
              0.8888888888888888,
              "#fdca26"
             ],
             [
              1,
              "#f0f921"
             ]
            ],
            "type": "histogram2dcontour"
           }
          ],
          "mesh3d": [
           {
            "colorbar": {
             "outlinewidth": 0,
             "ticks": ""
            },
            "type": "mesh3d"
           }
          ],
          "parcoords": [
           {
            "line": {
             "colorbar": {
              "outlinewidth": 0,
              "ticks": ""
             }
            },
            "type": "parcoords"
           }
          ],
          "pie": [
           {
            "automargin": true,
            "type": "pie"
           }
          ],
          "scatter": [
           {
            "marker": {
             "colorbar": {
              "outlinewidth": 0,
              "ticks": ""
             }
            },
            "type": "scatter"
           }
          ],
          "scatter3d": [
           {
            "line": {
             "colorbar": {
              "outlinewidth": 0,
              "ticks": ""
             }
            },
            "marker": {
             "colorbar": {
              "outlinewidth": 0,
              "ticks": ""
             }
            },
            "type": "scatter3d"
           }
          ],
          "scattercarpet": [
           {
            "marker": {
             "colorbar": {
              "outlinewidth": 0,
              "ticks": ""
             }
            },
            "type": "scattercarpet"
           }
          ],
          "scattergeo": [
           {
            "marker": {
             "colorbar": {
              "outlinewidth": 0,
              "ticks": ""
             }
            },
            "type": "scattergeo"
           }
          ],
          "scattergl": [
           {
            "marker": {
             "colorbar": {
              "outlinewidth": 0,
              "ticks": ""
             }
            },
            "type": "scattergl"
           }
          ],
          "scattermapbox": [
           {
            "marker": {
             "colorbar": {
              "outlinewidth": 0,
              "ticks": ""
             }
            },
            "type": "scattermapbox"
           }
          ],
          "scatterpolar": [
           {
            "marker": {
             "colorbar": {
              "outlinewidth": 0,
              "ticks": ""
             }
            },
            "type": "scatterpolar"
           }
          ],
          "scatterpolargl": [
           {
            "marker": {
             "colorbar": {
              "outlinewidth": 0,
              "ticks": ""
             }
            },
            "type": "scatterpolargl"
           }
          ],
          "scatterternary": [
           {
            "marker": {
             "colorbar": {
              "outlinewidth": 0,
              "ticks": ""
             }
            },
            "type": "scatterternary"
           }
          ],
          "surface": [
           {
            "colorbar": {
             "outlinewidth": 0,
             "ticks": ""
            },
            "colorscale": [
             [
              0,
              "#0d0887"
             ],
             [
              0.1111111111111111,
              "#46039f"
             ],
             [
              0.2222222222222222,
              "#7201a8"
             ],
             [
              0.3333333333333333,
              "#9c179e"
             ],
             [
              0.4444444444444444,
              "#bd3786"
             ],
             [
              0.5555555555555556,
              "#d8576b"
             ],
             [
              0.6666666666666666,
              "#ed7953"
             ],
             [
              0.7777777777777778,
              "#fb9f3a"
             ],
             [
              0.8888888888888888,
              "#fdca26"
             ],
             [
              1,
              "#f0f921"
             ]
            ],
            "type": "surface"
           }
          ],
          "table": [
           {
            "cells": {
             "fill": {
              "color": "#EBF0F8"
             },
             "line": {
              "color": "white"
             }
            },
            "header": {
             "fill": {
              "color": "#C8D4E3"
             },
             "line": {
              "color": "white"
             }
            },
            "type": "table"
           }
          ]
         },
         "layout": {
          "annotationdefaults": {
           "arrowcolor": "#2a3f5f",
           "arrowhead": 0,
           "arrowwidth": 1
          },
          "coloraxis": {
           "colorbar": {
            "outlinewidth": 0,
            "ticks": ""
           }
          },
          "colorscale": {
           "diverging": [
            [
             0,
             "#8e0152"
            ],
            [
             0.1,
             "#c51b7d"
            ],
            [
             0.2,
             "#de77ae"
            ],
            [
             0.3,
             "#f1b6da"
            ],
            [
             0.4,
             "#fde0ef"
            ],
            [
             0.5,
             "#f7f7f7"
            ],
            [
             0.6,
             "#e6f5d0"
            ],
            [
             0.7,
             "#b8e186"
            ],
            [
             0.8,
             "#7fbc41"
            ],
            [
             0.9,
             "#4d9221"
            ],
            [
             1,
             "#276419"
            ]
           ],
           "sequential": [
            [
             0,
             "#0d0887"
            ],
            [
             0.1111111111111111,
             "#46039f"
            ],
            [
             0.2222222222222222,
             "#7201a8"
            ],
            [
             0.3333333333333333,
             "#9c179e"
            ],
            [
             0.4444444444444444,
             "#bd3786"
            ],
            [
             0.5555555555555556,
             "#d8576b"
            ],
            [
             0.6666666666666666,
             "#ed7953"
            ],
            [
             0.7777777777777778,
             "#fb9f3a"
            ],
            [
             0.8888888888888888,
             "#fdca26"
            ],
            [
             1,
             "#f0f921"
            ]
           ],
           "sequentialminus": [
            [
             0,
             "#0d0887"
            ],
            [
             0.1111111111111111,
             "#46039f"
            ],
            [
             0.2222222222222222,
             "#7201a8"
            ],
            [
             0.3333333333333333,
             "#9c179e"
            ],
            [
             0.4444444444444444,
             "#bd3786"
            ],
            [
             0.5555555555555556,
             "#d8576b"
            ],
            [
             0.6666666666666666,
             "#ed7953"
            ],
            [
             0.7777777777777778,
             "#fb9f3a"
            ],
            [
             0.8888888888888888,
             "#fdca26"
            ],
            [
             1,
             "#f0f921"
            ]
           ]
          },
          "colorway": [
           "#636efa",
           "#EF553B",
           "#00cc96",
           "#ab63fa",
           "#FFA15A",
           "#19d3f3",
           "#FF6692",
           "#B6E880",
           "#FF97FF",
           "#FECB52"
          ],
          "font": {
           "color": "#2a3f5f"
          },
          "geo": {
           "bgcolor": "white",
           "lakecolor": "white",
           "landcolor": "#E5ECF6",
           "showlakes": true,
           "showland": true,
           "subunitcolor": "white"
          },
          "hoverlabel": {
           "align": "left"
          },
          "hovermode": "closest",
          "mapbox": {
           "style": "light"
          },
          "paper_bgcolor": "white",
          "plot_bgcolor": "#E5ECF6",
          "polar": {
           "angularaxis": {
            "gridcolor": "white",
            "linecolor": "white",
            "ticks": ""
           },
           "bgcolor": "#E5ECF6",
           "radialaxis": {
            "gridcolor": "white",
            "linecolor": "white",
            "ticks": ""
           }
          },
          "scene": {
           "xaxis": {
            "backgroundcolor": "#E5ECF6",
            "gridcolor": "white",
            "gridwidth": 2,
            "linecolor": "white",
            "showbackground": true,
            "ticks": "",
            "zerolinecolor": "white"
           },
           "yaxis": {
            "backgroundcolor": "#E5ECF6",
            "gridcolor": "white",
            "gridwidth": 2,
            "linecolor": "white",
            "showbackground": true,
            "ticks": "",
            "zerolinecolor": "white"
           },
           "zaxis": {
            "backgroundcolor": "#E5ECF6",
            "gridcolor": "white",
            "gridwidth": 2,
            "linecolor": "white",
            "showbackground": true,
            "ticks": "",
            "zerolinecolor": "white"
           }
          },
          "shapedefaults": {
           "line": {
            "color": "#2a3f5f"
           }
          },
          "ternary": {
           "aaxis": {
            "gridcolor": "white",
            "linecolor": "white",
            "ticks": ""
           },
           "baxis": {
            "gridcolor": "white",
            "linecolor": "white",
            "ticks": ""
           },
           "bgcolor": "#E5ECF6",
           "caxis": {
            "gridcolor": "white",
            "linecolor": "white",
            "ticks": ""
           }
          },
          "title": {
           "x": 0.05
          },
          "xaxis": {
           "automargin": true,
           "gridcolor": "white",
           "linecolor": "white",
           "ticks": "",
           "title": {
            "standoff": 15
           },
           "zerolinecolor": "white",
           "zerolinewidth": 2
          },
          "yaxis": {
           "automargin": true,
           "gridcolor": "white",
           "linecolor": "white",
           "ticks": "",
           "title": {
            "standoff": 15
           },
           "zerolinecolor": "white",
           "zerolinewidth": 2
          }
         }
        },
        "title": {
         "text": "Trajectory gradients by mutation"
        },
        "xaxis": {
         "anchor": "y",
         "categoryarray": [
          "TET2",
          "DNMT3A",
          "ASXL1",
          "JAK2"
         ],
         "categoryorder": "array",
         "domain": [
          0,
          1
         ],
         "title": {
          "text": "mutation"
         }
        },
        "yaxis": {
         "anchor": "x",
         "domain": [
          0,
          1
         ],
         "title": {
          "text": "gradient"
         }
        }
       }
      },
      "text/html": [
       "<div>\n",
       "        \n",
       "        \n",
       "            <div id=\"f4f4c1b6-69e8-4cee-9fcd-e665a4de7a65\" class=\"plotly-graph-div\" style=\"height:525px; width:100%;\"></div>\n",
       "            <script type=\"text/javascript\">\n",
       "                require([\"plotly\"], function(Plotly) {\n",
       "                    window.PLOTLYENV=window.PLOTLYENV || {};\n",
       "                    \n",
       "                if (document.getElementById(\"f4f4c1b6-69e8-4cee-9fcd-e665a4de7a65\")) {\n",
       "                    Plotly.newPlot(\n",
       "                        'f4f4c1b6-69e8-4cee-9fcd-e665a4de7a65',\n",
       "                        [{\"alignmentgroup\": \"True\", \"boxpoints\": \"all\", \"customdata\": [[\"TET2\"], [\"TET2\"], [\"TET2\"], [\"TET2\"], [\"TET2\"], [\"TET2\"], [\"TET2\"], [\"TET2\"], [\"TET2\"], [\"TET2\"], [\"TET2\"], [\"TET2\"], [\"TET2\"], [\"TET2\"], [\"TET2\"], [\"TET2\"], [\"TET2\"], [\"TET2\"], [\"TET2\"], [\"TET2\"], [\"TET2\"], [\"TET2\"], [\"TET2\"], [\"TET2\"], [\"TET2\"], [\"TET2\"], [\"TET2\"], [\"TET2\"], [\"TET2\"], [\"TET2\"], [\"TET2\"], [\"TET2\"], [\"TET2\"], [\"TET2\"], [\"TET2\"], [\"TET2\"], [\"TET2\"], [\"TET2\"], [\"TET2\"], [\"TET2\"], [\"TET2\"], [\"TET2\"], [\"TET2\"], [\"TET2\"], [\"TET2\"], [\"TET2\"], [\"TET2\"], [\"TET2\"], [\"TET2\"], [\"TET2\"], [\"TET2\"], [\"TET2\"], [\"TET2\"], [\"TET2\"], [\"TET2\"], [\"TET2\"], [\"TET2\"], [\"TET2\"], [\"TET2\"], [\"TET2\"], [\"TET2\"], [\"TET2\"], [\"TET2\"], [\"TET2\"], [\"TET2\"], [\"TET2\"]], \"hoverlabel\": {\"namelength\": 0}, \"hovertemplate\": \"<b>%{hovertext}</b><br><br>mutation=%{customdata[0]}<br>gradient=%{y}\", \"hovertext\": [\"LBC0001A\", \"LBC0001A\", \"LBC0001A\", \"LBC0031R\", \"LBC0031R\", \"LBC0046H\", \"LBC0065A\", \"LBC0065A\", \"LBC0081L\", \"LBC0081L\", \"LBC0102H\", \"LBC0102H\", \"LBC0111B\", \"LBC0144B\", \"LBC0144B\", \"LBC0144B\", \"LBC0176A\", \"LBC0220K\", \"LBC0220K\", \"LBC0242M\", \"LBC0251K\", \"LBC0251K\", \"LBC0256W\", \"LBC0263L\", \"LBC0284K\", \"LBC0293E\", \"LBC0377A\", \"LBC0392K\", \"LBC0392K\", \"LBC0405M\", \"LBC0415L\", \"LBC0429V\", \"LBC0429V\", \"LBC0439R\", \"LBC0461R\", \"LBC0461R\", \"LBC0461R\", \"LBC0461R\", \"LBC0464X\", \"LBC0516R\", \"LBC0516R\", \"LBC0516R\", \"LBC0517V\", \"LBC0591L\", \"LBC0591L\", \"LBC360008\", \"LBC360072\", \"LBC360072\", \"LBC360104\", \"LBC360181\", \"LBC360231\", \"LBC360283\", \"LBC360453\", \"LBC360508\", \"LBC360666\", \"LBC360666\", \"LBC360694\", \"LBC360702\", \"LBC360725\", \"LBC360754\", \"LBC360898\", \"LBC360908\", \"LBC360908\", \"LBC360919\", \"LBC361096\", \"LBC361096\"], \"legendgroup\": \"TET2\", \"marker\": {\"color\": \"#636efa\"}, \"name\": \"TET2\", \"notched\": false, \"offsetgroup\": \"TET2\", \"orientation\": \"v\", \"showlegend\": true, \"type\": \"box\", \"x\": [\"TET2\", \"TET2\", \"TET2\", \"TET2\", \"TET2\", \"TET2\", \"TET2\", \"TET2\", \"TET2\", \"TET2\", \"TET2\", \"TET2\", \"TET2\", \"TET2\", \"TET2\", \"TET2\", \"TET2\", \"TET2\", \"TET2\", \"TET2\", \"TET2\", \"TET2\", \"TET2\", \"TET2\", \"TET2\", \"TET2\", \"TET2\", \"TET2\", \"TET2\", \"TET2\", \"TET2\", \"TET2\", \"TET2\", \"TET2\", \"TET2\", \"TET2\", \"TET2\", \"TET2\", \"TET2\", \"TET2\", \"TET2\", \"TET2\", \"TET2\", \"TET2\", \"TET2\", \"TET2\", \"TET2\", \"TET2\", \"TET2\", \"TET2\", \"TET2\", \"TET2\", \"TET2\", \"TET2\", \"TET2\", \"TET2\", \"TET2\", \"TET2\", \"TET2\", \"TET2\", \"TET2\", \"TET2\", \"TET2\", \"TET2\", \"TET2\", \"TET2\"], \"x0\": \" \", \"xaxis\": \"x\", \"y\": [-0.0023671361036774656, 0.031523324697753555, 0.0343, -0.004266666666666666, -0.00291561885940761, 0.0010680979980008077, 0.002482606157515391, -0.004368256707963336, 0.010532805893967667, 0.00996125828731826, 0.0010680979980008077, -0.000317542648054294, 0.0015333333333333334, -0.0046132056822416525, -0.00020207259421636906, -0.002771281292110204, 5.7735026918962483e-05, -0.0012701705922171765, -0.003839379290111012, -5.773502691896223e-05, 0.04239999999999999, 0.0027333333333333337, 0.019963341403682902, 0.0004907477288111822, 0.0023960036171369473, 0.0161, 0.0016454482671904335, 0.003031088913245536, -0.003175426480542942, 0.001270170592217177, 0.001469693845669907, 0.002776088375154269, 0.0011258330249197706, -0.002367136103677466, -0.002771281292110204, -0.0029999999999999996, 0.0011835680518387328, -0.00640949816028265, -0.004416729559300637, -0.001183568051838733, -0.0029333333333333334, -0.0012413030787576955, 0.008371578903249573, 0.002166666666666666, 0.021200000000000007, 0.0008082903768654762, 0.04906666666666667, 0.0022333333333333333, -0.0010000000000000002, 0.06770000000000001, -0.0023270152556440194, 0.001061445555206044, 0.0019, 0.004033333333333333, 0.019299999999999998, 0.0011, -0.0026558112382722788, -0.0006666666666666666, 0.0010333333333333332, -8.164965809277283e-05, -0.00033333333333333305, 0.004233333333333333, 0.004899999999999999, 0.001233333333333333, 0.0004666666666666667, -0.005062278801751902], \"y0\": \" \", \"yaxis\": \"y\"}, {\"alignmentgroup\": \"True\", \"boxpoints\": \"all\", \"customdata\": [[\"DNMT3A\"], [\"DNMT3A\"], [\"DNMT3A\"], [\"DNMT3A\"], [\"DNMT3A\"], [\"DNMT3A\"], [\"DNMT3A\"], [\"DNMT3A\"], [\"DNMT3A\"], [\"DNMT3A\"], [\"DNMT3A\"], [\"DNMT3A\"], [\"DNMT3A\"], [\"DNMT3A\"], [\"DNMT3A\"], [\"DNMT3A\"], [\"DNMT3A\"], [\"DNMT3A\"], [\"DNMT3A\"], [\"DNMT3A\"], [\"DNMT3A\"], [\"DNMT3A\"], [\"DNMT3A\"], [\"DNMT3A\"], [\"DNMT3A\"], [\"DNMT3A\"], [\"DNMT3A\"], [\"DNMT3A\"], [\"DNMT3A\"], [\"DNMT3A\"], [\"DNMT3A\"], [\"DNMT3A\"], [\"DNMT3A\"], [\"DNMT3A\"], [\"DNMT3A\"], [\"DNMT3A\"], [\"DNMT3A\"], [\"DNMT3A\"], [\"DNMT3A\"], [\"DNMT3A\"], [\"DNMT3A\"], [\"DNMT3A\"], [\"DNMT3A\"], [\"DNMT3A\"], [\"DNMT3A\"], [\"DNMT3A\"], [\"DNMT3A\"], [\"DNMT3A\"], [\"DNMT3A\"], [\"DNMT3A\"], [\"DNMT3A\"], [\"DNMT3A\"], [\"DNMT3A\"], [\"DNMT3A\"], [\"DNMT3A\"], [\"DNMT3A\"], [\"DNMT3A\"], [\"DNMT3A\"], [\"DNMT3A\"], [\"DNMT3A\"], [\"DNMT3A\"], [\"DNMT3A\"], [\"DNMT3A\"], [\"DNMT3A\"], [\"DNMT3A\"], [\"DNMT3A\"], [\"DNMT3A\"], [\"DNMT3A\"], [\"DNMT3A\"], [\"DNMT3A\"], [\"DNMT3A\"], [\"DNMT3A\"], [\"DNMT3A\"], [\"DNMT3A\"], [\"DNMT3A\"], [\"DNMT3A\"], [\"DNMT3A\"], [\"DNMT3A\"], [\"DNMT3A\"], [\"DNMT3A\"], [\"DNMT3A\"], [\"DNMT3A\"], [\"DNMT3A\"], [\"DNMT3A\"], [\"DNMT3A\"], [\"DNMT3A\"], [\"DNMT3A\"], [\"DNMT3A\"], [\"DNMT3A\"], [\"DNMT3A\"], [\"DNMT3A\"], [\"DNMT3A\"], [\"DNMT3A\"], [\"DNMT3A\"], [\"DNMT3A\"], [\"DNMT3A\"], [\"DNMT3A\"], [\"DNMT3A\"], [\"DNMT3A\"], [\"DNMT3A\"], [\"DNMT3A\"], [\"DNMT3A\"], [\"DNMT3A\"], [\"DNMT3A\"], [\"DNMT3A\"], [\"DNMT3A\"], [\"DNMT3A\"], [\"DNMT3A\"], [\"DNMT3A\"], [\"DNMT3A\"], [\"DNMT3A\"], [\"DNMT3A\"], [\"DNMT3A\"], [\"DNMT3A\"], [\"DNMT3A\"], [\"DNMT3A\"], [\"DNMT3A\"], [\"DNMT3A\"], [\"DNMT3A\"], [\"DNMT3A\"], [\"DNMT3A\"], [\"DNMT3A\"], [\"DNMT3A\"], [\"DNMT3A\"], [\"DNMT3A\"], [\"DNMT3A\"], [\"DNMT3A\"], [\"DNMT3A\"], [\"DNMT3A\"], [\"DNMT3A\"], [\"DNMT3A\"], [\"DNMT3A\"], [\"DNMT3A\"], [\"DNMT3A\"], [\"DNMT3A\"], [\"DNMT3A\"], [\"DNMT3A\"], [\"DNMT3A\"], [\"DNMT3A\"], [\"DNMT3A\"], [\"DNMT3A\"], [\"DNMT3A\"], [\"DNMT3A\"], [\"DNMT3A\"], [\"DNMT3A\"], [\"DNMT3A\"], [\"DNMT3A\"], [\"DNMT3A\"], [\"DNMT3A\"], [\"DNMT3A\"], [\"DNMT3A\"], [\"DNMT3A\"], [\"DNMT3A\"], [\"DNMT3A\"], [\"DNMT3A\"], [\"DNMT3A\"], [\"DNMT3A\"], [\"DNMT3A\"], [\"DNMT3A\"], [\"DNMT3A\"], [\"DNMT3A\"], [\"DNMT3A\"], [\"DNMT3A\"], [\"DNMT3A\"], [\"DNMT3A\"], [\"DNMT3A\"], [\"DNMT3A\"], [\"DNMT3A\"], [\"DNMT3A\"], [\"DNMT3A\"], [\"DNMT3A\"], [\"DNMT3A\"], [\"DNMT3A\"], [\"DNMT3A\"], [\"DNMT3A\"], [\"DNMT3A\"], [\"DNMT3A\"], [\"DNMT3A\"], [\"DNMT3A\"], [\"DNMT3A\"], [\"DNMT3A\"], [\"DNMT3A\"], [\"DNMT3A\"], [\"DNMT3A\"], [\"DNMT3A\"], [\"DNMT3A\"], [\"DNMT3A\"], [\"DNMT3A\"], [\"DNMT3A\"], [\"DNMT3A\"], [\"DNMT3A\"], [\"DNMT3A\"], [\"DNMT3A\"], [\"DNMT3A\"], [\"DNMT3A\"], [\"DNMT3A\"], [\"DNMT3A\"], [\"DNMT3A\"], [\"DNMT3A\"], [\"DNMT3A\"], [\"DNMT3A\"], [\"DNMT3A\"], [\"DNMT3A\"], [\"DNMT3A\"]], \"hoverlabel\": {\"namelength\": 0}, \"hovertemplate\": \"<b>%{hovertext}</b><br><br>mutation=%{customdata[0]}<br>gradient=%{y}\", \"hovertext\": [\"LBC0001A\", \"LBC0001A\", \"LBC0031R\", \"LBC0031R\", \"LBC0031R\", \"LBC0040V\", \"LBC0040V\", \"LBC0046H\", \"LBC0046H\", \"LBC0046H\", \"LBC0047K\", \"LBC0065A\", \"LBC0065A\", \"LBC0065A\", \"LBC0065A\", \"LBC0065A\", \"LBC0065A\", \"LBC0065A\", \"LBC0065A\", \"LBC0065A\", \"LBC0065A\", \"LBC0065A\", \"LBC0068H\", \"LBC0068H\", \"LBC0102H\", \"LBC0102H\", \"LBC0102H\", \"LBC0111B\", \"LBC0118V\", \"LBC0118V\", \"LBC0118V\", \"LBC0118V\", \"LBC0118V\", \"LBC0118V\", \"LBC0118V\", \"LBC0144B\", \"LBC0144B\", \"LBC0144B\", \"LBC0144B\", \"LBC0148L\", \"LBC0152W\", \"LBC0152W\", \"LBC0152W\", \"LBC0152W\", \"LBC0152W\", \"LBC0165A\", \"LBC0176A\", \"LBC0176A\", \"LBC0176A\", \"LBC0176A\", \"LBC0176A\", \"LBC0176A\", \"LBC0220K\", \"LBC0220K\", \"LBC0220K\", \"LBC0220K\", \"LBC0220K\", \"LBC0220K\", \"LBC0220K\", \"LBC0242M\", \"LBC0242M\", \"LBC0263L\", \"LBC0263L\", \"LBC0263L\", \"LBC0284K\", \"LBC0284K\", \"LBC0284K\", \"LBC0284K\", \"LBC0293E\", \"LBC0293E\", \"LBC0377A\", \"LBC0377A\", \"LBC0392K\", \"LBC0392K\", \"LBC0392K\", \"LBC0392K\", \"LBC0392K\", \"LBC0392K\", \"LBC0392K\", \"LBC0392K\", \"LBC0392K\", \"LBC0392K\", \"LBC0392K\", \"LBC0392K\", \"LBC0392K\", \"LBC0405M\", \"LBC0405M\", \"LBC0405M\", \"LBC0405M\", \"LBC0405M\", \"LBC0405M\", \"LBC0405M\", \"LBC0405M\", \"LBC0405M\", \"LBC0429V\", \"LBC0429V\", \"LBC0439R\", \"LBC0439R\", \"LBC0439R\", \"LBC0439R\", \"LBC0439R\", \"LBC0446H\", \"LBC0446H\", \"LBC0446H\", \"LBC0446H\", \"LBC0446H\", \"LBC0446H\", \"LBC0446H\", \"LBC0461R\", \"LBC0461R\", \"LBC0461R\", \"LBC0461R\", \"LBC0461R\", \"LBC0461R\", \"LBC0461R\", \"LBC0461R\", \"LBC0461R\", \"LBC0464X\", \"LBC0464X\", \"LBC0464X\", \"LBC0471M\", \"LBC0484V\", \"LBC0484V\", \"LBC0516R\", \"LBC0517V\", \"LBC0517V\", \"LBC0520A\", \"LBC0520A\", \"LBC0520A\", \"LBC0588E\", \"LBC0588E\", \"LBC0588E\", \"LBC0591L\", \"LBC0591L\", \"LBC360008\", \"LBC360008\", \"LBC360008\", \"LBC360104\", \"LBC360104\", \"LBC360104\", \"LBC360231\", \"LBC360231\", \"LBC360231\", \"LBC360283\", \"LBC360356\", \"LBC360380\", \"LBC360380\", \"LBC360380\", \"LBC360414\", \"LBC360453\", \"LBC360458\", \"LBC360458\", \"LBC360458\", \"LBC360458\", \"LBC360508\", \"LBC360508\", \"LBC360508\", \"LBC360549\", \"LBC360549\", \"LBC360636\", \"LBC360636\", \"LBC360636\", \"LBC360658\", \"LBC360666\", \"LBC360702\", \"LBC360725\", \"LBC360754\", \"LBC360754\", \"LBC360782\", \"LBC360790\", \"LBC360790\", \"LBC360790\", \"LBC360843\", \"LBC360898\", \"LBC360898\", \"LBC360898\", \"LBC360908\", \"LBC360914\", \"LBC360914\", \"LBC360914\", \"LBC360914\", \"LBC360919\", \"LBC360919\", \"LBC360919\", \"LBC361006\", \"LBC361006\", \"LBC361006\", \"LBC361006\", \"LBC361096\", \"LBC361096\", \"LBC361096\", \"LBC361122\", \"LBC361122\", \"LBC361172\", \"LBC361172\", \"LBC361214\", \"LBC361214\", \"LBC361225\", \"LBC361286\", \"LBC361286\", \"LBC361286\", \"LBC361286\", \"LBC361286\", \"LBC361286\"], \"legendgroup\": \"DNMT3A\", \"marker\": {\"color\": \"#EF553B\"}, \"name\": \"DNMT3A\", \"notched\": false, \"offsetgroup\": \"DNMT3A\", \"orientation\": \"v\", \"showlegend\": true, \"type\": \"box\", \"x\": [\"DNMT3A\", \"DNMT3A\", \"DNMT3A\", \"DNMT3A\", \"DNMT3A\", \"DNMT3A\", \"DNMT3A\", \"DNMT3A\", \"DNMT3A\", \"DNMT3A\", \"DNMT3A\", \"DNMT3A\", \"DNMT3A\", \"DNMT3A\", \"DNMT3A\", \"DNMT3A\", \"DNMT3A\", \"DNMT3A\", \"DNMT3A\", \"DNMT3A\", \"DNMT3A\", \"DNMT3A\", \"DNMT3A\", \"DNMT3A\", \"DNMT3A\", \"DNMT3A\", \"DNMT3A\", \"DNMT3A\", \"DNMT3A\", \"DNMT3A\", \"DNMT3A\", \"DNMT3A\", \"DNMT3A\", \"DNMT3A\", \"DNMT3A\", \"DNMT3A\", \"DNMT3A\", \"DNMT3A\", \"DNMT3A\", \"DNMT3A\", \"DNMT3A\", \"DNMT3A\", \"DNMT3A\", \"DNMT3A\", \"DNMT3A\", \"DNMT3A\", \"DNMT3A\", \"DNMT3A\", \"DNMT3A\", \"DNMT3A\", \"DNMT3A\", \"DNMT3A\", \"DNMT3A\", \"DNMT3A\", \"DNMT3A\", \"DNMT3A\", \"DNMT3A\", \"DNMT3A\", \"DNMT3A\", \"DNMT3A\", \"DNMT3A\", \"DNMT3A\", \"DNMT3A\", \"DNMT3A\", \"DNMT3A\", \"DNMT3A\", \"DNMT3A\", \"DNMT3A\", \"DNMT3A\", \"DNMT3A\", \"DNMT3A\", \"DNMT3A\", \"DNMT3A\", \"DNMT3A\", \"DNMT3A\", \"DNMT3A\", \"DNMT3A\", \"DNMT3A\", \"DNMT3A\", \"DNMT3A\", \"DNMT3A\", \"DNMT3A\", \"DNMT3A\", \"DNMT3A\", \"DNMT3A\", \"DNMT3A\", \"DNMT3A\", \"DNMT3A\", \"DNMT3A\", \"DNMT3A\", \"DNMT3A\", \"DNMT3A\", \"DNMT3A\", \"DNMT3A\", \"DNMT3A\", \"DNMT3A\", \"DNMT3A\", \"DNMT3A\", \"DNMT3A\", \"DNMT3A\", \"DNMT3A\", \"DNMT3A\", \"DNMT3A\", \"DNMT3A\", \"DNMT3A\", \"DNMT3A\", \"DNMT3A\", \"DNMT3A\", \"DNMT3A\", \"DNMT3A\", \"DNMT3A\", \"DNMT3A\", \"DNMT3A\", \"DNMT3A\", \"DNMT3A\", \"DNMT3A\", \"DNMT3A\", \"DNMT3A\", \"DNMT3A\", \"DNMT3A\", \"DNMT3A\", \"DNMT3A\", \"DNMT3A\", \"DNMT3A\", \"DNMT3A\", \"DNMT3A\", \"DNMT3A\", \"DNMT3A\", \"DNMT3A\", \"DNMT3A\", \"DNMT3A\", \"DNMT3A\", \"DNMT3A\", \"DNMT3A\", \"DNMT3A\", \"DNMT3A\", \"DNMT3A\", \"DNMT3A\", \"DNMT3A\", \"DNMT3A\", \"DNMT3A\", \"DNMT3A\", \"DNMT3A\", \"DNMT3A\", \"DNMT3A\", \"DNMT3A\", \"DNMT3A\", \"DNMT3A\", \"DNMT3A\", \"DNMT3A\", \"DNMT3A\", \"DNMT3A\", \"DNMT3A\", \"DNMT3A\", \"DNMT3A\", \"DNMT3A\", \"DNMT3A\", \"DNMT3A\", \"DNMT3A\", \"DNMT3A\", \"DNMT3A\", \"DNMT3A\", \"DNMT3A\", \"DNMT3A\", \"DNMT3A\", \"DNMT3A\", \"DNMT3A\", \"DNMT3A\", \"DNMT3A\", \"DNMT3A\", \"DNMT3A\", \"DNMT3A\", \"DNMT3A\", \"DNMT3A\", \"DNMT3A\", \"DNMT3A\", \"DNMT3A\", \"DNMT3A\", \"DNMT3A\", \"DNMT3A\", \"DNMT3A\", \"DNMT3A\", \"DNMT3A\", \"DNMT3A\", \"DNMT3A\", \"DNMT3A\", \"DNMT3A\", \"DNMT3A\", \"DNMT3A\", \"DNMT3A\", \"DNMT3A\", \"DNMT3A\", \"DNMT3A\", \"DNMT3A\", \"DNMT3A\", \"DNMT3A\", \"DNMT3A\", \"DNMT3A\", \"DNMT3A\", \"DNMT3A\", \"DNMT3A\", \"DNMT3A\", \"DNMT3A\", \"DNMT3A\"], \"x0\": \" \", \"xaxis\": \"x\", \"y\": [0.0014666666666666667, 0.0017000000000000001, -0.0032042939940024238, -0.0038105117766515308, -0.0001632993161855453, -0.002041241452319315, 0.16689190114162722, -0.0023671361036774656, -0.0007348469228349532, -0.0006940220937885673, 0.033925432937547025, 0.0035218366420567177, -0.002569208697893835, -0.004214656965084269, -0.002367136103677466, -0.0016454482671904335, -0.0033476359818036764, -0.004330127018922193, -0.0021361959960016154, -0.000571547606649408, -0.0017333333333333335, -0.0021228911104120883, 0.0018371173070873853, 0.02331097738548658, -0.001183568051838733, -0.005138417395787669, -0.001876388374866284, -0.0026666666666666666, -0.0015588457268119894, -0.0024248711305964285, 0.004445597072760119, -0.0012655697004379757, -8.164965809277283e-05, -0.0008164965809277262, -0.007666666666666666, -0.0007756717518813398, -0.002886751345948129, -0.007634243031674239, -0.001469693845669907, 0.005837950553633241, -0.0007794228634059946, 0.0016165807537309523, -0.0014145081595145833, -0.003262029020921386, 0.0013063945294843617, 0.008100000000000001, -0.0034063665882187923, -0.002165063509461097, -0.0033068111527572905, -0.0033197640478403482, -0.0006940220937885673, -0.0035109352979892225, -0.0033197640478403482, -0.0008660254037844385, -0.004245782220824176, 0.0003175426480542943, -0.0011258330249197706, -0.0006123724356957946, -0.005196152422706632, -0.012700000000000001, -0.0035109352979892225, 0.001183568051838733, 0.0008082903768654762, -0.0032331615074619045, -0.004286607049870561, -0.0037816442631920487, -0.0016454482671904333, -0.0038971143170299736, 0.0074333333333333335, 0.015033333333333334, -0.002733333333333333, -0.0012413030787576955, 0.0019052558883257656, 0.003059956426705017, 0.0029802125203862, -0.0011258330249197706, -0.0011547005383792516, 0.002886751345948129, 0.0032659863237109047, -0.006552925555302252, -0.001962990915244728, -0.0012701705922171765, -0.0019341234017852468, -0.0030888239401644984, -0.0040999999999999995, -0.001837117307087384, -0.00487860977465234, -0.0006062177826491069, -8.660254037844385e-05, -0.0010680979980008077, -0.0025114736709748726, 0.002193931022920578, -0.002041241452319315, -0.0017897858344878398, 0.00032659863237109043, 0.000898146239020499, -0.006524058041842771, -0.003550704155516199, 0.0012124355652982143, -0.0015513435037626795, 0.0024494897427831787, -0.0002041241452319317, -0.00011547005383792521, 0.0014145081595145837, -0.002165063509461097, 0.0005773502691896263, -0.001010362971081845, -0.0011835680518387328, -0.005051814855409226, 0.0008981462390204982, 0.0002041241452319317, 0.001991858428704209, 0.0032331615074619045, -0.0023960036171369473, 0.000375277674973257, -0.002944486372867092, -0.0033197640478403487, -0.001760918321028359, -0.0018371173070873836, 0.00805403625519528, -0.0028578838324886473, 0.0003333333333333333, 0.002333333333333333, -0.003470110468942836, -0.006350852961085883, -0.004647669666976489, 0.00014433756729740658, 0.0002449489742783178, -0.0011022703842524307, -0.0027424137786507224, -0.0030000000000000005, -0.002107328482542134, 0.0022516660498395403, 0.0003666666666666668, -0.0025980762113533163, -0.0017609183210283586, 0.029704671349806245, 0.003766666666666667, -0.0004082482904638627, 0.00046666666666666645, -0.0001224744871391589, 0.0027135462651912408, 0.008491564441648367, -0.013308894269121936, 0.004966666666666665, -0.0010969655114602885, -0.00831384387633061, -0.0020207259421636922, 0.0011547005383792527, 0.019099999999999995, -0.0007000000000000004, -0.003600000000000001, 0.001033333333333333, 0.0003999999999999999, -0.0015000000000000002, 0.0557, -0.0009333333333333334, 0.029333333333333322, 0.022699999999999998, 0.005715476066494083, 0.0005715476066494084, 0.05348052605076607, 0.0006123724356957951, 0.004899999999999999, 0.0030599564267050168, -0.0037333333333333337, -0.0024903145718295646, 0.03204749080141325, -0.0027666666666666673, 0.01873333333333334, 0.001533333333333333, 0.004533333333333334, 0.0024248711305964285, 0.0019666666666666665, 0.002166666666666667, 0.002, -0.0018999999999999998, -0.0008666666666666663, 0.0025333333333333336, 0.0017000000000000001, 0.030433333333333337, 0.016666666666666663, 0.0009333333333333334, 0.0003000000000000005, -0.002266666666666667, -0.023333333333333334, -0.0006666666666666666, -0.0010000000000000002, 0.00669726312259966, -0.0019333333333333336, 0.005484827557301446, 0.0003666666666666668, -0.0035218366420567177, -0.0034292856398964503, 0.005348052605076605, 0.0074666666666666675, 0.0031666666666666666, 0.02576666666666666, 0.00202072594216369, 0.004156921938165306, 0.009526279441628824, 0.004156921938165306, 0.0024248711305964285, 0.005484827557301444], \"y0\": \" \", \"yaxis\": \"y\"}, {\"alignmentgroup\": \"True\", \"boxpoints\": \"all\", \"customdata\": [[\"ASXL1\"], [\"ASXL1\"], [\"ASXL1\"], [\"ASXL1\"], [\"ASXL1\"], [\"ASXL1\"], [\"ASXL1\"], [\"ASXL1\"], [\"ASXL1\"], [\"ASXL1\"], [\"ASXL1\"], [\"ASXL1\"], [\"ASXL1\"], [\"ASXL1\"], [\"ASXL1\"], [\"ASXL1\"], [\"ASXL1\"], [\"ASXL1\"], [\"ASXL1\"], [\"ASXL1\"], [\"ASXL1\"], [\"ASXL1\"], [\"ASXL1\"], [\"ASXL1\"], [\"ASXL1\"], [\"ASXL1\"], [\"ASXL1\"], [\"ASXL1\"], [\"ASXL1\"], [\"ASXL1\"], [\"ASXL1\"], [\"ASXL1\"], [\"ASXL1\"], [\"ASXL1\"], [\"ASXL1\"], [\"ASXL1\"], [\"ASXL1\"], [\"ASXL1\"], [\"ASXL1\"], [\"ASXL1\"], [\"ASXL1\"], [\"ASXL1\"], [\"ASXL1\"], [\"ASXL1\"], [\"ASXL1\"], [\"ASXL1\"], [\"ASXL1\"], [\"ASXL1\"], [\"ASXL1\"], [\"ASXL1\"], [\"ASXL1\"], [\"ASXL1\"], [\"ASXL1\"], [\"ASXL1\"], [\"ASXL1\"], [\"ASXL1\"], [\"ASXL1\"], [\"ASXL1\"], [\"ASXL1\"], [\"ASXL1\"], [\"ASXL1\"], [\"ASXL1\"], [\"ASXL1\"], [\"ASXL1\"], [\"ASXL1\"], [\"ASXL1\"], [\"ASXL1\"], [\"ASXL1\"], [\"ASXL1\"], [\"ASXL1\"], [\"ASXL1\"], [\"ASXL1\"], [\"ASXL1\"], [\"ASXL1\"], [\"ASXL1\"], [\"ASXL1\"], [\"ASXL1\"], [\"ASXL1\"], [\"ASXL1\"], [\"ASXL1\"], [\"ASXL1\"], [\"ASXL1\"], [\"ASXL1\"], [\"ASXL1\"], [\"ASXL1\"], [\"ASXL1\"], [\"ASXL1\"], [\"ASXL1\"], [\"ASXL1\"], [\"ASXL1\"], [\"ASXL1\"], [\"ASXL1\"], [\"ASXL1\"], [\"ASXL1\"], [\"ASXL1\"], [\"ASXL1\"], [\"ASXL1\"], [\"ASXL1\"], [\"ASXL1\"], [\"ASXL1\"], [\"ASXL1\"]], \"hoverlabel\": {\"namelength\": 0}, \"hovertemplate\": \"<b>%{hovertext}</b><br><br>mutation=%{customdata[0]}<br>gradient=%{y}\", \"hovertext\": [\"LBC0031R\", \"LBC0031R\", \"LBC0031R\", \"LBC0031R\", \"LBC0031R\", \"LBC0031R\", \"LBC0046H\", \"LBC0046H\", \"LBC0065A\", \"LBC0065A\", \"LBC0065A\", \"LBC0102H\", \"LBC0102H\", \"LBC0118V\", \"LBC0118V\", \"LBC0118V\", \"LBC0144B\", \"LBC0144B\", \"LBC0152W\", \"LBC0165A\", \"LBC0176A\", \"LBC0176A\", \"LBC0220K\", \"LBC0220K\", \"LBC0220K\", \"LBC0220K\", \"LBC0220K\", \"LBC0220K\", \"LBC0220K\", \"LBC0242M\", \"LBC0242M\", \"LBC0242M\", \"LBC0263L\", \"LBC0284K\", \"LBC0284K\", \"LBC0373R\", \"LBC0392K\", \"LBC0392K\", \"LBC0405M\", \"LBC0405M\", \"LBC0405M\", \"LBC0405M\", \"LBC0429V\", \"LBC0429V\", \"LBC0429V\", \"LBC0439R\", \"LBC0439R\", \"LBC0461R\", \"LBC0461R\", \"LBC0461R\", \"LBC0464X\", \"LBC0464X\", \"LBC0471M\", \"LBC0471M\", \"LBC0517V\", \"LBC0520A\", \"LBC0520A\", \"LBC0520A\", \"LBC0520A\", \"LBC0520A\", \"LBC0588E\", \"LBC0588E\", \"LBC360008\", \"LBC360008\", \"LBC360008\", \"LBC360009\", \"LBC360009\", \"LBC360009\", \"LBC360104\", \"LBC360104\", \"LBC360790\", \"LBC360790\", \"LBC360843\", \"LBC360843\", \"LBC360843\", \"LBC360898\", \"LBC360898\", \"LBC360908\", \"LBC360908\", \"LBC360914\", \"LBC360914\", \"LBC360914\", \"LBC360919\", \"LBC360919\", \"LBC360919\", \"LBC361006\", \"LBC361006\", \"LBC361096\", \"LBC361096\", \"LBC361096\", \"LBC361096\", \"LBC361122\", \"LBC361122\", \"LBC361133\", \"LBC361133\", \"LBC361133\", \"LBC361172\", \"LBC361172\", \"LBC361214\", \"LBC361225\", \"LBC361225\"], \"legendgroup\": \"ASXL1\", \"marker\": {\"color\": \"#00cc96\"}, \"name\": \"ASXL1\", \"notched\": false, \"offsetgroup\": \"ASXL1\", \"orientation\": \"v\", \"showlegend\": true, \"type\": \"box\", \"x\": [\"ASXL1\", \"ASXL1\", \"ASXL1\", \"ASXL1\", \"ASXL1\", \"ASXL1\", \"ASXL1\", \"ASXL1\", \"ASXL1\", \"ASXL1\", \"ASXL1\", \"ASXL1\", \"ASXL1\", \"ASXL1\", \"ASXL1\", \"ASXL1\", \"ASXL1\", \"ASXL1\", \"ASXL1\", \"ASXL1\", \"ASXL1\", \"ASXL1\", \"ASXL1\", \"ASXL1\", \"ASXL1\", \"ASXL1\", \"ASXL1\", \"ASXL1\", \"ASXL1\", \"ASXL1\", \"ASXL1\", \"ASXL1\", \"ASXL1\", \"ASXL1\", \"ASXL1\", \"ASXL1\", \"ASXL1\", \"ASXL1\", \"ASXL1\", \"ASXL1\", \"ASXL1\", \"ASXL1\", \"ASXL1\", \"ASXL1\", \"ASXL1\", \"ASXL1\", \"ASXL1\", \"ASXL1\", \"ASXL1\", \"ASXL1\", \"ASXL1\", \"ASXL1\", \"ASXL1\", \"ASXL1\", \"ASXL1\", \"ASXL1\", \"ASXL1\", \"ASXL1\", \"ASXL1\", \"ASXL1\", \"ASXL1\", \"ASXL1\", \"ASXL1\", \"ASXL1\", \"ASXL1\", \"ASXL1\", \"ASXL1\", \"ASXL1\", \"ASXL1\", \"ASXL1\", \"ASXL1\", \"ASXL1\", \"ASXL1\", \"ASXL1\", \"ASXL1\", \"ASXL1\", \"ASXL1\", \"ASXL1\", \"ASXL1\", \"ASXL1\", \"ASXL1\", \"ASXL1\", \"ASXL1\", \"ASXL1\", \"ASXL1\", \"ASXL1\", \"ASXL1\", \"ASXL1\", \"ASXL1\", \"ASXL1\", \"ASXL1\", \"ASXL1\", \"ASXL1\", \"ASXL1\", \"ASXL1\", \"ASXL1\", \"ASXL1\", \"ASXL1\", \"ASXL1\", \"ASXL1\", \"ASXL1\"], \"x0\": \" \", \"xaxis\": \"x\", \"y\": [-0.0022516660498395407, -0.0042049573917777895, -0.0028867513459481286, 0.0023671361036774656, -0.002166666666666667, -0.002193931022920578, 0.0008082903768654762, -0.0006123724356957945, -0.0016165807537309523, -0.001385640646055102, -0.0017609183210283588, -0.007361215932167728, 0.0011835680518387328, -0.0013567731325956206, -0.001385640646055102, 0.007756717518813397, -0.009930424630061564, -0.0014433756729740645, -0.0017333333333333333, -0.005466666666666666, -0.002944486372867092, 0.016050337483471597, 0.0038105117766515303, -0.00375588427226754, 0.0007505553499465136, -0.0019341234017852464, -0.002222798536380059, 0.004445597072760118, -0.0035218366420567177, -0.001501110699893027, 0.0017146428199482251, -0.00011547005383792521, -5.7735026918962734e-05, -0.0015299782133525082, -0.0008082903768654762, 0.002531139400875951, 0.002424871130596428, 0.0005773502691896258, -0.00202072594216369, -0.0033476359818036764, -0.002309401076758503, -0.0011835680518387328, -0.002280533563299022, -0.0012701705922171771, -0.0017609183210283588, -0.0021, -0.0011547005383792516, 0.0011839200423452028, 0.0017897858344878398, 0.00014433756729740634, 0.0003175426480542943, -0.0006350852961085886, -0.0006639528095680697, 0.0010680979980008073, -0.0008371578903249574, 0.0009526279441628823, 0.0005773502691896258, -0.0014666666666666667, -0.002193931022920578, 0.0005196152422706633, 0.0031176914536239797, 0.000490747728811182, -0.0015299782133525082, 0.0006062177826491071, 0.0007216878364870324, 0.0015588457268119892, -0.00011547005383792521, -0.0003752776749732565, 0.012633333333333335, 0.0026, 0.0003666666666666668, -0.0011000000000000003, -0.0021650635094610966, 0.002309401076758503, 0.0017031832941093964, -0.0029999999999999996, -0.00043333333333333304, 0.002166666666666666, 0.001766666666666667, 0.0007333333333333336, -6.666666666666685e-05, 0.0006333333333333335, -0.0012333333333333335, 0.0001333333333333337, -0.0009666666666666666, -0.0028666666666666667, -3.333333333333313e-05, -0.005022947341949744, -0.005593001579354924, 0.0002333333333333331, -0.0009333333333333334, 0.0012333333333333337, -0.0005333333333333336, -4.0824829046386237e-05, 0.0005715476066494076, -0.0032251614946645184, 0.0005307227776030223, 0.000734846922834954, 0.002, -0.0009333333333333329, 0.0027000000000000006], \"y0\": \" \", \"yaxis\": \"y\"}, {\"alignmentgroup\": \"True\", \"boxpoints\": \"all\", \"customdata\": [[\"JAK2\"], [\"JAK2\"], [\"JAK2\"], [\"JAK2\"], [\"JAK2\"], [\"JAK2\"], [\"JAK2\"], [\"JAK2\"], [\"JAK2\"], [\"JAK2\"]], \"hoverlabel\": {\"namelength\": 0}, \"hovertemplate\": \"<b>%{hovertext}</b><br><br>mutation=%{customdata[0]}<br>gradient=%{y}\", \"hovertext\": [\"LBC0040V\", \"LBC0111B\", \"LBC360021\", \"LBC360109\", \"LBC360291\", \"LBC360636\", \"LBC360702\", \"LBC360725\", \"LBC361096\", \"LBC361096\"], \"legendgroup\": \"JAK2\", \"marker\": {\"color\": \"#ab63fa\"}, \"name\": \"JAK2\", \"notched\": false, \"offsetgroup\": \"JAK2\", \"orientation\": \"v\", \"showlegend\": true, \"type\": \"box\", \"x\": [\"JAK2\", \"JAK2\", \"JAK2\", \"JAK2\", \"JAK2\", \"JAK2\", \"JAK2\", \"JAK2\", \"JAK2\", \"JAK2\"], \"x0\": \" \", \"xaxis\": \"x\", \"y\": [0.32921142143005916, 0.044500000000000005, 0.07066666666666667, 0.03926666666666667, 0.0011430952132988168, 0.0040824829046386315, 0.052366666666666666, 0.08043333333333332, 0.00583123771881522, -0.00560029761113937], \"y0\": \" \", \"yaxis\": \"y\"}],\n",
       "                        {\"boxmode\": \"group\", \"legend\": {\"title\": {\"text\": \"mutation\"}, \"tracegroupgap\": 0}, \"margin\": {\"t\": 60}, \"template\": {\"data\": {\"bar\": [{\"error_x\": {\"color\": \"#2a3f5f\"}, \"error_y\": {\"color\": \"#2a3f5f\"}, \"marker\": {\"line\": {\"color\": \"#E5ECF6\", \"width\": 0.5}}, \"type\": \"bar\"}], \"barpolar\": [{\"marker\": {\"line\": {\"color\": \"#E5ECF6\", \"width\": 0.5}}, \"type\": \"barpolar\"}], \"carpet\": [{\"aaxis\": {\"endlinecolor\": \"#2a3f5f\", \"gridcolor\": \"white\", \"linecolor\": \"white\", \"minorgridcolor\": \"white\", \"startlinecolor\": \"#2a3f5f\"}, \"baxis\": {\"endlinecolor\": \"#2a3f5f\", \"gridcolor\": \"white\", \"linecolor\": \"white\", \"minorgridcolor\": \"white\", \"startlinecolor\": \"#2a3f5f\"}, \"type\": \"carpet\"}], \"choropleth\": [{\"colorbar\": {\"outlinewidth\": 0, \"ticks\": \"\"}, \"type\": \"choropleth\"}], \"contour\": [{\"colorbar\": {\"outlinewidth\": 0, \"ticks\": \"\"}, \"colorscale\": [[0.0, \"#0d0887\"], [0.1111111111111111, \"#46039f\"], [0.2222222222222222, \"#7201a8\"], [0.3333333333333333, \"#9c179e\"], [0.4444444444444444, \"#bd3786\"], [0.5555555555555556, \"#d8576b\"], [0.6666666666666666, \"#ed7953\"], [0.7777777777777778, \"#fb9f3a\"], [0.8888888888888888, \"#fdca26\"], [1.0, \"#f0f921\"]], \"type\": \"contour\"}], \"contourcarpet\": [{\"colorbar\": {\"outlinewidth\": 0, \"ticks\": \"\"}, \"type\": \"contourcarpet\"}], \"heatmap\": [{\"colorbar\": {\"outlinewidth\": 0, \"ticks\": \"\"}, \"colorscale\": [[0.0, \"#0d0887\"], [0.1111111111111111, \"#46039f\"], [0.2222222222222222, \"#7201a8\"], [0.3333333333333333, \"#9c179e\"], [0.4444444444444444, \"#bd3786\"], [0.5555555555555556, \"#d8576b\"], [0.6666666666666666, \"#ed7953\"], [0.7777777777777778, \"#fb9f3a\"], [0.8888888888888888, \"#fdca26\"], [1.0, \"#f0f921\"]], \"type\": \"heatmap\"}], \"heatmapgl\": [{\"colorbar\": {\"outlinewidth\": 0, \"ticks\": \"\"}, \"colorscale\": [[0.0, \"#0d0887\"], [0.1111111111111111, \"#46039f\"], [0.2222222222222222, \"#7201a8\"], [0.3333333333333333, \"#9c179e\"], [0.4444444444444444, \"#bd3786\"], [0.5555555555555556, \"#d8576b\"], [0.6666666666666666, \"#ed7953\"], [0.7777777777777778, \"#fb9f3a\"], [0.8888888888888888, \"#fdca26\"], [1.0, \"#f0f921\"]], \"type\": \"heatmapgl\"}], \"histogram\": [{\"marker\": {\"colorbar\": {\"outlinewidth\": 0, \"ticks\": \"\"}}, \"type\": \"histogram\"}], \"histogram2d\": [{\"colorbar\": {\"outlinewidth\": 0, \"ticks\": \"\"}, \"colorscale\": [[0.0, \"#0d0887\"], [0.1111111111111111, \"#46039f\"], [0.2222222222222222, \"#7201a8\"], [0.3333333333333333, \"#9c179e\"], [0.4444444444444444, \"#bd3786\"], [0.5555555555555556, \"#d8576b\"], [0.6666666666666666, \"#ed7953\"], [0.7777777777777778, \"#fb9f3a\"], [0.8888888888888888, \"#fdca26\"], [1.0, \"#f0f921\"]], \"type\": \"histogram2d\"}], \"histogram2dcontour\": [{\"colorbar\": {\"outlinewidth\": 0, \"ticks\": \"\"}, \"colorscale\": [[0.0, \"#0d0887\"], [0.1111111111111111, \"#46039f\"], [0.2222222222222222, \"#7201a8\"], [0.3333333333333333, \"#9c179e\"], [0.4444444444444444, \"#bd3786\"], [0.5555555555555556, \"#d8576b\"], [0.6666666666666666, \"#ed7953\"], [0.7777777777777778, \"#fb9f3a\"], [0.8888888888888888, \"#fdca26\"], [1.0, \"#f0f921\"]], \"type\": \"histogram2dcontour\"}], \"mesh3d\": [{\"colorbar\": {\"outlinewidth\": 0, \"ticks\": \"\"}, \"type\": \"mesh3d\"}], \"parcoords\": [{\"line\": {\"colorbar\": {\"outlinewidth\": 0, \"ticks\": \"\"}}, \"type\": \"parcoords\"}], \"pie\": [{\"automargin\": true, \"type\": \"pie\"}], \"scatter\": [{\"marker\": {\"colorbar\": {\"outlinewidth\": 0, \"ticks\": \"\"}}, \"type\": \"scatter\"}], \"scatter3d\": [{\"line\": {\"colorbar\": {\"outlinewidth\": 0, \"ticks\": \"\"}}, \"marker\": {\"colorbar\": {\"outlinewidth\": 0, \"ticks\": \"\"}}, \"type\": \"scatter3d\"}], \"scattercarpet\": [{\"marker\": {\"colorbar\": {\"outlinewidth\": 0, \"ticks\": \"\"}}, \"type\": \"scattercarpet\"}], \"scattergeo\": [{\"marker\": {\"colorbar\": {\"outlinewidth\": 0, \"ticks\": \"\"}}, \"type\": \"scattergeo\"}], \"scattergl\": [{\"marker\": {\"colorbar\": {\"outlinewidth\": 0, \"ticks\": \"\"}}, \"type\": \"scattergl\"}], \"scattermapbox\": [{\"marker\": {\"colorbar\": {\"outlinewidth\": 0, \"ticks\": \"\"}}, \"type\": \"scattermapbox\"}], \"scatterpolar\": [{\"marker\": {\"colorbar\": {\"outlinewidth\": 0, \"ticks\": \"\"}}, \"type\": \"scatterpolar\"}], \"scatterpolargl\": [{\"marker\": {\"colorbar\": {\"outlinewidth\": 0, \"ticks\": \"\"}}, \"type\": \"scatterpolargl\"}], \"scatterternary\": [{\"marker\": {\"colorbar\": {\"outlinewidth\": 0, \"ticks\": \"\"}}, \"type\": \"scatterternary\"}], \"surface\": [{\"colorbar\": {\"outlinewidth\": 0, \"ticks\": \"\"}, \"colorscale\": [[0.0, \"#0d0887\"], [0.1111111111111111, \"#46039f\"], [0.2222222222222222, \"#7201a8\"], [0.3333333333333333, \"#9c179e\"], [0.4444444444444444, \"#bd3786\"], [0.5555555555555556, \"#d8576b\"], [0.6666666666666666, \"#ed7953\"], [0.7777777777777778, \"#fb9f3a\"], [0.8888888888888888, \"#fdca26\"], [1.0, \"#f0f921\"]], \"type\": \"surface\"}], \"table\": [{\"cells\": {\"fill\": {\"color\": \"#EBF0F8\"}, \"line\": {\"color\": \"white\"}}, \"header\": {\"fill\": {\"color\": \"#C8D4E3\"}, \"line\": {\"color\": \"white\"}}, \"type\": \"table\"}]}, \"layout\": {\"annotationdefaults\": {\"arrowcolor\": \"#2a3f5f\", \"arrowhead\": 0, \"arrowwidth\": 1}, \"coloraxis\": {\"colorbar\": {\"outlinewidth\": 0, \"ticks\": \"\"}}, \"colorscale\": {\"diverging\": [[0, \"#8e0152\"], [0.1, \"#c51b7d\"], [0.2, \"#de77ae\"], [0.3, \"#f1b6da\"], [0.4, \"#fde0ef\"], [0.5, \"#f7f7f7\"], [0.6, \"#e6f5d0\"], [0.7, \"#b8e186\"], [0.8, \"#7fbc41\"], [0.9, \"#4d9221\"], [1, \"#276419\"]], \"sequential\": [[0.0, \"#0d0887\"], [0.1111111111111111, \"#46039f\"], [0.2222222222222222, \"#7201a8\"], [0.3333333333333333, \"#9c179e\"], [0.4444444444444444, \"#bd3786\"], [0.5555555555555556, \"#d8576b\"], [0.6666666666666666, \"#ed7953\"], [0.7777777777777778, \"#fb9f3a\"], [0.8888888888888888, \"#fdca26\"], [1.0, \"#f0f921\"]], \"sequentialminus\": [[0.0, \"#0d0887\"], [0.1111111111111111, \"#46039f\"], [0.2222222222222222, \"#7201a8\"], [0.3333333333333333, \"#9c179e\"], [0.4444444444444444, \"#bd3786\"], [0.5555555555555556, \"#d8576b\"], [0.6666666666666666, \"#ed7953\"], [0.7777777777777778, \"#fb9f3a\"], [0.8888888888888888, \"#fdca26\"], [1.0, \"#f0f921\"]]}, \"colorway\": [\"#636efa\", \"#EF553B\", \"#00cc96\", \"#ab63fa\", \"#FFA15A\", \"#19d3f3\", \"#FF6692\", \"#B6E880\", \"#FF97FF\", \"#FECB52\"], \"font\": {\"color\": \"#2a3f5f\"}, \"geo\": {\"bgcolor\": \"white\", \"lakecolor\": \"white\", \"landcolor\": \"#E5ECF6\", \"showlakes\": true, \"showland\": true, \"subunitcolor\": \"white\"}, \"hoverlabel\": {\"align\": \"left\"}, \"hovermode\": \"closest\", \"mapbox\": {\"style\": \"light\"}, \"paper_bgcolor\": \"white\", \"plot_bgcolor\": \"#E5ECF6\", \"polar\": {\"angularaxis\": {\"gridcolor\": \"white\", \"linecolor\": \"white\", \"ticks\": \"\"}, \"bgcolor\": \"#E5ECF6\", \"radialaxis\": {\"gridcolor\": \"white\", \"linecolor\": \"white\", \"ticks\": \"\"}}, \"scene\": {\"xaxis\": {\"backgroundcolor\": \"#E5ECF6\", \"gridcolor\": \"white\", \"gridwidth\": 2, \"linecolor\": \"white\", \"showbackground\": true, \"ticks\": \"\", \"zerolinecolor\": \"white\"}, \"yaxis\": {\"backgroundcolor\": \"#E5ECF6\", \"gridcolor\": \"white\", \"gridwidth\": 2, \"linecolor\": \"white\", \"showbackground\": true, \"ticks\": \"\", \"zerolinecolor\": \"white\"}, \"zaxis\": {\"backgroundcolor\": \"#E5ECF6\", \"gridcolor\": \"white\", \"gridwidth\": 2, \"linecolor\": \"white\", \"showbackground\": true, \"ticks\": \"\", \"zerolinecolor\": \"white\"}}, \"shapedefaults\": {\"line\": {\"color\": \"#2a3f5f\"}}, \"ternary\": {\"aaxis\": {\"gridcolor\": \"white\", \"linecolor\": \"white\", \"ticks\": \"\"}, \"baxis\": {\"gridcolor\": \"white\", \"linecolor\": \"white\", \"ticks\": \"\"}, \"bgcolor\": \"#E5ECF6\", \"caxis\": {\"gridcolor\": \"white\", \"linecolor\": \"white\", \"ticks\": \"\"}}, \"title\": {\"x\": 0.05}, \"xaxis\": {\"automargin\": true, \"gridcolor\": \"white\", \"linecolor\": \"white\", \"ticks\": \"\", \"title\": {\"standoff\": 15}, \"zerolinecolor\": \"white\", \"zerolinewidth\": 2}, \"yaxis\": {\"automargin\": true, \"gridcolor\": \"white\", \"linecolor\": \"white\", \"ticks\": \"\", \"title\": {\"standoff\": 15}, \"zerolinecolor\": \"white\", \"zerolinewidth\": 2}}}, \"title\": {\"text\": \"Trajectory gradients by mutation\"}, \"xaxis\": {\"anchor\": \"y\", \"categoryarray\": [\"TET2\", \"DNMT3A\", \"ASXL1\", \"JAK2\"], \"categoryorder\": \"array\", \"domain\": [0.0, 1.0], \"title\": {\"text\": \"mutation\"}}, \"yaxis\": {\"anchor\": \"x\", \"domain\": [0.0, 1.0], \"title\": {\"text\": \"gradient\"}}},\n",
       "                        {\"responsive\": true}\n",
       "                    ).then(function(){\n",
       "                            \n",
       "var gd = document.getElementById('f4f4c1b6-69e8-4cee-9fcd-e665a4de7a65');\n",
       "var x = new MutationObserver(function (mutations, observer) {{\n",
       "        var display = window.getComputedStyle(gd).display;\n",
       "        if (!display || display === 'none') {{\n",
       "            console.log([gd, 'removed!']);\n",
       "            Plotly.purge(gd);\n",
       "            observer.disconnect();\n",
       "        }}\n",
       "}});\n",
       "\n",
       "// Listen for the removal of the full notebook cells\n",
       "var notebookContainer = gd.closest('#notebook-container');\n",
       "if (notebookContainer) {{\n",
       "    x.observe(notebookContainer, {childList: true});\n",
       "}}\n",
       "\n",
       "// Listen for the clearing of the current output cell\n",
       "var outputEl = gd.closest('.output');\n",
       "if (outputEl) {{\n",
       "    x.observe(outputEl, {childList: true});\n",
       "}}\n",
       "\n",
       "                        })\n",
       "                };\n",
       "                });\n",
       "            </script>\n",
       "        </div>"
      ]
     },
     "metadata": {},
     "output_type": "display_data"
    }
   ],
   "source": [
    "plot.gradients(lbc, ['DNMT3A','JAK2','TET2','ASXL1'])"
   ]
  },
  {
   "cell_type": "markdown",
   "metadata": {
    "nteract": {
     "transient": {
      "deleting": false
     }
    }
   },
   "source": [
    "We can produce a similar plot, but instead of using the overall gradient, showing the local gradients sorted grouped by wave:"
   ]
  },
  {
   "cell_type": "code",
   "execution_count": 14,
   "metadata": {
    "jupyter": {
     "outputs_hidden": false,
     "source_hidden": false
    },
    "nteract": {
     "transient": {
      "deleting": false
     }
    },
    "scrolled": false
   },
   "outputs": [
    {
     "data": {
      "application/vnd.plotly.v1+json": {
       "config": {
        "plotlyServerURL": "https://plot.ly"
       },
       "data": [
        {
         "alignmentgroup": "True",
         "boxpoints": "all",
         "customdata": [
          [
           "TET2"
          ],
          [
           "TET2"
          ],
          [
           "TET2"
          ],
          [
           "TET2"
          ],
          [
           "TET2"
          ],
          [
           "TET2"
          ],
          [
           "TET2"
          ],
          [
           "TET2"
          ],
          [
           "TET2"
          ],
          [
           "TET2"
          ],
          [
           "TET2"
          ],
          [
           "TET2"
          ],
          [
           "TET2"
          ],
          [
           "TET2"
          ],
          [
           "TET2"
          ],
          [
           "TET2"
          ],
          [
           "TET2"
          ],
          [
           "TET2"
          ],
          [
           "TET2"
          ],
          [
           "TET2"
          ],
          [
           "TET2"
          ],
          [
           "TET2"
          ],
          [
           "TET2"
          ],
          [
           "TET2"
          ],
          [
           "TET2"
          ],
          [
           "TET2"
          ],
          [
           "TET2"
          ],
          [
           "TET2"
          ],
          [
           "TET2"
          ],
          [
           "TET2"
          ],
          [
           "TET2"
          ],
          [
           "TET2"
          ],
          [
           "TET2"
          ],
          [
           "TET2"
          ],
          [
           "TET2"
          ],
          [
           "TET2"
          ],
          [
           "TET2"
          ],
          [
           "TET2"
          ],
          [
           "TET2"
          ],
          [
           "TET2"
          ],
          [
           "TET2"
          ],
          [
           "TET2"
          ],
          [
           "TET2"
          ],
          [
           "TET2"
          ],
          [
           "TET2"
          ],
          [
           "TET2"
          ],
          [
           "TET2"
          ],
          [
           "TET2"
          ],
          [
           "TET2"
          ],
          [
           "TET2"
          ],
          [
           "TET2"
          ],
          [
           "TET2"
          ],
          [
           "TET2"
          ],
          [
           "TET2"
          ],
          [
           "TET2"
          ],
          [
           "TET2"
          ],
          [
           "TET2"
          ],
          [
           "TET2"
          ],
          [
           "TET2"
          ],
          [
           "TET2"
          ],
          [
           "TET2"
          ],
          [
           "TET2"
          ],
          [
           "TET2"
          ],
          [
           "TET2"
          ],
          [
           "TET2"
          ],
          [
           "TET2"
          ],
          [
           "TET2"
          ],
          [
           "TET2"
          ],
          [
           "TET2"
          ],
          [
           "TET2"
          ],
          [
           "TET2"
          ],
          [
           "TET2"
          ],
          [
           "TET2"
          ],
          [
           "TET2"
          ],
          [
           "TET2"
          ],
          [
           "TET2"
          ],
          [
           "TET2"
          ],
          [
           "TET2"
          ],
          [
           "TET2"
          ],
          [
           "TET2"
          ],
          [
           "TET2"
          ],
          [
           "TET2"
          ],
          [
           "TET2"
          ],
          [
           "TET2"
          ],
          [
           "TET2"
          ],
          [
           "TET2"
          ],
          [
           "TET2"
          ],
          [
           "TET2"
          ],
          [
           "TET2"
          ],
          [
           "TET2"
          ],
          [
           "TET2"
          ],
          [
           "TET2"
          ],
          [
           "TET2"
          ],
          [
           "TET2"
          ],
          [
           "TET2"
          ],
          [
           "TET2"
          ],
          [
           "TET2"
          ],
          [
           "TET2"
          ],
          [
           "TET2"
          ],
          [
           "TET2"
          ],
          [
           "TET2"
          ],
          [
           "TET2"
          ],
          [
           "TET2"
          ],
          [
           "TET2"
          ],
          [
           "TET2"
          ],
          [
           "TET2"
          ],
          [
           "TET2"
          ],
          [
           "TET2"
          ],
          [
           "TET2"
          ],
          [
           "TET2"
          ],
          [
           "TET2"
          ],
          [
           "TET2"
          ],
          [
           "TET2"
          ],
          [
           "TET2"
          ],
          [
           "TET2"
          ],
          [
           "TET2"
          ],
          [
           "TET2"
          ],
          [
           "TET2"
          ],
          [
           "TET2"
          ],
          [
           "TET2"
          ],
          [
           "TET2"
          ],
          [
           "TET2"
          ],
          [
           "TET2"
          ],
          [
           "TET2"
          ],
          [
           "TET2"
          ],
          [
           "TET2"
          ],
          [
           "TET2"
          ],
          [
           "TET2"
          ],
          [
           "TET2"
          ],
          [
           "TET2"
          ],
          [
           "TET2"
          ],
          [
           "TET2"
          ],
          [
           "TET2"
          ],
          [
           "TET2"
          ],
          [
           "TET2"
          ],
          [
           "TET2"
          ],
          [
           "TET2"
          ],
          [
           "TET2"
          ],
          [
           "TET2"
          ],
          [
           "TET2"
          ],
          [
           "TET2"
          ],
          [
           "TET2"
          ],
          [
           "TET2"
          ],
          [
           "TET2"
          ],
          [
           "TET2"
          ],
          [
           "TET2"
          ],
          [
           "TET2"
          ],
          [
           "TET2"
          ],
          [
           "TET2"
          ],
          [
           "TET2"
          ],
          [
           "TET2"
          ],
          [
           "TET2"
          ],
          [
           "TET2"
          ],
          [
           "TET2"
          ],
          [
           "TET2"
          ],
          [
           "TET2"
          ],
          [
           "TET2"
          ],
          [
           "TET2"
          ],
          [
           "TET2"
          ],
          [
           "TET2"
          ],
          [
           "TET2"
          ],
          [
           "TET2"
          ],
          [
           "TET2"
          ],
          [
           "TET2"
          ],
          [
           "TET2"
          ],
          [
           "TET2"
          ],
          [
           "TET2"
          ],
          [
           "TET2"
          ],
          [
           "TET2"
          ],
          [
           "TET2"
          ],
          [
           "TET2"
          ],
          [
           "TET2"
          ],
          [
           "TET2"
          ],
          [
           "TET2"
          ],
          [
           "TET2"
          ],
          [
           "TET2"
          ],
          [
           "TET2"
          ],
          [
           "TET2"
          ],
          [
           "TET2"
          ],
          [
           "TET2"
          ],
          [
           "TET2"
          ],
          [
           "TET2"
          ],
          [
           "TET2"
          ],
          [
           "TET2"
          ],
          [
           "TET2"
          ],
          [
           "TET2"
          ],
          [
           "TET2"
          ],
          [
           "TET2"
          ],
          [
           "TET2"
          ],
          [
           "TET2"
          ],
          [
           "TET2"
          ],
          [
           "TET2"
          ],
          [
           "TET2"
          ],
          [
           "TET2"
          ],
          [
           "TET2"
          ],
          [
           "TET2"
          ],
          [
           "TET2"
          ],
          [
           "TET2"
          ],
          [
           "TET2"
          ],
          [
           "TET2"
          ],
          [
           "TET2"
          ],
          [
           "TET2"
          ],
          [
           "TET2"
          ],
          [
           "TET2"
          ],
          [
           "TET2"
          ],
          [
           "TET2"
          ],
          [
           "TET2"
          ],
          [
           "TET2"
          ],
          [
           "TET2"
          ],
          [
           "TET2"
          ],
          [
           "TET2"
          ],
          [
           "TET2"
          ]
         ],
         "hoverlabel": {
          "namelength": 0
         },
         "hovertemplate": "<b>%{hovertext}</b><br><br>mutation=%{customdata[0]}<br>gradient=%{y}",
         "hovertext": [
          "LBC0001A",
          "LBC0001A",
          "LBC0001A",
          "LBC0001A",
          "LBC0001A",
          "LBC0001A",
          "LBC0001A",
          "LBC0031R",
          "LBC0031R",
          "LBC0031R",
          "LBC0031R",
          "LBC0046H",
          "LBC0046H",
          "LBC0046H",
          "LBC0046H",
          "LBC0065A",
          "LBC0065A",
          "LBC0065A",
          "LBC0065A",
          "LBC0065A",
          "LBC0065A",
          "LBC0081L",
          "LBC0081L",
          "LBC0081L",
          "LBC0081L",
          "LBC0102H",
          "LBC0102H",
          "LBC0102H",
          "LBC0102H",
          "LBC0102H",
          "LBC0102H",
          "LBC0102H",
          "LBC0102H",
          "LBC0111B",
          "LBC0111B",
          "LBC0111B",
          "LBC0144B",
          "LBC0144B",
          "LBC0144B",
          "LBC0144B",
          "LBC0144B",
          "LBC0144B",
          "LBC0144B",
          "LBC0144B",
          "LBC0176A",
          "LBC0176A",
          "LBC0176A",
          "LBC0176A",
          "LBC0220K",
          "LBC0220K",
          "LBC0220K",
          "LBC0220K",
          "LBC0220K",
          "LBC0220K",
          "LBC0242M",
          "LBC0242M",
          "LBC0242M",
          "LBC0242M",
          "LBC0251K",
          "LBC0251K",
          "LBC0251K",
          "LBC0251K",
          "LBC0251K",
          "LBC0251K",
          "LBC0256W",
          "LBC0256W",
          "LBC0263L",
          "LBC0263L",
          "LBC0263L",
          "LBC0263L",
          "LBC0284K",
          "LBC0284K",
          "LBC0284K",
          "LBC0284K",
          "LBC0293E",
          "LBC0293E",
          "LBC0293E",
          "LBC0377A",
          "LBC0377A",
          "LBC0377A",
          "LBC0377A",
          "LBC0392K",
          "LBC0392K",
          "LBC0392K",
          "LBC0392K",
          "LBC0392K",
          "LBC0392K",
          "LBC0405M",
          "LBC0405M",
          "LBC0405M",
          "LBC0405M",
          "LBC0415L",
          "LBC0415L",
          "LBC0429V",
          "LBC0429V",
          "LBC0429V",
          "LBC0429V",
          "LBC0429V",
          "LBC0429V",
          "LBC0439R",
          "LBC0439R",
          "LBC0439R",
          "LBC0439R",
          "LBC0461R",
          "LBC0461R",
          "LBC0461R",
          "LBC0461R",
          "LBC0461R",
          "LBC0461R",
          "LBC0461R",
          "LBC0461R",
          "LBC0461R",
          "LBC0461R",
          "LBC0464X",
          "LBC0464X",
          "LBC0464X",
          "LBC0516R",
          "LBC0516R",
          "LBC0516R",
          "LBC0516R",
          "LBC0516R",
          "LBC0516R",
          "LBC0516R",
          "LBC0516R",
          "LBC0516R",
          "LBC0516R",
          "LBC0517V",
          "LBC0517V",
          "LBC0517V",
          "LBC0517V",
          "LBC0591L",
          "LBC0591L",
          "LBC0591L",
          "LBC0591L",
          "LBC0591L",
          "LBC0591L",
          "LBC360008",
          "LBC360008",
          "LBC360008",
          "LBC360008",
          "LBC360008",
          "LBC360072",
          "LBC360072",
          "LBC360072",
          "LBC360072",
          "LBC360072",
          "LBC360072",
          "LBC360072",
          "LBC360072",
          "LBC360104",
          "LBC360104",
          "LBC360104",
          "LBC360104",
          "LBC360181",
          "LBC360181",
          "LBC360181",
          "LBC360181",
          "LBC360231",
          "LBC360231",
          "LBC360231",
          "LBC360283",
          "LBC360283",
          "LBC360283",
          "LBC360453",
          "LBC360453",
          "LBC360453",
          "LBC360453",
          "LBC360508",
          "LBC360508",
          "LBC360508",
          "LBC360508",
          "LBC360666",
          "LBC360666",
          "LBC360666",
          "LBC360666",
          "LBC360666",
          "LBC360666",
          "LBC360694",
          "LBC360694",
          "LBC360702",
          "LBC360702",
          "LBC360702",
          "LBC360702",
          "LBC360725",
          "LBC360725",
          "LBC360725",
          "LBC360725",
          "LBC360754",
          "LBC360754",
          "LBC360754",
          "LBC360898",
          "LBC360898",
          "LBC360898",
          "LBC360898",
          "LBC360908",
          "LBC360908",
          "LBC360908",
          "LBC360908",
          "LBC360908",
          "LBC360908",
          "LBC360908",
          "LBC360908",
          "LBC360919",
          "LBC360919",
          "LBC360919",
          "LBC360919",
          "LBC361096",
          "LBC361096",
          "LBC361096",
          "LBC361096",
          "LBC361096",
          "LBC361096"
         ],
         "legendgroup": "TET2",
         "marker": {
          "color": "#636efa"
         },
         "name": "TET2",
         "notched": false,
         "offsetgroup": "TET2",
         "orientation": "v",
         "showlegend": true,
         "type": "box",
         "x": [
          "TET2",
          "TET2",
          "TET2",
          "TET2",
          "TET2",
          "TET2",
          "TET2",
          "TET2",
          "TET2",
          "TET2",
          "TET2",
          "TET2",
          "TET2",
          "TET2",
          "TET2",
          "TET2",
          "TET2",
          "TET2",
          "TET2",
          "TET2",
          "TET2",
          "TET2",
          "TET2",
          "TET2",
          "TET2",
          "TET2",
          "TET2",
          "TET2",
          "TET2",
          "TET2",
          "TET2",
          "TET2",
          "TET2",
          "TET2",
          "TET2",
          "TET2",
          "TET2",
          "TET2",
          "TET2",
          "TET2",
          "TET2",
          "TET2",
          "TET2",
          "TET2",
          "TET2",
          "TET2",
          "TET2",
          "TET2",
          "TET2",
          "TET2",
          "TET2",
          "TET2",
          "TET2",
          "TET2",
          "TET2",
          "TET2",
          "TET2",
          "TET2",
          "TET2",
          "TET2",
          "TET2",
          "TET2",
          "TET2",
          "TET2",
          "TET2",
          "TET2",
          "TET2",
          "TET2",
          "TET2",
          "TET2",
          "TET2",
          "TET2",
          "TET2",
          "TET2",
          "TET2",
          "TET2",
          "TET2",
          "TET2",
          "TET2",
          "TET2",
          "TET2",
          "TET2",
          "TET2",
          "TET2",
          "TET2",
          "TET2",
          "TET2",
          "TET2",
          "TET2",
          "TET2",
          "TET2",
          "TET2",
          "TET2",
          "TET2",
          "TET2",
          "TET2",
          "TET2",
          "TET2",
          "TET2",
          "TET2",
          "TET2",
          "TET2",
          "TET2",
          "TET2",
          "TET2",
          "TET2",
          "TET2",
          "TET2",
          "TET2",
          "TET2",
          "TET2",
          "TET2",
          "TET2",
          "TET2",
          "TET2",
          "TET2",
          "TET2",
          "TET2",
          "TET2",
          "TET2",
          "TET2",
          "TET2",
          "TET2",
          "TET2",
          "TET2",
          "TET2",
          "TET2",
          "TET2",
          "TET2",
          "TET2",
          "TET2",
          "TET2",
          "TET2",
          "TET2",
          "TET2",
          "TET2",
          "TET2",
          "TET2",
          "TET2",
          "TET2",
          "TET2",
          "TET2",
          "TET2",
          "TET2",
          "TET2",
          "TET2",
          "TET2",
          "TET2",
          "TET2",
          "TET2",
          "TET2",
          "TET2",
          "TET2",
          "TET2",
          "TET2",
          "TET2",
          "TET2",
          "TET2",
          "TET2",
          "TET2",
          "TET2",
          "TET2",
          "TET2",
          "TET2",
          "TET2",
          "TET2",
          "TET2",
          "TET2",
          "TET2",
          "TET2",
          "TET2",
          "TET2",
          "TET2",
          "TET2",
          "TET2",
          "TET2",
          "TET2",
          "TET2",
          "TET2",
          "TET2",
          "TET2",
          "TET2",
          "TET2",
          "TET2",
          "TET2",
          "TET2",
          "TET2",
          "TET2",
          "TET2",
          "TET2",
          "TET2",
          "TET2",
          "TET2",
          "TET2",
          "TET2",
          "TET2",
          "TET2",
          "TET2",
          "TET2",
          "TET2",
          "TET2",
          "TET2",
          "TET2",
          "TET2",
          "TET2",
          "TET2",
          "TET2",
          "TET2",
          "TET2",
          "TET2",
          "TET2",
          "TET2"
         ],
         "x0": " ",
         "xaxis": "x",
         "y": [
          -0.0023671361036774656,
          null,
          0.031523324697753555,
          null,
          0.04164132562731403,
          0.000519615242270662,
          null,
          -0.004266666666666666,
          null,
          -0.00291561885940761,
          null,
          0.0006123724356957945,
          -0.0010392304845413263,
          0.002309401076758503,
          null,
          0.0014288690166235206,
          0.001732050807568877,
          0.001212435565298215,
          null,
          -0.004368256707963336,
          null,
          0.010532805893967667,
          null,
          0.00996125828731826,
          null,
          0.003592584956081994,
          -0.0006350852961085886,
          -0.0023094010767585023,
          null,
          0.001347219358530748,
          -0.0022516660498395403,
          -0.0002886751345948127,
          null,
          0.0015921683328090663,
          0.00040414518843273764,
          null,
          -0.0046132056822416525,
          null,
          0.0008164965809277262,
          -0.0019052558883257656,
          0.0003464101615137759,
          null,
          -0.002771281292110204,
          null,
          4.082482904638641e-05,
          0.002424871130596428,
          -0.002367136103677466,
          null,
          -0.0002857738033247038,
          0.0009237604307034017,
          -0.003059956426705017,
          null,
          -0.003839379290111012,
          null,
          0.0002857738033247045,
          -0.0006928203230275508,
          0.0001732050807568877,
          null,
          0.02220870700123415,
          0.04203109959700476,
          null,
          0.0008164965809277262,
          0.00357957166897568,
          null,
          0.019963341403682902,
          null,
          -4.082482904638641e-05,
          0.0016165807537309525,
          -0.0005773502691896254,
          null,
          0.004572380853195266,
          -0.00046188021535170084,
          -0.0012124355652982138,
          null,
          0.01126765281680262,
          0.011951150572225252,
          null,
          0.0009797958971132714,
          0.00046188021535170036,
          0.0014433756729740647,
          null,
          0.003021037349432587,
          0.0017897858344878411,
          0,
          null,
          -0.003175426480542942,
          null,
          4.082482904638606e-05,
          -0.0002886751345948127,
          0.002771281292110204,
          null,
          0.001469693845669907,
          null,
          0.002776088375154269,
          null,
          0.0001224744871391589,
          -0.0007505553499465135,
          0.002829016319029167,
          null,
          -0.003470110468942836,
          0.0012701705922171771,
          -0.0010969655114602894,
          null,
          -0.002771281292110204,
          null,
          -0.0029999999999999996,
          null,
          -0.0003265986323710902,
          0.0019052558883257652,
          0.0009237604307034007,
          null,
          -0.00640949816028265,
          null,
          -0.0051,
          0,
          null,
          0.0006123724356957945,
          -0.0035795716689756797,
          0.0003464101615137754,
          null,
          -0.0029333333333333334,
          null,
          -0.0024903145718295646,
          -5.7735026918962483e-05,
          0.0010969655114602891,
          null,
          0.003592584956081995,
          0.011027390141521851,
          0.0006350852961085886,
          null,
          0.005756300895540472,
          -0.004387862045841162,
          null,
          0.011675901107266483,
          0.02020725942163691,
          null,
          0.00011547005383792497,
          0.0015588457268119898,
          0.0010392304845413263,
          -0.0010969655114602885,
          null,
          0.014664696837416499,
          0.011662475437630439,
          0.05865878734966598,
          null,
          0.0010392304845413263,
          0,
          0.002829016319029167,
          null,
          -0.0025980762113533163,
          0.0005196152422706631,
          0.0003464101615137754,
          null,
          0.025807557032776283,
          0.03833605787419114,
          0.053116224765445585,
          null,
          -0.002713546265191241,
          -0.0005773502691896258,
          null,
          -0.0006350852961085886,
          0.0021361959960016154,
          null,
          0.0008660254037844385,
          -0.00011547005383792497,
          0.002540341184434354,
          null,
          0.006581793068761734,
          -0.00040414518843273764,
          0.0008082903768654753,
          null,
          0.013757967388632188,
          0.013971876514388935,
          null,
          -0.0008981462390204985,
          0.0031754264805429417,
          null,
          -0.0026558112382722788,
          null,
          -0.0016743157806499147,
          -0.0006928203230275512,
          0.0012124355652982143,
          null,
          0.0001732050807568877,
          0.0021939310229205783,
          -0.0005773502691896263,
          null,
          0.0009237604307034017,
          -0.0010392304845413271,
          null,
          0.0005196152422706631,
          -0.0008082903768654753,
          -0.00028867513459481317,
          null,
          0.0020784609690826525,
          0.005888972745734181,
          -0.0006350852961085865,
          null,
          0.0025980762113533163,
          0.006524058041842772,
          -0.0006350852961085905,
          null,
          0.0007505553499465135,
          -0.0016743157806499147,
          0.0030599564267050163,
          null,
          0.0006350852961085886,
          -0.002540341184434354,
          0.002713546265191241,
          null,
          -0.005062278801751902,
          null
         ],
         "y0": " ",
         "yaxis": "y"
        },
        {
         "alignmentgroup": "True",
         "boxpoints": "all",
         "customdata": [
          [
           "DNMT3A"
          ],
          [
           "DNMT3A"
          ],
          [
           "DNMT3A"
          ],
          [
           "DNMT3A"
          ],
          [
           "DNMT3A"
          ],
          [
           "DNMT3A"
          ],
          [
           "DNMT3A"
          ],
          [
           "DNMT3A"
          ],
          [
           "DNMT3A"
          ],
          [
           "DNMT3A"
          ],
          [
           "DNMT3A"
          ],
          [
           "DNMT3A"
          ],
          [
           "DNMT3A"
          ],
          [
           "DNMT3A"
          ],
          [
           "DNMT3A"
          ],
          [
           "DNMT3A"
          ],
          [
           "DNMT3A"
          ],
          [
           "DNMT3A"
          ],
          [
           "DNMT3A"
          ],
          [
           "DNMT3A"
          ],
          [
           "DNMT3A"
          ],
          [
           "DNMT3A"
          ],
          [
           "DNMT3A"
          ],
          [
           "DNMT3A"
          ],
          [
           "DNMT3A"
          ],
          [
           "DNMT3A"
          ],
          [
           "DNMT3A"
          ],
          [
           "DNMT3A"
          ],
          [
           "DNMT3A"
          ],
          [
           "DNMT3A"
          ],
          [
           "DNMT3A"
          ],
          [
           "DNMT3A"
          ],
          [
           "DNMT3A"
          ],
          [
           "DNMT3A"
          ],
          [
           "DNMT3A"
          ],
          [
           "DNMT3A"
          ],
          [
           "DNMT3A"
          ],
          [
           "DNMT3A"
          ],
          [
           "DNMT3A"
          ],
          [
           "DNMT3A"
          ],
          [
           "DNMT3A"
          ],
          [
           "DNMT3A"
          ],
          [
           "DNMT3A"
          ],
          [
           "DNMT3A"
          ],
          [
           "DNMT3A"
          ],
          [
           "DNMT3A"
          ],
          [
           "DNMT3A"
          ],
          [
           "DNMT3A"
          ],
          [
           "DNMT3A"
          ],
          [
           "DNMT3A"
          ],
          [
           "DNMT3A"
          ],
          [
           "DNMT3A"
          ],
          [
           "DNMT3A"
          ],
          [
           "DNMT3A"
          ],
          [
           "DNMT3A"
          ],
          [
           "DNMT3A"
          ],
          [
           "DNMT3A"
          ],
          [
           "DNMT3A"
          ],
          [
           "DNMT3A"
          ],
          [
           "DNMT3A"
          ],
          [
           "DNMT3A"
          ],
          [
           "DNMT3A"
          ],
          [
           "DNMT3A"
          ],
          [
           "DNMT3A"
          ],
          [
           "DNMT3A"
          ],
          [
           "DNMT3A"
          ],
          [
           "DNMT3A"
          ],
          [
           "DNMT3A"
          ],
          [
           "DNMT3A"
          ],
          [
           "DNMT3A"
          ],
          [
           "DNMT3A"
          ],
          [
           "DNMT3A"
          ],
          [
           "DNMT3A"
          ],
          [
           "DNMT3A"
          ],
          [
           "DNMT3A"
          ],
          [
           "DNMT3A"
          ],
          [
           "DNMT3A"
          ],
          [
           "DNMT3A"
          ],
          [
           "DNMT3A"
          ],
          [
           "DNMT3A"
          ],
          [
           "DNMT3A"
          ],
          [
           "DNMT3A"
          ],
          [
           "DNMT3A"
          ],
          [
           "DNMT3A"
          ],
          [
           "DNMT3A"
          ],
          [
           "DNMT3A"
          ],
          [
           "DNMT3A"
          ],
          [
           "DNMT3A"
          ],
          [
           "DNMT3A"
          ],
          [
           "DNMT3A"
          ],
          [
           "DNMT3A"
          ],
          [
           "DNMT3A"
          ],
          [
           "DNMT3A"
          ],
          [
           "DNMT3A"
          ],
          [
           "DNMT3A"
          ],
          [
           "DNMT3A"
          ],
          [
           "DNMT3A"
          ],
          [
           "DNMT3A"
          ],
          [
           "DNMT3A"
          ],
          [
           "DNMT3A"
          ],
          [
           "DNMT3A"
          ],
          [
           "DNMT3A"
          ],
          [
           "DNMT3A"
          ],
          [
           "DNMT3A"
          ],
          [
           "DNMT3A"
          ],
          [
           "DNMT3A"
          ],
          [
           "DNMT3A"
          ],
          [
           "DNMT3A"
          ],
          [
           "DNMT3A"
          ],
          [
           "DNMT3A"
          ],
          [
           "DNMT3A"
          ],
          [
           "DNMT3A"
          ],
          [
           "DNMT3A"
          ],
          [
           "DNMT3A"
          ],
          [
           "DNMT3A"
          ],
          [
           "DNMT3A"
          ],
          [
           "DNMT3A"
          ],
          [
           "DNMT3A"
          ],
          [
           "DNMT3A"
          ],
          [
           "DNMT3A"
          ],
          [
           "DNMT3A"
          ],
          [
           "DNMT3A"
          ],
          [
           "DNMT3A"
          ],
          [
           "DNMT3A"
          ],
          [
           "DNMT3A"
          ],
          [
           "DNMT3A"
          ],
          [
           "DNMT3A"
          ],
          [
           "DNMT3A"
          ],
          [
           "DNMT3A"
          ],
          [
           "DNMT3A"
          ],
          [
           "DNMT3A"
          ],
          [
           "DNMT3A"
          ],
          [
           "DNMT3A"
          ],
          [
           "DNMT3A"
          ],
          [
           "DNMT3A"
          ],
          [
           "DNMT3A"
          ],
          [
           "DNMT3A"
          ],
          [
           "DNMT3A"
          ],
          [
           "DNMT3A"
          ],
          [
           "DNMT3A"
          ],
          [
           "DNMT3A"
          ],
          [
           "DNMT3A"
          ],
          [
           "DNMT3A"
          ],
          [
           "DNMT3A"
          ],
          [
           "DNMT3A"
          ],
          [
           "DNMT3A"
          ],
          [
           "DNMT3A"
          ],
          [
           "DNMT3A"
          ],
          [
           "DNMT3A"
          ],
          [
           "DNMT3A"
          ],
          [
           "DNMT3A"
          ],
          [
           "DNMT3A"
          ],
          [
           "DNMT3A"
          ],
          [
           "DNMT3A"
          ],
          [
           "DNMT3A"
          ],
          [
           "DNMT3A"
          ],
          [
           "DNMT3A"
          ],
          [
           "DNMT3A"
          ],
          [
           "DNMT3A"
          ],
          [
           "DNMT3A"
          ],
          [
           "DNMT3A"
          ],
          [
           "DNMT3A"
          ],
          [
           "DNMT3A"
          ],
          [
           "DNMT3A"
          ],
          [
           "DNMT3A"
          ],
          [
           "DNMT3A"
          ],
          [
           "DNMT3A"
          ],
          [
           "DNMT3A"
          ],
          [
           "DNMT3A"
          ],
          [
           "DNMT3A"
          ],
          [
           "DNMT3A"
          ],
          [
           "DNMT3A"
          ],
          [
           "DNMT3A"
          ],
          [
           "DNMT3A"
          ],
          [
           "DNMT3A"
          ],
          [
           "DNMT3A"
          ],
          [
           "DNMT3A"
          ],
          [
           "DNMT3A"
          ],
          [
           "DNMT3A"
          ],
          [
           "DNMT3A"
          ],
          [
           "DNMT3A"
          ],
          [
           "DNMT3A"
          ],
          [
           "DNMT3A"
          ],
          [
           "DNMT3A"
          ],
          [
           "DNMT3A"
          ],
          [
           "DNMT3A"
          ],
          [
           "DNMT3A"
          ],
          [
           "DNMT3A"
          ],
          [
           "DNMT3A"
          ],
          [
           "DNMT3A"
          ],
          [
           "DNMT3A"
          ],
          [
           "DNMT3A"
          ],
          [
           "DNMT3A"
          ],
          [
           "DNMT3A"
          ],
          [
           "DNMT3A"
          ],
          [
           "DNMT3A"
          ],
          [
           "DNMT3A"
          ],
          [
           "DNMT3A"
          ],
          [
           "DNMT3A"
          ],
          [
           "DNMT3A"
          ],
          [
           "DNMT3A"
          ],
          [
           "DNMT3A"
          ],
          [
           "DNMT3A"
          ],
          [
           "DNMT3A"
          ],
          [
           "DNMT3A"
          ],
          [
           "DNMT3A"
          ],
          [
           "DNMT3A"
          ],
          [
           "DNMT3A"
          ],
          [
           "DNMT3A"
          ],
          [
           "DNMT3A"
          ],
          [
           "DNMT3A"
          ],
          [
           "DNMT3A"
          ],
          [
           "DNMT3A"
          ],
          [
           "DNMT3A"
          ],
          [
           "DNMT3A"
          ],
          [
           "DNMT3A"
          ],
          [
           "DNMT3A"
          ],
          [
           "DNMT3A"
          ],
          [
           "DNMT3A"
          ],
          [
           "DNMT3A"
          ],
          [
           "DNMT3A"
          ],
          [
           "DNMT3A"
          ],
          [
           "DNMT3A"
          ],
          [
           "DNMT3A"
          ],
          [
           "DNMT3A"
          ],
          [
           "DNMT3A"
          ],
          [
           "DNMT3A"
          ],
          [
           "DNMT3A"
          ],
          [
           "DNMT3A"
          ],
          [
           "DNMT3A"
          ],
          [
           "DNMT3A"
          ],
          [
           "DNMT3A"
          ],
          [
           "DNMT3A"
          ],
          [
           "DNMT3A"
          ],
          [
           "DNMT3A"
          ],
          [
           "DNMT3A"
          ],
          [
           "DNMT3A"
          ],
          [
           "DNMT3A"
          ],
          [
           "DNMT3A"
          ],
          [
           "DNMT3A"
          ],
          [
           "DNMT3A"
          ],
          [
           "DNMT3A"
          ],
          [
           "DNMT3A"
          ],
          [
           "DNMT3A"
          ],
          [
           "DNMT3A"
          ],
          [
           "DNMT3A"
          ],
          [
           "DNMT3A"
          ],
          [
           "DNMT3A"
          ],
          [
           "DNMT3A"
          ],
          [
           "DNMT3A"
          ],
          [
           "DNMT3A"
          ],
          [
           "DNMT3A"
          ],
          [
           "DNMT3A"
          ],
          [
           "DNMT3A"
          ],
          [
           "DNMT3A"
          ],
          [
           "DNMT3A"
          ],
          [
           "DNMT3A"
          ],
          [
           "DNMT3A"
          ],
          [
           "DNMT3A"
          ],
          [
           "DNMT3A"
          ],
          [
           "DNMT3A"
          ],
          [
           "DNMT3A"
          ],
          [
           "DNMT3A"
          ],
          [
           "DNMT3A"
          ],
          [
           "DNMT3A"
          ],
          [
           "DNMT3A"
          ],
          [
           "DNMT3A"
          ],
          [
           "DNMT3A"
          ],
          [
           "DNMT3A"
          ],
          [
           "DNMT3A"
          ],
          [
           "DNMT3A"
          ],
          [
           "DNMT3A"
          ],
          [
           "DNMT3A"
          ],
          [
           "DNMT3A"
          ],
          [
           "DNMT3A"
          ],
          [
           "DNMT3A"
          ],
          [
           "DNMT3A"
          ],
          [
           "DNMT3A"
          ],
          [
           "DNMT3A"
          ],
          [
           "DNMT3A"
          ],
          [
           "DNMT3A"
          ],
          [
           "DNMT3A"
          ],
          [
           "DNMT3A"
          ],
          [
           "DNMT3A"
          ],
          [
           "DNMT3A"
          ],
          [
           "DNMT3A"
          ],
          [
           "DNMT3A"
          ],
          [
           "DNMT3A"
          ],
          [
           "DNMT3A"
          ],
          [
           "DNMT3A"
          ],
          [
           "DNMT3A"
          ],
          [
           "DNMT3A"
          ],
          [
           "DNMT3A"
          ],
          [
           "DNMT3A"
          ],
          [
           "DNMT3A"
          ],
          [
           "DNMT3A"
          ],
          [
           "DNMT3A"
          ],
          [
           "DNMT3A"
          ],
          [
           "DNMT3A"
          ],
          [
           "DNMT3A"
          ],
          [
           "DNMT3A"
          ],
          [
           "DNMT3A"
          ],
          [
           "DNMT3A"
          ],
          [
           "DNMT3A"
          ],
          [
           "DNMT3A"
          ],
          [
           "DNMT3A"
          ],
          [
           "DNMT3A"
          ],
          [
           "DNMT3A"
          ],
          [
           "DNMT3A"
          ],
          [
           "DNMT3A"
          ],
          [
           "DNMT3A"
          ],
          [
           "DNMT3A"
          ],
          [
           "DNMT3A"
          ],
          [
           "DNMT3A"
          ],
          [
           "DNMT3A"
          ],
          [
           "DNMT3A"
          ],
          [
           "DNMT3A"
          ],
          [
           "DNMT3A"
          ],
          [
           "DNMT3A"
          ],
          [
           "DNMT3A"
          ],
          [
           "DNMT3A"
          ],
          [
           "DNMT3A"
          ],
          [
           "DNMT3A"
          ],
          [
           "DNMT3A"
          ],
          [
           "DNMT3A"
          ],
          [
           "DNMT3A"
          ],
          [
           "DNMT3A"
          ],
          [
           "DNMT3A"
          ],
          [
           "DNMT3A"
          ],
          [
           "DNMT3A"
          ],
          [
           "DNMT3A"
          ],
          [
           "DNMT3A"
          ],
          [
           "DNMT3A"
          ],
          [
           "DNMT3A"
          ],
          [
           "DNMT3A"
          ],
          [
           "DNMT3A"
          ],
          [
           "DNMT3A"
          ],
          [
           "DNMT3A"
          ],
          [
           "DNMT3A"
          ],
          [
           "DNMT3A"
          ],
          [
           "DNMT3A"
          ],
          [
           "DNMT3A"
          ],
          [
           "DNMT3A"
          ],
          [
           "DNMT3A"
          ],
          [
           "DNMT3A"
          ],
          [
           "DNMT3A"
          ],
          [
           "DNMT3A"
          ],
          [
           "DNMT3A"
          ],
          [
           "DNMT3A"
          ],
          [
           "DNMT3A"
          ],
          [
           "DNMT3A"
          ],
          [
           "DNMT3A"
          ],
          [
           "DNMT3A"
          ],
          [
           "DNMT3A"
          ],
          [
           "DNMT3A"
          ],
          [
           "DNMT3A"
          ],
          [
           "DNMT3A"
          ],
          [
           "DNMT3A"
          ],
          [
           "DNMT3A"
          ],
          [
           "DNMT3A"
          ],
          [
           "DNMT3A"
          ],
          [
           "DNMT3A"
          ],
          [
           "DNMT3A"
          ],
          [
           "DNMT3A"
          ],
          [
           "DNMT3A"
          ],
          [
           "DNMT3A"
          ],
          [
           "DNMT3A"
          ],
          [
           "DNMT3A"
          ],
          [
           "DNMT3A"
          ],
          [
           "DNMT3A"
          ],
          [
           "DNMT3A"
          ],
          [
           "DNMT3A"
          ],
          [
           "DNMT3A"
          ],
          [
           "DNMT3A"
          ],
          [
           "DNMT3A"
          ],
          [
           "DNMT3A"
          ],
          [
           "DNMT3A"
          ],
          [
           "DNMT3A"
          ],
          [
           "DNMT3A"
          ],
          [
           "DNMT3A"
          ],
          [
           "DNMT3A"
          ],
          [
           "DNMT3A"
          ],
          [
           "DNMT3A"
          ],
          [
           "DNMT3A"
          ],
          [
           "DNMT3A"
          ],
          [
           "DNMT3A"
          ],
          [
           "DNMT3A"
          ],
          [
           "DNMT3A"
          ],
          [
           "DNMT3A"
          ],
          [
           "DNMT3A"
          ],
          [
           "DNMT3A"
          ],
          [
           "DNMT3A"
          ],
          [
           "DNMT3A"
          ],
          [
           "DNMT3A"
          ],
          [
           "DNMT3A"
          ],
          [
           "DNMT3A"
          ],
          [
           "DNMT3A"
          ],
          [
           "DNMT3A"
          ],
          [
           "DNMT3A"
          ],
          [
           "DNMT3A"
          ],
          [
           "DNMT3A"
          ],
          [
           "DNMT3A"
          ],
          [
           "DNMT3A"
          ],
          [
           "DNMT3A"
          ],
          [
           "DNMT3A"
          ],
          [
           "DNMT3A"
          ],
          [
           "DNMT3A"
          ],
          [
           "DNMT3A"
          ],
          [
           "DNMT3A"
          ],
          [
           "DNMT3A"
          ],
          [
           "DNMT3A"
          ],
          [
           "DNMT3A"
          ],
          [
           "DNMT3A"
          ],
          [
           "DNMT3A"
          ],
          [
           "DNMT3A"
          ],
          [
           "DNMT3A"
          ],
          [
           "DNMT3A"
          ],
          [
           "DNMT3A"
          ],
          [
           "DNMT3A"
          ],
          [
           "DNMT3A"
          ],
          [
           "DNMT3A"
          ],
          [
           "DNMT3A"
          ],
          [
           "DNMT3A"
          ],
          [
           "DNMT3A"
          ],
          [
           "DNMT3A"
          ],
          [
           "DNMT3A"
          ],
          [
           "DNMT3A"
          ],
          [
           "DNMT3A"
          ],
          [
           "DNMT3A"
          ],
          [
           "DNMT3A"
          ],
          [
           "DNMT3A"
          ],
          [
           "DNMT3A"
          ],
          [
           "DNMT3A"
          ],
          [
           "DNMT3A"
          ],
          [
           "DNMT3A"
          ],
          [
           "DNMT3A"
          ],
          [
           "DNMT3A"
          ],
          [
           "DNMT3A"
          ],
          [
           "DNMT3A"
          ],
          [
           "DNMT3A"
          ],
          [
           "DNMT3A"
          ],
          [
           "DNMT3A"
          ],
          [
           "DNMT3A"
          ],
          [
           "DNMT3A"
          ],
          [
           "DNMT3A"
          ],
          [
           "DNMT3A"
          ],
          [
           "DNMT3A"
          ],
          [
           "DNMT3A"
          ],
          [
           "DNMT3A"
          ],
          [
           "DNMT3A"
          ],
          [
           "DNMT3A"
          ],
          [
           "DNMT3A"
          ],
          [
           "DNMT3A"
          ],
          [
           "DNMT3A"
          ],
          [
           "DNMT3A"
          ],
          [
           "DNMT3A"
          ],
          [
           "DNMT3A"
          ],
          [
           "DNMT3A"
          ],
          [
           "DNMT3A"
          ],
          [
           "DNMT3A"
          ],
          [
           "DNMT3A"
          ],
          [
           "DNMT3A"
          ],
          [
           "DNMT3A"
          ],
          [
           "DNMT3A"
          ],
          [
           "DNMT3A"
          ],
          [
           "DNMT3A"
          ],
          [
           "DNMT3A"
          ],
          [
           "DNMT3A"
          ],
          [
           "DNMT3A"
          ],
          [
           "DNMT3A"
          ],
          [
           "DNMT3A"
          ],
          [
           "DNMT3A"
          ],
          [
           "DNMT3A"
          ],
          [
           "DNMT3A"
          ],
          [
           "DNMT3A"
          ],
          [
           "DNMT3A"
          ],
          [
           "DNMT3A"
          ],
          [
           "DNMT3A"
          ],
          [
           "DNMT3A"
          ],
          [
           "DNMT3A"
          ],
          [
           "DNMT3A"
          ],
          [
           "DNMT3A"
          ],
          [
           "DNMT3A"
          ],
          [
           "DNMT3A"
          ],
          [
           "DNMT3A"
          ],
          [
           "DNMT3A"
          ],
          [
           "DNMT3A"
          ],
          [
           "DNMT3A"
          ],
          [
           "DNMT3A"
          ],
          [
           "DNMT3A"
          ],
          [
           "DNMT3A"
          ],
          [
           "DNMT3A"
          ],
          [
           "DNMT3A"
          ],
          [
           "DNMT3A"
          ],
          [
           "DNMT3A"
          ],
          [
           "DNMT3A"
          ],
          [
           "DNMT3A"
          ],
          [
           "DNMT3A"
          ],
          [
           "DNMT3A"
          ],
          [
           "DNMT3A"
          ],
          [
           "DNMT3A"
          ],
          [
           "DNMT3A"
          ],
          [
           "DNMT3A"
          ],
          [
           "DNMT3A"
          ],
          [
           "DNMT3A"
          ],
          [
           "DNMT3A"
          ],
          [
           "DNMT3A"
          ],
          [
           "DNMT3A"
          ],
          [
           "DNMT3A"
          ],
          [
           "DNMT3A"
          ],
          [
           "DNMT3A"
          ],
          [
           "DNMT3A"
          ],
          [
           "DNMT3A"
          ],
          [
           "DNMT3A"
          ],
          [
           "DNMT3A"
          ],
          [
           "DNMT3A"
          ],
          [
           "DNMT3A"
          ],
          [
           "DNMT3A"
          ],
          [
           "DNMT3A"
          ],
          [
           "DNMT3A"
          ],
          [
           "DNMT3A"
          ],
          [
           "DNMT3A"
          ],
          [
           "DNMT3A"
          ],
          [
           "DNMT3A"
          ],
          [
           "DNMT3A"
          ],
          [
           "DNMT3A"
          ],
          [
           "DNMT3A"
          ],
          [
           "DNMT3A"
          ],
          [
           "DNMT3A"
          ],
          [
           "DNMT3A"
          ],
          [
           "DNMT3A"
          ],
          [
           "DNMT3A"
          ],
          [
           "DNMT3A"
          ],
          [
           "DNMT3A"
          ],
          [
           "DNMT3A"
          ],
          [
           "DNMT3A"
          ],
          [
           "DNMT3A"
          ],
          [
           "DNMT3A"
          ],
          [
           "DNMT3A"
          ],
          [
           "DNMT3A"
          ],
          [
           "DNMT3A"
          ],
          [
           "DNMT3A"
          ],
          [
           "DNMT3A"
          ],
          [
           "DNMT3A"
          ],
          [
           "DNMT3A"
          ],
          [
           "DNMT3A"
          ],
          [
           "DNMT3A"
          ],
          [
           "DNMT3A"
          ],
          [
           "DNMT3A"
          ],
          [
           "DNMT3A"
          ],
          [
           "DNMT3A"
          ],
          [
           "DNMT3A"
          ],
          [
           "DNMT3A"
          ],
          [
           "DNMT3A"
          ],
          [
           "DNMT3A"
          ],
          [
           "DNMT3A"
          ],
          [
           "DNMT3A"
          ],
          [
           "DNMT3A"
          ],
          [
           "DNMT3A"
          ],
          [
           "DNMT3A"
          ],
          [
           "DNMT3A"
          ],
          [
           "DNMT3A"
          ],
          [
           "DNMT3A"
          ],
          [
           "DNMT3A"
          ],
          [
           "DNMT3A"
          ],
          [
           "DNMT3A"
          ],
          [
           "DNMT3A"
          ],
          [
           "DNMT3A"
          ],
          [
           "DNMT3A"
          ],
          [
           "DNMT3A"
          ],
          [
           "DNMT3A"
          ],
          [
           "DNMT3A"
          ],
          [
           "DNMT3A"
          ],
          [
           "DNMT3A"
          ],
          [
           "DNMT3A"
          ],
          [
           "DNMT3A"
          ],
          [
           "DNMT3A"
          ],
          [
           "DNMT3A"
          ],
          [
           "DNMT3A"
          ],
          [
           "DNMT3A"
          ],
          [
           "DNMT3A"
          ],
          [
           "DNMT3A"
          ],
          [
           "DNMT3A"
          ],
          [
           "DNMT3A"
          ],
          [
           "DNMT3A"
          ],
          [
           "DNMT3A"
          ],
          [
           "DNMT3A"
          ],
          [
           "DNMT3A"
          ],
          [
           "DNMT3A"
          ],
          [
           "DNMT3A"
          ],
          [
           "DNMT3A"
          ],
          [
           "DNMT3A"
          ],
          [
           "DNMT3A"
          ],
          [
           "DNMT3A"
          ],
          [
           "DNMT3A"
          ],
          [
           "DNMT3A"
          ],
          [
           "DNMT3A"
          ],
          [
           "DNMT3A"
          ],
          [
           "DNMT3A"
          ],
          [
           "DNMT3A"
          ],
          [
           "DNMT3A"
          ],
          [
           "DNMT3A"
          ],
          [
           "DNMT3A"
          ],
          [
           "DNMT3A"
          ],
          [
           "DNMT3A"
          ],
          [
           "DNMT3A"
          ],
          [
           "DNMT3A"
          ],
          [
           "DNMT3A"
          ],
          [
           "DNMT3A"
          ],
          [
           "DNMT3A"
          ],
          [
           "DNMT3A"
          ],
          [
           "DNMT3A"
          ],
          [
           "DNMT3A"
          ],
          [
           "DNMT3A"
          ],
          [
           "DNMT3A"
          ],
          [
           "DNMT3A"
          ],
          [
           "DNMT3A"
          ],
          [
           "DNMT3A"
          ],
          [
           "DNMT3A"
          ],
          [
           "DNMT3A"
          ],
          [
           "DNMT3A"
          ],
          [
           "DNMT3A"
          ],
          [
           "DNMT3A"
          ],
          [
           "DNMT3A"
          ],
          [
           "DNMT3A"
          ],
          [
           "DNMT3A"
          ],
          [
           "DNMT3A"
          ],
          [
           "DNMT3A"
          ],
          [
           "DNMT3A"
          ],
          [
           "DNMT3A"
          ],
          [
           "DNMT3A"
          ],
          [
           "DNMT3A"
          ],
          [
           "DNMT3A"
          ],
          [
           "DNMT3A"
          ],
          [
           "DNMT3A"
          ],
          [
           "DNMT3A"
          ],
          [
           "DNMT3A"
          ],
          [
           "DNMT3A"
          ],
          [
           "DNMT3A"
          ],
          [
           "DNMT3A"
          ],
          [
           "DNMT3A"
          ],
          [
           "DNMT3A"
          ],
          [
           "DNMT3A"
          ],
          [
           "DNMT3A"
          ],
          [
           "DNMT3A"
          ],
          [
           "DNMT3A"
          ],
          [
           "DNMT3A"
          ],
          [
           "DNMT3A"
          ],
          [
           "DNMT3A"
          ],
          [
           "DNMT3A"
          ],
          [
           "DNMT3A"
          ],
          [
           "DNMT3A"
          ],
          [
           "DNMT3A"
          ]
         ],
         "hoverlabel": {
          "namelength": 0
         },
         "hovertemplate": "<b>%{hovertext}</b><br><br>mutation=%{customdata[0]}<br>gradient=%{y}",
         "hovertext": [
          "LBC0001A",
          "LBC0001A",
          "LBC0001A",
          "LBC0001A",
          "LBC0001A",
          "LBC0031R",
          "LBC0031R",
          "LBC0031R",
          "LBC0031R",
          "LBC0031R",
          "LBC0031R",
          "LBC0031R",
          "LBC0031R",
          "LBC0031R",
          "LBC0031R",
          "LBC0031R",
          "LBC0040V",
          "LBC0040V",
          "LBC0040V",
          "LBC0040V",
          "LBC0046H",
          "LBC0046H",
          "LBC0046H",
          "LBC0046H",
          "LBC0046H",
          "LBC0046H",
          "LBC0046H",
          "LBC0046H",
          "LBC0047K",
          "LBC0047K",
          "LBC0065A",
          "LBC0065A",
          "LBC0065A",
          "LBC0065A",
          "LBC0065A",
          "LBC0065A",
          "LBC0065A",
          "LBC0065A",
          "LBC0065A",
          "LBC0065A",
          "LBC0065A",
          "LBC0065A",
          "LBC0065A",
          "LBC0065A",
          "LBC0065A",
          "LBC0065A",
          "LBC0065A",
          "LBC0065A",
          "LBC0065A",
          "LBC0065A",
          "LBC0065A",
          "LBC0065A",
          "LBC0065A",
          "LBC0065A",
          "LBC0065A",
          "LBC0065A",
          "LBC0065A",
          "LBC0065A",
          "LBC0065A",
          "LBC0065A",
          "LBC0065A",
          "LBC0065A",
          "LBC0065A",
          "LBC0068H",
          "LBC0068H",
          "LBC0068H",
          "LBC0068H",
          "LBC0102H",
          "LBC0102H",
          "LBC0102H",
          "LBC0102H",
          "LBC0102H",
          "LBC0102H",
          "LBC0102H",
          "LBC0102H",
          "LBC0102H",
          "LBC0102H",
          "LBC0102H",
          "LBC0111B",
          "LBC0111B",
          "LBC0111B",
          "LBC0118V",
          "LBC0118V",
          "LBC0118V",
          "LBC0118V",
          "LBC0118V",
          "LBC0118V",
          "LBC0118V",
          "LBC0118V",
          "LBC0118V",
          "LBC0118V",
          "LBC0118V",
          "LBC0118V",
          "LBC0118V",
          "LBC0118V",
          "LBC0118V",
          "LBC0118V",
          "LBC0118V",
          "LBC0118V",
          "LBC0118V",
          "LBC0118V",
          "LBC0118V",
          "LBC0144B",
          "LBC0144B",
          "LBC0144B",
          "LBC0144B",
          "LBC0144B",
          "LBC0144B",
          "LBC0144B",
          "LBC0144B",
          "LBC0144B",
          "LBC0144B",
          "LBC0148L",
          "LBC0148L",
          "LBC0152W",
          "LBC0152W",
          "LBC0152W",
          "LBC0152W",
          "LBC0152W",
          "LBC0152W",
          "LBC0152W",
          "LBC0152W",
          "LBC0152W",
          "LBC0152W",
          "LBC0152W",
          "LBC0152W",
          "LBC0152W",
          "LBC0152W",
          "LBC0152W",
          "LBC0152W",
          "LBC0152W",
          "LBC0152W",
          "LBC0152W",
          "LBC0165A",
          "LBC0165A",
          "LBC0165A",
          "LBC0176A",
          "LBC0176A",
          "LBC0176A",
          "LBC0176A",
          "LBC0176A",
          "LBC0176A",
          "LBC0176A",
          "LBC0176A",
          "LBC0176A",
          "LBC0176A",
          "LBC0176A",
          "LBC0176A",
          "LBC0176A",
          "LBC0176A",
          "LBC0176A",
          "LBC0176A",
          "LBC0176A",
          "LBC0176A",
          "LBC0220K",
          "LBC0220K",
          "LBC0220K",
          "LBC0220K",
          "LBC0220K",
          "LBC0220K",
          "LBC0220K",
          "LBC0220K",
          "LBC0220K",
          "LBC0220K",
          "LBC0220K",
          "LBC0220K",
          "LBC0220K",
          "LBC0220K",
          "LBC0220K",
          "LBC0220K",
          "LBC0220K",
          "LBC0220K",
          "LBC0220K",
          "LBC0220K",
          "LBC0220K",
          "LBC0220K",
          "LBC0220K",
          "LBC0242M",
          "LBC0242M",
          "LBC0242M",
          "LBC0242M",
          "LBC0242M",
          "LBC0242M",
          "LBC0263L",
          "LBC0263L",
          "LBC0263L",
          "LBC0263L",
          "LBC0263L",
          "LBC0263L",
          "LBC0263L",
          "LBC0263L",
          "LBC0263L",
          "LBC0263L",
          "LBC0284K",
          "LBC0284K",
          "LBC0284K",
          "LBC0284K",
          "LBC0284K",
          "LBC0284K",
          "LBC0284K",
          "LBC0284K",
          "LBC0284K",
          "LBC0284K",
          "LBC0284K",
          "LBC0284K",
          "LBC0284K",
          "LBC0284K",
          "LBC0293E",
          "LBC0293E",
          "LBC0293E",
          "LBC0293E",
          "LBC0293E",
          "LBC0293E",
          "LBC0377A",
          "LBC0377A",
          "LBC0377A",
          "LBC0377A",
          "LBC0377A",
          "LBC0377A",
          "LBC0377A",
          "LBC0392K",
          "LBC0392K",
          "LBC0392K",
          "LBC0392K",
          "LBC0392K",
          "LBC0392K",
          "LBC0392K",
          "LBC0392K",
          "LBC0392K",
          "LBC0392K",
          "LBC0392K",
          "LBC0392K",
          "LBC0392K",
          "LBC0392K",
          "LBC0392K",
          "LBC0392K",
          "LBC0392K",
          "LBC0392K",
          "LBC0392K",
          "LBC0392K",
          "LBC0392K",
          "LBC0392K",
          "LBC0392K",
          "LBC0392K",
          "LBC0392K",
          "LBC0392K",
          "LBC0392K",
          "LBC0392K",
          "LBC0392K",
          "LBC0392K",
          "LBC0392K",
          "LBC0392K",
          "LBC0392K",
          "LBC0392K",
          "LBC0392K",
          "LBC0405M",
          "LBC0405M",
          "LBC0405M",
          "LBC0405M",
          "LBC0405M",
          "LBC0405M",
          "LBC0405M",
          "LBC0405M",
          "LBC0405M",
          "LBC0405M",
          "LBC0405M",
          "LBC0405M",
          "LBC0405M",
          "LBC0405M",
          "LBC0405M",
          "LBC0405M",
          "LBC0405M",
          "LBC0405M",
          "LBC0405M",
          "LBC0405M",
          "LBC0405M",
          "LBC0405M",
          "LBC0405M",
          "LBC0405M",
          "LBC0405M",
          "LBC0405M",
          "LBC0405M",
          "LBC0405M",
          "LBC0405M",
          "LBC0405M",
          "LBC0405M",
          "LBC0405M",
          "LBC0405M",
          "LBC0405M",
          "LBC0429V",
          "LBC0429V",
          "LBC0429V",
          "LBC0429V",
          "LBC0429V",
          "LBC0429V",
          "LBC0439R",
          "LBC0439R",
          "LBC0439R",
          "LBC0439R",
          "LBC0439R",
          "LBC0439R",
          "LBC0439R",
          "LBC0439R",
          "LBC0439R",
          "LBC0439R",
          "LBC0439R",
          "LBC0439R",
          "LBC0439R",
          "LBC0439R",
          "LBC0439R",
          "LBC0439R",
          "LBC0446H",
          "LBC0446H",
          "LBC0446H",
          "LBC0446H",
          "LBC0446H",
          "LBC0446H",
          "LBC0446H",
          "LBC0446H",
          "LBC0446H",
          "LBC0446H",
          "LBC0446H",
          "LBC0446H",
          "LBC0446H",
          "LBC0446H",
          "LBC0446H",
          "LBC0446H",
          "LBC0446H",
          "LBC0446H",
          "LBC0446H",
          "LBC0446H",
          "LBC0446H",
          "LBC0446H",
          "LBC0446H",
          "LBC0446H",
          "LBC0446H",
          "LBC0461R",
          "LBC0461R",
          "LBC0461R",
          "LBC0461R",
          "LBC0461R",
          "LBC0461R",
          "LBC0461R",
          "LBC0461R",
          "LBC0461R",
          "LBC0461R",
          "LBC0461R",
          "LBC0461R",
          "LBC0461R",
          "LBC0461R",
          "LBC0461R",
          "LBC0461R",
          "LBC0461R",
          "LBC0461R",
          "LBC0461R",
          "LBC0461R",
          "LBC0461R",
          "LBC0461R",
          "LBC0461R",
          "LBC0461R",
          "LBC0461R",
          "LBC0461R",
          "LBC0461R",
          "LBC0461R",
          "LBC0461R",
          "LBC0461R",
          "LBC0464X",
          "LBC0464X",
          "LBC0464X",
          "LBC0464X",
          "LBC0464X",
          "LBC0464X",
          "LBC0464X",
          "LBC0464X",
          "LBC0464X",
          "LBC0464X",
          "LBC0464X",
          "LBC0471M",
          "LBC0471M",
          "LBC0471M",
          "LBC0471M",
          "LBC0484V",
          "LBC0484V",
          "LBC0484V",
          "LBC0484V",
          "LBC0484V",
          "LBC0484V",
          "LBC0516R",
          "LBC0516R",
          "LBC0517V",
          "LBC0517V",
          "LBC0517V",
          "LBC0517V",
          "LBC0517V",
          "LBC0517V",
          "LBC0520A",
          "LBC0520A",
          "LBC0520A",
          "LBC0520A",
          "LBC0520A",
          "LBC0520A",
          "LBC0520A",
          "LBC0520A",
          "LBC0520A",
          "LBC0520A",
          "LBC0588E",
          "LBC0588E",
          "LBC0588E",
          "LBC0588E",
          "LBC0588E",
          "LBC0588E",
          "LBC0588E",
          "LBC0588E",
          "LBC0588E",
          "LBC0588E",
          "LBC0591L",
          "LBC0591L",
          "LBC0591L",
          "LBC0591L",
          "LBC0591L",
          "LBC360008",
          "LBC360008",
          "LBC360008",
          "LBC360008",
          "LBC360008",
          "LBC360008",
          "LBC360008",
          "LBC360008",
          "LBC360008",
          "LBC360008",
          "LBC360008",
          "LBC360008",
          "LBC360008",
          "LBC360104",
          "LBC360104",
          "LBC360104",
          "LBC360104",
          "LBC360104",
          "LBC360104",
          "LBC360104",
          "LBC360104",
          "LBC360104",
          "LBC360104",
          "LBC360104",
          "LBC360231",
          "LBC360231",
          "LBC360231",
          "LBC360231",
          "LBC360231",
          "LBC360231",
          "LBC360231",
          "LBC360231",
          "LBC360283",
          "LBC360283",
          "LBC360283",
          "LBC360356",
          "LBC360356",
          "LBC360356",
          "LBC360356",
          "LBC360380",
          "LBC360380",
          "LBC360380",
          "LBC360380",
          "LBC360380",
          "LBC360380",
          "LBC360414",
          "LBC360414",
          "LBC360453",
          "LBC360453",
          "LBC360453",
          "LBC360453",
          "LBC360458",
          "LBC360458",
          "LBC360458",
          "LBC360458",
          "LBC360458",
          "LBC360458",
          "LBC360458",
          "LBC360458",
          "LBC360458",
          "LBC360458",
          "LBC360458",
          "LBC360458",
          "LBC360458",
          "LBC360458",
          "LBC360458",
          "LBC360458",
          "LBC360508",
          "LBC360508",
          "LBC360508",
          "LBC360508",
          "LBC360508",
          "LBC360508",
          "LBC360508",
          "LBC360508",
          "LBC360508",
          "LBC360508",
          "LBC360508",
          "LBC360508",
          "LBC360549",
          "LBC360549",
          "LBC360549",
          "LBC360549",
          "LBC360549",
          "LBC360549",
          "LBC360549",
          "LBC360549",
          "LBC360636",
          "LBC360636",
          "LBC360636",
          "LBC360636",
          "LBC360636",
          "LBC360636",
          "LBC360636",
          "LBC360636",
          "LBC360636",
          "LBC360658",
          "LBC360658",
          "LBC360658",
          "LBC360666",
          "LBC360666",
          "LBC360666",
          "LBC360702",
          "LBC360702",
          "LBC360725",
          "LBC360725",
          "LBC360725",
          "LBC360754",
          "LBC360754",
          "LBC360754",
          "LBC360754",
          "LBC360754",
          "LBC360754",
          "LBC360782",
          "LBC360782",
          "LBC360782",
          "LBC360782",
          "LBC360790",
          "LBC360790",
          "LBC360790",
          "LBC360790",
          "LBC360790",
          "LBC360790",
          "LBC360790",
          "LBC360790",
          "LBC360843",
          "LBC360843",
          "LBC360843",
          "LBC360843",
          "LBC360898",
          "LBC360898",
          "LBC360898",
          "LBC360898",
          "LBC360898",
          "LBC360898",
          "LBC360898",
          "LBC360898",
          "LBC360898",
          "LBC360898",
          "LBC360898",
          "LBC360898",
          "LBC360908",
          "LBC360908",
          "LBC360908",
          "LBC360908",
          "LBC360914",
          "LBC360914",
          "LBC360914",
          "LBC360914",
          "LBC360914",
          "LBC360914",
          "LBC360914",
          "LBC360914",
          "LBC360914",
          "LBC360914",
          "LBC360914",
          "LBC360914",
          "LBC360914",
          "LBC360914",
          "LBC360914",
          "LBC360914",
          "LBC360919",
          "LBC360919",
          "LBC360919",
          "LBC360919",
          "LBC360919",
          "LBC360919",
          "LBC360919",
          "LBC360919",
          "LBC360919",
          "LBC360919",
          "LBC360919",
          "LBC360919",
          "LBC361006",
          "LBC361006",
          "LBC361006",
          "LBC361006",
          "LBC361006",
          "LBC361006",
          "LBC361006",
          "LBC361006",
          "LBC361006",
          "LBC361006",
          "LBC361006",
          "LBC361006",
          "LBC361006",
          "LBC361006",
          "LBC361006",
          "LBC361006",
          "LBC361096",
          "LBC361096",
          "LBC361096",
          "LBC361096",
          "LBC361096",
          "LBC361096",
          "LBC361096",
          "LBC361096",
          "LBC361122",
          "LBC361122",
          "LBC361122",
          "LBC361122",
          "LBC361122",
          "LBC361122",
          "LBC361172",
          "LBC361172",
          "LBC361172",
          "LBC361172",
          "LBC361172",
          "LBC361172",
          "LBC361214",
          "LBC361214",
          "LBC361214",
          "LBC361214",
          "LBC361214",
          "LBC361214",
          "LBC361214",
          "LBC361214",
          "LBC361225",
          "LBC361225",
          "LBC361225",
          "LBC361225",
          "LBC361286",
          "LBC361286",
          "LBC361286",
          "LBC361286",
          "LBC361286",
          "LBC361286",
          "LBC361286",
          "LBC361286",
          "LBC361286",
          "LBC361286",
          "LBC361286",
          "LBC361286"
         ],
         "legendgroup": "DNMT3A",
         "marker": {
          "color": "#EF553B"
         },
         "name": "DNMT3A",
         "notched": false,
         "offsetgroup": "DNMT3A",
         "orientation": "v",
         "showlegend": true,
         "type": "box",
         "x": [
          "DNMT3A",
          "DNMT3A",
          "DNMT3A",
          "DNMT3A",
          "DNMT3A",
          "DNMT3A",
          "DNMT3A",
          "DNMT3A",
          "DNMT3A",
          "DNMT3A",
          "DNMT3A",
          "DNMT3A",
          "DNMT3A",
          "DNMT3A",
          "DNMT3A",
          "DNMT3A",
          "DNMT3A",
          "DNMT3A",
          "DNMT3A",
          "DNMT3A",
          "DNMT3A",
          "DNMT3A",
          "DNMT3A",
          "DNMT3A",
          "DNMT3A",
          "DNMT3A",
          "DNMT3A",
          "DNMT3A",
          "DNMT3A",
          "DNMT3A",
          "DNMT3A",
          "DNMT3A",
          "DNMT3A",
          "DNMT3A",
          "DNMT3A",
          "DNMT3A",
          "DNMT3A",
          "DNMT3A",
          "DNMT3A",
          "DNMT3A",
          "DNMT3A",
          "DNMT3A",
          "DNMT3A",
          "DNMT3A",
          "DNMT3A",
          "DNMT3A",
          "DNMT3A",
          "DNMT3A",
          "DNMT3A",
          "DNMT3A",
          "DNMT3A",
          "DNMT3A",
          "DNMT3A",
          "DNMT3A",
          "DNMT3A",
          "DNMT3A",
          "DNMT3A",
          "DNMT3A",
          "DNMT3A",
          "DNMT3A",
          "DNMT3A",
          "DNMT3A",
          "DNMT3A",
          "DNMT3A",
          "DNMT3A",
          "DNMT3A",
          "DNMT3A",
          "DNMT3A",
          "DNMT3A",
          "DNMT3A",
          "DNMT3A",
          "DNMT3A",
          "DNMT3A",
          "DNMT3A",
          "DNMT3A",
          "DNMT3A",
          "DNMT3A",
          "DNMT3A",
          "DNMT3A",
          "DNMT3A",
          "DNMT3A",
          "DNMT3A",
          "DNMT3A",
          "DNMT3A",
          "DNMT3A",
          "DNMT3A",
          "DNMT3A",
          "DNMT3A",
          "DNMT3A",
          "DNMT3A",
          "DNMT3A",
          "DNMT3A",
          "DNMT3A",
          "DNMT3A",
          "DNMT3A",
          "DNMT3A",
          "DNMT3A",
          "DNMT3A",
          "DNMT3A",
          "DNMT3A",
          "DNMT3A",
          "DNMT3A",
          "DNMT3A",
          "DNMT3A",
          "DNMT3A",
          "DNMT3A",
          "DNMT3A",
          "DNMT3A",
          "DNMT3A",
          "DNMT3A",
          "DNMT3A",
          "DNMT3A",
          "DNMT3A",
          "DNMT3A",
          "DNMT3A",
          "DNMT3A",
          "DNMT3A",
          "DNMT3A",
          "DNMT3A",
          "DNMT3A",
          "DNMT3A",
          "DNMT3A",
          "DNMT3A",
          "DNMT3A",
          "DNMT3A",
          "DNMT3A",
          "DNMT3A",
          "DNMT3A",
          "DNMT3A",
          "DNMT3A",
          "DNMT3A",
          "DNMT3A",
          "DNMT3A",
          "DNMT3A",
          "DNMT3A",
          "DNMT3A",
          "DNMT3A",
          "DNMT3A",
          "DNMT3A",
          "DNMT3A",
          "DNMT3A",
          "DNMT3A",
          "DNMT3A",
          "DNMT3A",
          "DNMT3A",
          "DNMT3A",
          "DNMT3A",
          "DNMT3A",
          "DNMT3A",
          "DNMT3A",
          "DNMT3A",
          "DNMT3A",
          "DNMT3A",
          "DNMT3A",
          "DNMT3A",
          "DNMT3A",
          "DNMT3A",
          "DNMT3A",
          "DNMT3A",
          "DNMT3A",
          "DNMT3A",
          "DNMT3A",
          "DNMT3A",
          "DNMT3A",
          "DNMT3A",
          "DNMT3A",
          "DNMT3A",
          "DNMT3A",
          "DNMT3A",
          "DNMT3A",
          "DNMT3A",
          "DNMT3A",
          "DNMT3A",
          "DNMT3A",
          "DNMT3A",
          "DNMT3A",
          "DNMT3A",
          "DNMT3A",
          "DNMT3A",
          "DNMT3A",
          "DNMT3A",
          "DNMT3A",
          "DNMT3A",
          "DNMT3A",
          "DNMT3A",
          "DNMT3A",
          "DNMT3A",
          "DNMT3A",
          "DNMT3A",
          "DNMT3A",
          "DNMT3A",
          "DNMT3A",
          "DNMT3A",
          "DNMT3A",
          "DNMT3A",
          "DNMT3A",
          "DNMT3A",
          "DNMT3A",
          "DNMT3A",
          "DNMT3A",
          "DNMT3A",
          "DNMT3A",
          "DNMT3A",
          "DNMT3A",
          "DNMT3A",
          "DNMT3A",
          "DNMT3A",
          "DNMT3A",
          "DNMT3A",
          "DNMT3A",
          "DNMT3A",
          "DNMT3A",
          "DNMT3A",
          "DNMT3A",
          "DNMT3A",
          "DNMT3A",
          "DNMT3A",
          "DNMT3A",
          "DNMT3A",
          "DNMT3A",
          "DNMT3A",
          "DNMT3A",
          "DNMT3A",
          "DNMT3A",
          "DNMT3A",
          "DNMT3A",
          "DNMT3A",
          "DNMT3A",
          "DNMT3A",
          "DNMT3A",
          "DNMT3A",
          "DNMT3A",
          "DNMT3A",
          "DNMT3A",
          "DNMT3A",
          "DNMT3A",
          "DNMT3A",
          "DNMT3A",
          "DNMT3A",
          "DNMT3A",
          "DNMT3A",
          "DNMT3A",
          "DNMT3A",
          "DNMT3A",
          "DNMT3A",
          "DNMT3A",
          "DNMT3A",
          "DNMT3A",
          "DNMT3A",
          "DNMT3A",
          "DNMT3A",
          "DNMT3A",
          "DNMT3A",
          "DNMT3A",
          "DNMT3A",
          "DNMT3A",
          "DNMT3A",
          "DNMT3A",
          "DNMT3A",
          "DNMT3A",
          "DNMT3A",
          "DNMT3A",
          "DNMT3A",
          "DNMT3A",
          "DNMT3A",
          "DNMT3A",
          "DNMT3A",
          "DNMT3A",
          "DNMT3A",
          "DNMT3A",
          "DNMT3A",
          "DNMT3A",
          "DNMT3A",
          "DNMT3A",
          "DNMT3A",
          "DNMT3A",
          "DNMT3A",
          "DNMT3A",
          "DNMT3A",
          "DNMT3A",
          "DNMT3A",
          "DNMT3A",
          "DNMT3A",
          "DNMT3A",
          "DNMT3A",
          "DNMT3A",
          "DNMT3A",
          "DNMT3A",
          "DNMT3A",
          "DNMT3A",
          "DNMT3A",
          "DNMT3A",
          "DNMT3A",
          "DNMT3A",
          "DNMT3A",
          "DNMT3A",
          "DNMT3A",
          "DNMT3A",
          "DNMT3A",
          "DNMT3A",
          "DNMT3A",
          "DNMT3A",
          "DNMT3A",
          "DNMT3A",
          "DNMT3A",
          "DNMT3A",
          "DNMT3A",
          "DNMT3A",
          "DNMT3A",
          "DNMT3A",
          "DNMT3A",
          "DNMT3A",
          "DNMT3A",
          "DNMT3A",
          "DNMT3A",
          "DNMT3A",
          "DNMT3A",
          "DNMT3A",
          "DNMT3A",
          "DNMT3A",
          "DNMT3A",
          "DNMT3A",
          "DNMT3A",
          "DNMT3A",
          "DNMT3A",
          "DNMT3A",
          "DNMT3A",
          "DNMT3A",
          "DNMT3A",
          "DNMT3A",
          "DNMT3A",
          "DNMT3A",
          "DNMT3A",
          "DNMT3A",
          "DNMT3A",
          "DNMT3A",
          "DNMT3A",
          "DNMT3A",
          "DNMT3A",
          "DNMT3A",
          "DNMT3A",
          "DNMT3A",
          "DNMT3A",
          "DNMT3A",
          "DNMT3A",
          "DNMT3A",
          "DNMT3A",
          "DNMT3A",
          "DNMT3A",
          "DNMT3A",
          "DNMT3A",
          "DNMT3A",
          "DNMT3A",
          "DNMT3A",
          "DNMT3A",
          "DNMT3A",
          "DNMT3A",
          "DNMT3A",
          "DNMT3A",
          "DNMT3A",
          "DNMT3A",
          "DNMT3A",
          "DNMT3A",
          "DNMT3A",
          "DNMT3A",
          "DNMT3A",
          "DNMT3A",
          "DNMT3A",
          "DNMT3A",
          "DNMT3A",
          "DNMT3A",
          "DNMT3A",
          "DNMT3A",
          "DNMT3A",
          "DNMT3A",
          "DNMT3A",
          "DNMT3A",
          "DNMT3A",
          "DNMT3A",
          "DNMT3A",
          "DNMT3A",
          "DNMT3A",
          "DNMT3A",
          "DNMT3A",
          "DNMT3A",
          "DNMT3A",
          "DNMT3A",
          "DNMT3A",
          "DNMT3A",
          "DNMT3A",
          "DNMT3A",
          "DNMT3A",
          "DNMT3A",
          "DNMT3A",
          "DNMT3A",
          "DNMT3A",
          "DNMT3A",
          "DNMT3A",
          "DNMT3A",
          "DNMT3A",
          "DNMT3A",
          "DNMT3A",
          "DNMT3A",
          "DNMT3A",
          "DNMT3A",
          "DNMT3A",
          "DNMT3A",
          "DNMT3A",
          "DNMT3A",
          "DNMT3A",
          "DNMT3A",
          "DNMT3A",
          "DNMT3A",
          "DNMT3A",
          "DNMT3A",
          "DNMT3A",
          "DNMT3A",
          "DNMT3A",
          "DNMT3A",
          "DNMT3A",
          "DNMT3A",
          "DNMT3A",
          "DNMT3A",
          "DNMT3A",
          "DNMT3A",
          "DNMT3A",
          "DNMT3A",
          "DNMT3A",
          "DNMT3A",
          "DNMT3A",
          "DNMT3A",
          "DNMT3A",
          "DNMT3A",
          "DNMT3A",
          "DNMT3A",
          "DNMT3A",
          "DNMT3A",
          "DNMT3A",
          "DNMT3A",
          "DNMT3A",
          "DNMT3A",
          "DNMT3A",
          "DNMT3A",
          "DNMT3A",
          "DNMT3A",
          "DNMT3A",
          "DNMT3A",
          "DNMT3A",
          "DNMT3A",
          "DNMT3A",
          "DNMT3A",
          "DNMT3A",
          "DNMT3A",
          "DNMT3A",
          "DNMT3A",
          "DNMT3A",
          "DNMT3A",
          "DNMT3A",
          "DNMT3A",
          "DNMT3A",
          "DNMT3A",
          "DNMT3A",
          "DNMT3A",
          "DNMT3A",
          "DNMT3A",
          "DNMT3A",
          "DNMT3A",
          "DNMT3A",
          "DNMT3A",
          "DNMT3A",
          "DNMT3A",
          "DNMT3A",
          "DNMT3A",
          "DNMT3A",
          "DNMT3A",
          "DNMT3A",
          "DNMT3A",
          "DNMT3A",
          "DNMT3A",
          "DNMT3A",
          "DNMT3A",
          "DNMT3A",
          "DNMT3A",
          "DNMT3A",
          "DNMT3A",
          "DNMT3A",
          "DNMT3A",
          "DNMT3A",
          "DNMT3A",
          "DNMT3A",
          "DNMT3A",
          "DNMT3A",
          "DNMT3A",
          "DNMT3A",
          "DNMT3A",
          "DNMT3A",
          "DNMT3A",
          "DNMT3A",
          "DNMT3A",
          "DNMT3A",
          "DNMT3A",
          "DNMT3A",
          "DNMT3A",
          "DNMT3A",
          "DNMT3A",
          "DNMT3A",
          "DNMT3A",
          "DNMT3A",
          "DNMT3A",
          "DNMT3A",
          "DNMT3A",
          "DNMT3A",
          "DNMT3A",
          "DNMT3A",
          "DNMT3A",
          "DNMT3A",
          "DNMT3A",
          "DNMT3A",
          "DNMT3A",
          "DNMT3A",
          "DNMT3A",
          "DNMT3A",
          "DNMT3A",
          "DNMT3A",
          "DNMT3A",
          "DNMT3A",
          "DNMT3A",
          "DNMT3A",
          "DNMT3A",
          "DNMT3A",
          "DNMT3A",
          "DNMT3A",
          "DNMT3A",
          "DNMT3A",
          "DNMT3A",
          "DNMT3A",
          "DNMT3A",
          "DNMT3A",
          "DNMT3A",
          "DNMT3A",
          "DNMT3A",
          "DNMT3A",
          "DNMT3A",
          "DNMT3A",
          "DNMT3A",
          "DNMT3A",
          "DNMT3A",
          "DNMT3A",
          "DNMT3A",
          "DNMT3A",
          "DNMT3A",
          "DNMT3A",
          "DNMT3A",
          "DNMT3A",
          "DNMT3A",
          "DNMT3A",
          "DNMT3A",
          "DNMT3A",
          "DNMT3A",
          "DNMT3A",
          "DNMT3A",
          "DNMT3A",
          "DNMT3A",
          "DNMT3A",
          "DNMT3A",
          "DNMT3A",
          "DNMT3A",
          "DNMT3A",
          "DNMT3A",
          "DNMT3A",
          "DNMT3A",
          "DNMT3A",
          "DNMT3A",
          "DNMT3A",
          "DNMT3A",
          "DNMT3A",
          "DNMT3A",
          "DNMT3A",
          "DNMT3A",
          "DNMT3A",
          "DNMT3A",
          "DNMT3A",
          "DNMT3A",
          "DNMT3A",
          "DNMT3A",
          "DNMT3A",
          "DNMT3A",
          "DNMT3A",
          "DNMT3A",
          "DNMT3A",
          "DNMT3A",
          "DNMT3A",
          "DNMT3A",
          "DNMT3A",
          "DNMT3A",
          "DNMT3A",
          "DNMT3A",
          "DNMT3A",
          "DNMT3A",
          "DNMT3A",
          "DNMT3A",
          "DNMT3A",
          "DNMT3A",
          "DNMT3A",
          "DNMT3A",
          "DNMT3A",
          "DNMT3A",
          "DNMT3A",
          "DNMT3A",
          "DNMT3A",
          "DNMT3A",
          "DNMT3A",
          "DNMT3A",
          "DNMT3A",
          "DNMT3A",
          "DNMT3A",
          "DNMT3A",
          "DNMT3A",
          "DNMT3A",
          "DNMT3A",
          "DNMT3A",
          "DNMT3A",
          "DNMT3A",
          "DNMT3A",
          "DNMT3A",
          "DNMT3A",
          "DNMT3A",
          "DNMT3A",
          "DNMT3A",
          "DNMT3A",
          "DNMT3A",
          "DNMT3A",
          "DNMT3A",
          "DNMT3A",
          "DNMT3A",
          "DNMT3A",
          "DNMT3A",
          "DNMT3A",
          "DNMT3A",
          "DNMT3A",
          "DNMT3A",
          "DNMT3A",
          "DNMT3A",
          "DNMT3A",
          "DNMT3A",
          "DNMT3A",
          "DNMT3A",
          "DNMT3A",
          "DNMT3A",
          "DNMT3A",
          "DNMT3A",
          "DNMT3A",
          "DNMT3A"
         ],
         "x0": " ",
         "xaxis": "x",
         "y": [
          0.0014666666666666667,
          null,
          -0.0012655697004379757,
          0.004734272207354932,
          null,
          -0.005266402946983834,
          0.006177647880328997,
          -0.00513841739578767,
          null,
          -0.0042049573917777895,
          -0.0008082903768654762,
          -0.0008660254037844387,
          null,
          0.0028867513459481286,
          -0.003117691453623979,
          null,
          -0.002041241452319315,
          null,
          0.16689190114162722,
          null,
          -0.0023671361036774656,
          null,
          -0.00023094010767585094,
          -0.0008082903768654753,
          null,
          -0.001962990915244728,
          0.000981495457622364,
          null,
          0.033925432937547025,
          null,
          0.0035218366420567177,
          null,
          -0.0035109352979892225,
          0.0034063665882187923,
          -0.0035795716689756797,
          null,
          -0.004214656965084269,
          null,
          -0.003796709101313927,
          0.002713546265191241,
          -0.002078460969082653,
          null,
          -0.0026944387170614965,
          0.0038105117766515308,
          -0.003290896534380867,
          null,
          -0.0033476359818036764,
          null,
          -0.004330127018922193,
          null,
          -0.0026944387170614956,
          0.001616580753730952,
          -0.002078460969082653,
          null,
          0.0010392304845413271,
          -0.001847520861406803,
          null,
          -0.0031435118365717458,
          0.0014433756729740643,
          null,
          0.00046188021535170084,
          -0.003464101615137755,
          null,
          0.0018371173070873853,
          null,
          0.02331097738548658,
          null,
          -0.0017554676489946114,
          -0.00046188021535170036,
          0.0005773502691896258,
          null,
          -0.006491147818375421,
          -0.0007756717518813398,
          null,
          -0.0024903145718295646,
          -0.0005196152422706636,
          0.00028867513459481317,
          null,
          -0.0013472193585307478,
          -0.002713546265191242,
          null,
          -0.001918766965180156,
          0.005715767664977295,
          -0.006119912853410033,
          null,
          -0.0028577380332470417,
          0.003983716857408418,
          -0.004792007234273895,
          null,
          0.004445597072760119,
          null,
          -0.0012655697004379757,
          null,
          0.003868246803570493,
          -0.0039837168574084186,
          null,
          -0.0008660254037844395,
          -0.00028867513459481214,
          null,
          -0.011675901107266483,
          0.003233161507461905,
          null,
          0.0031754264805429417,
          -0.004272391992003231,
          null,
          -0.002886751345948129,
          null,
          -0.007634243031674239,
          null,
          0.0017320508075688778,
          -0.0038105117766515308,
          null,
          0.005837950553633241,
          null,
          -0.002286190426597633,
          0.001385640646055102,
          0.00028867513459481317,
          null,
          0.0008573214099741126,
          0.006524058041842771,
          -0.004503332099679081,
          null,
          -0.004082482904638631,
          0.0012701705922171765,
          0.0016743157806499152,
          null,
          -0.0040416580755922435,
          0.0023094010767585028,
          -0.003117691453623979,
          null,
          0.0036373066958946426,
          -0.00178978583448784,
          null,
          0.0068177464507465126,
          0.0043878620458411574,
          null,
          -0.0034063665882187923,
          null,
          -0.0026944387170614965,
          -0.00046188021535170084,
          -5.773502691896223e-05,
          null,
          -0.0033068111527572905,
          null,
          -0.0017554676489946112,
          -0.005138417395787669,
          0.0009814954576223634,
          null,
          -0.0016743157806499147,
          0.0006928203230275508,
          null,
          -0.0045033320996790815,
          -0.00046188021535170036,
          null,
          -0.0022045407685048605,
          -0.0024903145718295646,
          null,
          -0.0015513435037626795,
          0.000750555349946514,
          -0.00028867513459481317,
          null,
          -0.0035218366420567172,
          -0.002482606157515391,
          null,
          -0.0004898979485566356,
          0.0018475208614068023,
          -0.0005196152422706631,
          null,
          -0.0009797958971132711,
          0.0027135462651912408,
          -0.00357957166897568,
          null,
          0.0039837168574084186,
          -0.004849742261192857,
          null,
          -0.005196152422706632,
          null,
          -0.016044157815229818,
          0.000692820323027551,
          null,
          -0.005138417395787668,
          0.0001732050807568877,
          null,
          0.0011430952132988163,
          0.000981495457622364,
          -0.00023094010767584993,
          null,
          0.0013472193585307478,
          -0.0010969655114602885,
          0.0008082903768654762,
          null,
          -0.0032331615074619045,
          null,
          -0.004286607049870561,
          null,
          -0.005348052605076606,
          0.006235382907247958,
          -0.006235382907247958,
          null,
          -0.001796292478040997,
          0.0028867513459481286,
          -0.003637306695894642,
          null,
          -0.0054297022631693784,
          0,
          -0.00011547005383792497,
          null,
          0.010981879013477918,
          -0.0026558112382722827,
          null,
          0.00881816307401944,
          0.01356773132595621,
          null,
          -0.002571964229922337,
          -0.001096965511460289,
          null,
          -0.001632993161855452,
          0.0005196152422706636,
          -0.0006928203230275518,
          null,
          0.0019052558883257656,
          null,
          0.003059956426705017,
          null,
          -0.0001732050807568877,
          0.004387862045841156,
          null,
          -0.0024,
          0.0019052558883257645,
          null,
          -0.0004490731195102495,
          -0.0023671361036774656,
          0.0006928203230275508,
          null,
          0.002886751345948129,
          null,
          0.0032659863237109047,
          null,
          -0.015472610208580408,
          0.003868246803570493,
          0.0049074772881118195,
          null,
          -0.0032251614946645184,
          0.0004490731195102495,
          null,
          -0.0012701705922171765,
          null,
          -0.0035,
          0.002193931022920578,
          null,
          -0.005433333333333334,
          0.003233161507461904,
          null,
          -0.0040999999999999995,
          null,
          0.0025980762113533163,
          -0.005196152422706633,
          null,
          -0.007634243031674239,
          -0.0022516660498395403,
          0.0032908965343808666,
          null,
          4.082482904638606e-05,
          -0.0019052558883257645,
          0.0006350852961085886,
          null,
          -0.0021637159394584738,
          -0.00023094010767585042,
          0.003117691453623979,
          null,
          -0.00265361388801511,
          0.0006350852961085886,
          0.000981495457622364,
          null,
          -0.005225578117937448,
          0.002078460969082653,
          0.00028867513459481317,
          null,
          0.0008981462390204985,
          0.0017897858344878407,
          0.0013279056191361383,
          null,
          -0.004676537180435969,
          0.00178978583448784,
          null,
          -0.004245782220824176,
          0.00023094010767585042,
          0.002193931022920578,
          null,
          0.003925981830489456,
          -0.0034641016151377548,
          null,
          0.002540341184434353,
          -0.001270170592217176,
          null,
          -0.006524058041842771,
          null,
          -0.0054297022631693784,
          -0.0005773502691896263,
          0.0011547005383792516,
          null,
          -0.0011430952132988163,
          0.0004041451884327381,
          0.0036373066958946426,
          null,
          0.0010392304845413263,
          -0.003233161507461904,
          null,
          0.0053116224765445575,
          -0.0018475208614068023,
          null,
          0.0028867513459481286,
          -0.0031754264805429417,
          null,
          -0.0010206207261596574,
          0.004330127018922194,
          -0.00311769145362398,
          null,
          -0.0005715476066494076,
          -0.001732050807568875,
          0.005369357503463517,
          null,
          -0.002735263546107883,
          0.0005773502691896256,
          -0.0010392304845413263,
          null,
          0.0005773502691896263,
          null,
          -0.0024903145718295646,
          0.005196152422706633,
          -0.0036950417228136046,
          null,
          -0.0017554676489946112,
          0.0031754264805429417,
          -0.0030599564267050163,
          null,
          -0.006164549186004332,
          0.0010969655114602885,
          -0.002482606157515391,
          null,
          -0.0016743157806499152,
          0.0029444863728670914,
          null,
          -0.0030599564267050163,
          0.0033486315612998294,
          null,
          -0.0006123724356957945,
          -0.00023094010767584993,
          0.005080682368868706,
          null,
          0.0032331615074619045,
          null,
          -0.0032659863237109047,
          -0.001674315780649915,
          0.0015011106998930272,
          null,
          -0.0011022703842524303,
          0.0017320508075688774,
          0.0005773502691896263,
          null,
          -0.002944486372867092,
          null,
          -0.005062278801751903,
          5.7735026918962734e-05,
          0.00046188021535170036,
          null,
          -0.004164132562731403,
          0.0014433756729740643,
          0.0009237604307034011,
          null,
          -0.002598076211353316,
          0,
          null,
          0.00783836717690617,
          0.004445597072760118,
          0.0005773502691896263,
          null,
          -0.004409081537009721,
          0.0038105117766515303,
          -0.0032908965343808666,
          null,
          0.0019595917942265427,
          -0.0021939310229205783,
          null,
          0.0022861904265976327,
          0.0008082903768654762,
          null,
          -0.003470110468942836,
          null,
          -0.006350852961085883,
          null,
          -0.004123307733685018,
          -0.002309401076758503,
          -0.0011547005383792527,
          null,
          0.0007348469228349532,
          -0.0006928203230275508,
          -5.773502691896223e-05,
          null,
          0.0037527767497325675,
          -0.0034063665882187923,
          null,
          0.0008660254037844375,
          -0.0024248711305964277,
          null,
          -0.002163715939458474,
          -0.0011547005383792516,
          -0.001270170592217177,
          null,
          -0.0015105186747162934,
          -0.0030599564267050168,
          null,
          -0.0027352635461078824,
          -0.0002449489742783178,
          null,
          0.0022516660498395403,
          null,
          0.0011430952132988168,
          -0.000981495457622364,
          null,
          -0.00583123771881522,
          0.0006123724356957946,
          -0.00023094010767585042,
          null,
          -0.0006350852961085875,
          -0.0028867513459481294,
          0,
          null,
          0.01206662062606318,
          0.025865292059695236,
          0.008602519010925423,
          0.012874911002928655,
          null,
          0.00046188021535169987,
          0.0008660254037844395,
          0.005196152422706633,
          null,
          0.0018475208614068023,
          -0.0024248711305964277,
          null,
          0.0018475208614068019,
          0.0013856406460551025,
          -0.0024248711305964285,
          null,
          0.0025980762113533163,
          -0.002771281292110204,
          null,
          0.0027135462651912408,
          null,
          0.0048497422611928674,
          0.007159143337951372,
          null,
          -0.008717989064763352,
          -0.010103629710818452,
          null,
          -0.0014433756729740658,
          -0.0008082903768654753,
          0.010854185060764963,
          null,
          -0.0010969655114602885,
          null,
          -0.00831384387633061,
          null,
          -0.0020207259421636922,
          null,
          0.0011547005383792527,
          null,
          0.01876388374866284,
          0.005196152422706637,
          0.009122134253196076,
          null,
          -0.0013856406460551025,
          0.0012701705922171771,
          -0.0010969655114602894,
          null,
          0.0003464101615137694,
          -0.006119912853410033,
          -0.00046188021535169786,
          null,
          0.0021361959960016154,
          -0.00046188021535170084,
          0.00011547005383792447,
          null,
          -0.0017320508075688778,
          0.001962990915244728,
          0.00046188021535170084,
          null,
          -0.003983716857408418,
          0.000750555349946513,
          0.0006350852961085886,
          null,
          0.03406366588218792,
          0.022401190444557482,
          0.040010373654841065,
          null,
          -0.0028290163190291665,
          5.773502691896223e-05,
          0.0011547005383792516,
          null,
          -0.012470765814495922,
          0.041915629543166834,
          0.021361959960016143,
          null,
          -0.0015588457268119781,
          0.00496521231503078,
          0.03591118674359471,
          null,
          0.002309401076758503,
          0.005773502691896259,
          null,
          0.00046188021535170084,
          0.0003464101615137754,
          null,
          0.037123622308892934,
          0.03850926295494806,
          null,
          -0.003233161507461903,
          0.004099186911246343,
          null,
          0.0029802125203861993,
          0.004272391992003231,
          null,
          0.0030599564267050168,
          null,
          -0.004531556024148881,
          -5.7735026918962734e-05,
          null,
          0.0005196152422706631,
          -0.004041451884327381,
          null,
          0.019860849260123152,
          0.025461146871262483,
          null,
          -0.0028290163190291665,
          -0.00028867513459481317,
          -0.0016743157806499152,
          null,
          0.007225994741210374,
          0.022227985363800613,
          null,
          0.0004082482904638631,
          0.0020784609690826525,
          null,
          0.004533333333333334,
          null,
          -0.0009237604307034007,
          0.0025311394008759504,
          0.0021939310229205787,
          null,
          -0.001616580753730952,
          0.0006350852961085882,
          0.004387862045841156,
          null,
          -0.0008660254037844387,
          0.0017897858344878398,
          0.002829016319029167,
          null,
          0.002309401076758503,
          -0.00023094010767584993,
          0.0013856406460551016,
          null,
          0.000750555349946514,
          -0.002367136103677466,
          -0.0016743157806499147,
          null,
          -0.0010969655114602885,
          0.0026558112382722788,
          -0.0030599564267050168,
          null,
          0.0009237604307034017,
          -0.0016743157806499147,
          0.005138417395787669,
          null,
          -5.773502691896223e-05,
          0.0016743157806499147,
          0.0013279056191361394,
          null,
          0.013279056191361396,
          0.027770547948021,
          0.011662475437630439,
          null,
          0.0033486315612998134,
          0.023382685902179866,
          0.0021361959960016046,
          null,
          -0.00011547005383792547,
          0.00011547005383792547,
          0.0016165807537309525,
          null,
          -0.0036950417228136046,
          0.0017320508075688774,
          0.0024826061575153914,
          null,
          0.004156921938165305,
          -0.004561067126598042,
          -0.003521836642056718,
          null,
          -0.002829016319029159,
          -0.0058889727457341915,
          -0.03169652977851046,
          null,
          -0.0012124355652982143,
          0.0038682468035704937,
          -0.0038105117766515308,
          null,
          -0.0016165807537309525,
          0.0006350852961085886,
          -0.000750555349946514,
          null,
          0.00669726312259966,
          null,
          -0.003983716857408418,
          0.0025980762113533163,
          -0.0019629909152447285,
          null,
          0.005484827557301446,
          null,
          5.773502691896223e-05,
          -0.00028867513459481214,
          0.0008660254037844385,
          null,
          -0.0035218366420567177,
          null,
          -0.005022947341949744,
          0.00017320508075688719,
          null,
          0.009757219549304677,
          -0.002193931022920581,
          null,
          0.0071591433379513646,
          0.011893415545306287,
          -0.006119912853410033,
          null,
          -0.00046188021535170057,
          0.0005773502691896258,
          0.005369357503463519,
          null,
          0.008256108849411636,
          0.013394526245199318,
          0.02297854071374711,
          null,
          0.00202072594216369,
          null,
          0.004156921938165306,
          null,
          0.009526279441628824,
          null,
          0.004156921938165306,
          null,
          0.0024248711305964285,
          null,
          0.005484827557301444,
          null
         ],
         "y0": " ",
         "yaxis": "y"
        },
        {
         "alignmentgroup": "True",
         "boxpoints": "all",
         "customdata": [
          [
           "ASXL1"
          ],
          [
           "ASXL1"
          ],
          [
           "ASXL1"
          ],
          [
           "ASXL1"
          ],
          [
           "ASXL1"
          ],
          [
           "ASXL1"
          ],
          [
           "ASXL1"
          ],
          [
           "ASXL1"
          ],
          [
           "ASXL1"
          ],
          [
           "ASXL1"
          ],
          [
           "ASXL1"
          ],
          [
           "ASXL1"
          ],
          [
           "ASXL1"
          ],
          [
           "ASXL1"
          ],
          [
           "ASXL1"
          ],
          [
           "ASXL1"
          ],
          [
           "ASXL1"
          ],
          [
           "ASXL1"
          ],
          [
           "ASXL1"
          ],
          [
           "ASXL1"
          ],
          [
           "ASXL1"
          ],
          [
           "ASXL1"
          ],
          [
           "ASXL1"
          ],
          [
           "ASXL1"
          ],
          [
           "ASXL1"
          ],
          [
           "ASXL1"
          ],
          [
           "ASXL1"
          ],
          [
           "ASXL1"
          ],
          [
           "ASXL1"
          ],
          [
           "ASXL1"
          ],
          [
           "ASXL1"
          ],
          [
           "ASXL1"
          ],
          [
           "ASXL1"
          ],
          [
           "ASXL1"
          ],
          [
           "ASXL1"
          ],
          [
           "ASXL1"
          ],
          [
           "ASXL1"
          ],
          [
           "ASXL1"
          ],
          [
           "ASXL1"
          ],
          [
           "ASXL1"
          ],
          [
           "ASXL1"
          ],
          [
           "ASXL1"
          ],
          [
           "ASXL1"
          ],
          [
           "ASXL1"
          ],
          [
           "ASXL1"
          ],
          [
           "ASXL1"
          ],
          [
           "ASXL1"
          ],
          [
           "ASXL1"
          ],
          [
           "ASXL1"
          ],
          [
           "ASXL1"
          ],
          [
           "ASXL1"
          ],
          [
           "ASXL1"
          ],
          [
           "ASXL1"
          ],
          [
           "ASXL1"
          ],
          [
           "ASXL1"
          ],
          [
           "ASXL1"
          ],
          [
           "ASXL1"
          ],
          [
           "ASXL1"
          ],
          [
           "ASXL1"
          ],
          [
           "ASXL1"
          ],
          [
           "ASXL1"
          ],
          [
           "ASXL1"
          ],
          [
           "ASXL1"
          ],
          [
           "ASXL1"
          ],
          [
           "ASXL1"
          ],
          [
           "ASXL1"
          ],
          [
           "ASXL1"
          ],
          [
           "ASXL1"
          ],
          [
           "ASXL1"
          ],
          [
           "ASXL1"
          ],
          [
           "ASXL1"
          ],
          [
           "ASXL1"
          ],
          [
           "ASXL1"
          ],
          [
           "ASXL1"
          ],
          [
           "ASXL1"
          ],
          [
           "ASXL1"
          ],
          [
           "ASXL1"
          ],
          [
           "ASXL1"
          ],
          [
           "ASXL1"
          ],
          [
           "ASXL1"
          ],
          [
           "ASXL1"
          ],
          [
           "ASXL1"
          ],
          [
           "ASXL1"
          ],
          [
           "ASXL1"
          ],
          [
           "ASXL1"
          ],
          [
           "ASXL1"
          ],
          [
           "ASXL1"
          ],
          [
           "ASXL1"
          ],
          [
           "ASXL1"
          ],
          [
           "ASXL1"
          ],
          [
           "ASXL1"
          ],
          [
           "ASXL1"
          ],
          [
           "ASXL1"
          ],
          [
           "ASXL1"
          ],
          [
           "ASXL1"
          ],
          [
           "ASXL1"
          ],
          [
           "ASXL1"
          ],
          [
           "ASXL1"
          ],
          [
           "ASXL1"
          ],
          [
           "ASXL1"
          ],
          [
           "ASXL1"
          ],
          [
           "ASXL1"
          ],
          [
           "ASXL1"
          ],
          [
           "ASXL1"
          ],
          [
           "ASXL1"
          ],
          [
           "ASXL1"
          ],
          [
           "ASXL1"
          ],
          [
           "ASXL1"
          ],
          [
           "ASXL1"
          ],
          [
           "ASXL1"
          ],
          [
           "ASXL1"
          ],
          [
           "ASXL1"
          ],
          [
           "ASXL1"
          ],
          [
           "ASXL1"
          ],
          [
           "ASXL1"
          ],
          [
           "ASXL1"
          ],
          [
           "ASXL1"
          ],
          [
           "ASXL1"
          ],
          [
           "ASXL1"
          ],
          [
           "ASXL1"
          ],
          [
           "ASXL1"
          ],
          [
           "ASXL1"
          ],
          [
           "ASXL1"
          ],
          [
           "ASXL1"
          ],
          [
           "ASXL1"
          ],
          [
           "ASXL1"
          ],
          [
           "ASXL1"
          ],
          [
           "ASXL1"
          ],
          [
           "ASXL1"
          ],
          [
           "ASXL1"
          ],
          [
           "ASXL1"
          ],
          [
           "ASXL1"
          ],
          [
           "ASXL1"
          ],
          [
           "ASXL1"
          ],
          [
           "ASXL1"
          ],
          [
           "ASXL1"
          ],
          [
           "ASXL1"
          ],
          [
           "ASXL1"
          ],
          [
           "ASXL1"
          ],
          [
           "ASXL1"
          ],
          [
           "ASXL1"
          ],
          [
           "ASXL1"
          ],
          [
           "ASXL1"
          ],
          [
           "ASXL1"
          ],
          [
           "ASXL1"
          ],
          [
           "ASXL1"
          ],
          [
           "ASXL1"
          ],
          [
           "ASXL1"
          ],
          [
           "ASXL1"
          ],
          [
           "ASXL1"
          ],
          [
           "ASXL1"
          ],
          [
           "ASXL1"
          ],
          [
           "ASXL1"
          ],
          [
           "ASXL1"
          ],
          [
           "ASXL1"
          ],
          [
           "ASXL1"
          ],
          [
           "ASXL1"
          ],
          [
           "ASXL1"
          ],
          [
           "ASXL1"
          ],
          [
           "ASXL1"
          ],
          [
           "ASXL1"
          ],
          [
           "ASXL1"
          ],
          [
           "ASXL1"
          ],
          [
           "ASXL1"
          ],
          [
           "ASXL1"
          ],
          [
           "ASXL1"
          ],
          [
           "ASXL1"
          ],
          [
           "ASXL1"
          ],
          [
           "ASXL1"
          ],
          [
           "ASXL1"
          ],
          [
           "ASXL1"
          ],
          [
           "ASXL1"
          ],
          [
           "ASXL1"
          ],
          [
           "ASXL1"
          ],
          [
           "ASXL1"
          ],
          [
           "ASXL1"
          ],
          [
           "ASXL1"
          ],
          [
           "ASXL1"
          ],
          [
           "ASXL1"
          ],
          [
           "ASXL1"
          ],
          [
           "ASXL1"
          ],
          [
           "ASXL1"
          ],
          [
           "ASXL1"
          ],
          [
           "ASXL1"
          ],
          [
           "ASXL1"
          ],
          [
           "ASXL1"
          ],
          [
           "ASXL1"
          ],
          [
           "ASXL1"
          ],
          [
           "ASXL1"
          ],
          [
           "ASXL1"
          ],
          [
           "ASXL1"
          ],
          [
           "ASXL1"
          ],
          [
           "ASXL1"
          ],
          [
           "ASXL1"
          ],
          [
           "ASXL1"
          ],
          [
           "ASXL1"
          ],
          [
           "ASXL1"
          ],
          [
           "ASXL1"
          ],
          [
           "ASXL1"
          ],
          [
           "ASXL1"
          ],
          [
           "ASXL1"
          ],
          [
           "ASXL1"
          ],
          [
           "ASXL1"
          ],
          [
           "ASXL1"
          ],
          [
           "ASXL1"
          ],
          [
           "ASXL1"
          ],
          [
           "ASXL1"
          ],
          [
           "ASXL1"
          ],
          [
           "ASXL1"
          ],
          [
           "ASXL1"
          ],
          [
           "ASXL1"
          ],
          [
           "ASXL1"
          ],
          [
           "ASXL1"
          ],
          [
           "ASXL1"
          ],
          [
           "ASXL1"
          ],
          [
           "ASXL1"
          ],
          [
           "ASXL1"
          ],
          [
           "ASXL1"
          ],
          [
           "ASXL1"
          ],
          [
           "ASXL1"
          ],
          [
           "ASXL1"
          ],
          [
           "ASXL1"
          ],
          [
           "ASXL1"
          ],
          [
           "ASXL1"
          ],
          [
           "ASXL1"
          ],
          [
           "ASXL1"
          ],
          [
           "ASXL1"
          ],
          [
           "ASXL1"
          ],
          [
           "ASXL1"
          ],
          [
           "ASXL1"
          ],
          [
           "ASXL1"
          ],
          [
           "ASXL1"
          ],
          [
           "ASXL1"
          ],
          [
           "ASXL1"
          ],
          [
           "ASXL1"
          ],
          [
           "ASXL1"
          ],
          [
           "ASXL1"
          ],
          [
           "ASXL1"
          ],
          [
           "ASXL1"
          ],
          [
           "ASXL1"
          ],
          [
           "ASXL1"
          ],
          [
           "ASXL1"
          ],
          [
           "ASXL1"
          ],
          [
           "ASXL1"
          ],
          [
           "ASXL1"
          ],
          [
           "ASXL1"
          ],
          [
           "ASXL1"
          ],
          [
           "ASXL1"
          ],
          [
           "ASXL1"
          ],
          [
           "ASXL1"
          ],
          [
           "ASXL1"
          ],
          [
           "ASXL1"
          ],
          [
           "ASXL1"
          ],
          [
           "ASXL1"
          ],
          [
           "ASXL1"
          ],
          [
           "ASXL1"
          ],
          [
           "ASXL1"
          ],
          [
           "ASXL1"
          ],
          [
           "ASXL1"
          ],
          [
           "ASXL1"
          ],
          [
           "ASXL1"
          ],
          [
           "ASXL1"
          ],
          [
           "ASXL1"
          ],
          [
           "ASXL1"
          ],
          [
           "ASXL1"
          ],
          [
           "ASXL1"
          ],
          [
           "ASXL1"
          ],
          [
           "ASXL1"
          ],
          [
           "ASXL1"
          ],
          [
           "ASXL1"
          ],
          [
           "ASXL1"
          ],
          [
           "ASXL1"
          ],
          [
           "ASXL1"
          ],
          [
           "ASXL1"
          ],
          [
           "ASXL1"
          ],
          [
           "ASXL1"
          ],
          [
           "ASXL1"
          ],
          [
           "ASXL1"
          ],
          [
           "ASXL1"
          ],
          [
           "ASXL1"
          ],
          [
           "ASXL1"
          ],
          [
           "ASXL1"
          ],
          [
           "ASXL1"
          ],
          [
           "ASXL1"
          ],
          [
           "ASXL1"
          ],
          [
           "ASXL1"
          ],
          [
           "ASXL1"
          ],
          [
           "ASXL1"
          ],
          [
           "ASXL1"
          ],
          [
           "ASXL1"
          ],
          [
           "ASXL1"
          ],
          [
           "ASXL1"
          ],
          [
           "ASXL1"
          ],
          [
           "ASXL1"
          ],
          [
           "ASXL1"
          ],
          [
           "ASXL1"
          ],
          [
           "ASXL1"
          ],
          [
           "ASXL1"
          ],
          [
           "ASXL1"
          ],
          [
           "ASXL1"
          ],
          [
           "ASXL1"
          ],
          [
           "ASXL1"
          ],
          [
           "ASXL1"
          ],
          [
           "ASXL1"
          ],
          [
           "ASXL1"
          ],
          [
           "ASXL1"
          ],
          [
           "ASXL1"
          ],
          [
           "ASXL1"
          ],
          [
           "ASXL1"
          ],
          [
           "ASXL1"
          ],
          [
           "ASXL1"
          ],
          [
           "ASXL1"
          ],
          [
           "ASXL1"
          ],
          [
           "ASXL1"
          ],
          [
           "ASXL1"
          ],
          [
           "ASXL1"
          ],
          [
           "ASXL1"
          ],
          [
           "ASXL1"
          ],
          [
           "ASXL1"
          ],
          [
           "ASXL1"
          ],
          [
           "ASXL1"
          ],
          [
           "ASXL1"
          ],
          [
           "ASXL1"
          ],
          [
           "ASXL1"
          ],
          [
           "ASXL1"
          ],
          [
           "ASXL1"
          ],
          [
           "ASXL1"
          ],
          [
           "ASXL1"
          ],
          [
           "ASXL1"
          ],
          [
           "ASXL1"
          ],
          [
           "ASXL1"
          ],
          [
           "ASXL1"
          ],
          [
           "ASXL1"
          ],
          [
           "ASXL1"
          ],
          [
           "ASXL1"
          ],
          [
           "ASXL1"
          ],
          [
           "ASXL1"
          ],
          [
           "ASXL1"
          ],
          [
           "ASXL1"
          ],
          [
           "ASXL1"
          ],
          [
           "ASXL1"
          ],
          [
           "ASXL1"
          ],
          [
           "ASXL1"
          ],
          [
           "ASXL1"
          ],
          [
           "ASXL1"
          ],
          [
           "ASXL1"
          ],
          [
           "ASXL1"
          ],
          [
           "ASXL1"
          ],
          [
           "ASXL1"
          ],
          [
           "ASXL1"
          ],
          [
           "ASXL1"
          ],
          [
           "ASXL1"
          ],
          [
           "ASXL1"
          ],
          [
           "ASXL1"
          ],
          [
           "ASXL1"
          ],
          [
           "ASXL1"
          ],
          [
           "ASXL1"
          ],
          [
           "ASXL1"
          ],
          [
           "ASXL1"
          ],
          [
           "ASXL1"
          ],
          [
           "ASXL1"
          ],
          [
           "ASXL1"
          ],
          [
           "ASXL1"
          ],
          [
           "ASXL1"
          ],
          [
           "ASXL1"
          ]
         ],
         "hoverlabel": {
          "namelength": 0
         },
         "hovertemplate": "<b>%{hovertext}</b><br><br>mutation=%{customdata[0]}<br>gradient=%{y}",
         "hovertext": [
          "LBC0031R",
          "LBC0031R",
          "LBC0031R",
          "LBC0031R",
          "LBC0031R",
          "LBC0031R",
          "LBC0031R",
          "LBC0031R",
          "LBC0031R",
          "LBC0031R",
          "LBC0031R",
          "LBC0031R",
          "LBC0031R",
          "LBC0031R",
          "LBC0031R",
          "LBC0031R",
          "LBC0031R",
          "LBC0031R",
          "LBC0031R",
          "LBC0031R",
          "LBC0031R",
          "LBC0046H",
          "LBC0046H",
          "LBC0046H",
          "LBC0046H",
          "LBC0046H",
          "LBC0046H",
          "LBC0046H",
          "LBC0065A",
          "LBC0065A",
          "LBC0065A",
          "LBC0065A",
          "LBC0065A",
          "LBC0065A",
          "LBC0065A",
          "LBC0065A",
          "LBC0065A",
          "LBC0065A",
          "LBC0065A",
          "LBC0065A",
          "LBC0102H",
          "LBC0102H",
          "LBC0102H",
          "LBC0102H",
          "LBC0102H",
          "LBC0102H",
          "LBC0102H",
          "LBC0102H",
          "LBC0118V",
          "LBC0118V",
          "LBC0118V",
          "LBC0118V",
          "LBC0118V",
          "LBC0118V",
          "LBC0118V",
          "LBC0118V",
          "LBC0118V",
          "LBC0118V",
          "LBC0118V",
          "LBC0144B",
          "LBC0144B",
          "LBC0144B",
          "LBC0144B",
          "LBC0144B",
          "LBC0144B",
          "LBC0152W",
          "LBC0152W",
          "LBC0152W",
          "LBC0165A",
          "LBC0165A",
          "LBC0165A",
          "LBC0176A",
          "LBC0176A",
          "LBC0176A",
          "LBC0176A",
          "LBC0176A",
          "LBC0176A",
          "LBC0176A",
          "LBC0220K",
          "LBC0220K",
          "LBC0220K",
          "LBC0220K",
          "LBC0220K",
          "LBC0220K",
          "LBC0220K",
          "LBC0220K",
          "LBC0220K",
          "LBC0220K",
          "LBC0220K",
          "LBC0220K",
          "LBC0220K",
          "LBC0220K",
          "LBC0220K",
          "LBC0220K",
          "LBC0220K",
          "LBC0220K",
          "LBC0220K",
          "LBC0242M",
          "LBC0242M",
          "LBC0242M",
          "LBC0242M",
          "LBC0242M",
          "LBC0242M",
          "LBC0242M",
          "LBC0242M",
          "LBC0242M",
          "LBC0263L",
          "LBC0263L",
          "LBC0263L",
          "LBC0263L",
          "LBC0284K",
          "LBC0284K",
          "LBC0284K",
          "LBC0284K",
          "LBC0284K",
          "LBC0284K",
          "LBC0284K",
          "LBC0284K",
          "LBC0373R",
          "LBC0373R",
          "LBC0392K",
          "LBC0392K",
          "LBC0392K",
          "LBC0392K",
          "LBC0392K",
          "LBC0392K",
          "LBC0392K",
          "LBC0392K",
          "LBC0405M",
          "LBC0405M",
          "LBC0405M",
          "LBC0405M",
          "LBC0405M",
          "LBC0405M",
          "LBC0405M",
          "LBC0405M",
          "LBC0405M",
          "LBC0405M",
          "LBC0405M",
          "LBC0405M",
          "LBC0429V",
          "LBC0429V",
          "LBC0429V",
          "LBC0429V",
          "LBC0429V",
          "LBC0429V",
          "LBC0429V",
          "LBC0429V",
          "LBC0429V",
          "LBC0429V",
          "LBC0429V",
          "LBC0429V",
          "LBC0439R",
          "LBC0439R",
          "LBC0439R",
          "LBC0439R",
          "LBC0439R",
          "LBC0439R",
          "LBC0461R",
          "LBC0461R",
          "LBC0461R",
          "LBC0461R",
          "LBC0461R",
          "LBC0461R",
          "LBC0461R",
          "LBC0461R",
          "LBC0461R",
          "LBC0461R",
          "LBC0461R",
          "LBC0464X",
          "LBC0464X",
          "LBC0464X",
          "LBC0464X",
          "LBC0464X",
          "LBC0464X",
          "LBC0464X",
          "LBC0464X",
          "LBC0471M",
          "LBC0471M",
          "LBC0471M",
          "LBC0471M",
          "LBC0471M",
          "LBC0471M",
          "LBC0471M",
          "LBC0471M",
          "LBC0517V",
          "LBC0517V",
          "LBC0517V",
          "LBC0517V",
          "LBC0520A",
          "LBC0520A",
          "LBC0520A",
          "LBC0520A",
          "LBC0520A",
          "LBC0520A",
          "LBC0520A",
          "LBC0520A",
          "LBC0520A",
          "LBC0520A",
          "LBC0520A",
          "LBC0520A",
          "LBC0520A",
          "LBC0520A",
          "LBC0520A",
          "LBC0520A",
          "LBC0520A",
          "LBC0520A",
          "LBC0588E",
          "LBC0588E",
          "LBC0588E",
          "LBC0588E",
          "LBC0588E",
          "LBC0588E",
          "LBC0588E",
          "LBC0588E",
          "LBC360008",
          "LBC360008",
          "LBC360008",
          "LBC360008",
          "LBC360008",
          "LBC360008",
          "LBC360008",
          "LBC360008",
          "LBC360008",
          "LBC360008",
          "LBC360008",
          "LBC360008",
          "LBC360008",
          "LBC360008",
          "LBC360008",
          "LBC360009",
          "LBC360009",
          "LBC360009",
          "LBC360009",
          "LBC360009",
          "LBC360009",
          "LBC360009",
          "LBC360009",
          "LBC360009",
          "LBC360009",
          "LBC360009",
          "LBC360009",
          "LBC360009",
          "LBC360009",
          "LBC360009",
          "LBC360104",
          "LBC360104",
          "LBC360104",
          "LBC360104",
          "LBC360104",
          "LBC360104",
          "LBC360104",
          "LBC360104",
          "LBC360790",
          "LBC360790",
          "LBC360790",
          "LBC360790",
          "LBC360790",
          "LBC360790",
          "LBC360843",
          "LBC360843",
          "LBC360843",
          "LBC360843",
          "LBC360843",
          "LBC360843",
          "LBC360843",
          "LBC360843",
          "LBC360843",
          "LBC360843",
          "LBC360843",
          "LBC360843",
          "LBC360898",
          "LBC360898",
          "LBC360898",
          "LBC360898",
          "LBC360898",
          "LBC360898",
          "LBC360898",
          "LBC360898",
          "LBC360908",
          "LBC360908",
          "LBC360908",
          "LBC360908",
          "LBC360908",
          "LBC360908",
          "LBC360908",
          "LBC360908",
          "LBC360914",
          "LBC360914",
          "LBC360914",
          "LBC360914",
          "LBC360914",
          "LBC360914",
          "LBC360914",
          "LBC360914",
          "LBC360914",
          "LBC360914",
          "LBC360914",
          "LBC360914",
          "LBC360919",
          "LBC360919",
          "LBC360919",
          "LBC360919",
          "LBC360919",
          "LBC360919",
          "LBC360919",
          "LBC360919",
          "LBC360919",
          "LBC360919",
          "LBC360919",
          "LBC360919",
          "LBC361006",
          "LBC361006",
          "LBC361006",
          "LBC361006",
          "LBC361006",
          "LBC361006",
          "LBC361006",
          "LBC361006",
          "LBC361096",
          "LBC361096",
          "LBC361096",
          "LBC361096",
          "LBC361096",
          "LBC361096",
          "LBC361096",
          "LBC361096",
          "LBC361096",
          "LBC361096",
          "LBC361096",
          "LBC361122",
          "LBC361122",
          "LBC361122",
          "LBC361122",
          "LBC361122",
          "LBC361122",
          "LBC361122",
          "LBC361122",
          "LBC361133",
          "LBC361133",
          "LBC361133",
          "LBC361133",
          "LBC361133",
          "LBC361133",
          "LBC361133",
          "LBC361133",
          "LBC361133",
          "LBC361172",
          "LBC361172",
          "LBC361172",
          "LBC361172",
          "LBC361172",
          "LBC361172",
          "LBC361214",
          "LBC361214",
          "LBC361214",
          "LBC361214",
          "LBC361225",
          "LBC361225",
          "LBC361225",
          "LBC361225",
          "LBC361225",
          "LBC361225",
          "LBC361225",
          "LBC361225"
         ],
         "legendgroup": "ASXL1",
         "marker": {
          "color": "#00cc96"
         },
         "name": "ASXL1",
         "notched": false,
         "offsetgroup": "ASXL1",
         "orientation": "v",
         "showlegend": true,
         "type": "box",
         "x": [
          "ASXL1",
          "ASXL1",
          "ASXL1",
          "ASXL1",
          "ASXL1",
          "ASXL1",
          "ASXL1",
          "ASXL1",
          "ASXL1",
          "ASXL1",
          "ASXL1",
          "ASXL1",
          "ASXL1",
          "ASXL1",
          "ASXL1",
          "ASXL1",
          "ASXL1",
          "ASXL1",
          "ASXL1",
          "ASXL1",
          "ASXL1",
          "ASXL1",
          "ASXL1",
          "ASXL1",
          "ASXL1",
          "ASXL1",
          "ASXL1",
          "ASXL1",
          "ASXL1",
          "ASXL1",
          "ASXL1",
          "ASXL1",
          "ASXL1",
          "ASXL1",
          "ASXL1",
          "ASXL1",
          "ASXL1",
          "ASXL1",
          "ASXL1",
          "ASXL1",
          "ASXL1",
          "ASXL1",
          "ASXL1",
          "ASXL1",
          "ASXL1",
          "ASXL1",
          "ASXL1",
          "ASXL1",
          "ASXL1",
          "ASXL1",
          "ASXL1",
          "ASXL1",
          "ASXL1",
          "ASXL1",
          "ASXL1",
          "ASXL1",
          "ASXL1",
          "ASXL1",
          "ASXL1",
          "ASXL1",
          "ASXL1",
          "ASXL1",
          "ASXL1",
          "ASXL1",
          "ASXL1",
          "ASXL1",
          "ASXL1",
          "ASXL1",
          "ASXL1",
          "ASXL1",
          "ASXL1",
          "ASXL1",
          "ASXL1",
          "ASXL1",
          "ASXL1",
          "ASXL1",
          "ASXL1",
          "ASXL1",
          "ASXL1",
          "ASXL1",
          "ASXL1",
          "ASXL1",
          "ASXL1",
          "ASXL1",
          "ASXL1",
          "ASXL1",
          "ASXL1",
          "ASXL1",
          "ASXL1",
          "ASXL1",
          "ASXL1",
          "ASXL1",
          "ASXL1",
          "ASXL1",
          "ASXL1",
          "ASXL1",
          "ASXL1",
          "ASXL1",
          "ASXL1",
          "ASXL1",
          "ASXL1",
          "ASXL1",
          "ASXL1",
          "ASXL1",
          "ASXL1",
          "ASXL1",
          "ASXL1",
          "ASXL1",
          "ASXL1",
          "ASXL1",
          "ASXL1",
          "ASXL1",
          "ASXL1",
          "ASXL1",
          "ASXL1",
          "ASXL1",
          "ASXL1",
          "ASXL1",
          "ASXL1",
          "ASXL1",
          "ASXL1",
          "ASXL1",
          "ASXL1",
          "ASXL1",
          "ASXL1",
          "ASXL1",
          "ASXL1",
          "ASXL1",
          "ASXL1",
          "ASXL1",
          "ASXL1",
          "ASXL1",
          "ASXL1",
          "ASXL1",
          "ASXL1",
          "ASXL1",
          "ASXL1",
          "ASXL1",
          "ASXL1",
          "ASXL1",
          "ASXL1",
          "ASXL1",
          "ASXL1",
          "ASXL1",
          "ASXL1",
          "ASXL1",
          "ASXL1",
          "ASXL1",
          "ASXL1",
          "ASXL1",
          "ASXL1",
          "ASXL1",
          "ASXL1",
          "ASXL1",
          "ASXL1",
          "ASXL1",
          "ASXL1",
          "ASXL1",
          "ASXL1",
          "ASXL1",
          "ASXL1",
          "ASXL1",
          "ASXL1",
          "ASXL1",
          "ASXL1",
          "ASXL1",
          "ASXL1",
          "ASXL1",
          "ASXL1",
          "ASXL1",
          "ASXL1",
          "ASXL1",
          "ASXL1",
          "ASXL1",
          "ASXL1",
          "ASXL1",
          "ASXL1",
          "ASXL1",
          "ASXL1",
          "ASXL1",
          "ASXL1",
          "ASXL1",
          "ASXL1",
          "ASXL1",
          "ASXL1",
          "ASXL1",
          "ASXL1",
          "ASXL1",
          "ASXL1",
          "ASXL1",
          "ASXL1",
          "ASXL1",
          "ASXL1",
          "ASXL1",
          "ASXL1",
          "ASXL1",
          "ASXL1",
          "ASXL1",
          "ASXL1",
          "ASXL1",
          "ASXL1",
          "ASXL1",
          "ASXL1",
          "ASXL1",
          "ASXL1",
          "ASXL1",
          "ASXL1",
          "ASXL1",
          "ASXL1",
          "ASXL1",
          "ASXL1",
          "ASXL1",
          "ASXL1",
          "ASXL1",
          "ASXL1",
          "ASXL1",
          "ASXL1",
          "ASXL1",
          "ASXL1",
          "ASXL1",
          "ASXL1",
          "ASXL1",
          "ASXL1",
          "ASXL1",
          "ASXL1",
          "ASXL1",
          "ASXL1",
          "ASXL1",
          "ASXL1",
          "ASXL1",
          "ASXL1",
          "ASXL1",
          "ASXL1",
          "ASXL1",
          "ASXL1",
          "ASXL1",
          "ASXL1",
          "ASXL1",
          "ASXL1",
          "ASXL1",
          "ASXL1",
          "ASXL1",
          "ASXL1",
          "ASXL1",
          "ASXL1",
          "ASXL1",
          "ASXL1",
          "ASXL1",
          "ASXL1",
          "ASXL1",
          "ASXL1",
          "ASXL1",
          "ASXL1",
          "ASXL1",
          "ASXL1",
          "ASXL1",
          "ASXL1",
          "ASXL1",
          "ASXL1",
          "ASXL1",
          "ASXL1",
          "ASXL1",
          "ASXL1",
          "ASXL1",
          "ASXL1",
          "ASXL1",
          "ASXL1",
          "ASXL1",
          "ASXL1",
          "ASXL1",
          "ASXL1",
          "ASXL1",
          "ASXL1",
          "ASXL1",
          "ASXL1",
          "ASXL1",
          "ASXL1",
          "ASXL1",
          "ASXL1",
          "ASXL1",
          "ASXL1",
          "ASXL1",
          "ASXL1",
          "ASXL1",
          "ASXL1",
          "ASXL1",
          "ASXL1",
          "ASXL1",
          "ASXL1",
          "ASXL1",
          "ASXL1",
          "ASXL1",
          "ASXL1",
          "ASXL1",
          "ASXL1",
          "ASXL1",
          "ASXL1",
          "ASXL1",
          "ASXL1",
          "ASXL1",
          "ASXL1",
          "ASXL1",
          "ASXL1",
          "ASXL1",
          "ASXL1",
          "ASXL1",
          "ASXL1",
          "ASXL1",
          "ASXL1",
          "ASXL1",
          "ASXL1",
          "ASXL1",
          "ASXL1",
          "ASXL1",
          "ASXL1",
          "ASXL1",
          "ASXL1",
          "ASXL1",
          "ASXL1",
          "ASXL1",
          "ASXL1",
          "ASXL1",
          "ASXL1",
          "ASXL1",
          "ASXL1",
          "ASXL1",
          "ASXL1",
          "ASXL1",
          "ASXL1",
          "ASXL1",
          "ASXL1",
          "ASXL1",
          "ASXL1",
          "ASXL1",
          "ASXL1",
          "ASXL1",
          "ASXL1",
          "ASXL1",
          "ASXL1",
          "ASXL1",
          "ASXL1",
          "ASXL1",
          "ASXL1",
          "ASXL1",
          "ASXL1",
          "ASXL1",
          "ASXL1",
          "ASXL1",
          "ASXL1",
          "ASXL1",
          "ASXL1",
          "ASXL1",
          "ASXL1",
          "ASXL1",
          "ASXL1",
          "ASXL1",
          "ASXL1",
          "ASXL1",
          "ASXL1",
          "ASXL1",
          "ASXL1",
          "ASXL1",
          "ASXL1",
          "ASXL1",
          "ASXL1"
         ],
         "x0": " ",
         "xaxis": "x",
         "y": [
          -0.003674234614174768,
          0.0002886751345948129,
          0.0004041451884327381,
          null,
          -0.0028867513459481294,
          -0.0030599564267050163,
          null,
          -0.002166666666666666,
          -0.0020207259421636905,
          null,
          0.0008981462390204985,
          -0.0011547005383792516,
          0.004618802153517006,
          null,
          -0.0011430952132988168,
          -0.0021361959960016154,
          null,
          -0.0029802125203862,
          0.001212435565298214,
          -0.0013856406460551018,
          null,
          0.0023678400846904057,
          -0.0035218366420567172,
          0.00178978583448784,
          null,
          0.0016743157806499147,
          -0.002540341184434353,
          null,
          -0.0027352635461078824,
          0.004272391992003231,
          -0.003637306695894643,
          null,
          -0.0028577380332470413,
          0.0014433756729740643,
          -0.0001732050807568877,
          null,
          -0.0026944387170614965,
          0.0029444863728670914,
          -0.0026558112382722783,
          null,
          -0.007552593373581465,
          -0.0034063665882187928,
          -0.0006350852961085886,
          null,
          -0.0006940220937885673,
          0.0009237604307034011,
          0.002424871130596428,
          null,
          -0.0004490731195102495,
          0.0035218366420567177,
          -0.005600297611139371,
          null,
          -0.0028169132042006554,
          0.004330127018922194,
          -0.0031176914536239797,
          null,
          0.006293117934166921,
          0.004676537180435969,
          null,
          -0.009930424630061564,
          null,
          -0.0017962924780409975,
          0.0015011106998930276,
          -0.001847520861406803,
          null,
          -0.0030618621784789728,
          0.0013279056191361394,
          null,
          -0.0038783587594066996,
          -0.003983716857408416,
          null,
          -0.0035109352979892225,
          -0.0006531972647421809,
          null,
          0.008409914783555579,
          0.015011106998930272,
          0.005196152422706633,
          null,
          0.0038105117766515303,
          null,
          -0.00375588427226754,
          null,
          0.0008573214099741124,
          0.004618802153517006,
          -0.004330127018922194,
          null,
          9.999999999999998e-05,
          -0.004041451884327381,
          null,
          -0.0033476359818036764,
          0.00028867513459481317,
          0,
          null,
          0.004445597072760118,
          null,
          -0.0035218366420567177,
          null,
          -0.0019666666666666665,
          0.0004041451884327381,
          null,
          5.7735026918962734e-05,
          0.002367136103677466,
          null,
          0.0016333333333333332,
          -0.0030599564267050168,
          null,
          -0.002122891110412088,
          0.0016165807537309525,
          0.001270170592217176,
          null,
          -0.0014696938456699065,
          0.002482606157515391,
          -0.0034641016151377548,
          null,
          -0.0019187669651801564,
          0.003117691453623979,
          -0.00202072594216369,
          null,
          0.002531139400875951,
          null,
          0.00032659863237109043,
          -0.0001732050807568877,
          0.004561067126598044,
          null,
          -0.0006531972647421812,
          -0.0010392304845413263,
          0.0031176914536239797,
          null,
          -0.0023678400846904057,
          0.00011547005383792547,
          -0.0008082903768654762,
          null,
          -0.0033476359818036764,
          null,
          -0.002309401076758503,
          null,
          -0.002245365597551247,
          0.000981495457622364,
          -0.0001732050807568877,
          null,
          -0.0024903145718295646,
          -0.0008082903768654762,
          -0.00023094010767585042,
          null,
          -0.00232701525564402,
          -5.773502691896223e-05,
          0.0008082903768654757,
          null,
          -0.0010206207261596579,
          -0.001732050807568877,
          -0.0003464101615137759,
          null,
          -0.0021,
          null,
          -0.002571964229922337,
          0.0021361959960016154,
          -0.0008082903768654762,
          null,
          0.005138417395787669,
          -0.0034641016151377548,
          null,
          0.0012655697004379757,
          0.0017897858344878396,
          0,
          null,
          0.0024086649137367924,
          -0.003290896534380868,
          0.0001732050807568877,
          null,
          -0.0017146428199482251,
          0.002540341184434353,
          0.0005196152422706641,
          null,
          -0.0006940220937885673,
          -0.001962990915244728,
          0.0016743157806499147,
          null,
          -0.00020412414523193135,
          0.0030599564267050168,
          -0.0040991869112463435,
          null,
          0.0005715476066494076,
          0.002771281292110204,
          -0.0014433756729740647,
          null,
          -0.0001224744871391589,
          -0.001501110699893027,
          0,
          null,
          0.0038783587594066987,
          -0.005080682368868708,
          0.001501110699893027,
          null,
          -0.0020004166232729294,
          0.0008082903768654757,
          0.0031754264805429425,
          null,
          -0.0014666666666666667,
          null,
          -0.002694438717061496,
          -0.0001732050807568882,
          -0.00040414518843273764,
          null,
          0.0012655697004379752,
          0.0018475208614068023,
          -0.0025980762113533154,
          null,
          0.001183920042345203,
          0.0014433756729740638,
          0.0031176914536239805,
          null,
          -0.0008573214099741129,
          0.002251666049839541,
          -5.773502691896223e-05,
          null,
          -0.0010392304845413263,
          0.003059956426705017,
          -0.0039837168574084186,
          -0.0010969655114602891,
          null,
          0.0027712812921102037,
          -0.0015588457268119892,
          0.0024248711305964277,
          -0.0024248711305964277,
          null,
          -0.0014433756729740643,
          0.0008082903768654768,
          0.00023094010767584993,
          0.0018475208614068023,
          null,
          -0.0020784609690826534,
          0.0018475208614068023,
          0.001212435565298215,
          0.0021361959960016145,
          null,
          -0.0003464101615137754,
          0.0010392304845413263,
          0.003290896534380867,
          -0.004214656965084268,
          null,
          0.0010969655114602894,
          -0.0025980762113533163,
          0.0026558112382722788,
          -0.0019052558883257645,
          null,
          0.006870468203356545,
          0.017089567968012923,
          -0.0020784609690826525,
          null,
          0.0018475208614068034,
          -0.0013856406460551025,
          0.00404145188432738,
          null,
          0.0014696938456699074,
          -0.0014433756729740647,
          null,
          8.164965809277212e-05,
          -0.00202072594216369,
          null,
          -0.002078460969082653,
          -0.0008981462390204985,
          -0.000981495457622364,
          null,
          0,
          0.0015921683328090658,
          0.0023671361036774656,
          null,
          0.002771281292110204,
          -0.0026127890589687235,
          0.004330127018922194,
          null,
          -0.003233161507461904,
          -0.004272391992003231,
          0.002309401076758503,
          null,
          -0.0018475208614068023,
          0.003752776749732567,
          -0.0026558112382722775,
          null,
          0.002771281292110204,
          -0.0020784609690826534,
          0.0030599564267050163,
          null,
          0.0006350852961085886,
          -0.002540341184434353,
          0.004965212315030782,
          null,
          0.0019052558883257656,
          0.00225166604983954,
          -0.0028867513459481286,
          null,
          0.001962990915244728,
          -0.0019052558883257656,
          -0.0001732050807568877,
          null,
          0.002309401076758503,
          -0.0013856406460551016,
          0.0001732050807568877,
          null,
          -0.003002221399786054,
          -0.0018475208614068027,
          0.0027135462651912408,
          null,
          0.004734272207354933,
          -0.006985938257194473,
          0.002482606157515391,
          null,
          -0.000750555349946513,
          -0.0016165807537309525,
          0.0006928203230275508,
          null,
          -0.00404145188432738,
          0.0066395280956806964,
          -0.007563288526384098,
          null,
          -0.001962990915244728,
          0.000750555349946514,
          0.0011547005383792516,
          null,
          -0.005022947341949744,
          null,
          -0.007563288526384098,
          -0.0003464101615137755,
          null,
          0.0016743157806499147,
          -0.000898146239020499,
          null,
          -0.0009237604307034017,
          -0.0004898979485566356,
          null,
          0.002598076211353316,
          0.0017320508075688778,
          -0.002193931022920578,
          null,
          0.0008082903768654762,
          0.0017897858344878392,
          -0.0035218366420567172,
          null,
          0.004676537180435969,
          -0.004734272207354931,
          null,
          -0.0024826061575153914,
          0.0032908965343808666,
          null,
          -0.0008660254037844385,
          -0.003695041722813606,
          null,
          0.0013279056191361394,
          -0.0005773502691896254,
          null,
          -0.001270170592217176,
          0.002309401076758503,
          null,
          0.0008660254037844395,
          -5.773502691896323e-05,
          0.0026558112382722788,
          null,
          -0.0019629909152447268,
          -0.0019052558883257656,
          0.002251666049839541,
          null,
          0.0013856406460551016,
          0.0028290163190291665,
          0.0004618802153517019,
          null
         ],
         "y0": " ",
         "yaxis": "y"
        },
        {
         "alignmentgroup": "True",
         "boxpoints": "all",
         "customdata": [
          [
           "JAK2"
          ],
          [
           "JAK2"
          ],
          [
           "JAK2"
          ],
          [
           "JAK2"
          ],
          [
           "JAK2"
          ],
          [
           "JAK2"
          ],
          [
           "JAK2"
          ],
          [
           "JAK2"
          ],
          [
           "JAK2"
          ],
          [
           "JAK2"
          ],
          [
           "JAK2"
          ],
          [
           "JAK2"
          ],
          [
           "JAK2"
          ],
          [
           "JAK2"
          ],
          [
           "JAK2"
          ],
          [
           "JAK2"
          ],
          [
           "JAK2"
          ],
          [
           "JAK2"
          ],
          [
           "JAK2"
          ],
          [
           "JAK2"
          ],
          [
           "JAK2"
          ],
          [
           "JAK2"
          ],
          [
           "JAK2"
          ],
          [
           "JAK2"
          ],
          [
           "JAK2"
          ],
          [
           "JAK2"
          ],
          [
           "JAK2"
          ],
          [
           "JAK2"
          ],
          [
           "JAK2"
          ],
          [
           "JAK2"
          ],
          [
           "JAK2"
          ]
         ],
         "hoverlabel": {
          "namelength": 0
         },
         "hovertemplate": "<b>%{hovertext}</b><br><br>mutation=%{customdata[0]}<br>gradient=%{y}",
         "hovertext": [
          "LBC0040V",
          "LBC0040V",
          "LBC0111B",
          "LBC0111B",
          "LBC0111B",
          "LBC360021",
          "LBC360021",
          "LBC360021",
          "LBC360021",
          "LBC360109",
          "LBC360109",
          "LBC360109",
          "LBC360109",
          "LBC360291",
          "LBC360291",
          "LBC360291",
          "LBC360636",
          "LBC360636",
          "LBC360636",
          "LBC360702",
          "LBC360702",
          "LBC360702",
          "LBC360702",
          "LBC360725",
          "LBC360725",
          "LBC360725",
          "LBC360725",
          "LBC361096",
          "LBC361096",
          "LBC361096",
          "LBC361096"
         ],
         "legendgroup": "JAK2",
         "marker": {
          "color": "#ab63fa"
         },
         "name": "JAK2",
         "notched": false,
         "offsetgroup": "JAK2",
         "orientation": "v",
         "showlegend": true,
         "type": "box",
         "x": [
          "JAK2",
          "JAK2",
          "JAK2",
          "JAK2",
          "JAK2",
          "JAK2",
          "JAK2",
          "JAK2",
          "JAK2",
          "JAK2",
          "JAK2",
          "JAK2",
          "JAK2",
          "JAK2",
          "JAK2",
          "JAK2",
          "JAK2",
          "JAK2",
          "JAK2",
          "JAK2",
          "JAK2",
          "JAK2",
          "JAK2",
          "JAK2",
          "JAK2",
          "JAK2",
          "JAK2",
          "JAK2",
          "JAK2",
          "JAK2",
          "JAK2"
         ],
         "x0": " ",
         "xaxis": "x",
         "y": [
          0.32921142143005916,
          null,
          0.05009206523991599,
          0.006235382907247977,
          null,
          0.09918877624677772,
          0.10842638055381171,
          -0.08521689973238875,
          null,
          0.038971143170299746,
          0.0359689217705137,
          -0.006928203230275516,
          null,
          0.0011547005383792516,
          0.00046188021535170084,
          null,
          0.01668542277958019,
          -0.010911920087683932,
          null,
          0.051846054173228406,
          0.031234649563158745,
          0.007621023553303055,
          null,
          0.1812302494986235,
          -0.1678934582803432,
          0.12597782873717636,
          null,
          0.00583123771881522,
          null,
          -0.00560029761113937,
          null
         ],
         "y0": " ",
         "yaxis": "y"
        }
       ],
       "layout": {
        "boxmode": "group",
        "legend": {
         "title": {
          "text": "mutation"
         },
         "tracegroupgap": 0
        },
        "margin": {
         "t": 60
        },
        "template": {
         "data": {
          "bar": [
           {
            "error_x": {
             "color": "#2a3f5f"
            },
            "error_y": {
             "color": "#2a3f5f"
            },
            "marker": {
             "line": {
              "color": "#E5ECF6",
              "width": 0.5
             }
            },
            "type": "bar"
           }
          ],
          "barpolar": [
           {
            "marker": {
             "line": {
              "color": "#E5ECF6",
              "width": 0.5
             }
            },
            "type": "barpolar"
           }
          ],
          "carpet": [
           {
            "aaxis": {
             "endlinecolor": "#2a3f5f",
             "gridcolor": "white",
             "linecolor": "white",
             "minorgridcolor": "white",
             "startlinecolor": "#2a3f5f"
            },
            "baxis": {
             "endlinecolor": "#2a3f5f",
             "gridcolor": "white",
             "linecolor": "white",
             "minorgridcolor": "white",
             "startlinecolor": "#2a3f5f"
            },
            "type": "carpet"
           }
          ],
          "choropleth": [
           {
            "colorbar": {
             "outlinewidth": 0,
             "ticks": ""
            },
            "type": "choropleth"
           }
          ],
          "contour": [
           {
            "colorbar": {
             "outlinewidth": 0,
             "ticks": ""
            },
            "colorscale": [
             [
              0,
              "#0d0887"
             ],
             [
              0.1111111111111111,
              "#46039f"
             ],
             [
              0.2222222222222222,
              "#7201a8"
             ],
             [
              0.3333333333333333,
              "#9c179e"
             ],
             [
              0.4444444444444444,
              "#bd3786"
             ],
             [
              0.5555555555555556,
              "#d8576b"
             ],
             [
              0.6666666666666666,
              "#ed7953"
             ],
             [
              0.7777777777777778,
              "#fb9f3a"
             ],
             [
              0.8888888888888888,
              "#fdca26"
             ],
             [
              1,
              "#f0f921"
             ]
            ],
            "type": "contour"
           }
          ],
          "contourcarpet": [
           {
            "colorbar": {
             "outlinewidth": 0,
             "ticks": ""
            },
            "type": "contourcarpet"
           }
          ],
          "heatmap": [
           {
            "colorbar": {
             "outlinewidth": 0,
             "ticks": ""
            },
            "colorscale": [
             [
              0,
              "#0d0887"
             ],
             [
              0.1111111111111111,
              "#46039f"
             ],
             [
              0.2222222222222222,
              "#7201a8"
             ],
             [
              0.3333333333333333,
              "#9c179e"
             ],
             [
              0.4444444444444444,
              "#bd3786"
             ],
             [
              0.5555555555555556,
              "#d8576b"
             ],
             [
              0.6666666666666666,
              "#ed7953"
             ],
             [
              0.7777777777777778,
              "#fb9f3a"
             ],
             [
              0.8888888888888888,
              "#fdca26"
             ],
             [
              1,
              "#f0f921"
             ]
            ],
            "type": "heatmap"
           }
          ],
          "heatmapgl": [
           {
            "colorbar": {
             "outlinewidth": 0,
             "ticks": ""
            },
            "colorscale": [
             [
              0,
              "#0d0887"
             ],
             [
              0.1111111111111111,
              "#46039f"
             ],
             [
              0.2222222222222222,
              "#7201a8"
             ],
             [
              0.3333333333333333,
              "#9c179e"
             ],
             [
              0.4444444444444444,
              "#bd3786"
             ],
             [
              0.5555555555555556,
              "#d8576b"
             ],
             [
              0.6666666666666666,
              "#ed7953"
             ],
             [
              0.7777777777777778,
              "#fb9f3a"
             ],
             [
              0.8888888888888888,
              "#fdca26"
             ],
             [
              1,
              "#f0f921"
             ]
            ],
            "type": "heatmapgl"
           }
          ],
          "histogram": [
           {
            "marker": {
             "colorbar": {
              "outlinewidth": 0,
              "ticks": ""
             }
            },
            "type": "histogram"
           }
          ],
          "histogram2d": [
           {
            "colorbar": {
             "outlinewidth": 0,
             "ticks": ""
            },
            "colorscale": [
             [
              0,
              "#0d0887"
             ],
             [
              0.1111111111111111,
              "#46039f"
             ],
             [
              0.2222222222222222,
              "#7201a8"
             ],
             [
              0.3333333333333333,
              "#9c179e"
             ],
             [
              0.4444444444444444,
              "#bd3786"
             ],
             [
              0.5555555555555556,
              "#d8576b"
             ],
             [
              0.6666666666666666,
              "#ed7953"
             ],
             [
              0.7777777777777778,
              "#fb9f3a"
             ],
             [
              0.8888888888888888,
              "#fdca26"
             ],
             [
              1,
              "#f0f921"
             ]
            ],
            "type": "histogram2d"
           }
          ],
          "histogram2dcontour": [
           {
            "colorbar": {
             "outlinewidth": 0,
             "ticks": ""
            },
            "colorscale": [
             [
              0,
              "#0d0887"
             ],
             [
              0.1111111111111111,
              "#46039f"
             ],
             [
              0.2222222222222222,
              "#7201a8"
             ],
             [
              0.3333333333333333,
              "#9c179e"
             ],
             [
              0.4444444444444444,
              "#bd3786"
             ],
             [
              0.5555555555555556,
              "#d8576b"
             ],
             [
              0.6666666666666666,
              "#ed7953"
             ],
             [
              0.7777777777777778,
              "#fb9f3a"
             ],
             [
              0.8888888888888888,
              "#fdca26"
             ],
             [
              1,
              "#f0f921"
             ]
            ],
            "type": "histogram2dcontour"
           }
          ],
          "mesh3d": [
           {
            "colorbar": {
             "outlinewidth": 0,
             "ticks": ""
            },
            "type": "mesh3d"
           }
          ],
          "parcoords": [
           {
            "line": {
             "colorbar": {
              "outlinewidth": 0,
              "ticks": ""
             }
            },
            "type": "parcoords"
           }
          ],
          "pie": [
           {
            "automargin": true,
            "type": "pie"
           }
          ],
          "scatter": [
           {
            "marker": {
             "colorbar": {
              "outlinewidth": 0,
              "ticks": ""
             }
            },
            "type": "scatter"
           }
          ],
          "scatter3d": [
           {
            "line": {
             "colorbar": {
              "outlinewidth": 0,
              "ticks": ""
             }
            },
            "marker": {
             "colorbar": {
              "outlinewidth": 0,
              "ticks": ""
             }
            },
            "type": "scatter3d"
           }
          ],
          "scattercarpet": [
           {
            "marker": {
             "colorbar": {
              "outlinewidth": 0,
              "ticks": ""
             }
            },
            "type": "scattercarpet"
           }
          ],
          "scattergeo": [
           {
            "marker": {
             "colorbar": {
              "outlinewidth": 0,
              "ticks": ""
             }
            },
            "type": "scattergeo"
           }
          ],
          "scattergl": [
           {
            "marker": {
             "colorbar": {
              "outlinewidth": 0,
              "ticks": ""
             }
            },
            "type": "scattergl"
           }
          ],
          "scattermapbox": [
           {
            "marker": {
             "colorbar": {
              "outlinewidth": 0,
              "ticks": ""
             }
            },
            "type": "scattermapbox"
           }
          ],
          "scatterpolar": [
           {
            "marker": {
             "colorbar": {
              "outlinewidth": 0,
              "ticks": ""
             }
            },
            "type": "scatterpolar"
           }
          ],
          "scatterpolargl": [
           {
            "marker": {
             "colorbar": {
              "outlinewidth": 0,
              "ticks": ""
             }
            },
            "type": "scatterpolargl"
           }
          ],
          "scatterternary": [
           {
            "marker": {
             "colorbar": {
              "outlinewidth": 0,
              "ticks": ""
             }
            },
            "type": "scatterternary"
           }
          ],
          "surface": [
           {
            "colorbar": {
             "outlinewidth": 0,
             "ticks": ""
            },
            "colorscale": [
             [
              0,
              "#0d0887"
             ],
             [
              0.1111111111111111,
              "#46039f"
             ],
             [
              0.2222222222222222,
              "#7201a8"
             ],
             [
              0.3333333333333333,
              "#9c179e"
             ],
             [
              0.4444444444444444,
              "#bd3786"
             ],
             [
              0.5555555555555556,
              "#d8576b"
             ],
             [
              0.6666666666666666,
              "#ed7953"
             ],
             [
              0.7777777777777778,
              "#fb9f3a"
             ],
             [
              0.8888888888888888,
              "#fdca26"
             ],
             [
              1,
              "#f0f921"
             ]
            ],
            "type": "surface"
           }
          ],
          "table": [
           {
            "cells": {
             "fill": {
              "color": "#EBF0F8"
             },
             "line": {
              "color": "white"
             }
            },
            "header": {
             "fill": {
              "color": "#C8D4E3"
             },
             "line": {
              "color": "white"
             }
            },
            "type": "table"
           }
          ]
         },
         "layout": {
          "annotationdefaults": {
           "arrowcolor": "#2a3f5f",
           "arrowhead": 0,
           "arrowwidth": 1
          },
          "coloraxis": {
           "colorbar": {
            "outlinewidth": 0,
            "ticks": ""
           }
          },
          "colorscale": {
           "diverging": [
            [
             0,
             "#8e0152"
            ],
            [
             0.1,
             "#c51b7d"
            ],
            [
             0.2,
             "#de77ae"
            ],
            [
             0.3,
             "#f1b6da"
            ],
            [
             0.4,
             "#fde0ef"
            ],
            [
             0.5,
             "#f7f7f7"
            ],
            [
             0.6,
             "#e6f5d0"
            ],
            [
             0.7,
             "#b8e186"
            ],
            [
             0.8,
             "#7fbc41"
            ],
            [
             0.9,
             "#4d9221"
            ],
            [
             1,
             "#276419"
            ]
           ],
           "sequential": [
            [
             0,
             "#0d0887"
            ],
            [
             0.1111111111111111,
             "#46039f"
            ],
            [
             0.2222222222222222,
             "#7201a8"
            ],
            [
             0.3333333333333333,
             "#9c179e"
            ],
            [
             0.4444444444444444,
             "#bd3786"
            ],
            [
             0.5555555555555556,
             "#d8576b"
            ],
            [
             0.6666666666666666,
             "#ed7953"
            ],
            [
             0.7777777777777778,
             "#fb9f3a"
            ],
            [
             0.8888888888888888,
             "#fdca26"
            ],
            [
             1,
             "#f0f921"
            ]
           ],
           "sequentialminus": [
            [
             0,
             "#0d0887"
            ],
            [
             0.1111111111111111,
             "#46039f"
            ],
            [
             0.2222222222222222,
             "#7201a8"
            ],
            [
             0.3333333333333333,
             "#9c179e"
            ],
            [
             0.4444444444444444,
             "#bd3786"
            ],
            [
             0.5555555555555556,
             "#d8576b"
            ],
            [
             0.6666666666666666,
             "#ed7953"
            ],
            [
             0.7777777777777778,
             "#fb9f3a"
            ],
            [
             0.8888888888888888,
             "#fdca26"
            ],
            [
             1,
             "#f0f921"
            ]
           ]
          },
          "colorway": [
           "#636efa",
           "#EF553B",
           "#00cc96",
           "#ab63fa",
           "#FFA15A",
           "#19d3f3",
           "#FF6692",
           "#B6E880",
           "#FF97FF",
           "#FECB52"
          ],
          "font": {
           "color": "#2a3f5f"
          },
          "geo": {
           "bgcolor": "white",
           "lakecolor": "white",
           "landcolor": "#E5ECF6",
           "showlakes": true,
           "showland": true,
           "subunitcolor": "white"
          },
          "hoverlabel": {
           "align": "left"
          },
          "hovermode": "closest",
          "mapbox": {
           "style": "light"
          },
          "paper_bgcolor": "white",
          "plot_bgcolor": "#E5ECF6",
          "polar": {
           "angularaxis": {
            "gridcolor": "white",
            "linecolor": "white",
            "ticks": ""
           },
           "bgcolor": "#E5ECF6",
           "radialaxis": {
            "gridcolor": "white",
            "linecolor": "white",
            "ticks": ""
           }
          },
          "scene": {
           "xaxis": {
            "backgroundcolor": "#E5ECF6",
            "gridcolor": "white",
            "gridwidth": 2,
            "linecolor": "white",
            "showbackground": true,
            "ticks": "",
            "zerolinecolor": "white"
           },
           "yaxis": {
            "backgroundcolor": "#E5ECF6",
            "gridcolor": "white",
            "gridwidth": 2,
            "linecolor": "white",
            "showbackground": true,
            "ticks": "",
            "zerolinecolor": "white"
           },
           "zaxis": {
            "backgroundcolor": "#E5ECF6",
            "gridcolor": "white",
            "gridwidth": 2,
            "linecolor": "white",
            "showbackground": true,
            "ticks": "",
            "zerolinecolor": "white"
           }
          },
          "shapedefaults": {
           "line": {
            "color": "#2a3f5f"
           }
          },
          "ternary": {
           "aaxis": {
            "gridcolor": "white",
            "linecolor": "white",
            "ticks": ""
           },
           "baxis": {
            "gridcolor": "white",
            "linecolor": "white",
            "ticks": ""
           },
           "bgcolor": "#E5ECF6",
           "caxis": {
            "gridcolor": "white",
            "linecolor": "white",
            "ticks": ""
           }
          },
          "title": {
           "x": 0.05
          },
          "xaxis": {
           "automargin": true,
           "gridcolor": "white",
           "linecolor": "white",
           "ticks": "",
           "title": {
            "standoff": 15
           },
           "zerolinecolor": "white",
           "zerolinewidth": 2
          },
          "yaxis": {
           "automargin": true,
           "gridcolor": "white",
           "linecolor": "white",
           "ticks": "",
           "title": {
            "standoff": 15
           },
           "zerolinecolor": "white",
           "zerolinewidth": 2
          }
         }
        },
        "title": {
         "text": "Local gradients by mutation"
        },
        "xaxis": {
         "anchor": "y",
         "categoryarray": [
          "TET2",
          "DNMT3A",
          "ASXL1",
          "JAK2"
         ],
         "categoryorder": "array",
         "domain": [
          0,
          1
         ],
         "title": {
          "text": "mutation"
         }
        },
        "yaxis": {
         "anchor": "x",
         "domain": [
          0,
          1
         ],
         "title": {
          "text": "gradient"
         }
        }
       }
      },
      "text/html": [
       "<div>\n",
       "        \n",
       "        \n",
       "            <div id=\"91b0736a-5bf9-42da-99cf-a87ab2b7f221\" class=\"plotly-graph-div\" style=\"height:525px; width:100%;\"></div>\n",
       "            <script type=\"text/javascript\">\n",
       "                require([\"plotly\"], function(Plotly) {\n",
       "                    window.PLOTLYENV=window.PLOTLYENV || {};\n",
       "                    \n",
       "                if (document.getElementById(\"91b0736a-5bf9-42da-99cf-a87ab2b7f221\")) {\n",
       "                    Plotly.newPlot(\n",
       "                        '91b0736a-5bf9-42da-99cf-a87ab2b7f221',\n",
       "                        [{\"alignmentgroup\": \"True\", \"boxpoints\": \"all\", \"customdata\": [[\"TET2\"], [\"TET2\"], [\"TET2\"], [\"TET2\"], [\"TET2\"], [\"TET2\"], [\"TET2\"], [\"TET2\"], [\"TET2\"], [\"TET2\"], [\"TET2\"], [\"TET2\"], [\"TET2\"], [\"TET2\"], [\"TET2\"], [\"TET2\"], [\"TET2\"], [\"TET2\"], [\"TET2\"], [\"TET2\"], [\"TET2\"], [\"TET2\"], [\"TET2\"], [\"TET2\"], [\"TET2\"], [\"TET2\"], [\"TET2\"], [\"TET2\"], [\"TET2\"], [\"TET2\"], [\"TET2\"], [\"TET2\"], [\"TET2\"], [\"TET2\"], [\"TET2\"], [\"TET2\"], [\"TET2\"], [\"TET2\"], [\"TET2\"], [\"TET2\"], [\"TET2\"], [\"TET2\"], [\"TET2\"], [\"TET2\"], [\"TET2\"], [\"TET2\"], [\"TET2\"], [\"TET2\"], [\"TET2\"], [\"TET2\"], [\"TET2\"], [\"TET2\"], [\"TET2\"], [\"TET2\"], [\"TET2\"], [\"TET2\"], [\"TET2\"], [\"TET2\"], [\"TET2\"], [\"TET2\"], [\"TET2\"], [\"TET2\"], [\"TET2\"], [\"TET2\"], [\"TET2\"], [\"TET2\"], [\"TET2\"], [\"TET2\"], [\"TET2\"], [\"TET2\"], [\"TET2\"], [\"TET2\"], [\"TET2\"], [\"TET2\"], [\"TET2\"], [\"TET2\"], [\"TET2\"], [\"TET2\"], [\"TET2\"], [\"TET2\"], [\"TET2\"], [\"TET2\"], [\"TET2\"], [\"TET2\"], [\"TET2\"], [\"TET2\"], [\"TET2\"], [\"TET2\"], [\"TET2\"], [\"TET2\"], [\"TET2\"], [\"TET2\"], [\"TET2\"], [\"TET2\"], [\"TET2\"], [\"TET2\"], [\"TET2\"], [\"TET2\"], [\"TET2\"], [\"TET2\"], [\"TET2\"], [\"TET2\"], [\"TET2\"], [\"TET2\"], [\"TET2\"], [\"TET2\"], [\"TET2\"], [\"TET2\"], [\"TET2\"], [\"TET2\"], [\"TET2\"], [\"TET2\"], [\"TET2\"], [\"TET2\"], [\"TET2\"], [\"TET2\"], [\"TET2\"], [\"TET2\"], [\"TET2\"], [\"TET2\"], [\"TET2\"], [\"TET2\"], [\"TET2\"], [\"TET2\"], [\"TET2\"], [\"TET2\"], [\"TET2\"], [\"TET2\"], [\"TET2\"], [\"TET2\"], [\"TET2\"], [\"TET2\"], [\"TET2\"], [\"TET2\"], [\"TET2\"], [\"TET2\"], [\"TET2\"], [\"TET2\"], [\"TET2\"], [\"TET2\"], [\"TET2\"], [\"TET2\"], [\"TET2\"], [\"TET2\"], [\"TET2\"], [\"TET2\"], [\"TET2\"], [\"TET2\"], [\"TET2\"], [\"TET2\"], [\"TET2\"], [\"TET2\"], [\"TET2\"], [\"TET2\"], [\"TET2\"], [\"TET2\"], [\"TET2\"], [\"TET2\"], [\"TET2\"], [\"TET2\"], [\"TET2\"], [\"TET2\"], [\"TET2\"], [\"TET2\"], [\"TET2\"], [\"TET2\"], [\"TET2\"], [\"TET2\"], [\"TET2\"], [\"TET2\"], [\"TET2\"], [\"TET2\"], [\"TET2\"], [\"TET2\"], [\"TET2\"], [\"TET2\"], [\"TET2\"], [\"TET2\"], [\"TET2\"], [\"TET2\"], [\"TET2\"], [\"TET2\"], [\"TET2\"], [\"TET2\"], [\"TET2\"], [\"TET2\"], [\"TET2\"], [\"TET2\"], [\"TET2\"], [\"TET2\"], [\"TET2\"], [\"TET2\"], [\"TET2\"], [\"TET2\"], [\"TET2\"], [\"TET2\"], [\"TET2\"], [\"TET2\"], [\"TET2\"], [\"TET2\"], [\"TET2\"], [\"TET2\"], [\"TET2\"], [\"TET2\"], [\"TET2\"], [\"TET2\"], [\"TET2\"], [\"TET2\"], [\"TET2\"], [\"TET2\"], [\"TET2\"], [\"TET2\"]], \"hoverlabel\": {\"namelength\": 0}, \"hovertemplate\": \"<b>%{hovertext}</b><br><br>mutation=%{customdata[0]}<br>gradient=%{y}\", \"hovertext\": [\"LBC0001A\", \"LBC0001A\", \"LBC0001A\", \"LBC0001A\", \"LBC0001A\", \"LBC0001A\", \"LBC0001A\", \"LBC0031R\", \"LBC0031R\", \"LBC0031R\", \"LBC0031R\", \"LBC0046H\", \"LBC0046H\", \"LBC0046H\", \"LBC0046H\", \"LBC0065A\", \"LBC0065A\", \"LBC0065A\", \"LBC0065A\", \"LBC0065A\", \"LBC0065A\", \"LBC0081L\", \"LBC0081L\", \"LBC0081L\", \"LBC0081L\", \"LBC0102H\", \"LBC0102H\", \"LBC0102H\", \"LBC0102H\", \"LBC0102H\", \"LBC0102H\", \"LBC0102H\", \"LBC0102H\", \"LBC0111B\", \"LBC0111B\", \"LBC0111B\", \"LBC0144B\", \"LBC0144B\", \"LBC0144B\", \"LBC0144B\", \"LBC0144B\", \"LBC0144B\", \"LBC0144B\", \"LBC0144B\", \"LBC0176A\", \"LBC0176A\", \"LBC0176A\", \"LBC0176A\", \"LBC0220K\", \"LBC0220K\", \"LBC0220K\", \"LBC0220K\", \"LBC0220K\", \"LBC0220K\", \"LBC0242M\", \"LBC0242M\", \"LBC0242M\", \"LBC0242M\", \"LBC0251K\", \"LBC0251K\", \"LBC0251K\", \"LBC0251K\", \"LBC0251K\", \"LBC0251K\", \"LBC0256W\", \"LBC0256W\", \"LBC0263L\", \"LBC0263L\", \"LBC0263L\", \"LBC0263L\", \"LBC0284K\", \"LBC0284K\", \"LBC0284K\", \"LBC0284K\", \"LBC0293E\", \"LBC0293E\", \"LBC0293E\", \"LBC0377A\", \"LBC0377A\", \"LBC0377A\", \"LBC0377A\", \"LBC0392K\", \"LBC0392K\", \"LBC0392K\", \"LBC0392K\", \"LBC0392K\", \"LBC0392K\", \"LBC0405M\", \"LBC0405M\", \"LBC0405M\", \"LBC0405M\", \"LBC0415L\", \"LBC0415L\", \"LBC0429V\", \"LBC0429V\", \"LBC0429V\", \"LBC0429V\", \"LBC0429V\", \"LBC0429V\", \"LBC0439R\", \"LBC0439R\", \"LBC0439R\", \"LBC0439R\", \"LBC0461R\", \"LBC0461R\", \"LBC0461R\", \"LBC0461R\", \"LBC0461R\", \"LBC0461R\", \"LBC0461R\", \"LBC0461R\", \"LBC0461R\", \"LBC0461R\", \"LBC0464X\", \"LBC0464X\", \"LBC0464X\", \"LBC0516R\", \"LBC0516R\", \"LBC0516R\", \"LBC0516R\", \"LBC0516R\", \"LBC0516R\", \"LBC0516R\", \"LBC0516R\", \"LBC0516R\", \"LBC0516R\", \"LBC0517V\", \"LBC0517V\", \"LBC0517V\", \"LBC0517V\", \"LBC0591L\", \"LBC0591L\", \"LBC0591L\", \"LBC0591L\", \"LBC0591L\", \"LBC0591L\", \"LBC360008\", \"LBC360008\", \"LBC360008\", \"LBC360008\", \"LBC360008\", \"LBC360072\", \"LBC360072\", \"LBC360072\", \"LBC360072\", \"LBC360072\", \"LBC360072\", \"LBC360072\", \"LBC360072\", \"LBC360104\", \"LBC360104\", \"LBC360104\", \"LBC360104\", \"LBC360181\", \"LBC360181\", \"LBC360181\", \"LBC360181\", \"LBC360231\", \"LBC360231\", \"LBC360231\", \"LBC360283\", \"LBC360283\", \"LBC360283\", \"LBC360453\", \"LBC360453\", \"LBC360453\", \"LBC360453\", \"LBC360508\", \"LBC360508\", \"LBC360508\", \"LBC360508\", \"LBC360666\", \"LBC360666\", \"LBC360666\", \"LBC360666\", \"LBC360666\", \"LBC360666\", \"LBC360694\", \"LBC360694\", \"LBC360702\", \"LBC360702\", \"LBC360702\", \"LBC360702\", \"LBC360725\", \"LBC360725\", \"LBC360725\", \"LBC360725\", \"LBC360754\", \"LBC360754\", \"LBC360754\", \"LBC360898\", \"LBC360898\", \"LBC360898\", \"LBC360898\", \"LBC360908\", \"LBC360908\", \"LBC360908\", \"LBC360908\", \"LBC360908\", \"LBC360908\", \"LBC360908\", \"LBC360908\", \"LBC360919\", \"LBC360919\", \"LBC360919\", \"LBC360919\", \"LBC361096\", \"LBC361096\", \"LBC361096\", \"LBC361096\", \"LBC361096\", \"LBC361096\"], \"legendgroup\": \"TET2\", \"marker\": {\"color\": \"#636efa\"}, \"name\": \"TET2\", \"notched\": false, \"offsetgroup\": \"TET2\", \"orientation\": \"v\", \"showlegend\": true, \"type\": \"box\", \"x\": [\"TET2\", \"TET2\", \"TET2\", \"TET2\", \"TET2\", \"TET2\", \"TET2\", \"TET2\", \"TET2\", \"TET2\", \"TET2\", \"TET2\", \"TET2\", \"TET2\", \"TET2\", \"TET2\", \"TET2\", \"TET2\", \"TET2\", \"TET2\", \"TET2\", \"TET2\", \"TET2\", \"TET2\", \"TET2\", \"TET2\", \"TET2\", \"TET2\", \"TET2\", \"TET2\", \"TET2\", \"TET2\", \"TET2\", \"TET2\", \"TET2\", \"TET2\", \"TET2\", \"TET2\", \"TET2\", \"TET2\", \"TET2\", \"TET2\", \"TET2\", \"TET2\", \"TET2\", \"TET2\", \"TET2\", \"TET2\", \"TET2\", \"TET2\", \"TET2\", \"TET2\", \"TET2\", \"TET2\", \"TET2\", \"TET2\", \"TET2\", \"TET2\", \"TET2\", \"TET2\", \"TET2\", \"TET2\", \"TET2\", \"TET2\", \"TET2\", \"TET2\", \"TET2\", \"TET2\", \"TET2\", \"TET2\", \"TET2\", \"TET2\", \"TET2\", \"TET2\", \"TET2\", \"TET2\", \"TET2\", \"TET2\", \"TET2\", \"TET2\", \"TET2\", \"TET2\", \"TET2\", \"TET2\", \"TET2\", \"TET2\", \"TET2\", \"TET2\", \"TET2\", \"TET2\", \"TET2\", \"TET2\", \"TET2\", \"TET2\", \"TET2\", \"TET2\", \"TET2\", \"TET2\", \"TET2\", \"TET2\", \"TET2\", \"TET2\", \"TET2\", \"TET2\", \"TET2\", \"TET2\", \"TET2\", \"TET2\", \"TET2\", \"TET2\", \"TET2\", \"TET2\", \"TET2\", \"TET2\", \"TET2\", \"TET2\", \"TET2\", \"TET2\", \"TET2\", \"TET2\", \"TET2\", \"TET2\", \"TET2\", \"TET2\", \"TET2\", \"TET2\", \"TET2\", \"TET2\", \"TET2\", \"TET2\", \"TET2\", \"TET2\", \"TET2\", \"TET2\", \"TET2\", \"TET2\", \"TET2\", \"TET2\", \"TET2\", \"TET2\", \"TET2\", \"TET2\", \"TET2\", \"TET2\", \"TET2\", \"TET2\", \"TET2\", \"TET2\", \"TET2\", \"TET2\", \"TET2\", \"TET2\", \"TET2\", \"TET2\", \"TET2\", \"TET2\", \"TET2\", \"TET2\", \"TET2\", \"TET2\", \"TET2\", \"TET2\", \"TET2\", \"TET2\", \"TET2\", \"TET2\", \"TET2\", \"TET2\", \"TET2\", \"TET2\", \"TET2\", \"TET2\", \"TET2\", \"TET2\", \"TET2\", \"TET2\", \"TET2\", \"TET2\", \"TET2\", \"TET2\", \"TET2\", \"TET2\", \"TET2\", \"TET2\", \"TET2\", \"TET2\", \"TET2\", \"TET2\", \"TET2\", \"TET2\", \"TET2\", \"TET2\", \"TET2\", \"TET2\", \"TET2\", \"TET2\", \"TET2\", \"TET2\", \"TET2\", \"TET2\", \"TET2\", \"TET2\", \"TET2\", \"TET2\", \"TET2\", \"TET2\", \"TET2\", \"TET2\", \"TET2\", \"TET2\", \"TET2\", \"TET2\"], \"x0\": \" \", \"xaxis\": \"x\", \"y\": [-0.0023671361036774656, null, 0.031523324697753555, null, 0.04164132562731403, 0.000519615242270662, null, -0.004266666666666666, null, -0.00291561885940761, null, 0.0006123724356957945, -0.0010392304845413263, 0.002309401076758503, null, 0.0014288690166235206, 0.001732050807568877, 0.001212435565298215, null, -0.004368256707963336, null, 0.010532805893967667, null, 0.00996125828731826, null, 0.003592584956081994, -0.0006350852961085886, -0.0023094010767585023, null, 0.001347219358530748, -0.0022516660498395403, -0.0002886751345948127, null, 0.0015921683328090663, 0.00040414518843273764, null, -0.0046132056822416525, null, 0.0008164965809277262, -0.0019052558883257656, 0.0003464101615137759, null, -0.002771281292110204, null, 4.082482904638641e-05, 0.002424871130596428, -0.002367136103677466, null, -0.0002857738033247038, 0.0009237604307034017, -0.003059956426705017, null, -0.003839379290111012, null, 0.0002857738033247045, -0.0006928203230275508, 0.0001732050807568877, null, 0.02220870700123415, 0.04203109959700476, null, 0.0008164965809277262, 0.00357957166897568, null, 0.019963341403682902, null, -4.082482904638641e-05, 0.0016165807537309525, -0.0005773502691896254, null, 0.004572380853195266, -0.00046188021535170084, -0.0012124355652982138, null, 0.01126765281680262, 0.011951150572225252, null, 0.0009797958971132714, 0.00046188021535170036, 0.0014433756729740647, null, 0.003021037349432587, 0.0017897858344878411, 0.0, null, -0.003175426480542942, null, 4.082482904638606e-05, -0.0002886751345948127, 0.002771281292110204, null, 0.001469693845669907, null, 0.002776088375154269, null, 0.0001224744871391589, -0.0007505553499465135, 0.002829016319029167, null, -0.003470110468942836, 0.0012701705922171771, -0.0010969655114602894, null, -0.002771281292110204, null, -0.0029999999999999996, null, -0.0003265986323710902, 0.0019052558883257652, 0.0009237604307034007, null, -0.00640949816028265, null, -0.0051, 0.0, null, 0.0006123724356957945, -0.0035795716689756797, 0.0003464101615137754, null, -0.0029333333333333334, null, -0.0024903145718295646, -5.7735026918962483e-05, 0.0010969655114602891, null, 0.003592584956081995, 0.011027390141521851, 0.0006350852961085886, null, 0.005756300895540472, -0.004387862045841162, null, 0.011675901107266483, 0.02020725942163691, null, 0.00011547005383792497, 0.0015588457268119898, 0.0010392304845413263, -0.0010969655114602885, null, 0.014664696837416499, 0.011662475437630439, 0.05865878734966598, null, 0.0010392304845413263, 0.0, 0.002829016319029167, null, -0.0025980762113533163, 0.0005196152422706631, 0.0003464101615137754, null, 0.025807557032776283, 0.03833605787419114, 0.053116224765445585, null, -0.002713546265191241, -0.0005773502691896258, null, -0.0006350852961085886, 0.0021361959960016154, null, 0.0008660254037844385, -0.00011547005383792497, 0.002540341184434354, null, 0.006581793068761734, -0.00040414518843273764, 0.0008082903768654753, null, 0.013757967388632188, 0.013971876514388935, null, -0.0008981462390204985, 0.0031754264805429417, null, -0.0026558112382722788, null, -0.0016743157806499147, -0.0006928203230275512, 0.0012124355652982143, null, 0.0001732050807568877, 0.0021939310229205783, -0.0005773502691896263, null, 0.0009237604307034017, -0.0010392304845413271, null, 0.0005196152422706631, -0.0008082903768654753, -0.00028867513459481317, null, 0.0020784609690826525, 0.005888972745734181, -0.0006350852961085865, null, 0.0025980762113533163, 0.006524058041842772, -0.0006350852961085905, null, 0.0007505553499465135, -0.0016743157806499147, 0.0030599564267050163, null, 0.0006350852961085886, -0.002540341184434354, 0.002713546265191241, null, -0.005062278801751902, null], \"y0\": \" \", \"yaxis\": \"y\"}, {\"alignmentgroup\": \"True\", \"boxpoints\": \"all\", \"customdata\": [[\"DNMT3A\"], [\"DNMT3A\"], [\"DNMT3A\"], [\"DNMT3A\"], [\"DNMT3A\"], [\"DNMT3A\"], [\"DNMT3A\"], [\"DNMT3A\"], [\"DNMT3A\"], [\"DNMT3A\"], [\"DNMT3A\"], [\"DNMT3A\"], [\"DNMT3A\"], [\"DNMT3A\"], [\"DNMT3A\"], [\"DNMT3A\"], [\"DNMT3A\"], [\"DNMT3A\"], [\"DNMT3A\"], [\"DNMT3A\"], [\"DNMT3A\"], [\"DNMT3A\"], [\"DNMT3A\"], [\"DNMT3A\"], [\"DNMT3A\"], [\"DNMT3A\"], [\"DNMT3A\"], [\"DNMT3A\"], [\"DNMT3A\"], [\"DNMT3A\"], [\"DNMT3A\"], [\"DNMT3A\"], [\"DNMT3A\"], [\"DNMT3A\"], [\"DNMT3A\"], [\"DNMT3A\"], [\"DNMT3A\"], [\"DNMT3A\"], [\"DNMT3A\"], [\"DNMT3A\"], [\"DNMT3A\"], [\"DNMT3A\"], [\"DNMT3A\"], [\"DNMT3A\"], [\"DNMT3A\"], [\"DNMT3A\"], [\"DNMT3A\"], [\"DNMT3A\"], [\"DNMT3A\"], [\"DNMT3A\"], [\"DNMT3A\"], [\"DNMT3A\"], [\"DNMT3A\"], [\"DNMT3A\"], [\"DNMT3A\"], [\"DNMT3A\"], [\"DNMT3A\"], [\"DNMT3A\"], [\"DNMT3A\"], [\"DNMT3A\"], [\"DNMT3A\"], [\"DNMT3A\"], [\"DNMT3A\"], [\"DNMT3A\"], [\"DNMT3A\"], [\"DNMT3A\"], [\"DNMT3A\"], [\"DNMT3A\"], [\"DNMT3A\"], [\"DNMT3A\"], [\"DNMT3A\"], [\"DNMT3A\"], [\"DNMT3A\"], [\"DNMT3A\"], [\"DNMT3A\"], [\"DNMT3A\"], [\"DNMT3A\"], [\"DNMT3A\"], [\"DNMT3A\"], [\"DNMT3A\"], [\"DNMT3A\"], [\"DNMT3A\"], [\"DNMT3A\"], [\"DNMT3A\"], [\"DNMT3A\"], [\"DNMT3A\"], [\"DNMT3A\"], [\"DNMT3A\"], [\"DNMT3A\"], [\"DNMT3A\"], [\"DNMT3A\"], [\"DNMT3A\"], [\"DNMT3A\"], [\"DNMT3A\"], [\"DNMT3A\"], [\"DNMT3A\"], [\"DNMT3A\"], [\"DNMT3A\"], [\"DNMT3A\"], [\"DNMT3A\"], [\"DNMT3A\"], [\"DNMT3A\"], [\"DNMT3A\"], [\"DNMT3A\"], [\"DNMT3A\"], [\"DNMT3A\"], [\"DNMT3A\"], [\"DNMT3A\"], [\"DNMT3A\"], [\"DNMT3A\"], [\"DNMT3A\"], [\"DNMT3A\"], [\"DNMT3A\"], [\"DNMT3A\"], [\"DNMT3A\"], [\"DNMT3A\"], [\"DNMT3A\"], [\"DNMT3A\"], [\"DNMT3A\"], [\"DNMT3A\"], [\"DNMT3A\"], [\"DNMT3A\"], [\"DNMT3A\"], [\"DNMT3A\"], [\"DNMT3A\"], [\"DNMT3A\"], [\"DNMT3A\"], [\"DNMT3A\"], [\"DNMT3A\"], [\"DNMT3A\"], [\"DNMT3A\"], [\"DNMT3A\"], [\"DNMT3A\"], [\"DNMT3A\"], [\"DNMT3A\"], [\"DNMT3A\"], [\"DNMT3A\"], [\"DNMT3A\"], [\"DNMT3A\"], [\"DNMT3A\"], [\"DNMT3A\"], [\"DNMT3A\"], [\"DNMT3A\"], [\"DNMT3A\"], [\"DNMT3A\"], [\"DNMT3A\"], [\"DNMT3A\"], [\"DNMT3A\"], [\"DNMT3A\"], [\"DNMT3A\"], [\"DNMT3A\"], [\"DNMT3A\"], [\"DNMT3A\"], [\"DNMT3A\"], [\"DNMT3A\"], [\"DNMT3A\"], [\"DNMT3A\"], [\"DNMT3A\"], [\"DNMT3A\"], [\"DNMT3A\"], [\"DNMT3A\"], [\"DNMT3A\"], [\"DNMT3A\"], [\"DNMT3A\"], [\"DNMT3A\"], [\"DNMT3A\"], [\"DNMT3A\"], [\"DNMT3A\"], [\"DNMT3A\"], [\"DNMT3A\"], [\"DNMT3A\"], [\"DNMT3A\"], [\"DNMT3A\"], [\"DNMT3A\"], [\"DNMT3A\"], [\"DNMT3A\"], [\"DNMT3A\"], [\"DNMT3A\"], [\"DNMT3A\"], [\"DNMT3A\"], [\"DNMT3A\"], [\"DNMT3A\"], [\"DNMT3A\"], [\"DNMT3A\"], [\"DNMT3A\"], [\"DNMT3A\"], [\"DNMT3A\"], [\"DNMT3A\"], [\"DNMT3A\"], [\"DNMT3A\"], [\"DNMT3A\"], [\"DNMT3A\"], [\"DNMT3A\"], [\"DNMT3A\"], [\"DNMT3A\"], [\"DNMT3A\"], [\"DNMT3A\"], [\"DNMT3A\"], [\"DNMT3A\"], [\"DNMT3A\"], [\"DNMT3A\"], [\"DNMT3A\"], [\"DNMT3A\"], [\"DNMT3A\"], [\"DNMT3A\"], [\"DNMT3A\"], [\"DNMT3A\"], [\"DNMT3A\"], [\"DNMT3A\"], [\"DNMT3A\"], [\"DNMT3A\"], [\"DNMT3A\"], [\"DNMT3A\"], [\"DNMT3A\"], [\"DNMT3A\"], [\"DNMT3A\"], [\"DNMT3A\"], [\"DNMT3A\"], [\"DNMT3A\"], [\"DNMT3A\"], [\"DNMT3A\"], [\"DNMT3A\"], [\"DNMT3A\"], [\"DNMT3A\"], [\"DNMT3A\"], [\"DNMT3A\"], [\"DNMT3A\"], [\"DNMT3A\"], [\"DNMT3A\"], [\"DNMT3A\"], [\"DNMT3A\"], [\"DNMT3A\"], [\"DNMT3A\"], [\"DNMT3A\"], [\"DNMT3A\"], [\"DNMT3A\"], [\"DNMT3A\"], [\"DNMT3A\"], [\"DNMT3A\"], [\"DNMT3A\"], [\"DNMT3A\"], [\"DNMT3A\"], [\"DNMT3A\"], [\"DNMT3A\"], [\"DNMT3A\"], [\"DNMT3A\"], [\"DNMT3A\"], [\"DNMT3A\"], [\"DNMT3A\"], [\"DNMT3A\"], [\"DNMT3A\"], [\"DNMT3A\"], [\"DNMT3A\"], [\"DNMT3A\"], [\"DNMT3A\"], [\"DNMT3A\"], [\"DNMT3A\"], [\"DNMT3A\"], [\"DNMT3A\"], [\"DNMT3A\"], [\"DNMT3A\"], [\"DNMT3A\"], [\"DNMT3A\"], [\"DNMT3A\"], [\"DNMT3A\"], [\"DNMT3A\"], [\"DNMT3A\"], [\"DNMT3A\"], [\"DNMT3A\"], [\"DNMT3A\"], [\"DNMT3A\"], [\"DNMT3A\"], [\"DNMT3A\"], [\"DNMT3A\"], [\"DNMT3A\"], [\"DNMT3A\"], [\"DNMT3A\"], [\"DNMT3A\"], [\"DNMT3A\"], [\"DNMT3A\"], [\"DNMT3A\"], [\"DNMT3A\"], [\"DNMT3A\"], [\"DNMT3A\"], [\"DNMT3A\"], [\"DNMT3A\"], [\"DNMT3A\"], [\"DNMT3A\"], [\"DNMT3A\"], [\"DNMT3A\"], [\"DNMT3A\"], [\"DNMT3A\"], [\"DNMT3A\"], [\"DNMT3A\"], [\"DNMT3A\"], [\"DNMT3A\"], [\"DNMT3A\"], [\"DNMT3A\"], [\"DNMT3A\"], [\"DNMT3A\"], [\"DNMT3A\"], [\"DNMT3A\"], [\"DNMT3A\"], [\"DNMT3A\"], [\"DNMT3A\"], [\"DNMT3A\"], [\"DNMT3A\"], [\"DNMT3A\"], [\"DNMT3A\"], [\"DNMT3A\"], [\"DNMT3A\"], [\"DNMT3A\"], [\"DNMT3A\"], [\"DNMT3A\"], [\"DNMT3A\"], [\"DNMT3A\"], [\"DNMT3A\"], [\"DNMT3A\"], [\"DNMT3A\"], [\"DNMT3A\"], [\"DNMT3A\"], [\"DNMT3A\"], [\"DNMT3A\"], [\"DNMT3A\"], [\"DNMT3A\"], [\"DNMT3A\"], [\"DNMT3A\"], [\"DNMT3A\"], [\"DNMT3A\"], [\"DNMT3A\"], [\"DNMT3A\"], [\"DNMT3A\"], [\"DNMT3A\"], [\"DNMT3A\"], [\"DNMT3A\"], [\"DNMT3A\"], [\"DNMT3A\"], [\"DNMT3A\"], [\"DNMT3A\"], [\"DNMT3A\"], [\"DNMT3A\"], [\"DNMT3A\"], [\"DNMT3A\"], [\"DNMT3A\"], [\"DNMT3A\"], [\"DNMT3A\"], [\"DNMT3A\"], [\"DNMT3A\"], [\"DNMT3A\"], [\"DNMT3A\"], [\"DNMT3A\"], [\"DNMT3A\"], [\"DNMT3A\"], [\"DNMT3A\"], [\"DNMT3A\"], [\"DNMT3A\"], [\"DNMT3A\"], [\"DNMT3A\"], [\"DNMT3A\"], [\"DNMT3A\"], [\"DNMT3A\"], [\"DNMT3A\"], [\"DNMT3A\"], [\"DNMT3A\"], [\"DNMT3A\"], [\"DNMT3A\"], [\"DNMT3A\"], [\"DNMT3A\"], [\"DNMT3A\"], [\"DNMT3A\"], [\"DNMT3A\"], [\"DNMT3A\"], [\"DNMT3A\"], [\"DNMT3A\"], [\"DNMT3A\"], [\"DNMT3A\"], [\"DNMT3A\"], [\"DNMT3A\"], [\"DNMT3A\"], [\"DNMT3A\"], [\"DNMT3A\"], [\"DNMT3A\"], [\"DNMT3A\"], [\"DNMT3A\"], [\"DNMT3A\"], [\"DNMT3A\"], [\"DNMT3A\"], [\"DNMT3A\"], [\"DNMT3A\"], [\"DNMT3A\"], [\"DNMT3A\"], [\"DNMT3A\"], [\"DNMT3A\"], [\"DNMT3A\"], [\"DNMT3A\"], [\"DNMT3A\"], [\"DNMT3A\"], [\"DNMT3A\"], [\"DNMT3A\"], [\"DNMT3A\"], [\"DNMT3A\"], [\"DNMT3A\"], [\"DNMT3A\"], [\"DNMT3A\"], [\"DNMT3A\"], [\"DNMT3A\"], [\"DNMT3A\"], [\"DNMT3A\"], [\"DNMT3A\"], [\"DNMT3A\"], [\"DNMT3A\"], [\"DNMT3A\"], [\"DNMT3A\"], [\"DNMT3A\"], [\"DNMT3A\"], [\"DNMT3A\"], [\"DNMT3A\"], [\"DNMT3A\"], [\"DNMT3A\"], [\"DNMT3A\"], [\"DNMT3A\"], [\"DNMT3A\"], [\"DNMT3A\"], [\"DNMT3A\"], [\"DNMT3A\"], [\"DNMT3A\"], [\"DNMT3A\"], [\"DNMT3A\"], [\"DNMT3A\"], [\"DNMT3A\"], [\"DNMT3A\"], [\"DNMT3A\"], [\"DNMT3A\"], [\"DNMT3A\"], [\"DNMT3A\"], [\"DNMT3A\"], [\"DNMT3A\"], [\"DNMT3A\"], [\"DNMT3A\"], [\"DNMT3A\"], [\"DNMT3A\"], [\"DNMT3A\"], [\"DNMT3A\"], [\"DNMT3A\"], [\"DNMT3A\"], [\"DNMT3A\"], [\"DNMT3A\"], [\"DNMT3A\"], [\"DNMT3A\"], [\"DNMT3A\"], [\"DNMT3A\"], [\"DNMT3A\"], [\"DNMT3A\"], [\"DNMT3A\"], [\"DNMT3A\"], [\"DNMT3A\"], [\"DNMT3A\"], [\"DNMT3A\"], [\"DNMT3A\"], [\"DNMT3A\"], [\"DNMT3A\"], [\"DNMT3A\"], [\"DNMT3A\"], [\"DNMT3A\"], [\"DNMT3A\"], [\"DNMT3A\"], [\"DNMT3A\"], [\"DNMT3A\"], [\"DNMT3A\"], [\"DNMT3A\"], [\"DNMT3A\"], [\"DNMT3A\"], [\"DNMT3A\"], [\"DNMT3A\"], [\"DNMT3A\"], [\"DNMT3A\"], [\"DNMT3A\"], [\"DNMT3A\"], [\"DNMT3A\"], [\"DNMT3A\"], [\"DNMT3A\"], [\"DNMT3A\"], [\"DNMT3A\"], [\"DNMT3A\"], [\"DNMT3A\"], [\"DNMT3A\"], [\"DNMT3A\"], [\"DNMT3A\"], [\"DNMT3A\"], [\"DNMT3A\"], [\"DNMT3A\"], [\"DNMT3A\"], [\"DNMT3A\"], [\"DNMT3A\"], [\"DNMT3A\"], [\"DNMT3A\"], [\"DNMT3A\"], [\"DNMT3A\"], [\"DNMT3A\"], [\"DNMT3A\"], [\"DNMT3A\"], [\"DNMT3A\"], [\"DNMT3A\"], [\"DNMT3A\"], [\"DNMT3A\"], [\"DNMT3A\"], [\"DNMT3A\"], [\"DNMT3A\"], [\"DNMT3A\"], [\"DNMT3A\"], [\"DNMT3A\"], [\"DNMT3A\"], [\"DNMT3A\"], [\"DNMT3A\"], [\"DNMT3A\"], [\"DNMT3A\"], [\"DNMT3A\"], [\"DNMT3A\"], [\"DNMT3A\"], [\"DNMT3A\"], [\"DNMT3A\"], [\"DNMT3A\"], [\"DNMT3A\"], [\"DNMT3A\"], [\"DNMT3A\"], [\"DNMT3A\"], [\"DNMT3A\"], [\"DNMT3A\"], [\"DNMT3A\"], [\"DNMT3A\"], [\"DNMT3A\"], [\"DNMT3A\"], [\"DNMT3A\"], [\"DNMT3A\"], [\"DNMT3A\"], [\"DNMT3A\"], [\"DNMT3A\"], [\"DNMT3A\"], [\"DNMT3A\"], [\"DNMT3A\"], [\"DNMT3A\"], [\"DNMT3A\"], [\"DNMT3A\"], [\"DNMT3A\"], [\"DNMT3A\"], [\"DNMT3A\"], [\"DNMT3A\"], [\"DNMT3A\"], [\"DNMT3A\"], [\"DNMT3A\"], [\"DNMT3A\"], [\"DNMT3A\"], [\"DNMT3A\"], [\"DNMT3A\"], [\"DNMT3A\"], [\"DNMT3A\"], [\"DNMT3A\"], [\"DNMT3A\"], [\"DNMT3A\"], [\"DNMT3A\"], [\"DNMT3A\"], [\"DNMT3A\"], [\"DNMT3A\"], [\"DNMT3A\"], [\"DNMT3A\"], [\"DNMT3A\"], [\"DNMT3A\"], [\"DNMT3A\"], [\"DNMT3A\"], [\"DNMT3A\"], [\"DNMT3A\"], [\"DNMT3A\"], [\"DNMT3A\"], [\"DNMT3A\"], [\"DNMT3A\"], [\"DNMT3A\"], [\"DNMT3A\"], [\"DNMT3A\"], [\"DNMT3A\"], [\"DNMT3A\"], [\"DNMT3A\"], [\"DNMT3A\"], [\"DNMT3A\"], [\"DNMT3A\"], [\"DNMT3A\"], [\"DNMT3A\"], [\"DNMT3A\"], [\"DNMT3A\"], [\"DNMT3A\"], [\"DNMT3A\"], [\"DNMT3A\"], [\"DNMT3A\"], [\"DNMT3A\"], [\"DNMT3A\"], [\"DNMT3A\"], [\"DNMT3A\"], [\"DNMT3A\"], [\"DNMT3A\"], [\"DNMT3A\"], [\"DNMT3A\"], [\"DNMT3A\"], [\"DNMT3A\"], [\"DNMT3A\"], [\"DNMT3A\"], [\"DNMT3A\"], [\"DNMT3A\"], [\"DNMT3A\"], [\"DNMT3A\"], [\"DNMT3A\"], [\"DNMT3A\"], [\"DNMT3A\"], [\"DNMT3A\"], [\"DNMT3A\"], [\"DNMT3A\"], [\"DNMT3A\"], [\"DNMT3A\"], [\"DNMT3A\"], [\"DNMT3A\"], [\"DNMT3A\"], [\"DNMT3A\"], [\"DNMT3A\"], [\"DNMT3A\"], [\"DNMT3A\"], [\"DNMT3A\"], [\"DNMT3A\"], [\"DNMT3A\"], [\"DNMT3A\"], [\"DNMT3A\"], [\"DNMT3A\"], [\"DNMT3A\"], [\"DNMT3A\"], [\"DNMT3A\"], [\"DNMT3A\"], [\"DNMT3A\"], [\"DNMT3A\"], [\"DNMT3A\"], [\"DNMT3A\"], [\"DNMT3A\"], [\"DNMT3A\"], [\"DNMT3A\"], [\"DNMT3A\"], [\"DNMT3A\"], [\"DNMT3A\"], [\"DNMT3A\"], [\"DNMT3A\"], [\"DNMT3A\"], [\"DNMT3A\"], [\"DNMT3A\"], [\"DNMT3A\"], [\"DNMT3A\"], [\"DNMT3A\"], [\"DNMT3A\"], [\"DNMT3A\"]], \"hoverlabel\": {\"namelength\": 0}, \"hovertemplate\": \"<b>%{hovertext}</b><br><br>mutation=%{customdata[0]}<br>gradient=%{y}\", \"hovertext\": [\"LBC0001A\", \"LBC0001A\", \"LBC0001A\", \"LBC0001A\", \"LBC0001A\", \"LBC0031R\", \"LBC0031R\", \"LBC0031R\", \"LBC0031R\", \"LBC0031R\", \"LBC0031R\", \"LBC0031R\", \"LBC0031R\", \"LBC0031R\", \"LBC0031R\", \"LBC0031R\", \"LBC0040V\", \"LBC0040V\", \"LBC0040V\", \"LBC0040V\", \"LBC0046H\", \"LBC0046H\", \"LBC0046H\", \"LBC0046H\", \"LBC0046H\", \"LBC0046H\", \"LBC0046H\", \"LBC0046H\", \"LBC0047K\", \"LBC0047K\", \"LBC0065A\", \"LBC0065A\", \"LBC0065A\", \"LBC0065A\", \"LBC0065A\", \"LBC0065A\", \"LBC0065A\", \"LBC0065A\", \"LBC0065A\", \"LBC0065A\", \"LBC0065A\", \"LBC0065A\", \"LBC0065A\", \"LBC0065A\", \"LBC0065A\", \"LBC0065A\", \"LBC0065A\", \"LBC0065A\", \"LBC0065A\", \"LBC0065A\", \"LBC0065A\", \"LBC0065A\", \"LBC0065A\", \"LBC0065A\", \"LBC0065A\", \"LBC0065A\", \"LBC0065A\", \"LBC0065A\", \"LBC0065A\", \"LBC0065A\", \"LBC0065A\", \"LBC0065A\", \"LBC0065A\", \"LBC0068H\", \"LBC0068H\", \"LBC0068H\", \"LBC0068H\", \"LBC0102H\", \"LBC0102H\", \"LBC0102H\", \"LBC0102H\", \"LBC0102H\", \"LBC0102H\", \"LBC0102H\", \"LBC0102H\", \"LBC0102H\", \"LBC0102H\", \"LBC0102H\", \"LBC0111B\", \"LBC0111B\", \"LBC0111B\", \"LBC0118V\", \"LBC0118V\", \"LBC0118V\", \"LBC0118V\", \"LBC0118V\", \"LBC0118V\", \"LBC0118V\", \"LBC0118V\", \"LBC0118V\", \"LBC0118V\", \"LBC0118V\", \"LBC0118V\", \"LBC0118V\", \"LBC0118V\", \"LBC0118V\", \"LBC0118V\", \"LBC0118V\", \"LBC0118V\", \"LBC0118V\", \"LBC0118V\", \"LBC0118V\", \"LBC0144B\", \"LBC0144B\", \"LBC0144B\", \"LBC0144B\", \"LBC0144B\", \"LBC0144B\", \"LBC0144B\", \"LBC0144B\", \"LBC0144B\", \"LBC0144B\", \"LBC0148L\", \"LBC0148L\", \"LBC0152W\", \"LBC0152W\", \"LBC0152W\", \"LBC0152W\", \"LBC0152W\", \"LBC0152W\", \"LBC0152W\", \"LBC0152W\", \"LBC0152W\", \"LBC0152W\", \"LBC0152W\", \"LBC0152W\", \"LBC0152W\", \"LBC0152W\", \"LBC0152W\", \"LBC0152W\", \"LBC0152W\", \"LBC0152W\", \"LBC0152W\", \"LBC0165A\", \"LBC0165A\", \"LBC0165A\", \"LBC0176A\", \"LBC0176A\", \"LBC0176A\", \"LBC0176A\", \"LBC0176A\", \"LBC0176A\", \"LBC0176A\", \"LBC0176A\", \"LBC0176A\", \"LBC0176A\", \"LBC0176A\", \"LBC0176A\", \"LBC0176A\", \"LBC0176A\", \"LBC0176A\", \"LBC0176A\", \"LBC0176A\", \"LBC0176A\", \"LBC0220K\", \"LBC0220K\", \"LBC0220K\", \"LBC0220K\", \"LBC0220K\", \"LBC0220K\", \"LBC0220K\", \"LBC0220K\", \"LBC0220K\", \"LBC0220K\", \"LBC0220K\", \"LBC0220K\", \"LBC0220K\", \"LBC0220K\", \"LBC0220K\", \"LBC0220K\", \"LBC0220K\", \"LBC0220K\", \"LBC0220K\", \"LBC0220K\", \"LBC0220K\", \"LBC0220K\", \"LBC0220K\", \"LBC0242M\", \"LBC0242M\", \"LBC0242M\", \"LBC0242M\", \"LBC0242M\", \"LBC0242M\", \"LBC0263L\", \"LBC0263L\", \"LBC0263L\", \"LBC0263L\", \"LBC0263L\", \"LBC0263L\", \"LBC0263L\", \"LBC0263L\", \"LBC0263L\", \"LBC0263L\", \"LBC0284K\", \"LBC0284K\", \"LBC0284K\", \"LBC0284K\", \"LBC0284K\", \"LBC0284K\", \"LBC0284K\", \"LBC0284K\", \"LBC0284K\", \"LBC0284K\", \"LBC0284K\", \"LBC0284K\", \"LBC0284K\", \"LBC0284K\", \"LBC0293E\", \"LBC0293E\", \"LBC0293E\", \"LBC0293E\", \"LBC0293E\", \"LBC0293E\", \"LBC0377A\", \"LBC0377A\", \"LBC0377A\", \"LBC0377A\", \"LBC0377A\", \"LBC0377A\", \"LBC0377A\", \"LBC0392K\", \"LBC0392K\", \"LBC0392K\", \"LBC0392K\", \"LBC0392K\", \"LBC0392K\", \"LBC0392K\", \"LBC0392K\", \"LBC0392K\", \"LBC0392K\", \"LBC0392K\", \"LBC0392K\", \"LBC0392K\", \"LBC0392K\", \"LBC0392K\", \"LBC0392K\", \"LBC0392K\", \"LBC0392K\", \"LBC0392K\", \"LBC0392K\", \"LBC0392K\", \"LBC0392K\", \"LBC0392K\", \"LBC0392K\", \"LBC0392K\", \"LBC0392K\", \"LBC0392K\", \"LBC0392K\", \"LBC0392K\", \"LBC0392K\", \"LBC0392K\", \"LBC0392K\", \"LBC0392K\", \"LBC0392K\", \"LBC0392K\", \"LBC0405M\", \"LBC0405M\", \"LBC0405M\", \"LBC0405M\", \"LBC0405M\", \"LBC0405M\", \"LBC0405M\", \"LBC0405M\", \"LBC0405M\", \"LBC0405M\", \"LBC0405M\", \"LBC0405M\", \"LBC0405M\", \"LBC0405M\", \"LBC0405M\", \"LBC0405M\", \"LBC0405M\", \"LBC0405M\", \"LBC0405M\", \"LBC0405M\", \"LBC0405M\", \"LBC0405M\", \"LBC0405M\", \"LBC0405M\", \"LBC0405M\", \"LBC0405M\", \"LBC0405M\", \"LBC0405M\", \"LBC0405M\", \"LBC0405M\", \"LBC0405M\", \"LBC0405M\", \"LBC0405M\", \"LBC0405M\", \"LBC0429V\", \"LBC0429V\", \"LBC0429V\", \"LBC0429V\", \"LBC0429V\", \"LBC0429V\", \"LBC0439R\", \"LBC0439R\", \"LBC0439R\", \"LBC0439R\", \"LBC0439R\", \"LBC0439R\", \"LBC0439R\", \"LBC0439R\", \"LBC0439R\", \"LBC0439R\", \"LBC0439R\", \"LBC0439R\", \"LBC0439R\", \"LBC0439R\", \"LBC0439R\", \"LBC0439R\", \"LBC0446H\", \"LBC0446H\", \"LBC0446H\", \"LBC0446H\", \"LBC0446H\", \"LBC0446H\", \"LBC0446H\", \"LBC0446H\", \"LBC0446H\", \"LBC0446H\", \"LBC0446H\", \"LBC0446H\", \"LBC0446H\", \"LBC0446H\", \"LBC0446H\", \"LBC0446H\", \"LBC0446H\", \"LBC0446H\", \"LBC0446H\", \"LBC0446H\", \"LBC0446H\", \"LBC0446H\", \"LBC0446H\", \"LBC0446H\", \"LBC0446H\", \"LBC0461R\", \"LBC0461R\", \"LBC0461R\", \"LBC0461R\", \"LBC0461R\", \"LBC0461R\", \"LBC0461R\", \"LBC0461R\", \"LBC0461R\", \"LBC0461R\", \"LBC0461R\", \"LBC0461R\", \"LBC0461R\", \"LBC0461R\", \"LBC0461R\", \"LBC0461R\", \"LBC0461R\", \"LBC0461R\", \"LBC0461R\", \"LBC0461R\", \"LBC0461R\", \"LBC0461R\", \"LBC0461R\", \"LBC0461R\", \"LBC0461R\", \"LBC0461R\", \"LBC0461R\", \"LBC0461R\", \"LBC0461R\", \"LBC0461R\", \"LBC0464X\", \"LBC0464X\", \"LBC0464X\", \"LBC0464X\", \"LBC0464X\", \"LBC0464X\", \"LBC0464X\", \"LBC0464X\", \"LBC0464X\", \"LBC0464X\", \"LBC0464X\", \"LBC0471M\", \"LBC0471M\", \"LBC0471M\", \"LBC0471M\", \"LBC0484V\", \"LBC0484V\", \"LBC0484V\", \"LBC0484V\", \"LBC0484V\", \"LBC0484V\", \"LBC0516R\", \"LBC0516R\", \"LBC0517V\", \"LBC0517V\", \"LBC0517V\", \"LBC0517V\", \"LBC0517V\", \"LBC0517V\", \"LBC0520A\", \"LBC0520A\", \"LBC0520A\", \"LBC0520A\", \"LBC0520A\", \"LBC0520A\", \"LBC0520A\", \"LBC0520A\", \"LBC0520A\", \"LBC0520A\", \"LBC0588E\", \"LBC0588E\", \"LBC0588E\", \"LBC0588E\", \"LBC0588E\", \"LBC0588E\", \"LBC0588E\", \"LBC0588E\", \"LBC0588E\", \"LBC0588E\", \"LBC0591L\", \"LBC0591L\", \"LBC0591L\", \"LBC0591L\", \"LBC0591L\", \"LBC360008\", \"LBC360008\", \"LBC360008\", \"LBC360008\", \"LBC360008\", \"LBC360008\", \"LBC360008\", \"LBC360008\", \"LBC360008\", \"LBC360008\", \"LBC360008\", \"LBC360008\", \"LBC360008\", \"LBC360104\", \"LBC360104\", \"LBC360104\", \"LBC360104\", \"LBC360104\", \"LBC360104\", \"LBC360104\", \"LBC360104\", \"LBC360104\", \"LBC360104\", \"LBC360104\", \"LBC360231\", \"LBC360231\", \"LBC360231\", \"LBC360231\", \"LBC360231\", \"LBC360231\", \"LBC360231\", \"LBC360231\", \"LBC360283\", \"LBC360283\", \"LBC360283\", \"LBC360356\", \"LBC360356\", \"LBC360356\", \"LBC360356\", \"LBC360380\", \"LBC360380\", \"LBC360380\", \"LBC360380\", \"LBC360380\", \"LBC360380\", \"LBC360414\", \"LBC360414\", \"LBC360453\", \"LBC360453\", \"LBC360453\", \"LBC360453\", \"LBC360458\", \"LBC360458\", \"LBC360458\", \"LBC360458\", \"LBC360458\", \"LBC360458\", \"LBC360458\", \"LBC360458\", \"LBC360458\", \"LBC360458\", \"LBC360458\", \"LBC360458\", \"LBC360458\", \"LBC360458\", \"LBC360458\", \"LBC360458\", \"LBC360508\", \"LBC360508\", \"LBC360508\", \"LBC360508\", \"LBC360508\", \"LBC360508\", \"LBC360508\", \"LBC360508\", \"LBC360508\", \"LBC360508\", \"LBC360508\", \"LBC360508\", \"LBC360549\", \"LBC360549\", \"LBC360549\", \"LBC360549\", \"LBC360549\", \"LBC360549\", \"LBC360549\", \"LBC360549\", \"LBC360636\", \"LBC360636\", \"LBC360636\", \"LBC360636\", \"LBC360636\", \"LBC360636\", \"LBC360636\", \"LBC360636\", \"LBC360636\", \"LBC360658\", \"LBC360658\", \"LBC360658\", \"LBC360666\", \"LBC360666\", \"LBC360666\", \"LBC360702\", \"LBC360702\", \"LBC360725\", \"LBC360725\", \"LBC360725\", \"LBC360754\", \"LBC360754\", \"LBC360754\", \"LBC360754\", \"LBC360754\", \"LBC360754\", \"LBC360782\", \"LBC360782\", \"LBC360782\", \"LBC360782\", \"LBC360790\", \"LBC360790\", \"LBC360790\", \"LBC360790\", \"LBC360790\", \"LBC360790\", \"LBC360790\", \"LBC360790\", \"LBC360843\", \"LBC360843\", \"LBC360843\", \"LBC360843\", \"LBC360898\", \"LBC360898\", \"LBC360898\", \"LBC360898\", \"LBC360898\", \"LBC360898\", \"LBC360898\", \"LBC360898\", \"LBC360898\", \"LBC360898\", \"LBC360898\", \"LBC360898\", \"LBC360908\", \"LBC360908\", \"LBC360908\", \"LBC360908\", \"LBC360914\", \"LBC360914\", \"LBC360914\", \"LBC360914\", \"LBC360914\", \"LBC360914\", \"LBC360914\", \"LBC360914\", \"LBC360914\", \"LBC360914\", \"LBC360914\", \"LBC360914\", \"LBC360914\", \"LBC360914\", \"LBC360914\", \"LBC360914\", \"LBC360919\", \"LBC360919\", \"LBC360919\", \"LBC360919\", \"LBC360919\", \"LBC360919\", \"LBC360919\", \"LBC360919\", \"LBC360919\", \"LBC360919\", \"LBC360919\", \"LBC360919\", \"LBC361006\", \"LBC361006\", \"LBC361006\", \"LBC361006\", \"LBC361006\", \"LBC361006\", \"LBC361006\", \"LBC361006\", \"LBC361006\", \"LBC361006\", \"LBC361006\", \"LBC361006\", \"LBC361006\", \"LBC361006\", \"LBC361006\", \"LBC361006\", \"LBC361096\", \"LBC361096\", \"LBC361096\", \"LBC361096\", \"LBC361096\", \"LBC361096\", \"LBC361096\", \"LBC361096\", \"LBC361122\", \"LBC361122\", \"LBC361122\", \"LBC361122\", \"LBC361122\", \"LBC361122\", \"LBC361172\", \"LBC361172\", \"LBC361172\", \"LBC361172\", \"LBC361172\", \"LBC361172\", \"LBC361214\", \"LBC361214\", \"LBC361214\", \"LBC361214\", \"LBC361214\", \"LBC361214\", \"LBC361214\", \"LBC361214\", \"LBC361225\", \"LBC361225\", \"LBC361225\", \"LBC361225\", \"LBC361286\", \"LBC361286\", \"LBC361286\", \"LBC361286\", \"LBC361286\", \"LBC361286\", \"LBC361286\", \"LBC361286\", \"LBC361286\", \"LBC361286\", \"LBC361286\", \"LBC361286\"], \"legendgroup\": \"DNMT3A\", \"marker\": {\"color\": \"#EF553B\"}, \"name\": \"DNMT3A\", \"notched\": false, \"offsetgroup\": \"DNMT3A\", \"orientation\": \"v\", \"showlegend\": true, \"type\": \"box\", \"x\": [\"DNMT3A\", \"DNMT3A\", \"DNMT3A\", \"DNMT3A\", \"DNMT3A\", \"DNMT3A\", \"DNMT3A\", \"DNMT3A\", \"DNMT3A\", \"DNMT3A\", \"DNMT3A\", \"DNMT3A\", \"DNMT3A\", \"DNMT3A\", \"DNMT3A\", \"DNMT3A\", \"DNMT3A\", \"DNMT3A\", \"DNMT3A\", \"DNMT3A\", \"DNMT3A\", \"DNMT3A\", \"DNMT3A\", \"DNMT3A\", \"DNMT3A\", \"DNMT3A\", \"DNMT3A\", \"DNMT3A\", \"DNMT3A\", \"DNMT3A\", \"DNMT3A\", \"DNMT3A\", \"DNMT3A\", \"DNMT3A\", \"DNMT3A\", \"DNMT3A\", \"DNMT3A\", \"DNMT3A\", \"DNMT3A\", \"DNMT3A\", \"DNMT3A\", \"DNMT3A\", \"DNMT3A\", \"DNMT3A\", \"DNMT3A\", \"DNMT3A\", \"DNMT3A\", \"DNMT3A\", \"DNMT3A\", \"DNMT3A\", \"DNMT3A\", \"DNMT3A\", \"DNMT3A\", \"DNMT3A\", \"DNMT3A\", \"DNMT3A\", \"DNMT3A\", \"DNMT3A\", \"DNMT3A\", \"DNMT3A\", \"DNMT3A\", \"DNMT3A\", \"DNMT3A\", \"DNMT3A\", \"DNMT3A\", \"DNMT3A\", \"DNMT3A\", \"DNMT3A\", \"DNMT3A\", \"DNMT3A\", \"DNMT3A\", \"DNMT3A\", \"DNMT3A\", \"DNMT3A\", \"DNMT3A\", \"DNMT3A\", \"DNMT3A\", \"DNMT3A\", \"DNMT3A\", \"DNMT3A\", \"DNMT3A\", \"DNMT3A\", \"DNMT3A\", \"DNMT3A\", \"DNMT3A\", \"DNMT3A\", \"DNMT3A\", \"DNMT3A\", \"DNMT3A\", \"DNMT3A\", \"DNMT3A\", \"DNMT3A\", \"DNMT3A\", \"DNMT3A\", \"DNMT3A\", \"DNMT3A\", \"DNMT3A\", \"DNMT3A\", \"DNMT3A\", \"DNMT3A\", \"DNMT3A\", \"DNMT3A\", \"DNMT3A\", \"DNMT3A\", \"DNMT3A\", \"DNMT3A\", \"DNMT3A\", \"DNMT3A\", \"DNMT3A\", \"DNMT3A\", \"DNMT3A\", \"DNMT3A\", \"DNMT3A\", \"DNMT3A\", \"DNMT3A\", \"DNMT3A\", \"DNMT3A\", \"DNMT3A\", \"DNMT3A\", \"DNMT3A\", \"DNMT3A\", \"DNMT3A\", \"DNMT3A\", \"DNMT3A\", \"DNMT3A\", \"DNMT3A\", \"DNMT3A\", \"DNMT3A\", \"DNMT3A\", \"DNMT3A\", \"DNMT3A\", \"DNMT3A\", \"DNMT3A\", \"DNMT3A\", \"DNMT3A\", \"DNMT3A\", \"DNMT3A\", \"DNMT3A\", \"DNMT3A\", \"DNMT3A\", \"DNMT3A\", \"DNMT3A\", \"DNMT3A\", \"DNMT3A\", \"DNMT3A\", \"DNMT3A\", \"DNMT3A\", \"DNMT3A\", \"DNMT3A\", \"DNMT3A\", \"DNMT3A\", \"DNMT3A\", \"DNMT3A\", \"DNMT3A\", \"DNMT3A\", \"DNMT3A\", \"DNMT3A\", \"DNMT3A\", \"DNMT3A\", \"DNMT3A\", \"DNMT3A\", \"DNMT3A\", \"DNMT3A\", \"DNMT3A\", \"DNMT3A\", \"DNMT3A\", \"DNMT3A\", \"DNMT3A\", \"DNMT3A\", \"DNMT3A\", \"DNMT3A\", \"DNMT3A\", \"DNMT3A\", \"DNMT3A\", \"DNMT3A\", \"DNMT3A\", \"DNMT3A\", \"DNMT3A\", \"DNMT3A\", \"DNMT3A\", \"DNMT3A\", \"DNMT3A\", \"DNMT3A\", \"DNMT3A\", \"DNMT3A\", \"DNMT3A\", \"DNMT3A\", \"DNMT3A\", \"DNMT3A\", \"DNMT3A\", \"DNMT3A\", \"DNMT3A\", \"DNMT3A\", \"DNMT3A\", \"DNMT3A\", \"DNMT3A\", \"DNMT3A\", \"DNMT3A\", \"DNMT3A\", \"DNMT3A\", \"DNMT3A\", \"DNMT3A\", \"DNMT3A\", \"DNMT3A\", \"DNMT3A\", \"DNMT3A\", \"DNMT3A\", \"DNMT3A\", \"DNMT3A\", \"DNMT3A\", \"DNMT3A\", \"DNMT3A\", \"DNMT3A\", \"DNMT3A\", \"DNMT3A\", \"DNMT3A\", \"DNMT3A\", \"DNMT3A\", \"DNMT3A\", \"DNMT3A\", \"DNMT3A\", \"DNMT3A\", \"DNMT3A\", \"DNMT3A\", \"DNMT3A\", \"DNMT3A\", \"DNMT3A\", \"DNMT3A\", \"DNMT3A\", \"DNMT3A\", \"DNMT3A\", \"DNMT3A\", \"DNMT3A\", \"DNMT3A\", \"DNMT3A\", \"DNMT3A\", \"DNMT3A\", \"DNMT3A\", \"DNMT3A\", \"DNMT3A\", \"DNMT3A\", \"DNMT3A\", \"DNMT3A\", \"DNMT3A\", \"DNMT3A\", \"DNMT3A\", \"DNMT3A\", \"DNMT3A\", \"DNMT3A\", \"DNMT3A\", \"DNMT3A\", \"DNMT3A\", \"DNMT3A\", \"DNMT3A\", \"DNMT3A\", \"DNMT3A\", \"DNMT3A\", \"DNMT3A\", \"DNMT3A\", \"DNMT3A\", \"DNMT3A\", \"DNMT3A\", \"DNMT3A\", \"DNMT3A\", \"DNMT3A\", \"DNMT3A\", \"DNMT3A\", \"DNMT3A\", \"DNMT3A\", \"DNMT3A\", \"DNMT3A\", \"DNMT3A\", \"DNMT3A\", \"DNMT3A\", \"DNMT3A\", \"DNMT3A\", \"DNMT3A\", \"DNMT3A\", \"DNMT3A\", \"DNMT3A\", \"DNMT3A\", \"DNMT3A\", \"DNMT3A\", \"DNMT3A\", \"DNMT3A\", \"DNMT3A\", \"DNMT3A\", \"DNMT3A\", \"DNMT3A\", \"DNMT3A\", \"DNMT3A\", \"DNMT3A\", \"DNMT3A\", \"DNMT3A\", \"DNMT3A\", \"DNMT3A\", \"DNMT3A\", \"DNMT3A\", \"DNMT3A\", \"DNMT3A\", \"DNMT3A\", \"DNMT3A\", \"DNMT3A\", \"DNMT3A\", \"DNMT3A\", \"DNMT3A\", \"DNMT3A\", \"DNMT3A\", \"DNMT3A\", \"DNMT3A\", \"DNMT3A\", \"DNMT3A\", \"DNMT3A\", \"DNMT3A\", \"DNMT3A\", \"DNMT3A\", \"DNMT3A\", \"DNMT3A\", \"DNMT3A\", \"DNMT3A\", \"DNMT3A\", \"DNMT3A\", \"DNMT3A\", \"DNMT3A\", \"DNMT3A\", \"DNMT3A\", \"DNMT3A\", \"DNMT3A\", \"DNMT3A\", \"DNMT3A\", \"DNMT3A\", \"DNMT3A\", \"DNMT3A\", \"DNMT3A\", \"DNMT3A\", \"DNMT3A\", \"DNMT3A\", \"DNMT3A\", \"DNMT3A\", \"DNMT3A\", \"DNMT3A\", \"DNMT3A\", \"DNMT3A\", \"DNMT3A\", \"DNMT3A\", \"DNMT3A\", \"DNMT3A\", \"DNMT3A\", \"DNMT3A\", \"DNMT3A\", \"DNMT3A\", \"DNMT3A\", \"DNMT3A\", \"DNMT3A\", \"DNMT3A\", \"DNMT3A\", \"DNMT3A\", \"DNMT3A\", \"DNMT3A\", \"DNMT3A\", \"DNMT3A\", \"DNMT3A\", \"DNMT3A\", \"DNMT3A\", \"DNMT3A\", \"DNMT3A\", \"DNMT3A\", \"DNMT3A\", \"DNMT3A\", \"DNMT3A\", \"DNMT3A\", \"DNMT3A\", \"DNMT3A\", \"DNMT3A\", \"DNMT3A\", \"DNMT3A\", \"DNMT3A\", \"DNMT3A\", \"DNMT3A\", \"DNMT3A\", \"DNMT3A\", \"DNMT3A\", \"DNMT3A\", \"DNMT3A\", \"DNMT3A\", \"DNMT3A\", \"DNMT3A\", \"DNMT3A\", \"DNMT3A\", \"DNMT3A\", \"DNMT3A\", \"DNMT3A\", \"DNMT3A\", \"DNMT3A\", \"DNMT3A\", \"DNMT3A\", \"DNMT3A\", \"DNMT3A\", \"DNMT3A\", \"DNMT3A\", \"DNMT3A\", \"DNMT3A\", \"DNMT3A\", \"DNMT3A\", \"DNMT3A\", \"DNMT3A\", \"DNMT3A\", \"DNMT3A\", \"DNMT3A\", \"DNMT3A\", \"DNMT3A\", \"DNMT3A\", \"DNMT3A\", \"DNMT3A\", \"DNMT3A\", \"DNMT3A\", \"DNMT3A\", \"DNMT3A\", \"DNMT3A\", \"DNMT3A\", \"DNMT3A\", \"DNMT3A\", \"DNMT3A\", \"DNMT3A\", \"DNMT3A\", \"DNMT3A\", \"DNMT3A\", \"DNMT3A\", \"DNMT3A\", \"DNMT3A\", \"DNMT3A\", \"DNMT3A\", \"DNMT3A\", \"DNMT3A\", \"DNMT3A\", \"DNMT3A\", \"DNMT3A\", \"DNMT3A\", \"DNMT3A\", \"DNMT3A\", \"DNMT3A\", \"DNMT3A\", \"DNMT3A\", \"DNMT3A\", \"DNMT3A\", \"DNMT3A\", \"DNMT3A\", \"DNMT3A\", \"DNMT3A\", \"DNMT3A\", \"DNMT3A\", \"DNMT3A\", \"DNMT3A\", \"DNMT3A\", \"DNMT3A\", \"DNMT3A\", \"DNMT3A\", \"DNMT3A\", \"DNMT3A\", \"DNMT3A\", \"DNMT3A\", \"DNMT3A\", \"DNMT3A\", \"DNMT3A\", \"DNMT3A\", \"DNMT3A\", \"DNMT3A\", \"DNMT3A\", \"DNMT3A\", \"DNMT3A\", \"DNMT3A\", \"DNMT3A\", \"DNMT3A\", \"DNMT3A\", \"DNMT3A\", \"DNMT3A\", \"DNMT3A\", \"DNMT3A\", \"DNMT3A\", \"DNMT3A\", \"DNMT3A\", \"DNMT3A\", \"DNMT3A\", \"DNMT3A\", \"DNMT3A\", \"DNMT3A\", \"DNMT3A\", \"DNMT3A\", \"DNMT3A\", \"DNMT3A\", \"DNMT3A\", \"DNMT3A\", \"DNMT3A\", \"DNMT3A\", \"DNMT3A\", \"DNMT3A\", \"DNMT3A\", \"DNMT3A\", \"DNMT3A\", \"DNMT3A\", \"DNMT3A\", \"DNMT3A\", \"DNMT3A\", \"DNMT3A\", \"DNMT3A\", \"DNMT3A\", \"DNMT3A\", \"DNMT3A\", \"DNMT3A\", \"DNMT3A\", \"DNMT3A\", \"DNMT3A\", \"DNMT3A\", \"DNMT3A\", \"DNMT3A\", \"DNMT3A\", \"DNMT3A\", \"DNMT3A\", \"DNMT3A\", \"DNMT3A\", \"DNMT3A\", \"DNMT3A\", \"DNMT3A\", \"DNMT3A\", \"DNMT3A\", \"DNMT3A\", \"DNMT3A\", \"DNMT3A\", \"DNMT3A\", \"DNMT3A\", \"DNMT3A\", \"DNMT3A\", \"DNMT3A\", \"DNMT3A\", \"DNMT3A\", \"DNMT3A\", \"DNMT3A\", \"DNMT3A\", \"DNMT3A\", \"DNMT3A\", \"DNMT3A\", \"DNMT3A\", \"DNMT3A\", \"DNMT3A\", \"DNMT3A\", \"DNMT3A\", \"DNMT3A\", \"DNMT3A\", \"DNMT3A\", \"DNMT3A\", \"DNMT3A\", \"DNMT3A\", \"DNMT3A\", \"DNMT3A\", \"DNMT3A\", \"DNMT3A\", \"DNMT3A\", \"DNMT3A\", \"DNMT3A\", \"DNMT3A\", \"DNMT3A\", \"DNMT3A\", \"DNMT3A\", \"DNMT3A\", \"DNMT3A\", \"DNMT3A\", \"DNMT3A\", \"DNMT3A\", \"DNMT3A\", \"DNMT3A\", \"DNMT3A\", \"DNMT3A\", \"DNMT3A\", \"DNMT3A\", \"DNMT3A\", \"DNMT3A\", \"DNMT3A\", \"DNMT3A\", \"DNMT3A\", \"DNMT3A\", \"DNMT3A\", \"DNMT3A\", \"DNMT3A\", \"DNMT3A\", \"DNMT3A\", \"DNMT3A\", \"DNMT3A\", \"DNMT3A\", \"DNMT3A\", \"DNMT3A\", \"DNMT3A\", \"DNMT3A\", \"DNMT3A\", \"DNMT3A\", \"DNMT3A\", \"DNMT3A\", \"DNMT3A\", \"DNMT3A\", \"DNMT3A\", \"DNMT3A\", \"DNMT3A\", \"DNMT3A\", \"DNMT3A\", \"DNMT3A\", \"DNMT3A\", \"DNMT3A\", \"DNMT3A\", \"DNMT3A\", \"DNMT3A\", \"DNMT3A\", \"DNMT3A\", \"DNMT3A\", \"DNMT3A\", \"DNMT3A\", \"DNMT3A\", \"DNMT3A\", \"DNMT3A\", \"DNMT3A\", \"DNMT3A\", \"DNMT3A\", \"DNMT3A\", \"DNMT3A\", \"DNMT3A\", \"DNMT3A\", \"DNMT3A\", \"DNMT3A\", \"DNMT3A\", \"DNMT3A\", \"DNMT3A\", \"DNMT3A\", \"DNMT3A\", \"DNMT3A\", \"DNMT3A\", \"DNMT3A\", \"DNMT3A\", \"DNMT3A\", \"DNMT3A\", \"DNMT3A\", \"DNMT3A\", \"DNMT3A\", \"DNMT3A\", \"DNMT3A\", \"DNMT3A\", \"DNMT3A\", \"DNMT3A\", \"DNMT3A\", \"DNMT3A\", \"DNMT3A\", \"DNMT3A\", \"DNMT3A\", \"DNMT3A\", \"DNMT3A\", \"DNMT3A\"], \"x0\": \" \", \"xaxis\": \"x\", \"y\": [0.0014666666666666667, null, -0.0012655697004379757, 0.004734272207354932, null, -0.005266402946983834, 0.006177647880328997, -0.00513841739578767, null, -0.0042049573917777895, -0.0008082903768654762, -0.0008660254037844387, null, 0.0028867513459481286, -0.003117691453623979, null, -0.002041241452319315, null, 0.16689190114162722, null, -0.0023671361036774656, null, -0.00023094010767585094, -0.0008082903768654753, null, -0.001962990915244728, 0.000981495457622364, null, 0.033925432937547025, null, 0.0035218366420567177, null, -0.0035109352979892225, 0.0034063665882187923, -0.0035795716689756797, null, -0.004214656965084269, null, -0.003796709101313927, 0.002713546265191241, -0.002078460969082653, null, -0.0026944387170614965, 0.0038105117766515308, -0.003290896534380867, null, -0.0033476359818036764, null, -0.004330127018922193, null, -0.0026944387170614956, 0.001616580753730952, -0.002078460969082653, null, 0.0010392304845413271, -0.001847520861406803, null, -0.0031435118365717458, 0.0014433756729740643, null, 0.00046188021535170084, -0.003464101615137755, null, 0.0018371173070873853, null, 0.02331097738548658, null, -0.0017554676489946114, -0.00046188021535170036, 0.0005773502691896258, null, -0.006491147818375421, -0.0007756717518813398, null, -0.0024903145718295646, -0.0005196152422706636, 0.00028867513459481317, null, -0.0013472193585307478, -0.002713546265191242, null, -0.001918766965180156, 0.005715767664977295, -0.006119912853410033, null, -0.0028577380332470417, 0.003983716857408418, -0.004792007234273895, null, 0.004445597072760119, null, -0.0012655697004379757, null, 0.003868246803570493, -0.0039837168574084186, null, -0.0008660254037844395, -0.00028867513459481214, null, -0.011675901107266483, 0.003233161507461905, null, 0.0031754264805429417, -0.004272391992003231, null, -0.002886751345948129, null, -0.007634243031674239, null, 0.0017320508075688778, -0.0038105117766515308, null, 0.005837950553633241, null, -0.002286190426597633, 0.001385640646055102, 0.00028867513459481317, null, 0.0008573214099741126, 0.006524058041842771, -0.004503332099679081, null, -0.004082482904638631, 0.0012701705922171765, 0.0016743157806499152, null, -0.0040416580755922435, 0.0023094010767585028, -0.003117691453623979, null, 0.0036373066958946426, -0.00178978583448784, null, 0.0068177464507465126, 0.0043878620458411574, null, -0.0034063665882187923, null, -0.0026944387170614965, -0.00046188021535170084, -5.773502691896223e-05, null, -0.0033068111527572905, null, -0.0017554676489946112, -0.005138417395787669, 0.0009814954576223634, null, -0.0016743157806499147, 0.0006928203230275508, null, -0.0045033320996790815, -0.00046188021535170036, null, -0.0022045407685048605, -0.0024903145718295646, null, -0.0015513435037626795, 0.000750555349946514, -0.00028867513459481317, null, -0.0035218366420567172, -0.002482606157515391, null, -0.0004898979485566356, 0.0018475208614068023, -0.0005196152422706631, null, -0.0009797958971132711, 0.0027135462651912408, -0.00357957166897568, null, 0.0039837168574084186, -0.004849742261192857, null, -0.005196152422706632, null, -0.016044157815229818, 0.000692820323027551, null, -0.005138417395787668, 0.0001732050807568877, null, 0.0011430952132988163, 0.000981495457622364, -0.00023094010767584993, null, 0.0013472193585307478, -0.0010969655114602885, 0.0008082903768654762, null, -0.0032331615074619045, null, -0.004286607049870561, null, -0.005348052605076606, 0.006235382907247958, -0.006235382907247958, null, -0.001796292478040997, 0.0028867513459481286, -0.003637306695894642, null, -0.0054297022631693784, 0.0, -0.00011547005383792497, null, 0.010981879013477918, -0.0026558112382722827, null, 0.00881816307401944, 0.01356773132595621, null, -0.002571964229922337, -0.001096965511460289, null, -0.001632993161855452, 0.0005196152422706636, -0.0006928203230275518, null, 0.0019052558883257656, null, 0.003059956426705017, null, -0.0001732050807568877, 0.004387862045841156, null, -0.0024, 0.0019052558883257645, null, -0.0004490731195102495, -0.0023671361036774656, 0.0006928203230275508, null, 0.002886751345948129, null, 0.0032659863237109047, null, -0.015472610208580408, 0.003868246803570493, 0.0049074772881118195, null, -0.0032251614946645184, 0.0004490731195102495, null, -0.0012701705922171765, null, -0.0035, 0.002193931022920578, null, -0.005433333333333334, 0.003233161507461904, null, -0.0040999999999999995, null, 0.0025980762113533163, -0.005196152422706633, null, -0.007634243031674239, -0.0022516660498395403, 0.0032908965343808666, null, 4.082482904638606e-05, -0.0019052558883257645, 0.0006350852961085886, null, -0.0021637159394584738, -0.00023094010767585042, 0.003117691453623979, null, -0.00265361388801511, 0.0006350852961085886, 0.000981495457622364, null, -0.005225578117937448, 0.002078460969082653, 0.00028867513459481317, null, 0.0008981462390204985, 0.0017897858344878407, 0.0013279056191361383, null, -0.004676537180435969, 0.00178978583448784, null, -0.004245782220824176, 0.00023094010767585042, 0.002193931022920578, null, 0.003925981830489456, -0.0034641016151377548, null, 0.002540341184434353, -0.001270170592217176, null, -0.006524058041842771, null, -0.0054297022631693784, -0.0005773502691896263, 0.0011547005383792516, null, -0.0011430952132988163, 0.0004041451884327381, 0.0036373066958946426, null, 0.0010392304845413263, -0.003233161507461904, null, 0.0053116224765445575, -0.0018475208614068023, null, 0.0028867513459481286, -0.0031754264805429417, null, -0.0010206207261596574, 0.004330127018922194, -0.00311769145362398, null, -0.0005715476066494076, -0.001732050807568875, 0.005369357503463517, null, -0.002735263546107883, 0.0005773502691896256, -0.0010392304845413263, null, 0.0005773502691896263, null, -0.0024903145718295646, 0.005196152422706633, -0.0036950417228136046, null, -0.0017554676489946112, 0.0031754264805429417, -0.0030599564267050163, null, -0.006164549186004332, 0.0010969655114602885, -0.002482606157515391, null, -0.0016743157806499152, 0.0029444863728670914, null, -0.0030599564267050163, 0.0033486315612998294, null, -0.0006123724356957945, -0.00023094010767584993, 0.005080682368868706, null, 0.0032331615074619045, null, -0.0032659863237109047, -0.001674315780649915, 0.0015011106998930272, null, -0.0011022703842524303, 0.0017320508075688774, 0.0005773502691896263, null, -0.002944486372867092, null, -0.005062278801751903, 5.7735026918962734e-05, 0.00046188021535170036, null, -0.004164132562731403, 0.0014433756729740643, 0.0009237604307034011, null, -0.002598076211353316, 0.0, null, 0.00783836717690617, 0.004445597072760118, 0.0005773502691896263, null, -0.004409081537009721, 0.0038105117766515303, -0.0032908965343808666, null, 0.0019595917942265427, -0.0021939310229205783, null, 0.0022861904265976327, 0.0008082903768654762, null, -0.003470110468942836, null, -0.006350852961085883, null, -0.004123307733685018, -0.002309401076758503, -0.0011547005383792527, null, 0.0007348469228349532, -0.0006928203230275508, -5.773502691896223e-05, null, 0.0037527767497325675, -0.0034063665882187923, null, 0.0008660254037844375, -0.0024248711305964277, null, -0.002163715939458474, -0.0011547005383792516, -0.001270170592217177, null, -0.0015105186747162934, -0.0030599564267050168, null, -0.0027352635461078824, -0.0002449489742783178, null, 0.0022516660498395403, null, 0.0011430952132988168, -0.000981495457622364, null, -0.00583123771881522, 0.0006123724356957946, -0.00023094010767585042, null, -0.0006350852961085875, -0.0028867513459481294, 0.0, null, 0.01206662062606318, 0.025865292059695236, 0.008602519010925423, 0.012874911002928655, null, 0.00046188021535169987, 0.0008660254037844395, 0.005196152422706633, null, 0.0018475208614068023, -0.0024248711305964277, null, 0.0018475208614068019, 0.0013856406460551025, -0.0024248711305964285, null, 0.0025980762113533163, -0.002771281292110204, null, 0.0027135462651912408, null, 0.0048497422611928674, 0.007159143337951372, null, -0.008717989064763352, -0.010103629710818452, null, -0.0014433756729740658, -0.0008082903768654753, 0.010854185060764963, null, -0.0010969655114602885, null, -0.00831384387633061, null, -0.0020207259421636922, null, 0.0011547005383792527, null, 0.01876388374866284, 0.005196152422706637, 0.009122134253196076, null, -0.0013856406460551025, 0.0012701705922171771, -0.0010969655114602894, null, 0.0003464101615137694, -0.006119912853410033, -0.00046188021535169786, null, 0.0021361959960016154, -0.00046188021535170084, 0.00011547005383792447, null, -0.0017320508075688778, 0.001962990915244728, 0.00046188021535170084, null, -0.003983716857408418, 0.000750555349946513, 0.0006350852961085886, null, 0.03406366588218792, 0.022401190444557482, 0.040010373654841065, null, -0.0028290163190291665, 5.773502691896223e-05, 0.0011547005383792516, null, -0.012470765814495922, 0.041915629543166834, 0.021361959960016143, null, -0.0015588457268119781, 0.00496521231503078, 0.03591118674359471, null, 0.002309401076758503, 0.005773502691896259, null, 0.00046188021535170084, 0.0003464101615137754, null, 0.037123622308892934, 0.03850926295494806, null, -0.003233161507461903, 0.004099186911246343, null, 0.0029802125203861993, 0.004272391992003231, null, 0.0030599564267050168, null, -0.004531556024148881, -5.7735026918962734e-05, null, 0.0005196152422706631, -0.004041451884327381, null, 0.019860849260123152, 0.025461146871262483, null, -0.0028290163190291665, -0.00028867513459481317, -0.0016743157806499152, null, 0.007225994741210374, 0.022227985363800613, null, 0.0004082482904638631, 0.0020784609690826525, null, 0.004533333333333334, null, -0.0009237604307034007, 0.0025311394008759504, 0.0021939310229205787, null, -0.001616580753730952, 0.0006350852961085882, 0.004387862045841156, null, -0.0008660254037844387, 0.0017897858344878398, 0.002829016319029167, null, 0.002309401076758503, -0.00023094010767584993, 0.0013856406460551016, null, 0.000750555349946514, -0.002367136103677466, -0.0016743157806499147, null, -0.0010969655114602885, 0.0026558112382722788, -0.0030599564267050168, null, 0.0009237604307034017, -0.0016743157806499147, 0.005138417395787669, null, -5.773502691896223e-05, 0.0016743157806499147, 0.0013279056191361394, null, 0.013279056191361396, 0.027770547948021, 0.011662475437630439, null, 0.0033486315612998134, 0.023382685902179866, 0.0021361959960016046, null, -0.00011547005383792547, 0.00011547005383792547, 0.0016165807537309525, null, -0.0036950417228136046, 0.0017320508075688774, 0.0024826061575153914, null, 0.004156921938165305, -0.004561067126598042, -0.003521836642056718, null, -0.002829016319029159, -0.0058889727457341915, -0.03169652977851046, null, -0.0012124355652982143, 0.0038682468035704937, -0.0038105117766515308, null, -0.0016165807537309525, 0.0006350852961085886, -0.000750555349946514, null, 0.00669726312259966, null, -0.003983716857408418, 0.0025980762113533163, -0.0019629909152447285, null, 0.005484827557301446, null, 5.773502691896223e-05, -0.00028867513459481214, 0.0008660254037844385, null, -0.0035218366420567177, null, -0.005022947341949744, 0.00017320508075688719, null, 0.009757219549304677, -0.002193931022920581, null, 0.0071591433379513646, 0.011893415545306287, -0.006119912853410033, null, -0.00046188021535170057, 0.0005773502691896258, 0.005369357503463519, null, 0.008256108849411636, 0.013394526245199318, 0.02297854071374711, null, 0.00202072594216369, null, 0.004156921938165306, null, 0.009526279441628824, null, 0.004156921938165306, null, 0.0024248711305964285, null, 0.005484827557301444, null], \"y0\": \" \", \"yaxis\": \"y\"}, {\"alignmentgroup\": \"True\", \"boxpoints\": \"all\", \"customdata\": [[\"ASXL1\"], [\"ASXL1\"], [\"ASXL1\"], [\"ASXL1\"], [\"ASXL1\"], [\"ASXL1\"], [\"ASXL1\"], [\"ASXL1\"], [\"ASXL1\"], [\"ASXL1\"], [\"ASXL1\"], [\"ASXL1\"], [\"ASXL1\"], [\"ASXL1\"], [\"ASXL1\"], [\"ASXL1\"], [\"ASXL1\"], [\"ASXL1\"], [\"ASXL1\"], [\"ASXL1\"], [\"ASXL1\"], [\"ASXL1\"], [\"ASXL1\"], [\"ASXL1\"], [\"ASXL1\"], [\"ASXL1\"], [\"ASXL1\"], [\"ASXL1\"], [\"ASXL1\"], [\"ASXL1\"], [\"ASXL1\"], [\"ASXL1\"], [\"ASXL1\"], [\"ASXL1\"], [\"ASXL1\"], [\"ASXL1\"], [\"ASXL1\"], [\"ASXL1\"], [\"ASXL1\"], [\"ASXL1\"], [\"ASXL1\"], [\"ASXL1\"], [\"ASXL1\"], [\"ASXL1\"], [\"ASXL1\"], [\"ASXL1\"], [\"ASXL1\"], [\"ASXL1\"], [\"ASXL1\"], [\"ASXL1\"], [\"ASXL1\"], [\"ASXL1\"], [\"ASXL1\"], [\"ASXL1\"], [\"ASXL1\"], [\"ASXL1\"], [\"ASXL1\"], [\"ASXL1\"], [\"ASXL1\"], [\"ASXL1\"], [\"ASXL1\"], [\"ASXL1\"], [\"ASXL1\"], [\"ASXL1\"], [\"ASXL1\"], [\"ASXL1\"], [\"ASXL1\"], [\"ASXL1\"], [\"ASXL1\"], [\"ASXL1\"], [\"ASXL1\"], [\"ASXL1\"], [\"ASXL1\"], [\"ASXL1\"], [\"ASXL1\"], [\"ASXL1\"], [\"ASXL1\"], [\"ASXL1\"], [\"ASXL1\"], [\"ASXL1\"], [\"ASXL1\"], [\"ASXL1\"], [\"ASXL1\"], [\"ASXL1\"], [\"ASXL1\"], [\"ASXL1\"], [\"ASXL1\"], [\"ASXL1\"], [\"ASXL1\"], [\"ASXL1\"], [\"ASXL1\"], [\"ASXL1\"], [\"ASXL1\"], [\"ASXL1\"], [\"ASXL1\"], [\"ASXL1\"], [\"ASXL1\"], [\"ASXL1\"], [\"ASXL1\"], [\"ASXL1\"], [\"ASXL1\"], [\"ASXL1\"], [\"ASXL1\"], [\"ASXL1\"], [\"ASXL1\"], [\"ASXL1\"], [\"ASXL1\"], [\"ASXL1\"], [\"ASXL1\"], [\"ASXL1\"], [\"ASXL1\"], [\"ASXL1\"], [\"ASXL1\"], [\"ASXL1\"], [\"ASXL1\"], [\"ASXL1\"], [\"ASXL1\"], [\"ASXL1\"], [\"ASXL1\"], [\"ASXL1\"], [\"ASXL1\"], [\"ASXL1\"], [\"ASXL1\"], [\"ASXL1\"], [\"ASXL1\"], [\"ASXL1\"], [\"ASXL1\"], [\"ASXL1\"], [\"ASXL1\"], [\"ASXL1\"], [\"ASXL1\"], [\"ASXL1\"], [\"ASXL1\"], [\"ASXL1\"], [\"ASXL1\"], [\"ASXL1\"], [\"ASXL1\"], [\"ASXL1\"], [\"ASXL1\"], [\"ASXL1\"], [\"ASXL1\"], [\"ASXL1\"], [\"ASXL1\"], [\"ASXL1\"], [\"ASXL1\"], [\"ASXL1\"], [\"ASXL1\"], [\"ASXL1\"], [\"ASXL1\"], [\"ASXL1\"], [\"ASXL1\"], [\"ASXL1\"], [\"ASXL1\"], [\"ASXL1\"], [\"ASXL1\"], [\"ASXL1\"], [\"ASXL1\"], [\"ASXL1\"], [\"ASXL1\"], [\"ASXL1\"], [\"ASXL1\"], [\"ASXL1\"], [\"ASXL1\"], [\"ASXL1\"], [\"ASXL1\"], [\"ASXL1\"], [\"ASXL1\"], [\"ASXL1\"], [\"ASXL1\"], [\"ASXL1\"], [\"ASXL1\"], [\"ASXL1\"], [\"ASXL1\"], [\"ASXL1\"], [\"ASXL1\"], [\"ASXL1\"], [\"ASXL1\"], [\"ASXL1\"], [\"ASXL1\"], [\"ASXL1\"], [\"ASXL1\"], [\"ASXL1\"], [\"ASXL1\"], [\"ASXL1\"], [\"ASXL1\"], [\"ASXL1\"], [\"ASXL1\"], [\"ASXL1\"], [\"ASXL1\"], [\"ASXL1\"], [\"ASXL1\"], [\"ASXL1\"], [\"ASXL1\"], [\"ASXL1\"], [\"ASXL1\"], [\"ASXL1\"], [\"ASXL1\"], [\"ASXL1\"], [\"ASXL1\"], [\"ASXL1\"], [\"ASXL1\"], [\"ASXL1\"], [\"ASXL1\"], [\"ASXL1\"], [\"ASXL1\"], [\"ASXL1\"], [\"ASXL1\"], [\"ASXL1\"], [\"ASXL1\"], [\"ASXL1\"], [\"ASXL1\"], [\"ASXL1\"], [\"ASXL1\"], [\"ASXL1\"], [\"ASXL1\"], [\"ASXL1\"], [\"ASXL1\"], [\"ASXL1\"], [\"ASXL1\"], [\"ASXL1\"], [\"ASXL1\"], [\"ASXL1\"], [\"ASXL1\"], [\"ASXL1\"], [\"ASXL1\"], [\"ASXL1\"], [\"ASXL1\"], [\"ASXL1\"], [\"ASXL1\"], [\"ASXL1\"], [\"ASXL1\"], [\"ASXL1\"], [\"ASXL1\"], [\"ASXL1\"], [\"ASXL1\"], [\"ASXL1\"], [\"ASXL1\"], [\"ASXL1\"], [\"ASXL1\"], [\"ASXL1\"], [\"ASXL1\"], [\"ASXL1\"], [\"ASXL1\"], [\"ASXL1\"], [\"ASXL1\"], [\"ASXL1\"], [\"ASXL1\"], [\"ASXL1\"], [\"ASXL1\"], [\"ASXL1\"], [\"ASXL1\"], [\"ASXL1\"], [\"ASXL1\"], [\"ASXL1\"], [\"ASXL1\"], [\"ASXL1\"], [\"ASXL1\"], [\"ASXL1\"], [\"ASXL1\"], [\"ASXL1\"], [\"ASXL1\"], [\"ASXL1\"], [\"ASXL1\"], [\"ASXL1\"], [\"ASXL1\"], [\"ASXL1\"], [\"ASXL1\"], [\"ASXL1\"], [\"ASXL1\"], [\"ASXL1\"], [\"ASXL1\"], [\"ASXL1\"], [\"ASXL1\"], [\"ASXL1\"], [\"ASXL1\"], [\"ASXL1\"], [\"ASXL1\"], [\"ASXL1\"], [\"ASXL1\"], [\"ASXL1\"], [\"ASXL1\"], [\"ASXL1\"], [\"ASXL1\"], [\"ASXL1\"], [\"ASXL1\"], [\"ASXL1\"], [\"ASXL1\"], [\"ASXL1\"], [\"ASXL1\"], [\"ASXL1\"], [\"ASXL1\"], [\"ASXL1\"], [\"ASXL1\"], [\"ASXL1\"], [\"ASXL1\"], [\"ASXL1\"], [\"ASXL1\"], [\"ASXL1\"], [\"ASXL1\"], [\"ASXL1\"], [\"ASXL1\"], [\"ASXL1\"], [\"ASXL1\"], [\"ASXL1\"], [\"ASXL1\"], [\"ASXL1\"], [\"ASXL1\"], [\"ASXL1\"], [\"ASXL1\"], [\"ASXL1\"], [\"ASXL1\"], [\"ASXL1\"], [\"ASXL1\"], [\"ASXL1\"], [\"ASXL1\"], [\"ASXL1\"], [\"ASXL1\"], [\"ASXL1\"], [\"ASXL1\"], [\"ASXL1\"], [\"ASXL1\"], [\"ASXL1\"], [\"ASXL1\"], [\"ASXL1\"], [\"ASXL1\"], [\"ASXL1\"], [\"ASXL1\"], [\"ASXL1\"], [\"ASXL1\"], [\"ASXL1\"], [\"ASXL1\"], [\"ASXL1\"], [\"ASXL1\"], [\"ASXL1\"], [\"ASXL1\"], [\"ASXL1\"], [\"ASXL1\"], [\"ASXL1\"], [\"ASXL1\"], [\"ASXL1\"], [\"ASXL1\"], [\"ASXL1\"], [\"ASXL1\"], [\"ASXL1\"], [\"ASXL1\"], [\"ASXL1\"], [\"ASXL1\"], [\"ASXL1\"], [\"ASXL1\"], [\"ASXL1\"], [\"ASXL1\"], [\"ASXL1\"], [\"ASXL1\"], [\"ASXL1\"], [\"ASXL1\"], [\"ASXL1\"], [\"ASXL1\"], [\"ASXL1\"], [\"ASXL1\"], [\"ASXL1\"], [\"ASXL1\"], [\"ASXL1\"], [\"ASXL1\"], [\"ASXL1\"], [\"ASXL1\"]], \"hoverlabel\": {\"namelength\": 0}, \"hovertemplate\": \"<b>%{hovertext}</b><br><br>mutation=%{customdata[0]}<br>gradient=%{y}\", \"hovertext\": [\"LBC0031R\", \"LBC0031R\", \"LBC0031R\", \"LBC0031R\", \"LBC0031R\", \"LBC0031R\", \"LBC0031R\", \"LBC0031R\", \"LBC0031R\", \"LBC0031R\", \"LBC0031R\", \"LBC0031R\", \"LBC0031R\", \"LBC0031R\", \"LBC0031R\", \"LBC0031R\", \"LBC0031R\", \"LBC0031R\", \"LBC0031R\", \"LBC0031R\", \"LBC0031R\", \"LBC0046H\", \"LBC0046H\", \"LBC0046H\", \"LBC0046H\", \"LBC0046H\", \"LBC0046H\", \"LBC0046H\", \"LBC0065A\", \"LBC0065A\", \"LBC0065A\", \"LBC0065A\", \"LBC0065A\", \"LBC0065A\", \"LBC0065A\", \"LBC0065A\", \"LBC0065A\", \"LBC0065A\", \"LBC0065A\", \"LBC0065A\", \"LBC0102H\", \"LBC0102H\", \"LBC0102H\", \"LBC0102H\", \"LBC0102H\", \"LBC0102H\", \"LBC0102H\", \"LBC0102H\", \"LBC0118V\", \"LBC0118V\", \"LBC0118V\", \"LBC0118V\", \"LBC0118V\", \"LBC0118V\", \"LBC0118V\", \"LBC0118V\", \"LBC0118V\", \"LBC0118V\", \"LBC0118V\", \"LBC0144B\", \"LBC0144B\", \"LBC0144B\", \"LBC0144B\", \"LBC0144B\", \"LBC0144B\", \"LBC0152W\", \"LBC0152W\", \"LBC0152W\", \"LBC0165A\", \"LBC0165A\", \"LBC0165A\", \"LBC0176A\", \"LBC0176A\", \"LBC0176A\", \"LBC0176A\", \"LBC0176A\", \"LBC0176A\", \"LBC0176A\", \"LBC0220K\", \"LBC0220K\", \"LBC0220K\", \"LBC0220K\", \"LBC0220K\", \"LBC0220K\", \"LBC0220K\", \"LBC0220K\", \"LBC0220K\", \"LBC0220K\", \"LBC0220K\", \"LBC0220K\", \"LBC0220K\", \"LBC0220K\", \"LBC0220K\", \"LBC0220K\", \"LBC0220K\", \"LBC0220K\", \"LBC0220K\", \"LBC0242M\", \"LBC0242M\", \"LBC0242M\", \"LBC0242M\", \"LBC0242M\", \"LBC0242M\", \"LBC0242M\", \"LBC0242M\", \"LBC0242M\", \"LBC0263L\", \"LBC0263L\", \"LBC0263L\", \"LBC0263L\", \"LBC0284K\", \"LBC0284K\", \"LBC0284K\", \"LBC0284K\", \"LBC0284K\", \"LBC0284K\", \"LBC0284K\", \"LBC0284K\", \"LBC0373R\", \"LBC0373R\", \"LBC0392K\", \"LBC0392K\", \"LBC0392K\", \"LBC0392K\", \"LBC0392K\", \"LBC0392K\", \"LBC0392K\", \"LBC0392K\", \"LBC0405M\", \"LBC0405M\", \"LBC0405M\", \"LBC0405M\", \"LBC0405M\", \"LBC0405M\", \"LBC0405M\", \"LBC0405M\", \"LBC0405M\", \"LBC0405M\", \"LBC0405M\", \"LBC0405M\", \"LBC0429V\", \"LBC0429V\", \"LBC0429V\", \"LBC0429V\", \"LBC0429V\", \"LBC0429V\", \"LBC0429V\", \"LBC0429V\", \"LBC0429V\", \"LBC0429V\", \"LBC0429V\", \"LBC0429V\", \"LBC0439R\", \"LBC0439R\", \"LBC0439R\", \"LBC0439R\", \"LBC0439R\", \"LBC0439R\", \"LBC0461R\", \"LBC0461R\", \"LBC0461R\", \"LBC0461R\", \"LBC0461R\", \"LBC0461R\", \"LBC0461R\", \"LBC0461R\", \"LBC0461R\", \"LBC0461R\", \"LBC0461R\", \"LBC0464X\", \"LBC0464X\", \"LBC0464X\", \"LBC0464X\", \"LBC0464X\", \"LBC0464X\", \"LBC0464X\", \"LBC0464X\", \"LBC0471M\", \"LBC0471M\", \"LBC0471M\", \"LBC0471M\", \"LBC0471M\", \"LBC0471M\", \"LBC0471M\", \"LBC0471M\", \"LBC0517V\", \"LBC0517V\", \"LBC0517V\", \"LBC0517V\", \"LBC0520A\", \"LBC0520A\", \"LBC0520A\", \"LBC0520A\", \"LBC0520A\", \"LBC0520A\", \"LBC0520A\", \"LBC0520A\", \"LBC0520A\", \"LBC0520A\", \"LBC0520A\", \"LBC0520A\", \"LBC0520A\", \"LBC0520A\", \"LBC0520A\", \"LBC0520A\", \"LBC0520A\", \"LBC0520A\", \"LBC0588E\", \"LBC0588E\", \"LBC0588E\", \"LBC0588E\", \"LBC0588E\", \"LBC0588E\", \"LBC0588E\", \"LBC0588E\", \"LBC360008\", \"LBC360008\", \"LBC360008\", \"LBC360008\", \"LBC360008\", \"LBC360008\", \"LBC360008\", \"LBC360008\", \"LBC360008\", \"LBC360008\", \"LBC360008\", \"LBC360008\", \"LBC360008\", \"LBC360008\", \"LBC360008\", \"LBC360009\", \"LBC360009\", \"LBC360009\", \"LBC360009\", \"LBC360009\", \"LBC360009\", \"LBC360009\", \"LBC360009\", \"LBC360009\", \"LBC360009\", \"LBC360009\", \"LBC360009\", \"LBC360009\", \"LBC360009\", \"LBC360009\", \"LBC360104\", \"LBC360104\", \"LBC360104\", \"LBC360104\", \"LBC360104\", \"LBC360104\", \"LBC360104\", \"LBC360104\", \"LBC360790\", \"LBC360790\", \"LBC360790\", \"LBC360790\", \"LBC360790\", \"LBC360790\", \"LBC360843\", \"LBC360843\", \"LBC360843\", \"LBC360843\", \"LBC360843\", \"LBC360843\", \"LBC360843\", \"LBC360843\", \"LBC360843\", \"LBC360843\", \"LBC360843\", \"LBC360843\", \"LBC360898\", \"LBC360898\", \"LBC360898\", \"LBC360898\", \"LBC360898\", \"LBC360898\", \"LBC360898\", \"LBC360898\", \"LBC360908\", \"LBC360908\", \"LBC360908\", \"LBC360908\", \"LBC360908\", \"LBC360908\", \"LBC360908\", \"LBC360908\", \"LBC360914\", \"LBC360914\", \"LBC360914\", \"LBC360914\", \"LBC360914\", \"LBC360914\", \"LBC360914\", \"LBC360914\", \"LBC360914\", \"LBC360914\", \"LBC360914\", \"LBC360914\", \"LBC360919\", \"LBC360919\", \"LBC360919\", \"LBC360919\", \"LBC360919\", \"LBC360919\", \"LBC360919\", \"LBC360919\", \"LBC360919\", \"LBC360919\", \"LBC360919\", \"LBC360919\", \"LBC361006\", \"LBC361006\", \"LBC361006\", \"LBC361006\", \"LBC361006\", \"LBC361006\", \"LBC361006\", \"LBC361006\", \"LBC361096\", \"LBC361096\", \"LBC361096\", \"LBC361096\", \"LBC361096\", \"LBC361096\", \"LBC361096\", \"LBC361096\", \"LBC361096\", \"LBC361096\", \"LBC361096\", \"LBC361122\", \"LBC361122\", \"LBC361122\", \"LBC361122\", \"LBC361122\", \"LBC361122\", \"LBC361122\", \"LBC361122\", \"LBC361133\", \"LBC361133\", \"LBC361133\", \"LBC361133\", \"LBC361133\", \"LBC361133\", \"LBC361133\", \"LBC361133\", \"LBC361133\", \"LBC361172\", \"LBC361172\", \"LBC361172\", \"LBC361172\", \"LBC361172\", \"LBC361172\", \"LBC361214\", \"LBC361214\", \"LBC361214\", \"LBC361214\", \"LBC361225\", \"LBC361225\", \"LBC361225\", \"LBC361225\", \"LBC361225\", \"LBC361225\", \"LBC361225\", \"LBC361225\"], \"legendgroup\": \"ASXL1\", \"marker\": {\"color\": \"#00cc96\"}, \"name\": \"ASXL1\", \"notched\": false, \"offsetgroup\": \"ASXL1\", \"orientation\": \"v\", \"showlegend\": true, \"type\": \"box\", \"x\": [\"ASXL1\", \"ASXL1\", \"ASXL1\", \"ASXL1\", \"ASXL1\", \"ASXL1\", \"ASXL1\", \"ASXL1\", \"ASXL1\", \"ASXL1\", \"ASXL1\", \"ASXL1\", \"ASXL1\", \"ASXL1\", \"ASXL1\", \"ASXL1\", \"ASXL1\", \"ASXL1\", \"ASXL1\", \"ASXL1\", \"ASXL1\", \"ASXL1\", \"ASXL1\", \"ASXL1\", \"ASXL1\", \"ASXL1\", \"ASXL1\", \"ASXL1\", \"ASXL1\", \"ASXL1\", \"ASXL1\", \"ASXL1\", \"ASXL1\", \"ASXL1\", \"ASXL1\", \"ASXL1\", \"ASXL1\", \"ASXL1\", \"ASXL1\", \"ASXL1\", \"ASXL1\", \"ASXL1\", \"ASXL1\", \"ASXL1\", \"ASXL1\", \"ASXL1\", \"ASXL1\", \"ASXL1\", \"ASXL1\", \"ASXL1\", \"ASXL1\", \"ASXL1\", \"ASXL1\", \"ASXL1\", \"ASXL1\", \"ASXL1\", \"ASXL1\", \"ASXL1\", \"ASXL1\", \"ASXL1\", \"ASXL1\", \"ASXL1\", \"ASXL1\", \"ASXL1\", \"ASXL1\", \"ASXL1\", \"ASXL1\", \"ASXL1\", \"ASXL1\", \"ASXL1\", \"ASXL1\", \"ASXL1\", \"ASXL1\", \"ASXL1\", \"ASXL1\", \"ASXL1\", \"ASXL1\", \"ASXL1\", \"ASXL1\", \"ASXL1\", \"ASXL1\", \"ASXL1\", \"ASXL1\", \"ASXL1\", \"ASXL1\", \"ASXL1\", \"ASXL1\", \"ASXL1\", \"ASXL1\", \"ASXL1\", \"ASXL1\", \"ASXL1\", \"ASXL1\", \"ASXL1\", \"ASXL1\", \"ASXL1\", \"ASXL1\", \"ASXL1\", \"ASXL1\", \"ASXL1\", \"ASXL1\", \"ASXL1\", \"ASXL1\", \"ASXL1\", \"ASXL1\", \"ASXL1\", \"ASXL1\", \"ASXL1\", \"ASXL1\", \"ASXL1\", \"ASXL1\", \"ASXL1\", \"ASXL1\", \"ASXL1\", \"ASXL1\", \"ASXL1\", \"ASXL1\", \"ASXL1\", \"ASXL1\", \"ASXL1\", \"ASXL1\", \"ASXL1\", \"ASXL1\", \"ASXL1\", \"ASXL1\", \"ASXL1\", \"ASXL1\", \"ASXL1\", \"ASXL1\", \"ASXL1\", \"ASXL1\", \"ASXL1\", \"ASXL1\", \"ASXL1\", \"ASXL1\", \"ASXL1\", \"ASXL1\", \"ASXL1\", \"ASXL1\", \"ASXL1\", \"ASXL1\", \"ASXL1\", \"ASXL1\", \"ASXL1\", \"ASXL1\", \"ASXL1\", \"ASXL1\", \"ASXL1\", \"ASXL1\", \"ASXL1\", \"ASXL1\", \"ASXL1\", \"ASXL1\", \"ASXL1\", \"ASXL1\", \"ASXL1\", \"ASXL1\", \"ASXL1\", \"ASXL1\", \"ASXL1\", \"ASXL1\", \"ASXL1\", \"ASXL1\", \"ASXL1\", \"ASXL1\", \"ASXL1\", \"ASXL1\", \"ASXL1\", \"ASXL1\", \"ASXL1\", \"ASXL1\", \"ASXL1\", \"ASXL1\", \"ASXL1\", \"ASXL1\", \"ASXL1\", \"ASXL1\", \"ASXL1\", \"ASXL1\", \"ASXL1\", \"ASXL1\", \"ASXL1\", \"ASXL1\", \"ASXL1\", \"ASXL1\", \"ASXL1\", \"ASXL1\", \"ASXL1\", \"ASXL1\", \"ASXL1\", \"ASXL1\", \"ASXL1\", \"ASXL1\", \"ASXL1\", \"ASXL1\", \"ASXL1\", \"ASXL1\", \"ASXL1\", \"ASXL1\", \"ASXL1\", \"ASXL1\", \"ASXL1\", \"ASXL1\", \"ASXL1\", \"ASXL1\", \"ASXL1\", \"ASXL1\", \"ASXL1\", \"ASXL1\", \"ASXL1\", \"ASXL1\", \"ASXL1\", \"ASXL1\", \"ASXL1\", \"ASXL1\", \"ASXL1\", \"ASXL1\", \"ASXL1\", \"ASXL1\", \"ASXL1\", \"ASXL1\", \"ASXL1\", \"ASXL1\", \"ASXL1\", \"ASXL1\", \"ASXL1\", \"ASXL1\", \"ASXL1\", \"ASXL1\", \"ASXL1\", \"ASXL1\", \"ASXL1\", \"ASXL1\", \"ASXL1\", \"ASXL1\", \"ASXL1\", \"ASXL1\", \"ASXL1\", \"ASXL1\", \"ASXL1\", \"ASXL1\", \"ASXL1\", \"ASXL1\", \"ASXL1\", \"ASXL1\", \"ASXL1\", \"ASXL1\", \"ASXL1\", \"ASXL1\", \"ASXL1\", \"ASXL1\", \"ASXL1\", \"ASXL1\", \"ASXL1\", \"ASXL1\", \"ASXL1\", \"ASXL1\", \"ASXL1\", \"ASXL1\", \"ASXL1\", \"ASXL1\", \"ASXL1\", \"ASXL1\", \"ASXL1\", \"ASXL1\", \"ASXL1\", \"ASXL1\", \"ASXL1\", \"ASXL1\", \"ASXL1\", \"ASXL1\", \"ASXL1\", \"ASXL1\", \"ASXL1\", \"ASXL1\", \"ASXL1\", \"ASXL1\", \"ASXL1\", \"ASXL1\", \"ASXL1\", \"ASXL1\", \"ASXL1\", \"ASXL1\", \"ASXL1\", \"ASXL1\", \"ASXL1\", \"ASXL1\", \"ASXL1\", \"ASXL1\", \"ASXL1\", \"ASXL1\", \"ASXL1\", \"ASXL1\", \"ASXL1\", \"ASXL1\", \"ASXL1\", \"ASXL1\", \"ASXL1\", \"ASXL1\", \"ASXL1\", \"ASXL1\", \"ASXL1\", \"ASXL1\", \"ASXL1\", \"ASXL1\", \"ASXL1\", \"ASXL1\", \"ASXL1\", \"ASXL1\", \"ASXL1\", \"ASXL1\", \"ASXL1\", \"ASXL1\", \"ASXL1\", \"ASXL1\", \"ASXL1\", \"ASXL1\", \"ASXL1\", \"ASXL1\", \"ASXL1\", \"ASXL1\", \"ASXL1\", \"ASXL1\", \"ASXL1\", \"ASXL1\", \"ASXL1\", \"ASXL1\", \"ASXL1\", \"ASXL1\", \"ASXL1\", \"ASXL1\", \"ASXL1\", \"ASXL1\", \"ASXL1\", \"ASXL1\", \"ASXL1\", \"ASXL1\", \"ASXL1\", \"ASXL1\", \"ASXL1\", \"ASXL1\", \"ASXL1\", \"ASXL1\", \"ASXL1\", \"ASXL1\", \"ASXL1\", \"ASXL1\", \"ASXL1\", \"ASXL1\", \"ASXL1\", \"ASXL1\", \"ASXL1\", \"ASXL1\", \"ASXL1\", \"ASXL1\", \"ASXL1\", \"ASXL1\", \"ASXL1\", \"ASXL1\", \"ASXL1\", \"ASXL1\", \"ASXL1\", \"ASXL1\", \"ASXL1\", \"ASXL1\"], \"x0\": \" \", \"xaxis\": \"x\", \"y\": [-0.003674234614174768, 0.0002886751345948129, 0.0004041451884327381, null, -0.0028867513459481294, -0.0030599564267050163, null, -0.002166666666666666, -0.0020207259421636905, null, 0.0008981462390204985, -0.0011547005383792516, 0.004618802153517006, null, -0.0011430952132988168, -0.0021361959960016154, null, -0.0029802125203862, 0.001212435565298214, -0.0013856406460551018, null, 0.0023678400846904057, -0.0035218366420567172, 0.00178978583448784, null, 0.0016743157806499147, -0.002540341184434353, null, -0.0027352635461078824, 0.004272391992003231, -0.003637306695894643, null, -0.0028577380332470413, 0.0014433756729740643, -0.0001732050807568877, null, -0.0026944387170614965, 0.0029444863728670914, -0.0026558112382722783, null, -0.007552593373581465, -0.0034063665882187928, -0.0006350852961085886, null, -0.0006940220937885673, 0.0009237604307034011, 0.002424871130596428, null, -0.0004490731195102495, 0.0035218366420567177, -0.005600297611139371, null, -0.0028169132042006554, 0.004330127018922194, -0.0031176914536239797, null, 0.006293117934166921, 0.004676537180435969, null, -0.009930424630061564, null, -0.0017962924780409975, 0.0015011106998930276, -0.001847520861406803, null, -0.0030618621784789728, 0.0013279056191361394, null, -0.0038783587594066996, -0.003983716857408416, null, -0.0035109352979892225, -0.0006531972647421809, null, 0.008409914783555579, 0.015011106998930272, 0.005196152422706633, null, 0.0038105117766515303, null, -0.00375588427226754, null, 0.0008573214099741124, 0.004618802153517006, -0.004330127018922194, null, 9.999999999999998e-05, -0.004041451884327381, null, -0.0033476359818036764, 0.00028867513459481317, 0.0, null, 0.004445597072760118, null, -0.0035218366420567177, null, -0.0019666666666666665, 0.0004041451884327381, null, 5.7735026918962734e-05, 0.002367136103677466, null, 0.0016333333333333332, -0.0030599564267050168, null, -0.002122891110412088, 0.0016165807537309525, 0.001270170592217176, null, -0.0014696938456699065, 0.002482606157515391, -0.0034641016151377548, null, -0.0019187669651801564, 0.003117691453623979, -0.00202072594216369, null, 0.002531139400875951, null, 0.00032659863237109043, -0.0001732050807568877, 0.004561067126598044, null, -0.0006531972647421812, -0.0010392304845413263, 0.0031176914536239797, null, -0.0023678400846904057, 0.00011547005383792547, -0.0008082903768654762, null, -0.0033476359818036764, null, -0.002309401076758503, null, -0.002245365597551247, 0.000981495457622364, -0.0001732050807568877, null, -0.0024903145718295646, -0.0008082903768654762, -0.00023094010767585042, null, -0.00232701525564402, -5.773502691896223e-05, 0.0008082903768654757, null, -0.0010206207261596579, -0.001732050807568877, -0.0003464101615137759, null, -0.0021, null, -0.002571964229922337, 0.0021361959960016154, -0.0008082903768654762, null, 0.005138417395787669, -0.0034641016151377548, null, 0.0012655697004379757, 0.0017897858344878396, 0.0, null, 0.0024086649137367924, -0.003290896534380868, 0.0001732050807568877, null, -0.0017146428199482251, 0.002540341184434353, 0.0005196152422706641, null, -0.0006940220937885673, -0.001962990915244728, 0.0016743157806499147, null, -0.00020412414523193135, 0.0030599564267050168, -0.0040991869112463435, null, 0.0005715476066494076, 0.002771281292110204, -0.0014433756729740647, null, -0.0001224744871391589, -0.001501110699893027, 0.0, null, 0.0038783587594066987, -0.005080682368868708, 0.001501110699893027, null, -0.0020004166232729294, 0.0008082903768654757, 0.0031754264805429425, null, -0.0014666666666666667, null, -0.002694438717061496, -0.0001732050807568882, -0.00040414518843273764, null, 0.0012655697004379752, 0.0018475208614068023, -0.0025980762113533154, null, 0.001183920042345203, 0.0014433756729740638, 0.0031176914536239805, null, -0.0008573214099741129, 0.002251666049839541, -5.773502691896223e-05, null, -0.0010392304845413263, 0.003059956426705017, -0.0039837168574084186, -0.0010969655114602891, null, 0.0027712812921102037, -0.0015588457268119892, 0.0024248711305964277, -0.0024248711305964277, null, -0.0014433756729740643, 0.0008082903768654768, 0.00023094010767584993, 0.0018475208614068023, null, -0.0020784609690826534, 0.0018475208614068023, 0.001212435565298215, 0.0021361959960016145, null, -0.0003464101615137754, 0.0010392304845413263, 0.003290896534380867, -0.004214656965084268, null, 0.0010969655114602894, -0.0025980762113533163, 0.0026558112382722788, -0.0019052558883257645, null, 0.006870468203356545, 0.017089567968012923, -0.0020784609690826525, null, 0.0018475208614068034, -0.0013856406460551025, 0.00404145188432738, null, 0.0014696938456699074, -0.0014433756729740647, null, 8.164965809277212e-05, -0.00202072594216369, null, -0.002078460969082653, -0.0008981462390204985, -0.000981495457622364, null, 0.0, 0.0015921683328090658, 0.0023671361036774656, null, 0.002771281292110204, -0.0026127890589687235, 0.004330127018922194, null, -0.003233161507461904, -0.004272391992003231, 0.002309401076758503, null, -0.0018475208614068023, 0.003752776749732567, -0.0026558112382722775, null, 0.002771281292110204, -0.0020784609690826534, 0.0030599564267050163, null, 0.0006350852961085886, -0.002540341184434353, 0.004965212315030782, null, 0.0019052558883257656, 0.00225166604983954, -0.0028867513459481286, null, 0.001962990915244728, -0.0019052558883257656, -0.0001732050807568877, null, 0.002309401076758503, -0.0013856406460551016, 0.0001732050807568877, null, -0.003002221399786054, -0.0018475208614068027, 0.0027135462651912408, null, 0.004734272207354933, -0.006985938257194473, 0.002482606157515391, null, -0.000750555349946513, -0.0016165807537309525, 0.0006928203230275508, null, -0.00404145188432738, 0.0066395280956806964, -0.007563288526384098, null, -0.001962990915244728, 0.000750555349946514, 0.0011547005383792516, null, -0.005022947341949744, null, -0.007563288526384098, -0.0003464101615137755, null, 0.0016743157806499147, -0.000898146239020499, null, -0.0009237604307034017, -0.0004898979485566356, null, 0.002598076211353316, 0.0017320508075688778, -0.002193931022920578, null, 0.0008082903768654762, 0.0017897858344878392, -0.0035218366420567172, null, 0.004676537180435969, -0.004734272207354931, null, -0.0024826061575153914, 0.0032908965343808666, null, -0.0008660254037844385, -0.003695041722813606, null, 0.0013279056191361394, -0.0005773502691896254, null, -0.001270170592217176, 0.002309401076758503, null, 0.0008660254037844395, -5.773502691896323e-05, 0.0026558112382722788, null, -0.0019629909152447268, -0.0019052558883257656, 0.002251666049839541, null, 0.0013856406460551016, 0.0028290163190291665, 0.0004618802153517019, null], \"y0\": \" \", \"yaxis\": \"y\"}, {\"alignmentgroup\": \"True\", \"boxpoints\": \"all\", \"customdata\": [[\"JAK2\"], [\"JAK2\"], [\"JAK2\"], [\"JAK2\"], [\"JAK2\"], [\"JAK2\"], [\"JAK2\"], [\"JAK2\"], [\"JAK2\"], [\"JAK2\"], [\"JAK2\"], [\"JAK2\"], [\"JAK2\"], [\"JAK2\"], [\"JAK2\"], [\"JAK2\"], [\"JAK2\"], [\"JAK2\"], [\"JAK2\"], [\"JAK2\"], [\"JAK2\"], [\"JAK2\"], [\"JAK2\"], [\"JAK2\"], [\"JAK2\"], [\"JAK2\"], [\"JAK2\"], [\"JAK2\"], [\"JAK2\"], [\"JAK2\"], [\"JAK2\"]], \"hoverlabel\": {\"namelength\": 0}, \"hovertemplate\": \"<b>%{hovertext}</b><br><br>mutation=%{customdata[0]}<br>gradient=%{y}\", \"hovertext\": [\"LBC0040V\", \"LBC0040V\", \"LBC0111B\", \"LBC0111B\", \"LBC0111B\", \"LBC360021\", \"LBC360021\", \"LBC360021\", \"LBC360021\", \"LBC360109\", \"LBC360109\", \"LBC360109\", \"LBC360109\", \"LBC360291\", \"LBC360291\", \"LBC360291\", \"LBC360636\", \"LBC360636\", \"LBC360636\", \"LBC360702\", \"LBC360702\", \"LBC360702\", \"LBC360702\", \"LBC360725\", \"LBC360725\", \"LBC360725\", \"LBC360725\", \"LBC361096\", \"LBC361096\", \"LBC361096\", \"LBC361096\"], \"legendgroup\": \"JAK2\", \"marker\": {\"color\": \"#ab63fa\"}, \"name\": \"JAK2\", \"notched\": false, \"offsetgroup\": \"JAK2\", \"orientation\": \"v\", \"showlegend\": true, \"type\": \"box\", \"x\": [\"JAK2\", \"JAK2\", \"JAK2\", \"JAK2\", \"JAK2\", \"JAK2\", \"JAK2\", \"JAK2\", \"JAK2\", \"JAK2\", \"JAK2\", \"JAK2\", \"JAK2\", \"JAK2\", \"JAK2\", \"JAK2\", \"JAK2\", \"JAK2\", \"JAK2\", \"JAK2\", \"JAK2\", \"JAK2\", \"JAK2\", \"JAK2\", \"JAK2\", \"JAK2\", \"JAK2\", \"JAK2\", \"JAK2\", \"JAK2\", \"JAK2\"], \"x0\": \" \", \"xaxis\": \"x\", \"y\": [0.32921142143005916, null, 0.05009206523991599, 0.006235382907247977, null, 0.09918877624677772, 0.10842638055381171, -0.08521689973238875, null, 0.038971143170299746, 0.0359689217705137, -0.006928203230275516, null, 0.0011547005383792516, 0.00046188021535170084, null, 0.01668542277958019, -0.010911920087683932, null, 0.051846054173228406, 0.031234649563158745, 0.007621023553303055, null, 0.1812302494986235, -0.1678934582803432, 0.12597782873717636, null, 0.00583123771881522, null, -0.00560029761113937, null], \"y0\": \" \", \"yaxis\": \"y\"}],\n",
       "                        {\"boxmode\": \"group\", \"legend\": {\"title\": {\"text\": \"mutation\"}, \"tracegroupgap\": 0}, \"margin\": {\"t\": 60}, \"template\": {\"data\": {\"bar\": [{\"error_x\": {\"color\": \"#2a3f5f\"}, \"error_y\": {\"color\": \"#2a3f5f\"}, \"marker\": {\"line\": {\"color\": \"#E5ECF6\", \"width\": 0.5}}, \"type\": \"bar\"}], \"barpolar\": [{\"marker\": {\"line\": {\"color\": \"#E5ECF6\", \"width\": 0.5}}, \"type\": \"barpolar\"}], \"carpet\": [{\"aaxis\": {\"endlinecolor\": \"#2a3f5f\", \"gridcolor\": \"white\", \"linecolor\": \"white\", \"minorgridcolor\": \"white\", \"startlinecolor\": \"#2a3f5f\"}, \"baxis\": {\"endlinecolor\": \"#2a3f5f\", \"gridcolor\": \"white\", \"linecolor\": \"white\", \"minorgridcolor\": \"white\", \"startlinecolor\": \"#2a3f5f\"}, \"type\": \"carpet\"}], \"choropleth\": [{\"colorbar\": {\"outlinewidth\": 0, \"ticks\": \"\"}, \"type\": \"choropleth\"}], \"contour\": [{\"colorbar\": {\"outlinewidth\": 0, \"ticks\": \"\"}, \"colorscale\": [[0.0, \"#0d0887\"], [0.1111111111111111, \"#46039f\"], [0.2222222222222222, \"#7201a8\"], [0.3333333333333333, \"#9c179e\"], [0.4444444444444444, \"#bd3786\"], [0.5555555555555556, \"#d8576b\"], [0.6666666666666666, \"#ed7953\"], [0.7777777777777778, \"#fb9f3a\"], [0.8888888888888888, \"#fdca26\"], [1.0, \"#f0f921\"]], \"type\": \"contour\"}], \"contourcarpet\": [{\"colorbar\": {\"outlinewidth\": 0, \"ticks\": \"\"}, \"type\": \"contourcarpet\"}], \"heatmap\": [{\"colorbar\": {\"outlinewidth\": 0, \"ticks\": \"\"}, \"colorscale\": [[0.0, \"#0d0887\"], [0.1111111111111111, \"#46039f\"], [0.2222222222222222, \"#7201a8\"], [0.3333333333333333, \"#9c179e\"], [0.4444444444444444, \"#bd3786\"], [0.5555555555555556, \"#d8576b\"], [0.6666666666666666, \"#ed7953\"], [0.7777777777777778, \"#fb9f3a\"], [0.8888888888888888, \"#fdca26\"], [1.0, \"#f0f921\"]], \"type\": \"heatmap\"}], \"heatmapgl\": [{\"colorbar\": {\"outlinewidth\": 0, \"ticks\": \"\"}, \"colorscale\": [[0.0, \"#0d0887\"], [0.1111111111111111, \"#46039f\"], [0.2222222222222222, \"#7201a8\"], [0.3333333333333333, \"#9c179e\"], [0.4444444444444444, \"#bd3786\"], [0.5555555555555556, \"#d8576b\"], [0.6666666666666666, \"#ed7953\"], [0.7777777777777778, \"#fb9f3a\"], [0.8888888888888888, \"#fdca26\"], [1.0, \"#f0f921\"]], \"type\": \"heatmapgl\"}], \"histogram\": [{\"marker\": {\"colorbar\": {\"outlinewidth\": 0, \"ticks\": \"\"}}, \"type\": \"histogram\"}], \"histogram2d\": [{\"colorbar\": {\"outlinewidth\": 0, \"ticks\": \"\"}, \"colorscale\": [[0.0, \"#0d0887\"], [0.1111111111111111, \"#46039f\"], [0.2222222222222222, \"#7201a8\"], [0.3333333333333333, \"#9c179e\"], [0.4444444444444444, \"#bd3786\"], [0.5555555555555556, \"#d8576b\"], [0.6666666666666666, \"#ed7953\"], [0.7777777777777778, \"#fb9f3a\"], [0.8888888888888888, \"#fdca26\"], [1.0, \"#f0f921\"]], \"type\": \"histogram2d\"}], \"histogram2dcontour\": [{\"colorbar\": {\"outlinewidth\": 0, \"ticks\": \"\"}, \"colorscale\": [[0.0, \"#0d0887\"], [0.1111111111111111, \"#46039f\"], [0.2222222222222222, \"#7201a8\"], [0.3333333333333333, \"#9c179e\"], [0.4444444444444444, \"#bd3786\"], [0.5555555555555556, \"#d8576b\"], [0.6666666666666666, \"#ed7953\"], [0.7777777777777778, \"#fb9f3a\"], [0.8888888888888888, \"#fdca26\"], [1.0, \"#f0f921\"]], \"type\": \"histogram2dcontour\"}], \"mesh3d\": [{\"colorbar\": {\"outlinewidth\": 0, \"ticks\": \"\"}, \"type\": \"mesh3d\"}], \"parcoords\": [{\"line\": {\"colorbar\": {\"outlinewidth\": 0, \"ticks\": \"\"}}, \"type\": \"parcoords\"}], \"pie\": [{\"automargin\": true, \"type\": \"pie\"}], \"scatter\": [{\"marker\": {\"colorbar\": {\"outlinewidth\": 0, \"ticks\": \"\"}}, \"type\": \"scatter\"}], \"scatter3d\": [{\"line\": {\"colorbar\": {\"outlinewidth\": 0, \"ticks\": \"\"}}, \"marker\": {\"colorbar\": {\"outlinewidth\": 0, \"ticks\": \"\"}}, \"type\": \"scatter3d\"}], \"scattercarpet\": [{\"marker\": {\"colorbar\": {\"outlinewidth\": 0, \"ticks\": \"\"}}, \"type\": \"scattercarpet\"}], \"scattergeo\": [{\"marker\": {\"colorbar\": {\"outlinewidth\": 0, \"ticks\": \"\"}}, \"type\": \"scattergeo\"}], \"scattergl\": [{\"marker\": {\"colorbar\": {\"outlinewidth\": 0, \"ticks\": \"\"}}, \"type\": \"scattergl\"}], \"scattermapbox\": [{\"marker\": {\"colorbar\": {\"outlinewidth\": 0, \"ticks\": \"\"}}, \"type\": \"scattermapbox\"}], \"scatterpolar\": [{\"marker\": {\"colorbar\": {\"outlinewidth\": 0, \"ticks\": \"\"}}, \"type\": \"scatterpolar\"}], \"scatterpolargl\": [{\"marker\": {\"colorbar\": {\"outlinewidth\": 0, \"ticks\": \"\"}}, \"type\": \"scatterpolargl\"}], \"scatterternary\": [{\"marker\": {\"colorbar\": {\"outlinewidth\": 0, \"ticks\": \"\"}}, \"type\": \"scatterternary\"}], \"surface\": [{\"colorbar\": {\"outlinewidth\": 0, \"ticks\": \"\"}, \"colorscale\": [[0.0, \"#0d0887\"], [0.1111111111111111, \"#46039f\"], [0.2222222222222222, \"#7201a8\"], [0.3333333333333333, \"#9c179e\"], [0.4444444444444444, \"#bd3786\"], [0.5555555555555556, \"#d8576b\"], [0.6666666666666666, \"#ed7953\"], [0.7777777777777778, \"#fb9f3a\"], [0.8888888888888888, \"#fdca26\"], [1.0, \"#f0f921\"]], \"type\": \"surface\"}], \"table\": [{\"cells\": {\"fill\": {\"color\": \"#EBF0F8\"}, \"line\": {\"color\": \"white\"}}, \"header\": {\"fill\": {\"color\": \"#C8D4E3\"}, \"line\": {\"color\": \"white\"}}, \"type\": \"table\"}]}, \"layout\": {\"annotationdefaults\": {\"arrowcolor\": \"#2a3f5f\", \"arrowhead\": 0, \"arrowwidth\": 1}, \"coloraxis\": {\"colorbar\": {\"outlinewidth\": 0, \"ticks\": \"\"}}, \"colorscale\": {\"diverging\": [[0, \"#8e0152\"], [0.1, \"#c51b7d\"], [0.2, \"#de77ae\"], [0.3, \"#f1b6da\"], [0.4, \"#fde0ef\"], [0.5, \"#f7f7f7\"], [0.6, \"#e6f5d0\"], [0.7, \"#b8e186\"], [0.8, \"#7fbc41\"], [0.9, \"#4d9221\"], [1, \"#276419\"]], \"sequential\": [[0.0, \"#0d0887\"], [0.1111111111111111, \"#46039f\"], [0.2222222222222222, \"#7201a8\"], [0.3333333333333333, \"#9c179e\"], [0.4444444444444444, \"#bd3786\"], [0.5555555555555556, \"#d8576b\"], [0.6666666666666666, \"#ed7953\"], [0.7777777777777778, \"#fb9f3a\"], [0.8888888888888888, \"#fdca26\"], [1.0, \"#f0f921\"]], \"sequentialminus\": [[0.0, \"#0d0887\"], [0.1111111111111111, \"#46039f\"], [0.2222222222222222, \"#7201a8\"], [0.3333333333333333, \"#9c179e\"], [0.4444444444444444, \"#bd3786\"], [0.5555555555555556, \"#d8576b\"], [0.6666666666666666, \"#ed7953\"], [0.7777777777777778, \"#fb9f3a\"], [0.8888888888888888, \"#fdca26\"], [1.0, \"#f0f921\"]]}, \"colorway\": [\"#636efa\", \"#EF553B\", \"#00cc96\", \"#ab63fa\", \"#FFA15A\", \"#19d3f3\", \"#FF6692\", \"#B6E880\", \"#FF97FF\", \"#FECB52\"], \"font\": {\"color\": \"#2a3f5f\"}, \"geo\": {\"bgcolor\": \"white\", \"lakecolor\": \"white\", \"landcolor\": \"#E5ECF6\", \"showlakes\": true, \"showland\": true, \"subunitcolor\": \"white\"}, \"hoverlabel\": {\"align\": \"left\"}, \"hovermode\": \"closest\", \"mapbox\": {\"style\": \"light\"}, \"paper_bgcolor\": \"white\", \"plot_bgcolor\": \"#E5ECF6\", \"polar\": {\"angularaxis\": {\"gridcolor\": \"white\", \"linecolor\": \"white\", \"ticks\": \"\"}, \"bgcolor\": \"#E5ECF6\", \"radialaxis\": {\"gridcolor\": \"white\", \"linecolor\": \"white\", \"ticks\": \"\"}}, \"scene\": {\"xaxis\": {\"backgroundcolor\": \"#E5ECF6\", \"gridcolor\": \"white\", \"gridwidth\": 2, \"linecolor\": \"white\", \"showbackground\": true, \"ticks\": \"\", \"zerolinecolor\": \"white\"}, \"yaxis\": {\"backgroundcolor\": \"#E5ECF6\", \"gridcolor\": \"white\", \"gridwidth\": 2, \"linecolor\": \"white\", \"showbackground\": true, \"ticks\": \"\", \"zerolinecolor\": \"white\"}, \"zaxis\": {\"backgroundcolor\": \"#E5ECF6\", \"gridcolor\": \"white\", \"gridwidth\": 2, \"linecolor\": \"white\", \"showbackground\": true, \"ticks\": \"\", \"zerolinecolor\": \"white\"}}, \"shapedefaults\": {\"line\": {\"color\": \"#2a3f5f\"}}, \"ternary\": {\"aaxis\": {\"gridcolor\": \"white\", \"linecolor\": \"white\", \"ticks\": \"\"}, \"baxis\": {\"gridcolor\": \"white\", \"linecolor\": \"white\", \"ticks\": \"\"}, \"bgcolor\": \"#E5ECF6\", \"caxis\": {\"gridcolor\": \"white\", \"linecolor\": \"white\", \"ticks\": \"\"}}, \"title\": {\"x\": 0.05}, \"xaxis\": {\"automargin\": true, \"gridcolor\": \"white\", \"linecolor\": \"white\", \"ticks\": \"\", \"title\": {\"standoff\": 15}, \"zerolinecolor\": \"white\", \"zerolinewidth\": 2}, \"yaxis\": {\"automargin\": true, \"gridcolor\": \"white\", \"linecolor\": \"white\", \"ticks\": \"\", \"title\": {\"standoff\": 15}, \"zerolinecolor\": \"white\", \"zerolinewidth\": 2}}}, \"title\": {\"text\": \"Local gradients by mutation\"}, \"xaxis\": {\"anchor\": \"y\", \"categoryarray\": [\"TET2\", \"DNMT3A\", \"ASXL1\", \"JAK2\"], \"categoryorder\": \"array\", \"domain\": [0.0, 1.0], \"title\": {\"text\": \"mutation\"}}, \"yaxis\": {\"anchor\": \"x\", \"domain\": [0.0, 1.0], \"title\": {\"text\": \"gradient\"}}},\n",
       "                        {\"responsive\": true}\n",
       "                    ).then(function(){\n",
       "                            \n",
       "var gd = document.getElementById('91b0736a-5bf9-42da-99cf-a87ab2b7f221');\n",
       "var x = new MutationObserver(function (mutations, observer) {{\n",
       "        var display = window.getComputedStyle(gd).display;\n",
       "        if (!display || display === 'none') {{\n",
       "            console.log([gd, 'removed!']);\n",
       "            Plotly.purge(gd);\n",
       "            observer.disconnect();\n",
       "        }}\n",
       "}});\n",
       "\n",
       "// Listen for the removal of the full notebook cells\n",
       "var notebookContainer = gd.closest('#notebook-container');\n",
       "if (notebookContainer) {{\n",
       "    x.observe(notebookContainer, {childList: true});\n",
       "}}\n",
       "\n",
       "// Listen for the clearing of the current output cell\n",
       "var outputEl = gd.closest('.output');\n",
       "if (outputEl) {{\n",
       "    x.observe(outputEl, {childList: true});\n",
       "}}\n",
       "\n",
       "                        })\n",
       "                };\n",
       "                });\n",
       "            </script>\n",
       "        </div>"
      ]
     },
     "metadata": {},
     "output_type": "display_data"
    }
   ],
   "source": [
    "plot.local_gardients(lbc,['DNMT3A','JAK2','TET2','ASXL1'])"
   ]
  },
  {
   "cell_type": "markdown",
   "metadata": {},
   "source": [
    "# Speeding up loading process with multiprocessing\n",
    "\n",
    "If the number of detected mutations grows, it will considerably slow down the process of loading a cohort and its trajectories. Here is an alternative way of loading exploiting the fact that we can load each participant separately."
   ]
  },
  {
   "cell_type": "code",
   "execution_count": 15,
   "metadata": {},
   "outputs": [],
   "source": [
    "import multiprocessing as mp\n",
    "from functools import partial\n",
    "\n",
    "df = pd.read_csv(r'Datasets/LBC_ARCHER.1PCT_VAF.Jan2021.non-synonymous.tsv', sep='\\t')\n",
    "\n",
    "ids = df.participant_id.unique()         # list of all participant ids\n",
    "partial_load_id = partial(basic.load_id, df=df)   # freeze the second variable\n",
    "\n",
    "#compute the trajectory simulations in parallel for all mutations \n",
    "pool = mp.Pool()\n",
    "lbc = list(pool.map(partial_load_id,ids))"
   ]
  },
  {
   "cell_type": "markdown",
   "metadata": {},
   "source": [
    "## comparing the speed improvement"
   ]
  },
  {
   "cell_type": "code",
   "execution_count": 16,
   "metadata": {},
   "outputs": [
    {
     "name": "stdout",
     "output_type": "stream",
     "text": [
      "basi.load method --- 12.851371049880981 seconds ---\n",
      "multiprocessing method --- 7.300813436508179 seconds ---\n"
     ]
    }
   ],
   "source": [
    "import time\n",
    "\n",
    "df = pd.read_csv(r'Datasets/LBC_ARCHER.1PCT_VAF.Jan2021.non-synonymous.tsv', sep='\\t')\n",
    "\n",
    "start_time = time.time() \n",
    "lbc = basic.load(df)\n",
    "print(\"basi.load method --- %s seconds ---\" % (time.time() - start_time))\n",
    "\n",
    "start_time = time.time()                 # transform the time into years since first wave\n",
    "ids = df.participant_id.unique()         # list of all participant ids\n",
    "partial_load_id = partial(basic.load_id, df=df)   # freeze the second variable\n",
    "\n",
    "#compute the trajectory simulations in parallel for all mutations \n",
    "pool = mp.Pool()\n",
    "lbc = list(pool.map(partial_load_id,ids))\n",
    "\n",
    "print(\"multiprocessing method --- %s seconds ---\" % (time.time() - start_time))"
   ]
  }
 ],
 "metadata": {
  "kernelspec": {
   "display_name": "Python 3",
   "language": "python",
   "name": "python3"
  },
  "language_info": {
   "codemirror_mode": {
    "name": "ipython",
    "version": 3
   },
   "file_extension": ".py",
   "mimetype": "text/x-python",
   "name": "python",
   "nbconvert_exporter": "python",
   "pygments_lexer": "ipython3",
   "version": "3.7.4"
  }
 },
 "nbformat": 4,
 "nbformat_minor": 1
}
