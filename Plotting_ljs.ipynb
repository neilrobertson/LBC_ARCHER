{
 "cells": [
  {
   "cell_type": "code",
   "execution_count": 1,
   "metadata": {
    "scrolled": true
   },
   "outputs": [],
   "source": [
    "import pandas as pd\n",
    "pd.set_option('display.max_rows', 500)\n",
    "pd.set_option('display.max_columns', 500)\n",
    "pd.set_option('display.width', 1000)\n",
    "\n",
    "import numpy as np\n",
    "import plotly.express as px\n",
    "import plotly.graph_objects as go\n",
    "\n",
    "# load dataset\n",
    "df = pd.read_excel (r'LBC_ARCHER/LBC Archer variants.xlsx')"
   ]
  },
  {
   "cell_type": "code",
   "execution_count": 2,
   "metadata": {},
   "outputs": [],
   "source": [
    "# create a class of object containing the longitudinal trajectory of a mutation accross different individuals\n",
    "\n",
    "# each participant has several attributes storing information\n",
    "# together with a list of trajectories of which each element is a trajectory class object\n",
    "\n",
    "class participant :\n",
    "    def __init__ (self, id =None,mutation_list=None,trajectories=None,data=None):\n",
    "        self.id = id                       # participant's id\n",
    "        self.mutation_list = mutation_list # list of all mutations present in a participant\n",
    "        self.trajectories = trajectories   # list of all trajectories present in a participant\n",
    "        self.data=data                     # slice of the full dataset corresponding to the participant\n",
    "        \n",
    "    # function allowing to plot a participant's trajectories\n",
    "    def plot_trajectories (self,germline=True):\n",
    "        fig =plot_individual(self,germline)\n",
    "        fig.show()\n",
    "\n",
    "# each trajectory object stores the information of the trajectory of a participant's mutation\n",
    "class trajectory :\n",
    "    def __init__ (self, mutation=None, data = None, germline=False,gradient=None,driver=False) :\n",
    "        self.mutation=mutation \n",
    "        self.germline=germline   \n",
    "        self.data=data                     # contains the wave and AF columns of the trajectory \n",
    "        self.gradient=gradient             # overall gradient of the mutation from first to last wave\n",
    "        self.driver=driver                 # Boolean denoting wether the mutation is driver or not "
   ]
  },
  {
   "cell_type": "code",
   "execution_count": 3,
   "metadata": {
    "scrolled": false
   },
   "outputs": [],
   "source": [
    "# create a list of all participants \n",
    "lbc=[]\n",
    "\n",
    "# create a participant object for each individual in the dataset\n",
    "for part in df.participant_id.unique():\n",
    "    # each participant's  data is filled with its corresponding rows of the dataset\n",
    "    lbc.append(participant(id=part, data=df[df['participant_id']==part])) \n",
    "\n",
    "# we now rescan each participant to create the list of trajectories\n",
    "for part in lbc:\n",
    "    # create a list of all trajectories in a participant\n",
    "    traj=[]\n",
    "    mutation_list= []\n",
    "    # add a trajectory for each mutation present in a participant\n",
    "    for key in part.data.key.unique():\n",
    "        # keep track of driver trajectories \n",
    "        driver=False\n",
    "        \n",
    "        # if any row in the trajectory has anything in the driver column set driver to true\n",
    "        if part.data[part.data['key']==key]['Driver'].isnull().values.any() == False : \n",
    "            driver = True\n",
    "        \n",
    "        # append trajectory to the list of trajectories\n",
    "        traj.append(trajectory(mutation=key,data=part.data[part.data['key']==key][['AF','wave']],driver=driver))\n",
    "\n",
    "\n",
    "    \n",
    "    # Filter mutations with more than one time data point\n",
    "    traj=[item for item in traj if len(item.data.wave) > 1]\n",
    "    # Add all trajectories to the participant\n",
    "    part.trajectories=traj\n",
    "    \n",
    "    # Annotate for each trajectory if it is germline based on condition\n",
    "    for traj in part.trajectories:\n",
    "        traj.data['gradient']=None\n",
    "        mutation_list.append(traj.mutation) # keep track of all mutations present in an individual \n",
    "        if np.mean(traj.data.AF)>0.45:      # germline condition\n",
    "            traj.germline=True\n",
    "            \n",
    "    # add the list of all mutations to each individual        \n",
    "    part.mutation_list=mutation_list\n",
    "    \n",
    "#compute the average gradient for each mutation in each individual\n",
    "for part in lbc : \n",
    "    for traj in part.trajectories :\n",
    "        a=0 \n",
    "        for index, general_index in enumerate(traj.data.index) :\n",
    "            if index < len(traj.data)-1 :\n",
    "                trace = traj.data.iloc[index+1]-traj.data.iloc[index]\n",
    "                traj.data['gradient'].iloc[index] = trace.AF/trace.wave \n",
    "                a += trace.AF / trace.wave\n",
    "                \n",
    "        traj.gradient= a/(len(traj.data.index)-1)\n",
    "        \n",
    "        \n",
    "# Create an array containing all trajectories' gradients.\n",
    "total_grad=[]\n",
    "for part in lbc:\n",
    "    for traj in part.trajectories :\n",
    "        total_grad.append(traj.gradient)\n",
    "        # change the local gradient by an average of the gradients\n",
    "        traj.data=traj.data.reset_index(drop=True)\n",
    "        new =[]\n",
    "        for i, grad in enumerate(traj.data.gradient):\n",
    "            if i ==0:\n",
    "                new.append(grad)\n",
    "            elif i == len(traj.data.gradient)-1:\n",
    "                new.append(traj.data.gradient[i-1])\n",
    "            else :\n",
    "                new.append((traj.data.gradient[i-1]+grad)/2)\n",
    "        traj.data.gradient=new"
   ]
  },
  {
   "cell_type": "markdown",
   "metadata": {},
   "source": [
    "We also define a few useful functions to plot data. These will be explained in the next section."
   ]
  },
  {
   "cell_type": "code",
   "execution_count": 4,
   "metadata": {
    "scrolled": true
   },
   "outputs": [],
   "source": [
    "# tool to name all mutations present in a sample\n",
    "def mutation_to_samples (mutation):\n",
    "    list=[]\n",
    "    for part in participants:\n",
    "        if mutation in part.mutation_list:\n",
    "            list.append(part.id)\n",
    "    return list\n",
    "\n",
    "# tool to plot all mutations AF accross waves\n",
    "def plot_individual(part,germline):\n",
    "    fig = go.Figure()\n",
    "    if germline==True : \n",
    "        for traj in part.trajectories:\n",
    "            fig.add_trace(go.Scatter(x=traj.data.wave, y=traj.data.AF,\n",
    "                                        mode='lines+markers',\n",
    "                                        name=traj.mutation))\n",
    "    else :\n",
    "        for traj in part.trajectories:\n",
    "            if traj.germline==False:\n",
    "                fig.add_trace(go.Scatter(x=traj.data.wave, y=traj.data.AF,\n",
    "                                        mode='lines+markers',\n",
    "                                        name=traj.mutation))\n",
    "    fig.update_layout(title = f'Trajectories of participant {part.id}' ,\n",
    "                   xaxis_title='Wave',\n",
    "                   yaxis_title='AF')\n",
    "    return fig\n",
    "\n",
    "def plot_id (cohort,participant_id, germline=False):\n",
    "    for part in cohort:\n",
    "        if part.id == participant_id :\n",
    "            fig= plot_individual(part, germline)\n",
    "    return fig\n",
    "    \n",
    "    \n",
    "def mutation_plot (cohort, mutation):\n",
    "    fig = go.Figure()\n",
    "\n",
    "    for part in cohort:\n",
    "        for i , word in enumerate(part.mutation_list):\n",
    "            if mutation in word.split():\n",
    "                fig.add_trace(go.Scatter(x=part.trajectories[i].data.wave, y=part.trajectories[i].data.AF,\n",
    "                                        mode='lines+markers',\n",
    "                                        name=part.trajectories[i].mutation,\n",
    "                                        hovertemplate = f\"{part.id}\"\n",
    "                                        ))\n",
    "    # Edit the layout\n",
    "    fig.update_layout(title = f'Trajectories containing mutation {mutation}' ,\n",
    "                   xaxis_title='Wave',\n",
    "                   yaxis_title='AF')\n",
    "\n",
    "    return fig\n",
    "    \n",
    "    \n",
    "def mutation_plot2 (cohort, mutation,threshold):\n",
    "    fig = go.Figure()\n",
    "        \n",
    "    for  part in cohort:\n",
    "        for traj in part.trajectories:\n",
    "            if mutation in traj.mutation and traj.gradient > threshold :\n",
    "                fig.add_trace(go.Scatter(x=traj.data.wave, y=traj.data.AF,\n",
    "                                        mode='lines+markers',\n",
    "                                        name=traj.mutation,\n",
    "                                        hovertemplate =f\"{part.id}\"\n",
    "                                        ))\n",
    "                \n",
    "    # Edit the layout\n",
    "    fig.update_layout(title = f'Trajectories containing mutation {mutation}' ,\n",
    "                        xaxis_title='Wave',\n",
    "                        yaxis_title='AF')\n",
    "\n",
    "    return fig\n",
    "    \n",
    "def gradients (cohort,mutations):\n",
    "    df = pd.DataFrame(columns=['gradient', 'participant','mutation'])\n",
    "\n",
    "    counter = 0\n",
    "    for part in cohort:\n",
    "        for i , word in enumerate(part.mutation_list):\n",
    "            for mut in mutations:\n",
    "                if mut in word.split():\n",
    "                    df.loc[counter]=[part.trajectories[i].gradient, part.id, mut]\n",
    "                    counter += 1\n",
    "                \n",
    "     \n",
    "    fig = px.violin(df, y=\"gradient\",x='mutation', color='mutation',\n",
    "                         points='all',\n",
    "                         hover_name=\"participant\", hover_data=[\"mutation\"])\n",
    "                \n",
    "    fig.update_layout(title='Overall gradients of trajectories sorted by mutation')\n",
    "    return fig\n",
    "    \n",
    "def relative_gradients (cohort,mutations):\n",
    "    df = pd.DataFrame(columns=['relative gradient', 'participant','mutation'])\n",
    "\n",
    "    counter = 0\n",
    "    for part in cohort:\n",
    "        for i , word in enumerate(part.mutation_list):\n",
    "            for mut in mutations:\n",
    "                if mut in word.split():\n",
    "                    df.loc[counter]=[part.trajectories[i].data['gradient']/part.trajectories[i].data['AF'],\n",
    "                                     part.id, mut]\n",
    "                    counter += 1\n",
    "                \n",
    "     \n",
    "    fig = px.violin(df, y=\"relative gradient\",x='mutation', color='mutation',\n",
    "                         points='all',\n",
    "                         hover_name=\"participant\", hover_data=[\"mutation\"])\n",
    "                \n",
    "    fig.update_layout(title='Overall relative gradients of trajectories sorted by mutation')\n",
    "    return fig\n",
    "\n",
    "\n",
    "def local_gradients (cohort,mutations):\n",
    "    df = pd.DataFrame(columns=['gradient', 'wave' ,'participant','mutation'])\n",
    "    counter=0\n",
    "    for part in lbc:\n",
    "        for i , word in enumerate(part.mutation_list):\n",
    "            for mut in mutations:\n",
    "                if mut in word.split():\n",
    "                    for j in range(0, part.trajectories[i].data.shape[0]):\n",
    "                        df.loc[counter]=[part.trajectories[i].data['gradient'].iloc[j],part.trajectories[i].data['wave'].iloc[j], part.id, mut]\n",
    "                        counter += 1\n",
    "    fig = px.violin(df, y=\"gradient\", x=\"wave\", facet_col=\"mutation\",color='mutation',\n",
    "                         points='all',\n",
    "                         hover_name=\"participant\", hover_data=[\"mutation\"])\n",
    "    # Edit the layout\n",
    "    fig.update_layout(title = f'local gradient computed betweeen any 2 blood samples' ,\n",
    "                   xaxis_title='Wave',\n",
    "                   yaxis_title='local gradient')\n",
    "    return fig\n",
    "\n",
    "def clonal_expansion(cohort, gradient_threshold):\n",
    "\n",
    "    fig = go.Figure()\n",
    "\n",
    "    for part in cohort:\n",
    "        for traj in part.trajectories:\n",
    "            if traj.gradient > gradient_threshold :\n",
    "                fig.add_trace(go.Scatter(x=traj.data.wave, y=traj.data.AF,\n",
    "                                        mode='lines+markers',\n",
    "                                        name=traj.mutation,\n",
    "                                        hovertemplate = f\"{part.id}\"\n",
    "                                        ))\n",
    "    # Edit the layout\n",
    "    fig.update_layout(title = f'clonal expansion mutations' ,\n",
    "                   xaxis_title='Wave',\n",
    "                   yaxis_title='AF')\n",
    "\n",
    "    return fig"
   ]
  },
  {
   "cell_type": "markdown",
   "metadata": {},
   "source": [
    "# Plotting data\n",
    "\n",
    "We have created several plot functions to explore the data in the cohort.\n",
    "\n",
    "## Plotting a participant's trajectory\n",
    "\n",
    "There are two ways of plotting a participant's trajectory, either by using a participants pointer inside the cohort, or using a participants id."
   ]
  },
  {
   "cell_type": "code",
   "execution_count": 5,
   "metadata": {},
   "outputs": [
    {
     "output_type": "display_data",
     "data": {
      "application/vnd.plotly.v1+json": {
       "config": {
        "plotlyServerURL": "https://plot.ly"
       },
       "data": [
        {
         "mode": "lines+markers",
         "name": "ABL1 c.1546C>T",
         "type": "scatter",
         "x": [
          1,
          2,
          3,
          4
         ],
         "y": [
          0.5162,
          0.5035,
          0.5021,
          0.5077
         ]
        },
        {
         "mode": "lines+markers",
         "name": "ATRX c.5698-7del",
         "type": "scatter",
         "x": [
          1,
          2,
          3,
          4
         ],
         "y": [
          0.0324,
          0.023,
          0.0256,
          0.0267
         ]
        },
        {
         "mode": "lines+markers",
         "name": "DDX41 c.138+17C>G",
         "type": "scatter",
         "x": [
          1,
          2,
          3,
          4
         ],
         "y": [
          0.044,
          0.0538,
          0.0529,
          0.0363
         ]
        },
        {
         "mode": "lines+markers",
         "name": "EZH2 c.118-4dup",
         "type": "scatter",
         "x": [
          1,
          2,
          3,
          4
         ],
         "y": [
          0.058,
          0.0616,
          0.0609,
          0.0733
         ]
        },
        {
         "mode": "lines+markers",
         "name": "EZH2 c.118-5_118-4del",
         "type": "scatter",
         "x": [
          1,
          2,
          3,
          4
         ],
         "y": [
          0.0857,
          0.0647,
          0.0834,
          0.0741
         ]
        },
        {
         "mode": "lines+markers",
         "name": "FLT3 c.1419-4del",
         "type": "scatter",
         "x": [
          1,
          2,
          3,
          4
         ],
         "y": [
          0.1197,
          0.1098,
          0.1285,
          0.128
         ]
        },
        {
         "mode": "lines+markers",
         "name": "FLT3 c.1419-4dup",
         "type": "scatter",
         "x": [
          1,
          2,
          3,
          4
         ],
         "y": [
          0.0664,
          0.0693,
          0.0622,
          0.068
         ]
        },
        {
         "mode": "lines+markers",
         "name": "JAK2 c.1849G>T",
         "type": "scatter",
         "x": [
          1,
          2,
          3,
          4
         ],
         "y": [
          0.1736,
          0.2634,
          0.3175,
          0.3307
         ]
        },
        {
         "mode": "lines+markers",
         "name": "JAK2 c.3291+16del",
         "type": "scatter",
         "x": [
          1,
          2,
          3,
          4
         ],
         "y": [
          0.0408,
          0.0394,
          0.0369,
          0.0421
         ]
        },
        {
         "mode": "lines+markers",
         "name": "JAK2 c.3291+16dup",
         "type": "scatter",
         "x": [
          1,
          2,
          3,
          4
         ],
         "y": [
          0.0317,
          0.0291,
          0.0358,
          0.0328
         ]
        },
        {
         "mode": "lines+markers",
         "name": "LUC7L2 c.11A>C",
         "type": "scatter",
         "x": [
          1,
          2,
          3,
          4
         ],
         "y": [
          0.028,
          0.0356,
          0.0244,
          0.0366
         ]
        },
        {
         "mode": "lines+markers",
         "name": "LUC7L2 c.757_758del",
         "type": "scatter",
         "x": [
          1,
          2,
          3,
          4
         ],
         "y": [
          0.0438,
          0.0394,
          0.043,
          0.0496
         ]
        },
        {
         "mode": "lines+markers",
         "name": "RUNX1 c.1267C>G",
         "type": "scatter",
         "x": [
          1,
          2,
          3,
          4
         ],
         "y": [
          0.0306,
          0.024,
          0.0342,
          0.0222
         ]
        },
        {
         "mode": "lines+markers",
         "name": "RUNX1 c.1270T>G",
         "type": "scatter",
         "x": [
          1,
          2,
          3,
          4
         ],
         "y": [
          0.1165,
          0.1051,
          0.0989,
          0.0837
         ]
        }
       ],
       "layout": {
        "template": {
         "data": {
          "bar": [
           {
            "error_x": {
             "color": "#2a3f5f"
            },
            "error_y": {
             "color": "#2a3f5f"
            },
            "marker": {
             "line": {
              "color": "#E5ECF6",
              "width": 0.5
             }
            },
            "type": "bar"
           }
          ],
          "barpolar": [
           {
            "marker": {
             "line": {
              "color": "#E5ECF6",
              "width": 0.5
             }
            },
            "type": "barpolar"
           }
          ],
          "carpet": [
           {
            "aaxis": {
             "endlinecolor": "#2a3f5f",
             "gridcolor": "white",
             "linecolor": "white",
             "minorgridcolor": "white",
             "startlinecolor": "#2a3f5f"
            },
            "baxis": {
             "endlinecolor": "#2a3f5f",
             "gridcolor": "white",
             "linecolor": "white",
             "minorgridcolor": "white",
             "startlinecolor": "#2a3f5f"
            },
            "type": "carpet"
           }
          ],
          "choropleth": [
           {
            "colorbar": {
             "outlinewidth": 0,
             "ticks": ""
            },
            "type": "choropleth"
           }
          ],
          "contour": [
           {
            "colorbar": {
             "outlinewidth": 0,
             "ticks": ""
            },
            "colorscale": [
             [
              0,
              "#0d0887"
             ],
             [
              0.1111111111111111,
              "#46039f"
             ],
             [
              0.2222222222222222,
              "#7201a8"
             ],
             [
              0.3333333333333333,
              "#9c179e"
             ],
             [
              0.4444444444444444,
              "#bd3786"
             ],
             [
              0.5555555555555556,
              "#d8576b"
             ],
             [
              0.6666666666666666,
              "#ed7953"
             ],
             [
              0.7777777777777778,
              "#fb9f3a"
             ],
             [
              0.8888888888888888,
              "#fdca26"
             ],
             [
              1,
              "#f0f921"
             ]
            ],
            "type": "contour"
           }
          ],
          "contourcarpet": [
           {
            "colorbar": {
             "outlinewidth": 0,
             "ticks": ""
            },
            "type": "contourcarpet"
           }
          ],
          "heatmap": [
           {
            "colorbar": {
             "outlinewidth": 0,
             "ticks": ""
            },
            "colorscale": [
             [
              0,
              "#0d0887"
             ],
             [
              0.1111111111111111,
              "#46039f"
             ],
             [
              0.2222222222222222,
              "#7201a8"
             ],
             [
              0.3333333333333333,
              "#9c179e"
             ],
             [
              0.4444444444444444,
              "#bd3786"
             ],
             [
              0.5555555555555556,
              "#d8576b"
             ],
             [
              0.6666666666666666,
              "#ed7953"
             ],
             [
              0.7777777777777778,
              "#fb9f3a"
             ],
             [
              0.8888888888888888,
              "#fdca26"
             ],
             [
              1,
              "#f0f921"
             ]
            ],
            "type": "heatmap"
           }
          ],
          "heatmapgl": [
           {
            "colorbar": {
             "outlinewidth": 0,
             "ticks": ""
            },
            "colorscale": [
             [
              0,
              "#0d0887"
             ],
             [
              0.1111111111111111,
              "#46039f"
             ],
             [
              0.2222222222222222,
              "#7201a8"
             ],
             [
              0.3333333333333333,
              "#9c179e"
             ],
             [
              0.4444444444444444,
              "#bd3786"
             ],
             [
              0.5555555555555556,
              "#d8576b"
             ],
             [
              0.6666666666666666,
              "#ed7953"
             ],
             [
              0.7777777777777778,
              "#fb9f3a"
             ],
             [
              0.8888888888888888,
              "#fdca26"
             ],
             [
              1,
              "#f0f921"
             ]
            ],
            "type": "heatmapgl"
           }
          ],
          "histogram": [
           {
            "marker": {
             "colorbar": {
              "outlinewidth": 0,
              "ticks": ""
             }
            },
            "type": "histogram"
           }
          ],
          "histogram2d": [
           {
            "colorbar": {
             "outlinewidth": 0,
             "ticks": ""
            },
            "colorscale": [
             [
              0,
              "#0d0887"
             ],
             [
              0.1111111111111111,
              "#46039f"
             ],
             [
              0.2222222222222222,
              "#7201a8"
             ],
             [
              0.3333333333333333,
              "#9c179e"
             ],
             [
              0.4444444444444444,
              "#bd3786"
             ],
             [
              0.5555555555555556,
              "#d8576b"
             ],
             [
              0.6666666666666666,
              "#ed7953"
             ],
             [
              0.7777777777777778,
              "#fb9f3a"
             ],
             [
              0.8888888888888888,
              "#fdca26"
             ],
             [
              1,
              "#f0f921"
             ]
            ],
            "type": "histogram2d"
           }
          ],
          "histogram2dcontour": [
           {
            "colorbar": {
             "outlinewidth": 0,
             "ticks": ""
            },
            "colorscale": [
             [
              0,
              "#0d0887"
             ],
             [
              0.1111111111111111,
              "#46039f"
             ],
             [
              0.2222222222222222,
              "#7201a8"
             ],
             [
              0.3333333333333333,
              "#9c179e"
             ],
             [
              0.4444444444444444,
              "#bd3786"
             ],
             [
              0.5555555555555556,
              "#d8576b"
             ],
             [
              0.6666666666666666,
              "#ed7953"
             ],
             [
              0.7777777777777778,
              "#fb9f3a"
             ],
             [
              0.8888888888888888,
              "#fdca26"
             ],
             [
              1,
              "#f0f921"
             ]
            ],
            "type": "histogram2dcontour"
           }
          ],
          "mesh3d": [
           {
            "colorbar": {
             "outlinewidth": 0,
             "ticks": ""
            },
            "type": "mesh3d"
           }
          ],
          "parcoords": [
           {
            "line": {
             "colorbar": {
              "outlinewidth": 0,
              "ticks": ""
             }
            },
            "type": "parcoords"
           }
          ],
          "pie": [
           {
            "automargin": true,
            "type": "pie"
           }
          ],
          "scatter": [
           {
            "marker": {
             "colorbar": {
              "outlinewidth": 0,
              "ticks": ""
             }
            },
            "type": "scatter"
           }
          ],
          "scatter3d": [
           {
            "line": {
             "colorbar": {
              "outlinewidth": 0,
              "ticks": ""
             }
            },
            "marker": {
             "colorbar": {
              "outlinewidth": 0,
              "ticks": ""
             }
            },
            "type": "scatter3d"
           }
          ],
          "scattercarpet": [
           {
            "marker": {
             "colorbar": {
              "outlinewidth": 0,
              "ticks": ""
             }
            },
            "type": "scattercarpet"
           }
          ],
          "scattergeo": [
           {
            "marker": {
             "colorbar": {
              "outlinewidth": 0,
              "ticks": ""
             }
            },
            "type": "scattergeo"
           }
          ],
          "scattergl": [
           {
            "marker": {
             "colorbar": {
              "outlinewidth": 0,
              "ticks": ""
             }
            },
            "type": "scattergl"
           }
          ],
          "scattermapbox": [
           {
            "marker": {
             "colorbar": {
              "outlinewidth": 0,
              "ticks": ""
             }
            },
            "type": "scattermapbox"
           }
          ],
          "scatterpolar": [
           {
            "marker": {
             "colorbar": {
              "outlinewidth": 0,
              "ticks": ""
             }
            },
            "type": "scatterpolar"
           }
          ],
          "scatterpolargl": [
           {
            "marker": {
             "colorbar": {
              "outlinewidth": 0,
              "ticks": ""
             }
            },
            "type": "scatterpolargl"
           }
          ],
          "scatterternary": [
           {
            "marker": {
             "colorbar": {
              "outlinewidth": 0,
              "ticks": ""
             }
            },
            "type": "scatterternary"
           }
          ],
          "surface": [
           {
            "colorbar": {
             "outlinewidth": 0,
             "ticks": ""
            },
            "colorscale": [
             [
              0,
              "#0d0887"
             ],
             [
              0.1111111111111111,
              "#46039f"
             ],
             [
              0.2222222222222222,
              "#7201a8"
             ],
             [
              0.3333333333333333,
              "#9c179e"
             ],
             [
              0.4444444444444444,
              "#bd3786"
             ],
             [
              0.5555555555555556,
              "#d8576b"
             ],
             [
              0.6666666666666666,
              "#ed7953"
             ],
             [
              0.7777777777777778,
              "#fb9f3a"
             ],
             [
              0.8888888888888888,
              "#fdca26"
             ],
             [
              1,
              "#f0f921"
             ]
            ],
            "type": "surface"
           }
          ],
          "table": [
           {
            "cells": {
             "fill": {
              "color": "#EBF0F8"
             },
             "line": {
              "color": "white"
             }
            },
            "header": {
             "fill": {
              "color": "#C8D4E3"
             },
             "line": {
              "color": "white"
             }
            },
            "type": "table"
           }
          ]
         },
         "layout": {
          "annotationdefaults": {
           "arrowcolor": "#2a3f5f",
           "arrowhead": 0,
           "arrowwidth": 1
          },
          "coloraxis": {
           "colorbar": {
            "outlinewidth": 0,
            "ticks": ""
           }
          },
          "colorscale": {
           "diverging": [
            [
             0,
             "#8e0152"
            ],
            [
             0.1,
             "#c51b7d"
            ],
            [
             0.2,
             "#de77ae"
            ],
            [
             0.3,
             "#f1b6da"
            ],
            [
             0.4,
             "#fde0ef"
            ],
            [
             0.5,
             "#f7f7f7"
            ],
            [
             0.6,
             "#e6f5d0"
            ],
            [
             0.7,
             "#b8e186"
            ],
            [
             0.8,
             "#7fbc41"
            ],
            [
             0.9,
             "#4d9221"
            ],
            [
             1,
             "#276419"
            ]
           ],
           "sequential": [
            [
             0,
             "#0d0887"
            ],
            [
             0.1111111111111111,
             "#46039f"
            ],
            [
             0.2222222222222222,
             "#7201a8"
            ],
            [
             0.3333333333333333,
             "#9c179e"
            ],
            [
             0.4444444444444444,
             "#bd3786"
            ],
            [
             0.5555555555555556,
             "#d8576b"
            ],
            [
             0.6666666666666666,
             "#ed7953"
            ],
            [
             0.7777777777777778,
             "#fb9f3a"
            ],
            [
             0.8888888888888888,
             "#fdca26"
            ],
            [
             1,
             "#f0f921"
            ]
           ],
           "sequentialminus": [
            [
             0,
             "#0d0887"
            ],
            [
             0.1111111111111111,
             "#46039f"
            ],
            [
             0.2222222222222222,
             "#7201a8"
            ],
            [
             0.3333333333333333,
             "#9c179e"
            ],
            [
             0.4444444444444444,
             "#bd3786"
            ],
            [
             0.5555555555555556,
             "#d8576b"
            ],
            [
             0.6666666666666666,
             "#ed7953"
            ],
            [
             0.7777777777777778,
             "#fb9f3a"
            ],
            [
             0.8888888888888888,
             "#fdca26"
            ],
            [
             1,
             "#f0f921"
            ]
           ]
          },
          "colorway": [
           "#636efa",
           "#EF553B",
           "#00cc96",
           "#ab63fa",
           "#FFA15A",
           "#19d3f3",
           "#FF6692",
           "#B6E880",
           "#FF97FF",
           "#FECB52"
          ],
          "font": {
           "color": "#2a3f5f"
          },
          "geo": {
           "bgcolor": "white",
           "lakecolor": "white",
           "landcolor": "#E5ECF6",
           "showlakes": true,
           "showland": true,
           "subunitcolor": "white"
          },
          "hoverlabel": {
           "align": "left"
          },
          "hovermode": "closest",
          "mapbox": {
           "style": "light"
          },
          "paper_bgcolor": "white",
          "plot_bgcolor": "#E5ECF6",
          "polar": {
           "angularaxis": {
            "gridcolor": "white",
            "linecolor": "white",
            "ticks": ""
           },
           "bgcolor": "#E5ECF6",
           "radialaxis": {
            "gridcolor": "white",
            "linecolor": "white",
            "ticks": ""
           }
          },
          "scene": {
           "xaxis": {
            "backgroundcolor": "#E5ECF6",
            "gridcolor": "white",
            "gridwidth": 2,
            "linecolor": "white",
            "showbackground": true,
            "ticks": "",
            "zerolinecolor": "white"
           },
           "yaxis": {
            "backgroundcolor": "#E5ECF6",
            "gridcolor": "white",
            "gridwidth": 2,
            "linecolor": "white",
            "showbackground": true,
            "ticks": "",
            "zerolinecolor": "white"
           },
           "zaxis": {
            "backgroundcolor": "#E5ECF6",
            "gridcolor": "white",
            "gridwidth": 2,
            "linecolor": "white",
            "showbackground": true,
            "ticks": "",
            "zerolinecolor": "white"
           }
          },
          "shapedefaults": {
           "line": {
            "color": "#2a3f5f"
           }
          },
          "ternary": {
           "aaxis": {
            "gridcolor": "white",
            "linecolor": "white",
            "ticks": ""
           },
           "baxis": {
            "gridcolor": "white",
            "linecolor": "white",
            "ticks": ""
           },
           "bgcolor": "#E5ECF6",
           "caxis": {
            "gridcolor": "white",
            "linecolor": "white",
            "ticks": ""
           }
          },
          "title": {
           "x": 0.05
          },
          "xaxis": {
           "automargin": true,
           "gridcolor": "white",
           "linecolor": "white",
           "ticks": "",
           "title": {
            "standoff": 15
           },
           "zerolinecolor": "white",
           "zerolinewidth": 2
          },
          "yaxis": {
           "automargin": true,
           "gridcolor": "white",
           "linecolor": "white",
           "ticks": "",
           "title": {
            "standoff": 15
           },
           "zerolinecolor": "white",
           "zerolinewidth": 2
          }
         }
        },
        "title": {
         "text": "Trajectories of participant LBC360702"
        },
        "xaxis": {
         "title": {
          "text": "Wave"
         }
        },
        "yaxis": {
         "title": {
          "text": "AF"
         }
        }
       }
      }
     },
     "metadata": {}
    }
   ],
   "source": [
    "# Plotting a participant using a pointer\n",
    "lbc[0].plot_trajectories(germline=True)  # 'germline=false' filters mutations having an AF mean above 0.45 "
   ]
  },
  {
   "cell_type": "code",
   "execution_count": 6,
   "metadata": {
    "scrolled": false
   },
   "outputs": [
    {
     "output_type": "display_data",
     "data": {
      "application/vnd.plotly.v1+json": {
       "config": {
        "plotlyServerURL": "https://plot.ly"
       },
       "data": [
        {
         "mode": "lines+markers",
         "name": "EZH2 c.118-4dup",
         "type": "scatter",
         "x": [
          1,
          2,
          3,
          4
         ],
         "y": [
          0.0587,
          0.0386,
          0.053,
          0.0471
         ]
        },
        {
         "mode": "lines+markers",
         "name": "EZH2 c.118-5_118-4del",
         "type": "scatter",
         "x": [
          1,
          2,
          3,
          4
         ],
         "y": [
          0.0778,
          0.0745,
          0.0806,
          0.0672
         ]
        },
        {
         "mode": "lines+markers",
         "name": "FLT3 c.1419-4del",
         "type": "scatter",
         "x": [
          1,
          2,
          3,
          4
         ],
         "y": [
          0.1246,
          0.1367,
          0.1419,
          0.1291
         ]
        },
        {
         "mode": "lines+markers",
         "name": "FLT3 c.1419-4dup",
         "type": "scatter",
         "x": [
          1,
          2,
          3,
          4
         ],
         "y": [
          0.0669,
          0.0699,
          0.0639,
          0.0646
         ]
        },
        {
         "mode": "lines+markers",
         "name": "JAK2 c.1849G>T",
         "type": "scatter",
         "x": [
          1,
          2,
          3,
          4
         ],
         "y": [
          0.14,
          0.3118,
          0.4996,
          0.352
         ]
        },
        {
         "mode": "lines+markers",
         "name": "JAK2 c.3291+16del",
         "type": "scatter",
         "x": [
          1,
          2,
          3,
          4
         ],
         "y": [
          0.0331,
          0.0435,
          0.0398,
          0.0391
         ]
        },
        {
         "mode": "lines+markers",
         "name": "JAK2 c.3291+16dup",
         "type": "scatter",
         "x": [
          1,
          2,
          3,
          4
         ],
         "y": [
          0.0309,
          0.0245,
          0.0257,
          0.0289
         ]
        },
        {
         "mode": "lines+markers",
         "name": "KDM6A c.-167_-165dup",
         "type": "scatter",
         "x": [
          1,
          2,
          3,
          4
         ],
         "y": [
          0.8307,
          0.7782,
          0.792,
          0.8075
         ]
        },
        {
         "mode": "lines+markers",
         "name": "LUC7L2 c.757_758del",
         "type": "scatter",
         "x": [
          1,
          2,
          3,
          4
         ],
         "y": [
          0.047,
          0.0423,
          0.0497,
          0.0469
         ]
        },
        {
         "mode": "lines+markers",
         "name": "RUNX1 c.1265A>C",
         "type": "scatter",
         "x": [
          1,
          2,
          3,
          4
         ],
         "y": [
          0.3023,
          0.2669,
          0.2343,
          0.2848
         ]
        },
        {
         "mode": "lines+markers",
         "name": "RUNX1 c.1270T>C",
         "type": "scatter",
         "x": [
          1,
          2,
          3,
          4
         ],
         "y": [
          0.0376,
          0.0327,
          0.0351,
          0.0465
         ]
        },
        {
         "mode": "lines+markers",
         "name": "RUNX1 c.1270T>G",
         "type": "scatter",
         "x": [
          1,
          2,
          3,
          4
         ],
         "y": [
          0.2563,
          0.2237,
          0.1917,
          0.2181
         ]
        },
        {
         "mode": "lines+markers",
         "name": "SF3B1 c.2225G>A",
         "type": "scatter",
         "x": [
          1,
          2,
          3,
          4
         ],
         "y": [
          0.0007,
          0.0005,
          0.0005,
          0.0816
         ]
        },
        {
         "mode": "lines+markers",
         "name": "U2AF2 c.231-2A>C",
         "type": "scatter",
         "x": [
          1,
          2,
          3,
          4
         ],
         "y": [
          0.0331,
          0.0308,
          0.0484,
          0.0427
         ]
        }
       ],
       "layout": {
        "template": {
         "data": {
          "bar": [
           {
            "error_x": {
             "color": "#2a3f5f"
            },
            "error_y": {
             "color": "#2a3f5f"
            },
            "marker": {
             "line": {
              "color": "#E5ECF6",
              "width": 0.5
             }
            },
            "type": "bar"
           }
          ],
          "barpolar": [
           {
            "marker": {
             "line": {
              "color": "#E5ECF6",
              "width": 0.5
             }
            },
            "type": "barpolar"
           }
          ],
          "carpet": [
           {
            "aaxis": {
             "endlinecolor": "#2a3f5f",
             "gridcolor": "white",
             "linecolor": "white",
             "minorgridcolor": "white",
             "startlinecolor": "#2a3f5f"
            },
            "baxis": {
             "endlinecolor": "#2a3f5f",
             "gridcolor": "white",
             "linecolor": "white",
             "minorgridcolor": "white",
             "startlinecolor": "#2a3f5f"
            },
            "type": "carpet"
           }
          ],
          "choropleth": [
           {
            "colorbar": {
             "outlinewidth": 0,
             "ticks": ""
            },
            "type": "choropleth"
           }
          ],
          "contour": [
           {
            "colorbar": {
             "outlinewidth": 0,
             "ticks": ""
            },
            "colorscale": [
             [
              0,
              "#0d0887"
             ],
             [
              0.1111111111111111,
              "#46039f"
             ],
             [
              0.2222222222222222,
              "#7201a8"
             ],
             [
              0.3333333333333333,
              "#9c179e"
             ],
             [
              0.4444444444444444,
              "#bd3786"
             ],
             [
              0.5555555555555556,
              "#d8576b"
             ],
             [
              0.6666666666666666,
              "#ed7953"
             ],
             [
              0.7777777777777778,
              "#fb9f3a"
             ],
             [
              0.8888888888888888,
              "#fdca26"
             ],
             [
              1,
              "#f0f921"
             ]
            ],
            "type": "contour"
           }
          ],
          "contourcarpet": [
           {
            "colorbar": {
             "outlinewidth": 0,
             "ticks": ""
            },
            "type": "contourcarpet"
           }
          ],
          "heatmap": [
           {
            "colorbar": {
             "outlinewidth": 0,
             "ticks": ""
            },
            "colorscale": [
             [
              0,
              "#0d0887"
             ],
             [
              0.1111111111111111,
              "#46039f"
             ],
             [
              0.2222222222222222,
              "#7201a8"
             ],
             [
              0.3333333333333333,
              "#9c179e"
             ],
             [
              0.4444444444444444,
              "#bd3786"
             ],
             [
              0.5555555555555556,
              "#d8576b"
             ],
             [
              0.6666666666666666,
              "#ed7953"
             ],
             [
              0.7777777777777778,
              "#fb9f3a"
             ],
             [
              0.8888888888888888,
              "#fdca26"
             ],
             [
              1,
              "#f0f921"
             ]
            ],
            "type": "heatmap"
           }
          ],
          "heatmapgl": [
           {
            "colorbar": {
             "outlinewidth": 0,
             "ticks": ""
            },
            "colorscale": [
             [
              0,
              "#0d0887"
             ],
             [
              0.1111111111111111,
              "#46039f"
             ],
             [
              0.2222222222222222,
              "#7201a8"
             ],
             [
              0.3333333333333333,
              "#9c179e"
             ],
             [
              0.4444444444444444,
              "#bd3786"
             ],
             [
              0.5555555555555556,
              "#d8576b"
             ],
             [
              0.6666666666666666,
              "#ed7953"
             ],
             [
              0.7777777777777778,
              "#fb9f3a"
             ],
             [
              0.8888888888888888,
              "#fdca26"
             ],
             [
              1,
              "#f0f921"
             ]
            ],
            "type": "heatmapgl"
           }
          ],
          "histogram": [
           {
            "marker": {
             "colorbar": {
              "outlinewidth": 0,
              "ticks": ""
             }
            },
            "type": "histogram"
           }
          ],
          "histogram2d": [
           {
            "colorbar": {
             "outlinewidth": 0,
             "ticks": ""
            },
            "colorscale": [
             [
              0,
              "#0d0887"
             ],
             [
              0.1111111111111111,
              "#46039f"
             ],
             [
              0.2222222222222222,
              "#7201a8"
             ],
             [
              0.3333333333333333,
              "#9c179e"
             ],
             [
              0.4444444444444444,
              "#bd3786"
             ],
             [
              0.5555555555555556,
              "#d8576b"
             ],
             [
              0.6666666666666666,
              "#ed7953"
             ],
             [
              0.7777777777777778,
              "#fb9f3a"
             ],
             [
              0.8888888888888888,
              "#fdca26"
             ],
             [
              1,
              "#f0f921"
             ]
            ],
            "type": "histogram2d"
           }
          ],
          "histogram2dcontour": [
           {
            "colorbar": {
             "outlinewidth": 0,
             "ticks": ""
            },
            "colorscale": [
             [
              0,
              "#0d0887"
             ],
             [
              0.1111111111111111,
              "#46039f"
             ],
             [
              0.2222222222222222,
              "#7201a8"
             ],
             [
              0.3333333333333333,
              "#9c179e"
             ],
             [
              0.4444444444444444,
              "#bd3786"
             ],
             [
              0.5555555555555556,
              "#d8576b"
             ],
             [
              0.6666666666666666,
              "#ed7953"
             ],
             [
              0.7777777777777778,
              "#fb9f3a"
             ],
             [
              0.8888888888888888,
              "#fdca26"
             ],
             [
              1,
              "#f0f921"
             ]
            ],
            "type": "histogram2dcontour"
           }
          ],
          "mesh3d": [
           {
            "colorbar": {
             "outlinewidth": 0,
             "ticks": ""
            },
            "type": "mesh3d"
           }
          ],
          "parcoords": [
           {
            "line": {
             "colorbar": {
              "outlinewidth": 0,
              "ticks": ""
             }
            },
            "type": "parcoords"
           }
          ],
          "pie": [
           {
            "automargin": true,
            "type": "pie"
           }
          ],
          "scatter": [
           {
            "marker": {
             "colorbar": {
              "outlinewidth": 0,
              "ticks": ""
             }
            },
            "type": "scatter"
           }
          ],
          "scatter3d": [
           {
            "line": {
             "colorbar": {
              "outlinewidth": 0,
              "ticks": ""
             }
            },
            "marker": {
             "colorbar": {
              "outlinewidth": 0,
              "ticks": ""
             }
            },
            "type": "scatter3d"
           }
          ],
          "scattercarpet": [
           {
            "marker": {
             "colorbar": {
              "outlinewidth": 0,
              "ticks": ""
             }
            },
            "type": "scattercarpet"
           }
          ],
          "scattergeo": [
           {
            "marker": {
             "colorbar": {
              "outlinewidth": 0,
              "ticks": ""
             }
            },
            "type": "scattergeo"
           }
          ],
          "scattergl": [
           {
            "marker": {
             "colorbar": {
              "outlinewidth": 0,
              "ticks": ""
             }
            },
            "type": "scattergl"
           }
          ],
          "scattermapbox": [
           {
            "marker": {
             "colorbar": {
              "outlinewidth": 0,
              "ticks": ""
             }
            },
            "type": "scattermapbox"
           }
          ],
          "scatterpolar": [
           {
            "marker": {
             "colorbar": {
              "outlinewidth": 0,
              "ticks": ""
             }
            },
            "type": "scatterpolar"
           }
          ],
          "scatterpolargl": [
           {
            "marker": {
             "colorbar": {
              "outlinewidth": 0,
              "ticks": ""
             }
            },
            "type": "scatterpolargl"
           }
          ],
          "scatterternary": [
           {
            "marker": {
             "colorbar": {
              "outlinewidth": 0,
              "ticks": ""
             }
            },
            "type": "scatterternary"
           }
          ],
          "surface": [
           {
            "colorbar": {
             "outlinewidth": 0,
             "ticks": ""
            },
            "colorscale": [
             [
              0,
              "#0d0887"
             ],
             [
              0.1111111111111111,
              "#46039f"
             ],
             [
              0.2222222222222222,
              "#7201a8"
             ],
             [
              0.3333333333333333,
              "#9c179e"
             ],
             [
              0.4444444444444444,
              "#bd3786"
             ],
             [
              0.5555555555555556,
              "#d8576b"
             ],
             [
              0.6666666666666666,
              "#ed7953"
             ],
             [
              0.7777777777777778,
              "#fb9f3a"
             ],
             [
              0.8888888888888888,
              "#fdca26"
             ],
             [
              1,
              "#f0f921"
             ]
            ],
            "type": "surface"
           }
          ],
          "table": [
           {
            "cells": {
             "fill": {
              "color": "#EBF0F8"
             },
             "line": {
              "color": "white"
             }
            },
            "header": {
             "fill": {
              "color": "#C8D4E3"
             },
             "line": {
              "color": "white"
             }
            },
            "type": "table"
           }
          ]
         },
         "layout": {
          "annotationdefaults": {
           "arrowcolor": "#2a3f5f",
           "arrowhead": 0,
           "arrowwidth": 1
          },
          "coloraxis": {
           "colorbar": {
            "outlinewidth": 0,
            "ticks": ""
           }
          },
          "colorscale": {
           "diverging": [
            [
             0,
             "#8e0152"
            ],
            [
             0.1,
             "#c51b7d"
            ],
            [
             0.2,
             "#de77ae"
            ],
            [
             0.3,
             "#f1b6da"
            ],
            [
             0.4,
             "#fde0ef"
            ],
            [
             0.5,
             "#f7f7f7"
            ],
            [
             0.6,
             "#e6f5d0"
            ],
            [
             0.7,
             "#b8e186"
            ],
            [
             0.8,
             "#7fbc41"
            ],
            [
             0.9,
             "#4d9221"
            ],
            [
             1,
             "#276419"
            ]
           ],
           "sequential": [
            [
             0,
             "#0d0887"
            ],
            [
             0.1111111111111111,
             "#46039f"
            ],
            [
             0.2222222222222222,
             "#7201a8"
            ],
            [
             0.3333333333333333,
             "#9c179e"
            ],
            [
             0.4444444444444444,
             "#bd3786"
            ],
            [
             0.5555555555555556,
             "#d8576b"
            ],
            [
             0.6666666666666666,
             "#ed7953"
            ],
            [
             0.7777777777777778,
             "#fb9f3a"
            ],
            [
             0.8888888888888888,
             "#fdca26"
            ],
            [
             1,
             "#f0f921"
            ]
           ],
           "sequentialminus": [
            [
             0,
             "#0d0887"
            ],
            [
             0.1111111111111111,
             "#46039f"
            ],
            [
             0.2222222222222222,
             "#7201a8"
            ],
            [
             0.3333333333333333,
             "#9c179e"
            ],
            [
             0.4444444444444444,
             "#bd3786"
            ],
            [
             0.5555555555555556,
             "#d8576b"
            ],
            [
             0.6666666666666666,
             "#ed7953"
            ],
            [
             0.7777777777777778,
             "#fb9f3a"
            ],
            [
             0.8888888888888888,
             "#fdca26"
            ],
            [
             1,
             "#f0f921"
            ]
           ]
          },
          "colorway": [
           "#636efa",
           "#EF553B",
           "#00cc96",
           "#ab63fa",
           "#FFA15A",
           "#19d3f3",
           "#FF6692",
           "#B6E880",
           "#FF97FF",
           "#FECB52"
          ],
          "font": {
           "color": "#2a3f5f"
          },
          "geo": {
           "bgcolor": "white",
           "lakecolor": "white",
           "landcolor": "#E5ECF6",
           "showlakes": true,
           "showland": true,
           "subunitcolor": "white"
          },
          "hoverlabel": {
           "align": "left"
          },
          "hovermode": "closest",
          "mapbox": {
           "style": "light"
          },
          "paper_bgcolor": "white",
          "plot_bgcolor": "#E5ECF6",
          "polar": {
           "angularaxis": {
            "gridcolor": "white",
            "linecolor": "white",
            "ticks": ""
           },
           "bgcolor": "#E5ECF6",
           "radialaxis": {
            "gridcolor": "white",
            "linecolor": "white",
            "ticks": ""
           }
          },
          "scene": {
           "xaxis": {
            "backgroundcolor": "#E5ECF6",
            "gridcolor": "white",
            "gridwidth": 2,
            "linecolor": "white",
            "showbackground": true,
            "ticks": "",
            "zerolinecolor": "white"
           },
           "yaxis": {
            "backgroundcolor": "#E5ECF6",
            "gridcolor": "white",
            "gridwidth": 2,
            "linecolor": "white",
            "showbackground": true,
            "ticks": "",
            "zerolinecolor": "white"
           },
           "zaxis": {
            "backgroundcolor": "#E5ECF6",
            "gridcolor": "white",
            "gridwidth": 2,
            "linecolor": "white",
            "showbackground": true,
            "ticks": "",
            "zerolinecolor": "white"
           }
          },
          "shapedefaults": {
           "line": {
            "color": "#2a3f5f"
           }
          },
          "ternary": {
           "aaxis": {
            "gridcolor": "white",
            "linecolor": "white",
            "ticks": ""
           },
           "baxis": {
            "gridcolor": "white",
            "linecolor": "white",
            "ticks": ""
           },
           "bgcolor": "#E5ECF6",
           "caxis": {
            "gridcolor": "white",
            "linecolor": "white",
            "ticks": ""
           }
          },
          "title": {
           "x": 0.05
          },
          "xaxis": {
           "automargin": true,
           "gridcolor": "white",
           "linecolor": "white",
           "ticks": "",
           "title": {
            "standoff": 15
           },
           "zerolinecolor": "white",
           "zerolinewidth": 2
          },
          "yaxis": {
           "automargin": true,
           "gridcolor": "white",
           "linecolor": "white",
           "ticks": "",
           "title": {
            "standoff": 15
           },
           "zerolinecolor": "white",
           "zerolinewidth": 2
          }
         }
        },
        "title": {
         "text": "Trajectories of participant LBC360021"
        },
        "xaxis": {
         "title": {
          "text": "Wave"
         }
        },
        "yaxis": {
         "title": {
          "text": "AF"
         }
        }
       }
      }
     },
     "metadata": {}
    }
   ],
   "source": [
    "# Plotting a participant using a participant's id\n",
    "plot_id(lbc,'LBC360021', germline=True)"
   ]
  },
  {
   "cell_type": "markdown",
   "metadata": {},
   "source": [
    "## Plotting trajectory gradients\n"
   ]
  },
  {
   "cell_type": "markdown",
   "metadata": {},
   "source": [
    "Function *gradients* allows us to crate violin plots of the overall gradient of all trajectories containing a mutation in a list of genes."
   ]
  },
  {
   "cell_type": "code",
   "execution_count": 7,
   "metadata": {
    "scrolled": false
   },
   "outputs": [
    {
     "output_type": "display_data",
     "data": {
      "application/vnd.plotly.v1+json": {
       "config": {
        "plotlyServerURL": "https://plot.ly"
       },
       "data": [
        {
         "alignmentgroup": "True",
         "box": {
          "visible": false
         },
         "customdata": [
          [
           "JAK2"
          ],
          [
           "JAK2"
          ],
          [
           "JAK2"
          ],
          [
           "JAK2"
          ],
          [
           "JAK2"
          ],
          [
           "JAK2"
          ],
          [
           "JAK2"
          ],
          [
           "JAK2"
          ],
          [
           "JAK2"
          ],
          [
           "JAK2"
          ],
          [
           "JAK2"
          ],
          [
           "JAK2"
          ],
          [
           "JAK2"
          ],
          [
           "JAK2"
          ],
          [
           "JAK2"
          ],
          [
           "JAK2"
          ],
          [
           "JAK2"
          ],
          [
           "JAK2"
          ],
          [
           "JAK2"
          ],
          [
           "JAK2"
          ],
          [
           "JAK2"
          ],
          [
           "JAK2"
          ],
          [
           "JAK2"
          ],
          [
           "JAK2"
          ],
          [
           "JAK2"
          ],
          [
           "JAK2"
          ],
          [
           "JAK2"
          ],
          [
           "JAK2"
          ],
          [
           "JAK2"
          ],
          [
           "JAK2"
          ],
          [
           "JAK2"
          ],
          [
           "JAK2"
          ],
          [
           "JAK2"
          ],
          [
           "JAK2"
          ],
          [
           "JAK2"
          ],
          [
           "JAK2"
          ],
          [
           "JAK2"
          ],
          [
           "JAK2"
          ],
          [
           "JAK2"
          ],
          [
           "JAK2"
          ],
          [
           "JAK2"
          ],
          [
           "JAK2"
          ],
          [
           "JAK2"
          ],
          [
           "JAK2"
          ],
          [
           "JAK2"
          ],
          [
           "JAK2"
          ],
          [
           "JAK2"
          ],
          [
           "JAK2"
          ],
          [
           "JAK2"
          ],
          [
           "JAK2"
          ],
          [
           "JAK2"
          ],
          [
           "JAK2"
          ],
          [
           "JAK2"
          ],
          [
           "JAK2"
          ],
          [
           "JAK2"
          ],
          [
           "JAK2"
          ],
          [
           "JAK2"
          ],
          [
           "JAK2"
          ],
          [
           "JAK2"
          ],
          [
           "JAK2"
          ],
          [
           "JAK2"
          ],
          [
           "JAK2"
          ],
          [
           "JAK2"
          ],
          [
           "JAK2"
          ],
          [
           "JAK2"
          ],
          [
           "JAK2"
          ],
          [
           "JAK2"
          ],
          [
           "JAK2"
          ],
          [
           "JAK2"
          ],
          [
           "JAK2"
          ],
          [
           "JAK2"
          ],
          [
           "JAK2"
          ],
          [
           "JAK2"
          ],
          [
           "JAK2"
          ],
          [
           "JAK2"
          ],
          [
           "JAK2"
          ],
          [
           "JAK2"
          ],
          [
           "JAK2"
          ],
          [
           "JAK2"
          ],
          [
           "JAK2"
          ],
          [
           "JAK2"
          ],
          [
           "JAK2"
          ],
          [
           "JAK2"
          ],
          [
           "JAK2"
          ],
          [
           "JAK2"
          ],
          [
           "JAK2"
          ],
          [
           "JAK2"
          ]
         ],
         "hovertemplate": "<b>%{hovertext}</b><br><br>mutation=%{customdata[0]}<br>gradient=%{y}<extra></extra>",
         "hovertext": [
          "LBC360702",
          "LBC360702",
          "LBC360702",
          "LBC361225",
          "LBC361225",
          "LBC0293E",
          "LBC0293E",
          "LBC360453",
          "LBC360453",
          "LBC0165A",
          "LBC0165A",
          "LBC360694",
          "LBC360694",
          "LBC0266V",
          "LBC0266V",
          "LBC360658",
          "LBC360658",
          "LBC0001A",
          "LBC0001A",
          "LBC0040V",
          "LBC0040V",
          "LBC0047K",
          "LBC0047K",
          "LBC0068H",
          "LBC0068H",
          "LBC0081L",
          "LBC0081L",
          "LBC0251K",
          "LBC0251K",
          "LBC0373R",
          "LBC0373R",
          "LBC0415L",
          "LBC0415L",
          "LBC0478E",
          "LBC0478E",
          "LBC360414",
          "LBC360414",
          "LBC360458",
          "LBC360458",
          "LBC360508",
          "LBC360508",
          "LBC360549",
          "LBC360549",
          "LBC360636",
          "LBC360636",
          "LBC360636",
          "LBC360666",
          "LBC360666",
          "LBC360725",
          "LBC360725",
          "LBC360754",
          "LBC360754",
          "LBC360782",
          "LBC360782",
          "LBC360914",
          "LBC360914",
          "LBC361096",
          "LBC361096",
          "LBC361133",
          "LBC361133",
          "LBC361172",
          "LBC361172",
          "LBC361214",
          "LBC361214",
          "LBC360898",
          "LBC360898",
          "LBC360790",
          "LBC360790",
          "LBC360919",
          "LBC360919",
          "LBC361006",
          "LBC361006",
          "LBC361122",
          "LBC361122",
          "LBC360021",
          "LBC360021",
          "LBC360021",
          "LBC0256W",
          "LBC0256W",
          "LBC360908",
          "LBC360908",
          "LBC360072",
          "LBC360072",
          "LBC0148L",
          "LBC0111B",
          "LBC0111B",
          "LBC0111B"
         ],
         "legendgroup": "JAK2",
         "marker": {
          "color": "#636efa"
         },
         "name": "JAK2",
         "offsetgroup": "JAK2",
         "orientation": "v",
         "points": "all",
         "scalegroup": "True",
         "showlegend": true,
         "type": "violin",
         "x": [
          "JAK2",
          "JAK2",
          "JAK2",
          "JAK2",
          "JAK2",
          "JAK2",
          "JAK2",
          "JAK2",
          "JAK2",
          "JAK2",
          "JAK2",
          "JAK2",
          "JAK2",
          "JAK2",
          "JAK2",
          "JAK2",
          "JAK2",
          "JAK2",
          "JAK2",
          "JAK2",
          "JAK2",
          "JAK2",
          "JAK2",
          "JAK2",
          "JAK2",
          "JAK2",
          "JAK2",
          "JAK2",
          "JAK2",
          "JAK2",
          "JAK2",
          "JAK2",
          "JAK2",
          "JAK2",
          "JAK2",
          "JAK2",
          "JAK2",
          "JAK2",
          "JAK2",
          "JAK2",
          "JAK2",
          "JAK2",
          "JAK2",
          "JAK2",
          "JAK2",
          "JAK2",
          "JAK2",
          "JAK2",
          "JAK2",
          "JAK2",
          "JAK2",
          "JAK2",
          "JAK2",
          "JAK2",
          "JAK2",
          "JAK2",
          "JAK2",
          "JAK2",
          "JAK2",
          "JAK2",
          "JAK2",
          "JAK2",
          "JAK2",
          "JAK2",
          "JAK2",
          "JAK2",
          "JAK2",
          "JAK2",
          "JAK2",
          "JAK2",
          "JAK2",
          "JAK2",
          "JAK2",
          "JAK2",
          "JAK2",
          "JAK2",
          "JAK2",
          "JAK2",
          "JAK2",
          "JAK2",
          "JAK2",
          "JAK2",
          "JAK2",
          "JAK2",
          "JAK2",
          "JAK2",
          "JAK2"
         ],
         "x0": " ",
         "xaxis": "x",
         "y": [
          0.052366666666666666,
          0.00043333333333333185,
          0.0003666666666666679,
          -0.004033333333333333,
          0.0017666666666666664,
          0.003324999999999999,
          0.000449999999999999,
          0.0058,
          0.003466666666666668,
          0.002400000000000001,
          0,
          -0.003799999999999998,
          0.0063999999999999994,
          0,
          0.0019500000000000003,
          0.000899999999999998,
          -0.0023999999999999994,
          0.003025,
          -0.0008999999999999998,
          -0.0013999999999999985,
          -0.0025000000000000005,
          -0.002999999999999999,
          0.0055,
          0.000449999999999999,
          -0.003299999999999999,
          0.006000000000000002,
          -0.006,
          0.005725000000000001,
          -0.0031249999999999993,
          0.0011000000000000003,
          -0.001899999999999999,
          0.0034000000000000002,
          -0.0014999999999999996,
          0.004400000000000001,
          -0.004825,
          0.0004000000000000045,
          -0.0005999999999999998,
          -0.0036999999999999997,
          -0.0017999999999999995,
          0.001200000000000002,
          -0.0011666666666666665,
          -0.0023,
          0.000833333333333333,
          -0.0026000000000000016,
          -0.0016000000000000007,
          0.005950000000000011,
          0.0008750000000000008,
          -0.005475000000000001,
          0.001266666666666666,
          -0.0017666666666666664,
          -0.0016000000000000007,
          0.002,
          0.00010000000000000055,
          -0.0006666666666666661,
          -0.0017000000000000001,
          -0.0004333333333333342,
          0.005133333333333334,
          0.0010666666666666672,
          -0.0024499999999999973,
          -0.0040500000000000015,
          -0.00145,
          -0.0017000000000000001,
          0.001033333333333335,
          -0.0013999999999999996,
          -0.0026000000000000003,
          -0.0011999999999999997,
          0.0038499999999999993,
          -0.002725,
          0.0005666666666666667,
          -0.001033333333333334,
          -0.00006666666666666626,
          -0.0002999999999999993,
          -0.0006666666666666649,
          0.0019,
          0.07066666666666666,
          0.0020000000000000018,
          -0.0006666666666666673,
          0.0007999999999999986,
          -0.002450000000000001,
          0.0010999999999999992,
          0.0005999999999999998,
          0.0034333333333333347,
          0.0036333333333333335,
          -0.0011500000000000017,
          0.03607500000000001,
          -0.00015000000000000083,
          -0.0024749999999999998
         ],
         "y0": " ",
         "yaxis": "y"
        },
        {
         "alignmentgroup": "True",
         "box": {
          "visible": false
         },
         "customdata": [
          [
           "RUNX1"
          ],
          [
           "RUNX1"
          ],
          [
           "RUNX1"
          ],
          [
           "RUNX1"
          ],
          [
           "RUNX1"
          ],
          [
           "RUNX1"
          ],
          [
           "RUNX1"
          ],
          [
           "RUNX1"
          ],
          [
           "RUNX1"
          ],
          [
           "RUNX1"
          ],
          [
           "RUNX1"
          ],
          [
           "RUNX1"
          ],
          [
           "RUNX1"
          ],
          [
           "RUNX1"
          ],
          [
           "RUNX1"
          ],
          [
           "RUNX1"
          ],
          [
           "RUNX1"
          ],
          [
           "RUNX1"
          ],
          [
           "RUNX1"
          ],
          [
           "RUNX1"
          ],
          [
           "RUNX1"
          ],
          [
           "RUNX1"
          ],
          [
           "RUNX1"
          ],
          [
           "RUNX1"
          ],
          [
           "RUNX1"
          ],
          [
           "RUNX1"
          ],
          [
           "RUNX1"
          ],
          [
           "RUNX1"
          ],
          [
           "RUNX1"
          ],
          [
           "RUNX1"
          ],
          [
           "RUNX1"
          ],
          [
           "RUNX1"
          ],
          [
           "RUNX1"
          ],
          [
           "RUNX1"
          ],
          [
           "RUNX1"
          ],
          [
           "RUNX1"
          ],
          [
           "RUNX1"
          ],
          [
           "RUNX1"
          ],
          [
           "RUNX1"
          ],
          [
           "RUNX1"
          ],
          [
           "RUNX1"
          ],
          [
           "RUNX1"
          ],
          [
           "RUNX1"
          ],
          [
           "RUNX1"
          ],
          [
           "RUNX1"
          ],
          [
           "RUNX1"
          ],
          [
           "RUNX1"
          ],
          [
           "RUNX1"
          ],
          [
           "RUNX1"
          ],
          [
           "RUNX1"
          ],
          [
           "RUNX1"
          ],
          [
           "RUNX1"
          ],
          [
           "RUNX1"
          ],
          [
           "RUNX1"
          ],
          [
           "RUNX1"
          ],
          [
           "RUNX1"
          ],
          [
           "RUNX1"
          ],
          [
           "RUNX1"
          ],
          [
           "RUNX1"
          ],
          [
           "RUNX1"
          ],
          [
           "RUNX1"
          ],
          [
           "RUNX1"
          ],
          [
           "RUNX1"
          ],
          [
           "RUNX1"
          ],
          [
           "RUNX1"
          ],
          [
           "RUNX1"
          ],
          [
           "RUNX1"
          ],
          [
           "RUNX1"
          ],
          [
           "RUNX1"
          ],
          [
           "RUNX1"
          ],
          [
           "RUNX1"
          ],
          [
           "RUNX1"
          ],
          [
           "RUNX1"
          ],
          [
           "RUNX1"
          ],
          [
           "RUNX1"
          ],
          [
           "RUNX1"
          ],
          [
           "RUNX1"
          ],
          [
           "RUNX1"
          ],
          [
           "RUNX1"
          ],
          [
           "RUNX1"
          ],
          [
           "RUNX1"
          ],
          [
           "RUNX1"
          ],
          [
           "RUNX1"
          ],
          [
           "RUNX1"
          ],
          [
           "RUNX1"
          ],
          [
           "RUNX1"
          ],
          [
           "RUNX1"
          ],
          [
           "RUNX1"
          ],
          [
           "RUNX1"
          ],
          [
           "RUNX1"
          ],
          [
           "RUNX1"
          ],
          [
           "RUNX1"
          ],
          [
           "RUNX1"
          ],
          [
           "RUNX1"
          ],
          [
           "RUNX1"
          ],
          [
           "RUNX1"
          ],
          [
           "RUNX1"
          ],
          [
           "RUNX1"
          ],
          [
           "RUNX1"
          ],
          [
           "RUNX1"
          ],
          [
           "RUNX1"
          ],
          [
           "RUNX1"
          ],
          [
           "RUNX1"
          ],
          [
           "RUNX1"
          ],
          [
           "RUNX1"
          ],
          [
           "RUNX1"
          ],
          [
           "RUNX1"
          ],
          [
           "RUNX1"
          ],
          [
           "RUNX1"
          ],
          [
           "RUNX1"
          ],
          [
           "RUNX1"
          ],
          [
           "RUNX1"
          ],
          [
           "RUNX1"
          ],
          [
           "RUNX1"
          ],
          [
           "RUNX1"
          ],
          [
           "RUNX1"
          ],
          [
           "RUNX1"
          ],
          [
           "RUNX1"
          ],
          [
           "RUNX1"
          ],
          [
           "RUNX1"
          ],
          [
           "RUNX1"
          ],
          [
           "RUNX1"
          ],
          [
           "RUNX1"
          ],
          [
           "RUNX1"
          ],
          [
           "RUNX1"
          ],
          [
           "RUNX1"
          ],
          [
           "RUNX1"
          ],
          [
           "RUNX1"
          ],
          [
           "RUNX1"
          ],
          [
           "RUNX1"
          ],
          [
           "RUNX1"
          ],
          [
           "RUNX1"
          ],
          [
           "RUNX1"
          ],
          [
           "RUNX1"
          ],
          [
           "RUNX1"
          ],
          [
           "RUNX1"
          ],
          [
           "RUNX1"
          ],
          [
           "RUNX1"
          ],
          [
           "RUNX1"
          ],
          [
           "RUNX1"
          ]
         ],
         "hovertemplate": "<b>%{hovertext}</b><br><br>mutation=%{customdata[0]}<br>gradient=%{y}<extra></extra>",
         "hovertext": [
          "LBC360702",
          "LBC360702",
          "LBC361225",
          "LBC361225",
          "LBC0293E",
          "LBC0293E",
          "LBC360213",
          "LBC360213",
          "LBC360213",
          "LBC360231",
          "LBC360453",
          "LBC360453",
          "LBC360453",
          "LBC360453",
          "LBC360453",
          "LBC360380",
          "LBC0165A",
          "LBC0165A",
          "LBC0165A",
          "LBC360694",
          "LBC0266V",
          "LBC0266V",
          "LBC0266V",
          "LBC360658",
          "LBC360658",
          "LBC360658",
          "LBC0001A",
          "LBC0001A",
          "LBC0001A",
          "LBC0040V",
          "LBC0040V",
          "LBC0040V",
          "LBC0047K",
          "LBC0047K",
          "LBC0047K",
          "LBC0068H",
          "LBC0068H",
          "LBC0068H",
          "LBC0081L",
          "LBC0081L",
          "LBC0081L",
          "LBC0251K",
          "LBC0251K",
          "LBC0373R",
          "LBC0373R",
          "LBC0373R",
          "LBC0415L",
          "LBC0415L",
          "LBC0415L",
          "LBC0478E",
          "LBC0478E",
          "LBC0478E",
          "LBC360414",
          "LBC360414",
          "LBC360458",
          "LBC360458",
          "LBC360458",
          "LBC360508",
          "LBC360508",
          "LBC360508",
          "LBC360549",
          "LBC360549",
          "LBC360549",
          "LBC360549",
          "LBC360549",
          "LBC360636",
          "LBC360666",
          "LBC360666",
          "LBC360666",
          "LBC360725",
          "LBC360725",
          "LBC360725",
          "LBC360754",
          "LBC360754",
          "LBC360782",
          "LBC360782",
          "LBC360914",
          "LBC361096",
          "LBC361096",
          "LBC361096",
          "LBC361133",
          "LBC361133",
          "LBC361133",
          "LBC361133",
          "LBC361172",
          "LBC361172",
          "LBC361172",
          "LBC361214",
          "LBC361214",
          "LBC361214",
          "LBC361214",
          "LBC360898",
          "LBC360898",
          "LBC360790",
          "LBC360790",
          "LBC360790",
          "LBC360919",
          "LBC360919",
          "LBC360919",
          "LBC360919",
          "LBC360919",
          "LBC361006",
          "LBC361006",
          "LBC361006",
          "LBC361122",
          "LBC361122",
          "LBC360104",
          "LBC360104",
          "LBC360021",
          "LBC360021",
          "LBC360021",
          "LBC0256W",
          "LBC0256W",
          "LBC360908",
          "LBC360072",
          "LBC360072",
          "LBC360072",
          "LBC360356",
          "LBC360356",
          "LBC361286",
          "LBC0148L",
          "LBC0148L",
          "LBC0148L",
          "LBC360212",
          "LBC360212",
          "LBC0111B",
          "LBC0111B",
          "LBC0484V",
          "LBC0591L",
          "LBC0591L",
          "LBC360181",
          "LBC360181",
          "LBC360181",
          "LBC360181",
          "LBC360291",
          "LBC360291",
          "LBC360109",
          "LBC360109",
          "LBC360109",
          "LBC360109"
         ],
         "legendgroup": "RUNX1",
         "marker": {
          "color": "#EF553B"
         },
         "name": "RUNX1",
         "offsetgroup": "RUNX1",
         "orientation": "v",
         "points": "all",
         "scalegroup": "True",
         "showlegend": true,
         "type": "violin",
         "x": [
          "RUNX1",
          "RUNX1",
          "RUNX1",
          "RUNX1",
          "RUNX1",
          "RUNX1",
          "RUNX1",
          "RUNX1",
          "RUNX1",
          "RUNX1",
          "RUNX1",
          "RUNX1",
          "RUNX1",
          "RUNX1",
          "RUNX1",
          "RUNX1",
          "RUNX1",
          "RUNX1",
          "RUNX1",
          "RUNX1",
          "RUNX1",
          "RUNX1",
          "RUNX1",
          "RUNX1",
          "RUNX1",
          "RUNX1",
          "RUNX1",
          "RUNX1",
          "RUNX1",
          "RUNX1",
          "RUNX1",
          "RUNX1",
          "RUNX1",
          "RUNX1",
          "RUNX1",
          "RUNX1",
          "RUNX1",
          "RUNX1",
          "RUNX1",
          "RUNX1",
          "RUNX1",
          "RUNX1",
          "RUNX1",
          "RUNX1",
          "RUNX1",
          "RUNX1",
          "RUNX1",
          "RUNX1",
          "RUNX1",
          "RUNX1",
          "RUNX1",
          "RUNX1",
          "RUNX1",
          "RUNX1",
          "RUNX1",
          "RUNX1",
          "RUNX1",
          "RUNX1",
          "RUNX1",
          "RUNX1",
          "RUNX1",
          "RUNX1",
          "RUNX1",
          "RUNX1",
          "RUNX1",
          "RUNX1",
          "RUNX1",
          "RUNX1",
          "RUNX1",
          "RUNX1",
          "RUNX1",
          "RUNX1",
          "RUNX1",
          "RUNX1",
          "RUNX1",
          "RUNX1",
          "RUNX1",
          "RUNX1",
          "RUNX1",
          "RUNX1",
          "RUNX1",
          "RUNX1",
          "RUNX1",
          "RUNX1",
          "RUNX1",
          "RUNX1",
          "RUNX1",
          "RUNX1",
          "RUNX1",
          "RUNX1",
          "RUNX1",
          "RUNX1",
          "RUNX1",
          "RUNX1",
          "RUNX1",
          "RUNX1",
          "RUNX1",
          "RUNX1",
          "RUNX1",
          "RUNX1",
          "RUNX1",
          "RUNX1",
          "RUNX1",
          "RUNX1",
          "RUNX1",
          "RUNX1",
          "RUNX1",
          "RUNX1",
          "RUNX1",
          "RUNX1",
          "RUNX1",
          "RUNX1",
          "RUNX1",
          "RUNX1",
          "RUNX1",
          "RUNX1",
          "RUNX1",
          "RUNX1",
          "RUNX1",
          "RUNX1",
          "RUNX1",
          "RUNX1",
          "RUNX1",
          "RUNX1",
          "RUNX1",
          "RUNX1",
          "RUNX1",
          "RUNX1",
          "RUNX1",
          "RUNX1",
          "RUNX1",
          "RUNX1",
          "RUNX1",
          "RUNX1",
          "RUNX1",
          "RUNX1",
          "RUNX1",
          "RUNX1",
          "RUNX1",
          "RUNX1"
         ],
         "x0": " ",
         "xaxis": "x",
         "y": [
          -0.002799999999999999,
          -0.010933333333333337,
          0.00016666666666666682,
          -0.0009333333333333323,
          -0.016300000000000002,
          -0.000449999999999999,
          0.0007666666666666747,
          0.0039000000000000007,
          0.023466666666666674,
          0.0040999999999999925,
          0.0007666666666666678,
          0.014333333333333345,
          0.004866666666666668,
          -0.0021,
          -0.01465,
          -0.08230000000000004,
          -0.006324999999999997,
          -0.005025,
          0.001800000000000003,
          0.029300000000000007,
          -0.012300000000000005,
          -0.0034999999999999996,
          -0.017350000000000004,
          -0.061000000000000026,
          0.0006999999999999992,
          -0.004900000000000002,
          0.02919999999999999,
          0.003575,
          0.017549999999999996,
          -0.0647,
          0.004400000000000001,
          -0.04014999999999999,
          0.07965000000000001,
          0.007350000000000002,
          0.045,
          -0.004799999999999999,
          0.00004999999999999796,
          -0.002349999999999991,
          -0.0005000000000000004,
          0.0020499999999999997,
          -0.025349999999999998,
          0.0032250000000000004,
          -0.008649999999999998,
          0.032200000000000006,
          0.001899999999999999,
          0.014499999999999999,
          -0.03125,
          -0.00955,
          -0.019199999999999995,
          0.008049999999999995,
          -0.0019999999999999983,
          -0.015725000000000003,
          -0.0019000000000000024,
          0.0025000000000000022,
          -0.0005333333333333324,
          -0.005633333333333334,
          -0.004599999999999997,
          -0.0018333333333333337,
          -0.0028000000000000017,
          0.011433333333333332,
          -0.002533333333333332,
          -0.02466666666666667,
          -0.002166666666666666,
          0.003166666666666667,
          0.00013333333333333253,
          0.001899999999999999,
          0.0017000000000000001,
          0.020425,
          0.007300000000000001,
          0.0003999999999999999,
          -0.0034666666666666665,
          -0.00523333333333333,
          0.004550000000000026,
          -0.000999999999999994,
          0.0016333333333333339,
          0.003566666666666667,
          0.0029333333333333342,
          -0.0006666666666666673,
          0.015366666666666659,
          0.0019333333333333355,
          0.0023999999999999994,
          0.0012499999999999994,
          0.038949999999999985,
          -0.0133,
          -0.0011999999999999997,
          0.021799999999999986,
          0,
          0.005399999999999999,
          0.0036333333333333335,
          -0.001833333333333335,
          -0.007266666666666667,
          -0.003433333333333332,
          0.003599999999999999,
          0.0014000000000000002,
          0.0013999999999999993,
          -0.012775000000000002,
          -0.0013333333333333322,
          0.002766666666666666,
          0.005133333333333323,
          -0.004300000000000001,
          0.012125,
          -0.0029,
          0.001499999999999999,
          -0.007199999999999999,
          -0.0016500000000000004,
          0.0046999999999999984,
          0.019200000000000012,
          -0.00633333333333332,
          -0.005833333333333339,
          0.002966666666666666,
          -0.012733333333333327,
          -0.050449999999999995,
          -0.021750000000000005,
          -0.004466666666666667,
          0.0008666666666666637,
          0.0024666666666666656,
          -0.0032666666666666677,
          -0.007433333333333329,
          0.0029500000000000004,
          0.0014000000000000123,
          0.00009999999999998899,
          0.00145,
          0.0121,
          -0.005500000000000005,
          -0.0026999999999999993,
          0.003349999999999999,
          0.0036499999999999935,
          0.008174999999999995,
          0.0014250000000000096,
          0.014599999999999995,
          -0.04843333333333335,
          0.0026500000000000013,
          -0.03200000000000001,
          -0.001133333333333338,
          0.022049999999999986,
          -0.00015000000000000083,
          0.007233333333333332,
          0.0125,
          -0.00736666666666667,
          0.020699999999999996
         ],
         "y0": " ",
         "yaxis": "y"
        },
        {
         "alignmentgroup": "True",
         "box": {
          "visible": false
         },
         "customdata": [
          [
           "DNMT3A"
          ],
          [
           "DNMT3A"
          ],
          [
           "DNMT3A"
          ],
          [
           "DNMT3A"
          ],
          [
           "DNMT3A"
          ],
          [
           "DNMT3A"
          ],
          [
           "DNMT3A"
          ],
          [
           "DNMT3A"
          ],
          [
           "DNMT3A"
          ],
          [
           "DNMT3A"
          ],
          [
           "DNMT3A"
          ],
          [
           "DNMT3A"
          ],
          [
           "DNMT3A"
          ],
          [
           "DNMT3A"
          ],
          [
           "DNMT3A"
          ],
          [
           "DNMT3A"
          ],
          [
           "DNMT3A"
          ],
          [
           "DNMT3A"
          ],
          [
           "DNMT3A"
          ],
          [
           "DNMT3A"
          ],
          [
           "DNMT3A"
          ],
          [
           "DNMT3A"
          ],
          [
           "DNMT3A"
          ]
         ],
         "hovertemplate": "<b>%{hovertext}</b><br><br>mutation=%{customdata[0]}<br>gradient=%{y}<extra></extra>",
         "hovertext": [
          "LBC0293E",
          "LBC0293E",
          "LBC360453",
          "LBC360380",
          "LBC0165A",
          "LBC360658",
          "LBC0040V",
          "LBC0068H",
          "LBC0068H",
          "LBC360414",
          "LBC360458",
          "LBC360508",
          "LBC360549",
          "LBC360636",
          "LBC360914",
          "LBC361172",
          "LBC360919",
          "LBC361006",
          "LBC361006",
          "LBC360283",
          "LBC360356",
          "LBC361286",
          "LBC0148L"
         ],
         "legendgroup": "DNMT3A",
         "marker": {
          "color": "#00cc96"
         },
         "name": "DNMT3A",
         "offsetgroup": "DNMT3A",
         "orientation": "v",
         "points": "all",
         "scalegroup": "True",
         "showlegend": true,
         "type": "violin",
         "x": [
          "DNMT3A",
          "DNMT3A",
          "DNMT3A",
          "DNMT3A",
          "DNMT3A",
          "DNMT3A",
          "DNMT3A",
          "DNMT3A",
          "DNMT3A",
          "DNMT3A",
          "DNMT3A",
          "DNMT3A",
          "DNMT3A",
          "DNMT3A",
          "DNMT3A",
          "DNMT3A",
          "DNMT3A",
          "DNMT3A",
          "DNMT3A",
          "DNMT3A",
          "DNMT3A",
          "DNMT3A",
          "DNMT3A"
         ],
         "x0": " ",
         "xaxis": "x",
         "y": [
          0.004424999999999998,
          0.017150000000000002,
          0.019099999999999995,
          -0.014399999999999996,
          0.007975000000000001,
          0.0007500000000000007,
          0.2044,
          0.02855,
          0.002250000000000002,
          0.0020000000000000018,
          -0.003600000000000001,
          0.0557,
          0.029333333333333322,
          0.06550000000000002,
          0.030433333333333337,
          0.0065499999999999985,
          0.016666666666666663,
          -0.023333333333333334,
          -0.002266666666666667,
          -0.016300000000000002,
          0.004966666666666665,
          0.016499999999999997,
          0.00715
         ],
         "y0": " ",
         "yaxis": "y"
        },
        {
         "alignmentgroup": "True",
         "box": {
          "visible": false
         },
         "customdata": [
          [
           "TET2"
          ],
          [
           "TET2"
          ],
          [
           "TET2"
          ],
          [
           "TET2"
          ],
          [
           "TET2"
          ],
          [
           "TET2"
          ],
          [
           "TET2"
          ],
          [
           "TET2"
          ],
          [
           "TET2"
          ],
          [
           "TET2"
          ],
          [
           "TET2"
          ],
          [
           "TET2"
          ],
          [
           "TET2"
          ],
          [
           "TET2"
          ],
          [
           "TET2"
          ],
          [
           "TET2"
          ],
          [
           "TET2"
          ]
         ],
         "hovertemplate": "<b>%{hovertext}</b><br><br>mutation=%{customdata[0]}<br>gradient=%{y}<extra></extra>",
         "hovertext": [
          "LBC0165A",
          "LBC360694",
          "LBC0001A",
          "LBC0001A",
          "LBC0081L",
          "LBC0081L",
          "LBC0251K",
          "LBC360508",
          "LBC361133",
          "LBC0256W",
          "LBC360908",
          "LBC360908",
          "LBC360072",
          "LBC361286",
          "LBC0591L",
          "LBC0591L",
          "LBC360181"
         ],
         "legendgroup": "TET2",
         "marker": {
          "color": "#ab63fa"
         },
         "name": "TET2",
         "offsetgroup": "TET2",
         "orientation": "v",
         "points": "all",
         "scalegroup": "True",
         "showlegend": true,
         "type": "violin",
         "x": [
          "TET2",
          "TET2",
          "TET2",
          "TET2",
          "TET2",
          "TET2",
          "TET2",
          "TET2",
          "TET2",
          "TET2",
          "TET2",
          "TET2",
          "TET2",
          "TET2",
          "TET2",
          "TET2",
          "TET2"
         ],
         "x0": " ",
         "xaxis": "x",
         "y": [
          -0.005400000000000016,
          -0.015900000000000025,
          0.025949999999999997,
          0.05459999999999998,
          0.012200000000000003,
          0.0129,
          0.05,
          0.004033333333333333,
          -0.004250000000000004,
          0.02445,
          0.004899999999999999,
          0.004233333333333333,
          0.04906666666666667,
          0.2553,
          0.02465000000000001,
          -0.00027500000000000094,
          0.06770000000000001
         ],
         "y0": " ",
         "yaxis": "y"
        }
       ],
       "layout": {
        "legend": {
         "title": {
          "text": "mutation"
         },
         "tracegroupgap": 0
        },
        "margin": {
         "t": 60
        },
        "template": {
         "data": {
          "bar": [
           {
            "error_x": {
             "color": "#2a3f5f"
            },
            "error_y": {
             "color": "#2a3f5f"
            },
            "marker": {
             "line": {
              "color": "#E5ECF6",
              "width": 0.5
             }
            },
            "type": "bar"
           }
          ],
          "barpolar": [
           {
            "marker": {
             "line": {
              "color": "#E5ECF6",
              "width": 0.5
             }
            },
            "type": "barpolar"
           }
          ],
          "carpet": [
           {
            "aaxis": {
             "endlinecolor": "#2a3f5f",
             "gridcolor": "white",
             "linecolor": "white",
             "minorgridcolor": "white",
             "startlinecolor": "#2a3f5f"
            },
            "baxis": {
             "endlinecolor": "#2a3f5f",
             "gridcolor": "white",
             "linecolor": "white",
             "minorgridcolor": "white",
             "startlinecolor": "#2a3f5f"
            },
            "type": "carpet"
           }
          ],
          "choropleth": [
           {
            "colorbar": {
             "outlinewidth": 0,
             "ticks": ""
            },
            "type": "choropleth"
           }
          ],
          "contour": [
           {
            "colorbar": {
             "outlinewidth": 0,
             "ticks": ""
            },
            "colorscale": [
             [
              0,
              "#0d0887"
             ],
             [
              0.1111111111111111,
              "#46039f"
             ],
             [
              0.2222222222222222,
              "#7201a8"
             ],
             [
              0.3333333333333333,
              "#9c179e"
             ],
             [
              0.4444444444444444,
              "#bd3786"
             ],
             [
              0.5555555555555556,
              "#d8576b"
             ],
             [
              0.6666666666666666,
              "#ed7953"
             ],
             [
              0.7777777777777778,
              "#fb9f3a"
             ],
             [
              0.8888888888888888,
              "#fdca26"
             ],
             [
              1,
              "#f0f921"
             ]
            ],
            "type": "contour"
           }
          ],
          "contourcarpet": [
           {
            "colorbar": {
             "outlinewidth": 0,
             "ticks": ""
            },
            "type": "contourcarpet"
           }
          ],
          "heatmap": [
           {
            "colorbar": {
             "outlinewidth": 0,
             "ticks": ""
            },
            "colorscale": [
             [
              0,
              "#0d0887"
             ],
             [
              0.1111111111111111,
              "#46039f"
             ],
             [
              0.2222222222222222,
              "#7201a8"
             ],
             [
              0.3333333333333333,
              "#9c179e"
             ],
             [
              0.4444444444444444,
              "#bd3786"
             ],
             [
              0.5555555555555556,
              "#d8576b"
             ],
             [
              0.6666666666666666,
              "#ed7953"
             ],
             [
              0.7777777777777778,
              "#fb9f3a"
             ],
             [
              0.8888888888888888,
              "#fdca26"
             ],
             [
              1,
              "#f0f921"
             ]
            ],
            "type": "heatmap"
           }
          ],
          "heatmapgl": [
           {
            "colorbar": {
             "outlinewidth": 0,
             "ticks": ""
            },
            "colorscale": [
             [
              0,
              "#0d0887"
             ],
             [
              0.1111111111111111,
              "#46039f"
             ],
             [
              0.2222222222222222,
              "#7201a8"
             ],
             [
              0.3333333333333333,
              "#9c179e"
             ],
             [
              0.4444444444444444,
              "#bd3786"
             ],
             [
              0.5555555555555556,
              "#d8576b"
             ],
             [
              0.6666666666666666,
              "#ed7953"
             ],
             [
              0.7777777777777778,
              "#fb9f3a"
             ],
             [
              0.8888888888888888,
              "#fdca26"
             ],
             [
              1,
              "#f0f921"
             ]
            ],
            "type": "heatmapgl"
           }
          ],
          "histogram": [
           {
            "marker": {
             "colorbar": {
              "outlinewidth": 0,
              "ticks": ""
             }
            },
            "type": "histogram"
           }
          ],
          "histogram2d": [
           {
            "colorbar": {
             "outlinewidth": 0,
             "ticks": ""
            },
            "colorscale": [
             [
              0,
              "#0d0887"
             ],
             [
              0.1111111111111111,
              "#46039f"
             ],
             [
              0.2222222222222222,
              "#7201a8"
             ],
             [
              0.3333333333333333,
              "#9c179e"
             ],
             [
              0.4444444444444444,
              "#bd3786"
             ],
             [
              0.5555555555555556,
              "#d8576b"
             ],
             [
              0.6666666666666666,
              "#ed7953"
             ],
             [
              0.7777777777777778,
              "#fb9f3a"
             ],
             [
              0.8888888888888888,
              "#fdca26"
             ],
             [
              1,
              "#f0f921"
             ]
            ],
            "type": "histogram2d"
           }
          ],
          "histogram2dcontour": [
           {
            "colorbar": {
             "outlinewidth": 0,
             "ticks": ""
            },
            "colorscale": [
             [
              0,
              "#0d0887"
             ],
             [
              0.1111111111111111,
              "#46039f"
             ],
             [
              0.2222222222222222,
              "#7201a8"
             ],
             [
              0.3333333333333333,
              "#9c179e"
             ],
             [
              0.4444444444444444,
              "#bd3786"
             ],
             [
              0.5555555555555556,
              "#d8576b"
             ],
             [
              0.6666666666666666,
              "#ed7953"
             ],
             [
              0.7777777777777778,
              "#fb9f3a"
             ],
             [
              0.8888888888888888,
              "#fdca26"
             ],
             [
              1,
              "#f0f921"
             ]
            ],
            "type": "histogram2dcontour"
           }
          ],
          "mesh3d": [
           {
            "colorbar": {
             "outlinewidth": 0,
             "ticks": ""
            },
            "type": "mesh3d"
           }
          ],
          "parcoords": [
           {
            "line": {
             "colorbar": {
              "outlinewidth": 0,
              "ticks": ""
             }
            },
            "type": "parcoords"
           }
          ],
          "pie": [
           {
            "automargin": true,
            "type": "pie"
           }
          ],
          "scatter": [
           {
            "marker": {
             "colorbar": {
              "outlinewidth": 0,
              "ticks": ""
             }
            },
            "type": "scatter"
           }
          ],
          "scatter3d": [
           {
            "line": {
             "colorbar": {
              "outlinewidth": 0,
              "ticks": ""
             }
            },
            "marker": {
             "colorbar": {
              "outlinewidth": 0,
              "ticks": ""
             }
            },
            "type": "scatter3d"
           }
          ],
          "scattercarpet": [
           {
            "marker": {
             "colorbar": {
              "outlinewidth": 0,
              "ticks": ""
             }
            },
            "type": "scattercarpet"
           }
          ],
          "scattergeo": [
           {
            "marker": {
             "colorbar": {
              "outlinewidth": 0,
              "ticks": ""
             }
            },
            "type": "scattergeo"
           }
          ],
          "scattergl": [
           {
            "marker": {
             "colorbar": {
              "outlinewidth": 0,
              "ticks": ""
             }
            },
            "type": "scattergl"
           }
          ],
          "scattermapbox": [
           {
            "marker": {
             "colorbar": {
              "outlinewidth": 0,
              "ticks": ""
             }
            },
            "type": "scattermapbox"
           }
          ],
          "scatterpolar": [
           {
            "marker": {
             "colorbar": {
              "outlinewidth": 0,
              "ticks": ""
             }
            },
            "type": "scatterpolar"
           }
          ],
          "scatterpolargl": [
           {
            "marker": {
             "colorbar": {
              "outlinewidth": 0,
              "ticks": ""
             }
            },
            "type": "scatterpolargl"
           }
          ],
          "scatterternary": [
           {
            "marker": {
             "colorbar": {
              "outlinewidth": 0,
              "ticks": ""
             }
            },
            "type": "scatterternary"
           }
          ],
          "surface": [
           {
            "colorbar": {
             "outlinewidth": 0,
             "ticks": ""
            },
            "colorscale": [
             [
              0,
              "#0d0887"
             ],
             [
              0.1111111111111111,
              "#46039f"
             ],
             [
              0.2222222222222222,
              "#7201a8"
             ],
             [
              0.3333333333333333,
              "#9c179e"
             ],
             [
              0.4444444444444444,
              "#bd3786"
             ],
             [
              0.5555555555555556,
              "#d8576b"
             ],
             [
              0.6666666666666666,
              "#ed7953"
             ],
             [
              0.7777777777777778,
              "#fb9f3a"
             ],
             [
              0.8888888888888888,
              "#fdca26"
             ],
             [
              1,
              "#f0f921"
             ]
            ],
            "type": "surface"
           }
          ],
          "table": [
           {
            "cells": {
             "fill": {
              "color": "#EBF0F8"
             },
             "line": {
              "color": "white"
             }
            },
            "header": {
             "fill": {
              "color": "#C8D4E3"
             },
             "line": {
              "color": "white"
             }
            },
            "type": "table"
           }
          ]
         },
         "layout": {
          "annotationdefaults": {
           "arrowcolor": "#2a3f5f",
           "arrowhead": 0,
           "arrowwidth": 1
          },
          "coloraxis": {
           "colorbar": {
            "outlinewidth": 0,
            "ticks": ""
           }
          },
          "colorscale": {
           "diverging": [
            [
             0,
             "#8e0152"
            ],
            [
             0.1,
             "#c51b7d"
            ],
            [
             0.2,
             "#de77ae"
            ],
            [
             0.3,
             "#f1b6da"
            ],
            [
             0.4,
             "#fde0ef"
            ],
            [
             0.5,
             "#f7f7f7"
            ],
            [
             0.6,
             "#e6f5d0"
            ],
            [
             0.7,
             "#b8e186"
            ],
            [
             0.8,
             "#7fbc41"
            ],
            [
             0.9,
             "#4d9221"
            ],
            [
             1,
             "#276419"
            ]
           ],
           "sequential": [
            [
             0,
             "#0d0887"
            ],
            [
             0.1111111111111111,
             "#46039f"
            ],
            [
             0.2222222222222222,
             "#7201a8"
            ],
            [
             0.3333333333333333,
             "#9c179e"
            ],
            [
             0.4444444444444444,
             "#bd3786"
            ],
            [
             0.5555555555555556,
             "#d8576b"
            ],
            [
             0.6666666666666666,
             "#ed7953"
            ],
            [
             0.7777777777777778,
             "#fb9f3a"
            ],
            [
             0.8888888888888888,
             "#fdca26"
            ],
            [
             1,
             "#f0f921"
            ]
           ],
           "sequentialminus": [
            [
             0,
             "#0d0887"
            ],
            [
             0.1111111111111111,
             "#46039f"
            ],
            [
             0.2222222222222222,
             "#7201a8"
            ],
            [
             0.3333333333333333,
             "#9c179e"
            ],
            [
             0.4444444444444444,
             "#bd3786"
            ],
            [
             0.5555555555555556,
             "#d8576b"
            ],
            [
             0.6666666666666666,
             "#ed7953"
            ],
            [
             0.7777777777777778,
             "#fb9f3a"
            ],
            [
             0.8888888888888888,
             "#fdca26"
            ],
            [
             1,
             "#f0f921"
            ]
           ]
          },
          "colorway": [
           "#636efa",
           "#EF553B",
           "#00cc96",
           "#ab63fa",
           "#FFA15A",
           "#19d3f3",
           "#FF6692",
           "#B6E880",
           "#FF97FF",
           "#FECB52"
          ],
          "font": {
           "color": "#2a3f5f"
          },
          "geo": {
           "bgcolor": "white",
           "lakecolor": "white",
           "landcolor": "#E5ECF6",
           "showlakes": true,
           "showland": true,
           "subunitcolor": "white"
          },
          "hoverlabel": {
           "align": "left"
          },
          "hovermode": "closest",
          "mapbox": {
           "style": "light"
          },
          "paper_bgcolor": "white",
          "plot_bgcolor": "#E5ECF6",
          "polar": {
           "angularaxis": {
            "gridcolor": "white",
            "linecolor": "white",
            "ticks": ""
           },
           "bgcolor": "#E5ECF6",
           "radialaxis": {
            "gridcolor": "white",
            "linecolor": "white",
            "ticks": ""
           }
          },
          "scene": {
           "xaxis": {
            "backgroundcolor": "#E5ECF6",
            "gridcolor": "white",
            "gridwidth": 2,
            "linecolor": "white",
            "showbackground": true,
            "ticks": "",
            "zerolinecolor": "white"
           },
           "yaxis": {
            "backgroundcolor": "#E5ECF6",
            "gridcolor": "white",
            "gridwidth": 2,
            "linecolor": "white",
            "showbackground": true,
            "ticks": "",
            "zerolinecolor": "white"
           },
           "zaxis": {
            "backgroundcolor": "#E5ECF6",
            "gridcolor": "white",
            "gridwidth": 2,
            "linecolor": "white",
            "showbackground": true,
            "ticks": "",
            "zerolinecolor": "white"
           }
          },
          "shapedefaults": {
           "line": {
            "color": "#2a3f5f"
           }
          },
          "ternary": {
           "aaxis": {
            "gridcolor": "white",
            "linecolor": "white",
            "ticks": ""
           },
           "baxis": {
            "gridcolor": "white",
            "linecolor": "white",
            "ticks": ""
           },
           "bgcolor": "#E5ECF6",
           "caxis": {
            "gridcolor": "white",
            "linecolor": "white",
            "ticks": ""
           }
          },
          "title": {
           "x": 0.05
          },
          "xaxis": {
           "automargin": true,
           "gridcolor": "white",
           "linecolor": "white",
           "ticks": "",
           "title": {
            "standoff": 15
           },
           "zerolinecolor": "white",
           "zerolinewidth": 2
          },
          "yaxis": {
           "automargin": true,
           "gridcolor": "white",
           "linecolor": "white",
           "ticks": "",
           "title": {
            "standoff": 15
           },
           "zerolinecolor": "white",
           "zerolinewidth": 2
          }
         }
        },
        "title": {
         "text": "Overall gradients of trajectories sorted by mutation"
        },
        "violinmode": "overlay",
        "xaxis": {
         "anchor": "y",
         "categoryarray": [
          "JAK2",
          "RUNX1",
          "DNMT3A",
          "TET2"
         ],
         "categoryorder": "array",
         "domain": [
          0,
          1
         ],
         "title": {
          "text": "mutation"
         }
        },
        "yaxis": {
         "anchor": "x",
         "domain": [
          0,
          1
         ],
         "title": {
          "text": "gradient"
         }
        }
       }
      }
     },
     "metadata": {}
    }
   ],
   "source": [
    "gradients(lbc, ['DNMT3A','JAK2','TET2','RUNX1'])"
   ]
  },
  {
   "cell_type": "markdown",
   "metadata": {},
   "source": [
    "We can produce a similar plot, but instead of using the overall gradient, showing the local gradients sorted grouped by wave:"
   ]
  },
  {
   "cell_type": "code",
   "execution_count": 8,
   "metadata": {
    "scrolled": false
   },
   "outputs": [
    {
     "output_type": "display_data",
     "data": {
      "application/vnd.plotly.v1+json": {
       "config": {
        "plotlyServerURL": "https://plot.ly"
       },
       "data": [
        {
         "alignmentgroup": "True",
         "box": {
          "visible": false
         },
         "customdata": [
          [
           "JAK2"
          ],
          [
           "JAK2"
          ],
          [
           "JAK2"
          ],
          [
           "JAK2"
          ],
          [
           "JAK2"
          ],
          [
           "JAK2"
          ],
          [
           "JAK2"
          ],
          [
           "JAK2"
          ],
          [
           "JAK2"
          ],
          [
           "JAK2"
          ],
          [
           "JAK2"
          ],
          [
           "JAK2"
          ],
          [
           "JAK2"
          ],
          [
           "JAK2"
          ],
          [
           "JAK2"
          ],
          [
           "JAK2"
          ],
          [
           "JAK2"
          ],
          [
           "JAK2"
          ],
          [
           "JAK2"
          ],
          [
           "JAK2"
          ],
          [
           "JAK2"
          ],
          [
           "JAK2"
          ],
          [
           "JAK2"
          ],
          [
           "JAK2"
          ],
          [
           "JAK2"
          ],
          [
           "JAK2"
          ],
          [
           "JAK2"
          ],
          [
           "JAK2"
          ],
          [
           "JAK2"
          ],
          [
           "JAK2"
          ],
          [
           "JAK2"
          ],
          [
           "JAK2"
          ],
          [
           "JAK2"
          ],
          [
           "JAK2"
          ],
          [
           "JAK2"
          ],
          [
           "JAK2"
          ],
          [
           "JAK2"
          ],
          [
           "JAK2"
          ],
          [
           "JAK2"
          ],
          [
           "JAK2"
          ],
          [
           "JAK2"
          ],
          [
           "JAK2"
          ],
          [
           "JAK2"
          ],
          [
           "JAK2"
          ],
          [
           "JAK2"
          ],
          [
           "JAK2"
          ],
          [
           "JAK2"
          ],
          [
           "JAK2"
          ],
          [
           "JAK2"
          ],
          [
           "JAK2"
          ],
          [
           "JAK2"
          ],
          [
           "JAK2"
          ],
          [
           "JAK2"
          ],
          [
           "JAK2"
          ],
          [
           "JAK2"
          ],
          [
           "JAK2"
          ],
          [
           "JAK2"
          ],
          [
           "JAK2"
          ],
          [
           "JAK2"
          ],
          [
           "JAK2"
          ],
          [
           "JAK2"
          ],
          [
           "JAK2"
          ],
          [
           "JAK2"
          ],
          [
           "JAK2"
          ],
          [
           "JAK2"
          ],
          [
           "JAK2"
          ],
          [
           "JAK2"
          ],
          [
           "JAK2"
          ],
          [
           "JAK2"
          ],
          [
           "JAK2"
          ],
          [
           "JAK2"
          ],
          [
           "JAK2"
          ],
          [
           "JAK2"
          ],
          [
           "JAK2"
          ],
          [
           "JAK2"
          ],
          [
           "JAK2"
          ],
          [
           "JAK2"
          ],
          [
           "JAK2"
          ],
          [
           "JAK2"
          ],
          [
           "JAK2"
          ],
          [
           "JAK2"
          ],
          [
           "JAK2"
          ],
          [
           "JAK2"
          ],
          [
           "JAK2"
          ],
          [
           "JAK2"
          ],
          [
           "JAK2"
          ],
          [
           "JAK2"
          ],
          [
           "JAK2"
          ],
          [
           "JAK2"
          ],
          [
           "JAK2"
          ],
          [
           "JAK2"
          ],
          [
           "JAK2"
          ],
          [
           "JAK2"
          ],
          [
           "JAK2"
          ],
          [
           "JAK2"
          ],
          [
           "JAK2"
          ],
          [
           "JAK2"
          ],
          [
           "JAK2"
          ],
          [
           "JAK2"
          ],
          [
           "JAK2"
          ],
          [
           "JAK2"
          ],
          [
           "JAK2"
          ],
          [
           "JAK2"
          ],
          [
           "JAK2"
          ],
          [
           "JAK2"
          ],
          [
           "JAK2"
          ],
          [
           "JAK2"
          ],
          [
           "JAK2"
          ],
          [
           "JAK2"
          ],
          [
           "JAK2"
          ],
          [
           "JAK2"
          ],
          [
           "JAK2"
          ],
          [
           "JAK2"
          ],
          [
           "JAK2"
          ],
          [
           "JAK2"
          ],
          [
           "JAK2"
          ],
          [
           "JAK2"
          ],
          [
           "JAK2"
          ],
          [
           "JAK2"
          ],
          [
           "JAK2"
          ],
          [
           "JAK2"
          ],
          [
           "JAK2"
          ],
          [
           "JAK2"
          ],
          [
           "JAK2"
          ],
          [
           "JAK2"
          ],
          [
           "JAK2"
          ],
          [
           "JAK2"
          ],
          [
           "JAK2"
          ],
          [
           "JAK2"
          ],
          [
           "JAK2"
          ],
          [
           "JAK2"
          ],
          [
           "JAK2"
          ],
          [
           "JAK2"
          ],
          [
           "JAK2"
          ],
          [
           "JAK2"
          ],
          [
           "JAK2"
          ],
          [
           "JAK2"
          ],
          [
           "JAK2"
          ],
          [
           "JAK2"
          ],
          [
           "JAK2"
          ],
          [
           "JAK2"
          ],
          [
           "JAK2"
          ],
          [
           "JAK2"
          ],
          [
           "JAK2"
          ],
          [
           "JAK2"
          ],
          [
           "JAK2"
          ],
          [
           "JAK2"
          ],
          [
           "JAK2"
          ],
          [
           "JAK2"
          ],
          [
           "JAK2"
          ],
          [
           "JAK2"
          ],
          [
           "JAK2"
          ],
          [
           "JAK2"
          ],
          [
           "JAK2"
          ],
          [
           "JAK2"
          ],
          [
           "JAK2"
          ],
          [
           "JAK2"
          ],
          [
           "JAK2"
          ],
          [
           "JAK2"
          ],
          [
           "JAK2"
          ],
          [
           "JAK2"
          ],
          [
           "JAK2"
          ],
          [
           "JAK2"
          ],
          [
           "JAK2"
          ],
          [
           "JAK2"
          ],
          [
           "JAK2"
          ],
          [
           "JAK2"
          ],
          [
           "JAK2"
          ],
          [
           "JAK2"
          ],
          [
           "JAK2"
          ],
          [
           "JAK2"
          ],
          [
           "JAK2"
          ],
          [
           "JAK2"
          ],
          [
           "JAK2"
          ],
          [
           "JAK2"
          ],
          [
           "JAK2"
          ],
          [
           "JAK2"
          ],
          [
           "JAK2"
          ],
          [
           "JAK2"
          ],
          [
           "JAK2"
          ],
          [
           "JAK2"
          ],
          [
           "JAK2"
          ],
          [
           "JAK2"
          ],
          [
           "JAK2"
          ],
          [
           "JAK2"
          ],
          [
           "JAK2"
          ],
          [
           "JAK2"
          ],
          [
           "JAK2"
          ],
          [
           "JAK2"
          ],
          [
           "JAK2"
          ],
          [
           "JAK2"
          ],
          [
           "JAK2"
          ],
          [
           "JAK2"
          ],
          [
           "JAK2"
          ],
          [
           "JAK2"
          ],
          [
           "JAK2"
          ],
          [
           "JAK2"
          ],
          [
           "JAK2"
          ],
          [
           "JAK2"
          ],
          [
           "JAK2"
          ],
          [
           "JAK2"
          ],
          [
           "JAK2"
          ],
          [
           "JAK2"
          ],
          [
           "JAK2"
          ],
          [
           "JAK2"
          ],
          [
           "JAK2"
          ],
          [
           "JAK2"
          ],
          [
           "JAK2"
          ],
          [
           "JAK2"
          ],
          [
           "JAK2"
          ],
          [
           "JAK2"
          ],
          [
           "JAK2"
          ],
          [
           "JAK2"
          ],
          [
           "JAK2"
          ],
          [
           "JAK2"
          ],
          [
           "JAK2"
          ],
          [
           "JAK2"
          ],
          [
           "JAK2"
          ],
          [
           "JAK2"
          ],
          [
           "JAK2"
          ],
          [
           "JAK2"
          ],
          [
           "JAK2"
          ],
          [
           "JAK2"
          ],
          [
           "JAK2"
          ],
          [
           "JAK2"
          ],
          [
           "JAK2"
          ],
          [
           "JAK2"
          ],
          [
           "JAK2"
          ],
          [
           "JAK2"
          ],
          [
           "JAK2"
          ],
          [
           "JAK2"
          ],
          [
           "JAK2"
          ],
          [
           "JAK2"
          ],
          [
           "JAK2"
          ],
          [
           "JAK2"
          ],
          [
           "JAK2"
          ],
          [
           "JAK2"
          ],
          [
           "JAK2"
          ],
          [
           "JAK2"
          ],
          [
           "JAK2"
          ],
          [
           "JAK2"
          ],
          [
           "JAK2"
          ],
          [
           "JAK2"
          ],
          [
           "JAK2"
          ],
          [
           "JAK2"
          ],
          [
           "JAK2"
          ],
          [
           "JAK2"
          ],
          [
           "JAK2"
          ],
          [
           "JAK2"
          ],
          [
           "JAK2"
          ],
          [
           "JAK2"
          ],
          [
           "JAK2"
          ],
          [
           "JAK2"
          ],
          [
           "JAK2"
          ],
          [
           "JAK2"
          ],
          [
           "JAK2"
          ],
          [
           "JAK2"
          ],
          [
           "JAK2"
          ],
          [
           "JAK2"
          ],
          [
           "JAK2"
          ],
          [
           "JAK2"
          ],
          [
           "JAK2"
          ],
          [
           "JAK2"
          ],
          [
           "JAK2"
          ],
          [
           "JAK2"
          ],
          [
           "JAK2"
          ],
          [
           "JAK2"
          ],
          [
           "JAK2"
          ],
          [
           "JAK2"
          ],
          [
           "JAK2"
          ],
          [
           "JAK2"
          ],
          [
           "JAK2"
          ],
          [
           "JAK2"
          ],
          [
           "JAK2"
          ],
          [
           "JAK2"
          ],
          [
           "JAK2"
          ],
          [
           "JAK2"
          ],
          [
           "JAK2"
          ]
         ],
         "hovertemplate": "<b>%{hovertext}</b><br><br>mutation=%{customdata[0]}<br>wave=%{x}<br>gradient=%{y}<extra></extra>",
         "hovertext": [
          "LBC360702",
          "LBC360702",
          "LBC360702",
          "LBC360702",
          "LBC360702",
          "LBC360702",
          "LBC360702",
          "LBC360702",
          "LBC360702",
          "LBC360702",
          "LBC360702",
          "LBC360702",
          "LBC361225",
          "LBC361225",
          "LBC361225",
          "LBC361225",
          "LBC361225",
          "LBC361225",
          "LBC361225",
          "LBC361225",
          "LBC0293E",
          "LBC0293E",
          "LBC0293E",
          "LBC0293E",
          "LBC0293E",
          "LBC0293E",
          "LBC360453",
          "LBC360453",
          "LBC360453",
          "LBC360453",
          "LBC360453",
          "LBC360453",
          "LBC360453",
          "LBC360453",
          "LBC0165A",
          "LBC0165A",
          "LBC0165A",
          "LBC0165A",
          "LBC0165A",
          "LBC0165A",
          "LBC360694",
          "LBC360694",
          "LBC360694",
          "LBC360694",
          "LBC0266V",
          "LBC0266V",
          "LBC0266V",
          "LBC0266V",
          "LBC360658",
          "LBC360658",
          "LBC360658",
          "LBC360658",
          "LBC360658",
          "LBC360658",
          "LBC0001A",
          "LBC0001A",
          "LBC0001A",
          "LBC0001A",
          "LBC0001A",
          "LBC0001A",
          "LBC0040V",
          "LBC0040V",
          "LBC0040V",
          "LBC0040V",
          "LBC0047K",
          "LBC0047K",
          "LBC0047K",
          "LBC0047K",
          "LBC0068H",
          "LBC0068H",
          "LBC0068H",
          "LBC0068H",
          "LBC0081L",
          "LBC0081L",
          "LBC0081L",
          "LBC0081L",
          "LBC0251K",
          "LBC0251K",
          "LBC0251K",
          "LBC0251K",
          "LBC0251K",
          "LBC0251K",
          "LBC0373R",
          "LBC0373R",
          "LBC0373R",
          "LBC0373R",
          "LBC0415L",
          "LBC0415L",
          "LBC0415L",
          "LBC0415L",
          "LBC0478E",
          "LBC0478E",
          "LBC0478E",
          "LBC0478E",
          "LBC0478E",
          "LBC0478E",
          "LBC360414",
          "LBC360414",
          "LBC360414",
          "LBC360414",
          "LBC360458",
          "LBC360458",
          "LBC360458",
          "LBC360458",
          "LBC360458",
          "LBC360458",
          "LBC360458",
          "LBC360458",
          "LBC360508",
          "LBC360508",
          "LBC360508",
          "LBC360508",
          "LBC360508",
          "LBC360508",
          "LBC360508",
          "LBC360508",
          "LBC360549",
          "LBC360549",
          "LBC360549",
          "LBC360549",
          "LBC360549",
          "LBC360549",
          "LBC360549",
          "LBC360549",
          "LBC360636",
          "LBC360636",
          "LBC360636",
          "LBC360636",
          "LBC360636",
          "LBC360636",
          "LBC360636",
          "LBC360636",
          "LBC360636",
          "LBC360666",
          "LBC360666",
          "LBC360666",
          "LBC360666",
          "LBC360666",
          "LBC360666",
          "LBC360725",
          "LBC360725",
          "LBC360725",
          "LBC360725",
          "LBC360725",
          "LBC360725",
          "LBC360725",
          "LBC360725",
          "LBC360754",
          "LBC360754",
          "LBC360754",
          "LBC360754",
          "LBC360754",
          "LBC360754",
          "LBC360782",
          "LBC360782",
          "LBC360782",
          "LBC360782",
          "LBC360782",
          "LBC360782",
          "LBC360782",
          "LBC360782",
          "LBC360914",
          "LBC360914",
          "LBC360914",
          "LBC360914",
          "LBC360914",
          "LBC360914",
          "LBC360914",
          "LBC360914",
          "LBC361096",
          "LBC361096",
          "LBC361096",
          "LBC361096",
          "LBC361096",
          "LBC361096",
          "LBC361096",
          "LBC361096",
          "LBC361133",
          "LBC361133",
          "LBC361133",
          "LBC361133",
          "LBC361133",
          "LBC361133",
          "LBC361172",
          "LBC361172",
          "LBC361172",
          "LBC361172",
          "LBC361172",
          "LBC361172",
          "LBC361214",
          "LBC361214",
          "LBC361214",
          "LBC361214",
          "LBC361214",
          "LBC361214",
          "LBC361214",
          "LBC361214",
          "LBC360898",
          "LBC360898",
          "LBC360898",
          "LBC360898",
          "LBC360898",
          "LBC360898",
          "LBC360898",
          "LBC360898",
          "LBC360790",
          "LBC360790",
          "LBC360790",
          "LBC360790",
          "LBC360790",
          "LBC360790",
          "LBC360919",
          "LBC360919",
          "LBC360919",
          "LBC360919",
          "LBC360919",
          "LBC360919",
          "LBC360919",
          "LBC360919",
          "LBC361006",
          "LBC361006",
          "LBC361006",
          "LBC361006",
          "LBC361006",
          "LBC361006",
          "LBC361006",
          "LBC361006",
          "LBC361122",
          "LBC361122",
          "LBC361122",
          "LBC361122",
          "LBC361122",
          "LBC361122",
          "LBC361122",
          "LBC361122",
          "LBC360021",
          "LBC360021",
          "LBC360021",
          "LBC360021",
          "LBC360021",
          "LBC360021",
          "LBC360021",
          "LBC360021",
          "LBC360021",
          "LBC360021",
          "LBC360021",
          "LBC360021",
          "LBC0256W",
          "LBC0256W",
          "LBC0256W",
          "LBC0256W",
          "LBC360908",
          "LBC360908",
          "LBC360908",
          "LBC360908",
          "LBC360908",
          "LBC360908",
          "LBC360908",
          "LBC360908",
          "LBC360072",
          "LBC360072",
          "LBC360072",
          "LBC360072",
          "LBC360072",
          "LBC360072",
          "LBC360072",
          "LBC360072",
          "LBC0148L",
          "LBC0148L",
          "LBC0111B",
          "LBC0111B",
          "LBC0111B",
          "LBC0111B",
          "LBC0111B",
          "LBC0111B",
          "LBC0111B",
          "LBC0111B",
          "LBC0111B"
         ],
         "legendgroup": "JAK2",
         "marker": {
          "color": "#636efa"
         },
         "name": "JAK2",
         "offsetgroup": "JAK2",
         "orientation": "v",
         "points": "all",
         "scalegroup": "True",
         "showlegend": true,
         "type": "violin",
         "x": [
          1,
          2,
          3,
          4,
          1,
          2,
          3,
          4,
          1,
          2,
          3,
          4,
          1,
          2,
          3,
          4,
          1,
          2,
          3,
          4,
          1,
          3,
          4,
          1,
          3,
          4,
          1,
          2,
          3,
          4,
          1,
          2,
          3,
          4,
          1,
          3,
          4,
          1,
          3,
          4,
          1,
          2,
          1,
          2,
          1,
          3,
          1,
          3,
          1,
          2,
          3,
          1,
          2,
          3,
          1,
          3,
          4,
          1,
          3,
          4,
          1,
          3,
          1,
          3,
          1,
          3,
          1,
          3,
          1,
          3,
          1,
          3,
          1,
          3,
          1,
          3,
          1,
          3,
          4,
          1,
          3,
          4,
          1,
          3,
          1,
          3,
          1,
          3,
          1,
          3,
          1,
          3,
          4,
          1,
          3,
          4,
          1,
          2,
          1,
          2,
          1,
          2,
          3,
          4,
          1,
          2,
          3,
          4,
          1,
          2,
          3,
          4,
          1,
          2,
          3,
          4,
          1,
          2,
          3,
          4,
          1,
          2,
          3,
          4,
          1,
          2,
          3,
          1,
          2,
          3,
          1,
          2,
          3,
          1,
          3,
          4,
          1,
          3,
          4,
          1,
          2,
          3,
          4,
          1,
          2,
          3,
          4,
          1,
          2,
          3,
          1,
          2,
          3,
          1,
          2,
          3,
          4,
          1,
          2,
          3,
          4,
          1,
          2,
          3,
          4,
          1,
          2,
          3,
          4,
          1,
          2,
          3,
          4,
          1,
          2,
          3,
          4,
          1,
          2,
          3,
          1,
          2,
          3,
          1,
          2,
          3,
          1,
          2,
          3,
          1,
          2,
          3,
          4,
          1,
          2,
          3,
          4,
          1,
          2,
          3,
          4,
          1,
          2,
          3,
          4,
          1,
          3,
          4,
          1,
          3,
          4,
          1,
          2,
          3,
          4,
          1,
          2,
          3,
          4,
          1,
          2,
          3,
          4,
          1,
          2,
          3,
          4,
          1,
          2,
          3,
          4,
          1,
          2,
          3,
          4,
          1,
          2,
          3,
          4,
          1,
          2,
          3,
          4,
          1,
          2,
          3,
          4,
          1,
          3,
          1,
          3,
          1,
          2,
          3,
          4,
          1,
          2,
          3,
          4,
          1,
          2,
          3,
          4,
          1,
          2,
          3,
          4,
          1,
          3,
          1,
          3,
          4,
          1,
          3,
          4,
          1,
          3,
          4
         ],
         "x0": " ",
         "xaxis": "x",
         "y": [
          0.08980000000000002,
          0.07195,
          0.033649999999999985,
          0.01319999999999999,
          -0.0014000000000000054,
          -0.0019500000000000003,
          0.0013500000000000005,
          0.005199999999999996,
          -0.002599999999999998,
          0.0020499999999999997,
          0.001850000000000001,
          -0.0029999999999999957,
          -0.009899999999999999,
          -0.0045499999999999985,
          -0.0011000000000000003,
          -0.0030000000000000027,
          0.005999999999999998,
          0.002,
          -0.0003499999999999996,
          0.001299999999999999,
          0.0035499999999999993,
          0.003324999999999999,
          0.0030999999999999986,
          0.0016000000000000007,
          0.000449999999999999,
          -0.0007000000000000027,
          0.007199999999999998,
          0.000449999999999999,
          0.0051,
          0.0165,
          0.0086,
          0.0036000000000000008,
          0.0009000000000000015,
          0.0032000000000000015,
          0.001299999999999999,
          0.002400000000000001,
          0.003500000000000003,
          -0.0023999999999999994,
          0,
          0.0023999999999999994,
          -0.003799999999999998,
          -0.003799999999999998,
          0.0063999999999999994,
          0.0063999999999999994,
          0,
          0,
          0.0019500000000000003,
          0.0019500000000000003,
          -0.005100000000000004,
          0.000899999999999998,
          0.0069,
          -0.0032000000000000015,
          -0.0023999999999999994,
          -0.0015999999999999973,
          0.0026499999999999996,
          0.003025,
          0.0034000000000000002,
          0.0001999999999999988,
          -0.0008999999999999998,
          -0.0019999999999999983,
          -0.0013999999999999985,
          -0.0013999999999999985,
          -0.0025000000000000005,
          -0.0025000000000000005,
          -0.002999999999999999,
          -0.002999999999999999,
          0.0055,
          0.0055,
          0.000449999999999999,
          0.000449999999999999,
          -0.003299999999999999,
          -0.003299999999999999,
          0.006000000000000002,
          0.006000000000000002,
          -0.006,
          -0.006,
          -0.002450000000000001,
          0.005725000000000001,
          0.013900000000000003,
          0.00015000000000000083,
          -0.0031249999999999993,
          -0.0063999999999999994,
          0.0011000000000000003,
          0.0011000000000000003,
          -0.001899999999999999,
          -0.001899999999999999,
          0.0034000000000000002,
          0.0034000000000000002,
          -0.0014999999999999996,
          -0.0014999999999999996,
          0.0005000000000000004,
          0.004400000000000001,
          0.008300000000000002,
          0.0008499999999999983,
          -0.004825,
          -0.010499999999999999,
          0.0004000000000000045,
          0.0004000000000000045,
          -0.0005999999999999998,
          -0.0005999999999999998,
          -0.0046,
          -0.005549999999999999,
          -0.0032499999999999994,
          0,
          -0.002700000000000001,
          0.002749999999999999,
          -0.0013499999999999988,
          -0.010899999999999996,
          -0.0063,
          -0.0018499999999999975,
          0.004950000000000003,
          0.007300000000000001,
          -0.0058,
          -0.0013499999999999988,
          0.00115,
          -0.0008000000000000021,
          -0.0010999999999999968,
          0.005150000000000002,
          -0.0029000000000000015,
          -0.017200000000000003,
          0.005799999999999996,
          -0.00395,
          -0.0016499999999999987,
          0.0104,
          0.0029,
          -0.0026000000000000016,
          -0.008100000000000003,
          0.004799999999999999,
          -0.0016000000000000007,
          -0.008,
          0.009000000000000008,
          0.005950000000000011,
          0.0029000000000000137,
          -0.0034500000000000017,
          0.0008750000000000008,
          0.005200000000000003,
          -0.00015000000000000083,
          -0.005475000000000001,
          -0.0108,
          -0.003500000000000003,
          -0.00315,
          0.0036500000000000005,
          0.010099999999999998,
          0.0049999999999999975,
          -0.001850000000000001,
          -0.005149999999999998,
          -0.0015999999999999973,
          0.005299999999999999,
          -0.0016000000000000007,
          -0.0085,
          0.007099999999999999,
          0.002,
          -0.0030999999999999986,
          0.0058,
          -0.0005499999999999984,
          -0.002749999999999999,
          0.0013999999999999985,
          -0.004,
          -0.0015499999999999993,
          0.0010000000000000009,
          0.0011000000000000003,
          -0.006999999999999999,
          -0.005599999999999997,
          0.0009499999999999995,
          0.006099999999999994,
          0.0051,
          -0.0010500000000000006,
          -0.0032000000000000015,
          0.0007999999999999986,
          0.002800000000000004,
          -0.0007999999999999986,
          0.0063,
          0.017,
          -0.0005000000000000004,
          0.003250000000000001,
          0.001850000000000001,
          -0.003300000000000001,
          0.003599999999999999,
          -0.0024499999999999973,
          -0.008499999999999994,
          -0.003700000000000002,
          -0.0040500000000000015,
          -0.004400000000000001,
          -0.0040000000000000036,
          -0.00145,
          0.0011000000000000038,
          -0.0063999999999999994,
          -0.0017000000000000001,
          0.002999999999999999,
          -0.0013999999999999985,
          0.004,
          0.002250000000000002,
          -0.004899999999999995,
          -0.004,
          0.002250000000000002,
          -0.0000999999999999994,
          -0.008700000000000003,
          -0.0201,
          0.00040000000000000105,
          0.006149999999999999,
          -0.008600000000000003,
          0.002700000000000001,
          0.009400000000000002,
          -0.00315,
          -0.022400000000000003,
          0.0015000000000000013,
          0.0038499999999999993,
          0.006199999999999997,
          -0.0032499999999999994,
          -0.002725,
          -0.0022000000000000006,
          -0.0033000000000000043,
          0.00004999999999999796,
          0.0025000000000000022,
          0.0016000000000000042,
          -0.0011000000000000003,
          -0.0000499999999999997,
          -0.0010000000000000009,
          -0.0030000000000000027,
          -0.0032000000000000015,
          0.005050000000000002,
          0.0015000000000000013,
          -0.010300000000000004,
          -0.0081,
          -0.002450000000000001,
          0.0036000000000000008,
          0.0040000000000000036,
          -0.0010999999999999968,
          0.0016500000000000022,
          -0.000449999999999999,
          -0.005299999999999999,
          0.0102,
          0.004700000000000001,
          -0.0022500000000000003,
          -0.003700000000000002,
          0.1718,
          0.1798,
          0.02009999999999998,
          -0.1476,
          0.0104,
          0.0033500000000000023,
          -0.002199999999999997,
          -0.0006999999999999992,
          -0.0063999999999999994,
          -0.0026,
          0.002199999999999999,
          0.003199999999999998,
          0.0007999999999999986,
          0.0007999999999999986,
          -0.002450000000000001,
          -0.002450000000000001,
          0.000899999999999998,
          -0.00255,
          0.0011999999999999997,
          0.008399999999999998,
          0.012799999999999999,
          0.0020999999999999994,
          -0.0055,
          -0.0023999999999999994,
          0.008600000000000003,
          0.0049499999999999995,
          0.0008500000000000001,
          0.0004000000000000045,
          0.008199999999999999,
          0.006750000000000001,
          0.0013500000000000005,
          -0.0026000000000000016,
          -0.0011500000000000017,
          -0.0011500000000000017,
          0.06134999999999999,
          0.03607500000000001,
          0.010800000000000032,
          -0.003700000000000002,
          -0.00015000000000000083,
          0.0034000000000000002,
          -0.0002500000000000002,
          -0.0024749999999999998,
          -0.004699999999999999
         ],
         "y0": " ",
         "yaxis": "y"
        },
        {
         "alignmentgroup": "True",
         "box": {
          "visible": false
         },
         "customdata": [
          [
           "DNMT3A"
          ],
          [
           "DNMT3A"
          ],
          [
           "DNMT3A"
          ],
          [
           "DNMT3A"
          ],
          [
           "DNMT3A"
          ],
          [
           "DNMT3A"
          ],
          [
           "DNMT3A"
          ],
          [
           "DNMT3A"
          ],
          [
           "DNMT3A"
          ],
          [
           "DNMT3A"
          ],
          [
           "DNMT3A"
          ],
          [
           "DNMT3A"
          ],
          [
           "DNMT3A"
          ],
          [
           "DNMT3A"
          ],
          [
           "DNMT3A"
          ],
          [
           "DNMT3A"
          ],
          [
           "DNMT3A"
          ],
          [
           "DNMT3A"
          ],
          [
           "DNMT3A"
          ],
          [
           "DNMT3A"
          ],
          [
           "DNMT3A"
          ],
          [
           "DNMT3A"
          ],
          [
           "DNMT3A"
          ],
          [
           "DNMT3A"
          ],
          [
           "DNMT3A"
          ],
          [
           "DNMT3A"
          ],
          [
           "DNMT3A"
          ],
          [
           "DNMT3A"
          ],
          [
           "DNMT3A"
          ],
          [
           "DNMT3A"
          ],
          [
           "DNMT3A"
          ],
          [
           "DNMT3A"
          ],
          [
           "DNMT3A"
          ],
          [
           "DNMT3A"
          ],
          [
           "DNMT3A"
          ],
          [
           "DNMT3A"
          ],
          [
           "DNMT3A"
          ],
          [
           "DNMT3A"
          ],
          [
           "DNMT3A"
          ],
          [
           "DNMT3A"
          ],
          [
           "DNMT3A"
          ],
          [
           "DNMT3A"
          ],
          [
           "DNMT3A"
          ],
          [
           "DNMT3A"
          ],
          [
           "DNMT3A"
          ],
          [
           "DNMT3A"
          ],
          [
           "DNMT3A"
          ],
          [
           "DNMT3A"
          ],
          [
           "DNMT3A"
          ],
          [
           "DNMT3A"
          ],
          [
           "DNMT3A"
          ],
          [
           "DNMT3A"
          ],
          [
           "DNMT3A"
          ],
          [
           "DNMT3A"
          ],
          [
           "DNMT3A"
          ],
          [
           "DNMT3A"
          ],
          [
           "DNMT3A"
          ],
          [
           "DNMT3A"
          ],
          [
           "DNMT3A"
          ],
          [
           "DNMT3A"
          ],
          [
           "DNMT3A"
          ],
          [
           "DNMT3A"
          ],
          [
           "DNMT3A"
          ],
          [
           "DNMT3A"
          ],
          [
           "DNMT3A"
          ],
          [
           "DNMT3A"
          ],
          [
           "DNMT3A"
          ],
          [
           "DNMT3A"
          ],
          [
           "DNMT3A"
          ],
          [
           "DNMT3A"
          ],
          [
           "DNMT3A"
          ]
         ],
         "hovertemplate": "<b>%{hovertext}</b><br><br>mutation=%{customdata[0]}<br>wave=%{x}<br>gradient=%{y}<extra></extra>",
         "hovertext": [
          "LBC0293E",
          "LBC0293E",
          "LBC0293E",
          "LBC0293E",
          "LBC0293E",
          "LBC0293E",
          "LBC360453",
          "LBC360453",
          "LBC360453",
          "LBC360453",
          "LBC360380",
          "LBC360380",
          "LBC0165A",
          "LBC0165A",
          "LBC0165A",
          "LBC360658",
          "LBC360658",
          "LBC360658",
          "LBC0040V",
          "LBC0040V",
          "LBC0068H",
          "LBC0068H",
          "LBC0068H",
          "LBC0068H",
          "LBC360414",
          "LBC360414",
          "LBC360458",
          "LBC360458",
          "LBC360458",
          "LBC360458",
          "LBC360508",
          "LBC360508",
          "LBC360508",
          "LBC360508",
          "LBC360549",
          "LBC360549",
          "LBC360549",
          "LBC360549",
          "LBC360636",
          "LBC360636",
          "LBC360636",
          "LBC360914",
          "LBC360914",
          "LBC360914",
          "LBC360914",
          "LBC361172",
          "LBC361172",
          "LBC361172",
          "LBC360919",
          "LBC360919",
          "LBC360919",
          "LBC360919",
          "LBC361006",
          "LBC361006",
          "LBC361006",
          "LBC361006",
          "LBC361006",
          "LBC361006",
          "LBC361006",
          "LBC361006",
          "LBC360283",
          "LBC360283",
          "LBC360283",
          "LBC360356",
          "LBC360356",
          "LBC360356",
          "LBC360356",
          "LBC361286",
          "LBC361286",
          "LBC0148L",
          "LBC0148L"
         ],
         "legendgroup": "DNMT3A",
         "marker": {
          "color": "#EF553B"
         },
         "name": "DNMT3A",
         "offsetgroup": "DNMT3A",
         "orientation": "v",
         "points": "all",
         "scalegroup": "True",
         "showlegend": true,
         "type": "violin",
         "x": [
          1,
          3,
          4,
          1,
          3,
          4,
          1,
          2,
          3,
          4,
          1,
          2,
          1,
          3,
          4,
          1,
          2,
          3,
          1,
          3,
          1,
          3,
          1,
          3,
          1,
          2,
          1,
          2,
          3,
          4,
          1,
          2,
          3,
          4,
          1,
          2,
          3,
          4,
          1,
          2,
          3,
          1,
          2,
          3,
          4,
          1,
          2,
          3,
          1,
          2,
          3,
          4,
          1,
          2,
          3,
          4,
          1,
          2,
          3,
          4,
          1,
          2,
          3,
          1,
          2,
          3,
          4,
          1,
          2,
          1,
          3
         ],
         "x0": " ",
         "xaxis": "x2",
         "y": [
          0.013450000000000004,
          0.004424999999999998,
          -0.004600000000000007,
          0.010799999999999997,
          0.017150000000000002,
          0.023500000000000007,
          0.0325,
          0.02074999999999999,
          0.012399999999999994,
          0.01580000000000001,
          -0.014399999999999996,
          -0.014399999999999996,
          0.00835,
          0.007975000000000001,
          0.007600000000000003,
          -0.005599999999999997,
          0.0007500000000000007,
          0.007099999999999999,
          0.2044,
          0.2044,
          0.02855,
          0.02855,
          0.002250000000000002,
          0.002250000000000002,
          0.0020000000000000018,
          0.0020000000000000018,
          0.0005999999999999894,
          -0.0050000000000000044,
          -0.005699999999999997,
          -0.0007999999999999952,
          0.059,
          0.0489,
          0.05405,
          0.0693,
          -0.021600000000000008,
          0.025499999999999995,
          0.05479999999999999,
          0.03699999999999998,
          0.0643,
          0.06550000000000002,
          0.06670000000000004,
          0.023000000000000007,
          0.035550000000000005,
          0.03415,
          0.020199999999999996,
          0.016900000000000002,
          0.0065499999999999985,
          -0.0038000000000000048,
          0.005799999999999972,
          0.023150000000000004,
          0.02210000000000001,
          0.003699999999999981,
          -0.004899999999999988,
          -0.007550000000000001,
          -0.03255000000000001,
          -0.054900000000000004,
          0.007199999999999998,
          -0.0003499999999999996,
          -0.006999999999999999,
          -0.006100000000000001,
          -0.015100000000000002,
          -0.016300000000000002,
          -0.0175,
          -0.0025000000000000022,
          -0.0019500000000000003,
          0.0087,
          0.018799999999999997,
          0.016499999999999997,
          0.016499999999999997,
          0.00715,
          0.00715
         ],
         "y0": " ",
         "yaxis": "y2"
        },
        {
         "alignmentgroup": "True",
         "box": {
          "visible": false
         },
         "customdata": [
          [
           "TET2"
          ],
          [
           "TET2"
          ],
          [
           "TET2"
          ],
          [
           "TET2"
          ],
          [
           "TET2"
          ],
          [
           "TET2"
          ],
          [
           "TET2"
          ],
          [
           "TET2"
          ],
          [
           "TET2"
          ],
          [
           "TET2"
          ],
          [
           "TET2"
          ],
          [
           "TET2"
          ],
          [
           "TET2"
          ],
          [
           "TET2"
          ],
          [
           "TET2"
          ],
          [
           "TET2"
          ],
          [
           "TET2"
          ],
          [
           "TET2"
          ],
          [
           "TET2"
          ],
          [
           "TET2"
          ],
          [
           "TET2"
          ],
          [
           "TET2"
          ],
          [
           "TET2"
          ],
          [
           "TET2"
          ],
          [
           "TET2"
          ],
          [
           "TET2"
          ],
          [
           "TET2"
          ],
          [
           "TET2"
          ],
          [
           "TET2"
          ],
          [
           "TET2"
          ],
          [
           "TET2"
          ],
          [
           "TET2"
          ],
          [
           "TET2"
          ],
          [
           "TET2"
          ],
          [
           "TET2"
          ],
          [
           "TET2"
          ],
          [
           "TET2"
          ],
          [
           "TET2"
          ],
          [
           "TET2"
          ],
          [
           "TET2"
          ],
          [
           "TET2"
          ],
          [
           "TET2"
          ],
          [
           "TET2"
          ],
          [
           "TET2"
          ],
          [
           "TET2"
          ],
          [
           "TET2"
          ],
          [
           "TET2"
          ],
          [
           "TET2"
          ],
          [
           "TET2"
          ],
          [
           "TET2"
          ]
         ],
         "hovertemplate": "<b>%{hovertext}</b><br><br>mutation=%{customdata[0]}<br>wave=%{x}<br>gradient=%{y}<extra></extra>",
         "hovertext": [
          "LBC0165A",
          "LBC0165A",
          "LBC0165A",
          "LBC360694",
          "LBC360694",
          "LBC0001A",
          "LBC0001A",
          "LBC0001A",
          "LBC0001A",
          "LBC0001A",
          "LBC0081L",
          "LBC0081L",
          "LBC0081L",
          "LBC0081L",
          "LBC0251K",
          "LBC0251K",
          "LBC0251K",
          "LBC360508",
          "LBC360508",
          "LBC360508",
          "LBC360508",
          "LBC361133",
          "LBC361133",
          "LBC361133",
          "LBC0256W",
          "LBC0256W",
          "LBC360908",
          "LBC360908",
          "LBC360908",
          "LBC360908",
          "LBC360908",
          "LBC360908",
          "LBC360908",
          "LBC360908",
          "LBC360072",
          "LBC360072",
          "LBC360072",
          "LBC360072",
          "LBC361286",
          "LBC361286",
          "LBC0591L",
          "LBC0591L",
          "LBC0591L",
          "LBC0591L",
          "LBC0591L",
          "LBC0591L",
          "LBC360181",
          "LBC360181",
          "LBC360181",
          "LBC360181"
         ],
         "legendgroup": "TET2",
         "marker": {
          "color": "#00cc96"
         },
         "name": "TET2",
         "offsetgroup": "TET2",
         "orientation": "v",
         "points": "all",
         "scalegroup": "True",
         "showlegend": true,
         "type": "violin",
         "x": [
          1,
          3,
          4,
          1,
          2,
          1,
          3,
          4,
          3,
          4,
          1,
          3,
          1,
          3,
          1,
          3,
          4,
          1,
          2,
          3,
          4,
          1,
          2,
          3,
          1,
          3,
          1,
          2,
          3,
          4,
          1,
          2,
          3,
          4,
          1,
          2,
          3,
          4,
          1,
          2,
          1,
          3,
          4,
          1,
          3,
          4,
          1,
          2,
          3,
          4
         ],
         "x0": " ",
         "xaxis": "x3",
         "y": [
          0.00009999999999998899,
          -0.005400000000000016,
          -0.01090000000000002,
          -0.015900000000000025,
          -0.015900000000000025,
          0.051,
          0.025949999999999997,
          0.000899999999999998,
          0.05459999999999998,
          0.05459999999999998,
          0.012200000000000003,
          0.012200000000000003,
          0.0129,
          0.0129,
          0.0272,
          0.05,
          0.0728,
          0.0114,
          0.005350000000000001,
          0.0003499999999999996,
          0.0013999999999999985,
          -0.026300000000000046,
          -0.004250000000000004,
          0.017800000000000038,
          0.02445,
          0.02445,
          0.0045000000000000005,
          0.0079,
          0.005099999999999999,
          -0.0011000000000000038,
          0.003599999999999999,
          0.006899999999999998,
          0.00455,
          -0.0010999999999999968,
          0.025400000000000006,
          0.0228,
          0.060899999999999996,
          0.1016,
          0.2553,
          0.2553,
          0.0143,
          0.02465000000000001,
          0.03500000000000002,
          0.007050000000000001,
          -0.00027500000000000094,
          -0.007600000000000003,
          0.04470000000000002,
          0.05555,
          0.0792,
          0.09200000000000003
         ],
         "y0": " ",
         "yaxis": "y3"
        }
       ],
       "layout": {
        "annotations": [
         {
          "font": {},
          "showarrow": false,
          "text": "mutation=JAK2",
          "x": 0.15999999999999998,
          "xanchor": "center",
          "xref": "paper",
          "y": 1,
          "yanchor": "bottom",
          "yref": "paper"
         },
         {
          "font": {},
          "showarrow": false,
          "text": "mutation=DNMT3A",
          "x": 0.49999999999999994,
          "xanchor": "center",
          "xref": "paper",
          "y": 1,
          "yanchor": "bottom",
          "yref": "paper"
         },
         {
          "font": {},
          "showarrow": false,
          "text": "mutation=TET2",
          "x": 0.8399999999999999,
          "xanchor": "center",
          "xref": "paper",
          "y": 1,
          "yanchor": "bottom",
          "yref": "paper"
         }
        ],
        "legend": {
         "title": {
          "text": "mutation"
         },
         "tracegroupgap": 0
        },
        "margin": {
         "t": 60
        },
        "template": {
         "data": {
          "bar": [
           {
            "error_x": {
             "color": "#2a3f5f"
            },
            "error_y": {
             "color": "#2a3f5f"
            },
            "marker": {
             "line": {
              "color": "#E5ECF6",
              "width": 0.5
             }
            },
            "type": "bar"
           }
          ],
          "barpolar": [
           {
            "marker": {
             "line": {
              "color": "#E5ECF6",
              "width": 0.5
             }
            },
            "type": "barpolar"
           }
          ],
          "carpet": [
           {
            "aaxis": {
             "endlinecolor": "#2a3f5f",
             "gridcolor": "white",
             "linecolor": "white",
             "minorgridcolor": "white",
             "startlinecolor": "#2a3f5f"
            },
            "baxis": {
             "endlinecolor": "#2a3f5f",
             "gridcolor": "white",
             "linecolor": "white",
             "minorgridcolor": "white",
             "startlinecolor": "#2a3f5f"
            },
            "type": "carpet"
           }
          ],
          "choropleth": [
           {
            "colorbar": {
             "outlinewidth": 0,
             "ticks": ""
            },
            "type": "choropleth"
           }
          ],
          "contour": [
           {
            "colorbar": {
             "outlinewidth": 0,
             "ticks": ""
            },
            "colorscale": [
             [
              0,
              "#0d0887"
             ],
             [
              0.1111111111111111,
              "#46039f"
             ],
             [
              0.2222222222222222,
              "#7201a8"
             ],
             [
              0.3333333333333333,
              "#9c179e"
             ],
             [
              0.4444444444444444,
              "#bd3786"
             ],
             [
              0.5555555555555556,
              "#d8576b"
             ],
             [
              0.6666666666666666,
              "#ed7953"
             ],
             [
              0.7777777777777778,
              "#fb9f3a"
             ],
             [
              0.8888888888888888,
              "#fdca26"
             ],
             [
              1,
              "#f0f921"
             ]
            ],
            "type": "contour"
           }
          ],
          "contourcarpet": [
           {
            "colorbar": {
             "outlinewidth": 0,
             "ticks": ""
            },
            "type": "contourcarpet"
           }
          ],
          "heatmap": [
           {
            "colorbar": {
             "outlinewidth": 0,
             "ticks": ""
            },
            "colorscale": [
             [
              0,
              "#0d0887"
             ],
             [
              0.1111111111111111,
              "#46039f"
             ],
             [
              0.2222222222222222,
              "#7201a8"
             ],
             [
              0.3333333333333333,
              "#9c179e"
             ],
             [
              0.4444444444444444,
              "#bd3786"
             ],
             [
              0.5555555555555556,
              "#d8576b"
             ],
             [
              0.6666666666666666,
              "#ed7953"
             ],
             [
              0.7777777777777778,
              "#fb9f3a"
             ],
             [
              0.8888888888888888,
              "#fdca26"
             ],
             [
              1,
              "#f0f921"
             ]
            ],
            "type": "heatmap"
           }
          ],
          "heatmapgl": [
           {
            "colorbar": {
             "outlinewidth": 0,
             "ticks": ""
            },
            "colorscale": [
             [
              0,
              "#0d0887"
             ],
             [
              0.1111111111111111,
              "#46039f"
             ],
             [
              0.2222222222222222,
              "#7201a8"
             ],
             [
              0.3333333333333333,
              "#9c179e"
             ],
             [
              0.4444444444444444,
              "#bd3786"
             ],
             [
              0.5555555555555556,
              "#d8576b"
             ],
             [
              0.6666666666666666,
              "#ed7953"
             ],
             [
              0.7777777777777778,
              "#fb9f3a"
             ],
             [
              0.8888888888888888,
              "#fdca26"
             ],
             [
              1,
              "#f0f921"
             ]
            ],
            "type": "heatmapgl"
           }
          ],
          "histogram": [
           {
            "marker": {
             "colorbar": {
              "outlinewidth": 0,
              "ticks": ""
             }
            },
            "type": "histogram"
           }
          ],
          "histogram2d": [
           {
            "colorbar": {
             "outlinewidth": 0,
             "ticks": ""
            },
            "colorscale": [
             [
              0,
              "#0d0887"
             ],
             [
              0.1111111111111111,
              "#46039f"
             ],
             [
              0.2222222222222222,
              "#7201a8"
             ],
             [
              0.3333333333333333,
              "#9c179e"
             ],
             [
              0.4444444444444444,
              "#bd3786"
             ],
             [
              0.5555555555555556,
              "#d8576b"
             ],
             [
              0.6666666666666666,
              "#ed7953"
             ],
             [
              0.7777777777777778,
              "#fb9f3a"
             ],
             [
              0.8888888888888888,
              "#fdca26"
             ],
             [
              1,
              "#f0f921"
             ]
            ],
            "type": "histogram2d"
           }
          ],
          "histogram2dcontour": [
           {
            "colorbar": {
             "outlinewidth": 0,
             "ticks": ""
            },
            "colorscale": [
             [
              0,
              "#0d0887"
             ],
             [
              0.1111111111111111,
              "#46039f"
             ],
             [
              0.2222222222222222,
              "#7201a8"
             ],
             [
              0.3333333333333333,
              "#9c179e"
             ],
             [
              0.4444444444444444,
              "#bd3786"
             ],
             [
              0.5555555555555556,
              "#d8576b"
             ],
             [
              0.6666666666666666,
              "#ed7953"
             ],
             [
              0.7777777777777778,
              "#fb9f3a"
             ],
             [
              0.8888888888888888,
              "#fdca26"
             ],
             [
              1,
              "#f0f921"
             ]
            ],
            "type": "histogram2dcontour"
           }
          ],
          "mesh3d": [
           {
            "colorbar": {
             "outlinewidth": 0,
             "ticks": ""
            },
            "type": "mesh3d"
           }
          ],
          "parcoords": [
           {
            "line": {
             "colorbar": {
              "outlinewidth": 0,
              "ticks": ""
             }
            },
            "type": "parcoords"
           }
          ],
          "pie": [
           {
            "automargin": true,
            "type": "pie"
           }
          ],
          "scatter": [
           {
            "marker": {
             "colorbar": {
              "outlinewidth": 0,
              "ticks": ""
             }
            },
            "type": "scatter"
           }
          ],
          "scatter3d": [
           {
            "line": {
             "colorbar": {
              "outlinewidth": 0,
              "ticks": ""
             }
            },
            "marker": {
             "colorbar": {
              "outlinewidth": 0,
              "ticks": ""
             }
            },
            "type": "scatter3d"
           }
          ],
          "scattercarpet": [
           {
            "marker": {
             "colorbar": {
              "outlinewidth": 0,
              "ticks": ""
             }
            },
            "type": "scattercarpet"
           }
          ],
          "scattergeo": [
           {
            "marker": {
             "colorbar": {
              "outlinewidth": 0,
              "ticks": ""
             }
            },
            "type": "scattergeo"
           }
          ],
          "scattergl": [
           {
            "marker": {
             "colorbar": {
              "outlinewidth": 0,
              "ticks": ""
             }
            },
            "type": "scattergl"
           }
          ],
          "scattermapbox": [
           {
            "marker": {
             "colorbar": {
              "outlinewidth": 0,
              "ticks": ""
             }
            },
            "type": "scattermapbox"
           }
          ],
          "scatterpolar": [
           {
            "marker": {
             "colorbar": {
              "outlinewidth": 0,
              "ticks": ""
             }
            },
            "type": "scatterpolar"
           }
          ],
          "scatterpolargl": [
           {
            "marker": {
             "colorbar": {
              "outlinewidth": 0,
              "ticks": ""
             }
            },
            "type": "scatterpolargl"
           }
          ],
          "scatterternary": [
           {
            "marker": {
             "colorbar": {
              "outlinewidth": 0,
              "ticks": ""
             }
            },
            "type": "scatterternary"
           }
          ],
          "surface": [
           {
            "colorbar": {
             "outlinewidth": 0,
             "ticks": ""
            },
            "colorscale": [
             [
              0,
              "#0d0887"
             ],
             [
              0.1111111111111111,
              "#46039f"
             ],
             [
              0.2222222222222222,
              "#7201a8"
             ],
             [
              0.3333333333333333,
              "#9c179e"
             ],
             [
              0.4444444444444444,
              "#bd3786"
             ],
             [
              0.5555555555555556,
              "#d8576b"
             ],
             [
              0.6666666666666666,
              "#ed7953"
             ],
             [
              0.7777777777777778,
              "#fb9f3a"
             ],
             [
              0.8888888888888888,
              "#fdca26"
             ],
             [
              1,
              "#f0f921"
             ]
            ],
            "type": "surface"
           }
          ],
          "table": [
           {
            "cells": {
             "fill": {
              "color": "#EBF0F8"
             },
             "line": {
              "color": "white"
             }
            },
            "header": {
             "fill": {
              "color": "#C8D4E3"
             },
             "line": {
              "color": "white"
             }
            },
            "type": "table"
           }
          ]
         },
         "layout": {
          "annotationdefaults": {
           "arrowcolor": "#2a3f5f",
           "arrowhead": 0,
           "arrowwidth": 1
          },
          "coloraxis": {
           "colorbar": {
            "outlinewidth": 0,
            "ticks": ""
           }
          },
          "colorscale": {
           "diverging": [
            [
             0,
             "#8e0152"
            ],
            [
             0.1,
             "#c51b7d"
            ],
            [
             0.2,
             "#de77ae"
            ],
            [
             0.3,
             "#f1b6da"
            ],
            [
             0.4,
             "#fde0ef"
            ],
            [
             0.5,
             "#f7f7f7"
            ],
            [
             0.6,
             "#e6f5d0"
            ],
            [
             0.7,
             "#b8e186"
            ],
            [
             0.8,
             "#7fbc41"
            ],
            [
             0.9,
             "#4d9221"
            ],
            [
             1,
             "#276419"
            ]
           ],
           "sequential": [
            [
             0,
             "#0d0887"
            ],
            [
             0.1111111111111111,
             "#46039f"
            ],
            [
             0.2222222222222222,
             "#7201a8"
            ],
            [
             0.3333333333333333,
             "#9c179e"
            ],
            [
             0.4444444444444444,
             "#bd3786"
            ],
            [
             0.5555555555555556,
             "#d8576b"
            ],
            [
             0.6666666666666666,
             "#ed7953"
            ],
            [
             0.7777777777777778,
             "#fb9f3a"
            ],
            [
             0.8888888888888888,
             "#fdca26"
            ],
            [
             1,
             "#f0f921"
            ]
           ],
           "sequentialminus": [
            [
             0,
             "#0d0887"
            ],
            [
             0.1111111111111111,
             "#46039f"
            ],
            [
             0.2222222222222222,
             "#7201a8"
            ],
            [
             0.3333333333333333,
             "#9c179e"
            ],
            [
             0.4444444444444444,
             "#bd3786"
            ],
            [
             0.5555555555555556,
             "#d8576b"
            ],
            [
             0.6666666666666666,
             "#ed7953"
            ],
            [
             0.7777777777777778,
             "#fb9f3a"
            ],
            [
             0.8888888888888888,
             "#fdca26"
            ],
            [
             1,
             "#f0f921"
            ]
           ]
          },
          "colorway": [
           "#636efa",
           "#EF553B",
           "#00cc96",
           "#ab63fa",
           "#FFA15A",
           "#19d3f3",
           "#FF6692",
           "#B6E880",
           "#FF97FF",
           "#FECB52"
          ],
          "font": {
           "color": "#2a3f5f"
          },
          "geo": {
           "bgcolor": "white",
           "lakecolor": "white",
           "landcolor": "#E5ECF6",
           "showlakes": true,
           "showland": true,
           "subunitcolor": "white"
          },
          "hoverlabel": {
           "align": "left"
          },
          "hovermode": "closest",
          "mapbox": {
           "style": "light"
          },
          "paper_bgcolor": "white",
          "plot_bgcolor": "#E5ECF6",
          "polar": {
           "angularaxis": {
            "gridcolor": "white",
            "linecolor": "white",
            "ticks": ""
           },
           "bgcolor": "#E5ECF6",
           "radialaxis": {
            "gridcolor": "white",
            "linecolor": "white",
            "ticks": ""
           }
          },
          "scene": {
           "xaxis": {
            "backgroundcolor": "#E5ECF6",
            "gridcolor": "white",
            "gridwidth": 2,
            "linecolor": "white",
            "showbackground": true,
            "ticks": "",
            "zerolinecolor": "white"
           },
           "yaxis": {
            "backgroundcolor": "#E5ECF6",
            "gridcolor": "white",
            "gridwidth": 2,
            "linecolor": "white",
            "showbackground": true,
            "ticks": "",
            "zerolinecolor": "white"
           },
           "zaxis": {
            "backgroundcolor": "#E5ECF6",
            "gridcolor": "white",
            "gridwidth": 2,
            "linecolor": "white",
            "showbackground": true,
            "ticks": "",
            "zerolinecolor": "white"
           }
          },
          "shapedefaults": {
           "line": {
            "color": "#2a3f5f"
           }
          },
          "ternary": {
           "aaxis": {
            "gridcolor": "white",
            "linecolor": "white",
            "ticks": ""
           },
           "baxis": {
            "gridcolor": "white",
            "linecolor": "white",
            "ticks": ""
           },
           "bgcolor": "#E5ECF6",
           "caxis": {
            "gridcolor": "white",
            "linecolor": "white",
            "ticks": ""
           }
          },
          "title": {
           "x": 0.05
          },
          "xaxis": {
           "automargin": true,
           "gridcolor": "white",
           "linecolor": "white",
           "ticks": "",
           "title": {
            "standoff": 15
           },
           "zerolinecolor": "white",
           "zerolinewidth": 2
          },
          "yaxis": {
           "automargin": true,
           "gridcolor": "white",
           "linecolor": "white",
           "ticks": "",
           "title": {
            "standoff": 15
           },
           "zerolinecolor": "white",
           "zerolinewidth": 2
          }
         }
        },
        "title": {
         "text": "local gradient computed betweeen any 2 blood samples"
        },
        "violinmode": "group",
        "xaxis": {
         "anchor": "y",
         "domain": [
          0,
          0.31999999999999995
         ],
         "title": {
          "text": "Wave"
         }
        },
        "xaxis2": {
         "anchor": "y2",
         "domain": [
          0.33999999999999997,
          0.6599999999999999
         ],
         "matches": "x",
         "title": {
          "text": "wave"
         }
        },
        "xaxis3": {
         "anchor": "y3",
         "domain": [
          0.6799999999999999,
          0.9999999999999999
         ],
         "matches": "x",
         "title": {
          "text": "wave"
         }
        },
        "yaxis": {
         "anchor": "x",
         "domain": [
          0,
          1
         ],
         "title": {
          "text": "local gradient"
         }
        },
        "yaxis2": {
         "anchor": "x2",
         "domain": [
          0,
          1
         ],
         "matches": "y",
         "showticklabels": false
        },
        "yaxis3": {
         "anchor": "x3",
         "domain": [
          0,
          1
         ],
         "matches": "y",
         "showticklabels": false
        }
       }
      }
     },
     "metadata": {}
    }
   ],
   "source": [
    "local_gradients(lbc,['JAK2','TET2','DNMT3A'])"
   ]
  },
  {
   "cell_type": "markdown",
   "metadata": {},
   "source": [
    "## Estimating mutations confering fitness advantage \n",
    "\n",
    "All global gradients of trajectories have been stored in a list called 'total_grad'. We can plot this list, and use it to extract information about which mutations are present in any quantile. "
   ]
  },
  {
   "cell_type": "code",
   "execution_count": 9,
   "metadata": {},
   "outputs": [
    {
     "output_type": "display_data",
     "data": {
      "application/vnd.plotly.v1+json": {
       "config": {
        "plotlyServerURL": "https://plot.ly"
       },
       "data": [
        {
         "box": {
          "visible": true
         },
         "fillcolor": "lightseagreen",
         "line": {
          "color": "black"
         },
         "meanline": {
          "visible": true
         },
         "opacity": 0.6,
         "points": "all",
         "type": "violin",
         "x0": "Total Bill",
         "y": [
          -0.0028333333333333175,
          -0.001899999999999999,
          -0.0025666666666666663,
          0.0051,
          -0.0038666666666666663,
          0.0027666666666666673,
          0.0005333333333333348,
          0.052366666666666666,
          0.00043333333333333185,
          0.0003666666666666679,
          0.0028666666666666667,
          0.0019333333333333331,
          -0.002799999999999999,
          -0.010933333333333337,
          0.0062000000000000015,
          -0.0007666666666666667,
          0.00010000000000000055,
          0.008599999999999998,
          -0.0016999999999999977,
          0.0002666666666666674,
          -0.004033333333333333,
          0.0017666666666666664,
          0.001033333333333333,
          0.00016666666666666682,
          -0.0009333333333333323,
          -0.001899999999999999,
          0.0030749999999999987,
          -0.010125000000000009,
          0.004424999999999998,
          0.017150000000000002,
          0.010375000000000002,
          -0.0047750000000000015,
          0.003324999999999999,
          0.000449999999999999,
          0.0010749999999999996,
          -0.016300000000000002,
          -0.000449999999999999,
          -0.009100000000000004,
          0.006599999999999995,
          -0.0025666666666666707,
          -0.0017666666666666664,
          0.0007666666666666747,
          0.0039000000000000007,
          0.023466666666666674,
          0.014500000000000013,
          -0.0034500000000000086,
          0.004849999999999997,
          0.0040999999999999925,
          0.031866666666666675,
          -0.0032333333333333333,
          -0.0023333333333333344,
          0.03323333333333334,
          0.03756666666666667,
          0.0014000000000000009,
          0.019099999999999995,
          -0.0028333333333333314,
          -0.0047,
          -0.005399999999999998,
          0.0030333333333333323,
          0.006233333333333313,
          0.03976666666666665,
          0.03773333333333334,
          0.0058,
          0.003466666666666668,
          0.0013333333333333346,
          0.0007666666666666678,
          0.014333333333333345,
          0.004866666666666668,
          -0.0021,
          -0.01465,
          0.002700000000000001,
          0.0015999999999999903,
          -0.004699999999999982,
          -0.014399999999999996,
          -0.006100000000000001,
          -0.007999999999999993,
          0.0032000000000000084,
          -0.003700000000000002,
          -0.08230000000000004,
          -0.005824999999999999,
          -0.0010750000000000004,
          0.013425000000000006,
          0.007975000000000001,
          0.0007500000000000007,
          0.003100000000000002,
          0.0061749999999999965,
          -0.0019749999999999976,
          0.002400000000000001,
          0,
          0.0039749999999999786,
          -0.00005000000000000143,
          -0.006324999999999997,
          -0.005025,
          0.001800000000000003,
          -0.012700000000000017,
          -0.005400000000000016,
          -0.017499999999999998,
          -0.007099999999999995,
          0.002599999999999998,
          0.025500000000000002,
          0.0364,
          0.0208,
          -0.018600000000000005,
          -0.009599999999999997,
          0.009100000000000004,
          -0.003799999999999998,
          0.0063999999999999994,
          -0.005400000000000002,
          -0.005400000000000071,
          0.029300000000000007,
          -0.015900000000000025,
          0.0038499999999999923,
          -0.012149999999999994,
          -0.00255,
          -0.005899999999999999,
          -0.0126,
          0.008300000000000002,
          0.004949999999999996,
          0.013449999999999997,
          0.00010000000000000286,
          0,
          0.0019500000000000003,
          0.010699999999999987,
          -0.00395,
          0.0008000000000000021,
          -0.012300000000000005,
          -0.0034999999999999996,
          -0.017350000000000004,
          -0.0005000000000000004,
          0.0023499999999999997,
          0.0026499999999999996,
          0.0007500000000000007,
          0.01759999999999999,
          0.0011999999999999997,
          0.000899999999999998,
          -0.0023999999999999994,
          0.0012500000000000011,
          -0.061000000000000026,
          0.0006999999999999992,
          -0.004900000000000002,
          0.0009499999999999995,
          -0.021949999999999997,
          0.006125000000000002,
          -0.0074250000000000045,
          -0.0046750000000000055,
          -0.00009999999999999593,
          0.003025,
          -0.0008999999999999998,
          -0.003974999999999999,
          0.02919999999999999,
          0.003575,
          0.017549999999999996,
          0.025949999999999997,
          0.05459999999999998,
          0.0053999999999999986,
          0.006999999999999999,
          0.2044,
          0.0006500000000000013,
          0.003249999999999996,
          0.010399999999999993,
          -0.0033000000000000043,
          -0.0013999999999999985,
          -0.0025000000000000005,
          0.001299999999999999,
          -0.0647,
          0.004400000000000001,
          -0.04014999999999999,
          0.0007499999999999989,
          0.0013500000000000179,
          0.0137,
          -0.0017499999999999998,
          -0.017049999999999996,
          0.007050000000000001,
          -0.002999999999999999,
          0.0055,
          -0.0022499999999999985,
          0.07965000000000001,
          0.007350000000000002,
          0.045,
          -0.0050000000000000044,
          -0.012700000000000017,
          -0.002100000000000001,
          0.02855,
          0.002250000000000002,
          0.002749999999999999,
          0.002199999999999999,
          0.0031999999999999945,
          0.0018499999999999975,
          0.000449999999999999,
          -0.003299999999999999,
          -0.028599999999999987,
          -0.0010000000000000009,
          -0.004799999999999999,
          0.00004999999999999796,
          -0.002349999999999991,
          0.0019499999999999986,
          0.0046,
          -0.0017500000000000016,
          0.006000000000000002,
          -0.006,
          -0.0005999999999999998,
          -0.0005000000000000004,
          0.0020499999999999997,
          -0.025349999999999998,
          0.012200000000000003,
          0.0129,
          -0.00017500000000000068,
          0.0047750000000000015,
          -0.0016000000000000007,
          0.0041999999999999885,
          -0.0013750000000000012,
          0.005725000000000001,
          -0.0031249999999999993,
          0.00764999999999999,
          0.0019249999999999996,
          0.0032250000000000004,
          -0.008649999999999998,
          0.05,
          -0.01005,
          0.0061500000000000166,
          -0.008899999999999991,
          -0.00005000000000000143,
          -0.005500000000000005,
          0.0011000000000000003,
          -0.001899999999999999,
          -0.0010999999999999968,
          0.032200000000000006,
          0.001899999999999999,
          0.014499999999999999,
          0.00315,
          -0.00030000000000000165,
          0.009300000000000001,
          0.01065,
          0.00030000000000000165,
          0.0013499999999999988,
          -0.0014999999999999996,
          0.0026000000000000016,
          0.005249999999999998,
          -0.0005499999999999949,
          0.002599999999999991,
          0.0000999999999999994,
          0.0034000000000000002,
          -0.0014999999999999996,
          0.0036500000000000143,
          -0.0019500000000000003,
          -0.03125,
          -0.00955,
          -0.019199999999999995,
          -0.007599999999999999,
          0.002175,
          0.002125,
          -0.0016500000000000022,
          0.011149999999999993,
          0.003500000000000003,
          -0.0012500000000000011,
          0.004400000000000001,
          -0.004825,
          0.0033249999999999946,
          0.00465,
          0.008049999999999995,
          -0.0019999999999999983,
          -0.015725000000000003,
          0.0022250000000000004,
          0.0000999999999999994,
          0.006100000000000001,
          0.0020000000000000018,
          -0.013499999999999984,
          -0.002599999999999991,
          0.006200000000000039,
          0.0004000000000000045,
          -0.0005999999999999998,
          -0.0019000000000000128,
          0.0020000000000000018,
          -0.0019000000000000024,
          0.0025000000000000022,
          0.011300000000000001,
          0.00003333333333333429,
          -0.0025,
          -0.008700000000000005,
          -0.0032,
          -0.0051,
          -0.004233333333333335,
          0.008199999999999985,
          0.003566666666666667,
          -0.003600000000000001,
          0.004133333333333336,
          0.0019333333333333331,
          0.003066666666666662,
          -0.0011000000000000014,
          -0.0036999999999999997,
          -0.0017999999999999995,
          0.0029,
          0.0036999999999999997,
          0.003400000000000014,
          -0.015600000000000003,
          -0.0057,
          -0.0005333333333333324,
          -0.005633333333333334,
          -0.004599999999999997,
          -0.011366666666666672,
          -0.003300000000000001,
          0.004566666666666667,
          0.0005333333333333301,
          0.0051666666666666675,
          -0.0087,
          0.0557,
          0.002533333333333332,
          0.0013666666666666643,
          0.001200000000000002,
          -0.0011666666666666665,
          0.006933333333333333,
          -0.0009666666666666666,
          -0.000833333333333333,
          -0.0018333333333333337,
          -0.0028000000000000017,
          0.011433333333333332,
          0.004033333333333333,
          0.0046,
          0.004966666666666667,
          0.005166666666666667,
          0.0013000000000000008,
          -0.0031666666666666683,
          0.029333333333333322,
          -0.0017333333333333322,
          0.0020000000000000018,
          0.001266666666666666,
          0.0002999999999999993,
          0.0106,
          -0.0023,
          0.000833333333333333,
          -0.000833333333333334,
          -0.002533333333333332,
          -0.02466666666666667,
          -0.002166666666666666,
          0.003166666666666667,
          0.00013333333333333253,
          0.014366666666666675,
          0.0010000000000000009,
          0.010599999999999998,
          0.009250000000000008,
          -0.0017499999999999998,
          -0.006500000000000002,
          0.06550000000000002,
          -0.0040000000000000036,
          -0.0025499999999999967,
          0.017100000000000004,
          -0.0026000000000000016,
          -0.0016000000000000007,
          0.005950000000000011,
          -0.006749999999999999,
          -0.00625,
          -0.0005499999999999984,
          0.001899999999999999,
          0.010799999999999997,
          0.00007499999999999955,
          0.01622499999999999,
          0.0010749999999999926,
          0.0037,
          0.003925000000000012,
          0.006674999999999999,
          -0.005699999999999983,
          -0.0018750000000000017,
          0.0008750000000000008,
          -0.005475000000000001,
          -0.0005249999999999994,
          0.0017000000000000001,
          0.020425,
          0.007300000000000001,
          -0.0004999999999999993,
          0.0028666666666666667,
          0.003833333333333333,
          0.0010666666666666672,
          0.0009666666666666666,
          -0.002366666666666665,
          0.0016333333333333315,
          -0.005133333333333333,
          0.0018666666666666692,
          -0.003899999999999996,
          0.001266666666666666,
          -0.0017666666666666664,
          0.0002666666666666674,
          -0.0027333333333333285,
          0.0003999999999999999,
          -0.0034666666666666665,
          -0.00523333333333333,
          -0.000700000000000001,
          -0.00655,
          -0.007500000000000007,
          0.0030999999999999917,
          0.015899999999999997,
          -0.0007500000000000007,
          -0.0022499999999999985,
          -0.0016000000000000007,
          0.002,
          0.0005000000000000004,
          0.004550000000000026,
          -0.000999999999999994,
          -0.0007000000000000004,
          -0.002533333333333334,
          0.003333333333333332,
          0.0017333333333333322,
          0.001700000000000007,
          0.0015999999999999996,
          0.00010000000000000055,
          -0.0006666666666666661,
          0.0019666666666666665,
          -0.0017333333333333322,
          0.0016333333333333339,
          0.003566666666666667,
          -0.0029666666666666674,
          0.001499999999999983,
          -0.0004333333333333342,
          0.030433333333333337,
          -0.0021999999999999984,
          0.00016666666666666913,
          -0.0017000000000000001,
          -0.0004333333333333342,
          -0.0028000000000000004,
          0.0021333333333333343,
          0.0042,
          -0.0021666666666666674,
          -0.002266666666666667,
          0.0029333333333333342,
          0.001899999999999999,
          0.0007000000000000004,
          0.0016249999999999988,
          0.003799999999999998,
          -0.0010333333333333399,
          0.0034666666666666665,
          0.005133333333333334,
          0.0010666666666666672,
          -0.007266666666666664,
          -0.0058,
          -0.007766666666666666,
          -0.0021,
          -0.0006666666666666673,
          0.015366666666666659,
          0.0019333333333333355,
          0.0044666666666666665,
          -0.00035000000000000135,
          0.005250000000000005,
          0.004949999999999982,
          0,
          -0.0043500000000000205,
          0.002749999999999999,
          0.0212,
          -0.0013500000000000179,
          -0.003699999999999995,
          -0.0015499999999999993,
          -0.0024499999999999973,
          -0.0040500000000000015,
          0.010850000000000002,
          0.0011499999999999982,
          -0.0016000000000000007,
          0.0023999999999999994,
          0.0012499999999999994,
          0.038949999999999985,
          -0.0133,
          -0.004250000000000004,
          -0.0058,
          0.0031000000000000003,
          0.005549999999999999,
          0.0023500000000000014,
          0.0065499999999999985,
          -0.009250000000000008,
          0.002249999999999995,
          -0.005700000000000011,
          -0.00145,
          -0.0017000000000000001,
          0.0002500000000000002,
          0.0134,
          -0.004300000000000002,
          -0.0011999999999999997,
          0.021799999999999986,
          0,
          -0.009849999999999998,
          -0.0006333333333333342,
          -0.00006666666666665932,
          0.0008000000000000009,
          -0.0007333333333333336,
          -0.0006666666666666673,
          -0.003766666666666666,
          0.001033333333333335,
          -0.0013999999999999996,
          0.0017000000000000001,
          0.005733333333333333,
          0.006333333333333334,
          0.0005999999999999986,
          -0.002266666666666667,
          0.005399999999999999,
          0.0036333333333333335,
          -0.001833333333333335,
          -0.007266666666666667,
          0.0020333333333333327,
          -0.0156,
          0.0019666666666666673,
          0.003066666666666662,
          -0.0025999999999999994,
          0.007633333333333332,
          -0.0010999999999999992,
          -0.006699999999999998,
          0.001833333333333335,
          -0.0026000000000000003,
          -0.0011999999999999997,
          0.004933333333333334,
          -0.0061333333333333335,
          -0.004666666666666669,
          -0.000833333333333334,
          -0.003566666666666681,
          0.006000000000000001,
          -0.001666666666666666,
          -0.003433333333333332,
          0.003599999999999999,
          0.002450000000000001,
          0.0066,
          0.003850000000000001,
          -0.0010500000000000006,
          -0.0010999999999999968,
          -0.0036749999999999977,
          0.0038499999999999993,
          -0.002725,
          -0.007800000000000001,
          0.007975,
          -0.0023249999999999937,
          0.016874999999999994,
          0.0066999999999999985,
          -0.006933333333333334,
          0.003000000000000001,
          0.006300000000000001,
          0.047950000000000007,
          0.0014000000000000002,
          0.0013999999999999993,
          -0.012775000000000002,
          0.004225000000000001,
          0.00016666666666666682,
          0.0012333333333333456,
          0.0025666666666666663,
          0.0033333333333333327,
          -0.005666666666666667,
          -0.004000000000000001,
          0.016666666666666663,
          -0.0004999999999999993,
          -0.0028333333333333335,
          0.001266666666666666,
          -0.005833333333333339,
          0.0015333333333333334,
          0.0005666666666666667,
          -0.001033333333333334,
          0.0029333333333333342,
          0.002733333333333334,
          0.0038333333333333184,
          -0.003433333333333332,
          0.0009666666666666666,
          0.0005666666666666667,
          -0.004299999999999999,
          -0.006350000000000001,
          -0.0013333333333333322,
          0.002766666666666666,
          0.005133333333333323,
          -0.004300000000000001,
          0.012125,
          -0.002900000000000001,
          -0.0003999999999999999,
          0.0013666666666666664,
          -0.004033333333333333,
          -0.008633333333333333,
          -0.023333333333333334,
          -0.002266666666666667,
          -0.0011333333333333334,
          -0.0023999999999999994,
          -0.0004666666666666708,
          0.0026333333333333326,
          -0.00006666666666666626,
          -0.0002999999999999993,
          -0.006533333333333333,
          0.0004333333333333342,
          -0.0023,
          -0.0029,
          0.001499999999999999,
          -0.007199999999999999,
          0.0013999999999999996,
          0.002566666666666667,
          -0.0007333333333333312,
          0.0016333333333333293,
          -0.0042,
          -0.0006666666666666649,
          0.0019,
          -0.005,
          0.0070666666666666655,
          -0.0025666666666666663,
          -0.0016500000000000004,
          0.0046999999999999984,
          0.0095,
          -0.0011666666666666655,
          0.000633333333333333,
          -0.0035333333333333328,
          0.006466666666666665,
          0.019200000000000012,
          -0.00633333333333332,
          0.003300000000000001,
          -0.016300000000000002,
          -0.0049499999999999995,
          0.010549999999999997,
          0.0016000000000000042,
          0.006499999999999999,
          0.0008000000000000021,
          -0.0038666666666666663,
          -0.0035333333333333328,
          0.0014999999999999968,
          -0.0007666666666666655,
          0.07066666666666666,
          0.0020000000000000018,
          -0.0006666666666666673,
          -0.0077333333333333325,
          -0.00003333333333333429,
          -0.005833333333333339,
          0.002966666666666666,
          -0.012733333333333327,
          0.026966666666666667,
          0.0032000000000000015,
          0.0038499999999999646,
          0.0008500000000000035,
          0.0005000000000000004,
          0.0007999999999999986,
          -0.002450000000000001,
          0.00315,
          -0.050449999999999995,
          -0.021750000000000005,
          0.02445,
          0.0026666666666666666,
          0.004166666666666667,
          0.004966666666666665,
          -0.00003333333333332966,
          0.0010999999999999992,
          0.0005999999999999998,
          0.00006666666666666742,
          -0.0006999999999999992,
          -0.004466666666666667,
          0.004899999999999999,
          0.004233333333333333,
          -0.0036000000000000003,
          0.0046666666666666705,
          -0.0002666666666666674,
          0.0031000000000000008,
          0.0015000000000000013,
          -0.0005000000000000004,
          0.0034333333333333347,
          0.0036333333333333335,
          0.0011666666666666676,
          0.00010000000000000055,
          0.0008666666666666637,
          0.0024666666666666656,
          -0.0032666666666666677,
          0.04906666666666667,
          -0.005766666666666667,
          0.004966666666666665,
          0.000300000000000004,
          -0.0011333333333333334,
          -0.007433333333333329,
          0.0029500000000000004,
          0.016499999999999997,
          -0.0218,
          0.027200000000000002,
          0.010300000000000004,
          0.004399999999999994,
          0.0014000000000000123,
          0.2553,
          0.24930000000000002,
          0.00715,
          0.0011000000000000003,
          -0.00020000000000000573,
          0.003250000000000003,
          -0.0034000000000000002,
          -0.0011500000000000017,
          -0.0015000000000000013,
          0.00009999999999998899,
          0.00145,
          0.0121,
          0.009149999999999964,
          0.003749999999999998,
          0.002599999999999991,
          0.0015000000000000013,
          -0.00030000000000000165,
          -0.005500000000000005,
          -0.0026999999999999993,
          -0.001233333333333334,
          0.00695,
          -0.0001500000000000043,
          0.0025000000000000022,
          0.005250000000000003,
          0.03607500000000001,
          -0.00015000000000000083,
          -0.0024749999999999998,
          -0.0024749999999999998,
          0.0004499999999999999,
          0.003349999999999999,
          0.0036499999999999935,
          0.010475000000000012,
          0.005033333333333334,
          0.004125,
          -0.0002500000000000037,
          -0.011125000000000003,
          0.0009499999999999995,
          0.008174999999999995,
          -0.00009999999999999766,
          0.0002499999999999985,
          -0.007850000000000003,
          -0.0035250000000000004,
          0.0014250000000000096,
          0.014599999999999995,
          0.005300000000000001,
          0.02465000000000001,
          -0.00027500000000000094,
          0.0017999999999999984,
          0.0031000000000000008,
          0.003933333333333335,
          0.0013000000000000002,
          -0.04843333333333335,
          0.0026500000000000013,
          -0.03200000000000001,
          -0.001133333333333338,
          0.06770000000000001,
          -0.00255,
          0.012650000000000002,
          -0.005949999999999997,
          -0.0026000000000000016,
          0.022049999999999986,
          -0.00015000000000000083,
          0.0006499999999999995,
          0.0008666666666666637,
          -0.002700000000000001,
          0.007233333333333332,
          0.0125,
          -0.00736666666666667,
          0.020699999999999996
         ]
        }
       ],
       "layout": {
        "template": {
         "data": {
          "bar": [
           {
            "error_x": {
             "color": "#2a3f5f"
            },
            "error_y": {
             "color": "#2a3f5f"
            },
            "marker": {
             "line": {
              "color": "#E5ECF6",
              "width": 0.5
             }
            },
            "type": "bar"
           }
          ],
          "barpolar": [
           {
            "marker": {
             "line": {
              "color": "#E5ECF6",
              "width": 0.5
             }
            },
            "type": "barpolar"
           }
          ],
          "carpet": [
           {
            "aaxis": {
             "endlinecolor": "#2a3f5f",
             "gridcolor": "white",
             "linecolor": "white",
             "minorgridcolor": "white",
             "startlinecolor": "#2a3f5f"
            },
            "baxis": {
             "endlinecolor": "#2a3f5f",
             "gridcolor": "white",
             "linecolor": "white",
             "minorgridcolor": "white",
             "startlinecolor": "#2a3f5f"
            },
            "type": "carpet"
           }
          ],
          "choropleth": [
           {
            "colorbar": {
             "outlinewidth": 0,
             "ticks": ""
            },
            "type": "choropleth"
           }
          ],
          "contour": [
           {
            "colorbar": {
             "outlinewidth": 0,
             "ticks": ""
            },
            "colorscale": [
             [
              0,
              "#0d0887"
             ],
             [
              0.1111111111111111,
              "#46039f"
             ],
             [
              0.2222222222222222,
              "#7201a8"
             ],
             [
              0.3333333333333333,
              "#9c179e"
             ],
             [
              0.4444444444444444,
              "#bd3786"
             ],
             [
              0.5555555555555556,
              "#d8576b"
             ],
             [
              0.6666666666666666,
              "#ed7953"
             ],
             [
              0.7777777777777778,
              "#fb9f3a"
             ],
             [
              0.8888888888888888,
              "#fdca26"
             ],
             [
              1,
              "#f0f921"
             ]
            ],
            "type": "contour"
           }
          ],
          "contourcarpet": [
           {
            "colorbar": {
             "outlinewidth": 0,
             "ticks": ""
            },
            "type": "contourcarpet"
           }
          ],
          "heatmap": [
           {
            "colorbar": {
             "outlinewidth": 0,
             "ticks": ""
            },
            "colorscale": [
             [
              0,
              "#0d0887"
             ],
             [
              0.1111111111111111,
              "#46039f"
             ],
             [
              0.2222222222222222,
              "#7201a8"
             ],
             [
              0.3333333333333333,
              "#9c179e"
             ],
             [
              0.4444444444444444,
              "#bd3786"
             ],
             [
              0.5555555555555556,
              "#d8576b"
             ],
             [
              0.6666666666666666,
              "#ed7953"
             ],
             [
              0.7777777777777778,
              "#fb9f3a"
             ],
             [
              0.8888888888888888,
              "#fdca26"
             ],
             [
              1,
              "#f0f921"
             ]
            ],
            "type": "heatmap"
           }
          ],
          "heatmapgl": [
           {
            "colorbar": {
             "outlinewidth": 0,
             "ticks": ""
            },
            "colorscale": [
             [
              0,
              "#0d0887"
             ],
             [
              0.1111111111111111,
              "#46039f"
             ],
             [
              0.2222222222222222,
              "#7201a8"
             ],
             [
              0.3333333333333333,
              "#9c179e"
             ],
             [
              0.4444444444444444,
              "#bd3786"
             ],
             [
              0.5555555555555556,
              "#d8576b"
             ],
             [
              0.6666666666666666,
              "#ed7953"
             ],
             [
              0.7777777777777778,
              "#fb9f3a"
             ],
             [
              0.8888888888888888,
              "#fdca26"
             ],
             [
              1,
              "#f0f921"
             ]
            ],
            "type": "heatmapgl"
           }
          ],
          "histogram": [
           {
            "marker": {
             "colorbar": {
              "outlinewidth": 0,
              "ticks": ""
             }
            },
            "type": "histogram"
           }
          ],
          "histogram2d": [
           {
            "colorbar": {
             "outlinewidth": 0,
             "ticks": ""
            },
            "colorscale": [
             [
              0,
              "#0d0887"
             ],
             [
              0.1111111111111111,
              "#46039f"
             ],
             [
              0.2222222222222222,
              "#7201a8"
             ],
             [
              0.3333333333333333,
              "#9c179e"
             ],
             [
              0.4444444444444444,
              "#bd3786"
             ],
             [
              0.5555555555555556,
              "#d8576b"
             ],
             [
              0.6666666666666666,
              "#ed7953"
             ],
             [
              0.7777777777777778,
              "#fb9f3a"
             ],
             [
              0.8888888888888888,
              "#fdca26"
             ],
             [
              1,
              "#f0f921"
             ]
            ],
            "type": "histogram2d"
           }
          ],
          "histogram2dcontour": [
           {
            "colorbar": {
             "outlinewidth": 0,
             "ticks": ""
            },
            "colorscale": [
             [
              0,
              "#0d0887"
             ],
             [
              0.1111111111111111,
              "#46039f"
             ],
             [
              0.2222222222222222,
              "#7201a8"
             ],
             [
              0.3333333333333333,
              "#9c179e"
             ],
             [
              0.4444444444444444,
              "#bd3786"
             ],
             [
              0.5555555555555556,
              "#d8576b"
             ],
             [
              0.6666666666666666,
              "#ed7953"
             ],
             [
              0.7777777777777778,
              "#fb9f3a"
             ],
             [
              0.8888888888888888,
              "#fdca26"
             ],
             [
              1,
              "#f0f921"
             ]
            ],
            "type": "histogram2dcontour"
           }
          ],
          "mesh3d": [
           {
            "colorbar": {
             "outlinewidth": 0,
             "ticks": ""
            },
            "type": "mesh3d"
           }
          ],
          "parcoords": [
           {
            "line": {
             "colorbar": {
              "outlinewidth": 0,
              "ticks": ""
             }
            },
            "type": "parcoords"
           }
          ],
          "pie": [
           {
            "automargin": true,
            "type": "pie"
           }
          ],
          "scatter": [
           {
            "marker": {
             "colorbar": {
              "outlinewidth": 0,
              "ticks": ""
             }
            },
            "type": "scatter"
           }
          ],
          "scatter3d": [
           {
            "line": {
             "colorbar": {
              "outlinewidth": 0,
              "ticks": ""
             }
            },
            "marker": {
             "colorbar": {
              "outlinewidth": 0,
              "ticks": ""
             }
            },
            "type": "scatter3d"
           }
          ],
          "scattercarpet": [
           {
            "marker": {
             "colorbar": {
              "outlinewidth": 0,
              "ticks": ""
             }
            },
            "type": "scattercarpet"
           }
          ],
          "scattergeo": [
           {
            "marker": {
             "colorbar": {
              "outlinewidth": 0,
              "ticks": ""
             }
            },
            "type": "scattergeo"
           }
          ],
          "scattergl": [
           {
            "marker": {
             "colorbar": {
              "outlinewidth": 0,
              "ticks": ""
             }
            },
            "type": "scattergl"
           }
          ],
          "scattermapbox": [
           {
            "marker": {
             "colorbar": {
              "outlinewidth": 0,
              "ticks": ""
             }
            },
            "type": "scattermapbox"
           }
          ],
          "scatterpolar": [
           {
            "marker": {
             "colorbar": {
              "outlinewidth": 0,
              "ticks": ""
             }
            },
            "type": "scatterpolar"
           }
          ],
          "scatterpolargl": [
           {
            "marker": {
             "colorbar": {
              "outlinewidth": 0,
              "ticks": ""
             }
            },
            "type": "scatterpolargl"
           }
          ],
          "scatterternary": [
           {
            "marker": {
             "colorbar": {
              "outlinewidth": 0,
              "ticks": ""
             }
            },
            "type": "scatterternary"
           }
          ],
          "surface": [
           {
            "colorbar": {
             "outlinewidth": 0,
             "ticks": ""
            },
            "colorscale": [
             [
              0,
              "#0d0887"
             ],
             [
              0.1111111111111111,
              "#46039f"
             ],
             [
              0.2222222222222222,
              "#7201a8"
             ],
             [
              0.3333333333333333,
              "#9c179e"
             ],
             [
              0.4444444444444444,
              "#bd3786"
             ],
             [
              0.5555555555555556,
              "#d8576b"
             ],
             [
              0.6666666666666666,
              "#ed7953"
             ],
             [
              0.7777777777777778,
              "#fb9f3a"
             ],
             [
              0.8888888888888888,
              "#fdca26"
             ],
             [
              1,
              "#f0f921"
             ]
            ],
            "type": "surface"
           }
          ],
          "table": [
           {
            "cells": {
             "fill": {
              "color": "#EBF0F8"
             },
             "line": {
              "color": "white"
             }
            },
            "header": {
             "fill": {
              "color": "#C8D4E3"
             },
             "line": {
              "color": "white"
             }
            },
            "type": "table"
           }
          ]
         },
         "layout": {
          "annotationdefaults": {
           "arrowcolor": "#2a3f5f",
           "arrowhead": 0,
           "arrowwidth": 1
          },
          "coloraxis": {
           "colorbar": {
            "outlinewidth": 0,
            "ticks": ""
           }
          },
          "colorscale": {
           "diverging": [
            [
             0,
             "#8e0152"
            ],
            [
             0.1,
             "#c51b7d"
            ],
            [
             0.2,
             "#de77ae"
            ],
            [
             0.3,
             "#f1b6da"
            ],
            [
             0.4,
             "#fde0ef"
            ],
            [
             0.5,
             "#f7f7f7"
            ],
            [
             0.6,
             "#e6f5d0"
            ],
            [
             0.7,
             "#b8e186"
            ],
            [
             0.8,
             "#7fbc41"
            ],
            [
             0.9,
             "#4d9221"
            ],
            [
             1,
             "#276419"
            ]
           ],
           "sequential": [
            [
             0,
             "#0d0887"
            ],
            [
             0.1111111111111111,
             "#46039f"
            ],
            [
             0.2222222222222222,
             "#7201a8"
            ],
            [
             0.3333333333333333,
             "#9c179e"
            ],
            [
             0.4444444444444444,
             "#bd3786"
            ],
            [
             0.5555555555555556,
             "#d8576b"
            ],
            [
             0.6666666666666666,
             "#ed7953"
            ],
            [
             0.7777777777777778,
             "#fb9f3a"
            ],
            [
             0.8888888888888888,
             "#fdca26"
            ],
            [
             1,
             "#f0f921"
            ]
           ],
           "sequentialminus": [
            [
             0,
             "#0d0887"
            ],
            [
             0.1111111111111111,
             "#46039f"
            ],
            [
             0.2222222222222222,
             "#7201a8"
            ],
            [
             0.3333333333333333,
             "#9c179e"
            ],
            [
             0.4444444444444444,
             "#bd3786"
            ],
            [
             0.5555555555555556,
             "#d8576b"
            ],
            [
             0.6666666666666666,
             "#ed7953"
            ],
            [
             0.7777777777777778,
             "#fb9f3a"
            ],
            [
             0.8888888888888888,
             "#fdca26"
            ],
            [
             1,
             "#f0f921"
            ]
           ]
          },
          "colorway": [
           "#636efa",
           "#EF553B",
           "#00cc96",
           "#ab63fa",
           "#FFA15A",
           "#19d3f3",
           "#FF6692",
           "#B6E880",
           "#FF97FF",
           "#FECB52"
          ],
          "font": {
           "color": "#2a3f5f"
          },
          "geo": {
           "bgcolor": "white",
           "lakecolor": "white",
           "landcolor": "#E5ECF6",
           "showlakes": true,
           "showland": true,
           "subunitcolor": "white"
          },
          "hoverlabel": {
           "align": "left"
          },
          "hovermode": "closest",
          "mapbox": {
           "style": "light"
          },
          "paper_bgcolor": "white",
          "plot_bgcolor": "#E5ECF6",
          "polar": {
           "angularaxis": {
            "gridcolor": "white",
            "linecolor": "white",
            "ticks": ""
           },
           "bgcolor": "#E5ECF6",
           "radialaxis": {
            "gridcolor": "white",
            "linecolor": "white",
            "ticks": ""
           }
          },
          "scene": {
           "xaxis": {
            "backgroundcolor": "#E5ECF6",
            "gridcolor": "white",
            "gridwidth": 2,
            "linecolor": "white",
            "showbackground": true,
            "ticks": "",
            "zerolinecolor": "white"
           },
           "yaxis": {
            "backgroundcolor": "#E5ECF6",
            "gridcolor": "white",
            "gridwidth": 2,
            "linecolor": "white",
            "showbackground": true,
            "ticks": "",
            "zerolinecolor": "white"
           },
           "zaxis": {
            "backgroundcolor": "#E5ECF6",
            "gridcolor": "white",
            "gridwidth": 2,
            "linecolor": "white",
            "showbackground": true,
            "ticks": "",
            "zerolinecolor": "white"
           }
          },
          "shapedefaults": {
           "line": {
            "color": "#2a3f5f"
           }
          },
          "ternary": {
           "aaxis": {
            "gridcolor": "white",
            "linecolor": "white",
            "ticks": ""
           },
           "baxis": {
            "gridcolor": "white",
            "linecolor": "white",
            "ticks": ""
           },
           "bgcolor": "#E5ECF6",
           "caxis": {
            "gridcolor": "white",
            "linecolor": "white",
            "ticks": ""
           }
          },
          "title": {
           "x": 0.05
          },
          "xaxis": {
           "automargin": true,
           "gridcolor": "white",
           "linecolor": "white",
           "ticks": "",
           "title": {
            "standoff": 15
           },
           "zerolinecolor": "white",
           "zerolinewidth": 2
          },
          "yaxis": {
           "automargin": true,
           "gridcolor": "white",
           "linecolor": "white",
           "ticks": "",
           "title": {
            "standoff": 15
           },
           "zerolinecolor": "white",
           "zerolinewidth": 2
          }
         }
        },
        "title": {
         "text": "Overall gradient of each trajectory present in each patient of the cohort"
        },
        "yaxis": {
         "zeroline": false
        }
       }
      }
     },
     "metadata": {}
    }
   ],
   "source": [
    "# Plotting total_grad\n",
    "fig = go.Figure(data=go.Violin(y=total_grad, box_visible=True, line_color='black', points='all',\n",
    "                               meanline_visible=True, fillcolor='lightseagreen', opacity=0.6,\n",
    "                               x0='Total Bill'))\n",
    "\n",
    "fig.update_layout(title = f'Overall gradient of each trajectory present in each patient of the cohort',\n",
    "                  yaxis_zeroline=False)\n",
    "fig.show()"
   ]
  },
  {
   "cell_type": "markdown",
   "metadata": {},
   "source": [
    "We can therefore plot all mutations present in the top 5% as ranked by overall gradient using *clonal_expansion* function."
   ]
  },
  {
   "cell_type": "code",
   "execution_count": 10,
   "metadata": {
    "scrolled": false
   },
   "outputs": [
    {
     "output_type": "display_data",
     "data": {
      "application/vnd.plotly.v1+json": {
       "config": {
        "plotlyServerURL": "https://plot.ly"
       },
       "data": [
        {
         "hovertemplate": "LBC360702",
         "mode": "lines+markers",
         "name": "JAK2 c.1849G>T",
         "type": "scatter",
         "x": [
          1,
          2,
          3,
          4
         ],
         "y": [
          0.1736,
          0.2634,
          0.3175,
          0.3307
         ]
        },
        {
         "hovertemplate": "LBC360213",
         "mode": "lines+markers",
         "name": "RUNX1 c.1270T>G",
         "type": "scatter",
         "x": [
          1,
          2,
          3,
          4
         ],
         "y": [
          0.284,
          0.1575,
          0.3195,
          0.3544
         ]
        },
        {
         "hovertemplate": "LBC360453",
         "mode": "lines+markers",
         "name": "ANKRD26 c.-140C>G",
         "type": "scatter",
         "x": [
          1,
          2,
          3,
          4
         ],
         "y": [
          0.3953,
          0.4972,
          0.5194,
          0.4909
         ]
        },
        {
         "hovertemplate": "LBC360453",
         "mode": "lines+markers",
         "name": "CDKN2A c.442G>A",
         "type": "scatter",
         "x": [
          1,
          2,
          3,
          4
         ],
         "y": [
          0.3895,
          0.4978,
          0.5149,
          0.4892
         ]
        },
        {
         "hovertemplate": "LBC360453",
         "mode": "lines+markers",
         "name": "CUX1 c.295G>A",
         "type": "scatter",
         "x": [
          1,
          2,
          3,
          4
         ],
         "y": [
          0.3882,
          0.5192,
          0.5087,
          0.5009
         ]
        },
        {
         "hovertemplate": "LBC360453",
         "mode": "lines+markers",
         "name": "GATA1 c.85G>C",
         "type": "scatter",
         "x": [
          1,
          2,
          3,
          4
         ],
         "y": [
          0.3952,
          0.5085,
          0.5145,
          0.5145
         ]
        },
        {
         "hovertemplate": "LBC360453",
         "mode": "lines+markers",
         "name": "IKZF1 c.161-8350A>C",
         "type": "scatter",
         "x": [
          1,
          2,
          3,
          4
         ],
         "y": [
          0.3956,
          0.5046,
          0.4892,
          0.5088
         ]
        },
        {
         "hovertemplate": "LBC360694",
         "mode": "lines+markers",
         "name": "DDX41 c.138+15T>G",
         "type": "scatter",
         "x": [
          1,
          2
         ],
         "y": [
          0.006,
          0.0315
         ]
        },
        {
         "hovertemplate": "LBC360694",
         "mode": "lines+markers",
         "name": "DDX41 c.138+17C>G",
         "type": "scatter",
         "x": [
          1,
          2
         ],
         "y": [
          0.0219,
          0.0583
         ]
        },
        {
         "hovertemplate": "LBC360694",
         "mode": "lines+markers",
         "name": "RUNX1 c.1270T>G",
         "type": "scatter",
         "x": [
          1,
          2
         ],
         "y": [
          0.0784,
          0.1077
         ]
        },
        {
         "hovertemplate": "LBC0001A",
         "mode": "lines+markers",
         "name": "RUNX1 c.1265A>C",
         "type": "scatter",
         "x": [
          1,
          3,
          4
         ],
         "y": [
          0.2096,
          0.2576,
          0.292
         ]
        },
        {
         "hovertemplate": "LBC0001A",
         "mode": "lines+markers",
         "name": "TET2 c.2290dup",
         "type": "scatter",
         "x": [
          1,
          3,
          4
         ],
         "y": [
          0.0041,
          0.1061,
          0.107
         ]
        },
        {
         "hovertemplate": "LBC0001A",
         "mode": "lines+markers",
         "name": "TET2 c.705del",
         "type": "scatter",
         "x": [
          3,
          4
         ],
         "y": [
          0.1589,
          0.2135
         ]
        },
        {
         "hovertemplate": "LBC0040V",
         "mode": "lines+markers",
         "name": "DNMT3A c.1668-3C>G",
         "type": "scatter",
         "x": [
          1,
          3
         ],
         "y": [
          0.024,
          0.4328
         ]
        },
        {
         "hovertemplate": "LBC0047K",
         "mode": "lines+markers",
         "name": "RUNX1 c.1265A>C",
         "type": "scatter",
         "x": [
          1,
          3
         ],
         "y": [
          0.159,
          0.3183
         ]
        },
        {
         "hovertemplate": "LBC0047K",
         "mode": "lines+markers",
         "name": "RUNX1 c.1270T>G",
         "type": "scatter",
         "x": [
          1,
          3
         ],
         "y": [
          0.1272,
          0.2172
         ]
        },
        {
         "hovertemplate": "LBC0068H",
         "mode": "lines+markers",
         "name": "DNMT3A c.2243_2259del",
         "type": "scatter",
         "x": [
          1,
          3
         ],
         "y": [
          0.0353,
          0.0924
         ]
        },
        {
         "hovertemplate": "LBC0251K",
         "mode": "lines+markers",
         "name": "TET2 c.936dup",
         "type": "scatter",
         "x": [
          1,
          3,
          4
         ],
         "y": [
          0.0029,
          0.0573,
          0.1301
         ]
        },
        {
         "hovertemplate": "LBC0373R",
         "mode": "lines+markers",
         "name": "RUNX1 c.1265A>C",
         "type": "scatter",
         "x": [
          1,
          3
         ],
         "y": [
          0.2016,
          0.266
         ]
        },
        {
         "hovertemplate": "LBC360508",
         "mode": "lines+markers",
         "name": "DNMT3A c.1605del",
         "type": "scatter",
         "x": [
          1,
          2,
          3,
          4
         ],
         "y": [
          0.091,
          0.15,
          0.1888,
          0.2581
         ]
        },
        {
         "hovertemplate": "LBC360549",
         "mode": "lines+markers",
         "name": "DNMT3A c.1677C>A",
         "type": "scatter",
         "x": [
          1,
          2,
          3,
          4
         ],
         "y": [
          0.2957,
          0.2741,
          0.3467,
          0.3837
         ]
        },
        {
         "hovertemplate": "LBC360636",
         "mode": "lines+markers",
         "name": "DNMT3A c.976C>G",
         "type": "scatter",
         "x": [
          1,
          2,
          3
         ],
         "y": [
          0.149,
          0.2133,
          0.28
         ]
        },
        {
         "hovertemplate": "LBC360914",
         "mode": "lines+markers",
         "name": "DNMT3A c.2203T>A",
         "type": "scatter",
         "x": [
          1,
          2,
          3,
          4
         ],
         "y": [
          0.1032,
          0.1262,
          0.1743,
          0.1945
         ]
        },
        {
         "hovertemplate": "LBC361133",
         "mode": "lines+markers",
         "name": "RUNX1 c.1265A>C",
         "type": "scatter",
         "x": [
          1,
          2,
          3
         ],
         "y": [
          0.4,
          0.3877,
          0.4779
         ]
        },
        {
         "hovertemplate": "LBC361172",
         "mode": "lines+markers",
         "name": "RUNX1 c.1265A>C",
         "type": "scatter",
         "x": [
          1,
          2,
          3
         ],
         "y": [
          0.4409,
          0.413,
          0.4845
         ]
        },
        {
         "hovertemplate": "LBC360790",
         "mode": "lines+markers",
         "name": "PPM1D c.1338del",
         "type": "scatter",
         "x": [
          1,
          3,
          4
         ],
         "y": [
          0.0507,
          0.1289,
          0.1857
         ]
        },
        {
         "hovertemplate": "LBC360021",
         "mode": "lines+markers",
         "name": "JAK2 c.1849G>T",
         "type": "scatter",
         "x": [
          1,
          2,
          3,
          4
         ],
         "y": [
          0.14,
          0.3118,
          0.4996,
          0.352
         ]
        },
        {
         "hovertemplate": "LBC360021",
         "mode": "lines+markers",
         "name": "SF3B1 c.2225G>A",
         "type": "scatter",
         "x": [
          1,
          2,
          3,
          4
         ],
         "y": [
          0.0007,
          0.0005,
          0.0005,
          0.0816
         ]
        },
        {
         "hovertemplate": "LBC0256W",
         "mode": "lines+markers",
         "name": "TET2 c.685dup",
         "type": "scatter",
         "x": [
          1,
          3
         ],
         "y": [
          0.1431,
          0.192
         ]
        },
        {
         "hovertemplate": "LBC360072",
         "mode": "lines+markers",
         "name": "TET2 c.1505del",
         "type": "scatter",
         "x": [
          1,
          2,
          3,
          4
         ],
         "y": [
          0.1205,
          0.1459,
          0.1661,
          0.2677
         ]
        },
        {
         "hovertemplate": "LBC361286",
         "mode": "lines+markers",
         "name": "EZH2 c.118-5_118-4del",
         "type": "scatter",
         "x": [
          1,
          2
         ],
         "y": [
          0.05,
          0.0772
         ]
        },
        {
         "hovertemplate": "LBC361286",
         "mode": "lines+markers",
         "name": "TET2 c.100C>T",
         "type": "scatter",
         "x": [
          1,
          2
         ],
         "y": [
          0.2415,
          0.4968
         ]
        },
        {
         "hovertemplate": "LBC361286",
         "mode": "lines+markers",
         "name": "TP53 c.108G>A",
         "type": "scatter",
         "x": [
          1,
          2
         ],
         "y": [
          0.192,
          0.4413
         ]
        },
        {
         "hovertemplate": "LBC0111B",
         "mode": "lines+markers",
         "name": "JAK2 c.1849G>T",
         "type": "scatter",
         "x": [
          1,
          3,
          4
         ],
         "y": [
          0.1441,
          0.2668,
          0.2776
         ]
        },
        {
         "hovertemplate": "LBC0591L",
         "mode": "lines+markers",
         "name": "TET2 c.2552del",
         "type": "scatter",
         "x": [
          1,
          3,
          4
         ],
         "y": [
          0.0676,
          0.0962,
          0.1312
         ]
        },
        {
         "hovertemplate": "LBC360181",
         "mode": "lines+markers",
         "name": "TET2 c.1102del",
         "type": "scatter",
         "x": [
          1,
          2,
          3,
          4
         ],
         "y": [
          0.141,
          0.1857,
          0.2521,
          0.3441
         ]
        },
        {
         "hovertemplate": "LBC360291",
         "mode": "lines+markers",
         "name": "RUNX1 c.1265A>C",
         "type": "scatter",
         "x": [
          1,
          2,
          3
         ],
         "y": [
          0.4379,
          0.4618,
          0.482
         ]
        }
       ],
       "layout": {
        "template": {
         "data": {
          "bar": [
           {
            "error_x": {
             "color": "#2a3f5f"
            },
            "error_y": {
             "color": "#2a3f5f"
            },
            "marker": {
             "line": {
              "color": "#E5ECF6",
              "width": 0.5
             }
            },
            "type": "bar"
           }
          ],
          "barpolar": [
           {
            "marker": {
             "line": {
              "color": "#E5ECF6",
              "width": 0.5
             }
            },
            "type": "barpolar"
           }
          ],
          "carpet": [
           {
            "aaxis": {
             "endlinecolor": "#2a3f5f",
             "gridcolor": "white",
             "linecolor": "white",
             "minorgridcolor": "white",
             "startlinecolor": "#2a3f5f"
            },
            "baxis": {
             "endlinecolor": "#2a3f5f",
             "gridcolor": "white",
             "linecolor": "white",
             "minorgridcolor": "white",
             "startlinecolor": "#2a3f5f"
            },
            "type": "carpet"
           }
          ],
          "choropleth": [
           {
            "colorbar": {
             "outlinewidth": 0,
             "ticks": ""
            },
            "type": "choropleth"
           }
          ],
          "contour": [
           {
            "colorbar": {
             "outlinewidth": 0,
             "ticks": ""
            },
            "colorscale": [
             [
              0,
              "#0d0887"
             ],
             [
              0.1111111111111111,
              "#46039f"
             ],
             [
              0.2222222222222222,
              "#7201a8"
             ],
             [
              0.3333333333333333,
              "#9c179e"
             ],
             [
              0.4444444444444444,
              "#bd3786"
             ],
             [
              0.5555555555555556,
              "#d8576b"
             ],
             [
              0.6666666666666666,
              "#ed7953"
             ],
             [
              0.7777777777777778,
              "#fb9f3a"
             ],
             [
              0.8888888888888888,
              "#fdca26"
             ],
             [
              1,
              "#f0f921"
             ]
            ],
            "type": "contour"
           }
          ],
          "contourcarpet": [
           {
            "colorbar": {
             "outlinewidth": 0,
             "ticks": ""
            },
            "type": "contourcarpet"
           }
          ],
          "heatmap": [
           {
            "colorbar": {
             "outlinewidth": 0,
             "ticks": ""
            },
            "colorscale": [
             [
              0,
              "#0d0887"
             ],
             [
              0.1111111111111111,
              "#46039f"
             ],
             [
              0.2222222222222222,
              "#7201a8"
             ],
             [
              0.3333333333333333,
              "#9c179e"
             ],
             [
              0.4444444444444444,
              "#bd3786"
             ],
             [
              0.5555555555555556,
              "#d8576b"
             ],
             [
              0.6666666666666666,
              "#ed7953"
             ],
             [
              0.7777777777777778,
              "#fb9f3a"
             ],
             [
              0.8888888888888888,
              "#fdca26"
             ],
             [
              1,
              "#f0f921"
             ]
            ],
            "type": "heatmap"
           }
          ],
          "heatmapgl": [
           {
            "colorbar": {
             "outlinewidth": 0,
             "ticks": ""
            },
            "colorscale": [
             [
              0,
              "#0d0887"
             ],
             [
              0.1111111111111111,
              "#46039f"
             ],
             [
              0.2222222222222222,
              "#7201a8"
             ],
             [
              0.3333333333333333,
              "#9c179e"
             ],
             [
              0.4444444444444444,
              "#bd3786"
             ],
             [
              0.5555555555555556,
              "#d8576b"
             ],
             [
              0.6666666666666666,
              "#ed7953"
             ],
             [
              0.7777777777777778,
              "#fb9f3a"
             ],
             [
              0.8888888888888888,
              "#fdca26"
             ],
             [
              1,
              "#f0f921"
             ]
            ],
            "type": "heatmapgl"
           }
          ],
          "histogram": [
           {
            "marker": {
             "colorbar": {
              "outlinewidth": 0,
              "ticks": ""
             }
            },
            "type": "histogram"
           }
          ],
          "histogram2d": [
           {
            "colorbar": {
             "outlinewidth": 0,
             "ticks": ""
            },
            "colorscale": [
             [
              0,
              "#0d0887"
             ],
             [
              0.1111111111111111,
              "#46039f"
             ],
             [
              0.2222222222222222,
              "#7201a8"
             ],
             [
              0.3333333333333333,
              "#9c179e"
             ],
             [
              0.4444444444444444,
              "#bd3786"
             ],
             [
              0.5555555555555556,
              "#d8576b"
             ],
             [
              0.6666666666666666,
              "#ed7953"
             ],
             [
              0.7777777777777778,
              "#fb9f3a"
             ],
             [
              0.8888888888888888,
              "#fdca26"
             ],
             [
              1,
              "#f0f921"
             ]
            ],
            "type": "histogram2d"
           }
          ],
          "histogram2dcontour": [
           {
            "colorbar": {
             "outlinewidth": 0,
             "ticks": ""
            },
            "colorscale": [
             [
              0,
              "#0d0887"
             ],
             [
              0.1111111111111111,
              "#46039f"
             ],
             [
              0.2222222222222222,
              "#7201a8"
             ],
             [
              0.3333333333333333,
              "#9c179e"
             ],
             [
              0.4444444444444444,
              "#bd3786"
             ],
             [
              0.5555555555555556,
              "#d8576b"
             ],
             [
              0.6666666666666666,
              "#ed7953"
             ],
             [
              0.7777777777777778,
              "#fb9f3a"
             ],
             [
              0.8888888888888888,
              "#fdca26"
             ],
             [
              1,
              "#f0f921"
             ]
            ],
            "type": "histogram2dcontour"
           }
          ],
          "mesh3d": [
           {
            "colorbar": {
             "outlinewidth": 0,
             "ticks": ""
            },
            "type": "mesh3d"
           }
          ],
          "parcoords": [
           {
            "line": {
             "colorbar": {
              "outlinewidth": 0,
              "ticks": ""
             }
            },
            "type": "parcoords"
           }
          ],
          "pie": [
           {
            "automargin": true,
            "type": "pie"
           }
          ],
          "scatter": [
           {
            "marker": {
             "colorbar": {
              "outlinewidth": 0,
              "ticks": ""
             }
            },
            "type": "scatter"
           }
          ],
          "scatter3d": [
           {
            "line": {
             "colorbar": {
              "outlinewidth": 0,
              "ticks": ""
             }
            },
            "marker": {
             "colorbar": {
              "outlinewidth": 0,
              "ticks": ""
             }
            },
            "type": "scatter3d"
           }
          ],
          "scattercarpet": [
           {
            "marker": {
             "colorbar": {
              "outlinewidth": 0,
              "ticks": ""
             }
            },
            "type": "scattercarpet"
           }
          ],
          "scattergeo": [
           {
            "marker": {
             "colorbar": {
              "outlinewidth": 0,
              "ticks": ""
             }
            },
            "type": "scattergeo"
           }
          ],
          "scattergl": [
           {
            "marker": {
             "colorbar": {
              "outlinewidth": 0,
              "ticks": ""
             }
            },
            "type": "scattergl"
           }
          ],
          "scattermapbox": [
           {
            "marker": {
             "colorbar": {
              "outlinewidth": 0,
              "ticks": ""
             }
            },
            "type": "scattermapbox"
           }
          ],
          "scatterpolar": [
           {
            "marker": {
             "colorbar": {
              "outlinewidth": 0,
              "ticks": ""
             }
            },
            "type": "scatterpolar"
           }
          ],
          "scatterpolargl": [
           {
            "marker": {
             "colorbar": {
              "outlinewidth": 0,
              "ticks": ""
             }
            },
            "type": "scatterpolargl"
           }
          ],
          "scatterternary": [
           {
            "marker": {
             "colorbar": {
              "outlinewidth": 0,
              "ticks": ""
             }
            },
            "type": "scatterternary"
           }
          ],
          "surface": [
           {
            "colorbar": {
             "outlinewidth": 0,
             "ticks": ""
            },
            "colorscale": [
             [
              0,
              "#0d0887"
             ],
             [
              0.1111111111111111,
              "#46039f"
             ],
             [
              0.2222222222222222,
              "#7201a8"
             ],
             [
              0.3333333333333333,
              "#9c179e"
             ],
             [
              0.4444444444444444,
              "#bd3786"
             ],
             [
              0.5555555555555556,
              "#d8576b"
             ],
             [
              0.6666666666666666,
              "#ed7953"
             ],
             [
              0.7777777777777778,
              "#fb9f3a"
             ],
             [
              0.8888888888888888,
              "#fdca26"
             ],
             [
              1,
              "#f0f921"
             ]
            ],
            "type": "surface"
           }
          ],
          "table": [
           {
            "cells": {
             "fill": {
              "color": "#EBF0F8"
             },
             "line": {
              "color": "white"
             }
            },
            "header": {
             "fill": {
              "color": "#C8D4E3"
             },
             "line": {
              "color": "white"
             }
            },
            "type": "table"
           }
          ]
         },
         "layout": {
          "annotationdefaults": {
           "arrowcolor": "#2a3f5f",
           "arrowhead": 0,
           "arrowwidth": 1
          },
          "coloraxis": {
           "colorbar": {
            "outlinewidth": 0,
            "ticks": ""
           }
          },
          "colorscale": {
           "diverging": [
            [
             0,
             "#8e0152"
            ],
            [
             0.1,
             "#c51b7d"
            ],
            [
             0.2,
             "#de77ae"
            ],
            [
             0.3,
             "#f1b6da"
            ],
            [
             0.4,
             "#fde0ef"
            ],
            [
             0.5,
             "#f7f7f7"
            ],
            [
             0.6,
             "#e6f5d0"
            ],
            [
             0.7,
             "#b8e186"
            ],
            [
             0.8,
             "#7fbc41"
            ],
            [
             0.9,
             "#4d9221"
            ],
            [
             1,
             "#276419"
            ]
           ],
           "sequential": [
            [
             0,
             "#0d0887"
            ],
            [
             0.1111111111111111,
             "#46039f"
            ],
            [
             0.2222222222222222,
             "#7201a8"
            ],
            [
             0.3333333333333333,
             "#9c179e"
            ],
            [
             0.4444444444444444,
             "#bd3786"
            ],
            [
             0.5555555555555556,
             "#d8576b"
            ],
            [
             0.6666666666666666,
             "#ed7953"
            ],
            [
             0.7777777777777778,
             "#fb9f3a"
            ],
            [
             0.8888888888888888,
             "#fdca26"
            ],
            [
             1,
             "#f0f921"
            ]
           ],
           "sequentialminus": [
            [
             0,
             "#0d0887"
            ],
            [
             0.1111111111111111,
             "#46039f"
            ],
            [
             0.2222222222222222,
             "#7201a8"
            ],
            [
             0.3333333333333333,
             "#9c179e"
            ],
            [
             0.4444444444444444,
             "#bd3786"
            ],
            [
             0.5555555555555556,
             "#d8576b"
            ],
            [
             0.6666666666666666,
             "#ed7953"
            ],
            [
             0.7777777777777778,
             "#fb9f3a"
            ],
            [
             0.8888888888888888,
             "#fdca26"
            ],
            [
             1,
             "#f0f921"
            ]
           ]
          },
          "colorway": [
           "#636efa",
           "#EF553B",
           "#00cc96",
           "#ab63fa",
           "#FFA15A",
           "#19d3f3",
           "#FF6692",
           "#B6E880",
           "#FF97FF",
           "#FECB52"
          ],
          "font": {
           "color": "#2a3f5f"
          },
          "geo": {
           "bgcolor": "white",
           "lakecolor": "white",
           "landcolor": "#E5ECF6",
           "showlakes": true,
           "showland": true,
           "subunitcolor": "white"
          },
          "hoverlabel": {
           "align": "left"
          },
          "hovermode": "closest",
          "mapbox": {
           "style": "light"
          },
          "paper_bgcolor": "white",
          "plot_bgcolor": "#E5ECF6",
          "polar": {
           "angularaxis": {
            "gridcolor": "white",
            "linecolor": "white",
            "ticks": ""
           },
           "bgcolor": "#E5ECF6",
           "radialaxis": {
            "gridcolor": "white",
            "linecolor": "white",
            "ticks": ""
           }
          },
          "scene": {
           "xaxis": {
            "backgroundcolor": "#E5ECF6",
            "gridcolor": "white",
            "gridwidth": 2,
            "linecolor": "white",
            "showbackground": true,
            "ticks": "",
            "zerolinecolor": "white"
           },
           "yaxis": {
            "backgroundcolor": "#E5ECF6",
            "gridcolor": "white",
            "gridwidth": 2,
            "linecolor": "white",
            "showbackground": true,
            "ticks": "",
            "zerolinecolor": "white"
           },
           "zaxis": {
            "backgroundcolor": "#E5ECF6",
            "gridcolor": "white",
            "gridwidth": 2,
            "linecolor": "white",
            "showbackground": true,
            "ticks": "",
            "zerolinecolor": "white"
           }
          },
          "shapedefaults": {
           "line": {
            "color": "#2a3f5f"
           }
          },
          "ternary": {
           "aaxis": {
            "gridcolor": "white",
            "linecolor": "white",
            "ticks": ""
           },
           "baxis": {
            "gridcolor": "white",
            "linecolor": "white",
            "ticks": ""
           },
           "bgcolor": "#E5ECF6",
           "caxis": {
            "gridcolor": "white",
            "linecolor": "white",
            "ticks": ""
           }
          },
          "title": {
           "x": 0.05
          },
          "xaxis": {
           "automargin": true,
           "gridcolor": "white",
           "linecolor": "white",
           "ticks": "",
           "title": {
            "standoff": 15
           },
           "zerolinecolor": "white",
           "zerolinewidth": 2
          },
          "yaxis": {
           "automargin": true,
           "gridcolor": "white",
           "linecolor": "white",
           "ticks": "",
           "title": {
            "standoff": 15
           },
           "zerolinecolor": "white",
           "zerolinewidth": 2
          }
         }
        },
        "title": {
         "text": "clonal expansion mutations"
        },
        "xaxis": {
         "title": {
          "text": "Wave"
         }
        },
        "yaxis": {
         "title": {
          "text": "AF"
         }
        }
       }
      }
     },
     "metadata": {}
    }
   ],
   "source": [
    "clonal_expansion(lbc, np.quantile(total_grad, 0.95))"
   ]
  },
  {
   "cell_type": "markdown",
   "metadata": {},
   "source": [
    "Further, we can plot trajectories following a mutation in any particular gene, present in any percentile as ranked by overall gradient."
   ]
  },
  {
   "cell_type": "code",
   "execution_count": 11,
   "metadata": {
    "scrolled": false
   },
   "outputs": [
    {
     "output_type": "display_data",
     "data": {
      "application/vnd.plotly.v1+json": {
       "config": {
        "plotlyServerURL": "https://plot.ly"
       },
       "data": [
        {
         "hovertemplate": "LBC0293E",
         "mode": "lines+markers",
         "name": "DNMT3A c.2230A>T",
         "type": "scatter",
         "x": [
          1,
          3,
          4
         ],
         "y": [
          0.0646,
          0.0862,
          0.1097
         ]
        },
        {
         "hovertemplate": "LBC360453",
         "mode": "lines+markers",
         "name": "DNMT3A c.2322+1G>A",
         "type": "scatter",
         "x": [
          1,
          2,
          3,
          4
         ],
         "y": [
          0.1015,
          0.134,
          0.143,
          0.1588
         ]
        },
        {
         "hovertemplate": "LBC0040V",
         "mode": "lines+markers",
         "name": "DNMT3A c.1668-3C>G",
         "type": "scatter",
         "x": [
          1,
          3
         ],
         "y": [
          0.024,
          0.4328
         ]
        },
        {
         "hovertemplate": "LBC0068H",
         "mode": "lines+markers",
         "name": "DNMT3A c.2243_2259del",
         "type": "scatter",
         "x": [
          1,
          3
         ],
         "y": [
          0.0353,
          0.0924
         ]
        },
        {
         "hovertemplate": "LBC360508",
         "mode": "lines+markers",
         "name": "DNMT3A c.1605del",
         "type": "scatter",
         "x": [
          1,
          2,
          3,
          4
         ],
         "y": [
          0.091,
          0.15,
          0.1888,
          0.2581
         ]
        },
        {
         "hovertemplate": "LBC360549",
         "mode": "lines+markers",
         "name": "DNMT3A c.1677C>A",
         "type": "scatter",
         "x": [
          1,
          2,
          3,
          4
         ],
         "y": [
          0.2957,
          0.2741,
          0.3467,
          0.3837
         ]
        },
        {
         "hovertemplate": "LBC360636",
         "mode": "lines+markers",
         "name": "DNMT3A c.976C>G",
         "type": "scatter",
         "x": [
          1,
          2,
          3
         ],
         "y": [
          0.149,
          0.2133,
          0.28
         ]
        },
        {
         "hovertemplate": "LBC360914",
         "mode": "lines+markers",
         "name": "DNMT3A c.2203T>A",
         "type": "scatter",
         "x": [
          1,
          2,
          3,
          4
         ],
         "y": [
          0.1032,
          0.1262,
          0.1743,
          0.1945
         ]
        },
        {
         "hovertemplate": "LBC360919",
         "mode": "lines+markers",
         "name": "DNMT3A c.924_925dup",
         "type": "scatter",
         "x": [
          1,
          2,
          3,
          4
         ],
         "y": [
          0.3411,
          0.3469,
          0.3874,
          0.3911
         ]
        },
        {
         "hovertemplate": "LBC361286",
         "mode": "lines+markers",
         "name": "DNMT3A c.2578T>C",
         "type": "scatter",
         "x": [
          1,
          2
         ],
         "y": [
          0.0256,
          0.0421
         ]
        }
       ],
       "layout": {
        "template": {
         "data": {
          "bar": [
           {
            "error_x": {
             "color": "#2a3f5f"
            },
            "error_y": {
             "color": "#2a3f5f"
            },
            "marker": {
             "line": {
              "color": "#E5ECF6",
              "width": 0.5
             }
            },
            "type": "bar"
           }
          ],
          "barpolar": [
           {
            "marker": {
             "line": {
              "color": "#E5ECF6",
              "width": 0.5
             }
            },
            "type": "barpolar"
           }
          ],
          "carpet": [
           {
            "aaxis": {
             "endlinecolor": "#2a3f5f",
             "gridcolor": "white",
             "linecolor": "white",
             "minorgridcolor": "white",
             "startlinecolor": "#2a3f5f"
            },
            "baxis": {
             "endlinecolor": "#2a3f5f",
             "gridcolor": "white",
             "linecolor": "white",
             "minorgridcolor": "white",
             "startlinecolor": "#2a3f5f"
            },
            "type": "carpet"
           }
          ],
          "choropleth": [
           {
            "colorbar": {
             "outlinewidth": 0,
             "ticks": ""
            },
            "type": "choropleth"
           }
          ],
          "contour": [
           {
            "colorbar": {
             "outlinewidth": 0,
             "ticks": ""
            },
            "colorscale": [
             [
              0,
              "#0d0887"
             ],
             [
              0.1111111111111111,
              "#46039f"
             ],
             [
              0.2222222222222222,
              "#7201a8"
             ],
             [
              0.3333333333333333,
              "#9c179e"
             ],
             [
              0.4444444444444444,
              "#bd3786"
             ],
             [
              0.5555555555555556,
              "#d8576b"
             ],
             [
              0.6666666666666666,
              "#ed7953"
             ],
             [
              0.7777777777777778,
              "#fb9f3a"
             ],
             [
              0.8888888888888888,
              "#fdca26"
             ],
             [
              1,
              "#f0f921"
             ]
            ],
            "type": "contour"
           }
          ],
          "contourcarpet": [
           {
            "colorbar": {
             "outlinewidth": 0,
             "ticks": ""
            },
            "type": "contourcarpet"
           }
          ],
          "heatmap": [
           {
            "colorbar": {
             "outlinewidth": 0,
             "ticks": ""
            },
            "colorscale": [
             [
              0,
              "#0d0887"
             ],
             [
              0.1111111111111111,
              "#46039f"
             ],
             [
              0.2222222222222222,
              "#7201a8"
             ],
             [
              0.3333333333333333,
              "#9c179e"
             ],
             [
              0.4444444444444444,
              "#bd3786"
             ],
             [
              0.5555555555555556,
              "#d8576b"
             ],
             [
              0.6666666666666666,
              "#ed7953"
             ],
             [
              0.7777777777777778,
              "#fb9f3a"
             ],
             [
              0.8888888888888888,
              "#fdca26"
             ],
             [
              1,
              "#f0f921"
             ]
            ],
            "type": "heatmap"
           }
          ],
          "heatmapgl": [
           {
            "colorbar": {
             "outlinewidth": 0,
             "ticks": ""
            },
            "colorscale": [
             [
              0,
              "#0d0887"
             ],
             [
              0.1111111111111111,
              "#46039f"
             ],
             [
              0.2222222222222222,
              "#7201a8"
             ],
             [
              0.3333333333333333,
              "#9c179e"
             ],
             [
              0.4444444444444444,
              "#bd3786"
             ],
             [
              0.5555555555555556,
              "#d8576b"
             ],
             [
              0.6666666666666666,
              "#ed7953"
             ],
             [
              0.7777777777777778,
              "#fb9f3a"
             ],
             [
              0.8888888888888888,
              "#fdca26"
             ],
             [
              1,
              "#f0f921"
             ]
            ],
            "type": "heatmapgl"
           }
          ],
          "histogram": [
           {
            "marker": {
             "colorbar": {
              "outlinewidth": 0,
              "ticks": ""
             }
            },
            "type": "histogram"
           }
          ],
          "histogram2d": [
           {
            "colorbar": {
             "outlinewidth": 0,
             "ticks": ""
            },
            "colorscale": [
             [
              0,
              "#0d0887"
             ],
             [
              0.1111111111111111,
              "#46039f"
             ],
             [
              0.2222222222222222,
              "#7201a8"
             ],
             [
              0.3333333333333333,
              "#9c179e"
             ],
             [
              0.4444444444444444,
              "#bd3786"
             ],
             [
              0.5555555555555556,
              "#d8576b"
             ],
             [
              0.6666666666666666,
              "#ed7953"
             ],
             [
              0.7777777777777778,
              "#fb9f3a"
             ],
             [
              0.8888888888888888,
              "#fdca26"
             ],
             [
              1,
              "#f0f921"
             ]
            ],
            "type": "histogram2d"
           }
          ],
          "histogram2dcontour": [
           {
            "colorbar": {
             "outlinewidth": 0,
             "ticks": ""
            },
            "colorscale": [
             [
              0,
              "#0d0887"
             ],
             [
              0.1111111111111111,
              "#46039f"
             ],
             [
              0.2222222222222222,
              "#7201a8"
             ],
             [
              0.3333333333333333,
              "#9c179e"
             ],
             [
              0.4444444444444444,
              "#bd3786"
             ],
             [
              0.5555555555555556,
              "#d8576b"
             ],
             [
              0.6666666666666666,
              "#ed7953"
             ],
             [
              0.7777777777777778,
              "#fb9f3a"
             ],
             [
              0.8888888888888888,
              "#fdca26"
             ],
             [
              1,
              "#f0f921"
             ]
            ],
            "type": "histogram2dcontour"
           }
          ],
          "mesh3d": [
           {
            "colorbar": {
             "outlinewidth": 0,
             "ticks": ""
            },
            "type": "mesh3d"
           }
          ],
          "parcoords": [
           {
            "line": {
             "colorbar": {
              "outlinewidth": 0,
              "ticks": ""
             }
            },
            "type": "parcoords"
           }
          ],
          "pie": [
           {
            "automargin": true,
            "type": "pie"
           }
          ],
          "scatter": [
           {
            "marker": {
             "colorbar": {
              "outlinewidth": 0,
              "ticks": ""
             }
            },
            "type": "scatter"
           }
          ],
          "scatter3d": [
           {
            "line": {
             "colorbar": {
              "outlinewidth": 0,
              "ticks": ""
             }
            },
            "marker": {
             "colorbar": {
              "outlinewidth": 0,
              "ticks": ""
             }
            },
            "type": "scatter3d"
           }
          ],
          "scattercarpet": [
           {
            "marker": {
             "colorbar": {
              "outlinewidth": 0,
              "ticks": ""
             }
            },
            "type": "scattercarpet"
           }
          ],
          "scattergeo": [
           {
            "marker": {
             "colorbar": {
              "outlinewidth": 0,
              "ticks": ""
             }
            },
            "type": "scattergeo"
           }
          ],
          "scattergl": [
           {
            "marker": {
             "colorbar": {
              "outlinewidth": 0,
              "ticks": ""
             }
            },
            "type": "scattergl"
           }
          ],
          "scattermapbox": [
           {
            "marker": {
             "colorbar": {
              "outlinewidth": 0,
              "ticks": ""
             }
            },
            "type": "scattermapbox"
           }
          ],
          "scatterpolar": [
           {
            "marker": {
             "colorbar": {
              "outlinewidth": 0,
              "ticks": ""
             }
            },
            "type": "scatterpolar"
           }
          ],
          "scatterpolargl": [
           {
            "marker": {
             "colorbar": {
              "outlinewidth": 0,
              "ticks": ""
             }
            },
            "type": "scatterpolargl"
           }
          ],
          "scatterternary": [
           {
            "marker": {
             "colorbar": {
              "outlinewidth": 0,
              "ticks": ""
             }
            },
            "type": "scatterternary"
           }
          ],
          "surface": [
           {
            "colorbar": {
             "outlinewidth": 0,
             "ticks": ""
            },
            "colorscale": [
             [
              0,
              "#0d0887"
             ],
             [
              0.1111111111111111,
              "#46039f"
             ],
             [
              0.2222222222222222,
              "#7201a8"
             ],
             [
              0.3333333333333333,
              "#9c179e"
             ],
             [
              0.4444444444444444,
              "#bd3786"
             ],
             [
              0.5555555555555556,
              "#d8576b"
             ],
             [
              0.6666666666666666,
              "#ed7953"
             ],
             [
              0.7777777777777778,
              "#fb9f3a"
             ],
             [
              0.8888888888888888,
              "#fdca26"
             ],
             [
              1,
              "#f0f921"
             ]
            ],
            "type": "surface"
           }
          ],
          "table": [
           {
            "cells": {
             "fill": {
              "color": "#EBF0F8"
             },
             "line": {
              "color": "white"
             }
            },
            "header": {
             "fill": {
              "color": "#C8D4E3"
             },
             "line": {
              "color": "white"
             }
            },
            "type": "table"
           }
          ]
         },
         "layout": {
          "annotationdefaults": {
           "arrowcolor": "#2a3f5f",
           "arrowhead": 0,
           "arrowwidth": 1
          },
          "coloraxis": {
           "colorbar": {
            "outlinewidth": 0,
            "ticks": ""
           }
          },
          "colorscale": {
           "diverging": [
            [
             0,
             "#8e0152"
            ],
            [
             0.1,
             "#c51b7d"
            ],
            [
             0.2,
             "#de77ae"
            ],
            [
             0.3,
             "#f1b6da"
            ],
            [
             0.4,
             "#fde0ef"
            ],
            [
             0.5,
             "#f7f7f7"
            ],
            [
             0.6,
             "#e6f5d0"
            ],
            [
             0.7,
             "#b8e186"
            ],
            [
             0.8,
             "#7fbc41"
            ],
            [
             0.9,
             "#4d9221"
            ],
            [
             1,
             "#276419"
            ]
           ],
           "sequential": [
            [
             0,
             "#0d0887"
            ],
            [
             0.1111111111111111,
             "#46039f"
            ],
            [
             0.2222222222222222,
             "#7201a8"
            ],
            [
             0.3333333333333333,
             "#9c179e"
            ],
            [
             0.4444444444444444,
             "#bd3786"
            ],
            [
             0.5555555555555556,
             "#d8576b"
            ],
            [
             0.6666666666666666,
             "#ed7953"
            ],
            [
             0.7777777777777778,
             "#fb9f3a"
            ],
            [
             0.8888888888888888,
             "#fdca26"
            ],
            [
             1,
             "#f0f921"
            ]
           ],
           "sequentialminus": [
            [
             0,
             "#0d0887"
            ],
            [
             0.1111111111111111,
             "#46039f"
            ],
            [
             0.2222222222222222,
             "#7201a8"
            ],
            [
             0.3333333333333333,
             "#9c179e"
            ],
            [
             0.4444444444444444,
             "#bd3786"
            ],
            [
             0.5555555555555556,
             "#d8576b"
            ],
            [
             0.6666666666666666,
             "#ed7953"
            ],
            [
             0.7777777777777778,
             "#fb9f3a"
            ],
            [
             0.8888888888888888,
             "#fdca26"
            ],
            [
             1,
             "#f0f921"
            ]
           ]
          },
          "colorway": [
           "#636efa",
           "#EF553B",
           "#00cc96",
           "#ab63fa",
           "#FFA15A",
           "#19d3f3",
           "#FF6692",
           "#B6E880",
           "#FF97FF",
           "#FECB52"
          ],
          "font": {
           "color": "#2a3f5f"
          },
          "geo": {
           "bgcolor": "white",
           "lakecolor": "white",
           "landcolor": "#E5ECF6",
           "showlakes": true,
           "showland": true,
           "subunitcolor": "white"
          },
          "hoverlabel": {
           "align": "left"
          },
          "hovermode": "closest",
          "mapbox": {
           "style": "light"
          },
          "paper_bgcolor": "white",
          "plot_bgcolor": "#E5ECF6",
          "polar": {
           "angularaxis": {
            "gridcolor": "white",
            "linecolor": "white",
            "ticks": ""
           },
           "bgcolor": "#E5ECF6",
           "radialaxis": {
            "gridcolor": "white",
            "linecolor": "white",
            "ticks": ""
           }
          },
          "scene": {
           "xaxis": {
            "backgroundcolor": "#E5ECF6",
            "gridcolor": "white",
            "gridwidth": 2,
            "linecolor": "white",
            "showbackground": true,
            "ticks": "",
            "zerolinecolor": "white"
           },
           "yaxis": {
            "backgroundcolor": "#E5ECF6",
            "gridcolor": "white",
            "gridwidth": 2,
            "linecolor": "white",
            "showbackground": true,
            "ticks": "",
            "zerolinecolor": "white"
           },
           "zaxis": {
            "backgroundcolor": "#E5ECF6",
            "gridcolor": "white",
            "gridwidth": 2,
            "linecolor": "white",
            "showbackground": true,
            "ticks": "",
            "zerolinecolor": "white"
           }
          },
          "shapedefaults": {
           "line": {
            "color": "#2a3f5f"
           }
          },
          "ternary": {
           "aaxis": {
            "gridcolor": "white",
            "linecolor": "white",
            "ticks": ""
           },
           "baxis": {
            "gridcolor": "white",
            "linecolor": "white",
            "ticks": ""
           },
           "bgcolor": "#E5ECF6",
           "caxis": {
            "gridcolor": "white",
            "linecolor": "white",
            "ticks": ""
           }
          },
          "title": {
           "x": 0.05
          },
          "xaxis": {
           "automargin": true,
           "gridcolor": "white",
           "linecolor": "white",
           "ticks": "",
           "title": {
            "standoff": 15
           },
           "zerolinecolor": "white",
           "zerolinewidth": 2
          },
          "yaxis": {
           "automargin": true,
           "gridcolor": "white",
           "linecolor": "white",
           "ticks": "",
           "title": {
            "standoff": 15
           },
           "zerolinecolor": "white",
           "zerolinewidth": 2
          }
         }
        },
        "title": {
         "text": "Trajectories containing mutation DNMT3A"
        },
        "xaxis": {
         "title": {
          "text": "Wave"
         }
        },
        "yaxis": {
         "title": {
          "text": "AF"
         }
        }
       }
      }
     },
     "metadata": {}
    }
   ],
   "source": [
    "mutation_plot2(lbc,'DNMT3A',np.quantile(total_grad, 0.9))"
   ]
  },
  {
   "cell_type": "markdown",
   "metadata": {},
   "source": [
    "# Modeling clonal expansion *a la blundell*\n",
    "\n",
    "We should be able too check that for each mutation, at least within a sample, local ratio\n",
    "$$\\frac{G_c}{AF_c}\\sim \\lambda r s$$\n",
    "should be constant.\n",
    "\n",
    "Let's have a look at the TET2 mutation of sample 'LBC360181'."
   ]
  },
  {
   "cell_type": "code",
   "execution_count": 12,
   "metadata": {},
   "outputs": [
    {
     "output_type": "display_data",
     "data": {
      "application/vnd.plotly.v1+json": {
       "config": {
        "plotlyServerURL": "https://plot.ly"
       },
       "data": [
        {
         "mode": "lines+markers",
         "name": "EZH2 c.118-4dup",
         "type": "scatter",
         "x": [
          1,
          2,
          3,
          4
         ],
         "y": [
          0.0495,
          0.0387,
          0.0422,
          0.0549
         ]
        },
        {
         "mode": "lines+markers",
         "name": "EZH2 c.118-5_118-4del",
         "type": "scatter",
         "x": [
          1,
          2,
          3,
          4
         ],
         "y": [
          0.0794,
          0.0789,
          0.084,
          0.0887
         ]
        },
        {
         "mode": "lines+markers",
         "name": "FLT3 c.1419-4del",
         "type": "scatter",
         "x": [
          1,
          2,
          3,
          4
         ],
         "y": [
          0.135,
          0.1457,
          0.1286,
          0.1468
         ]
        },
        {
         "mode": "lines+markers",
         "name": "FLT3 c.1419-4dup",
         "type": "scatter",
         "x": [
          1,
          2,
          3,
          4
         ],
         "y": [
          0.0592,
          0.0607,
          0.059,
          0.0631
         ]
        },
        {
         "mode": "lines+markers",
         "name": "RUNX1 c.1265A>C",
         "type": "scatter",
         "x": [
          1,
          2,
          3,
          4
         ],
         "y": [
          0.4308,
          0.4135,
          0.4868,
          0.2855
         ]
        },
        {
         "mode": "lines+markers",
         "name": "RUNX1 c.1265A>G",
         "type": "scatter",
         "x": [
          2,
          4
         ],
         "y": [
          0.0277,
          0.033
         ]
        },
        {
         "mode": "lines+markers",
         "name": "RUNX1 c.1270T>G",
         "type": "scatter",
         "x": [
          1,
          2,
          3,
          4
         ],
         "y": [
          0.3093,
          0.3185,
          0.3519,
          0.2133
         ]
        },
        {
         "mode": "lines+markers",
         "name": "TET2 c.1102del",
         "type": "scatter",
         "x": [
          1,
          2,
          3,
          4
         ],
         "y": [
          0.141,
          0.1857,
          0.2521,
          0.3441
         ]
        }
       ],
       "layout": {
        "template": {
         "data": {
          "bar": [
           {
            "error_x": {
             "color": "#2a3f5f"
            },
            "error_y": {
             "color": "#2a3f5f"
            },
            "marker": {
             "line": {
              "color": "#E5ECF6",
              "width": 0.5
             }
            },
            "type": "bar"
           }
          ],
          "barpolar": [
           {
            "marker": {
             "line": {
              "color": "#E5ECF6",
              "width": 0.5
             }
            },
            "type": "barpolar"
           }
          ],
          "carpet": [
           {
            "aaxis": {
             "endlinecolor": "#2a3f5f",
             "gridcolor": "white",
             "linecolor": "white",
             "minorgridcolor": "white",
             "startlinecolor": "#2a3f5f"
            },
            "baxis": {
             "endlinecolor": "#2a3f5f",
             "gridcolor": "white",
             "linecolor": "white",
             "minorgridcolor": "white",
             "startlinecolor": "#2a3f5f"
            },
            "type": "carpet"
           }
          ],
          "choropleth": [
           {
            "colorbar": {
             "outlinewidth": 0,
             "ticks": ""
            },
            "type": "choropleth"
           }
          ],
          "contour": [
           {
            "colorbar": {
             "outlinewidth": 0,
             "ticks": ""
            },
            "colorscale": [
             [
              0,
              "#0d0887"
             ],
             [
              0.1111111111111111,
              "#46039f"
             ],
             [
              0.2222222222222222,
              "#7201a8"
             ],
             [
              0.3333333333333333,
              "#9c179e"
             ],
             [
              0.4444444444444444,
              "#bd3786"
             ],
             [
              0.5555555555555556,
              "#d8576b"
             ],
             [
              0.6666666666666666,
              "#ed7953"
             ],
             [
              0.7777777777777778,
              "#fb9f3a"
             ],
             [
              0.8888888888888888,
              "#fdca26"
             ],
             [
              1,
              "#f0f921"
             ]
            ],
            "type": "contour"
           }
          ],
          "contourcarpet": [
           {
            "colorbar": {
             "outlinewidth": 0,
             "ticks": ""
            },
            "type": "contourcarpet"
           }
          ],
          "heatmap": [
           {
            "colorbar": {
             "outlinewidth": 0,
             "ticks": ""
            },
            "colorscale": [
             [
              0,
              "#0d0887"
             ],
             [
              0.1111111111111111,
              "#46039f"
             ],
             [
              0.2222222222222222,
              "#7201a8"
             ],
             [
              0.3333333333333333,
              "#9c179e"
             ],
             [
              0.4444444444444444,
              "#bd3786"
             ],
             [
              0.5555555555555556,
              "#d8576b"
             ],
             [
              0.6666666666666666,
              "#ed7953"
             ],
             [
              0.7777777777777778,
              "#fb9f3a"
             ],
             [
              0.8888888888888888,
              "#fdca26"
             ],
             [
              1,
              "#f0f921"
             ]
            ],
            "type": "heatmap"
           }
          ],
          "heatmapgl": [
           {
            "colorbar": {
             "outlinewidth": 0,
             "ticks": ""
            },
            "colorscale": [
             [
              0,
              "#0d0887"
             ],
             [
              0.1111111111111111,
              "#46039f"
             ],
             [
              0.2222222222222222,
              "#7201a8"
             ],
             [
              0.3333333333333333,
              "#9c179e"
             ],
             [
              0.4444444444444444,
              "#bd3786"
             ],
             [
              0.5555555555555556,
              "#d8576b"
             ],
             [
              0.6666666666666666,
              "#ed7953"
             ],
             [
              0.7777777777777778,
              "#fb9f3a"
             ],
             [
              0.8888888888888888,
              "#fdca26"
             ],
             [
              1,
              "#f0f921"
             ]
            ],
            "type": "heatmapgl"
           }
          ],
          "histogram": [
           {
            "marker": {
             "colorbar": {
              "outlinewidth": 0,
              "ticks": ""
             }
            },
            "type": "histogram"
           }
          ],
          "histogram2d": [
           {
            "colorbar": {
             "outlinewidth": 0,
             "ticks": ""
            },
            "colorscale": [
             [
              0,
              "#0d0887"
             ],
             [
              0.1111111111111111,
              "#46039f"
             ],
             [
              0.2222222222222222,
              "#7201a8"
             ],
             [
              0.3333333333333333,
              "#9c179e"
             ],
             [
              0.4444444444444444,
              "#bd3786"
             ],
             [
              0.5555555555555556,
              "#d8576b"
             ],
             [
              0.6666666666666666,
              "#ed7953"
             ],
             [
              0.7777777777777778,
              "#fb9f3a"
             ],
             [
              0.8888888888888888,
              "#fdca26"
             ],
             [
              1,
              "#f0f921"
             ]
            ],
            "type": "histogram2d"
           }
          ],
          "histogram2dcontour": [
           {
            "colorbar": {
             "outlinewidth": 0,
             "ticks": ""
            },
            "colorscale": [
             [
              0,
              "#0d0887"
             ],
             [
              0.1111111111111111,
              "#46039f"
             ],
             [
              0.2222222222222222,
              "#7201a8"
             ],
             [
              0.3333333333333333,
              "#9c179e"
             ],
             [
              0.4444444444444444,
              "#bd3786"
             ],
             [
              0.5555555555555556,
              "#d8576b"
             ],
             [
              0.6666666666666666,
              "#ed7953"
             ],
             [
              0.7777777777777778,
              "#fb9f3a"
             ],
             [
              0.8888888888888888,
              "#fdca26"
             ],
             [
              1,
              "#f0f921"
             ]
            ],
            "type": "histogram2dcontour"
           }
          ],
          "mesh3d": [
           {
            "colorbar": {
             "outlinewidth": 0,
             "ticks": ""
            },
            "type": "mesh3d"
           }
          ],
          "parcoords": [
           {
            "line": {
             "colorbar": {
              "outlinewidth": 0,
              "ticks": ""
             }
            },
            "type": "parcoords"
           }
          ],
          "pie": [
           {
            "automargin": true,
            "type": "pie"
           }
          ],
          "scatter": [
           {
            "marker": {
             "colorbar": {
              "outlinewidth": 0,
              "ticks": ""
             }
            },
            "type": "scatter"
           }
          ],
          "scatter3d": [
           {
            "line": {
             "colorbar": {
              "outlinewidth": 0,
              "ticks": ""
             }
            },
            "marker": {
             "colorbar": {
              "outlinewidth": 0,
              "ticks": ""
             }
            },
            "type": "scatter3d"
           }
          ],
          "scattercarpet": [
           {
            "marker": {
             "colorbar": {
              "outlinewidth": 0,
              "ticks": ""
             }
            },
            "type": "scattercarpet"
           }
          ],
          "scattergeo": [
           {
            "marker": {
             "colorbar": {
              "outlinewidth": 0,
              "ticks": ""
             }
            },
            "type": "scattergeo"
           }
          ],
          "scattergl": [
           {
            "marker": {
             "colorbar": {
              "outlinewidth": 0,
              "ticks": ""
             }
            },
            "type": "scattergl"
           }
          ],
          "scattermapbox": [
           {
            "marker": {
             "colorbar": {
              "outlinewidth": 0,
              "ticks": ""
             }
            },
            "type": "scattermapbox"
           }
          ],
          "scatterpolar": [
           {
            "marker": {
             "colorbar": {
              "outlinewidth": 0,
              "ticks": ""
             }
            },
            "type": "scatterpolar"
           }
          ],
          "scatterpolargl": [
           {
            "marker": {
             "colorbar": {
              "outlinewidth": 0,
              "ticks": ""
             }
            },
            "type": "scatterpolargl"
           }
          ],
          "scatterternary": [
           {
            "marker": {
             "colorbar": {
              "outlinewidth": 0,
              "ticks": ""
             }
            },
            "type": "scatterternary"
           }
          ],
          "surface": [
           {
            "colorbar": {
             "outlinewidth": 0,
             "ticks": ""
            },
            "colorscale": [
             [
              0,
              "#0d0887"
             ],
             [
              0.1111111111111111,
              "#46039f"
             ],
             [
              0.2222222222222222,
              "#7201a8"
             ],
             [
              0.3333333333333333,
              "#9c179e"
             ],
             [
              0.4444444444444444,
              "#bd3786"
             ],
             [
              0.5555555555555556,
              "#d8576b"
             ],
             [
              0.6666666666666666,
              "#ed7953"
             ],
             [
              0.7777777777777778,
              "#fb9f3a"
             ],
             [
              0.8888888888888888,
              "#fdca26"
             ],
             [
              1,
              "#f0f921"
             ]
            ],
            "type": "surface"
           }
          ],
          "table": [
           {
            "cells": {
             "fill": {
              "color": "#EBF0F8"
             },
             "line": {
              "color": "white"
             }
            },
            "header": {
             "fill": {
              "color": "#C8D4E3"
             },
             "line": {
              "color": "white"
             }
            },
            "type": "table"
           }
          ]
         },
         "layout": {
          "annotationdefaults": {
           "arrowcolor": "#2a3f5f",
           "arrowhead": 0,
           "arrowwidth": 1
          },
          "coloraxis": {
           "colorbar": {
            "outlinewidth": 0,
            "ticks": ""
           }
          },
          "colorscale": {
           "diverging": [
            [
             0,
             "#8e0152"
            ],
            [
             0.1,
             "#c51b7d"
            ],
            [
             0.2,
             "#de77ae"
            ],
            [
             0.3,
             "#f1b6da"
            ],
            [
             0.4,
             "#fde0ef"
            ],
            [
             0.5,
             "#f7f7f7"
            ],
            [
             0.6,
             "#e6f5d0"
            ],
            [
             0.7,
             "#b8e186"
            ],
            [
             0.8,
             "#7fbc41"
            ],
            [
             0.9,
             "#4d9221"
            ],
            [
             1,
             "#276419"
            ]
           ],
           "sequential": [
            [
             0,
             "#0d0887"
            ],
            [
             0.1111111111111111,
             "#46039f"
            ],
            [
             0.2222222222222222,
             "#7201a8"
            ],
            [
             0.3333333333333333,
             "#9c179e"
            ],
            [
             0.4444444444444444,
             "#bd3786"
            ],
            [
             0.5555555555555556,
             "#d8576b"
            ],
            [
             0.6666666666666666,
             "#ed7953"
            ],
            [
             0.7777777777777778,
             "#fb9f3a"
            ],
            [
             0.8888888888888888,
             "#fdca26"
            ],
            [
             1,
             "#f0f921"
            ]
           ],
           "sequentialminus": [
            [
             0,
             "#0d0887"
            ],
            [
             0.1111111111111111,
             "#46039f"
            ],
            [
             0.2222222222222222,
             "#7201a8"
            ],
            [
             0.3333333333333333,
             "#9c179e"
            ],
            [
             0.4444444444444444,
             "#bd3786"
            ],
            [
             0.5555555555555556,
             "#d8576b"
            ],
            [
             0.6666666666666666,
             "#ed7953"
            ],
            [
             0.7777777777777778,
             "#fb9f3a"
            ],
            [
             0.8888888888888888,
             "#fdca26"
            ],
            [
             1,
             "#f0f921"
            ]
           ]
          },
          "colorway": [
           "#636efa",
           "#EF553B",
           "#00cc96",
           "#ab63fa",
           "#FFA15A",
           "#19d3f3",
           "#FF6692",
           "#B6E880",
           "#FF97FF",
           "#FECB52"
          ],
          "font": {
           "color": "#2a3f5f"
          },
          "geo": {
           "bgcolor": "white",
           "lakecolor": "white",
           "landcolor": "#E5ECF6",
           "showlakes": true,
           "showland": true,
           "subunitcolor": "white"
          },
          "hoverlabel": {
           "align": "left"
          },
          "hovermode": "closest",
          "mapbox": {
           "style": "light"
          },
          "paper_bgcolor": "white",
          "plot_bgcolor": "#E5ECF6",
          "polar": {
           "angularaxis": {
            "gridcolor": "white",
            "linecolor": "white",
            "ticks": ""
           },
           "bgcolor": "#E5ECF6",
           "radialaxis": {
            "gridcolor": "white",
            "linecolor": "white",
            "ticks": ""
           }
          },
          "scene": {
           "xaxis": {
            "backgroundcolor": "#E5ECF6",
            "gridcolor": "white",
            "gridwidth": 2,
            "linecolor": "white",
            "showbackground": true,
            "ticks": "",
            "zerolinecolor": "white"
           },
           "yaxis": {
            "backgroundcolor": "#E5ECF6",
            "gridcolor": "white",
            "gridwidth": 2,
            "linecolor": "white",
            "showbackground": true,
            "ticks": "",
            "zerolinecolor": "white"
           },
           "zaxis": {
            "backgroundcolor": "#E5ECF6",
            "gridcolor": "white",
            "gridwidth": 2,
            "linecolor": "white",
            "showbackground": true,
            "ticks": "",
            "zerolinecolor": "white"
           }
          },
          "shapedefaults": {
           "line": {
            "color": "#2a3f5f"
           }
          },
          "ternary": {
           "aaxis": {
            "gridcolor": "white",
            "linecolor": "white",
            "ticks": ""
           },
           "baxis": {
            "gridcolor": "white",
            "linecolor": "white",
            "ticks": ""
           },
           "bgcolor": "#E5ECF6",
           "caxis": {
            "gridcolor": "white",
            "linecolor": "white",
            "ticks": ""
           }
          },
          "title": {
           "x": 0.05
          },
          "xaxis": {
           "automargin": true,
           "gridcolor": "white",
           "linecolor": "white",
           "ticks": "",
           "title": {
            "standoff": 15
           },
           "zerolinecolor": "white",
           "zerolinewidth": 2
          },
          "yaxis": {
           "automargin": true,
           "gridcolor": "white",
           "linecolor": "white",
           "ticks": "",
           "title": {
            "standoff": 15
           },
           "zerolinecolor": "white",
           "zerolinewidth": 2
          }
         }
        },
        "title": {
         "text": "Trajectories of participant LBC360181"
        },
        "xaxis": {
         "title": {
          "text": "Wave"
         }
        },
        "yaxis": {
         "title": {
          "text": "AF"
         }
        }
       }
      }
     },
     "metadata": {}
    }
   ],
   "source": [
    "plot_id (lbc,'LBC360181')"
   ]
  },
  {
   "cell_type": "code",
   "execution_count": 13,
   "metadata": {
    "scrolled": true,
    "tags": []
   },
   "outputs": [
    {
     "output_type": "stream",
     "name": "stdout",
     "text": "0    0.317021\n1    0.299138\n2    0.314161\n3    0.267364\ndtype: float64\n"
    },
    {
     "output_type": "execute_result",
     "data": {
      "text/plain": "'We can estimate lrs as the mean 0.29942121434807245'"
     },
     "metadata": {},
     "execution_count": 13
    }
   ],
   "source": [
    "for i, part in enumerate(lbc):\n",
    "    if part.id =='LBC360181':\n",
    "        for traj in lbc[58].trajectories:\n",
    "            if 'TET2' in traj.mutation.split():\n",
    "                data=traj.data\n",
    "                \n",
    "print(data.gradient/data.AF)\n",
    "TET=np.mean(data.gradient/data.AF)\n",
    "f'We can estimate lrs as the mean {TET}'"
   ]
  },
  {
   "cell_type": "markdown",
   "metadata": {},
   "source": [
    "We can also create an estimate for all TET mutations having a differentially high global gradient:"
   ]
  },
  {
   "cell_type": "code",
   "execution_count": 14,
   "metadata": {
    "scrolled": false
   },
   "outputs": [
    {
     "output_type": "display_data",
     "data": {
      "application/vnd.plotly.v1+json": {
       "config": {
        "plotlyServerURL": "https://plot.ly"
       },
       "data": [
        {
         "hovertemplate": "LBC0293E",
         "mode": "lines+markers",
         "name": "DNMT3A c.2230A>T",
         "type": "scatter",
         "x": [
          1,
          3,
          4
         ],
         "y": [
          0.0646,
          0.0862,
          0.1097
         ]
        },
        {
         "hovertemplate": "LBC360453",
         "mode": "lines+markers",
         "name": "DNMT3A c.2322+1G>A",
         "type": "scatter",
         "x": [
          1,
          2,
          3,
          4
         ],
         "y": [
          0.1015,
          0.134,
          0.143,
          0.1588
         ]
        },
        {
         "hovertemplate": "LBC0040V",
         "mode": "lines+markers",
         "name": "DNMT3A c.1668-3C>G",
         "type": "scatter",
         "x": [
          1,
          3
         ],
         "y": [
          0.024,
          0.4328
         ]
        },
        {
         "hovertemplate": "LBC0068H",
         "mode": "lines+markers",
         "name": "DNMT3A c.2243_2259del",
         "type": "scatter",
         "x": [
          1,
          3
         ],
         "y": [
          0.0353,
          0.0924
         ]
        },
        {
         "hovertemplate": "LBC360508",
         "mode": "lines+markers",
         "name": "DNMT3A c.1605del",
         "type": "scatter",
         "x": [
          1,
          2,
          3,
          4
         ],
         "y": [
          0.091,
          0.15,
          0.1888,
          0.2581
         ]
        },
        {
         "hovertemplate": "LBC360549",
         "mode": "lines+markers",
         "name": "DNMT3A c.1677C>A",
         "type": "scatter",
         "x": [
          1,
          2,
          3,
          4
         ],
         "y": [
          0.2957,
          0.2741,
          0.3467,
          0.3837
         ]
        },
        {
         "hovertemplate": "LBC360636",
         "mode": "lines+markers",
         "name": "DNMT3A c.976C>G",
         "type": "scatter",
         "x": [
          1,
          2,
          3
         ],
         "y": [
          0.149,
          0.2133,
          0.28
         ]
        },
        {
         "hovertemplate": "LBC360914",
         "mode": "lines+markers",
         "name": "DNMT3A c.2203T>A",
         "type": "scatter",
         "x": [
          1,
          2,
          3,
          4
         ],
         "y": [
          0.1032,
          0.1262,
          0.1743,
          0.1945
         ]
        },
        {
         "hovertemplate": "LBC360919",
         "mode": "lines+markers",
         "name": "DNMT3A c.924_925dup",
         "type": "scatter",
         "x": [
          1,
          2,
          3,
          4
         ],
         "y": [
          0.3411,
          0.3469,
          0.3874,
          0.3911
         ]
        },
        {
         "hovertemplate": "LBC361286",
         "mode": "lines+markers",
         "name": "DNMT3A c.2578T>C",
         "type": "scatter",
         "x": [
          1,
          2
         ],
         "y": [
          0.0256,
          0.0421
         ]
        }
       ],
       "layout": {
        "template": {
         "data": {
          "bar": [
           {
            "error_x": {
             "color": "#2a3f5f"
            },
            "error_y": {
             "color": "#2a3f5f"
            },
            "marker": {
             "line": {
              "color": "#E5ECF6",
              "width": 0.5
             }
            },
            "type": "bar"
           }
          ],
          "barpolar": [
           {
            "marker": {
             "line": {
              "color": "#E5ECF6",
              "width": 0.5
             }
            },
            "type": "barpolar"
           }
          ],
          "carpet": [
           {
            "aaxis": {
             "endlinecolor": "#2a3f5f",
             "gridcolor": "white",
             "linecolor": "white",
             "minorgridcolor": "white",
             "startlinecolor": "#2a3f5f"
            },
            "baxis": {
             "endlinecolor": "#2a3f5f",
             "gridcolor": "white",
             "linecolor": "white",
             "minorgridcolor": "white",
             "startlinecolor": "#2a3f5f"
            },
            "type": "carpet"
           }
          ],
          "choropleth": [
           {
            "colorbar": {
             "outlinewidth": 0,
             "ticks": ""
            },
            "type": "choropleth"
           }
          ],
          "contour": [
           {
            "colorbar": {
             "outlinewidth": 0,
             "ticks": ""
            },
            "colorscale": [
             [
              0,
              "#0d0887"
             ],
             [
              0.1111111111111111,
              "#46039f"
             ],
             [
              0.2222222222222222,
              "#7201a8"
             ],
             [
              0.3333333333333333,
              "#9c179e"
             ],
             [
              0.4444444444444444,
              "#bd3786"
             ],
             [
              0.5555555555555556,
              "#d8576b"
             ],
             [
              0.6666666666666666,
              "#ed7953"
             ],
             [
              0.7777777777777778,
              "#fb9f3a"
             ],
             [
              0.8888888888888888,
              "#fdca26"
             ],
             [
              1,
              "#f0f921"
             ]
            ],
            "type": "contour"
           }
          ],
          "contourcarpet": [
           {
            "colorbar": {
             "outlinewidth": 0,
             "ticks": ""
            },
            "type": "contourcarpet"
           }
          ],
          "heatmap": [
           {
            "colorbar": {
             "outlinewidth": 0,
             "ticks": ""
            },
            "colorscale": [
             [
              0,
              "#0d0887"
             ],
             [
              0.1111111111111111,
              "#46039f"
             ],
             [
              0.2222222222222222,
              "#7201a8"
             ],
             [
              0.3333333333333333,
              "#9c179e"
             ],
             [
              0.4444444444444444,
              "#bd3786"
             ],
             [
              0.5555555555555556,
              "#d8576b"
             ],
             [
              0.6666666666666666,
              "#ed7953"
             ],
             [
              0.7777777777777778,
              "#fb9f3a"
             ],
             [
              0.8888888888888888,
              "#fdca26"
             ],
             [
              1,
              "#f0f921"
             ]
            ],
            "type": "heatmap"
           }
          ],
          "heatmapgl": [
           {
            "colorbar": {
             "outlinewidth": 0,
             "ticks": ""
            },
            "colorscale": [
             [
              0,
              "#0d0887"
             ],
             [
              0.1111111111111111,
              "#46039f"
             ],
             [
              0.2222222222222222,
              "#7201a8"
             ],
             [
              0.3333333333333333,
              "#9c179e"
             ],
             [
              0.4444444444444444,
              "#bd3786"
             ],
             [
              0.5555555555555556,
              "#d8576b"
             ],
             [
              0.6666666666666666,
              "#ed7953"
             ],
             [
              0.7777777777777778,
              "#fb9f3a"
             ],
             [
              0.8888888888888888,
              "#fdca26"
             ],
             [
              1,
              "#f0f921"
             ]
            ],
            "type": "heatmapgl"
           }
          ],
          "histogram": [
           {
            "marker": {
             "colorbar": {
              "outlinewidth": 0,
              "ticks": ""
             }
            },
            "type": "histogram"
           }
          ],
          "histogram2d": [
           {
            "colorbar": {
             "outlinewidth": 0,
             "ticks": ""
            },
            "colorscale": [
             [
              0,
              "#0d0887"
             ],
             [
              0.1111111111111111,
              "#46039f"
             ],
             [
              0.2222222222222222,
              "#7201a8"
             ],
             [
              0.3333333333333333,
              "#9c179e"
             ],
             [
              0.4444444444444444,
              "#bd3786"
             ],
             [
              0.5555555555555556,
              "#d8576b"
             ],
             [
              0.6666666666666666,
              "#ed7953"
             ],
             [
              0.7777777777777778,
              "#fb9f3a"
             ],
             [
              0.8888888888888888,
              "#fdca26"
             ],
             [
              1,
              "#f0f921"
             ]
            ],
            "type": "histogram2d"
           }
          ],
          "histogram2dcontour": [
           {
            "colorbar": {
             "outlinewidth": 0,
             "ticks": ""
            },
            "colorscale": [
             [
              0,
              "#0d0887"
             ],
             [
              0.1111111111111111,
              "#46039f"
             ],
             [
              0.2222222222222222,
              "#7201a8"
             ],
             [
              0.3333333333333333,
              "#9c179e"
             ],
             [
              0.4444444444444444,
              "#bd3786"
             ],
             [
              0.5555555555555556,
              "#d8576b"
             ],
             [
              0.6666666666666666,
              "#ed7953"
             ],
             [
              0.7777777777777778,
              "#fb9f3a"
             ],
             [
              0.8888888888888888,
              "#fdca26"
             ],
             [
              1,
              "#f0f921"
             ]
            ],
            "type": "histogram2dcontour"
           }
          ],
          "mesh3d": [
           {
            "colorbar": {
             "outlinewidth": 0,
             "ticks": ""
            },
            "type": "mesh3d"
           }
          ],
          "parcoords": [
           {
            "line": {
             "colorbar": {
              "outlinewidth": 0,
              "ticks": ""
             }
            },
            "type": "parcoords"
           }
          ],
          "pie": [
           {
            "automargin": true,
            "type": "pie"
           }
          ],
          "scatter": [
           {
            "marker": {
             "colorbar": {
              "outlinewidth": 0,
              "ticks": ""
             }
            },
            "type": "scatter"
           }
          ],
          "scatter3d": [
           {
            "line": {
             "colorbar": {
              "outlinewidth": 0,
              "ticks": ""
             }
            },
            "marker": {
             "colorbar": {
              "outlinewidth": 0,
              "ticks": ""
             }
            },
            "type": "scatter3d"
           }
          ],
          "scattercarpet": [
           {
            "marker": {
             "colorbar": {
              "outlinewidth": 0,
              "ticks": ""
             }
            },
            "type": "scattercarpet"
           }
          ],
          "scattergeo": [
           {
            "marker": {
             "colorbar": {
              "outlinewidth": 0,
              "ticks": ""
             }
            },
            "type": "scattergeo"
           }
          ],
          "scattergl": [
           {
            "marker": {
             "colorbar": {
              "outlinewidth": 0,
              "ticks": ""
             }
            },
            "type": "scattergl"
           }
          ],
          "scattermapbox": [
           {
            "marker": {
             "colorbar": {
              "outlinewidth": 0,
              "ticks": ""
             }
            },
            "type": "scattermapbox"
           }
          ],
          "scatterpolar": [
           {
            "marker": {
             "colorbar": {
              "outlinewidth": 0,
              "ticks": ""
             }
            },
            "type": "scatterpolar"
           }
          ],
          "scatterpolargl": [
           {
            "marker": {
             "colorbar": {
              "outlinewidth": 0,
              "ticks": ""
             }
            },
            "type": "scatterpolargl"
           }
          ],
          "scatterternary": [
           {
            "marker": {
             "colorbar": {
              "outlinewidth": 0,
              "ticks": ""
             }
            },
            "type": "scatterternary"
           }
          ],
          "surface": [
           {
            "colorbar": {
             "outlinewidth": 0,
             "ticks": ""
            },
            "colorscale": [
             [
              0,
              "#0d0887"
             ],
             [
              0.1111111111111111,
              "#46039f"
             ],
             [
              0.2222222222222222,
              "#7201a8"
             ],
             [
              0.3333333333333333,
              "#9c179e"
             ],
             [
              0.4444444444444444,
              "#bd3786"
             ],
             [
              0.5555555555555556,
              "#d8576b"
             ],
             [
              0.6666666666666666,
              "#ed7953"
             ],
             [
              0.7777777777777778,
              "#fb9f3a"
             ],
             [
              0.8888888888888888,
              "#fdca26"
             ],
             [
              1,
              "#f0f921"
             ]
            ],
            "type": "surface"
           }
          ],
          "table": [
           {
            "cells": {
             "fill": {
              "color": "#EBF0F8"
             },
             "line": {
              "color": "white"
             }
            },
            "header": {
             "fill": {
              "color": "#C8D4E3"
             },
             "line": {
              "color": "white"
             }
            },
            "type": "table"
           }
          ]
         },
         "layout": {
          "annotationdefaults": {
           "arrowcolor": "#2a3f5f",
           "arrowhead": 0,
           "arrowwidth": 1
          },
          "coloraxis": {
           "colorbar": {
            "outlinewidth": 0,
            "ticks": ""
           }
          },
          "colorscale": {
           "diverging": [
            [
             0,
             "#8e0152"
            ],
            [
             0.1,
             "#c51b7d"
            ],
            [
             0.2,
             "#de77ae"
            ],
            [
             0.3,
             "#f1b6da"
            ],
            [
             0.4,
             "#fde0ef"
            ],
            [
             0.5,
             "#f7f7f7"
            ],
            [
             0.6,
             "#e6f5d0"
            ],
            [
             0.7,
             "#b8e186"
            ],
            [
             0.8,
             "#7fbc41"
            ],
            [
             0.9,
             "#4d9221"
            ],
            [
             1,
             "#276419"
            ]
           ],
           "sequential": [
            [
             0,
             "#0d0887"
            ],
            [
             0.1111111111111111,
             "#46039f"
            ],
            [
             0.2222222222222222,
             "#7201a8"
            ],
            [
             0.3333333333333333,
             "#9c179e"
            ],
            [
             0.4444444444444444,
             "#bd3786"
            ],
            [
             0.5555555555555556,
             "#d8576b"
            ],
            [
             0.6666666666666666,
             "#ed7953"
            ],
            [
             0.7777777777777778,
             "#fb9f3a"
            ],
            [
             0.8888888888888888,
             "#fdca26"
            ],
            [
             1,
             "#f0f921"
            ]
           ],
           "sequentialminus": [
            [
             0,
             "#0d0887"
            ],
            [
             0.1111111111111111,
             "#46039f"
            ],
            [
             0.2222222222222222,
             "#7201a8"
            ],
            [
             0.3333333333333333,
             "#9c179e"
            ],
            [
             0.4444444444444444,
             "#bd3786"
            ],
            [
             0.5555555555555556,
             "#d8576b"
            ],
            [
             0.6666666666666666,
             "#ed7953"
            ],
            [
             0.7777777777777778,
             "#fb9f3a"
            ],
            [
             0.8888888888888888,
             "#fdca26"
            ],
            [
             1,
             "#f0f921"
            ]
           ]
          },
          "colorway": [
           "#636efa",
           "#EF553B",
           "#00cc96",
           "#ab63fa",
           "#FFA15A",
           "#19d3f3",
           "#FF6692",
           "#B6E880",
           "#FF97FF",
           "#FECB52"
          ],
          "font": {
           "color": "#2a3f5f"
          },
          "geo": {
           "bgcolor": "white",
           "lakecolor": "white",
           "landcolor": "#E5ECF6",
           "showlakes": true,
           "showland": true,
           "subunitcolor": "white"
          },
          "hoverlabel": {
           "align": "left"
          },
          "hovermode": "closest",
          "mapbox": {
           "style": "light"
          },
          "paper_bgcolor": "white",
          "plot_bgcolor": "#E5ECF6",
          "polar": {
           "angularaxis": {
            "gridcolor": "white",
            "linecolor": "white",
            "ticks": ""
           },
           "bgcolor": "#E5ECF6",
           "radialaxis": {
            "gridcolor": "white",
            "linecolor": "white",
            "ticks": ""
           }
          },
          "scene": {
           "xaxis": {
            "backgroundcolor": "#E5ECF6",
            "gridcolor": "white",
            "gridwidth": 2,
            "linecolor": "white",
            "showbackground": true,
            "ticks": "",
            "zerolinecolor": "white"
           },
           "yaxis": {
            "backgroundcolor": "#E5ECF6",
            "gridcolor": "white",
            "gridwidth": 2,
            "linecolor": "white",
            "showbackground": true,
            "ticks": "",
            "zerolinecolor": "white"
           },
           "zaxis": {
            "backgroundcolor": "#E5ECF6",
            "gridcolor": "white",
            "gridwidth": 2,
            "linecolor": "white",
            "showbackground": true,
            "ticks": "",
            "zerolinecolor": "white"
           }
          },
          "shapedefaults": {
           "line": {
            "color": "#2a3f5f"
           }
          },
          "ternary": {
           "aaxis": {
            "gridcolor": "white",
            "linecolor": "white",
            "ticks": ""
           },
           "baxis": {
            "gridcolor": "white",
            "linecolor": "white",
            "ticks": ""
           },
           "bgcolor": "#E5ECF6",
           "caxis": {
            "gridcolor": "white",
            "linecolor": "white",
            "ticks": ""
           }
          },
          "title": {
           "x": 0.05
          },
          "xaxis": {
           "automargin": true,
           "gridcolor": "white",
           "linecolor": "white",
           "ticks": "",
           "title": {
            "standoff": 15
           },
           "zerolinecolor": "white",
           "zerolinewidth": 2
          },
          "yaxis": {
           "automargin": true,
           "gridcolor": "white",
           "linecolor": "white",
           "ticks": "",
           "title": {
            "standoff": 15
           },
           "zerolinecolor": "white",
           "zerolinewidth": 2
          }
         }
        },
        "title": {
         "text": "Trajectories containing mutation DNMT3A"
        },
        "xaxis": {
         "title": {
          "text": "Wave"
         }
        },
        "yaxis": {
         "title": {
          "text": "AF"
         }
        }
       }
      }
     },
     "metadata": {}
    }
   ],
   "source": [
    "genename = 'DNMT3A'\n",
    "quantile = 0.9\n",
    "fig = mutation_plot2(lbc,genename,np.quantile(total_grad, quantile))\n",
    "fig.write_image(\"LBC_ARCHER/plots/trajectories\" + genename + \"p\" + str(int(100*quantile)) + \".pdf\", width=500, height=350, scale=1)\n",
    "fig.show()"
   ]
  },
  {
   "cell_type": "markdown",
   "metadata": {},
   "source": [
    "Then we can compute the mean $\\lambda r s$ over all these TET2 mutations. \n",
    "\n",
    "This process could be improved by choosing all TET2 non-synonymous mutations."
   ]
  },
  {
   "cell_type": "code",
   "execution_count": 15,
   "metadata": {
    "scrolled": true
   },
   "outputs": [
    {
     "output_type": "execute_result",
     "data": {
      "text/plain": "0.22879248593556634"
     },
     "metadata": {},
     "execution_count": 15
    }
   ],
   "source": [
    "all_mut_rgrad=[]\n",
    "all_mut_VAF=[]\n",
    "quantile = 0.9\n",
    "outlier_filter = [0.10,0.90]\n",
    "for part in lbc:\n",
    "    for traj in part.trajectories:\n",
    "        if genename in traj.mutation.split():\n",
    "            if traj.gradient> np.quantile(total_grad, quantile):\n",
    "                all_mut_rgrad.append((traj.data.gradient/traj.data.AF).tolist())\n",
    "                all_mut_VAF.append((traj.data.AF).tolist())\n",
    "                \n",
    "#flatten mut_list\n",
    "all_mut_rgrad = [i for b in map(lambda x:[x] if not isinstance(x, list) else x, all_mut_rgrad) for i in b]\n",
    "all_mut_VAF = [i for b in map(lambda x:[x] if not isinstance(x, list) else x, all_mut_VAF) for i in b]\n",
    "\n",
    "#Filter outliers from the list\n",
    "all_mut_VAF =[item for index,item in enumerate(all_mut_VAF) if all_mut_rgrad[index] > np.nanquantile(all_mut_rgrad,outlier_filter[0]) and all_mut_rgrad[index] < np.nanquantile(all_mut_rgrad,outlier_filter[1])]\n",
    "all_mut_rgrad=[item for item in all_mut_rgrad if item > np.nanquantile(all_mut_rgrad,outlier_filter[0]) and item < np.nanquantile(all_mut_rgrad,outlier_filter[1])]\n",
    "\n",
    "# compute the mean\n",
    "mut_mean=np.mean(all_mut_rgrad)\n",
    "mut_mean"
   ]
  },
  {
   "cell_type": "markdown",
   "metadata": {},
   "source": [
    "Calculate the relative gradient for all mutations labelled as DRIVER"
   ]
  },
  {
   "cell_type": "code",
   "execution_count": 16,
   "metadata": {},
   "outputs": [
    {
     "output_type": "execute_result",
     "data": {
      "text/plain": "0.29319101724900337"
     },
     "metadata": {},
     "execution_count": 16
    }
   ],
   "source": [
    "all_mut_driver_rgrad=[]\n",
    "all_mut_driver_VAF=[]\n",
    "outlier_filter = [0.10,0.90]\n",
    "for part in lbc:\n",
    "    for traj in part.trajectories:\n",
    "        if genename in traj.mutation.split():\n",
    "            if traj.driver==True:\n",
    "                all_mut_driver_rgrad.append((traj.data.gradient/traj.data.AF).tolist())\n",
    "                all_mut_driver_VAF.append((traj.data.AF).tolist())\n",
    "                \n",
    "#flatten mut_list\n",
    "all_mut_driver_rgrad = [i for b in map(lambda x:[x] if not isinstance(x, list) else x, all_mut_driver_rgrad) for i in b]\n",
    "all_mut_driver_VAF = [i for b in map(lambda x:[x] if not isinstance(x, list) else x, all_mut_driver_VAF) for i in b]\n",
    "\n",
    "#Filter outliers from the list\n",
    "all_mut_driver_VAF =[item for index,item in enumerate(all_mut_driver_VAF) if all_mut_driver_rgrad[index] > np.nanquantile(all_mut_driver_rgrad,outlier_filter[0]) and all_mut_driver_rgrad[index] < np.nanquantile(all_mut_driver_rgrad,outlier_filter[1])]\n",
    "all_mut_driver_rgrad=[item for item in all_mut_driver_rgrad if item > np.nanquantile(all_mut_driver_rgrad,outlier_filter[0]) and item < np.nanquantile(all_mut_driver_rgrad,outlier_filter[1])]\n",
    "\n",
    "# compute the mean\n",
    "mut_driver_mean=np.mean(all_mut_driver_rgrad)\n",
    "mut_driver_mean"
   ]
  },
  {
   "cell_type": "markdown",
   "metadata": {},
   "source": [
    "We can similarly compute the relative gradients for all mutations NOT labelled as driver."
   ]
  },
  {
   "cell_type": "code",
   "execution_count": 17,
   "metadata": {},
   "outputs": [
    {
     "output_type": "execute_result",
     "data": {
      "text/plain": "0.09018134783366247"
     },
     "metadata": {},
     "execution_count": 17
    }
   ],
   "source": [
    "all_mut_nondriver_rgrad=[]\n",
    "all_mut_nondriver_VAF=[]\n",
    "outlier_filter = [0.10,0.90]\n",
    "for part in lbc:\n",
    "    for traj in part.trajectories:\n",
    "        if genename in traj.mutation.split():\n",
    "            if traj.driver==False:\n",
    "                all_mut_nondriver_rgrad.append((traj.data.gradient/traj.data.AF).tolist())\n",
    "                all_mut_nondriver_VAF.append((traj.data.AF).tolist())\n",
    "                \n",
    "#flatten mut_list\n",
    "all_mut_nondriver_rgrad = [i for b in map(lambda x:[x] if not isinstance(x, list) else x, all_mut_nondriver_rgrad) for i in b]\n",
    "all_mut_nondriver_VAF = [i for b in map(lambda x:[x] if not isinstance(x, list) else x, all_mut_nondriver_VAF) for i in b]\n",
    "\n",
    "#Filter outliers from the list\n",
    "all_mut_nondriver_VAF =[item for index,item in enumerate(all_mut_nondriver_VAF) if all_mut_nondriver_rgrad[index] > np.nanquantile(all_mut_nondriver_rgrad,outlier_filter[0]) and all_mut_nondriver_rgrad[index] < np.nanquantile(all_mut_nondriver_rgrad,outlier_filter[1])]\n",
    "all_mut_nondriver_rgrad=[item for item in all_mut_nondriver_rgrad if item > np.nanquantile(all_mut_nondriver_rgrad,outlier_filter[0]) and item < np.nanquantile(all_mut_nondriver_rgrad,outlier_filter[1])]\n",
    "\n",
    "# compute the mean\n",
    "mut_nondriver_mean=np.mean(all_mut_nondriver_rgrad)\n",
    "mut_nondriver_mean"
   ]
  },
  {
   "cell_type": "markdown",
   "metadata": {},
   "source": [
    "We can see that this mean is not too far from the one evaluated in the previous example."
   ]
  },
  {
   "cell_type": "code",
   "execution_count": 18,
   "metadata": {},
   "outputs": [
    {
     "output_type": "display_data",
     "data": {
      "application/vnd.plotly.v1+json": {
       "config": {
        "plotlyServerURL": "https://plot.ly"
       },
       "data": [
        {
         "mode": "markers",
         "type": "scatter",
         "x": [
          0.0646,
          0.0862,
          0.1097,
          0.1015,
          0.134,
          0.143,
          0.1588,
          0.4328,
          0.0924,
          0.15,
          0.1888,
          0.2581,
          0.2741,
          0.3467,
          0.3837,
          0.149,
          0.2133,
          0.28,
          0.1032,
          0.1262,
          0.1743,
          0.1945,
          0.3469,
          0.0421
         ],
         "y": [
          0.16718266253869962,
          0.1989559164733179,
          0.2142206016408387,
          0.32019704433497537,
          0.15485074626865664,
          0.08671328671328668,
          0.09949622166246858,
          0.4722735674676525,
          0.30898268398268397,
          0.326,
          0.286281779661017,
          0.2685005811700891,
          0.09303174024078802,
          0.1580617248341505,
          0.09642950221527229,
          0.43154362416107384,
          0.3070792311298641,
          0.23821428571428582,
          0.22286821705426363,
          0.28169572107765456,
          0.1959265633964429,
          0.10385604113110537,
          0.066733929086192,
          0.3919239904988123
         ]
        }
       ],
       "layout": {
        "template": {
         "data": {
          "bar": [
           {
            "error_x": {
             "color": "#2a3f5f"
            },
            "error_y": {
             "color": "#2a3f5f"
            },
            "marker": {
             "line": {
              "color": "#E5ECF6",
              "width": 0.5
             }
            },
            "type": "bar"
           }
          ],
          "barpolar": [
           {
            "marker": {
             "line": {
              "color": "#E5ECF6",
              "width": 0.5
             }
            },
            "type": "barpolar"
           }
          ],
          "carpet": [
           {
            "aaxis": {
             "endlinecolor": "#2a3f5f",
             "gridcolor": "white",
             "linecolor": "white",
             "minorgridcolor": "white",
             "startlinecolor": "#2a3f5f"
            },
            "baxis": {
             "endlinecolor": "#2a3f5f",
             "gridcolor": "white",
             "linecolor": "white",
             "minorgridcolor": "white",
             "startlinecolor": "#2a3f5f"
            },
            "type": "carpet"
           }
          ],
          "choropleth": [
           {
            "colorbar": {
             "outlinewidth": 0,
             "ticks": ""
            },
            "type": "choropleth"
           }
          ],
          "contour": [
           {
            "colorbar": {
             "outlinewidth": 0,
             "ticks": ""
            },
            "colorscale": [
             [
              0,
              "#0d0887"
             ],
             [
              0.1111111111111111,
              "#46039f"
             ],
             [
              0.2222222222222222,
              "#7201a8"
             ],
             [
              0.3333333333333333,
              "#9c179e"
             ],
             [
              0.4444444444444444,
              "#bd3786"
             ],
             [
              0.5555555555555556,
              "#d8576b"
             ],
             [
              0.6666666666666666,
              "#ed7953"
             ],
             [
              0.7777777777777778,
              "#fb9f3a"
             ],
             [
              0.8888888888888888,
              "#fdca26"
             ],
             [
              1,
              "#f0f921"
             ]
            ],
            "type": "contour"
           }
          ],
          "contourcarpet": [
           {
            "colorbar": {
             "outlinewidth": 0,
             "ticks": ""
            },
            "type": "contourcarpet"
           }
          ],
          "heatmap": [
           {
            "colorbar": {
             "outlinewidth": 0,
             "ticks": ""
            },
            "colorscale": [
             [
              0,
              "#0d0887"
             ],
             [
              0.1111111111111111,
              "#46039f"
             ],
             [
              0.2222222222222222,
              "#7201a8"
             ],
             [
              0.3333333333333333,
              "#9c179e"
             ],
             [
              0.4444444444444444,
              "#bd3786"
             ],
             [
              0.5555555555555556,
              "#d8576b"
             ],
             [
              0.6666666666666666,
              "#ed7953"
             ],
             [
              0.7777777777777778,
              "#fb9f3a"
             ],
             [
              0.8888888888888888,
              "#fdca26"
             ],
             [
              1,
              "#f0f921"
             ]
            ],
            "type": "heatmap"
           }
          ],
          "heatmapgl": [
           {
            "colorbar": {
             "outlinewidth": 0,
             "ticks": ""
            },
            "colorscale": [
             [
              0,
              "#0d0887"
             ],
             [
              0.1111111111111111,
              "#46039f"
             ],
             [
              0.2222222222222222,
              "#7201a8"
             ],
             [
              0.3333333333333333,
              "#9c179e"
             ],
             [
              0.4444444444444444,
              "#bd3786"
             ],
             [
              0.5555555555555556,
              "#d8576b"
             ],
             [
              0.6666666666666666,
              "#ed7953"
             ],
             [
              0.7777777777777778,
              "#fb9f3a"
             ],
             [
              0.8888888888888888,
              "#fdca26"
             ],
             [
              1,
              "#f0f921"
             ]
            ],
            "type": "heatmapgl"
           }
          ],
          "histogram": [
           {
            "marker": {
             "colorbar": {
              "outlinewidth": 0,
              "ticks": ""
             }
            },
            "type": "histogram"
           }
          ],
          "histogram2d": [
           {
            "colorbar": {
             "outlinewidth": 0,
             "ticks": ""
            },
            "colorscale": [
             [
              0,
              "#0d0887"
             ],
             [
              0.1111111111111111,
              "#46039f"
             ],
             [
              0.2222222222222222,
              "#7201a8"
             ],
             [
              0.3333333333333333,
              "#9c179e"
             ],
             [
              0.4444444444444444,
              "#bd3786"
             ],
             [
              0.5555555555555556,
              "#d8576b"
             ],
             [
              0.6666666666666666,
              "#ed7953"
             ],
             [
              0.7777777777777778,
              "#fb9f3a"
             ],
             [
              0.8888888888888888,
              "#fdca26"
             ],
             [
              1,
              "#f0f921"
             ]
            ],
            "type": "histogram2d"
           }
          ],
          "histogram2dcontour": [
           {
            "colorbar": {
             "outlinewidth": 0,
             "ticks": ""
            },
            "colorscale": [
             [
              0,
              "#0d0887"
             ],
             [
              0.1111111111111111,
              "#46039f"
             ],
             [
              0.2222222222222222,
              "#7201a8"
             ],
             [
              0.3333333333333333,
              "#9c179e"
             ],
             [
              0.4444444444444444,
              "#bd3786"
             ],
             [
              0.5555555555555556,
              "#d8576b"
             ],
             [
              0.6666666666666666,
              "#ed7953"
             ],
             [
              0.7777777777777778,
              "#fb9f3a"
             ],
             [
              0.8888888888888888,
              "#fdca26"
             ],
             [
              1,
              "#f0f921"
             ]
            ],
            "type": "histogram2dcontour"
           }
          ],
          "mesh3d": [
           {
            "colorbar": {
             "outlinewidth": 0,
             "ticks": ""
            },
            "type": "mesh3d"
           }
          ],
          "parcoords": [
           {
            "line": {
             "colorbar": {
              "outlinewidth": 0,
              "ticks": ""
             }
            },
            "type": "parcoords"
           }
          ],
          "pie": [
           {
            "automargin": true,
            "type": "pie"
           }
          ],
          "scatter": [
           {
            "marker": {
             "colorbar": {
              "outlinewidth": 0,
              "ticks": ""
             }
            },
            "type": "scatter"
           }
          ],
          "scatter3d": [
           {
            "line": {
             "colorbar": {
              "outlinewidth": 0,
              "ticks": ""
             }
            },
            "marker": {
             "colorbar": {
              "outlinewidth": 0,
              "ticks": ""
             }
            },
            "type": "scatter3d"
           }
          ],
          "scattercarpet": [
           {
            "marker": {
             "colorbar": {
              "outlinewidth": 0,
              "ticks": ""
             }
            },
            "type": "scattercarpet"
           }
          ],
          "scattergeo": [
           {
            "marker": {
             "colorbar": {
              "outlinewidth": 0,
              "ticks": ""
             }
            },
            "type": "scattergeo"
           }
          ],
          "scattergl": [
           {
            "marker": {
             "colorbar": {
              "outlinewidth": 0,
              "ticks": ""
             }
            },
            "type": "scattergl"
           }
          ],
          "scattermapbox": [
           {
            "marker": {
             "colorbar": {
              "outlinewidth": 0,
              "ticks": ""
             }
            },
            "type": "scattermapbox"
           }
          ],
          "scatterpolar": [
           {
            "marker": {
             "colorbar": {
              "outlinewidth": 0,
              "ticks": ""
             }
            },
            "type": "scatterpolar"
           }
          ],
          "scatterpolargl": [
           {
            "marker": {
             "colorbar": {
              "outlinewidth": 0,
              "ticks": ""
             }
            },
            "type": "scatterpolargl"
           }
          ],
          "scatterternary": [
           {
            "marker": {
             "colorbar": {
              "outlinewidth": 0,
              "ticks": ""
             }
            },
            "type": "scatterternary"
           }
          ],
          "surface": [
           {
            "colorbar": {
             "outlinewidth": 0,
             "ticks": ""
            },
            "colorscale": [
             [
              0,
              "#0d0887"
             ],
             [
              0.1111111111111111,
              "#46039f"
             ],
             [
              0.2222222222222222,
              "#7201a8"
             ],
             [
              0.3333333333333333,
              "#9c179e"
             ],
             [
              0.4444444444444444,
              "#bd3786"
             ],
             [
              0.5555555555555556,
              "#d8576b"
             ],
             [
              0.6666666666666666,
              "#ed7953"
             ],
             [
              0.7777777777777778,
              "#fb9f3a"
             ],
             [
              0.8888888888888888,
              "#fdca26"
             ],
             [
              1,
              "#f0f921"
             ]
            ],
            "type": "surface"
           }
          ],
          "table": [
           {
            "cells": {
             "fill": {
              "color": "#EBF0F8"
             },
             "line": {
              "color": "white"
             }
            },
            "header": {
             "fill": {
              "color": "#C8D4E3"
             },
             "line": {
              "color": "white"
             }
            },
            "type": "table"
           }
          ]
         },
         "layout": {
          "annotationdefaults": {
           "arrowcolor": "#2a3f5f",
           "arrowhead": 0,
           "arrowwidth": 1
          },
          "coloraxis": {
           "colorbar": {
            "outlinewidth": 0,
            "ticks": ""
           }
          },
          "colorscale": {
           "diverging": [
            [
             0,
             "#8e0152"
            ],
            [
             0.1,
             "#c51b7d"
            ],
            [
             0.2,
             "#de77ae"
            ],
            [
             0.3,
             "#f1b6da"
            ],
            [
             0.4,
             "#fde0ef"
            ],
            [
             0.5,
             "#f7f7f7"
            ],
            [
             0.6,
             "#e6f5d0"
            ],
            [
             0.7,
             "#b8e186"
            ],
            [
             0.8,
             "#7fbc41"
            ],
            [
             0.9,
             "#4d9221"
            ],
            [
             1,
             "#276419"
            ]
           ],
           "sequential": [
            [
             0,
             "#0d0887"
            ],
            [
             0.1111111111111111,
             "#46039f"
            ],
            [
             0.2222222222222222,
             "#7201a8"
            ],
            [
             0.3333333333333333,
             "#9c179e"
            ],
            [
             0.4444444444444444,
             "#bd3786"
            ],
            [
             0.5555555555555556,
             "#d8576b"
            ],
            [
             0.6666666666666666,
             "#ed7953"
            ],
            [
             0.7777777777777778,
             "#fb9f3a"
            ],
            [
             0.8888888888888888,
             "#fdca26"
            ],
            [
             1,
             "#f0f921"
            ]
           ],
           "sequentialminus": [
            [
             0,
             "#0d0887"
            ],
            [
             0.1111111111111111,
             "#46039f"
            ],
            [
             0.2222222222222222,
             "#7201a8"
            ],
            [
             0.3333333333333333,
             "#9c179e"
            ],
            [
             0.4444444444444444,
             "#bd3786"
            ],
            [
             0.5555555555555556,
             "#d8576b"
            ],
            [
             0.6666666666666666,
             "#ed7953"
            ],
            [
             0.7777777777777778,
             "#fb9f3a"
            ],
            [
             0.8888888888888888,
             "#fdca26"
            ],
            [
             1,
             "#f0f921"
            ]
           ]
          },
          "colorway": [
           "#636efa",
           "#EF553B",
           "#00cc96",
           "#ab63fa",
           "#FFA15A",
           "#19d3f3",
           "#FF6692",
           "#B6E880",
           "#FF97FF",
           "#FECB52"
          ],
          "font": {
           "color": "#2a3f5f"
          },
          "geo": {
           "bgcolor": "white",
           "lakecolor": "white",
           "landcolor": "#E5ECF6",
           "showlakes": true,
           "showland": true,
           "subunitcolor": "white"
          },
          "hoverlabel": {
           "align": "left"
          },
          "hovermode": "closest",
          "mapbox": {
           "style": "light"
          },
          "paper_bgcolor": "white",
          "plot_bgcolor": "#E5ECF6",
          "polar": {
           "angularaxis": {
            "gridcolor": "white",
            "linecolor": "white",
            "ticks": ""
           },
           "bgcolor": "#E5ECF6",
           "radialaxis": {
            "gridcolor": "white",
            "linecolor": "white",
            "ticks": ""
           }
          },
          "scene": {
           "xaxis": {
            "backgroundcolor": "#E5ECF6",
            "gridcolor": "white",
            "gridwidth": 2,
            "linecolor": "white",
            "showbackground": true,
            "ticks": "",
            "zerolinecolor": "white"
           },
           "yaxis": {
            "backgroundcolor": "#E5ECF6",
            "gridcolor": "white",
            "gridwidth": 2,
            "linecolor": "white",
            "showbackground": true,
            "ticks": "",
            "zerolinecolor": "white"
           },
           "zaxis": {
            "backgroundcolor": "#E5ECF6",
            "gridcolor": "white",
            "gridwidth": 2,
            "linecolor": "white",
            "showbackground": true,
            "ticks": "",
            "zerolinecolor": "white"
           }
          },
          "shapedefaults": {
           "line": {
            "color": "#2a3f5f"
           }
          },
          "ternary": {
           "aaxis": {
            "gridcolor": "white",
            "linecolor": "white",
            "ticks": ""
           },
           "baxis": {
            "gridcolor": "white",
            "linecolor": "white",
            "ticks": ""
           },
           "bgcolor": "#E5ECF6",
           "caxis": {
            "gridcolor": "white",
            "linecolor": "white",
            "ticks": ""
           }
          },
          "title": {
           "x": 0.05
          },
          "xaxis": {
           "automargin": true,
           "gridcolor": "white",
           "linecolor": "white",
           "ticks": "",
           "title": {
            "standoff": 15
           },
           "zerolinecolor": "white",
           "zerolinewidth": 2
          },
          "yaxis": {
           "automargin": true,
           "gridcolor": "white",
           "linecolor": "white",
           "ticks": "",
           "title": {
            "standoff": 15
           },
           "zerolinecolor": "white",
           "zerolinewidth": 2
          }
         }
        },
        "title": {
         "text": "Saturation of fitness advantage for DNMT3A"
        },
        "xaxis": {
         "title": {
          "text": "VAF"
         }
        },
        "yaxis": {
         "title": {
          "text": "λrs"
         }
        }
       }
      }
     },
     "metadata": {}
    }
   ],
   "source": [
    "# make a scatter plot of relative gradient vs VAF to show saturation (=slowing of growth) near VAF=0.5\n",
    "fig = go.Figure(go.Scatter(x=all_mut_VAF, y=all_mut_rgrad, mode='markers'))\n",
    "fig.update_layout(title = f'Saturation of fitness advantage for '+genename,  xaxis_title='VAF',\n",
    "                        yaxis_title='λrs')\n",
    "fig.write_image(\"LBC_ARCHER/plots/saturation\" + genename + \"p\" + str(int(100*quantile)) + \".pdf\", width=400, height=350, scale=1)\n",
    "\n",
    "fig.show()"
   ]
  },
  {
   "cell_type": "code",
   "execution_count": 19,
   "metadata": {},
   "outputs": [
    {
     "output_type": "display_data",
     "data": {
      "application/vnd.plotly.v1+json": {
       "config": {
        "plotlyServerURL": "https://plot.ly"
       },
       "data": [
        {
         "mode": "markers",
         "type": "scatter",
         "x": [
          0.1736,
          0.2634,
          0.3175,
          0.3307,
          0.0646,
          0.0862,
          0.1097,
          0.1575,
          0.3195,
          0.3544,
          0.4849,
          0.5113,
          0.5139,
          0.3953,
          0.4972,
          0.5194,
          0.4909,
          0.3895,
          0.4978,
          0.5149,
          0.4892,
          0.3882,
          0.5192,
          0.5087,
          0.5009,
          0.1015,
          0.134,
          0.143,
          0.1588,
          0.3952,
          0.5085,
          0.5145,
          0.5145,
          0.3956,
          0.5046,
          0.4892,
          0.5088,
          0.3756,
          0.4706,
          0.484,
          0.3324,
          0.3587,
          0.3724,
          0.0315,
          0.0583,
          0.0446,
          0.0654,
          0.0784,
          0.1077,
          0.11,
          0.1369,
          0.4132,
          0.4346,
          0.1189,
          0.1438,
          0.1541,
          0.2096,
          0.2576,
          0.292,
          0.158,
          0.1932,
          0.2107,
          0.1061,
          0.107,
          0.1589,
          0.2135,
          0.4328,
          0.0463,
          0.0737,
          0.159,
          0.3183,
          0.1272,
          0.2172,
          0.0353,
          0.0924,
          0.0316,
          0.0349,
          0.0573,
          0.1301,
          0.2016,
          0.266,
          0.1663,
          0.1953,
          0.507,
          0.5006,
          0.5261,
          0.0297,
          0.041,
          0.091,
          0.15,
          0.1888,
          0.2581,
          0.4625,
          0.487,
          0.4933,
          0.4968,
          0.2741,
          0.3467,
          0.3837,
          0.4841,
          0.5172,
          0.5028,
          0.5272,
          0.149,
          0.2133,
          0.28,
          0.479,
          0.5009,
          0.5132,
          0.0286,
          0.0822,
          0.3424,
          0.3411,
          0.3742,
          0.3774,
          0.3485,
          0.4038,
          0.0273,
          0.0272,
          0.0591,
          0.1032,
          0.1262,
          0.1743,
          0.1945,
          0.4395,
          0.4611,
          0.428,
          0.4856,
          0.0355,
          0.046,
          0.0779,
          0.0133,
          0.0221,
          0.035,
          0.4,
          0.3877,
          0.4779,
          0.0153,
          0.0287,
          0.413,
          0.4845,
          0.0405,
          0.0797,
          0.0507,
          0.1289,
          0.1857,
          0.3411,
          0.3469,
          0.3874,
          0.3911,
          0.0302,
          0.0619,
          0.0703,
          0.3452,
          0.4186,
          0.4913,
          0.3118,
          0.4996,
          0.0816,
          0.1431,
          0.192,
          0.1205,
          0.1459,
          0.1661,
          0.2677,
          0.0256,
          0.0421,
          0.05,
          0.0772,
          0.2415,
          0.4968,
          0.4413,
          0.2005,
          0.2247,
          0.1441,
          0.2668,
          0.2776,
          0.2478,
          0.3283,
          0.0676,
          0.0962,
          0.1312,
          0.141,
          0.1857,
          0.2521,
          0.3441,
          0.0639,
          0.0777,
          0.0892,
          0.4379,
          0.4618,
          0.482,
          0.0198,
          0.0323,
          0.0301
         ],
         "y": [
          0.5172811059907835,
          0.2731586940015186,
          0.10598425196850389,
          0.039915331115814905,
          0.16718266253869962,
          0.1989559164733179,
          0.2142206016408387,
          0.1126984126984128,
          0.3081377151799687,
          0.09847629796839726,
          0.05444421530212411,
          0.028359084686094296,
          0.005059350068106727,
          0.25777890209967114,
          0.124798873692679,
          -0.006064690026954152,
          -0.058056630678345836,
          0.2780487804878049,
          0.12595419847328246,
          -0.008351136142940373,
          -0.05253475061324611,
          0.33745492014425554,
          0.11604391371340529,
          -0.017987025751916633,
          -0.015571970453184326,
          0.32019704433497537,
          0.15485074626865664,
          0.08671328671328668,
          0.09949622166246858,
          0.2866902834008096,
          0.11730580137659781,
          0.0058309037900874695,
          0,
          0.27553083923154714,
          0.09274673008323425,
          0.0042927228127555,
          0.038522012578616364,
          0.2529286474973377,
          0.11517212069698257,
          -0.053719008264462804,
          0.0395607701564381,
          0.037426819068859786,
          0.03678839957035443,
          0.8095238095238095,
          0.6243567753001715,
          0.46636771300448426,
          0.3180428134556575,
          0.3737244897959185,
          0.27205199628597965,
          0.12227272727272724,
          0.09824689554419282,
          0.0258954501452081,
          0.024620340543028044,
          0.20941968040370063,
          0.12239221140472871,
          0.0668397144711225,
          0.1145038167938931,
          0.11335403726708071,
          0.11780821917808215,
          0.11139240506329116,
          0.09083850931677016,
          0.08305647840531556,
          0.24458058435438262,
          0.00841121495327101,
          0.34361233480176195,
          0.2557377049180327,
          0.4722735674676525,
          0.2958963282937365,
          0.1858887381275441,
          0.5009433962264151,
          0.2502356267672008,
          0.35377358490566035,
          0.20718232044198895,
          0.8087818696883853,
          0.30898268398268397,
          0.38607594936708867,
          0.36962750716332377,
          0.8726003490401397,
          0.5595695618754805,
          0.15972222222222227,
          0.12105263157894738,
          0.08719182200841852,
          0.0742447516641065,
          -0.006311637080867812,
          0.02227327207351177,
          0.04846987264778553,
          0.3804713804713805,
          0.275609756097561,
          0.6483516483516484,
          0.326,
          0.286281779661017,
          0.2685005811700891,
          0.0529729729729729,
          0.03162217659137576,
          0.009933103588080307,
          0.007045088566827703,
          0.09303174024078802,
          0.1580617248341505,
          0.09642950221527229,
          0.06837430282999385,
          0.01807811291569997,
          0.009944311853619738,
          0.04628224582701058,
          0.43154362416107384,
          0.3070792311298641,
          0.23821428571428582,
          0.04572025052192073,
          0.03413855060890398,
          0.023967264224473848,
          0.3776223776223775,
          0.6520681265206812,
          -0.0018983644859812616,
          0.04756669598358249,
          0.08845537145911268,
          -0.038288288288288334,
          0.05860832137733142,
          0.13694898464586433,
          -0.003663003663003768,
          0.5845588235294117,
          0.5397631133671742,
          0.22286821705426363,
          0.28169572107765456,
          0.1959265633964429,
          0.10385604113110537,
          0.049146757679180905,
          -0.012470180004337465,
          0.028621495327102765,
          0.11861614497528827,
          0.29577464788732405,
          0.4608695652173913,
          0.40949935815147626,
          0.661654135338346,
          0.4909502262443439,
          0.3685714285714286,
          -0.030750000000000083,
          0.10046427650245031,
          0.1887424147311153,
          0.8758169934640524,
          0.46689895470383275,
          0.05278450363196123,
          0.14757481940144482,
          0.4166666666666665,
          0.49184441656210787,
          0.7712031558185404,
          0.3719937936384795,
          0.3058696822832526,
          0.017003811199061775,
          0.066733929086192,
          0.057046979865771834,
          0.00946049603681918,
          0.5248344370860926,
          0.1958804523424879,
          0.11948790896159324,
          -0.021871378910776285,
          0.1745102723363593,
          0.14797476083859146,
          0.5766516998075689,
          0.04023218574859884,
          0.9938725490196079,
          0.17085953878406707,
          0.12734375,
          0.21078838174273865,
          0.1562714187799863,
          0.3666465984346779,
          0.3795293238700037,
          0.6445312499999999,
          0.3919239904988123,
          0.544,
          0.3523316062176166,
          1.0571428571428574,
          0.513888888888889,
          0.5649218218898708,
          0.06034912718204488,
          0.05384957721406319,
          0.42574600971547527,
          0.13521364317841084,
          0.0389048991354468,
          0.05891848264729619,
          0.24520255863539445,
          0.21153846153846156,
          0.25623700623700635,
          0.26676829268292696,
          0.31702127659574486,
          0.2991383952611739,
          0.3141610472034907,
          0.26736413833188033,
          0.2159624413145541,
          0.1628056628056628,
          0.12892376681614345,
          0.05457867092943589,
          0.047747942832394946,
          0.04190871369294605,
          0.6313131313131313,
          0.3869969040247678,
          0.6877076411960132
         ]
        }
       ],
       "layout": {
        "template": {
         "data": {
          "bar": [
           {
            "error_x": {
             "color": "#2a3f5f"
            },
            "error_y": {
             "color": "#2a3f5f"
            },
            "marker": {
             "line": {
              "color": "#E5ECF6",
              "width": 0.5
             }
            },
            "type": "bar"
           }
          ],
          "barpolar": [
           {
            "marker": {
             "line": {
              "color": "#E5ECF6",
              "width": 0.5
             }
            },
            "type": "barpolar"
           }
          ],
          "carpet": [
           {
            "aaxis": {
             "endlinecolor": "#2a3f5f",
             "gridcolor": "white",
             "linecolor": "white",
             "minorgridcolor": "white",
             "startlinecolor": "#2a3f5f"
            },
            "baxis": {
             "endlinecolor": "#2a3f5f",
             "gridcolor": "white",
             "linecolor": "white",
             "minorgridcolor": "white",
             "startlinecolor": "#2a3f5f"
            },
            "type": "carpet"
           }
          ],
          "choropleth": [
           {
            "colorbar": {
             "outlinewidth": 0,
             "ticks": ""
            },
            "type": "choropleth"
           }
          ],
          "contour": [
           {
            "colorbar": {
             "outlinewidth": 0,
             "ticks": ""
            },
            "colorscale": [
             [
              0,
              "#0d0887"
             ],
             [
              0.1111111111111111,
              "#46039f"
             ],
             [
              0.2222222222222222,
              "#7201a8"
             ],
             [
              0.3333333333333333,
              "#9c179e"
             ],
             [
              0.4444444444444444,
              "#bd3786"
             ],
             [
              0.5555555555555556,
              "#d8576b"
             ],
             [
              0.6666666666666666,
              "#ed7953"
             ],
             [
              0.7777777777777778,
              "#fb9f3a"
             ],
             [
              0.8888888888888888,
              "#fdca26"
             ],
             [
              1,
              "#f0f921"
             ]
            ],
            "type": "contour"
           }
          ],
          "contourcarpet": [
           {
            "colorbar": {
             "outlinewidth": 0,
             "ticks": ""
            },
            "type": "contourcarpet"
           }
          ],
          "heatmap": [
           {
            "colorbar": {
             "outlinewidth": 0,
             "ticks": ""
            },
            "colorscale": [
             [
              0,
              "#0d0887"
             ],
             [
              0.1111111111111111,
              "#46039f"
             ],
             [
              0.2222222222222222,
              "#7201a8"
             ],
             [
              0.3333333333333333,
              "#9c179e"
             ],
             [
              0.4444444444444444,
              "#bd3786"
             ],
             [
              0.5555555555555556,
              "#d8576b"
             ],
             [
              0.6666666666666666,
              "#ed7953"
             ],
             [
              0.7777777777777778,
              "#fb9f3a"
             ],
             [
              0.8888888888888888,
              "#fdca26"
             ],
             [
              1,
              "#f0f921"
             ]
            ],
            "type": "heatmap"
           }
          ],
          "heatmapgl": [
           {
            "colorbar": {
             "outlinewidth": 0,
             "ticks": ""
            },
            "colorscale": [
             [
              0,
              "#0d0887"
             ],
             [
              0.1111111111111111,
              "#46039f"
             ],
             [
              0.2222222222222222,
              "#7201a8"
             ],
             [
              0.3333333333333333,
              "#9c179e"
             ],
             [
              0.4444444444444444,
              "#bd3786"
             ],
             [
              0.5555555555555556,
              "#d8576b"
             ],
             [
              0.6666666666666666,
              "#ed7953"
             ],
             [
              0.7777777777777778,
              "#fb9f3a"
             ],
             [
              0.8888888888888888,
              "#fdca26"
             ],
             [
              1,
              "#f0f921"
             ]
            ],
            "type": "heatmapgl"
           }
          ],
          "histogram": [
           {
            "marker": {
             "colorbar": {
              "outlinewidth": 0,
              "ticks": ""
             }
            },
            "type": "histogram"
           }
          ],
          "histogram2d": [
           {
            "colorbar": {
             "outlinewidth": 0,
             "ticks": ""
            },
            "colorscale": [
             [
              0,
              "#0d0887"
             ],
             [
              0.1111111111111111,
              "#46039f"
             ],
             [
              0.2222222222222222,
              "#7201a8"
             ],
             [
              0.3333333333333333,
              "#9c179e"
             ],
             [
              0.4444444444444444,
              "#bd3786"
             ],
             [
              0.5555555555555556,
              "#d8576b"
             ],
             [
              0.6666666666666666,
              "#ed7953"
             ],
             [
              0.7777777777777778,
              "#fb9f3a"
             ],
             [
              0.8888888888888888,
              "#fdca26"
             ],
             [
              1,
              "#f0f921"
             ]
            ],
            "type": "histogram2d"
           }
          ],
          "histogram2dcontour": [
           {
            "colorbar": {
             "outlinewidth": 0,
             "ticks": ""
            },
            "colorscale": [
             [
              0,
              "#0d0887"
             ],
             [
              0.1111111111111111,
              "#46039f"
             ],
             [
              0.2222222222222222,
              "#7201a8"
             ],
             [
              0.3333333333333333,
              "#9c179e"
             ],
             [
              0.4444444444444444,
              "#bd3786"
             ],
             [
              0.5555555555555556,
              "#d8576b"
             ],
             [
              0.6666666666666666,
              "#ed7953"
             ],
             [
              0.7777777777777778,
              "#fb9f3a"
             ],
             [
              0.8888888888888888,
              "#fdca26"
             ],
             [
              1,
              "#f0f921"
             ]
            ],
            "type": "histogram2dcontour"
           }
          ],
          "mesh3d": [
           {
            "colorbar": {
             "outlinewidth": 0,
             "ticks": ""
            },
            "type": "mesh3d"
           }
          ],
          "parcoords": [
           {
            "line": {
             "colorbar": {
              "outlinewidth": 0,
              "ticks": ""
             }
            },
            "type": "parcoords"
           }
          ],
          "pie": [
           {
            "automargin": true,
            "type": "pie"
           }
          ],
          "scatter": [
           {
            "marker": {
             "colorbar": {
              "outlinewidth": 0,
              "ticks": ""
             }
            },
            "type": "scatter"
           }
          ],
          "scatter3d": [
           {
            "line": {
             "colorbar": {
              "outlinewidth": 0,
              "ticks": ""
             }
            },
            "marker": {
             "colorbar": {
              "outlinewidth": 0,
              "ticks": ""
             }
            },
            "type": "scatter3d"
           }
          ],
          "scattercarpet": [
           {
            "marker": {
             "colorbar": {
              "outlinewidth": 0,
              "ticks": ""
             }
            },
            "type": "scattercarpet"
           }
          ],
          "scattergeo": [
           {
            "marker": {
             "colorbar": {
              "outlinewidth": 0,
              "ticks": ""
             }
            },
            "type": "scattergeo"
           }
          ],
          "scattergl": [
           {
            "marker": {
             "colorbar": {
              "outlinewidth": 0,
              "ticks": ""
             }
            },
            "type": "scattergl"
           }
          ],
          "scattermapbox": [
           {
            "marker": {
             "colorbar": {
              "outlinewidth": 0,
              "ticks": ""
             }
            },
            "type": "scattermapbox"
           }
          ],
          "scatterpolar": [
           {
            "marker": {
             "colorbar": {
              "outlinewidth": 0,
              "ticks": ""
             }
            },
            "type": "scatterpolar"
           }
          ],
          "scatterpolargl": [
           {
            "marker": {
             "colorbar": {
              "outlinewidth": 0,
              "ticks": ""
             }
            },
            "type": "scatterpolargl"
           }
          ],
          "scatterternary": [
           {
            "marker": {
             "colorbar": {
              "outlinewidth": 0,
              "ticks": ""
             }
            },
            "type": "scatterternary"
           }
          ],
          "surface": [
           {
            "colorbar": {
             "outlinewidth": 0,
             "ticks": ""
            },
            "colorscale": [
             [
              0,
              "#0d0887"
             ],
             [
              0.1111111111111111,
              "#46039f"
             ],
             [
              0.2222222222222222,
              "#7201a8"
             ],
             [
              0.3333333333333333,
              "#9c179e"
             ],
             [
              0.4444444444444444,
              "#bd3786"
             ],
             [
              0.5555555555555556,
              "#d8576b"
             ],
             [
              0.6666666666666666,
              "#ed7953"
             ],
             [
              0.7777777777777778,
              "#fb9f3a"
             ],
             [
              0.8888888888888888,
              "#fdca26"
             ],
             [
              1,
              "#f0f921"
             ]
            ],
            "type": "surface"
           }
          ],
          "table": [
           {
            "cells": {
             "fill": {
              "color": "#EBF0F8"
             },
             "line": {
              "color": "white"
             }
            },
            "header": {
             "fill": {
              "color": "#C8D4E3"
             },
             "line": {
              "color": "white"
             }
            },
            "type": "table"
           }
          ]
         },
         "layout": {
          "annotationdefaults": {
           "arrowcolor": "#2a3f5f",
           "arrowhead": 0,
           "arrowwidth": 1
          },
          "coloraxis": {
           "colorbar": {
            "outlinewidth": 0,
            "ticks": ""
           }
          },
          "colorscale": {
           "diverging": [
            [
             0,
             "#8e0152"
            ],
            [
             0.1,
             "#c51b7d"
            ],
            [
             0.2,
             "#de77ae"
            ],
            [
             0.3,
             "#f1b6da"
            ],
            [
             0.4,
             "#fde0ef"
            ],
            [
             0.5,
             "#f7f7f7"
            ],
            [
             0.6,
             "#e6f5d0"
            ],
            [
             0.7,
             "#b8e186"
            ],
            [
             0.8,
             "#7fbc41"
            ],
            [
             0.9,
             "#4d9221"
            ],
            [
             1,
             "#276419"
            ]
           ],
           "sequential": [
            [
             0,
             "#0d0887"
            ],
            [
             0.1111111111111111,
             "#46039f"
            ],
            [
             0.2222222222222222,
             "#7201a8"
            ],
            [
             0.3333333333333333,
             "#9c179e"
            ],
            [
             0.4444444444444444,
             "#bd3786"
            ],
            [
             0.5555555555555556,
             "#d8576b"
            ],
            [
             0.6666666666666666,
             "#ed7953"
            ],
            [
             0.7777777777777778,
             "#fb9f3a"
            ],
            [
             0.8888888888888888,
             "#fdca26"
            ],
            [
             1,
             "#f0f921"
            ]
           ],
           "sequentialminus": [
            [
             0,
             "#0d0887"
            ],
            [
             0.1111111111111111,
             "#46039f"
            ],
            [
             0.2222222222222222,
             "#7201a8"
            ],
            [
             0.3333333333333333,
             "#9c179e"
            ],
            [
             0.4444444444444444,
             "#bd3786"
            ],
            [
             0.5555555555555556,
             "#d8576b"
            ],
            [
             0.6666666666666666,
             "#ed7953"
            ],
            [
             0.7777777777777778,
             "#fb9f3a"
            ],
            [
             0.8888888888888888,
             "#fdca26"
            ],
            [
             1,
             "#f0f921"
            ]
           ]
          },
          "colorway": [
           "#636efa",
           "#EF553B",
           "#00cc96",
           "#ab63fa",
           "#FFA15A",
           "#19d3f3",
           "#FF6692",
           "#B6E880",
           "#FF97FF",
           "#FECB52"
          ],
          "font": {
           "color": "#2a3f5f"
          },
          "geo": {
           "bgcolor": "white",
           "lakecolor": "white",
           "landcolor": "#E5ECF6",
           "showlakes": true,
           "showland": true,
           "subunitcolor": "white"
          },
          "hoverlabel": {
           "align": "left"
          },
          "hovermode": "closest",
          "mapbox": {
           "style": "light"
          },
          "paper_bgcolor": "white",
          "plot_bgcolor": "#E5ECF6",
          "polar": {
           "angularaxis": {
            "gridcolor": "white",
            "linecolor": "white",
            "ticks": ""
           },
           "bgcolor": "#E5ECF6",
           "radialaxis": {
            "gridcolor": "white",
            "linecolor": "white",
            "ticks": ""
           }
          },
          "scene": {
           "xaxis": {
            "backgroundcolor": "#E5ECF6",
            "gridcolor": "white",
            "gridwidth": 2,
            "linecolor": "white",
            "showbackground": true,
            "ticks": "",
            "zerolinecolor": "white"
           },
           "yaxis": {
            "backgroundcolor": "#E5ECF6",
            "gridcolor": "white",
            "gridwidth": 2,
            "linecolor": "white",
            "showbackground": true,
            "ticks": "",
            "zerolinecolor": "white"
           },
           "zaxis": {
            "backgroundcolor": "#E5ECF6",
            "gridcolor": "white",
            "gridwidth": 2,
            "linecolor": "white",
            "showbackground": true,
            "ticks": "",
            "zerolinecolor": "white"
           }
          },
          "shapedefaults": {
           "line": {
            "color": "#2a3f5f"
           }
          },
          "ternary": {
           "aaxis": {
            "gridcolor": "white",
            "linecolor": "white",
            "ticks": ""
           },
           "baxis": {
            "gridcolor": "white",
            "linecolor": "white",
            "ticks": ""
           },
           "bgcolor": "#E5ECF6",
           "caxis": {
            "gridcolor": "white",
            "linecolor": "white",
            "ticks": ""
           }
          },
          "title": {
           "x": 0.05
          },
          "xaxis": {
           "automargin": true,
           "gridcolor": "white",
           "linecolor": "white",
           "ticks": "",
           "title": {
            "standoff": 15
           },
           "zerolinecolor": "white",
           "zerolinewidth": 2
          },
          "yaxis": {
           "automargin": true,
           "gridcolor": "white",
           "linecolor": "white",
           "ticks": "",
           "title": {
            "standoff": 15
           },
           "zerolinecolor": "white",
           "zerolinewidth": 2
          }
         }
        },
        "title": {
         "text": "Saturation of fitness advantage for all genes"
        },
        "xaxis": {
         "title": {
          "text": "VAF"
         }
        },
        "yaxis": {
         "title": {
          "text": "λrs"
         }
        }
       }
      }
     },
     "metadata": {}
    }
   ],
   "source": [
    "# as above but for all genes: make a scatter plot of relative gradient vs VAF to show saturation (=slowing of growth) near VAF=0.5\n",
    "all_rgrad=[]\n",
    "all_VAF=[]\n",
    "quantile = 0.9\n",
    "outlier_filter = [0.05,0.95]\n",
    "for part in lbc:\n",
    "    for traj in part.trajectories:\n",
    "        if traj.gradient> np.quantile(total_grad, quantile):\n",
    "            all_rgrad.append((traj.data.gradient/traj.data.AF).tolist())\n",
    "            all_VAF.append((traj.data.AF).tolist())\n",
    "                \n",
    "#flatten mut_list\n",
    "all_rgrad = [i for b in map(lambda x:[x] if not isinstance(x, list) else x, all_rgrad) for i in b]\n",
    "all_VAF = [i for b in map(lambda x:[x] if not isinstance(x, list) else x, all_VAF) for i in b]\n",
    "\n",
    "#Filter outliers from the list\n",
    "all_VAF =[item for index,item in enumerate(all_VAF) if all_rgrad[index] > np.nanquantile(all_rgrad,outlier_filter[0]) and all_rgrad[index] < np.nanquantile(all_rgrad,outlier_filter[1])]\n",
    "all_rgrad=[item for item in all_rgrad if item > np.nanquantile(all_rgrad,outlier_filter[0]) and item < np.nanquantile(all_rgrad,outlier_filter[1])]\n",
    "\n",
    "# make the scatter plot\n",
    "fig = go.Figure(go.Scatter(x=all_VAF, y=all_rgrad, mode='markers'))\n",
    "fig.update_layout(title = f'Saturation of fitness advantage for all genes',  xaxis_title='VAF',\n",
    "                        yaxis_title='λrs')\n",
    "fig.write_image(\"LBC_ARCHER/plots/saturation_allgenes_p\" + str(int(100*quantile)) + \".pdf\", width=400, height=350, scale=1)\n",
    "\n",
    "fig.show()"
   ]
  },
  {
   "cell_type": "markdown",
   "metadata": {},
   "source": [
    "# Plotting distribution of λrs"
   ]
  },
  {
   "cell_type": "code",
   "execution_count": 20,
   "metadata": {},
   "outputs": [
    {
     "output_type": "display_data",
     "data": {
      "application/vnd.plotly.v1+json": {
       "config": {
        "plotlyServerURL": "https://plot.ly"
       },
       "data": [
        {
         "box": {
          "visible": true
         },
         "fillcolor": "lightseagreen",
         "line": {
          "color": "black"
         },
         "meanline": {
          "visible": true
         },
         "opacity": 0.6,
         "type": "violin",
         "x0": "DNMT3A",
         "y": [
          0.16718266253869962,
          0.1989559164733179,
          0.2142206016408387,
          0.32019704433497537,
          0.15485074626865664,
          0.08671328671328668,
          0.09949622166246858,
          0.4722735674676525,
          0.30898268398268397,
          0.326,
          0.286281779661017,
          0.2685005811700891,
          0.09303174024078802,
          0.1580617248341505,
          0.09642950221527229,
          0.43154362416107384,
          0.3070792311298641,
          0.23821428571428582,
          0.22286821705426363,
          0.28169572107765456,
          0.1959265633964429,
          0.10385604113110537,
          0.066733929086192,
          0.3919239904988123
         ]
        }
       ],
       "layout": {
        "template": {
         "data": {
          "bar": [
           {
            "error_x": {
             "color": "#2a3f5f"
            },
            "error_y": {
             "color": "#2a3f5f"
            },
            "marker": {
             "line": {
              "color": "#E5ECF6",
              "width": 0.5
             }
            },
            "type": "bar"
           }
          ],
          "barpolar": [
           {
            "marker": {
             "line": {
              "color": "#E5ECF6",
              "width": 0.5
             }
            },
            "type": "barpolar"
           }
          ],
          "carpet": [
           {
            "aaxis": {
             "endlinecolor": "#2a3f5f",
             "gridcolor": "white",
             "linecolor": "white",
             "minorgridcolor": "white",
             "startlinecolor": "#2a3f5f"
            },
            "baxis": {
             "endlinecolor": "#2a3f5f",
             "gridcolor": "white",
             "linecolor": "white",
             "minorgridcolor": "white",
             "startlinecolor": "#2a3f5f"
            },
            "type": "carpet"
           }
          ],
          "choropleth": [
           {
            "colorbar": {
             "outlinewidth": 0,
             "ticks": ""
            },
            "type": "choropleth"
           }
          ],
          "contour": [
           {
            "colorbar": {
             "outlinewidth": 0,
             "ticks": ""
            },
            "colorscale": [
             [
              0,
              "#0d0887"
             ],
             [
              0.1111111111111111,
              "#46039f"
             ],
             [
              0.2222222222222222,
              "#7201a8"
             ],
             [
              0.3333333333333333,
              "#9c179e"
             ],
             [
              0.4444444444444444,
              "#bd3786"
             ],
             [
              0.5555555555555556,
              "#d8576b"
             ],
             [
              0.6666666666666666,
              "#ed7953"
             ],
             [
              0.7777777777777778,
              "#fb9f3a"
             ],
             [
              0.8888888888888888,
              "#fdca26"
             ],
             [
              1,
              "#f0f921"
             ]
            ],
            "type": "contour"
           }
          ],
          "contourcarpet": [
           {
            "colorbar": {
             "outlinewidth": 0,
             "ticks": ""
            },
            "type": "contourcarpet"
           }
          ],
          "heatmap": [
           {
            "colorbar": {
             "outlinewidth": 0,
             "ticks": ""
            },
            "colorscale": [
             [
              0,
              "#0d0887"
             ],
             [
              0.1111111111111111,
              "#46039f"
             ],
             [
              0.2222222222222222,
              "#7201a8"
             ],
             [
              0.3333333333333333,
              "#9c179e"
             ],
             [
              0.4444444444444444,
              "#bd3786"
             ],
             [
              0.5555555555555556,
              "#d8576b"
             ],
             [
              0.6666666666666666,
              "#ed7953"
             ],
             [
              0.7777777777777778,
              "#fb9f3a"
             ],
             [
              0.8888888888888888,
              "#fdca26"
             ],
             [
              1,
              "#f0f921"
             ]
            ],
            "type": "heatmap"
           }
          ],
          "heatmapgl": [
           {
            "colorbar": {
             "outlinewidth": 0,
             "ticks": ""
            },
            "colorscale": [
             [
              0,
              "#0d0887"
             ],
             [
              0.1111111111111111,
              "#46039f"
             ],
             [
              0.2222222222222222,
              "#7201a8"
             ],
             [
              0.3333333333333333,
              "#9c179e"
             ],
             [
              0.4444444444444444,
              "#bd3786"
             ],
             [
              0.5555555555555556,
              "#d8576b"
             ],
             [
              0.6666666666666666,
              "#ed7953"
             ],
             [
              0.7777777777777778,
              "#fb9f3a"
             ],
             [
              0.8888888888888888,
              "#fdca26"
             ],
             [
              1,
              "#f0f921"
             ]
            ],
            "type": "heatmapgl"
           }
          ],
          "histogram": [
           {
            "marker": {
             "colorbar": {
              "outlinewidth": 0,
              "ticks": ""
             }
            },
            "type": "histogram"
           }
          ],
          "histogram2d": [
           {
            "colorbar": {
             "outlinewidth": 0,
             "ticks": ""
            },
            "colorscale": [
             [
              0,
              "#0d0887"
             ],
             [
              0.1111111111111111,
              "#46039f"
             ],
             [
              0.2222222222222222,
              "#7201a8"
             ],
             [
              0.3333333333333333,
              "#9c179e"
             ],
             [
              0.4444444444444444,
              "#bd3786"
             ],
             [
              0.5555555555555556,
              "#d8576b"
             ],
             [
              0.6666666666666666,
              "#ed7953"
             ],
             [
              0.7777777777777778,
              "#fb9f3a"
             ],
             [
              0.8888888888888888,
              "#fdca26"
             ],
             [
              1,
              "#f0f921"
             ]
            ],
            "type": "histogram2d"
           }
          ],
          "histogram2dcontour": [
           {
            "colorbar": {
             "outlinewidth": 0,
             "ticks": ""
            },
            "colorscale": [
             [
              0,
              "#0d0887"
             ],
             [
              0.1111111111111111,
              "#46039f"
             ],
             [
              0.2222222222222222,
              "#7201a8"
             ],
             [
              0.3333333333333333,
              "#9c179e"
             ],
             [
              0.4444444444444444,
              "#bd3786"
             ],
             [
              0.5555555555555556,
              "#d8576b"
             ],
             [
              0.6666666666666666,
              "#ed7953"
             ],
             [
              0.7777777777777778,
              "#fb9f3a"
             ],
             [
              0.8888888888888888,
              "#fdca26"
             ],
             [
              1,
              "#f0f921"
             ]
            ],
            "type": "histogram2dcontour"
           }
          ],
          "mesh3d": [
           {
            "colorbar": {
             "outlinewidth": 0,
             "ticks": ""
            },
            "type": "mesh3d"
           }
          ],
          "parcoords": [
           {
            "line": {
             "colorbar": {
              "outlinewidth": 0,
              "ticks": ""
             }
            },
            "type": "parcoords"
           }
          ],
          "pie": [
           {
            "automargin": true,
            "type": "pie"
           }
          ],
          "scatter": [
           {
            "marker": {
             "colorbar": {
              "outlinewidth": 0,
              "ticks": ""
             }
            },
            "type": "scatter"
           }
          ],
          "scatter3d": [
           {
            "line": {
             "colorbar": {
              "outlinewidth": 0,
              "ticks": ""
             }
            },
            "marker": {
             "colorbar": {
              "outlinewidth": 0,
              "ticks": ""
             }
            },
            "type": "scatter3d"
           }
          ],
          "scattercarpet": [
           {
            "marker": {
             "colorbar": {
              "outlinewidth": 0,
              "ticks": ""
             }
            },
            "type": "scattercarpet"
           }
          ],
          "scattergeo": [
           {
            "marker": {
             "colorbar": {
              "outlinewidth": 0,
              "ticks": ""
             }
            },
            "type": "scattergeo"
           }
          ],
          "scattergl": [
           {
            "marker": {
             "colorbar": {
              "outlinewidth": 0,
              "ticks": ""
             }
            },
            "type": "scattergl"
           }
          ],
          "scattermapbox": [
           {
            "marker": {
             "colorbar": {
              "outlinewidth": 0,
              "ticks": ""
             }
            },
            "type": "scattermapbox"
           }
          ],
          "scatterpolar": [
           {
            "marker": {
             "colorbar": {
              "outlinewidth": 0,
              "ticks": ""
             }
            },
            "type": "scatterpolar"
           }
          ],
          "scatterpolargl": [
           {
            "marker": {
             "colorbar": {
              "outlinewidth": 0,
              "ticks": ""
             }
            },
            "type": "scatterpolargl"
           }
          ],
          "scatterternary": [
           {
            "marker": {
             "colorbar": {
              "outlinewidth": 0,
              "ticks": ""
             }
            },
            "type": "scatterternary"
           }
          ],
          "surface": [
           {
            "colorbar": {
             "outlinewidth": 0,
             "ticks": ""
            },
            "colorscale": [
             [
              0,
              "#0d0887"
             ],
             [
              0.1111111111111111,
              "#46039f"
             ],
             [
              0.2222222222222222,
              "#7201a8"
             ],
             [
              0.3333333333333333,
              "#9c179e"
             ],
             [
              0.4444444444444444,
              "#bd3786"
             ],
             [
              0.5555555555555556,
              "#d8576b"
             ],
             [
              0.6666666666666666,
              "#ed7953"
             ],
             [
              0.7777777777777778,
              "#fb9f3a"
             ],
             [
              0.8888888888888888,
              "#fdca26"
             ],
             [
              1,
              "#f0f921"
             ]
            ],
            "type": "surface"
           }
          ],
          "table": [
           {
            "cells": {
             "fill": {
              "color": "#EBF0F8"
             },
             "line": {
              "color": "white"
             }
            },
            "header": {
             "fill": {
              "color": "#C8D4E3"
             },
             "line": {
              "color": "white"
             }
            },
            "type": "table"
           }
          ]
         },
         "layout": {
          "annotationdefaults": {
           "arrowcolor": "#2a3f5f",
           "arrowhead": 0,
           "arrowwidth": 1
          },
          "coloraxis": {
           "colorbar": {
            "outlinewidth": 0,
            "ticks": ""
           }
          },
          "colorscale": {
           "diverging": [
            [
             0,
             "#8e0152"
            ],
            [
             0.1,
             "#c51b7d"
            ],
            [
             0.2,
             "#de77ae"
            ],
            [
             0.3,
             "#f1b6da"
            ],
            [
             0.4,
             "#fde0ef"
            ],
            [
             0.5,
             "#f7f7f7"
            ],
            [
             0.6,
             "#e6f5d0"
            ],
            [
             0.7,
             "#b8e186"
            ],
            [
             0.8,
             "#7fbc41"
            ],
            [
             0.9,
             "#4d9221"
            ],
            [
             1,
             "#276419"
            ]
           ],
           "sequential": [
            [
             0,
             "#0d0887"
            ],
            [
             0.1111111111111111,
             "#46039f"
            ],
            [
             0.2222222222222222,
             "#7201a8"
            ],
            [
             0.3333333333333333,
             "#9c179e"
            ],
            [
             0.4444444444444444,
             "#bd3786"
            ],
            [
             0.5555555555555556,
             "#d8576b"
            ],
            [
             0.6666666666666666,
             "#ed7953"
            ],
            [
             0.7777777777777778,
             "#fb9f3a"
            ],
            [
             0.8888888888888888,
             "#fdca26"
            ],
            [
             1,
             "#f0f921"
            ]
           ],
           "sequentialminus": [
            [
             0,
             "#0d0887"
            ],
            [
             0.1111111111111111,
             "#46039f"
            ],
            [
             0.2222222222222222,
             "#7201a8"
            ],
            [
             0.3333333333333333,
             "#9c179e"
            ],
            [
             0.4444444444444444,
             "#bd3786"
            ],
            [
             0.5555555555555556,
             "#d8576b"
            ],
            [
             0.6666666666666666,
             "#ed7953"
            ],
            [
             0.7777777777777778,
             "#fb9f3a"
            ],
            [
             0.8888888888888888,
             "#fdca26"
            ],
            [
             1,
             "#f0f921"
            ]
           ]
          },
          "colorway": [
           "#636efa",
           "#EF553B",
           "#00cc96",
           "#ab63fa",
           "#FFA15A",
           "#19d3f3",
           "#FF6692",
           "#B6E880",
           "#FF97FF",
           "#FECB52"
          ],
          "font": {
           "color": "#2a3f5f"
          },
          "geo": {
           "bgcolor": "white",
           "lakecolor": "white",
           "landcolor": "#E5ECF6",
           "showlakes": true,
           "showland": true,
           "subunitcolor": "white"
          },
          "hoverlabel": {
           "align": "left"
          },
          "hovermode": "closest",
          "mapbox": {
           "style": "light"
          },
          "paper_bgcolor": "white",
          "plot_bgcolor": "#E5ECF6",
          "polar": {
           "angularaxis": {
            "gridcolor": "white",
            "linecolor": "white",
            "ticks": ""
           },
           "bgcolor": "#E5ECF6",
           "radialaxis": {
            "gridcolor": "white",
            "linecolor": "white",
            "ticks": ""
           }
          },
          "scene": {
           "xaxis": {
            "backgroundcolor": "#E5ECF6",
            "gridcolor": "white",
            "gridwidth": 2,
            "linecolor": "white",
            "showbackground": true,
            "ticks": "",
            "zerolinecolor": "white"
           },
           "yaxis": {
            "backgroundcolor": "#E5ECF6",
            "gridcolor": "white",
            "gridwidth": 2,
            "linecolor": "white",
            "showbackground": true,
            "ticks": "",
            "zerolinecolor": "white"
           },
           "zaxis": {
            "backgroundcolor": "#E5ECF6",
            "gridcolor": "white",
            "gridwidth": 2,
            "linecolor": "white",
            "showbackground": true,
            "ticks": "",
            "zerolinecolor": "white"
           }
          },
          "shapedefaults": {
           "line": {
            "color": "#2a3f5f"
           }
          },
          "ternary": {
           "aaxis": {
            "gridcolor": "white",
            "linecolor": "white",
            "ticks": ""
           },
           "baxis": {
            "gridcolor": "white",
            "linecolor": "white",
            "ticks": ""
           },
           "bgcolor": "#E5ECF6",
           "caxis": {
            "gridcolor": "white",
            "linecolor": "white",
            "ticks": ""
           }
          },
          "title": {
           "x": 0.05
          },
          "xaxis": {
           "automargin": true,
           "gridcolor": "white",
           "linecolor": "white",
           "ticks": "",
           "title": {
            "standoff": 15
           },
           "zerolinecolor": "white",
           "zerolinewidth": 2
          },
          "yaxis": {
           "automargin": true,
           "gridcolor": "white",
           "linecolor": "white",
           "ticks": "",
           "title": {
            "standoff": 15
           },
           "zerolinecolor": "white",
           "zerolinewidth": 2
          }
         }
        },
        "title": {
         "text": "Fitness advantage based on longitudinal data"
        },
        "yaxis": {
         "zeroline": false
        }
       }
      }
     },
     "metadata": {}
    }
   ],
   "source": [
    "fig = go.Figure(data=go.Violin(y=all_mut_rgrad, box_visible=True, line_color='black',\n",
    "                               meanline_visible=True, fillcolor='lightseagreen', opacity=0.6,\n",
    "                               x0=genename))\n",
    "\n",
    "fig.update_layout(title = f'Fitness advantage based on longitudinal data',\n",
    "                  yaxis_zeroline=False)\n",
    "fig.write_image(\"LBC_ARCHER/plots/fitness\" + genename + \"p\" + str(int(100*quantile)) + \".pdf\", width=400, height=350, scale=1)\n",
    "fig.show()"
   ]
  },
  {
   "cell_type": "code",
   "execution_count": 21,
   "metadata": {},
   "outputs": [
    {
     "output_type": "display_data",
     "data": {
      "application/vnd.plotly.v1+json": {
       "config": {
        "plotlyServerURL": "https://plot.ly"
       },
       "data": [
        {
         "box": {
          "visible": true
         },
         "fillcolor": "red",
         "line": {
          "color": "black"
         },
         "meanline": {
          "visible": true
         },
         "opacity": 0.6,
         "type": "violin",
         "x0": "DNMT3A driver",
         "y": [
          0.4722735674676525,
          0.22286821705426363,
          0.28169572107765456,
          0.1959265633964429
         ]
        },
        {
         "box": {
          "visible": true
         },
         "fillcolor": "lightseagreen",
         "line": {
          "color": "black"
         },
         "meanline": {
          "visible": true
         },
         "opacity": 0.6,
         "type": "violin",
         "x0": "DNMT3A other",
         "y": [
          0.15694282380396737,
          0.03929840142095913,
          -0.042592592592592654,
          0.16718266253869962,
          0.1989559164733179,
          0.2142206016408387,
          0.32019704433497537,
          0.15485074626865664,
          0.08671328671328668,
          0.09949622166246858,
          -0.14708886618998973,
          0.328740157480315,
          0.18942992874109268,
          0.15291750503018114,
          0.03138075313807534,
          0.22903225806451608,
          0.30898268398268397,
          0.016459400146305796,
          0.015934844192634575,
          0.03395585738539901,
          0.03284072249589494,
          0.006437768240343234,
          -0.05330490405117276,
          -0.06850961538461535,
          -0.009708737864077612,
          0.326,
          0.286281779661017,
          0.2685005811700891,
          -0.07304700710179238,
          0.09303174024078802,
          0.1580617248341505,
          0.09642950221527229,
          0.3070792311298641,
          0.23821428571428582,
          0.14364035087719296,
          -0.09090909090909104,
          0.017003811199061775,
          0.066733929086192,
          0.057046979865771834,
          0.00946049603681918,
          -0.021992818671454164,
          -0.0346489215236347,
          0.18227848101265817,
          -0.0074946466809421766,
          -0.1237704918032787,
          -0.1524789522918616,
          -0.022542831379621302,
          -0.017988929889298896,
          0.08130841121495326,
          0.14944356120826707,
          0.20084269662921347
         ]
        }
       ],
       "layout": {
        "template": {
         "data": {
          "bar": [
           {
            "error_x": {
             "color": "#2a3f5f"
            },
            "error_y": {
             "color": "#2a3f5f"
            },
            "marker": {
             "line": {
              "color": "#E5ECF6",
              "width": 0.5
             }
            },
            "type": "bar"
           }
          ],
          "barpolar": [
           {
            "marker": {
             "line": {
              "color": "#E5ECF6",
              "width": 0.5
             }
            },
            "type": "barpolar"
           }
          ],
          "carpet": [
           {
            "aaxis": {
             "endlinecolor": "#2a3f5f",
             "gridcolor": "white",
             "linecolor": "white",
             "minorgridcolor": "white",
             "startlinecolor": "#2a3f5f"
            },
            "baxis": {
             "endlinecolor": "#2a3f5f",
             "gridcolor": "white",
             "linecolor": "white",
             "minorgridcolor": "white",
             "startlinecolor": "#2a3f5f"
            },
            "type": "carpet"
           }
          ],
          "choropleth": [
           {
            "colorbar": {
             "outlinewidth": 0,
             "ticks": ""
            },
            "type": "choropleth"
           }
          ],
          "contour": [
           {
            "colorbar": {
             "outlinewidth": 0,
             "ticks": ""
            },
            "colorscale": [
             [
              0,
              "#0d0887"
             ],
             [
              0.1111111111111111,
              "#46039f"
             ],
             [
              0.2222222222222222,
              "#7201a8"
             ],
             [
              0.3333333333333333,
              "#9c179e"
             ],
             [
              0.4444444444444444,
              "#bd3786"
             ],
             [
              0.5555555555555556,
              "#d8576b"
             ],
             [
              0.6666666666666666,
              "#ed7953"
             ],
             [
              0.7777777777777778,
              "#fb9f3a"
             ],
             [
              0.8888888888888888,
              "#fdca26"
             ],
             [
              1,
              "#f0f921"
             ]
            ],
            "type": "contour"
           }
          ],
          "contourcarpet": [
           {
            "colorbar": {
             "outlinewidth": 0,
             "ticks": ""
            },
            "type": "contourcarpet"
           }
          ],
          "heatmap": [
           {
            "colorbar": {
             "outlinewidth": 0,
             "ticks": ""
            },
            "colorscale": [
             [
              0,
              "#0d0887"
             ],
             [
              0.1111111111111111,
              "#46039f"
             ],
             [
              0.2222222222222222,
              "#7201a8"
             ],
             [
              0.3333333333333333,
              "#9c179e"
             ],
             [
              0.4444444444444444,
              "#bd3786"
             ],
             [
              0.5555555555555556,
              "#d8576b"
             ],
             [
              0.6666666666666666,
              "#ed7953"
             ],
             [
              0.7777777777777778,
              "#fb9f3a"
             ],
             [
              0.8888888888888888,
              "#fdca26"
             ],
             [
              1,
              "#f0f921"
             ]
            ],
            "type": "heatmap"
           }
          ],
          "heatmapgl": [
           {
            "colorbar": {
             "outlinewidth": 0,
             "ticks": ""
            },
            "colorscale": [
             [
              0,
              "#0d0887"
             ],
             [
              0.1111111111111111,
              "#46039f"
             ],
             [
              0.2222222222222222,
              "#7201a8"
             ],
             [
              0.3333333333333333,
              "#9c179e"
             ],
             [
              0.4444444444444444,
              "#bd3786"
             ],
             [
              0.5555555555555556,
              "#d8576b"
             ],
             [
              0.6666666666666666,
              "#ed7953"
             ],
             [
              0.7777777777777778,
              "#fb9f3a"
             ],
             [
              0.8888888888888888,
              "#fdca26"
             ],
             [
              1,
              "#f0f921"
             ]
            ],
            "type": "heatmapgl"
           }
          ],
          "histogram": [
           {
            "marker": {
             "colorbar": {
              "outlinewidth": 0,
              "ticks": ""
             }
            },
            "type": "histogram"
           }
          ],
          "histogram2d": [
           {
            "colorbar": {
             "outlinewidth": 0,
             "ticks": ""
            },
            "colorscale": [
             [
              0,
              "#0d0887"
             ],
             [
              0.1111111111111111,
              "#46039f"
             ],
             [
              0.2222222222222222,
              "#7201a8"
             ],
             [
              0.3333333333333333,
              "#9c179e"
             ],
             [
              0.4444444444444444,
              "#bd3786"
             ],
             [
              0.5555555555555556,
              "#d8576b"
             ],
             [
              0.6666666666666666,
              "#ed7953"
             ],
             [
              0.7777777777777778,
              "#fb9f3a"
             ],
             [
              0.8888888888888888,
              "#fdca26"
             ],
             [
              1,
              "#f0f921"
             ]
            ],
            "type": "histogram2d"
           }
          ],
          "histogram2dcontour": [
           {
            "colorbar": {
             "outlinewidth": 0,
             "ticks": ""
            },
            "colorscale": [
             [
              0,
              "#0d0887"
             ],
             [
              0.1111111111111111,
              "#46039f"
             ],
             [
              0.2222222222222222,
              "#7201a8"
             ],
             [
              0.3333333333333333,
              "#9c179e"
             ],
             [
              0.4444444444444444,
              "#bd3786"
             ],
             [
              0.5555555555555556,
              "#d8576b"
             ],
             [
              0.6666666666666666,
              "#ed7953"
             ],
             [
              0.7777777777777778,
              "#fb9f3a"
             ],
             [
              0.8888888888888888,
              "#fdca26"
             ],
             [
              1,
              "#f0f921"
             ]
            ],
            "type": "histogram2dcontour"
           }
          ],
          "mesh3d": [
           {
            "colorbar": {
             "outlinewidth": 0,
             "ticks": ""
            },
            "type": "mesh3d"
           }
          ],
          "parcoords": [
           {
            "line": {
             "colorbar": {
              "outlinewidth": 0,
              "ticks": ""
             }
            },
            "type": "parcoords"
           }
          ],
          "pie": [
           {
            "automargin": true,
            "type": "pie"
           }
          ],
          "scatter": [
           {
            "marker": {
             "colorbar": {
              "outlinewidth": 0,
              "ticks": ""
             }
            },
            "type": "scatter"
           }
          ],
          "scatter3d": [
           {
            "line": {
             "colorbar": {
              "outlinewidth": 0,
              "ticks": ""
             }
            },
            "marker": {
             "colorbar": {
              "outlinewidth": 0,
              "ticks": ""
             }
            },
            "type": "scatter3d"
           }
          ],
          "scattercarpet": [
           {
            "marker": {
             "colorbar": {
              "outlinewidth": 0,
              "ticks": ""
             }
            },
            "type": "scattercarpet"
           }
          ],
          "scattergeo": [
           {
            "marker": {
             "colorbar": {
              "outlinewidth": 0,
              "ticks": ""
             }
            },
            "type": "scattergeo"
           }
          ],
          "scattergl": [
           {
            "marker": {
             "colorbar": {
              "outlinewidth": 0,
              "ticks": ""
             }
            },
            "type": "scattergl"
           }
          ],
          "scattermapbox": [
           {
            "marker": {
             "colorbar": {
              "outlinewidth": 0,
              "ticks": ""
             }
            },
            "type": "scattermapbox"
           }
          ],
          "scatterpolar": [
           {
            "marker": {
             "colorbar": {
              "outlinewidth": 0,
              "ticks": ""
             }
            },
            "type": "scatterpolar"
           }
          ],
          "scatterpolargl": [
           {
            "marker": {
             "colorbar": {
              "outlinewidth": 0,
              "ticks": ""
             }
            },
            "type": "scatterpolargl"
           }
          ],
          "scatterternary": [
           {
            "marker": {
             "colorbar": {
              "outlinewidth": 0,
              "ticks": ""
             }
            },
            "type": "scatterternary"
           }
          ],
          "surface": [
           {
            "colorbar": {
             "outlinewidth": 0,
             "ticks": ""
            },
            "colorscale": [
             [
              0,
              "#0d0887"
             ],
             [
              0.1111111111111111,
              "#46039f"
             ],
             [
              0.2222222222222222,
              "#7201a8"
             ],
             [
              0.3333333333333333,
              "#9c179e"
             ],
             [
              0.4444444444444444,
              "#bd3786"
             ],
             [
              0.5555555555555556,
              "#d8576b"
             ],
             [
              0.6666666666666666,
              "#ed7953"
             ],
             [
              0.7777777777777778,
              "#fb9f3a"
             ],
             [
              0.8888888888888888,
              "#fdca26"
             ],
             [
              1,
              "#f0f921"
             ]
            ],
            "type": "surface"
           }
          ],
          "table": [
           {
            "cells": {
             "fill": {
              "color": "#EBF0F8"
             },
             "line": {
              "color": "white"
             }
            },
            "header": {
             "fill": {
              "color": "#C8D4E3"
             },
             "line": {
              "color": "white"
             }
            },
            "type": "table"
           }
          ]
         },
         "layout": {
          "annotationdefaults": {
           "arrowcolor": "#2a3f5f",
           "arrowhead": 0,
           "arrowwidth": 1
          },
          "coloraxis": {
           "colorbar": {
            "outlinewidth": 0,
            "ticks": ""
           }
          },
          "colorscale": {
           "diverging": [
            [
             0,
             "#8e0152"
            ],
            [
             0.1,
             "#c51b7d"
            ],
            [
             0.2,
             "#de77ae"
            ],
            [
             0.3,
             "#f1b6da"
            ],
            [
             0.4,
             "#fde0ef"
            ],
            [
             0.5,
             "#f7f7f7"
            ],
            [
             0.6,
             "#e6f5d0"
            ],
            [
             0.7,
             "#b8e186"
            ],
            [
             0.8,
             "#7fbc41"
            ],
            [
             0.9,
             "#4d9221"
            ],
            [
             1,
             "#276419"
            ]
           ],
           "sequential": [
            [
             0,
             "#0d0887"
            ],
            [
             0.1111111111111111,
             "#46039f"
            ],
            [
             0.2222222222222222,
             "#7201a8"
            ],
            [
             0.3333333333333333,
             "#9c179e"
            ],
            [
             0.4444444444444444,
             "#bd3786"
            ],
            [
             0.5555555555555556,
             "#d8576b"
            ],
            [
             0.6666666666666666,
             "#ed7953"
            ],
            [
             0.7777777777777778,
             "#fb9f3a"
            ],
            [
             0.8888888888888888,
             "#fdca26"
            ],
            [
             1,
             "#f0f921"
            ]
           ],
           "sequentialminus": [
            [
             0,
             "#0d0887"
            ],
            [
             0.1111111111111111,
             "#46039f"
            ],
            [
             0.2222222222222222,
             "#7201a8"
            ],
            [
             0.3333333333333333,
             "#9c179e"
            ],
            [
             0.4444444444444444,
             "#bd3786"
            ],
            [
             0.5555555555555556,
             "#d8576b"
            ],
            [
             0.6666666666666666,
             "#ed7953"
            ],
            [
             0.7777777777777778,
             "#fb9f3a"
            ],
            [
             0.8888888888888888,
             "#fdca26"
            ],
            [
             1,
             "#f0f921"
            ]
           ]
          },
          "colorway": [
           "#636efa",
           "#EF553B",
           "#00cc96",
           "#ab63fa",
           "#FFA15A",
           "#19d3f3",
           "#FF6692",
           "#B6E880",
           "#FF97FF",
           "#FECB52"
          ],
          "font": {
           "color": "#2a3f5f"
          },
          "geo": {
           "bgcolor": "white",
           "lakecolor": "white",
           "landcolor": "#E5ECF6",
           "showlakes": true,
           "showland": true,
           "subunitcolor": "white"
          },
          "hoverlabel": {
           "align": "left"
          },
          "hovermode": "closest",
          "mapbox": {
           "style": "light"
          },
          "paper_bgcolor": "white",
          "plot_bgcolor": "#E5ECF6",
          "polar": {
           "angularaxis": {
            "gridcolor": "white",
            "linecolor": "white",
            "ticks": ""
           },
           "bgcolor": "#E5ECF6",
           "radialaxis": {
            "gridcolor": "white",
            "linecolor": "white",
            "ticks": ""
           }
          },
          "scene": {
           "xaxis": {
            "backgroundcolor": "#E5ECF6",
            "gridcolor": "white",
            "gridwidth": 2,
            "linecolor": "white",
            "showbackground": true,
            "ticks": "",
            "zerolinecolor": "white"
           },
           "yaxis": {
            "backgroundcolor": "#E5ECF6",
            "gridcolor": "white",
            "gridwidth": 2,
            "linecolor": "white",
            "showbackground": true,
            "ticks": "",
            "zerolinecolor": "white"
           },
           "zaxis": {
            "backgroundcolor": "#E5ECF6",
            "gridcolor": "white",
            "gridwidth": 2,
            "linecolor": "white",
            "showbackground": true,
            "ticks": "",
            "zerolinecolor": "white"
           }
          },
          "shapedefaults": {
           "line": {
            "color": "#2a3f5f"
           }
          },
          "ternary": {
           "aaxis": {
            "gridcolor": "white",
            "linecolor": "white",
            "ticks": ""
           },
           "baxis": {
            "gridcolor": "white",
            "linecolor": "white",
            "ticks": ""
           },
           "bgcolor": "#E5ECF6",
           "caxis": {
            "gridcolor": "white",
            "linecolor": "white",
            "ticks": ""
           }
          },
          "title": {
           "x": 0.05
          },
          "xaxis": {
           "automargin": true,
           "gridcolor": "white",
           "linecolor": "white",
           "ticks": "",
           "title": {
            "standoff": 15
           },
           "zerolinecolor": "white",
           "zerolinewidth": 2
          },
          "yaxis": {
           "automargin": true,
           "gridcolor": "white",
           "linecolor": "white",
           "ticks": "",
           "title": {
            "standoff": 15
           },
           "zerolinecolor": "white",
           "zerolinewidth": 2
          }
         }
        },
        "title": {
         "text": "Fitness advantage based on longitudinal data"
        },
        "yaxis": {
         "zeroline": false
        }
       }
      }
     },
     "metadata": {}
    }
   ],
   "source": [
    "fig = go.Figure(data=go.Violin(y=all_mut_driver_rgrad, box_visible=True, line_color='black',\n",
    "                               meanline_visible=True, fillcolor='red', opacity=0.6,\n",
    "                               x0=genename+' driver'))\n",
    "fig.add_trace(go.Violin(y=all_mut_nondriver_rgrad, box_visible=True, line_color='black',\n",
    "                               meanline_visible=True, fillcolor='lightseagreen', opacity=0.6,\n",
    "                               x0=genename+' other'))\n",
    "\n",
    "fig.update_layout(title = f'Fitness advantage based on longitudinal data',\n",
    "                  yaxis_zeroline=False)\n",
    "fig.write_image(\"LBC_ARCHER/plots/fitness\" + genename + \"_annotated.pdf\", width=400, height=350, scale=1)\n",
    "fig.show()"
   ]
  },
  {
   "cell_type": "code",
   "execution_count": 22,
   "metadata": {},
   "outputs": [
    {
     "output_type": "display_data",
     "data": {
      "application/vnd.plotly.v1+json": {
       "config": {
        "plotlyServerURL": "https://plot.ly"
       },
       "data": [
        {
         "mode": "lines+markers",
         "type": "scatter",
         "x": [
          1,
          2,
          3,
          4
         ],
         "y": [
          0.06285405749614772,
          0.07901265087458088,
          0.09932531401987907,
          0.12485997996456813
         ]
        },
        {
         "mode": "lines+markers",
         "type": "scatter",
         "x": [
          1,
          2,
          3,
          4
         ],
         "y": [
          0.12570811499229545,
          0.15802530174916177,
          0.19865062803975814,
          0.24971995992913626
         ]
        },
        {
         "mode": "lines+markers",
         "type": "scatter",
         "x": [
          1,
          2,
          3,
          4
         ],
         "y": [
          0.2514162299845909,
          0.31605060349832353,
          0.3973012560795163,
          0.4994399198582725
         ]
        }
       ],
       "layout": {
        "template": {
         "data": {
          "bar": [
           {
            "error_x": {
             "color": "#2a3f5f"
            },
            "error_y": {
             "color": "#2a3f5f"
            },
            "marker": {
             "line": {
              "color": "#E5ECF6",
              "width": 0.5
             }
            },
            "type": "bar"
           }
          ],
          "barpolar": [
           {
            "marker": {
             "line": {
              "color": "#E5ECF6",
              "width": 0.5
             }
            },
            "type": "barpolar"
           }
          ],
          "carpet": [
           {
            "aaxis": {
             "endlinecolor": "#2a3f5f",
             "gridcolor": "white",
             "linecolor": "white",
             "minorgridcolor": "white",
             "startlinecolor": "#2a3f5f"
            },
            "baxis": {
             "endlinecolor": "#2a3f5f",
             "gridcolor": "white",
             "linecolor": "white",
             "minorgridcolor": "white",
             "startlinecolor": "#2a3f5f"
            },
            "type": "carpet"
           }
          ],
          "choropleth": [
           {
            "colorbar": {
             "outlinewidth": 0,
             "ticks": ""
            },
            "type": "choropleth"
           }
          ],
          "contour": [
           {
            "colorbar": {
             "outlinewidth": 0,
             "ticks": ""
            },
            "colorscale": [
             [
              0,
              "#0d0887"
             ],
             [
              0.1111111111111111,
              "#46039f"
             ],
             [
              0.2222222222222222,
              "#7201a8"
             ],
             [
              0.3333333333333333,
              "#9c179e"
             ],
             [
              0.4444444444444444,
              "#bd3786"
             ],
             [
              0.5555555555555556,
              "#d8576b"
             ],
             [
              0.6666666666666666,
              "#ed7953"
             ],
             [
              0.7777777777777778,
              "#fb9f3a"
             ],
             [
              0.8888888888888888,
              "#fdca26"
             ],
             [
              1,
              "#f0f921"
             ]
            ],
            "type": "contour"
           }
          ],
          "contourcarpet": [
           {
            "colorbar": {
             "outlinewidth": 0,
             "ticks": ""
            },
            "type": "contourcarpet"
           }
          ],
          "heatmap": [
           {
            "colorbar": {
             "outlinewidth": 0,
             "ticks": ""
            },
            "colorscale": [
             [
              0,
              "#0d0887"
             ],
             [
              0.1111111111111111,
              "#46039f"
             ],
             [
              0.2222222222222222,
              "#7201a8"
             ],
             [
              0.3333333333333333,
              "#9c179e"
             ],
             [
              0.4444444444444444,
              "#bd3786"
             ],
             [
              0.5555555555555556,
              "#d8576b"
             ],
             [
              0.6666666666666666,
              "#ed7953"
             ],
             [
              0.7777777777777778,
              "#fb9f3a"
             ],
             [
              0.8888888888888888,
              "#fdca26"
             ],
             [
              1,
              "#f0f921"
             ]
            ],
            "type": "heatmap"
           }
          ],
          "heatmapgl": [
           {
            "colorbar": {
             "outlinewidth": 0,
             "ticks": ""
            },
            "colorscale": [
             [
              0,
              "#0d0887"
             ],
             [
              0.1111111111111111,
              "#46039f"
             ],
             [
              0.2222222222222222,
              "#7201a8"
             ],
             [
              0.3333333333333333,
              "#9c179e"
             ],
             [
              0.4444444444444444,
              "#bd3786"
             ],
             [
              0.5555555555555556,
              "#d8576b"
             ],
             [
              0.6666666666666666,
              "#ed7953"
             ],
             [
              0.7777777777777778,
              "#fb9f3a"
             ],
             [
              0.8888888888888888,
              "#fdca26"
             ],
             [
              1,
              "#f0f921"
             ]
            ],
            "type": "heatmapgl"
           }
          ],
          "histogram": [
           {
            "marker": {
             "colorbar": {
              "outlinewidth": 0,
              "ticks": ""
             }
            },
            "type": "histogram"
           }
          ],
          "histogram2d": [
           {
            "colorbar": {
             "outlinewidth": 0,
             "ticks": ""
            },
            "colorscale": [
             [
              0,
              "#0d0887"
             ],
             [
              0.1111111111111111,
              "#46039f"
             ],
             [
              0.2222222222222222,
              "#7201a8"
             ],
             [
              0.3333333333333333,
              "#9c179e"
             ],
             [
              0.4444444444444444,
              "#bd3786"
             ],
             [
              0.5555555555555556,
              "#d8576b"
             ],
             [
              0.6666666666666666,
              "#ed7953"
             ],
             [
              0.7777777777777778,
              "#fb9f3a"
             ],
             [
              0.8888888888888888,
              "#fdca26"
             ],
             [
              1,
              "#f0f921"
             ]
            ],
            "type": "histogram2d"
           }
          ],
          "histogram2dcontour": [
           {
            "colorbar": {
             "outlinewidth": 0,
             "ticks": ""
            },
            "colorscale": [
             [
              0,
              "#0d0887"
             ],
             [
              0.1111111111111111,
              "#46039f"
             ],
             [
              0.2222222222222222,
              "#7201a8"
             ],
             [
              0.3333333333333333,
              "#9c179e"
             ],
             [
              0.4444444444444444,
              "#bd3786"
             ],
             [
              0.5555555555555556,
              "#d8576b"
             ],
             [
              0.6666666666666666,
              "#ed7953"
             ],
             [
              0.7777777777777778,
              "#fb9f3a"
             ],
             [
              0.8888888888888888,
              "#fdca26"
             ],
             [
              1,
              "#f0f921"
             ]
            ],
            "type": "histogram2dcontour"
           }
          ],
          "mesh3d": [
           {
            "colorbar": {
             "outlinewidth": 0,
             "ticks": ""
            },
            "type": "mesh3d"
           }
          ],
          "parcoords": [
           {
            "line": {
             "colorbar": {
              "outlinewidth": 0,
              "ticks": ""
             }
            },
            "type": "parcoords"
           }
          ],
          "pie": [
           {
            "automargin": true,
            "type": "pie"
           }
          ],
          "scatter": [
           {
            "marker": {
             "colorbar": {
              "outlinewidth": 0,
              "ticks": ""
             }
            },
            "type": "scatter"
           }
          ],
          "scatter3d": [
           {
            "line": {
             "colorbar": {
              "outlinewidth": 0,
              "ticks": ""
             }
            },
            "marker": {
             "colorbar": {
              "outlinewidth": 0,
              "ticks": ""
             }
            },
            "type": "scatter3d"
           }
          ],
          "scattercarpet": [
           {
            "marker": {
             "colorbar": {
              "outlinewidth": 0,
              "ticks": ""
             }
            },
            "type": "scattercarpet"
           }
          ],
          "scattergeo": [
           {
            "marker": {
             "colorbar": {
              "outlinewidth": 0,
              "ticks": ""
             }
            },
            "type": "scattergeo"
           }
          ],
          "scattergl": [
           {
            "marker": {
             "colorbar": {
              "outlinewidth": 0,
              "ticks": ""
             }
            },
            "type": "scattergl"
           }
          ],
          "scattermapbox": [
           {
            "marker": {
             "colorbar": {
              "outlinewidth": 0,
              "ticks": ""
             }
            },
            "type": "scattermapbox"
           }
          ],
          "scatterpolar": [
           {
            "marker": {
             "colorbar": {
              "outlinewidth": 0,
              "ticks": ""
             }
            },
            "type": "scatterpolar"
           }
          ],
          "scatterpolargl": [
           {
            "marker": {
             "colorbar": {
              "outlinewidth": 0,
              "ticks": ""
             }
            },
            "type": "scatterpolargl"
           }
          ],
          "scatterternary": [
           {
            "marker": {
             "colorbar": {
              "outlinewidth": 0,
              "ticks": ""
             }
            },
            "type": "scatterternary"
           }
          ],
          "surface": [
           {
            "colorbar": {
             "outlinewidth": 0,
             "ticks": ""
            },
            "colorscale": [
             [
              0,
              "#0d0887"
             ],
             [
              0.1111111111111111,
              "#46039f"
             ],
             [
              0.2222222222222222,
              "#7201a8"
             ],
             [
              0.3333333333333333,
              "#9c179e"
             ],
             [
              0.4444444444444444,
              "#bd3786"
             ],
             [
              0.5555555555555556,
              "#d8576b"
             ],
             [
              0.6666666666666666,
              "#ed7953"
             ],
             [
              0.7777777777777778,
              "#fb9f3a"
             ],
             [
              0.8888888888888888,
              "#fdca26"
             ],
             [
              1,
              "#f0f921"
             ]
            ],
            "type": "surface"
           }
          ],
          "table": [
           {
            "cells": {
             "fill": {
              "color": "#EBF0F8"
             },
             "line": {
              "color": "white"
             }
            },
            "header": {
             "fill": {
              "color": "#C8D4E3"
             },
             "line": {
              "color": "white"
             }
            },
            "type": "table"
           }
          ]
         },
         "layout": {
          "annotationdefaults": {
           "arrowcolor": "#2a3f5f",
           "arrowhead": 0,
           "arrowwidth": 1
          },
          "coloraxis": {
           "colorbar": {
            "outlinewidth": 0,
            "ticks": ""
           }
          },
          "colorscale": {
           "diverging": [
            [
             0,
             "#8e0152"
            ],
            [
             0.1,
             "#c51b7d"
            ],
            [
             0.2,
             "#de77ae"
            ],
            [
             0.3,
             "#f1b6da"
            ],
            [
             0.4,
             "#fde0ef"
            ],
            [
             0.5,
             "#f7f7f7"
            ],
            [
             0.6,
             "#e6f5d0"
            ],
            [
             0.7,
             "#b8e186"
            ],
            [
             0.8,
             "#7fbc41"
            ],
            [
             0.9,
             "#4d9221"
            ],
            [
             1,
             "#276419"
            ]
           ],
           "sequential": [
            [
             0,
             "#0d0887"
            ],
            [
             0.1111111111111111,
             "#46039f"
            ],
            [
             0.2222222222222222,
             "#7201a8"
            ],
            [
             0.3333333333333333,
             "#9c179e"
            ],
            [
             0.4444444444444444,
             "#bd3786"
            ],
            [
             0.5555555555555556,
             "#d8576b"
            ],
            [
             0.6666666666666666,
             "#ed7953"
            ],
            [
             0.7777777777777778,
             "#fb9f3a"
            ],
            [
             0.8888888888888888,
             "#fdca26"
            ],
            [
             1,
             "#f0f921"
            ]
           ],
           "sequentialminus": [
            [
             0,
             "#0d0887"
            ],
            [
             0.1111111111111111,
             "#46039f"
            ],
            [
             0.2222222222222222,
             "#7201a8"
            ],
            [
             0.3333333333333333,
             "#9c179e"
            ],
            [
             0.4444444444444444,
             "#bd3786"
            ],
            [
             0.5555555555555556,
             "#d8576b"
            ],
            [
             0.6666666666666666,
             "#ed7953"
            ],
            [
             0.7777777777777778,
             "#fb9f3a"
            ],
            [
             0.8888888888888888,
             "#fdca26"
            ],
            [
             1,
             "#f0f921"
            ]
           ]
          },
          "colorway": [
           "#636efa",
           "#EF553B",
           "#00cc96",
           "#ab63fa",
           "#FFA15A",
           "#19d3f3",
           "#FF6692",
           "#B6E880",
           "#FF97FF",
           "#FECB52"
          ],
          "font": {
           "color": "#2a3f5f"
          },
          "geo": {
           "bgcolor": "white",
           "lakecolor": "white",
           "landcolor": "#E5ECF6",
           "showlakes": true,
           "showland": true,
           "subunitcolor": "white"
          },
          "hoverlabel": {
           "align": "left"
          },
          "hovermode": "closest",
          "mapbox": {
           "style": "light"
          },
          "paper_bgcolor": "white",
          "plot_bgcolor": "#E5ECF6",
          "polar": {
           "angularaxis": {
            "gridcolor": "white",
            "linecolor": "white",
            "ticks": ""
           },
           "bgcolor": "#E5ECF6",
           "radialaxis": {
            "gridcolor": "white",
            "linecolor": "white",
            "ticks": ""
           }
          },
          "scene": {
           "xaxis": {
            "backgroundcolor": "#E5ECF6",
            "gridcolor": "white",
            "gridwidth": 2,
            "linecolor": "white",
            "showbackground": true,
            "ticks": "",
            "zerolinecolor": "white"
           },
           "yaxis": {
            "backgroundcolor": "#E5ECF6",
            "gridcolor": "white",
            "gridwidth": 2,
            "linecolor": "white",
            "showbackground": true,
            "ticks": "",
            "zerolinecolor": "white"
           },
           "zaxis": {
            "backgroundcolor": "#E5ECF6",
            "gridcolor": "white",
            "gridwidth": 2,
            "linecolor": "white",
            "showbackground": true,
            "ticks": "",
            "zerolinecolor": "white"
           }
          },
          "shapedefaults": {
           "line": {
            "color": "#2a3f5f"
           }
          },
          "ternary": {
           "aaxis": {
            "gridcolor": "white",
            "linecolor": "white",
            "ticks": ""
           },
           "baxis": {
            "gridcolor": "white",
            "linecolor": "white",
            "ticks": ""
           },
           "bgcolor": "#E5ECF6",
           "caxis": {
            "gridcolor": "white",
            "linecolor": "white",
            "ticks": ""
           }
          },
          "title": {
           "x": 0.05
          },
          "xaxis": {
           "automargin": true,
           "gridcolor": "white",
           "linecolor": "white",
           "ticks": "",
           "title": {
            "standoff": 15
           },
           "zerolinecolor": "white",
           "zerolinewidth": 2
          },
          "yaxis": {
           "automargin": true,
           "gridcolor": "white",
           "linecolor": "white",
           "ticks": "",
           "title": {
            "standoff": 15
           },
           "zerolinecolor": "white",
           "zerolinewidth": 2
          }
         }
        },
        "title": {
         "text": "Trajectories containing mutation"
        },
        "xaxis": {
         "title": {
          "text": "Wave"
         }
        },
        "yaxis": {
         "title": {
          "text": "AF"
         }
        }
       }
      }
     },
     "metadata": {}
    }
   ],
   "source": [
    "fig = go.Figure()\n",
    "\n",
    "x = np.array([1,2,3,4])\n",
    "y=np.exp(x*mut_mean)\n",
    "for init in [0.05,0.1,0.2]:\n",
    "    fig.add_trace(go.Scatter(x=x, y=init*np.exp(x*mut_mean),\n",
    "                                        mode='lines+markers'\n",
    "                                        ))\n",
    "#Edit the layout\n",
    "fig.update_layout(title = f'Trajectories containing mutation' ,\n",
    "                   xaxis_title='Wave',\n",
    "                   yaxis_title='AF')"
   ]
  },
  {
   "cell_type": "code",
   "execution_count": null,
   "metadata": {},
   "outputs": [],
   "source": []
  }
 ],
 "metadata": {
  "@webio": {
   "lastCommId": null,
   "lastKernelId": null
  },
  "kernelspec": {
   "display_name": "Python 3",
   "language": "python",
   "name": "python3"
  },
  "language_info": {
   "codemirror_mode": {
    "name": "ipython",
    "version": 3
   },
   "file_extension": ".py",
   "mimetype": "text/x-python",
   "name": "python",
   "nbconvert_exporter": "python",
   "pygments_lexer": "ipython3",
   "version": "3.7.7"
  }
 },
 "nbformat": 4,
 "nbformat_minor": 2
}